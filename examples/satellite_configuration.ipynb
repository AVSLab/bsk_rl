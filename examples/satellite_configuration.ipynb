{
 "cells": [
  {
   "cell_type": "markdown",
   "metadata": {},
   "source": [
    "# Satellite Configuration\n",
    "\n",
    "[Satellites](../api_reference/sats/index.rst) are the basic unit of agent in the \n",
    "environment. Four things must be specified in subclasses of `Satellite`:\n",
    "\n",
    "* The `observation_spec`, which defines the satellite's [observation](../api_reference/obs/index.rst).\n",
    "* The `action_spec`, which defines the satellite's [actions](../api_reference/act/index.rst).\n",
    "* The `dyn_type`,  which selects the underlying [dynamics model](../api_reference/sim/dyn.rst) used in simulation.\n",
    "* The `fsw_type`,  which selects the underlying [flight software model](../api_reference/sim/fsw.rst).\n",
    "\n",
    "A very simple satellite is defined below:"
   ]
  },
  {
   "cell_type": "code",
   "execution_count": null,
   "metadata": {},
   "outputs": [],
   "source": [
    "from bsk_rl import sats, act, obs, scene, data, SatelliteTasking\n",
    "from bsk_rl.sim import dyn, fsw\n",
    "import numpy as np\n",
    "\n",
    "from Basilisk.architecture import bskLogging\n",
    "bskLogging.setDefaultLogLevel(bskLogging.BSK_WARNING)\n",
    "\n",
    "\n",
    "class SimpleSatellite(sats.Satellite):\n",
    "    observation_spec = [obs.Time()]  # Passed as list of instantiated classes\n",
    "    action_spec = [act.Drift()]\n",
    "    dyn_type = dyn.BasicDynamicsModel  # Passed as a type\n",
    "    fsw_type = fsw.BasicFSWModel"
   ]
  },
  {
   "cell_type": "markdown",
   "metadata": {},
   "source": [
    "## Setting Satellite Parameters\n",
    "\n",
    "Without instantiating the satellite, parameters that can be set in the various models\n",
    "can be inspected."
   ]
  },
  {
   "cell_type": "code",
   "execution_count": null,
   "metadata": {},
   "outputs": [],
   "source": [
    "SimpleSatellite.default_sat_args()"
   ]
  },
  {
   "cell_type": "markdown",
   "metadata": {},
   "source": [
    "These parameters can be overriden when instantiating the satellite through the `sat_args`\n",
    "argument. "
   ]
  },
  {
   "cell_type": "code",
   "execution_count": null,
   "metadata": {},
   "outputs": [],
   "source": [
    "sat = SimpleSatellite(\n",
    "    name=\"SimpleSat-1\",\n",
    "    sat_args=dict(\n",
    "        mass=300,  # Setting a constant value\n",
    "        dragCoeff=lambda: np.random.uniform(2.0, 2.4),  # Setting a randomized value\n",
    "    ),\n",
    ")\n"
   ]
  },
  {
   "cell_type": "markdown",
   "metadata": {},
   "source": [
    "Each time the simulation is reset, all of the function-based randomizers are called."
   ]
  },
  {
   "cell_type": "code",
   "execution_count": null,
   "metadata": {},
   "outputs": [],
   "source": [
    "sat.generate_sat_args()  # Called by the environment on reset()\n",
    "sat.sat_args"
   ]
  },
  {
   "cell_type": "markdown",
   "metadata": {},
   "source": [
    "As a result, each episode will have different randomized parameters:"
   ]
  },
  {
   "cell_type": "code",
   "execution_count": null,
   "metadata": {},
   "outputs": [],
   "source": [
    "for _ in range(3):\n",
    "    sat.generate_sat_args()  # Called by the environment on reset()\n",
    "    print(\"New value of dragCoeff:\", sat.sat_args[\"dragCoeff\"])"
   ]
  },
  {
   "cell_type": "markdown",
   "metadata": {},
   "source": [
    "## The Observation Specification\n",
    "\n",
    "A variety of observation elements are available for satellites. Full documentation\n",
    "can be [found here](../api_reference/obs/index.rst), but some commonly used elements\n",
    "are explored below.\n",
    "\n",
    "<div class=\"alert alert-info\">\n",
    "\n",
    "**Info:** In these examples, `obs_type=dict` is passed to the `Satellite` constructor\n",
    "so that the observation is human readable. While some RL libraries support dictionary-based\n",
    "observations, the default return type - the numpy array format - is more typically used.\n",
    "\n",
    "</div>\n",
    "\n",
    "\n",
    "### Satellite Properties\n",
    "\n",
    "The most common type of observations is introspective; i.e. what is my current state?\n",
    "Any `@property` in the `dyn_type` or `fsw_type` of the satellite can be accessed using\n",
    "SatProperties."
   ]
  },
  {
   "cell_type": "code",
   "execution_count": null,
   "metadata": {},
   "outputs": [],
   "source": [
    "class SatPropsSatellite(sats.Satellite):\n",
    "    observation_spec = [\n",
    "        obs.SatProperties(\n",
    "            # At a minimum, specify the property to observe\n",
    "            dict(prop=\"wheel_speeds\"),\n",
    "            # You can specify the module to use for the observation, but it is not necessary\n",
    "            # if only one module has for the property\n",
    "            dict(prop=\"battery_charge_fraction\", module=\"dynamics\"), \n",
    "            # Properties can be normalized by some constant. This is generally desirable\n",
    "            # for RL algorithms to keep values around [-1, 1].\n",
    "            dict(prop=\"r_BN_P\", norm=7e6),\n",
    "        )\n",
    "    ]\n",
    "    action_spec = [act.Drift()]\n",
    "    dyn_type = dyn.BasicDynamicsModel\n",
    "    fsw_type = fsw.BasicFSWModel\n",
    "\n",
    "env = SatelliteTasking(\n",
    "    satellite=SatPropsSatellite(\"PropSat-1\", {}, obs_type=dict),\n",
    "    log_level=\"CRITICAL\",\n",
    ")\n",
    "observation, _ = env.reset()\n",
    "observation"
   ]
  },
  {
   "cell_type": "markdown",
   "metadata": {},
   "source": [
    "In some cases, you may want to access a bespoke property that is not natively implemented\n",
    "in a model. To do that, simply extend the model with your desired property."
   ]
  },
  {
   "cell_type": "code",
   "execution_count": null,
   "metadata": {},
   "outputs": [],
   "source": [
    "class BespokeFSWModel(fsw.BasicFSWModel):\n",
    "    @property\n",
    "    def meaning_of_life(self):\n",
    "        return 42\n",
    "    \n",
    "class BespokeSatPropsSatellite(sats.Satellite):\n",
    "    observation_spec = [\n",
    "        obs.SatProperties(dict(prop=\"meaning_of_life\"))\n",
    "    ]\n",
    "    action_spec = [act.Drift()]\n",
    "    dyn_type = dyn.BasicDynamicsModel\n",
    "    fsw_type = BespokeFSWModel\n",
    "\n",
    "env = SatelliteTasking(\n",
    "    satellite=BespokeSatPropsSatellite(\"BespokeSat-1\", {}, obs_type=dict),\n",
    "    log_level=\"CRITICAL\",\n",
    ")\n",
    "observation, _ = env.reset()\n",
    "observation"
   ]
  },
  {
   "cell_type": "markdown",
   "metadata": {},
   "source": [
    "Alternatively, define the property with a function that takes the satellite object as an argument."
   ]
  },
  {
   "cell_type": "code",
   "execution_count": null,
   "metadata": {},
   "outputs": [],
   "source": [
    "class CustomSatPropsSatellite(sats.Satellite):\n",
    "    observation_spec = [\n",
    "        obs.SatProperties(dict(prop=\"meaning_of_life\", fn=lambda sat: 42))\n",
    "    ]\n",
    "    action_spec = [act.Drift()]\n",
    "    dyn_type = dyn.BasicDynamicsModel\n",
    "    fsw_type = fsw.BasicFSWModel\n",
    "\n",
    "env = SatelliteTasking(\n",
    "    satellite=CustomSatPropsSatellite(\"BespokeSat-1\", {}, obs_type=dict),\n",
    "    log_level=\"CRITICAL\",\n",
    ")\n",
    "observation, _ = env.reset()\n",
    "observation"
   ]
  },
  {
   "cell_type": "markdown",
   "metadata": {},
   "source": [
    "### Opportunity Properties\n",
    "Another common input to the observation is information about upcoming locations that \n",
    "are being accessed by the satellite. Currently, these include ground stations for\n",
    "downlink and targets for imaging, but `OpportunityProperties` will work with any\n",
    "location added by `add_location_for_access_checking`. In these examples, "
   ]
  },
  {
   "cell_type": "code",
   "execution_count": null,
   "metadata": {},
   "outputs": [],
   "source": [
    "class OppPropsSatellite(sats.ImagingSatellite):\n",
    "    observation_spec = [\n",
    "        obs.OpportunityProperties(\n",
    "            # Properties can be added by some default names\n",
    "            dict(prop=\"priority\"), \n",
    "            # They can also be normalized\n",
    "            dict(prop=\"opportunity_open\", norm=5700.0),\n",
    "            # Or they can be specified by an arbitrary function\n",
    "            dict(fn=lambda sat, opp: opp[\"r_LP_P\"] + 42),\n",
    "            n_ahead_observe=3,\n",
    "        )\n",
    "    ]\n",
    "    action_spec = [act.Drift()]\n",
    "    dyn_type = dyn.ImagingDynModel\n",
    "    fsw_type = fsw.ImagingFSWModel\n",
    "\n",
    "env = SatelliteTasking(\n",
    "    satellite=OppPropsSatellite(\"OppSat-1\", {}, obs_type=dict),\n",
    "    scenario=scene.UniformTargets(1000),\n",
    "    rewarder=data.UniqueImageReward(),\n",
    "    log_level=\"CRITICAL\",\n",
    ")\n",
    "observation, _ = env.reset()\n",
    "observation"
   ]
  },
  {
   "cell_type": "markdown",
   "metadata": {},
   "source": [
    "\n",
    "### Navigating the Observation\n",
    "\n",
    "Usually, multiple observation types need to be composed to sufficiently represent the\n",
    "environment for the learning agent. Simply add multiple observations to the observation\n",
    "specification list to combine them in the observation.\n"
   ]
  },
  {
   "cell_type": "code",
   "execution_count": null,
   "metadata": {},
   "outputs": [],
   "source": [
    "class ComposedObsSatellite(sats.Satellite):\n",
    "    observation_spec = [\n",
    "        obs.Eclipse(),\n",
    "        obs.SatProperties(dict(prop=\"battery_charge_fraction\"))\n",
    "    ]\n",
    "    action_spec = [act.Drift()]\n",
    "    dyn_type = dyn.BasicDynamicsModel\n",
    "    fsw_type = fsw.BasicFSWModel\n",
    "\n",
    "env = SatelliteTasking(\n",
    "    satellite=ComposedObsSatellite(\"PropSat-1\", {}, obs_type=dict),\n",
    "    log_level=\"CRITICAL\",\n",
    ")\n",
    "observation, _ = env.reset()\n",
    "observation"
   ]
  },
  {
   "cell_type": "markdown",
   "metadata": {},
   "source": [
    "\n",
    "A few useful functions exist for inspecting the observation. The `observation_space`\n",
    "property of the satellite and the environment return a Gym observation space to describe\n",
    "the observation. In the single agent `SatelliteTasking` environment, these are the same.\n",
    "\n",
    "<div class=\"alert alert-info\">\n",
    "\n",
    "**Info:** Here, we return to the `ndarray` default observation type.\n",
    "\n",
    "</div>"
   ]
  },
  {
   "cell_type": "code",
   "execution_count": null,
   "metadata": {},
   "outputs": [],
   "source": [
    "env = SatelliteTasking(\n",
    "    satellite=ComposedObsSatellite(\"PropSat-1\", {}),\n",
    "    log_level=\"CRITICAL\",\n",
    ")\n",
    "(env.observation_space, env.unwrapped.satellite.observation_space)"
   ]
  },
  {
   "cell_type": "markdown",
   "metadata": {},
   "source": [
    "\n",
    "With the flattened-vector type observation, it can be hard for the user to relate\n",
    "elements to specific observations.\n"
   ]
  },
  {
   "cell_type": "code",
   "execution_count": null,
   "metadata": {},
   "outputs": [],
   "source": [
    "observation, _ = env.reset()\n",
    "observation"
   ]
  },
  {
   "cell_type": "markdown",
   "metadata": {},
   "source": [
    "The `observation_description` property can help the user understand what elements are \n",
    "present in the observation."
   ]
  },
  {
   "cell_type": "code",
   "execution_count": null,
   "metadata": {},
   "outputs": [],
   "source": [
    "env.unwrapped.satellite.observation_description"
   ]
  },
  {
   "cell_type": "markdown",
   "metadata": {},
   "source": [
    "\n",
    "## The Action Specification\n",
    "\n",
    "The [action specification](../api_reference/act/index.rst) works similarly to observation\n",
    "specification. A list of actions is set in the class definition of the satellite."
   ]
  },
  {
   "cell_type": "code",
   "execution_count": null,
   "metadata": {},
   "outputs": [],
   "source": [
    "class ActionSatellite(sats.Satellite):\n",
    "    observation_spec = [obs.Time()]\n",
    "    action_spec = [\n",
    "        # If action duration is not set, the environment max_step_duration will be used;\n",
    "        # however, being explicit is always preferable\n",
    "        act.Charge(duration=120.0),\n",
    "        act.Desat(duration=60.0),\n",
    "        # One action can be included multiple time, if different settings are desired\n",
    "        act.Charge(duration=600.0,),\n",
    "    ]\n",
    "    dyn_type = dyn.BasicDynamicsModel\n",
    "    fsw_type = fsw.BasicFSWModel\n",
    "\n",
    "env = SatelliteTasking(\n",
    "    satellite=ActionSatellite(\"ActSat-1\", {}, obs_type=dict),\n",
    "    log_level=\"INFO\",\n",
    ")\n",
    "env.reset()\n",
    "\n",
    "# Try each action; index corresponds to the order of addition\n",
    "_ =env.step(0)\n",
    "_ =env.step(1)\n",
    "_ =env.step(2)"
   ]
  },
  {
   "cell_type": "markdown",
   "metadata": {},
   "source": [
    "As with the observations, properties exist to help understand the actions available."
   ]
  },
  {
   "cell_type": "code",
   "execution_count": null,
   "metadata": {},
   "outputs": [],
   "source": [
    "env.action_space"
   ]
  },
  {
   "cell_type": "code",
   "execution_count": null,
   "metadata": {},
   "outputs": [],
   "source": [
    "env.unwrapped.satellite.action_description"
   ]
  },
  {
   "cell_type": "markdown",
   "metadata": {},
   "source": [
    "Some actions take additional configurations, add multiple actions to the satellite, and/or\n",
    "have \"special\" features that are useful for manually interacting with the environment. \n",
    "For example, the imaging action can add an arbitrary number of actions corresponding to\n",
    "upcoming targets and process the name of a target directly instead of operating by\n",
    "action index."
   ]
  },
  {
   "cell_type": "code",
   "execution_count": null,
   "metadata": {},
   "outputs": [],
   "source": [
    "class ImageActSatellite(sats.ImagingSatellite):\n",
    "    observation_spec = [obs.Time()]\n",
    "    action_spec = [\n",
    "        # Set the number of upcoming targets to consider\n",
    "        act.Image(n_ahead_image=3)\n",
    "    ]\n",
    "    dyn_type = dyn.ImagingDynModel\n",
    "    fsw_type = fsw.ImagingFSWModel\n",
    "\n",
    "env = SatelliteTasking(\n",
    "    satellite=ImageActSatellite(\"ActSat-2\", {}),\n",
    "    scenario=scene.UniformTargets(1000),\n",
    "    rewarder=data.UniqueImageReward(),\n",
    "    log_level=\"INFO\",\n",
    ")\n",
    "env.reset()\n",
    "\n",
    "env.unwrapped.satellite.action_description"
   ]
  },
  {
   "cell_type": "markdown",
   "metadata": {},
   "source": [
    "Demonstrating the action overload feature, we task the satellite based on target name.\n",
    "While this is not part of the official Gym API, we find it useful in certain cases."
   ]
  },
  {
   "cell_type": "code",
   "execution_count": null,
   "metadata": {},
   "outputs": [],
   "source": [
    "target = env.unwrapped.satellite.find_next_opportunities(n=10)[9][\"object\"]\n",
    "_ = env.step(target)"
   ]
  }
 ],
 "metadata": {
  "kernelspec": {
   "display_name": ".venv_refactor",
   "language": "python",
   "name": "python3"
  },
  "language_info": {
   "codemirror_mode": {
    "name": "ipython",
    "version": 3
   },
   "file_extension": ".py",
   "mimetype": "text/x-python",
   "name": "python",
   "nbconvert_exporter": "python",
   "pygments_lexer": "ipython3",
   "version": "3.10.11"
  }
 },
 "nbformat": 4,
 "nbformat_minor": 2
}
