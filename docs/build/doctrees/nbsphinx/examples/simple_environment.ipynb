{
 "cells": [
  {
   "cell_type": "markdown",
   "metadata": {},
   "source": [
    "# Getting Started\n",
    "This tutorial demonstrates the configuration and use of a simple BSK-RL environment.\n",
    "BSK-RL and dependencies should already be installed at this point (see [Installation](../install.rst)\n",
    "if you haven't installed the package yet).\n",
    "\n",
    "## Load Modules\n",
    "In this tutorial, the environment will be created with `gym.make`, so it is necessary to\n",
    "import the top-level `bsk_rl` module as well as `gym` and `bsk_rl` components."
   ]
  },
  {
   "cell_type": "code",
   "execution_count": 1,
   "metadata": {
    "execution": {
     "iopub.execute_input": "2024-07-24T21:34:49.524134Z",
     "iopub.status.busy": "2024-07-24T21:34:49.523845Z",
     "iopub.status.idle": "2024-07-24T21:34:50.368481Z",
     "shell.execute_reply": "2024-07-24T21:34:50.368168Z"
    }
   },
   "outputs": [],
   "source": [
    "import gymnasium as gym\n",
    "import numpy as np\n",
    "from bsk_rl import act, data, obs, scene, sats\n",
    "from bsk_rl.sim import dyn, fsw\n",
    "\n",
    "from Basilisk.architecture import bskLogging\n",
    "bskLogging.setDefaultLogLevel(bskLogging.BSK_WARNING)\n"
   ]
  },
  {
   "cell_type": "markdown",
   "metadata": {},
   "source": [
    "If no errors were raised, you have a functional installation of `bsk_rl`.\n",
    "\n",
    "## Configure the Satellite\n",
    "[Satellites](../api_reference/sats/index.rst) are configurable agents in the environment.\n",
    "To make a new environment, start by specifying the [observations](../api_reference/obs/index.rst)\n",
    "and [actions](../api_reference/act/index.rst) of a satellite type, as well as the underlying\n",
    "Basilisk [simulation](../api_reference/sim/index.rst) models used by the satellite."
   ]
  },
  {
   "cell_type": "code",
   "execution_count": 2,
   "metadata": {
    "execution": {
     "iopub.execute_input": "2024-07-24T21:34:50.370329Z",
     "iopub.status.busy": "2024-07-24T21:34:50.370192Z",
     "iopub.status.idle": "2024-07-24T21:34:50.372339Z",
     "shell.execute_reply": "2024-07-24T21:34:50.372086Z"
    }
   },
   "outputs": [],
   "source": [
    "class MyScanningSatellite(sats.AccessSatellite):\n",
    "    observation_spec = [\n",
    "        obs.SatProperties(\n",
    "            dict(prop=\"storage_level_fraction\"),\n",
    "            dict(prop=\"battery_charge_fraction\")\n",
    "        ),\n",
    "        obs.Eclipse(),\n",
    "    ]\n",
    "    action_spec = [\n",
    "        act.Scan(duration=60.0),  # Scan for 1 minute\n",
    "        act.Charge(duration=600.0),  # Charge for 10 minutes\n",
    "    ]\n",
    "    dyn_type = dyn.ContinuousImagingDynModel\n",
    "    fsw_type = fsw.ContinuousImagingFSWModel"
   ]
  },
  {
   "cell_type": "markdown",
   "metadata": {},
   "source": [
    "Based on this class specification, a list of configurable parameters for the satellite\n",
    "can be generated."
   ]
  },
  {
   "cell_type": "code",
   "execution_count": 3,
   "metadata": {
    "execution": {
     "iopub.execute_input": "2024-07-24T21:34:50.373792Z",
     "iopub.status.busy": "2024-07-24T21:34:50.373694Z",
     "iopub.status.idle": "2024-07-24T21:34:50.377466Z",
     "shell.execute_reply": "2024-07-24T21:34:50.377205Z"
    }
   },
   "outputs": [
    {
     "data": {
      "text/plain": [
       "{'hs_min': 0.0,\n",
       " 'maxCounterValue': 4,\n",
       " 'thrMinFireTime': 0.02,\n",
       " 'desatAttitude': 'sun',\n",
       " 'controlAxes_B': [1, 0, 0, 0, 1, 0, 0, 0, 1],\n",
       " 'thrForceSign': 1,\n",
       " 'K': 7.0,\n",
       " 'Ki': -1,\n",
       " 'P': 35.0,\n",
       " 'imageAttErrorRequirement': 0.01,\n",
       " 'imageRateErrorRequirement': None,\n",
       " 'inst_pHat_B': [0, 0, 1],\n",
       " 'batteryStorageCapacity': 288000.0,\n",
       " 'storedCharge_Init': <function bsk_rl.sim.dyn.BasicDynamicsModel.<lambda>()>,\n",
       " 'disturbance_vector': None,\n",
       " 'dragCoeff': 2.2,\n",
       " 'imageTargetMaximumRange': -1,\n",
       " 'instrumentBaudRate': 8000000.0,\n",
       " 'instrumentPowerDraw': -30.0,\n",
       " 'basePowerDraw': 0.0,\n",
       " 'wheelSpeeds': <function bsk_rl.sim.dyn.BasicDynamicsModel.<lambda>()>,\n",
       " 'maxWheelSpeed': inf,\n",
       " 'u_max': 0.2,\n",
       " 'rwBasePower': 0.4,\n",
       " 'rwMechToElecEfficiency': 0.0,\n",
       " 'rwElecToMechEfficiency': 0.5,\n",
       " 'panelArea': 1.0,\n",
       " 'panelEfficiency': 0.2,\n",
       " 'nHat_B': array([0, 1, 0]),\n",
       " 'mass': 330,\n",
       " 'width': 1.38,\n",
       " 'depth': 1.04,\n",
       " 'height': 1.58,\n",
       " 'sigma_init': <function bsk_rl.sim.dyn.BasicDynamicsModel.<lambda>()>,\n",
       " 'omega_init': <function bsk_rl.sim.dyn.BasicDynamicsModel.<lambda>()>,\n",
       " 'rN': None,\n",
       " 'vN': None,\n",
       " 'oe': <function bsk_rl.utils.orbital.random_orbit(i: Optional[float] = 45.0, alt: float = 500, r_body: float = 6371, e: float = 0, Omega: Optional[float] = None, omega: Optional[float] = 0, f: Optional[float] = None) -> Basilisk.utilities.orbitalMotion.ClassicElements>,\n",
       " 'mu': 398600436000000.0,\n",
       " 'dataStorageCapacity': 160000000.0,\n",
       " 'storageUnitValidCheck': False,\n",
       " 'storageInit': 0,\n",
       " 'thrusterPowerDraw': 0.0,\n",
       " 'transmitterBaudRate': -8000000.0,\n",
       " 'transmitterNumBuffers': 100,\n",
       " 'transmitterPowerDraw': -15.0}"
      ]
     },
     "execution_count": 3,
     "metadata": {},
     "output_type": "execute_result"
    }
   ],
   "source": [
    "MyScanningSatellite.default_sat_args()"
   ]
  },
  {
   "cell_type": "markdown",
   "metadata": {},
   "source": [
    "When instantiating a satellite, these parameters can be overriden with a constant or \n",
    "rerandomized every time the environment is reset using the ``sat_args`` dictionary."
   ]
  },
  {
   "cell_type": "code",
   "execution_count": 4,
   "metadata": {
    "execution": {
     "iopub.execute_input": "2024-07-24T21:34:50.378864Z",
     "iopub.status.busy": "2024-07-24T21:34:50.378782Z",
     "iopub.status.idle": "2024-07-24T21:34:50.381176Z",
     "shell.execute_reply": "2024-07-24T21:34:50.380899Z"
    }
   },
   "outputs": [],
   "source": [
    "sat_args = {}\n",
    "\n",
    "# Set some parameters as constants\n",
    "sat_args[\"imageAttErrorRequirement\"] = 0.05\n",
    "sat_args[\"dataStorageCapacity\"] = 1e10\n",
    "sat_args[\"instrumentBaudRate\"] = 1e7\n",
    "sat_args[\"storedCharge_Init\"] = 50000.0\n",
    "\n",
    "# Randomize the initial storage level on every reset\n",
    "sat_args[\"storageInit\"] = lambda: np.random.uniform(0.25, 0.75) * 1e10\n",
    "\n",
    "# Make the satellite\n",
    "sat = MyScanningSatellite(name=\"EO1\", sat_args=sat_args)"
   ]
  },
  {
   "cell_type": "markdown",
   "metadata": {},
   "source": [
    "## Making the Environment\n",
    "For this example, we will be using the single-agent [SatelliteTasking](../api_reference/index.rst) \n",
    "environment. Along with passing the satellite that we configured, the environment takes\n",
    "a [scenario](../api_reference/scene/index.rst), which defines the environment the\n",
    "satellite is acting in, and a [rewarder](../api_reference/data/index.rst), which defines\n",
    "how data collected from the scenario is rewarded."
   ]
  },
  {
   "cell_type": "code",
   "execution_count": 5,
   "metadata": {
    "execution": {
     "iopub.execute_input": "2024-07-24T21:34:50.382543Z",
     "iopub.status.busy": "2024-07-24T21:34:50.382466Z",
     "iopub.status.idle": "2024-07-24T21:34:50.479207Z",
     "shell.execute_reply": "2024-07-24T21:34:50.478931Z"
    }
   },
   "outputs": [
    {
     "name": "stderr",
     "output_type": "stream",
     "text": [
      "\u001b[90;3m2024-07-24 14:34:50,383 \u001b[0m\u001b[mgym                            \u001b[0m\u001b[mINFO       \u001b[0m\u001b[mCalling env.reset() to get observation space\u001b[0m\n"
     ]
    },
    {
     "name": "stderr",
     "output_type": "stream",
     "text": [
      "\u001b[90;3m2024-07-24 14:34:50,383 \u001b[0m\u001b[mgym                            \u001b[0m\u001b[mINFO       \u001b[0m\u001b[mResetting environment with seed=291399792\u001b[0m\n"
     ]
    },
    {
     "name": "stderr",
     "output_type": "stream",
     "text": [
      "\u001b[90;3m2024-07-24 14:34:50,462 \u001b[0m\u001b[36msats.satellite.EO1             \u001b[0m\u001b[mINFO       \u001b[0m\u001b[33m<0.00> \u001b[0m\u001b[36mEO1: \u001b[0m\u001b[mFinding opportunity windows from 0.00 to 5700.00 seconds\u001b[0m\n"
     ]
    },
    {
     "name": "stderr",
     "output_type": "stream",
     "text": [
      "\u001b[90;3m2024-07-24 14:34:50,477 \u001b[0m\u001b[mgym                            \u001b[0m\u001b[mINFO       \u001b[0m\u001b[33m<0.00> \u001b[0m\u001b[mSatellites requiring retasking: ['EO1']\u001b[0m\n"
     ]
    },
    {
     "name": "stderr",
     "output_type": "stream",
     "text": [
      "\u001b[90;3m2024-07-24 14:34:50,477 \u001b[0m\u001b[mgym                            \u001b[0m\u001b[mINFO       \u001b[0m\u001b[33m<0.00> \u001b[0m\u001b[mEnvironment reset\u001b[0m\n"
     ]
    }
   ],
   "source": [
    "env = gym.make(\n",
    "    \"SatelliteTasking-v1\",\n",
    "    satellite=sat,\n",
    "    scenario=scene.UniformNadirScanning(),\n",
    "    rewarder=data.ScanningTimeReward(),\n",
    "    time_limit=5700.0,  # approximately 1 orbit\n",
    "    log_level=\"INFO\",\n",
    ")"
   ]
  },
  {
   "cell_type": "markdown",
   "metadata": {},
   "source": [
    "## Interacting with the Environment\n",
    "\n",
    "First, the environment is reset."
   ]
  },
  {
   "cell_type": "code",
   "execution_count": 6,
   "metadata": {
    "execution": {
     "iopub.execute_input": "2024-07-24T21:34:50.480872Z",
     "iopub.status.busy": "2024-07-24T21:34:50.480665Z",
     "iopub.status.idle": "2024-07-24T21:34:50.725851Z",
     "shell.execute_reply": "2024-07-24T21:34:50.725584Z"
    }
   },
   "outputs": [
    {
     "name": "stderr",
     "output_type": "stream",
     "text": [
      "\u001b[90;3m2024-07-24 14:34:50,561 \u001b[0m\u001b[mgym                            \u001b[0m\u001b[mINFO       \u001b[0m\u001b[mResetting environment with seed=1\u001b[0m\n"
     ]
    },
    {
     "name": "stderr",
     "output_type": "stream",
     "text": [
      "\u001b[90;3m2024-07-24 14:34:50,711 \u001b[0m\u001b[36msats.satellite.EO1             \u001b[0m\u001b[mINFO       \u001b[0m\u001b[33m<0.00> \u001b[0m\u001b[36mEO1: \u001b[0m\u001b[mFinding opportunity windows from 0.00 to 5700.00 seconds\u001b[0m\n"
     ]
    },
    {
     "name": "stderr",
     "output_type": "stream",
     "text": [
      "\u001b[90;3m2024-07-24 14:34:50,724 \u001b[0m\u001b[mgym                            \u001b[0m\u001b[mINFO       \u001b[0m\u001b[33m<0.00> \u001b[0m\u001b[mSatellites requiring retasking: ['EO1']\u001b[0m\n"
     ]
    },
    {
     "name": "stderr",
     "output_type": "stream",
     "text": [
      "\u001b[90;3m2024-07-24 14:34:50,724 \u001b[0m\u001b[mgym                            \u001b[0m\u001b[mINFO       \u001b[0m\u001b[33m<0.00> \u001b[0m\u001b[mEnvironment reset\u001b[0m\n"
     ]
    }
   ],
   "source": [
    "observation, info = env.reset(seed=1)"
   ]
  },
  {
   "cell_type": "markdown",
   "metadata": {},
   "source": [
    "Next, we take the scan action (`action=0`) a few times. This allows for the satellite to\n",
    "settle its attitude in the nadir pointing mode to satisfy imaging conditions. Note that \n",
    "the logs show little or no data accumulated in the first two steps as it settles, but\n",
    "achieves 60 reward (corresponding to 60 seconds of imaging) by the third step."
   ]
  },
  {
   "cell_type": "code",
   "execution_count": 7,
   "metadata": {
    "execution": {
     "iopub.execute_input": "2024-07-24T21:34:50.727321Z",
     "iopub.status.busy": "2024-07-24T21:34:50.727216Z",
     "iopub.status.idle": "2024-07-24T21:34:50.745378Z",
     "shell.execute_reply": "2024-07-24T21:34:50.745142Z"
    }
   },
   "outputs": [
    {
     "name": "stderr",
     "output_type": "stream",
     "text": [
      "\u001b[90;3m2024-07-24 14:34:50,727 \u001b[0m\u001b[mgym                            \u001b[0m\u001b[mINFO       \u001b[0m\u001b[33m<0.00> \u001b[0m\u001b[93;1m=== STARTING STEP ===\u001b[0m\n"
     ]
    },
    {
     "name": "stderr",
     "output_type": "stream",
     "text": [
      "\u001b[90;3m2024-07-24 14:34:50,728 \u001b[0m\u001b[36msats.satellite.EO1             \u001b[0m\u001b[mINFO       \u001b[0m\u001b[33m<0.00> \u001b[0m\u001b[36mEO1: \u001b[0m\u001b[maction_nadir_scan tasked for 60.0 seconds\u001b[0m\n"
     ]
    },
    {
     "name": "stderr",
     "output_type": "stream",
     "text": [
      "\u001b[90;3m2024-07-24 14:34:50,728 \u001b[0m\u001b[36msats.satellite.EO1             \u001b[0m\u001b[mINFO       \u001b[0m\u001b[33m<0.00> \u001b[0m\u001b[36mEO1: \u001b[0m\u001b[msetting timed terminal event at 60.0\u001b[0m\n"
     ]
    },
    {
     "name": "stderr",
     "output_type": "stream",
     "text": [
      "\u001b[90;3m2024-07-24 14:34:50,732 \u001b[0m\u001b[36msats.satellite.EO1             \u001b[0m\u001b[mINFO       \u001b[0m\u001b[33m<60.00> \u001b[0m\u001b[36mEO1: \u001b[0m\u001b[mtimed termination at 60.0 for action_nadir_scan\u001b[0m\n"
     ]
    },
    {
     "name": "stderr",
     "output_type": "stream",
     "text": [
      "\u001b[90;3m2024-07-24 14:34:50,732 \u001b[0m\u001b[mdata.base                      \u001b[0m\u001b[mINFO       \u001b[0m\u001b[33m<60.00> \u001b[0m\u001b[mData reward: {'EO1': 0.0}\u001b[0m\n"
     ]
    },
    {
     "name": "stderr",
     "output_type": "stream",
     "text": [
      "\u001b[90;3m2024-07-24 14:34:50,733 \u001b[0m\u001b[mgym                            \u001b[0m\u001b[mINFO       \u001b[0m\u001b[33m<60.00> \u001b[0m\u001b[mSatellites requiring retasking: ['EO1']\u001b[0m\n"
     ]
    },
    {
     "name": "stderr",
     "output_type": "stream",
     "text": [
      "\u001b[90;3m2024-07-24 14:34:50,733 \u001b[0m\u001b[mgym                            \u001b[0m\u001b[mINFO       \u001b[0m\u001b[33m<60.00> \u001b[0m\u001b[mStep reward: 0.0\u001b[0m\n"
     ]
    },
    {
     "name": "stderr",
     "output_type": "stream",
     "text": [
      "\u001b[90;3m2024-07-24 14:34:50,733 \u001b[0m\u001b[mgym                            \u001b[0m\u001b[mINFO       \u001b[0m\u001b[33m<60.00> \u001b[0m\u001b[93;1m=== STARTING STEP ===\u001b[0m\n"
     ]
    },
    {
     "name": "stderr",
     "output_type": "stream",
     "text": [
      "\u001b[90;3m2024-07-24 14:34:50,733 \u001b[0m\u001b[36msats.satellite.EO1             \u001b[0m\u001b[mINFO       \u001b[0m\u001b[33m<60.00> \u001b[0m\u001b[36mEO1: \u001b[0m\u001b[maction_nadir_scan tasked for 60.0 seconds\u001b[0m\n"
     ]
    },
    {
     "name": "stderr",
     "output_type": "stream",
     "text": [
      "\u001b[90;3m2024-07-24 14:34:50,734 \u001b[0m\u001b[36msats.satellite.EO1             \u001b[0m\u001b[mINFO       \u001b[0m\u001b[33m<60.00> \u001b[0m\u001b[36mEO1: \u001b[0m\u001b[msetting timed terminal event at 120.0\u001b[0m\n"
     ]
    },
    {
     "name": "stderr",
     "output_type": "stream",
     "text": [
      "\u001b[90;3m2024-07-24 14:34:50,737 \u001b[0m\u001b[36msats.satellite.EO1             \u001b[0m\u001b[mINFO       \u001b[0m\u001b[33m<120.00> \u001b[0m\u001b[36mEO1: \u001b[0m\u001b[mtimed termination at 120.0 for action_nadir_scan\u001b[0m\n"
     ]
    },
    {
     "name": "stderr",
     "output_type": "stream",
     "text": [
      "\u001b[90;3m2024-07-24 14:34:50,738 \u001b[0m\u001b[mdata.base                      \u001b[0m\u001b[mINFO       \u001b[0m\u001b[33m<120.00> \u001b[0m\u001b[mData reward: {'EO1': 30.0}\u001b[0m\n"
     ]
    },
    {
     "name": "stderr",
     "output_type": "stream",
     "text": [
      "\u001b[90;3m2024-07-24 14:34:50,738 \u001b[0m\u001b[mgym                            \u001b[0m\u001b[mINFO       \u001b[0m\u001b[33m<120.00> \u001b[0m\u001b[mSatellites requiring retasking: ['EO1']\u001b[0m\n"
     ]
    },
    {
     "name": "stderr",
     "output_type": "stream",
     "text": [
      "\u001b[90;3m2024-07-24 14:34:50,738 \u001b[0m\u001b[mgym                            \u001b[0m\u001b[mINFO       \u001b[0m\u001b[33m<120.00> \u001b[0m\u001b[mStep reward: 30.0\u001b[0m\n"
     ]
    },
    {
     "name": "stderr",
     "output_type": "stream",
     "text": [
      "\u001b[90;3m2024-07-24 14:34:50,739 \u001b[0m\u001b[mgym                            \u001b[0m\u001b[mINFO       \u001b[0m\u001b[33m<120.00> \u001b[0m\u001b[93;1m=== STARTING STEP ===\u001b[0m\n"
     ]
    },
    {
     "name": "stderr",
     "output_type": "stream",
     "text": [
      "\u001b[90;3m2024-07-24 14:34:50,739 \u001b[0m\u001b[36msats.satellite.EO1             \u001b[0m\u001b[mINFO       \u001b[0m\u001b[33m<120.00> \u001b[0m\u001b[36mEO1: \u001b[0m\u001b[maction_nadir_scan tasked for 60.0 seconds\u001b[0m\n"
     ]
    },
    {
     "name": "stderr",
     "output_type": "stream",
     "text": [
      "\u001b[90;3m2024-07-24 14:34:50,739 \u001b[0m\u001b[36msats.satellite.EO1             \u001b[0m\u001b[mINFO       \u001b[0m\u001b[33m<120.00> \u001b[0m\u001b[36mEO1: \u001b[0m\u001b[msetting timed terminal event at 180.0\u001b[0m\n"
     ]
    },
    {
     "name": "stderr",
     "output_type": "stream",
     "text": [
      "\u001b[90;3m2024-07-24 14:34:50,742 \u001b[0m\u001b[36msats.satellite.EO1             \u001b[0m\u001b[mINFO       \u001b[0m\u001b[33m<180.00> \u001b[0m\u001b[36mEO1: \u001b[0m\u001b[mtimed termination at 180.0 for action_nadir_scan\u001b[0m\n"
     ]
    },
    {
     "name": "stderr",
     "output_type": "stream",
     "text": [
      "\u001b[90;3m2024-07-24 14:34:50,743 \u001b[0m\u001b[mdata.base                      \u001b[0m\u001b[mINFO       \u001b[0m\u001b[33m<180.00> \u001b[0m\u001b[mData reward: {'EO1': 60.0}\u001b[0m\n"
     ]
    },
    {
     "name": "stderr",
     "output_type": "stream",
     "text": [
      "\u001b[90;3m2024-07-24 14:34:50,743 \u001b[0m\u001b[mgym                            \u001b[0m\u001b[mINFO       \u001b[0m\u001b[33m<180.00> \u001b[0m\u001b[mSatellites requiring retasking: ['EO1']\u001b[0m\n"
     ]
    },
    {
     "name": "stderr",
     "output_type": "stream",
     "text": [
      "\u001b[90;3m2024-07-24 14:34:50,744 \u001b[0m\u001b[mgym                            \u001b[0m\u001b[mINFO       \u001b[0m\u001b[33m<180.00> \u001b[0m\u001b[mStep reward: 60.0\u001b[0m\n"
     ]
    },
    {
     "name": "stdout",
     "output_type": "stream",
     "text": [
      "Initial data level: 0.7341307878 (randomized by sat_args)\n",
      "  Final data level: 0.8241307878\n"
     ]
    }
   ],
   "source": [
    "print(\"Initial data level:\", observation[0], \"(randomized by sat_args)\")\n",
    "for _ in range(3):\n",
    "    observation, reward, terminated, truncated, info = env.step(action=0)\n",
    "print(\"  Final data level:\", observation[0])"
   ]
  },
  {
   "cell_type": "markdown",
   "metadata": {},
   "source": [
    "The observation reflects the increase in stored data. The first element, corresponding\n",
    "to `storage_level_fraction`, starts at a random value set by the `storageInit` function\n",
    "in `sat_args` and increases based on the time spent imaging.\n",
    "\n",
    "Finally, the charging mode is tasked repeatedly in 10-minute increments until the\n",
    "environment time limit is reached."
   ]
  },
  {
   "cell_type": "code",
   "execution_count": 8,
   "metadata": {
    "execution": {
     "iopub.execute_input": "2024-07-24T21:34:50.746994Z",
     "iopub.status.busy": "2024-07-24T21:34:50.746879Z",
     "iopub.status.idle": "2024-07-24T21:34:51.104064Z",
     "shell.execute_reply": "2024-07-24T21:34:51.103830Z"
    }
   },
   "outputs": [
    {
     "name": "stderr",
     "output_type": "stream",
     "text": [
      "\u001b[90;3m2024-07-24 14:34:50,747 \u001b[0m\u001b[mgym                            \u001b[0m\u001b[mINFO       \u001b[0m\u001b[33m<180.00> \u001b[0m\u001b[93;1m=== STARTING STEP ===\u001b[0m\n"
     ]
    },
    {
     "name": "stderr",
     "output_type": "stream",
     "text": [
      "\u001b[90;3m2024-07-24 14:34:50,747 \u001b[0m\u001b[36msats.satellite.EO1             \u001b[0m\u001b[mINFO       \u001b[0m\u001b[33m<180.00> \u001b[0m\u001b[36mEO1: \u001b[0m\u001b[maction_charge tasked for 600.0 seconds\u001b[0m\n"
     ]
    },
    {
     "name": "stderr",
     "output_type": "stream",
     "text": [
      "\u001b[90;3m2024-07-24 14:34:50,747 \u001b[0m\u001b[36msats.satellite.EO1             \u001b[0m\u001b[mINFO       \u001b[0m\u001b[33m<180.00> \u001b[0m\u001b[36mEO1: \u001b[0m\u001b[msetting timed terminal event at 780.0\u001b[0m\n"
     ]
    },
    {
     "name": "stderr",
     "output_type": "stream",
     "text": [
      "\u001b[90;3m2024-07-24 14:34:50,779 \u001b[0m\u001b[36msats.satellite.EO1             \u001b[0m\u001b[mINFO       \u001b[0m\u001b[33m<780.00> \u001b[0m\u001b[36mEO1: \u001b[0m\u001b[mtimed termination at 780.0 for action_charge\u001b[0m\n"
     ]
    },
    {
     "name": "stderr",
     "output_type": "stream",
     "text": [
      "\u001b[90;3m2024-07-24 14:34:50,779 \u001b[0m\u001b[mdata.base                      \u001b[0m\u001b[mINFO       \u001b[0m\u001b[33m<780.00> \u001b[0m\u001b[mData reward: {'EO1': 0.0}\u001b[0m\n"
     ]
    },
    {
     "name": "stderr",
     "output_type": "stream",
     "text": [
      "\u001b[90;3m2024-07-24 14:34:50,803 \u001b[0m\u001b[mgym                            \u001b[0m\u001b[mINFO       \u001b[0m\u001b[33m<780.00> \u001b[0m\u001b[mSatellites requiring retasking: ['EO1']\u001b[0m\n"
     ]
    },
    {
     "name": "stderr",
     "output_type": "stream",
     "text": [
      "\u001b[90;3m2024-07-24 14:34:50,803 \u001b[0m\u001b[mgym                            \u001b[0m\u001b[mINFO       \u001b[0m\u001b[33m<780.00> \u001b[0m\u001b[mStep reward: 0.0\u001b[0m\n"
     ]
    },
    {
     "name": "stderr",
     "output_type": "stream",
     "text": [
      "\u001b[90;3m2024-07-24 14:34:50,803 \u001b[0m\u001b[mgym                            \u001b[0m\u001b[mINFO       \u001b[0m\u001b[33m<780.00> \u001b[0m\u001b[93;1m=== STARTING STEP ===\u001b[0m\n"
     ]
    },
    {
     "name": "stderr",
     "output_type": "stream",
     "text": [
      "\u001b[90;3m2024-07-24 14:34:50,804 \u001b[0m\u001b[36msats.satellite.EO1             \u001b[0m\u001b[mINFO       \u001b[0m\u001b[33m<780.00> \u001b[0m\u001b[36mEO1: \u001b[0m\u001b[maction_charge tasked for 600.0 seconds\u001b[0m\n"
     ]
    },
    {
     "name": "stderr",
     "output_type": "stream",
     "text": [
      "\u001b[90;3m2024-07-24 14:34:50,804 \u001b[0m\u001b[36msats.satellite.EO1             \u001b[0m\u001b[mINFO       \u001b[0m\u001b[33m<780.00> \u001b[0m\u001b[36mEO1: \u001b[0m\u001b[msetting timed terminal event at 1380.0\u001b[0m\n"
     ]
    },
    {
     "name": "stderr",
     "output_type": "stream",
     "text": [
      "\u001b[90;3m2024-07-24 14:34:50,835 \u001b[0m\u001b[36msats.satellite.EO1             \u001b[0m\u001b[mINFO       \u001b[0m\u001b[33m<1380.00> \u001b[0m\u001b[36mEO1: \u001b[0m\u001b[mtimed termination at 1380.0 for action_charge\u001b[0m\n"
     ]
    },
    {
     "name": "stderr",
     "output_type": "stream",
     "text": [
      "\u001b[90;3m2024-07-24 14:34:50,835 \u001b[0m\u001b[mdata.base                      \u001b[0m\u001b[mINFO       \u001b[0m\u001b[33m<1380.00> \u001b[0m\u001b[mData reward: {'EO1': 0.0}\u001b[0m\n"
     ]
    },
    {
     "name": "stderr",
     "output_type": "stream",
     "text": [
      "\u001b[90;3m2024-07-24 14:34:50,836 \u001b[0m\u001b[mgym                            \u001b[0m\u001b[mINFO       \u001b[0m\u001b[33m<1380.00> \u001b[0m\u001b[mSatellites requiring retasking: ['EO1']\u001b[0m\n"
     ]
    },
    {
     "name": "stderr",
     "output_type": "stream",
     "text": [
      "\u001b[90;3m2024-07-24 14:34:50,836 \u001b[0m\u001b[mgym                            \u001b[0m\u001b[mINFO       \u001b[0m\u001b[33m<1380.00> \u001b[0m\u001b[mStep reward: 0.0\u001b[0m\n"
     ]
    },
    {
     "name": "stderr",
     "output_type": "stream",
     "text": [
      "\u001b[90;3m2024-07-24 14:34:50,836 \u001b[0m\u001b[mgym                            \u001b[0m\u001b[mINFO       \u001b[0m\u001b[33m<1380.00> \u001b[0m\u001b[93;1m=== STARTING STEP ===\u001b[0m\n"
     ]
    },
    {
     "name": "stderr",
     "output_type": "stream",
     "text": [
      "\u001b[90;3m2024-07-24 14:34:50,837 \u001b[0m\u001b[36msats.satellite.EO1             \u001b[0m\u001b[mINFO       \u001b[0m\u001b[33m<1380.00> \u001b[0m\u001b[36mEO1: \u001b[0m\u001b[maction_charge tasked for 600.0 seconds\u001b[0m\n"
     ]
    },
    {
     "name": "stderr",
     "output_type": "stream",
     "text": [
      "\u001b[90;3m2024-07-24 14:34:50,837 \u001b[0m\u001b[36msats.satellite.EO1             \u001b[0m\u001b[mINFO       \u001b[0m\u001b[33m<1380.00> \u001b[0m\u001b[36mEO1: \u001b[0m\u001b[msetting timed terminal event at 1980.0\u001b[0m\n"
     ]
    },
    {
     "name": "stderr",
     "output_type": "stream",
     "text": [
      "\u001b[90;3m2024-07-24 14:34:50,868 \u001b[0m\u001b[36msats.satellite.EO1             \u001b[0m\u001b[mINFO       \u001b[0m\u001b[33m<1980.00> \u001b[0m\u001b[36mEO1: \u001b[0m\u001b[mtimed termination at 1980.0 for action_charge\u001b[0m\n"
     ]
    },
    {
     "name": "stderr",
     "output_type": "stream",
     "text": [
      "\u001b[90;3m2024-07-24 14:34:50,868 \u001b[0m\u001b[mdata.base                      \u001b[0m\u001b[mINFO       \u001b[0m\u001b[33m<1980.00> \u001b[0m\u001b[mData reward: {'EO1': 0.0}\u001b[0m\n"
     ]
    },
    {
     "name": "stderr",
     "output_type": "stream",
     "text": [
      "\u001b[90;3m2024-07-24 14:34:50,869 \u001b[0m\u001b[mgym                            \u001b[0m\u001b[mINFO       \u001b[0m\u001b[33m<1980.00> \u001b[0m\u001b[mSatellites requiring retasking: ['EO1']\u001b[0m\n"
     ]
    },
    {
     "name": "stderr",
     "output_type": "stream",
     "text": [
      "\u001b[90;3m2024-07-24 14:34:50,869 \u001b[0m\u001b[mgym                            \u001b[0m\u001b[mINFO       \u001b[0m\u001b[33m<1980.00> \u001b[0m\u001b[mStep reward: 0.0\u001b[0m\n"
     ]
    },
    {
     "name": "stderr",
     "output_type": "stream",
     "text": [
      "\u001b[90;3m2024-07-24 14:34:50,869 \u001b[0m\u001b[mgym                            \u001b[0m\u001b[mINFO       \u001b[0m\u001b[33m<1980.00> \u001b[0m\u001b[93;1m=== STARTING STEP ===\u001b[0m\n"
     ]
    },
    {
     "name": "stderr",
     "output_type": "stream",
     "text": [
      "\u001b[90;3m2024-07-24 14:34:50,869 \u001b[0m\u001b[36msats.satellite.EO1             \u001b[0m\u001b[mINFO       \u001b[0m\u001b[33m<1980.00> \u001b[0m\u001b[36mEO1: \u001b[0m\u001b[maction_charge tasked for 600.0 seconds\u001b[0m\n"
     ]
    },
    {
     "name": "stderr",
     "output_type": "stream",
     "text": [
      "\u001b[90;3m2024-07-24 14:34:50,869 \u001b[0m\u001b[36msats.satellite.EO1             \u001b[0m\u001b[mINFO       \u001b[0m\u001b[33m<1980.00> \u001b[0m\u001b[36mEO1: \u001b[0m\u001b[msetting timed terminal event at 2580.0\u001b[0m\n"
     ]
    },
    {
     "name": "stderr",
     "output_type": "stream",
     "text": [
      "\u001b[90;3m2024-07-24 14:34:50,900 \u001b[0m\u001b[36msats.satellite.EO1             \u001b[0m\u001b[mINFO       \u001b[0m\u001b[33m<2580.00> \u001b[0m\u001b[36mEO1: \u001b[0m\u001b[mtimed termination at 2580.0 for action_charge\u001b[0m\n"
     ]
    },
    {
     "name": "stderr",
     "output_type": "stream",
     "text": [
      "\u001b[90;3m2024-07-24 14:34:50,901 \u001b[0m\u001b[mdata.base                      \u001b[0m\u001b[mINFO       \u001b[0m\u001b[33m<2580.00> \u001b[0m\u001b[mData reward: {'EO1': 0.0}\u001b[0m\n"
     ]
    },
    {
     "name": "stderr",
     "output_type": "stream",
     "text": [
      "\u001b[90;3m2024-07-24 14:34:50,929 \u001b[0m\u001b[mgym                            \u001b[0m\u001b[mINFO       \u001b[0m\u001b[33m<2580.00> \u001b[0m\u001b[mSatellites requiring retasking: ['EO1']\u001b[0m\n"
     ]
    },
    {
     "name": "stdout",
     "output_type": "stream",
     "text": [
      "Charge level: 0.160 (780.0 seconds)\n",
      "\tEclipse: start: 5340.0 end: 1800.0\n",
      "Charge level: 0.158 (1380.0 seconds)\n",
      "\tEclipse: start: 4740.0 end: 1200.0\n",
      "Charge level: 0.155 (1980.0 seconds)\n",
      "\tEclipse: start: 4140.0 end: 600.0\n"
     ]
    },
    {
     "name": "stderr",
     "output_type": "stream",
     "text": [
      "\u001b[90;3m2024-07-24 14:34:50,930 \u001b[0m\u001b[mgym                            \u001b[0m\u001b[mINFO       \u001b[0m\u001b[33m<2580.00> \u001b[0m\u001b[mStep reward: 0.0\u001b[0m\n"
     ]
    },
    {
     "name": "stderr",
     "output_type": "stream",
     "text": [
      "\u001b[90;3m2024-07-24 14:34:50,930 \u001b[0m\u001b[mgym                            \u001b[0m\u001b[mINFO       \u001b[0m\u001b[33m<2580.00> \u001b[0m\u001b[93;1m=== STARTING STEP ===\u001b[0m\n"
     ]
    },
    {
     "name": "stderr",
     "output_type": "stream",
     "text": [
      "\u001b[90;3m2024-07-24 14:34:50,930 \u001b[0m\u001b[36msats.satellite.EO1             \u001b[0m\u001b[mINFO       \u001b[0m\u001b[33m<2580.00> \u001b[0m\u001b[36mEO1: \u001b[0m\u001b[maction_charge tasked for 600.0 seconds\u001b[0m\n"
     ]
    },
    {
     "name": "stderr",
     "output_type": "stream",
     "text": [
      "\u001b[90;3m2024-07-24 14:34:50,930 \u001b[0m\u001b[36msats.satellite.EO1             \u001b[0m\u001b[mINFO       \u001b[0m\u001b[33m<2580.00> \u001b[0m\u001b[36mEO1: \u001b[0m\u001b[msetting timed terminal event at 3180.0\u001b[0m\n"
     ]
    },
    {
     "name": "stderr",
     "output_type": "stream",
     "text": [
      "\u001b[90;3m2024-07-24 14:34:50,962 \u001b[0m\u001b[36msats.satellite.EO1             \u001b[0m\u001b[mINFO       \u001b[0m\u001b[33m<3180.00> \u001b[0m\u001b[36mEO1: \u001b[0m\u001b[mtimed termination at 3180.0 for action_charge\u001b[0m\n"
     ]
    },
    {
     "name": "stderr",
     "output_type": "stream",
     "text": [
      "\u001b[90;3m2024-07-24 14:34:50,962 \u001b[0m\u001b[mdata.base                      \u001b[0m\u001b[mINFO       \u001b[0m\u001b[33m<3180.00> \u001b[0m\u001b[mData reward: {'EO1': 0.0}\u001b[0m\n"
     ]
    },
    {
     "name": "stderr",
     "output_type": "stream",
     "text": [
      "\u001b[90;3m2024-07-24 14:34:50,962 \u001b[0m\u001b[mgym                            \u001b[0m\u001b[mINFO       \u001b[0m\u001b[33m<3180.00> \u001b[0m\u001b[mSatellites requiring retasking: ['EO1']\u001b[0m\n"
     ]
    },
    {
     "name": "stderr",
     "output_type": "stream",
     "text": [
      "\u001b[90;3m2024-07-24 14:34:50,963 \u001b[0m\u001b[mgym                            \u001b[0m\u001b[mINFO       \u001b[0m\u001b[33m<3180.00> \u001b[0m\u001b[mStep reward: 0.0\u001b[0m\n"
     ]
    },
    {
     "name": "stderr",
     "output_type": "stream",
     "text": [
      "\u001b[90;3m2024-07-24 14:34:50,963 \u001b[0m\u001b[mgym                            \u001b[0m\u001b[mINFO       \u001b[0m\u001b[33m<3180.00> \u001b[0m\u001b[93;1m=== STARTING STEP ===\u001b[0m\n"
     ]
    },
    {
     "name": "stderr",
     "output_type": "stream",
     "text": [
      "\u001b[90;3m2024-07-24 14:34:50,963 \u001b[0m\u001b[36msats.satellite.EO1             \u001b[0m\u001b[mINFO       \u001b[0m\u001b[33m<3180.00> \u001b[0m\u001b[36mEO1: \u001b[0m\u001b[maction_charge tasked for 600.0 seconds\u001b[0m\n"
     ]
    },
    {
     "name": "stderr",
     "output_type": "stream",
     "text": [
      "\u001b[90;3m2024-07-24 14:34:50,963 \u001b[0m\u001b[36msats.satellite.EO1             \u001b[0m\u001b[mINFO       \u001b[0m\u001b[33m<3180.00> \u001b[0m\u001b[36mEO1: \u001b[0m\u001b[msetting timed terminal event at 3780.0\u001b[0m\n"
     ]
    },
    {
     "name": "stderr",
     "output_type": "stream",
     "text": [
      "\u001b[90;3m2024-07-24 14:34:50,994 \u001b[0m\u001b[36msats.satellite.EO1             \u001b[0m\u001b[mINFO       \u001b[0m\u001b[33m<3780.00> \u001b[0m\u001b[36mEO1: \u001b[0m\u001b[mtimed termination at 3780.0 for action_charge\u001b[0m\n"
     ]
    },
    {
     "name": "stderr",
     "output_type": "stream",
     "text": [
      "\u001b[90;3m2024-07-24 14:34:50,995 \u001b[0m\u001b[mdata.base                      \u001b[0m\u001b[mINFO       \u001b[0m\u001b[33m<3780.00> \u001b[0m\u001b[mData reward: {'EO1': 0.0}\u001b[0m\n"
     ]
    },
    {
     "name": "stderr",
     "output_type": "stream",
     "text": [
      "\u001b[90;3m2024-07-24 14:34:50,995 \u001b[0m\u001b[mgym                            \u001b[0m\u001b[mINFO       \u001b[0m\u001b[33m<3780.00> \u001b[0m\u001b[mSatellites requiring retasking: ['EO1']\u001b[0m\n"
     ]
    },
    {
     "name": "stderr",
     "output_type": "stream",
     "text": [
      "\u001b[90;3m2024-07-24 14:34:50,995 \u001b[0m\u001b[mgym                            \u001b[0m\u001b[mINFO       \u001b[0m\u001b[33m<3780.00> \u001b[0m\u001b[mStep reward: 0.0\u001b[0m\n"
     ]
    },
    {
     "name": "stderr",
     "output_type": "stream",
     "text": [
      "\u001b[90;3m2024-07-24 14:34:50,996 \u001b[0m\u001b[mgym                            \u001b[0m\u001b[mINFO       \u001b[0m\u001b[33m<3780.00> \u001b[0m\u001b[93;1m=== STARTING STEP ===\u001b[0m\n"
     ]
    },
    {
     "name": "stderr",
     "output_type": "stream",
     "text": [
      "\u001b[90;3m2024-07-24 14:34:50,996 \u001b[0m\u001b[36msats.satellite.EO1             \u001b[0m\u001b[mINFO       \u001b[0m\u001b[33m<3780.00> \u001b[0m\u001b[36mEO1: \u001b[0m\u001b[maction_charge tasked for 600.0 seconds\u001b[0m\n"
     ]
    },
    {
     "name": "stderr",
     "output_type": "stream",
     "text": [
      "\u001b[90;3m2024-07-24 14:34:50,996 \u001b[0m\u001b[36msats.satellite.EO1             \u001b[0m\u001b[mINFO       \u001b[0m\u001b[33m<3780.00> \u001b[0m\u001b[36mEO1: \u001b[0m\u001b[msetting timed terminal event at 4380.0\u001b[0m\n"
     ]
    },
    {
     "name": "stderr",
     "output_type": "stream",
     "text": [
      "\u001b[90;3m2024-07-24 14:34:51,027 \u001b[0m\u001b[36msats.satellite.EO1             \u001b[0m\u001b[mINFO       \u001b[0m\u001b[33m<4380.00> \u001b[0m\u001b[36mEO1: \u001b[0m\u001b[mtimed termination at 4380.0 for action_charge\u001b[0m\n"
     ]
    },
    {
     "name": "stdout",
     "output_type": "stream",
     "text": [
      "Charge level: 0.175 (2580.0 seconds)\n",
      "\tEclipse: start: 3540.0 end: 5670.0\n",
      "Charge level: 0.763 (3180.0 seconds)\n",
      "\tEclipse: start: 2940.0 end: 5070.0\n",
      "Charge level: 1.000 (3780.0 seconds)\n",
      "\tEclipse: start: 2340.0 end: 4470.0\n"
     ]
    },
    {
     "name": "stderr",
     "output_type": "stream",
     "text": [
      "\u001b[90;3m2024-07-24 14:34:51,028 \u001b[0m\u001b[mdata.base                      \u001b[0m\u001b[mINFO       \u001b[0m\u001b[33m<4380.00> \u001b[0m\u001b[mData reward: {'EO1': 0.0}\u001b[0m\n"
     ]
    },
    {
     "name": "stderr",
     "output_type": "stream",
     "text": [
      "\u001b[90;3m2024-07-24 14:34:51,028 \u001b[0m\u001b[mgym                            \u001b[0m\u001b[mINFO       \u001b[0m\u001b[33m<4380.00> \u001b[0m\u001b[mSatellites requiring retasking: ['EO1']\u001b[0m\n"
     ]
    },
    {
     "name": "stderr",
     "output_type": "stream",
     "text": [
      "\u001b[90;3m2024-07-24 14:34:51,029 \u001b[0m\u001b[mgym                            \u001b[0m\u001b[mINFO       \u001b[0m\u001b[33m<4380.00> \u001b[0m\u001b[mStep reward: 0.0\u001b[0m\n"
     ]
    },
    {
     "name": "stderr",
     "output_type": "stream",
     "text": [
      "\u001b[90;3m2024-07-24 14:34:51,029 \u001b[0m\u001b[mgym                            \u001b[0m\u001b[mINFO       \u001b[0m\u001b[33m<4380.00> \u001b[0m\u001b[93;1m=== STARTING STEP ===\u001b[0m\n"
     ]
    },
    {
     "name": "stderr",
     "output_type": "stream",
     "text": [
      "\u001b[90;3m2024-07-24 14:34:51,029 \u001b[0m\u001b[36msats.satellite.EO1             \u001b[0m\u001b[mINFO       \u001b[0m\u001b[33m<4380.00> \u001b[0m\u001b[36mEO1: \u001b[0m\u001b[maction_charge tasked for 600.0 seconds\u001b[0m\n"
     ]
    },
    {
     "name": "stderr",
     "output_type": "stream",
     "text": [
      "\u001b[90;3m2024-07-24 14:34:51,029 \u001b[0m\u001b[36msats.satellite.EO1             \u001b[0m\u001b[mINFO       \u001b[0m\u001b[33m<4380.00> \u001b[0m\u001b[36mEO1: \u001b[0m\u001b[msetting timed terminal event at 4980.0\u001b[0m\n"
     ]
    },
    {
     "name": "stderr",
     "output_type": "stream",
     "text": [
      "\u001b[90;3m2024-07-24 14:34:51,060 \u001b[0m\u001b[36msats.satellite.EO1             \u001b[0m\u001b[mINFO       \u001b[0m\u001b[33m<4980.00> \u001b[0m\u001b[36mEO1: \u001b[0m\u001b[mtimed termination at 4980.0 for action_charge\u001b[0m\n"
     ]
    },
    {
     "name": "stderr",
     "output_type": "stream",
     "text": [
      "\u001b[90;3m2024-07-24 14:34:51,061 \u001b[0m\u001b[mdata.base                      \u001b[0m\u001b[mINFO       \u001b[0m\u001b[33m<4980.00> \u001b[0m\u001b[mData reward: {'EO1': 0.0}\u001b[0m\n"
     ]
    },
    {
     "name": "stderr",
     "output_type": "stream",
     "text": [
      "\u001b[90;3m2024-07-24 14:34:51,061 \u001b[0m\u001b[mgym                            \u001b[0m\u001b[mINFO       \u001b[0m\u001b[33m<4980.00> \u001b[0m\u001b[mSatellites requiring retasking: ['EO1']\u001b[0m\n"
     ]
    },
    {
     "name": "stderr",
     "output_type": "stream",
     "text": [
      "\u001b[90;3m2024-07-24 14:34:51,061 \u001b[0m\u001b[mgym                            \u001b[0m\u001b[mINFO       \u001b[0m\u001b[33m<4980.00> \u001b[0m\u001b[mStep reward: 0.0\u001b[0m\n"
     ]
    },
    {
     "name": "stderr",
     "output_type": "stream",
     "text": [
      "\u001b[90;3m2024-07-24 14:34:51,062 \u001b[0m\u001b[mgym                            \u001b[0m\u001b[mINFO       \u001b[0m\u001b[33m<4980.00> \u001b[0m\u001b[93;1m=== STARTING STEP ===\u001b[0m\n"
     ]
    },
    {
     "name": "stderr",
     "output_type": "stream",
     "text": [
      "\u001b[90;3m2024-07-24 14:34:51,062 \u001b[0m\u001b[36msats.satellite.EO1             \u001b[0m\u001b[mINFO       \u001b[0m\u001b[33m<4980.00> \u001b[0m\u001b[36mEO1: \u001b[0m\u001b[maction_charge tasked for 600.0 seconds\u001b[0m\n"
     ]
    },
    {
     "name": "stderr",
     "output_type": "stream",
     "text": [
      "\u001b[90;3m2024-07-24 14:34:51,062 \u001b[0m\u001b[36msats.satellite.EO1             \u001b[0m\u001b[mINFO       \u001b[0m\u001b[33m<4980.00> \u001b[0m\u001b[36mEO1: \u001b[0m\u001b[msetting timed terminal event at 5580.0\u001b[0m\n"
     ]
    },
    {
     "name": "stderr",
     "output_type": "stream",
     "text": [
      "\u001b[90;3m2024-07-24 14:34:51,093 \u001b[0m\u001b[36msats.satellite.EO1             \u001b[0m\u001b[mINFO       \u001b[0m\u001b[33m<5580.00> \u001b[0m\u001b[36mEO1: \u001b[0m\u001b[mtimed termination at 5580.0 for action_charge\u001b[0m\n"
     ]
    },
    {
     "name": "stderr",
     "output_type": "stream",
     "text": [
      "\u001b[90;3m2024-07-24 14:34:51,093 \u001b[0m\u001b[mdata.base                      \u001b[0m\u001b[mINFO       \u001b[0m\u001b[33m<5580.00> \u001b[0m\u001b[mData reward: {'EO1': 0.0}\u001b[0m\n"
     ]
    },
    {
     "name": "stderr",
     "output_type": "stream",
     "text": [
      "\u001b[90;3m2024-07-24 14:34:51,094 \u001b[0m\u001b[mgym                            \u001b[0m\u001b[mINFO       \u001b[0m\u001b[33m<5580.00> \u001b[0m\u001b[mSatellites requiring retasking: ['EO1']\u001b[0m\n"
     ]
    },
    {
     "name": "stderr",
     "output_type": "stream",
     "text": [
      "\u001b[90;3m2024-07-24 14:34:51,094 \u001b[0m\u001b[mgym                            \u001b[0m\u001b[mINFO       \u001b[0m\u001b[33m<5580.00> \u001b[0m\u001b[mStep reward: 0.0\u001b[0m\n"
     ]
    },
    {
     "name": "stderr",
     "output_type": "stream",
     "text": [
      "\u001b[90;3m2024-07-24 14:34:51,094 \u001b[0m\u001b[mgym                            \u001b[0m\u001b[mINFO       \u001b[0m\u001b[33m<5580.00> \u001b[0m\u001b[93;1m=== STARTING STEP ===\u001b[0m\n"
     ]
    },
    {
     "name": "stderr",
     "output_type": "stream",
     "text": [
      "\u001b[90;3m2024-07-24 14:34:51,095 \u001b[0m\u001b[36msats.satellite.EO1             \u001b[0m\u001b[mINFO       \u001b[0m\u001b[33m<5580.00> \u001b[0m\u001b[36mEO1: \u001b[0m\u001b[maction_charge tasked for 600.0 seconds\u001b[0m\n"
     ]
    },
    {
     "name": "stderr",
     "output_type": "stream",
     "text": [
      "\u001b[90;3m2024-07-24 14:34:51,095 \u001b[0m\u001b[36msats.satellite.EO1             \u001b[0m\u001b[mINFO       \u001b[0m\u001b[33m<5580.00> \u001b[0m\u001b[36mEO1: \u001b[0m\u001b[msetting timed terminal event at 6180.0\u001b[0m\n"
     ]
    },
    {
     "name": "stderr",
     "output_type": "stream",
     "text": [
      "\u001b[90;3m2024-07-24 14:34:51,101 \u001b[0m\u001b[mdata.base                      \u001b[0m\u001b[mINFO       \u001b[0m\u001b[33m<5700.00> \u001b[0m\u001b[mData reward: {'EO1': 0.0}\u001b[0m\n"
     ]
    },
    {
     "name": "stderr",
     "output_type": "stream",
     "text": [
      "\u001b[90;3m2024-07-24 14:34:51,102 \u001b[0m\u001b[mgym                            \u001b[0m\u001b[mINFO       \u001b[0m\u001b[33m<5700.00> \u001b[0m\u001b[mStep reward: 0.0\u001b[0m\n"
     ]
    },
    {
     "name": "stderr",
     "output_type": "stream",
     "text": [
      "\u001b[90;3m2024-07-24 14:34:51,102 \u001b[0m\u001b[mgym                            \u001b[0m\u001b[mINFO       \u001b[0m\u001b[33m<5700.00> \u001b[0m\u001b[mEpisode terminated: False\u001b[0m\n"
     ]
    },
    {
     "name": "stderr",
     "output_type": "stream",
     "text": [
      "\u001b[90;3m2024-07-24 14:34:51,102 \u001b[0m\u001b[mgym                            \u001b[0m\u001b[mINFO       \u001b[0m\u001b[33m<5700.00> \u001b[0m\u001b[mEpisode truncated: True\u001b[0m\n"
     ]
    },
    {
     "name": "stdout",
     "output_type": "stream",
     "text": [
      "Charge level: 1.000 (4380.0 seconds)\n",
      "\tEclipse: start: 1740.0 end: 3870.0\n",
      "Charge level: 1.000 (4980.0 seconds)\n",
      "\tEclipse: start: 1140.0 end: 3270.0\n",
      "Charge level: 1.000 (5580.0 seconds)\n",
      "\tEclipse: start: 540.0 end: 2670.0\n",
      "Charge level: 1.000 (5700.0 seconds)\n",
      "\tEclipse: start: 420.0 end: 2550.0\n"
     ]
    }
   ],
   "source": [
    "while not truncated:\n",
    "    observation, reward, terminated, truncated, info = env.step(action=1)\n",
    "    print(f\"Charge level: {observation[1]:.3f} ({env.unwrapped.simulator.sim_time:.1f} seconds)\\n\\tEclipse: start: {observation[2]:.1f} end: {observation[3]:.1f}\")"
   ]
  },
  {
   "cell_type": "markdown",
   "metadata": {},
   "source": [
    "It is observed that the battery decrease while the satellite is in eclipse, but once the\n",
    "satellite is out of eclipse, the battery quickly increases to full charge."
   ]
  }
 ],
 "metadata": {
  "kernelspec": {
   "display_name": ".venv_refactor",
   "language": "python",
   "name": "python3"
  },
  "language_info": {
   "codemirror_mode": {
    "name": "ipython",
    "version": 3
   },
   "file_extension": ".py",
   "mimetype": "text/x-python",
   "name": "python",
   "nbconvert_exporter": "python",
   "pygments_lexer": "ipython3",
   "version": "3.10.11"
  }
 },
 "nbformat": 4,
 "nbformat_minor": 2
}
