{
 "cells": [
  {
   "cell_type": "markdown",
   "metadata": {},
   "source": [
    "# Training with RLlib PPO\n",
    "[RLlib](https://docs.ray.io/en/latest/rllib/index.html) is a high-performance, distributed\n",
    "reinforcement learning library. It is preferable to other RL libraries (e.g. Stable Baselines\n",
    "3) for `bsk_rl` environments because it steps environments copies asynchronously; because \n",
    "of the variable step lengths, variable episode step counts, and long episode reset times, \n",
    "stepping each environment independently can increase step throughput by 2-5 times.\n",
    "\n",
    "<div class=\"alert alert-warning\">\n",
    "\n",
    "**Warning:** RLlib currently has a bug that results in an undesirable timeout which stops\n",
    "training. Check here to see if it has been resolved: https://github.com/ray-project/ray/pull/45147\n",
    "\n",
    "</div>\n",
    "\n",
    "\n",
    "## Define the Environment\n",
    "A nadir-scanning environment is created, to the one used in [this paper](https://hanspeterschaub.info/Papers/Stephenson2024.pdf). \n",
    "The satellite has to collect data while managing the data buffer level and battery level.\n",
    "\n",
    "First, the satellite class is defined. A custom dynamics model is created that defines\n",
    "a few additional properties to use in the state."
   ]
  },
  {
   "cell_type": "code",
   "execution_count": 1,
   "metadata": {
    "execution": {
     "iopub.execute_input": "2024-07-15T20:46:14.935238Z",
     "iopub.status.busy": "2024-07-15T20:46:14.935040Z",
     "iopub.status.idle": "2024-07-15T20:46:15.835880Z",
     "shell.execute_reply": "2024-07-15T20:46:15.835520Z"
    }
   },
   "outputs": [],
   "source": [
    "import numpy as np\n",
    "from bsk_rl import act, data, obs, sats, scene\n",
    "from bsk_rl.sim import dyn, fsw\n",
    "\n",
    "class ScanningDownlinkDynModel(dyn.ContinuousImagingDynModel, dyn.GroundStationDynModel):\n",
    "    # Define some custom properties to be accessed in the state\n",
    "    @property\n",
    "    def instrument_pointing_error(self) -> float:\n",
    "        r_BN_P_unit = self.r_BN_P/np.linalg.norm(self.r_BN_P) \n",
    "        c_hat_P = self.satellite.fsw.c_hat_P\n",
    "        return np.arccos(np.dot(-r_BN_P_unit, c_hat_P))\n",
    "    \n",
    "    @property\n",
    "    def solar_pointing_error(self) -> float:\n",
    "        a = self.world.gravFactory.spiceObject.planetStateOutMsgs[\n",
    "            self.world.sun_index\n",
    "        ].read().PositionVector\n",
    "        a_hat_N = a / np.linalg.norm(a)\n",
    "        nHat_B = self.satellite.sat_args[\"nHat_B\"]\n",
    "        NB = np.transpose(self.BN)\n",
    "        nHat_N = NB @ nHat_B\n",
    "        return np.arccos(np.dot(nHat_N, a_hat_N))\n",
    "\n",
    "class ScanningSatellite(sats.AccessSatellite):\n",
    "    observation_spec = [\n",
    "        obs.SatProperties(\n",
    "            dict(prop=\"storage_level_fraction\"),\n",
    "            dict(prop=\"battery_charge_fraction\"),\n",
    "            dict(prop=\"wheel_speeds_fraction\"),\n",
    "            dict(prop=\"instrument_pointing_error\", norm=np.pi),\n",
    "            dict(prop=\"solar_pointing_error\", norm=np.pi)\n",
    "        ),\n",
    "        obs.Eclipse(),\n",
    "        obs.OpportunityProperties(\n",
    "            dict(prop=\"opportunity_open\", norm=5700),\n",
    "            dict(prop=\"opportunity_close\", norm=5700),\n",
    "            type=\"ground_station\",\n",
    "            n_ahead_observe=1,\n",
    "        ),\n",
    "        obs.Time(),\n",
    "    ]\n",
    "    action_spec = [\n",
    "        act.Scan(duration=180.0),\n",
    "        act.Charge(duration=180.0),\n",
    "        act.Downlink(duration=60.0),\n",
    "        act.Desat(duration=60.0),\n",
    "    ]\n",
    "    dyn_type = ScanningDownlinkDynModel\n",
    "    fsw_type = fsw.ContinuousImagingFSWModel"
   ]
  },
  {
   "cell_type": "markdown",
   "metadata": {},
   "source": [
    "Next, parameters are set. Since this scenario is focused on maintaining acceptable data\n",
    "and power levels, these are tuned to create a sufficiently interesting mission."
   ]
  },
  {
   "cell_type": "code",
   "execution_count": 2,
   "metadata": {
    "execution": {
     "iopub.execute_input": "2024-07-15T20:46:15.837667Z",
     "iopub.status.busy": "2024-07-15T20:46:15.837522Z",
     "iopub.status.idle": "2024-07-15T20:46:15.840646Z",
     "shell.execute_reply": "2024-07-15T20:46:15.840439Z"
    }
   },
   "outputs": [],
   "source": [
    "sat = ScanningSatellite(\n",
    "    \"Scanner-1\",\n",
    "    sat_args=dict(\n",
    "        # Data\n",
    "        dataStorageCapacity=5000 * 8e6,  # MB to bits\n",
    "        storageInit=lambda: np.random.uniform(0, 5000 * 8e6),\n",
    "        instrumentBaudRate=0.5e6,\n",
    "        transmitterBaudRate=-112e6,\n",
    "        # Power\n",
    "        batteryStorageCapacity=400 * 3600,  # Wh to W*s\n",
    "        storedCharge_Init=lambda: np.random.uniform(400 * 3600 * 0.2, 400 * 3600 * 0.8),\n",
    "        basePowerDraw=-10.0,\n",
    "        instrumentPowerDraw=-30.0,\n",
    "        transmitterPowerDraw=-25.0,\n",
    "        thrusterPowerDraw=-80.0,\n",
    "        # Attitude\n",
    "        imageAttErrorRequirement=0.1,\n",
    "        imageRateErrorRequirement=0.1,\n",
    "        disturbance_vector=lambda: np.random.normal(scale=0.0001, size=3),\n",
    "        maxWheelSpeed=6000.0,  # RPM\n",
    "        wheelSpeeds=lambda: np.random.uniform(-3000, 3000, 3),\n",
    "        desatAttitude=\"nadir\",\n",
    "        nHat_B=np.array([0, 0, -1]),  # Solar panel orientation\n",
    "    )\n",
    ")"
   ]
  },
  {
   "cell_type": "markdown",
   "metadata": {},
   "source": [
    "Finally, the environment arguments are set. Stepping through this environment is \n",
    "demonstrated at the bottom of the page."
   ]
  },
  {
   "cell_type": "code",
   "execution_count": 3,
   "metadata": {
    "execution": {
     "iopub.execute_input": "2024-07-15T20:46:15.841890Z",
     "iopub.status.busy": "2024-07-15T20:46:15.841801Z",
     "iopub.status.idle": "2024-07-15T20:46:15.843532Z",
     "shell.execute_reply": "2024-07-15T20:46:15.843327Z"
    }
   },
   "outputs": [],
   "source": [
    "duration = 2 * 5700.0  # About 2 orbits\n",
    "env_args = dict(\n",
    "    satellite=sat,\n",
    "    scenario=scene.UniformNadirScanning(value_per_second=1/duration),\n",
    "    rewarder=data.ScanningTimeReward(),\n",
    "    time_limit=duration,\n",
    "    failure_penalty=-1.0,\n",
    "    terminate_on_time_limit=True,\n",
    ")"
   ]
  },
  {
   "cell_type": "markdown",
   "metadata": {},
   "source": [
    "## Configure Ray and PPO\n",
    "\n",
    "The `bsk_rl` package supplies a utility to make logging information at the end of episodes\n",
    "easier. This is useful to see how an agent's policy is changing over time, using a\n",
    "monitoring program such as [TensorBoard](https://www.tensorflow.org/tensorboard)."
   ]
  },
  {
   "cell_type": "code",
   "execution_count": 4,
   "metadata": {
    "execution": {
     "iopub.execute_input": "2024-07-15T20:46:15.844793Z",
     "iopub.status.busy": "2024-07-15T20:46:15.844701Z",
     "iopub.status.idle": "2024-07-15T20:46:22.258975Z",
     "shell.execute_reply": "2024-07-15T20:46:22.258695Z"
    }
   },
   "outputs": [],
   "source": [
    "from bsk_rl.utils.rllib import EpisodeDataCallbacks\n",
    "\n",
    "class CustomDataCallbacks(EpisodeDataCallbacks):\n",
    "    def pull_env_metrics(self, env):\n",
    "        reward = env.rewarder.cum_reward\n",
    "        reward = sum(reward.values()) / len(reward)\n",
    "        orbits = env.simulator.sim_time / (95 * 60)\n",
    "\n",
    "        data = dict(\n",
    "            reward=reward,\n",
    "            # Are satellites dying, and how and when?\n",
    "            alive=float(env.satellite.is_alive()),\n",
    "            rw_status_valid=float(env.satellite.dynamics.rw_speeds_valid()),\n",
    "            battery_status_valid=float(env.satellite.dynamics.battery_valid()),\n",
    "            orbits_complete=orbits,\n",
    "        )\n",
    "        if orbits > 0:\n",
    "            data[\"reward_per_orbit\"] = reward / orbits\n",
    "        if not env.satellite.is_alive():\n",
    "            data[\"orbits_complete_partial_only\"] = orbits\n",
    "            \n",
    "        return  data"
   ]
  },
  {
   "cell_type": "markdown",
   "metadata": {},
   "source": [
    "Then, PPO (or some other algorithm) can be configured. Of particular importance\n",
    "are setting `sample_timeout_s` and `metrics_episode_collection_timeout_s` to appropriately\n",
    "high values for this environment."
   ]
  },
  {
   "cell_type": "code",
   "execution_count": 5,
   "metadata": {
    "execution": {
     "iopub.execute_input": "2024-07-15T20:46:22.260836Z",
     "iopub.status.busy": "2024-07-15T20:46:22.260619Z",
     "iopub.status.idle": "2024-07-15T20:46:22.264009Z",
     "shell.execute_reply": "2024-07-15T20:46:22.263777Z"
    }
   },
   "outputs": [],
   "source": [
    "from bsk_rl import SatelliteTasking\n",
    "from bsk_rl.utils.rllib import unpack_config\n",
    "from ray.rllib.algorithms.ppo import PPOConfig\n",
    "\n",
    "training_args = dict(\n",
    "    lr=0.00003,\n",
    "    gamma=0.999,\n",
    "    train_batch_size=250,  # In practice, usually a bigger number\n",
    "    num_sgd_iter=10,\n",
    "    model=dict(fcnet_hiddens=[512, 512], vf_share_layers=False),\n",
    "    lambda_=0.95,\n",
    "    use_kl_loss=False,\n",
    "    clip_param=0.1,\n",
    "    grad_clip=0.5,\n",
    ")\n",
    "\n",
    "config = (\n",
    "    PPOConfig()\n",
    "    .training(**training_args)\n",
    "    .env_runners(num_env_runners=2, sample_timeout_s=1000.0)\n",
    "    .environment(\n",
    "        env=unpack_config(SatelliteTasking),\n",
    "        env_config=env_args,\n",
    "    )\n",
    "    .callbacks(CustomDataCallbacks)\n",
    "    .reporting(\n",
    "        metrics_num_episodes_for_smoothing=1,\n",
    "        metrics_episode_collection_timeout_s=180,\n",
    "    )\n",
    "    .checkpointing(export_native_model_files=True)\n",
    "    .framework(framework=\"tf2\")\n",
    "    # Uncomment these lines if using the new RLlib API stack\n",
    "    # .framework(framework=\"torch\")\n",
    "    # .api_stack(\n",
    "    #     enable_rl_module_and_learner=True,\n",
    "    #     enable_env_runner_and_connector_v2=True,\n",
    "    # )\n",
    "\n",
    ")"
   ]
  },
  {
   "cell_type": "markdown",
   "metadata": {},
   "source": [
    "Once the PPO configuration has been set, `ray` can be started and the agent can be\n",
    "trained.\n",
    "\n",
    "Training on a reasonably modern machine, we can achieve 5M steps over 32 processors in 6\n",
    "to 18 hours, depending on specific environment configurations."
   ]
  },
  {
   "cell_type": "code",
   "execution_count": 6,
   "metadata": {
    "execution": {
     "iopub.execute_input": "2024-07-15T20:46:22.265297Z",
     "iopub.status.busy": "2024-07-15T20:46:22.265206Z",
     "iopub.status.idle": "2024-07-15T20:46:54.383760Z",
     "shell.execute_reply": "2024-07-15T20:46:54.382947Z"
    }
   },
   "outputs": [
    {
     "name": "stderr",
     "output_type": "stream",
     "text": [
      "2024-07-15 13:46:23,931\tINFO worker.py:1788 -- Started a local Ray instance.\n"
     ]
    },
    {
     "name": "stderr",
     "output_type": "stream",
     "text": [
      "2024-07-15 13:46:24,222\tINFO tune.py:616 -- [output] This uses the legacy output and progress reporter, as Jupyter notebooks are not supported by the new engine, yet. For more information, please see https://github.com/ray-project/ray/issues/36949\n"
     ]
    },
    {
     "name": "stderr",
     "output_type": "stream",
     "text": [
      "/Users/markstephenson/avslab/refactor/.venv_refactor/lib/python3.10/site-packages/gymnasium/spaces/box.py:130: UserWarning: \u001b[33mWARN: Box bound precision lowered by casting to float32\u001b[0m\n",
      "  gym.logger.warn(f\"Box bound precision lowered by casting to {self.dtype}\")\n",
      "/Users/markstephenson/avslab/refactor/.venv_refactor/lib/python3.10/site-packages/gymnasium/utils/passive_env_checker.py:164: UserWarning: \u001b[33mWARN: The obs returned by the `reset()` method was expecting numpy array dtype to be float32, actual type: float64\u001b[0m\n",
      "  logger.warn(\n",
      "/Users/markstephenson/avslab/refactor/.venv_refactor/lib/python3.10/site-packages/gymnasium/utils/passive_env_checker.py:188: UserWarning: \u001b[33mWARN: The obs returned by the `reset()` method is not within the observation space.\u001b[0m\n",
      "  logger.warn(f\"{pre} is not within the observation space.\")\n"
     ]
    },
    {
     "data": {
      "text/html": [
       "<div class=\"tuneStatus\">\n",
       "  <div style=\"display: flex;flex-direction: row\">\n",
       "    <div style=\"display: flex;flex-direction: column;\">\n",
       "      <h3>Tune Status</h3>\n",
       "      <table>\n",
       "<tbody>\n",
       "<tr><td>Current time:</td><td>2024-07-15 13:46:52</td></tr>\n",
       "<tr><td>Running for: </td><td>00:00:28.12        </td></tr>\n",
       "<tr><td>Memory:      </td><td>13.5/16.0 GiB      </td></tr>\n",
       "</tbody>\n",
       "</table>\n",
       "    </div>\n",
       "    <div class=\"vDivider\"></div>\n",
       "    <div class=\"systemInfo\">\n",
       "      <h3>System Info</h3>\n",
       "      Using FIFO scheduling algorithm.<br>Logical resource usage: 3.0/3 CPUs, 0/0 GPUs\n",
       "    </div>\n",
       "    \n",
       "  </div>\n",
       "  <div class=\"hDivider\"></div>\n",
       "  <div class=\"trialStatus\">\n",
       "    <h3>Trial Status</h3>\n",
       "    <table>\n",
       "<thead>\n",
       "<tr><th>Trial name                               </th><th>status    </th><th>loc            </th><th style=\"text-align: right;\">  iter</th><th style=\"text-align: right;\">  total time (s)</th><th style=\"text-align: right;\">  ts</th><th style=\"text-align: right;\">  num_healthy_workers</th><th style=\"text-align: right;\">  num_in_flight_async_\n",
       "sample_reqs</th><th style=\"text-align: right;\">  num_remote_worker_re\n",
       "starts</th></tr>\n",
       "</thead>\n",
       "<tbody>\n",
       "<tr><td>PPO_SatelliteTasking_Unpacked_4ca59_00000</td><td>TERMINATED</td><td>127.0.0.1:77808</td><td style=\"text-align: right;\">    10</td><td style=\"text-align: right;\">         18.9437</td><td style=\"text-align: right;\">2500</td><td style=\"text-align: right;\">                    2</td><td style=\"text-align: right;\">0</td><td style=\"text-align: right;\">0</td></tr>\n",
       "</tbody>\n",
       "</table>\n",
       "  </div>\n",
       "</div>\n",
       "<style>\n",
       ".tuneStatus {\n",
       "  color: var(--jp-ui-font-color1);\n",
       "}\n",
       ".tuneStatus .systemInfo {\n",
       "  display: flex;\n",
       "  flex-direction: column;\n",
       "}\n",
       ".tuneStatus td {\n",
       "  white-space: nowrap;\n",
       "}\n",
       ".tuneStatus .trialStatus {\n",
       "  display: flex;\n",
       "  flex-direction: column;\n",
       "}\n",
       ".tuneStatus h3 {\n",
       "  font-weight: bold;\n",
       "}\n",
       ".tuneStatus .hDivider {\n",
       "  border-bottom-width: var(--jp-border-width);\n",
       "  border-bottom-color: var(--jp-border-color0);\n",
       "  border-bottom-style: solid;\n",
       "}\n",
       ".tuneStatus .vDivider {\n",
       "  border-left-width: var(--jp-border-width);\n",
       "  border-left-color: var(--jp-border-color0);\n",
       "  border-left-style: solid;\n",
       "  margin: 0.5em 1em 0.5em 1em;\n",
       "}\n",
       "</style>\n"
      ],
      "text/plain": [
       "<IPython.core.display.HTML object>"
      ]
     },
     "metadata": {},
     "output_type": "display_data"
    },
    {
     "name": "stderr",
     "output_type": "stream",
     "text": [
      "2024-07-15 13:46:24,257\tWARNING deprecation.py:50 -- DeprecationWarning: `AlgorithmConfig.num_cpus_per_worker` has been deprecated. Use `AlgorithmConfig.num_cpus_per_env_runner` instead. This will raise an error in the future!\n"
     ]
    },
    {
     "name": "stderr",
     "output_type": "stream",
     "text": [
      "2024-07-15 13:46:24,257\tWARNING deprecation.py:50 -- DeprecationWarning: `AlgorithmConfig.num_gpus_per_worker` has been deprecated. Use `AlgorithmConfig.num_gpus_per_env_runner` instead. This will raise an error in the future!\n"
     ]
    },
    {
     "name": "stderr",
     "output_type": "stream",
     "text": [
      "2024-07-15 13:46:24,257\tWARNING deprecation.py:50 -- DeprecationWarning: `AlgorithmConfig.num_learner_workers` has been deprecated. Use `AlgorithmConfig.num_learners` instead. This will raise an error in the future!\n"
     ]
    },
    {
     "name": "stderr",
     "output_type": "stream",
     "text": [
      "2024-07-15 13:46:24,257\tWARNING deprecation.py:50 -- DeprecationWarning: `AlgorithmConfig.num_cpus_per_learner_worker` has been deprecated. Use `AlgorithmConfig.num_cpus_per_learner` instead. This will raise an error in the future!\n"
     ]
    },
    {
     "name": "stderr",
     "output_type": "stream",
     "text": [
      "2024-07-15 13:46:24,258\tWARNING deprecation.py:50 -- DeprecationWarning: `AlgorithmConfig.num_gpus_per_learner_worker` has been deprecated. Use `AlgorithmConfig.num_gpus_per_learner` instead. This will raise an error in the future!\n"
     ]
    },
    {
     "name": "stderr",
     "output_type": "stream",
     "text": [
      "\u001b[36m(PPO pid=77808)\u001b[0m 2024-07-15 13:46:28,338\tWARNING deprecation.py:50 -- DeprecationWarning: `AlgorithmConfig.num_cpus_per_worker` has been deprecated. Use `AlgorithmConfig.num_cpus_per_env_runner` instead. This will raise an error in the future!\n",
      "\u001b[36m(PPO pid=77808)\u001b[0m 2024-07-15 13:46:28,338\tWARNING deprecation.py:50 -- DeprecationWarning: `AlgorithmConfig.num_gpus_per_worker` has been deprecated. Use `AlgorithmConfig.num_gpus_per_env_runner` instead. This will raise an error in the future!\n",
      "\u001b[36m(PPO pid=77808)\u001b[0m 2024-07-15 13:46:28,339\tWARNING deprecation.py:50 -- DeprecationWarning: `AlgorithmConfig.num_learner_workers` has been deprecated. Use `AlgorithmConfig.num_learners` instead. This will raise an error in the future!\n",
      "\u001b[36m(PPO pid=77808)\u001b[0m 2024-07-15 13:46:28,339\tWARNING deprecation.py:50 -- DeprecationWarning: `AlgorithmConfig.num_cpus_per_learner_worker` has been deprecated. Use `AlgorithmConfig.num_cpus_per_learner` instead. This will raise an error in the future!\n",
      "\u001b[36m(PPO pid=77808)\u001b[0m 2024-07-15 13:46:28,339\tWARNING deprecation.py:50 -- DeprecationWarning: `AlgorithmConfig.num_gpus_per_learner_worker` has been deprecated. Use `AlgorithmConfig.num_gpus_per_learner` instead. This will raise an error in the future!\n"
     ]
    },
    {
     "name": "stderr",
     "output_type": "stream",
     "text": [
      "\u001b[36m(PPO pid=77808)\u001b[0m Install gputil for GPU system monitoring.\n"
     ]
    },
    {
     "name": "stderr",
     "output_type": "stream",
     "text": [
      "\u001b[36m(PPO pid=77808)\u001b[0m 2024-07-15 13:46:34,817\tWARNING deprecation.py:50 -- DeprecationWarning: `_get_slice_indices` has been deprecated. This will raise an error in the future!\n",
      "\u001b[36m(PPO pid=77808)\u001b[0m 2024-07-15 13:46:34,834\tWARNING tf_utils.py:797 -- KL divergence is non-finite, this will likely destabilize your model and the training process. Action(s) in a specific state have near-zero probability. This can happen naturally in deterministic environments where the optimal policy has zero mass for a specific action. To fix this issue, consider setting the coefficient for the KL loss term to zero or increasing policy entropy.\n",
      "\u001b[36m(PPO pid=77808)\u001b[0m 2024-07-15 13:46:34,961\tWARNING tf_utils.py:797 -- KL divergence is non-finite, this will likely destabilize your model and the training process. Action(s) in a specific state have near-zero probability. This can happen naturally in deterministic environments where the optimal policy has zero mass for a specific action. To fix this issue, consider setting the coefficient for the KL loss term to zero or increasing policy entropy.\n"
     ]
    },
    {
     "name": "stderr",
     "output_type": "stream",
     "text": [
      "\u001b[36m(PPO pid=77808)\u001b[0m 2024-07-15 13:46:35,181\tWARNING tf_utils.py:797 -- KL divergence is non-finite, this will likely destabilize your model and the training process. Action(s) in a specific state have near-zero probability. This can happen naturally in deterministic environments where the optimal policy has zero mass for a specific action. To fix this issue, consider setting the coefficient for the KL loss term to zero or increasing policy entropy.\n"
     ]
    },
    {
     "data": {
      "text/html": [
       "<div class=\"trialProgress\">\n",
       "  <h3>Trial Progress</h3>\n",
       "  <table>\n",
       "<thead>\n",
       "<tr><th>Trial name                               </th><th style=\"text-align: right;\">  agent_timesteps_total</th><th>counters                                                                                                                        </th><th>custom_metrics  </th><th>env_runners                                                                                                                                                                                                                                                                                                                                                                                                                                                                                                                                                                                                                                                                                                                                                                                                                                                                                                                                                                                                                                                                                                                                                                                                                                                                                                                                                                                                                                                                                                                                                                                                                                                                                                                                                                                                                                                                                                       </th><th>episode_media  </th><th style=\"text-align: right;\">    fps</th><th>info                                                                                                                                                                                                                                                                                                                                                                                                                                                                                                                                                                                         </th><th style=\"text-align: right;\">  num_agent_steps_sampled</th><th style=\"text-align: right;\">  num_agent_steps_sampled_lifetime</th><th style=\"text-align: right;\">  num_agent_steps_trained</th><th style=\"text-align: right;\">  num_env_steps_sampled</th><th style=\"text-align: right;\">  num_env_steps_sampled_lifetime</th><th style=\"text-align: right;\">  num_env_steps_sampled_this_iter</th><th style=\"text-align: right;\">  num_env_steps_sampled_throughput_per_sec</th><th style=\"text-align: right;\">  num_env_steps_trained</th><th style=\"text-align: right;\">  num_env_steps_trained_this_iter</th><th style=\"text-align: right;\">  num_env_steps_trained_throughput_per_sec</th><th style=\"text-align: right;\">  num_healthy_workers</th><th style=\"text-align: right;\">  num_in_flight_async_sample_reqs</th><th style=\"text-align: right;\">  num_remote_worker_restarts</th><th style=\"text-align: right;\">  num_steps_trained_this_iter</th><th>perf                                                                           </th><th>timers                                                                                                                                                                                                                         </th></tr>\n",
       "</thead>\n",
       "<tbody>\n",
       "<tr><td>PPO_SatelliteTasking_Unpacked_4ca59_00000</td><td style=\"text-align: right;\">                   2500</td><td>{&#x27;num_env_steps_sampled&#x27;: 2500, &#x27;num_env_steps_trained&#x27;: 2500, &#x27;num_agent_steps_sampled&#x27;: 2500, &#x27;num_agent_steps_trained&#x27;: 2500}</td><td>{}              </td><td>{&#x27;episode_reward_max&#x27;: 0.6009649122807019, &#x27;episode_reward_min&#x27;: 0.5163157894736842, &#x27;episode_reward_mean&#x27;: 0.5635964912280702, &#x27;episode_len_mean&#x27;: 81.0, &#x27;episode_media&#x27;: {}, &#x27;episodes_timesteps_total&#x27;: 324, &#x27;policy_reward_min&#x27;: {&#x27;default_policy&#x27;: 0.5163157894736842}, &#x27;policy_reward_max&#x27;: {&#x27;default_policy&#x27;: 0.6009649122807019}, &#x27;policy_reward_mean&#x27;: {&#x27;default_policy&#x27;: 0.5635964912280702}, &#x27;custom_metrics&#x27;: {&#x27;reward_mean&#x27;: 0.5635964912280702, &#x27;reward_min&#x27;: 0.5163157894736842, &#x27;reward_max&#x27;: 0.6009649122807019, &#x27;alive_mean&#x27;: 1.0, &#x27;alive_min&#x27;: 1.0, &#x27;alive_max&#x27;: 1.0, &#x27;rw_status_valid_mean&#x27;: 1.0, &#x27;rw_status_valid_min&#x27;: 1.0, &#x27;rw_status_valid_max&#x27;: 1.0, &#x27;battery_status_valid_mean&#x27;: 1.0, &#x27;battery_status_valid_min&#x27;: 1.0, &#x27;battery_status_valid_max&#x27;: 1.0, &#x27;orbits_complete_mean&#x27;: 2.0, &#x27;orbits_complete_min&#x27;: 2.0, &#x27;orbits_complete_max&#x27;: 2.0, &#x27;reward_per_orbit_mean&#x27;: 0.2817982456140351, &#x27;reward_per_orbit_min&#x27;: 0.2581578947368421, &#x27;reward_per_orbit_max&#x27;: 0.30048245614035096}, &#x27;hist_stats&#x27;: {&#x27;episode_reward&#x27;: [0.5163157894736842, 0.5921929824561404, 0.6009649122807019, 0.5449122807017543], &#x27;episode_lengths&#x27;: [84, 80, 82, 78], &#x27;policy_default_policy_reward&#x27;: [0.5163157894736842, 0.5921929824561404, 0.6009649122807019, 0.5449122807017543]}, &#x27;sampler_perf&#x27;: {&#x27;mean_raw_obs_processing_ms&#x27;: 3.12638492416516, &#x27;mean_inference_ms&#x27;: 0.6783098149166213, &#x27;mean_action_processing_ms&#x27;: 0.04792242027301011, &#x27;mean_env_wait_ms&#x27;: 9.79938514703374, &#x27;mean_env_render_ms&#x27;: 0.0}, &#x27;num_faulty_episodes&#x27;: 0, &#x27;connector_metrics&#x27;: {&#x27;ObsPreprocessorConnector_ms&#x27;: 0.002938508987426758, &#x27;StateBufferConnector_ms&#x27;: 0.0023365020751953125, &#x27;ViewRequirementAgentConnector_ms&#x27;: 0.04649758338928223}, &#x27;num_episodes&#x27;: 4, &#x27;episode_return_max&#x27;: 0.6009649122807019, &#x27;episode_return_min&#x27;: 0.5163157894736842, &#x27;episode_return_mean&#x27;: 0.5635964912280702, &#x27;episodes_this_iter&#x27;: 4}</td><td>{}             </td><td style=\"text-align: right;\">123.104</td><td>{&#x27;learner&#x27;: {&#x27;default_policy&#x27;: {&#x27;learner_stats&#x27;: {&#x27;cur_kl_coeff&#x27;: 0.0003906250058207661, &#x27;cur_lr&#x27;: 2.9999999242136255e-05, &#x27;total_loss&#x27;: 0.009654259, &#x27;policy_loss&#x27;: -0.0056497613, &#x27;vf_loss&#x27;: 0.015303092, &#x27;vf_explained_var&#x27;: -0.00025595128, &#x27;kl&#x27;: 0.002373131, &#x27;entropy&#x27;: 1.1739938, &#x27;entropy_coeff&#x27;: 0.0}, &#x27;custom_metrics&#x27;: {}, &#x27;num_agent_steps_trained&#x27;: 125.0, &#x27;num_grad_updates_lifetime&#x27;: 190.5, &#x27;diff_num_grad_updates_vs_sampler_policy&#x27;: 9.5}}, &#x27;num_env_steps_sampled&#x27;: 2500, &#x27;num_env_steps_trained&#x27;: 2500, &#x27;num_agent_steps_sampled&#x27;: 2500, &#x27;num_agent_steps_trained&#x27;: 2500}</td><td style=\"text-align: right;\">                     2500</td><td style=\"text-align: right;\">                              2500</td><td style=\"text-align: right;\">                     2500</td><td style=\"text-align: right;\">                   2500</td><td style=\"text-align: right;\">                            2500</td><td style=\"text-align: right;\">                              250</td><td style=\"text-align: right;\">                                   123.237</td><td style=\"text-align: right;\">                   2500</td><td style=\"text-align: right;\">                              250</td><td style=\"text-align: right;\">                                   123.237</td><td style=\"text-align: right;\">                    2</td><td style=\"text-align: right;\">                                0</td><td style=\"text-align: right;\">                           0</td><td style=\"text-align: right;\">                          250</td><td>{&#x27;cpu_util_percent&#x27;: 19.466666666666665, &#x27;ram_util_percent&#x27;: 84.23333333333333}</td><td>{&#x27;training_iteration_time_ms&#x27;: 1891.949, &#x27;restore_workers_time_ms&#x27;: 0.01, &#x27;training_step_time_ms&#x27;: 1891.919, &#x27;sample_time_ms&#x27;: 1766.518, &#x27;learn_time_ms&#x27;: 121.545, &#x27;learn_throughput&#x27;: 2056.844, &#x27;synch_weights_time_ms&#x27;: 3.65}</td></tr>\n",
       "</tbody>\n",
       "</table>\n",
       "</div>\n",
       "<style>\n",
       ".trialProgress {\n",
       "  display: flex;\n",
       "  flex-direction: column;\n",
       "  color: var(--jp-ui-font-color1);\n",
       "}\n",
       ".trialProgress h3 {\n",
       "  font-weight: bold;\n",
       "}\n",
       ".trialProgress td {\n",
       "  white-space: nowrap;\n",
       "}\n",
       "</style>\n"
      ],
      "text/plain": [
       "<IPython.core.display.HTML object>"
      ]
     },
     "metadata": {},
     "output_type": "display_data"
    },
    {
     "name": "stderr",
     "output_type": "stream",
     "text": [
      "\u001b[36m(PPO pid=77808)\u001b[0m WARNING:tensorflow:Compiled the loaded model, but the compiled metrics have yet to be built. `model.compile_metrics` will be empty until you train or evaluate the model.\n",
      "\u001b[36m(PPO pid=77808)\u001b[0m WARNING:tensorflow:Compiled the loaded model, but the compiled metrics have yet to be built. `model.compile_metrics` will be empty until you train or evaluate the model.\n",
      "2024-07-15 13:46:52,374\tINFO tune.py:1009 -- Wrote the latest version of all result files and experiment state to '/Users/markstephenson/ray_results/PPO_2024-07-15_13-46-24' in 0.0179s.\n"
     ]
    },
    {
     "name": "stderr",
     "output_type": "stream",
     "text": [
      "\u001b[36m(PPO pid=77808)\u001b[0m /Users/markstephenson/avslab/refactor/.venv_refactor/lib/python3.10/site-packages/keras/src/initializers/__init__.py:144: UserWarning: The `keras.initializers.serialize()` API should only be used for objects of type `keras.initializers.Initializer`. Found an instance of type <class 'function'>, which may lead to improper serialization.\n",
      "\u001b[36m(PPO pid=77808)\u001b[0m   warnings.warn(\n",
      "\u001b[36m(PPO pid=77808)\u001b[0m Checkpoint successfully created at: Checkpoint(filesystem=local, path=/Users/markstephenson/ray_results/PPO_2024-07-15_13-46-24/PPO_SatelliteTasking_Unpacked_4ca59_00000_0_2024-07-15_13-46-24/checkpoint_000000)\n"
     ]
    },
    {
     "name": "stderr",
     "output_type": "stream",
     "text": [
      "2024-07-15 13:46:52,877\tINFO tune.py:1041 -- Total run time: 28.65 seconds (28.10 seconds for the tuning loop).\n"
     ]
    }
   ],
   "source": [
    "import ray\n",
    "from ray import tune\n",
    "\n",
    "ray.init(\n",
    "    ignore_reinit_error=True,\n",
    "    num_cpus=3,\n",
    "    object_store_memory=2_000_000_000,  # 2 GB\n",
    ")\n",
    "\n",
    "# Run the training\n",
    "tune.run(\n",
    "    \"PPO\",\n",
    "    config=config.to_dict(),\n",
    "    stop={\"training_iteration\": 10},  # Adjust the number of iterations as needed\n",
    "    checkpoint_freq=10,\n",
    "    checkpoint_at_end=True\n",
    ")\n",
    "\n",
    "# Shutdown Ray\n",
    "ray.shutdown()"
   ]
  },
  {
   "cell_type": "markdown",
   "metadata": {},
   "source": [
    "## Loading the Policy Network\n",
    "\n",
    "The policy network can be found in the `model` subdirectory of the checkpoint output."
   ]
  },
  {
   "cell_type": "markdown",
   "metadata": {},
   "source": [
    "## Stepping Through the Environment\n",
    "\n",
    "The environment is stepped through with random actions to give a sense of how it acts."
   ]
  },
  {
   "cell_type": "code",
   "execution_count": 7,
   "metadata": {
    "execution": {
     "iopub.execute_input": "2024-07-15T20:46:54.388675Z",
     "iopub.status.busy": "2024-07-15T20:46:54.388389Z",
     "iopub.status.idle": "2024-07-15T20:46:55.481602Z",
     "shell.execute_reply": "2024-07-15T20:46:55.481335Z"
    }
   },
   "outputs": [
    {
     "name": "stderr",
     "output_type": "stream",
     "text": [
      "\u001b[90;3m2024-07-15 13:46:54,392 \u001b[0m\u001b[mgym                            \u001b[0m\u001b[mINFO       \u001b[0m\u001b[mResetting environment with seed=1462109616\u001b[0m\n"
     ]
    },
    {
     "name": "stderr",
     "output_type": "stream",
     "text": [
      "\u001b[90;3m2024-07-15 13:46:54,486 \u001b[0m\u001b[36msats.satellite.Scanner-1       \u001b[0m\u001b[mINFO       \u001b[0m\u001b[33m<0.00> \u001b[0m\u001b[36mScanner-1: \u001b[0m\u001b[mFinding opportunity windows from 0.00 to 11400.00 seconds\u001b[0m\n"
     ]
    },
    {
     "name": "stderr",
     "output_type": "stream",
     "text": [
      "\u001b[90;3m2024-07-15 13:46:54,512 \u001b[0m\u001b[mgym                            \u001b[0m\u001b[mINFO       \u001b[0m\u001b[33m<0.00> \u001b[0m\u001b[mSatellites requiring retasking: ['Scanner-1_4715111056']\u001b[0m\n"
     ]
    },
    {
     "name": "stderr",
     "output_type": "stream",
     "text": [
      "\u001b[90;3m2024-07-15 13:46:54,512 \u001b[0m\u001b[mgym                            \u001b[0m\u001b[mINFO       \u001b[0m\u001b[33m<0.00> \u001b[0m\u001b[mEnvironment reset\u001b[0m\n"
     ]
    },
    {
     "name": "stderr",
     "output_type": "stream",
     "text": [
      "\u001b[90;3m2024-07-15 13:46:54,513 \u001b[0m\u001b[mgym                            \u001b[0m\u001b[mINFO       \u001b[0m\u001b[33m<0.00> \u001b[0m\u001b[93;1m=== STARTING STEP ===\u001b[0m\n"
     ]
    },
    {
     "name": "stderr",
     "output_type": "stream",
     "text": [
      "\u001b[90;3m2024-07-15 13:46:54,513 \u001b[0m\u001b[36msats.satellite.Scanner-1       \u001b[0m\u001b[mINFO       \u001b[0m\u001b[33m<0.00> \u001b[0m\u001b[36mScanner-1: \u001b[0m\u001b[maction_downlink tasked for 60.0 seconds\u001b[0m\n"
     ]
    },
    {
     "name": "stderr",
     "output_type": "stream",
     "text": [
      "\u001b[90;3m2024-07-15 13:46:54,513 \u001b[0m\u001b[36msats.satellite.Scanner-1       \u001b[0m\u001b[mINFO       \u001b[0m\u001b[33m<0.00> \u001b[0m\u001b[36mScanner-1: \u001b[0m\u001b[msetting timed terminal event at 60.0\u001b[0m\n"
     ]
    },
    {
     "name": "stderr",
     "output_type": "stream",
     "text": [
      "\u001b[90;3m2024-07-15 13:46:54,513 \u001b[0m\u001b[msim.simulator                  \u001b[0m\u001b[mINFO       \u001b[0m\u001b[33m<0.00> \u001b[0m\u001b[mRunning simulation at most to 11400.00 seconds\u001b[0m\n"
     ]
    },
    {
     "name": "stderr",
     "output_type": "stream",
     "text": [
      "\u001b[90;3m2024-07-15 13:46:54,517 \u001b[0m\u001b[36msats.satellite.Scanner-1       \u001b[0m\u001b[mINFO       \u001b[0m\u001b[33m<60.00> \u001b[0m\u001b[36mScanner-1: \u001b[0m\u001b[mtimed termination at 60.0 for action_downlink\u001b[0m\n"
     ]
    },
    {
     "name": "stderr",
     "output_type": "stream",
     "text": [
      "\u001b[90;3m2024-07-15 13:46:54,517 \u001b[0m\u001b[mdata.base                      \u001b[0m\u001b[mINFO       \u001b[0m\u001b[33m<60.00> \u001b[0m\u001b[mData reward: {'Scanner-1_4715111056': 0.0}\u001b[0m\n"
     ]
    },
    {
     "name": "stderr",
     "output_type": "stream",
     "text": [
      "\u001b[90;3m2024-07-15 13:46:54,518 \u001b[0m\u001b[mgym                            \u001b[0m\u001b[mINFO       \u001b[0m\u001b[33m<60.00> \u001b[0m\u001b[mSatellites requiring retasking: ['Scanner-1_4715111056']\u001b[0m\n"
     ]
    },
    {
     "name": "stderr",
     "output_type": "stream",
     "text": [
      "\u001b[90;3m2024-07-15 13:46:54,518 \u001b[0m\u001b[mgym                            \u001b[0m\u001b[mINFO       \u001b[0m\u001b[33m<60.00> \u001b[0m\u001b[mStep reward: 0.0\u001b[0m\n"
     ]
    },
    {
     "name": "stderr",
     "output_type": "stream",
     "text": [
      "\u001b[90;3m2024-07-15 13:46:54,519 \u001b[0m\u001b[mgym                            \u001b[0m\u001b[mINFO       \u001b[0m\u001b[33m<60.00> \u001b[0m\u001b[93;1m=== STARTING STEP ===\u001b[0m\n"
     ]
    },
    {
     "name": "stderr",
     "output_type": "stream",
     "text": [
      "\u001b[90;3m2024-07-15 13:46:54,519 \u001b[0m\u001b[36msats.satellite.Scanner-1       \u001b[0m\u001b[mINFO       \u001b[0m\u001b[33m<60.00> \u001b[0m\u001b[36mScanner-1: \u001b[0m\u001b[maction_downlink tasked for 60.0 seconds\u001b[0m\n"
     ]
    },
    {
     "name": "stderr",
     "output_type": "stream",
     "text": [
      "\u001b[90;3m2024-07-15 13:46:54,519 \u001b[0m\u001b[36msats.satellite.Scanner-1       \u001b[0m\u001b[mINFO       \u001b[0m\u001b[33m<60.00> \u001b[0m\u001b[36mScanner-1: \u001b[0m\u001b[msetting timed terminal event at 120.0\u001b[0m\n"
     ]
    },
    {
     "name": "stderr",
     "output_type": "stream",
     "text": [
      "\u001b[90;3m2024-07-15 13:46:54,519 \u001b[0m\u001b[msim.simulator                  \u001b[0m\u001b[mINFO       \u001b[0m\u001b[33m<60.00> \u001b[0m\u001b[mRunning simulation at most to 11400.00 seconds\u001b[0m\n"
     ]
    },
    {
     "name": "stderr",
     "output_type": "stream",
     "text": [
      "\u001b[90;3m2024-07-15 13:46:54,523 \u001b[0m\u001b[36msats.satellite.Scanner-1       \u001b[0m\u001b[mINFO       \u001b[0m\u001b[33m<120.00> \u001b[0m\u001b[36mScanner-1: \u001b[0m\u001b[mtimed termination at 120.0 for action_downlink\u001b[0m\n"
     ]
    },
    {
     "name": "stderr",
     "output_type": "stream",
     "text": [
      "\u001b[90;3m2024-07-15 13:46:54,523 \u001b[0m\u001b[mdata.base                      \u001b[0m\u001b[mINFO       \u001b[0m\u001b[33m<120.00> \u001b[0m\u001b[mData reward: {'Scanner-1_4715111056': 0.0}\u001b[0m\n"
     ]
    },
    {
     "name": "stderr",
     "output_type": "stream",
     "text": [
      "\u001b[90;3m2024-07-15 13:46:54,524 \u001b[0m\u001b[mgym                            \u001b[0m\u001b[mINFO       \u001b[0m\u001b[33m<120.00> \u001b[0m\u001b[mSatellites requiring retasking: ['Scanner-1_4715111056']\u001b[0m\n"
     ]
    },
    {
     "name": "stderr",
     "output_type": "stream",
     "text": [
      "\u001b[90;3m2024-07-15 13:46:54,524 \u001b[0m\u001b[mgym                            \u001b[0m\u001b[mINFO       \u001b[0m\u001b[33m<120.00> \u001b[0m\u001b[mStep reward: 0.0\u001b[0m\n"
     ]
    },
    {
     "name": "stderr",
     "output_type": "stream",
     "text": [
      "\u001b[90;3m2024-07-15 13:46:54,525 \u001b[0m\u001b[mgym                            \u001b[0m\u001b[mINFO       \u001b[0m\u001b[33m<120.00> \u001b[0m\u001b[93;1m=== STARTING STEP ===\u001b[0m\n"
     ]
    },
    {
     "name": "stderr",
     "output_type": "stream",
     "text": [
      "\u001b[90;3m2024-07-15 13:46:54,525 \u001b[0m\u001b[36msats.satellite.Scanner-1       \u001b[0m\u001b[mINFO       \u001b[0m\u001b[33m<120.00> \u001b[0m\u001b[36mScanner-1: \u001b[0m\u001b[maction_charge tasked for 180.0 seconds\u001b[0m\n"
     ]
    },
    {
     "name": "stderr",
     "output_type": "stream",
     "text": [
      "\u001b[90;3m2024-07-15 13:46:54,525 \u001b[0m\u001b[36msats.satellite.Scanner-1       \u001b[0m\u001b[mINFO       \u001b[0m\u001b[33m<120.00> \u001b[0m\u001b[36mScanner-1: \u001b[0m\u001b[msetting timed terminal event at 300.0\u001b[0m\n"
     ]
    },
    {
     "name": "stderr",
     "output_type": "stream",
     "text": [
      "\u001b[90;3m2024-07-15 13:46:54,525 \u001b[0m\u001b[msim.simulator                  \u001b[0m\u001b[mINFO       \u001b[0m\u001b[33m<120.00> \u001b[0m\u001b[mRunning simulation at most to 11400.00 seconds\u001b[0m\n"
     ]
    },
    {
     "name": "stderr",
     "output_type": "stream",
     "text": [
      "\u001b[90;3m2024-07-15 13:46:54,535 \u001b[0m\u001b[36msats.satellite.Scanner-1       \u001b[0m\u001b[mINFO       \u001b[0m\u001b[33m<300.00> \u001b[0m\u001b[36mScanner-1: \u001b[0m\u001b[mtimed termination at 300.0 for action_charge\u001b[0m\n"
     ]
    },
    {
     "name": "stderr",
     "output_type": "stream",
     "text": [
      "\u001b[90;3m2024-07-15 13:46:54,535 \u001b[0m\u001b[mdata.base                      \u001b[0m\u001b[mINFO       \u001b[0m\u001b[33m<300.00> \u001b[0m\u001b[mData reward: {'Scanner-1_4715111056': 0.0}\u001b[0m\n"
     ]
    },
    {
     "name": "stderr",
     "output_type": "stream",
     "text": [
      "\u001b[90;3m2024-07-15 13:46:54,536 \u001b[0m\u001b[mgym                            \u001b[0m\u001b[mINFO       \u001b[0m\u001b[33m<300.00> \u001b[0m\u001b[mSatellites requiring retasking: ['Scanner-1_4715111056']\u001b[0m\n"
     ]
    },
    {
     "name": "stderr",
     "output_type": "stream",
     "text": [
      "\u001b[90;3m2024-07-15 13:46:54,536 \u001b[0m\u001b[mgym                            \u001b[0m\u001b[mINFO       \u001b[0m\u001b[33m<300.00> \u001b[0m\u001b[mStep reward: 0.0\u001b[0m\n"
     ]
    },
    {
     "name": "stderr",
     "output_type": "stream",
     "text": [
      "\u001b[90;3m2024-07-15 13:46:54,537 \u001b[0m\u001b[mgym                            \u001b[0m\u001b[mINFO       \u001b[0m\u001b[33m<300.00> \u001b[0m\u001b[93;1m=== STARTING STEP ===\u001b[0m\n"
     ]
    },
    {
     "name": "stderr",
     "output_type": "stream",
     "text": [
      "\u001b[90;3m2024-07-15 13:46:54,537 \u001b[0m\u001b[36msats.satellite.Scanner-1       \u001b[0m\u001b[mINFO       \u001b[0m\u001b[33m<300.00> \u001b[0m\u001b[36mScanner-1: \u001b[0m\u001b[maction_charge tasked for 180.0 seconds\u001b[0m\n"
     ]
    },
    {
     "name": "stderr",
     "output_type": "stream",
     "text": [
      "\u001b[90;3m2024-07-15 13:46:54,537 \u001b[0m\u001b[36msats.satellite.Scanner-1       \u001b[0m\u001b[mINFO       \u001b[0m\u001b[33m<300.00> \u001b[0m\u001b[36mScanner-1: \u001b[0m\u001b[msetting timed terminal event at 480.0\u001b[0m\n"
     ]
    },
    {
     "name": "stderr",
     "output_type": "stream",
     "text": [
      "\u001b[90;3m2024-07-15 13:46:54,537 \u001b[0m\u001b[msim.simulator                  \u001b[0m\u001b[mINFO       \u001b[0m\u001b[33m<300.00> \u001b[0m\u001b[mRunning simulation at most to 11400.00 seconds\u001b[0m\n"
     ]
    },
    {
     "name": "stderr",
     "output_type": "stream",
     "text": [
      "\u001b[90;3m2024-07-15 13:46:54,547 \u001b[0m\u001b[36msats.satellite.Scanner-1       \u001b[0m\u001b[mINFO       \u001b[0m\u001b[33m<480.00> \u001b[0m\u001b[36mScanner-1: \u001b[0m\u001b[mtimed termination at 480.0 for action_charge\u001b[0m\n"
     ]
    },
    {
     "name": "stderr",
     "output_type": "stream",
     "text": [
      "\u001b[90;3m2024-07-15 13:46:54,548 \u001b[0m\u001b[mdata.base                      \u001b[0m\u001b[mINFO       \u001b[0m\u001b[33m<480.00> \u001b[0m\u001b[mData reward: {'Scanner-1_4715111056': 0.0}\u001b[0m\n"
     ]
    },
    {
     "name": "stderr",
     "output_type": "stream",
     "text": [
      "\u001b[90;3m2024-07-15 13:46:54,548 \u001b[0m\u001b[mgym                            \u001b[0m\u001b[mINFO       \u001b[0m\u001b[33m<480.00> \u001b[0m\u001b[mSatellites requiring retasking: ['Scanner-1_4715111056']\u001b[0m\n"
     ]
    },
    {
     "name": "stderr",
     "output_type": "stream",
     "text": [
      "\u001b[90;3m2024-07-15 13:46:54,548 \u001b[0m\u001b[mgym                            \u001b[0m\u001b[mINFO       \u001b[0m\u001b[33m<480.00> \u001b[0m\u001b[mStep reward: 0.0\u001b[0m\n"
     ]
    },
    {
     "name": "stderr",
     "output_type": "stream",
     "text": [
      "\u001b[90;3m2024-07-15 13:46:54,549 \u001b[0m\u001b[mgym                            \u001b[0m\u001b[mINFO       \u001b[0m\u001b[33m<480.00> \u001b[0m\u001b[93;1m=== STARTING STEP ===\u001b[0m\n"
     ]
    },
    {
     "name": "stderr",
     "output_type": "stream",
     "text": [
      "\u001b[90;3m2024-07-15 13:46:54,549 \u001b[0m\u001b[36msats.satellite.Scanner-1       \u001b[0m\u001b[mINFO       \u001b[0m\u001b[33m<480.00> \u001b[0m\u001b[36mScanner-1: \u001b[0m\u001b[maction_charge tasked for 180.0 seconds\u001b[0m\n"
     ]
    },
    {
     "name": "stderr",
     "output_type": "stream",
     "text": [
      "\u001b[90;3m2024-07-15 13:46:54,549 \u001b[0m\u001b[36msats.satellite.Scanner-1       \u001b[0m\u001b[mINFO       \u001b[0m\u001b[33m<480.00> \u001b[0m\u001b[36mScanner-1: \u001b[0m\u001b[msetting timed terminal event at 660.0\u001b[0m\n"
     ]
    },
    {
     "name": "stderr",
     "output_type": "stream",
     "text": [
      "\u001b[90;3m2024-07-15 13:46:54,549 \u001b[0m\u001b[msim.simulator                  \u001b[0m\u001b[mINFO       \u001b[0m\u001b[33m<480.00> \u001b[0m\u001b[mRunning simulation at most to 11400.00 seconds\u001b[0m\n"
     ]
    },
    {
     "name": "stderr",
     "output_type": "stream",
     "text": [
      "\u001b[90;3m2024-07-15 13:46:54,559 \u001b[0m\u001b[36msats.satellite.Scanner-1       \u001b[0m\u001b[mINFO       \u001b[0m\u001b[33m<660.00> \u001b[0m\u001b[36mScanner-1: \u001b[0m\u001b[mtimed termination at 660.0 for action_charge\u001b[0m\n"
     ]
    },
    {
     "name": "stderr",
     "output_type": "stream",
     "text": [
      "\u001b[90;3m2024-07-15 13:46:54,560 \u001b[0m\u001b[mdata.base                      \u001b[0m\u001b[mINFO       \u001b[0m\u001b[33m<660.00> \u001b[0m\u001b[mData reward: {'Scanner-1_4715111056': 0.0}\u001b[0m\n"
     ]
    },
    {
     "name": "stderr",
     "output_type": "stream",
     "text": [
      "\u001b[90;3m2024-07-15 13:46:54,560 \u001b[0m\u001b[mgym                            \u001b[0m\u001b[mINFO       \u001b[0m\u001b[33m<660.00> \u001b[0m\u001b[mSatellites requiring retasking: ['Scanner-1_4715111056']\u001b[0m\n"
     ]
    },
    {
     "name": "stderr",
     "output_type": "stream",
     "text": [
      "\u001b[90;3m2024-07-15 13:46:54,560 \u001b[0m\u001b[mgym                            \u001b[0m\u001b[mINFO       \u001b[0m\u001b[33m<660.00> \u001b[0m\u001b[mStep reward: 0.0\u001b[0m\n"
     ]
    },
    {
     "name": "stderr",
     "output_type": "stream",
     "text": [
      "\u001b[90;3m2024-07-15 13:46:54,561 \u001b[0m\u001b[mgym                            \u001b[0m\u001b[mINFO       \u001b[0m\u001b[33m<660.00> \u001b[0m\u001b[93;1m=== STARTING STEP ===\u001b[0m\n"
     ]
    },
    {
     "name": "stderr",
     "output_type": "stream",
     "text": [
      "\u001b[90;3m2024-07-15 13:46:54,561 \u001b[0m\u001b[36msats.satellite.Scanner-1       \u001b[0m\u001b[mINFO       \u001b[0m\u001b[33m<660.00> \u001b[0m\u001b[36mScanner-1: \u001b[0m\u001b[maction_downlink tasked for 60.0 seconds\u001b[0m\n"
     ]
    },
    {
     "name": "stderr",
     "output_type": "stream",
     "text": [
      "\u001b[90;3m2024-07-15 13:46:54,561 \u001b[0m\u001b[36msats.satellite.Scanner-1       \u001b[0m\u001b[mINFO       \u001b[0m\u001b[33m<660.00> \u001b[0m\u001b[36mScanner-1: \u001b[0m\u001b[msetting timed terminal event at 720.0\u001b[0m\n"
     ]
    },
    {
     "name": "stderr",
     "output_type": "stream",
     "text": [
      "\u001b[90;3m2024-07-15 13:46:54,561 \u001b[0m\u001b[msim.simulator                  \u001b[0m\u001b[mINFO       \u001b[0m\u001b[33m<660.00> \u001b[0m\u001b[mRunning simulation at most to 11400.00 seconds\u001b[0m\n"
     ]
    },
    {
     "name": "stderr",
     "output_type": "stream",
     "text": [
      "\u001b[90;3m2024-07-15 13:46:54,565 \u001b[0m\u001b[36msats.satellite.Scanner-1       \u001b[0m\u001b[mINFO       \u001b[0m\u001b[33m<720.00> \u001b[0m\u001b[36mScanner-1: \u001b[0m\u001b[mtimed termination at 720.0 for action_downlink\u001b[0m\n"
     ]
    },
    {
     "name": "stderr",
     "output_type": "stream",
     "text": [
      "\u001b[90;3m2024-07-15 13:46:54,565 \u001b[0m\u001b[mdata.base                      \u001b[0m\u001b[mINFO       \u001b[0m\u001b[33m<720.00> \u001b[0m\u001b[mData reward: {'Scanner-1_4715111056': 0.0}\u001b[0m\n"
     ]
    },
    {
     "name": "stderr",
     "output_type": "stream",
     "text": [
      "\u001b[90;3m2024-07-15 13:46:54,566 \u001b[0m\u001b[mgym                            \u001b[0m\u001b[mINFO       \u001b[0m\u001b[33m<720.00> \u001b[0m\u001b[mSatellites requiring retasking: ['Scanner-1_4715111056']\u001b[0m\n"
     ]
    },
    {
     "name": "stderr",
     "output_type": "stream",
     "text": [
      "\u001b[90;3m2024-07-15 13:46:54,566 \u001b[0m\u001b[mgym                            \u001b[0m\u001b[mINFO       \u001b[0m\u001b[33m<720.00> \u001b[0m\u001b[mStep reward: 0.0\u001b[0m\n"
     ]
    },
    {
     "name": "stderr",
     "output_type": "stream",
     "text": [
      "\u001b[90;3m2024-07-15 13:46:54,567 \u001b[0m\u001b[mgym                            \u001b[0m\u001b[mINFO       \u001b[0m\u001b[33m<720.00> \u001b[0m\u001b[93;1m=== STARTING STEP ===\u001b[0m\n"
     ]
    },
    {
     "name": "stderr",
     "output_type": "stream",
     "text": [
      "\u001b[90;3m2024-07-15 13:46:54,567 \u001b[0m\u001b[36msats.satellite.Scanner-1       \u001b[0m\u001b[mINFO       \u001b[0m\u001b[33m<720.00> \u001b[0m\u001b[36mScanner-1: \u001b[0m\u001b[maction_charge tasked for 180.0 seconds\u001b[0m\n"
     ]
    },
    {
     "name": "stderr",
     "output_type": "stream",
     "text": [
      "\u001b[90;3m2024-07-15 13:46:54,567 \u001b[0m\u001b[36msats.satellite.Scanner-1       \u001b[0m\u001b[mINFO       \u001b[0m\u001b[33m<720.00> \u001b[0m\u001b[36mScanner-1: \u001b[0m\u001b[msetting timed terminal event at 900.0\u001b[0m\n"
     ]
    },
    {
     "name": "stderr",
     "output_type": "stream",
     "text": [
      "\u001b[90;3m2024-07-15 13:46:54,567 \u001b[0m\u001b[msim.simulator                  \u001b[0m\u001b[mINFO       \u001b[0m\u001b[33m<720.00> \u001b[0m\u001b[mRunning simulation at most to 11400.00 seconds\u001b[0m\n"
     ]
    },
    {
     "name": "stderr",
     "output_type": "stream",
     "text": [
      "\u001b[90;3m2024-07-15 13:46:54,577 \u001b[0m\u001b[36msats.satellite.Scanner-1       \u001b[0m\u001b[mINFO       \u001b[0m\u001b[33m<900.00> \u001b[0m\u001b[36mScanner-1: \u001b[0m\u001b[mtimed termination at 900.0 for action_charge\u001b[0m\n"
     ]
    },
    {
     "name": "stderr",
     "output_type": "stream",
     "text": [
      "\u001b[90;3m2024-07-15 13:46:54,577 \u001b[0m\u001b[mdata.base                      \u001b[0m\u001b[mINFO       \u001b[0m\u001b[33m<900.00> \u001b[0m\u001b[mData reward: {'Scanner-1_4715111056': 0.0}\u001b[0m\n"
     ]
    },
    {
     "name": "stderr",
     "output_type": "stream",
     "text": [
      "\u001b[90;3m2024-07-15 13:46:54,578 \u001b[0m\u001b[mgym                            \u001b[0m\u001b[mINFO       \u001b[0m\u001b[33m<900.00> \u001b[0m\u001b[mSatellites requiring retasking: ['Scanner-1_4715111056']\u001b[0m\n"
     ]
    },
    {
     "name": "stderr",
     "output_type": "stream",
     "text": [
      "\u001b[90;3m2024-07-15 13:46:54,578 \u001b[0m\u001b[mgym                            \u001b[0m\u001b[mINFO       \u001b[0m\u001b[33m<900.00> \u001b[0m\u001b[mStep reward: 0.0\u001b[0m\n"
     ]
    },
    {
     "name": "stderr",
     "output_type": "stream",
     "text": [
      "\u001b[90;3m2024-07-15 13:46:54,579 \u001b[0m\u001b[mgym                            \u001b[0m\u001b[mINFO       \u001b[0m\u001b[33m<900.00> \u001b[0m\u001b[93;1m=== STARTING STEP ===\u001b[0m\n"
     ]
    },
    {
     "name": "stderr",
     "output_type": "stream",
     "text": [
      "\u001b[90;3m2024-07-15 13:46:54,579 \u001b[0m\u001b[36msats.satellite.Scanner-1       \u001b[0m\u001b[mINFO       \u001b[0m\u001b[33m<900.00> \u001b[0m\u001b[36mScanner-1: \u001b[0m\u001b[maction_downlink tasked for 60.0 seconds\u001b[0m\n"
     ]
    },
    {
     "name": "stderr",
     "output_type": "stream",
     "text": [
      "\u001b[90;3m2024-07-15 13:46:54,579 \u001b[0m\u001b[36msats.satellite.Scanner-1       \u001b[0m\u001b[mINFO       \u001b[0m\u001b[33m<900.00> \u001b[0m\u001b[36mScanner-1: \u001b[0m\u001b[msetting timed terminal event at 960.0\u001b[0m\n"
     ]
    },
    {
     "name": "stderr",
     "output_type": "stream",
     "text": [
      "\u001b[90;3m2024-07-15 13:46:54,579 \u001b[0m\u001b[msim.simulator                  \u001b[0m\u001b[mINFO       \u001b[0m\u001b[33m<900.00> \u001b[0m\u001b[mRunning simulation at most to 11400.00 seconds\u001b[0m\n"
     ]
    },
    {
     "name": "stderr",
     "output_type": "stream",
     "text": [
      "\u001b[90;3m2024-07-15 13:46:54,583 \u001b[0m\u001b[36msats.satellite.Scanner-1       \u001b[0m\u001b[mINFO       \u001b[0m\u001b[33m<960.00> \u001b[0m\u001b[36mScanner-1: \u001b[0m\u001b[mtimed termination at 960.0 for action_downlink\u001b[0m\n"
     ]
    },
    {
     "name": "stderr",
     "output_type": "stream",
     "text": [
      "\u001b[90;3m2024-07-15 13:46:54,583 \u001b[0m\u001b[mdata.base                      \u001b[0m\u001b[mINFO       \u001b[0m\u001b[33m<960.00> \u001b[0m\u001b[mData reward: {'Scanner-1_4715111056': 0.0}\u001b[0m\n"
     ]
    },
    {
     "name": "stderr",
     "output_type": "stream",
     "text": [
      "\u001b[90;3m2024-07-15 13:46:54,584 \u001b[0m\u001b[mgym                            \u001b[0m\u001b[mINFO       \u001b[0m\u001b[33m<960.00> \u001b[0m\u001b[mSatellites requiring retasking: ['Scanner-1_4715111056']\u001b[0m\n"
     ]
    },
    {
     "name": "stderr",
     "output_type": "stream",
     "text": [
      "\u001b[90;3m2024-07-15 13:46:54,584 \u001b[0m\u001b[mgym                            \u001b[0m\u001b[mINFO       \u001b[0m\u001b[33m<960.00> \u001b[0m\u001b[mStep reward: 0.0\u001b[0m\n"
     ]
    },
    {
     "name": "stderr",
     "output_type": "stream",
     "text": [
      "\u001b[90;3m2024-07-15 13:46:54,584 \u001b[0m\u001b[mgym                            \u001b[0m\u001b[mINFO       \u001b[0m\u001b[33m<960.00> \u001b[0m\u001b[93;1m=== STARTING STEP ===\u001b[0m\n"
     ]
    },
    {
     "name": "stderr",
     "output_type": "stream",
     "text": [
      "\u001b[90;3m2024-07-15 13:46:54,584 \u001b[0m\u001b[36msats.satellite.Scanner-1       \u001b[0m\u001b[mINFO       \u001b[0m\u001b[33m<960.00> \u001b[0m\u001b[36mScanner-1: \u001b[0m\u001b[maction_desat tasked for 60.0 seconds\u001b[0m\n"
     ]
    },
    {
     "name": "stderr",
     "output_type": "stream",
     "text": [
      "\u001b[90;3m2024-07-15 13:46:54,585 \u001b[0m\u001b[36msats.satellite.Scanner-1       \u001b[0m\u001b[mINFO       \u001b[0m\u001b[33m<960.00> \u001b[0m\u001b[36mScanner-1: \u001b[0m\u001b[msetting timed terminal event at 1020.0\u001b[0m\n"
     ]
    },
    {
     "name": "stderr",
     "output_type": "stream",
     "text": [
      "\u001b[90;3m2024-07-15 13:46:54,585 \u001b[0m\u001b[msim.simulator                  \u001b[0m\u001b[mINFO       \u001b[0m\u001b[33m<960.00> \u001b[0m\u001b[mRunning simulation at most to 11400.00 seconds\u001b[0m\n"
     ]
    },
    {
     "name": "stderr",
     "output_type": "stream",
     "text": [
      "\u001b[90;3m2024-07-15 13:46:54,588 \u001b[0m\u001b[36msats.satellite.Scanner-1       \u001b[0m\u001b[mINFO       \u001b[0m\u001b[33m<1020.00> \u001b[0m\u001b[36mScanner-1: \u001b[0m\u001b[mtimed termination at 1020.0 for action_desat\u001b[0m\n"
     ]
    },
    {
     "name": "stderr",
     "output_type": "stream",
     "text": [
      "\u001b[90;3m2024-07-15 13:46:54,589 \u001b[0m\u001b[mdata.base                      \u001b[0m\u001b[mINFO       \u001b[0m\u001b[33m<1020.00> \u001b[0m\u001b[mData reward: {'Scanner-1_4715111056': 0.0}\u001b[0m\n"
     ]
    },
    {
     "name": "stderr",
     "output_type": "stream",
     "text": [
      "\u001b[90;3m2024-07-15 13:46:54,589 \u001b[0m\u001b[mgym                            \u001b[0m\u001b[mINFO       \u001b[0m\u001b[33m<1020.00> \u001b[0m\u001b[mSatellites requiring retasking: ['Scanner-1_4715111056']\u001b[0m\n"
     ]
    },
    {
     "name": "stderr",
     "output_type": "stream",
     "text": [
      "\u001b[90;3m2024-07-15 13:46:54,590 \u001b[0m\u001b[mgym                            \u001b[0m\u001b[mINFO       \u001b[0m\u001b[33m<1020.00> \u001b[0m\u001b[mStep reward: 0.0\u001b[0m\n"
     ]
    },
    {
     "name": "stderr",
     "output_type": "stream",
     "text": [
      "\u001b[90;3m2024-07-15 13:46:54,590 \u001b[0m\u001b[mgym                            \u001b[0m\u001b[mINFO       \u001b[0m\u001b[33m<1020.00> \u001b[0m\u001b[93;1m=== STARTING STEP ===\u001b[0m\n"
     ]
    },
    {
     "name": "stderr",
     "output_type": "stream",
     "text": [
      "\u001b[90;3m2024-07-15 13:46:54,590 \u001b[0m\u001b[36msats.satellite.Scanner-1       \u001b[0m\u001b[mINFO       \u001b[0m\u001b[33m<1020.00> \u001b[0m\u001b[36mScanner-1: \u001b[0m\u001b[maction_downlink tasked for 60.0 seconds\u001b[0m\n"
     ]
    },
    {
     "name": "stderr",
     "output_type": "stream",
     "text": [
      "\u001b[90;3m2024-07-15 13:46:54,590 \u001b[0m\u001b[36msats.satellite.Scanner-1       \u001b[0m\u001b[mINFO       \u001b[0m\u001b[33m<1020.00> \u001b[0m\u001b[36mScanner-1: \u001b[0m\u001b[msetting timed terminal event at 1080.0\u001b[0m\n"
     ]
    },
    {
     "name": "stderr",
     "output_type": "stream",
     "text": [
      "\u001b[90;3m2024-07-15 13:46:54,590 \u001b[0m\u001b[msim.simulator                  \u001b[0m\u001b[mINFO       \u001b[0m\u001b[33m<1020.00> \u001b[0m\u001b[mRunning simulation at most to 11400.00 seconds\u001b[0m\n"
     ]
    },
    {
     "name": "stderr",
     "output_type": "stream",
     "text": [
      "\u001b[90;3m2024-07-15 13:46:54,594 \u001b[0m\u001b[36msats.satellite.Scanner-1       \u001b[0m\u001b[mINFO       \u001b[0m\u001b[33m<1080.00> \u001b[0m\u001b[36mScanner-1: \u001b[0m\u001b[mtimed termination at 1080.0 for action_downlink\u001b[0m\n"
     ]
    },
    {
     "name": "stderr",
     "output_type": "stream",
     "text": [
      "\u001b[90;3m2024-07-15 13:46:54,594 \u001b[0m\u001b[mdata.base                      \u001b[0m\u001b[mINFO       \u001b[0m\u001b[33m<1080.00> \u001b[0m\u001b[mData reward: {'Scanner-1_4715111056': 0.0}\u001b[0m\n"
     ]
    },
    {
     "name": "stderr",
     "output_type": "stream",
     "text": [
      "\u001b[90;3m2024-07-15 13:46:54,595 \u001b[0m\u001b[mgym                            \u001b[0m\u001b[mINFO       \u001b[0m\u001b[33m<1080.00> \u001b[0m\u001b[mSatellites requiring retasking: ['Scanner-1_4715111056']\u001b[0m\n"
     ]
    },
    {
     "name": "stderr",
     "output_type": "stream",
     "text": [
      "\u001b[90;3m2024-07-15 13:46:54,595 \u001b[0m\u001b[mgym                            \u001b[0m\u001b[mINFO       \u001b[0m\u001b[33m<1080.00> \u001b[0m\u001b[mStep reward: 0.0\u001b[0m\n"
     ]
    },
    {
     "name": "stderr",
     "output_type": "stream",
     "text": [
      "\u001b[90;3m2024-07-15 13:46:54,596 \u001b[0m\u001b[mgym                            \u001b[0m\u001b[mINFO       \u001b[0m\u001b[33m<1080.00> \u001b[0m\u001b[93;1m=== STARTING STEP ===\u001b[0m\n"
     ]
    },
    {
     "name": "stderr",
     "output_type": "stream",
     "text": [
      "\u001b[90;3m2024-07-15 13:46:54,596 \u001b[0m\u001b[36msats.satellite.Scanner-1       \u001b[0m\u001b[mINFO       \u001b[0m\u001b[33m<1080.00> \u001b[0m\u001b[36mScanner-1: \u001b[0m\u001b[maction_desat tasked for 60.0 seconds\u001b[0m\n"
     ]
    },
    {
     "name": "stderr",
     "output_type": "stream",
     "text": [
      "\u001b[90;3m2024-07-15 13:46:54,596 \u001b[0m\u001b[36msats.satellite.Scanner-1       \u001b[0m\u001b[mINFO       \u001b[0m\u001b[33m<1080.00> \u001b[0m\u001b[36mScanner-1: \u001b[0m\u001b[msetting timed terminal event at 1140.0\u001b[0m\n"
     ]
    },
    {
     "name": "stderr",
     "output_type": "stream",
     "text": [
      "\u001b[90;3m2024-07-15 13:46:54,596 \u001b[0m\u001b[msim.simulator                  \u001b[0m\u001b[mINFO       \u001b[0m\u001b[33m<1080.00> \u001b[0m\u001b[mRunning simulation at most to 11400.00 seconds\u001b[0m\n"
     ]
    },
    {
     "name": "stderr",
     "output_type": "stream",
     "text": [
      "\u001b[90;3m2024-07-15 13:46:54,600 \u001b[0m\u001b[36msats.satellite.Scanner-1       \u001b[0m\u001b[mINFO       \u001b[0m\u001b[33m<1140.00> \u001b[0m\u001b[36mScanner-1: \u001b[0m\u001b[mtimed termination at 1140.0 for action_desat\u001b[0m\n"
     ]
    },
    {
     "name": "stderr",
     "output_type": "stream",
     "text": [
      "\u001b[90;3m2024-07-15 13:46:54,600 \u001b[0m\u001b[mdata.base                      \u001b[0m\u001b[mINFO       \u001b[0m\u001b[33m<1140.00> \u001b[0m\u001b[mData reward: {'Scanner-1_4715111056': 0.0}\u001b[0m\n"
     ]
    },
    {
     "name": "stderr",
     "output_type": "stream",
     "text": [
      "\u001b[90;3m2024-07-15 13:46:54,601 \u001b[0m\u001b[mgym                            \u001b[0m\u001b[mINFO       \u001b[0m\u001b[33m<1140.00> \u001b[0m\u001b[mSatellites requiring retasking: ['Scanner-1_4715111056']\u001b[0m\n"
     ]
    },
    {
     "name": "stderr",
     "output_type": "stream",
     "text": [
      "\u001b[90;3m2024-07-15 13:46:54,601 \u001b[0m\u001b[mgym                            \u001b[0m\u001b[mINFO       \u001b[0m\u001b[33m<1140.00> \u001b[0m\u001b[mStep reward: 0.0\u001b[0m\n"
     ]
    },
    {
     "name": "stderr",
     "output_type": "stream",
     "text": [
      "\u001b[90;3m2024-07-15 13:46:54,601 \u001b[0m\u001b[mgym                            \u001b[0m\u001b[mINFO       \u001b[0m\u001b[33m<1140.00> \u001b[0m\u001b[93;1m=== STARTING STEP ===\u001b[0m\n"
     ]
    },
    {
     "name": "stderr",
     "output_type": "stream",
     "text": [
      "\u001b[90;3m2024-07-15 13:46:54,602 \u001b[0m\u001b[36msats.satellite.Scanner-1       \u001b[0m\u001b[mINFO       \u001b[0m\u001b[33m<1140.00> \u001b[0m\u001b[36mScanner-1: \u001b[0m\u001b[maction_nadir_scan tasked for 180.0 seconds\u001b[0m\n"
     ]
    },
    {
     "name": "stderr",
     "output_type": "stream",
     "text": [
      "\u001b[90;3m2024-07-15 13:46:54,602 \u001b[0m\u001b[36msats.satellite.Scanner-1       \u001b[0m\u001b[mINFO       \u001b[0m\u001b[33m<1140.00> \u001b[0m\u001b[36mScanner-1: \u001b[0m\u001b[msetting timed terminal event at 1320.0\u001b[0m\n"
     ]
    },
    {
     "name": "stderr",
     "output_type": "stream",
     "text": [
      "\u001b[90;3m2024-07-15 13:46:54,602 \u001b[0m\u001b[msim.simulator                  \u001b[0m\u001b[mINFO       \u001b[0m\u001b[33m<1140.00> \u001b[0m\u001b[mRunning simulation at most to 11400.00 seconds\u001b[0m\n"
     ]
    },
    {
     "name": "stderr",
     "output_type": "stream",
     "text": [
      "\u001b[90;3m2024-07-15 13:46:54,612 \u001b[0m\u001b[36msats.satellite.Scanner-1       \u001b[0m\u001b[mINFO       \u001b[0m\u001b[33m<1320.00> \u001b[0m\u001b[36mScanner-1: \u001b[0m\u001b[mtimed termination at 1320.0 for action_nadir_scan\u001b[0m\n"
     ]
    },
    {
     "name": "stderr",
     "output_type": "stream",
     "text": [
      "\u001b[90;3m2024-07-15 13:46:54,612 \u001b[0m\u001b[mdata.base                      \u001b[0m\u001b[mINFO       \u001b[0m\u001b[33m<1320.00> \u001b[0m\u001b[mData reward: {'Scanner-1_4715111056': 0.009649122807017543}\u001b[0m\n"
     ]
    },
    {
     "name": "stderr",
     "output_type": "stream",
     "text": [
      "\u001b[90;3m2024-07-15 13:46:54,613 \u001b[0m\u001b[mgym                            \u001b[0m\u001b[mINFO       \u001b[0m\u001b[33m<1320.00> \u001b[0m\u001b[mSatellites requiring retasking: ['Scanner-1_4715111056']\u001b[0m\n"
     ]
    },
    {
     "name": "stderr",
     "output_type": "stream",
     "text": [
      "\u001b[90;3m2024-07-15 13:46:54,613 \u001b[0m\u001b[mgym                            \u001b[0m\u001b[mINFO       \u001b[0m\u001b[33m<1320.00> \u001b[0m\u001b[mStep reward: 0.009649122807017543\u001b[0m\n"
     ]
    },
    {
     "name": "stderr",
     "output_type": "stream",
     "text": [
      "\u001b[90;3m2024-07-15 13:46:54,614 \u001b[0m\u001b[mgym                            \u001b[0m\u001b[mINFO       \u001b[0m\u001b[33m<1320.00> \u001b[0m\u001b[93;1m=== STARTING STEP ===\u001b[0m\n"
     ]
    },
    {
     "name": "stderr",
     "output_type": "stream",
     "text": [
      "\u001b[90;3m2024-07-15 13:46:54,614 \u001b[0m\u001b[36msats.satellite.Scanner-1       \u001b[0m\u001b[mINFO       \u001b[0m\u001b[33m<1320.00> \u001b[0m\u001b[36mScanner-1: \u001b[0m\u001b[maction_downlink tasked for 60.0 seconds\u001b[0m\n"
     ]
    },
    {
     "name": "stderr",
     "output_type": "stream",
     "text": [
      "\u001b[90;3m2024-07-15 13:46:54,614 \u001b[0m\u001b[36msats.satellite.Scanner-1       \u001b[0m\u001b[mINFO       \u001b[0m\u001b[33m<1320.00> \u001b[0m\u001b[36mScanner-1: \u001b[0m\u001b[msetting timed terminal event at 1380.0\u001b[0m\n"
     ]
    },
    {
     "name": "stderr",
     "output_type": "stream",
     "text": [
      "\u001b[90;3m2024-07-15 13:46:54,614 \u001b[0m\u001b[msim.simulator                  \u001b[0m\u001b[mINFO       \u001b[0m\u001b[33m<1320.00> \u001b[0m\u001b[mRunning simulation at most to 11400.00 seconds\u001b[0m\n"
     ]
    },
    {
     "name": "stderr",
     "output_type": "stream",
     "text": [
      "\u001b[90;3m2024-07-15 13:46:54,618 \u001b[0m\u001b[36msats.satellite.Scanner-1       \u001b[0m\u001b[mINFO       \u001b[0m\u001b[33m<1380.00> \u001b[0m\u001b[36mScanner-1: \u001b[0m\u001b[mtimed termination at 1380.0 for action_downlink\u001b[0m\n"
     ]
    },
    {
     "name": "stderr",
     "output_type": "stream",
     "text": [
      "\u001b[90;3m2024-07-15 13:46:54,618 \u001b[0m\u001b[mdata.base                      \u001b[0m\u001b[mINFO       \u001b[0m\u001b[33m<1380.00> \u001b[0m\u001b[mData reward: {'Scanner-1_4715111056': 0.0}\u001b[0m\n"
     ]
    },
    {
     "name": "stderr",
     "output_type": "stream",
     "text": [
      "\u001b[90;3m2024-07-15 13:46:54,619 \u001b[0m\u001b[mgym                            \u001b[0m\u001b[mINFO       \u001b[0m\u001b[33m<1380.00> \u001b[0m\u001b[mSatellites requiring retasking: ['Scanner-1_4715111056']\u001b[0m\n"
     ]
    },
    {
     "name": "stderr",
     "output_type": "stream",
     "text": [
      "\u001b[90;3m2024-07-15 13:46:54,619 \u001b[0m\u001b[mgym                            \u001b[0m\u001b[mINFO       \u001b[0m\u001b[33m<1380.00> \u001b[0m\u001b[mStep reward: 0.0\u001b[0m\n"
     ]
    },
    {
     "name": "stderr",
     "output_type": "stream",
     "text": [
      "\u001b[90;3m2024-07-15 13:46:54,619 \u001b[0m\u001b[mgym                            \u001b[0m\u001b[mINFO       \u001b[0m\u001b[33m<1380.00> \u001b[0m\u001b[93;1m=== STARTING STEP ===\u001b[0m\n"
     ]
    },
    {
     "name": "stderr",
     "output_type": "stream",
     "text": [
      "\u001b[90;3m2024-07-15 13:46:54,619 \u001b[0m\u001b[36msats.satellite.Scanner-1       \u001b[0m\u001b[mINFO       \u001b[0m\u001b[33m<1380.00> \u001b[0m\u001b[36mScanner-1: \u001b[0m\u001b[maction_nadir_scan tasked for 180.0 seconds\u001b[0m\n"
     ]
    },
    {
     "name": "stderr",
     "output_type": "stream",
     "text": [
      "\u001b[90;3m2024-07-15 13:46:54,620 \u001b[0m\u001b[36msats.satellite.Scanner-1       \u001b[0m\u001b[mINFO       \u001b[0m\u001b[33m<1380.00> \u001b[0m\u001b[36mScanner-1: \u001b[0m\u001b[msetting timed terminal event at 1560.0\u001b[0m\n"
     ]
    },
    {
     "name": "stderr",
     "output_type": "stream",
     "text": [
      "\u001b[90;3m2024-07-15 13:46:54,620 \u001b[0m\u001b[msim.simulator                  \u001b[0m\u001b[mINFO       \u001b[0m\u001b[33m<1380.00> \u001b[0m\u001b[mRunning simulation at most to 11400.00 seconds\u001b[0m\n"
     ]
    },
    {
     "name": "stderr",
     "output_type": "stream",
     "text": [
      "\u001b[90;3m2024-07-15 13:46:54,630 \u001b[0m\u001b[36msats.satellite.Scanner-1       \u001b[0m\u001b[mINFO       \u001b[0m\u001b[33m<1560.00> \u001b[0m\u001b[36mScanner-1: \u001b[0m\u001b[mtimed termination at 1560.0 for action_nadir_scan\u001b[0m\n"
     ]
    },
    {
     "name": "stderr",
     "output_type": "stream",
     "text": [
      "\u001b[90;3m2024-07-15 13:46:54,630 \u001b[0m\u001b[mdata.base                      \u001b[0m\u001b[mINFO       \u001b[0m\u001b[33m<1560.00> \u001b[0m\u001b[mData reward: {'Scanner-1_4715111056': 0.011842105263157893}\u001b[0m\n"
     ]
    },
    {
     "name": "stderr",
     "output_type": "stream",
     "text": [
      "\u001b[90;3m2024-07-15 13:46:54,631 \u001b[0m\u001b[mgym                            \u001b[0m\u001b[mINFO       \u001b[0m\u001b[33m<1560.00> \u001b[0m\u001b[mSatellites requiring retasking: ['Scanner-1_4715111056']\u001b[0m\n"
     ]
    },
    {
     "name": "stderr",
     "output_type": "stream",
     "text": [
      "\u001b[90;3m2024-07-15 13:46:54,631 \u001b[0m\u001b[mgym                            \u001b[0m\u001b[mINFO       \u001b[0m\u001b[33m<1560.00> \u001b[0m\u001b[mStep reward: 0.011842105263157893\u001b[0m\n"
     ]
    },
    {
     "name": "stderr",
     "output_type": "stream",
     "text": [
      "\u001b[90;3m2024-07-15 13:46:54,631 \u001b[0m\u001b[mgym                            \u001b[0m\u001b[mINFO       \u001b[0m\u001b[33m<1560.00> \u001b[0m\u001b[93;1m=== STARTING STEP ===\u001b[0m\n"
     ]
    },
    {
     "name": "stderr",
     "output_type": "stream",
     "text": [
      "\u001b[90;3m2024-07-15 13:46:54,632 \u001b[0m\u001b[36msats.satellite.Scanner-1       \u001b[0m\u001b[mINFO       \u001b[0m\u001b[33m<1560.00> \u001b[0m\u001b[36mScanner-1: \u001b[0m\u001b[maction_charge tasked for 180.0 seconds\u001b[0m\n"
     ]
    },
    {
     "name": "stderr",
     "output_type": "stream",
     "text": [
      "\u001b[90;3m2024-07-15 13:46:54,632 \u001b[0m\u001b[36msats.satellite.Scanner-1       \u001b[0m\u001b[mINFO       \u001b[0m\u001b[33m<1560.00> \u001b[0m\u001b[36mScanner-1: \u001b[0m\u001b[msetting timed terminal event at 1740.0\u001b[0m\n"
     ]
    },
    {
     "name": "stderr",
     "output_type": "stream",
     "text": [
      "\u001b[90;3m2024-07-15 13:46:54,632 \u001b[0m\u001b[msim.simulator                  \u001b[0m\u001b[mINFO       \u001b[0m\u001b[33m<1560.00> \u001b[0m\u001b[mRunning simulation at most to 11400.00 seconds\u001b[0m\n"
     ]
    },
    {
     "name": "stderr",
     "output_type": "stream",
     "text": [
      "\u001b[90;3m2024-07-15 13:46:54,642 \u001b[0m\u001b[36msats.satellite.Scanner-1       \u001b[0m\u001b[mINFO       \u001b[0m\u001b[33m<1740.00> \u001b[0m\u001b[36mScanner-1: \u001b[0m\u001b[mtimed termination at 1740.0 for action_charge\u001b[0m\n"
     ]
    },
    {
     "name": "stderr",
     "output_type": "stream",
     "text": [
      "\u001b[90;3m2024-07-15 13:46:54,642 \u001b[0m\u001b[mdata.base                      \u001b[0m\u001b[mINFO       \u001b[0m\u001b[33m<1740.00> \u001b[0m\u001b[mData reward: {'Scanner-1_4715111056': 0.0}\u001b[0m\n"
     ]
    },
    {
     "name": "stderr",
     "output_type": "stream",
     "text": [
      "\u001b[90;3m2024-07-15 13:46:54,643 \u001b[0m\u001b[mgym                            \u001b[0m\u001b[mINFO       \u001b[0m\u001b[33m<1740.00> \u001b[0m\u001b[mSatellites requiring retasking: ['Scanner-1_4715111056']\u001b[0m\n"
     ]
    },
    {
     "name": "stderr",
     "output_type": "stream",
     "text": [
      "\u001b[90;3m2024-07-15 13:46:54,643 \u001b[0m\u001b[mgym                            \u001b[0m\u001b[mINFO       \u001b[0m\u001b[33m<1740.00> \u001b[0m\u001b[mStep reward: 0.0\u001b[0m\n"
     ]
    },
    {
     "name": "stderr",
     "output_type": "stream",
     "text": [
      "\u001b[90;3m2024-07-15 13:46:54,643 \u001b[0m\u001b[mgym                            \u001b[0m\u001b[mINFO       \u001b[0m\u001b[33m<1740.00> \u001b[0m\u001b[93;1m=== STARTING STEP ===\u001b[0m\n"
     ]
    },
    {
     "name": "stderr",
     "output_type": "stream",
     "text": [
      "\u001b[90;3m2024-07-15 13:46:54,644 \u001b[0m\u001b[36msats.satellite.Scanner-1       \u001b[0m\u001b[mINFO       \u001b[0m\u001b[33m<1740.00> \u001b[0m\u001b[36mScanner-1: \u001b[0m\u001b[maction_nadir_scan tasked for 180.0 seconds\u001b[0m\n"
     ]
    },
    {
     "name": "stderr",
     "output_type": "stream",
     "text": [
      "\u001b[90;3m2024-07-15 13:46:54,644 \u001b[0m\u001b[36msats.satellite.Scanner-1       \u001b[0m\u001b[mINFO       \u001b[0m\u001b[33m<1740.00> \u001b[0m\u001b[36mScanner-1: \u001b[0m\u001b[msetting timed terminal event at 1920.0\u001b[0m\n"
     ]
    },
    {
     "name": "stderr",
     "output_type": "stream",
     "text": [
      "\u001b[90;3m2024-07-15 13:46:54,644 \u001b[0m\u001b[msim.simulator                  \u001b[0m\u001b[mINFO       \u001b[0m\u001b[33m<1740.00> \u001b[0m\u001b[mRunning simulation at most to 11400.00 seconds\u001b[0m\n"
     ]
    },
    {
     "name": "stderr",
     "output_type": "stream",
     "text": [
      "\u001b[90;3m2024-07-15 13:46:54,654 \u001b[0m\u001b[36msats.satellite.Scanner-1       \u001b[0m\u001b[mINFO       \u001b[0m\u001b[33m<1920.00> \u001b[0m\u001b[36mScanner-1: \u001b[0m\u001b[mtimed termination at 1920.0 for action_nadir_scan\u001b[0m\n"
     ]
    },
    {
     "name": "stderr",
     "output_type": "stream",
     "text": [
      "\u001b[90;3m2024-07-15 13:46:54,654 \u001b[0m\u001b[mdata.base                      \u001b[0m\u001b[mINFO       \u001b[0m\u001b[33m<1920.00> \u001b[0m\u001b[mData reward: {'Scanner-1_4715111056': 0.013157894736842105}\u001b[0m\n"
     ]
    },
    {
     "name": "stderr",
     "output_type": "stream",
     "text": [
      "\u001b[90;3m2024-07-15 13:46:54,655 \u001b[0m\u001b[mgym                            \u001b[0m\u001b[mINFO       \u001b[0m\u001b[33m<1920.00> \u001b[0m\u001b[mSatellites requiring retasking: ['Scanner-1_4715111056']\u001b[0m\n"
     ]
    },
    {
     "name": "stderr",
     "output_type": "stream",
     "text": [
      "\u001b[90;3m2024-07-15 13:46:54,655 \u001b[0m\u001b[mgym                            \u001b[0m\u001b[mINFO       \u001b[0m\u001b[33m<1920.00> \u001b[0m\u001b[mStep reward: 0.013157894736842105\u001b[0m\n"
     ]
    },
    {
     "name": "stderr",
     "output_type": "stream",
     "text": [
      "\u001b[90;3m2024-07-15 13:46:54,655 \u001b[0m\u001b[mgym                            \u001b[0m\u001b[mINFO       \u001b[0m\u001b[33m<1920.00> \u001b[0m\u001b[93;1m=== STARTING STEP ===\u001b[0m\n"
     ]
    },
    {
     "name": "stderr",
     "output_type": "stream",
     "text": [
      "\u001b[90;3m2024-07-15 13:46:54,656 \u001b[0m\u001b[36msats.satellite.Scanner-1       \u001b[0m\u001b[mINFO       \u001b[0m\u001b[33m<1920.00> \u001b[0m\u001b[36mScanner-1: \u001b[0m\u001b[maction_charge tasked for 180.0 seconds\u001b[0m\n"
     ]
    },
    {
     "name": "stderr",
     "output_type": "stream",
     "text": [
      "\u001b[90;3m2024-07-15 13:46:54,656 \u001b[0m\u001b[36msats.satellite.Scanner-1       \u001b[0m\u001b[mINFO       \u001b[0m\u001b[33m<1920.00> \u001b[0m\u001b[36mScanner-1: \u001b[0m\u001b[msetting timed terminal event at 2100.0\u001b[0m\n"
     ]
    },
    {
     "name": "stderr",
     "output_type": "stream",
     "text": [
      "\u001b[90;3m2024-07-15 13:46:54,656 \u001b[0m\u001b[msim.simulator                  \u001b[0m\u001b[mINFO       \u001b[0m\u001b[33m<1920.00> \u001b[0m\u001b[mRunning simulation at most to 11400.00 seconds\u001b[0m\n"
     ]
    },
    {
     "name": "stderr",
     "output_type": "stream",
     "text": [
      "\u001b[90;3m2024-07-15 13:46:54,666 \u001b[0m\u001b[36msats.satellite.Scanner-1       \u001b[0m\u001b[mINFO       \u001b[0m\u001b[33m<2100.00> \u001b[0m\u001b[36mScanner-1: \u001b[0m\u001b[mtimed termination at 2100.0 for action_charge\u001b[0m\n"
     ]
    },
    {
     "name": "stderr",
     "output_type": "stream",
     "text": [
      "\u001b[90;3m2024-07-15 13:46:54,666 \u001b[0m\u001b[mdata.base                      \u001b[0m\u001b[mINFO       \u001b[0m\u001b[33m<2100.00> \u001b[0m\u001b[mData reward: {'Scanner-1_4715111056': 0.0}\u001b[0m\n"
     ]
    },
    {
     "name": "stderr",
     "output_type": "stream",
     "text": [
      "\u001b[90;3m2024-07-15 13:46:54,667 \u001b[0m\u001b[mgym                            \u001b[0m\u001b[mINFO       \u001b[0m\u001b[33m<2100.00> \u001b[0m\u001b[mSatellites requiring retasking: ['Scanner-1_4715111056']\u001b[0m\n"
     ]
    },
    {
     "name": "stderr",
     "output_type": "stream",
     "text": [
      "\u001b[90;3m2024-07-15 13:46:54,667 \u001b[0m\u001b[mgym                            \u001b[0m\u001b[mINFO       \u001b[0m\u001b[33m<2100.00> \u001b[0m\u001b[mStep reward: 0.0\u001b[0m\n"
     ]
    },
    {
     "name": "stderr",
     "output_type": "stream",
     "text": [
      "\u001b[90;3m2024-07-15 13:46:54,667 \u001b[0m\u001b[mgym                            \u001b[0m\u001b[mINFO       \u001b[0m\u001b[33m<2100.00> \u001b[0m\u001b[93;1m=== STARTING STEP ===\u001b[0m\n"
     ]
    },
    {
     "name": "stderr",
     "output_type": "stream",
     "text": [
      "\u001b[90;3m2024-07-15 13:46:54,668 \u001b[0m\u001b[36msats.satellite.Scanner-1       \u001b[0m\u001b[mINFO       \u001b[0m\u001b[33m<2100.00> \u001b[0m\u001b[36mScanner-1: \u001b[0m\u001b[maction_desat tasked for 60.0 seconds\u001b[0m\n"
     ]
    },
    {
     "name": "stderr",
     "output_type": "stream",
     "text": [
      "\u001b[90;3m2024-07-15 13:46:54,668 \u001b[0m\u001b[36msats.satellite.Scanner-1       \u001b[0m\u001b[mINFO       \u001b[0m\u001b[33m<2100.00> \u001b[0m\u001b[36mScanner-1: \u001b[0m\u001b[msetting timed terminal event at 2160.0\u001b[0m\n"
     ]
    },
    {
     "name": "stderr",
     "output_type": "stream",
     "text": [
      "\u001b[90;3m2024-07-15 13:46:54,668 \u001b[0m\u001b[msim.simulator                  \u001b[0m\u001b[mINFO       \u001b[0m\u001b[33m<2100.00> \u001b[0m\u001b[mRunning simulation at most to 11400.00 seconds\u001b[0m\n"
     ]
    },
    {
     "name": "stderr",
     "output_type": "stream",
     "text": [
      "\u001b[90;3m2024-07-15 13:46:54,672 \u001b[0m\u001b[36msats.satellite.Scanner-1       \u001b[0m\u001b[mINFO       \u001b[0m\u001b[33m<2160.00> \u001b[0m\u001b[36mScanner-1: \u001b[0m\u001b[mtimed termination at 2160.0 for action_desat\u001b[0m\n"
     ]
    },
    {
     "name": "stderr",
     "output_type": "stream",
     "text": [
      "\u001b[90;3m2024-07-15 13:46:54,672 \u001b[0m\u001b[mdata.base                      \u001b[0m\u001b[mINFO       \u001b[0m\u001b[33m<2160.00> \u001b[0m\u001b[mData reward: {'Scanner-1_4715111056': 0.0}\u001b[0m\n"
     ]
    },
    {
     "name": "stderr",
     "output_type": "stream",
     "text": [
      "\u001b[90;3m2024-07-15 13:46:54,673 \u001b[0m\u001b[mgym                            \u001b[0m\u001b[mINFO       \u001b[0m\u001b[33m<2160.00> \u001b[0m\u001b[mSatellites requiring retasking: ['Scanner-1_4715111056']\u001b[0m\n"
     ]
    },
    {
     "name": "stderr",
     "output_type": "stream",
     "text": [
      "\u001b[90;3m2024-07-15 13:46:54,673 \u001b[0m\u001b[mgym                            \u001b[0m\u001b[mINFO       \u001b[0m\u001b[33m<2160.00> \u001b[0m\u001b[mStep reward: 0.0\u001b[0m\n"
     ]
    },
    {
     "name": "stderr",
     "output_type": "stream",
     "text": [
      "\u001b[90;3m2024-07-15 13:46:54,673 \u001b[0m\u001b[mgym                            \u001b[0m\u001b[mINFO       \u001b[0m\u001b[33m<2160.00> \u001b[0m\u001b[93;1m=== STARTING STEP ===\u001b[0m\n"
     ]
    },
    {
     "name": "stderr",
     "output_type": "stream",
     "text": [
      "\u001b[90;3m2024-07-15 13:46:54,673 \u001b[0m\u001b[36msats.satellite.Scanner-1       \u001b[0m\u001b[mINFO       \u001b[0m\u001b[33m<2160.00> \u001b[0m\u001b[36mScanner-1: \u001b[0m\u001b[maction_downlink tasked for 60.0 seconds\u001b[0m\n"
     ]
    },
    {
     "name": "stderr",
     "output_type": "stream",
     "text": [
      "\u001b[90;3m2024-07-15 13:46:54,673 \u001b[0m\u001b[36msats.satellite.Scanner-1       \u001b[0m\u001b[mINFO       \u001b[0m\u001b[33m<2160.00> \u001b[0m\u001b[36mScanner-1: \u001b[0m\u001b[msetting timed terminal event at 2220.0\u001b[0m\n"
     ]
    },
    {
     "name": "stderr",
     "output_type": "stream",
     "text": [
      "\u001b[90;3m2024-07-15 13:46:54,674 \u001b[0m\u001b[msim.simulator                  \u001b[0m\u001b[mINFO       \u001b[0m\u001b[33m<2160.00> \u001b[0m\u001b[mRunning simulation at most to 11400.00 seconds\u001b[0m\n"
     ]
    },
    {
     "name": "stderr",
     "output_type": "stream",
     "text": [
      "\u001b[90;3m2024-07-15 13:46:54,677 \u001b[0m\u001b[36msats.satellite.Scanner-1       \u001b[0m\u001b[mINFO       \u001b[0m\u001b[33m<2220.00> \u001b[0m\u001b[36mScanner-1: \u001b[0m\u001b[mtimed termination at 2220.0 for action_downlink\u001b[0m\n"
     ]
    },
    {
     "name": "stderr",
     "output_type": "stream",
     "text": [
      "\u001b[90;3m2024-07-15 13:46:54,678 \u001b[0m\u001b[mdata.base                      \u001b[0m\u001b[mINFO       \u001b[0m\u001b[33m<2220.00> \u001b[0m\u001b[mData reward: {'Scanner-1_4715111056': 0.0}\u001b[0m\n"
     ]
    },
    {
     "name": "stderr",
     "output_type": "stream",
     "text": [
      "\u001b[90;3m2024-07-15 13:46:54,678 \u001b[0m\u001b[mgym                            \u001b[0m\u001b[mINFO       \u001b[0m\u001b[33m<2220.00> \u001b[0m\u001b[mSatellites requiring retasking: ['Scanner-1_4715111056']\u001b[0m\n"
     ]
    },
    {
     "name": "stderr",
     "output_type": "stream",
     "text": [
      "\u001b[90;3m2024-07-15 13:46:54,679 \u001b[0m\u001b[mgym                            \u001b[0m\u001b[mINFO       \u001b[0m\u001b[33m<2220.00> \u001b[0m\u001b[mStep reward: 0.0\u001b[0m\n"
     ]
    },
    {
     "name": "stderr",
     "output_type": "stream",
     "text": [
      "\u001b[90;3m2024-07-15 13:46:54,679 \u001b[0m\u001b[mgym                            \u001b[0m\u001b[mINFO       \u001b[0m\u001b[33m<2220.00> \u001b[0m\u001b[93;1m=== STARTING STEP ===\u001b[0m\n"
     ]
    },
    {
     "name": "stderr",
     "output_type": "stream",
     "text": [
      "\u001b[90;3m2024-07-15 13:46:54,679 \u001b[0m\u001b[36msats.satellite.Scanner-1       \u001b[0m\u001b[mINFO       \u001b[0m\u001b[33m<2220.00> \u001b[0m\u001b[36mScanner-1: \u001b[0m\u001b[maction_desat tasked for 60.0 seconds\u001b[0m\n"
     ]
    },
    {
     "name": "stderr",
     "output_type": "stream",
     "text": [
      "\u001b[90;3m2024-07-15 13:46:54,679 \u001b[0m\u001b[36msats.satellite.Scanner-1       \u001b[0m\u001b[mINFO       \u001b[0m\u001b[33m<2220.00> \u001b[0m\u001b[36mScanner-1: \u001b[0m\u001b[msetting timed terminal event at 2280.0\u001b[0m\n"
     ]
    },
    {
     "name": "stderr",
     "output_type": "stream",
     "text": [
      "\u001b[90;3m2024-07-15 13:46:54,680 \u001b[0m\u001b[msim.simulator                  \u001b[0m\u001b[mINFO       \u001b[0m\u001b[33m<2220.00> \u001b[0m\u001b[mRunning simulation at most to 11400.00 seconds\u001b[0m\n"
     ]
    },
    {
     "name": "stderr",
     "output_type": "stream",
     "text": [
      "\u001b[90;3m2024-07-15 13:46:54,683 \u001b[0m\u001b[36msats.satellite.Scanner-1       \u001b[0m\u001b[mINFO       \u001b[0m\u001b[33m<2280.00> \u001b[0m\u001b[36mScanner-1: \u001b[0m\u001b[mtimed termination at 2280.0 for action_desat\u001b[0m\n"
     ]
    },
    {
     "name": "stderr",
     "output_type": "stream",
     "text": [
      "\u001b[90;3m2024-07-15 13:46:54,683 \u001b[0m\u001b[mdata.base                      \u001b[0m\u001b[mINFO       \u001b[0m\u001b[33m<2280.00> \u001b[0m\u001b[mData reward: {'Scanner-1_4715111056': 0.0}\u001b[0m\n"
     ]
    },
    {
     "name": "stderr",
     "output_type": "stream",
     "text": [
      "\u001b[90;3m2024-07-15 13:46:54,684 \u001b[0m\u001b[mgym                            \u001b[0m\u001b[mINFO       \u001b[0m\u001b[33m<2280.00> \u001b[0m\u001b[mSatellites requiring retasking: ['Scanner-1_4715111056']\u001b[0m\n"
     ]
    },
    {
     "name": "stderr",
     "output_type": "stream",
     "text": [
      "\u001b[90;3m2024-07-15 13:46:54,684 \u001b[0m\u001b[mgym                            \u001b[0m\u001b[mINFO       \u001b[0m\u001b[33m<2280.00> \u001b[0m\u001b[mStep reward: 0.0\u001b[0m\n"
     ]
    },
    {
     "name": "stderr",
     "output_type": "stream",
     "text": [
      "\u001b[90;3m2024-07-15 13:46:54,685 \u001b[0m\u001b[mgym                            \u001b[0m\u001b[mINFO       \u001b[0m\u001b[33m<2280.00> \u001b[0m\u001b[93;1m=== STARTING STEP ===\u001b[0m\n"
     ]
    },
    {
     "name": "stderr",
     "output_type": "stream",
     "text": [
      "\u001b[90;3m2024-07-15 13:46:54,685 \u001b[0m\u001b[36msats.satellite.Scanner-1       \u001b[0m\u001b[mINFO       \u001b[0m\u001b[33m<2280.00> \u001b[0m\u001b[36mScanner-1: \u001b[0m\u001b[maction_desat tasked for 60.0 seconds\u001b[0m\n"
     ]
    },
    {
     "name": "stderr",
     "output_type": "stream",
     "text": [
      "\u001b[90;3m2024-07-15 13:46:54,685 \u001b[0m\u001b[36msats.satellite.Scanner-1       \u001b[0m\u001b[mINFO       \u001b[0m\u001b[33m<2280.00> \u001b[0m\u001b[36mScanner-1: \u001b[0m\u001b[msetting timed terminal event at 2340.0\u001b[0m\n"
     ]
    },
    {
     "name": "stderr",
     "output_type": "stream",
     "text": [
      "\u001b[90;3m2024-07-15 13:46:54,685 \u001b[0m\u001b[msim.simulator                  \u001b[0m\u001b[mINFO       \u001b[0m\u001b[33m<2280.00> \u001b[0m\u001b[mRunning simulation at most to 11400.00 seconds\u001b[0m\n"
     ]
    },
    {
     "name": "stderr",
     "output_type": "stream",
     "text": [
      "\u001b[90;3m2024-07-15 13:46:54,689 \u001b[0m\u001b[36msats.satellite.Scanner-1       \u001b[0m\u001b[mINFO       \u001b[0m\u001b[33m<2340.00> \u001b[0m\u001b[36mScanner-1: \u001b[0m\u001b[mtimed termination at 2340.0 for action_desat\u001b[0m\n"
     ]
    },
    {
     "name": "stderr",
     "output_type": "stream",
     "text": [
      "\u001b[90;3m2024-07-15 13:46:54,689 \u001b[0m\u001b[mdata.base                      \u001b[0m\u001b[mINFO       \u001b[0m\u001b[33m<2340.00> \u001b[0m\u001b[mData reward: {'Scanner-1_4715111056': 0.0}\u001b[0m\n"
     ]
    },
    {
     "name": "stderr",
     "output_type": "stream",
     "text": [
      "\u001b[90;3m2024-07-15 13:46:54,690 \u001b[0m\u001b[mgym                            \u001b[0m\u001b[mINFO       \u001b[0m\u001b[33m<2340.00> \u001b[0m\u001b[mSatellites requiring retasking: ['Scanner-1_4715111056']\u001b[0m\n"
     ]
    },
    {
     "name": "stderr",
     "output_type": "stream",
     "text": [
      "\u001b[90;3m2024-07-15 13:46:54,690 \u001b[0m\u001b[mgym                            \u001b[0m\u001b[mINFO       \u001b[0m\u001b[33m<2340.00> \u001b[0m\u001b[mStep reward: 0.0\u001b[0m\n"
     ]
    },
    {
     "name": "stderr",
     "output_type": "stream",
     "text": [
      "\u001b[90;3m2024-07-15 13:46:54,690 \u001b[0m\u001b[mgym                            \u001b[0m\u001b[mINFO       \u001b[0m\u001b[33m<2340.00> \u001b[0m\u001b[93;1m=== STARTING STEP ===\u001b[0m\n"
     ]
    },
    {
     "name": "stderr",
     "output_type": "stream",
     "text": [
      "\u001b[90;3m2024-07-15 13:46:54,691 \u001b[0m\u001b[36msats.satellite.Scanner-1       \u001b[0m\u001b[mINFO       \u001b[0m\u001b[33m<2340.00> \u001b[0m\u001b[36mScanner-1: \u001b[0m\u001b[maction_nadir_scan tasked for 180.0 seconds\u001b[0m\n"
     ]
    },
    {
     "name": "stderr",
     "output_type": "stream",
     "text": [
      "\u001b[90;3m2024-07-15 13:46:54,691 \u001b[0m\u001b[36msats.satellite.Scanner-1       \u001b[0m\u001b[mINFO       \u001b[0m\u001b[33m<2340.00> \u001b[0m\u001b[36mScanner-1: \u001b[0m\u001b[msetting timed terminal event at 2520.0\u001b[0m\n"
     ]
    },
    {
     "name": "stderr",
     "output_type": "stream",
     "text": [
      "\u001b[90;3m2024-07-15 13:46:54,691 \u001b[0m\u001b[msim.simulator                  \u001b[0m\u001b[mINFO       \u001b[0m\u001b[33m<2340.00> \u001b[0m\u001b[mRunning simulation at most to 11400.00 seconds\u001b[0m\n"
     ]
    },
    {
     "name": "stderr",
     "output_type": "stream",
     "text": [
      "\u001b[90;3m2024-07-15 13:46:54,701 \u001b[0m\u001b[36msats.satellite.Scanner-1       \u001b[0m\u001b[mINFO       \u001b[0m\u001b[33m<2520.00> \u001b[0m\u001b[36mScanner-1: \u001b[0m\u001b[mtimed termination at 2520.0 for action_nadir_scan\u001b[0m\n"
     ]
    },
    {
     "name": "stderr",
     "output_type": "stream",
     "text": [
      "\u001b[90;3m2024-07-15 13:46:54,701 \u001b[0m\u001b[mdata.base                      \u001b[0m\u001b[mINFO       \u001b[0m\u001b[33m<2520.00> \u001b[0m\u001b[mData reward: {'Scanner-1_4715111056': 0.00824561403508772}\u001b[0m\n"
     ]
    },
    {
     "name": "stderr",
     "output_type": "stream",
     "text": [
      "\u001b[90;3m2024-07-15 13:46:54,702 \u001b[0m\u001b[mgym                            \u001b[0m\u001b[mINFO       \u001b[0m\u001b[33m<2520.00> \u001b[0m\u001b[mSatellites requiring retasking: ['Scanner-1_4715111056']\u001b[0m\n"
     ]
    },
    {
     "name": "stderr",
     "output_type": "stream",
     "text": [
      "\u001b[90;3m2024-07-15 13:46:54,702 \u001b[0m\u001b[mgym                            \u001b[0m\u001b[mINFO       \u001b[0m\u001b[33m<2520.00> \u001b[0m\u001b[mStep reward: 0.00824561403508772\u001b[0m\n"
     ]
    },
    {
     "name": "stderr",
     "output_type": "stream",
     "text": [
      "\u001b[90;3m2024-07-15 13:46:54,702 \u001b[0m\u001b[mgym                            \u001b[0m\u001b[mINFO       \u001b[0m\u001b[33m<2520.00> \u001b[0m\u001b[93;1m=== STARTING STEP ===\u001b[0m\n"
     ]
    },
    {
     "name": "stderr",
     "output_type": "stream",
     "text": [
      "\u001b[90;3m2024-07-15 13:46:54,703 \u001b[0m\u001b[36msats.satellite.Scanner-1       \u001b[0m\u001b[mINFO       \u001b[0m\u001b[33m<2520.00> \u001b[0m\u001b[36mScanner-1: \u001b[0m\u001b[maction_charge tasked for 180.0 seconds\u001b[0m\n"
     ]
    },
    {
     "name": "stderr",
     "output_type": "stream",
     "text": [
      "\u001b[90;3m2024-07-15 13:46:54,703 \u001b[0m\u001b[36msats.satellite.Scanner-1       \u001b[0m\u001b[mINFO       \u001b[0m\u001b[33m<2520.00> \u001b[0m\u001b[36mScanner-1: \u001b[0m\u001b[msetting timed terminal event at 2700.0\u001b[0m\n"
     ]
    },
    {
     "name": "stderr",
     "output_type": "stream",
     "text": [
      "\u001b[90;3m2024-07-15 13:46:54,703 \u001b[0m\u001b[msim.simulator                  \u001b[0m\u001b[mINFO       \u001b[0m\u001b[33m<2520.00> \u001b[0m\u001b[mRunning simulation at most to 11400.00 seconds\u001b[0m\n"
     ]
    },
    {
     "name": "stderr",
     "output_type": "stream",
     "text": [
      "\u001b[90;3m2024-07-15 13:46:54,713 \u001b[0m\u001b[36msats.satellite.Scanner-1       \u001b[0m\u001b[mINFO       \u001b[0m\u001b[33m<2700.00> \u001b[0m\u001b[36mScanner-1: \u001b[0m\u001b[mtimed termination at 2700.0 for action_charge\u001b[0m\n"
     ]
    },
    {
     "name": "stderr",
     "output_type": "stream",
     "text": [
      "\u001b[90;3m2024-07-15 13:46:54,713 \u001b[0m\u001b[mdata.base                      \u001b[0m\u001b[mINFO       \u001b[0m\u001b[33m<2700.00> \u001b[0m\u001b[mData reward: {'Scanner-1_4715111056': 0.0}\u001b[0m\n"
     ]
    },
    {
     "name": "stderr",
     "output_type": "stream",
     "text": [
      "\u001b[90;3m2024-07-15 13:46:54,714 \u001b[0m\u001b[mgym                            \u001b[0m\u001b[mINFO       \u001b[0m\u001b[33m<2700.00> \u001b[0m\u001b[mSatellites requiring retasking: ['Scanner-1_4715111056']\u001b[0m\n"
     ]
    },
    {
     "name": "stderr",
     "output_type": "stream",
     "text": [
      "\u001b[90;3m2024-07-15 13:46:54,714 \u001b[0m\u001b[mgym                            \u001b[0m\u001b[mINFO       \u001b[0m\u001b[33m<2700.00> \u001b[0m\u001b[mStep reward: 0.0\u001b[0m\n"
     ]
    },
    {
     "name": "stderr",
     "output_type": "stream",
     "text": [
      "\u001b[90;3m2024-07-15 13:46:54,715 \u001b[0m\u001b[mgym                            \u001b[0m\u001b[mINFO       \u001b[0m\u001b[33m<2700.00> \u001b[0m\u001b[93;1m=== STARTING STEP ===\u001b[0m\n"
     ]
    },
    {
     "name": "stderr",
     "output_type": "stream",
     "text": [
      "\u001b[90;3m2024-07-15 13:46:54,715 \u001b[0m\u001b[36msats.satellite.Scanner-1       \u001b[0m\u001b[mINFO       \u001b[0m\u001b[33m<2700.00> \u001b[0m\u001b[36mScanner-1: \u001b[0m\u001b[maction_nadir_scan tasked for 180.0 seconds\u001b[0m\n"
     ]
    },
    {
     "name": "stderr",
     "output_type": "stream",
     "text": [
      "\u001b[90;3m2024-07-15 13:46:54,715 \u001b[0m\u001b[36msats.satellite.Scanner-1       \u001b[0m\u001b[mINFO       \u001b[0m\u001b[33m<2700.00> \u001b[0m\u001b[36mScanner-1: \u001b[0m\u001b[msetting timed terminal event at 2880.0\u001b[0m\n"
     ]
    },
    {
     "name": "stderr",
     "output_type": "stream",
     "text": [
      "\u001b[90;3m2024-07-15 13:46:54,715 \u001b[0m\u001b[msim.simulator                  \u001b[0m\u001b[mINFO       \u001b[0m\u001b[33m<2700.00> \u001b[0m\u001b[mRunning simulation at most to 11400.00 seconds\u001b[0m\n"
     ]
    },
    {
     "name": "stderr",
     "output_type": "stream",
     "text": [
      "\u001b[90;3m2024-07-15 13:46:54,725 \u001b[0m\u001b[36msats.satellite.Scanner-1       \u001b[0m\u001b[mINFO       \u001b[0m\u001b[33m<2880.00> \u001b[0m\u001b[36mScanner-1: \u001b[0m\u001b[mtimed termination at 2880.0 for action_nadir_scan\u001b[0m\n"
     ]
    },
    {
     "name": "stderr",
     "output_type": "stream",
     "text": [
      "\u001b[90;3m2024-07-15 13:46:54,725 \u001b[0m\u001b[mdata.base                      \u001b[0m\u001b[mINFO       \u001b[0m\u001b[33m<2880.00> \u001b[0m\u001b[mData reward: {'Scanner-1_4715111056': 0.01131578947368421}\u001b[0m\n"
     ]
    },
    {
     "name": "stderr",
     "output_type": "stream",
     "text": [
      "\u001b[90;3m2024-07-15 13:46:54,726 \u001b[0m\u001b[mgym                            \u001b[0m\u001b[mINFO       \u001b[0m\u001b[33m<2880.00> \u001b[0m\u001b[mSatellites requiring retasking: ['Scanner-1_4715111056']\u001b[0m\n"
     ]
    },
    {
     "name": "stderr",
     "output_type": "stream",
     "text": [
      "\u001b[90;3m2024-07-15 13:46:54,726 \u001b[0m\u001b[mgym                            \u001b[0m\u001b[mINFO       \u001b[0m\u001b[33m<2880.00> \u001b[0m\u001b[mStep reward: 0.01131578947368421\u001b[0m\n"
     ]
    },
    {
     "name": "stderr",
     "output_type": "stream",
     "text": [
      "\u001b[90;3m2024-07-15 13:46:54,727 \u001b[0m\u001b[mgym                            \u001b[0m\u001b[mINFO       \u001b[0m\u001b[33m<2880.00> \u001b[0m\u001b[93;1m=== STARTING STEP ===\u001b[0m\n"
     ]
    },
    {
     "name": "stderr",
     "output_type": "stream",
     "text": [
      "\u001b[90;3m2024-07-15 13:46:54,727 \u001b[0m\u001b[36msats.satellite.Scanner-1       \u001b[0m\u001b[mINFO       \u001b[0m\u001b[33m<2880.00> \u001b[0m\u001b[36mScanner-1: \u001b[0m\u001b[maction_charge tasked for 180.0 seconds\u001b[0m\n"
     ]
    },
    {
     "name": "stderr",
     "output_type": "stream",
     "text": [
      "\u001b[90;3m2024-07-15 13:46:54,727 \u001b[0m\u001b[36msats.satellite.Scanner-1       \u001b[0m\u001b[mINFO       \u001b[0m\u001b[33m<2880.00> \u001b[0m\u001b[36mScanner-1: \u001b[0m\u001b[msetting timed terminal event at 3060.0\u001b[0m\n"
     ]
    },
    {
     "name": "stderr",
     "output_type": "stream",
     "text": [
      "\u001b[90;3m2024-07-15 13:46:54,727 \u001b[0m\u001b[msim.simulator                  \u001b[0m\u001b[mINFO       \u001b[0m\u001b[33m<2880.00> \u001b[0m\u001b[mRunning simulation at most to 11400.00 seconds\u001b[0m\n"
     ]
    },
    {
     "name": "stderr",
     "output_type": "stream",
     "text": [
      "\u001b[90;3m2024-07-15 13:46:54,737 \u001b[0m\u001b[36msats.satellite.Scanner-1       \u001b[0m\u001b[mINFO       \u001b[0m\u001b[33m<3060.00> \u001b[0m\u001b[36mScanner-1: \u001b[0m\u001b[mtimed termination at 3060.0 for action_charge\u001b[0m\n"
     ]
    },
    {
     "name": "stderr",
     "output_type": "stream",
     "text": [
      "\u001b[90;3m2024-07-15 13:46:54,738 \u001b[0m\u001b[mdata.base                      \u001b[0m\u001b[mINFO       \u001b[0m\u001b[33m<3060.00> \u001b[0m\u001b[mData reward: {'Scanner-1_4715111056': 0.0}\u001b[0m\n"
     ]
    },
    {
     "name": "stderr",
     "output_type": "stream",
     "text": [
      "\u001b[90;3m2024-07-15 13:46:54,738 \u001b[0m\u001b[mgym                            \u001b[0m\u001b[mINFO       \u001b[0m\u001b[33m<3060.00> \u001b[0m\u001b[mSatellites requiring retasking: ['Scanner-1_4715111056']\u001b[0m\n"
     ]
    },
    {
     "name": "stderr",
     "output_type": "stream",
     "text": [
      "\u001b[90;3m2024-07-15 13:46:54,738 \u001b[0m\u001b[mgym                            \u001b[0m\u001b[mINFO       \u001b[0m\u001b[33m<3060.00> \u001b[0m\u001b[mStep reward: 0.0\u001b[0m\n"
     ]
    },
    {
     "name": "stderr",
     "output_type": "stream",
     "text": [
      "\u001b[90;3m2024-07-15 13:46:54,739 \u001b[0m\u001b[mgym                            \u001b[0m\u001b[mINFO       \u001b[0m\u001b[33m<3060.00> \u001b[0m\u001b[93;1m=== STARTING STEP ===\u001b[0m\n"
     ]
    },
    {
     "name": "stderr",
     "output_type": "stream",
     "text": [
      "\u001b[90;3m2024-07-15 13:46:54,739 \u001b[0m\u001b[36msats.satellite.Scanner-1       \u001b[0m\u001b[mINFO       \u001b[0m\u001b[33m<3060.00> \u001b[0m\u001b[36mScanner-1: \u001b[0m\u001b[maction_nadir_scan tasked for 180.0 seconds\u001b[0m\n"
     ]
    },
    {
     "name": "stderr",
     "output_type": "stream",
     "text": [
      "\u001b[90;3m2024-07-15 13:46:54,739 \u001b[0m\u001b[36msats.satellite.Scanner-1       \u001b[0m\u001b[mINFO       \u001b[0m\u001b[33m<3060.00> \u001b[0m\u001b[36mScanner-1: \u001b[0m\u001b[msetting timed terminal event at 3240.0\u001b[0m\n"
     ]
    },
    {
     "name": "stderr",
     "output_type": "stream",
     "text": [
      "\u001b[90;3m2024-07-15 13:46:54,739 \u001b[0m\u001b[msim.simulator                  \u001b[0m\u001b[mINFO       \u001b[0m\u001b[33m<3060.00> \u001b[0m\u001b[mRunning simulation at most to 11400.00 seconds\u001b[0m\n"
     ]
    },
    {
     "name": "stderr",
     "output_type": "stream",
     "text": [
      "\u001b[90;3m2024-07-15 13:46:54,749 \u001b[0m\u001b[36msats.satellite.Scanner-1       \u001b[0m\u001b[mINFO       \u001b[0m\u001b[33m<3240.00> \u001b[0m\u001b[36mScanner-1: \u001b[0m\u001b[mtimed termination at 3240.0 for action_nadir_scan\u001b[0m\n"
     ]
    },
    {
     "name": "stderr",
     "output_type": "stream",
     "text": [
      "\u001b[90;3m2024-07-15 13:46:54,750 \u001b[0m\u001b[mdata.base                      \u001b[0m\u001b[mINFO       \u001b[0m\u001b[33m<3240.00> \u001b[0m\u001b[mData reward: {'Scanner-1_4715111056': 0.00719298245614035}\u001b[0m\n"
     ]
    },
    {
     "name": "stderr",
     "output_type": "stream",
     "text": [
      "\u001b[90;3m2024-07-15 13:46:54,750 \u001b[0m\u001b[mgym                            \u001b[0m\u001b[mINFO       \u001b[0m\u001b[33m<3240.00> \u001b[0m\u001b[mSatellites requiring retasking: ['Scanner-1_4715111056']\u001b[0m\n"
     ]
    },
    {
     "name": "stderr",
     "output_type": "stream",
     "text": [
      "\u001b[90;3m2024-07-15 13:46:54,750 \u001b[0m\u001b[mgym                            \u001b[0m\u001b[mINFO       \u001b[0m\u001b[33m<3240.00> \u001b[0m\u001b[mStep reward: 0.00719298245614035\u001b[0m\n"
     ]
    },
    {
     "name": "stderr",
     "output_type": "stream",
     "text": [
      "\u001b[90;3m2024-07-15 13:46:54,751 \u001b[0m\u001b[mgym                            \u001b[0m\u001b[mINFO       \u001b[0m\u001b[33m<3240.00> \u001b[0m\u001b[93;1m=== STARTING STEP ===\u001b[0m\n"
     ]
    },
    {
     "name": "stderr",
     "output_type": "stream",
     "text": [
      "\u001b[90;3m2024-07-15 13:46:54,751 \u001b[0m\u001b[36msats.satellite.Scanner-1       \u001b[0m\u001b[mINFO       \u001b[0m\u001b[33m<3240.00> \u001b[0m\u001b[36mScanner-1: \u001b[0m\u001b[maction_desat tasked for 60.0 seconds\u001b[0m\n"
     ]
    },
    {
     "name": "stderr",
     "output_type": "stream",
     "text": [
      "\u001b[90;3m2024-07-15 13:46:54,751 \u001b[0m\u001b[36msats.satellite.Scanner-1       \u001b[0m\u001b[mINFO       \u001b[0m\u001b[33m<3240.00> \u001b[0m\u001b[36mScanner-1: \u001b[0m\u001b[msetting timed terminal event at 3300.0\u001b[0m\n"
     ]
    },
    {
     "name": "stderr",
     "output_type": "stream",
     "text": [
      "\u001b[90;3m2024-07-15 13:46:54,751 \u001b[0m\u001b[msim.simulator                  \u001b[0m\u001b[mINFO       \u001b[0m\u001b[33m<3240.00> \u001b[0m\u001b[mRunning simulation at most to 11400.00 seconds\u001b[0m\n"
     ]
    },
    {
     "name": "stderr",
     "output_type": "stream",
     "text": [
      "\u001b[90;3m2024-07-15 13:46:54,755 \u001b[0m\u001b[36msats.satellite.Scanner-1       \u001b[0m\u001b[mINFO       \u001b[0m\u001b[33m<3300.00> \u001b[0m\u001b[36mScanner-1: \u001b[0m\u001b[mtimed termination at 3300.0 for action_desat\u001b[0m\n"
     ]
    },
    {
     "name": "stderr",
     "output_type": "stream",
     "text": [
      "\u001b[90;3m2024-07-15 13:46:54,755 \u001b[0m\u001b[mdata.base                      \u001b[0m\u001b[mINFO       \u001b[0m\u001b[33m<3300.00> \u001b[0m\u001b[mData reward: {'Scanner-1_4715111056': 0.0}\u001b[0m\n"
     ]
    },
    {
     "name": "stderr",
     "output_type": "stream",
     "text": [
      "\u001b[90;3m2024-07-15 13:46:54,756 \u001b[0m\u001b[mgym                            \u001b[0m\u001b[mINFO       \u001b[0m\u001b[33m<3300.00> \u001b[0m\u001b[mSatellites requiring retasking: ['Scanner-1_4715111056']\u001b[0m\n"
     ]
    },
    {
     "name": "stderr",
     "output_type": "stream",
     "text": [
      "\u001b[90;3m2024-07-15 13:46:54,756 \u001b[0m\u001b[mgym                            \u001b[0m\u001b[mINFO       \u001b[0m\u001b[33m<3300.00> \u001b[0m\u001b[mStep reward: 0.0\u001b[0m\n"
     ]
    },
    {
     "name": "stderr",
     "output_type": "stream",
     "text": [
      "\u001b[90;3m2024-07-15 13:46:54,757 \u001b[0m\u001b[mgym                            \u001b[0m\u001b[mINFO       \u001b[0m\u001b[33m<3300.00> \u001b[0m\u001b[93;1m=== STARTING STEP ===\u001b[0m\n"
     ]
    },
    {
     "name": "stderr",
     "output_type": "stream",
     "text": [
      "\u001b[90;3m2024-07-15 13:46:54,757 \u001b[0m\u001b[36msats.satellite.Scanner-1       \u001b[0m\u001b[mINFO       \u001b[0m\u001b[33m<3300.00> \u001b[0m\u001b[36mScanner-1: \u001b[0m\u001b[maction_downlink tasked for 60.0 seconds\u001b[0m\n"
     ]
    },
    {
     "name": "stderr",
     "output_type": "stream",
     "text": [
      "\u001b[90;3m2024-07-15 13:46:54,757 \u001b[0m\u001b[36msats.satellite.Scanner-1       \u001b[0m\u001b[mINFO       \u001b[0m\u001b[33m<3300.00> \u001b[0m\u001b[36mScanner-1: \u001b[0m\u001b[msetting timed terminal event at 3360.0\u001b[0m\n"
     ]
    },
    {
     "name": "stderr",
     "output_type": "stream",
     "text": [
      "\u001b[90;3m2024-07-15 13:46:54,757 \u001b[0m\u001b[msim.simulator                  \u001b[0m\u001b[mINFO       \u001b[0m\u001b[33m<3300.00> \u001b[0m\u001b[mRunning simulation at most to 11400.00 seconds\u001b[0m\n"
     ]
    },
    {
     "name": "stderr",
     "output_type": "stream",
     "text": [
      "\u001b[90;3m2024-07-15 13:46:54,761 \u001b[0m\u001b[36msats.satellite.Scanner-1       \u001b[0m\u001b[mINFO       \u001b[0m\u001b[33m<3360.00> \u001b[0m\u001b[36mScanner-1: \u001b[0m\u001b[mtimed termination at 3360.0 for action_downlink\u001b[0m\n"
     ]
    },
    {
     "name": "stderr",
     "output_type": "stream",
     "text": [
      "\u001b[90;3m2024-07-15 13:46:54,761 \u001b[0m\u001b[mdata.base                      \u001b[0m\u001b[mINFO       \u001b[0m\u001b[33m<3360.00> \u001b[0m\u001b[mData reward: {'Scanner-1_4715111056': 0.0}\u001b[0m\n"
     ]
    },
    {
     "name": "stderr",
     "output_type": "stream",
     "text": [
      "\u001b[90;3m2024-07-15 13:46:54,762 \u001b[0m\u001b[mgym                            \u001b[0m\u001b[mINFO       \u001b[0m\u001b[33m<3360.00> \u001b[0m\u001b[mSatellites requiring retasking: ['Scanner-1_4715111056']\u001b[0m\n"
     ]
    },
    {
     "name": "stderr",
     "output_type": "stream",
     "text": [
      "\u001b[90;3m2024-07-15 13:46:54,762 \u001b[0m\u001b[mgym                            \u001b[0m\u001b[mINFO       \u001b[0m\u001b[33m<3360.00> \u001b[0m\u001b[mStep reward: 0.0\u001b[0m\n"
     ]
    },
    {
     "name": "stderr",
     "output_type": "stream",
     "text": [
      "\u001b[90;3m2024-07-15 13:46:54,762 \u001b[0m\u001b[mgym                            \u001b[0m\u001b[mINFO       \u001b[0m\u001b[33m<3360.00> \u001b[0m\u001b[93;1m=== STARTING STEP ===\u001b[0m\n"
     ]
    },
    {
     "name": "stderr",
     "output_type": "stream",
     "text": [
      "\u001b[90;3m2024-07-15 13:46:54,762 \u001b[0m\u001b[36msats.satellite.Scanner-1       \u001b[0m\u001b[mINFO       \u001b[0m\u001b[33m<3360.00> \u001b[0m\u001b[36mScanner-1: \u001b[0m\u001b[maction_nadir_scan tasked for 180.0 seconds\u001b[0m\n"
     ]
    },
    {
     "name": "stderr",
     "output_type": "stream",
     "text": [
      "\u001b[90;3m2024-07-15 13:46:54,763 \u001b[0m\u001b[36msats.satellite.Scanner-1       \u001b[0m\u001b[mINFO       \u001b[0m\u001b[33m<3360.00> \u001b[0m\u001b[36mScanner-1: \u001b[0m\u001b[msetting timed terminal event at 3540.0\u001b[0m\n"
     ]
    },
    {
     "name": "stderr",
     "output_type": "stream",
     "text": [
      "\u001b[90;3m2024-07-15 13:46:54,763 \u001b[0m\u001b[msim.simulator                  \u001b[0m\u001b[mINFO       \u001b[0m\u001b[33m<3360.00> \u001b[0m\u001b[mRunning simulation at most to 11400.00 seconds\u001b[0m\n"
     ]
    },
    {
     "name": "stderr",
     "output_type": "stream",
     "text": [
      "\u001b[90;3m2024-07-15 13:46:54,773 \u001b[0m\u001b[36msats.satellite.Scanner-1       \u001b[0m\u001b[mINFO       \u001b[0m\u001b[33m<3540.00> \u001b[0m\u001b[36mScanner-1: \u001b[0m\u001b[mtimed termination at 3540.0 for action_nadir_scan\u001b[0m\n"
     ]
    },
    {
     "name": "stderr",
     "output_type": "stream",
     "text": [
      "\u001b[90;3m2024-07-15 13:46:54,773 \u001b[0m\u001b[mdata.base                      \u001b[0m\u001b[mINFO       \u001b[0m\u001b[33m<3540.00> \u001b[0m\u001b[mData reward: {'Scanner-1_4715111056': 0.009649122807017543}\u001b[0m\n"
     ]
    },
    {
     "name": "stderr",
     "output_type": "stream",
     "text": [
      "\u001b[90;3m2024-07-15 13:46:54,774 \u001b[0m\u001b[mgym                            \u001b[0m\u001b[mINFO       \u001b[0m\u001b[33m<3540.00> \u001b[0m\u001b[mSatellites requiring retasking: ['Scanner-1_4715111056']\u001b[0m\n"
     ]
    },
    {
     "name": "stderr",
     "output_type": "stream",
     "text": [
      "\u001b[90;3m2024-07-15 13:46:54,774 \u001b[0m\u001b[mgym                            \u001b[0m\u001b[mINFO       \u001b[0m\u001b[33m<3540.00> \u001b[0m\u001b[mStep reward: 0.009649122807017543\u001b[0m\n"
     ]
    },
    {
     "name": "stderr",
     "output_type": "stream",
     "text": [
      "\u001b[90;3m2024-07-15 13:46:54,774 \u001b[0m\u001b[mgym                            \u001b[0m\u001b[mINFO       \u001b[0m\u001b[33m<3540.00> \u001b[0m\u001b[93;1m=== STARTING STEP ===\u001b[0m\n"
     ]
    },
    {
     "name": "stderr",
     "output_type": "stream",
     "text": [
      "\u001b[90;3m2024-07-15 13:46:54,775 \u001b[0m\u001b[36msats.satellite.Scanner-1       \u001b[0m\u001b[mINFO       \u001b[0m\u001b[33m<3540.00> \u001b[0m\u001b[36mScanner-1: \u001b[0m\u001b[maction_downlink tasked for 60.0 seconds\u001b[0m\n"
     ]
    },
    {
     "name": "stderr",
     "output_type": "stream",
     "text": [
      "\u001b[90;3m2024-07-15 13:46:54,775 \u001b[0m\u001b[36msats.satellite.Scanner-1       \u001b[0m\u001b[mINFO       \u001b[0m\u001b[33m<3540.00> \u001b[0m\u001b[36mScanner-1: \u001b[0m\u001b[msetting timed terminal event at 3600.0\u001b[0m\n"
     ]
    },
    {
     "name": "stderr",
     "output_type": "stream",
     "text": [
      "\u001b[90;3m2024-07-15 13:46:54,775 \u001b[0m\u001b[msim.simulator                  \u001b[0m\u001b[mINFO       \u001b[0m\u001b[33m<3540.00> \u001b[0m\u001b[mRunning simulation at most to 11400.00 seconds\u001b[0m\n"
     ]
    },
    {
     "name": "stderr",
     "output_type": "stream",
     "text": [
      "\u001b[90;3m2024-07-15 13:46:54,779 \u001b[0m\u001b[36msats.satellite.Scanner-1       \u001b[0m\u001b[mINFO       \u001b[0m\u001b[33m<3600.00> \u001b[0m\u001b[36mScanner-1: \u001b[0m\u001b[mtimed termination at 3600.0 for action_downlink\u001b[0m\n"
     ]
    },
    {
     "name": "stderr",
     "output_type": "stream",
     "text": [
      "\u001b[90;3m2024-07-15 13:46:54,779 \u001b[0m\u001b[mdata.base                      \u001b[0m\u001b[mINFO       \u001b[0m\u001b[33m<3600.00> \u001b[0m\u001b[mData reward: {'Scanner-1_4715111056': 0.0}\u001b[0m\n"
     ]
    },
    {
     "name": "stderr",
     "output_type": "stream",
     "text": [
      "\u001b[90;3m2024-07-15 13:46:54,780 \u001b[0m\u001b[mgym                            \u001b[0m\u001b[mINFO       \u001b[0m\u001b[33m<3600.00> \u001b[0m\u001b[mSatellites requiring retasking: ['Scanner-1_4715111056']\u001b[0m\n"
     ]
    },
    {
     "name": "stderr",
     "output_type": "stream",
     "text": [
      "\u001b[90;3m2024-07-15 13:46:54,780 \u001b[0m\u001b[mgym                            \u001b[0m\u001b[mINFO       \u001b[0m\u001b[33m<3600.00> \u001b[0m\u001b[mStep reward: 0.0\u001b[0m\n"
     ]
    },
    {
     "name": "stderr",
     "output_type": "stream",
     "text": [
      "\u001b[90;3m2024-07-15 13:46:54,780 \u001b[0m\u001b[mgym                            \u001b[0m\u001b[mINFO       \u001b[0m\u001b[33m<3600.00> \u001b[0m\u001b[93;1m=== STARTING STEP ===\u001b[0m\n"
     ]
    },
    {
     "name": "stderr",
     "output_type": "stream",
     "text": [
      "\u001b[90;3m2024-07-15 13:46:54,781 \u001b[0m\u001b[36msats.satellite.Scanner-1       \u001b[0m\u001b[mINFO       \u001b[0m\u001b[33m<3600.00> \u001b[0m\u001b[36mScanner-1: \u001b[0m\u001b[maction_downlink tasked for 60.0 seconds\u001b[0m\n"
     ]
    },
    {
     "name": "stderr",
     "output_type": "stream",
     "text": [
      "\u001b[90;3m2024-07-15 13:46:54,781 \u001b[0m\u001b[36msats.satellite.Scanner-1       \u001b[0m\u001b[mINFO       \u001b[0m\u001b[33m<3600.00> \u001b[0m\u001b[36mScanner-1: \u001b[0m\u001b[msetting timed terminal event at 3660.0\u001b[0m\n"
     ]
    },
    {
     "name": "stderr",
     "output_type": "stream",
     "text": [
      "\u001b[90;3m2024-07-15 13:46:54,781 \u001b[0m\u001b[msim.simulator                  \u001b[0m\u001b[mINFO       \u001b[0m\u001b[33m<3600.00> \u001b[0m\u001b[mRunning simulation at most to 11400.00 seconds\u001b[0m\n"
     ]
    },
    {
     "name": "stderr",
     "output_type": "stream",
     "text": [
      "\u001b[90;3m2024-07-15 13:46:54,785 \u001b[0m\u001b[36msats.satellite.Scanner-1       \u001b[0m\u001b[mINFO       \u001b[0m\u001b[33m<3660.00> \u001b[0m\u001b[36mScanner-1: \u001b[0m\u001b[mtimed termination at 3660.0 for action_downlink\u001b[0m\n"
     ]
    },
    {
     "name": "stderr",
     "output_type": "stream",
     "text": [
      "\u001b[90;3m2024-07-15 13:46:54,785 \u001b[0m\u001b[mdata.base                      \u001b[0m\u001b[mINFO       \u001b[0m\u001b[33m<3660.00> \u001b[0m\u001b[mData reward: {'Scanner-1_4715111056': 0.0}\u001b[0m\n"
     ]
    },
    {
     "name": "stderr",
     "output_type": "stream",
     "text": [
      "\u001b[90;3m2024-07-15 13:46:54,786 \u001b[0m\u001b[mgym                            \u001b[0m\u001b[mINFO       \u001b[0m\u001b[33m<3660.00> \u001b[0m\u001b[mSatellites requiring retasking: ['Scanner-1_4715111056']\u001b[0m\n"
     ]
    },
    {
     "name": "stderr",
     "output_type": "stream",
     "text": [
      "\u001b[90;3m2024-07-15 13:46:54,786 \u001b[0m\u001b[mgym                            \u001b[0m\u001b[mINFO       \u001b[0m\u001b[33m<3660.00> \u001b[0m\u001b[mStep reward: 0.0\u001b[0m\n"
     ]
    },
    {
     "name": "stderr",
     "output_type": "stream",
     "text": [
      "\u001b[90;3m2024-07-15 13:46:54,786 \u001b[0m\u001b[mgym                            \u001b[0m\u001b[mINFO       \u001b[0m\u001b[33m<3660.00> \u001b[0m\u001b[93;1m=== STARTING STEP ===\u001b[0m\n"
     ]
    },
    {
     "name": "stderr",
     "output_type": "stream",
     "text": [
      "\u001b[90;3m2024-07-15 13:46:54,786 \u001b[0m\u001b[36msats.satellite.Scanner-1       \u001b[0m\u001b[mINFO       \u001b[0m\u001b[33m<3660.00> \u001b[0m\u001b[36mScanner-1: \u001b[0m\u001b[maction_nadir_scan tasked for 180.0 seconds\u001b[0m\n"
     ]
    },
    {
     "name": "stderr",
     "output_type": "stream",
     "text": [
      "\u001b[90;3m2024-07-15 13:46:54,786 \u001b[0m\u001b[36msats.satellite.Scanner-1       \u001b[0m\u001b[mINFO       \u001b[0m\u001b[33m<3660.00> \u001b[0m\u001b[36mScanner-1: \u001b[0m\u001b[msetting timed terminal event at 3840.0\u001b[0m\n"
     ]
    },
    {
     "name": "stderr",
     "output_type": "stream",
     "text": [
      "\u001b[90;3m2024-07-15 13:46:54,787 \u001b[0m\u001b[msim.simulator                  \u001b[0m\u001b[mINFO       \u001b[0m\u001b[33m<3660.00> \u001b[0m\u001b[mRunning simulation at most to 11400.00 seconds\u001b[0m\n"
     ]
    },
    {
     "name": "stderr",
     "output_type": "stream",
     "text": [
      "\u001b[90;3m2024-07-15 13:46:54,797 \u001b[0m\u001b[36msats.satellite.Scanner-1       \u001b[0m\u001b[mINFO       \u001b[0m\u001b[33m<3840.00> \u001b[0m\u001b[36mScanner-1: \u001b[0m\u001b[mtimed termination at 3840.0 for action_nadir_scan\u001b[0m\n"
     ]
    },
    {
     "name": "stderr",
     "output_type": "stream",
     "text": [
      "\u001b[90;3m2024-07-15 13:46:54,797 \u001b[0m\u001b[mdata.base                      \u001b[0m\u001b[mINFO       \u001b[0m\u001b[33m<3840.00> \u001b[0m\u001b[mData reward: {'Scanner-1_4715111056': 0.010964912280701754}\u001b[0m\n"
     ]
    },
    {
     "name": "stderr",
     "output_type": "stream",
     "text": [
      "\u001b[90;3m2024-07-15 13:46:54,798 \u001b[0m\u001b[mgym                            \u001b[0m\u001b[mINFO       \u001b[0m\u001b[33m<3840.00> \u001b[0m\u001b[mSatellites requiring retasking: ['Scanner-1_4715111056']\u001b[0m\n"
     ]
    },
    {
     "name": "stderr",
     "output_type": "stream",
     "text": [
      "\u001b[90;3m2024-07-15 13:46:54,798 \u001b[0m\u001b[mgym                            \u001b[0m\u001b[mINFO       \u001b[0m\u001b[33m<3840.00> \u001b[0m\u001b[mStep reward: 0.010964912280701754\u001b[0m\n"
     ]
    },
    {
     "name": "stderr",
     "output_type": "stream",
     "text": [
      "\u001b[90;3m2024-07-15 13:46:54,798 \u001b[0m\u001b[mgym                            \u001b[0m\u001b[mINFO       \u001b[0m\u001b[33m<3840.00> \u001b[0m\u001b[93;1m=== STARTING STEP ===\u001b[0m\n"
     ]
    },
    {
     "name": "stderr",
     "output_type": "stream",
     "text": [
      "\u001b[90;3m2024-07-15 13:46:54,798 \u001b[0m\u001b[36msats.satellite.Scanner-1       \u001b[0m\u001b[mINFO       \u001b[0m\u001b[33m<3840.00> \u001b[0m\u001b[36mScanner-1: \u001b[0m\u001b[maction_charge tasked for 180.0 seconds\u001b[0m\n"
     ]
    },
    {
     "name": "stderr",
     "output_type": "stream",
     "text": [
      "\u001b[90;3m2024-07-15 13:46:54,799 \u001b[0m\u001b[36msats.satellite.Scanner-1       \u001b[0m\u001b[mINFO       \u001b[0m\u001b[33m<3840.00> \u001b[0m\u001b[36mScanner-1: \u001b[0m\u001b[msetting timed terminal event at 4020.0\u001b[0m\n"
     ]
    },
    {
     "name": "stderr",
     "output_type": "stream",
     "text": [
      "\u001b[90;3m2024-07-15 13:46:54,799 \u001b[0m\u001b[msim.simulator                  \u001b[0m\u001b[mINFO       \u001b[0m\u001b[33m<3840.00> \u001b[0m\u001b[mRunning simulation at most to 11400.00 seconds\u001b[0m\n"
     ]
    },
    {
     "name": "stderr",
     "output_type": "stream",
     "text": [
      "\u001b[90;3m2024-07-15 13:46:54,809 \u001b[0m\u001b[36msats.satellite.Scanner-1       \u001b[0m\u001b[mINFO       \u001b[0m\u001b[33m<4020.00> \u001b[0m\u001b[36mScanner-1: \u001b[0m\u001b[mtimed termination at 4020.0 for action_charge\u001b[0m\n"
     ]
    },
    {
     "name": "stderr",
     "output_type": "stream",
     "text": [
      "\u001b[90;3m2024-07-15 13:46:54,809 \u001b[0m\u001b[mdata.base                      \u001b[0m\u001b[mINFO       \u001b[0m\u001b[33m<4020.00> \u001b[0m\u001b[mData reward: {'Scanner-1_4715111056': 0.0}\u001b[0m\n"
     ]
    },
    {
     "name": "stderr",
     "output_type": "stream",
     "text": [
      "\u001b[90;3m2024-07-15 13:46:54,810 \u001b[0m\u001b[mgym                            \u001b[0m\u001b[mINFO       \u001b[0m\u001b[33m<4020.00> \u001b[0m\u001b[mSatellites requiring retasking: ['Scanner-1_4715111056']\u001b[0m\n"
     ]
    },
    {
     "name": "stderr",
     "output_type": "stream",
     "text": [
      "\u001b[90;3m2024-07-15 13:46:54,810 \u001b[0m\u001b[mgym                            \u001b[0m\u001b[mINFO       \u001b[0m\u001b[33m<4020.00> \u001b[0m\u001b[mStep reward: 0.0\u001b[0m\n"
     ]
    },
    {
     "name": "stderr",
     "output_type": "stream",
     "text": [
      "\u001b[90;3m2024-07-15 13:46:54,810 \u001b[0m\u001b[mgym                            \u001b[0m\u001b[mINFO       \u001b[0m\u001b[33m<4020.00> \u001b[0m\u001b[93;1m=== STARTING STEP ===\u001b[0m\n"
     ]
    },
    {
     "name": "stderr",
     "output_type": "stream",
     "text": [
      "\u001b[90;3m2024-07-15 13:46:54,810 \u001b[0m\u001b[36msats.satellite.Scanner-1       \u001b[0m\u001b[mINFO       \u001b[0m\u001b[33m<4020.00> \u001b[0m\u001b[36mScanner-1: \u001b[0m\u001b[maction_downlink tasked for 60.0 seconds\u001b[0m\n"
     ]
    },
    {
     "name": "stderr",
     "output_type": "stream",
     "text": [
      "\u001b[90;3m2024-07-15 13:46:54,811 \u001b[0m\u001b[36msats.satellite.Scanner-1       \u001b[0m\u001b[mINFO       \u001b[0m\u001b[33m<4020.00> \u001b[0m\u001b[36mScanner-1: \u001b[0m\u001b[msetting timed terminal event at 4080.0\u001b[0m\n"
     ]
    },
    {
     "name": "stderr",
     "output_type": "stream",
     "text": [
      "\u001b[90;3m2024-07-15 13:46:54,811 \u001b[0m\u001b[msim.simulator                  \u001b[0m\u001b[mINFO       \u001b[0m\u001b[33m<4020.00> \u001b[0m\u001b[mRunning simulation at most to 11400.00 seconds\u001b[0m\n"
     ]
    },
    {
     "name": "stderr",
     "output_type": "stream",
     "text": [
      "\u001b[90;3m2024-07-15 13:46:54,814 \u001b[0m\u001b[36msats.satellite.Scanner-1       \u001b[0m\u001b[mINFO       \u001b[0m\u001b[33m<4080.00> \u001b[0m\u001b[36mScanner-1: \u001b[0m\u001b[mtimed termination at 4080.0 for action_downlink\u001b[0m\n"
     ]
    },
    {
     "name": "stderr",
     "output_type": "stream",
     "text": [
      "\u001b[90;3m2024-07-15 13:46:54,815 \u001b[0m\u001b[mdata.base                      \u001b[0m\u001b[mINFO       \u001b[0m\u001b[33m<4080.00> \u001b[0m\u001b[mData reward: {'Scanner-1_4715111056': 0.0}\u001b[0m\n"
     ]
    },
    {
     "name": "stderr",
     "output_type": "stream",
     "text": [
      "\u001b[90;3m2024-07-15 13:46:54,815 \u001b[0m\u001b[mgym                            \u001b[0m\u001b[mINFO       \u001b[0m\u001b[33m<4080.00> \u001b[0m\u001b[mSatellites requiring retasking: ['Scanner-1_4715111056']\u001b[0m\n"
     ]
    },
    {
     "name": "stderr",
     "output_type": "stream",
     "text": [
      "\u001b[90;3m2024-07-15 13:46:54,816 \u001b[0m\u001b[mgym                            \u001b[0m\u001b[mINFO       \u001b[0m\u001b[33m<4080.00> \u001b[0m\u001b[mStep reward: 0.0\u001b[0m\n"
     ]
    },
    {
     "name": "stderr",
     "output_type": "stream",
     "text": [
      "\u001b[90;3m2024-07-15 13:46:54,816 \u001b[0m\u001b[mgym                            \u001b[0m\u001b[mINFO       \u001b[0m\u001b[33m<4080.00> \u001b[0m\u001b[93;1m=== STARTING STEP ===\u001b[0m\n"
     ]
    },
    {
     "name": "stderr",
     "output_type": "stream",
     "text": [
      "\u001b[90;3m2024-07-15 13:46:54,816 \u001b[0m\u001b[36msats.satellite.Scanner-1       \u001b[0m\u001b[mINFO       \u001b[0m\u001b[33m<4080.00> \u001b[0m\u001b[36mScanner-1: \u001b[0m\u001b[maction_desat tasked for 60.0 seconds\u001b[0m\n"
     ]
    },
    {
     "name": "stderr",
     "output_type": "stream",
     "text": [
      "\u001b[90;3m2024-07-15 13:46:54,816 \u001b[0m\u001b[36msats.satellite.Scanner-1       \u001b[0m\u001b[mINFO       \u001b[0m\u001b[33m<4080.00> \u001b[0m\u001b[36mScanner-1: \u001b[0m\u001b[msetting timed terminal event at 4140.0\u001b[0m\n"
     ]
    },
    {
     "name": "stderr",
     "output_type": "stream",
     "text": [
      "\u001b[90;3m2024-07-15 13:46:54,817 \u001b[0m\u001b[msim.simulator                  \u001b[0m\u001b[mINFO       \u001b[0m\u001b[33m<4080.00> \u001b[0m\u001b[mRunning simulation at most to 11400.00 seconds\u001b[0m\n"
     ]
    },
    {
     "name": "stderr",
     "output_type": "stream",
     "text": [
      "\u001b[90;3m2024-07-15 13:46:54,820 \u001b[0m\u001b[36msats.satellite.Scanner-1       \u001b[0m\u001b[mINFO       \u001b[0m\u001b[33m<4140.00> \u001b[0m\u001b[36mScanner-1: \u001b[0m\u001b[mtimed termination at 4140.0 for action_desat\u001b[0m\n"
     ]
    },
    {
     "name": "stderr",
     "output_type": "stream",
     "text": [
      "\u001b[90;3m2024-07-15 13:46:54,820 \u001b[0m\u001b[mdata.base                      \u001b[0m\u001b[mINFO       \u001b[0m\u001b[33m<4140.00> \u001b[0m\u001b[mData reward: {'Scanner-1_4715111056': 0.0}\u001b[0m\n"
     ]
    },
    {
     "name": "stderr",
     "output_type": "stream",
     "text": [
      "\u001b[90;3m2024-07-15 13:46:54,821 \u001b[0m\u001b[mgym                            \u001b[0m\u001b[mINFO       \u001b[0m\u001b[33m<4140.00> \u001b[0m\u001b[mSatellites requiring retasking: ['Scanner-1_4715111056']\u001b[0m\n"
     ]
    },
    {
     "name": "stderr",
     "output_type": "stream",
     "text": [
      "\u001b[90;3m2024-07-15 13:46:54,821 \u001b[0m\u001b[mgym                            \u001b[0m\u001b[mINFO       \u001b[0m\u001b[33m<4140.00> \u001b[0m\u001b[mStep reward: 0.0\u001b[0m\n"
     ]
    },
    {
     "name": "stderr",
     "output_type": "stream",
     "text": [
      "\u001b[90;3m2024-07-15 13:46:54,822 \u001b[0m\u001b[mgym                            \u001b[0m\u001b[mINFO       \u001b[0m\u001b[33m<4140.00> \u001b[0m\u001b[93;1m=== STARTING STEP ===\u001b[0m\n"
     ]
    },
    {
     "name": "stderr",
     "output_type": "stream",
     "text": [
      "\u001b[90;3m2024-07-15 13:46:54,822 \u001b[0m\u001b[36msats.satellite.Scanner-1       \u001b[0m\u001b[mINFO       \u001b[0m\u001b[33m<4140.00> \u001b[0m\u001b[36mScanner-1: \u001b[0m\u001b[maction_charge tasked for 180.0 seconds\u001b[0m\n"
     ]
    },
    {
     "name": "stderr",
     "output_type": "stream",
     "text": [
      "\u001b[90;3m2024-07-15 13:46:54,822 \u001b[0m\u001b[36msats.satellite.Scanner-1       \u001b[0m\u001b[mINFO       \u001b[0m\u001b[33m<4140.00> \u001b[0m\u001b[36mScanner-1: \u001b[0m\u001b[msetting timed terminal event at 4320.0\u001b[0m\n"
     ]
    },
    {
     "name": "stderr",
     "output_type": "stream",
     "text": [
      "\u001b[90;3m2024-07-15 13:46:54,822 \u001b[0m\u001b[msim.simulator                  \u001b[0m\u001b[mINFO       \u001b[0m\u001b[33m<4140.00> \u001b[0m\u001b[mRunning simulation at most to 11400.00 seconds\u001b[0m\n"
     ]
    },
    {
     "name": "stderr",
     "output_type": "stream",
     "text": [
      "\u001b[90;3m2024-07-15 13:46:54,832 \u001b[0m\u001b[36msats.satellite.Scanner-1       \u001b[0m\u001b[mINFO       \u001b[0m\u001b[33m<4320.00> \u001b[0m\u001b[36mScanner-1: \u001b[0m\u001b[mtimed termination at 4320.0 for action_charge\u001b[0m\n"
     ]
    },
    {
     "name": "stderr",
     "output_type": "stream",
     "text": [
      "\u001b[90;3m2024-07-15 13:46:54,833 \u001b[0m\u001b[mdata.base                      \u001b[0m\u001b[mINFO       \u001b[0m\u001b[33m<4320.00> \u001b[0m\u001b[mData reward: {'Scanner-1_4715111056': 0.0}\u001b[0m\n"
     ]
    },
    {
     "name": "stderr",
     "output_type": "stream",
     "text": [
      "\u001b[90;3m2024-07-15 13:46:54,833 \u001b[0m\u001b[mgym                            \u001b[0m\u001b[mINFO       \u001b[0m\u001b[33m<4320.00> \u001b[0m\u001b[mSatellites requiring retasking: ['Scanner-1_4715111056']\u001b[0m\n"
     ]
    },
    {
     "name": "stderr",
     "output_type": "stream",
     "text": [
      "\u001b[90;3m2024-07-15 13:46:54,834 \u001b[0m\u001b[mgym                            \u001b[0m\u001b[mINFO       \u001b[0m\u001b[33m<4320.00> \u001b[0m\u001b[mStep reward: 0.0\u001b[0m\n"
     ]
    },
    {
     "name": "stderr",
     "output_type": "stream",
     "text": [
      "\u001b[90;3m2024-07-15 13:46:54,834 \u001b[0m\u001b[mgym                            \u001b[0m\u001b[mINFO       \u001b[0m\u001b[33m<4320.00> \u001b[0m\u001b[93;1m=== STARTING STEP ===\u001b[0m\n"
     ]
    },
    {
     "name": "stderr",
     "output_type": "stream",
     "text": [
      "\u001b[90;3m2024-07-15 13:46:54,834 \u001b[0m\u001b[36msats.satellite.Scanner-1       \u001b[0m\u001b[mINFO       \u001b[0m\u001b[33m<4320.00> \u001b[0m\u001b[36mScanner-1: \u001b[0m\u001b[maction_charge tasked for 180.0 seconds\u001b[0m\n"
     ]
    },
    {
     "name": "stderr",
     "output_type": "stream",
     "text": [
      "\u001b[90;3m2024-07-15 13:46:54,834 \u001b[0m\u001b[36msats.satellite.Scanner-1       \u001b[0m\u001b[mINFO       \u001b[0m\u001b[33m<4320.00> \u001b[0m\u001b[36mScanner-1: \u001b[0m\u001b[msetting timed terminal event at 4500.0\u001b[0m\n"
     ]
    },
    {
     "name": "stderr",
     "output_type": "stream",
     "text": [
      "\u001b[90;3m2024-07-15 13:46:54,834 \u001b[0m\u001b[msim.simulator                  \u001b[0m\u001b[mINFO       \u001b[0m\u001b[33m<4320.00> \u001b[0m\u001b[mRunning simulation at most to 11400.00 seconds\u001b[0m\n"
     ]
    },
    {
     "name": "stderr",
     "output_type": "stream",
     "text": [
      "\u001b[90;3m2024-07-15 13:46:54,844 \u001b[0m\u001b[36msats.satellite.Scanner-1       \u001b[0m\u001b[mINFO       \u001b[0m\u001b[33m<4500.00> \u001b[0m\u001b[36mScanner-1: \u001b[0m\u001b[mtimed termination at 4500.0 for action_charge\u001b[0m\n"
     ]
    },
    {
     "name": "stderr",
     "output_type": "stream",
     "text": [
      "\u001b[90;3m2024-07-15 13:46:54,845 \u001b[0m\u001b[mdata.base                      \u001b[0m\u001b[mINFO       \u001b[0m\u001b[33m<4500.00> \u001b[0m\u001b[mData reward: {'Scanner-1_4715111056': 0.0}\u001b[0m\n"
     ]
    },
    {
     "name": "stderr",
     "output_type": "stream",
     "text": [
      "\u001b[90;3m2024-07-15 13:46:54,845 \u001b[0m\u001b[mgym                            \u001b[0m\u001b[mINFO       \u001b[0m\u001b[33m<4500.00> \u001b[0m\u001b[mSatellites requiring retasking: ['Scanner-1_4715111056']\u001b[0m\n"
     ]
    },
    {
     "name": "stderr",
     "output_type": "stream",
     "text": [
      "\u001b[90;3m2024-07-15 13:46:54,846 \u001b[0m\u001b[mgym                            \u001b[0m\u001b[mINFO       \u001b[0m\u001b[33m<4500.00> \u001b[0m\u001b[mStep reward: 0.0\u001b[0m\n"
     ]
    },
    {
     "name": "stderr",
     "output_type": "stream",
     "text": [
      "\u001b[90;3m2024-07-15 13:46:54,846 \u001b[0m\u001b[mgym                            \u001b[0m\u001b[mINFO       \u001b[0m\u001b[33m<4500.00> \u001b[0m\u001b[93;1m=== STARTING STEP ===\u001b[0m\n"
     ]
    },
    {
     "name": "stderr",
     "output_type": "stream",
     "text": [
      "\u001b[90;3m2024-07-15 13:46:54,846 \u001b[0m\u001b[36msats.satellite.Scanner-1       \u001b[0m\u001b[mINFO       \u001b[0m\u001b[33m<4500.00> \u001b[0m\u001b[36mScanner-1: \u001b[0m\u001b[maction_desat tasked for 60.0 seconds\u001b[0m\n"
     ]
    },
    {
     "name": "stderr",
     "output_type": "stream",
     "text": [
      "\u001b[90;3m2024-07-15 13:46:54,846 \u001b[0m\u001b[36msats.satellite.Scanner-1       \u001b[0m\u001b[mINFO       \u001b[0m\u001b[33m<4500.00> \u001b[0m\u001b[36mScanner-1: \u001b[0m\u001b[msetting timed terminal event at 4560.0\u001b[0m\n"
     ]
    },
    {
     "name": "stderr",
     "output_type": "stream",
     "text": [
      "\u001b[90;3m2024-07-15 13:46:54,846 \u001b[0m\u001b[msim.simulator                  \u001b[0m\u001b[mINFO       \u001b[0m\u001b[33m<4500.00> \u001b[0m\u001b[mRunning simulation at most to 11400.00 seconds\u001b[0m\n"
     ]
    },
    {
     "name": "stderr",
     "output_type": "stream",
     "text": [
      "\u001b[90;3m2024-07-15 13:46:54,850 \u001b[0m\u001b[36msats.satellite.Scanner-1       \u001b[0m\u001b[mINFO       \u001b[0m\u001b[33m<4560.00> \u001b[0m\u001b[36mScanner-1: \u001b[0m\u001b[mtimed termination at 4560.0 for action_desat\u001b[0m\n"
     ]
    },
    {
     "name": "stderr",
     "output_type": "stream",
     "text": [
      "\u001b[90;3m2024-07-15 13:46:54,850 \u001b[0m\u001b[mdata.base                      \u001b[0m\u001b[mINFO       \u001b[0m\u001b[33m<4560.00> \u001b[0m\u001b[mData reward: {'Scanner-1_4715111056': 0.0}\u001b[0m\n"
     ]
    },
    {
     "name": "stderr",
     "output_type": "stream",
     "text": [
      "\u001b[90;3m2024-07-15 13:46:54,851 \u001b[0m\u001b[mgym                            \u001b[0m\u001b[mINFO       \u001b[0m\u001b[33m<4560.00> \u001b[0m\u001b[mSatellites requiring retasking: ['Scanner-1_4715111056']\u001b[0m\n"
     ]
    },
    {
     "name": "stderr",
     "output_type": "stream",
     "text": [
      "\u001b[90;3m2024-07-15 13:46:54,851 \u001b[0m\u001b[mgym                            \u001b[0m\u001b[mINFO       \u001b[0m\u001b[33m<4560.00> \u001b[0m\u001b[mStep reward: 0.0\u001b[0m\n"
     ]
    },
    {
     "name": "stderr",
     "output_type": "stream",
     "text": [
      "\u001b[90;3m2024-07-15 13:46:54,852 \u001b[0m\u001b[mgym                            \u001b[0m\u001b[mINFO       \u001b[0m\u001b[33m<4560.00> \u001b[0m\u001b[93;1m=== STARTING STEP ===\u001b[0m\n"
     ]
    },
    {
     "name": "stderr",
     "output_type": "stream",
     "text": [
      "\u001b[90;3m2024-07-15 13:46:54,852 \u001b[0m\u001b[36msats.satellite.Scanner-1       \u001b[0m\u001b[mINFO       \u001b[0m\u001b[33m<4560.00> \u001b[0m\u001b[36mScanner-1: \u001b[0m\u001b[maction_charge tasked for 180.0 seconds\u001b[0m\n"
     ]
    },
    {
     "name": "stderr",
     "output_type": "stream",
     "text": [
      "\u001b[90;3m2024-07-15 13:46:54,852 \u001b[0m\u001b[36msats.satellite.Scanner-1       \u001b[0m\u001b[mINFO       \u001b[0m\u001b[33m<4560.00> \u001b[0m\u001b[36mScanner-1: \u001b[0m\u001b[msetting timed terminal event at 4740.0\u001b[0m\n"
     ]
    },
    {
     "name": "stderr",
     "output_type": "stream",
     "text": [
      "\u001b[90;3m2024-07-15 13:46:54,852 \u001b[0m\u001b[msim.simulator                  \u001b[0m\u001b[mINFO       \u001b[0m\u001b[33m<4560.00> \u001b[0m\u001b[mRunning simulation at most to 11400.00 seconds\u001b[0m\n"
     ]
    },
    {
     "name": "stderr",
     "output_type": "stream",
     "text": [
      "\u001b[90;3m2024-07-15 13:46:54,862 \u001b[0m\u001b[36msats.satellite.Scanner-1       \u001b[0m\u001b[mINFO       \u001b[0m\u001b[33m<4740.00> \u001b[0m\u001b[36mScanner-1: \u001b[0m\u001b[mtimed termination at 4740.0 for action_charge\u001b[0m\n"
     ]
    },
    {
     "name": "stderr",
     "output_type": "stream",
     "text": [
      "\u001b[90;3m2024-07-15 13:46:54,862 \u001b[0m\u001b[mdata.base                      \u001b[0m\u001b[mINFO       \u001b[0m\u001b[33m<4740.00> \u001b[0m\u001b[mData reward: {'Scanner-1_4715111056': 0.0}\u001b[0m\n"
     ]
    },
    {
     "name": "stderr",
     "output_type": "stream",
     "text": [
      "\u001b[90;3m2024-07-15 13:46:54,863 \u001b[0m\u001b[mgym                            \u001b[0m\u001b[mINFO       \u001b[0m\u001b[33m<4740.00> \u001b[0m\u001b[mSatellites requiring retasking: ['Scanner-1_4715111056']\u001b[0m\n"
     ]
    },
    {
     "name": "stderr",
     "output_type": "stream",
     "text": [
      "\u001b[90;3m2024-07-15 13:46:54,863 \u001b[0m\u001b[mgym                            \u001b[0m\u001b[mINFO       \u001b[0m\u001b[33m<4740.00> \u001b[0m\u001b[mStep reward: 0.0\u001b[0m\n"
     ]
    },
    {
     "name": "stderr",
     "output_type": "stream",
     "text": [
      "\u001b[90;3m2024-07-15 13:46:54,864 \u001b[0m\u001b[mgym                            \u001b[0m\u001b[mINFO       \u001b[0m\u001b[33m<4740.00> \u001b[0m\u001b[93;1m=== STARTING STEP ===\u001b[0m\n"
     ]
    },
    {
     "name": "stderr",
     "output_type": "stream",
     "text": [
      "\u001b[90;3m2024-07-15 13:46:54,864 \u001b[0m\u001b[36msats.satellite.Scanner-1       \u001b[0m\u001b[mINFO       \u001b[0m\u001b[33m<4740.00> \u001b[0m\u001b[36mScanner-1: \u001b[0m\u001b[maction_nadir_scan tasked for 180.0 seconds\u001b[0m\n"
     ]
    },
    {
     "name": "stderr",
     "output_type": "stream",
     "text": [
      "\u001b[90;3m2024-07-15 13:46:54,864 \u001b[0m\u001b[36msats.satellite.Scanner-1       \u001b[0m\u001b[mINFO       \u001b[0m\u001b[33m<4740.00> \u001b[0m\u001b[36mScanner-1: \u001b[0m\u001b[msetting timed terminal event at 4920.0\u001b[0m\n"
     ]
    },
    {
     "name": "stderr",
     "output_type": "stream",
     "text": [
      "\u001b[90;3m2024-07-15 13:46:54,864 \u001b[0m\u001b[msim.simulator                  \u001b[0m\u001b[mINFO       \u001b[0m\u001b[33m<4740.00> \u001b[0m\u001b[mRunning simulation at most to 11400.00 seconds\u001b[0m\n"
     ]
    },
    {
     "name": "stderr",
     "output_type": "stream",
     "text": [
      "\u001b[90;3m2024-07-15 13:46:54,874 \u001b[0m\u001b[36msats.satellite.Scanner-1       \u001b[0m\u001b[mINFO       \u001b[0m\u001b[33m<4920.00> \u001b[0m\u001b[36mScanner-1: \u001b[0m\u001b[mtimed termination at 4920.0 for action_nadir_scan\u001b[0m\n"
     ]
    },
    {
     "name": "stderr",
     "output_type": "stream",
     "text": [
      "\u001b[90;3m2024-07-15 13:46:54,874 \u001b[0m\u001b[mdata.base                      \u001b[0m\u001b[mINFO       \u001b[0m\u001b[33m<4920.00> \u001b[0m\u001b[mData reward: {'Scanner-1_4715111056': 0.012368421052631579}\u001b[0m\n"
     ]
    },
    {
     "name": "stderr",
     "output_type": "stream",
     "text": [
      "\u001b[90;3m2024-07-15 13:46:54,875 \u001b[0m\u001b[mgym                            \u001b[0m\u001b[mINFO       \u001b[0m\u001b[33m<4920.00> \u001b[0m\u001b[mSatellites requiring retasking: ['Scanner-1_4715111056']\u001b[0m\n"
     ]
    },
    {
     "name": "stderr",
     "output_type": "stream",
     "text": [
      "\u001b[90;3m2024-07-15 13:46:54,875 \u001b[0m\u001b[mgym                            \u001b[0m\u001b[mINFO       \u001b[0m\u001b[33m<4920.00> \u001b[0m\u001b[mStep reward: 0.012368421052631579\u001b[0m\n"
     ]
    },
    {
     "name": "stderr",
     "output_type": "stream",
     "text": [
      "\u001b[90;3m2024-07-15 13:46:54,876 \u001b[0m\u001b[mgym                            \u001b[0m\u001b[mINFO       \u001b[0m\u001b[33m<4920.00> \u001b[0m\u001b[93;1m=== STARTING STEP ===\u001b[0m\n"
     ]
    },
    {
     "name": "stderr",
     "output_type": "stream",
     "text": [
      "\u001b[90;3m2024-07-15 13:46:54,876 \u001b[0m\u001b[36msats.satellite.Scanner-1       \u001b[0m\u001b[mINFO       \u001b[0m\u001b[33m<4920.00> \u001b[0m\u001b[36mScanner-1: \u001b[0m\u001b[maction_desat tasked for 60.0 seconds\u001b[0m\n"
     ]
    },
    {
     "name": "stderr",
     "output_type": "stream",
     "text": [
      "\u001b[90;3m2024-07-15 13:46:54,876 \u001b[0m\u001b[36msats.satellite.Scanner-1       \u001b[0m\u001b[mINFO       \u001b[0m\u001b[33m<4920.00> \u001b[0m\u001b[36mScanner-1: \u001b[0m\u001b[msetting timed terminal event at 4980.0\u001b[0m\n"
     ]
    },
    {
     "name": "stderr",
     "output_type": "stream",
     "text": [
      "\u001b[90;3m2024-07-15 13:46:54,876 \u001b[0m\u001b[msim.simulator                  \u001b[0m\u001b[mINFO       \u001b[0m\u001b[33m<4920.00> \u001b[0m\u001b[mRunning simulation at most to 11400.00 seconds\u001b[0m\n"
     ]
    },
    {
     "name": "stderr",
     "output_type": "stream",
     "text": [
      "\u001b[90;3m2024-07-15 13:46:54,880 \u001b[0m\u001b[36msats.satellite.Scanner-1       \u001b[0m\u001b[mINFO       \u001b[0m\u001b[33m<4980.00> \u001b[0m\u001b[36mScanner-1: \u001b[0m\u001b[mtimed termination at 4980.0 for action_desat\u001b[0m\n"
     ]
    },
    {
     "name": "stderr",
     "output_type": "stream",
     "text": [
      "\u001b[90;3m2024-07-15 13:46:54,880 \u001b[0m\u001b[mdata.base                      \u001b[0m\u001b[mINFO       \u001b[0m\u001b[33m<4980.00> \u001b[0m\u001b[mData reward: {'Scanner-1_4715111056': 0.0}\u001b[0m\n"
     ]
    },
    {
     "name": "stderr",
     "output_type": "stream",
     "text": [
      "\u001b[90;3m2024-07-15 13:46:54,881 \u001b[0m\u001b[mgym                            \u001b[0m\u001b[mINFO       \u001b[0m\u001b[33m<4980.00> \u001b[0m\u001b[mSatellites requiring retasking: ['Scanner-1_4715111056']\u001b[0m\n"
     ]
    },
    {
     "name": "stderr",
     "output_type": "stream",
     "text": [
      "\u001b[90;3m2024-07-15 13:46:54,881 \u001b[0m\u001b[mgym                            \u001b[0m\u001b[mINFO       \u001b[0m\u001b[33m<4980.00> \u001b[0m\u001b[mStep reward: 0.0\u001b[0m\n"
     ]
    },
    {
     "name": "stderr",
     "output_type": "stream",
     "text": [
      "\u001b[90;3m2024-07-15 13:46:54,881 \u001b[0m\u001b[mgym                            \u001b[0m\u001b[mINFO       \u001b[0m\u001b[33m<4980.00> \u001b[0m\u001b[93;1m=== STARTING STEP ===\u001b[0m\n"
     ]
    },
    {
     "name": "stderr",
     "output_type": "stream",
     "text": [
      "\u001b[90;3m2024-07-15 13:46:54,882 \u001b[0m\u001b[36msats.satellite.Scanner-1       \u001b[0m\u001b[mINFO       \u001b[0m\u001b[33m<4980.00> \u001b[0m\u001b[36mScanner-1: \u001b[0m\u001b[maction_charge tasked for 180.0 seconds\u001b[0m\n"
     ]
    },
    {
     "name": "stderr",
     "output_type": "stream",
     "text": [
      "\u001b[90;3m2024-07-15 13:46:54,882 \u001b[0m\u001b[36msats.satellite.Scanner-1       \u001b[0m\u001b[mINFO       \u001b[0m\u001b[33m<4980.00> \u001b[0m\u001b[36mScanner-1: \u001b[0m\u001b[msetting timed terminal event at 5160.0\u001b[0m\n"
     ]
    },
    {
     "name": "stderr",
     "output_type": "stream",
     "text": [
      "\u001b[90;3m2024-07-15 13:46:54,882 \u001b[0m\u001b[msim.simulator                  \u001b[0m\u001b[mINFO       \u001b[0m\u001b[33m<4980.00> \u001b[0m\u001b[mRunning simulation at most to 11400.00 seconds\u001b[0m\n"
     ]
    },
    {
     "name": "stderr",
     "output_type": "stream",
     "text": [
      "\u001b[90;3m2024-07-15 13:46:54,892 \u001b[0m\u001b[36msats.satellite.Scanner-1       \u001b[0m\u001b[mINFO       \u001b[0m\u001b[33m<5160.00> \u001b[0m\u001b[36mScanner-1: \u001b[0m\u001b[mtimed termination at 5160.0 for action_charge\u001b[0m\n"
     ]
    },
    {
     "name": "stderr",
     "output_type": "stream",
     "text": [
      "\u001b[90;3m2024-07-15 13:46:54,892 \u001b[0m\u001b[mdata.base                      \u001b[0m\u001b[mINFO       \u001b[0m\u001b[33m<5160.00> \u001b[0m\u001b[mData reward: {'Scanner-1_4715111056': 0.0}\u001b[0m\n"
     ]
    },
    {
     "name": "stderr",
     "output_type": "stream",
     "text": [
      "\u001b[90;3m2024-07-15 13:46:54,893 \u001b[0m\u001b[mgym                            \u001b[0m\u001b[mINFO       \u001b[0m\u001b[33m<5160.00> \u001b[0m\u001b[mSatellites requiring retasking: ['Scanner-1_4715111056']\u001b[0m\n"
     ]
    },
    {
     "name": "stderr",
     "output_type": "stream",
     "text": [
      "\u001b[90;3m2024-07-15 13:46:54,893 \u001b[0m\u001b[mgym                            \u001b[0m\u001b[mINFO       \u001b[0m\u001b[33m<5160.00> \u001b[0m\u001b[mStep reward: 0.0\u001b[0m\n"
     ]
    },
    {
     "name": "stderr",
     "output_type": "stream",
     "text": [
      "\u001b[90;3m2024-07-15 13:46:54,894 \u001b[0m\u001b[mgym                            \u001b[0m\u001b[mINFO       \u001b[0m\u001b[33m<5160.00> \u001b[0m\u001b[93;1m=== STARTING STEP ===\u001b[0m\n"
     ]
    },
    {
     "name": "stderr",
     "output_type": "stream",
     "text": [
      "\u001b[90;3m2024-07-15 13:46:54,894 \u001b[0m\u001b[36msats.satellite.Scanner-1       \u001b[0m\u001b[mINFO       \u001b[0m\u001b[33m<5160.00> \u001b[0m\u001b[36mScanner-1: \u001b[0m\u001b[maction_nadir_scan tasked for 180.0 seconds\u001b[0m\n"
     ]
    },
    {
     "name": "stderr",
     "output_type": "stream",
     "text": [
      "\u001b[90;3m2024-07-15 13:46:54,894 \u001b[0m\u001b[36msats.satellite.Scanner-1       \u001b[0m\u001b[mINFO       \u001b[0m\u001b[33m<5160.00> \u001b[0m\u001b[36mScanner-1: \u001b[0m\u001b[msetting timed terminal event at 5340.0\u001b[0m\n"
     ]
    },
    {
     "name": "stderr",
     "output_type": "stream",
     "text": [
      "\u001b[90;3m2024-07-15 13:46:54,894 \u001b[0m\u001b[msim.simulator                  \u001b[0m\u001b[mINFO       \u001b[0m\u001b[33m<5160.00> \u001b[0m\u001b[mRunning simulation at most to 11400.00 seconds\u001b[0m\n"
     ]
    },
    {
     "name": "stderr",
     "output_type": "stream",
     "text": [
      "\u001b[90;3m2024-07-15 13:46:54,904 \u001b[0m\u001b[36msats.satellite.Scanner-1       \u001b[0m\u001b[mINFO       \u001b[0m\u001b[33m<5340.00> \u001b[0m\u001b[36mScanner-1: \u001b[0m\u001b[mtimed termination at 5340.0 for action_nadir_scan\u001b[0m\n"
     ]
    },
    {
     "name": "stderr",
     "output_type": "stream",
     "text": [
      "\u001b[90;3m2024-07-15 13:46:54,905 \u001b[0m\u001b[mdata.base                      \u001b[0m\u001b[mINFO       \u001b[0m\u001b[33m<5340.00> \u001b[0m\u001b[mData reward: {'Scanner-1_4715111056': 0.012456140350877193}\u001b[0m\n"
     ]
    },
    {
     "name": "stderr",
     "output_type": "stream",
     "text": [
      "\u001b[90;3m2024-07-15 13:46:54,905 \u001b[0m\u001b[mgym                            \u001b[0m\u001b[mINFO       \u001b[0m\u001b[33m<5340.00> \u001b[0m\u001b[mSatellites requiring retasking: ['Scanner-1_4715111056']\u001b[0m\n"
     ]
    },
    {
     "name": "stderr",
     "output_type": "stream",
     "text": [
      "\u001b[90;3m2024-07-15 13:46:54,906 \u001b[0m\u001b[mgym                            \u001b[0m\u001b[mINFO       \u001b[0m\u001b[33m<5340.00> \u001b[0m\u001b[mStep reward: 0.012456140350877193\u001b[0m\n"
     ]
    },
    {
     "name": "stderr",
     "output_type": "stream",
     "text": [
      "\u001b[90;3m2024-07-15 13:46:54,906 \u001b[0m\u001b[mgym                            \u001b[0m\u001b[mINFO       \u001b[0m\u001b[33m<5340.00> \u001b[0m\u001b[93;1m=== STARTING STEP ===\u001b[0m\n"
     ]
    },
    {
     "name": "stderr",
     "output_type": "stream",
     "text": [
      "\u001b[90;3m2024-07-15 13:46:54,906 \u001b[0m\u001b[36msats.satellite.Scanner-1       \u001b[0m\u001b[mINFO       \u001b[0m\u001b[33m<5340.00> \u001b[0m\u001b[36mScanner-1: \u001b[0m\u001b[maction_downlink tasked for 60.0 seconds\u001b[0m\n"
     ]
    },
    {
     "name": "stderr",
     "output_type": "stream",
     "text": [
      "\u001b[90;3m2024-07-15 13:46:54,906 \u001b[0m\u001b[36msats.satellite.Scanner-1       \u001b[0m\u001b[mINFO       \u001b[0m\u001b[33m<5340.00> \u001b[0m\u001b[36mScanner-1: \u001b[0m\u001b[msetting timed terminal event at 5400.0\u001b[0m\n"
     ]
    },
    {
     "name": "stderr",
     "output_type": "stream",
     "text": [
      "\u001b[90;3m2024-07-15 13:46:54,906 \u001b[0m\u001b[msim.simulator                  \u001b[0m\u001b[mINFO       \u001b[0m\u001b[33m<5340.00> \u001b[0m\u001b[mRunning simulation at most to 11400.00 seconds\u001b[0m\n"
     ]
    },
    {
     "name": "stderr",
     "output_type": "stream",
     "text": [
      "\u001b[90;3m2024-07-15 13:46:54,910 \u001b[0m\u001b[36msats.satellite.Scanner-1       \u001b[0m\u001b[mINFO       \u001b[0m\u001b[33m<5400.00> \u001b[0m\u001b[36mScanner-1: \u001b[0m\u001b[mtimed termination at 5400.0 for action_downlink\u001b[0m\n"
     ]
    },
    {
     "name": "stderr",
     "output_type": "stream",
     "text": [
      "\u001b[90;3m2024-07-15 13:46:54,910 \u001b[0m\u001b[mdata.base                      \u001b[0m\u001b[mINFO       \u001b[0m\u001b[33m<5400.00> \u001b[0m\u001b[mData reward: {'Scanner-1_4715111056': 0.0}\u001b[0m\n"
     ]
    },
    {
     "name": "stderr",
     "output_type": "stream",
     "text": [
      "\u001b[90;3m2024-07-15 13:46:54,911 \u001b[0m\u001b[mgym                            \u001b[0m\u001b[mINFO       \u001b[0m\u001b[33m<5400.00> \u001b[0m\u001b[mSatellites requiring retasking: ['Scanner-1_4715111056']\u001b[0m\n"
     ]
    },
    {
     "name": "stderr",
     "output_type": "stream",
     "text": [
      "\u001b[90;3m2024-07-15 13:46:54,911 \u001b[0m\u001b[mgym                            \u001b[0m\u001b[mINFO       \u001b[0m\u001b[33m<5400.00> \u001b[0m\u001b[mStep reward: 0.0\u001b[0m\n"
     ]
    },
    {
     "name": "stderr",
     "output_type": "stream",
     "text": [
      "\u001b[90;3m2024-07-15 13:46:54,912 \u001b[0m\u001b[mgym                            \u001b[0m\u001b[mINFO       \u001b[0m\u001b[33m<5400.00> \u001b[0m\u001b[93;1m=== STARTING STEP ===\u001b[0m\n"
     ]
    },
    {
     "name": "stderr",
     "output_type": "stream",
     "text": [
      "\u001b[90;3m2024-07-15 13:46:54,912 \u001b[0m\u001b[36msats.satellite.Scanner-1       \u001b[0m\u001b[mINFO       \u001b[0m\u001b[33m<5400.00> \u001b[0m\u001b[36mScanner-1: \u001b[0m\u001b[maction_charge tasked for 180.0 seconds\u001b[0m\n"
     ]
    },
    {
     "name": "stderr",
     "output_type": "stream",
     "text": [
      "\u001b[90;3m2024-07-15 13:46:54,912 \u001b[0m\u001b[36msats.satellite.Scanner-1       \u001b[0m\u001b[mINFO       \u001b[0m\u001b[33m<5400.00> \u001b[0m\u001b[36mScanner-1: \u001b[0m\u001b[msetting timed terminal event at 5580.0\u001b[0m\n"
     ]
    },
    {
     "name": "stderr",
     "output_type": "stream",
     "text": [
      "\u001b[90;3m2024-07-15 13:46:54,912 \u001b[0m\u001b[msim.simulator                  \u001b[0m\u001b[mINFO       \u001b[0m\u001b[33m<5400.00> \u001b[0m\u001b[mRunning simulation at most to 11400.00 seconds\u001b[0m\n"
     ]
    },
    {
     "name": "stderr",
     "output_type": "stream",
     "text": [
      "\u001b[90;3m2024-07-15 13:46:54,922 \u001b[0m\u001b[36msats.satellite.Scanner-1       \u001b[0m\u001b[mINFO       \u001b[0m\u001b[33m<5580.00> \u001b[0m\u001b[36mScanner-1: \u001b[0m\u001b[mtimed termination at 5580.0 for action_charge\u001b[0m\n"
     ]
    },
    {
     "name": "stderr",
     "output_type": "stream",
     "text": [
      "\u001b[90;3m2024-07-15 13:46:54,922 \u001b[0m\u001b[mdata.base                      \u001b[0m\u001b[mINFO       \u001b[0m\u001b[33m<5580.00> \u001b[0m\u001b[mData reward: {'Scanner-1_4715111056': 0.0}\u001b[0m\n"
     ]
    },
    {
     "name": "stderr",
     "output_type": "stream",
     "text": [
      "\u001b[90;3m2024-07-15 13:46:54,923 \u001b[0m\u001b[mgym                            \u001b[0m\u001b[mINFO       \u001b[0m\u001b[33m<5580.00> \u001b[0m\u001b[mSatellites requiring retasking: ['Scanner-1_4715111056']\u001b[0m\n"
     ]
    },
    {
     "name": "stderr",
     "output_type": "stream",
     "text": [
      "\u001b[90;3m2024-07-15 13:46:54,923 \u001b[0m\u001b[mgym                            \u001b[0m\u001b[mINFO       \u001b[0m\u001b[33m<5580.00> \u001b[0m\u001b[mStep reward: 0.0\u001b[0m\n"
     ]
    },
    {
     "name": "stderr",
     "output_type": "stream",
     "text": [
      "\u001b[90;3m2024-07-15 13:46:54,924 \u001b[0m\u001b[mgym                            \u001b[0m\u001b[mINFO       \u001b[0m\u001b[33m<5580.00> \u001b[0m\u001b[93;1m=== STARTING STEP ===\u001b[0m\n"
     ]
    },
    {
     "name": "stderr",
     "output_type": "stream",
     "text": [
      "\u001b[90;3m2024-07-15 13:46:54,924 \u001b[0m\u001b[36msats.satellite.Scanner-1       \u001b[0m\u001b[mINFO       \u001b[0m\u001b[33m<5580.00> \u001b[0m\u001b[36mScanner-1: \u001b[0m\u001b[maction_nadir_scan tasked for 180.0 seconds\u001b[0m\n"
     ]
    },
    {
     "name": "stderr",
     "output_type": "stream",
     "text": [
      "\u001b[90;3m2024-07-15 13:46:54,924 \u001b[0m\u001b[36msats.satellite.Scanner-1       \u001b[0m\u001b[mINFO       \u001b[0m\u001b[33m<5580.00> \u001b[0m\u001b[36mScanner-1: \u001b[0m\u001b[msetting timed terminal event at 5760.0\u001b[0m\n"
     ]
    },
    {
     "name": "stderr",
     "output_type": "stream",
     "text": [
      "\u001b[90;3m2024-07-15 13:46:54,924 \u001b[0m\u001b[msim.simulator                  \u001b[0m\u001b[mINFO       \u001b[0m\u001b[33m<5580.00> \u001b[0m\u001b[mRunning simulation at most to 11400.00 seconds\u001b[0m\n"
     ]
    },
    {
     "name": "stderr",
     "output_type": "stream",
     "text": [
      "\u001b[90;3m2024-07-15 13:46:54,934 \u001b[0m\u001b[36msats.satellite.Scanner-1       \u001b[0m\u001b[mINFO       \u001b[0m\u001b[33m<5760.00> \u001b[0m\u001b[36mScanner-1: \u001b[0m\u001b[mtimed termination at 5760.0 for action_nadir_scan\u001b[0m\n"
     ]
    },
    {
     "name": "stderr",
     "output_type": "stream",
     "text": [
      "\u001b[90;3m2024-07-15 13:46:54,935 \u001b[0m\u001b[mdata.base                      \u001b[0m\u001b[mINFO       \u001b[0m\u001b[33m<5760.00> \u001b[0m\u001b[mData reward: {'Scanner-1_4715111056': 0.012982456140350877}\u001b[0m\n"
     ]
    },
    {
     "name": "stderr",
     "output_type": "stream",
     "text": [
      "\u001b[90;3m2024-07-15 13:46:54,935 \u001b[0m\u001b[mgym                            \u001b[0m\u001b[mINFO       \u001b[0m\u001b[33m<5760.00> \u001b[0m\u001b[mSatellites requiring retasking: ['Scanner-1_4715111056']\u001b[0m\n"
     ]
    },
    {
     "name": "stderr",
     "output_type": "stream",
     "text": [
      "\u001b[90;3m2024-07-15 13:46:54,936 \u001b[0m\u001b[mgym                            \u001b[0m\u001b[mINFO       \u001b[0m\u001b[33m<5760.00> \u001b[0m\u001b[mStep reward: 0.012982456140350877\u001b[0m\n"
     ]
    },
    {
     "name": "stderr",
     "output_type": "stream",
     "text": [
      "\u001b[90;3m2024-07-15 13:46:54,936 \u001b[0m\u001b[mgym                            \u001b[0m\u001b[mINFO       \u001b[0m\u001b[33m<5760.00> \u001b[0m\u001b[93;1m=== STARTING STEP ===\u001b[0m\n"
     ]
    },
    {
     "name": "stderr",
     "output_type": "stream",
     "text": [
      "\u001b[90;3m2024-07-15 13:46:54,936 \u001b[0m\u001b[36msats.satellite.Scanner-1       \u001b[0m\u001b[mINFO       \u001b[0m\u001b[33m<5760.00> \u001b[0m\u001b[36mScanner-1: \u001b[0m\u001b[maction_charge tasked for 180.0 seconds\u001b[0m\n"
     ]
    },
    {
     "name": "stderr",
     "output_type": "stream",
     "text": [
      "\u001b[90;3m2024-07-15 13:46:54,936 \u001b[0m\u001b[36msats.satellite.Scanner-1       \u001b[0m\u001b[mINFO       \u001b[0m\u001b[33m<5760.00> \u001b[0m\u001b[36mScanner-1: \u001b[0m\u001b[msetting timed terminal event at 5940.0\u001b[0m\n"
     ]
    },
    {
     "name": "stderr",
     "output_type": "stream",
     "text": [
      "\u001b[90;3m2024-07-15 13:46:54,937 \u001b[0m\u001b[msim.simulator                  \u001b[0m\u001b[mINFO       \u001b[0m\u001b[33m<5760.00> \u001b[0m\u001b[mRunning simulation at most to 11400.00 seconds\u001b[0m\n"
     ]
    },
    {
     "name": "stderr",
     "output_type": "stream",
     "text": [
      "\u001b[90;3m2024-07-15 13:46:54,946 \u001b[0m\u001b[36msats.satellite.Scanner-1       \u001b[0m\u001b[mINFO       \u001b[0m\u001b[33m<5940.00> \u001b[0m\u001b[36mScanner-1: \u001b[0m\u001b[mtimed termination at 5940.0 for action_charge\u001b[0m\n"
     ]
    },
    {
     "name": "stderr",
     "output_type": "stream",
     "text": [
      "\u001b[90;3m2024-07-15 13:46:54,947 \u001b[0m\u001b[mdata.base                      \u001b[0m\u001b[mINFO       \u001b[0m\u001b[33m<5940.00> \u001b[0m\u001b[mData reward: {'Scanner-1_4715111056': 0.0}\u001b[0m\n"
     ]
    },
    {
     "name": "stderr",
     "output_type": "stream",
     "text": [
      "\u001b[90;3m2024-07-15 13:46:54,947 \u001b[0m\u001b[mgym                            \u001b[0m\u001b[mINFO       \u001b[0m\u001b[33m<5940.00> \u001b[0m\u001b[mSatellites requiring retasking: ['Scanner-1_4715111056']\u001b[0m\n"
     ]
    },
    {
     "name": "stderr",
     "output_type": "stream",
     "text": [
      "\u001b[90;3m2024-07-15 13:46:54,948 \u001b[0m\u001b[mgym                            \u001b[0m\u001b[mINFO       \u001b[0m\u001b[33m<5940.00> \u001b[0m\u001b[mStep reward: 0.0\u001b[0m\n"
     ]
    },
    {
     "name": "stderr",
     "output_type": "stream",
     "text": [
      "\u001b[90;3m2024-07-15 13:46:54,948 \u001b[0m\u001b[mgym                            \u001b[0m\u001b[mINFO       \u001b[0m\u001b[33m<5940.00> \u001b[0m\u001b[93;1m=== STARTING STEP ===\u001b[0m\n"
     ]
    },
    {
     "name": "stderr",
     "output_type": "stream",
     "text": [
      "\u001b[90;3m2024-07-15 13:46:54,948 \u001b[0m\u001b[36msats.satellite.Scanner-1       \u001b[0m\u001b[mINFO       \u001b[0m\u001b[33m<5940.00> \u001b[0m\u001b[36mScanner-1: \u001b[0m\u001b[maction_charge tasked for 180.0 seconds\u001b[0m\n"
     ]
    },
    {
     "name": "stderr",
     "output_type": "stream",
     "text": [
      "\u001b[90;3m2024-07-15 13:46:54,948 \u001b[0m\u001b[36msats.satellite.Scanner-1       \u001b[0m\u001b[mINFO       \u001b[0m\u001b[33m<5940.00> \u001b[0m\u001b[36mScanner-1: \u001b[0m\u001b[msetting timed terminal event at 6120.0\u001b[0m\n"
     ]
    },
    {
     "name": "stderr",
     "output_type": "stream",
     "text": [
      "\u001b[90;3m2024-07-15 13:46:54,949 \u001b[0m\u001b[msim.simulator                  \u001b[0m\u001b[mINFO       \u001b[0m\u001b[33m<5940.00> \u001b[0m\u001b[mRunning simulation at most to 11400.00 seconds\u001b[0m\n"
     ]
    },
    {
     "name": "stderr",
     "output_type": "stream",
     "text": [
      "\u001b[90;3m2024-07-15 13:46:54,959 \u001b[0m\u001b[36msats.satellite.Scanner-1       \u001b[0m\u001b[mINFO       \u001b[0m\u001b[33m<6120.00> \u001b[0m\u001b[36mScanner-1: \u001b[0m\u001b[mtimed termination at 6120.0 for action_charge\u001b[0m\n"
     ]
    },
    {
     "name": "stderr",
     "output_type": "stream",
     "text": [
      "\u001b[90;3m2024-07-15 13:46:54,959 \u001b[0m\u001b[mdata.base                      \u001b[0m\u001b[mINFO       \u001b[0m\u001b[33m<6120.00> \u001b[0m\u001b[mData reward: {'Scanner-1_4715111056': 0.0}\u001b[0m\n"
     ]
    },
    {
     "name": "stderr",
     "output_type": "stream",
     "text": [
      "\u001b[90;3m2024-07-15 13:46:54,960 \u001b[0m\u001b[mgym                            \u001b[0m\u001b[mINFO       \u001b[0m\u001b[33m<6120.00> \u001b[0m\u001b[mSatellites requiring retasking: ['Scanner-1_4715111056']\u001b[0m\n"
     ]
    },
    {
     "name": "stderr",
     "output_type": "stream",
     "text": [
      "\u001b[90;3m2024-07-15 13:46:54,960 \u001b[0m\u001b[mgym                            \u001b[0m\u001b[mINFO       \u001b[0m\u001b[33m<6120.00> \u001b[0m\u001b[mStep reward: 0.0\u001b[0m\n"
     ]
    },
    {
     "name": "stderr",
     "output_type": "stream",
     "text": [
      "\u001b[90;3m2024-07-15 13:46:54,960 \u001b[0m\u001b[mgym                            \u001b[0m\u001b[mINFO       \u001b[0m\u001b[33m<6120.00> \u001b[0m\u001b[93;1m=== STARTING STEP ===\u001b[0m\n"
     ]
    },
    {
     "name": "stderr",
     "output_type": "stream",
     "text": [
      "\u001b[90;3m2024-07-15 13:46:54,960 \u001b[0m\u001b[36msats.satellite.Scanner-1       \u001b[0m\u001b[mINFO       \u001b[0m\u001b[33m<6120.00> \u001b[0m\u001b[36mScanner-1: \u001b[0m\u001b[maction_downlink tasked for 60.0 seconds\u001b[0m\n"
     ]
    },
    {
     "name": "stderr",
     "output_type": "stream",
     "text": [
      "\u001b[90;3m2024-07-15 13:46:54,960 \u001b[0m\u001b[36msats.satellite.Scanner-1       \u001b[0m\u001b[mINFO       \u001b[0m\u001b[33m<6120.00> \u001b[0m\u001b[36mScanner-1: \u001b[0m\u001b[msetting timed terminal event at 6180.0\u001b[0m\n"
     ]
    },
    {
     "name": "stderr",
     "output_type": "stream",
     "text": [
      "\u001b[90;3m2024-07-15 13:46:54,961 \u001b[0m\u001b[msim.simulator                  \u001b[0m\u001b[mINFO       \u001b[0m\u001b[33m<6120.00> \u001b[0m\u001b[mRunning simulation at most to 11400.00 seconds\u001b[0m\n"
     ]
    },
    {
     "name": "stderr",
     "output_type": "stream",
     "text": [
      "\u001b[90;3m2024-07-15 13:46:54,964 \u001b[0m\u001b[36msats.satellite.Scanner-1       \u001b[0m\u001b[mINFO       \u001b[0m\u001b[33m<6180.00> \u001b[0m\u001b[36mScanner-1: \u001b[0m\u001b[mtimed termination at 6180.0 for action_downlink\u001b[0m\n"
     ]
    },
    {
     "name": "stderr",
     "output_type": "stream",
     "text": [
      "\u001b[90;3m2024-07-15 13:46:54,964 \u001b[0m\u001b[mdata.base                      \u001b[0m\u001b[mINFO       \u001b[0m\u001b[33m<6180.00> \u001b[0m\u001b[mData reward: {'Scanner-1_4715111056': 0.0}\u001b[0m\n"
     ]
    },
    {
     "name": "stderr",
     "output_type": "stream",
     "text": [
      "\u001b[90;3m2024-07-15 13:46:54,965 \u001b[0m\u001b[mgym                            \u001b[0m\u001b[mINFO       \u001b[0m\u001b[33m<6180.00> \u001b[0m\u001b[mSatellites requiring retasking: ['Scanner-1_4715111056']\u001b[0m\n"
     ]
    },
    {
     "name": "stderr",
     "output_type": "stream",
     "text": [
      "\u001b[90;3m2024-07-15 13:46:54,965 \u001b[0m\u001b[mgym                            \u001b[0m\u001b[mINFO       \u001b[0m\u001b[33m<6180.00> \u001b[0m\u001b[mStep reward: 0.0\u001b[0m\n"
     ]
    },
    {
     "name": "stderr",
     "output_type": "stream",
     "text": [
      "\u001b[90;3m2024-07-15 13:46:54,966 \u001b[0m\u001b[mgym                            \u001b[0m\u001b[mINFO       \u001b[0m\u001b[33m<6180.00> \u001b[0m\u001b[93;1m=== STARTING STEP ===\u001b[0m\n"
     ]
    },
    {
     "name": "stderr",
     "output_type": "stream",
     "text": [
      "\u001b[90;3m2024-07-15 13:46:54,966 \u001b[0m\u001b[36msats.satellite.Scanner-1       \u001b[0m\u001b[mINFO       \u001b[0m\u001b[33m<6180.00> \u001b[0m\u001b[36mScanner-1: \u001b[0m\u001b[maction_nadir_scan tasked for 180.0 seconds\u001b[0m\n"
     ]
    },
    {
     "name": "stderr",
     "output_type": "stream",
     "text": [
      "\u001b[90;3m2024-07-15 13:46:54,966 \u001b[0m\u001b[36msats.satellite.Scanner-1       \u001b[0m\u001b[mINFO       \u001b[0m\u001b[33m<6180.00> \u001b[0m\u001b[36mScanner-1: \u001b[0m\u001b[msetting timed terminal event at 6360.0\u001b[0m\n"
     ]
    },
    {
     "name": "stderr",
     "output_type": "stream",
     "text": [
      "\u001b[90;3m2024-07-15 13:46:54,966 \u001b[0m\u001b[msim.simulator                  \u001b[0m\u001b[mINFO       \u001b[0m\u001b[33m<6180.00> \u001b[0m\u001b[mRunning simulation at most to 11400.00 seconds\u001b[0m\n"
     ]
    },
    {
     "name": "stderr",
     "output_type": "stream",
     "text": [
      "\u001b[90;3m2024-07-15 13:46:54,976 \u001b[0m\u001b[36msats.satellite.Scanner-1       \u001b[0m\u001b[mINFO       \u001b[0m\u001b[33m<6360.00> \u001b[0m\u001b[36mScanner-1: \u001b[0m\u001b[mtimed termination at 6360.0 for action_nadir_scan\u001b[0m\n"
     ]
    },
    {
     "name": "stderr",
     "output_type": "stream",
     "text": [
      "\u001b[90;3m2024-07-15 13:46:54,977 \u001b[0m\u001b[mdata.base                      \u001b[0m\u001b[mINFO       \u001b[0m\u001b[33m<6360.00> \u001b[0m\u001b[mData reward: {'Scanner-1_4715111056': 0.012105263157894735}\u001b[0m\n"
     ]
    },
    {
     "name": "stderr",
     "output_type": "stream",
     "text": [
      "\u001b[90;3m2024-07-15 13:46:54,977 \u001b[0m\u001b[mgym                            \u001b[0m\u001b[mINFO       \u001b[0m\u001b[33m<6360.00> \u001b[0m\u001b[mSatellites requiring retasking: ['Scanner-1_4715111056']\u001b[0m\n"
     ]
    },
    {
     "name": "stderr",
     "output_type": "stream",
     "text": [
      "\u001b[90;3m2024-07-15 13:46:54,977 \u001b[0m\u001b[mgym                            \u001b[0m\u001b[mINFO       \u001b[0m\u001b[33m<6360.00> \u001b[0m\u001b[mStep reward: 0.012105263157894735\u001b[0m\n"
     ]
    },
    {
     "name": "stderr",
     "output_type": "stream",
     "text": [
      "\u001b[90;3m2024-07-15 13:46:54,978 \u001b[0m\u001b[mgym                            \u001b[0m\u001b[mINFO       \u001b[0m\u001b[33m<6360.00> \u001b[0m\u001b[93;1m=== STARTING STEP ===\u001b[0m\n"
     ]
    },
    {
     "name": "stderr",
     "output_type": "stream",
     "text": [
      "\u001b[90;3m2024-07-15 13:46:54,978 \u001b[0m\u001b[36msats.satellite.Scanner-1       \u001b[0m\u001b[mINFO       \u001b[0m\u001b[33m<6360.00> \u001b[0m\u001b[36mScanner-1: \u001b[0m\u001b[maction_nadir_scan tasked for 180.0 seconds\u001b[0m\n"
     ]
    },
    {
     "name": "stderr",
     "output_type": "stream",
     "text": [
      "\u001b[90;3m2024-07-15 13:46:54,978 \u001b[0m\u001b[36msats.satellite.Scanner-1       \u001b[0m\u001b[mINFO       \u001b[0m\u001b[33m<6360.00> \u001b[0m\u001b[36mScanner-1: \u001b[0m\u001b[msetting timed terminal event at 6540.0\u001b[0m\n"
     ]
    },
    {
     "name": "stderr",
     "output_type": "stream",
     "text": [
      "\u001b[90;3m2024-07-15 13:46:54,978 \u001b[0m\u001b[msim.simulator                  \u001b[0m\u001b[mINFO       \u001b[0m\u001b[33m<6360.00> \u001b[0m\u001b[mRunning simulation at most to 11400.00 seconds\u001b[0m\n"
     ]
    },
    {
     "name": "stderr",
     "output_type": "stream",
     "text": [
      "\u001b[90;3m2024-07-15 13:46:54,988 \u001b[0m\u001b[36msats.satellite.Scanner-1       \u001b[0m\u001b[mINFO       \u001b[0m\u001b[33m<6540.00> \u001b[0m\u001b[36mScanner-1: \u001b[0m\u001b[mtimed termination at 6540.0 for action_nadir_scan\u001b[0m\n"
     ]
    },
    {
     "name": "stderr",
     "output_type": "stream",
     "text": [
      "\u001b[90;3m2024-07-15 13:46:54,989 \u001b[0m\u001b[mdata.base                      \u001b[0m\u001b[mINFO       \u001b[0m\u001b[33m<6540.00> \u001b[0m\u001b[mData reward: {'Scanner-1_4715111056': 0.015789473684210527}\u001b[0m\n"
     ]
    },
    {
     "name": "stderr",
     "output_type": "stream",
     "text": [
      "\u001b[90;3m2024-07-15 13:46:54,989 \u001b[0m\u001b[mgym                            \u001b[0m\u001b[mINFO       \u001b[0m\u001b[33m<6540.00> \u001b[0m\u001b[mSatellites requiring retasking: ['Scanner-1_4715111056']\u001b[0m\n"
     ]
    },
    {
     "name": "stderr",
     "output_type": "stream",
     "text": [
      "\u001b[90;3m2024-07-15 13:46:54,990 \u001b[0m\u001b[mgym                            \u001b[0m\u001b[mINFO       \u001b[0m\u001b[33m<6540.00> \u001b[0m\u001b[mStep reward: 0.015789473684210527\u001b[0m\n"
     ]
    },
    {
     "name": "stderr",
     "output_type": "stream",
     "text": [
      "\u001b[90;3m2024-07-15 13:46:54,990 \u001b[0m\u001b[mgym                            \u001b[0m\u001b[mINFO       \u001b[0m\u001b[33m<6540.00> \u001b[0m\u001b[93;1m=== STARTING STEP ===\u001b[0m\n"
     ]
    },
    {
     "name": "stderr",
     "output_type": "stream",
     "text": [
      "\u001b[90;3m2024-07-15 13:46:54,990 \u001b[0m\u001b[36msats.satellite.Scanner-1       \u001b[0m\u001b[mINFO       \u001b[0m\u001b[33m<6540.00> \u001b[0m\u001b[36mScanner-1: \u001b[0m\u001b[maction_charge tasked for 180.0 seconds\u001b[0m\n"
     ]
    },
    {
     "name": "stderr",
     "output_type": "stream",
     "text": [
      "\u001b[90;3m2024-07-15 13:46:54,990 \u001b[0m\u001b[36msats.satellite.Scanner-1       \u001b[0m\u001b[mINFO       \u001b[0m\u001b[33m<6540.00> \u001b[0m\u001b[36mScanner-1: \u001b[0m\u001b[msetting timed terminal event at 6720.0\u001b[0m\n"
     ]
    },
    {
     "name": "stderr",
     "output_type": "stream",
     "text": [
      "\u001b[90;3m2024-07-15 13:46:54,990 \u001b[0m\u001b[msim.simulator                  \u001b[0m\u001b[mINFO       \u001b[0m\u001b[33m<6540.00> \u001b[0m\u001b[mRunning simulation at most to 11400.00 seconds\u001b[0m\n"
     ]
    },
    {
     "name": "stderr",
     "output_type": "stream",
     "text": [
      "\u001b[90;3m2024-07-15 13:46:55,000 \u001b[0m\u001b[36msats.satellite.Scanner-1       \u001b[0m\u001b[mINFO       \u001b[0m\u001b[33m<6720.00> \u001b[0m\u001b[36mScanner-1: \u001b[0m\u001b[mtimed termination at 6720.0 for action_charge\u001b[0m\n"
     ]
    },
    {
     "name": "stderr",
     "output_type": "stream",
     "text": [
      "\u001b[90;3m2024-07-15 13:46:55,001 \u001b[0m\u001b[mdata.base                      \u001b[0m\u001b[mINFO       \u001b[0m\u001b[33m<6720.00> \u001b[0m\u001b[mData reward: {'Scanner-1_4715111056': 0.0}\u001b[0m\n"
     ]
    },
    {
     "name": "stderr",
     "output_type": "stream",
     "text": [
      "\u001b[90;3m2024-07-15 13:46:55,001 \u001b[0m\u001b[mgym                            \u001b[0m\u001b[mINFO       \u001b[0m\u001b[33m<6720.00> \u001b[0m\u001b[mSatellites requiring retasking: ['Scanner-1_4715111056']\u001b[0m\n"
     ]
    },
    {
     "name": "stderr",
     "output_type": "stream",
     "text": [
      "\u001b[90;3m2024-07-15 13:46:55,002 \u001b[0m\u001b[mgym                            \u001b[0m\u001b[mINFO       \u001b[0m\u001b[33m<6720.00> \u001b[0m\u001b[mStep reward: 0.0\u001b[0m\n"
     ]
    },
    {
     "name": "stderr",
     "output_type": "stream",
     "text": [
      "\u001b[90;3m2024-07-15 13:46:55,002 \u001b[0m\u001b[mgym                            \u001b[0m\u001b[mINFO       \u001b[0m\u001b[33m<6720.00> \u001b[0m\u001b[93;1m=== STARTING STEP ===\u001b[0m\n"
     ]
    },
    {
     "name": "stderr",
     "output_type": "stream",
     "text": [
      "\u001b[90;3m2024-07-15 13:46:55,002 \u001b[0m\u001b[36msats.satellite.Scanner-1       \u001b[0m\u001b[mINFO       \u001b[0m\u001b[33m<6720.00> \u001b[0m\u001b[36mScanner-1: \u001b[0m\u001b[maction_charge tasked for 180.0 seconds\u001b[0m\n"
     ]
    },
    {
     "name": "stderr",
     "output_type": "stream",
     "text": [
      "\u001b[90;3m2024-07-15 13:46:55,002 \u001b[0m\u001b[36msats.satellite.Scanner-1       \u001b[0m\u001b[mINFO       \u001b[0m\u001b[33m<6720.00> \u001b[0m\u001b[36mScanner-1: \u001b[0m\u001b[msetting timed terminal event at 6900.0\u001b[0m\n"
     ]
    },
    {
     "name": "stderr",
     "output_type": "stream",
     "text": [
      "\u001b[90;3m2024-07-15 13:46:55,002 \u001b[0m\u001b[msim.simulator                  \u001b[0m\u001b[mINFO       \u001b[0m\u001b[33m<6720.00> \u001b[0m\u001b[mRunning simulation at most to 11400.00 seconds\u001b[0m\n"
     ]
    },
    {
     "name": "stderr",
     "output_type": "stream",
     "text": [
      "\u001b[90;3m2024-07-15 13:46:55,012 \u001b[0m\u001b[36msats.satellite.Scanner-1       \u001b[0m\u001b[mINFO       \u001b[0m\u001b[33m<6900.00> \u001b[0m\u001b[36mScanner-1: \u001b[0m\u001b[mtimed termination at 6900.0 for action_charge\u001b[0m\n"
     ]
    },
    {
     "name": "stderr",
     "output_type": "stream",
     "text": [
      "\u001b[90;3m2024-07-15 13:46:55,013 \u001b[0m\u001b[mdata.base                      \u001b[0m\u001b[mINFO       \u001b[0m\u001b[33m<6900.00> \u001b[0m\u001b[mData reward: {'Scanner-1_4715111056': 0.0}\u001b[0m\n"
     ]
    },
    {
     "name": "stderr",
     "output_type": "stream",
     "text": [
      "\u001b[90;3m2024-07-15 13:46:55,013 \u001b[0m\u001b[mgym                            \u001b[0m\u001b[mINFO       \u001b[0m\u001b[33m<6900.00> \u001b[0m\u001b[mSatellites requiring retasking: ['Scanner-1_4715111056']\u001b[0m\n"
     ]
    },
    {
     "name": "stderr",
     "output_type": "stream",
     "text": [
      "\u001b[90;3m2024-07-15 13:46:55,013 \u001b[0m\u001b[mgym                            \u001b[0m\u001b[mINFO       \u001b[0m\u001b[33m<6900.00> \u001b[0m\u001b[mStep reward: 0.0\u001b[0m\n"
     ]
    },
    {
     "name": "stderr",
     "output_type": "stream",
     "text": [
      "\u001b[90;3m2024-07-15 13:46:55,014 \u001b[0m\u001b[mgym                            \u001b[0m\u001b[mINFO       \u001b[0m\u001b[33m<6900.00> \u001b[0m\u001b[93;1m=== STARTING STEP ===\u001b[0m\n"
     ]
    },
    {
     "name": "stderr",
     "output_type": "stream",
     "text": [
      "\u001b[90;3m2024-07-15 13:46:55,014 \u001b[0m\u001b[36msats.satellite.Scanner-1       \u001b[0m\u001b[mINFO       \u001b[0m\u001b[33m<6900.00> \u001b[0m\u001b[36mScanner-1: \u001b[0m\u001b[maction_nadir_scan tasked for 180.0 seconds\u001b[0m\n"
     ]
    },
    {
     "name": "stderr",
     "output_type": "stream",
     "text": [
      "\u001b[90;3m2024-07-15 13:46:55,014 \u001b[0m\u001b[36msats.satellite.Scanner-1       \u001b[0m\u001b[mINFO       \u001b[0m\u001b[33m<6900.00> \u001b[0m\u001b[36mScanner-1: \u001b[0m\u001b[msetting timed terminal event at 7080.0\u001b[0m\n"
     ]
    },
    {
     "name": "stderr",
     "output_type": "stream",
     "text": [
      "\u001b[90;3m2024-07-15 13:46:55,014 \u001b[0m\u001b[msim.simulator                  \u001b[0m\u001b[mINFO       \u001b[0m\u001b[33m<6900.00> \u001b[0m\u001b[mRunning simulation at most to 11400.00 seconds\u001b[0m\n"
     ]
    },
    {
     "name": "stderr",
     "output_type": "stream",
     "text": [
      "\u001b[90;3m2024-07-15 13:46:55,024 \u001b[0m\u001b[36msats.satellite.Scanner-1       \u001b[0m\u001b[mINFO       \u001b[0m\u001b[33m<7080.00> \u001b[0m\u001b[36mScanner-1: \u001b[0m\u001b[mtimed termination at 7080.0 for action_nadir_scan\u001b[0m\n"
     ]
    },
    {
     "name": "stderr",
     "output_type": "stream",
     "text": [
      "\u001b[90;3m2024-07-15 13:46:55,025 \u001b[0m\u001b[mdata.base                      \u001b[0m\u001b[mINFO       \u001b[0m\u001b[33m<7080.00> \u001b[0m\u001b[mData reward: {'Scanner-1_4715111056': 0.014298245614035086}\u001b[0m\n"
     ]
    },
    {
     "name": "stderr",
     "output_type": "stream",
     "text": [
      "\u001b[90;3m2024-07-15 13:46:55,025 \u001b[0m\u001b[mgym                            \u001b[0m\u001b[mINFO       \u001b[0m\u001b[33m<7080.00> \u001b[0m\u001b[mSatellites requiring retasking: ['Scanner-1_4715111056']\u001b[0m\n"
     ]
    },
    {
     "name": "stderr",
     "output_type": "stream",
     "text": [
      "\u001b[90;3m2024-07-15 13:46:55,026 \u001b[0m\u001b[mgym                            \u001b[0m\u001b[mINFO       \u001b[0m\u001b[33m<7080.00> \u001b[0m\u001b[mStep reward: 0.014298245614035086\u001b[0m\n"
     ]
    },
    {
     "name": "stderr",
     "output_type": "stream",
     "text": [
      "\u001b[90;3m2024-07-15 13:46:55,026 \u001b[0m\u001b[mgym                            \u001b[0m\u001b[mINFO       \u001b[0m\u001b[33m<7080.00> \u001b[0m\u001b[93;1m=== STARTING STEP ===\u001b[0m\n"
     ]
    },
    {
     "name": "stderr",
     "output_type": "stream",
     "text": [
      "\u001b[90;3m2024-07-15 13:46:55,026 \u001b[0m\u001b[36msats.satellite.Scanner-1       \u001b[0m\u001b[mINFO       \u001b[0m\u001b[33m<7080.00> \u001b[0m\u001b[36mScanner-1: \u001b[0m\u001b[maction_nadir_scan tasked for 180.0 seconds\u001b[0m\n"
     ]
    },
    {
     "name": "stderr",
     "output_type": "stream",
     "text": [
      "\u001b[90;3m2024-07-15 13:46:55,026 \u001b[0m\u001b[36msats.satellite.Scanner-1       \u001b[0m\u001b[mINFO       \u001b[0m\u001b[33m<7080.00> \u001b[0m\u001b[36mScanner-1: \u001b[0m\u001b[msetting timed terminal event at 7260.0\u001b[0m\n"
     ]
    },
    {
     "name": "stderr",
     "output_type": "stream",
     "text": [
      "\u001b[90;3m2024-07-15 13:46:55,026 \u001b[0m\u001b[msim.simulator                  \u001b[0m\u001b[mINFO       \u001b[0m\u001b[33m<7080.00> \u001b[0m\u001b[mRunning simulation at most to 11400.00 seconds\u001b[0m\n"
     ]
    },
    {
     "name": "stderr",
     "output_type": "stream",
     "text": [
      "\u001b[90;3m2024-07-15 13:46:55,037 \u001b[0m\u001b[36msats.satellite.Scanner-1       \u001b[0m\u001b[mINFO       \u001b[0m\u001b[33m<7260.00> \u001b[0m\u001b[36mScanner-1: \u001b[0m\u001b[mtimed termination at 7260.0 for action_nadir_scan\u001b[0m\n"
     ]
    },
    {
     "name": "stderr",
     "output_type": "stream",
     "text": [
      "\u001b[90;3m2024-07-15 13:46:55,037 \u001b[0m\u001b[mdata.base                      \u001b[0m\u001b[mINFO       \u001b[0m\u001b[33m<7260.00> \u001b[0m\u001b[mData reward: {'Scanner-1_4715111056': 0.015789473684210527}\u001b[0m\n"
     ]
    },
    {
     "name": "stderr",
     "output_type": "stream",
     "text": [
      "\u001b[90;3m2024-07-15 13:46:55,038 \u001b[0m\u001b[mgym                            \u001b[0m\u001b[mINFO       \u001b[0m\u001b[33m<7260.00> \u001b[0m\u001b[mSatellites requiring retasking: ['Scanner-1_4715111056']\u001b[0m\n"
     ]
    },
    {
     "name": "stderr",
     "output_type": "stream",
     "text": [
      "\u001b[90;3m2024-07-15 13:46:55,038 \u001b[0m\u001b[mgym                            \u001b[0m\u001b[mINFO       \u001b[0m\u001b[33m<7260.00> \u001b[0m\u001b[mStep reward: 0.015789473684210527\u001b[0m\n"
     ]
    },
    {
     "name": "stderr",
     "output_type": "stream",
     "text": [
      "\u001b[90;3m2024-07-15 13:46:55,038 \u001b[0m\u001b[mgym                            \u001b[0m\u001b[mINFO       \u001b[0m\u001b[33m<7260.00> \u001b[0m\u001b[93;1m=== STARTING STEP ===\u001b[0m\n"
     ]
    },
    {
     "name": "stderr",
     "output_type": "stream",
     "text": [
      "\u001b[90;3m2024-07-15 13:46:55,039 \u001b[0m\u001b[36msats.satellite.Scanner-1       \u001b[0m\u001b[mINFO       \u001b[0m\u001b[33m<7260.00> \u001b[0m\u001b[36mScanner-1: \u001b[0m\u001b[maction_charge tasked for 180.0 seconds\u001b[0m\n"
     ]
    },
    {
     "name": "stderr",
     "output_type": "stream",
     "text": [
      "\u001b[90;3m2024-07-15 13:46:55,039 \u001b[0m\u001b[36msats.satellite.Scanner-1       \u001b[0m\u001b[mINFO       \u001b[0m\u001b[33m<7260.00> \u001b[0m\u001b[36mScanner-1: \u001b[0m\u001b[msetting timed terminal event at 7440.0\u001b[0m\n"
     ]
    },
    {
     "name": "stderr",
     "output_type": "stream",
     "text": [
      "\u001b[90;3m2024-07-15 13:46:55,039 \u001b[0m\u001b[msim.simulator                  \u001b[0m\u001b[mINFO       \u001b[0m\u001b[33m<7260.00> \u001b[0m\u001b[mRunning simulation at most to 11400.00 seconds\u001b[0m\n"
     ]
    },
    {
     "name": "stderr",
     "output_type": "stream",
     "text": [
      "\u001b[90;3m2024-07-15 13:46:55,049 \u001b[0m\u001b[36msats.satellite.Scanner-1       \u001b[0m\u001b[mINFO       \u001b[0m\u001b[33m<7440.00> \u001b[0m\u001b[36mScanner-1: \u001b[0m\u001b[mtimed termination at 7440.0 for action_charge\u001b[0m\n"
     ]
    },
    {
     "name": "stderr",
     "output_type": "stream",
     "text": [
      "\u001b[90;3m2024-07-15 13:46:55,049 \u001b[0m\u001b[mdata.base                      \u001b[0m\u001b[mINFO       \u001b[0m\u001b[33m<7440.00> \u001b[0m\u001b[mData reward: {'Scanner-1_4715111056': 0.0}\u001b[0m\n"
     ]
    },
    {
     "name": "stderr",
     "output_type": "stream",
     "text": [
      "\u001b[90;3m2024-07-15 13:46:55,050 \u001b[0m\u001b[mgym                            \u001b[0m\u001b[mINFO       \u001b[0m\u001b[33m<7440.00> \u001b[0m\u001b[mSatellites requiring retasking: ['Scanner-1_4715111056']\u001b[0m\n"
     ]
    },
    {
     "name": "stderr",
     "output_type": "stream",
     "text": [
      "\u001b[90;3m2024-07-15 13:46:55,050 \u001b[0m\u001b[mgym                            \u001b[0m\u001b[mINFO       \u001b[0m\u001b[33m<7440.00> \u001b[0m\u001b[mStep reward: 0.0\u001b[0m\n"
     ]
    },
    {
     "name": "stderr",
     "output_type": "stream",
     "text": [
      "\u001b[90;3m2024-07-15 13:46:55,051 \u001b[0m\u001b[mgym                            \u001b[0m\u001b[mINFO       \u001b[0m\u001b[33m<7440.00> \u001b[0m\u001b[93;1m=== STARTING STEP ===\u001b[0m\n"
     ]
    },
    {
     "name": "stderr",
     "output_type": "stream",
     "text": [
      "\u001b[90;3m2024-07-15 13:46:55,051 \u001b[0m\u001b[36msats.satellite.Scanner-1       \u001b[0m\u001b[mINFO       \u001b[0m\u001b[33m<7440.00> \u001b[0m\u001b[36mScanner-1: \u001b[0m\u001b[maction_downlink tasked for 60.0 seconds\u001b[0m\n"
     ]
    },
    {
     "name": "stderr",
     "output_type": "stream",
     "text": [
      "\u001b[90;3m2024-07-15 13:46:55,051 \u001b[0m\u001b[36msats.satellite.Scanner-1       \u001b[0m\u001b[mINFO       \u001b[0m\u001b[33m<7440.00> \u001b[0m\u001b[36mScanner-1: \u001b[0m\u001b[msetting timed terminal event at 7500.0\u001b[0m\n"
     ]
    },
    {
     "name": "stderr",
     "output_type": "stream",
     "text": [
      "\u001b[90;3m2024-07-15 13:46:55,051 \u001b[0m\u001b[msim.simulator                  \u001b[0m\u001b[mINFO       \u001b[0m\u001b[33m<7440.00> \u001b[0m\u001b[mRunning simulation at most to 11400.00 seconds\u001b[0m\n"
     ]
    },
    {
     "name": "stderr",
     "output_type": "stream",
     "text": [
      "\u001b[90;3m2024-07-15 13:46:55,055 \u001b[0m\u001b[36msats.satellite.Scanner-1       \u001b[0m\u001b[mINFO       \u001b[0m\u001b[33m<7500.00> \u001b[0m\u001b[36mScanner-1: \u001b[0m\u001b[mtimed termination at 7500.0 for action_downlink\u001b[0m\n"
     ]
    },
    {
     "name": "stderr",
     "output_type": "stream",
     "text": [
      "\u001b[90;3m2024-07-15 13:46:55,055 \u001b[0m\u001b[mdata.base                      \u001b[0m\u001b[mINFO       \u001b[0m\u001b[33m<7500.00> \u001b[0m\u001b[mData reward: {'Scanner-1_4715111056': 0.0}\u001b[0m\n"
     ]
    },
    {
     "name": "stderr",
     "output_type": "stream",
     "text": [
      "\u001b[90;3m2024-07-15 13:46:55,056 \u001b[0m\u001b[mgym                            \u001b[0m\u001b[mINFO       \u001b[0m\u001b[33m<7500.00> \u001b[0m\u001b[mSatellites requiring retasking: ['Scanner-1_4715111056']\u001b[0m\n"
     ]
    },
    {
     "name": "stderr",
     "output_type": "stream",
     "text": [
      "\u001b[90;3m2024-07-15 13:46:55,056 \u001b[0m\u001b[mgym                            \u001b[0m\u001b[mINFO       \u001b[0m\u001b[33m<7500.00> \u001b[0m\u001b[mStep reward: 0.0\u001b[0m\n"
     ]
    },
    {
     "name": "stderr",
     "output_type": "stream",
     "text": [
      "\u001b[90;3m2024-07-15 13:46:55,056 \u001b[0m\u001b[mgym                            \u001b[0m\u001b[mINFO       \u001b[0m\u001b[33m<7500.00> \u001b[0m\u001b[93;1m=== STARTING STEP ===\u001b[0m\n"
     ]
    },
    {
     "name": "stderr",
     "output_type": "stream",
     "text": [
      "\u001b[90;3m2024-07-15 13:46:55,057 \u001b[0m\u001b[36msats.satellite.Scanner-1       \u001b[0m\u001b[mINFO       \u001b[0m\u001b[33m<7500.00> \u001b[0m\u001b[36mScanner-1: \u001b[0m\u001b[maction_desat tasked for 60.0 seconds\u001b[0m\n"
     ]
    },
    {
     "name": "stderr",
     "output_type": "stream",
     "text": [
      "\u001b[90;3m2024-07-15 13:46:55,057 \u001b[0m\u001b[36msats.satellite.Scanner-1       \u001b[0m\u001b[mINFO       \u001b[0m\u001b[33m<7500.00> \u001b[0m\u001b[36mScanner-1: \u001b[0m\u001b[msetting timed terminal event at 7560.0\u001b[0m\n"
     ]
    },
    {
     "name": "stderr",
     "output_type": "stream",
     "text": [
      "\u001b[90;3m2024-07-15 13:46:55,057 \u001b[0m\u001b[msim.simulator                  \u001b[0m\u001b[mINFO       \u001b[0m\u001b[33m<7500.00> \u001b[0m\u001b[mRunning simulation at most to 11400.00 seconds\u001b[0m\n"
     ]
    },
    {
     "name": "stderr",
     "output_type": "stream",
     "text": [
      "\u001b[90;3m2024-07-15 13:46:55,061 \u001b[0m\u001b[36msats.satellite.Scanner-1       \u001b[0m\u001b[mINFO       \u001b[0m\u001b[33m<7560.00> \u001b[0m\u001b[36mScanner-1: \u001b[0m\u001b[mtimed termination at 7560.0 for action_desat\u001b[0m\n"
     ]
    },
    {
     "name": "stderr",
     "output_type": "stream",
     "text": [
      "\u001b[90;3m2024-07-15 13:46:55,061 \u001b[0m\u001b[mdata.base                      \u001b[0m\u001b[mINFO       \u001b[0m\u001b[33m<7560.00> \u001b[0m\u001b[mData reward: {'Scanner-1_4715111056': 0.0}\u001b[0m\n"
     ]
    },
    {
     "name": "stderr",
     "output_type": "stream",
     "text": [
      "\u001b[90;3m2024-07-15 13:46:55,062 \u001b[0m\u001b[mgym                            \u001b[0m\u001b[mINFO       \u001b[0m\u001b[33m<7560.00> \u001b[0m\u001b[mSatellites requiring retasking: ['Scanner-1_4715111056']\u001b[0m\n"
     ]
    },
    {
     "name": "stderr",
     "output_type": "stream",
     "text": [
      "\u001b[90;3m2024-07-15 13:46:55,062 \u001b[0m\u001b[mgym                            \u001b[0m\u001b[mINFO       \u001b[0m\u001b[33m<7560.00> \u001b[0m\u001b[mStep reward: 0.0\u001b[0m\n"
     ]
    },
    {
     "name": "stderr",
     "output_type": "stream",
     "text": [
      "\u001b[90;3m2024-07-15 13:46:55,062 \u001b[0m\u001b[mgym                            \u001b[0m\u001b[mINFO       \u001b[0m\u001b[33m<7560.00> \u001b[0m\u001b[93;1m=== STARTING STEP ===\u001b[0m\n"
     ]
    },
    {
     "name": "stderr",
     "output_type": "stream",
     "text": [
      "\u001b[90;3m2024-07-15 13:46:55,062 \u001b[0m\u001b[36msats.satellite.Scanner-1       \u001b[0m\u001b[mINFO       \u001b[0m\u001b[33m<7560.00> \u001b[0m\u001b[36mScanner-1: \u001b[0m\u001b[maction_downlink tasked for 60.0 seconds\u001b[0m\n"
     ]
    },
    {
     "name": "stderr",
     "output_type": "stream",
     "text": [
      "\u001b[90;3m2024-07-15 13:46:55,062 \u001b[0m\u001b[36msats.satellite.Scanner-1       \u001b[0m\u001b[mINFO       \u001b[0m\u001b[33m<7560.00> \u001b[0m\u001b[36mScanner-1: \u001b[0m\u001b[msetting timed terminal event at 7620.0\u001b[0m\n"
     ]
    },
    {
     "name": "stderr",
     "output_type": "stream",
     "text": [
      "\u001b[90;3m2024-07-15 13:46:55,063 \u001b[0m\u001b[msim.simulator                  \u001b[0m\u001b[mINFO       \u001b[0m\u001b[33m<7560.00> \u001b[0m\u001b[mRunning simulation at most to 11400.00 seconds\u001b[0m\n"
     ]
    },
    {
     "name": "stderr",
     "output_type": "stream",
     "text": [
      "\u001b[90;3m2024-07-15 13:46:55,066 \u001b[0m\u001b[36msats.satellite.Scanner-1       \u001b[0m\u001b[mINFO       \u001b[0m\u001b[33m<7620.00> \u001b[0m\u001b[36mScanner-1: \u001b[0m\u001b[mtimed termination at 7620.0 for action_downlink\u001b[0m\n"
     ]
    },
    {
     "name": "stderr",
     "output_type": "stream",
     "text": [
      "\u001b[90;3m2024-07-15 13:46:55,066 \u001b[0m\u001b[mdata.base                      \u001b[0m\u001b[mINFO       \u001b[0m\u001b[33m<7620.00> \u001b[0m\u001b[mData reward: {'Scanner-1_4715111056': 0.0}\u001b[0m\n"
     ]
    },
    {
     "name": "stderr",
     "output_type": "stream",
     "text": [
      "\u001b[90;3m2024-07-15 13:46:55,067 \u001b[0m\u001b[mgym                            \u001b[0m\u001b[mINFO       \u001b[0m\u001b[33m<7620.00> \u001b[0m\u001b[mSatellites requiring retasking: ['Scanner-1_4715111056']\u001b[0m\n"
     ]
    },
    {
     "name": "stderr",
     "output_type": "stream",
     "text": [
      "\u001b[90;3m2024-07-15 13:46:55,067 \u001b[0m\u001b[mgym                            \u001b[0m\u001b[mINFO       \u001b[0m\u001b[33m<7620.00> \u001b[0m\u001b[mStep reward: 0.0\u001b[0m\n"
     ]
    },
    {
     "name": "stderr",
     "output_type": "stream",
     "text": [
      "\u001b[90;3m2024-07-15 13:46:55,068 \u001b[0m\u001b[mgym                            \u001b[0m\u001b[mINFO       \u001b[0m\u001b[33m<7620.00> \u001b[0m\u001b[93;1m=== STARTING STEP ===\u001b[0m\n"
     ]
    },
    {
     "name": "stderr",
     "output_type": "stream",
     "text": [
      "\u001b[90;3m2024-07-15 13:46:55,068 \u001b[0m\u001b[36msats.satellite.Scanner-1       \u001b[0m\u001b[mINFO       \u001b[0m\u001b[33m<7620.00> \u001b[0m\u001b[36mScanner-1: \u001b[0m\u001b[maction_nadir_scan tasked for 180.0 seconds\u001b[0m\n"
     ]
    },
    {
     "name": "stderr",
     "output_type": "stream",
     "text": [
      "\u001b[90;3m2024-07-15 13:46:55,068 \u001b[0m\u001b[36msats.satellite.Scanner-1       \u001b[0m\u001b[mINFO       \u001b[0m\u001b[33m<7620.00> \u001b[0m\u001b[36mScanner-1: \u001b[0m\u001b[msetting timed terminal event at 7800.0\u001b[0m\n"
     ]
    },
    {
     "name": "stderr",
     "output_type": "stream",
     "text": [
      "\u001b[90;3m2024-07-15 13:46:55,068 \u001b[0m\u001b[msim.simulator                  \u001b[0m\u001b[mINFO       \u001b[0m\u001b[33m<7620.00> \u001b[0m\u001b[mRunning simulation at most to 11400.00 seconds\u001b[0m\n"
     ]
    },
    {
     "name": "stderr",
     "output_type": "stream",
     "text": [
      "\u001b[90;3m2024-07-15 13:46:55,078 \u001b[0m\u001b[36msats.satellite.Scanner-1       \u001b[0m\u001b[mINFO       \u001b[0m\u001b[33m<7800.00> \u001b[0m\u001b[36mScanner-1: \u001b[0m\u001b[mtimed termination at 7800.0 for action_nadir_scan\u001b[0m\n"
     ]
    },
    {
     "name": "stderr",
     "output_type": "stream",
     "text": [
      "\u001b[90;3m2024-07-15 13:46:55,079 \u001b[0m\u001b[mdata.base                      \u001b[0m\u001b[mINFO       \u001b[0m\u001b[33m<7800.00> \u001b[0m\u001b[mData reward: {'Scanner-1_4715111056': 0.012280701754385963}\u001b[0m\n"
     ]
    },
    {
     "name": "stderr",
     "output_type": "stream",
     "text": [
      "\u001b[90;3m2024-07-15 13:46:55,079 \u001b[0m\u001b[mgym                            \u001b[0m\u001b[mINFO       \u001b[0m\u001b[33m<7800.00> \u001b[0m\u001b[mSatellites requiring retasking: ['Scanner-1_4715111056']\u001b[0m\n"
     ]
    },
    {
     "name": "stderr",
     "output_type": "stream",
     "text": [
      "\u001b[90;3m2024-07-15 13:46:55,080 \u001b[0m\u001b[mgym                            \u001b[0m\u001b[mINFO       \u001b[0m\u001b[33m<7800.00> \u001b[0m\u001b[mStep reward: 0.012280701754385963\u001b[0m\n"
     ]
    },
    {
     "name": "stderr",
     "output_type": "stream",
     "text": [
      "\u001b[90;3m2024-07-15 13:46:55,080 \u001b[0m\u001b[mgym                            \u001b[0m\u001b[mINFO       \u001b[0m\u001b[33m<7800.00> \u001b[0m\u001b[93;1m=== STARTING STEP ===\u001b[0m\n"
     ]
    },
    {
     "name": "stderr",
     "output_type": "stream",
     "text": [
      "\u001b[90;3m2024-07-15 13:46:55,080 \u001b[0m\u001b[36msats.satellite.Scanner-1       \u001b[0m\u001b[mINFO       \u001b[0m\u001b[33m<7800.00> \u001b[0m\u001b[36mScanner-1: \u001b[0m\u001b[maction_downlink tasked for 60.0 seconds\u001b[0m\n"
     ]
    },
    {
     "name": "stderr",
     "output_type": "stream",
     "text": [
      "\u001b[90;3m2024-07-15 13:46:55,080 \u001b[0m\u001b[36msats.satellite.Scanner-1       \u001b[0m\u001b[mINFO       \u001b[0m\u001b[33m<7800.00> \u001b[0m\u001b[36mScanner-1: \u001b[0m\u001b[msetting timed terminal event at 7860.0\u001b[0m\n"
     ]
    },
    {
     "name": "stderr",
     "output_type": "stream",
     "text": [
      "\u001b[90;3m2024-07-15 13:46:55,081 \u001b[0m\u001b[msim.simulator                  \u001b[0m\u001b[mINFO       \u001b[0m\u001b[33m<7800.00> \u001b[0m\u001b[mRunning simulation at most to 11400.00 seconds\u001b[0m\n"
     ]
    },
    {
     "name": "stderr",
     "output_type": "stream",
     "text": [
      "\u001b[90;3m2024-07-15 13:46:55,084 \u001b[0m\u001b[36msats.satellite.Scanner-1       \u001b[0m\u001b[mINFO       \u001b[0m\u001b[33m<7860.00> \u001b[0m\u001b[36mScanner-1: \u001b[0m\u001b[mtimed termination at 7860.0 for action_downlink\u001b[0m\n"
     ]
    },
    {
     "name": "stderr",
     "output_type": "stream",
     "text": [
      "\u001b[90;3m2024-07-15 13:46:55,085 \u001b[0m\u001b[mdata.base                      \u001b[0m\u001b[mINFO       \u001b[0m\u001b[33m<7860.00> \u001b[0m\u001b[mData reward: {'Scanner-1_4715111056': 0.0}\u001b[0m\n"
     ]
    },
    {
     "name": "stderr",
     "output_type": "stream",
     "text": [
      "\u001b[90;3m2024-07-15 13:46:55,085 \u001b[0m\u001b[mgym                            \u001b[0m\u001b[mINFO       \u001b[0m\u001b[33m<7860.00> \u001b[0m\u001b[mSatellites requiring retasking: ['Scanner-1_4715111056']\u001b[0m\n"
     ]
    },
    {
     "name": "stderr",
     "output_type": "stream",
     "text": [
      "\u001b[90;3m2024-07-15 13:46:55,085 \u001b[0m\u001b[mgym                            \u001b[0m\u001b[mINFO       \u001b[0m\u001b[33m<7860.00> \u001b[0m\u001b[mStep reward: 0.0\u001b[0m\n"
     ]
    },
    {
     "name": "stderr",
     "output_type": "stream",
     "text": [
      "\u001b[90;3m2024-07-15 13:46:55,086 \u001b[0m\u001b[mgym                            \u001b[0m\u001b[mINFO       \u001b[0m\u001b[33m<7860.00> \u001b[0m\u001b[93;1m=== STARTING STEP ===\u001b[0m\n"
     ]
    },
    {
     "name": "stderr",
     "output_type": "stream",
     "text": [
      "\u001b[90;3m2024-07-15 13:46:55,086 \u001b[0m\u001b[36msats.satellite.Scanner-1       \u001b[0m\u001b[mINFO       \u001b[0m\u001b[33m<7860.00> \u001b[0m\u001b[36mScanner-1: \u001b[0m\u001b[maction_charge tasked for 180.0 seconds\u001b[0m\n"
     ]
    },
    {
     "name": "stderr",
     "output_type": "stream",
     "text": [
      "\u001b[90;3m2024-07-15 13:46:55,086 \u001b[0m\u001b[36msats.satellite.Scanner-1       \u001b[0m\u001b[mINFO       \u001b[0m\u001b[33m<7860.00> \u001b[0m\u001b[36mScanner-1: \u001b[0m\u001b[msetting timed terminal event at 8040.0\u001b[0m\n"
     ]
    },
    {
     "name": "stderr",
     "output_type": "stream",
     "text": [
      "\u001b[90;3m2024-07-15 13:46:55,086 \u001b[0m\u001b[msim.simulator                  \u001b[0m\u001b[mINFO       \u001b[0m\u001b[33m<7860.00> \u001b[0m\u001b[mRunning simulation at most to 11400.00 seconds\u001b[0m\n"
     ]
    },
    {
     "name": "stderr",
     "output_type": "stream",
     "text": [
      "\u001b[90;3m2024-07-15 13:46:55,096 \u001b[0m\u001b[36msats.satellite.Scanner-1       \u001b[0m\u001b[mINFO       \u001b[0m\u001b[33m<8040.00> \u001b[0m\u001b[36mScanner-1: \u001b[0m\u001b[mtimed termination at 8040.0 for action_charge\u001b[0m\n"
     ]
    },
    {
     "name": "stderr",
     "output_type": "stream",
     "text": [
      "\u001b[90;3m2024-07-15 13:46:55,097 \u001b[0m\u001b[mdata.base                      \u001b[0m\u001b[mINFO       \u001b[0m\u001b[33m<8040.00> \u001b[0m\u001b[mData reward: {'Scanner-1_4715111056': 0.0}\u001b[0m\n"
     ]
    },
    {
     "name": "stderr",
     "output_type": "stream",
     "text": [
      "\u001b[90;3m2024-07-15 13:46:55,097 \u001b[0m\u001b[mgym                            \u001b[0m\u001b[mINFO       \u001b[0m\u001b[33m<8040.00> \u001b[0m\u001b[mSatellites requiring retasking: ['Scanner-1_4715111056']\u001b[0m\n"
     ]
    },
    {
     "name": "stderr",
     "output_type": "stream",
     "text": [
      "\u001b[90;3m2024-07-15 13:46:55,097 \u001b[0m\u001b[mgym                            \u001b[0m\u001b[mINFO       \u001b[0m\u001b[33m<8040.00> \u001b[0m\u001b[mStep reward: 0.0\u001b[0m\n"
     ]
    },
    {
     "name": "stderr",
     "output_type": "stream",
     "text": [
      "\u001b[90;3m2024-07-15 13:46:55,098 \u001b[0m\u001b[mgym                            \u001b[0m\u001b[mINFO       \u001b[0m\u001b[33m<8040.00> \u001b[0m\u001b[93;1m=== STARTING STEP ===\u001b[0m\n"
     ]
    },
    {
     "name": "stderr",
     "output_type": "stream",
     "text": [
      "\u001b[90;3m2024-07-15 13:46:55,098 \u001b[0m\u001b[36msats.satellite.Scanner-1       \u001b[0m\u001b[mINFO       \u001b[0m\u001b[33m<8040.00> \u001b[0m\u001b[36mScanner-1: \u001b[0m\u001b[maction_desat tasked for 60.0 seconds\u001b[0m\n"
     ]
    },
    {
     "name": "stderr",
     "output_type": "stream",
     "text": [
      "\u001b[90;3m2024-07-15 13:46:55,098 \u001b[0m\u001b[36msats.satellite.Scanner-1       \u001b[0m\u001b[mINFO       \u001b[0m\u001b[33m<8040.00> \u001b[0m\u001b[36mScanner-1: \u001b[0m\u001b[msetting timed terminal event at 8100.0\u001b[0m\n"
     ]
    },
    {
     "name": "stderr",
     "output_type": "stream",
     "text": [
      "\u001b[90;3m2024-07-15 13:46:55,098 \u001b[0m\u001b[msim.simulator                  \u001b[0m\u001b[mINFO       \u001b[0m\u001b[33m<8040.00> \u001b[0m\u001b[mRunning simulation at most to 11400.00 seconds\u001b[0m\n"
     ]
    },
    {
     "name": "stderr",
     "output_type": "stream",
     "text": [
      "\u001b[90;3m2024-07-15 13:46:55,102 \u001b[0m\u001b[36msats.satellite.Scanner-1       \u001b[0m\u001b[mINFO       \u001b[0m\u001b[33m<8100.00> \u001b[0m\u001b[36mScanner-1: \u001b[0m\u001b[mtimed termination at 8100.0 for action_desat\u001b[0m\n"
     ]
    },
    {
     "name": "stderr",
     "output_type": "stream",
     "text": [
      "\u001b[90;3m2024-07-15 13:46:55,102 \u001b[0m\u001b[mdata.base                      \u001b[0m\u001b[mINFO       \u001b[0m\u001b[33m<8100.00> \u001b[0m\u001b[mData reward: {'Scanner-1_4715111056': 0.0}\u001b[0m\n"
     ]
    },
    {
     "name": "stderr",
     "output_type": "stream",
     "text": [
      "\u001b[90;3m2024-07-15 13:46:55,103 \u001b[0m\u001b[mgym                            \u001b[0m\u001b[mINFO       \u001b[0m\u001b[33m<8100.00> \u001b[0m\u001b[mSatellites requiring retasking: ['Scanner-1_4715111056']\u001b[0m\n"
     ]
    },
    {
     "name": "stderr",
     "output_type": "stream",
     "text": [
      "\u001b[90;3m2024-07-15 13:46:55,103 \u001b[0m\u001b[mgym                            \u001b[0m\u001b[mINFO       \u001b[0m\u001b[33m<8100.00> \u001b[0m\u001b[mStep reward: 0.0\u001b[0m\n"
     ]
    },
    {
     "name": "stderr",
     "output_type": "stream",
     "text": [
      "\u001b[90;3m2024-07-15 13:46:55,103 \u001b[0m\u001b[mgym                            \u001b[0m\u001b[mINFO       \u001b[0m\u001b[33m<8100.00> \u001b[0m\u001b[93;1m=== STARTING STEP ===\u001b[0m\n"
     ]
    },
    {
     "name": "stderr",
     "output_type": "stream",
     "text": [
      "\u001b[90;3m2024-07-15 13:46:55,104 \u001b[0m\u001b[36msats.satellite.Scanner-1       \u001b[0m\u001b[mINFO       \u001b[0m\u001b[33m<8100.00> \u001b[0m\u001b[36mScanner-1: \u001b[0m\u001b[maction_downlink tasked for 60.0 seconds\u001b[0m\n"
     ]
    },
    {
     "name": "stderr",
     "output_type": "stream",
     "text": [
      "\u001b[90;3m2024-07-15 13:46:55,104 \u001b[0m\u001b[36msats.satellite.Scanner-1       \u001b[0m\u001b[mINFO       \u001b[0m\u001b[33m<8100.00> \u001b[0m\u001b[36mScanner-1: \u001b[0m\u001b[msetting timed terminal event at 8160.0\u001b[0m\n"
     ]
    },
    {
     "name": "stderr",
     "output_type": "stream",
     "text": [
      "\u001b[90;3m2024-07-15 13:46:55,104 \u001b[0m\u001b[msim.simulator                  \u001b[0m\u001b[mINFO       \u001b[0m\u001b[33m<8100.00> \u001b[0m\u001b[mRunning simulation at most to 11400.00 seconds\u001b[0m\n"
     ]
    },
    {
     "name": "stderr",
     "output_type": "stream",
     "text": [
      "\u001b[90;3m2024-07-15 13:46:55,108 \u001b[0m\u001b[36msats.satellite.Scanner-1       \u001b[0m\u001b[mINFO       \u001b[0m\u001b[33m<8160.00> \u001b[0m\u001b[36mScanner-1: \u001b[0m\u001b[mtimed termination at 8160.0 for action_downlink\u001b[0m\n"
     ]
    },
    {
     "name": "stderr",
     "output_type": "stream",
     "text": [
      "\u001b[90;3m2024-07-15 13:46:55,108 \u001b[0m\u001b[mdata.base                      \u001b[0m\u001b[mINFO       \u001b[0m\u001b[33m<8160.00> \u001b[0m\u001b[mData reward: {'Scanner-1_4715111056': 0.0}\u001b[0m\n"
     ]
    },
    {
     "name": "stderr",
     "output_type": "stream",
     "text": [
      "\u001b[90;3m2024-07-15 13:46:55,109 \u001b[0m\u001b[mgym                            \u001b[0m\u001b[mINFO       \u001b[0m\u001b[33m<8160.00> \u001b[0m\u001b[mSatellites requiring retasking: ['Scanner-1_4715111056']\u001b[0m\n"
     ]
    },
    {
     "name": "stderr",
     "output_type": "stream",
     "text": [
      "\u001b[90;3m2024-07-15 13:46:55,109 \u001b[0m\u001b[mgym                            \u001b[0m\u001b[mINFO       \u001b[0m\u001b[33m<8160.00> \u001b[0m\u001b[mStep reward: 0.0\u001b[0m\n"
     ]
    },
    {
     "name": "stderr",
     "output_type": "stream",
     "text": [
      "\u001b[90;3m2024-07-15 13:46:55,109 \u001b[0m\u001b[mgym                            \u001b[0m\u001b[mINFO       \u001b[0m\u001b[33m<8160.00> \u001b[0m\u001b[93;1m=== STARTING STEP ===\u001b[0m\n"
     ]
    },
    {
     "name": "stderr",
     "output_type": "stream",
     "text": [
      "\u001b[90;3m2024-07-15 13:46:55,109 \u001b[0m\u001b[36msats.satellite.Scanner-1       \u001b[0m\u001b[mINFO       \u001b[0m\u001b[33m<8160.00> \u001b[0m\u001b[36mScanner-1: \u001b[0m\u001b[maction_charge tasked for 180.0 seconds\u001b[0m\n"
     ]
    },
    {
     "name": "stderr",
     "output_type": "stream",
     "text": [
      "\u001b[90;3m2024-07-15 13:46:55,109 \u001b[0m\u001b[36msats.satellite.Scanner-1       \u001b[0m\u001b[mINFO       \u001b[0m\u001b[33m<8160.00> \u001b[0m\u001b[36mScanner-1: \u001b[0m\u001b[msetting timed terminal event at 8340.0\u001b[0m\n"
     ]
    },
    {
     "name": "stderr",
     "output_type": "stream",
     "text": [
      "\u001b[90;3m2024-07-15 13:46:55,110 \u001b[0m\u001b[msim.simulator                  \u001b[0m\u001b[mINFO       \u001b[0m\u001b[33m<8160.00> \u001b[0m\u001b[mRunning simulation at most to 11400.00 seconds\u001b[0m\n"
     ]
    },
    {
     "name": "stderr",
     "output_type": "stream",
     "text": [
      "\u001b[90;3m2024-07-15 13:46:55,120 \u001b[0m\u001b[36msats.satellite.Scanner-1       \u001b[0m\u001b[mINFO       \u001b[0m\u001b[33m<8340.00> \u001b[0m\u001b[36mScanner-1: \u001b[0m\u001b[mtimed termination at 8340.0 for action_charge\u001b[0m\n"
     ]
    },
    {
     "name": "stderr",
     "output_type": "stream",
     "text": [
      "\u001b[90;3m2024-07-15 13:46:55,120 \u001b[0m\u001b[mdata.base                      \u001b[0m\u001b[mINFO       \u001b[0m\u001b[33m<8340.00> \u001b[0m\u001b[mData reward: {'Scanner-1_4715111056': 0.0}\u001b[0m\n"
     ]
    },
    {
     "name": "stderr",
     "output_type": "stream",
     "text": [
      "\u001b[90;3m2024-07-15 13:46:55,121 \u001b[0m\u001b[mgym                            \u001b[0m\u001b[mINFO       \u001b[0m\u001b[33m<8340.00> \u001b[0m\u001b[mSatellites requiring retasking: ['Scanner-1_4715111056']\u001b[0m\n"
     ]
    },
    {
     "name": "stderr",
     "output_type": "stream",
     "text": [
      "\u001b[90;3m2024-07-15 13:46:55,121 \u001b[0m\u001b[mgym                            \u001b[0m\u001b[mINFO       \u001b[0m\u001b[33m<8340.00> \u001b[0m\u001b[mStep reward: 0.0\u001b[0m\n"
     ]
    },
    {
     "name": "stderr",
     "output_type": "stream",
     "text": [
      "\u001b[90;3m2024-07-15 13:46:55,121 \u001b[0m\u001b[mgym                            \u001b[0m\u001b[mINFO       \u001b[0m\u001b[33m<8340.00> \u001b[0m\u001b[93;1m=== STARTING STEP ===\u001b[0m\n"
     ]
    },
    {
     "name": "stderr",
     "output_type": "stream",
     "text": [
      "\u001b[90;3m2024-07-15 13:46:55,121 \u001b[0m\u001b[36msats.satellite.Scanner-1       \u001b[0m\u001b[mINFO       \u001b[0m\u001b[33m<8340.00> \u001b[0m\u001b[36mScanner-1: \u001b[0m\u001b[maction_downlink tasked for 60.0 seconds\u001b[0m\n"
     ]
    },
    {
     "name": "stderr",
     "output_type": "stream",
     "text": [
      "\u001b[90;3m2024-07-15 13:46:55,121 \u001b[0m\u001b[36msats.satellite.Scanner-1       \u001b[0m\u001b[mINFO       \u001b[0m\u001b[33m<8340.00> \u001b[0m\u001b[36mScanner-1: \u001b[0m\u001b[msetting timed terminal event at 8400.0\u001b[0m\n"
     ]
    },
    {
     "name": "stderr",
     "output_type": "stream",
     "text": [
      "\u001b[90;3m2024-07-15 13:46:55,122 \u001b[0m\u001b[msim.simulator                  \u001b[0m\u001b[mINFO       \u001b[0m\u001b[33m<8340.00> \u001b[0m\u001b[mRunning simulation at most to 11400.00 seconds\u001b[0m\n"
     ]
    },
    {
     "name": "stderr",
     "output_type": "stream",
     "text": [
      "\u001b[90;3m2024-07-15 13:46:55,125 \u001b[0m\u001b[36msats.satellite.Scanner-1       \u001b[0m\u001b[mINFO       \u001b[0m\u001b[33m<8400.00> \u001b[0m\u001b[36mScanner-1: \u001b[0m\u001b[mtimed termination at 8400.0 for action_downlink\u001b[0m\n"
     ]
    },
    {
     "name": "stderr",
     "output_type": "stream",
     "text": [
      "\u001b[90;3m2024-07-15 13:46:55,126 \u001b[0m\u001b[mdata.base                      \u001b[0m\u001b[mINFO       \u001b[0m\u001b[33m<8400.00> \u001b[0m\u001b[mData reward: {'Scanner-1_4715111056': 0.0}\u001b[0m\n"
     ]
    },
    {
     "name": "stderr",
     "output_type": "stream",
     "text": [
      "\u001b[90;3m2024-07-15 13:46:55,168 \u001b[0m\u001b[mgym                            \u001b[0m\u001b[mINFO       \u001b[0m\u001b[33m<8400.00> \u001b[0m\u001b[mSatellites requiring retasking: ['Scanner-1_4715111056']\u001b[0m\n"
     ]
    },
    {
     "name": "stderr",
     "output_type": "stream",
     "text": [
      "\u001b[90;3m2024-07-15 13:46:55,168 \u001b[0m\u001b[mgym                            \u001b[0m\u001b[mINFO       \u001b[0m\u001b[33m<8400.00> \u001b[0m\u001b[mStep reward: 0.0\u001b[0m\n"
     ]
    },
    {
     "name": "stderr",
     "output_type": "stream",
     "text": [
      "\u001b[90;3m2024-07-15 13:46:55,168 \u001b[0m\u001b[mgym                            \u001b[0m\u001b[mINFO       \u001b[0m\u001b[33m<8400.00> \u001b[0m\u001b[93;1m=== STARTING STEP ===\u001b[0m\n"
     ]
    },
    {
     "name": "stderr",
     "output_type": "stream",
     "text": [
      "\u001b[90;3m2024-07-15 13:46:55,169 \u001b[0m\u001b[36msats.satellite.Scanner-1       \u001b[0m\u001b[mINFO       \u001b[0m\u001b[33m<8400.00> \u001b[0m\u001b[36mScanner-1: \u001b[0m\u001b[maction_downlink tasked for 60.0 seconds\u001b[0m\n"
     ]
    },
    {
     "name": "stderr",
     "output_type": "stream",
     "text": [
      "\u001b[90;3m2024-07-15 13:46:55,169 \u001b[0m\u001b[36msats.satellite.Scanner-1       \u001b[0m\u001b[mINFO       \u001b[0m\u001b[33m<8400.00> \u001b[0m\u001b[36mScanner-1: \u001b[0m\u001b[msetting timed terminal event at 8460.0\u001b[0m\n"
     ]
    },
    {
     "name": "stderr",
     "output_type": "stream",
     "text": [
      "\u001b[90;3m2024-07-15 13:46:55,169 \u001b[0m\u001b[msim.simulator                  \u001b[0m\u001b[mINFO       \u001b[0m\u001b[33m<8400.00> \u001b[0m\u001b[mRunning simulation at most to 11400.00 seconds\u001b[0m\n"
     ]
    },
    {
     "name": "stderr",
     "output_type": "stream",
     "text": [
      "\u001b[90;3m2024-07-15 13:46:55,172 \u001b[0m\u001b[36msats.satellite.Scanner-1       \u001b[0m\u001b[mINFO       \u001b[0m\u001b[33m<8460.00> \u001b[0m\u001b[36mScanner-1: \u001b[0m\u001b[mtimed termination at 8460.0 for action_downlink\u001b[0m\n"
     ]
    },
    {
     "name": "stderr",
     "output_type": "stream",
     "text": [
      "\u001b[90;3m2024-07-15 13:46:55,173 \u001b[0m\u001b[mdata.base                      \u001b[0m\u001b[mINFO       \u001b[0m\u001b[33m<8460.00> \u001b[0m\u001b[mData reward: {'Scanner-1_4715111056': 0.0}\u001b[0m\n"
     ]
    },
    {
     "name": "stderr",
     "output_type": "stream",
     "text": [
      "\u001b[90;3m2024-07-15 13:46:55,173 \u001b[0m\u001b[mgym                            \u001b[0m\u001b[mINFO       \u001b[0m\u001b[33m<8460.00> \u001b[0m\u001b[mSatellites requiring retasking: ['Scanner-1_4715111056']\u001b[0m\n"
     ]
    },
    {
     "name": "stderr",
     "output_type": "stream",
     "text": [
      "\u001b[90;3m2024-07-15 13:46:55,174 \u001b[0m\u001b[mgym                            \u001b[0m\u001b[mINFO       \u001b[0m\u001b[33m<8460.00> \u001b[0m\u001b[mStep reward: 0.0\u001b[0m\n"
     ]
    },
    {
     "name": "stderr",
     "output_type": "stream",
     "text": [
      "\u001b[90;3m2024-07-15 13:46:55,174 \u001b[0m\u001b[mgym                            \u001b[0m\u001b[mINFO       \u001b[0m\u001b[33m<8460.00> \u001b[0m\u001b[93;1m=== STARTING STEP ===\u001b[0m\n"
     ]
    },
    {
     "name": "stderr",
     "output_type": "stream",
     "text": [
      "\u001b[90;3m2024-07-15 13:46:55,174 \u001b[0m\u001b[36msats.satellite.Scanner-1       \u001b[0m\u001b[mINFO       \u001b[0m\u001b[33m<8460.00> \u001b[0m\u001b[36mScanner-1: \u001b[0m\u001b[maction_downlink tasked for 60.0 seconds\u001b[0m\n"
     ]
    },
    {
     "name": "stderr",
     "output_type": "stream",
     "text": [
      "\u001b[90;3m2024-07-15 13:46:55,174 \u001b[0m\u001b[36msats.satellite.Scanner-1       \u001b[0m\u001b[mINFO       \u001b[0m\u001b[33m<8460.00> \u001b[0m\u001b[36mScanner-1: \u001b[0m\u001b[msetting timed terminal event at 8520.0\u001b[0m\n"
     ]
    },
    {
     "name": "stderr",
     "output_type": "stream",
     "text": [
      "\u001b[90;3m2024-07-15 13:46:55,175 \u001b[0m\u001b[msim.simulator                  \u001b[0m\u001b[mINFO       \u001b[0m\u001b[33m<8460.00> \u001b[0m\u001b[mRunning simulation at most to 11400.00 seconds\u001b[0m\n"
     ]
    },
    {
     "name": "stderr",
     "output_type": "stream",
     "text": [
      "\u001b[90;3m2024-07-15 13:46:55,178 \u001b[0m\u001b[36msats.satellite.Scanner-1       \u001b[0m\u001b[mINFO       \u001b[0m\u001b[33m<8520.00> \u001b[0m\u001b[36mScanner-1: \u001b[0m\u001b[mtimed termination at 8520.0 for action_downlink\u001b[0m\n"
     ]
    },
    {
     "name": "stderr",
     "output_type": "stream",
     "text": [
      "\u001b[90;3m2024-07-15 13:46:55,178 \u001b[0m\u001b[mdata.base                      \u001b[0m\u001b[mINFO       \u001b[0m\u001b[33m<8520.00> \u001b[0m\u001b[mData reward: {'Scanner-1_4715111056': 0.0}\u001b[0m\n"
     ]
    },
    {
     "name": "stderr",
     "output_type": "stream",
     "text": [
      "\u001b[90;3m2024-07-15 13:46:55,179 \u001b[0m\u001b[mgym                            \u001b[0m\u001b[mINFO       \u001b[0m\u001b[33m<8520.00> \u001b[0m\u001b[mSatellites requiring retasking: ['Scanner-1_4715111056']\u001b[0m\n"
     ]
    },
    {
     "name": "stderr",
     "output_type": "stream",
     "text": [
      "\u001b[90;3m2024-07-15 13:46:55,179 \u001b[0m\u001b[mgym                            \u001b[0m\u001b[mINFO       \u001b[0m\u001b[33m<8520.00> \u001b[0m\u001b[mStep reward: 0.0\u001b[0m\n"
     ]
    },
    {
     "name": "stderr",
     "output_type": "stream",
     "text": [
      "\u001b[90;3m2024-07-15 13:46:55,180 \u001b[0m\u001b[mgym                            \u001b[0m\u001b[mINFO       \u001b[0m\u001b[33m<8520.00> \u001b[0m\u001b[93;1m=== STARTING STEP ===\u001b[0m\n"
     ]
    },
    {
     "name": "stderr",
     "output_type": "stream",
     "text": [
      "\u001b[90;3m2024-07-15 13:46:55,180 \u001b[0m\u001b[36msats.satellite.Scanner-1       \u001b[0m\u001b[mINFO       \u001b[0m\u001b[33m<8520.00> \u001b[0m\u001b[36mScanner-1: \u001b[0m\u001b[maction_downlink tasked for 60.0 seconds\u001b[0m\n"
     ]
    },
    {
     "name": "stderr",
     "output_type": "stream",
     "text": [
      "\u001b[90;3m2024-07-15 13:46:55,180 \u001b[0m\u001b[36msats.satellite.Scanner-1       \u001b[0m\u001b[mINFO       \u001b[0m\u001b[33m<8520.00> \u001b[0m\u001b[36mScanner-1: \u001b[0m\u001b[msetting timed terminal event at 8580.0\u001b[0m\n"
     ]
    },
    {
     "name": "stderr",
     "output_type": "stream",
     "text": [
      "\u001b[90;3m2024-07-15 13:46:55,180 \u001b[0m\u001b[msim.simulator                  \u001b[0m\u001b[mINFO       \u001b[0m\u001b[33m<8520.00> \u001b[0m\u001b[mRunning simulation at most to 11400.00 seconds\u001b[0m\n"
     ]
    },
    {
     "name": "stderr",
     "output_type": "stream",
     "text": [
      "\u001b[90;3m2024-07-15 13:46:55,184 \u001b[0m\u001b[36msats.satellite.Scanner-1       \u001b[0m\u001b[mINFO       \u001b[0m\u001b[33m<8580.00> \u001b[0m\u001b[36mScanner-1: \u001b[0m\u001b[mtimed termination at 8580.0 for action_downlink\u001b[0m\n"
     ]
    },
    {
     "name": "stderr",
     "output_type": "stream",
     "text": [
      "\u001b[90;3m2024-07-15 13:46:55,184 \u001b[0m\u001b[mdata.base                      \u001b[0m\u001b[mINFO       \u001b[0m\u001b[33m<8580.00> \u001b[0m\u001b[mData reward: {'Scanner-1_4715111056': 0.0}\u001b[0m\n"
     ]
    },
    {
     "name": "stderr",
     "output_type": "stream",
     "text": [
      "\u001b[90;3m2024-07-15 13:46:55,185 \u001b[0m\u001b[mgym                            \u001b[0m\u001b[mINFO       \u001b[0m\u001b[33m<8580.00> \u001b[0m\u001b[mSatellites requiring retasking: ['Scanner-1_4715111056']\u001b[0m\n"
     ]
    },
    {
     "name": "stderr",
     "output_type": "stream",
     "text": [
      "\u001b[90;3m2024-07-15 13:46:55,185 \u001b[0m\u001b[mgym                            \u001b[0m\u001b[mINFO       \u001b[0m\u001b[33m<8580.00> \u001b[0m\u001b[mStep reward: 0.0\u001b[0m\n"
     ]
    },
    {
     "name": "stderr",
     "output_type": "stream",
     "text": [
      "\u001b[90;3m2024-07-15 13:46:55,185 \u001b[0m\u001b[mgym                            \u001b[0m\u001b[mINFO       \u001b[0m\u001b[33m<8580.00> \u001b[0m\u001b[93;1m=== STARTING STEP ===\u001b[0m\n"
     ]
    },
    {
     "name": "stderr",
     "output_type": "stream",
     "text": [
      "\u001b[90;3m2024-07-15 13:46:55,186 \u001b[0m\u001b[36msats.satellite.Scanner-1       \u001b[0m\u001b[mINFO       \u001b[0m\u001b[33m<8580.00> \u001b[0m\u001b[36mScanner-1: \u001b[0m\u001b[maction_nadir_scan tasked for 180.0 seconds\u001b[0m\n"
     ]
    },
    {
     "name": "stderr",
     "output_type": "stream",
     "text": [
      "\u001b[90;3m2024-07-15 13:46:55,186 \u001b[0m\u001b[36msats.satellite.Scanner-1       \u001b[0m\u001b[mINFO       \u001b[0m\u001b[33m<8580.00> \u001b[0m\u001b[36mScanner-1: \u001b[0m\u001b[msetting timed terminal event at 8760.0\u001b[0m\n"
     ]
    },
    {
     "name": "stderr",
     "output_type": "stream",
     "text": [
      "\u001b[90;3m2024-07-15 13:46:55,186 \u001b[0m\u001b[msim.simulator                  \u001b[0m\u001b[mINFO       \u001b[0m\u001b[33m<8580.00> \u001b[0m\u001b[mRunning simulation at most to 11400.00 seconds\u001b[0m\n"
     ]
    },
    {
     "name": "stderr",
     "output_type": "stream",
     "text": [
      "\u001b[90;3m2024-07-15 13:46:55,196 \u001b[0m\u001b[36msats.satellite.Scanner-1       \u001b[0m\u001b[mINFO       \u001b[0m\u001b[33m<8760.00> \u001b[0m\u001b[36mScanner-1: \u001b[0m\u001b[mtimed termination at 8760.0 for action_nadir_scan\u001b[0m\n"
     ]
    },
    {
     "name": "stderr",
     "output_type": "stream",
     "text": [
      "\u001b[90;3m2024-07-15 13:46:55,196 \u001b[0m\u001b[mdata.base                      \u001b[0m\u001b[mINFO       \u001b[0m\u001b[33m<8760.00> \u001b[0m\u001b[mData reward: {'Scanner-1_4715111056': 0.012280701754385963}\u001b[0m\n"
     ]
    },
    {
     "name": "stderr",
     "output_type": "stream",
     "text": [
      "\u001b[90;3m2024-07-15 13:46:55,197 \u001b[0m\u001b[mgym                            \u001b[0m\u001b[mINFO       \u001b[0m\u001b[33m<8760.00> \u001b[0m\u001b[mSatellites requiring retasking: ['Scanner-1_4715111056']\u001b[0m\n"
     ]
    },
    {
     "name": "stderr",
     "output_type": "stream",
     "text": [
      "\u001b[90;3m2024-07-15 13:46:55,197 \u001b[0m\u001b[mgym                            \u001b[0m\u001b[mINFO       \u001b[0m\u001b[33m<8760.00> \u001b[0m\u001b[mStep reward: 0.012280701754385963\u001b[0m\n"
     ]
    },
    {
     "name": "stderr",
     "output_type": "stream",
     "text": [
      "\u001b[90;3m2024-07-15 13:46:55,197 \u001b[0m\u001b[mgym                            \u001b[0m\u001b[mINFO       \u001b[0m\u001b[33m<8760.00> \u001b[0m\u001b[93;1m=== STARTING STEP ===\u001b[0m\n"
     ]
    },
    {
     "name": "stderr",
     "output_type": "stream",
     "text": [
      "\u001b[90;3m2024-07-15 13:46:55,198 \u001b[0m\u001b[36msats.satellite.Scanner-1       \u001b[0m\u001b[mINFO       \u001b[0m\u001b[33m<8760.00> \u001b[0m\u001b[36mScanner-1: \u001b[0m\u001b[maction_charge tasked for 180.0 seconds\u001b[0m\n"
     ]
    },
    {
     "name": "stderr",
     "output_type": "stream",
     "text": [
      "\u001b[90;3m2024-07-15 13:46:55,198 \u001b[0m\u001b[36msats.satellite.Scanner-1       \u001b[0m\u001b[mINFO       \u001b[0m\u001b[33m<8760.00> \u001b[0m\u001b[36mScanner-1: \u001b[0m\u001b[msetting timed terminal event at 8940.0\u001b[0m\n"
     ]
    },
    {
     "name": "stderr",
     "output_type": "stream",
     "text": [
      "\u001b[90;3m2024-07-15 13:46:55,198 \u001b[0m\u001b[msim.simulator                  \u001b[0m\u001b[mINFO       \u001b[0m\u001b[33m<8760.00> \u001b[0m\u001b[mRunning simulation at most to 11400.00 seconds\u001b[0m\n"
     ]
    },
    {
     "name": "stderr",
     "output_type": "stream",
     "text": [
      "\u001b[90;3m2024-07-15 13:46:55,208 \u001b[0m\u001b[36msats.satellite.Scanner-1       \u001b[0m\u001b[mINFO       \u001b[0m\u001b[33m<8940.00> \u001b[0m\u001b[36mScanner-1: \u001b[0m\u001b[mtimed termination at 8940.0 for action_charge\u001b[0m\n"
     ]
    },
    {
     "name": "stderr",
     "output_type": "stream",
     "text": [
      "\u001b[90;3m2024-07-15 13:46:55,208 \u001b[0m\u001b[mdata.base                      \u001b[0m\u001b[mINFO       \u001b[0m\u001b[33m<8940.00> \u001b[0m\u001b[mData reward: {'Scanner-1_4715111056': 0.0}\u001b[0m\n"
     ]
    },
    {
     "name": "stderr",
     "output_type": "stream",
     "text": [
      "\u001b[90;3m2024-07-15 13:46:55,209 \u001b[0m\u001b[mgym                            \u001b[0m\u001b[mINFO       \u001b[0m\u001b[33m<8940.00> \u001b[0m\u001b[mSatellites requiring retasking: ['Scanner-1_4715111056']\u001b[0m\n"
     ]
    },
    {
     "name": "stderr",
     "output_type": "stream",
     "text": [
      "\u001b[90;3m2024-07-15 13:46:55,209 \u001b[0m\u001b[mgym                            \u001b[0m\u001b[mINFO       \u001b[0m\u001b[33m<8940.00> \u001b[0m\u001b[mStep reward: 0.0\u001b[0m\n"
     ]
    },
    {
     "name": "stderr",
     "output_type": "stream",
     "text": [
      "\u001b[90;3m2024-07-15 13:46:55,209 \u001b[0m\u001b[mgym                            \u001b[0m\u001b[mINFO       \u001b[0m\u001b[33m<8940.00> \u001b[0m\u001b[93;1m=== STARTING STEP ===\u001b[0m\n"
     ]
    },
    {
     "name": "stderr",
     "output_type": "stream",
     "text": [
      "\u001b[90;3m2024-07-15 13:46:55,210 \u001b[0m\u001b[36msats.satellite.Scanner-1       \u001b[0m\u001b[mINFO       \u001b[0m\u001b[33m<8940.00> \u001b[0m\u001b[36mScanner-1: \u001b[0m\u001b[maction_desat tasked for 60.0 seconds\u001b[0m\n"
     ]
    },
    {
     "name": "stderr",
     "output_type": "stream",
     "text": [
      "\u001b[90;3m2024-07-15 13:46:55,210 \u001b[0m\u001b[36msats.satellite.Scanner-1       \u001b[0m\u001b[mINFO       \u001b[0m\u001b[33m<8940.00> \u001b[0m\u001b[36mScanner-1: \u001b[0m\u001b[msetting timed terminal event at 9000.0\u001b[0m\n"
     ]
    },
    {
     "name": "stderr",
     "output_type": "stream",
     "text": [
      "\u001b[90;3m2024-07-15 13:46:55,210 \u001b[0m\u001b[msim.simulator                  \u001b[0m\u001b[mINFO       \u001b[0m\u001b[33m<8940.00> \u001b[0m\u001b[mRunning simulation at most to 11400.00 seconds\u001b[0m\n"
     ]
    },
    {
     "name": "stderr",
     "output_type": "stream",
     "text": [
      "\u001b[90;3m2024-07-15 13:46:55,214 \u001b[0m\u001b[36msats.satellite.Scanner-1       \u001b[0m\u001b[mINFO       \u001b[0m\u001b[33m<9000.00> \u001b[0m\u001b[36mScanner-1: \u001b[0m\u001b[mtimed termination at 9000.0 for action_desat\u001b[0m\n"
     ]
    },
    {
     "name": "stderr",
     "output_type": "stream",
     "text": [
      "\u001b[90;3m2024-07-15 13:46:55,214 \u001b[0m\u001b[mdata.base                      \u001b[0m\u001b[mINFO       \u001b[0m\u001b[33m<9000.00> \u001b[0m\u001b[mData reward: {'Scanner-1_4715111056': 0.0}\u001b[0m\n"
     ]
    },
    {
     "name": "stderr",
     "output_type": "stream",
     "text": [
      "\u001b[90;3m2024-07-15 13:46:55,215 \u001b[0m\u001b[mgym                            \u001b[0m\u001b[mINFO       \u001b[0m\u001b[33m<9000.00> \u001b[0m\u001b[mSatellites requiring retasking: ['Scanner-1_4715111056']\u001b[0m\n"
     ]
    },
    {
     "name": "stderr",
     "output_type": "stream",
     "text": [
      "\u001b[90;3m2024-07-15 13:46:55,215 \u001b[0m\u001b[mgym                            \u001b[0m\u001b[mINFO       \u001b[0m\u001b[33m<9000.00> \u001b[0m\u001b[mStep reward: 0.0\u001b[0m\n"
     ]
    },
    {
     "name": "stderr",
     "output_type": "stream",
     "text": [
      "\u001b[90;3m2024-07-15 13:46:55,215 \u001b[0m\u001b[mgym                            \u001b[0m\u001b[mINFO       \u001b[0m\u001b[33m<9000.00> \u001b[0m\u001b[93;1m=== STARTING STEP ===\u001b[0m\n"
     ]
    },
    {
     "name": "stderr",
     "output_type": "stream",
     "text": [
      "\u001b[90;3m2024-07-15 13:46:55,215 \u001b[0m\u001b[36msats.satellite.Scanner-1       \u001b[0m\u001b[mINFO       \u001b[0m\u001b[33m<9000.00> \u001b[0m\u001b[36mScanner-1: \u001b[0m\u001b[maction_desat tasked for 60.0 seconds\u001b[0m\n"
     ]
    },
    {
     "name": "stderr",
     "output_type": "stream",
     "text": [
      "\u001b[90;3m2024-07-15 13:46:55,216 \u001b[0m\u001b[36msats.satellite.Scanner-1       \u001b[0m\u001b[mINFO       \u001b[0m\u001b[33m<9000.00> \u001b[0m\u001b[36mScanner-1: \u001b[0m\u001b[msetting timed terminal event at 9060.0\u001b[0m\n"
     ]
    },
    {
     "name": "stderr",
     "output_type": "stream",
     "text": [
      "\u001b[90;3m2024-07-15 13:46:55,216 \u001b[0m\u001b[msim.simulator                  \u001b[0m\u001b[mINFO       \u001b[0m\u001b[33m<9000.00> \u001b[0m\u001b[mRunning simulation at most to 11400.00 seconds\u001b[0m\n"
     ]
    },
    {
     "name": "stderr",
     "output_type": "stream",
     "text": [
      "\u001b[90;3m2024-07-15 13:46:55,219 \u001b[0m\u001b[36msats.satellite.Scanner-1       \u001b[0m\u001b[mINFO       \u001b[0m\u001b[33m<9060.00> \u001b[0m\u001b[36mScanner-1: \u001b[0m\u001b[mtimed termination at 9060.0 for action_desat\u001b[0m\n"
     ]
    },
    {
     "name": "stderr",
     "output_type": "stream",
     "text": [
      "\u001b[90;3m2024-07-15 13:46:55,220 \u001b[0m\u001b[mdata.base                      \u001b[0m\u001b[mINFO       \u001b[0m\u001b[33m<9060.00> \u001b[0m\u001b[mData reward: {'Scanner-1_4715111056': 0.0}\u001b[0m\n"
     ]
    },
    {
     "name": "stderr",
     "output_type": "stream",
     "text": [
      "\u001b[90;3m2024-07-15 13:46:55,220 \u001b[0m\u001b[mgym                            \u001b[0m\u001b[mINFO       \u001b[0m\u001b[33m<9060.00> \u001b[0m\u001b[mSatellites requiring retasking: ['Scanner-1_4715111056']\u001b[0m\n"
     ]
    },
    {
     "name": "stderr",
     "output_type": "stream",
     "text": [
      "\u001b[90;3m2024-07-15 13:46:55,221 \u001b[0m\u001b[mgym                            \u001b[0m\u001b[mINFO       \u001b[0m\u001b[33m<9060.00> \u001b[0m\u001b[mStep reward: 0.0\u001b[0m\n"
     ]
    },
    {
     "name": "stderr",
     "output_type": "stream",
     "text": [
      "\u001b[90;3m2024-07-15 13:46:55,221 \u001b[0m\u001b[mgym                            \u001b[0m\u001b[mINFO       \u001b[0m\u001b[33m<9060.00> \u001b[0m\u001b[93;1m=== STARTING STEP ===\u001b[0m\n"
     ]
    },
    {
     "name": "stderr",
     "output_type": "stream",
     "text": [
      "\u001b[90;3m2024-07-15 13:46:55,221 \u001b[0m\u001b[36msats.satellite.Scanner-1       \u001b[0m\u001b[mINFO       \u001b[0m\u001b[33m<9060.00> \u001b[0m\u001b[36mScanner-1: \u001b[0m\u001b[maction_downlink tasked for 60.0 seconds\u001b[0m\n"
     ]
    },
    {
     "name": "stderr",
     "output_type": "stream",
     "text": [
      "\u001b[90;3m2024-07-15 13:46:55,221 \u001b[0m\u001b[36msats.satellite.Scanner-1       \u001b[0m\u001b[mINFO       \u001b[0m\u001b[33m<9060.00> \u001b[0m\u001b[36mScanner-1: \u001b[0m\u001b[msetting timed terminal event at 9120.0\u001b[0m\n"
     ]
    },
    {
     "name": "stderr",
     "output_type": "stream",
     "text": [
      "\u001b[90;3m2024-07-15 13:46:55,252 \u001b[0m\u001b[msim.simulator                  \u001b[0m\u001b[mINFO       \u001b[0m\u001b[33m<9060.00> \u001b[0m\u001b[mRunning simulation at most to 11400.00 seconds\u001b[0m\n"
     ]
    },
    {
     "name": "stderr",
     "output_type": "stream",
     "text": [
      "\u001b[90;3m2024-07-15 13:46:55,255 \u001b[0m\u001b[36msats.satellite.Scanner-1       \u001b[0m\u001b[mINFO       \u001b[0m\u001b[33m<9120.00> \u001b[0m\u001b[36mScanner-1: \u001b[0m\u001b[mtimed termination at 9120.0 for action_downlink\u001b[0m\n"
     ]
    },
    {
     "name": "stderr",
     "output_type": "stream",
     "text": [
      "\u001b[90;3m2024-07-15 13:46:55,256 \u001b[0m\u001b[mdata.base                      \u001b[0m\u001b[mINFO       \u001b[0m\u001b[33m<9120.00> \u001b[0m\u001b[mData reward: {'Scanner-1_4715111056': 0.0}\u001b[0m\n"
     ]
    },
    {
     "name": "stderr",
     "output_type": "stream",
     "text": [
      "\u001b[90;3m2024-07-15 13:46:55,256 \u001b[0m\u001b[mgym                            \u001b[0m\u001b[mINFO       \u001b[0m\u001b[33m<9120.00> \u001b[0m\u001b[mSatellites requiring retasking: ['Scanner-1_4715111056']\u001b[0m\n"
     ]
    },
    {
     "name": "stderr",
     "output_type": "stream",
     "text": [
      "\u001b[90;3m2024-07-15 13:46:55,257 \u001b[0m\u001b[mgym                            \u001b[0m\u001b[mINFO       \u001b[0m\u001b[33m<9120.00> \u001b[0m\u001b[mStep reward: 0.0\u001b[0m\n"
     ]
    },
    {
     "name": "stderr",
     "output_type": "stream",
     "text": [
      "\u001b[90;3m2024-07-15 13:46:55,257 \u001b[0m\u001b[mgym                            \u001b[0m\u001b[mINFO       \u001b[0m\u001b[33m<9120.00> \u001b[0m\u001b[93;1m=== STARTING STEP ===\u001b[0m\n"
     ]
    },
    {
     "name": "stderr",
     "output_type": "stream",
     "text": [
      "\u001b[90;3m2024-07-15 13:46:55,257 \u001b[0m\u001b[36msats.satellite.Scanner-1       \u001b[0m\u001b[mINFO       \u001b[0m\u001b[33m<9120.00> \u001b[0m\u001b[36mScanner-1: \u001b[0m\u001b[maction_nadir_scan tasked for 180.0 seconds\u001b[0m\n"
     ]
    },
    {
     "name": "stderr",
     "output_type": "stream",
     "text": [
      "\u001b[90;3m2024-07-15 13:46:55,257 \u001b[0m\u001b[36msats.satellite.Scanner-1       \u001b[0m\u001b[mINFO       \u001b[0m\u001b[33m<9120.00> \u001b[0m\u001b[36mScanner-1: \u001b[0m\u001b[msetting timed terminal event at 9300.0\u001b[0m\n"
     ]
    },
    {
     "name": "stderr",
     "output_type": "stream",
     "text": [
      "\u001b[90;3m2024-07-15 13:46:55,258 \u001b[0m\u001b[msim.simulator                  \u001b[0m\u001b[mINFO       \u001b[0m\u001b[33m<9120.00> \u001b[0m\u001b[mRunning simulation at most to 11400.00 seconds\u001b[0m\n"
     ]
    },
    {
     "name": "stderr",
     "output_type": "stream",
     "text": [
      "\u001b[90;3m2024-07-15 13:46:55,267 \u001b[0m\u001b[36msats.satellite.Scanner-1       \u001b[0m\u001b[mINFO       \u001b[0m\u001b[33m<9300.00> \u001b[0m\u001b[36mScanner-1: \u001b[0m\u001b[mtimed termination at 9300.0 for action_nadir_scan\u001b[0m\n"
     ]
    },
    {
     "name": "stderr",
     "output_type": "stream",
     "text": [
      "\u001b[90;3m2024-07-15 13:46:55,268 \u001b[0m\u001b[mdata.base                      \u001b[0m\u001b[mINFO       \u001b[0m\u001b[33m<9300.00> \u001b[0m\u001b[mData reward: {'Scanner-1_4715111056': 0.012280701754385963}\u001b[0m\n"
     ]
    },
    {
     "name": "stderr",
     "output_type": "stream",
     "text": [
      "\u001b[90;3m2024-07-15 13:46:55,268 \u001b[0m\u001b[mgym                            \u001b[0m\u001b[mINFO       \u001b[0m\u001b[33m<9300.00> \u001b[0m\u001b[mSatellites requiring retasking: ['Scanner-1_4715111056']\u001b[0m\n"
     ]
    },
    {
     "name": "stderr",
     "output_type": "stream",
     "text": [
      "\u001b[90;3m2024-07-15 13:46:55,269 \u001b[0m\u001b[mgym                            \u001b[0m\u001b[mINFO       \u001b[0m\u001b[33m<9300.00> \u001b[0m\u001b[mStep reward: 0.012280701754385963\u001b[0m\n"
     ]
    },
    {
     "name": "stderr",
     "output_type": "stream",
     "text": [
      "\u001b[90;3m2024-07-15 13:46:55,269 \u001b[0m\u001b[mgym                            \u001b[0m\u001b[mINFO       \u001b[0m\u001b[33m<9300.00> \u001b[0m\u001b[93;1m=== STARTING STEP ===\u001b[0m\n"
     ]
    },
    {
     "name": "stderr",
     "output_type": "stream",
     "text": [
      "\u001b[90;3m2024-07-15 13:46:55,269 \u001b[0m\u001b[36msats.satellite.Scanner-1       \u001b[0m\u001b[mINFO       \u001b[0m\u001b[33m<9300.00> \u001b[0m\u001b[36mScanner-1: \u001b[0m\u001b[maction_desat tasked for 60.0 seconds\u001b[0m\n"
     ]
    },
    {
     "name": "stderr",
     "output_type": "stream",
     "text": [
      "\u001b[90;3m2024-07-15 13:46:55,269 \u001b[0m\u001b[36msats.satellite.Scanner-1       \u001b[0m\u001b[mINFO       \u001b[0m\u001b[33m<9300.00> \u001b[0m\u001b[36mScanner-1: \u001b[0m\u001b[msetting timed terminal event at 9360.0\u001b[0m\n"
     ]
    },
    {
     "name": "stderr",
     "output_type": "stream",
     "text": [
      "\u001b[90;3m2024-07-15 13:46:55,270 \u001b[0m\u001b[msim.simulator                  \u001b[0m\u001b[mINFO       \u001b[0m\u001b[33m<9300.00> \u001b[0m\u001b[mRunning simulation at most to 11400.00 seconds\u001b[0m\n"
     ]
    },
    {
     "name": "stderr",
     "output_type": "stream",
     "text": [
      "\u001b[90;3m2024-07-15 13:46:55,273 \u001b[0m\u001b[36msats.satellite.Scanner-1       \u001b[0m\u001b[mINFO       \u001b[0m\u001b[33m<9360.00> \u001b[0m\u001b[36mScanner-1: \u001b[0m\u001b[mtimed termination at 9360.0 for action_desat\u001b[0m\n"
     ]
    },
    {
     "name": "stderr",
     "output_type": "stream",
     "text": [
      "\u001b[90;3m2024-07-15 13:46:55,273 \u001b[0m\u001b[mdata.base                      \u001b[0m\u001b[mINFO       \u001b[0m\u001b[33m<9360.00> \u001b[0m\u001b[mData reward: {'Scanner-1_4715111056': 0.0}\u001b[0m\n"
     ]
    },
    {
     "name": "stderr",
     "output_type": "stream",
     "text": [
      "\u001b[90;3m2024-07-15 13:46:55,274 \u001b[0m\u001b[mgym                            \u001b[0m\u001b[mINFO       \u001b[0m\u001b[33m<9360.00> \u001b[0m\u001b[mSatellites requiring retasking: ['Scanner-1_4715111056']\u001b[0m\n"
     ]
    },
    {
     "name": "stderr",
     "output_type": "stream",
     "text": [
      "\u001b[90;3m2024-07-15 13:46:55,274 \u001b[0m\u001b[mgym                            \u001b[0m\u001b[mINFO       \u001b[0m\u001b[33m<9360.00> \u001b[0m\u001b[mStep reward: 0.0\u001b[0m\n"
     ]
    },
    {
     "name": "stderr",
     "output_type": "stream",
     "text": [
      "\u001b[90;3m2024-07-15 13:46:55,275 \u001b[0m\u001b[mgym                            \u001b[0m\u001b[mINFO       \u001b[0m\u001b[33m<9360.00> \u001b[0m\u001b[93;1m=== STARTING STEP ===\u001b[0m\n"
     ]
    },
    {
     "name": "stderr",
     "output_type": "stream",
     "text": [
      "\u001b[90;3m2024-07-15 13:46:55,275 \u001b[0m\u001b[36msats.satellite.Scanner-1       \u001b[0m\u001b[mINFO       \u001b[0m\u001b[33m<9360.00> \u001b[0m\u001b[36mScanner-1: \u001b[0m\u001b[maction_downlink tasked for 60.0 seconds\u001b[0m\n"
     ]
    },
    {
     "name": "stderr",
     "output_type": "stream",
     "text": [
      "\u001b[90;3m2024-07-15 13:46:55,275 \u001b[0m\u001b[36msats.satellite.Scanner-1       \u001b[0m\u001b[mINFO       \u001b[0m\u001b[33m<9360.00> \u001b[0m\u001b[36mScanner-1: \u001b[0m\u001b[msetting timed terminal event at 9420.0\u001b[0m\n"
     ]
    },
    {
     "name": "stderr",
     "output_type": "stream",
     "text": [
      "\u001b[90;3m2024-07-15 13:46:55,275 \u001b[0m\u001b[msim.simulator                  \u001b[0m\u001b[mINFO       \u001b[0m\u001b[33m<9360.00> \u001b[0m\u001b[mRunning simulation at most to 11400.00 seconds\u001b[0m\n"
     ]
    },
    {
     "name": "stderr",
     "output_type": "stream",
     "text": [
      "\u001b[90;3m2024-07-15 13:46:55,279 \u001b[0m\u001b[36msats.satellite.Scanner-1       \u001b[0m\u001b[mINFO       \u001b[0m\u001b[33m<9420.00> \u001b[0m\u001b[36mScanner-1: \u001b[0m\u001b[mtimed termination at 9420.0 for action_downlink\u001b[0m\n"
     ]
    },
    {
     "name": "stderr",
     "output_type": "stream",
     "text": [
      "\u001b[90;3m2024-07-15 13:46:55,279 \u001b[0m\u001b[mdata.base                      \u001b[0m\u001b[mINFO       \u001b[0m\u001b[33m<9420.00> \u001b[0m\u001b[mData reward: {'Scanner-1_4715111056': 0.0}\u001b[0m\n"
     ]
    },
    {
     "name": "stderr",
     "output_type": "stream",
     "text": [
      "\u001b[90;3m2024-07-15 13:46:55,280 \u001b[0m\u001b[mgym                            \u001b[0m\u001b[mINFO       \u001b[0m\u001b[33m<9420.00> \u001b[0m\u001b[mSatellites requiring retasking: ['Scanner-1_4715111056']\u001b[0m\n"
     ]
    },
    {
     "name": "stderr",
     "output_type": "stream",
     "text": [
      "\u001b[90;3m2024-07-15 13:46:55,280 \u001b[0m\u001b[mgym                            \u001b[0m\u001b[mINFO       \u001b[0m\u001b[33m<9420.00> \u001b[0m\u001b[mStep reward: 0.0\u001b[0m\n"
     ]
    },
    {
     "name": "stderr",
     "output_type": "stream",
     "text": [
      "\u001b[90;3m2024-07-15 13:46:55,280 \u001b[0m\u001b[mgym                            \u001b[0m\u001b[mINFO       \u001b[0m\u001b[33m<9420.00> \u001b[0m\u001b[93;1m=== STARTING STEP ===\u001b[0m\n"
     ]
    },
    {
     "name": "stderr",
     "output_type": "stream",
     "text": [
      "\u001b[90;3m2024-07-15 13:46:55,280 \u001b[0m\u001b[36msats.satellite.Scanner-1       \u001b[0m\u001b[mINFO       \u001b[0m\u001b[33m<9420.00> \u001b[0m\u001b[36mScanner-1: \u001b[0m\u001b[maction_nadir_scan tasked for 180.0 seconds\u001b[0m\n"
     ]
    },
    {
     "name": "stderr",
     "output_type": "stream",
     "text": [
      "\u001b[90;3m2024-07-15 13:46:55,281 \u001b[0m\u001b[36msats.satellite.Scanner-1       \u001b[0m\u001b[mINFO       \u001b[0m\u001b[33m<9420.00> \u001b[0m\u001b[36mScanner-1: \u001b[0m\u001b[msetting timed terminal event at 9600.0\u001b[0m\n"
     ]
    },
    {
     "name": "stderr",
     "output_type": "stream",
     "text": [
      "\u001b[90;3m2024-07-15 13:46:55,281 \u001b[0m\u001b[msim.simulator                  \u001b[0m\u001b[mINFO       \u001b[0m\u001b[33m<9420.00> \u001b[0m\u001b[mRunning simulation at most to 11400.00 seconds\u001b[0m\n"
     ]
    },
    {
     "name": "stderr",
     "output_type": "stream",
     "text": [
      "\u001b[90;3m2024-07-15 13:46:55,291 \u001b[0m\u001b[36msats.satellite.Scanner-1       \u001b[0m\u001b[mINFO       \u001b[0m\u001b[33m<9600.00> \u001b[0m\u001b[36mScanner-1: \u001b[0m\u001b[mtimed termination at 9600.0 for action_nadir_scan\u001b[0m\n"
     ]
    },
    {
     "name": "stderr",
     "output_type": "stream",
     "text": [
      "\u001b[90;3m2024-07-15 13:46:55,291 \u001b[0m\u001b[mdata.base                      \u001b[0m\u001b[mINFO       \u001b[0m\u001b[33m<9600.00> \u001b[0m\u001b[mData reward: {'Scanner-1_4715111056': 0.012280701754385963}\u001b[0m\n"
     ]
    },
    {
     "name": "stderr",
     "output_type": "stream",
     "text": [
      "\u001b[90;3m2024-07-15 13:46:55,292 \u001b[0m\u001b[mgym                            \u001b[0m\u001b[mINFO       \u001b[0m\u001b[33m<9600.00> \u001b[0m\u001b[mSatellites requiring retasking: ['Scanner-1_4715111056']\u001b[0m\n"
     ]
    },
    {
     "name": "stderr",
     "output_type": "stream",
     "text": [
      "\u001b[90;3m2024-07-15 13:46:55,292 \u001b[0m\u001b[mgym                            \u001b[0m\u001b[mINFO       \u001b[0m\u001b[33m<9600.00> \u001b[0m\u001b[mStep reward: 0.012280701754385963\u001b[0m\n"
     ]
    },
    {
     "name": "stderr",
     "output_type": "stream",
     "text": [
      "\u001b[90;3m2024-07-15 13:46:55,292 \u001b[0m\u001b[mgym                            \u001b[0m\u001b[mINFO       \u001b[0m\u001b[33m<9600.00> \u001b[0m\u001b[93;1m=== STARTING STEP ===\u001b[0m\n"
     ]
    },
    {
     "name": "stderr",
     "output_type": "stream",
     "text": [
      "\u001b[90;3m2024-07-15 13:46:55,292 \u001b[0m\u001b[36msats.satellite.Scanner-1       \u001b[0m\u001b[mINFO       \u001b[0m\u001b[33m<9600.00> \u001b[0m\u001b[36mScanner-1: \u001b[0m\u001b[maction_nadir_scan tasked for 180.0 seconds\u001b[0m\n"
     ]
    },
    {
     "name": "stderr",
     "output_type": "stream",
     "text": [
      "\u001b[90;3m2024-07-15 13:46:55,293 \u001b[0m\u001b[36msats.satellite.Scanner-1       \u001b[0m\u001b[mINFO       \u001b[0m\u001b[33m<9600.00> \u001b[0m\u001b[36mScanner-1: \u001b[0m\u001b[msetting timed terminal event at 9780.0\u001b[0m\n"
     ]
    },
    {
     "name": "stderr",
     "output_type": "stream",
     "text": [
      "\u001b[90;3m2024-07-15 13:46:55,293 \u001b[0m\u001b[msim.simulator                  \u001b[0m\u001b[mINFO       \u001b[0m\u001b[33m<9600.00> \u001b[0m\u001b[mRunning simulation at most to 11400.00 seconds\u001b[0m\n"
     ]
    },
    {
     "name": "stderr",
     "output_type": "stream",
     "text": [
      "\u001b[90;3m2024-07-15 13:46:55,303 \u001b[0m\u001b[36msats.satellite.Scanner-1       \u001b[0m\u001b[mINFO       \u001b[0m\u001b[33m<9780.00> \u001b[0m\u001b[36mScanner-1: \u001b[0m\u001b[mtimed termination at 9780.0 for action_nadir_scan\u001b[0m\n"
     ]
    },
    {
     "name": "stderr",
     "output_type": "stream",
     "text": [
      "\u001b[90;3m2024-07-15 13:46:55,303 \u001b[0m\u001b[mdata.base                      \u001b[0m\u001b[mINFO       \u001b[0m\u001b[33m<9780.00> \u001b[0m\u001b[mData reward: {'Scanner-1_4715111056': 0.015789473684210527}\u001b[0m\n"
     ]
    },
    {
     "name": "stderr",
     "output_type": "stream",
     "text": [
      "\u001b[90;3m2024-07-15 13:46:55,304 \u001b[0m\u001b[mgym                            \u001b[0m\u001b[mINFO       \u001b[0m\u001b[33m<9780.00> \u001b[0m\u001b[mSatellites requiring retasking: ['Scanner-1_4715111056']\u001b[0m\n"
     ]
    },
    {
     "name": "stderr",
     "output_type": "stream",
     "text": [
      "\u001b[90;3m2024-07-15 13:46:55,304 \u001b[0m\u001b[mgym                            \u001b[0m\u001b[mINFO       \u001b[0m\u001b[33m<9780.00> \u001b[0m\u001b[mStep reward: 0.015789473684210527\u001b[0m\n"
     ]
    },
    {
     "name": "stderr",
     "output_type": "stream",
     "text": [
      "\u001b[90;3m2024-07-15 13:46:55,304 \u001b[0m\u001b[mgym                            \u001b[0m\u001b[mINFO       \u001b[0m\u001b[33m<9780.00> \u001b[0m\u001b[93;1m=== STARTING STEP ===\u001b[0m\n"
     ]
    },
    {
     "name": "stderr",
     "output_type": "stream",
     "text": [
      "\u001b[90;3m2024-07-15 13:46:55,304 \u001b[0m\u001b[36msats.satellite.Scanner-1       \u001b[0m\u001b[mINFO       \u001b[0m\u001b[33m<9780.00> \u001b[0m\u001b[36mScanner-1: \u001b[0m\u001b[maction_charge tasked for 180.0 seconds\u001b[0m\n"
     ]
    },
    {
     "name": "stderr",
     "output_type": "stream",
     "text": [
      "\u001b[90;3m2024-07-15 13:46:55,304 \u001b[0m\u001b[36msats.satellite.Scanner-1       \u001b[0m\u001b[mINFO       \u001b[0m\u001b[33m<9780.00> \u001b[0m\u001b[36mScanner-1: \u001b[0m\u001b[msetting timed terminal event at 9960.0\u001b[0m\n"
     ]
    },
    {
     "name": "stderr",
     "output_type": "stream",
     "text": [
      "\u001b[90;3m2024-07-15 13:46:55,305 \u001b[0m\u001b[msim.simulator                  \u001b[0m\u001b[mINFO       \u001b[0m\u001b[33m<9780.00> \u001b[0m\u001b[mRunning simulation at most to 11400.00 seconds\u001b[0m\n"
     ]
    },
    {
     "name": "stderr",
     "output_type": "stream",
     "text": [
      "\u001b[90;3m2024-07-15 13:46:55,314 \u001b[0m\u001b[36msats.satellite.Scanner-1       \u001b[0m\u001b[mINFO       \u001b[0m\u001b[33m<9960.00> \u001b[0m\u001b[36mScanner-1: \u001b[0m\u001b[mtimed termination at 9960.0 for action_charge\u001b[0m\n"
     ]
    },
    {
     "name": "stderr",
     "output_type": "stream",
     "text": [
      "\u001b[90;3m2024-07-15 13:46:55,315 \u001b[0m\u001b[mdata.base                      \u001b[0m\u001b[mINFO       \u001b[0m\u001b[33m<9960.00> \u001b[0m\u001b[mData reward: {'Scanner-1_4715111056': 0.0}\u001b[0m\n"
     ]
    },
    {
     "name": "stderr",
     "output_type": "stream",
     "text": [
      "\u001b[90;3m2024-07-15 13:46:55,315 \u001b[0m\u001b[mgym                            \u001b[0m\u001b[mINFO       \u001b[0m\u001b[33m<9960.00> \u001b[0m\u001b[mSatellites requiring retasking: ['Scanner-1_4715111056']\u001b[0m\n"
     ]
    },
    {
     "name": "stderr",
     "output_type": "stream",
     "text": [
      "\u001b[90;3m2024-07-15 13:46:55,316 \u001b[0m\u001b[mgym                            \u001b[0m\u001b[mINFO       \u001b[0m\u001b[33m<9960.00> \u001b[0m\u001b[mStep reward: 0.0\u001b[0m\n"
     ]
    },
    {
     "name": "stderr",
     "output_type": "stream",
     "text": [
      "\u001b[90;3m2024-07-15 13:46:55,316 \u001b[0m\u001b[mgym                            \u001b[0m\u001b[mINFO       \u001b[0m\u001b[33m<9960.00> \u001b[0m\u001b[93;1m=== STARTING STEP ===\u001b[0m\n"
     ]
    },
    {
     "name": "stderr",
     "output_type": "stream",
     "text": [
      "\u001b[90;3m2024-07-15 13:46:55,316 \u001b[0m\u001b[36msats.satellite.Scanner-1       \u001b[0m\u001b[mINFO       \u001b[0m\u001b[33m<9960.00> \u001b[0m\u001b[36mScanner-1: \u001b[0m\u001b[maction_nadir_scan tasked for 180.0 seconds\u001b[0m\n"
     ]
    },
    {
     "name": "stderr",
     "output_type": "stream",
     "text": [
      "\u001b[90;3m2024-07-15 13:46:55,316 \u001b[0m\u001b[36msats.satellite.Scanner-1       \u001b[0m\u001b[mINFO       \u001b[0m\u001b[33m<9960.00> \u001b[0m\u001b[36mScanner-1: \u001b[0m\u001b[msetting timed terminal event at 10140.0\u001b[0m\n"
     ]
    },
    {
     "name": "stderr",
     "output_type": "stream",
     "text": [
      "\u001b[90;3m2024-07-15 13:46:55,317 \u001b[0m\u001b[msim.simulator                  \u001b[0m\u001b[mINFO       \u001b[0m\u001b[33m<9960.00> \u001b[0m\u001b[mRunning simulation at most to 11400.00 seconds\u001b[0m\n"
     ]
    },
    {
     "name": "stderr",
     "output_type": "stream",
     "text": [
      "\u001b[90;3m2024-07-15 13:46:55,326 \u001b[0m\u001b[36msats.satellite.Scanner-1       \u001b[0m\u001b[mINFO       \u001b[0m\u001b[33m<10140.00> \u001b[0m\u001b[36mScanner-1: \u001b[0m\u001b[mtimed termination at 10140.0 for action_nadir_scan\u001b[0m\n"
     ]
    },
    {
     "name": "stderr",
     "output_type": "stream",
     "text": [
      "\u001b[90;3m2024-07-15 13:46:55,327 \u001b[0m\u001b[mdata.base                      \u001b[0m\u001b[mINFO       \u001b[0m\u001b[33m<10140.00> \u001b[0m\u001b[mData reward: {'Scanner-1_4715111056': 0.011929824561403507}\u001b[0m\n"
     ]
    },
    {
     "name": "stderr",
     "output_type": "stream",
     "text": [
      "\u001b[90;3m2024-07-15 13:46:55,327 \u001b[0m\u001b[mgym                            \u001b[0m\u001b[mINFO       \u001b[0m\u001b[33m<10140.00> \u001b[0m\u001b[mSatellites requiring retasking: ['Scanner-1_4715111056']\u001b[0m\n"
     ]
    },
    {
     "name": "stderr",
     "output_type": "stream",
     "text": [
      "\u001b[90;3m2024-07-15 13:46:55,328 \u001b[0m\u001b[mgym                            \u001b[0m\u001b[mINFO       \u001b[0m\u001b[33m<10140.00> \u001b[0m\u001b[mStep reward: 0.011929824561403507\u001b[0m\n"
     ]
    },
    {
     "name": "stderr",
     "output_type": "stream",
     "text": [
      "\u001b[90;3m2024-07-15 13:46:55,328 \u001b[0m\u001b[mgym                            \u001b[0m\u001b[mINFO       \u001b[0m\u001b[33m<10140.00> \u001b[0m\u001b[93;1m=== STARTING STEP ===\u001b[0m\n"
     ]
    },
    {
     "name": "stderr",
     "output_type": "stream",
     "text": [
      "\u001b[90;3m2024-07-15 13:46:55,328 \u001b[0m\u001b[36msats.satellite.Scanner-1       \u001b[0m\u001b[mINFO       \u001b[0m\u001b[33m<10140.00> \u001b[0m\u001b[36mScanner-1: \u001b[0m\u001b[maction_nadir_scan tasked for 180.0 seconds\u001b[0m\n"
     ]
    },
    {
     "name": "stderr",
     "output_type": "stream",
     "text": [
      "\u001b[90;3m2024-07-15 13:46:55,328 \u001b[0m\u001b[36msats.satellite.Scanner-1       \u001b[0m\u001b[mINFO       \u001b[0m\u001b[33m<10140.00> \u001b[0m\u001b[36mScanner-1: \u001b[0m\u001b[msetting timed terminal event at 10320.0\u001b[0m\n"
     ]
    },
    {
     "name": "stderr",
     "output_type": "stream",
     "text": [
      "\u001b[90;3m2024-07-15 13:46:55,328 \u001b[0m\u001b[msim.simulator                  \u001b[0m\u001b[mINFO       \u001b[0m\u001b[33m<10140.00> \u001b[0m\u001b[mRunning simulation at most to 11400.00 seconds\u001b[0m\n"
     ]
    },
    {
     "name": "stderr",
     "output_type": "stream",
     "text": [
      "\u001b[90;3m2024-07-15 13:46:55,338 \u001b[0m\u001b[36msats.satellite.Scanner-1       \u001b[0m\u001b[mINFO       \u001b[0m\u001b[33m<10320.00> \u001b[0m\u001b[36mScanner-1: \u001b[0m\u001b[mtimed termination at 10320.0 for action_nadir_scan\u001b[0m\n"
     ]
    },
    {
     "name": "stderr",
     "output_type": "stream",
     "text": [
      "\u001b[90;3m2024-07-15 13:46:55,338 \u001b[0m\u001b[mdata.base                      \u001b[0m\u001b[mINFO       \u001b[0m\u001b[33m<10320.00> \u001b[0m\u001b[mData reward: {'Scanner-1_4715111056': 0.015789473684210527}\u001b[0m\n"
     ]
    },
    {
     "name": "stderr",
     "output_type": "stream",
     "text": [
      "\u001b[90;3m2024-07-15 13:46:55,339 \u001b[0m\u001b[mgym                            \u001b[0m\u001b[mINFO       \u001b[0m\u001b[33m<10320.00> \u001b[0m\u001b[mSatellites requiring retasking: ['Scanner-1_4715111056']\u001b[0m\n"
     ]
    },
    {
     "name": "stderr",
     "output_type": "stream",
     "text": [
      "\u001b[90;3m2024-07-15 13:46:55,339 \u001b[0m\u001b[mgym                            \u001b[0m\u001b[mINFO       \u001b[0m\u001b[33m<10320.00> \u001b[0m\u001b[mStep reward: 0.015789473684210527\u001b[0m\n"
     ]
    },
    {
     "name": "stderr",
     "output_type": "stream",
     "text": [
      "\u001b[90;3m2024-07-15 13:46:55,340 \u001b[0m\u001b[mgym                            \u001b[0m\u001b[mINFO       \u001b[0m\u001b[33m<10320.00> \u001b[0m\u001b[93;1m=== STARTING STEP ===\u001b[0m\n"
     ]
    },
    {
     "name": "stderr",
     "output_type": "stream",
     "text": [
      "\u001b[90;3m2024-07-15 13:46:55,340 \u001b[0m\u001b[36msats.satellite.Scanner-1       \u001b[0m\u001b[mINFO       \u001b[0m\u001b[33m<10320.00> \u001b[0m\u001b[36mScanner-1: \u001b[0m\u001b[maction_charge tasked for 180.0 seconds\u001b[0m\n"
     ]
    },
    {
     "name": "stderr",
     "output_type": "stream",
     "text": [
      "\u001b[90;3m2024-07-15 13:46:55,340 \u001b[0m\u001b[36msats.satellite.Scanner-1       \u001b[0m\u001b[mINFO       \u001b[0m\u001b[33m<10320.00> \u001b[0m\u001b[36mScanner-1: \u001b[0m\u001b[msetting timed terminal event at 10500.0\u001b[0m\n"
     ]
    },
    {
     "name": "stderr",
     "output_type": "stream",
     "text": [
      "\u001b[90;3m2024-07-15 13:46:55,340 \u001b[0m\u001b[msim.simulator                  \u001b[0m\u001b[mINFO       \u001b[0m\u001b[33m<10320.00> \u001b[0m\u001b[mRunning simulation at most to 11400.00 seconds\u001b[0m\n"
     ]
    },
    {
     "name": "stderr",
     "output_type": "stream",
     "text": [
      "\u001b[90;3m2024-07-15 13:46:55,350 \u001b[0m\u001b[36msats.satellite.Scanner-1       \u001b[0m\u001b[mINFO       \u001b[0m\u001b[33m<10500.00> \u001b[0m\u001b[36mScanner-1: \u001b[0m\u001b[mtimed termination at 10500.0 for action_charge\u001b[0m\n"
     ]
    },
    {
     "name": "stderr",
     "output_type": "stream",
     "text": [
      "\u001b[90;3m2024-07-15 13:46:55,350 \u001b[0m\u001b[mdata.base                      \u001b[0m\u001b[mINFO       \u001b[0m\u001b[33m<10500.00> \u001b[0m\u001b[mData reward: {'Scanner-1_4715111056': 0.0}\u001b[0m\n"
     ]
    },
    {
     "name": "stderr",
     "output_type": "stream",
     "text": [
      "\u001b[90;3m2024-07-15 13:46:55,397 \u001b[0m\u001b[mgym                            \u001b[0m\u001b[mINFO       \u001b[0m\u001b[33m<10500.00> \u001b[0m\u001b[mSatellites requiring retasking: ['Scanner-1_4715111056']\u001b[0m\n"
     ]
    },
    {
     "name": "stderr",
     "output_type": "stream",
     "text": [
      "\u001b[90;3m2024-07-15 13:46:55,397 \u001b[0m\u001b[mgym                            \u001b[0m\u001b[mINFO       \u001b[0m\u001b[33m<10500.00> \u001b[0m\u001b[mStep reward: 0.0\u001b[0m\n"
     ]
    },
    {
     "name": "stderr",
     "output_type": "stream",
     "text": [
      "\u001b[90;3m2024-07-15 13:46:55,397 \u001b[0m\u001b[mgym                            \u001b[0m\u001b[mINFO       \u001b[0m\u001b[33m<10500.00> \u001b[0m\u001b[93;1m=== STARTING STEP ===\u001b[0m\n"
     ]
    },
    {
     "name": "stderr",
     "output_type": "stream",
     "text": [
      "\u001b[90;3m2024-07-15 13:46:55,397 \u001b[0m\u001b[36msats.satellite.Scanner-1       \u001b[0m\u001b[mINFO       \u001b[0m\u001b[33m<10500.00> \u001b[0m\u001b[36mScanner-1: \u001b[0m\u001b[maction_nadir_scan tasked for 180.0 seconds\u001b[0m\n"
     ]
    },
    {
     "name": "stderr",
     "output_type": "stream",
     "text": [
      "\u001b[90;3m2024-07-15 13:46:55,398 \u001b[0m\u001b[36msats.satellite.Scanner-1       \u001b[0m\u001b[mINFO       \u001b[0m\u001b[33m<10500.00> \u001b[0m\u001b[36mScanner-1: \u001b[0m\u001b[msetting timed terminal event at 10680.0\u001b[0m\n"
     ]
    },
    {
     "name": "stderr",
     "output_type": "stream",
     "text": [
      "\u001b[90;3m2024-07-15 13:46:55,398 \u001b[0m\u001b[msim.simulator                  \u001b[0m\u001b[mINFO       \u001b[0m\u001b[33m<10500.00> \u001b[0m\u001b[mRunning simulation at most to 11400.00 seconds\u001b[0m\n"
     ]
    },
    {
     "name": "stderr",
     "output_type": "stream",
     "text": [
      "\u001b[90;3m2024-07-15 13:46:55,408 \u001b[0m\u001b[36msats.satellite.Scanner-1       \u001b[0m\u001b[mINFO       \u001b[0m\u001b[33m<10680.00> \u001b[0m\u001b[36mScanner-1: \u001b[0m\u001b[mtimed termination at 10680.0 for action_nadir_scan\u001b[0m\n"
     ]
    },
    {
     "name": "stderr",
     "output_type": "stream",
     "text": [
      "\u001b[90;3m2024-07-15 13:46:55,408 \u001b[0m\u001b[mdata.base                      \u001b[0m\u001b[mINFO       \u001b[0m\u001b[33m<10680.00> \u001b[0m\u001b[mData reward: {'Scanner-1_4715111056': 0.012368421052631579}\u001b[0m\n"
     ]
    },
    {
     "name": "stderr",
     "output_type": "stream",
     "text": [
      "\u001b[90;3m2024-07-15 13:46:55,409 \u001b[0m\u001b[mgym                            \u001b[0m\u001b[mINFO       \u001b[0m\u001b[33m<10680.00> \u001b[0m\u001b[mSatellites requiring retasking: ['Scanner-1_4715111056']\u001b[0m\n"
     ]
    },
    {
     "name": "stderr",
     "output_type": "stream",
     "text": [
      "\u001b[90;3m2024-07-15 13:46:55,409 \u001b[0m\u001b[mgym                            \u001b[0m\u001b[mINFO       \u001b[0m\u001b[33m<10680.00> \u001b[0m\u001b[mStep reward: 0.012368421052631579\u001b[0m\n"
     ]
    },
    {
     "name": "stderr",
     "output_type": "stream",
     "text": [
      "\u001b[90;3m2024-07-15 13:46:55,409 \u001b[0m\u001b[mgym                            \u001b[0m\u001b[mINFO       \u001b[0m\u001b[33m<10680.00> \u001b[0m\u001b[93;1m=== STARTING STEP ===\u001b[0m\n"
     ]
    },
    {
     "name": "stderr",
     "output_type": "stream",
     "text": [
      "\u001b[90;3m2024-07-15 13:46:55,409 \u001b[0m\u001b[36msats.satellite.Scanner-1       \u001b[0m\u001b[mINFO       \u001b[0m\u001b[33m<10680.00> \u001b[0m\u001b[36mScanner-1: \u001b[0m\u001b[maction_downlink tasked for 60.0 seconds\u001b[0m\n"
     ]
    },
    {
     "name": "stderr",
     "output_type": "stream",
     "text": [
      "\u001b[90;3m2024-07-15 13:46:55,410 \u001b[0m\u001b[36msats.satellite.Scanner-1       \u001b[0m\u001b[mINFO       \u001b[0m\u001b[33m<10680.00> \u001b[0m\u001b[36mScanner-1: \u001b[0m\u001b[msetting timed terminal event at 10740.0\u001b[0m\n"
     ]
    },
    {
     "name": "stderr",
     "output_type": "stream",
     "text": [
      "\u001b[90;3m2024-07-15 13:46:55,410 \u001b[0m\u001b[msim.simulator                  \u001b[0m\u001b[mINFO       \u001b[0m\u001b[33m<10680.00> \u001b[0m\u001b[mRunning simulation at most to 11400.00 seconds\u001b[0m\n"
     ]
    },
    {
     "name": "stderr",
     "output_type": "stream",
     "text": [
      "\u001b[90;3m2024-07-15 13:46:55,413 \u001b[0m\u001b[36msats.satellite.Scanner-1       \u001b[0m\u001b[mINFO       \u001b[0m\u001b[33m<10740.00> \u001b[0m\u001b[36mScanner-1: \u001b[0m\u001b[mtimed termination at 10740.0 for action_downlink\u001b[0m\n"
     ]
    },
    {
     "name": "stderr",
     "output_type": "stream",
     "text": [
      "\u001b[90;3m2024-07-15 13:46:55,414 \u001b[0m\u001b[mdata.base                      \u001b[0m\u001b[mINFO       \u001b[0m\u001b[33m<10740.00> \u001b[0m\u001b[mData reward: {'Scanner-1_4715111056': 0.0}\u001b[0m\n"
     ]
    },
    {
     "name": "stderr",
     "output_type": "stream",
     "text": [
      "\u001b[90;3m2024-07-15 13:46:55,414 \u001b[0m\u001b[mgym                            \u001b[0m\u001b[mINFO       \u001b[0m\u001b[33m<10740.00> \u001b[0m\u001b[mSatellites requiring retasking: ['Scanner-1_4715111056']\u001b[0m\n"
     ]
    },
    {
     "name": "stderr",
     "output_type": "stream",
     "text": [
      "\u001b[90;3m2024-07-15 13:46:55,414 \u001b[0m\u001b[mgym                            \u001b[0m\u001b[mINFO       \u001b[0m\u001b[33m<10740.00> \u001b[0m\u001b[mStep reward: 0.0\u001b[0m\n"
     ]
    },
    {
     "name": "stderr",
     "output_type": "stream",
     "text": [
      "\u001b[90;3m2024-07-15 13:46:55,415 \u001b[0m\u001b[mgym                            \u001b[0m\u001b[mINFO       \u001b[0m\u001b[33m<10740.00> \u001b[0m\u001b[93;1m=== STARTING STEP ===\u001b[0m\n"
     ]
    },
    {
     "name": "stderr",
     "output_type": "stream",
     "text": [
      "\u001b[90;3m2024-07-15 13:46:55,415 \u001b[0m\u001b[36msats.satellite.Scanner-1       \u001b[0m\u001b[mINFO       \u001b[0m\u001b[33m<10740.00> \u001b[0m\u001b[36mScanner-1: \u001b[0m\u001b[maction_downlink tasked for 60.0 seconds\u001b[0m\n"
     ]
    },
    {
     "name": "stderr",
     "output_type": "stream",
     "text": [
      "\u001b[90;3m2024-07-15 13:46:55,415 \u001b[0m\u001b[36msats.satellite.Scanner-1       \u001b[0m\u001b[mINFO       \u001b[0m\u001b[33m<10740.00> \u001b[0m\u001b[36mScanner-1: \u001b[0m\u001b[msetting timed terminal event at 10800.0\u001b[0m\n"
     ]
    },
    {
     "name": "stderr",
     "output_type": "stream",
     "text": [
      "\u001b[90;3m2024-07-15 13:46:55,415 \u001b[0m\u001b[msim.simulator                  \u001b[0m\u001b[mINFO       \u001b[0m\u001b[33m<10740.00> \u001b[0m\u001b[mRunning simulation at most to 11400.00 seconds\u001b[0m\n"
     ]
    },
    {
     "name": "stderr",
     "output_type": "stream",
     "text": [
      "\u001b[90;3m2024-07-15 13:46:55,419 \u001b[0m\u001b[36msats.satellite.Scanner-1       \u001b[0m\u001b[mINFO       \u001b[0m\u001b[33m<10800.00> \u001b[0m\u001b[36mScanner-1: \u001b[0m\u001b[mtimed termination at 10800.0 for action_downlink\u001b[0m\n"
     ]
    },
    {
     "name": "stderr",
     "output_type": "stream",
     "text": [
      "\u001b[90;3m2024-07-15 13:46:55,419 \u001b[0m\u001b[mdata.base                      \u001b[0m\u001b[mINFO       \u001b[0m\u001b[33m<10800.00> \u001b[0m\u001b[mData reward: {'Scanner-1_4715111056': 0.0}\u001b[0m\n"
     ]
    },
    {
     "name": "stderr",
     "output_type": "stream",
     "text": [
      "\u001b[90;3m2024-07-15 13:46:55,420 \u001b[0m\u001b[36msats.satellite.Scanner-1       \u001b[0m\u001b[mINFO       \u001b[0m\u001b[33m<10800.00> \u001b[0m\u001b[36mScanner-1: \u001b[0m\u001b[mFinding opportunity windows from 11400.00 to 12000.00 seconds\u001b[0m\n"
     ]
    },
    {
     "name": "stderr",
     "output_type": "stream",
     "text": [
      "\u001b[90;3m2024-07-15 13:46:55,424 \u001b[0m\u001b[36msats.satellite.Scanner-1       \u001b[0m\u001b[mINFO       \u001b[0m\u001b[33m<10800.00> \u001b[0m\u001b[36mScanner-1: \u001b[0m\u001b[mFinding opportunity windows from 12000.00 to 12600.00 seconds\u001b[0m\n"
     ]
    },
    {
     "name": "stderr",
     "output_type": "stream",
     "text": [
      "\u001b[90;3m2024-07-15 13:46:55,428 \u001b[0m\u001b[36msats.satellite.Scanner-1       \u001b[0m\u001b[mINFO       \u001b[0m\u001b[33m<10800.00> \u001b[0m\u001b[36mScanner-1: \u001b[0m\u001b[mFinding opportunity windows from 12600.00 to 13200.00 seconds\u001b[0m\n"
     ]
    },
    {
     "name": "stderr",
     "output_type": "stream",
     "text": [
      "\u001b[90;3m2024-07-15 13:46:55,433 \u001b[0m\u001b[mgym                            \u001b[0m\u001b[mINFO       \u001b[0m\u001b[33m<10800.00> \u001b[0m\u001b[mSatellites requiring retasking: ['Scanner-1_4715111056']\u001b[0m\n"
     ]
    },
    {
     "name": "stderr",
     "output_type": "stream",
     "text": [
      "\u001b[90;3m2024-07-15 13:46:55,433 \u001b[0m\u001b[mgym                            \u001b[0m\u001b[mINFO       \u001b[0m\u001b[33m<10800.00> \u001b[0m\u001b[mStep reward: 0.0\u001b[0m\n"
     ]
    },
    {
     "name": "stderr",
     "output_type": "stream",
     "text": [
      "\u001b[90;3m2024-07-15 13:46:55,434 \u001b[0m\u001b[mgym                            \u001b[0m\u001b[mINFO       \u001b[0m\u001b[33m<10800.00> \u001b[0m\u001b[93;1m=== STARTING STEP ===\u001b[0m\n"
     ]
    },
    {
     "name": "stderr",
     "output_type": "stream",
     "text": [
      "\u001b[90;3m2024-07-15 13:46:55,434 \u001b[0m\u001b[36msats.satellite.Scanner-1       \u001b[0m\u001b[mINFO       \u001b[0m\u001b[33m<10800.00> \u001b[0m\u001b[36mScanner-1: \u001b[0m\u001b[maction_nadir_scan tasked for 180.0 seconds\u001b[0m\n"
     ]
    },
    {
     "name": "stderr",
     "output_type": "stream",
     "text": [
      "\u001b[90;3m2024-07-15 13:46:55,434 \u001b[0m\u001b[36msats.satellite.Scanner-1       \u001b[0m\u001b[mINFO       \u001b[0m\u001b[33m<10800.00> \u001b[0m\u001b[36mScanner-1: \u001b[0m\u001b[msetting timed terminal event at 10980.0\u001b[0m\n"
     ]
    },
    {
     "name": "stderr",
     "output_type": "stream",
     "text": [
      "\u001b[90;3m2024-07-15 13:46:55,434 \u001b[0m\u001b[msim.simulator                  \u001b[0m\u001b[mINFO       \u001b[0m\u001b[33m<10800.00> \u001b[0m\u001b[mRunning simulation at most to 11400.00 seconds\u001b[0m\n"
     ]
    },
    {
     "name": "stderr",
     "output_type": "stream",
     "text": [
      "\u001b[90;3m2024-07-15 13:46:55,444 \u001b[0m\u001b[36msats.satellite.Scanner-1       \u001b[0m\u001b[mINFO       \u001b[0m\u001b[33m<10980.00> \u001b[0m\u001b[36mScanner-1: \u001b[0m\u001b[mtimed termination at 10980.0 for action_nadir_scan\u001b[0m\n"
     ]
    },
    {
     "name": "stderr",
     "output_type": "stream",
     "text": [
      "\u001b[90;3m2024-07-15 13:46:55,444 \u001b[0m\u001b[mdata.base                      \u001b[0m\u001b[mINFO       \u001b[0m\u001b[33m<10980.00> \u001b[0m\u001b[mData reward: {'Scanner-1_4715111056': 0.012280701754385963}\u001b[0m\n"
     ]
    },
    {
     "name": "stderr",
     "output_type": "stream",
     "text": [
      "\u001b[90;3m2024-07-15 13:46:55,445 \u001b[0m\u001b[mgym                            \u001b[0m\u001b[mINFO       \u001b[0m\u001b[33m<10980.00> \u001b[0m\u001b[mSatellites requiring retasking: ['Scanner-1_4715111056']\u001b[0m\n"
     ]
    },
    {
     "name": "stderr",
     "output_type": "stream",
     "text": [
      "\u001b[90;3m2024-07-15 13:46:55,445 \u001b[0m\u001b[mgym                            \u001b[0m\u001b[mINFO       \u001b[0m\u001b[33m<10980.00> \u001b[0m\u001b[mStep reward: 0.012280701754385963\u001b[0m\n"
     ]
    },
    {
     "name": "stderr",
     "output_type": "stream",
     "text": [
      "\u001b[90;3m2024-07-15 13:46:55,446 \u001b[0m\u001b[mgym                            \u001b[0m\u001b[mINFO       \u001b[0m\u001b[33m<10980.00> \u001b[0m\u001b[93;1m=== STARTING STEP ===\u001b[0m\n"
     ]
    },
    {
     "name": "stderr",
     "output_type": "stream",
     "text": [
      "\u001b[90;3m2024-07-15 13:46:55,446 \u001b[0m\u001b[36msats.satellite.Scanner-1       \u001b[0m\u001b[mINFO       \u001b[0m\u001b[33m<10980.00> \u001b[0m\u001b[36mScanner-1: \u001b[0m\u001b[maction_nadir_scan tasked for 180.0 seconds\u001b[0m\n"
     ]
    },
    {
     "name": "stderr",
     "output_type": "stream",
     "text": [
      "\u001b[90;3m2024-07-15 13:46:55,446 \u001b[0m\u001b[36msats.satellite.Scanner-1       \u001b[0m\u001b[mINFO       \u001b[0m\u001b[33m<10980.00> \u001b[0m\u001b[36mScanner-1: \u001b[0m\u001b[msetting timed terminal event at 11160.0\u001b[0m\n"
     ]
    },
    {
     "name": "stderr",
     "output_type": "stream",
     "text": [
      "\u001b[90;3m2024-07-15 13:46:55,446 \u001b[0m\u001b[msim.simulator                  \u001b[0m\u001b[mINFO       \u001b[0m\u001b[33m<10980.00> \u001b[0m\u001b[mRunning simulation at most to 11400.00 seconds\u001b[0m\n"
     ]
    },
    {
     "name": "stderr",
     "output_type": "stream",
     "text": [
      "\u001b[90;3m2024-07-15 13:46:55,456 \u001b[0m\u001b[36msats.satellite.Scanner-1       \u001b[0m\u001b[mINFO       \u001b[0m\u001b[33m<11160.00> \u001b[0m\u001b[36mScanner-1: \u001b[0m\u001b[mtimed termination at 11160.0 for action_nadir_scan\u001b[0m\n"
     ]
    },
    {
     "name": "stderr",
     "output_type": "stream",
     "text": [
      "\u001b[90;3m2024-07-15 13:46:55,457 \u001b[0m\u001b[mdata.base                      \u001b[0m\u001b[mINFO       \u001b[0m\u001b[33m<11160.00> \u001b[0m\u001b[mData reward: {'Scanner-1_4715111056': 0.015789473684210527}\u001b[0m\n"
     ]
    },
    {
     "name": "stderr",
     "output_type": "stream",
     "text": [
      "\u001b[90;3m2024-07-15 13:46:55,457 \u001b[0m\u001b[mgym                            \u001b[0m\u001b[mINFO       \u001b[0m\u001b[33m<11160.00> \u001b[0m\u001b[mSatellites requiring retasking: ['Scanner-1_4715111056']\u001b[0m\n"
     ]
    },
    {
     "name": "stderr",
     "output_type": "stream",
     "text": [
      "\u001b[90;3m2024-07-15 13:46:55,458 \u001b[0m\u001b[mgym                            \u001b[0m\u001b[mINFO       \u001b[0m\u001b[33m<11160.00> \u001b[0m\u001b[mStep reward: 0.015789473684210527\u001b[0m\n"
     ]
    },
    {
     "name": "stderr",
     "output_type": "stream",
     "text": [
      "\u001b[90;3m2024-07-15 13:46:55,458 \u001b[0m\u001b[mgym                            \u001b[0m\u001b[mINFO       \u001b[0m\u001b[33m<11160.00> \u001b[0m\u001b[93;1m=== STARTING STEP ===\u001b[0m\n"
     ]
    },
    {
     "name": "stderr",
     "output_type": "stream",
     "text": [
      "\u001b[90;3m2024-07-15 13:46:55,458 \u001b[0m\u001b[36msats.satellite.Scanner-1       \u001b[0m\u001b[mINFO       \u001b[0m\u001b[33m<11160.00> \u001b[0m\u001b[36mScanner-1: \u001b[0m\u001b[maction_desat tasked for 60.0 seconds\u001b[0m\n"
     ]
    },
    {
     "name": "stderr",
     "output_type": "stream",
     "text": [
      "\u001b[90;3m2024-07-15 13:46:55,458 \u001b[0m\u001b[36msats.satellite.Scanner-1       \u001b[0m\u001b[mINFO       \u001b[0m\u001b[33m<11160.00> \u001b[0m\u001b[36mScanner-1: \u001b[0m\u001b[msetting timed terminal event at 11220.0\u001b[0m\n"
     ]
    },
    {
     "name": "stderr",
     "output_type": "stream",
     "text": [
      "\u001b[90;3m2024-07-15 13:46:55,459 \u001b[0m\u001b[msim.simulator                  \u001b[0m\u001b[mINFO       \u001b[0m\u001b[33m<11160.00> \u001b[0m\u001b[mRunning simulation at most to 11400.00 seconds\u001b[0m\n"
     ]
    },
    {
     "name": "stderr",
     "output_type": "stream",
     "text": [
      "\u001b[90;3m2024-07-15 13:46:55,462 \u001b[0m\u001b[36msats.satellite.Scanner-1       \u001b[0m\u001b[mINFO       \u001b[0m\u001b[33m<11220.00> \u001b[0m\u001b[36mScanner-1: \u001b[0m\u001b[mtimed termination at 11220.0 for action_desat\u001b[0m\n"
     ]
    },
    {
     "name": "stderr",
     "output_type": "stream",
     "text": [
      "\u001b[90;3m2024-07-15 13:46:55,462 \u001b[0m\u001b[mdata.base                      \u001b[0m\u001b[mINFO       \u001b[0m\u001b[33m<11220.00> \u001b[0m\u001b[mData reward: {'Scanner-1_4715111056': 0.0}\u001b[0m\n"
     ]
    },
    {
     "name": "stderr",
     "output_type": "stream",
     "text": [
      "\u001b[90;3m2024-07-15 13:46:55,463 \u001b[0m\u001b[mgym                            \u001b[0m\u001b[mINFO       \u001b[0m\u001b[33m<11220.00> \u001b[0m\u001b[mSatellites requiring retasking: ['Scanner-1_4715111056']\u001b[0m\n"
     ]
    },
    {
     "name": "stderr",
     "output_type": "stream",
     "text": [
      "\u001b[90;3m2024-07-15 13:46:55,463 \u001b[0m\u001b[mgym                            \u001b[0m\u001b[mINFO       \u001b[0m\u001b[33m<11220.00> \u001b[0m\u001b[mStep reward: 0.0\u001b[0m\n"
     ]
    },
    {
     "name": "stderr",
     "output_type": "stream",
     "text": [
      "\u001b[90;3m2024-07-15 13:46:55,464 \u001b[0m\u001b[mgym                            \u001b[0m\u001b[mINFO       \u001b[0m\u001b[33m<11220.00> \u001b[0m\u001b[93;1m=== STARTING STEP ===\u001b[0m\n"
     ]
    },
    {
     "name": "stderr",
     "output_type": "stream",
     "text": [
      "\u001b[90;3m2024-07-15 13:46:55,464 \u001b[0m\u001b[36msats.satellite.Scanner-1       \u001b[0m\u001b[mINFO       \u001b[0m\u001b[33m<11220.00> \u001b[0m\u001b[36mScanner-1: \u001b[0m\u001b[maction_downlink tasked for 60.0 seconds\u001b[0m\n"
     ]
    },
    {
     "name": "stderr",
     "output_type": "stream",
     "text": [
      "\u001b[90;3m2024-07-15 13:46:55,464 \u001b[0m\u001b[36msats.satellite.Scanner-1       \u001b[0m\u001b[mINFO       \u001b[0m\u001b[33m<11220.00> \u001b[0m\u001b[36mScanner-1: \u001b[0m\u001b[msetting timed terminal event at 11280.0\u001b[0m\n"
     ]
    },
    {
     "name": "stderr",
     "output_type": "stream",
     "text": [
      "\u001b[90;3m2024-07-15 13:46:55,464 \u001b[0m\u001b[msim.simulator                  \u001b[0m\u001b[mINFO       \u001b[0m\u001b[33m<11220.00> \u001b[0m\u001b[mRunning simulation at most to 11400.00 seconds\u001b[0m\n"
     ]
    },
    {
     "name": "stderr",
     "output_type": "stream",
     "text": [
      "\u001b[90;3m2024-07-15 13:46:55,468 \u001b[0m\u001b[36msats.satellite.Scanner-1       \u001b[0m\u001b[mINFO       \u001b[0m\u001b[33m<11280.00> \u001b[0m\u001b[36mScanner-1: \u001b[0m\u001b[mtimed termination at 11280.0 for action_downlink\u001b[0m\n"
     ]
    },
    {
     "name": "stderr",
     "output_type": "stream",
     "text": [
      "\u001b[90;3m2024-07-15 13:46:55,468 \u001b[0m\u001b[mdata.base                      \u001b[0m\u001b[mINFO       \u001b[0m\u001b[33m<11280.00> \u001b[0m\u001b[mData reward: {'Scanner-1_4715111056': 0.0}\u001b[0m\n"
     ]
    },
    {
     "name": "stderr",
     "output_type": "stream",
     "text": [
      "\u001b[90;3m2024-07-15 13:46:55,469 \u001b[0m\u001b[mgym                            \u001b[0m\u001b[mINFO       \u001b[0m\u001b[33m<11280.00> \u001b[0m\u001b[mSatellites requiring retasking: ['Scanner-1_4715111056']\u001b[0m\n"
     ]
    },
    {
     "name": "stderr",
     "output_type": "stream",
     "text": [
      "\u001b[90;3m2024-07-15 13:46:55,469 \u001b[0m\u001b[mgym                            \u001b[0m\u001b[mINFO       \u001b[0m\u001b[33m<11280.00> \u001b[0m\u001b[mStep reward: 0.0\u001b[0m\n"
     ]
    },
    {
     "name": "stderr",
     "output_type": "stream",
     "text": [
      "\u001b[90;3m2024-07-15 13:46:55,469 \u001b[0m\u001b[mgym                            \u001b[0m\u001b[mINFO       \u001b[0m\u001b[33m<11280.00> \u001b[0m\u001b[93;1m=== STARTING STEP ===\u001b[0m\n"
     ]
    },
    {
     "name": "stderr",
     "output_type": "stream",
     "text": [
      "\u001b[90;3m2024-07-15 13:46:55,469 \u001b[0m\u001b[36msats.satellite.Scanner-1       \u001b[0m\u001b[mINFO       \u001b[0m\u001b[33m<11280.00> \u001b[0m\u001b[36mScanner-1: \u001b[0m\u001b[maction_downlink tasked for 60.0 seconds\u001b[0m\n"
     ]
    },
    {
     "name": "stderr",
     "output_type": "stream",
     "text": [
      "\u001b[90;3m2024-07-15 13:46:55,470 \u001b[0m\u001b[36msats.satellite.Scanner-1       \u001b[0m\u001b[mINFO       \u001b[0m\u001b[33m<11280.00> \u001b[0m\u001b[36mScanner-1: \u001b[0m\u001b[msetting timed terminal event at 11340.0\u001b[0m\n"
     ]
    },
    {
     "name": "stderr",
     "output_type": "stream",
     "text": [
      "\u001b[90;3m2024-07-15 13:46:55,470 \u001b[0m\u001b[msim.simulator                  \u001b[0m\u001b[mINFO       \u001b[0m\u001b[33m<11280.00> \u001b[0m\u001b[mRunning simulation at most to 11400.00 seconds\u001b[0m\n"
     ]
    },
    {
     "name": "stderr",
     "output_type": "stream",
     "text": [
      "\u001b[90;3m2024-07-15 13:46:55,473 \u001b[0m\u001b[36msats.satellite.Scanner-1       \u001b[0m\u001b[mINFO       \u001b[0m\u001b[33m<11340.00> \u001b[0m\u001b[36mScanner-1: \u001b[0m\u001b[mtimed termination at 11340.0 for action_downlink\u001b[0m\n"
     ]
    },
    {
     "name": "stderr",
     "output_type": "stream",
     "text": [
      "\u001b[90;3m2024-07-15 13:46:55,473 \u001b[0m\u001b[mdata.base                      \u001b[0m\u001b[mINFO       \u001b[0m\u001b[33m<11340.00> \u001b[0m\u001b[mData reward: {'Scanner-1_4715111056': 0.0}\u001b[0m\n"
     ]
    },
    {
     "name": "stderr",
     "output_type": "stream",
     "text": [
      "\u001b[90;3m2024-07-15 13:46:55,474 \u001b[0m\u001b[mgym                            \u001b[0m\u001b[mINFO       \u001b[0m\u001b[33m<11340.00> \u001b[0m\u001b[mSatellites requiring retasking: ['Scanner-1_4715111056']\u001b[0m\n"
     ]
    },
    {
     "name": "stderr",
     "output_type": "stream",
     "text": [
      "\u001b[90;3m2024-07-15 13:46:55,474 \u001b[0m\u001b[mgym                            \u001b[0m\u001b[mINFO       \u001b[0m\u001b[33m<11340.00> \u001b[0m\u001b[mStep reward: 0.0\u001b[0m\n"
     ]
    },
    {
     "name": "stderr",
     "output_type": "stream",
     "text": [
      "\u001b[90;3m2024-07-15 13:46:55,475 \u001b[0m\u001b[mgym                            \u001b[0m\u001b[mINFO       \u001b[0m\u001b[33m<11340.00> \u001b[0m\u001b[93;1m=== STARTING STEP ===\u001b[0m\n"
     ]
    },
    {
     "name": "stderr",
     "output_type": "stream",
     "text": [
      "\u001b[90;3m2024-07-15 13:46:55,475 \u001b[0m\u001b[36msats.satellite.Scanner-1       \u001b[0m\u001b[mINFO       \u001b[0m\u001b[33m<11340.00> \u001b[0m\u001b[36mScanner-1: \u001b[0m\u001b[maction_downlink tasked for 60.0 seconds\u001b[0m\n"
     ]
    },
    {
     "name": "stderr",
     "output_type": "stream",
     "text": [
      "\u001b[90;3m2024-07-15 13:46:55,475 \u001b[0m\u001b[36msats.satellite.Scanner-1       \u001b[0m\u001b[mINFO       \u001b[0m\u001b[33m<11340.00> \u001b[0m\u001b[36mScanner-1: \u001b[0m\u001b[msetting timed terminal event at 11400.0\u001b[0m\n"
     ]
    },
    {
     "name": "stderr",
     "output_type": "stream",
     "text": [
      "\u001b[90;3m2024-07-15 13:46:55,475 \u001b[0m\u001b[msim.simulator                  \u001b[0m\u001b[mINFO       \u001b[0m\u001b[33m<11340.00> \u001b[0m\u001b[mRunning simulation at most to 11400.00 seconds\u001b[0m\n"
     ]
    },
    {
     "name": "stderr",
     "output_type": "stream",
     "text": [
      "\u001b[90;3m2024-07-15 13:46:55,479 \u001b[0m\u001b[mdata.base                      \u001b[0m\u001b[mINFO       \u001b[0m\u001b[33m<11400.00> \u001b[0m\u001b[mData reward: {'Scanner-1_4715111056': 0.0}\u001b[0m\n"
     ]
    },
    {
     "name": "stderr",
     "output_type": "stream",
     "text": [
      "\u001b[90;3m2024-07-15 13:46:55,479 \u001b[0m\u001b[mgym                            \u001b[0m\u001b[mINFO       \u001b[0m\u001b[33m<11400.00> \u001b[0m\u001b[mStep reward: 0.0\u001b[0m\n"
     ]
    },
    {
     "name": "stderr",
     "output_type": "stream",
     "text": [
      "\u001b[90;3m2024-07-15 13:46:55,480 \u001b[0m\u001b[mgym                            \u001b[0m\u001b[mINFO       \u001b[0m\u001b[33m<11400.00> \u001b[0m\u001b[mEpisode terminated: True\u001b[0m\n"
     ]
    },
    {
     "name": "stderr",
     "output_type": "stream",
     "text": [
      "\u001b[90;3m2024-07-15 13:46:55,480 \u001b[0m\u001b[mgym                            \u001b[0m\u001b[mINFO       \u001b[0m\u001b[33m<11400.00> \u001b[0m\u001b[mEpisode truncated: True\u001b[0m\n"
     ]
    }
   ],
   "source": [
    "env = SatelliteTasking(**env_args, log_level=\"INFO\")\n",
    "env.reset()\n",
    "terminated = False\n",
    "while not terminated:\n",
    "    action = env.action_space.sample()\n",
    "    observation, reward, terminated, truncated, info = env.step(action)"
   ]
  }
 ],
 "metadata": {
  "kernelspec": {
   "display_name": "Python 3 (ipykernel)",
   "language": "python",
   "name": "python3"
  },
  "language_info": {
   "codemirror_mode": {
    "name": "ipython",
    "version": 3
   },
   "file_extension": ".py",
   "mimetype": "text/x-python",
   "name": "python",
   "nbconvert_exporter": "python",
   "pygments_lexer": "ipython3",
   "version": "3.10.11"
  }
 },
 "nbformat": 4,
 "nbformat_minor": 4
}
