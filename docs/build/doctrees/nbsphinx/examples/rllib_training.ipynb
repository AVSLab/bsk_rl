{
 "cells": [
  {
   "cell_type": "markdown",
   "metadata": {},
   "source": [
    "# Training with RLlib PPO\n",
    "[RLlib](https://docs.ray.io/en/latest/rllib/index.html) is a high-performance, distributed\n",
    "reinforcement learning library. It is preferable to other RL libraries (e.g. Stable Baselines\n",
    "3) for `bsk_rl` environments because it steps environments copies asynchronously; because \n",
    "of the variable step lengths, variable episode step counts, and long episode reset times, \n",
    "stepping each environment independently can increase step throughput by 2-5 times.\n",
    "\n",
    "<div class=\"alert alert-warning\">\n",
    "\n",
    "**Warning:** RLlib currently has a bug that results in an undesirable timeout which stops\n",
    "training. Check here to see if it has been resolved: https://github.com/ray-project/ray/pull/45147\n",
    "\n",
    "</div>\n",
    "\n",
    "\n",
    "## Define the Environment\n",
    "A nadir-scanning environment is created, to the one used in [this paper](https://hanspeterschaub.info/Papers/Stephenson2024.pdf). \n",
    "The satellite has to collect data while managing the data buffer level and battery level.\n",
    "\n",
    "First, the satellite class is defined. A custom dynamics model is created that defines\n",
    "a few additional properties to use in the state."
   ]
  },
  {
   "cell_type": "code",
   "execution_count": 1,
   "metadata": {
    "execution": {
     "iopub.execute_input": "2024-05-31T20:59:41.365086Z",
     "iopub.status.busy": "2024-05-31T20:59:41.364918Z",
     "iopub.status.idle": "2024-05-31T20:59:42.280245Z",
     "shell.execute_reply": "2024-05-31T20:59:42.279937Z"
    }
   },
   "outputs": [],
   "source": [
    "import numpy as np\n",
    "from bsk_rl import act, data, obs, sats, scene\n",
    "from bsk_rl.sim import dyn, fsw\n",
    "\n",
    "class ScanningDownlinkDynModel(dyn.ContinuousImagingDynModel, dyn.GroundStationDynModel):\n",
    "    # Define some custom properties to be accessed in the state\n",
    "    @property\n",
    "    def instrument_pointing_error(self) -> float:\n",
    "        r_BN_P_unit = self.r_BN_P/np.linalg.norm(self.r_BN_P) \n",
    "        c_hat_P = self.satellite.fsw.c_hat_P\n",
    "        return np.arccos(np.dot(-r_BN_P_unit, c_hat_P))\n",
    "    \n",
    "    @property\n",
    "    def solar_pointing_error(self) -> float:\n",
    "        a = self.world.gravFactory.spiceObject.planetStateOutMsgs[\n",
    "            self.world.sun_index\n",
    "        ].read().PositionVector\n",
    "        a_hat_N = a / np.linalg.norm(a)\n",
    "        nHat_B = self.satellite.sat_args[\"nHat_B\"]\n",
    "        NB = np.transpose(self.BN)\n",
    "        nHat_N = NB @ nHat_B\n",
    "        return np.arccos(np.dot(nHat_N, a_hat_N))\n",
    "\n",
    "class ScanningSatellite(sats.AccessSatellite):\n",
    "    observation_spec = [\n",
    "        obs.SatProperties(\n",
    "            dict(prop=\"storage_level_fraction\"),\n",
    "            dict(prop=\"battery_charge_fraction\"),\n",
    "            dict(prop=\"wheel_speeds_fraction\"),\n",
    "            dict(prop=\"instrument_pointing_error\", norm=np.pi),\n",
    "            dict(prop=\"solar_pointing_error\", norm=np.pi)\n",
    "        ),\n",
    "        obs.Eclipse(),\n",
    "        obs.OpportunityProperties(\n",
    "            dict(prop=\"opportunity_open\", norm=5700),\n",
    "            dict(prop=\"opportunity_close\", norm=5700),\n",
    "            type=\"ground_station\",\n",
    "            n_ahead_observe=1,\n",
    "        ),\n",
    "    ]\n",
    "    action_spec = [\n",
    "        act.Scan(duration=180.0),\n",
    "        act.Charge(duration=180.0),\n",
    "        act.Downlink(duration=60.0),\n",
    "        act.Desat(duration=60.0),\n",
    "    ]\n",
    "    dyn_type = ScanningDownlinkDynModel\n",
    "    fsw_type = fsw.ContinuousImagingFSWModel"
   ]
  },
  {
   "cell_type": "markdown",
   "metadata": {},
   "source": [
    "Next, parameters are set. Since this scenario is focused on maintaining acceptable data\n",
    "and power levels, these are tuned to create a sufficiently interesting mission."
   ]
  },
  {
   "cell_type": "code",
   "execution_count": 2,
   "metadata": {
    "execution": {
     "iopub.execute_input": "2024-05-31T20:59:42.282097Z",
     "iopub.status.busy": "2024-05-31T20:59:42.281947Z",
     "iopub.status.idle": "2024-05-31T20:59:42.285198Z",
     "shell.execute_reply": "2024-05-31T20:59:42.284950Z"
    }
   },
   "outputs": [],
   "source": [
    "sat = ScanningSatellite(\n",
    "    \"Scanner-1\",\n",
    "    sat_args=dict(\n",
    "        # Data\n",
    "        dataStorageCapacity=5000 * 8e6,  # MB to bits\n",
    "        storageInit=lambda: np.random.uniform(0, 5000 * 8e6),\n",
    "        instrumentBaudRate=0.5e6,\n",
    "        transmitterBaudRate=-112e6,\n",
    "        # Power\n",
    "        batteryStorageCapacity=400 * 3600,  # Wh to W*s\n",
    "        storedCharge_Init=lambda: np.random.uniform(400 * 3600 * 0.2, 400 * 3600 * 0.8),\n",
    "        basePowerDraw=-10.0,\n",
    "        instrumentPowerDraw=-30.0,\n",
    "        transmitterPowerDraw=-25.0,\n",
    "        thrusterPowerDraw=-80.0,\n",
    "        # Attitude\n",
    "        imageAttErrorRequirement=0.1,\n",
    "        imageRateErrorRequirement=0.1,\n",
    "        disturbance_vector=lambda: np.random.normal(scale=0.0001, size=3),\n",
    "        maxWheelSpeed=6000.0,  # RPM\n",
    "        wheelSpeeds=lambda: np.random.uniform(-3000, 3000, 3),\n",
    "        desatAttitude=\"nadir\",\n",
    "        nHat_B=np.array([0, 0, -1]),  # Solar panel orientation\n",
    "    )\n",
    ")"
   ]
  },
  {
   "cell_type": "markdown",
   "metadata": {},
   "source": [
    "Finally, the environment arguments are set. Stepping through this environment is \n",
    "demonstrated at the bottom of the page."
   ]
  },
  {
   "cell_type": "code",
   "execution_count": 3,
   "metadata": {
    "execution": {
     "iopub.execute_input": "2024-05-31T20:59:42.286571Z",
     "iopub.status.busy": "2024-05-31T20:59:42.286488Z",
     "iopub.status.idle": "2024-05-31T20:59:42.288158Z",
     "shell.execute_reply": "2024-05-31T20:59:42.287921Z"
    }
   },
   "outputs": [],
   "source": [
    "duration = 3 * 5700.0\n",
    "env_args = dict(\n",
    "    satellite=sat,\n",
    "    scenario=scene.UniformNadirScanning(value_per_second=1/duration),\n",
    "    rewarder=data.ScanningTimeReward(),\n",
    "    time_limit=duration,\n",
    "    failure_penalty=-1.0,\n",
    "    terminate_on_time_limit=True,\n",
    ")"
   ]
  },
  {
   "cell_type": "markdown",
   "metadata": {},
   "source": [
    "## Configure Ray and PPO\n",
    "\n",
    "The `bsk_rl` package supplies a utility to make logging information at the end of episodes\n",
    "easier. This is useful to see how an agent's policy is changing over time, using a\n",
    "monitoring program such as [TensorBoard](https://www.tensorflow.org/tensorboard)."
   ]
  },
  {
   "cell_type": "code",
   "execution_count": 4,
   "metadata": {
    "execution": {
     "iopub.execute_input": "2024-05-31T20:59:42.289431Z",
     "iopub.status.busy": "2024-05-31T20:59:42.289344Z",
     "iopub.status.idle": "2024-05-31T20:59:48.791034Z",
     "shell.execute_reply": "2024-05-31T20:59:48.790692Z"
    }
   },
   "outputs": [],
   "source": [
    "from bsk_rl.utils.rllib import EpisodeDataCallbacks\n",
    "\n",
    "class CustomDataCallbacks(EpisodeDataCallbacks):\n",
    "    def pull_env_metrics(self, env):\n",
    "        reward = env.rewarder.cum_reward\n",
    "        orbits = env.simulator.sim_time / (95 * 60)\n",
    "\n",
    "        data = dict(\n",
    "            reward=reward,\n",
    "            reward_per_orbit=reward / orbits,\n",
    "            # Are satellites dying, and how and when?\n",
    "            alive=float(env.satellite.is_alive()),\n",
    "            rw_status_valid=float(env.satellite.dynamics.rw_speeds_valid()),\n",
    "            battery_status_valid=float(env.satellite.dynamics.battery_valid()),\n",
    "            orbits_complete=orbits,\n",
    "        )\n",
    "        if not env.satellite.is_alive():\n",
    "            data[\"orbits_complete_partial_only\"] = orbits\n",
    "        return  data"
   ]
  },
  {
   "cell_type": "markdown",
   "metadata": {},
   "source": [
    "Then, PPO (or some other algorithm) can be configured. Of particular importance\n",
    "are setting `sample_timeout_s` and `metrics_episode_collection_timeout_s` to appropriately\n",
    "high values for this environment."
   ]
  },
  {
   "cell_type": "code",
   "execution_count": 5,
   "metadata": {
    "execution": {
     "iopub.execute_input": "2024-05-31T20:59:48.792806Z",
     "iopub.status.busy": "2024-05-31T20:59:48.792588Z",
     "iopub.status.idle": "2024-05-31T20:59:48.795422Z",
     "shell.execute_reply": "2024-05-31T20:59:48.795192Z"
    }
   },
   "outputs": [],
   "source": [
    "from bsk_rl import SatelliteTasking\n",
    "from bsk_rl.utils.rllib import unpack_config\n",
    "from ray.rllib.algorithms.ppo import PPOConfig\n",
    "\n",
    "training_args = dict(\n",
    "    lr=0.00003,\n",
    "    gamma=0.999,\n",
    "    train_batch_size=5000,\n",
    "    num_sgd_iter=10,\n",
    "    model=dict(fcnet_hiddens=[512, 512], vf_share_layers=False),\n",
    "    lambda_=0.95,\n",
    "    use_kl_loss=False,\n",
    "    clip_param=0.1,\n",
    "    grad_clip=0.5,\n",
    ")\n",
    "\n",
    "config = (\n",
    "    PPOConfig()\n",
    "    .training(**training_args)\n",
    "    .env_runners(num_env_runners=7, sample_timeout_s=1000.0)\n",
    "    .environment(\n",
    "        env=unpack_config(SatelliteTasking),\n",
    "        env_config=env_args,\n",
    "    )\n",
    "    .callbacks(CustomDataCallbacks)\n",
    "    .reporting(\n",
    "        metrics_num_episodes_for_smoothing=25,\n",
    "        metrics_episode_collection_timeout_s=180,\n",
    "    )\n",
    "    .checkpointing(export_native_model_files=True)\n",
    "    .framework(framework=\"tf2\")\n",
    ")"
   ]
  },
  {
   "cell_type": "markdown",
   "metadata": {},
   "source": [
    "Once the PPO configuration has been set, `ray` can be started and the agent can be\n",
    "trained.\n",
    "\n",
    "```python\n",
    "import ray\n",
    "\n",
    "ray.init(\n",
    "    ignore_reinit_error=True,\n",
    "    num_cpus=8,\n",
    "    object_store_memory=2_000_000_000,  # 2 GB\n",
    ")\n",
    "\n",
    "ppo = PPO(config)\n",
    "\n",
    "# Train the policy as you see fit\n",
    "for _ in range(10):\n",
    "    ppo.train()\n",
    "    ppo.checkpoint()\n",
    "\n",
    "ray.shutdown()\n",
    "```\n",
    "\n",
    "Training on a reasonably modern machine, we can achieve 5M steps over 32 processors in 6\n",
    "to 18 hours, depending on specific environment configurations."
   ]
  },
  {
   "cell_type": "markdown",
   "metadata": {},
   "source": [
    "## Loading the Policy Network\n",
    "\n",
    "The policy network can be found in the `model` subdirectory of the checkpoint output."
   ]
  },
  {
   "cell_type": "markdown",
   "metadata": {},
   "source": [
    "## Stepping Through the Environment\n",
    "\n",
    "The environment is stepped through with random actions to give a sense of how it acts."
   ]
  },
  {
   "cell_type": "code",
   "execution_count": 6,
   "metadata": {
    "execution": {
     "iopub.execute_input": "2024-05-31T20:59:48.796859Z",
     "iopub.status.busy": "2024-05-31T20:59:48.796754Z",
     "iopub.status.idle": "2024-05-31T20:59:50.570406Z",
     "shell.execute_reply": "2024-05-31T20:59:50.569692Z"
    }
   },
   "outputs": [
    {
     "name": "stderr",
     "output_type": "stream",
     "text": [
      "\u001b[90;3m2024-05-31 13:59:48,797 \u001b[0m\u001b[mgym                            \u001b[0m\u001b[mINFO       \u001b[0m\u001b[mResetting environment with seed=443345856\u001b[0m\n"
     ]
    },
    {
     "name": "stderr",
     "output_type": "stream",
     "text": [
      "\u001b[90;3m2024-05-31 13:59:48,888 \u001b[0m\u001b[36msats.satellite.Scanner-1       \u001b[0m\u001b[mINFO       \u001b[0m\u001b[33m<0.00> \u001b[0m\u001b[36mScanner-1: \u001b[0m\u001b[mFinding opportunity windows from 0.00 to 17100.00 seconds\u001b[0m\n"
     ]
    },
    {
     "name": "stderr",
     "output_type": "stream",
     "text": [
      "\u001b[90;3m2024-05-31 13:59:48,930 \u001b[0m\u001b[mgym                            \u001b[0m\u001b[mINFO       \u001b[0m\u001b[33m<0.00> \u001b[0m\u001b[mSatellites requiring retasking: ['Scanner-1_4827225424']\u001b[0m\n"
     ]
    },
    {
     "name": "stderr",
     "output_type": "stream",
     "text": [
      "\u001b[90;3m2024-05-31 13:59:48,931 \u001b[0m\u001b[mgym                            \u001b[0m\u001b[mINFO       \u001b[0m\u001b[33m<0.00> \u001b[0m\u001b[mEnvironment reset\u001b[0m\n"
     ]
    },
    {
     "name": "stderr",
     "output_type": "stream",
     "text": [
      "\u001b[90;3m2024-05-31 13:59:48,932 \u001b[0m\u001b[mgym                            \u001b[0m\u001b[mINFO       \u001b[0m\u001b[33m<0.00> \u001b[0m\u001b[93;1m=== STARTING STEP ===\u001b[0m\n"
     ]
    },
    {
     "name": "stderr",
     "output_type": "stream",
     "text": [
      "\u001b[90;3m2024-05-31 13:59:48,932 \u001b[0m\u001b[36msats.satellite.Scanner-1       \u001b[0m\u001b[mINFO       \u001b[0m\u001b[33m<0.00> \u001b[0m\u001b[36mScanner-1: \u001b[0m\u001b[maction_charge tasked for 180.0 seconds\u001b[0m\n"
     ]
    },
    {
     "name": "stderr",
     "output_type": "stream",
     "text": [
      "\u001b[90;3m2024-05-31 13:59:48,932 \u001b[0m\u001b[36msats.satellite.Scanner-1       \u001b[0m\u001b[mINFO       \u001b[0m\u001b[33m<0.00> \u001b[0m\u001b[36mScanner-1: \u001b[0m\u001b[msetting timed terminal event at 180.0\u001b[0m\n"
     ]
    },
    {
     "name": "stderr",
     "output_type": "stream",
     "text": [
      "\u001b[90;3m2024-05-31 13:59:48,933 \u001b[0m\u001b[msim.simulator                  \u001b[0m\u001b[mINFO       \u001b[0m\u001b[33m<0.00> \u001b[0m\u001b[mRunning simulation at most to 17100.00 seconds\u001b[0m\n"
     ]
    },
    {
     "name": "stderr",
     "output_type": "stream",
     "text": [
      "\u001b[90;3m2024-05-31 13:59:48,943 \u001b[0m\u001b[36msats.satellite.Scanner-1       \u001b[0m\u001b[mINFO       \u001b[0m\u001b[33m<180.00> \u001b[0m\u001b[36mScanner-1: \u001b[0m\u001b[mtimed termination at 180.0 for action_charge\u001b[0m\n"
     ]
    },
    {
     "name": "stderr",
     "output_type": "stream",
     "text": [
      "\u001b[90;3m2024-05-31 13:59:48,943 \u001b[0m\u001b[mdata.base                      \u001b[0m\u001b[mINFO       \u001b[0m\u001b[33m<180.00> \u001b[0m\u001b[mData reward: {'Scanner-1_4827225424': 0.0}\u001b[0m\n"
     ]
    },
    {
     "name": "stderr",
     "output_type": "stream",
     "text": [
      "\u001b[90;3m2024-05-31 13:59:48,944 \u001b[0m\u001b[mgym                            \u001b[0m\u001b[mINFO       \u001b[0m\u001b[33m<180.00> \u001b[0m\u001b[mSatellites requiring retasking: ['Scanner-1_4827225424']\u001b[0m\n"
     ]
    },
    {
     "name": "stderr",
     "output_type": "stream",
     "text": [
      "\u001b[90;3m2024-05-31 13:59:48,944 \u001b[0m\u001b[mgym                            \u001b[0m\u001b[mINFO       \u001b[0m\u001b[33m<180.00> \u001b[0m\u001b[mStep reward: 0.0\u001b[0m\n"
     ]
    },
    {
     "name": "stderr",
     "output_type": "stream",
     "text": [
      "\u001b[90;3m2024-05-31 13:59:48,945 \u001b[0m\u001b[mgym                            \u001b[0m\u001b[mINFO       \u001b[0m\u001b[33m<180.00> \u001b[0m\u001b[93;1m=== STARTING STEP ===\u001b[0m\n"
     ]
    },
    {
     "name": "stderr",
     "output_type": "stream",
     "text": [
      "\u001b[90;3m2024-05-31 13:59:48,945 \u001b[0m\u001b[36msats.satellite.Scanner-1       \u001b[0m\u001b[mINFO       \u001b[0m\u001b[33m<180.00> \u001b[0m\u001b[36mScanner-1: \u001b[0m\u001b[maction_charge tasked for 180.0 seconds\u001b[0m\n"
     ]
    },
    {
     "name": "stderr",
     "output_type": "stream",
     "text": [
      "\u001b[90;3m2024-05-31 13:59:48,945 \u001b[0m\u001b[36msats.satellite.Scanner-1       \u001b[0m\u001b[mINFO       \u001b[0m\u001b[33m<180.00> \u001b[0m\u001b[36mScanner-1: \u001b[0m\u001b[msetting timed terminal event at 360.0\u001b[0m\n"
     ]
    },
    {
     "name": "stderr",
     "output_type": "stream",
     "text": [
      "\u001b[90;3m2024-05-31 13:59:48,945 \u001b[0m\u001b[msim.simulator                  \u001b[0m\u001b[mINFO       \u001b[0m\u001b[33m<180.00> \u001b[0m\u001b[mRunning simulation at most to 17100.00 seconds\u001b[0m\n"
     ]
    },
    {
     "name": "stderr",
     "output_type": "stream",
     "text": [
      "\u001b[90;3m2024-05-31 13:59:48,956 \u001b[0m\u001b[36msats.satellite.Scanner-1       \u001b[0m\u001b[mINFO       \u001b[0m\u001b[33m<360.00> \u001b[0m\u001b[36mScanner-1: \u001b[0m\u001b[mtimed termination at 360.0 for action_charge\u001b[0m\n"
     ]
    },
    {
     "name": "stderr",
     "output_type": "stream",
     "text": [
      "\u001b[90;3m2024-05-31 13:59:48,956 \u001b[0m\u001b[mdata.base                      \u001b[0m\u001b[mINFO       \u001b[0m\u001b[33m<360.00> \u001b[0m\u001b[mData reward: {'Scanner-1_4827225424': 0.0}\u001b[0m\n"
     ]
    },
    {
     "name": "stderr",
     "output_type": "stream",
     "text": [
      "\u001b[90;3m2024-05-31 13:59:48,957 \u001b[0m\u001b[mgym                            \u001b[0m\u001b[mINFO       \u001b[0m\u001b[33m<360.00> \u001b[0m\u001b[mSatellites requiring retasking: ['Scanner-1_4827225424']\u001b[0m\n"
     ]
    },
    {
     "name": "stderr",
     "output_type": "stream",
     "text": [
      "\u001b[90;3m2024-05-31 13:59:48,957 \u001b[0m\u001b[mgym                            \u001b[0m\u001b[mINFO       \u001b[0m\u001b[33m<360.00> \u001b[0m\u001b[mStep reward: 0.0\u001b[0m\n"
     ]
    },
    {
     "name": "stderr",
     "output_type": "stream",
     "text": [
      "\u001b[90;3m2024-05-31 13:59:48,957 \u001b[0m\u001b[mgym                            \u001b[0m\u001b[mINFO       \u001b[0m\u001b[33m<360.00> \u001b[0m\u001b[93;1m=== STARTING STEP ===\u001b[0m\n"
     ]
    },
    {
     "name": "stderr",
     "output_type": "stream",
     "text": [
      "\u001b[90;3m2024-05-31 13:59:48,958 \u001b[0m\u001b[36msats.satellite.Scanner-1       \u001b[0m\u001b[mINFO       \u001b[0m\u001b[33m<360.00> \u001b[0m\u001b[36mScanner-1: \u001b[0m\u001b[maction_nadir_scan tasked for 180.0 seconds\u001b[0m\n"
     ]
    },
    {
     "name": "stderr",
     "output_type": "stream",
     "text": [
      "\u001b[90;3m2024-05-31 13:59:48,958 \u001b[0m\u001b[36msats.satellite.Scanner-1       \u001b[0m\u001b[mINFO       \u001b[0m\u001b[33m<360.00> \u001b[0m\u001b[36mScanner-1: \u001b[0m\u001b[msetting timed terminal event at 540.0\u001b[0m\n"
     ]
    },
    {
     "name": "stderr",
     "output_type": "stream",
     "text": [
      "\u001b[90;3m2024-05-31 13:59:48,958 \u001b[0m\u001b[msim.simulator                  \u001b[0m\u001b[mINFO       \u001b[0m\u001b[33m<360.00> \u001b[0m\u001b[mRunning simulation at most to 17100.00 seconds\u001b[0m\n"
     ]
    },
    {
     "name": "stderr",
     "output_type": "stream",
     "text": [
      "\u001b[90;3m2024-05-31 13:59:48,968 \u001b[0m\u001b[36msats.satellite.Scanner-1       \u001b[0m\u001b[mINFO       \u001b[0m\u001b[33m<540.00> \u001b[0m\u001b[36mScanner-1: \u001b[0m\u001b[mtimed termination at 540.0 for action_nadir_scan\u001b[0m\n"
     ]
    },
    {
     "name": "stderr",
     "output_type": "stream",
     "text": [
      "\u001b[90;3m2024-05-31 13:59:48,968 \u001b[0m\u001b[mdata.base                      \u001b[0m\u001b[mINFO       \u001b[0m\u001b[33m<540.00> \u001b[0m\u001b[mData reward: {'Scanner-1_4827225424': 0.007543859649122808}\u001b[0m\n"
     ]
    },
    {
     "name": "stderr",
     "output_type": "stream",
     "text": [
      "\u001b[90;3m2024-05-31 13:59:48,969 \u001b[0m\u001b[mgym                            \u001b[0m\u001b[mINFO       \u001b[0m\u001b[33m<540.00> \u001b[0m\u001b[mSatellites requiring retasking: ['Scanner-1_4827225424']\u001b[0m\n"
     ]
    },
    {
     "name": "stderr",
     "output_type": "stream",
     "text": [
      "\u001b[90;3m2024-05-31 13:59:48,969 \u001b[0m\u001b[mgym                            \u001b[0m\u001b[mINFO       \u001b[0m\u001b[33m<540.00> \u001b[0m\u001b[mStep reward: 0.007543859649122808\u001b[0m\n"
     ]
    },
    {
     "name": "stderr",
     "output_type": "stream",
     "text": [
      "\u001b[90;3m2024-05-31 13:59:48,969 \u001b[0m\u001b[mgym                            \u001b[0m\u001b[mINFO       \u001b[0m\u001b[33m<540.00> \u001b[0m\u001b[93;1m=== STARTING STEP ===\u001b[0m\n"
     ]
    },
    {
     "name": "stderr",
     "output_type": "stream",
     "text": [
      "\u001b[90;3m2024-05-31 13:59:48,970 \u001b[0m\u001b[36msats.satellite.Scanner-1       \u001b[0m\u001b[mINFO       \u001b[0m\u001b[33m<540.00> \u001b[0m\u001b[36mScanner-1: \u001b[0m\u001b[maction_desat tasked for 60.0 seconds\u001b[0m\n"
     ]
    },
    {
     "name": "stderr",
     "output_type": "stream",
     "text": [
      "\u001b[90;3m2024-05-31 13:59:48,970 \u001b[0m\u001b[36msats.satellite.Scanner-1       \u001b[0m\u001b[mINFO       \u001b[0m\u001b[33m<540.00> \u001b[0m\u001b[36mScanner-1: \u001b[0m\u001b[msetting timed terminal event at 600.0\u001b[0m\n"
     ]
    },
    {
     "name": "stderr",
     "output_type": "stream",
     "text": [
      "\u001b[90;3m2024-05-31 13:59:48,970 \u001b[0m\u001b[msim.simulator                  \u001b[0m\u001b[mINFO       \u001b[0m\u001b[33m<540.00> \u001b[0m\u001b[mRunning simulation at most to 17100.00 seconds\u001b[0m\n"
     ]
    },
    {
     "name": "stderr",
     "output_type": "stream",
     "text": [
      "\u001b[90;3m2024-05-31 13:59:48,974 \u001b[0m\u001b[36msats.satellite.Scanner-1       \u001b[0m\u001b[mINFO       \u001b[0m\u001b[33m<600.00> \u001b[0m\u001b[36mScanner-1: \u001b[0m\u001b[mtimed termination at 600.0 for action_desat\u001b[0m\n"
     ]
    },
    {
     "name": "stderr",
     "output_type": "stream",
     "text": [
      "\u001b[90;3m2024-05-31 13:59:48,974 \u001b[0m\u001b[mdata.base                      \u001b[0m\u001b[mINFO       \u001b[0m\u001b[33m<600.00> \u001b[0m\u001b[mData reward: {'Scanner-1_4827225424': 0.0}\u001b[0m\n"
     ]
    },
    {
     "name": "stderr",
     "output_type": "stream",
     "text": [
      "\u001b[90;3m2024-05-31 13:59:48,975 \u001b[0m\u001b[mgym                            \u001b[0m\u001b[mINFO       \u001b[0m\u001b[33m<600.00> \u001b[0m\u001b[mSatellites requiring retasking: ['Scanner-1_4827225424']\u001b[0m\n"
     ]
    },
    {
     "name": "stderr",
     "output_type": "stream",
     "text": [
      "\u001b[90;3m2024-05-31 13:59:48,975 \u001b[0m\u001b[mgym                            \u001b[0m\u001b[mINFO       \u001b[0m\u001b[33m<600.00> \u001b[0m\u001b[mStep reward: 0.0\u001b[0m\n"
     ]
    },
    {
     "name": "stderr",
     "output_type": "stream",
     "text": [
      "\u001b[90;3m2024-05-31 13:59:48,975 \u001b[0m\u001b[mgym                            \u001b[0m\u001b[mINFO       \u001b[0m\u001b[33m<600.00> \u001b[0m\u001b[93;1m=== STARTING STEP ===\u001b[0m\n"
     ]
    },
    {
     "name": "stderr",
     "output_type": "stream",
     "text": [
      "\u001b[90;3m2024-05-31 13:59:48,976 \u001b[0m\u001b[36msats.satellite.Scanner-1       \u001b[0m\u001b[mINFO       \u001b[0m\u001b[33m<600.00> \u001b[0m\u001b[36mScanner-1: \u001b[0m\u001b[maction_charge tasked for 180.0 seconds\u001b[0m\n"
     ]
    },
    {
     "name": "stderr",
     "output_type": "stream",
     "text": [
      "\u001b[90;3m2024-05-31 13:59:48,976 \u001b[0m\u001b[36msats.satellite.Scanner-1       \u001b[0m\u001b[mINFO       \u001b[0m\u001b[33m<600.00> \u001b[0m\u001b[36mScanner-1: \u001b[0m\u001b[msetting timed terminal event at 780.0\u001b[0m\n"
     ]
    },
    {
     "name": "stderr",
     "output_type": "stream",
     "text": [
      "\u001b[90;3m2024-05-31 13:59:48,976 \u001b[0m\u001b[msim.simulator                  \u001b[0m\u001b[mINFO       \u001b[0m\u001b[33m<600.00> \u001b[0m\u001b[mRunning simulation at most to 17100.00 seconds\u001b[0m\n"
     ]
    },
    {
     "name": "stderr",
     "output_type": "stream",
     "text": [
      "\u001b[90;3m2024-05-31 13:59:48,986 \u001b[0m\u001b[36msats.satellite.Scanner-1       \u001b[0m\u001b[mINFO       \u001b[0m\u001b[33m<780.00> \u001b[0m\u001b[36mScanner-1: \u001b[0m\u001b[mtimed termination at 780.0 for action_charge\u001b[0m\n"
     ]
    },
    {
     "name": "stderr",
     "output_type": "stream",
     "text": [
      "\u001b[90;3m2024-05-31 13:59:48,986 \u001b[0m\u001b[mdata.base                      \u001b[0m\u001b[mINFO       \u001b[0m\u001b[33m<780.00> \u001b[0m\u001b[mData reward: {'Scanner-1_4827225424': 0.0}\u001b[0m\n"
     ]
    },
    {
     "name": "stderr",
     "output_type": "stream",
     "text": [
      "\u001b[90;3m2024-05-31 13:59:48,987 \u001b[0m\u001b[mgym                            \u001b[0m\u001b[mINFO       \u001b[0m\u001b[33m<780.00> \u001b[0m\u001b[mSatellites requiring retasking: ['Scanner-1_4827225424']\u001b[0m\n"
     ]
    },
    {
     "name": "stderr",
     "output_type": "stream",
     "text": [
      "\u001b[90;3m2024-05-31 13:59:48,987 \u001b[0m\u001b[mgym                            \u001b[0m\u001b[mINFO       \u001b[0m\u001b[33m<780.00> \u001b[0m\u001b[mStep reward: 0.0\u001b[0m\n"
     ]
    },
    {
     "name": "stderr",
     "output_type": "stream",
     "text": [
      "\u001b[90;3m2024-05-31 13:59:48,987 \u001b[0m\u001b[mgym                            \u001b[0m\u001b[mINFO       \u001b[0m\u001b[33m<780.00> \u001b[0m\u001b[93;1m=== STARTING STEP ===\u001b[0m\n"
     ]
    },
    {
     "name": "stderr",
     "output_type": "stream",
     "text": [
      "\u001b[90;3m2024-05-31 13:59:48,988 \u001b[0m\u001b[36msats.satellite.Scanner-1       \u001b[0m\u001b[mINFO       \u001b[0m\u001b[33m<780.00> \u001b[0m\u001b[36mScanner-1: \u001b[0m\u001b[maction_downlink tasked for 60.0 seconds\u001b[0m\n"
     ]
    },
    {
     "name": "stderr",
     "output_type": "stream",
     "text": [
      "\u001b[90;3m2024-05-31 13:59:48,988 \u001b[0m\u001b[36msats.satellite.Scanner-1       \u001b[0m\u001b[mINFO       \u001b[0m\u001b[33m<780.00> \u001b[0m\u001b[36mScanner-1: \u001b[0m\u001b[msetting timed terminal event at 840.0\u001b[0m\n"
     ]
    },
    {
     "name": "stderr",
     "output_type": "stream",
     "text": [
      "\u001b[90;3m2024-05-31 13:59:48,988 \u001b[0m\u001b[msim.simulator                  \u001b[0m\u001b[mINFO       \u001b[0m\u001b[33m<780.00> \u001b[0m\u001b[mRunning simulation at most to 17100.00 seconds\u001b[0m\n"
     ]
    },
    {
     "name": "stderr",
     "output_type": "stream",
     "text": [
      "\u001b[90;3m2024-05-31 13:59:48,992 \u001b[0m\u001b[36msats.satellite.Scanner-1       \u001b[0m\u001b[mINFO       \u001b[0m\u001b[33m<840.00> \u001b[0m\u001b[36mScanner-1: \u001b[0m\u001b[mtimed termination at 840.0 for action_downlink\u001b[0m\n"
     ]
    },
    {
     "name": "stderr",
     "output_type": "stream",
     "text": [
      "\u001b[90;3m2024-05-31 13:59:48,992 \u001b[0m\u001b[mdata.base                      \u001b[0m\u001b[mINFO       \u001b[0m\u001b[33m<840.00> \u001b[0m\u001b[mData reward: {'Scanner-1_4827225424': 0.0}\u001b[0m\n"
     ]
    },
    {
     "name": "stderr",
     "output_type": "stream",
     "text": [
      "\u001b[90;3m2024-05-31 13:59:48,993 \u001b[0m\u001b[mgym                            \u001b[0m\u001b[mINFO       \u001b[0m\u001b[33m<840.00> \u001b[0m\u001b[mSatellites requiring retasking: ['Scanner-1_4827225424']\u001b[0m\n"
     ]
    },
    {
     "name": "stderr",
     "output_type": "stream",
     "text": [
      "\u001b[90;3m2024-05-31 13:59:48,993 \u001b[0m\u001b[mgym                            \u001b[0m\u001b[mINFO       \u001b[0m\u001b[33m<840.00> \u001b[0m\u001b[mStep reward: 0.0\u001b[0m\n"
     ]
    },
    {
     "name": "stderr",
     "output_type": "stream",
     "text": [
      "\u001b[90;3m2024-05-31 13:59:48,994 \u001b[0m\u001b[mgym                            \u001b[0m\u001b[mINFO       \u001b[0m\u001b[33m<840.00> \u001b[0m\u001b[93;1m=== STARTING STEP ===\u001b[0m\n"
     ]
    },
    {
     "name": "stderr",
     "output_type": "stream",
     "text": [
      "\u001b[90;3m2024-05-31 13:59:48,994 \u001b[0m\u001b[36msats.satellite.Scanner-1       \u001b[0m\u001b[mINFO       \u001b[0m\u001b[33m<840.00> \u001b[0m\u001b[36mScanner-1: \u001b[0m\u001b[maction_desat tasked for 60.0 seconds\u001b[0m\n"
     ]
    },
    {
     "name": "stderr",
     "output_type": "stream",
     "text": [
      "\u001b[90;3m2024-05-31 13:59:48,994 \u001b[0m\u001b[36msats.satellite.Scanner-1       \u001b[0m\u001b[mINFO       \u001b[0m\u001b[33m<840.00> \u001b[0m\u001b[36mScanner-1: \u001b[0m\u001b[msetting timed terminal event at 900.0\u001b[0m\n"
     ]
    },
    {
     "name": "stderr",
     "output_type": "stream",
     "text": [
      "\u001b[90;3m2024-05-31 13:59:48,994 \u001b[0m\u001b[msim.simulator                  \u001b[0m\u001b[mINFO       \u001b[0m\u001b[33m<840.00> \u001b[0m\u001b[mRunning simulation at most to 17100.00 seconds\u001b[0m\n"
     ]
    },
    {
     "name": "stderr",
     "output_type": "stream",
     "text": [
      "\u001b[90;3m2024-05-31 13:59:48,998 \u001b[0m\u001b[36msats.satellite.Scanner-1       \u001b[0m\u001b[mINFO       \u001b[0m\u001b[33m<900.00> \u001b[0m\u001b[36mScanner-1: \u001b[0m\u001b[mtimed termination at 900.0 for action_desat\u001b[0m\n"
     ]
    },
    {
     "name": "stderr",
     "output_type": "stream",
     "text": [
      "\u001b[90;3m2024-05-31 13:59:48,998 \u001b[0m\u001b[mdata.base                      \u001b[0m\u001b[mINFO       \u001b[0m\u001b[33m<900.00> \u001b[0m\u001b[mData reward: {'Scanner-1_4827225424': 0.0}\u001b[0m\n"
     ]
    },
    {
     "name": "stderr",
     "output_type": "stream",
     "text": [
      "\u001b[90;3m2024-05-31 13:59:48,999 \u001b[0m\u001b[mgym                            \u001b[0m\u001b[mINFO       \u001b[0m\u001b[33m<900.00> \u001b[0m\u001b[mSatellites requiring retasking: ['Scanner-1_4827225424']\u001b[0m\n"
     ]
    },
    {
     "name": "stderr",
     "output_type": "stream",
     "text": [
      "\u001b[90;3m2024-05-31 13:59:48,999 \u001b[0m\u001b[mgym                            \u001b[0m\u001b[mINFO       \u001b[0m\u001b[33m<900.00> \u001b[0m\u001b[mStep reward: 0.0\u001b[0m\n"
     ]
    },
    {
     "name": "stderr",
     "output_type": "stream",
     "text": [
      "\u001b[90;3m2024-05-31 13:59:49,000 \u001b[0m\u001b[mgym                            \u001b[0m\u001b[mINFO       \u001b[0m\u001b[33m<900.00> \u001b[0m\u001b[93;1m=== STARTING STEP ===\u001b[0m\n"
     ]
    },
    {
     "name": "stderr",
     "output_type": "stream",
     "text": [
      "\u001b[90;3m2024-05-31 13:59:49,000 \u001b[0m\u001b[36msats.satellite.Scanner-1       \u001b[0m\u001b[mINFO       \u001b[0m\u001b[33m<900.00> \u001b[0m\u001b[36mScanner-1: \u001b[0m\u001b[maction_charge tasked for 180.0 seconds\u001b[0m\n"
     ]
    },
    {
     "name": "stderr",
     "output_type": "stream",
     "text": [
      "\u001b[90;3m2024-05-31 13:59:49,000 \u001b[0m\u001b[36msats.satellite.Scanner-1       \u001b[0m\u001b[mINFO       \u001b[0m\u001b[33m<900.00> \u001b[0m\u001b[36mScanner-1: \u001b[0m\u001b[msetting timed terminal event at 1080.0\u001b[0m\n"
     ]
    },
    {
     "name": "stderr",
     "output_type": "stream",
     "text": [
      "\u001b[90;3m2024-05-31 13:59:49,000 \u001b[0m\u001b[msim.simulator                  \u001b[0m\u001b[mINFO       \u001b[0m\u001b[33m<900.00> \u001b[0m\u001b[mRunning simulation at most to 17100.00 seconds\u001b[0m\n"
     ]
    },
    {
     "name": "stderr",
     "output_type": "stream",
     "text": [
      "\u001b[90;3m2024-05-31 13:59:49,011 \u001b[0m\u001b[36msats.satellite.Scanner-1       \u001b[0m\u001b[mINFO       \u001b[0m\u001b[33m<1080.00> \u001b[0m\u001b[36mScanner-1: \u001b[0m\u001b[mtimed termination at 1080.0 for action_charge\u001b[0m\n"
     ]
    },
    {
     "name": "stderr",
     "output_type": "stream",
     "text": [
      "\u001b[90;3m2024-05-31 13:59:49,011 \u001b[0m\u001b[mdata.base                      \u001b[0m\u001b[mINFO       \u001b[0m\u001b[33m<1080.00> \u001b[0m\u001b[mData reward: {'Scanner-1_4827225424': 0.0}\u001b[0m\n"
     ]
    },
    {
     "name": "stderr",
     "output_type": "stream",
     "text": [
      "\u001b[90;3m2024-05-31 13:59:49,012 \u001b[0m\u001b[mgym                            \u001b[0m\u001b[mINFO       \u001b[0m\u001b[33m<1080.00> \u001b[0m\u001b[mSatellites requiring retasking: ['Scanner-1_4827225424']\u001b[0m\n"
     ]
    },
    {
     "name": "stderr",
     "output_type": "stream",
     "text": [
      "\u001b[90;3m2024-05-31 13:59:49,012 \u001b[0m\u001b[mgym                            \u001b[0m\u001b[mINFO       \u001b[0m\u001b[33m<1080.00> \u001b[0m\u001b[mStep reward: 0.0\u001b[0m\n"
     ]
    },
    {
     "name": "stderr",
     "output_type": "stream",
     "text": [
      "\u001b[90;3m2024-05-31 13:59:49,012 \u001b[0m\u001b[mgym                            \u001b[0m\u001b[mINFO       \u001b[0m\u001b[33m<1080.00> \u001b[0m\u001b[93;1m=== STARTING STEP ===\u001b[0m\n"
     ]
    },
    {
     "name": "stderr",
     "output_type": "stream",
     "text": [
      "\u001b[90;3m2024-05-31 13:59:49,013 \u001b[0m\u001b[36msats.satellite.Scanner-1       \u001b[0m\u001b[mINFO       \u001b[0m\u001b[33m<1080.00> \u001b[0m\u001b[36mScanner-1: \u001b[0m\u001b[maction_charge tasked for 180.0 seconds\u001b[0m\n"
     ]
    },
    {
     "name": "stderr",
     "output_type": "stream",
     "text": [
      "\u001b[90;3m2024-05-31 13:59:49,013 \u001b[0m\u001b[36msats.satellite.Scanner-1       \u001b[0m\u001b[mINFO       \u001b[0m\u001b[33m<1080.00> \u001b[0m\u001b[36mScanner-1: \u001b[0m\u001b[msetting timed terminal event at 1260.0\u001b[0m\n"
     ]
    },
    {
     "name": "stderr",
     "output_type": "stream",
     "text": [
      "\u001b[90;3m2024-05-31 13:59:49,013 \u001b[0m\u001b[msim.simulator                  \u001b[0m\u001b[mINFO       \u001b[0m\u001b[33m<1080.00> \u001b[0m\u001b[mRunning simulation at most to 17100.00 seconds\u001b[0m\n"
     ]
    },
    {
     "name": "stderr",
     "output_type": "stream",
     "text": [
      "\u001b[90;3m2024-05-31 13:59:49,023 \u001b[0m\u001b[36msats.satellite.Scanner-1       \u001b[0m\u001b[mINFO       \u001b[0m\u001b[33m<1260.00> \u001b[0m\u001b[36mScanner-1: \u001b[0m\u001b[mtimed termination at 1260.0 for action_charge\u001b[0m\n"
     ]
    },
    {
     "name": "stderr",
     "output_type": "stream",
     "text": [
      "\u001b[90;3m2024-05-31 13:59:49,024 \u001b[0m\u001b[mdata.base                      \u001b[0m\u001b[mINFO       \u001b[0m\u001b[33m<1260.00> \u001b[0m\u001b[mData reward: {'Scanner-1_4827225424': 0.0}\u001b[0m\n"
     ]
    },
    {
     "name": "stderr",
     "output_type": "stream",
     "text": [
      "\u001b[90;3m2024-05-31 13:59:49,025 \u001b[0m\u001b[mgym                            \u001b[0m\u001b[mINFO       \u001b[0m\u001b[33m<1260.00> \u001b[0m\u001b[mSatellites requiring retasking: ['Scanner-1_4827225424']\u001b[0m\n"
     ]
    },
    {
     "name": "stderr",
     "output_type": "stream",
     "text": [
      "\u001b[90;3m2024-05-31 13:59:49,025 \u001b[0m\u001b[mgym                            \u001b[0m\u001b[mINFO       \u001b[0m\u001b[33m<1260.00> \u001b[0m\u001b[mStep reward: 0.0\u001b[0m\n"
     ]
    },
    {
     "name": "stderr",
     "output_type": "stream",
     "text": [
      "\u001b[90;3m2024-05-31 13:59:49,025 \u001b[0m\u001b[mgym                            \u001b[0m\u001b[mINFO       \u001b[0m\u001b[33m<1260.00> \u001b[0m\u001b[93;1m=== STARTING STEP ===\u001b[0m\n"
     ]
    },
    {
     "name": "stderr",
     "output_type": "stream",
     "text": [
      "\u001b[90;3m2024-05-31 13:59:49,025 \u001b[0m\u001b[36msats.satellite.Scanner-1       \u001b[0m\u001b[mINFO       \u001b[0m\u001b[33m<1260.00> \u001b[0m\u001b[36mScanner-1: \u001b[0m\u001b[maction_downlink tasked for 60.0 seconds\u001b[0m\n"
     ]
    },
    {
     "name": "stderr",
     "output_type": "stream",
     "text": [
      "\u001b[90;3m2024-05-31 13:59:49,026 \u001b[0m\u001b[36msats.satellite.Scanner-1       \u001b[0m\u001b[mINFO       \u001b[0m\u001b[33m<1260.00> \u001b[0m\u001b[36mScanner-1: \u001b[0m\u001b[msetting timed terminal event at 1320.0\u001b[0m\n"
     ]
    },
    {
     "name": "stderr",
     "output_type": "stream",
     "text": [
      "\u001b[90;3m2024-05-31 13:59:49,026 \u001b[0m\u001b[msim.simulator                  \u001b[0m\u001b[mINFO       \u001b[0m\u001b[33m<1260.00> \u001b[0m\u001b[mRunning simulation at most to 17100.00 seconds\u001b[0m\n"
     ]
    },
    {
     "name": "stderr",
     "output_type": "stream",
     "text": [
      "\u001b[90;3m2024-05-31 13:59:49,030 \u001b[0m\u001b[36msats.satellite.Scanner-1       \u001b[0m\u001b[mINFO       \u001b[0m\u001b[33m<1320.00> \u001b[0m\u001b[36mScanner-1: \u001b[0m\u001b[mtimed termination at 1320.0 for action_downlink\u001b[0m\n"
     ]
    },
    {
     "name": "stderr",
     "output_type": "stream",
     "text": [
      "\u001b[90;3m2024-05-31 13:59:49,030 \u001b[0m\u001b[mdata.base                      \u001b[0m\u001b[mINFO       \u001b[0m\u001b[33m<1320.00> \u001b[0m\u001b[mData reward: {'Scanner-1_4827225424': 0.0}\u001b[0m\n"
     ]
    },
    {
     "name": "stderr",
     "output_type": "stream",
     "text": [
      "\u001b[90;3m2024-05-31 13:59:49,031 \u001b[0m\u001b[mgym                            \u001b[0m\u001b[mINFO       \u001b[0m\u001b[33m<1320.00> \u001b[0m\u001b[mSatellites requiring retasking: ['Scanner-1_4827225424']\u001b[0m\n"
     ]
    },
    {
     "name": "stderr",
     "output_type": "stream",
     "text": [
      "\u001b[90;3m2024-05-31 13:59:49,031 \u001b[0m\u001b[mgym                            \u001b[0m\u001b[mINFO       \u001b[0m\u001b[33m<1320.00> \u001b[0m\u001b[mStep reward: 0.0\u001b[0m\n"
     ]
    },
    {
     "name": "stderr",
     "output_type": "stream",
     "text": [
      "\u001b[90;3m2024-05-31 13:59:49,031 \u001b[0m\u001b[mgym                            \u001b[0m\u001b[mINFO       \u001b[0m\u001b[33m<1320.00> \u001b[0m\u001b[93;1m=== STARTING STEP ===\u001b[0m\n"
     ]
    },
    {
     "name": "stderr",
     "output_type": "stream",
     "text": [
      "\u001b[90;3m2024-05-31 13:59:49,032 \u001b[0m\u001b[36msats.satellite.Scanner-1       \u001b[0m\u001b[mINFO       \u001b[0m\u001b[33m<1320.00> \u001b[0m\u001b[36mScanner-1: \u001b[0m\u001b[maction_desat tasked for 60.0 seconds\u001b[0m\n"
     ]
    },
    {
     "name": "stderr",
     "output_type": "stream",
     "text": [
      "\u001b[90;3m2024-05-31 13:59:49,032 \u001b[0m\u001b[36msats.satellite.Scanner-1       \u001b[0m\u001b[mINFO       \u001b[0m\u001b[33m<1320.00> \u001b[0m\u001b[36mScanner-1: \u001b[0m\u001b[msetting timed terminal event at 1380.0\u001b[0m\n"
     ]
    },
    {
     "name": "stderr",
     "output_type": "stream",
     "text": [
      "\u001b[90;3m2024-05-31 13:59:49,032 \u001b[0m\u001b[msim.simulator                  \u001b[0m\u001b[mINFO       \u001b[0m\u001b[33m<1320.00> \u001b[0m\u001b[mRunning simulation at most to 17100.00 seconds\u001b[0m\n"
     ]
    },
    {
     "name": "stderr",
     "output_type": "stream",
     "text": [
      "\u001b[90;3m2024-05-31 13:59:49,036 \u001b[0m\u001b[36msats.satellite.Scanner-1       \u001b[0m\u001b[mINFO       \u001b[0m\u001b[33m<1380.00> \u001b[0m\u001b[36mScanner-1: \u001b[0m\u001b[mtimed termination at 1380.0 for action_desat\u001b[0m\n"
     ]
    },
    {
     "name": "stderr",
     "output_type": "stream",
     "text": [
      "\u001b[90;3m2024-05-31 13:59:49,036 \u001b[0m\u001b[mdata.base                      \u001b[0m\u001b[mINFO       \u001b[0m\u001b[33m<1380.00> \u001b[0m\u001b[mData reward: {'Scanner-1_4827225424': 0.0}\u001b[0m\n"
     ]
    },
    {
     "name": "stderr",
     "output_type": "stream",
     "text": [
      "\u001b[90;3m2024-05-31 13:59:49,037 \u001b[0m\u001b[mgym                            \u001b[0m\u001b[mINFO       \u001b[0m\u001b[33m<1380.00> \u001b[0m\u001b[mSatellites requiring retasking: ['Scanner-1_4827225424']\u001b[0m\n"
     ]
    },
    {
     "name": "stderr",
     "output_type": "stream",
     "text": [
      "\u001b[90;3m2024-05-31 13:59:49,037 \u001b[0m\u001b[mgym                            \u001b[0m\u001b[mINFO       \u001b[0m\u001b[33m<1380.00> \u001b[0m\u001b[mStep reward: 0.0\u001b[0m\n"
     ]
    },
    {
     "name": "stderr",
     "output_type": "stream",
     "text": [
      "\u001b[90;3m2024-05-31 13:59:49,037 \u001b[0m\u001b[mgym                            \u001b[0m\u001b[mINFO       \u001b[0m\u001b[33m<1380.00> \u001b[0m\u001b[93;1m=== STARTING STEP ===\u001b[0m\n"
     ]
    },
    {
     "name": "stderr",
     "output_type": "stream",
     "text": [
      "\u001b[90;3m2024-05-31 13:59:49,038 \u001b[0m\u001b[36msats.satellite.Scanner-1       \u001b[0m\u001b[mINFO       \u001b[0m\u001b[33m<1380.00> \u001b[0m\u001b[36mScanner-1: \u001b[0m\u001b[maction_charge tasked for 180.0 seconds\u001b[0m\n"
     ]
    },
    {
     "name": "stderr",
     "output_type": "stream",
     "text": [
      "\u001b[90;3m2024-05-31 13:59:49,038 \u001b[0m\u001b[36msats.satellite.Scanner-1       \u001b[0m\u001b[mINFO       \u001b[0m\u001b[33m<1380.00> \u001b[0m\u001b[36mScanner-1: \u001b[0m\u001b[msetting timed terminal event at 1560.0\u001b[0m\n"
     ]
    },
    {
     "name": "stderr",
     "output_type": "stream",
     "text": [
      "\u001b[90;3m2024-05-31 13:59:49,038 \u001b[0m\u001b[msim.simulator                  \u001b[0m\u001b[mINFO       \u001b[0m\u001b[33m<1380.00> \u001b[0m\u001b[mRunning simulation at most to 17100.00 seconds\u001b[0m\n"
     ]
    },
    {
     "name": "stderr",
     "output_type": "stream",
     "text": [
      "\u001b[90;3m2024-05-31 13:59:49,049 \u001b[0m\u001b[36msats.satellite.Scanner-1       \u001b[0m\u001b[mINFO       \u001b[0m\u001b[33m<1560.00> \u001b[0m\u001b[36mScanner-1: \u001b[0m\u001b[mtimed termination at 1560.0 for action_charge\u001b[0m\n"
     ]
    },
    {
     "name": "stderr",
     "output_type": "stream",
     "text": [
      "\u001b[90;3m2024-05-31 13:59:49,049 \u001b[0m\u001b[mdata.base                      \u001b[0m\u001b[mINFO       \u001b[0m\u001b[33m<1560.00> \u001b[0m\u001b[mData reward: {'Scanner-1_4827225424': 0.0}\u001b[0m\n"
     ]
    },
    {
     "name": "stderr",
     "output_type": "stream",
     "text": [
      "\u001b[90;3m2024-05-31 13:59:49,050 \u001b[0m\u001b[mgym                            \u001b[0m\u001b[mINFO       \u001b[0m\u001b[33m<1560.00> \u001b[0m\u001b[mSatellites requiring retasking: ['Scanner-1_4827225424']\u001b[0m\n"
     ]
    },
    {
     "name": "stderr",
     "output_type": "stream",
     "text": [
      "\u001b[90;3m2024-05-31 13:59:49,050 \u001b[0m\u001b[mgym                            \u001b[0m\u001b[mINFO       \u001b[0m\u001b[33m<1560.00> \u001b[0m\u001b[mStep reward: 0.0\u001b[0m\n"
     ]
    },
    {
     "name": "stderr",
     "output_type": "stream",
     "text": [
      "\u001b[90;3m2024-05-31 13:59:49,050 \u001b[0m\u001b[mgym                            \u001b[0m\u001b[mINFO       \u001b[0m\u001b[33m<1560.00> \u001b[0m\u001b[93;1m=== STARTING STEP ===\u001b[0m\n"
     ]
    },
    {
     "name": "stderr",
     "output_type": "stream",
     "text": [
      "\u001b[90;3m2024-05-31 13:59:49,050 \u001b[0m\u001b[36msats.satellite.Scanner-1       \u001b[0m\u001b[mINFO       \u001b[0m\u001b[33m<1560.00> \u001b[0m\u001b[36mScanner-1: \u001b[0m\u001b[maction_charge tasked for 180.0 seconds\u001b[0m\n"
     ]
    },
    {
     "name": "stderr",
     "output_type": "stream",
     "text": [
      "\u001b[90;3m2024-05-31 13:59:49,051 \u001b[0m\u001b[36msats.satellite.Scanner-1       \u001b[0m\u001b[mINFO       \u001b[0m\u001b[33m<1560.00> \u001b[0m\u001b[36mScanner-1: \u001b[0m\u001b[msetting timed terminal event at 1740.0\u001b[0m\n"
     ]
    },
    {
     "name": "stderr",
     "output_type": "stream",
     "text": [
      "\u001b[90;3m2024-05-31 13:59:49,051 \u001b[0m\u001b[msim.simulator                  \u001b[0m\u001b[mINFO       \u001b[0m\u001b[33m<1560.00> \u001b[0m\u001b[mRunning simulation at most to 17100.00 seconds\u001b[0m\n"
     ]
    },
    {
     "name": "stderr",
     "output_type": "stream",
     "text": [
      "\u001b[90;3m2024-05-31 13:59:49,061 \u001b[0m\u001b[36msats.satellite.Scanner-1       \u001b[0m\u001b[mINFO       \u001b[0m\u001b[33m<1740.00> \u001b[0m\u001b[36mScanner-1: \u001b[0m\u001b[mtimed termination at 1740.0 for action_charge\u001b[0m\n"
     ]
    },
    {
     "name": "stderr",
     "output_type": "stream",
     "text": [
      "\u001b[90;3m2024-05-31 13:59:49,061 \u001b[0m\u001b[mdata.base                      \u001b[0m\u001b[mINFO       \u001b[0m\u001b[33m<1740.00> \u001b[0m\u001b[mData reward: {'Scanner-1_4827225424': 0.0}\u001b[0m\n"
     ]
    },
    {
     "name": "stderr",
     "output_type": "stream",
     "text": [
      "\u001b[90;3m2024-05-31 13:59:49,062 \u001b[0m\u001b[mgym                            \u001b[0m\u001b[mINFO       \u001b[0m\u001b[33m<1740.00> \u001b[0m\u001b[mSatellites requiring retasking: ['Scanner-1_4827225424']\u001b[0m\n"
     ]
    },
    {
     "name": "stderr",
     "output_type": "stream",
     "text": [
      "\u001b[90;3m2024-05-31 13:59:49,062 \u001b[0m\u001b[mgym                            \u001b[0m\u001b[mINFO       \u001b[0m\u001b[33m<1740.00> \u001b[0m\u001b[mStep reward: 0.0\u001b[0m\n"
     ]
    },
    {
     "name": "stderr",
     "output_type": "stream",
     "text": [
      "\u001b[90;3m2024-05-31 13:59:49,063 \u001b[0m\u001b[mgym                            \u001b[0m\u001b[mINFO       \u001b[0m\u001b[33m<1740.00> \u001b[0m\u001b[93;1m=== STARTING STEP ===\u001b[0m\n"
     ]
    },
    {
     "name": "stderr",
     "output_type": "stream",
     "text": [
      "\u001b[90;3m2024-05-31 13:59:49,063 \u001b[0m\u001b[36msats.satellite.Scanner-1       \u001b[0m\u001b[mINFO       \u001b[0m\u001b[33m<1740.00> \u001b[0m\u001b[36mScanner-1: \u001b[0m\u001b[maction_charge tasked for 180.0 seconds\u001b[0m\n"
     ]
    },
    {
     "name": "stderr",
     "output_type": "stream",
     "text": [
      "\u001b[90;3m2024-05-31 13:59:49,063 \u001b[0m\u001b[36msats.satellite.Scanner-1       \u001b[0m\u001b[mINFO       \u001b[0m\u001b[33m<1740.00> \u001b[0m\u001b[36mScanner-1: \u001b[0m\u001b[msetting timed terminal event at 1920.0\u001b[0m\n"
     ]
    },
    {
     "name": "stderr",
     "output_type": "stream",
     "text": [
      "\u001b[90;3m2024-05-31 13:59:49,063 \u001b[0m\u001b[msim.simulator                  \u001b[0m\u001b[mINFO       \u001b[0m\u001b[33m<1740.00> \u001b[0m\u001b[mRunning simulation at most to 17100.00 seconds\u001b[0m\n"
     ]
    },
    {
     "name": "stderr",
     "output_type": "stream",
     "text": [
      "\u001b[90;3m2024-05-31 13:59:49,073 \u001b[0m\u001b[36msats.satellite.Scanner-1       \u001b[0m\u001b[mINFO       \u001b[0m\u001b[33m<1920.00> \u001b[0m\u001b[36mScanner-1: \u001b[0m\u001b[mtimed termination at 1920.0 for action_charge\u001b[0m\n"
     ]
    },
    {
     "name": "stderr",
     "output_type": "stream",
     "text": [
      "\u001b[90;3m2024-05-31 13:59:49,074 \u001b[0m\u001b[mdata.base                      \u001b[0m\u001b[mINFO       \u001b[0m\u001b[33m<1920.00> \u001b[0m\u001b[mData reward: {'Scanner-1_4827225424': 0.0}\u001b[0m\n"
     ]
    },
    {
     "name": "stderr",
     "output_type": "stream",
     "text": [
      "\u001b[90;3m2024-05-31 13:59:49,074 \u001b[0m\u001b[mgym                            \u001b[0m\u001b[mINFO       \u001b[0m\u001b[33m<1920.00> \u001b[0m\u001b[mSatellites requiring retasking: ['Scanner-1_4827225424']\u001b[0m\n"
     ]
    },
    {
     "name": "stderr",
     "output_type": "stream",
     "text": [
      "\u001b[90;3m2024-05-31 13:59:49,075 \u001b[0m\u001b[mgym                            \u001b[0m\u001b[mINFO       \u001b[0m\u001b[33m<1920.00> \u001b[0m\u001b[mStep reward: 0.0\u001b[0m\n"
     ]
    },
    {
     "name": "stderr",
     "output_type": "stream",
     "text": [
      "\u001b[90;3m2024-05-31 13:59:49,075 \u001b[0m\u001b[mgym                            \u001b[0m\u001b[mINFO       \u001b[0m\u001b[33m<1920.00> \u001b[0m\u001b[93;1m=== STARTING STEP ===\u001b[0m\n"
     ]
    },
    {
     "name": "stderr",
     "output_type": "stream",
     "text": [
      "\u001b[90;3m2024-05-31 13:59:49,075 \u001b[0m\u001b[36msats.satellite.Scanner-1       \u001b[0m\u001b[mINFO       \u001b[0m\u001b[33m<1920.00> \u001b[0m\u001b[36mScanner-1: \u001b[0m\u001b[maction_desat tasked for 60.0 seconds\u001b[0m\n"
     ]
    },
    {
     "name": "stderr",
     "output_type": "stream",
     "text": [
      "\u001b[90;3m2024-05-31 13:59:49,075 \u001b[0m\u001b[36msats.satellite.Scanner-1       \u001b[0m\u001b[mINFO       \u001b[0m\u001b[33m<1920.00> \u001b[0m\u001b[36mScanner-1: \u001b[0m\u001b[msetting timed terminal event at 1980.0\u001b[0m\n"
     ]
    },
    {
     "name": "stderr",
     "output_type": "stream",
     "text": [
      "\u001b[90;3m2024-05-31 13:59:49,075 \u001b[0m\u001b[msim.simulator                  \u001b[0m\u001b[mINFO       \u001b[0m\u001b[33m<1920.00> \u001b[0m\u001b[mRunning simulation at most to 17100.00 seconds\u001b[0m\n"
     ]
    },
    {
     "name": "stderr",
     "output_type": "stream",
     "text": [
      "\u001b[90;3m2024-05-31 13:59:49,079 \u001b[0m\u001b[36msats.satellite.Scanner-1       \u001b[0m\u001b[mINFO       \u001b[0m\u001b[33m<1980.00> \u001b[0m\u001b[36mScanner-1: \u001b[0m\u001b[mtimed termination at 1980.0 for action_desat\u001b[0m\n"
     ]
    },
    {
     "name": "stderr",
     "output_type": "stream",
     "text": [
      "\u001b[90;3m2024-05-31 13:59:49,079 \u001b[0m\u001b[mdata.base                      \u001b[0m\u001b[mINFO       \u001b[0m\u001b[33m<1980.00> \u001b[0m\u001b[mData reward: {'Scanner-1_4827225424': 0.0}\u001b[0m\n"
     ]
    },
    {
     "name": "stderr",
     "output_type": "stream",
     "text": [
      "\u001b[90;3m2024-05-31 13:59:49,080 \u001b[0m\u001b[mgym                            \u001b[0m\u001b[mINFO       \u001b[0m\u001b[33m<1980.00> \u001b[0m\u001b[mSatellites requiring retasking: ['Scanner-1_4827225424']\u001b[0m\n"
     ]
    },
    {
     "name": "stderr",
     "output_type": "stream",
     "text": [
      "\u001b[90;3m2024-05-31 13:59:49,080 \u001b[0m\u001b[mgym                            \u001b[0m\u001b[mINFO       \u001b[0m\u001b[33m<1980.00> \u001b[0m\u001b[mStep reward: 0.0\u001b[0m\n"
     ]
    },
    {
     "name": "stderr",
     "output_type": "stream",
     "text": [
      "\u001b[90;3m2024-05-31 13:59:49,081 \u001b[0m\u001b[mgym                            \u001b[0m\u001b[mINFO       \u001b[0m\u001b[33m<1980.00> \u001b[0m\u001b[93;1m=== STARTING STEP ===\u001b[0m\n"
     ]
    },
    {
     "name": "stderr",
     "output_type": "stream",
     "text": [
      "\u001b[90;3m2024-05-31 13:59:49,081 \u001b[0m\u001b[36msats.satellite.Scanner-1       \u001b[0m\u001b[mINFO       \u001b[0m\u001b[33m<1980.00> \u001b[0m\u001b[36mScanner-1: \u001b[0m\u001b[maction_charge tasked for 180.0 seconds\u001b[0m\n"
     ]
    },
    {
     "name": "stderr",
     "output_type": "stream",
     "text": [
      "\u001b[90;3m2024-05-31 13:59:49,081 \u001b[0m\u001b[36msats.satellite.Scanner-1       \u001b[0m\u001b[mINFO       \u001b[0m\u001b[33m<1980.00> \u001b[0m\u001b[36mScanner-1: \u001b[0m\u001b[msetting timed terminal event at 2160.0\u001b[0m\n"
     ]
    },
    {
     "name": "stderr",
     "output_type": "stream",
     "text": [
      "\u001b[90;3m2024-05-31 13:59:49,081 \u001b[0m\u001b[msim.simulator                  \u001b[0m\u001b[mINFO       \u001b[0m\u001b[33m<1980.00> \u001b[0m\u001b[mRunning simulation at most to 17100.00 seconds\u001b[0m\n"
     ]
    },
    {
     "name": "stderr",
     "output_type": "stream",
     "text": [
      "\u001b[90;3m2024-05-31 13:59:49,092 \u001b[0m\u001b[36msats.satellite.Scanner-1       \u001b[0m\u001b[mINFO       \u001b[0m\u001b[33m<2160.00> \u001b[0m\u001b[36mScanner-1: \u001b[0m\u001b[mtimed termination at 2160.0 for action_charge\u001b[0m\n"
     ]
    },
    {
     "name": "stderr",
     "output_type": "stream",
     "text": [
      "\u001b[90;3m2024-05-31 13:59:49,092 \u001b[0m\u001b[mdata.base                      \u001b[0m\u001b[mINFO       \u001b[0m\u001b[33m<2160.00> \u001b[0m\u001b[mData reward: {'Scanner-1_4827225424': 0.0}\u001b[0m\n"
     ]
    },
    {
     "name": "stderr",
     "output_type": "stream",
     "text": [
      "\u001b[90;3m2024-05-31 13:59:49,093 \u001b[0m\u001b[mgym                            \u001b[0m\u001b[mINFO       \u001b[0m\u001b[33m<2160.00> \u001b[0m\u001b[mSatellites requiring retasking: ['Scanner-1_4827225424']\u001b[0m\n"
     ]
    },
    {
     "name": "stderr",
     "output_type": "stream",
     "text": [
      "\u001b[90;3m2024-05-31 13:59:49,093 \u001b[0m\u001b[mgym                            \u001b[0m\u001b[mINFO       \u001b[0m\u001b[33m<2160.00> \u001b[0m\u001b[mStep reward: 0.0\u001b[0m\n"
     ]
    },
    {
     "name": "stderr",
     "output_type": "stream",
     "text": [
      "\u001b[90;3m2024-05-31 13:59:49,094 \u001b[0m\u001b[mgym                            \u001b[0m\u001b[mINFO       \u001b[0m\u001b[33m<2160.00> \u001b[0m\u001b[93;1m=== STARTING STEP ===\u001b[0m\n"
     ]
    },
    {
     "name": "stderr",
     "output_type": "stream",
     "text": [
      "\u001b[90;3m2024-05-31 13:59:49,094 \u001b[0m\u001b[36msats.satellite.Scanner-1       \u001b[0m\u001b[mINFO       \u001b[0m\u001b[33m<2160.00> \u001b[0m\u001b[36mScanner-1: \u001b[0m\u001b[maction_nadir_scan tasked for 180.0 seconds\u001b[0m\n"
     ]
    },
    {
     "name": "stderr",
     "output_type": "stream",
     "text": [
      "\u001b[90;3m2024-05-31 13:59:49,094 \u001b[0m\u001b[36msats.satellite.Scanner-1       \u001b[0m\u001b[mINFO       \u001b[0m\u001b[33m<2160.00> \u001b[0m\u001b[36mScanner-1: \u001b[0m\u001b[msetting timed terminal event at 2340.0\u001b[0m\n"
     ]
    },
    {
     "name": "stderr",
     "output_type": "stream",
     "text": [
      "\u001b[90;3m2024-05-31 13:59:49,094 \u001b[0m\u001b[msim.simulator                  \u001b[0m\u001b[mINFO       \u001b[0m\u001b[33m<2160.00> \u001b[0m\u001b[mRunning simulation at most to 17100.00 seconds\u001b[0m\n"
     ]
    },
    {
     "name": "stderr",
     "output_type": "stream",
     "text": [
      "\u001b[90;3m2024-05-31 13:59:49,105 \u001b[0m\u001b[36msats.satellite.Scanner-1       \u001b[0m\u001b[mINFO       \u001b[0m\u001b[33m<2340.00> \u001b[0m\u001b[36mScanner-1: \u001b[0m\u001b[mtimed termination at 2340.0 for action_nadir_scan\u001b[0m\n"
     ]
    },
    {
     "name": "stderr",
     "output_type": "stream",
     "text": [
      "\u001b[90;3m2024-05-31 13:59:49,105 \u001b[0m\u001b[mdata.base                      \u001b[0m\u001b[mINFO       \u001b[0m\u001b[33m<2340.00> \u001b[0m\u001b[mData reward: {'Scanner-1_4827225424': 0.010526315789473684}\u001b[0m\n"
     ]
    },
    {
     "name": "stderr",
     "output_type": "stream",
     "text": [
      "\u001b[90;3m2024-05-31 13:59:49,106 \u001b[0m\u001b[mgym                            \u001b[0m\u001b[mINFO       \u001b[0m\u001b[33m<2340.00> \u001b[0m\u001b[mSatellites requiring retasking: ['Scanner-1_4827225424']\u001b[0m\n"
     ]
    },
    {
     "name": "stderr",
     "output_type": "stream",
     "text": [
      "\u001b[90;3m2024-05-31 13:59:49,106 \u001b[0m\u001b[mgym                            \u001b[0m\u001b[mINFO       \u001b[0m\u001b[33m<2340.00> \u001b[0m\u001b[mStep reward: 0.010526315789473684\u001b[0m\n"
     ]
    },
    {
     "name": "stderr",
     "output_type": "stream",
     "text": [
      "\u001b[90;3m2024-05-31 13:59:49,106 \u001b[0m\u001b[mgym                            \u001b[0m\u001b[mINFO       \u001b[0m\u001b[33m<2340.00> \u001b[0m\u001b[93;1m=== STARTING STEP ===\u001b[0m\n"
     ]
    },
    {
     "name": "stderr",
     "output_type": "stream",
     "text": [
      "\u001b[90;3m2024-05-31 13:59:49,107 \u001b[0m\u001b[36msats.satellite.Scanner-1       \u001b[0m\u001b[mINFO       \u001b[0m\u001b[33m<2340.00> \u001b[0m\u001b[36mScanner-1: \u001b[0m\u001b[maction_downlink tasked for 60.0 seconds\u001b[0m\n"
     ]
    },
    {
     "name": "stderr",
     "output_type": "stream",
     "text": [
      "\u001b[90;3m2024-05-31 13:59:49,107 \u001b[0m\u001b[36msats.satellite.Scanner-1       \u001b[0m\u001b[mINFO       \u001b[0m\u001b[33m<2340.00> \u001b[0m\u001b[36mScanner-1: \u001b[0m\u001b[msetting timed terminal event at 2400.0\u001b[0m\n"
     ]
    },
    {
     "name": "stderr",
     "output_type": "stream",
     "text": [
      "\u001b[90;3m2024-05-31 13:59:49,107 \u001b[0m\u001b[msim.simulator                  \u001b[0m\u001b[mINFO       \u001b[0m\u001b[33m<2340.00> \u001b[0m\u001b[mRunning simulation at most to 17100.00 seconds\u001b[0m\n"
     ]
    },
    {
     "name": "stderr",
     "output_type": "stream",
     "text": [
      "\u001b[90;3m2024-05-31 13:59:49,111 \u001b[0m\u001b[36msats.satellite.Scanner-1       \u001b[0m\u001b[mINFO       \u001b[0m\u001b[33m<2400.00> \u001b[0m\u001b[36mScanner-1: \u001b[0m\u001b[mtimed termination at 2400.0 for action_downlink\u001b[0m\n"
     ]
    },
    {
     "name": "stderr",
     "output_type": "stream",
     "text": [
      "\u001b[90;3m2024-05-31 13:59:49,111 \u001b[0m\u001b[mdata.base                      \u001b[0m\u001b[mINFO       \u001b[0m\u001b[33m<2400.00> \u001b[0m\u001b[mData reward: {'Scanner-1_4827225424': 0.0}\u001b[0m\n"
     ]
    },
    {
     "name": "stderr",
     "output_type": "stream",
     "text": [
      "\u001b[90;3m2024-05-31 13:59:49,112 \u001b[0m\u001b[mgym                            \u001b[0m\u001b[mINFO       \u001b[0m\u001b[33m<2400.00> \u001b[0m\u001b[mSatellites requiring retasking: ['Scanner-1_4827225424']\u001b[0m\n"
     ]
    },
    {
     "name": "stderr",
     "output_type": "stream",
     "text": [
      "\u001b[90;3m2024-05-31 13:59:49,112 \u001b[0m\u001b[mgym                            \u001b[0m\u001b[mINFO       \u001b[0m\u001b[33m<2400.00> \u001b[0m\u001b[mStep reward: 0.0\u001b[0m\n"
     ]
    },
    {
     "name": "stderr",
     "output_type": "stream",
     "text": [
      "\u001b[90;3m2024-05-31 13:59:49,113 \u001b[0m\u001b[mgym                            \u001b[0m\u001b[mINFO       \u001b[0m\u001b[33m<2400.00> \u001b[0m\u001b[93;1m=== STARTING STEP ===\u001b[0m\n"
     ]
    },
    {
     "name": "stderr",
     "output_type": "stream",
     "text": [
      "\u001b[90;3m2024-05-31 13:59:49,113 \u001b[0m\u001b[36msats.satellite.Scanner-1       \u001b[0m\u001b[mINFO       \u001b[0m\u001b[33m<2400.00> \u001b[0m\u001b[36mScanner-1: \u001b[0m\u001b[maction_downlink tasked for 60.0 seconds\u001b[0m\n"
     ]
    },
    {
     "name": "stderr",
     "output_type": "stream",
     "text": [
      "\u001b[90;3m2024-05-31 13:59:49,113 \u001b[0m\u001b[36msats.satellite.Scanner-1       \u001b[0m\u001b[mINFO       \u001b[0m\u001b[33m<2400.00> \u001b[0m\u001b[36mScanner-1: \u001b[0m\u001b[msetting timed terminal event at 2460.0\u001b[0m\n"
     ]
    },
    {
     "name": "stderr",
     "output_type": "stream",
     "text": [
      "\u001b[90;3m2024-05-31 13:59:49,113 \u001b[0m\u001b[msim.simulator                  \u001b[0m\u001b[mINFO       \u001b[0m\u001b[33m<2400.00> \u001b[0m\u001b[mRunning simulation at most to 17100.00 seconds\u001b[0m\n"
     ]
    },
    {
     "name": "stderr",
     "output_type": "stream",
     "text": [
      "\u001b[90;3m2024-05-31 13:59:49,117 \u001b[0m\u001b[36msats.satellite.Scanner-1       \u001b[0m\u001b[mINFO       \u001b[0m\u001b[33m<2460.00> \u001b[0m\u001b[36mScanner-1: \u001b[0m\u001b[mtimed termination at 2460.0 for action_downlink\u001b[0m\n"
     ]
    },
    {
     "name": "stderr",
     "output_type": "stream",
     "text": [
      "\u001b[90;3m2024-05-31 13:59:49,117 \u001b[0m\u001b[mdata.base                      \u001b[0m\u001b[mINFO       \u001b[0m\u001b[33m<2460.00> \u001b[0m\u001b[mData reward: {'Scanner-1_4827225424': 0.0}\u001b[0m\n"
     ]
    },
    {
     "name": "stderr",
     "output_type": "stream",
     "text": [
      "\u001b[90;3m2024-05-31 13:59:49,118 \u001b[0m\u001b[mgym                            \u001b[0m\u001b[mINFO       \u001b[0m\u001b[33m<2460.00> \u001b[0m\u001b[mSatellites requiring retasking: ['Scanner-1_4827225424']\u001b[0m\n"
     ]
    },
    {
     "name": "stderr",
     "output_type": "stream",
     "text": [
      "\u001b[90;3m2024-05-31 13:59:49,118 \u001b[0m\u001b[mgym                            \u001b[0m\u001b[mINFO       \u001b[0m\u001b[33m<2460.00> \u001b[0m\u001b[mStep reward: 0.0\u001b[0m\n"
     ]
    },
    {
     "name": "stderr",
     "output_type": "stream",
     "text": [
      "\u001b[90;3m2024-05-31 13:59:49,119 \u001b[0m\u001b[mgym                            \u001b[0m\u001b[mINFO       \u001b[0m\u001b[33m<2460.00> \u001b[0m\u001b[93;1m=== STARTING STEP ===\u001b[0m\n"
     ]
    },
    {
     "name": "stderr",
     "output_type": "stream",
     "text": [
      "\u001b[90;3m2024-05-31 13:59:49,119 \u001b[0m\u001b[36msats.satellite.Scanner-1       \u001b[0m\u001b[mINFO       \u001b[0m\u001b[33m<2460.00> \u001b[0m\u001b[36mScanner-1: \u001b[0m\u001b[maction_downlink tasked for 60.0 seconds\u001b[0m\n"
     ]
    },
    {
     "name": "stderr",
     "output_type": "stream",
     "text": [
      "\u001b[90;3m2024-05-31 13:59:49,119 \u001b[0m\u001b[36msats.satellite.Scanner-1       \u001b[0m\u001b[mINFO       \u001b[0m\u001b[33m<2460.00> \u001b[0m\u001b[36mScanner-1: \u001b[0m\u001b[msetting timed terminal event at 2520.0\u001b[0m\n"
     ]
    },
    {
     "name": "stderr",
     "output_type": "stream",
     "text": [
      "\u001b[90;3m2024-05-31 13:59:49,119 \u001b[0m\u001b[msim.simulator                  \u001b[0m\u001b[mINFO       \u001b[0m\u001b[33m<2460.00> \u001b[0m\u001b[mRunning simulation at most to 17100.00 seconds\u001b[0m\n"
     ]
    },
    {
     "name": "stderr",
     "output_type": "stream",
     "text": [
      "\u001b[90;3m2024-05-31 13:59:49,123 \u001b[0m\u001b[36msats.satellite.Scanner-1       \u001b[0m\u001b[mINFO       \u001b[0m\u001b[33m<2520.00> \u001b[0m\u001b[36mScanner-1: \u001b[0m\u001b[mtimed termination at 2520.0 for action_downlink\u001b[0m\n"
     ]
    },
    {
     "name": "stderr",
     "output_type": "stream",
     "text": [
      "\u001b[90;3m2024-05-31 13:59:49,123 \u001b[0m\u001b[mdata.base                      \u001b[0m\u001b[mINFO       \u001b[0m\u001b[33m<2520.00> \u001b[0m\u001b[mData reward: {'Scanner-1_4827225424': 0.0}\u001b[0m\n"
     ]
    },
    {
     "name": "stderr",
     "output_type": "stream",
     "text": [
      "\u001b[90;3m2024-05-31 13:59:49,124 \u001b[0m\u001b[mgym                            \u001b[0m\u001b[mINFO       \u001b[0m\u001b[33m<2520.00> \u001b[0m\u001b[mSatellites requiring retasking: ['Scanner-1_4827225424']\u001b[0m\n"
     ]
    },
    {
     "name": "stderr",
     "output_type": "stream",
     "text": [
      "\u001b[90;3m2024-05-31 13:59:49,124 \u001b[0m\u001b[mgym                            \u001b[0m\u001b[mINFO       \u001b[0m\u001b[33m<2520.00> \u001b[0m\u001b[mStep reward: 0.0\u001b[0m\n"
     ]
    },
    {
     "name": "stderr",
     "output_type": "stream",
     "text": [
      "\u001b[90;3m2024-05-31 13:59:49,124 \u001b[0m\u001b[mgym                            \u001b[0m\u001b[mINFO       \u001b[0m\u001b[33m<2520.00> \u001b[0m\u001b[93;1m=== STARTING STEP ===\u001b[0m\n"
     ]
    },
    {
     "name": "stderr",
     "output_type": "stream",
     "text": [
      "\u001b[90;3m2024-05-31 13:59:49,125 \u001b[0m\u001b[36msats.satellite.Scanner-1       \u001b[0m\u001b[mINFO       \u001b[0m\u001b[33m<2520.00> \u001b[0m\u001b[36mScanner-1: \u001b[0m\u001b[maction_nadir_scan tasked for 180.0 seconds\u001b[0m\n"
     ]
    },
    {
     "name": "stderr",
     "output_type": "stream",
     "text": [
      "\u001b[90;3m2024-05-31 13:59:49,125 \u001b[0m\u001b[36msats.satellite.Scanner-1       \u001b[0m\u001b[mINFO       \u001b[0m\u001b[33m<2520.00> \u001b[0m\u001b[36mScanner-1: \u001b[0m\u001b[msetting timed terminal event at 2700.0\u001b[0m\n"
     ]
    },
    {
     "name": "stderr",
     "output_type": "stream",
     "text": [
      "\u001b[90;3m2024-05-31 13:59:49,125 \u001b[0m\u001b[msim.simulator                  \u001b[0m\u001b[mINFO       \u001b[0m\u001b[33m<2520.00> \u001b[0m\u001b[mRunning simulation at most to 17100.00 seconds\u001b[0m\n"
     ]
    },
    {
     "name": "stderr",
     "output_type": "stream",
     "text": [
      "\u001b[90;3m2024-05-31 13:59:49,136 \u001b[0m\u001b[36msats.satellite.Scanner-1       \u001b[0m\u001b[mINFO       \u001b[0m\u001b[33m<2700.00> \u001b[0m\u001b[36mScanner-1: \u001b[0m\u001b[mtimed termination at 2700.0 for action_nadir_scan\u001b[0m\n"
     ]
    },
    {
     "name": "stderr",
     "output_type": "stream",
     "text": [
      "\u001b[90;3m2024-05-31 13:59:49,136 \u001b[0m\u001b[mdata.base                      \u001b[0m\u001b[mINFO       \u001b[0m\u001b[33m<2700.00> \u001b[0m\u001b[mData reward: {'Scanner-1_4827225424': 0.00824561403508772}\u001b[0m\n"
     ]
    },
    {
     "name": "stderr",
     "output_type": "stream",
     "text": [
      "\u001b[90;3m2024-05-31 13:59:49,137 \u001b[0m\u001b[mgym                            \u001b[0m\u001b[mINFO       \u001b[0m\u001b[33m<2700.00> \u001b[0m\u001b[mSatellites requiring retasking: ['Scanner-1_4827225424']\u001b[0m\n"
     ]
    },
    {
     "name": "stderr",
     "output_type": "stream",
     "text": [
      "\u001b[90;3m2024-05-31 13:59:49,137 \u001b[0m\u001b[mgym                            \u001b[0m\u001b[mINFO       \u001b[0m\u001b[33m<2700.00> \u001b[0m\u001b[mStep reward: 0.00824561403508772\u001b[0m\n"
     ]
    },
    {
     "name": "stderr",
     "output_type": "stream",
     "text": [
      "\u001b[90;3m2024-05-31 13:59:49,137 \u001b[0m\u001b[mgym                            \u001b[0m\u001b[mINFO       \u001b[0m\u001b[33m<2700.00> \u001b[0m\u001b[93;1m=== STARTING STEP ===\u001b[0m\n"
     ]
    },
    {
     "name": "stderr",
     "output_type": "stream",
     "text": [
      "\u001b[90;3m2024-05-31 13:59:49,138 \u001b[0m\u001b[36msats.satellite.Scanner-1       \u001b[0m\u001b[mINFO       \u001b[0m\u001b[33m<2700.00> \u001b[0m\u001b[36mScanner-1: \u001b[0m\u001b[maction_nadir_scan tasked for 180.0 seconds\u001b[0m\n"
     ]
    },
    {
     "name": "stderr",
     "output_type": "stream",
     "text": [
      "\u001b[90;3m2024-05-31 13:59:49,138 \u001b[0m\u001b[36msats.satellite.Scanner-1       \u001b[0m\u001b[mINFO       \u001b[0m\u001b[33m<2700.00> \u001b[0m\u001b[36mScanner-1: \u001b[0m\u001b[msetting timed terminal event at 2880.0\u001b[0m\n"
     ]
    },
    {
     "name": "stderr",
     "output_type": "stream",
     "text": [
      "\u001b[90;3m2024-05-31 13:59:49,138 \u001b[0m\u001b[msim.simulator                  \u001b[0m\u001b[mINFO       \u001b[0m\u001b[33m<2700.00> \u001b[0m\u001b[mRunning simulation at most to 17100.00 seconds\u001b[0m\n"
     ]
    },
    {
     "name": "stderr",
     "output_type": "stream",
     "text": [
      "\u001b[90;3m2024-05-31 13:59:49,149 \u001b[0m\u001b[36msats.satellite.Scanner-1       \u001b[0m\u001b[mINFO       \u001b[0m\u001b[33m<2880.00> \u001b[0m\u001b[36mScanner-1: \u001b[0m\u001b[mtimed termination at 2880.0 for action_nadir_scan\u001b[0m\n"
     ]
    },
    {
     "name": "stderr",
     "output_type": "stream",
     "text": [
      "\u001b[90;3m2024-05-31 13:59:49,149 \u001b[0m\u001b[mdata.base                      \u001b[0m\u001b[mINFO       \u001b[0m\u001b[33m<2880.00> \u001b[0m\u001b[mData reward: {'Scanner-1_4827225424': 0.010526315789473684}\u001b[0m\n"
     ]
    },
    {
     "name": "stderr",
     "output_type": "stream",
     "text": [
      "\u001b[90;3m2024-05-31 13:59:49,150 \u001b[0m\u001b[mgym                            \u001b[0m\u001b[mINFO       \u001b[0m\u001b[33m<2880.00> \u001b[0m\u001b[mSatellites requiring retasking: ['Scanner-1_4827225424']\u001b[0m\n"
     ]
    },
    {
     "name": "stderr",
     "output_type": "stream",
     "text": [
      "\u001b[90;3m2024-05-31 13:59:49,150 \u001b[0m\u001b[mgym                            \u001b[0m\u001b[mINFO       \u001b[0m\u001b[33m<2880.00> \u001b[0m\u001b[mStep reward: 0.010526315789473684\u001b[0m\n"
     ]
    },
    {
     "name": "stderr",
     "output_type": "stream",
     "text": [
      "\u001b[90;3m2024-05-31 13:59:49,151 \u001b[0m\u001b[mgym                            \u001b[0m\u001b[mINFO       \u001b[0m\u001b[33m<2880.00> \u001b[0m\u001b[93;1m=== STARTING STEP ===\u001b[0m\n"
     ]
    },
    {
     "name": "stderr",
     "output_type": "stream",
     "text": [
      "\u001b[90;3m2024-05-31 13:59:49,151 \u001b[0m\u001b[36msats.satellite.Scanner-1       \u001b[0m\u001b[mINFO       \u001b[0m\u001b[33m<2880.00> \u001b[0m\u001b[36mScanner-1: \u001b[0m\u001b[maction_charge tasked for 180.0 seconds\u001b[0m\n"
     ]
    },
    {
     "name": "stderr",
     "output_type": "stream",
     "text": [
      "\u001b[90;3m2024-05-31 13:59:49,151 \u001b[0m\u001b[36msats.satellite.Scanner-1       \u001b[0m\u001b[mINFO       \u001b[0m\u001b[33m<2880.00> \u001b[0m\u001b[36mScanner-1: \u001b[0m\u001b[msetting timed terminal event at 3060.0\u001b[0m\n"
     ]
    },
    {
     "name": "stderr",
     "output_type": "stream",
     "text": [
      "\u001b[90;3m2024-05-31 13:59:49,152 \u001b[0m\u001b[msim.simulator                  \u001b[0m\u001b[mINFO       \u001b[0m\u001b[33m<2880.00> \u001b[0m\u001b[mRunning simulation at most to 17100.00 seconds\u001b[0m\n"
     ]
    },
    {
     "name": "stderr",
     "output_type": "stream",
     "text": [
      "\u001b[90;3m2024-05-31 13:59:49,162 \u001b[0m\u001b[36msats.satellite.Scanner-1       \u001b[0m\u001b[mINFO       \u001b[0m\u001b[33m<3060.00> \u001b[0m\u001b[36mScanner-1: \u001b[0m\u001b[mtimed termination at 3060.0 for action_charge\u001b[0m\n"
     ]
    },
    {
     "name": "stderr",
     "output_type": "stream",
     "text": [
      "\u001b[90;3m2024-05-31 13:59:49,163 \u001b[0m\u001b[mdata.base                      \u001b[0m\u001b[mINFO       \u001b[0m\u001b[33m<3060.00> \u001b[0m\u001b[mData reward: {'Scanner-1_4827225424': 0.0}\u001b[0m\n"
     ]
    },
    {
     "name": "stderr",
     "output_type": "stream",
     "text": [
      "\u001b[90;3m2024-05-31 13:59:49,164 \u001b[0m\u001b[mgym                            \u001b[0m\u001b[mINFO       \u001b[0m\u001b[33m<3060.00> \u001b[0m\u001b[mSatellites requiring retasking: ['Scanner-1_4827225424']\u001b[0m\n"
     ]
    },
    {
     "name": "stderr",
     "output_type": "stream",
     "text": [
      "\u001b[90;3m2024-05-31 13:59:49,164 \u001b[0m\u001b[mgym                            \u001b[0m\u001b[mINFO       \u001b[0m\u001b[33m<3060.00> \u001b[0m\u001b[mStep reward: 0.0\u001b[0m\n"
     ]
    },
    {
     "name": "stderr",
     "output_type": "stream",
     "text": [
      "\u001b[90;3m2024-05-31 13:59:49,164 \u001b[0m\u001b[mgym                            \u001b[0m\u001b[mINFO       \u001b[0m\u001b[33m<3060.00> \u001b[0m\u001b[93;1m=== STARTING STEP ===\u001b[0m\n"
     ]
    },
    {
     "name": "stderr",
     "output_type": "stream",
     "text": [
      "\u001b[90;3m2024-05-31 13:59:49,165 \u001b[0m\u001b[36msats.satellite.Scanner-1       \u001b[0m\u001b[mINFO       \u001b[0m\u001b[33m<3060.00> \u001b[0m\u001b[36mScanner-1: \u001b[0m\u001b[maction_downlink tasked for 60.0 seconds\u001b[0m\n"
     ]
    },
    {
     "name": "stderr",
     "output_type": "stream",
     "text": [
      "\u001b[90;3m2024-05-31 13:59:49,165 \u001b[0m\u001b[36msats.satellite.Scanner-1       \u001b[0m\u001b[mINFO       \u001b[0m\u001b[33m<3060.00> \u001b[0m\u001b[36mScanner-1: \u001b[0m\u001b[msetting timed terminal event at 3120.0\u001b[0m\n"
     ]
    },
    {
     "name": "stderr",
     "output_type": "stream",
     "text": [
      "\u001b[90;3m2024-05-31 13:59:49,165 \u001b[0m\u001b[msim.simulator                  \u001b[0m\u001b[mINFO       \u001b[0m\u001b[33m<3060.00> \u001b[0m\u001b[mRunning simulation at most to 17100.00 seconds\u001b[0m\n"
     ]
    },
    {
     "name": "stderr",
     "output_type": "stream",
     "text": [
      "\u001b[90;3m2024-05-31 13:59:49,169 \u001b[0m\u001b[36msats.satellite.Scanner-1       \u001b[0m\u001b[mINFO       \u001b[0m\u001b[33m<3120.00> \u001b[0m\u001b[36mScanner-1: \u001b[0m\u001b[mtimed termination at 3120.0 for action_downlink\u001b[0m\n"
     ]
    },
    {
     "name": "stderr",
     "output_type": "stream",
     "text": [
      "\u001b[90;3m2024-05-31 13:59:49,169 \u001b[0m\u001b[mdata.base                      \u001b[0m\u001b[mINFO       \u001b[0m\u001b[33m<3120.00> \u001b[0m\u001b[mData reward: {'Scanner-1_4827225424': 0.0}\u001b[0m\n"
     ]
    },
    {
     "name": "stderr",
     "output_type": "stream",
     "text": [
      "\u001b[90;3m2024-05-31 13:59:49,170 \u001b[0m\u001b[mgym                            \u001b[0m\u001b[mINFO       \u001b[0m\u001b[33m<3120.00> \u001b[0m\u001b[mSatellites requiring retasking: ['Scanner-1_4827225424']\u001b[0m\n"
     ]
    },
    {
     "name": "stderr",
     "output_type": "stream",
     "text": [
      "\u001b[90;3m2024-05-31 13:59:49,170 \u001b[0m\u001b[mgym                            \u001b[0m\u001b[mINFO       \u001b[0m\u001b[33m<3120.00> \u001b[0m\u001b[mStep reward: 0.0\u001b[0m\n"
     ]
    },
    {
     "name": "stderr",
     "output_type": "stream",
     "text": [
      "\u001b[90;3m2024-05-31 13:59:49,171 \u001b[0m\u001b[mgym                            \u001b[0m\u001b[mINFO       \u001b[0m\u001b[33m<3120.00> \u001b[0m\u001b[93;1m=== STARTING STEP ===\u001b[0m\n"
     ]
    },
    {
     "name": "stderr",
     "output_type": "stream",
     "text": [
      "\u001b[90;3m2024-05-31 13:59:49,171 \u001b[0m\u001b[36msats.satellite.Scanner-1       \u001b[0m\u001b[mINFO       \u001b[0m\u001b[33m<3120.00> \u001b[0m\u001b[36mScanner-1: \u001b[0m\u001b[maction_nadir_scan tasked for 180.0 seconds\u001b[0m\n"
     ]
    },
    {
     "name": "stderr",
     "output_type": "stream",
     "text": [
      "\u001b[90;3m2024-05-31 13:59:49,171 \u001b[0m\u001b[36msats.satellite.Scanner-1       \u001b[0m\u001b[mINFO       \u001b[0m\u001b[33m<3120.00> \u001b[0m\u001b[36mScanner-1: \u001b[0m\u001b[msetting timed terminal event at 3300.0\u001b[0m\n"
     ]
    },
    {
     "name": "stderr",
     "output_type": "stream",
     "text": [
      "\u001b[90;3m2024-05-31 13:59:49,171 \u001b[0m\u001b[msim.simulator                  \u001b[0m\u001b[mINFO       \u001b[0m\u001b[33m<3120.00> \u001b[0m\u001b[mRunning simulation at most to 17100.00 seconds\u001b[0m\n"
     ]
    },
    {
     "name": "stderr",
     "output_type": "stream",
     "text": [
      "\u001b[90;3m2024-05-31 13:59:49,182 \u001b[0m\u001b[36msats.satellite.Scanner-1       \u001b[0m\u001b[mINFO       \u001b[0m\u001b[33m<3300.00> \u001b[0m\u001b[36mScanner-1: \u001b[0m\u001b[mtimed termination at 3300.0 for action_nadir_scan\u001b[0m\n"
     ]
    },
    {
     "name": "stderr",
     "output_type": "stream",
     "text": [
      "\u001b[90;3m2024-05-31 13:59:49,182 \u001b[0m\u001b[mdata.base                      \u001b[0m\u001b[mINFO       \u001b[0m\u001b[33m<3300.00> \u001b[0m\u001b[mData reward: {'Scanner-1_4827225424': 0.008187134502923977}\u001b[0m\n"
     ]
    },
    {
     "name": "stderr",
     "output_type": "stream",
     "text": [
      "\u001b[90;3m2024-05-31 13:59:49,183 \u001b[0m\u001b[mgym                            \u001b[0m\u001b[mINFO       \u001b[0m\u001b[33m<3300.00> \u001b[0m\u001b[mSatellites requiring retasking: ['Scanner-1_4827225424']\u001b[0m\n"
     ]
    },
    {
     "name": "stderr",
     "output_type": "stream",
     "text": [
      "\u001b[90;3m2024-05-31 13:59:49,183 \u001b[0m\u001b[mgym                            \u001b[0m\u001b[mINFO       \u001b[0m\u001b[33m<3300.00> \u001b[0m\u001b[mStep reward: 0.008187134502923977\u001b[0m\n"
     ]
    },
    {
     "name": "stderr",
     "output_type": "stream",
     "text": [
      "\u001b[90;3m2024-05-31 13:59:49,184 \u001b[0m\u001b[mgym                            \u001b[0m\u001b[mINFO       \u001b[0m\u001b[33m<3300.00> \u001b[0m\u001b[93;1m=== STARTING STEP ===\u001b[0m\n"
     ]
    },
    {
     "name": "stderr",
     "output_type": "stream",
     "text": [
      "\u001b[90;3m2024-05-31 13:59:49,184 \u001b[0m\u001b[36msats.satellite.Scanner-1       \u001b[0m\u001b[mINFO       \u001b[0m\u001b[33m<3300.00> \u001b[0m\u001b[36mScanner-1: \u001b[0m\u001b[maction_desat tasked for 60.0 seconds\u001b[0m\n"
     ]
    },
    {
     "name": "stderr",
     "output_type": "stream",
     "text": [
      "\u001b[90;3m2024-05-31 13:59:49,184 \u001b[0m\u001b[36msats.satellite.Scanner-1       \u001b[0m\u001b[mINFO       \u001b[0m\u001b[33m<3300.00> \u001b[0m\u001b[36mScanner-1: \u001b[0m\u001b[msetting timed terminal event at 3360.0\u001b[0m\n"
     ]
    },
    {
     "name": "stderr",
     "output_type": "stream",
     "text": [
      "\u001b[90;3m2024-05-31 13:59:49,185 \u001b[0m\u001b[msim.simulator                  \u001b[0m\u001b[mINFO       \u001b[0m\u001b[33m<3300.00> \u001b[0m\u001b[mRunning simulation at most to 17100.00 seconds\u001b[0m\n"
     ]
    },
    {
     "name": "stderr",
     "output_type": "stream",
     "text": [
      "\u001b[90;3m2024-05-31 13:59:49,188 \u001b[0m\u001b[36msats.satellite.Scanner-1       \u001b[0m\u001b[mINFO       \u001b[0m\u001b[33m<3360.00> \u001b[0m\u001b[36mScanner-1: \u001b[0m\u001b[mtimed termination at 3360.0 for action_desat\u001b[0m\n"
     ]
    },
    {
     "name": "stderr",
     "output_type": "stream",
     "text": [
      "\u001b[90;3m2024-05-31 13:59:49,189 \u001b[0m\u001b[mdata.base                      \u001b[0m\u001b[mINFO       \u001b[0m\u001b[33m<3360.00> \u001b[0m\u001b[mData reward: {'Scanner-1_4827225424': 0.0}\u001b[0m\n"
     ]
    },
    {
     "name": "stderr",
     "output_type": "stream",
     "text": [
      "\u001b[90;3m2024-05-31 13:59:49,190 \u001b[0m\u001b[mgym                            \u001b[0m\u001b[mINFO       \u001b[0m\u001b[33m<3360.00> \u001b[0m\u001b[mSatellites requiring retasking: ['Scanner-1_4827225424']\u001b[0m\n"
     ]
    },
    {
     "name": "stderr",
     "output_type": "stream",
     "text": [
      "\u001b[90;3m2024-05-31 13:59:49,190 \u001b[0m\u001b[mgym                            \u001b[0m\u001b[mINFO       \u001b[0m\u001b[33m<3360.00> \u001b[0m\u001b[mStep reward: 0.0\u001b[0m\n"
     ]
    },
    {
     "name": "stderr",
     "output_type": "stream",
     "text": [
      "\u001b[90;3m2024-05-31 13:59:49,190 \u001b[0m\u001b[mgym                            \u001b[0m\u001b[mINFO       \u001b[0m\u001b[33m<3360.00> \u001b[0m\u001b[93;1m=== STARTING STEP ===\u001b[0m\n"
     ]
    },
    {
     "name": "stderr",
     "output_type": "stream",
     "text": [
      "\u001b[90;3m2024-05-31 13:59:49,191 \u001b[0m\u001b[36msats.satellite.Scanner-1       \u001b[0m\u001b[mINFO       \u001b[0m\u001b[33m<3360.00> \u001b[0m\u001b[36mScanner-1: \u001b[0m\u001b[maction_downlink tasked for 60.0 seconds\u001b[0m\n"
     ]
    },
    {
     "name": "stderr",
     "output_type": "stream",
     "text": [
      "\u001b[90;3m2024-05-31 13:59:49,191 \u001b[0m\u001b[36msats.satellite.Scanner-1       \u001b[0m\u001b[mINFO       \u001b[0m\u001b[33m<3360.00> \u001b[0m\u001b[36mScanner-1: \u001b[0m\u001b[msetting timed terminal event at 3420.0\u001b[0m\n"
     ]
    },
    {
     "name": "stderr",
     "output_type": "stream",
     "text": [
      "\u001b[90;3m2024-05-31 13:59:49,191 \u001b[0m\u001b[msim.simulator                  \u001b[0m\u001b[mINFO       \u001b[0m\u001b[33m<3360.00> \u001b[0m\u001b[mRunning simulation at most to 17100.00 seconds\u001b[0m\n"
     ]
    },
    {
     "name": "stderr",
     "output_type": "stream",
     "text": [
      "\u001b[90;3m2024-05-31 13:59:49,195 \u001b[0m\u001b[36msats.satellite.Scanner-1       \u001b[0m\u001b[mINFO       \u001b[0m\u001b[33m<3420.00> \u001b[0m\u001b[36mScanner-1: \u001b[0m\u001b[mtimed termination at 3420.0 for action_downlink\u001b[0m\n"
     ]
    },
    {
     "name": "stderr",
     "output_type": "stream",
     "text": [
      "\u001b[90;3m2024-05-31 13:59:49,195 \u001b[0m\u001b[mdata.base                      \u001b[0m\u001b[mINFO       \u001b[0m\u001b[33m<3420.00> \u001b[0m\u001b[mData reward: {'Scanner-1_4827225424': 0.0}\u001b[0m\n"
     ]
    },
    {
     "name": "stderr",
     "output_type": "stream",
     "text": [
      "\u001b[90;3m2024-05-31 13:59:49,196 \u001b[0m\u001b[mgym                            \u001b[0m\u001b[mINFO       \u001b[0m\u001b[33m<3420.00> \u001b[0m\u001b[mSatellites requiring retasking: ['Scanner-1_4827225424']\u001b[0m\n"
     ]
    },
    {
     "name": "stderr",
     "output_type": "stream",
     "text": [
      "\u001b[90;3m2024-05-31 13:59:49,196 \u001b[0m\u001b[mgym                            \u001b[0m\u001b[mINFO       \u001b[0m\u001b[33m<3420.00> \u001b[0m\u001b[mStep reward: 0.0\u001b[0m\n"
     ]
    },
    {
     "name": "stderr",
     "output_type": "stream",
     "text": [
      "\u001b[90;3m2024-05-31 13:59:49,197 \u001b[0m\u001b[mgym                            \u001b[0m\u001b[mINFO       \u001b[0m\u001b[33m<3420.00> \u001b[0m\u001b[93;1m=== STARTING STEP ===\u001b[0m\n"
     ]
    },
    {
     "name": "stderr",
     "output_type": "stream",
     "text": [
      "\u001b[90;3m2024-05-31 13:59:49,197 \u001b[0m\u001b[36msats.satellite.Scanner-1       \u001b[0m\u001b[mINFO       \u001b[0m\u001b[33m<3420.00> \u001b[0m\u001b[36mScanner-1: \u001b[0m\u001b[maction_downlink tasked for 60.0 seconds\u001b[0m\n"
     ]
    },
    {
     "name": "stderr",
     "output_type": "stream",
     "text": [
      "\u001b[90;3m2024-05-31 13:59:49,197 \u001b[0m\u001b[36msats.satellite.Scanner-1       \u001b[0m\u001b[mINFO       \u001b[0m\u001b[33m<3420.00> \u001b[0m\u001b[36mScanner-1: \u001b[0m\u001b[msetting timed terminal event at 3480.0\u001b[0m\n"
     ]
    },
    {
     "name": "stderr",
     "output_type": "stream",
     "text": [
      "\u001b[90;3m2024-05-31 13:59:49,197 \u001b[0m\u001b[msim.simulator                  \u001b[0m\u001b[mINFO       \u001b[0m\u001b[33m<3420.00> \u001b[0m\u001b[mRunning simulation at most to 17100.00 seconds\u001b[0m\n"
     ]
    },
    {
     "name": "stderr",
     "output_type": "stream",
     "text": [
      "\u001b[90;3m2024-05-31 13:59:49,201 \u001b[0m\u001b[36msats.satellite.Scanner-1       \u001b[0m\u001b[mINFO       \u001b[0m\u001b[33m<3480.00> \u001b[0m\u001b[36mScanner-1: \u001b[0m\u001b[mtimed termination at 3480.0 for action_downlink\u001b[0m\n"
     ]
    },
    {
     "name": "stderr",
     "output_type": "stream",
     "text": [
      "\u001b[90;3m2024-05-31 13:59:49,202 \u001b[0m\u001b[mdata.base                      \u001b[0m\u001b[mINFO       \u001b[0m\u001b[33m<3480.00> \u001b[0m\u001b[mData reward: {'Scanner-1_4827225424': 0.0}\u001b[0m\n"
     ]
    },
    {
     "name": "stderr",
     "output_type": "stream",
     "text": [
      "\u001b[90;3m2024-05-31 13:59:49,203 \u001b[0m\u001b[mgym                            \u001b[0m\u001b[mINFO       \u001b[0m\u001b[33m<3480.00> \u001b[0m\u001b[mSatellites requiring retasking: ['Scanner-1_4827225424']\u001b[0m\n"
     ]
    },
    {
     "name": "stderr",
     "output_type": "stream",
     "text": [
      "\u001b[90;3m2024-05-31 13:59:49,203 \u001b[0m\u001b[mgym                            \u001b[0m\u001b[mINFO       \u001b[0m\u001b[33m<3480.00> \u001b[0m\u001b[mStep reward: 0.0\u001b[0m\n"
     ]
    },
    {
     "name": "stderr",
     "output_type": "stream",
     "text": [
      "\u001b[90;3m2024-05-31 13:59:49,203 \u001b[0m\u001b[mgym                            \u001b[0m\u001b[mINFO       \u001b[0m\u001b[33m<3480.00> \u001b[0m\u001b[93;1m=== STARTING STEP ===\u001b[0m\n"
     ]
    },
    {
     "name": "stderr",
     "output_type": "stream",
     "text": [
      "\u001b[90;3m2024-05-31 13:59:49,203 \u001b[0m\u001b[36msats.satellite.Scanner-1       \u001b[0m\u001b[mINFO       \u001b[0m\u001b[33m<3480.00> \u001b[0m\u001b[36mScanner-1: \u001b[0m\u001b[maction_nadir_scan tasked for 180.0 seconds\u001b[0m\n"
     ]
    },
    {
     "name": "stderr",
     "output_type": "stream",
     "text": [
      "\u001b[90;3m2024-05-31 13:59:49,204 \u001b[0m\u001b[36msats.satellite.Scanner-1       \u001b[0m\u001b[mINFO       \u001b[0m\u001b[33m<3480.00> \u001b[0m\u001b[36mScanner-1: \u001b[0m\u001b[msetting timed terminal event at 3660.0\u001b[0m\n"
     ]
    },
    {
     "name": "stderr",
     "output_type": "stream",
     "text": [
      "\u001b[90;3m2024-05-31 13:59:49,204 \u001b[0m\u001b[msim.simulator                  \u001b[0m\u001b[mINFO       \u001b[0m\u001b[33m<3480.00> \u001b[0m\u001b[mRunning simulation at most to 17100.00 seconds\u001b[0m\n"
     ]
    },
    {
     "name": "stderr",
     "output_type": "stream",
     "text": [
      "\u001b[90;3m2024-05-31 13:59:49,215 \u001b[0m\u001b[36msats.satellite.Scanner-1       \u001b[0m\u001b[mINFO       \u001b[0m\u001b[33m<3660.00> \u001b[0m\u001b[36mScanner-1: \u001b[0m\u001b[mtimed termination at 3660.0 for action_nadir_scan\u001b[0m\n"
     ]
    },
    {
     "name": "stderr",
     "output_type": "stream",
     "text": [
      "\u001b[90;3m2024-05-31 13:59:49,215 \u001b[0m\u001b[mdata.base                      \u001b[0m\u001b[mINFO       \u001b[0m\u001b[33m<3660.00> \u001b[0m\u001b[mData reward: {'Scanner-1_4827225424': 0.00824561403508772}\u001b[0m\n"
     ]
    },
    {
     "name": "stderr",
     "output_type": "stream",
     "text": [
      "\u001b[90;3m2024-05-31 13:59:49,216 \u001b[0m\u001b[mgym                            \u001b[0m\u001b[mINFO       \u001b[0m\u001b[33m<3660.00> \u001b[0m\u001b[mSatellites requiring retasking: ['Scanner-1_4827225424']\u001b[0m\n"
     ]
    },
    {
     "name": "stderr",
     "output_type": "stream",
     "text": [
      "\u001b[90;3m2024-05-31 13:59:49,216 \u001b[0m\u001b[mgym                            \u001b[0m\u001b[mINFO       \u001b[0m\u001b[33m<3660.00> \u001b[0m\u001b[mStep reward: 0.00824561403508772\u001b[0m\n"
     ]
    },
    {
     "name": "stderr",
     "output_type": "stream",
     "text": [
      "\u001b[90;3m2024-05-31 13:59:49,216 \u001b[0m\u001b[mgym                            \u001b[0m\u001b[mINFO       \u001b[0m\u001b[33m<3660.00> \u001b[0m\u001b[93;1m=== STARTING STEP ===\u001b[0m\n"
     ]
    },
    {
     "name": "stderr",
     "output_type": "stream",
     "text": [
      "\u001b[90;3m2024-05-31 13:59:49,217 \u001b[0m\u001b[36msats.satellite.Scanner-1       \u001b[0m\u001b[mINFO       \u001b[0m\u001b[33m<3660.00> \u001b[0m\u001b[36mScanner-1: \u001b[0m\u001b[maction_charge tasked for 180.0 seconds\u001b[0m\n"
     ]
    },
    {
     "name": "stderr",
     "output_type": "stream",
     "text": [
      "\u001b[90;3m2024-05-31 13:59:49,217 \u001b[0m\u001b[36msats.satellite.Scanner-1       \u001b[0m\u001b[mINFO       \u001b[0m\u001b[33m<3660.00> \u001b[0m\u001b[36mScanner-1: \u001b[0m\u001b[msetting timed terminal event at 3840.0\u001b[0m\n"
     ]
    },
    {
     "name": "stderr",
     "output_type": "stream",
     "text": [
      "\u001b[90;3m2024-05-31 13:59:49,217 \u001b[0m\u001b[msim.simulator                  \u001b[0m\u001b[mINFO       \u001b[0m\u001b[33m<3660.00> \u001b[0m\u001b[mRunning simulation at most to 17100.00 seconds\u001b[0m\n"
     ]
    },
    {
     "name": "stderr",
     "output_type": "stream",
     "text": [
      "\u001b[90;3m2024-05-31 13:59:49,227 \u001b[0m\u001b[36msats.satellite.Scanner-1       \u001b[0m\u001b[mINFO       \u001b[0m\u001b[33m<3840.00> \u001b[0m\u001b[36mScanner-1: \u001b[0m\u001b[mtimed termination at 3840.0 for action_charge\u001b[0m\n"
     ]
    },
    {
     "name": "stderr",
     "output_type": "stream",
     "text": [
      "\u001b[90;3m2024-05-31 13:59:49,228 \u001b[0m\u001b[mdata.base                      \u001b[0m\u001b[mINFO       \u001b[0m\u001b[33m<3840.00> \u001b[0m\u001b[mData reward: {'Scanner-1_4827225424': 0.0}\u001b[0m\n"
     ]
    },
    {
     "name": "stderr",
     "output_type": "stream",
     "text": [
      "\u001b[90;3m2024-05-31 13:59:49,228 \u001b[0m\u001b[mgym                            \u001b[0m\u001b[mINFO       \u001b[0m\u001b[33m<3840.00> \u001b[0m\u001b[mSatellites requiring retasking: ['Scanner-1_4827225424']\u001b[0m\n"
     ]
    },
    {
     "name": "stderr",
     "output_type": "stream",
     "text": [
      "\u001b[90;3m2024-05-31 13:59:49,229 \u001b[0m\u001b[mgym                            \u001b[0m\u001b[mINFO       \u001b[0m\u001b[33m<3840.00> \u001b[0m\u001b[mStep reward: 0.0\u001b[0m\n"
     ]
    },
    {
     "name": "stderr",
     "output_type": "stream",
     "text": [
      "\u001b[90;3m2024-05-31 13:59:49,229 \u001b[0m\u001b[mgym                            \u001b[0m\u001b[mINFO       \u001b[0m\u001b[33m<3840.00> \u001b[0m\u001b[93;1m=== STARTING STEP ===\u001b[0m\n"
     ]
    },
    {
     "name": "stderr",
     "output_type": "stream",
     "text": [
      "\u001b[90;3m2024-05-31 13:59:49,229 \u001b[0m\u001b[36msats.satellite.Scanner-1       \u001b[0m\u001b[mINFO       \u001b[0m\u001b[33m<3840.00> \u001b[0m\u001b[36mScanner-1: \u001b[0m\u001b[maction_downlink tasked for 60.0 seconds\u001b[0m\n"
     ]
    },
    {
     "name": "stderr",
     "output_type": "stream",
     "text": [
      "\u001b[90;3m2024-05-31 13:59:49,230 \u001b[0m\u001b[36msats.satellite.Scanner-1       \u001b[0m\u001b[mINFO       \u001b[0m\u001b[33m<3840.00> \u001b[0m\u001b[36mScanner-1: \u001b[0m\u001b[msetting timed terminal event at 3900.0\u001b[0m\n"
     ]
    },
    {
     "name": "stderr",
     "output_type": "stream",
     "text": [
      "\u001b[90;3m2024-05-31 13:59:49,230 \u001b[0m\u001b[msim.simulator                  \u001b[0m\u001b[mINFO       \u001b[0m\u001b[33m<3840.00> \u001b[0m\u001b[mRunning simulation at most to 17100.00 seconds\u001b[0m\n"
     ]
    },
    {
     "name": "stderr",
     "output_type": "stream",
     "text": [
      "\u001b[90;3m2024-05-31 13:59:49,234 \u001b[0m\u001b[36msats.satellite.Scanner-1       \u001b[0m\u001b[mINFO       \u001b[0m\u001b[33m<3900.00> \u001b[0m\u001b[36mScanner-1: \u001b[0m\u001b[mtimed termination at 3900.0 for action_downlink\u001b[0m\n"
     ]
    },
    {
     "name": "stderr",
     "output_type": "stream",
     "text": [
      "\u001b[90;3m2024-05-31 13:59:49,234 \u001b[0m\u001b[mdata.base                      \u001b[0m\u001b[mINFO       \u001b[0m\u001b[33m<3900.00> \u001b[0m\u001b[mData reward: {'Scanner-1_4827225424': 0.0}\u001b[0m\n"
     ]
    },
    {
     "name": "stderr",
     "output_type": "stream",
     "text": [
      "\u001b[90;3m2024-05-31 13:59:49,235 \u001b[0m\u001b[mgym                            \u001b[0m\u001b[mINFO       \u001b[0m\u001b[33m<3900.00> \u001b[0m\u001b[mSatellites requiring retasking: ['Scanner-1_4827225424']\u001b[0m\n"
     ]
    },
    {
     "name": "stderr",
     "output_type": "stream",
     "text": [
      "\u001b[90;3m2024-05-31 13:59:49,235 \u001b[0m\u001b[mgym                            \u001b[0m\u001b[mINFO       \u001b[0m\u001b[33m<3900.00> \u001b[0m\u001b[mStep reward: 0.0\u001b[0m\n"
     ]
    },
    {
     "name": "stderr",
     "output_type": "stream",
     "text": [
      "\u001b[90;3m2024-05-31 13:59:49,236 \u001b[0m\u001b[mgym                            \u001b[0m\u001b[mINFO       \u001b[0m\u001b[33m<3900.00> \u001b[0m\u001b[93;1m=== STARTING STEP ===\u001b[0m\n"
     ]
    },
    {
     "name": "stderr",
     "output_type": "stream",
     "text": [
      "\u001b[90;3m2024-05-31 13:59:49,236 \u001b[0m\u001b[36msats.satellite.Scanner-1       \u001b[0m\u001b[mINFO       \u001b[0m\u001b[33m<3900.00> \u001b[0m\u001b[36mScanner-1: \u001b[0m\u001b[maction_downlink tasked for 60.0 seconds\u001b[0m\n"
     ]
    },
    {
     "name": "stderr",
     "output_type": "stream",
     "text": [
      "\u001b[90;3m2024-05-31 13:59:49,236 \u001b[0m\u001b[36msats.satellite.Scanner-1       \u001b[0m\u001b[mINFO       \u001b[0m\u001b[33m<3900.00> \u001b[0m\u001b[36mScanner-1: \u001b[0m\u001b[msetting timed terminal event at 3960.0\u001b[0m\n"
     ]
    },
    {
     "name": "stderr",
     "output_type": "stream",
     "text": [
      "\u001b[90;3m2024-05-31 13:59:49,236 \u001b[0m\u001b[msim.simulator                  \u001b[0m\u001b[mINFO       \u001b[0m\u001b[33m<3900.00> \u001b[0m\u001b[mRunning simulation at most to 17100.00 seconds\u001b[0m\n"
     ]
    },
    {
     "name": "stderr",
     "output_type": "stream",
     "text": [
      "\u001b[90;3m2024-05-31 13:59:49,240 \u001b[0m\u001b[36msats.satellite.Scanner-1       \u001b[0m\u001b[mINFO       \u001b[0m\u001b[33m<3960.00> \u001b[0m\u001b[36mScanner-1: \u001b[0m\u001b[mtimed termination at 3960.0 for action_downlink\u001b[0m\n"
     ]
    },
    {
     "name": "stderr",
     "output_type": "stream",
     "text": [
      "\u001b[90;3m2024-05-31 13:59:49,241 \u001b[0m\u001b[mdata.base                      \u001b[0m\u001b[mINFO       \u001b[0m\u001b[33m<3960.00> \u001b[0m\u001b[mData reward: {'Scanner-1_4827225424': 0.0}\u001b[0m\n"
     ]
    },
    {
     "name": "stderr",
     "output_type": "stream",
     "text": [
      "\u001b[90;3m2024-05-31 13:59:49,241 \u001b[0m\u001b[mgym                            \u001b[0m\u001b[mINFO       \u001b[0m\u001b[33m<3960.00> \u001b[0m\u001b[mSatellites requiring retasking: ['Scanner-1_4827225424']\u001b[0m\n"
     ]
    },
    {
     "name": "stderr",
     "output_type": "stream",
     "text": [
      "\u001b[90;3m2024-05-31 13:59:49,242 \u001b[0m\u001b[mgym                            \u001b[0m\u001b[mINFO       \u001b[0m\u001b[33m<3960.00> \u001b[0m\u001b[mStep reward: 0.0\u001b[0m\n"
     ]
    },
    {
     "name": "stderr",
     "output_type": "stream",
     "text": [
      "\u001b[90;3m2024-05-31 13:59:49,242 \u001b[0m\u001b[mgym                            \u001b[0m\u001b[mINFO       \u001b[0m\u001b[33m<3960.00> \u001b[0m\u001b[93;1m=== STARTING STEP ===\u001b[0m\n"
     ]
    },
    {
     "name": "stderr",
     "output_type": "stream",
     "text": [
      "\u001b[90;3m2024-05-31 13:59:49,242 \u001b[0m\u001b[36msats.satellite.Scanner-1       \u001b[0m\u001b[mINFO       \u001b[0m\u001b[33m<3960.00> \u001b[0m\u001b[36mScanner-1: \u001b[0m\u001b[maction_charge tasked for 180.0 seconds\u001b[0m\n"
     ]
    },
    {
     "name": "stderr",
     "output_type": "stream",
     "text": [
      "\u001b[90;3m2024-05-31 13:59:49,242 \u001b[0m\u001b[36msats.satellite.Scanner-1       \u001b[0m\u001b[mINFO       \u001b[0m\u001b[33m<3960.00> \u001b[0m\u001b[36mScanner-1: \u001b[0m\u001b[msetting timed terminal event at 4140.0\u001b[0m\n"
     ]
    },
    {
     "name": "stderr",
     "output_type": "stream",
     "text": [
      "\u001b[90;3m2024-05-31 13:59:49,243 \u001b[0m\u001b[msim.simulator                  \u001b[0m\u001b[mINFO       \u001b[0m\u001b[33m<3960.00> \u001b[0m\u001b[mRunning simulation at most to 17100.00 seconds\u001b[0m\n"
     ]
    },
    {
     "name": "stderr",
     "output_type": "stream",
     "text": [
      "\u001b[90;3m2024-05-31 13:59:49,253 \u001b[0m\u001b[36msats.satellite.Scanner-1       \u001b[0m\u001b[mINFO       \u001b[0m\u001b[33m<4140.00> \u001b[0m\u001b[36mScanner-1: \u001b[0m\u001b[mtimed termination at 4140.0 for action_charge\u001b[0m\n"
     ]
    },
    {
     "name": "stderr",
     "output_type": "stream",
     "text": [
      "\u001b[90;3m2024-05-31 13:59:49,254 \u001b[0m\u001b[mdata.base                      \u001b[0m\u001b[mINFO       \u001b[0m\u001b[33m<4140.00> \u001b[0m\u001b[mData reward: {'Scanner-1_4827225424': 0.0}\u001b[0m\n"
     ]
    },
    {
     "name": "stderr",
     "output_type": "stream",
     "text": [
      "\u001b[90;3m2024-05-31 13:59:49,254 \u001b[0m\u001b[mgym                            \u001b[0m\u001b[mINFO       \u001b[0m\u001b[33m<4140.00> \u001b[0m\u001b[mSatellites requiring retasking: ['Scanner-1_4827225424']\u001b[0m\n"
     ]
    },
    {
     "name": "stderr",
     "output_type": "stream",
     "text": [
      "\u001b[90;3m2024-05-31 13:59:49,255 \u001b[0m\u001b[mgym                            \u001b[0m\u001b[mINFO       \u001b[0m\u001b[33m<4140.00> \u001b[0m\u001b[mStep reward: 0.0\u001b[0m\n"
     ]
    },
    {
     "name": "stderr",
     "output_type": "stream",
     "text": [
      "\u001b[90;3m2024-05-31 13:59:49,255 \u001b[0m\u001b[mgym                            \u001b[0m\u001b[mINFO       \u001b[0m\u001b[33m<4140.00> \u001b[0m\u001b[93;1m=== STARTING STEP ===\u001b[0m\n"
     ]
    },
    {
     "name": "stderr",
     "output_type": "stream",
     "text": [
      "\u001b[90;3m2024-05-31 13:59:49,255 \u001b[0m\u001b[36msats.satellite.Scanner-1       \u001b[0m\u001b[mINFO       \u001b[0m\u001b[33m<4140.00> \u001b[0m\u001b[36mScanner-1: \u001b[0m\u001b[maction_nadir_scan tasked for 180.0 seconds\u001b[0m\n"
     ]
    },
    {
     "name": "stderr",
     "output_type": "stream",
     "text": [
      "\u001b[90;3m2024-05-31 13:59:49,255 \u001b[0m\u001b[36msats.satellite.Scanner-1       \u001b[0m\u001b[mINFO       \u001b[0m\u001b[33m<4140.00> \u001b[0m\u001b[36mScanner-1: \u001b[0m\u001b[msetting timed terminal event at 4320.0\u001b[0m\n"
     ]
    },
    {
     "name": "stderr",
     "output_type": "stream",
     "text": [
      "\u001b[90;3m2024-05-31 13:59:49,256 \u001b[0m\u001b[msim.simulator                  \u001b[0m\u001b[mINFO       \u001b[0m\u001b[33m<4140.00> \u001b[0m\u001b[mRunning simulation at most to 17100.00 seconds\u001b[0m\n"
     ]
    },
    {
     "name": "stderr",
     "output_type": "stream",
     "text": [
      "\u001b[90;3m2024-05-31 13:59:49,266 \u001b[0m\u001b[36msats.satellite.Scanner-1       \u001b[0m\u001b[mINFO       \u001b[0m\u001b[33m<4320.00> \u001b[0m\u001b[36mScanner-1: \u001b[0m\u001b[mtimed termination at 4320.0 for action_nadir_scan\u001b[0m\n"
     ]
    },
    {
     "name": "stderr",
     "output_type": "stream",
     "text": [
      "\u001b[90;3m2024-05-31 13:59:49,266 \u001b[0m\u001b[mdata.base                      \u001b[0m\u001b[mINFO       \u001b[0m\u001b[33m<4320.00> \u001b[0m\u001b[mData reward: {'Scanner-1_4827225424': 0.0076608187134502926}\u001b[0m\n"
     ]
    },
    {
     "name": "stderr",
     "output_type": "stream",
     "text": [
      "\u001b[90;3m2024-05-31 13:59:49,267 \u001b[0m\u001b[mgym                            \u001b[0m\u001b[mINFO       \u001b[0m\u001b[33m<4320.00> \u001b[0m\u001b[mSatellites requiring retasking: ['Scanner-1_4827225424']\u001b[0m\n"
     ]
    },
    {
     "name": "stderr",
     "output_type": "stream",
     "text": [
      "\u001b[90;3m2024-05-31 13:59:49,267 \u001b[0m\u001b[mgym                            \u001b[0m\u001b[mINFO       \u001b[0m\u001b[33m<4320.00> \u001b[0m\u001b[mStep reward: 0.0076608187134502926\u001b[0m\n"
     ]
    },
    {
     "name": "stderr",
     "output_type": "stream",
     "text": [
      "\u001b[90;3m2024-05-31 13:59:49,268 \u001b[0m\u001b[mgym                            \u001b[0m\u001b[mINFO       \u001b[0m\u001b[33m<4320.00> \u001b[0m\u001b[93;1m=== STARTING STEP ===\u001b[0m\n"
     ]
    },
    {
     "name": "stderr",
     "output_type": "stream",
     "text": [
      "\u001b[90;3m2024-05-31 13:59:49,268 \u001b[0m\u001b[36msats.satellite.Scanner-1       \u001b[0m\u001b[mINFO       \u001b[0m\u001b[33m<4320.00> \u001b[0m\u001b[36mScanner-1: \u001b[0m\u001b[maction_nadir_scan tasked for 180.0 seconds\u001b[0m\n"
     ]
    },
    {
     "name": "stderr",
     "output_type": "stream",
     "text": [
      "\u001b[90;3m2024-05-31 13:59:49,268 \u001b[0m\u001b[36msats.satellite.Scanner-1       \u001b[0m\u001b[mINFO       \u001b[0m\u001b[33m<4320.00> \u001b[0m\u001b[36mScanner-1: \u001b[0m\u001b[msetting timed terminal event at 4500.0\u001b[0m\n"
     ]
    },
    {
     "name": "stderr",
     "output_type": "stream",
     "text": [
      "\u001b[90;3m2024-05-31 13:59:49,268 \u001b[0m\u001b[msim.simulator                  \u001b[0m\u001b[mINFO       \u001b[0m\u001b[33m<4320.00> \u001b[0m\u001b[mRunning simulation at most to 17100.00 seconds\u001b[0m\n"
     ]
    },
    {
     "name": "stderr",
     "output_type": "stream",
     "text": [
      "\u001b[90;3m2024-05-31 13:59:49,279 \u001b[0m\u001b[36msats.satellite.Scanner-1       \u001b[0m\u001b[mINFO       \u001b[0m\u001b[33m<4500.00> \u001b[0m\u001b[36mScanner-1: \u001b[0m\u001b[mtimed termination at 4500.0 for action_nadir_scan\u001b[0m\n"
     ]
    },
    {
     "name": "stderr",
     "output_type": "stream",
     "text": [
      "\u001b[90;3m2024-05-31 13:59:49,279 \u001b[0m\u001b[mdata.base                      \u001b[0m\u001b[mINFO       \u001b[0m\u001b[33m<4500.00> \u001b[0m\u001b[mData reward: {'Scanner-1_4827225424': 0.010526315789473684}\u001b[0m\n"
     ]
    },
    {
     "name": "stderr",
     "output_type": "stream",
     "text": [
      "\u001b[90;3m2024-05-31 13:59:49,280 \u001b[0m\u001b[mgym                            \u001b[0m\u001b[mINFO       \u001b[0m\u001b[33m<4500.00> \u001b[0m\u001b[mSatellites requiring retasking: ['Scanner-1_4827225424']\u001b[0m\n"
     ]
    },
    {
     "name": "stderr",
     "output_type": "stream",
     "text": [
      "\u001b[90;3m2024-05-31 13:59:49,280 \u001b[0m\u001b[mgym                            \u001b[0m\u001b[mINFO       \u001b[0m\u001b[33m<4500.00> \u001b[0m\u001b[mStep reward: 0.010526315789473684\u001b[0m\n"
     ]
    },
    {
     "name": "stderr",
     "output_type": "stream",
     "text": [
      "\u001b[90;3m2024-05-31 13:59:49,281 \u001b[0m\u001b[mgym                            \u001b[0m\u001b[mINFO       \u001b[0m\u001b[33m<4500.00> \u001b[0m\u001b[93;1m=== STARTING STEP ===\u001b[0m\n"
     ]
    },
    {
     "name": "stderr",
     "output_type": "stream",
     "text": [
      "\u001b[90;3m2024-05-31 13:59:49,281 \u001b[0m\u001b[36msats.satellite.Scanner-1       \u001b[0m\u001b[mINFO       \u001b[0m\u001b[33m<4500.00> \u001b[0m\u001b[36mScanner-1: \u001b[0m\u001b[maction_nadir_scan tasked for 180.0 seconds\u001b[0m\n"
     ]
    },
    {
     "name": "stderr",
     "output_type": "stream",
     "text": [
      "\u001b[90;3m2024-05-31 13:59:49,281 \u001b[0m\u001b[36msats.satellite.Scanner-1       \u001b[0m\u001b[mINFO       \u001b[0m\u001b[33m<4500.00> \u001b[0m\u001b[36mScanner-1: \u001b[0m\u001b[msetting timed terminal event at 4680.0\u001b[0m\n"
     ]
    },
    {
     "name": "stderr",
     "output_type": "stream",
     "text": [
      "\u001b[90;3m2024-05-31 13:59:49,281 \u001b[0m\u001b[msim.simulator                  \u001b[0m\u001b[mINFO       \u001b[0m\u001b[33m<4500.00> \u001b[0m\u001b[mRunning simulation at most to 17100.00 seconds\u001b[0m\n"
     ]
    },
    {
     "name": "stderr",
     "output_type": "stream",
     "text": [
      "\u001b[90;3m2024-05-31 13:59:49,292 \u001b[0m\u001b[36msats.satellite.Scanner-1       \u001b[0m\u001b[mINFO       \u001b[0m\u001b[33m<4680.00> \u001b[0m\u001b[36mScanner-1: \u001b[0m\u001b[mtimed termination at 4680.0 for action_nadir_scan\u001b[0m\n"
     ]
    },
    {
     "name": "stderr",
     "output_type": "stream",
     "text": [
      "\u001b[90;3m2024-05-31 13:59:49,292 \u001b[0m\u001b[mdata.base                      \u001b[0m\u001b[mINFO       \u001b[0m\u001b[33m<4680.00> \u001b[0m\u001b[mData reward: {'Scanner-1_4827225424': 0.010526315789473684}\u001b[0m\n"
     ]
    },
    {
     "name": "stderr",
     "output_type": "stream",
     "text": [
      "\u001b[90;3m2024-05-31 13:59:49,293 \u001b[0m\u001b[mgym                            \u001b[0m\u001b[mINFO       \u001b[0m\u001b[33m<4680.00> \u001b[0m\u001b[mSatellites requiring retasking: ['Scanner-1_4827225424']\u001b[0m\n"
     ]
    },
    {
     "name": "stderr",
     "output_type": "stream",
     "text": [
      "\u001b[90;3m2024-05-31 13:59:49,293 \u001b[0m\u001b[mgym                            \u001b[0m\u001b[mINFO       \u001b[0m\u001b[33m<4680.00> \u001b[0m\u001b[mStep reward: 0.010526315789473684\u001b[0m\n"
     ]
    },
    {
     "name": "stderr",
     "output_type": "stream",
     "text": [
      "\u001b[90;3m2024-05-31 13:59:49,293 \u001b[0m\u001b[mgym                            \u001b[0m\u001b[mINFO       \u001b[0m\u001b[33m<4680.00> \u001b[0m\u001b[93;1m=== STARTING STEP ===\u001b[0m\n"
     ]
    },
    {
     "name": "stderr",
     "output_type": "stream",
     "text": [
      "\u001b[90;3m2024-05-31 13:59:49,294 \u001b[0m\u001b[36msats.satellite.Scanner-1       \u001b[0m\u001b[mINFO       \u001b[0m\u001b[33m<4680.00> \u001b[0m\u001b[36mScanner-1: \u001b[0m\u001b[maction_downlink tasked for 60.0 seconds\u001b[0m\n"
     ]
    },
    {
     "name": "stderr",
     "output_type": "stream",
     "text": [
      "\u001b[90;3m2024-05-31 13:59:49,294 \u001b[0m\u001b[36msats.satellite.Scanner-1       \u001b[0m\u001b[mINFO       \u001b[0m\u001b[33m<4680.00> \u001b[0m\u001b[36mScanner-1: \u001b[0m\u001b[msetting timed terminal event at 4740.0\u001b[0m\n"
     ]
    },
    {
     "name": "stderr",
     "output_type": "stream",
     "text": [
      "\u001b[90;3m2024-05-31 13:59:49,294 \u001b[0m\u001b[msim.simulator                  \u001b[0m\u001b[mINFO       \u001b[0m\u001b[33m<4680.00> \u001b[0m\u001b[mRunning simulation at most to 17100.00 seconds\u001b[0m\n"
     ]
    },
    {
     "name": "stderr",
     "output_type": "stream",
     "text": [
      "\u001b[90;3m2024-05-31 13:59:49,298 \u001b[0m\u001b[36msats.satellite.Scanner-1       \u001b[0m\u001b[mINFO       \u001b[0m\u001b[33m<4740.00> \u001b[0m\u001b[36mScanner-1: \u001b[0m\u001b[mtimed termination at 4740.0 for action_downlink\u001b[0m\n"
     ]
    },
    {
     "name": "stderr",
     "output_type": "stream",
     "text": [
      "\u001b[90;3m2024-05-31 13:59:49,298 \u001b[0m\u001b[mdata.base                      \u001b[0m\u001b[mINFO       \u001b[0m\u001b[33m<4740.00> \u001b[0m\u001b[mData reward: {'Scanner-1_4827225424': 0.0}\u001b[0m\n"
     ]
    },
    {
     "name": "stderr",
     "output_type": "stream",
     "text": [
      "\u001b[90;3m2024-05-31 13:59:49,299 \u001b[0m\u001b[mgym                            \u001b[0m\u001b[mINFO       \u001b[0m\u001b[33m<4740.00> \u001b[0m\u001b[mSatellites requiring retasking: ['Scanner-1_4827225424']\u001b[0m\n"
     ]
    },
    {
     "name": "stderr",
     "output_type": "stream",
     "text": [
      "\u001b[90;3m2024-05-31 13:59:49,299 \u001b[0m\u001b[mgym                            \u001b[0m\u001b[mINFO       \u001b[0m\u001b[33m<4740.00> \u001b[0m\u001b[mStep reward: 0.0\u001b[0m\n"
     ]
    },
    {
     "name": "stderr",
     "output_type": "stream",
     "text": [
      "\u001b[90;3m2024-05-31 13:59:49,300 \u001b[0m\u001b[mgym                            \u001b[0m\u001b[mINFO       \u001b[0m\u001b[33m<4740.00> \u001b[0m\u001b[93;1m=== STARTING STEP ===\u001b[0m\n"
     ]
    },
    {
     "name": "stderr",
     "output_type": "stream",
     "text": [
      "\u001b[90;3m2024-05-31 13:59:49,300 \u001b[0m\u001b[36msats.satellite.Scanner-1       \u001b[0m\u001b[mINFO       \u001b[0m\u001b[33m<4740.00> \u001b[0m\u001b[36mScanner-1: \u001b[0m\u001b[maction_charge tasked for 180.0 seconds\u001b[0m\n"
     ]
    },
    {
     "name": "stderr",
     "output_type": "stream",
     "text": [
      "\u001b[90;3m2024-05-31 13:59:49,300 \u001b[0m\u001b[36msats.satellite.Scanner-1       \u001b[0m\u001b[mINFO       \u001b[0m\u001b[33m<4740.00> \u001b[0m\u001b[36mScanner-1: \u001b[0m\u001b[msetting timed terminal event at 4920.0\u001b[0m\n"
     ]
    },
    {
     "name": "stderr",
     "output_type": "stream",
     "text": [
      "\u001b[90;3m2024-05-31 13:59:49,300 \u001b[0m\u001b[msim.simulator                  \u001b[0m\u001b[mINFO       \u001b[0m\u001b[33m<4740.00> \u001b[0m\u001b[mRunning simulation at most to 17100.00 seconds\u001b[0m\n"
     ]
    },
    {
     "name": "stderr",
     "output_type": "stream",
     "text": [
      "\u001b[90;3m2024-05-31 13:59:49,311 \u001b[0m\u001b[36msats.satellite.Scanner-1       \u001b[0m\u001b[mINFO       \u001b[0m\u001b[33m<4920.00> \u001b[0m\u001b[36mScanner-1: \u001b[0m\u001b[mtimed termination at 4920.0 for action_charge\u001b[0m\n"
     ]
    },
    {
     "name": "stderr",
     "output_type": "stream",
     "text": [
      "\u001b[90;3m2024-05-31 13:59:49,311 \u001b[0m\u001b[mdata.base                      \u001b[0m\u001b[mINFO       \u001b[0m\u001b[33m<4920.00> \u001b[0m\u001b[mData reward: {'Scanner-1_4827225424': 0.0}\u001b[0m\n"
     ]
    },
    {
     "name": "stderr",
     "output_type": "stream",
     "text": [
      "\u001b[90;3m2024-05-31 13:59:49,312 \u001b[0m\u001b[mgym                            \u001b[0m\u001b[mINFO       \u001b[0m\u001b[33m<4920.00> \u001b[0m\u001b[mSatellites requiring retasking: ['Scanner-1_4827225424']\u001b[0m\n"
     ]
    },
    {
     "name": "stderr",
     "output_type": "stream",
     "text": [
      "\u001b[90;3m2024-05-31 13:59:49,312 \u001b[0m\u001b[mgym                            \u001b[0m\u001b[mINFO       \u001b[0m\u001b[33m<4920.00> \u001b[0m\u001b[mStep reward: 0.0\u001b[0m\n"
     ]
    },
    {
     "name": "stderr",
     "output_type": "stream",
     "text": [
      "\u001b[90;3m2024-05-31 13:59:49,313 \u001b[0m\u001b[mgym                            \u001b[0m\u001b[mINFO       \u001b[0m\u001b[33m<4920.00> \u001b[0m\u001b[93;1m=== STARTING STEP ===\u001b[0m\n"
     ]
    },
    {
     "name": "stderr",
     "output_type": "stream",
     "text": [
      "\u001b[90;3m2024-05-31 13:59:49,313 \u001b[0m\u001b[36msats.satellite.Scanner-1       \u001b[0m\u001b[mINFO       \u001b[0m\u001b[33m<4920.00> \u001b[0m\u001b[36mScanner-1: \u001b[0m\u001b[maction_desat tasked for 60.0 seconds\u001b[0m\n"
     ]
    },
    {
     "name": "stderr",
     "output_type": "stream",
     "text": [
      "\u001b[90;3m2024-05-31 13:59:49,313 \u001b[0m\u001b[36msats.satellite.Scanner-1       \u001b[0m\u001b[mINFO       \u001b[0m\u001b[33m<4920.00> \u001b[0m\u001b[36mScanner-1: \u001b[0m\u001b[msetting timed terminal event at 4980.0\u001b[0m\n"
     ]
    },
    {
     "name": "stderr",
     "output_type": "stream",
     "text": [
      "\u001b[90;3m2024-05-31 13:59:49,313 \u001b[0m\u001b[msim.simulator                  \u001b[0m\u001b[mINFO       \u001b[0m\u001b[33m<4920.00> \u001b[0m\u001b[mRunning simulation at most to 17100.00 seconds\u001b[0m\n"
     ]
    },
    {
     "name": "stderr",
     "output_type": "stream",
     "text": [
      "\u001b[90;3m2024-05-31 13:59:49,317 \u001b[0m\u001b[36msats.satellite.Scanner-1       \u001b[0m\u001b[mINFO       \u001b[0m\u001b[33m<4980.00> \u001b[0m\u001b[36mScanner-1: \u001b[0m\u001b[mtimed termination at 4980.0 for action_desat\u001b[0m\n"
     ]
    },
    {
     "name": "stderr",
     "output_type": "stream",
     "text": [
      "\u001b[90;3m2024-05-31 13:59:49,318 \u001b[0m\u001b[mdata.base                      \u001b[0m\u001b[mINFO       \u001b[0m\u001b[33m<4980.00> \u001b[0m\u001b[mData reward: {'Scanner-1_4827225424': 0.0}\u001b[0m\n"
     ]
    },
    {
     "name": "stderr",
     "output_type": "stream",
     "text": [
      "\u001b[90;3m2024-05-31 13:59:49,319 \u001b[0m\u001b[mgym                            \u001b[0m\u001b[mINFO       \u001b[0m\u001b[33m<4980.00> \u001b[0m\u001b[mSatellites requiring retasking: ['Scanner-1_4827225424']\u001b[0m\n"
     ]
    },
    {
     "name": "stderr",
     "output_type": "stream",
     "text": [
      "\u001b[90;3m2024-05-31 13:59:49,319 \u001b[0m\u001b[mgym                            \u001b[0m\u001b[mINFO       \u001b[0m\u001b[33m<4980.00> \u001b[0m\u001b[mStep reward: 0.0\u001b[0m\n"
     ]
    },
    {
     "name": "stderr",
     "output_type": "stream",
     "text": [
      "\u001b[90;3m2024-05-31 13:59:49,319 \u001b[0m\u001b[mgym                            \u001b[0m\u001b[mINFO       \u001b[0m\u001b[33m<4980.00> \u001b[0m\u001b[93;1m=== STARTING STEP ===\u001b[0m\n"
     ]
    },
    {
     "name": "stderr",
     "output_type": "stream",
     "text": [
      "\u001b[90;3m2024-05-31 13:59:49,319 \u001b[0m\u001b[36msats.satellite.Scanner-1       \u001b[0m\u001b[mINFO       \u001b[0m\u001b[33m<4980.00> \u001b[0m\u001b[36mScanner-1: \u001b[0m\u001b[maction_charge tasked for 180.0 seconds\u001b[0m\n"
     ]
    },
    {
     "name": "stderr",
     "output_type": "stream",
     "text": [
      "\u001b[90;3m2024-05-31 13:59:49,320 \u001b[0m\u001b[36msats.satellite.Scanner-1       \u001b[0m\u001b[mINFO       \u001b[0m\u001b[33m<4980.00> \u001b[0m\u001b[36mScanner-1: \u001b[0m\u001b[msetting timed terminal event at 5160.0\u001b[0m\n"
     ]
    },
    {
     "name": "stderr",
     "output_type": "stream",
     "text": [
      "\u001b[90;3m2024-05-31 13:59:49,320 \u001b[0m\u001b[msim.simulator                  \u001b[0m\u001b[mINFO       \u001b[0m\u001b[33m<4980.00> \u001b[0m\u001b[mRunning simulation at most to 17100.00 seconds\u001b[0m\n"
     ]
    },
    {
     "name": "stderr",
     "output_type": "stream",
     "text": [
      "\u001b[90;3m2024-05-31 13:59:49,330 \u001b[0m\u001b[36msats.satellite.Scanner-1       \u001b[0m\u001b[mINFO       \u001b[0m\u001b[33m<5160.00> \u001b[0m\u001b[36mScanner-1: \u001b[0m\u001b[mtimed termination at 5160.0 for action_charge\u001b[0m\n"
     ]
    },
    {
     "name": "stderr",
     "output_type": "stream",
     "text": [
      "\u001b[90;3m2024-05-31 13:59:49,331 \u001b[0m\u001b[mdata.base                      \u001b[0m\u001b[mINFO       \u001b[0m\u001b[33m<5160.00> \u001b[0m\u001b[mData reward: {'Scanner-1_4827225424': 0.0}\u001b[0m\n"
     ]
    },
    {
     "name": "stderr",
     "output_type": "stream",
     "text": [
      "\u001b[90;3m2024-05-31 13:59:49,332 \u001b[0m\u001b[mgym                            \u001b[0m\u001b[mINFO       \u001b[0m\u001b[33m<5160.00> \u001b[0m\u001b[mSatellites requiring retasking: ['Scanner-1_4827225424']\u001b[0m\n"
     ]
    },
    {
     "name": "stderr",
     "output_type": "stream",
     "text": [
      "\u001b[90;3m2024-05-31 13:59:49,332 \u001b[0m\u001b[mgym                            \u001b[0m\u001b[mINFO       \u001b[0m\u001b[33m<5160.00> \u001b[0m\u001b[mStep reward: 0.0\u001b[0m\n"
     ]
    },
    {
     "name": "stderr",
     "output_type": "stream",
     "text": [
      "\u001b[90;3m2024-05-31 13:59:49,332 \u001b[0m\u001b[mgym                            \u001b[0m\u001b[mINFO       \u001b[0m\u001b[33m<5160.00> \u001b[0m\u001b[93;1m=== STARTING STEP ===\u001b[0m\n"
     ]
    },
    {
     "name": "stderr",
     "output_type": "stream",
     "text": [
      "\u001b[90;3m2024-05-31 13:59:49,332 \u001b[0m\u001b[36msats.satellite.Scanner-1       \u001b[0m\u001b[mINFO       \u001b[0m\u001b[33m<5160.00> \u001b[0m\u001b[36mScanner-1: \u001b[0m\u001b[maction_nadir_scan tasked for 180.0 seconds\u001b[0m\n"
     ]
    },
    {
     "name": "stderr",
     "output_type": "stream",
     "text": [
      "\u001b[90;3m2024-05-31 13:59:49,333 \u001b[0m\u001b[36msats.satellite.Scanner-1       \u001b[0m\u001b[mINFO       \u001b[0m\u001b[33m<5160.00> \u001b[0m\u001b[36mScanner-1: \u001b[0m\u001b[msetting timed terminal event at 5340.0\u001b[0m\n"
     ]
    },
    {
     "name": "stderr",
     "output_type": "stream",
     "text": [
      "\u001b[90;3m2024-05-31 13:59:49,333 \u001b[0m\u001b[msim.simulator                  \u001b[0m\u001b[mINFO       \u001b[0m\u001b[33m<5160.00> \u001b[0m\u001b[mRunning simulation at most to 17100.00 seconds\u001b[0m\n"
     ]
    },
    {
     "name": "stderr",
     "output_type": "stream",
     "text": [
      "\u001b[90;3m2024-05-31 13:59:49,344 \u001b[0m\u001b[36msats.satellite.Scanner-1       \u001b[0m\u001b[mINFO       \u001b[0m\u001b[33m<5340.00> \u001b[0m\u001b[36mScanner-1: \u001b[0m\u001b[mtimed termination at 5340.0 for action_nadir_scan\u001b[0m\n"
     ]
    },
    {
     "name": "stderr",
     "output_type": "stream",
     "text": [
      "\u001b[90;3m2024-05-31 13:59:49,344 \u001b[0m\u001b[mdata.base                      \u001b[0m\u001b[mINFO       \u001b[0m\u001b[33m<5340.00> \u001b[0m\u001b[mData reward: {'Scanner-1_4827225424': 0.0077192982456140355}\u001b[0m\n"
     ]
    },
    {
     "name": "stderr",
     "output_type": "stream",
     "text": [
      "\u001b[90;3m2024-05-31 13:59:49,345 \u001b[0m\u001b[mgym                            \u001b[0m\u001b[mINFO       \u001b[0m\u001b[33m<5340.00> \u001b[0m\u001b[mSatellites requiring retasking: ['Scanner-1_4827225424']\u001b[0m\n"
     ]
    },
    {
     "name": "stderr",
     "output_type": "stream",
     "text": [
      "\u001b[90;3m2024-05-31 13:59:49,345 \u001b[0m\u001b[mgym                            \u001b[0m\u001b[mINFO       \u001b[0m\u001b[33m<5340.00> \u001b[0m\u001b[mStep reward: 0.0077192982456140355\u001b[0m\n"
     ]
    },
    {
     "name": "stderr",
     "output_type": "stream",
     "text": [
      "\u001b[90;3m2024-05-31 13:59:49,345 \u001b[0m\u001b[mgym                            \u001b[0m\u001b[mINFO       \u001b[0m\u001b[33m<5340.00> \u001b[0m\u001b[93;1m=== STARTING STEP ===\u001b[0m\n"
     ]
    },
    {
     "name": "stderr",
     "output_type": "stream",
     "text": [
      "\u001b[90;3m2024-05-31 13:59:49,346 \u001b[0m\u001b[36msats.satellite.Scanner-1       \u001b[0m\u001b[mINFO       \u001b[0m\u001b[33m<5340.00> \u001b[0m\u001b[36mScanner-1: \u001b[0m\u001b[maction_nadir_scan tasked for 180.0 seconds\u001b[0m\n"
     ]
    },
    {
     "name": "stderr",
     "output_type": "stream",
     "text": [
      "\u001b[90;3m2024-05-31 13:59:49,346 \u001b[0m\u001b[36msats.satellite.Scanner-1       \u001b[0m\u001b[mINFO       \u001b[0m\u001b[33m<5340.00> \u001b[0m\u001b[36mScanner-1: \u001b[0m\u001b[msetting timed terminal event at 5520.0\u001b[0m\n"
     ]
    },
    {
     "name": "stderr",
     "output_type": "stream",
     "text": [
      "\u001b[90;3m2024-05-31 13:59:49,346 \u001b[0m\u001b[msim.simulator                  \u001b[0m\u001b[mINFO       \u001b[0m\u001b[33m<5340.00> \u001b[0m\u001b[mRunning simulation at most to 17100.00 seconds\u001b[0m\n"
     ]
    },
    {
     "name": "stderr",
     "output_type": "stream",
     "text": [
      "\u001b[90;3m2024-05-31 13:59:49,356 \u001b[0m\u001b[36msats.satellite.Scanner-1       \u001b[0m\u001b[mINFO       \u001b[0m\u001b[33m<5520.00> \u001b[0m\u001b[36mScanner-1: \u001b[0m\u001b[mtimed termination at 5520.0 for action_nadir_scan\u001b[0m\n"
     ]
    },
    {
     "name": "stderr",
     "output_type": "stream",
     "text": [
      "\u001b[90;3m2024-05-31 13:59:49,357 \u001b[0m\u001b[mdata.base                      \u001b[0m\u001b[mINFO       \u001b[0m\u001b[33m<5520.00> \u001b[0m\u001b[mData reward: {'Scanner-1_4827225424': 0.010526315789473684}\u001b[0m\n"
     ]
    },
    {
     "name": "stderr",
     "output_type": "stream",
     "text": [
      "\u001b[90;3m2024-05-31 13:59:49,358 \u001b[0m\u001b[mgym                            \u001b[0m\u001b[mINFO       \u001b[0m\u001b[33m<5520.00> \u001b[0m\u001b[mSatellites requiring retasking: ['Scanner-1_4827225424']\u001b[0m\n"
     ]
    },
    {
     "name": "stderr",
     "output_type": "stream",
     "text": [
      "\u001b[90;3m2024-05-31 13:59:49,358 \u001b[0m\u001b[mgym                            \u001b[0m\u001b[mINFO       \u001b[0m\u001b[33m<5520.00> \u001b[0m\u001b[mStep reward: 0.010526315789473684\u001b[0m\n"
     ]
    },
    {
     "name": "stderr",
     "output_type": "stream",
     "text": [
      "\u001b[90;3m2024-05-31 13:59:49,358 \u001b[0m\u001b[mgym                            \u001b[0m\u001b[mINFO       \u001b[0m\u001b[33m<5520.00> \u001b[0m\u001b[93;1m=== STARTING STEP ===\u001b[0m\n"
     ]
    },
    {
     "name": "stderr",
     "output_type": "stream",
     "text": [
      "\u001b[90;3m2024-05-31 13:59:49,358 \u001b[0m\u001b[36msats.satellite.Scanner-1       \u001b[0m\u001b[mINFO       \u001b[0m\u001b[33m<5520.00> \u001b[0m\u001b[36mScanner-1: \u001b[0m\u001b[maction_downlink tasked for 60.0 seconds\u001b[0m\n"
     ]
    },
    {
     "name": "stderr",
     "output_type": "stream",
     "text": [
      "\u001b[90;3m2024-05-31 13:59:49,359 \u001b[0m\u001b[36msats.satellite.Scanner-1       \u001b[0m\u001b[mINFO       \u001b[0m\u001b[33m<5520.00> \u001b[0m\u001b[36mScanner-1: \u001b[0m\u001b[msetting timed terminal event at 5580.0\u001b[0m\n"
     ]
    },
    {
     "name": "stderr",
     "output_type": "stream",
     "text": [
      "\u001b[90;3m2024-05-31 13:59:49,359 \u001b[0m\u001b[msim.simulator                  \u001b[0m\u001b[mINFO       \u001b[0m\u001b[33m<5520.00> \u001b[0m\u001b[mRunning simulation at most to 17100.00 seconds\u001b[0m\n"
     ]
    },
    {
     "name": "stderr",
     "output_type": "stream",
     "text": [
      "\u001b[90;3m2024-05-31 13:59:49,363 \u001b[0m\u001b[36msats.satellite.Scanner-1       \u001b[0m\u001b[mINFO       \u001b[0m\u001b[33m<5580.00> \u001b[0m\u001b[36mScanner-1: \u001b[0m\u001b[mtimed termination at 5580.0 for action_downlink\u001b[0m\n"
     ]
    },
    {
     "name": "stderr",
     "output_type": "stream",
     "text": [
      "\u001b[90;3m2024-05-31 13:59:49,363 \u001b[0m\u001b[mdata.base                      \u001b[0m\u001b[mINFO       \u001b[0m\u001b[33m<5580.00> \u001b[0m\u001b[mData reward: {'Scanner-1_4827225424': 0.0}\u001b[0m\n"
     ]
    },
    {
     "name": "stderr",
     "output_type": "stream",
     "text": [
      "\u001b[90;3m2024-05-31 13:59:49,364 \u001b[0m\u001b[mgym                            \u001b[0m\u001b[mINFO       \u001b[0m\u001b[33m<5580.00> \u001b[0m\u001b[mSatellites requiring retasking: ['Scanner-1_4827225424']\u001b[0m\n"
     ]
    },
    {
     "name": "stderr",
     "output_type": "stream",
     "text": [
      "\u001b[90;3m2024-05-31 13:59:49,364 \u001b[0m\u001b[mgym                            \u001b[0m\u001b[mINFO       \u001b[0m\u001b[33m<5580.00> \u001b[0m\u001b[mStep reward: 0.0\u001b[0m\n"
     ]
    },
    {
     "name": "stderr",
     "output_type": "stream",
     "text": [
      "\u001b[90;3m2024-05-31 13:59:49,364 \u001b[0m\u001b[mgym                            \u001b[0m\u001b[mINFO       \u001b[0m\u001b[33m<5580.00> \u001b[0m\u001b[93;1m=== STARTING STEP ===\u001b[0m\n"
     ]
    },
    {
     "name": "stderr",
     "output_type": "stream",
     "text": [
      "\u001b[90;3m2024-05-31 13:59:49,365 \u001b[0m\u001b[36msats.satellite.Scanner-1       \u001b[0m\u001b[mINFO       \u001b[0m\u001b[33m<5580.00> \u001b[0m\u001b[36mScanner-1: \u001b[0m\u001b[maction_desat tasked for 60.0 seconds\u001b[0m\n"
     ]
    },
    {
     "name": "stderr",
     "output_type": "stream",
     "text": [
      "\u001b[90;3m2024-05-31 13:59:49,365 \u001b[0m\u001b[36msats.satellite.Scanner-1       \u001b[0m\u001b[mINFO       \u001b[0m\u001b[33m<5580.00> \u001b[0m\u001b[36mScanner-1: \u001b[0m\u001b[msetting timed terminal event at 5640.0\u001b[0m\n"
     ]
    },
    {
     "name": "stderr",
     "output_type": "stream",
     "text": [
      "\u001b[90;3m2024-05-31 13:59:49,365 \u001b[0m\u001b[msim.simulator                  \u001b[0m\u001b[mINFO       \u001b[0m\u001b[33m<5580.00> \u001b[0m\u001b[mRunning simulation at most to 17100.00 seconds\u001b[0m\n"
     ]
    },
    {
     "name": "stderr",
     "output_type": "stream",
     "text": [
      "\u001b[90;3m2024-05-31 13:59:49,369 \u001b[0m\u001b[36msats.satellite.Scanner-1       \u001b[0m\u001b[mINFO       \u001b[0m\u001b[33m<5640.00> \u001b[0m\u001b[36mScanner-1: \u001b[0m\u001b[mtimed termination at 5640.0 for action_desat\u001b[0m\n"
     ]
    },
    {
     "name": "stderr",
     "output_type": "stream",
     "text": [
      "\u001b[90;3m2024-05-31 13:59:49,369 \u001b[0m\u001b[mdata.base                      \u001b[0m\u001b[mINFO       \u001b[0m\u001b[33m<5640.00> \u001b[0m\u001b[mData reward: {'Scanner-1_4827225424': 0.0}\u001b[0m\n"
     ]
    },
    {
     "name": "stderr",
     "output_type": "stream",
     "text": [
      "\u001b[90;3m2024-05-31 13:59:49,370 \u001b[0m\u001b[mgym                            \u001b[0m\u001b[mINFO       \u001b[0m\u001b[33m<5640.00> \u001b[0m\u001b[mSatellites requiring retasking: ['Scanner-1_4827225424']\u001b[0m\n"
     ]
    },
    {
     "name": "stderr",
     "output_type": "stream",
     "text": [
      "\u001b[90;3m2024-05-31 13:59:49,371 \u001b[0m\u001b[mgym                            \u001b[0m\u001b[mINFO       \u001b[0m\u001b[33m<5640.00> \u001b[0m\u001b[mStep reward: 0.0\u001b[0m\n"
     ]
    },
    {
     "name": "stderr",
     "output_type": "stream",
     "text": [
      "\u001b[90;3m2024-05-31 13:59:49,371 \u001b[0m\u001b[mgym                            \u001b[0m\u001b[mINFO       \u001b[0m\u001b[33m<5640.00> \u001b[0m\u001b[93;1m=== STARTING STEP ===\u001b[0m\n"
     ]
    },
    {
     "name": "stderr",
     "output_type": "stream",
     "text": [
      "\u001b[90;3m2024-05-31 13:59:49,371 \u001b[0m\u001b[36msats.satellite.Scanner-1       \u001b[0m\u001b[mINFO       \u001b[0m\u001b[33m<5640.00> \u001b[0m\u001b[36mScanner-1: \u001b[0m\u001b[maction_charge tasked for 180.0 seconds\u001b[0m\n"
     ]
    },
    {
     "name": "stderr",
     "output_type": "stream",
     "text": [
      "\u001b[90;3m2024-05-31 13:59:49,371 \u001b[0m\u001b[36msats.satellite.Scanner-1       \u001b[0m\u001b[mINFO       \u001b[0m\u001b[33m<5640.00> \u001b[0m\u001b[36mScanner-1: \u001b[0m\u001b[msetting timed terminal event at 5820.0\u001b[0m\n"
     ]
    },
    {
     "name": "stderr",
     "output_type": "stream",
     "text": [
      "\u001b[90;3m2024-05-31 13:59:49,372 \u001b[0m\u001b[msim.simulator                  \u001b[0m\u001b[mINFO       \u001b[0m\u001b[33m<5640.00> \u001b[0m\u001b[mRunning simulation at most to 17100.00 seconds\u001b[0m\n"
     ]
    },
    {
     "name": "stderr",
     "output_type": "stream",
     "text": [
      "\u001b[90;3m2024-05-31 13:59:49,382 \u001b[0m\u001b[36msats.satellite.Scanner-1       \u001b[0m\u001b[mINFO       \u001b[0m\u001b[33m<5820.00> \u001b[0m\u001b[36mScanner-1: \u001b[0m\u001b[mtimed termination at 5820.0 for action_charge\u001b[0m\n"
     ]
    },
    {
     "name": "stderr",
     "output_type": "stream",
     "text": [
      "\u001b[90;3m2024-05-31 13:59:49,382 \u001b[0m\u001b[mdata.base                      \u001b[0m\u001b[mINFO       \u001b[0m\u001b[33m<5820.00> \u001b[0m\u001b[mData reward: {'Scanner-1_4827225424': 0.0}\u001b[0m\n"
     ]
    },
    {
     "name": "stderr",
     "output_type": "stream",
     "text": [
      "\u001b[90;3m2024-05-31 13:59:49,383 \u001b[0m\u001b[mgym                            \u001b[0m\u001b[mINFO       \u001b[0m\u001b[33m<5820.00> \u001b[0m\u001b[mSatellites requiring retasking: ['Scanner-1_4827225424']\u001b[0m\n"
     ]
    },
    {
     "name": "stderr",
     "output_type": "stream",
     "text": [
      "\u001b[90;3m2024-05-31 13:59:49,383 \u001b[0m\u001b[mgym                            \u001b[0m\u001b[mINFO       \u001b[0m\u001b[33m<5820.00> \u001b[0m\u001b[mStep reward: 0.0\u001b[0m\n"
     ]
    },
    {
     "name": "stderr",
     "output_type": "stream",
     "text": [
      "\u001b[90;3m2024-05-31 13:59:49,384 \u001b[0m\u001b[mgym                            \u001b[0m\u001b[mINFO       \u001b[0m\u001b[33m<5820.00> \u001b[0m\u001b[93;1m=== STARTING STEP ===\u001b[0m\n"
     ]
    },
    {
     "name": "stderr",
     "output_type": "stream",
     "text": [
      "\u001b[90;3m2024-05-31 13:59:49,384 \u001b[0m\u001b[36msats.satellite.Scanner-1       \u001b[0m\u001b[mINFO       \u001b[0m\u001b[33m<5820.00> \u001b[0m\u001b[36mScanner-1: \u001b[0m\u001b[maction_charge tasked for 180.0 seconds\u001b[0m\n"
     ]
    },
    {
     "name": "stderr",
     "output_type": "stream",
     "text": [
      "\u001b[90;3m2024-05-31 13:59:49,384 \u001b[0m\u001b[36msats.satellite.Scanner-1       \u001b[0m\u001b[mINFO       \u001b[0m\u001b[33m<5820.00> \u001b[0m\u001b[36mScanner-1: \u001b[0m\u001b[msetting timed terminal event at 6000.0\u001b[0m\n"
     ]
    },
    {
     "name": "stderr",
     "output_type": "stream",
     "text": [
      "\u001b[90;3m2024-05-31 13:59:49,384 \u001b[0m\u001b[msim.simulator                  \u001b[0m\u001b[mINFO       \u001b[0m\u001b[33m<5820.00> \u001b[0m\u001b[mRunning simulation at most to 17100.00 seconds\u001b[0m\n"
     ]
    },
    {
     "name": "stderr",
     "output_type": "stream",
     "text": [
      "\u001b[90;3m2024-05-31 13:59:49,395 \u001b[0m\u001b[36msats.satellite.Scanner-1       \u001b[0m\u001b[mINFO       \u001b[0m\u001b[33m<6000.00> \u001b[0m\u001b[36mScanner-1: \u001b[0m\u001b[mtimed termination at 6000.0 for action_charge\u001b[0m\n"
     ]
    },
    {
     "name": "stderr",
     "output_type": "stream",
     "text": [
      "\u001b[90;3m2024-05-31 13:59:49,395 \u001b[0m\u001b[mdata.base                      \u001b[0m\u001b[mINFO       \u001b[0m\u001b[33m<6000.00> \u001b[0m\u001b[mData reward: {'Scanner-1_4827225424': 0.0}\u001b[0m\n"
     ]
    },
    {
     "name": "stderr",
     "output_type": "stream",
     "text": [
      "\u001b[90;3m2024-05-31 13:59:49,397 \u001b[0m\u001b[mgym                            \u001b[0m\u001b[mINFO       \u001b[0m\u001b[33m<6000.00> \u001b[0m\u001b[mSatellites requiring retasking: ['Scanner-1_4827225424']\u001b[0m\n"
     ]
    },
    {
     "name": "stderr",
     "output_type": "stream",
     "text": [
      "\u001b[90;3m2024-05-31 13:59:49,397 \u001b[0m\u001b[mgym                            \u001b[0m\u001b[mINFO       \u001b[0m\u001b[33m<6000.00> \u001b[0m\u001b[mStep reward: 0.0\u001b[0m\n"
     ]
    },
    {
     "name": "stderr",
     "output_type": "stream",
     "text": [
      "\u001b[90;3m2024-05-31 13:59:49,397 \u001b[0m\u001b[mgym                            \u001b[0m\u001b[mINFO       \u001b[0m\u001b[33m<6000.00> \u001b[0m\u001b[93;1m=== STARTING STEP ===\u001b[0m\n"
     ]
    },
    {
     "name": "stderr",
     "output_type": "stream",
     "text": [
      "\u001b[90;3m2024-05-31 13:59:49,398 \u001b[0m\u001b[36msats.satellite.Scanner-1       \u001b[0m\u001b[mINFO       \u001b[0m\u001b[33m<6000.00> \u001b[0m\u001b[36mScanner-1: \u001b[0m\u001b[maction_nadir_scan tasked for 180.0 seconds\u001b[0m\n"
     ]
    },
    {
     "name": "stderr",
     "output_type": "stream",
     "text": [
      "\u001b[90;3m2024-05-31 13:59:49,398 \u001b[0m\u001b[36msats.satellite.Scanner-1       \u001b[0m\u001b[mINFO       \u001b[0m\u001b[33m<6000.00> \u001b[0m\u001b[36mScanner-1: \u001b[0m\u001b[msetting timed terminal event at 6180.0\u001b[0m\n"
     ]
    },
    {
     "name": "stderr",
     "output_type": "stream",
     "text": [
      "\u001b[90;3m2024-05-31 13:59:49,398 \u001b[0m\u001b[msim.simulator                  \u001b[0m\u001b[mINFO       \u001b[0m\u001b[33m<6000.00> \u001b[0m\u001b[mRunning simulation at most to 17100.00 seconds\u001b[0m\n"
     ]
    },
    {
     "name": "stderr",
     "output_type": "stream",
     "text": [
      "\u001b[90;3m2024-05-31 13:59:49,408 \u001b[0m\u001b[36msats.satellite.Scanner-1       \u001b[0m\u001b[mINFO       \u001b[0m\u001b[33m<6180.00> \u001b[0m\u001b[36mScanner-1: \u001b[0m\u001b[mtimed termination at 6180.0 for action_nadir_scan\u001b[0m\n"
     ]
    },
    {
     "name": "stderr",
     "output_type": "stream",
     "text": [
      "\u001b[90;3m2024-05-31 13:59:49,409 \u001b[0m\u001b[mdata.base                      \u001b[0m\u001b[mINFO       \u001b[0m\u001b[33m<6180.00> \u001b[0m\u001b[mData reward: {'Scanner-1_4827225424': 0.008128654970760233}\u001b[0m\n"
     ]
    },
    {
     "name": "stderr",
     "output_type": "stream",
     "text": [
      "\u001b[90;3m2024-05-31 13:59:49,410 \u001b[0m\u001b[mgym                            \u001b[0m\u001b[mINFO       \u001b[0m\u001b[33m<6180.00> \u001b[0m\u001b[mSatellites requiring retasking: ['Scanner-1_4827225424']\u001b[0m\n"
     ]
    },
    {
     "name": "stderr",
     "output_type": "stream",
     "text": [
      "\u001b[90;3m2024-05-31 13:59:49,410 \u001b[0m\u001b[mgym                            \u001b[0m\u001b[mINFO       \u001b[0m\u001b[33m<6180.00> \u001b[0m\u001b[mStep reward: 0.008128654970760233\u001b[0m\n"
     ]
    },
    {
     "name": "stderr",
     "output_type": "stream",
     "text": [
      "\u001b[90;3m2024-05-31 13:59:49,410 \u001b[0m\u001b[mgym                            \u001b[0m\u001b[mINFO       \u001b[0m\u001b[33m<6180.00> \u001b[0m\u001b[93;1m=== STARTING STEP ===\u001b[0m\n"
     ]
    },
    {
     "name": "stderr",
     "output_type": "stream",
     "text": [
      "\u001b[90;3m2024-05-31 13:59:49,410 \u001b[0m\u001b[36msats.satellite.Scanner-1       \u001b[0m\u001b[mINFO       \u001b[0m\u001b[33m<6180.00> \u001b[0m\u001b[36mScanner-1: \u001b[0m\u001b[maction_desat tasked for 60.0 seconds\u001b[0m\n"
     ]
    },
    {
     "name": "stderr",
     "output_type": "stream",
     "text": [
      "\u001b[90;3m2024-05-31 13:59:49,411 \u001b[0m\u001b[36msats.satellite.Scanner-1       \u001b[0m\u001b[mINFO       \u001b[0m\u001b[33m<6180.00> \u001b[0m\u001b[36mScanner-1: \u001b[0m\u001b[msetting timed terminal event at 6240.0\u001b[0m\n"
     ]
    },
    {
     "name": "stderr",
     "output_type": "stream",
     "text": [
      "\u001b[90;3m2024-05-31 13:59:49,411 \u001b[0m\u001b[msim.simulator                  \u001b[0m\u001b[mINFO       \u001b[0m\u001b[33m<6180.00> \u001b[0m\u001b[mRunning simulation at most to 17100.00 seconds\u001b[0m\n"
     ]
    },
    {
     "name": "stderr",
     "output_type": "stream",
     "text": [
      "\u001b[90;3m2024-05-31 13:59:49,415 \u001b[0m\u001b[36msats.satellite.Scanner-1       \u001b[0m\u001b[mINFO       \u001b[0m\u001b[33m<6240.00> \u001b[0m\u001b[36mScanner-1: \u001b[0m\u001b[mtimed termination at 6240.0 for action_desat\u001b[0m\n"
     ]
    },
    {
     "name": "stderr",
     "output_type": "stream",
     "text": [
      "\u001b[90;3m2024-05-31 13:59:49,415 \u001b[0m\u001b[mdata.base                      \u001b[0m\u001b[mINFO       \u001b[0m\u001b[33m<6240.00> \u001b[0m\u001b[mData reward: {'Scanner-1_4827225424': 0.0}\u001b[0m\n"
     ]
    },
    {
     "name": "stderr",
     "output_type": "stream",
     "text": [
      "\u001b[90;3m2024-05-31 13:59:49,416 \u001b[0m\u001b[mgym                            \u001b[0m\u001b[mINFO       \u001b[0m\u001b[33m<6240.00> \u001b[0m\u001b[mSatellites requiring retasking: ['Scanner-1_4827225424']\u001b[0m\n"
     ]
    },
    {
     "name": "stderr",
     "output_type": "stream",
     "text": [
      "\u001b[90;3m2024-05-31 13:59:49,416 \u001b[0m\u001b[mgym                            \u001b[0m\u001b[mINFO       \u001b[0m\u001b[33m<6240.00> \u001b[0m\u001b[mStep reward: 0.0\u001b[0m\n"
     ]
    },
    {
     "name": "stderr",
     "output_type": "stream",
     "text": [
      "\u001b[90;3m2024-05-31 13:59:49,416 \u001b[0m\u001b[mgym                            \u001b[0m\u001b[mINFO       \u001b[0m\u001b[33m<6240.00> \u001b[0m\u001b[93;1m=== STARTING STEP ===\u001b[0m\n"
     ]
    },
    {
     "name": "stderr",
     "output_type": "stream",
     "text": [
      "\u001b[90;3m2024-05-31 13:59:49,417 \u001b[0m\u001b[36msats.satellite.Scanner-1       \u001b[0m\u001b[mINFO       \u001b[0m\u001b[33m<6240.00> \u001b[0m\u001b[36mScanner-1: \u001b[0m\u001b[maction_desat tasked for 60.0 seconds\u001b[0m\n"
     ]
    },
    {
     "name": "stderr",
     "output_type": "stream",
     "text": [
      "\u001b[90;3m2024-05-31 13:59:49,417 \u001b[0m\u001b[36msats.satellite.Scanner-1       \u001b[0m\u001b[mINFO       \u001b[0m\u001b[33m<6240.00> \u001b[0m\u001b[36mScanner-1: \u001b[0m\u001b[msetting timed terminal event at 6300.0\u001b[0m\n"
     ]
    },
    {
     "name": "stderr",
     "output_type": "stream",
     "text": [
      "\u001b[90;3m2024-05-31 13:59:49,417 \u001b[0m\u001b[msim.simulator                  \u001b[0m\u001b[mINFO       \u001b[0m\u001b[33m<6240.00> \u001b[0m\u001b[mRunning simulation at most to 17100.00 seconds\u001b[0m\n"
     ]
    },
    {
     "name": "stderr",
     "output_type": "stream",
     "text": [
      "\u001b[90;3m2024-05-31 13:59:49,421 \u001b[0m\u001b[36msats.satellite.Scanner-1       \u001b[0m\u001b[mINFO       \u001b[0m\u001b[33m<6300.00> \u001b[0m\u001b[36mScanner-1: \u001b[0m\u001b[mtimed termination at 6300.0 for action_desat\u001b[0m\n"
     ]
    },
    {
     "name": "stderr",
     "output_type": "stream",
     "text": [
      "\u001b[90;3m2024-05-31 13:59:49,421 \u001b[0m\u001b[mdata.base                      \u001b[0m\u001b[mINFO       \u001b[0m\u001b[33m<6300.00> \u001b[0m\u001b[mData reward: {'Scanner-1_4827225424': 0.0}\u001b[0m\n"
     ]
    },
    {
     "name": "stderr",
     "output_type": "stream",
     "text": [
      "\u001b[90;3m2024-05-31 13:59:49,422 \u001b[0m\u001b[mgym                            \u001b[0m\u001b[mINFO       \u001b[0m\u001b[33m<6300.00> \u001b[0m\u001b[mSatellites requiring retasking: ['Scanner-1_4827225424']\u001b[0m\n"
     ]
    },
    {
     "name": "stderr",
     "output_type": "stream",
     "text": [
      "\u001b[90;3m2024-05-31 13:59:49,422 \u001b[0m\u001b[mgym                            \u001b[0m\u001b[mINFO       \u001b[0m\u001b[33m<6300.00> \u001b[0m\u001b[mStep reward: 0.0\u001b[0m\n"
     ]
    },
    {
     "name": "stderr",
     "output_type": "stream",
     "text": [
      "\u001b[90;3m2024-05-31 13:59:49,423 \u001b[0m\u001b[mgym                            \u001b[0m\u001b[mINFO       \u001b[0m\u001b[33m<6300.00> \u001b[0m\u001b[93;1m=== STARTING STEP ===\u001b[0m\n"
     ]
    },
    {
     "name": "stderr",
     "output_type": "stream",
     "text": [
      "\u001b[90;3m2024-05-31 13:59:49,423 \u001b[0m\u001b[36msats.satellite.Scanner-1       \u001b[0m\u001b[mINFO       \u001b[0m\u001b[33m<6300.00> \u001b[0m\u001b[36mScanner-1: \u001b[0m\u001b[maction_desat tasked for 60.0 seconds\u001b[0m\n"
     ]
    },
    {
     "name": "stderr",
     "output_type": "stream",
     "text": [
      "\u001b[90;3m2024-05-31 13:59:49,423 \u001b[0m\u001b[36msats.satellite.Scanner-1       \u001b[0m\u001b[mINFO       \u001b[0m\u001b[33m<6300.00> \u001b[0m\u001b[36mScanner-1: \u001b[0m\u001b[msetting timed terminal event at 6360.0\u001b[0m\n"
     ]
    },
    {
     "name": "stderr",
     "output_type": "stream",
     "text": [
      "\u001b[90;3m2024-05-31 13:59:49,423 \u001b[0m\u001b[msim.simulator                  \u001b[0m\u001b[mINFO       \u001b[0m\u001b[33m<6300.00> \u001b[0m\u001b[mRunning simulation at most to 17100.00 seconds\u001b[0m\n"
     ]
    },
    {
     "name": "stderr",
     "output_type": "stream",
     "text": [
      "\u001b[90;3m2024-05-31 13:59:49,427 \u001b[0m\u001b[36msats.satellite.Scanner-1       \u001b[0m\u001b[mINFO       \u001b[0m\u001b[33m<6360.00> \u001b[0m\u001b[36mScanner-1: \u001b[0m\u001b[mtimed termination at 6360.0 for action_desat\u001b[0m\n"
     ]
    },
    {
     "name": "stderr",
     "output_type": "stream",
     "text": [
      "\u001b[90;3m2024-05-31 13:59:49,427 \u001b[0m\u001b[mdata.base                      \u001b[0m\u001b[mINFO       \u001b[0m\u001b[33m<6360.00> \u001b[0m\u001b[mData reward: {'Scanner-1_4827225424': 0.0}\u001b[0m\n"
     ]
    },
    {
     "name": "stderr",
     "output_type": "stream",
     "text": [
      "\u001b[90;3m2024-05-31 13:59:49,428 \u001b[0m\u001b[mgym                            \u001b[0m\u001b[mINFO       \u001b[0m\u001b[33m<6360.00> \u001b[0m\u001b[mSatellites requiring retasking: ['Scanner-1_4827225424']\u001b[0m\n"
     ]
    },
    {
     "name": "stderr",
     "output_type": "stream",
     "text": [
      "\u001b[90;3m2024-05-31 13:59:49,428 \u001b[0m\u001b[mgym                            \u001b[0m\u001b[mINFO       \u001b[0m\u001b[33m<6360.00> \u001b[0m\u001b[mStep reward: 0.0\u001b[0m\n"
     ]
    },
    {
     "name": "stderr",
     "output_type": "stream",
     "text": [
      "\u001b[90;3m2024-05-31 13:59:49,429 \u001b[0m\u001b[mgym                            \u001b[0m\u001b[mINFO       \u001b[0m\u001b[33m<6360.00> \u001b[0m\u001b[93;1m=== STARTING STEP ===\u001b[0m\n"
     ]
    },
    {
     "name": "stderr",
     "output_type": "stream",
     "text": [
      "\u001b[90;3m2024-05-31 13:59:49,429 \u001b[0m\u001b[36msats.satellite.Scanner-1       \u001b[0m\u001b[mINFO       \u001b[0m\u001b[33m<6360.00> \u001b[0m\u001b[36mScanner-1: \u001b[0m\u001b[maction_downlink tasked for 60.0 seconds\u001b[0m\n"
     ]
    },
    {
     "name": "stderr",
     "output_type": "stream",
     "text": [
      "\u001b[90;3m2024-05-31 13:59:49,429 \u001b[0m\u001b[36msats.satellite.Scanner-1       \u001b[0m\u001b[mINFO       \u001b[0m\u001b[33m<6360.00> \u001b[0m\u001b[36mScanner-1: \u001b[0m\u001b[msetting timed terminal event at 6420.0\u001b[0m\n"
     ]
    },
    {
     "name": "stderr",
     "output_type": "stream",
     "text": [
      "\u001b[90;3m2024-05-31 13:59:49,429 \u001b[0m\u001b[msim.simulator                  \u001b[0m\u001b[mINFO       \u001b[0m\u001b[33m<6360.00> \u001b[0m\u001b[mRunning simulation at most to 17100.00 seconds\u001b[0m\n"
     ]
    },
    {
     "name": "stderr",
     "output_type": "stream",
     "text": [
      "\u001b[90;3m2024-05-31 13:59:49,433 \u001b[0m\u001b[36msats.satellite.Scanner-1       \u001b[0m\u001b[mINFO       \u001b[0m\u001b[33m<6420.00> \u001b[0m\u001b[36mScanner-1: \u001b[0m\u001b[mtimed termination at 6420.0 for action_downlink\u001b[0m\n"
     ]
    },
    {
     "name": "stderr",
     "output_type": "stream",
     "text": [
      "\u001b[90;3m2024-05-31 13:59:49,433 \u001b[0m\u001b[mdata.base                      \u001b[0m\u001b[mINFO       \u001b[0m\u001b[33m<6420.00> \u001b[0m\u001b[mData reward: {'Scanner-1_4827225424': 0.0}\u001b[0m\n"
     ]
    },
    {
     "name": "stderr",
     "output_type": "stream",
     "text": [
      "\u001b[90;3m2024-05-31 13:59:49,434 \u001b[0m\u001b[mgym                            \u001b[0m\u001b[mINFO       \u001b[0m\u001b[33m<6420.00> \u001b[0m\u001b[mSatellites requiring retasking: ['Scanner-1_4827225424']\u001b[0m\n"
     ]
    },
    {
     "name": "stderr",
     "output_type": "stream",
     "text": [
      "\u001b[90;3m2024-05-31 13:59:49,435 \u001b[0m\u001b[mgym                            \u001b[0m\u001b[mINFO       \u001b[0m\u001b[33m<6420.00> \u001b[0m\u001b[mStep reward: 0.0\u001b[0m\n"
     ]
    },
    {
     "name": "stderr",
     "output_type": "stream",
     "text": [
      "\u001b[90;3m2024-05-31 13:59:49,435 \u001b[0m\u001b[mgym                            \u001b[0m\u001b[mINFO       \u001b[0m\u001b[33m<6420.00> \u001b[0m\u001b[93;1m=== STARTING STEP ===\u001b[0m\n"
     ]
    },
    {
     "name": "stderr",
     "output_type": "stream",
     "text": [
      "\u001b[90;3m2024-05-31 13:59:49,435 \u001b[0m\u001b[36msats.satellite.Scanner-1       \u001b[0m\u001b[mINFO       \u001b[0m\u001b[33m<6420.00> \u001b[0m\u001b[36mScanner-1: \u001b[0m\u001b[maction_charge tasked for 180.0 seconds\u001b[0m\n"
     ]
    },
    {
     "name": "stderr",
     "output_type": "stream",
     "text": [
      "\u001b[90;3m2024-05-31 13:59:49,435 \u001b[0m\u001b[36msats.satellite.Scanner-1       \u001b[0m\u001b[mINFO       \u001b[0m\u001b[33m<6420.00> \u001b[0m\u001b[36mScanner-1: \u001b[0m\u001b[msetting timed terminal event at 6600.0\u001b[0m\n"
     ]
    },
    {
     "name": "stderr",
     "output_type": "stream",
     "text": [
      "\u001b[90;3m2024-05-31 13:59:49,436 \u001b[0m\u001b[msim.simulator                  \u001b[0m\u001b[mINFO       \u001b[0m\u001b[33m<6420.00> \u001b[0m\u001b[mRunning simulation at most to 17100.00 seconds\u001b[0m\n"
     ]
    },
    {
     "name": "stderr",
     "output_type": "stream",
     "text": [
      "\u001b[90;3m2024-05-31 13:59:49,446 \u001b[0m\u001b[36msats.satellite.Scanner-1       \u001b[0m\u001b[mINFO       \u001b[0m\u001b[33m<6600.00> \u001b[0m\u001b[36mScanner-1: \u001b[0m\u001b[mtimed termination at 6600.0 for action_charge\u001b[0m\n"
     ]
    },
    {
     "name": "stderr",
     "output_type": "stream",
     "text": [
      "\u001b[90;3m2024-05-31 13:59:49,447 \u001b[0m\u001b[mdata.base                      \u001b[0m\u001b[mINFO       \u001b[0m\u001b[33m<6600.00> \u001b[0m\u001b[mData reward: {'Scanner-1_4827225424': 0.0}\u001b[0m\n"
     ]
    },
    {
     "name": "stderr",
     "output_type": "stream",
     "text": [
      "\u001b[90;3m2024-05-31 13:59:49,448 \u001b[0m\u001b[mgym                            \u001b[0m\u001b[mINFO       \u001b[0m\u001b[33m<6600.00> \u001b[0m\u001b[mSatellites requiring retasking: ['Scanner-1_4827225424']\u001b[0m\n"
     ]
    },
    {
     "name": "stderr",
     "output_type": "stream",
     "text": [
      "\u001b[90;3m2024-05-31 13:59:49,448 \u001b[0m\u001b[mgym                            \u001b[0m\u001b[mINFO       \u001b[0m\u001b[33m<6600.00> \u001b[0m\u001b[mStep reward: 0.0\u001b[0m\n"
     ]
    },
    {
     "name": "stderr",
     "output_type": "stream",
     "text": [
      "\u001b[90;3m2024-05-31 13:59:49,448 \u001b[0m\u001b[mgym                            \u001b[0m\u001b[mINFO       \u001b[0m\u001b[33m<6600.00> \u001b[0m\u001b[93;1m=== STARTING STEP ===\u001b[0m\n"
     ]
    },
    {
     "name": "stderr",
     "output_type": "stream",
     "text": [
      "\u001b[90;3m2024-05-31 13:59:49,448 \u001b[0m\u001b[36msats.satellite.Scanner-1       \u001b[0m\u001b[mINFO       \u001b[0m\u001b[33m<6600.00> \u001b[0m\u001b[36mScanner-1: \u001b[0m\u001b[maction_downlink tasked for 60.0 seconds\u001b[0m\n"
     ]
    },
    {
     "name": "stderr",
     "output_type": "stream",
     "text": [
      "\u001b[90;3m2024-05-31 13:59:49,449 \u001b[0m\u001b[36msats.satellite.Scanner-1       \u001b[0m\u001b[mINFO       \u001b[0m\u001b[33m<6600.00> \u001b[0m\u001b[36mScanner-1: \u001b[0m\u001b[msetting timed terminal event at 6660.0\u001b[0m\n"
     ]
    },
    {
     "name": "stderr",
     "output_type": "stream",
     "text": [
      "\u001b[90;3m2024-05-31 13:59:49,449 \u001b[0m\u001b[msim.simulator                  \u001b[0m\u001b[mINFO       \u001b[0m\u001b[33m<6600.00> \u001b[0m\u001b[mRunning simulation at most to 17100.00 seconds\u001b[0m\n"
     ]
    },
    {
     "name": "stderr",
     "output_type": "stream",
     "text": [
      "\u001b[90;3m2024-05-31 13:59:49,453 \u001b[0m\u001b[36msats.satellite.Scanner-1       \u001b[0m\u001b[mINFO       \u001b[0m\u001b[33m<6660.00> \u001b[0m\u001b[36mScanner-1: \u001b[0m\u001b[mtimed termination at 6660.0 for action_downlink\u001b[0m\n"
     ]
    },
    {
     "name": "stderr",
     "output_type": "stream",
     "text": [
      "\u001b[90;3m2024-05-31 13:59:49,453 \u001b[0m\u001b[mdata.base                      \u001b[0m\u001b[mINFO       \u001b[0m\u001b[33m<6660.00> \u001b[0m\u001b[mData reward: {'Scanner-1_4827225424': 0.0}\u001b[0m\n"
     ]
    },
    {
     "name": "stderr",
     "output_type": "stream",
     "text": [
      "\u001b[90;3m2024-05-31 13:59:49,454 \u001b[0m\u001b[mgym                            \u001b[0m\u001b[mINFO       \u001b[0m\u001b[33m<6660.00> \u001b[0m\u001b[mSatellites requiring retasking: ['Scanner-1_4827225424']\u001b[0m\n"
     ]
    },
    {
     "name": "stderr",
     "output_type": "stream",
     "text": [
      "\u001b[90;3m2024-05-31 13:59:49,454 \u001b[0m\u001b[mgym                            \u001b[0m\u001b[mINFO       \u001b[0m\u001b[33m<6660.00> \u001b[0m\u001b[mStep reward: 0.0\u001b[0m\n"
     ]
    },
    {
     "name": "stderr",
     "output_type": "stream",
     "text": [
      "\u001b[90;3m2024-05-31 13:59:49,454 \u001b[0m\u001b[mgym                            \u001b[0m\u001b[mINFO       \u001b[0m\u001b[33m<6660.00> \u001b[0m\u001b[93;1m=== STARTING STEP ===\u001b[0m\n"
     ]
    },
    {
     "name": "stderr",
     "output_type": "stream",
     "text": [
      "\u001b[90;3m2024-05-31 13:59:49,455 \u001b[0m\u001b[36msats.satellite.Scanner-1       \u001b[0m\u001b[mINFO       \u001b[0m\u001b[33m<6660.00> \u001b[0m\u001b[36mScanner-1: \u001b[0m\u001b[maction_desat tasked for 60.0 seconds\u001b[0m\n"
     ]
    },
    {
     "name": "stderr",
     "output_type": "stream",
     "text": [
      "\u001b[90;3m2024-05-31 13:59:49,455 \u001b[0m\u001b[36msats.satellite.Scanner-1       \u001b[0m\u001b[mINFO       \u001b[0m\u001b[33m<6660.00> \u001b[0m\u001b[36mScanner-1: \u001b[0m\u001b[msetting timed terminal event at 6720.0\u001b[0m\n"
     ]
    },
    {
     "name": "stderr",
     "output_type": "stream",
     "text": [
      "\u001b[90;3m2024-05-31 13:59:49,455 \u001b[0m\u001b[msim.simulator                  \u001b[0m\u001b[mINFO       \u001b[0m\u001b[33m<6660.00> \u001b[0m\u001b[mRunning simulation at most to 17100.00 seconds\u001b[0m\n"
     ]
    },
    {
     "name": "stderr",
     "output_type": "stream",
     "text": [
      "\u001b[90;3m2024-05-31 13:59:49,459 \u001b[0m\u001b[36msats.satellite.Scanner-1       \u001b[0m\u001b[mINFO       \u001b[0m\u001b[33m<6720.00> \u001b[0m\u001b[36mScanner-1: \u001b[0m\u001b[mtimed termination at 6720.0 for action_desat\u001b[0m\n"
     ]
    },
    {
     "name": "stderr",
     "output_type": "stream",
     "text": [
      "\u001b[90;3m2024-05-31 13:59:49,459 \u001b[0m\u001b[mdata.base                      \u001b[0m\u001b[mINFO       \u001b[0m\u001b[33m<6720.00> \u001b[0m\u001b[mData reward: {'Scanner-1_4827225424': 0.0}\u001b[0m\n"
     ]
    },
    {
     "name": "stderr",
     "output_type": "stream",
     "text": [
      "\u001b[90;3m2024-05-31 13:59:49,460 \u001b[0m\u001b[mgym                            \u001b[0m\u001b[mINFO       \u001b[0m\u001b[33m<6720.00> \u001b[0m\u001b[mSatellites requiring retasking: ['Scanner-1_4827225424']\u001b[0m\n"
     ]
    },
    {
     "name": "stderr",
     "output_type": "stream",
     "text": [
      "\u001b[90;3m2024-05-31 13:59:49,460 \u001b[0m\u001b[mgym                            \u001b[0m\u001b[mINFO       \u001b[0m\u001b[33m<6720.00> \u001b[0m\u001b[mStep reward: 0.0\u001b[0m\n"
     ]
    },
    {
     "name": "stderr",
     "output_type": "stream",
     "text": [
      "\u001b[90;3m2024-05-31 13:59:49,461 \u001b[0m\u001b[mgym                            \u001b[0m\u001b[mINFO       \u001b[0m\u001b[33m<6720.00> \u001b[0m\u001b[93;1m=== STARTING STEP ===\u001b[0m\n"
     ]
    },
    {
     "name": "stderr",
     "output_type": "stream",
     "text": [
      "\u001b[90;3m2024-05-31 13:59:49,461 \u001b[0m\u001b[36msats.satellite.Scanner-1       \u001b[0m\u001b[mINFO       \u001b[0m\u001b[33m<6720.00> \u001b[0m\u001b[36mScanner-1: \u001b[0m\u001b[maction_nadir_scan tasked for 180.0 seconds\u001b[0m\n"
     ]
    },
    {
     "name": "stderr",
     "output_type": "stream",
     "text": [
      "\u001b[90;3m2024-05-31 13:59:49,461 \u001b[0m\u001b[36msats.satellite.Scanner-1       \u001b[0m\u001b[mINFO       \u001b[0m\u001b[33m<6720.00> \u001b[0m\u001b[36mScanner-1: \u001b[0m\u001b[msetting timed terminal event at 6900.0\u001b[0m\n"
     ]
    },
    {
     "name": "stderr",
     "output_type": "stream",
     "text": [
      "\u001b[90;3m2024-05-31 13:59:49,461 \u001b[0m\u001b[msim.simulator                  \u001b[0m\u001b[mINFO       \u001b[0m\u001b[33m<6720.00> \u001b[0m\u001b[mRunning simulation at most to 17100.00 seconds\u001b[0m\n"
     ]
    },
    {
     "name": "stderr",
     "output_type": "stream",
     "text": [
      "\u001b[90;3m2024-05-31 13:59:49,472 \u001b[0m\u001b[36msats.satellite.Scanner-1       \u001b[0m\u001b[mINFO       \u001b[0m\u001b[33m<6900.00> \u001b[0m\u001b[36mScanner-1: \u001b[0m\u001b[mtimed termination at 6900.0 for action_nadir_scan\u001b[0m\n"
     ]
    },
    {
     "name": "stderr",
     "output_type": "stream",
     "text": [
      "\u001b[90;3m2024-05-31 13:59:49,472 \u001b[0m\u001b[mdata.base                      \u001b[0m\u001b[mINFO       \u001b[0m\u001b[33m<6900.00> \u001b[0m\u001b[mData reward: {'Scanner-1_4827225424': 0.00824561403508772}\u001b[0m\n"
     ]
    },
    {
     "name": "stderr",
     "output_type": "stream",
     "text": [
      "\u001b[90;3m2024-05-31 13:59:49,473 \u001b[0m\u001b[mgym                            \u001b[0m\u001b[mINFO       \u001b[0m\u001b[33m<6900.00> \u001b[0m\u001b[mSatellites requiring retasking: ['Scanner-1_4827225424']\u001b[0m\n"
     ]
    },
    {
     "name": "stderr",
     "output_type": "stream",
     "text": [
      "\u001b[90;3m2024-05-31 13:59:49,474 \u001b[0m\u001b[mgym                            \u001b[0m\u001b[mINFO       \u001b[0m\u001b[33m<6900.00> \u001b[0m\u001b[mStep reward: 0.00824561403508772\u001b[0m\n"
     ]
    },
    {
     "name": "stderr",
     "output_type": "stream",
     "text": [
      "\u001b[90;3m2024-05-31 13:59:49,474 \u001b[0m\u001b[mgym                            \u001b[0m\u001b[mINFO       \u001b[0m\u001b[33m<6900.00> \u001b[0m\u001b[93;1m=== STARTING STEP ===\u001b[0m\n"
     ]
    },
    {
     "name": "stderr",
     "output_type": "stream",
     "text": [
      "\u001b[90;3m2024-05-31 13:59:49,474 \u001b[0m\u001b[36msats.satellite.Scanner-1       \u001b[0m\u001b[mINFO       \u001b[0m\u001b[33m<6900.00> \u001b[0m\u001b[36mScanner-1: \u001b[0m\u001b[maction_nadir_scan tasked for 180.0 seconds\u001b[0m\n"
     ]
    },
    {
     "name": "stderr",
     "output_type": "stream",
     "text": [
      "\u001b[90;3m2024-05-31 13:59:49,474 \u001b[0m\u001b[36msats.satellite.Scanner-1       \u001b[0m\u001b[mINFO       \u001b[0m\u001b[33m<6900.00> \u001b[0m\u001b[36mScanner-1: \u001b[0m\u001b[msetting timed terminal event at 7080.0\u001b[0m\n"
     ]
    },
    {
     "name": "stderr",
     "output_type": "stream",
     "text": [
      "\u001b[90;3m2024-05-31 13:59:49,475 \u001b[0m\u001b[msim.simulator                  \u001b[0m\u001b[mINFO       \u001b[0m\u001b[33m<6900.00> \u001b[0m\u001b[mRunning simulation at most to 17100.00 seconds\u001b[0m\n"
     ]
    },
    {
     "name": "stderr",
     "output_type": "stream",
     "text": [
      "\u001b[90;3m2024-05-31 13:59:49,485 \u001b[0m\u001b[36msats.satellite.Scanner-1       \u001b[0m\u001b[mINFO       \u001b[0m\u001b[33m<7080.00> \u001b[0m\u001b[36mScanner-1: \u001b[0m\u001b[mtimed termination at 7080.0 for action_nadir_scan\u001b[0m\n"
     ]
    },
    {
     "name": "stderr",
     "output_type": "stream",
     "text": [
      "\u001b[90;3m2024-05-31 13:59:49,485 \u001b[0m\u001b[mdata.base                      \u001b[0m\u001b[mINFO       \u001b[0m\u001b[33m<7080.00> \u001b[0m\u001b[mData reward: {'Scanner-1_4827225424': 0.010526315789473684}\u001b[0m\n"
     ]
    },
    {
     "name": "stderr",
     "output_type": "stream",
     "text": [
      "\u001b[90;3m2024-05-31 13:59:49,486 \u001b[0m\u001b[mgym                            \u001b[0m\u001b[mINFO       \u001b[0m\u001b[33m<7080.00> \u001b[0m\u001b[mSatellites requiring retasking: ['Scanner-1_4827225424']\u001b[0m\n"
     ]
    },
    {
     "name": "stderr",
     "output_type": "stream",
     "text": [
      "\u001b[90;3m2024-05-31 13:59:49,486 \u001b[0m\u001b[mgym                            \u001b[0m\u001b[mINFO       \u001b[0m\u001b[33m<7080.00> \u001b[0m\u001b[mStep reward: 0.010526315789473684\u001b[0m\n"
     ]
    },
    {
     "name": "stderr",
     "output_type": "stream",
     "text": [
      "\u001b[90;3m2024-05-31 13:59:49,487 \u001b[0m\u001b[mgym                            \u001b[0m\u001b[mINFO       \u001b[0m\u001b[33m<7080.00> \u001b[0m\u001b[93;1m=== STARTING STEP ===\u001b[0m\n"
     ]
    },
    {
     "name": "stderr",
     "output_type": "stream",
     "text": [
      "\u001b[90;3m2024-05-31 13:59:49,487 \u001b[0m\u001b[36msats.satellite.Scanner-1       \u001b[0m\u001b[mINFO       \u001b[0m\u001b[33m<7080.00> \u001b[0m\u001b[36mScanner-1: \u001b[0m\u001b[maction_nadir_scan tasked for 180.0 seconds\u001b[0m\n"
     ]
    },
    {
     "name": "stderr",
     "output_type": "stream",
     "text": [
      "\u001b[90;3m2024-05-31 13:59:49,487 \u001b[0m\u001b[36msats.satellite.Scanner-1       \u001b[0m\u001b[mINFO       \u001b[0m\u001b[33m<7080.00> \u001b[0m\u001b[36mScanner-1: \u001b[0m\u001b[msetting timed terminal event at 7260.0\u001b[0m\n"
     ]
    },
    {
     "name": "stderr",
     "output_type": "stream",
     "text": [
      "\u001b[90;3m2024-05-31 13:59:49,487 \u001b[0m\u001b[msim.simulator                  \u001b[0m\u001b[mINFO       \u001b[0m\u001b[33m<7080.00> \u001b[0m\u001b[mRunning simulation at most to 17100.00 seconds\u001b[0m\n"
     ]
    },
    {
     "name": "stderr",
     "output_type": "stream",
     "text": [
      "\u001b[90;3m2024-05-31 13:59:49,498 \u001b[0m\u001b[36msats.satellite.Scanner-1       \u001b[0m\u001b[mINFO       \u001b[0m\u001b[33m<7260.00> \u001b[0m\u001b[36mScanner-1: \u001b[0m\u001b[mtimed termination at 7260.0 for action_nadir_scan\u001b[0m\n"
     ]
    },
    {
     "name": "stderr",
     "output_type": "stream",
     "text": [
      "\u001b[90;3m2024-05-31 13:59:49,498 \u001b[0m\u001b[mdata.base                      \u001b[0m\u001b[mINFO       \u001b[0m\u001b[33m<7260.00> \u001b[0m\u001b[mData reward: {'Scanner-1_4827225424': 0.010526315789473684}\u001b[0m\n"
     ]
    },
    {
     "name": "stderr",
     "output_type": "stream",
     "text": [
      "\u001b[90;3m2024-05-31 13:59:49,499 \u001b[0m\u001b[mgym                            \u001b[0m\u001b[mINFO       \u001b[0m\u001b[33m<7260.00> \u001b[0m\u001b[mSatellites requiring retasking: ['Scanner-1_4827225424']\u001b[0m\n"
     ]
    },
    {
     "name": "stderr",
     "output_type": "stream",
     "text": [
      "\u001b[90;3m2024-05-31 13:59:49,499 \u001b[0m\u001b[mgym                            \u001b[0m\u001b[mINFO       \u001b[0m\u001b[33m<7260.00> \u001b[0m\u001b[mStep reward: 0.010526315789473684\u001b[0m\n"
     ]
    },
    {
     "name": "stderr",
     "output_type": "stream",
     "text": [
      "\u001b[90;3m2024-05-31 13:59:49,500 \u001b[0m\u001b[mgym                            \u001b[0m\u001b[mINFO       \u001b[0m\u001b[33m<7260.00> \u001b[0m\u001b[93;1m=== STARTING STEP ===\u001b[0m\n"
     ]
    },
    {
     "name": "stderr",
     "output_type": "stream",
     "text": [
      "\u001b[90;3m2024-05-31 13:59:49,500 \u001b[0m\u001b[36msats.satellite.Scanner-1       \u001b[0m\u001b[mINFO       \u001b[0m\u001b[33m<7260.00> \u001b[0m\u001b[36mScanner-1: \u001b[0m\u001b[maction_desat tasked for 60.0 seconds\u001b[0m\n"
     ]
    },
    {
     "name": "stderr",
     "output_type": "stream",
     "text": [
      "\u001b[90;3m2024-05-31 13:59:49,500 \u001b[0m\u001b[36msats.satellite.Scanner-1       \u001b[0m\u001b[mINFO       \u001b[0m\u001b[33m<7260.00> \u001b[0m\u001b[36mScanner-1: \u001b[0m\u001b[msetting timed terminal event at 7320.0\u001b[0m\n"
     ]
    },
    {
     "name": "stderr",
     "output_type": "stream",
     "text": [
      "\u001b[90;3m2024-05-31 13:59:49,500 \u001b[0m\u001b[msim.simulator                  \u001b[0m\u001b[mINFO       \u001b[0m\u001b[33m<7260.00> \u001b[0m\u001b[mRunning simulation at most to 17100.00 seconds\u001b[0m\n"
     ]
    },
    {
     "name": "stderr",
     "output_type": "stream",
     "text": [
      "\u001b[90;3m2024-05-31 13:59:49,504 \u001b[0m\u001b[36msats.satellite.Scanner-1       \u001b[0m\u001b[mINFO       \u001b[0m\u001b[33m<7320.00> \u001b[0m\u001b[36mScanner-1: \u001b[0m\u001b[mtimed termination at 7320.0 for action_desat\u001b[0m\n"
     ]
    },
    {
     "name": "stderr",
     "output_type": "stream",
     "text": [
      "\u001b[90;3m2024-05-31 13:59:49,505 \u001b[0m\u001b[mdata.base                      \u001b[0m\u001b[mINFO       \u001b[0m\u001b[33m<7320.00> \u001b[0m\u001b[mData reward: {'Scanner-1_4827225424': 0.0}\u001b[0m\n"
     ]
    },
    {
     "name": "stderr",
     "output_type": "stream",
     "text": [
      "\u001b[90;3m2024-05-31 13:59:49,506 \u001b[0m\u001b[mgym                            \u001b[0m\u001b[mINFO       \u001b[0m\u001b[33m<7320.00> \u001b[0m\u001b[mSatellites requiring retasking: ['Scanner-1_4827225424']\u001b[0m\n"
     ]
    },
    {
     "name": "stderr",
     "output_type": "stream",
     "text": [
      "\u001b[90;3m2024-05-31 13:59:49,506 \u001b[0m\u001b[mgym                            \u001b[0m\u001b[mINFO       \u001b[0m\u001b[33m<7320.00> \u001b[0m\u001b[mStep reward: 0.0\u001b[0m\n"
     ]
    },
    {
     "name": "stderr",
     "output_type": "stream",
     "text": [
      "\u001b[90;3m2024-05-31 13:59:49,506 \u001b[0m\u001b[mgym                            \u001b[0m\u001b[mINFO       \u001b[0m\u001b[33m<7320.00> \u001b[0m\u001b[93;1m=== STARTING STEP ===\u001b[0m\n"
     ]
    },
    {
     "name": "stderr",
     "output_type": "stream",
     "text": [
      "\u001b[90;3m2024-05-31 13:59:49,507 \u001b[0m\u001b[36msats.satellite.Scanner-1       \u001b[0m\u001b[mINFO       \u001b[0m\u001b[33m<7320.00> \u001b[0m\u001b[36mScanner-1: \u001b[0m\u001b[maction_desat tasked for 60.0 seconds\u001b[0m\n"
     ]
    },
    {
     "name": "stderr",
     "output_type": "stream",
     "text": [
      "\u001b[90;3m2024-05-31 13:59:49,507 \u001b[0m\u001b[36msats.satellite.Scanner-1       \u001b[0m\u001b[mINFO       \u001b[0m\u001b[33m<7320.00> \u001b[0m\u001b[36mScanner-1: \u001b[0m\u001b[msetting timed terminal event at 7380.0\u001b[0m\n"
     ]
    },
    {
     "name": "stderr",
     "output_type": "stream",
     "text": [
      "\u001b[90;3m2024-05-31 13:59:49,507 \u001b[0m\u001b[msim.simulator                  \u001b[0m\u001b[mINFO       \u001b[0m\u001b[33m<7320.00> \u001b[0m\u001b[mRunning simulation at most to 17100.00 seconds\u001b[0m\n"
     ]
    },
    {
     "name": "stderr",
     "output_type": "stream",
     "text": [
      "\u001b[90;3m2024-05-31 13:59:49,511 \u001b[0m\u001b[36msats.satellite.Scanner-1       \u001b[0m\u001b[mINFO       \u001b[0m\u001b[33m<7380.00> \u001b[0m\u001b[36mScanner-1: \u001b[0m\u001b[mtimed termination at 7380.0 for action_desat\u001b[0m\n"
     ]
    },
    {
     "name": "stderr",
     "output_type": "stream",
     "text": [
      "\u001b[90;3m2024-05-31 13:59:49,511 \u001b[0m\u001b[mdata.base                      \u001b[0m\u001b[mINFO       \u001b[0m\u001b[33m<7380.00> \u001b[0m\u001b[mData reward: {'Scanner-1_4827225424': 0.0}\u001b[0m\n"
     ]
    },
    {
     "name": "stderr",
     "output_type": "stream",
     "text": [
      "\u001b[90;3m2024-05-31 13:59:49,512 \u001b[0m\u001b[mgym                            \u001b[0m\u001b[mINFO       \u001b[0m\u001b[33m<7380.00> \u001b[0m\u001b[mSatellites requiring retasking: ['Scanner-1_4827225424']\u001b[0m\n"
     ]
    },
    {
     "name": "stderr",
     "output_type": "stream",
     "text": [
      "\u001b[90;3m2024-05-31 13:59:49,513 \u001b[0m\u001b[mgym                            \u001b[0m\u001b[mINFO       \u001b[0m\u001b[33m<7380.00> \u001b[0m\u001b[mStep reward: 0.0\u001b[0m\n"
     ]
    },
    {
     "name": "stderr",
     "output_type": "stream",
     "text": [
      "\u001b[90;3m2024-05-31 13:59:49,513 \u001b[0m\u001b[mgym                            \u001b[0m\u001b[mINFO       \u001b[0m\u001b[33m<7380.00> \u001b[0m\u001b[93;1m=== STARTING STEP ===\u001b[0m\n"
     ]
    },
    {
     "name": "stderr",
     "output_type": "stream",
     "text": [
      "\u001b[90;3m2024-05-31 13:59:49,513 \u001b[0m\u001b[36msats.satellite.Scanner-1       \u001b[0m\u001b[mINFO       \u001b[0m\u001b[33m<7380.00> \u001b[0m\u001b[36mScanner-1: \u001b[0m\u001b[maction_nadir_scan tasked for 180.0 seconds\u001b[0m\n"
     ]
    },
    {
     "name": "stderr",
     "output_type": "stream",
     "text": [
      "\u001b[90;3m2024-05-31 13:59:49,514 \u001b[0m\u001b[36msats.satellite.Scanner-1       \u001b[0m\u001b[mINFO       \u001b[0m\u001b[33m<7380.00> \u001b[0m\u001b[36mScanner-1: \u001b[0m\u001b[msetting timed terminal event at 7560.0\u001b[0m\n"
     ]
    },
    {
     "name": "stderr",
     "output_type": "stream",
     "text": [
      "\u001b[90;3m2024-05-31 13:59:49,514 \u001b[0m\u001b[msim.simulator                  \u001b[0m\u001b[mINFO       \u001b[0m\u001b[33m<7380.00> \u001b[0m\u001b[mRunning simulation at most to 17100.00 seconds\u001b[0m\n"
     ]
    },
    {
     "name": "stderr",
     "output_type": "stream",
     "text": [
      "\u001b[90;3m2024-05-31 13:59:49,525 \u001b[0m\u001b[36msats.satellite.Scanner-1       \u001b[0m\u001b[mINFO       \u001b[0m\u001b[33m<7560.00> \u001b[0m\u001b[36mScanner-1: \u001b[0m\u001b[mtimed termination at 7560.0 for action_nadir_scan\u001b[0m\n"
     ]
    },
    {
     "name": "stderr",
     "output_type": "stream",
     "text": [
      "\u001b[90;3m2024-05-31 13:59:49,525 \u001b[0m\u001b[mdata.base                      \u001b[0m\u001b[mINFO       \u001b[0m\u001b[33m<7560.00> \u001b[0m\u001b[mData reward: {'Scanner-1_4827225424': 0.00824561403508772}\u001b[0m\n"
     ]
    },
    {
     "name": "stderr",
     "output_type": "stream",
     "text": [
      "\u001b[90;3m2024-05-31 13:59:49,526 \u001b[0m\u001b[mgym                            \u001b[0m\u001b[mINFO       \u001b[0m\u001b[33m<7560.00> \u001b[0m\u001b[mSatellites requiring retasking: ['Scanner-1_4827225424']\u001b[0m\n"
     ]
    },
    {
     "name": "stderr",
     "output_type": "stream",
     "text": [
      "\u001b[90;3m2024-05-31 13:59:49,526 \u001b[0m\u001b[mgym                            \u001b[0m\u001b[mINFO       \u001b[0m\u001b[33m<7560.00> \u001b[0m\u001b[mStep reward: 0.00824561403508772\u001b[0m\n"
     ]
    },
    {
     "name": "stderr",
     "output_type": "stream",
     "text": [
      "\u001b[90;3m2024-05-31 13:59:49,526 \u001b[0m\u001b[mgym                            \u001b[0m\u001b[mINFO       \u001b[0m\u001b[33m<7560.00> \u001b[0m\u001b[93;1m=== STARTING STEP ===\u001b[0m\n"
     ]
    },
    {
     "name": "stderr",
     "output_type": "stream",
     "text": [
      "\u001b[90;3m2024-05-31 13:59:49,527 \u001b[0m\u001b[36msats.satellite.Scanner-1       \u001b[0m\u001b[mINFO       \u001b[0m\u001b[33m<7560.00> \u001b[0m\u001b[36mScanner-1: \u001b[0m\u001b[maction_charge tasked for 180.0 seconds\u001b[0m\n"
     ]
    },
    {
     "name": "stderr",
     "output_type": "stream",
     "text": [
      "\u001b[90;3m2024-05-31 13:59:49,527 \u001b[0m\u001b[36msats.satellite.Scanner-1       \u001b[0m\u001b[mINFO       \u001b[0m\u001b[33m<7560.00> \u001b[0m\u001b[36mScanner-1: \u001b[0m\u001b[msetting timed terminal event at 7740.0\u001b[0m\n"
     ]
    },
    {
     "name": "stderr",
     "output_type": "stream",
     "text": [
      "\u001b[90;3m2024-05-31 13:59:49,527 \u001b[0m\u001b[msim.simulator                  \u001b[0m\u001b[mINFO       \u001b[0m\u001b[33m<7560.00> \u001b[0m\u001b[mRunning simulation at most to 17100.00 seconds\u001b[0m\n"
     ]
    },
    {
     "name": "stderr",
     "output_type": "stream",
     "text": [
      "\u001b[90;3m2024-05-31 13:59:49,538 \u001b[0m\u001b[36msats.satellite.Scanner-1       \u001b[0m\u001b[mINFO       \u001b[0m\u001b[33m<7740.00> \u001b[0m\u001b[36mScanner-1: \u001b[0m\u001b[mtimed termination at 7740.0 for action_charge\u001b[0m\n"
     ]
    },
    {
     "name": "stderr",
     "output_type": "stream",
     "text": [
      "\u001b[90;3m2024-05-31 13:59:49,538 \u001b[0m\u001b[mdata.base                      \u001b[0m\u001b[mINFO       \u001b[0m\u001b[33m<7740.00> \u001b[0m\u001b[mData reward: {'Scanner-1_4827225424': 0.0}\u001b[0m\n"
     ]
    },
    {
     "name": "stderr",
     "output_type": "stream",
     "text": [
      "\u001b[90;3m2024-05-31 13:59:49,539 \u001b[0m\u001b[mgym                            \u001b[0m\u001b[mINFO       \u001b[0m\u001b[33m<7740.00> \u001b[0m\u001b[mSatellites requiring retasking: ['Scanner-1_4827225424']\u001b[0m\n"
     ]
    },
    {
     "name": "stderr",
     "output_type": "stream",
     "text": [
      "\u001b[90;3m2024-05-31 13:59:49,539 \u001b[0m\u001b[mgym                            \u001b[0m\u001b[mINFO       \u001b[0m\u001b[33m<7740.00> \u001b[0m\u001b[mStep reward: 0.0\u001b[0m\n"
     ]
    },
    {
     "name": "stderr",
     "output_type": "stream",
     "text": [
      "\u001b[90;3m2024-05-31 13:59:49,540 \u001b[0m\u001b[mgym                            \u001b[0m\u001b[mINFO       \u001b[0m\u001b[33m<7740.00> \u001b[0m\u001b[93;1m=== STARTING STEP ===\u001b[0m\n"
     ]
    },
    {
     "name": "stderr",
     "output_type": "stream",
     "text": [
      "\u001b[90;3m2024-05-31 13:59:49,540 \u001b[0m\u001b[36msats.satellite.Scanner-1       \u001b[0m\u001b[mINFO       \u001b[0m\u001b[33m<7740.00> \u001b[0m\u001b[36mScanner-1: \u001b[0m\u001b[maction_nadir_scan tasked for 180.0 seconds\u001b[0m\n"
     ]
    },
    {
     "name": "stderr",
     "output_type": "stream",
     "text": [
      "\u001b[90;3m2024-05-31 13:59:49,540 \u001b[0m\u001b[36msats.satellite.Scanner-1       \u001b[0m\u001b[mINFO       \u001b[0m\u001b[33m<7740.00> \u001b[0m\u001b[36mScanner-1: \u001b[0m\u001b[msetting timed terminal event at 7920.0\u001b[0m\n"
     ]
    },
    {
     "name": "stderr",
     "output_type": "stream",
     "text": [
      "\u001b[90;3m2024-05-31 13:59:49,540 \u001b[0m\u001b[msim.simulator                  \u001b[0m\u001b[mINFO       \u001b[0m\u001b[33m<7740.00> \u001b[0m\u001b[mRunning simulation at most to 17100.00 seconds\u001b[0m\n"
     ]
    },
    {
     "name": "stderr",
     "output_type": "stream",
     "text": [
      "\u001b[90;3m2024-05-31 13:59:49,551 \u001b[0m\u001b[36msats.satellite.Scanner-1       \u001b[0m\u001b[mINFO       \u001b[0m\u001b[33m<7920.00> \u001b[0m\u001b[36mScanner-1: \u001b[0m\u001b[mtimed termination at 7920.0 for action_nadir_scan\u001b[0m\n"
     ]
    },
    {
     "name": "stderr",
     "output_type": "stream",
     "text": [
      "\u001b[90;3m2024-05-31 13:59:49,551 \u001b[0m\u001b[mdata.base                      \u001b[0m\u001b[mINFO       \u001b[0m\u001b[33m<7920.00> \u001b[0m\u001b[mData reward: {'Scanner-1_4827225424': 0.010526315789473684}\u001b[0m\n"
     ]
    },
    {
     "name": "stderr",
     "output_type": "stream",
     "text": [
      "\u001b[90;3m2024-05-31 13:59:49,552 \u001b[0m\u001b[mgym                            \u001b[0m\u001b[mINFO       \u001b[0m\u001b[33m<7920.00> \u001b[0m\u001b[mSatellites requiring retasking: ['Scanner-1_4827225424']\u001b[0m\n"
     ]
    },
    {
     "name": "stderr",
     "output_type": "stream",
     "text": [
      "\u001b[90;3m2024-05-31 13:59:49,552 \u001b[0m\u001b[mgym                            \u001b[0m\u001b[mINFO       \u001b[0m\u001b[33m<7920.00> \u001b[0m\u001b[mStep reward: 0.010526315789473684\u001b[0m\n"
     ]
    },
    {
     "name": "stderr",
     "output_type": "stream",
     "text": [
      "\u001b[90;3m2024-05-31 13:59:49,553 \u001b[0m\u001b[mgym                            \u001b[0m\u001b[mINFO       \u001b[0m\u001b[33m<7920.00> \u001b[0m\u001b[93;1m=== STARTING STEP ===\u001b[0m\n"
     ]
    },
    {
     "name": "stderr",
     "output_type": "stream",
     "text": [
      "\u001b[90;3m2024-05-31 13:59:49,553 \u001b[0m\u001b[36msats.satellite.Scanner-1       \u001b[0m\u001b[mINFO       \u001b[0m\u001b[33m<7920.00> \u001b[0m\u001b[36mScanner-1: \u001b[0m\u001b[maction_nadir_scan tasked for 180.0 seconds\u001b[0m\n"
     ]
    },
    {
     "name": "stderr",
     "output_type": "stream",
     "text": [
      "\u001b[90;3m2024-05-31 13:59:49,553 \u001b[0m\u001b[36msats.satellite.Scanner-1       \u001b[0m\u001b[mINFO       \u001b[0m\u001b[33m<7920.00> \u001b[0m\u001b[36mScanner-1: \u001b[0m\u001b[msetting timed terminal event at 8100.0\u001b[0m\n"
     ]
    },
    {
     "name": "stderr",
     "output_type": "stream",
     "text": [
      "\u001b[90;3m2024-05-31 13:59:49,553 \u001b[0m\u001b[msim.simulator                  \u001b[0m\u001b[mINFO       \u001b[0m\u001b[33m<7920.00> \u001b[0m\u001b[mRunning simulation at most to 17100.00 seconds\u001b[0m\n"
     ]
    },
    {
     "name": "stderr",
     "output_type": "stream",
     "text": [
      "\u001b[90;3m2024-05-31 13:59:49,564 \u001b[0m\u001b[36msats.satellite.Scanner-1       \u001b[0m\u001b[mINFO       \u001b[0m\u001b[33m<8100.00> \u001b[0m\u001b[36mScanner-1: \u001b[0m\u001b[mtimed termination at 8100.0 for action_nadir_scan\u001b[0m\n"
     ]
    },
    {
     "name": "stderr",
     "output_type": "stream",
     "text": [
      "\u001b[90;3m2024-05-31 13:59:49,564 \u001b[0m\u001b[mdata.base                      \u001b[0m\u001b[mINFO       \u001b[0m\u001b[33m<8100.00> \u001b[0m\u001b[mData reward: {'Scanner-1_4827225424': 0.010526315789473684}\u001b[0m\n"
     ]
    },
    {
     "name": "stderr",
     "output_type": "stream",
     "text": [
      "\u001b[90;3m2024-05-31 13:59:49,565 \u001b[0m\u001b[mgym                            \u001b[0m\u001b[mINFO       \u001b[0m\u001b[33m<8100.00> \u001b[0m\u001b[mSatellites requiring retasking: ['Scanner-1_4827225424']\u001b[0m\n"
     ]
    },
    {
     "name": "stderr",
     "output_type": "stream",
     "text": [
      "\u001b[90;3m2024-05-31 13:59:49,565 \u001b[0m\u001b[mgym                            \u001b[0m\u001b[mINFO       \u001b[0m\u001b[33m<8100.00> \u001b[0m\u001b[mStep reward: 0.010526315789473684\u001b[0m\n"
     ]
    },
    {
     "name": "stderr",
     "output_type": "stream",
     "text": [
      "\u001b[90;3m2024-05-31 13:59:49,566 \u001b[0m\u001b[mgym                            \u001b[0m\u001b[mINFO       \u001b[0m\u001b[33m<8100.00> \u001b[0m\u001b[93;1m=== STARTING STEP ===\u001b[0m\n"
     ]
    },
    {
     "name": "stderr",
     "output_type": "stream",
     "text": [
      "\u001b[90;3m2024-05-31 13:59:49,566 \u001b[0m\u001b[36msats.satellite.Scanner-1       \u001b[0m\u001b[mINFO       \u001b[0m\u001b[33m<8100.00> \u001b[0m\u001b[36mScanner-1: \u001b[0m\u001b[maction_nadir_scan tasked for 180.0 seconds\u001b[0m\n"
     ]
    },
    {
     "name": "stderr",
     "output_type": "stream",
     "text": [
      "\u001b[90;3m2024-05-31 13:59:49,566 \u001b[0m\u001b[36msats.satellite.Scanner-1       \u001b[0m\u001b[mINFO       \u001b[0m\u001b[33m<8100.00> \u001b[0m\u001b[36mScanner-1: \u001b[0m\u001b[msetting timed terminal event at 8280.0\u001b[0m\n"
     ]
    },
    {
     "name": "stderr",
     "output_type": "stream",
     "text": [
      "\u001b[90;3m2024-05-31 13:59:49,566 \u001b[0m\u001b[msim.simulator                  \u001b[0m\u001b[mINFO       \u001b[0m\u001b[33m<8100.00> \u001b[0m\u001b[mRunning simulation at most to 17100.00 seconds\u001b[0m\n"
     ]
    },
    {
     "name": "stderr",
     "output_type": "stream",
     "text": [
      "\u001b[90;3m2024-05-31 13:59:49,577 \u001b[0m\u001b[36msats.satellite.Scanner-1       \u001b[0m\u001b[mINFO       \u001b[0m\u001b[33m<8280.00> \u001b[0m\u001b[36mScanner-1: \u001b[0m\u001b[mtimed termination at 8280.0 for action_nadir_scan\u001b[0m\n"
     ]
    },
    {
     "name": "stderr",
     "output_type": "stream",
     "text": [
      "\u001b[90;3m2024-05-31 13:59:49,577 \u001b[0m\u001b[mdata.base                      \u001b[0m\u001b[mINFO       \u001b[0m\u001b[33m<8280.00> \u001b[0m\u001b[mData reward: {'Scanner-1_4827225424': 0.010526315789473684}\u001b[0m\n"
     ]
    },
    {
     "name": "stderr",
     "output_type": "stream",
     "text": [
      "\u001b[90;3m2024-05-31 13:59:49,578 \u001b[0m\u001b[mgym                            \u001b[0m\u001b[mINFO       \u001b[0m\u001b[33m<8280.00> \u001b[0m\u001b[mSatellites requiring retasking: ['Scanner-1_4827225424']\u001b[0m\n"
     ]
    },
    {
     "name": "stderr",
     "output_type": "stream",
     "text": [
      "\u001b[90;3m2024-05-31 13:59:49,578 \u001b[0m\u001b[mgym                            \u001b[0m\u001b[mINFO       \u001b[0m\u001b[33m<8280.00> \u001b[0m\u001b[mStep reward: 0.010526315789473684\u001b[0m\n"
     ]
    },
    {
     "name": "stderr",
     "output_type": "stream",
     "text": [
      "\u001b[90;3m2024-05-31 13:59:49,579 \u001b[0m\u001b[mgym                            \u001b[0m\u001b[mINFO       \u001b[0m\u001b[33m<8280.00> \u001b[0m\u001b[93;1m=== STARTING STEP ===\u001b[0m\n"
     ]
    },
    {
     "name": "stderr",
     "output_type": "stream",
     "text": [
      "\u001b[90;3m2024-05-31 13:59:49,579 \u001b[0m\u001b[36msats.satellite.Scanner-1       \u001b[0m\u001b[mINFO       \u001b[0m\u001b[33m<8280.00> \u001b[0m\u001b[36mScanner-1: \u001b[0m\u001b[maction_downlink tasked for 60.0 seconds\u001b[0m\n"
     ]
    },
    {
     "name": "stderr",
     "output_type": "stream",
     "text": [
      "\u001b[90;3m2024-05-31 13:59:49,579 \u001b[0m\u001b[36msats.satellite.Scanner-1       \u001b[0m\u001b[mINFO       \u001b[0m\u001b[33m<8280.00> \u001b[0m\u001b[36mScanner-1: \u001b[0m\u001b[msetting timed terminal event at 8340.0\u001b[0m\n"
     ]
    },
    {
     "name": "stderr",
     "output_type": "stream",
     "text": [
      "\u001b[90;3m2024-05-31 13:59:49,580 \u001b[0m\u001b[msim.simulator                  \u001b[0m\u001b[mINFO       \u001b[0m\u001b[33m<8280.00> \u001b[0m\u001b[mRunning simulation at most to 17100.00 seconds\u001b[0m\n"
     ]
    },
    {
     "name": "stderr",
     "output_type": "stream",
     "text": [
      "\u001b[90;3m2024-05-31 13:59:49,583 \u001b[0m\u001b[36msats.satellite.Scanner-1       \u001b[0m\u001b[mINFO       \u001b[0m\u001b[33m<8340.00> \u001b[0m\u001b[36mScanner-1: \u001b[0m\u001b[mtimed termination at 8340.0 for action_downlink\u001b[0m\n"
     ]
    },
    {
     "name": "stderr",
     "output_type": "stream",
     "text": [
      "\u001b[90;3m2024-05-31 13:59:49,584 \u001b[0m\u001b[mdata.base                      \u001b[0m\u001b[mINFO       \u001b[0m\u001b[33m<8340.00> \u001b[0m\u001b[mData reward: {'Scanner-1_4827225424': 0.0}\u001b[0m\n"
     ]
    },
    {
     "name": "stderr",
     "output_type": "stream",
     "text": [
      "\u001b[90;3m2024-05-31 13:59:49,585 \u001b[0m\u001b[mgym                            \u001b[0m\u001b[mINFO       \u001b[0m\u001b[33m<8340.00> \u001b[0m\u001b[mSatellites requiring retasking: ['Scanner-1_4827225424']\u001b[0m\n"
     ]
    },
    {
     "name": "stderr",
     "output_type": "stream",
     "text": [
      "\u001b[90;3m2024-05-31 13:59:49,585 \u001b[0m\u001b[mgym                            \u001b[0m\u001b[mINFO       \u001b[0m\u001b[33m<8340.00> \u001b[0m\u001b[mStep reward: 0.0\u001b[0m\n"
     ]
    },
    {
     "name": "stderr",
     "output_type": "stream",
     "text": [
      "\u001b[90;3m2024-05-31 13:59:49,585 \u001b[0m\u001b[mgym                            \u001b[0m\u001b[mINFO       \u001b[0m\u001b[33m<8340.00> \u001b[0m\u001b[93;1m=== STARTING STEP ===\u001b[0m\n"
     ]
    },
    {
     "name": "stderr",
     "output_type": "stream",
     "text": [
      "\u001b[90;3m2024-05-31 13:59:49,586 \u001b[0m\u001b[36msats.satellite.Scanner-1       \u001b[0m\u001b[mINFO       \u001b[0m\u001b[33m<8340.00> \u001b[0m\u001b[36mScanner-1: \u001b[0m\u001b[maction_nadir_scan tasked for 180.0 seconds\u001b[0m\n"
     ]
    },
    {
     "name": "stderr",
     "output_type": "stream",
     "text": [
      "\u001b[90;3m2024-05-31 13:59:49,586 \u001b[0m\u001b[36msats.satellite.Scanner-1       \u001b[0m\u001b[mINFO       \u001b[0m\u001b[33m<8340.00> \u001b[0m\u001b[36mScanner-1: \u001b[0m\u001b[msetting timed terminal event at 8520.0\u001b[0m\n"
     ]
    },
    {
     "name": "stderr",
     "output_type": "stream",
     "text": [
      "\u001b[90;3m2024-05-31 13:59:49,586 \u001b[0m\u001b[msim.simulator                  \u001b[0m\u001b[mINFO       \u001b[0m\u001b[33m<8340.00> \u001b[0m\u001b[mRunning simulation at most to 17100.00 seconds\u001b[0m\n"
     ]
    },
    {
     "name": "stderr",
     "output_type": "stream",
     "text": [
      "\u001b[90;3m2024-05-31 13:59:49,596 \u001b[0m\u001b[36msats.satellite.Scanner-1       \u001b[0m\u001b[mINFO       \u001b[0m\u001b[33m<8520.00> \u001b[0m\u001b[36mScanner-1: \u001b[0m\u001b[mtimed termination at 8520.0 for action_nadir_scan\u001b[0m\n"
     ]
    },
    {
     "name": "stderr",
     "output_type": "stream",
     "text": [
      "\u001b[90;3m2024-05-31 13:59:49,597 \u001b[0m\u001b[mdata.base                      \u001b[0m\u001b[mINFO       \u001b[0m\u001b[33m<8520.00> \u001b[0m\u001b[mData reward: {'Scanner-1_4827225424': 0.008128654970760233}\u001b[0m\n"
     ]
    },
    {
     "name": "stderr",
     "output_type": "stream",
     "text": [
      "\u001b[90;3m2024-05-31 13:59:49,598 \u001b[0m\u001b[mgym                            \u001b[0m\u001b[mINFO       \u001b[0m\u001b[33m<8520.00> \u001b[0m\u001b[mSatellites requiring retasking: ['Scanner-1_4827225424']\u001b[0m\n"
     ]
    },
    {
     "name": "stderr",
     "output_type": "stream",
     "text": [
      "\u001b[90;3m2024-05-31 13:59:49,598 \u001b[0m\u001b[mgym                            \u001b[0m\u001b[mINFO       \u001b[0m\u001b[33m<8520.00> \u001b[0m\u001b[mStep reward: 0.008128654970760233\u001b[0m\n"
     ]
    },
    {
     "name": "stderr",
     "output_type": "stream",
     "text": [
      "\u001b[90;3m2024-05-31 13:59:49,598 \u001b[0m\u001b[mgym                            \u001b[0m\u001b[mINFO       \u001b[0m\u001b[33m<8520.00> \u001b[0m\u001b[93;1m=== STARTING STEP ===\u001b[0m\n"
     ]
    },
    {
     "name": "stderr",
     "output_type": "stream",
     "text": [
      "\u001b[90;3m2024-05-31 13:59:49,598 \u001b[0m\u001b[36msats.satellite.Scanner-1       \u001b[0m\u001b[mINFO       \u001b[0m\u001b[33m<8520.00> \u001b[0m\u001b[36mScanner-1: \u001b[0m\u001b[maction_nadir_scan tasked for 180.0 seconds\u001b[0m\n"
     ]
    },
    {
     "name": "stderr",
     "output_type": "stream",
     "text": [
      "\u001b[90;3m2024-05-31 13:59:49,599 \u001b[0m\u001b[36msats.satellite.Scanner-1       \u001b[0m\u001b[mINFO       \u001b[0m\u001b[33m<8520.00> \u001b[0m\u001b[36mScanner-1: \u001b[0m\u001b[msetting timed terminal event at 8700.0\u001b[0m\n"
     ]
    },
    {
     "name": "stderr",
     "output_type": "stream",
     "text": [
      "\u001b[90;3m2024-05-31 13:59:49,599 \u001b[0m\u001b[msim.simulator                  \u001b[0m\u001b[mINFO       \u001b[0m\u001b[33m<8520.00> \u001b[0m\u001b[mRunning simulation at most to 17100.00 seconds\u001b[0m\n"
     ]
    },
    {
     "name": "stderr",
     "output_type": "stream",
     "text": [
      "\u001b[90;3m2024-05-31 13:59:49,609 \u001b[0m\u001b[36msats.satellite.Scanner-1       \u001b[0m\u001b[mINFO       \u001b[0m\u001b[33m<8700.00> \u001b[0m\u001b[36mScanner-1: \u001b[0m\u001b[mtimed termination at 8700.0 for action_nadir_scan\u001b[0m\n"
     ]
    },
    {
     "name": "stderr",
     "output_type": "stream",
     "text": [
      "\u001b[90;3m2024-05-31 13:59:49,610 \u001b[0m\u001b[mdata.base                      \u001b[0m\u001b[mINFO       \u001b[0m\u001b[33m<8700.00> \u001b[0m\u001b[mData reward: {'Scanner-1_4827225424': 0.010526315789473684}\u001b[0m\n"
     ]
    },
    {
     "name": "stderr",
     "output_type": "stream",
     "text": [
      "\u001b[90;3m2024-05-31 13:59:49,611 \u001b[0m\u001b[mgym                            \u001b[0m\u001b[mINFO       \u001b[0m\u001b[33m<8700.00> \u001b[0m\u001b[mSatellites requiring retasking: ['Scanner-1_4827225424']\u001b[0m\n"
     ]
    },
    {
     "name": "stderr",
     "output_type": "stream",
     "text": [
      "\u001b[90;3m2024-05-31 13:59:49,611 \u001b[0m\u001b[mgym                            \u001b[0m\u001b[mINFO       \u001b[0m\u001b[33m<8700.00> \u001b[0m\u001b[mStep reward: 0.010526315789473684\u001b[0m\n"
     ]
    },
    {
     "name": "stderr",
     "output_type": "stream",
     "text": [
      "\u001b[90;3m2024-05-31 13:59:49,612 \u001b[0m\u001b[mgym                            \u001b[0m\u001b[mINFO       \u001b[0m\u001b[33m<8700.00> \u001b[0m\u001b[93;1m=== STARTING STEP ===\u001b[0m\n"
     ]
    },
    {
     "name": "stderr",
     "output_type": "stream",
     "text": [
      "\u001b[90;3m2024-05-31 13:59:49,612 \u001b[0m\u001b[36msats.satellite.Scanner-1       \u001b[0m\u001b[mINFO       \u001b[0m\u001b[33m<8700.00> \u001b[0m\u001b[36mScanner-1: \u001b[0m\u001b[maction_charge tasked for 180.0 seconds\u001b[0m\n"
     ]
    },
    {
     "name": "stderr",
     "output_type": "stream",
     "text": [
      "\u001b[90;3m2024-05-31 13:59:49,612 \u001b[0m\u001b[36msats.satellite.Scanner-1       \u001b[0m\u001b[mINFO       \u001b[0m\u001b[33m<8700.00> \u001b[0m\u001b[36mScanner-1: \u001b[0m\u001b[msetting timed terminal event at 8880.0\u001b[0m\n"
     ]
    },
    {
     "name": "stderr",
     "output_type": "stream",
     "text": [
      "\u001b[90;3m2024-05-31 13:59:49,612 \u001b[0m\u001b[msim.simulator                  \u001b[0m\u001b[mINFO       \u001b[0m\u001b[33m<8700.00> \u001b[0m\u001b[mRunning simulation at most to 17100.00 seconds\u001b[0m\n"
     ]
    },
    {
     "name": "stderr",
     "output_type": "stream",
     "text": [
      "\u001b[90;3m2024-05-31 13:59:49,622 \u001b[0m\u001b[36msats.satellite.Scanner-1       \u001b[0m\u001b[mINFO       \u001b[0m\u001b[33m<8880.00> \u001b[0m\u001b[36mScanner-1: \u001b[0m\u001b[mtimed termination at 8880.0 for action_charge\u001b[0m\n"
     ]
    },
    {
     "name": "stderr",
     "output_type": "stream",
     "text": [
      "\u001b[90;3m2024-05-31 13:59:49,623 \u001b[0m\u001b[mdata.base                      \u001b[0m\u001b[mINFO       \u001b[0m\u001b[33m<8880.00> \u001b[0m\u001b[mData reward: {'Scanner-1_4827225424': 0.0}\u001b[0m\n"
     ]
    },
    {
     "name": "stderr",
     "output_type": "stream",
     "text": [
      "\u001b[90;3m2024-05-31 13:59:49,623 \u001b[0m\u001b[mgym                            \u001b[0m\u001b[mINFO       \u001b[0m\u001b[33m<8880.00> \u001b[0m\u001b[mSatellites requiring retasking: ['Scanner-1_4827225424']\u001b[0m\n"
     ]
    },
    {
     "name": "stderr",
     "output_type": "stream",
     "text": [
      "\u001b[90;3m2024-05-31 13:59:49,624 \u001b[0m\u001b[mgym                            \u001b[0m\u001b[mINFO       \u001b[0m\u001b[33m<8880.00> \u001b[0m\u001b[mStep reward: 0.0\u001b[0m\n"
     ]
    },
    {
     "name": "stderr",
     "output_type": "stream",
     "text": [
      "\u001b[90;3m2024-05-31 13:59:49,624 \u001b[0m\u001b[mgym                            \u001b[0m\u001b[mINFO       \u001b[0m\u001b[33m<8880.00> \u001b[0m\u001b[93;1m=== STARTING STEP ===\u001b[0m\n"
     ]
    },
    {
     "name": "stderr",
     "output_type": "stream",
     "text": [
      "\u001b[90;3m2024-05-31 13:59:49,624 \u001b[0m\u001b[36msats.satellite.Scanner-1       \u001b[0m\u001b[mINFO       \u001b[0m\u001b[33m<8880.00> \u001b[0m\u001b[36mScanner-1: \u001b[0m\u001b[maction_desat tasked for 60.0 seconds\u001b[0m\n"
     ]
    },
    {
     "name": "stderr",
     "output_type": "stream",
     "text": [
      "\u001b[90;3m2024-05-31 13:59:49,625 \u001b[0m\u001b[36msats.satellite.Scanner-1       \u001b[0m\u001b[mINFO       \u001b[0m\u001b[33m<8880.00> \u001b[0m\u001b[36mScanner-1: \u001b[0m\u001b[msetting timed terminal event at 8940.0\u001b[0m\n"
     ]
    },
    {
     "name": "stderr",
     "output_type": "stream",
     "text": [
      "\u001b[90;3m2024-05-31 13:59:49,625 \u001b[0m\u001b[msim.simulator                  \u001b[0m\u001b[mINFO       \u001b[0m\u001b[33m<8880.00> \u001b[0m\u001b[mRunning simulation at most to 17100.00 seconds\u001b[0m\n"
     ]
    },
    {
     "name": "stderr",
     "output_type": "stream",
     "text": [
      "\u001b[90;3m2024-05-31 13:59:49,629 \u001b[0m\u001b[36msats.satellite.Scanner-1       \u001b[0m\u001b[mINFO       \u001b[0m\u001b[33m<8940.00> \u001b[0m\u001b[36mScanner-1: \u001b[0m\u001b[mtimed termination at 8940.0 for action_desat\u001b[0m\n"
     ]
    },
    {
     "name": "stderr",
     "output_type": "stream",
     "text": [
      "\u001b[90;3m2024-05-31 13:59:49,629 \u001b[0m\u001b[mdata.base                      \u001b[0m\u001b[mINFO       \u001b[0m\u001b[33m<8940.00> \u001b[0m\u001b[mData reward: {'Scanner-1_4827225424': 0.0}\u001b[0m\n"
     ]
    },
    {
     "name": "stderr",
     "output_type": "stream",
     "text": [
      "\u001b[90;3m2024-05-31 13:59:49,630 \u001b[0m\u001b[mgym                            \u001b[0m\u001b[mINFO       \u001b[0m\u001b[33m<8940.00> \u001b[0m\u001b[mSatellites requiring retasking: ['Scanner-1_4827225424']\u001b[0m\n"
     ]
    },
    {
     "name": "stderr",
     "output_type": "stream",
     "text": [
      "\u001b[90;3m2024-05-31 13:59:49,630 \u001b[0m\u001b[mgym                            \u001b[0m\u001b[mINFO       \u001b[0m\u001b[33m<8940.00> \u001b[0m\u001b[mStep reward: 0.0\u001b[0m\n"
     ]
    },
    {
     "name": "stderr",
     "output_type": "stream",
     "text": [
      "\u001b[90;3m2024-05-31 13:59:49,631 \u001b[0m\u001b[mgym                            \u001b[0m\u001b[mINFO       \u001b[0m\u001b[33m<8940.00> \u001b[0m\u001b[93;1m=== STARTING STEP ===\u001b[0m\n"
     ]
    },
    {
     "name": "stderr",
     "output_type": "stream",
     "text": [
      "\u001b[90;3m2024-05-31 13:59:49,631 \u001b[0m\u001b[36msats.satellite.Scanner-1       \u001b[0m\u001b[mINFO       \u001b[0m\u001b[33m<8940.00> \u001b[0m\u001b[36mScanner-1: \u001b[0m\u001b[maction_desat tasked for 60.0 seconds\u001b[0m\n"
     ]
    },
    {
     "name": "stderr",
     "output_type": "stream",
     "text": [
      "\u001b[90;3m2024-05-31 13:59:49,631 \u001b[0m\u001b[36msats.satellite.Scanner-1       \u001b[0m\u001b[mINFO       \u001b[0m\u001b[33m<8940.00> \u001b[0m\u001b[36mScanner-1: \u001b[0m\u001b[msetting timed terminal event at 9000.0\u001b[0m\n"
     ]
    },
    {
     "name": "stderr",
     "output_type": "stream",
     "text": [
      "\u001b[90;3m2024-05-31 13:59:49,631 \u001b[0m\u001b[msim.simulator                  \u001b[0m\u001b[mINFO       \u001b[0m\u001b[33m<8940.00> \u001b[0m\u001b[mRunning simulation at most to 17100.00 seconds\u001b[0m\n"
     ]
    },
    {
     "name": "stderr",
     "output_type": "stream",
     "text": [
      "\u001b[90;3m2024-05-31 13:59:49,635 \u001b[0m\u001b[36msats.satellite.Scanner-1       \u001b[0m\u001b[mINFO       \u001b[0m\u001b[33m<9000.00> \u001b[0m\u001b[36mScanner-1: \u001b[0m\u001b[mtimed termination at 9000.0 for action_desat\u001b[0m\n"
     ]
    },
    {
     "name": "stderr",
     "output_type": "stream",
     "text": [
      "\u001b[90;3m2024-05-31 13:59:49,636 \u001b[0m\u001b[mdata.base                      \u001b[0m\u001b[mINFO       \u001b[0m\u001b[33m<9000.00> \u001b[0m\u001b[mData reward: {'Scanner-1_4827225424': 0.0}\u001b[0m\n"
     ]
    },
    {
     "name": "stderr",
     "output_type": "stream",
     "text": [
      "\u001b[90;3m2024-05-31 13:59:49,636 \u001b[0m\u001b[mgym                            \u001b[0m\u001b[mINFO       \u001b[0m\u001b[33m<9000.00> \u001b[0m\u001b[mSatellites requiring retasking: ['Scanner-1_4827225424']\u001b[0m\n"
     ]
    },
    {
     "name": "stderr",
     "output_type": "stream",
     "text": [
      "\u001b[90;3m2024-05-31 13:59:49,637 \u001b[0m\u001b[mgym                            \u001b[0m\u001b[mINFO       \u001b[0m\u001b[33m<9000.00> \u001b[0m\u001b[mStep reward: 0.0\u001b[0m\n"
     ]
    },
    {
     "name": "stderr",
     "output_type": "stream",
     "text": [
      "\u001b[90;3m2024-05-31 13:59:49,637 \u001b[0m\u001b[mgym                            \u001b[0m\u001b[mINFO       \u001b[0m\u001b[33m<9000.00> \u001b[0m\u001b[93;1m=== STARTING STEP ===\u001b[0m\n"
     ]
    },
    {
     "name": "stderr",
     "output_type": "stream",
     "text": [
      "\u001b[90;3m2024-05-31 13:59:49,637 \u001b[0m\u001b[36msats.satellite.Scanner-1       \u001b[0m\u001b[mINFO       \u001b[0m\u001b[33m<9000.00> \u001b[0m\u001b[36mScanner-1: \u001b[0m\u001b[maction_nadir_scan tasked for 180.0 seconds\u001b[0m\n"
     ]
    },
    {
     "name": "stderr",
     "output_type": "stream",
     "text": [
      "\u001b[90;3m2024-05-31 13:59:49,637 \u001b[0m\u001b[36msats.satellite.Scanner-1       \u001b[0m\u001b[mINFO       \u001b[0m\u001b[33m<9000.00> \u001b[0m\u001b[36mScanner-1: \u001b[0m\u001b[msetting timed terminal event at 9180.0\u001b[0m\n"
     ]
    },
    {
     "name": "stderr",
     "output_type": "stream",
     "text": [
      "\u001b[90;3m2024-05-31 13:59:49,638 \u001b[0m\u001b[msim.simulator                  \u001b[0m\u001b[mINFO       \u001b[0m\u001b[33m<9000.00> \u001b[0m\u001b[mRunning simulation at most to 17100.00 seconds\u001b[0m\n"
     ]
    },
    {
     "name": "stderr",
     "output_type": "stream",
     "text": [
      "\u001b[90;3m2024-05-31 13:59:49,648 \u001b[0m\u001b[36msats.satellite.Scanner-1       \u001b[0m\u001b[mINFO       \u001b[0m\u001b[33m<9180.00> \u001b[0m\u001b[36mScanner-1: \u001b[0m\u001b[mtimed termination at 9180.0 for action_nadir_scan\u001b[0m\n"
     ]
    },
    {
     "name": "stderr",
     "output_type": "stream",
     "text": [
      "\u001b[90;3m2024-05-31 13:59:49,649 \u001b[0m\u001b[mdata.base                      \u001b[0m\u001b[mINFO       \u001b[0m\u001b[33m<9180.00> \u001b[0m\u001b[mData reward: {'Scanner-1_4827225424': 0.00824561403508772}\u001b[0m\n"
     ]
    },
    {
     "name": "stderr",
     "output_type": "stream",
     "text": [
      "\u001b[90;3m2024-05-31 13:59:49,650 \u001b[0m\u001b[mgym                            \u001b[0m\u001b[mINFO       \u001b[0m\u001b[33m<9180.00> \u001b[0m\u001b[mSatellites requiring retasking: ['Scanner-1_4827225424']\u001b[0m\n"
     ]
    },
    {
     "name": "stderr",
     "output_type": "stream",
     "text": [
      "\u001b[90;3m2024-05-31 13:59:49,650 \u001b[0m\u001b[mgym                            \u001b[0m\u001b[mINFO       \u001b[0m\u001b[33m<9180.00> \u001b[0m\u001b[mStep reward: 0.00824561403508772\u001b[0m\n"
     ]
    },
    {
     "name": "stderr",
     "output_type": "stream",
     "text": [
      "\u001b[90;3m2024-05-31 13:59:49,650 \u001b[0m\u001b[mgym                            \u001b[0m\u001b[mINFO       \u001b[0m\u001b[33m<9180.00> \u001b[0m\u001b[93;1m=== STARTING STEP ===\u001b[0m\n"
     ]
    },
    {
     "name": "stderr",
     "output_type": "stream",
     "text": [
      "\u001b[90;3m2024-05-31 13:59:49,650 \u001b[0m\u001b[36msats.satellite.Scanner-1       \u001b[0m\u001b[mINFO       \u001b[0m\u001b[33m<9180.00> \u001b[0m\u001b[36mScanner-1: \u001b[0m\u001b[maction_downlink tasked for 60.0 seconds\u001b[0m\n"
     ]
    },
    {
     "name": "stderr",
     "output_type": "stream",
     "text": [
      "\u001b[90;3m2024-05-31 13:59:49,651 \u001b[0m\u001b[36msats.satellite.Scanner-1       \u001b[0m\u001b[mINFO       \u001b[0m\u001b[33m<9180.00> \u001b[0m\u001b[36mScanner-1: \u001b[0m\u001b[msetting timed terminal event at 9240.0\u001b[0m\n"
     ]
    },
    {
     "name": "stderr",
     "output_type": "stream",
     "text": [
      "\u001b[90;3m2024-05-31 13:59:49,651 \u001b[0m\u001b[msim.simulator                  \u001b[0m\u001b[mINFO       \u001b[0m\u001b[33m<9180.00> \u001b[0m\u001b[mRunning simulation at most to 17100.00 seconds\u001b[0m\n"
     ]
    },
    {
     "name": "stderr",
     "output_type": "stream",
     "text": [
      "\u001b[90;3m2024-05-31 13:59:49,655 \u001b[0m\u001b[36msats.satellite.Scanner-1       \u001b[0m\u001b[mINFO       \u001b[0m\u001b[33m<9240.00> \u001b[0m\u001b[36mScanner-1: \u001b[0m\u001b[mtimed termination at 9240.0 for action_downlink\u001b[0m\n"
     ]
    },
    {
     "name": "stderr",
     "output_type": "stream",
     "text": [
      "\u001b[90;3m2024-05-31 13:59:49,655 \u001b[0m\u001b[mdata.base                      \u001b[0m\u001b[mINFO       \u001b[0m\u001b[33m<9240.00> \u001b[0m\u001b[mData reward: {'Scanner-1_4827225424': 0.0}\u001b[0m\n"
     ]
    },
    {
     "name": "stderr",
     "output_type": "stream",
     "text": [
      "\u001b[90;3m2024-05-31 13:59:49,656 \u001b[0m\u001b[mgym                            \u001b[0m\u001b[mINFO       \u001b[0m\u001b[33m<9240.00> \u001b[0m\u001b[mSatellites requiring retasking: ['Scanner-1_4827225424']\u001b[0m\n"
     ]
    },
    {
     "name": "stderr",
     "output_type": "stream",
     "text": [
      "\u001b[90;3m2024-05-31 13:59:49,656 \u001b[0m\u001b[mgym                            \u001b[0m\u001b[mINFO       \u001b[0m\u001b[33m<9240.00> \u001b[0m\u001b[mStep reward: 0.0\u001b[0m\n"
     ]
    },
    {
     "name": "stderr",
     "output_type": "stream",
     "text": [
      "\u001b[90;3m2024-05-31 13:59:49,657 \u001b[0m\u001b[mgym                            \u001b[0m\u001b[mINFO       \u001b[0m\u001b[33m<9240.00> \u001b[0m\u001b[93;1m=== STARTING STEP ===\u001b[0m\n"
     ]
    },
    {
     "name": "stderr",
     "output_type": "stream",
     "text": [
      "\u001b[90;3m2024-05-31 13:59:49,657 \u001b[0m\u001b[36msats.satellite.Scanner-1       \u001b[0m\u001b[mINFO       \u001b[0m\u001b[33m<9240.00> \u001b[0m\u001b[36mScanner-1: \u001b[0m\u001b[maction_downlink tasked for 60.0 seconds\u001b[0m\n"
     ]
    },
    {
     "name": "stderr",
     "output_type": "stream",
     "text": [
      "\u001b[90;3m2024-05-31 13:59:49,657 \u001b[0m\u001b[36msats.satellite.Scanner-1       \u001b[0m\u001b[mINFO       \u001b[0m\u001b[33m<9240.00> \u001b[0m\u001b[36mScanner-1: \u001b[0m\u001b[msetting timed terminal event at 9300.0\u001b[0m\n"
     ]
    },
    {
     "name": "stderr",
     "output_type": "stream",
     "text": [
      "\u001b[90;3m2024-05-31 13:59:49,657 \u001b[0m\u001b[msim.simulator                  \u001b[0m\u001b[mINFO       \u001b[0m\u001b[33m<9240.00> \u001b[0m\u001b[mRunning simulation at most to 17100.00 seconds\u001b[0m\n"
     ]
    },
    {
     "name": "stderr",
     "output_type": "stream",
     "text": [
      "\u001b[90;3m2024-05-31 13:59:49,661 \u001b[0m\u001b[36msats.satellite.Scanner-1       \u001b[0m\u001b[mINFO       \u001b[0m\u001b[33m<9300.00> \u001b[0m\u001b[36mScanner-1: \u001b[0m\u001b[mtimed termination at 9300.0 for action_downlink\u001b[0m\n"
     ]
    },
    {
     "name": "stderr",
     "output_type": "stream",
     "text": [
      "\u001b[90;3m2024-05-31 13:59:49,661 \u001b[0m\u001b[mdata.base                      \u001b[0m\u001b[mINFO       \u001b[0m\u001b[33m<9300.00> \u001b[0m\u001b[mData reward: {'Scanner-1_4827225424': 0.0}\u001b[0m\n"
     ]
    },
    {
     "name": "stderr",
     "output_type": "stream",
     "text": [
      "\u001b[90;3m2024-05-31 13:59:49,662 \u001b[0m\u001b[mgym                            \u001b[0m\u001b[mINFO       \u001b[0m\u001b[33m<9300.00> \u001b[0m\u001b[mSatellites requiring retasking: ['Scanner-1_4827225424']\u001b[0m\n"
     ]
    },
    {
     "name": "stderr",
     "output_type": "stream",
     "text": [
      "\u001b[90;3m2024-05-31 13:59:49,662 \u001b[0m\u001b[mgym                            \u001b[0m\u001b[mINFO       \u001b[0m\u001b[33m<9300.00> \u001b[0m\u001b[mStep reward: 0.0\u001b[0m\n"
     ]
    },
    {
     "name": "stderr",
     "output_type": "stream",
     "text": [
      "\u001b[90;3m2024-05-31 13:59:49,663 \u001b[0m\u001b[mgym                            \u001b[0m\u001b[mINFO       \u001b[0m\u001b[33m<9300.00> \u001b[0m\u001b[93;1m=== STARTING STEP ===\u001b[0m\n"
     ]
    },
    {
     "name": "stderr",
     "output_type": "stream",
     "text": [
      "\u001b[90;3m2024-05-31 13:59:49,663 \u001b[0m\u001b[36msats.satellite.Scanner-1       \u001b[0m\u001b[mINFO       \u001b[0m\u001b[33m<9300.00> \u001b[0m\u001b[36mScanner-1: \u001b[0m\u001b[maction_downlink tasked for 60.0 seconds\u001b[0m\n"
     ]
    },
    {
     "name": "stderr",
     "output_type": "stream",
     "text": [
      "\u001b[90;3m2024-05-31 13:59:49,663 \u001b[0m\u001b[36msats.satellite.Scanner-1       \u001b[0m\u001b[mINFO       \u001b[0m\u001b[33m<9300.00> \u001b[0m\u001b[36mScanner-1: \u001b[0m\u001b[msetting timed terminal event at 9360.0\u001b[0m\n"
     ]
    },
    {
     "name": "stderr",
     "output_type": "stream",
     "text": [
      "\u001b[90;3m2024-05-31 13:59:49,663 \u001b[0m\u001b[msim.simulator                  \u001b[0m\u001b[mINFO       \u001b[0m\u001b[33m<9300.00> \u001b[0m\u001b[mRunning simulation at most to 17100.00 seconds\u001b[0m\n"
     ]
    },
    {
     "name": "stderr",
     "output_type": "stream",
     "text": [
      "\u001b[90;3m2024-05-31 13:59:49,667 \u001b[0m\u001b[36msats.satellite.Scanner-1       \u001b[0m\u001b[mINFO       \u001b[0m\u001b[33m<9360.00> \u001b[0m\u001b[36mScanner-1: \u001b[0m\u001b[mtimed termination at 9360.0 for action_downlink\u001b[0m\n"
     ]
    },
    {
     "name": "stderr",
     "output_type": "stream",
     "text": [
      "\u001b[90;3m2024-05-31 13:59:49,668 \u001b[0m\u001b[mdata.base                      \u001b[0m\u001b[mINFO       \u001b[0m\u001b[33m<9360.00> \u001b[0m\u001b[mData reward: {'Scanner-1_4827225424': 0.0}\u001b[0m\n"
     ]
    },
    {
     "name": "stderr",
     "output_type": "stream",
     "text": [
      "\u001b[90;3m2024-05-31 13:59:49,668 \u001b[0m\u001b[mgym                            \u001b[0m\u001b[mINFO       \u001b[0m\u001b[33m<9360.00> \u001b[0m\u001b[mSatellites requiring retasking: ['Scanner-1_4827225424']\u001b[0m\n"
     ]
    },
    {
     "name": "stderr",
     "output_type": "stream",
     "text": [
      "\u001b[90;3m2024-05-31 13:59:49,669 \u001b[0m\u001b[mgym                            \u001b[0m\u001b[mINFO       \u001b[0m\u001b[33m<9360.00> \u001b[0m\u001b[mStep reward: 0.0\u001b[0m\n"
     ]
    },
    {
     "name": "stderr",
     "output_type": "stream",
     "text": [
      "\u001b[90;3m2024-05-31 13:59:49,669 \u001b[0m\u001b[mgym                            \u001b[0m\u001b[mINFO       \u001b[0m\u001b[33m<9360.00> \u001b[0m\u001b[93;1m=== STARTING STEP ===\u001b[0m\n"
     ]
    },
    {
     "name": "stderr",
     "output_type": "stream",
     "text": [
      "\u001b[90;3m2024-05-31 13:59:49,669 \u001b[0m\u001b[36msats.satellite.Scanner-1       \u001b[0m\u001b[mINFO       \u001b[0m\u001b[33m<9360.00> \u001b[0m\u001b[36mScanner-1: \u001b[0m\u001b[maction_charge tasked for 180.0 seconds\u001b[0m\n"
     ]
    },
    {
     "name": "stderr",
     "output_type": "stream",
     "text": [
      "\u001b[90;3m2024-05-31 13:59:49,669 \u001b[0m\u001b[36msats.satellite.Scanner-1       \u001b[0m\u001b[mINFO       \u001b[0m\u001b[33m<9360.00> \u001b[0m\u001b[36mScanner-1: \u001b[0m\u001b[msetting timed terminal event at 9540.0\u001b[0m\n"
     ]
    },
    {
     "name": "stderr",
     "output_type": "stream",
     "text": [
      "\u001b[90;3m2024-05-31 13:59:49,670 \u001b[0m\u001b[msim.simulator                  \u001b[0m\u001b[mINFO       \u001b[0m\u001b[33m<9360.00> \u001b[0m\u001b[mRunning simulation at most to 17100.00 seconds\u001b[0m\n"
     ]
    },
    {
     "name": "stderr",
     "output_type": "stream",
     "text": [
      "\u001b[90;3m2024-05-31 13:59:49,680 \u001b[0m\u001b[36msats.satellite.Scanner-1       \u001b[0m\u001b[mINFO       \u001b[0m\u001b[33m<9540.00> \u001b[0m\u001b[36mScanner-1: \u001b[0m\u001b[mtimed termination at 9540.0 for action_charge\u001b[0m\n"
     ]
    },
    {
     "name": "stderr",
     "output_type": "stream",
     "text": [
      "\u001b[90;3m2024-05-31 13:59:49,681 \u001b[0m\u001b[mdata.base                      \u001b[0m\u001b[mINFO       \u001b[0m\u001b[33m<9540.00> \u001b[0m\u001b[mData reward: {'Scanner-1_4827225424': 0.0}\u001b[0m\n"
     ]
    },
    {
     "name": "stderr",
     "output_type": "stream",
     "text": [
      "\u001b[90;3m2024-05-31 13:59:49,682 \u001b[0m\u001b[mgym                            \u001b[0m\u001b[mINFO       \u001b[0m\u001b[33m<9540.00> \u001b[0m\u001b[mSatellites requiring retasking: ['Scanner-1_4827225424']\u001b[0m\n"
     ]
    },
    {
     "name": "stderr",
     "output_type": "stream",
     "text": [
      "\u001b[90;3m2024-05-31 13:59:49,682 \u001b[0m\u001b[mgym                            \u001b[0m\u001b[mINFO       \u001b[0m\u001b[33m<9540.00> \u001b[0m\u001b[mStep reward: 0.0\u001b[0m\n"
     ]
    },
    {
     "name": "stderr",
     "output_type": "stream",
     "text": [
      "\u001b[90;3m2024-05-31 13:59:49,682 \u001b[0m\u001b[mgym                            \u001b[0m\u001b[mINFO       \u001b[0m\u001b[33m<9540.00> \u001b[0m\u001b[93;1m=== STARTING STEP ===\u001b[0m\n"
     ]
    },
    {
     "name": "stderr",
     "output_type": "stream",
     "text": [
      "\u001b[90;3m2024-05-31 13:59:49,683 \u001b[0m\u001b[36msats.satellite.Scanner-1       \u001b[0m\u001b[mINFO       \u001b[0m\u001b[33m<9540.00> \u001b[0m\u001b[36mScanner-1: \u001b[0m\u001b[maction_charge tasked for 180.0 seconds\u001b[0m\n"
     ]
    },
    {
     "name": "stderr",
     "output_type": "stream",
     "text": [
      "\u001b[90;3m2024-05-31 13:59:49,683 \u001b[0m\u001b[36msats.satellite.Scanner-1       \u001b[0m\u001b[mINFO       \u001b[0m\u001b[33m<9540.00> \u001b[0m\u001b[36mScanner-1: \u001b[0m\u001b[msetting timed terminal event at 9720.0\u001b[0m\n"
     ]
    },
    {
     "name": "stderr",
     "output_type": "stream",
     "text": [
      "\u001b[90;3m2024-05-31 13:59:49,683 \u001b[0m\u001b[msim.simulator                  \u001b[0m\u001b[mINFO       \u001b[0m\u001b[33m<9540.00> \u001b[0m\u001b[mRunning simulation at most to 17100.00 seconds\u001b[0m\n"
     ]
    },
    {
     "name": "stderr",
     "output_type": "stream",
     "text": [
      "\u001b[90;3m2024-05-31 13:59:49,693 \u001b[0m\u001b[36msats.satellite.Scanner-1       \u001b[0m\u001b[mINFO       \u001b[0m\u001b[33m<9720.00> \u001b[0m\u001b[36mScanner-1: \u001b[0m\u001b[mtimed termination at 9720.0 for action_charge\u001b[0m\n"
     ]
    },
    {
     "name": "stderr",
     "output_type": "stream",
     "text": [
      "\u001b[90;3m2024-05-31 13:59:49,694 \u001b[0m\u001b[mdata.base                      \u001b[0m\u001b[mINFO       \u001b[0m\u001b[33m<9720.00> \u001b[0m\u001b[mData reward: {'Scanner-1_4827225424': 0.0}\u001b[0m\n"
     ]
    },
    {
     "name": "stderr",
     "output_type": "stream",
     "text": [
      "\u001b[90;3m2024-05-31 13:59:49,695 \u001b[0m\u001b[mgym                            \u001b[0m\u001b[mINFO       \u001b[0m\u001b[33m<9720.00> \u001b[0m\u001b[mSatellites requiring retasking: ['Scanner-1_4827225424']\u001b[0m\n"
     ]
    },
    {
     "name": "stderr",
     "output_type": "stream",
     "text": [
      "\u001b[90;3m2024-05-31 13:59:49,695 \u001b[0m\u001b[mgym                            \u001b[0m\u001b[mINFO       \u001b[0m\u001b[33m<9720.00> \u001b[0m\u001b[mStep reward: 0.0\u001b[0m\n"
     ]
    },
    {
     "name": "stderr",
     "output_type": "stream",
     "text": [
      "\u001b[90;3m2024-05-31 13:59:49,696 \u001b[0m\u001b[mgym                            \u001b[0m\u001b[mINFO       \u001b[0m\u001b[33m<9720.00> \u001b[0m\u001b[93;1m=== STARTING STEP ===\u001b[0m\n"
     ]
    },
    {
     "name": "stderr",
     "output_type": "stream",
     "text": [
      "\u001b[90;3m2024-05-31 13:59:49,696 \u001b[0m\u001b[36msats.satellite.Scanner-1       \u001b[0m\u001b[mINFO       \u001b[0m\u001b[33m<9720.00> \u001b[0m\u001b[36mScanner-1: \u001b[0m\u001b[maction_desat tasked for 60.0 seconds\u001b[0m\n"
     ]
    },
    {
     "name": "stderr",
     "output_type": "stream",
     "text": [
      "\u001b[90;3m2024-05-31 13:59:49,696 \u001b[0m\u001b[36msats.satellite.Scanner-1       \u001b[0m\u001b[mINFO       \u001b[0m\u001b[33m<9720.00> \u001b[0m\u001b[36mScanner-1: \u001b[0m\u001b[msetting timed terminal event at 9780.0\u001b[0m\n"
     ]
    },
    {
     "name": "stderr",
     "output_type": "stream",
     "text": [
      "\u001b[90;3m2024-05-31 13:59:49,696 \u001b[0m\u001b[msim.simulator                  \u001b[0m\u001b[mINFO       \u001b[0m\u001b[33m<9720.00> \u001b[0m\u001b[mRunning simulation at most to 17100.00 seconds\u001b[0m\n"
     ]
    },
    {
     "name": "stderr",
     "output_type": "stream",
     "text": [
      "\u001b[90;3m2024-05-31 13:59:49,700 \u001b[0m\u001b[36msats.satellite.Scanner-1       \u001b[0m\u001b[mINFO       \u001b[0m\u001b[33m<9780.00> \u001b[0m\u001b[36mScanner-1: \u001b[0m\u001b[mtimed termination at 9780.0 for action_desat\u001b[0m\n"
     ]
    },
    {
     "name": "stderr",
     "output_type": "stream",
     "text": [
      "\u001b[90;3m2024-05-31 13:59:49,701 \u001b[0m\u001b[mdata.base                      \u001b[0m\u001b[mINFO       \u001b[0m\u001b[33m<9780.00> \u001b[0m\u001b[mData reward: {'Scanner-1_4827225424': 0.0}\u001b[0m\n"
     ]
    },
    {
     "name": "stderr",
     "output_type": "stream",
     "text": [
      "\u001b[90;3m2024-05-31 13:59:49,701 \u001b[0m\u001b[mgym                            \u001b[0m\u001b[mINFO       \u001b[0m\u001b[33m<9780.00> \u001b[0m\u001b[mSatellites requiring retasking: ['Scanner-1_4827225424']\u001b[0m\n"
     ]
    },
    {
     "name": "stderr",
     "output_type": "stream",
     "text": [
      "\u001b[90;3m2024-05-31 13:59:49,702 \u001b[0m\u001b[mgym                            \u001b[0m\u001b[mINFO       \u001b[0m\u001b[33m<9780.00> \u001b[0m\u001b[mStep reward: 0.0\u001b[0m\n"
     ]
    },
    {
     "name": "stderr",
     "output_type": "stream",
     "text": [
      "\u001b[90;3m2024-05-31 13:59:49,702 \u001b[0m\u001b[mgym                            \u001b[0m\u001b[mINFO       \u001b[0m\u001b[33m<9780.00> \u001b[0m\u001b[93;1m=== STARTING STEP ===\u001b[0m\n"
     ]
    },
    {
     "name": "stderr",
     "output_type": "stream",
     "text": [
      "\u001b[90;3m2024-05-31 13:59:49,702 \u001b[0m\u001b[36msats.satellite.Scanner-1       \u001b[0m\u001b[mINFO       \u001b[0m\u001b[33m<9780.00> \u001b[0m\u001b[36mScanner-1: \u001b[0m\u001b[maction_nadir_scan tasked for 180.0 seconds\u001b[0m\n"
     ]
    },
    {
     "name": "stderr",
     "output_type": "stream",
     "text": [
      "\u001b[90;3m2024-05-31 13:59:49,702 \u001b[0m\u001b[36msats.satellite.Scanner-1       \u001b[0m\u001b[mINFO       \u001b[0m\u001b[33m<9780.00> \u001b[0m\u001b[36mScanner-1: \u001b[0m\u001b[msetting timed terminal event at 9960.0\u001b[0m\n"
     ]
    },
    {
     "name": "stderr",
     "output_type": "stream",
     "text": [
      "\u001b[90;3m2024-05-31 13:59:49,703 \u001b[0m\u001b[msim.simulator                  \u001b[0m\u001b[mINFO       \u001b[0m\u001b[33m<9780.00> \u001b[0m\u001b[mRunning simulation at most to 17100.00 seconds\u001b[0m\n"
     ]
    },
    {
     "name": "stderr",
     "output_type": "stream",
     "text": [
      "\u001b[90;3m2024-05-31 13:59:49,753 \u001b[0m\u001b[36msats.satellite.Scanner-1       \u001b[0m\u001b[mINFO       \u001b[0m\u001b[33m<9960.00> \u001b[0m\u001b[36mScanner-1: \u001b[0m\u001b[mtimed termination at 9960.0 for action_nadir_scan\u001b[0m\n"
     ]
    },
    {
     "name": "stderr",
     "output_type": "stream",
     "text": [
      "\u001b[90;3m2024-05-31 13:59:49,753 \u001b[0m\u001b[mdata.base                      \u001b[0m\u001b[mINFO       \u001b[0m\u001b[33m<9960.00> \u001b[0m\u001b[mData reward: {'Scanner-1_4827225424': 0.00824561403508772}\u001b[0m\n"
     ]
    },
    {
     "name": "stderr",
     "output_type": "stream",
     "text": [
      "\u001b[90;3m2024-05-31 13:59:49,754 \u001b[0m\u001b[mgym                            \u001b[0m\u001b[mINFO       \u001b[0m\u001b[33m<9960.00> \u001b[0m\u001b[mSatellites requiring retasking: ['Scanner-1_4827225424']\u001b[0m\n"
     ]
    },
    {
     "name": "stderr",
     "output_type": "stream",
     "text": [
      "\u001b[90;3m2024-05-31 13:59:49,754 \u001b[0m\u001b[mgym                            \u001b[0m\u001b[mINFO       \u001b[0m\u001b[33m<9960.00> \u001b[0m\u001b[mStep reward: 0.00824561403508772\u001b[0m\n"
     ]
    },
    {
     "name": "stderr",
     "output_type": "stream",
     "text": [
      "\u001b[90;3m2024-05-31 13:59:49,755 \u001b[0m\u001b[mgym                            \u001b[0m\u001b[mINFO       \u001b[0m\u001b[33m<9960.00> \u001b[0m\u001b[93;1m=== STARTING STEP ===\u001b[0m\n"
     ]
    },
    {
     "name": "stderr",
     "output_type": "stream",
     "text": [
      "\u001b[90;3m2024-05-31 13:59:49,755 \u001b[0m\u001b[36msats.satellite.Scanner-1       \u001b[0m\u001b[mINFO       \u001b[0m\u001b[33m<9960.00> \u001b[0m\u001b[36mScanner-1: \u001b[0m\u001b[maction_desat tasked for 60.0 seconds\u001b[0m\n"
     ]
    },
    {
     "name": "stderr",
     "output_type": "stream",
     "text": [
      "\u001b[90;3m2024-05-31 13:59:49,755 \u001b[0m\u001b[36msats.satellite.Scanner-1       \u001b[0m\u001b[mINFO       \u001b[0m\u001b[33m<9960.00> \u001b[0m\u001b[36mScanner-1: \u001b[0m\u001b[msetting timed terminal event at 10020.0\u001b[0m\n"
     ]
    },
    {
     "name": "stderr",
     "output_type": "stream",
     "text": [
      "\u001b[90;3m2024-05-31 13:59:49,755 \u001b[0m\u001b[msim.simulator                  \u001b[0m\u001b[mINFO       \u001b[0m\u001b[33m<9960.00> \u001b[0m\u001b[mRunning simulation at most to 17100.00 seconds\u001b[0m\n"
     ]
    },
    {
     "name": "stderr",
     "output_type": "stream",
     "text": [
      "\u001b[90;3m2024-05-31 13:59:49,759 \u001b[0m\u001b[36msats.satellite.Scanner-1       \u001b[0m\u001b[mINFO       \u001b[0m\u001b[33m<10020.00> \u001b[0m\u001b[36mScanner-1: \u001b[0m\u001b[mtimed termination at 10020.0 for action_desat\u001b[0m\n"
     ]
    },
    {
     "name": "stderr",
     "output_type": "stream",
     "text": [
      "\u001b[90;3m2024-05-31 13:59:49,760 \u001b[0m\u001b[mdata.base                      \u001b[0m\u001b[mINFO       \u001b[0m\u001b[33m<10020.00> \u001b[0m\u001b[mData reward: {'Scanner-1_4827225424': 0.0}\u001b[0m\n"
     ]
    },
    {
     "name": "stderr",
     "output_type": "stream",
     "text": [
      "\u001b[90;3m2024-05-31 13:59:49,761 \u001b[0m\u001b[mgym                            \u001b[0m\u001b[mINFO       \u001b[0m\u001b[33m<10020.00> \u001b[0m\u001b[mSatellites requiring retasking: ['Scanner-1_4827225424']\u001b[0m\n"
     ]
    },
    {
     "name": "stderr",
     "output_type": "stream",
     "text": [
      "\u001b[90;3m2024-05-31 13:59:49,761 \u001b[0m\u001b[mgym                            \u001b[0m\u001b[mINFO       \u001b[0m\u001b[33m<10020.00> \u001b[0m\u001b[mStep reward: 0.0\u001b[0m\n"
     ]
    },
    {
     "name": "stderr",
     "output_type": "stream",
     "text": [
      "\u001b[90;3m2024-05-31 13:59:49,761 \u001b[0m\u001b[mgym                            \u001b[0m\u001b[mINFO       \u001b[0m\u001b[33m<10020.00> \u001b[0m\u001b[93;1m=== STARTING STEP ===\u001b[0m\n"
     ]
    },
    {
     "name": "stderr",
     "output_type": "stream",
     "text": [
      "\u001b[90;3m2024-05-31 13:59:49,762 \u001b[0m\u001b[36msats.satellite.Scanner-1       \u001b[0m\u001b[mINFO       \u001b[0m\u001b[33m<10020.00> \u001b[0m\u001b[36mScanner-1: \u001b[0m\u001b[maction_nadir_scan tasked for 180.0 seconds\u001b[0m\n"
     ]
    },
    {
     "name": "stderr",
     "output_type": "stream",
     "text": [
      "\u001b[90;3m2024-05-31 13:59:49,762 \u001b[0m\u001b[36msats.satellite.Scanner-1       \u001b[0m\u001b[mINFO       \u001b[0m\u001b[33m<10020.00> \u001b[0m\u001b[36mScanner-1: \u001b[0m\u001b[msetting timed terminal event at 10200.0\u001b[0m\n"
     ]
    },
    {
     "name": "stderr",
     "output_type": "stream",
     "text": [
      "\u001b[90;3m2024-05-31 13:59:49,762 \u001b[0m\u001b[msim.simulator                  \u001b[0m\u001b[mINFO       \u001b[0m\u001b[33m<10020.00> \u001b[0m\u001b[mRunning simulation at most to 17100.00 seconds\u001b[0m\n"
     ]
    },
    {
     "name": "stderr",
     "output_type": "stream",
     "text": [
      "\u001b[90;3m2024-05-31 13:59:49,773 \u001b[0m\u001b[36msats.satellite.Scanner-1       \u001b[0m\u001b[mINFO       \u001b[0m\u001b[33m<10200.00> \u001b[0m\u001b[36mScanner-1: \u001b[0m\u001b[mtimed termination at 10200.0 for action_nadir_scan\u001b[0m\n"
     ]
    },
    {
     "name": "stderr",
     "output_type": "stream",
     "text": [
      "\u001b[90;3m2024-05-31 13:59:49,773 \u001b[0m\u001b[mdata.base                      \u001b[0m\u001b[mINFO       \u001b[0m\u001b[33m<10200.00> \u001b[0m\u001b[mData reward: {'Scanner-1_4827225424': 0.008128654970760233}\u001b[0m\n"
     ]
    },
    {
     "name": "stderr",
     "output_type": "stream",
     "text": [
      "\u001b[90;3m2024-05-31 13:59:49,774 \u001b[0m\u001b[mgym                            \u001b[0m\u001b[mINFO       \u001b[0m\u001b[33m<10200.00> \u001b[0m\u001b[mSatellites requiring retasking: ['Scanner-1_4827225424']\u001b[0m\n"
     ]
    },
    {
     "name": "stderr",
     "output_type": "stream",
     "text": [
      "\u001b[90;3m2024-05-31 13:59:49,774 \u001b[0m\u001b[mgym                            \u001b[0m\u001b[mINFO       \u001b[0m\u001b[33m<10200.00> \u001b[0m\u001b[mStep reward: 0.008128654970760233\u001b[0m\n"
     ]
    },
    {
     "name": "stderr",
     "output_type": "stream",
     "text": [
      "\u001b[90;3m2024-05-31 13:59:49,775 \u001b[0m\u001b[mgym                            \u001b[0m\u001b[mINFO       \u001b[0m\u001b[33m<10200.00> \u001b[0m\u001b[93;1m=== STARTING STEP ===\u001b[0m\n"
     ]
    },
    {
     "name": "stderr",
     "output_type": "stream",
     "text": [
      "\u001b[90;3m2024-05-31 13:59:49,775 \u001b[0m\u001b[36msats.satellite.Scanner-1       \u001b[0m\u001b[mINFO       \u001b[0m\u001b[33m<10200.00> \u001b[0m\u001b[36mScanner-1: \u001b[0m\u001b[maction_downlink tasked for 60.0 seconds\u001b[0m\n"
     ]
    },
    {
     "name": "stderr",
     "output_type": "stream",
     "text": [
      "\u001b[90;3m2024-05-31 13:59:49,775 \u001b[0m\u001b[36msats.satellite.Scanner-1       \u001b[0m\u001b[mINFO       \u001b[0m\u001b[33m<10200.00> \u001b[0m\u001b[36mScanner-1: \u001b[0m\u001b[msetting timed terminal event at 10260.0\u001b[0m\n"
     ]
    },
    {
     "name": "stderr",
     "output_type": "stream",
     "text": [
      "\u001b[90;3m2024-05-31 13:59:49,776 \u001b[0m\u001b[msim.simulator                  \u001b[0m\u001b[mINFO       \u001b[0m\u001b[33m<10200.00> \u001b[0m\u001b[mRunning simulation at most to 17100.00 seconds\u001b[0m\n"
     ]
    },
    {
     "name": "stderr",
     "output_type": "stream",
     "text": [
      "\u001b[90;3m2024-05-31 13:59:49,780 \u001b[0m\u001b[36msats.satellite.Scanner-1       \u001b[0m\u001b[mINFO       \u001b[0m\u001b[33m<10260.00> \u001b[0m\u001b[36mScanner-1: \u001b[0m\u001b[mtimed termination at 10260.0 for action_downlink\u001b[0m\n"
     ]
    },
    {
     "name": "stderr",
     "output_type": "stream",
     "text": [
      "\u001b[90;3m2024-05-31 13:59:49,780 \u001b[0m\u001b[mdata.base                      \u001b[0m\u001b[mINFO       \u001b[0m\u001b[33m<10260.00> \u001b[0m\u001b[mData reward: {'Scanner-1_4827225424': 0.0}\u001b[0m\n"
     ]
    },
    {
     "name": "stderr",
     "output_type": "stream",
     "text": [
      "\u001b[90;3m2024-05-31 13:59:49,781 \u001b[0m\u001b[mgym                            \u001b[0m\u001b[mINFO       \u001b[0m\u001b[33m<10260.00> \u001b[0m\u001b[mSatellites requiring retasking: ['Scanner-1_4827225424']\u001b[0m\n"
     ]
    },
    {
     "name": "stderr",
     "output_type": "stream",
     "text": [
      "\u001b[90;3m2024-05-31 13:59:49,781 \u001b[0m\u001b[mgym                            \u001b[0m\u001b[mINFO       \u001b[0m\u001b[33m<10260.00> \u001b[0m\u001b[mStep reward: 0.0\u001b[0m\n"
     ]
    },
    {
     "name": "stderr",
     "output_type": "stream",
     "text": [
      "\u001b[90;3m2024-05-31 13:59:49,782 \u001b[0m\u001b[mgym                            \u001b[0m\u001b[mINFO       \u001b[0m\u001b[33m<10260.00> \u001b[0m\u001b[93;1m=== STARTING STEP ===\u001b[0m\n"
     ]
    },
    {
     "name": "stderr",
     "output_type": "stream",
     "text": [
      "\u001b[90;3m2024-05-31 13:59:49,782 \u001b[0m\u001b[36msats.satellite.Scanner-1       \u001b[0m\u001b[mINFO       \u001b[0m\u001b[33m<10260.00> \u001b[0m\u001b[36mScanner-1: \u001b[0m\u001b[maction_downlink tasked for 60.0 seconds\u001b[0m\n"
     ]
    },
    {
     "name": "stderr",
     "output_type": "stream",
     "text": [
      "\u001b[90;3m2024-05-31 13:59:49,782 \u001b[0m\u001b[36msats.satellite.Scanner-1       \u001b[0m\u001b[mINFO       \u001b[0m\u001b[33m<10260.00> \u001b[0m\u001b[36mScanner-1: \u001b[0m\u001b[msetting timed terminal event at 10320.0\u001b[0m\n"
     ]
    },
    {
     "name": "stderr",
     "output_type": "stream",
     "text": [
      "\u001b[90;3m2024-05-31 13:59:49,782 \u001b[0m\u001b[msim.simulator                  \u001b[0m\u001b[mINFO       \u001b[0m\u001b[33m<10260.00> \u001b[0m\u001b[mRunning simulation at most to 17100.00 seconds\u001b[0m\n"
     ]
    },
    {
     "name": "stderr",
     "output_type": "stream",
     "text": [
      "\u001b[90;3m2024-05-31 13:59:49,786 \u001b[0m\u001b[36msats.satellite.Scanner-1       \u001b[0m\u001b[mINFO       \u001b[0m\u001b[33m<10320.00> \u001b[0m\u001b[36mScanner-1: \u001b[0m\u001b[mtimed termination at 10320.0 for action_downlink\u001b[0m\n"
     ]
    },
    {
     "name": "stderr",
     "output_type": "stream",
     "text": [
      "\u001b[90;3m2024-05-31 13:59:49,786 \u001b[0m\u001b[mdata.base                      \u001b[0m\u001b[mINFO       \u001b[0m\u001b[33m<10320.00> \u001b[0m\u001b[mData reward: {'Scanner-1_4827225424': 0.0}\u001b[0m\n"
     ]
    },
    {
     "name": "stderr",
     "output_type": "stream",
     "text": [
      "\u001b[90;3m2024-05-31 13:59:49,787 \u001b[0m\u001b[mgym                            \u001b[0m\u001b[mINFO       \u001b[0m\u001b[33m<10320.00> \u001b[0m\u001b[mSatellites requiring retasking: ['Scanner-1_4827225424']\u001b[0m\n"
     ]
    },
    {
     "name": "stderr",
     "output_type": "stream",
     "text": [
      "\u001b[90;3m2024-05-31 13:59:49,788 \u001b[0m\u001b[mgym                            \u001b[0m\u001b[mINFO       \u001b[0m\u001b[33m<10320.00> \u001b[0m\u001b[mStep reward: 0.0\u001b[0m\n"
     ]
    },
    {
     "name": "stderr",
     "output_type": "stream",
     "text": [
      "\u001b[90;3m2024-05-31 13:59:49,788 \u001b[0m\u001b[mgym                            \u001b[0m\u001b[mINFO       \u001b[0m\u001b[33m<10320.00> \u001b[0m\u001b[93;1m=== STARTING STEP ===\u001b[0m\n"
     ]
    },
    {
     "name": "stderr",
     "output_type": "stream",
     "text": [
      "\u001b[90;3m2024-05-31 13:59:49,788 \u001b[0m\u001b[36msats.satellite.Scanner-1       \u001b[0m\u001b[mINFO       \u001b[0m\u001b[33m<10320.00> \u001b[0m\u001b[36mScanner-1: \u001b[0m\u001b[maction_downlink tasked for 60.0 seconds\u001b[0m\n"
     ]
    },
    {
     "name": "stderr",
     "output_type": "stream",
     "text": [
      "\u001b[90;3m2024-05-31 13:59:49,789 \u001b[0m\u001b[36msats.satellite.Scanner-1       \u001b[0m\u001b[mINFO       \u001b[0m\u001b[33m<10320.00> \u001b[0m\u001b[36mScanner-1: \u001b[0m\u001b[msetting timed terminal event at 10380.0\u001b[0m\n"
     ]
    },
    {
     "name": "stderr",
     "output_type": "stream",
     "text": [
      "\u001b[90;3m2024-05-31 13:59:49,789 \u001b[0m\u001b[msim.simulator                  \u001b[0m\u001b[mINFO       \u001b[0m\u001b[33m<10320.00> \u001b[0m\u001b[mRunning simulation at most to 17100.00 seconds\u001b[0m\n"
     ]
    },
    {
     "name": "stderr",
     "output_type": "stream",
     "text": [
      "\u001b[90;3m2024-05-31 13:59:49,793 \u001b[0m\u001b[36msats.satellite.Scanner-1       \u001b[0m\u001b[mINFO       \u001b[0m\u001b[33m<10380.00> \u001b[0m\u001b[36mScanner-1: \u001b[0m\u001b[mtimed termination at 10380.0 for action_downlink\u001b[0m\n"
     ]
    },
    {
     "name": "stderr",
     "output_type": "stream",
     "text": [
      "\u001b[90;3m2024-05-31 13:59:49,793 \u001b[0m\u001b[mdata.base                      \u001b[0m\u001b[mINFO       \u001b[0m\u001b[33m<10380.00> \u001b[0m\u001b[mData reward: {'Scanner-1_4827225424': 0.0}\u001b[0m\n"
     ]
    },
    {
     "name": "stderr",
     "output_type": "stream",
     "text": [
      "\u001b[90;3m2024-05-31 13:59:49,794 \u001b[0m\u001b[mgym                            \u001b[0m\u001b[mINFO       \u001b[0m\u001b[33m<10380.00> \u001b[0m\u001b[mSatellites requiring retasking: ['Scanner-1_4827225424']\u001b[0m\n"
     ]
    },
    {
     "name": "stderr",
     "output_type": "stream",
     "text": [
      "\u001b[90;3m2024-05-31 13:59:49,794 \u001b[0m\u001b[mgym                            \u001b[0m\u001b[mINFO       \u001b[0m\u001b[33m<10380.00> \u001b[0m\u001b[mStep reward: 0.0\u001b[0m\n"
     ]
    },
    {
     "name": "stderr",
     "output_type": "stream",
     "text": [
      "\u001b[90;3m2024-05-31 13:59:49,795 \u001b[0m\u001b[mgym                            \u001b[0m\u001b[mINFO       \u001b[0m\u001b[33m<10380.00> \u001b[0m\u001b[93;1m=== STARTING STEP ===\u001b[0m\n"
     ]
    },
    {
     "name": "stderr",
     "output_type": "stream",
     "text": [
      "\u001b[90;3m2024-05-31 13:59:49,795 \u001b[0m\u001b[36msats.satellite.Scanner-1       \u001b[0m\u001b[mINFO       \u001b[0m\u001b[33m<10380.00> \u001b[0m\u001b[36mScanner-1: \u001b[0m\u001b[maction_desat tasked for 60.0 seconds\u001b[0m\n"
     ]
    },
    {
     "name": "stderr",
     "output_type": "stream",
     "text": [
      "\u001b[90;3m2024-05-31 13:59:49,795 \u001b[0m\u001b[36msats.satellite.Scanner-1       \u001b[0m\u001b[mINFO       \u001b[0m\u001b[33m<10380.00> \u001b[0m\u001b[36mScanner-1: \u001b[0m\u001b[msetting timed terminal event at 10440.0\u001b[0m\n"
     ]
    },
    {
     "name": "stderr",
     "output_type": "stream",
     "text": [
      "\u001b[90;3m2024-05-31 13:59:49,796 \u001b[0m\u001b[msim.simulator                  \u001b[0m\u001b[mINFO       \u001b[0m\u001b[33m<10380.00> \u001b[0m\u001b[mRunning simulation at most to 17100.00 seconds\u001b[0m\n"
     ]
    },
    {
     "name": "stderr",
     "output_type": "stream",
     "text": [
      "\u001b[90;3m2024-05-31 13:59:49,800 \u001b[0m\u001b[36msats.satellite.Scanner-1       \u001b[0m\u001b[mINFO       \u001b[0m\u001b[33m<10440.00> \u001b[0m\u001b[36mScanner-1: \u001b[0m\u001b[mtimed termination at 10440.0 for action_desat\u001b[0m\n"
     ]
    },
    {
     "name": "stderr",
     "output_type": "stream",
     "text": [
      "\u001b[90;3m2024-05-31 13:59:49,800 \u001b[0m\u001b[mdata.base                      \u001b[0m\u001b[mINFO       \u001b[0m\u001b[33m<10440.00> \u001b[0m\u001b[mData reward: {'Scanner-1_4827225424': 0.0}\u001b[0m\n"
     ]
    },
    {
     "name": "stderr",
     "output_type": "stream",
     "text": [
      "\u001b[90;3m2024-05-31 13:59:49,801 \u001b[0m\u001b[mgym                            \u001b[0m\u001b[mINFO       \u001b[0m\u001b[33m<10440.00> \u001b[0m\u001b[mSatellites requiring retasking: ['Scanner-1_4827225424']\u001b[0m\n"
     ]
    },
    {
     "name": "stderr",
     "output_type": "stream",
     "text": [
      "\u001b[90;3m2024-05-31 13:59:49,801 \u001b[0m\u001b[mgym                            \u001b[0m\u001b[mINFO       \u001b[0m\u001b[33m<10440.00> \u001b[0m\u001b[mStep reward: 0.0\u001b[0m\n"
     ]
    },
    {
     "name": "stderr",
     "output_type": "stream",
     "text": [
      "\u001b[90;3m2024-05-31 13:59:49,801 \u001b[0m\u001b[mgym                            \u001b[0m\u001b[mINFO       \u001b[0m\u001b[33m<10440.00> \u001b[0m\u001b[93;1m=== STARTING STEP ===\u001b[0m\n"
     ]
    },
    {
     "name": "stderr",
     "output_type": "stream",
     "text": [
      "\u001b[90;3m2024-05-31 13:59:49,802 \u001b[0m\u001b[36msats.satellite.Scanner-1       \u001b[0m\u001b[mINFO       \u001b[0m\u001b[33m<10440.00> \u001b[0m\u001b[36mScanner-1: \u001b[0m\u001b[maction_charge tasked for 180.0 seconds\u001b[0m\n"
     ]
    },
    {
     "name": "stderr",
     "output_type": "stream",
     "text": [
      "\u001b[90;3m2024-05-31 13:59:49,802 \u001b[0m\u001b[36msats.satellite.Scanner-1       \u001b[0m\u001b[mINFO       \u001b[0m\u001b[33m<10440.00> \u001b[0m\u001b[36mScanner-1: \u001b[0m\u001b[msetting timed terminal event at 10620.0\u001b[0m\n"
     ]
    },
    {
     "name": "stderr",
     "output_type": "stream",
     "text": [
      "\u001b[90;3m2024-05-31 13:59:49,802 \u001b[0m\u001b[msim.simulator                  \u001b[0m\u001b[mINFO       \u001b[0m\u001b[33m<10440.00> \u001b[0m\u001b[mRunning simulation at most to 17100.00 seconds\u001b[0m\n"
     ]
    },
    {
     "name": "stderr",
     "output_type": "stream",
     "text": [
      "\u001b[90;3m2024-05-31 13:59:49,813 \u001b[0m\u001b[36msats.satellite.Scanner-1       \u001b[0m\u001b[mINFO       \u001b[0m\u001b[33m<10620.00> \u001b[0m\u001b[36mScanner-1: \u001b[0m\u001b[mtimed termination at 10620.0 for action_charge\u001b[0m\n"
     ]
    },
    {
     "name": "stderr",
     "output_type": "stream",
     "text": [
      "\u001b[90;3m2024-05-31 13:59:49,814 \u001b[0m\u001b[mdata.base                      \u001b[0m\u001b[mINFO       \u001b[0m\u001b[33m<10620.00> \u001b[0m\u001b[mData reward: {'Scanner-1_4827225424': 0.0}\u001b[0m\n"
     ]
    },
    {
     "name": "stderr",
     "output_type": "stream",
     "text": [
      "\u001b[90;3m2024-05-31 13:59:49,814 \u001b[0m\u001b[mgym                            \u001b[0m\u001b[mINFO       \u001b[0m\u001b[33m<10620.00> \u001b[0m\u001b[mSatellites requiring retasking: ['Scanner-1_4827225424']\u001b[0m\n"
     ]
    },
    {
     "name": "stderr",
     "output_type": "stream",
     "text": [
      "\u001b[90;3m2024-05-31 13:59:49,815 \u001b[0m\u001b[mgym                            \u001b[0m\u001b[mINFO       \u001b[0m\u001b[33m<10620.00> \u001b[0m\u001b[mStep reward: 0.0\u001b[0m\n"
     ]
    },
    {
     "name": "stderr",
     "output_type": "stream",
     "text": [
      "\u001b[90;3m2024-05-31 13:59:49,815 \u001b[0m\u001b[mgym                            \u001b[0m\u001b[mINFO       \u001b[0m\u001b[33m<10620.00> \u001b[0m\u001b[93;1m=== STARTING STEP ===\u001b[0m\n"
     ]
    },
    {
     "name": "stderr",
     "output_type": "stream",
     "text": [
      "\u001b[90;3m2024-05-31 13:59:49,815 \u001b[0m\u001b[36msats.satellite.Scanner-1       \u001b[0m\u001b[mINFO       \u001b[0m\u001b[33m<10620.00> \u001b[0m\u001b[36mScanner-1: \u001b[0m\u001b[maction_nadir_scan tasked for 180.0 seconds\u001b[0m\n"
     ]
    },
    {
     "name": "stderr",
     "output_type": "stream",
     "text": [
      "\u001b[90;3m2024-05-31 13:59:49,816 \u001b[0m\u001b[36msats.satellite.Scanner-1       \u001b[0m\u001b[mINFO       \u001b[0m\u001b[33m<10620.00> \u001b[0m\u001b[36mScanner-1: \u001b[0m\u001b[msetting timed terminal event at 10800.0\u001b[0m\n"
     ]
    },
    {
     "name": "stderr",
     "output_type": "stream",
     "text": [
      "\u001b[90;3m2024-05-31 13:59:49,816 \u001b[0m\u001b[msim.simulator                  \u001b[0m\u001b[mINFO       \u001b[0m\u001b[33m<10620.00> \u001b[0m\u001b[mRunning simulation at most to 17100.00 seconds\u001b[0m\n"
     ]
    },
    {
     "name": "stderr",
     "output_type": "stream",
     "text": [
      "\u001b[90;3m2024-05-31 13:59:49,826 \u001b[0m\u001b[36msats.satellite.Scanner-1       \u001b[0m\u001b[mINFO       \u001b[0m\u001b[33m<10800.00> \u001b[0m\u001b[36mScanner-1: \u001b[0m\u001b[mtimed termination at 10800.0 for action_nadir_scan\u001b[0m\n"
     ]
    },
    {
     "name": "stderr",
     "output_type": "stream",
     "text": [
      "\u001b[90;3m2024-05-31 13:59:49,827 \u001b[0m\u001b[mdata.base                      \u001b[0m\u001b[mINFO       \u001b[0m\u001b[33m<10800.00> \u001b[0m\u001b[mData reward: {'Scanner-1_4827225424': 0.007485380116959065}\u001b[0m\n"
     ]
    },
    {
     "name": "stderr",
     "output_type": "stream",
     "text": [
      "\u001b[90;3m2024-05-31 13:59:49,828 \u001b[0m\u001b[mgym                            \u001b[0m\u001b[mINFO       \u001b[0m\u001b[33m<10800.00> \u001b[0m\u001b[mSatellites requiring retasking: ['Scanner-1_4827225424']\u001b[0m\n"
     ]
    },
    {
     "name": "stderr",
     "output_type": "stream",
     "text": [
      "\u001b[90;3m2024-05-31 13:59:49,828 \u001b[0m\u001b[mgym                            \u001b[0m\u001b[mINFO       \u001b[0m\u001b[33m<10800.00> \u001b[0m\u001b[mStep reward: 0.007485380116959065\u001b[0m\n"
     ]
    },
    {
     "name": "stderr",
     "output_type": "stream",
     "text": [
      "\u001b[90;3m2024-05-31 13:59:49,828 \u001b[0m\u001b[mgym                            \u001b[0m\u001b[mINFO       \u001b[0m\u001b[33m<10800.00> \u001b[0m\u001b[93;1m=== STARTING STEP ===\u001b[0m\n"
     ]
    },
    {
     "name": "stderr",
     "output_type": "stream",
     "text": [
      "\u001b[90;3m2024-05-31 13:59:49,829 \u001b[0m\u001b[36msats.satellite.Scanner-1       \u001b[0m\u001b[mINFO       \u001b[0m\u001b[33m<10800.00> \u001b[0m\u001b[36mScanner-1: \u001b[0m\u001b[maction_charge tasked for 180.0 seconds\u001b[0m\n"
     ]
    },
    {
     "name": "stderr",
     "output_type": "stream",
     "text": [
      "\u001b[90;3m2024-05-31 13:59:49,829 \u001b[0m\u001b[36msats.satellite.Scanner-1       \u001b[0m\u001b[mINFO       \u001b[0m\u001b[33m<10800.00> \u001b[0m\u001b[36mScanner-1: \u001b[0m\u001b[msetting timed terminal event at 10980.0\u001b[0m\n"
     ]
    },
    {
     "name": "stderr",
     "output_type": "stream",
     "text": [
      "\u001b[90;3m2024-05-31 13:59:49,829 \u001b[0m\u001b[msim.simulator                  \u001b[0m\u001b[mINFO       \u001b[0m\u001b[33m<10800.00> \u001b[0m\u001b[mRunning simulation at most to 17100.00 seconds\u001b[0m\n"
     ]
    },
    {
     "name": "stderr",
     "output_type": "stream",
     "text": [
      "\u001b[90;3m2024-05-31 13:59:49,840 \u001b[0m\u001b[36msats.satellite.Scanner-1       \u001b[0m\u001b[mINFO       \u001b[0m\u001b[33m<10980.00> \u001b[0m\u001b[36mScanner-1: \u001b[0m\u001b[mtimed termination at 10980.0 for action_charge\u001b[0m\n"
     ]
    },
    {
     "name": "stderr",
     "output_type": "stream",
     "text": [
      "\u001b[90;3m2024-05-31 13:59:49,840 \u001b[0m\u001b[mdata.base                      \u001b[0m\u001b[mINFO       \u001b[0m\u001b[33m<10980.00> \u001b[0m\u001b[mData reward: {'Scanner-1_4827225424': 0.0}\u001b[0m\n"
     ]
    },
    {
     "name": "stderr",
     "output_type": "stream",
     "text": [
      "\u001b[90;3m2024-05-31 13:59:49,841 \u001b[0m\u001b[mgym                            \u001b[0m\u001b[mINFO       \u001b[0m\u001b[33m<10980.00> \u001b[0m\u001b[mSatellites requiring retasking: ['Scanner-1_4827225424']\u001b[0m\n"
     ]
    },
    {
     "name": "stderr",
     "output_type": "stream",
     "text": [
      "\u001b[90;3m2024-05-31 13:59:49,842 \u001b[0m\u001b[mgym                            \u001b[0m\u001b[mINFO       \u001b[0m\u001b[33m<10980.00> \u001b[0m\u001b[mStep reward: 0.0\u001b[0m\n"
     ]
    },
    {
     "name": "stderr",
     "output_type": "stream",
     "text": [
      "\u001b[90;3m2024-05-31 13:59:49,842 \u001b[0m\u001b[mgym                            \u001b[0m\u001b[mINFO       \u001b[0m\u001b[33m<10980.00> \u001b[0m\u001b[93;1m=== STARTING STEP ===\u001b[0m\n"
     ]
    },
    {
     "name": "stderr",
     "output_type": "stream",
     "text": [
      "\u001b[90;3m2024-05-31 13:59:49,842 \u001b[0m\u001b[36msats.satellite.Scanner-1       \u001b[0m\u001b[mINFO       \u001b[0m\u001b[33m<10980.00> \u001b[0m\u001b[36mScanner-1: \u001b[0m\u001b[maction_charge tasked for 180.0 seconds\u001b[0m\n"
     ]
    },
    {
     "name": "stderr",
     "output_type": "stream",
     "text": [
      "\u001b[90;3m2024-05-31 13:59:49,842 \u001b[0m\u001b[36msats.satellite.Scanner-1       \u001b[0m\u001b[mINFO       \u001b[0m\u001b[33m<10980.00> \u001b[0m\u001b[36mScanner-1: \u001b[0m\u001b[msetting timed terminal event at 11160.0\u001b[0m\n"
     ]
    },
    {
     "name": "stderr",
     "output_type": "stream",
     "text": [
      "\u001b[90;3m2024-05-31 13:59:49,843 \u001b[0m\u001b[msim.simulator                  \u001b[0m\u001b[mINFO       \u001b[0m\u001b[33m<10980.00> \u001b[0m\u001b[mRunning simulation at most to 17100.00 seconds\u001b[0m\n"
     ]
    },
    {
     "name": "stderr",
     "output_type": "stream",
     "text": [
      "\u001b[90;3m2024-05-31 13:59:49,853 \u001b[0m\u001b[36msats.satellite.Scanner-1       \u001b[0m\u001b[mINFO       \u001b[0m\u001b[33m<11160.00> \u001b[0m\u001b[36mScanner-1: \u001b[0m\u001b[mtimed termination at 11160.0 for action_charge\u001b[0m\n"
     ]
    },
    {
     "name": "stderr",
     "output_type": "stream",
     "text": [
      "\u001b[90;3m2024-05-31 13:59:49,854 \u001b[0m\u001b[mdata.base                      \u001b[0m\u001b[mINFO       \u001b[0m\u001b[33m<11160.00> \u001b[0m\u001b[mData reward: {'Scanner-1_4827225424': 0.0}\u001b[0m\n"
     ]
    },
    {
     "name": "stderr",
     "output_type": "stream",
     "text": [
      "\u001b[90;3m2024-05-31 13:59:49,855 \u001b[0m\u001b[mgym                            \u001b[0m\u001b[mINFO       \u001b[0m\u001b[33m<11160.00> \u001b[0m\u001b[mSatellites requiring retasking: ['Scanner-1_4827225424']\u001b[0m\n"
     ]
    },
    {
     "name": "stderr",
     "output_type": "stream",
     "text": [
      "\u001b[90;3m2024-05-31 13:59:49,855 \u001b[0m\u001b[mgym                            \u001b[0m\u001b[mINFO       \u001b[0m\u001b[33m<11160.00> \u001b[0m\u001b[mStep reward: 0.0\u001b[0m\n"
     ]
    },
    {
     "name": "stderr",
     "output_type": "stream",
     "text": [
      "\u001b[90;3m2024-05-31 13:59:49,855 \u001b[0m\u001b[mgym                            \u001b[0m\u001b[mINFO       \u001b[0m\u001b[33m<11160.00> \u001b[0m\u001b[93;1m=== STARTING STEP ===\u001b[0m\n"
     ]
    },
    {
     "name": "stderr",
     "output_type": "stream",
     "text": [
      "\u001b[90;3m2024-05-31 13:59:49,856 \u001b[0m\u001b[36msats.satellite.Scanner-1       \u001b[0m\u001b[mINFO       \u001b[0m\u001b[33m<11160.00> \u001b[0m\u001b[36mScanner-1: \u001b[0m\u001b[maction_downlink tasked for 60.0 seconds\u001b[0m\n"
     ]
    },
    {
     "name": "stderr",
     "output_type": "stream",
     "text": [
      "\u001b[90;3m2024-05-31 13:59:49,856 \u001b[0m\u001b[36msats.satellite.Scanner-1       \u001b[0m\u001b[mINFO       \u001b[0m\u001b[33m<11160.00> \u001b[0m\u001b[36mScanner-1: \u001b[0m\u001b[msetting timed terminal event at 11220.0\u001b[0m\n"
     ]
    },
    {
     "name": "stderr",
     "output_type": "stream",
     "text": [
      "\u001b[90;3m2024-05-31 13:59:49,856 \u001b[0m\u001b[msim.simulator                  \u001b[0m\u001b[mINFO       \u001b[0m\u001b[33m<11160.00> \u001b[0m\u001b[mRunning simulation at most to 17100.00 seconds\u001b[0m\n"
     ]
    },
    {
     "name": "stderr",
     "output_type": "stream",
     "text": [
      "\u001b[90;3m2024-05-31 13:59:49,860 \u001b[0m\u001b[36msats.satellite.Scanner-1       \u001b[0m\u001b[mINFO       \u001b[0m\u001b[33m<11220.00> \u001b[0m\u001b[36mScanner-1: \u001b[0m\u001b[mtimed termination at 11220.0 for action_downlink\u001b[0m\n"
     ]
    },
    {
     "name": "stderr",
     "output_type": "stream",
     "text": [
      "\u001b[90;3m2024-05-31 13:59:49,860 \u001b[0m\u001b[mdata.base                      \u001b[0m\u001b[mINFO       \u001b[0m\u001b[33m<11220.00> \u001b[0m\u001b[mData reward: {'Scanner-1_4827225424': 0.0}\u001b[0m\n"
     ]
    },
    {
     "name": "stderr",
     "output_type": "stream",
     "text": [
      "\u001b[90;3m2024-05-31 13:59:49,861 \u001b[0m\u001b[mgym                            \u001b[0m\u001b[mINFO       \u001b[0m\u001b[33m<11220.00> \u001b[0m\u001b[mSatellites requiring retasking: ['Scanner-1_4827225424']\u001b[0m\n"
     ]
    },
    {
     "name": "stderr",
     "output_type": "stream",
     "text": [
      "\u001b[90;3m2024-05-31 13:59:49,861 \u001b[0m\u001b[mgym                            \u001b[0m\u001b[mINFO       \u001b[0m\u001b[33m<11220.00> \u001b[0m\u001b[mStep reward: 0.0\u001b[0m\n"
     ]
    },
    {
     "name": "stderr",
     "output_type": "stream",
     "text": [
      "\u001b[90;3m2024-05-31 13:59:49,862 \u001b[0m\u001b[mgym                            \u001b[0m\u001b[mINFO       \u001b[0m\u001b[33m<11220.00> \u001b[0m\u001b[93;1m=== STARTING STEP ===\u001b[0m\n"
     ]
    },
    {
     "name": "stderr",
     "output_type": "stream",
     "text": [
      "\u001b[90;3m2024-05-31 13:59:49,862 \u001b[0m\u001b[36msats.satellite.Scanner-1       \u001b[0m\u001b[mINFO       \u001b[0m\u001b[33m<11220.00> \u001b[0m\u001b[36mScanner-1: \u001b[0m\u001b[maction_desat tasked for 60.0 seconds\u001b[0m\n"
     ]
    },
    {
     "name": "stderr",
     "output_type": "stream",
     "text": [
      "\u001b[90;3m2024-05-31 13:59:49,862 \u001b[0m\u001b[36msats.satellite.Scanner-1       \u001b[0m\u001b[mINFO       \u001b[0m\u001b[33m<11220.00> \u001b[0m\u001b[36mScanner-1: \u001b[0m\u001b[msetting timed terminal event at 11280.0\u001b[0m\n"
     ]
    },
    {
     "name": "stderr",
     "output_type": "stream",
     "text": [
      "\u001b[90;3m2024-05-31 13:59:49,863 \u001b[0m\u001b[msim.simulator                  \u001b[0m\u001b[mINFO       \u001b[0m\u001b[33m<11220.00> \u001b[0m\u001b[mRunning simulation at most to 17100.00 seconds\u001b[0m\n"
     ]
    },
    {
     "name": "stderr",
     "output_type": "stream",
     "text": [
      "\u001b[90;3m2024-05-31 13:59:49,866 \u001b[0m\u001b[36msats.satellite.Scanner-1       \u001b[0m\u001b[mINFO       \u001b[0m\u001b[33m<11280.00> \u001b[0m\u001b[36mScanner-1: \u001b[0m\u001b[mtimed termination at 11280.0 for action_desat\u001b[0m\n"
     ]
    },
    {
     "name": "stderr",
     "output_type": "stream",
     "text": [
      "\u001b[90;3m2024-05-31 13:59:49,867 \u001b[0m\u001b[mdata.base                      \u001b[0m\u001b[mINFO       \u001b[0m\u001b[33m<11280.00> \u001b[0m\u001b[mData reward: {'Scanner-1_4827225424': 0.0}\u001b[0m\n"
     ]
    },
    {
     "name": "stderr",
     "output_type": "stream",
     "text": [
      "\u001b[90;3m2024-05-31 13:59:49,868 \u001b[0m\u001b[mgym                            \u001b[0m\u001b[mINFO       \u001b[0m\u001b[33m<11280.00> \u001b[0m\u001b[mSatellites requiring retasking: ['Scanner-1_4827225424']\u001b[0m\n"
     ]
    },
    {
     "name": "stderr",
     "output_type": "stream",
     "text": [
      "\u001b[90;3m2024-05-31 13:59:49,868 \u001b[0m\u001b[mgym                            \u001b[0m\u001b[mINFO       \u001b[0m\u001b[33m<11280.00> \u001b[0m\u001b[mStep reward: 0.0\u001b[0m\n"
     ]
    },
    {
     "name": "stderr",
     "output_type": "stream",
     "text": [
      "\u001b[90;3m2024-05-31 13:59:49,869 \u001b[0m\u001b[mgym                            \u001b[0m\u001b[mINFO       \u001b[0m\u001b[33m<11280.00> \u001b[0m\u001b[93;1m=== STARTING STEP ===\u001b[0m\n"
     ]
    },
    {
     "name": "stderr",
     "output_type": "stream",
     "text": [
      "\u001b[90;3m2024-05-31 13:59:49,869 \u001b[0m\u001b[36msats.satellite.Scanner-1       \u001b[0m\u001b[mINFO       \u001b[0m\u001b[33m<11280.00> \u001b[0m\u001b[36mScanner-1: \u001b[0m\u001b[maction_downlink tasked for 60.0 seconds\u001b[0m\n"
     ]
    },
    {
     "name": "stderr",
     "output_type": "stream",
     "text": [
      "\u001b[90;3m2024-05-31 13:59:49,869 \u001b[0m\u001b[36msats.satellite.Scanner-1       \u001b[0m\u001b[mINFO       \u001b[0m\u001b[33m<11280.00> \u001b[0m\u001b[36mScanner-1: \u001b[0m\u001b[msetting timed terminal event at 11340.0\u001b[0m\n"
     ]
    },
    {
     "name": "stderr",
     "output_type": "stream",
     "text": [
      "\u001b[90;3m2024-05-31 13:59:49,869 \u001b[0m\u001b[msim.simulator                  \u001b[0m\u001b[mINFO       \u001b[0m\u001b[33m<11280.00> \u001b[0m\u001b[mRunning simulation at most to 17100.00 seconds\u001b[0m\n"
     ]
    },
    {
     "name": "stderr",
     "output_type": "stream",
     "text": [
      "\u001b[90;3m2024-05-31 13:59:49,873 \u001b[0m\u001b[36msats.satellite.Scanner-1       \u001b[0m\u001b[mINFO       \u001b[0m\u001b[33m<11340.00> \u001b[0m\u001b[36mScanner-1: \u001b[0m\u001b[mtimed termination at 11340.0 for action_downlink\u001b[0m\n"
     ]
    },
    {
     "name": "stderr",
     "output_type": "stream",
     "text": [
      "\u001b[90;3m2024-05-31 13:59:49,874 \u001b[0m\u001b[mdata.base                      \u001b[0m\u001b[mINFO       \u001b[0m\u001b[33m<11340.00> \u001b[0m\u001b[mData reward: {'Scanner-1_4827225424': 0.0}\u001b[0m\n"
     ]
    },
    {
     "name": "stderr",
     "output_type": "stream",
     "text": [
      "\u001b[90;3m2024-05-31 13:59:49,874 \u001b[0m\u001b[mgym                            \u001b[0m\u001b[mINFO       \u001b[0m\u001b[33m<11340.00> \u001b[0m\u001b[mSatellites requiring retasking: ['Scanner-1_4827225424']\u001b[0m\n"
     ]
    },
    {
     "name": "stderr",
     "output_type": "stream",
     "text": [
      "\u001b[90;3m2024-05-31 13:59:49,875 \u001b[0m\u001b[mgym                            \u001b[0m\u001b[mINFO       \u001b[0m\u001b[33m<11340.00> \u001b[0m\u001b[mStep reward: 0.0\u001b[0m\n"
     ]
    },
    {
     "name": "stderr",
     "output_type": "stream",
     "text": [
      "\u001b[90;3m2024-05-31 13:59:49,875 \u001b[0m\u001b[mgym                            \u001b[0m\u001b[mINFO       \u001b[0m\u001b[33m<11340.00> \u001b[0m\u001b[93;1m=== STARTING STEP ===\u001b[0m\n"
     ]
    },
    {
     "name": "stderr",
     "output_type": "stream",
     "text": [
      "\u001b[90;3m2024-05-31 13:59:49,876 \u001b[0m\u001b[36msats.satellite.Scanner-1       \u001b[0m\u001b[mINFO       \u001b[0m\u001b[33m<11340.00> \u001b[0m\u001b[36mScanner-1: \u001b[0m\u001b[maction_nadir_scan tasked for 180.0 seconds\u001b[0m\n"
     ]
    },
    {
     "name": "stderr",
     "output_type": "stream",
     "text": [
      "\u001b[90;3m2024-05-31 13:59:49,876 \u001b[0m\u001b[36msats.satellite.Scanner-1       \u001b[0m\u001b[mINFO       \u001b[0m\u001b[33m<11340.00> \u001b[0m\u001b[36mScanner-1: \u001b[0m\u001b[msetting timed terminal event at 11520.0\u001b[0m\n"
     ]
    },
    {
     "name": "stderr",
     "output_type": "stream",
     "text": [
      "\u001b[90;3m2024-05-31 13:59:49,876 \u001b[0m\u001b[msim.simulator                  \u001b[0m\u001b[mINFO       \u001b[0m\u001b[33m<11340.00> \u001b[0m\u001b[mRunning simulation at most to 17100.00 seconds\u001b[0m\n"
     ]
    },
    {
     "name": "stderr",
     "output_type": "stream",
     "text": [
      "\u001b[90;3m2024-05-31 13:59:49,887 \u001b[0m\u001b[36msats.satellite.Scanner-1       \u001b[0m\u001b[mINFO       \u001b[0m\u001b[33m<11520.00> \u001b[0m\u001b[36mScanner-1: \u001b[0m\u001b[mtimed termination at 11520.0 for action_nadir_scan\u001b[0m\n"
     ]
    },
    {
     "name": "stderr",
     "output_type": "stream",
     "text": [
      "\u001b[90;3m2024-05-31 13:59:49,887 \u001b[0m\u001b[mdata.base                      \u001b[0m\u001b[mINFO       \u001b[0m\u001b[33m<11520.00> \u001b[0m\u001b[mData reward: {'Scanner-1_4827225424': 0.008187134502923977}\u001b[0m\n"
     ]
    },
    {
     "name": "stderr",
     "output_type": "stream",
     "text": [
      "\u001b[90;3m2024-05-31 13:59:49,888 \u001b[0m\u001b[mgym                            \u001b[0m\u001b[mINFO       \u001b[0m\u001b[33m<11520.00> \u001b[0m\u001b[mSatellites requiring retasking: ['Scanner-1_4827225424']\u001b[0m\n"
     ]
    },
    {
     "name": "stderr",
     "output_type": "stream",
     "text": [
      "\u001b[90;3m2024-05-31 13:59:49,889 \u001b[0m\u001b[mgym                            \u001b[0m\u001b[mINFO       \u001b[0m\u001b[33m<11520.00> \u001b[0m\u001b[mStep reward: 0.008187134502923977\u001b[0m\n"
     ]
    },
    {
     "name": "stderr",
     "output_type": "stream",
     "text": [
      "\u001b[90;3m2024-05-31 13:59:49,889 \u001b[0m\u001b[mgym                            \u001b[0m\u001b[mINFO       \u001b[0m\u001b[33m<11520.00> \u001b[0m\u001b[93;1m=== STARTING STEP ===\u001b[0m\n"
     ]
    },
    {
     "name": "stderr",
     "output_type": "stream",
     "text": [
      "\u001b[90;3m2024-05-31 13:59:49,889 \u001b[0m\u001b[36msats.satellite.Scanner-1       \u001b[0m\u001b[mINFO       \u001b[0m\u001b[33m<11520.00> \u001b[0m\u001b[36mScanner-1: \u001b[0m\u001b[maction_desat tasked for 60.0 seconds\u001b[0m\n"
     ]
    },
    {
     "name": "stderr",
     "output_type": "stream",
     "text": [
      "\u001b[90;3m2024-05-31 13:59:49,890 \u001b[0m\u001b[36msats.satellite.Scanner-1       \u001b[0m\u001b[mINFO       \u001b[0m\u001b[33m<11520.00> \u001b[0m\u001b[36mScanner-1: \u001b[0m\u001b[msetting timed terminal event at 11580.0\u001b[0m\n"
     ]
    },
    {
     "name": "stderr",
     "output_type": "stream",
     "text": [
      "\u001b[90;3m2024-05-31 13:59:49,890 \u001b[0m\u001b[msim.simulator                  \u001b[0m\u001b[mINFO       \u001b[0m\u001b[33m<11520.00> \u001b[0m\u001b[mRunning simulation at most to 17100.00 seconds\u001b[0m\n"
     ]
    },
    {
     "name": "stderr",
     "output_type": "stream",
     "text": [
      "\u001b[90;3m2024-05-31 13:59:49,894 \u001b[0m\u001b[36msats.satellite.Scanner-1       \u001b[0m\u001b[mINFO       \u001b[0m\u001b[33m<11580.00> \u001b[0m\u001b[36mScanner-1: \u001b[0m\u001b[mtimed termination at 11580.0 for action_desat\u001b[0m\n"
     ]
    },
    {
     "name": "stderr",
     "output_type": "stream",
     "text": [
      "\u001b[90;3m2024-05-31 13:59:49,894 \u001b[0m\u001b[mdata.base                      \u001b[0m\u001b[mINFO       \u001b[0m\u001b[33m<11580.00> \u001b[0m\u001b[mData reward: {'Scanner-1_4827225424': 0.0}\u001b[0m\n"
     ]
    },
    {
     "name": "stderr",
     "output_type": "stream",
     "text": [
      "\u001b[90;3m2024-05-31 13:59:49,895 \u001b[0m\u001b[mgym                            \u001b[0m\u001b[mINFO       \u001b[0m\u001b[33m<11580.00> \u001b[0m\u001b[mSatellites requiring retasking: ['Scanner-1_4827225424']\u001b[0m\n"
     ]
    },
    {
     "name": "stderr",
     "output_type": "stream",
     "text": [
      "\u001b[90;3m2024-05-31 13:59:49,895 \u001b[0m\u001b[mgym                            \u001b[0m\u001b[mINFO       \u001b[0m\u001b[33m<11580.00> \u001b[0m\u001b[mStep reward: 0.0\u001b[0m\n"
     ]
    },
    {
     "name": "stderr",
     "output_type": "stream",
     "text": [
      "\u001b[90;3m2024-05-31 13:59:49,896 \u001b[0m\u001b[mgym                            \u001b[0m\u001b[mINFO       \u001b[0m\u001b[33m<11580.00> \u001b[0m\u001b[93;1m=== STARTING STEP ===\u001b[0m\n"
     ]
    },
    {
     "name": "stderr",
     "output_type": "stream",
     "text": [
      "\u001b[90;3m2024-05-31 13:59:49,896 \u001b[0m\u001b[36msats.satellite.Scanner-1       \u001b[0m\u001b[mINFO       \u001b[0m\u001b[33m<11580.00> \u001b[0m\u001b[36mScanner-1: \u001b[0m\u001b[maction_charge tasked for 180.0 seconds\u001b[0m\n"
     ]
    },
    {
     "name": "stderr",
     "output_type": "stream",
     "text": [
      "\u001b[90;3m2024-05-31 13:59:49,896 \u001b[0m\u001b[36msats.satellite.Scanner-1       \u001b[0m\u001b[mINFO       \u001b[0m\u001b[33m<11580.00> \u001b[0m\u001b[36mScanner-1: \u001b[0m\u001b[msetting timed terminal event at 11760.0\u001b[0m\n"
     ]
    },
    {
     "name": "stderr",
     "output_type": "stream",
     "text": [
      "\u001b[90;3m2024-05-31 13:59:49,896 \u001b[0m\u001b[msim.simulator                  \u001b[0m\u001b[mINFO       \u001b[0m\u001b[33m<11580.00> \u001b[0m\u001b[mRunning simulation at most to 17100.00 seconds\u001b[0m\n"
     ]
    },
    {
     "name": "stderr",
     "output_type": "stream",
     "text": [
      "\u001b[90;3m2024-05-31 13:59:49,907 \u001b[0m\u001b[36msats.satellite.Scanner-1       \u001b[0m\u001b[mINFO       \u001b[0m\u001b[33m<11760.00> \u001b[0m\u001b[36mScanner-1: \u001b[0m\u001b[mtimed termination at 11760.0 for action_charge\u001b[0m\n"
     ]
    },
    {
     "name": "stderr",
     "output_type": "stream",
     "text": [
      "\u001b[90;3m2024-05-31 13:59:49,908 \u001b[0m\u001b[mdata.base                      \u001b[0m\u001b[mINFO       \u001b[0m\u001b[33m<11760.00> \u001b[0m\u001b[mData reward: {'Scanner-1_4827225424': 0.0}\u001b[0m\n"
     ]
    },
    {
     "name": "stderr",
     "output_type": "stream",
     "text": [
      "\u001b[90;3m2024-05-31 13:59:49,909 \u001b[0m\u001b[mgym                            \u001b[0m\u001b[mINFO       \u001b[0m\u001b[33m<11760.00> \u001b[0m\u001b[mSatellites requiring retasking: ['Scanner-1_4827225424']\u001b[0m\n"
     ]
    },
    {
     "name": "stderr",
     "output_type": "stream",
     "text": [
      "\u001b[90;3m2024-05-31 13:59:49,909 \u001b[0m\u001b[mgym                            \u001b[0m\u001b[mINFO       \u001b[0m\u001b[33m<11760.00> \u001b[0m\u001b[mStep reward: 0.0\u001b[0m\n"
     ]
    },
    {
     "name": "stderr",
     "output_type": "stream",
     "text": [
      "\u001b[90;3m2024-05-31 13:59:49,909 \u001b[0m\u001b[mgym                            \u001b[0m\u001b[mINFO       \u001b[0m\u001b[33m<11760.00> \u001b[0m\u001b[93;1m=== STARTING STEP ===\u001b[0m\n"
     ]
    },
    {
     "name": "stderr",
     "output_type": "stream",
     "text": [
      "\u001b[90;3m2024-05-31 13:59:49,909 \u001b[0m\u001b[36msats.satellite.Scanner-1       \u001b[0m\u001b[mINFO       \u001b[0m\u001b[33m<11760.00> \u001b[0m\u001b[36mScanner-1: \u001b[0m\u001b[maction_desat tasked for 60.0 seconds\u001b[0m\n"
     ]
    },
    {
     "name": "stderr",
     "output_type": "stream",
     "text": [
      "\u001b[90;3m2024-05-31 13:59:49,910 \u001b[0m\u001b[36msats.satellite.Scanner-1       \u001b[0m\u001b[mINFO       \u001b[0m\u001b[33m<11760.00> \u001b[0m\u001b[36mScanner-1: \u001b[0m\u001b[msetting timed terminal event at 11820.0\u001b[0m\n"
     ]
    },
    {
     "name": "stderr",
     "output_type": "stream",
     "text": [
      "\u001b[90;3m2024-05-31 13:59:49,910 \u001b[0m\u001b[msim.simulator                  \u001b[0m\u001b[mINFO       \u001b[0m\u001b[33m<11760.00> \u001b[0m\u001b[mRunning simulation at most to 17100.00 seconds\u001b[0m\n"
     ]
    },
    {
     "name": "stderr",
     "output_type": "stream",
     "text": [
      "\u001b[90;3m2024-05-31 13:59:49,914 \u001b[0m\u001b[36msats.satellite.Scanner-1       \u001b[0m\u001b[mINFO       \u001b[0m\u001b[33m<11820.00> \u001b[0m\u001b[36mScanner-1: \u001b[0m\u001b[mtimed termination at 11820.0 for action_desat\u001b[0m\n"
     ]
    },
    {
     "name": "stderr",
     "output_type": "stream",
     "text": [
      "\u001b[90;3m2024-05-31 13:59:49,914 \u001b[0m\u001b[mdata.base                      \u001b[0m\u001b[mINFO       \u001b[0m\u001b[33m<11820.00> \u001b[0m\u001b[mData reward: {'Scanner-1_4827225424': 0.0}\u001b[0m\n"
     ]
    },
    {
     "name": "stderr",
     "output_type": "stream",
     "text": [
      "\u001b[90;3m2024-05-31 13:59:49,985 \u001b[0m\u001b[mgym                            \u001b[0m\u001b[mINFO       \u001b[0m\u001b[33m<11820.00> \u001b[0m\u001b[mSatellites requiring retasking: ['Scanner-1_4827225424']\u001b[0m\n"
     ]
    },
    {
     "name": "stderr",
     "output_type": "stream",
     "text": [
      "\u001b[90;3m2024-05-31 13:59:49,986 \u001b[0m\u001b[mgym                            \u001b[0m\u001b[mINFO       \u001b[0m\u001b[33m<11820.00> \u001b[0m\u001b[mStep reward: 0.0\u001b[0m\n"
     ]
    },
    {
     "name": "stderr",
     "output_type": "stream",
     "text": [
      "\u001b[90;3m2024-05-31 13:59:49,987 \u001b[0m\u001b[mgym                            \u001b[0m\u001b[mINFO       \u001b[0m\u001b[33m<11820.00> \u001b[0m\u001b[93;1m=== STARTING STEP ===\u001b[0m\n"
     ]
    },
    {
     "name": "stderr",
     "output_type": "stream",
     "text": [
      "\u001b[90;3m2024-05-31 13:59:49,987 \u001b[0m\u001b[36msats.satellite.Scanner-1       \u001b[0m\u001b[mINFO       \u001b[0m\u001b[33m<11820.00> \u001b[0m\u001b[36mScanner-1: \u001b[0m\u001b[maction_nadir_scan tasked for 180.0 seconds\u001b[0m\n"
     ]
    },
    {
     "name": "stderr",
     "output_type": "stream",
     "text": [
      "\u001b[90;3m2024-05-31 13:59:49,988 \u001b[0m\u001b[36msats.satellite.Scanner-1       \u001b[0m\u001b[mINFO       \u001b[0m\u001b[33m<11820.00> \u001b[0m\u001b[36mScanner-1: \u001b[0m\u001b[msetting timed terminal event at 12000.0\u001b[0m\n"
     ]
    },
    {
     "name": "stderr",
     "output_type": "stream",
     "text": [
      "\u001b[90;3m2024-05-31 13:59:49,988 \u001b[0m\u001b[msim.simulator                  \u001b[0m\u001b[mINFO       \u001b[0m\u001b[33m<11820.00> \u001b[0m\u001b[mRunning simulation at most to 17100.00 seconds\u001b[0m\n"
     ]
    },
    {
     "name": "stderr",
     "output_type": "stream",
     "text": [
      "\u001b[90;3m2024-05-31 13:59:50,000 \u001b[0m\u001b[36msats.satellite.Scanner-1       \u001b[0m\u001b[mINFO       \u001b[0m\u001b[33m<12000.00> \u001b[0m\u001b[36mScanner-1: \u001b[0m\u001b[mtimed termination at 12000.0 for action_nadir_scan\u001b[0m\n"
     ]
    },
    {
     "name": "stderr",
     "output_type": "stream",
     "text": [
      "\u001b[90;3m2024-05-31 13:59:50,001 \u001b[0m\u001b[mdata.base                      \u001b[0m\u001b[mINFO       \u001b[0m\u001b[33m<12000.00> \u001b[0m\u001b[mData reward: {'Scanner-1_4827225424': 0.00824561403508772}\u001b[0m\n"
     ]
    },
    {
     "name": "stderr",
     "output_type": "stream",
     "text": [
      "\u001b[90;3m2024-05-31 13:59:50,003 \u001b[0m\u001b[mgym                            \u001b[0m\u001b[mINFO       \u001b[0m\u001b[33m<12000.00> \u001b[0m\u001b[mSatellites requiring retasking: ['Scanner-1_4827225424']\u001b[0m\n"
     ]
    },
    {
     "name": "stderr",
     "output_type": "stream",
     "text": [
      "\u001b[90;3m2024-05-31 13:59:50,003 \u001b[0m\u001b[mgym                            \u001b[0m\u001b[mINFO       \u001b[0m\u001b[33m<12000.00> \u001b[0m\u001b[mStep reward: 0.00824561403508772\u001b[0m\n"
     ]
    },
    {
     "name": "stderr",
     "output_type": "stream",
     "text": [
      "\u001b[90;3m2024-05-31 13:59:50,004 \u001b[0m\u001b[mgym                            \u001b[0m\u001b[mINFO       \u001b[0m\u001b[33m<12000.00> \u001b[0m\u001b[93;1m=== STARTING STEP ===\u001b[0m\n"
     ]
    },
    {
     "name": "stderr",
     "output_type": "stream",
     "text": [
      "\u001b[90;3m2024-05-31 13:59:50,005 \u001b[0m\u001b[36msats.satellite.Scanner-1       \u001b[0m\u001b[mINFO       \u001b[0m\u001b[33m<12000.00> \u001b[0m\u001b[36mScanner-1: \u001b[0m\u001b[maction_desat tasked for 60.0 seconds\u001b[0m\n"
     ]
    },
    {
     "name": "stderr",
     "output_type": "stream",
     "text": [
      "\u001b[90;3m2024-05-31 13:59:50,005 \u001b[0m\u001b[36msats.satellite.Scanner-1       \u001b[0m\u001b[mINFO       \u001b[0m\u001b[33m<12000.00> \u001b[0m\u001b[36mScanner-1: \u001b[0m\u001b[msetting timed terminal event at 12060.0\u001b[0m\n"
     ]
    },
    {
     "name": "stderr",
     "output_type": "stream",
     "text": [
      "\u001b[90;3m2024-05-31 13:59:50,005 \u001b[0m\u001b[msim.simulator                  \u001b[0m\u001b[mINFO       \u001b[0m\u001b[33m<12000.00> \u001b[0m\u001b[mRunning simulation at most to 17100.00 seconds\u001b[0m\n"
     ]
    },
    {
     "name": "stderr",
     "output_type": "stream",
     "text": [
      "\u001b[90;3m2024-05-31 13:59:50,010 \u001b[0m\u001b[36msats.satellite.Scanner-1       \u001b[0m\u001b[mINFO       \u001b[0m\u001b[33m<12060.00> \u001b[0m\u001b[36mScanner-1: \u001b[0m\u001b[mtimed termination at 12060.0 for action_desat\u001b[0m\n"
     ]
    },
    {
     "name": "stderr",
     "output_type": "stream",
     "text": [
      "\u001b[90;3m2024-05-31 13:59:50,011 \u001b[0m\u001b[mdata.base                      \u001b[0m\u001b[mINFO       \u001b[0m\u001b[33m<12060.00> \u001b[0m\u001b[mData reward: {'Scanner-1_4827225424': 0.0}\u001b[0m\n"
     ]
    },
    {
     "name": "stderr",
     "output_type": "stream",
     "text": [
      "\u001b[90;3m2024-05-31 13:59:50,012 \u001b[0m\u001b[mgym                            \u001b[0m\u001b[mINFO       \u001b[0m\u001b[33m<12060.00> \u001b[0m\u001b[mSatellites requiring retasking: ['Scanner-1_4827225424']\u001b[0m\n"
     ]
    },
    {
     "name": "stderr",
     "output_type": "stream",
     "text": [
      "\u001b[90;3m2024-05-31 13:59:50,013 \u001b[0m\u001b[mgym                            \u001b[0m\u001b[mINFO       \u001b[0m\u001b[33m<12060.00> \u001b[0m\u001b[mStep reward: 0.0\u001b[0m\n"
     ]
    },
    {
     "name": "stderr",
     "output_type": "stream",
     "text": [
      "\u001b[90;3m2024-05-31 13:59:50,013 \u001b[0m\u001b[mgym                            \u001b[0m\u001b[mINFO       \u001b[0m\u001b[33m<12060.00> \u001b[0m\u001b[93;1m=== STARTING STEP ===\u001b[0m\n"
     ]
    },
    {
     "name": "stderr",
     "output_type": "stream",
     "text": [
      "\u001b[90;3m2024-05-31 13:59:50,013 \u001b[0m\u001b[36msats.satellite.Scanner-1       \u001b[0m\u001b[mINFO       \u001b[0m\u001b[33m<12060.00> \u001b[0m\u001b[36mScanner-1: \u001b[0m\u001b[maction_desat tasked for 60.0 seconds\u001b[0m\n"
     ]
    },
    {
     "name": "stderr",
     "output_type": "stream",
     "text": [
      "\u001b[90;3m2024-05-31 13:59:50,014 \u001b[0m\u001b[36msats.satellite.Scanner-1       \u001b[0m\u001b[mINFO       \u001b[0m\u001b[33m<12060.00> \u001b[0m\u001b[36mScanner-1: \u001b[0m\u001b[msetting timed terminal event at 12120.0\u001b[0m\n"
     ]
    },
    {
     "name": "stderr",
     "output_type": "stream",
     "text": [
      "\u001b[90;3m2024-05-31 13:59:50,014 \u001b[0m\u001b[msim.simulator                  \u001b[0m\u001b[mINFO       \u001b[0m\u001b[33m<12060.00> \u001b[0m\u001b[mRunning simulation at most to 17100.00 seconds\u001b[0m\n"
     ]
    },
    {
     "name": "stderr",
     "output_type": "stream",
     "text": [
      "\u001b[90;3m2024-05-31 13:59:50,019 \u001b[0m\u001b[36msats.satellite.Scanner-1       \u001b[0m\u001b[mINFO       \u001b[0m\u001b[33m<12120.00> \u001b[0m\u001b[36mScanner-1: \u001b[0m\u001b[mtimed termination at 12120.0 for action_desat\u001b[0m\n"
     ]
    },
    {
     "name": "stderr",
     "output_type": "stream",
     "text": [
      "\u001b[90;3m2024-05-31 13:59:50,019 \u001b[0m\u001b[mdata.base                      \u001b[0m\u001b[mINFO       \u001b[0m\u001b[33m<12120.00> \u001b[0m\u001b[mData reward: {'Scanner-1_4827225424': 0.0}\u001b[0m\n"
     ]
    },
    {
     "name": "stderr",
     "output_type": "stream",
     "text": [
      "\u001b[90;3m2024-05-31 13:59:50,021 \u001b[0m\u001b[mgym                            \u001b[0m\u001b[mINFO       \u001b[0m\u001b[33m<12120.00> \u001b[0m\u001b[mSatellites requiring retasking: ['Scanner-1_4827225424']\u001b[0m\n"
     ]
    },
    {
     "name": "stderr",
     "output_type": "stream",
     "text": [
      "\u001b[90;3m2024-05-31 13:59:50,021 \u001b[0m\u001b[mgym                            \u001b[0m\u001b[mINFO       \u001b[0m\u001b[33m<12120.00> \u001b[0m\u001b[mStep reward: 0.0\u001b[0m\n"
     ]
    },
    {
     "name": "stderr",
     "output_type": "stream",
     "text": [
      "\u001b[90;3m2024-05-31 13:59:50,022 \u001b[0m\u001b[mgym                            \u001b[0m\u001b[mINFO       \u001b[0m\u001b[33m<12120.00> \u001b[0m\u001b[93;1m=== STARTING STEP ===\u001b[0m\n"
     ]
    },
    {
     "name": "stderr",
     "output_type": "stream",
     "text": [
      "\u001b[90;3m2024-05-31 13:59:50,023 \u001b[0m\u001b[36msats.satellite.Scanner-1       \u001b[0m\u001b[mINFO       \u001b[0m\u001b[33m<12120.00> \u001b[0m\u001b[36mScanner-1: \u001b[0m\u001b[maction_downlink tasked for 60.0 seconds\u001b[0m\n"
     ]
    },
    {
     "name": "stderr",
     "output_type": "stream",
     "text": [
      "\u001b[90;3m2024-05-31 13:59:50,023 \u001b[0m\u001b[36msats.satellite.Scanner-1       \u001b[0m\u001b[mINFO       \u001b[0m\u001b[33m<12120.00> \u001b[0m\u001b[36mScanner-1: \u001b[0m\u001b[msetting timed terminal event at 12180.0\u001b[0m\n"
     ]
    },
    {
     "name": "stderr",
     "output_type": "stream",
     "text": [
      "\u001b[90;3m2024-05-31 13:59:50,023 \u001b[0m\u001b[msim.simulator                  \u001b[0m\u001b[mINFO       \u001b[0m\u001b[33m<12120.00> \u001b[0m\u001b[mRunning simulation at most to 17100.00 seconds\u001b[0m\n"
     ]
    },
    {
     "name": "stderr",
     "output_type": "stream",
     "text": [
      "\u001b[90;3m2024-05-31 13:59:50,028 \u001b[0m\u001b[36msats.satellite.Scanner-1       \u001b[0m\u001b[mINFO       \u001b[0m\u001b[33m<12180.00> \u001b[0m\u001b[36mScanner-1: \u001b[0m\u001b[mtimed termination at 12180.0 for action_downlink\u001b[0m\n"
     ]
    },
    {
     "name": "stderr",
     "output_type": "stream",
     "text": [
      "\u001b[90;3m2024-05-31 13:59:50,029 \u001b[0m\u001b[mdata.base                      \u001b[0m\u001b[mINFO       \u001b[0m\u001b[33m<12180.00> \u001b[0m\u001b[mData reward: {'Scanner-1_4827225424': 0.0}\u001b[0m\n"
     ]
    },
    {
     "name": "stderr",
     "output_type": "stream",
     "text": [
      "\u001b[90;3m2024-05-31 13:59:50,030 \u001b[0m\u001b[mgym                            \u001b[0m\u001b[mINFO       \u001b[0m\u001b[33m<12180.00> \u001b[0m\u001b[mSatellites requiring retasking: ['Scanner-1_4827225424']\u001b[0m\n"
     ]
    },
    {
     "name": "stderr",
     "output_type": "stream",
     "text": [
      "\u001b[90;3m2024-05-31 13:59:50,030 \u001b[0m\u001b[mgym                            \u001b[0m\u001b[mINFO       \u001b[0m\u001b[33m<12180.00> \u001b[0m\u001b[mStep reward: 0.0\u001b[0m\n"
     ]
    },
    {
     "name": "stderr",
     "output_type": "stream",
     "text": [
      "\u001b[90;3m2024-05-31 13:59:50,031 \u001b[0m\u001b[mgym                            \u001b[0m\u001b[mINFO       \u001b[0m\u001b[33m<12180.00> \u001b[0m\u001b[93;1m=== STARTING STEP ===\u001b[0m\n"
     ]
    },
    {
     "name": "stderr",
     "output_type": "stream",
     "text": [
      "\u001b[90;3m2024-05-31 13:59:50,031 \u001b[0m\u001b[36msats.satellite.Scanner-1       \u001b[0m\u001b[mINFO       \u001b[0m\u001b[33m<12180.00> \u001b[0m\u001b[36mScanner-1: \u001b[0m\u001b[maction_desat tasked for 60.0 seconds\u001b[0m\n"
     ]
    },
    {
     "name": "stderr",
     "output_type": "stream",
     "text": [
      "\u001b[90;3m2024-05-31 13:59:50,032 \u001b[0m\u001b[36msats.satellite.Scanner-1       \u001b[0m\u001b[mINFO       \u001b[0m\u001b[33m<12180.00> \u001b[0m\u001b[36mScanner-1: \u001b[0m\u001b[msetting timed terminal event at 12240.0\u001b[0m\n"
     ]
    },
    {
     "name": "stderr",
     "output_type": "stream",
     "text": [
      "\u001b[90;3m2024-05-31 13:59:50,032 \u001b[0m\u001b[msim.simulator                  \u001b[0m\u001b[mINFO       \u001b[0m\u001b[33m<12180.00> \u001b[0m\u001b[mRunning simulation at most to 17100.00 seconds\u001b[0m\n"
     ]
    },
    {
     "name": "stderr",
     "output_type": "stream",
     "text": [
      "\u001b[90;3m2024-05-31 13:59:50,036 \u001b[0m\u001b[36msats.satellite.Scanner-1       \u001b[0m\u001b[mINFO       \u001b[0m\u001b[33m<12240.00> \u001b[0m\u001b[36mScanner-1: \u001b[0m\u001b[mtimed termination at 12240.0 for action_desat\u001b[0m\n"
     ]
    },
    {
     "name": "stderr",
     "output_type": "stream",
     "text": [
      "\u001b[90;3m2024-05-31 13:59:50,037 \u001b[0m\u001b[mdata.base                      \u001b[0m\u001b[mINFO       \u001b[0m\u001b[33m<12240.00> \u001b[0m\u001b[mData reward: {'Scanner-1_4827225424': 0.0}\u001b[0m\n"
     ]
    },
    {
     "name": "stderr",
     "output_type": "stream",
     "text": [
      "\u001b[90;3m2024-05-31 13:59:50,038 \u001b[0m\u001b[mgym                            \u001b[0m\u001b[mINFO       \u001b[0m\u001b[33m<12240.00> \u001b[0m\u001b[mSatellites requiring retasking: ['Scanner-1_4827225424']\u001b[0m\n"
     ]
    },
    {
     "name": "stderr",
     "output_type": "stream",
     "text": [
      "\u001b[90;3m2024-05-31 13:59:50,038 \u001b[0m\u001b[mgym                            \u001b[0m\u001b[mINFO       \u001b[0m\u001b[33m<12240.00> \u001b[0m\u001b[mStep reward: 0.0\u001b[0m\n"
     ]
    },
    {
     "name": "stderr",
     "output_type": "stream",
     "text": [
      "\u001b[90;3m2024-05-31 13:59:50,038 \u001b[0m\u001b[mgym                            \u001b[0m\u001b[mINFO       \u001b[0m\u001b[33m<12240.00> \u001b[0m\u001b[93;1m=== STARTING STEP ===\u001b[0m\n"
     ]
    },
    {
     "name": "stderr",
     "output_type": "stream",
     "text": [
      "\u001b[90;3m2024-05-31 13:59:50,039 \u001b[0m\u001b[36msats.satellite.Scanner-1       \u001b[0m\u001b[mINFO       \u001b[0m\u001b[33m<12240.00> \u001b[0m\u001b[36mScanner-1: \u001b[0m\u001b[maction_nadir_scan tasked for 180.0 seconds\u001b[0m\n"
     ]
    },
    {
     "name": "stderr",
     "output_type": "stream",
     "text": [
      "\u001b[90;3m2024-05-31 13:59:50,039 \u001b[0m\u001b[36msats.satellite.Scanner-1       \u001b[0m\u001b[mINFO       \u001b[0m\u001b[33m<12240.00> \u001b[0m\u001b[36mScanner-1: \u001b[0m\u001b[msetting timed terminal event at 12420.0\u001b[0m\n"
     ]
    },
    {
     "name": "stderr",
     "output_type": "stream",
     "text": [
      "\u001b[90;3m2024-05-31 13:59:50,039 \u001b[0m\u001b[msim.simulator                  \u001b[0m\u001b[mINFO       \u001b[0m\u001b[33m<12240.00> \u001b[0m\u001b[mRunning simulation at most to 17100.00 seconds\u001b[0m\n"
     ]
    },
    {
     "name": "stderr",
     "output_type": "stream",
     "text": [
      "\u001b[90;3m2024-05-31 13:59:50,052 \u001b[0m\u001b[36msats.satellite.Scanner-1       \u001b[0m\u001b[mINFO       \u001b[0m\u001b[33m<12420.00> \u001b[0m\u001b[36mScanner-1: \u001b[0m\u001b[mtimed termination at 12420.0 for action_nadir_scan\u001b[0m\n"
     ]
    },
    {
     "name": "stderr",
     "output_type": "stream",
     "text": [
      "\u001b[90;3m2024-05-31 13:59:50,053 \u001b[0m\u001b[mdata.base                      \u001b[0m\u001b[mINFO       \u001b[0m\u001b[33m<12420.00> \u001b[0m\u001b[mData reward: {'Scanner-1_4827225424': 0.00824561403508772}\u001b[0m\n"
     ]
    },
    {
     "name": "stderr",
     "output_type": "stream",
     "text": [
      "\u001b[90;3m2024-05-31 13:59:50,054 \u001b[0m\u001b[mgym                            \u001b[0m\u001b[mINFO       \u001b[0m\u001b[33m<12420.00> \u001b[0m\u001b[mSatellites requiring retasking: ['Scanner-1_4827225424']\u001b[0m\n"
     ]
    },
    {
     "name": "stderr",
     "output_type": "stream",
     "text": [
      "\u001b[90;3m2024-05-31 13:59:50,054 \u001b[0m\u001b[mgym                            \u001b[0m\u001b[mINFO       \u001b[0m\u001b[33m<12420.00> \u001b[0m\u001b[mStep reward: 0.00824561403508772\u001b[0m\n"
     ]
    },
    {
     "name": "stderr",
     "output_type": "stream",
     "text": [
      "\u001b[90;3m2024-05-31 13:59:50,055 \u001b[0m\u001b[mgym                            \u001b[0m\u001b[mINFO       \u001b[0m\u001b[33m<12420.00> \u001b[0m\u001b[93;1m=== STARTING STEP ===\u001b[0m\n"
     ]
    },
    {
     "name": "stderr",
     "output_type": "stream",
     "text": [
      "\u001b[90;3m2024-05-31 13:59:50,055 \u001b[0m\u001b[36msats.satellite.Scanner-1       \u001b[0m\u001b[mINFO       \u001b[0m\u001b[33m<12420.00> \u001b[0m\u001b[36mScanner-1: \u001b[0m\u001b[maction_charge tasked for 180.0 seconds\u001b[0m\n"
     ]
    },
    {
     "name": "stderr",
     "output_type": "stream",
     "text": [
      "\u001b[90;3m2024-05-31 13:59:50,056 \u001b[0m\u001b[36msats.satellite.Scanner-1       \u001b[0m\u001b[mINFO       \u001b[0m\u001b[33m<12420.00> \u001b[0m\u001b[36mScanner-1: \u001b[0m\u001b[msetting timed terminal event at 12600.0\u001b[0m\n"
     ]
    },
    {
     "name": "stderr",
     "output_type": "stream",
     "text": [
      "\u001b[90;3m2024-05-31 13:59:50,056 \u001b[0m\u001b[msim.simulator                  \u001b[0m\u001b[mINFO       \u001b[0m\u001b[33m<12420.00> \u001b[0m\u001b[mRunning simulation at most to 17100.00 seconds\u001b[0m\n"
     ]
    },
    {
     "name": "stderr",
     "output_type": "stream",
     "text": [
      "\u001b[90;3m2024-05-31 13:59:50,067 \u001b[0m\u001b[36msats.satellite.Scanner-1       \u001b[0m\u001b[mINFO       \u001b[0m\u001b[33m<12600.00> \u001b[0m\u001b[36mScanner-1: \u001b[0m\u001b[mtimed termination at 12600.0 for action_charge\u001b[0m\n"
     ]
    },
    {
     "name": "stderr",
     "output_type": "stream",
     "text": [
      "\u001b[90;3m2024-05-31 13:59:50,068 \u001b[0m\u001b[mdata.base                      \u001b[0m\u001b[mINFO       \u001b[0m\u001b[33m<12600.00> \u001b[0m\u001b[mData reward: {'Scanner-1_4827225424': 0.0}\u001b[0m\n"
     ]
    },
    {
     "name": "stderr",
     "output_type": "stream",
     "text": [
      "\u001b[90;3m2024-05-31 13:59:50,069 \u001b[0m\u001b[mgym                            \u001b[0m\u001b[mINFO       \u001b[0m\u001b[33m<12600.00> \u001b[0m\u001b[mSatellites requiring retasking: ['Scanner-1_4827225424']\u001b[0m\n"
     ]
    },
    {
     "name": "stderr",
     "output_type": "stream",
     "text": [
      "\u001b[90;3m2024-05-31 13:59:50,069 \u001b[0m\u001b[mgym                            \u001b[0m\u001b[mINFO       \u001b[0m\u001b[33m<12600.00> \u001b[0m\u001b[mStep reward: 0.0\u001b[0m\n"
     ]
    },
    {
     "name": "stderr",
     "output_type": "stream",
     "text": [
      "\u001b[90;3m2024-05-31 13:59:50,070 \u001b[0m\u001b[mgym                            \u001b[0m\u001b[mINFO       \u001b[0m\u001b[33m<12600.00> \u001b[0m\u001b[93;1m=== STARTING STEP ===\u001b[0m\n"
     ]
    },
    {
     "name": "stderr",
     "output_type": "stream",
     "text": [
      "\u001b[90;3m2024-05-31 13:59:50,070 \u001b[0m\u001b[36msats.satellite.Scanner-1       \u001b[0m\u001b[mINFO       \u001b[0m\u001b[33m<12600.00> \u001b[0m\u001b[36mScanner-1: \u001b[0m\u001b[maction_desat tasked for 60.0 seconds\u001b[0m\n"
     ]
    },
    {
     "name": "stderr",
     "output_type": "stream",
     "text": [
      "\u001b[90;3m2024-05-31 13:59:50,070 \u001b[0m\u001b[36msats.satellite.Scanner-1       \u001b[0m\u001b[mINFO       \u001b[0m\u001b[33m<12600.00> \u001b[0m\u001b[36mScanner-1: \u001b[0m\u001b[msetting timed terminal event at 12660.0\u001b[0m\n"
     ]
    },
    {
     "name": "stderr",
     "output_type": "stream",
     "text": [
      "\u001b[90;3m2024-05-31 13:59:50,071 \u001b[0m\u001b[msim.simulator                  \u001b[0m\u001b[mINFO       \u001b[0m\u001b[33m<12600.00> \u001b[0m\u001b[mRunning simulation at most to 17100.00 seconds\u001b[0m\n"
     ]
    },
    {
     "name": "stderr",
     "output_type": "stream",
     "text": [
      "\u001b[90;3m2024-05-31 13:59:50,075 \u001b[0m\u001b[36msats.satellite.Scanner-1       \u001b[0m\u001b[mINFO       \u001b[0m\u001b[33m<12660.00> \u001b[0m\u001b[36mScanner-1: \u001b[0m\u001b[mtimed termination at 12660.0 for action_desat\u001b[0m\n"
     ]
    },
    {
     "name": "stderr",
     "output_type": "stream",
     "text": [
      "\u001b[90;3m2024-05-31 13:59:50,075 \u001b[0m\u001b[mdata.base                      \u001b[0m\u001b[mINFO       \u001b[0m\u001b[33m<12660.00> \u001b[0m\u001b[mData reward: {'Scanner-1_4827225424': 0.0}\u001b[0m\n"
     ]
    },
    {
     "name": "stderr",
     "output_type": "stream",
     "text": [
      "\u001b[90;3m2024-05-31 13:59:50,076 \u001b[0m\u001b[mgym                            \u001b[0m\u001b[mINFO       \u001b[0m\u001b[33m<12660.00> \u001b[0m\u001b[mSatellites requiring retasking: ['Scanner-1_4827225424']\u001b[0m\n"
     ]
    },
    {
     "name": "stderr",
     "output_type": "stream",
     "text": [
      "\u001b[90;3m2024-05-31 13:59:50,077 \u001b[0m\u001b[mgym                            \u001b[0m\u001b[mINFO       \u001b[0m\u001b[33m<12660.00> \u001b[0m\u001b[mStep reward: 0.0\u001b[0m\n"
     ]
    },
    {
     "name": "stderr",
     "output_type": "stream",
     "text": [
      "\u001b[90;3m2024-05-31 13:59:50,077 \u001b[0m\u001b[mgym                            \u001b[0m\u001b[mINFO       \u001b[0m\u001b[33m<12660.00> \u001b[0m\u001b[93;1m=== STARTING STEP ===\u001b[0m\n"
     ]
    },
    {
     "name": "stderr",
     "output_type": "stream",
     "text": [
      "\u001b[90;3m2024-05-31 13:59:50,077 \u001b[0m\u001b[36msats.satellite.Scanner-1       \u001b[0m\u001b[mINFO       \u001b[0m\u001b[33m<12660.00> \u001b[0m\u001b[36mScanner-1: \u001b[0m\u001b[maction_desat tasked for 60.0 seconds\u001b[0m\n"
     ]
    },
    {
     "name": "stderr",
     "output_type": "stream",
     "text": [
      "\u001b[90;3m2024-05-31 13:59:50,078 \u001b[0m\u001b[36msats.satellite.Scanner-1       \u001b[0m\u001b[mINFO       \u001b[0m\u001b[33m<12660.00> \u001b[0m\u001b[36mScanner-1: \u001b[0m\u001b[msetting timed terminal event at 12720.0\u001b[0m\n"
     ]
    },
    {
     "name": "stderr",
     "output_type": "stream",
     "text": [
      "\u001b[90;3m2024-05-31 13:59:50,078 \u001b[0m\u001b[msim.simulator                  \u001b[0m\u001b[mINFO       \u001b[0m\u001b[33m<12660.00> \u001b[0m\u001b[mRunning simulation at most to 17100.00 seconds\u001b[0m\n"
     ]
    },
    {
     "name": "stderr",
     "output_type": "stream",
     "text": [
      "\u001b[90;3m2024-05-31 13:59:50,082 \u001b[0m\u001b[36msats.satellite.Scanner-1       \u001b[0m\u001b[mINFO       \u001b[0m\u001b[33m<12720.00> \u001b[0m\u001b[36mScanner-1: \u001b[0m\u001b[mtimed termination at 12720.0 for action_desat\u001b[0m\n"
     ]
    },
    {
     "name": "stderr",
     "output_type": "stream",
     "text": [
      "\u001b[90;3m2024-05-31 13:59:50,083 \u001b[0m\u001b[mdata.base                      \u001b[0m\u001b[mINFO       \u001b[0m\u001b[33m<12720.00> \u001b[0m\u001b[mData reward: {'Scanner-1_4827225424': 0.0}\u001b[0m\n"
     ]
    },
    {
     "name": "stderr",
     "output_type": "stream",
     "text": [
      "\u001b[90;3m2024-05-31 13:59:50,084 \u001b[0m\u001b[mgym                            \u001b[0m\u001b[mINFO       \u001b[0m\u001b[33m<12720.00> \u001b[0m\u001b[mSatellites requiring retasking: ['Scanner-1_4827225424']\u001b[0m\n"
     ]
    },
    {
     "name": "stderr",
     "output_type": "stream",
     "text": [
      "\u001b[90;3m2024-05-31 13:59:50,084 \u001b[0m\u001b[mgym                            \u001b[0m\u001b[mINFO       \u001b[0m\u001b[33m<12720.00> \u001b[0m\u001b[mStep reward: 0.0\u001b[0m\n"
     ]
    },
    {
     "name": "stderr",
     "output_type": "stream",
     "text": [
      "\u001b[90;3m2024-05-31 13:59:50,084 \u001b[0m\u001b[mgym                            \u001b[0m\u001b[mINFO       \u001b[0m\u001b[33m<12720.00> \u001b[0m\u001b[93;1m=== STARTING STEP ===\u001b[0m\n"
     ]
    },
    {
     "name": "stderr",
     "output_type": "stream",
     "text": [
      "\u001b[90;3m2024-05-31 13:59:50,085 \u001b[0m\u001b[36msats.satellite.Scanner-1       \u001b[0m\u001b[mINFO       \u001b[0m\u001b[33m<12720.00> \u001b[0m\u001b[36mScanner-1: \u001b[0m\u001b[maction_downlink tasked for 60.0 seconds\u001b[0m\n"
     ]
    },
    {
     "name": "stderr",
     "output_type": "stream",
     "text": [
      "\u001b[90;3m2024-05-31 13:59:50,085 \u001b[0m\u001b[36msats.satellite.Scanner-1       \u001b[0m\u001b[mINFO       \u001b[0m\u001b[33m<12720.00> \u001b[0m\u001b[36mScanner-1: \u001b[0m\u001b[msetting timed terminal event at 12780.0\u001b[0m\n"
     ]
    },
    {
     "name": "stderr",
     "output_type": "stream",
     "text": [
      "\u001b[90;3m2024-05-31 13:59:50,085 \u001b[0m\u001b[msim.simulator                  \u001b[0m\u001b[mINFO       \u001b[0m\u001b[33m<12720.00> \u001b[0m\u001b[mRunning simulation at most to 17100.00 seconds\u001b[0m\n"
     ]
    },
    {
     "name": "stderr",
     "output_type": "stream",
     "text": [
      "\u001b[90;3m2024-05-31 13:59:50,089 \u001b[0m\u001b[36msats.satellite.Scanner-1       \u001b[0m\u001b[mINFO       \u001b[0m\u001b[33m<12780.00> \u001b[0m\u001b[36mScanner-1: \u001b[0m\u001b[mtimed termination at 12780.0 for action_downlink\u001b[0m\n"
     ]
    },
    {
     "name": "stderr",
     "output_type": "stream",
     "text": [
      "\u001b[90;3m2024-05-31 13:59:50,089 \u001b[0m\u001b[mdata.base                      \u001b[0m\u001b[mINFO       \u001b[0m\u001b[33m<12780.00> \u001b[0m\u001b[mData reward: {'Scanner-1_4827225424': 0.0}\u001b[0m\n"
     ]
    },
    {
     "name": "stderr",
     "output_type": "stream",
     "text": [
      "\u001b[90;3m2024-05-31 13:59:50,090 \u001b[0m\u001b[mgym                            \u001b[0m\u001b[mINFO       \u001b[0m\u001b[33m<12780.00> \u001b[0m\u001b[mSatellites requiring retasking: ['Scanner-1_4827225424']\u001b[0m\n"
     ]
    },
    {
     "name": "stderr",
     "output_type": "stream",
     "text": [
      "\u001b[90;3m2024-05-31 13:59:50,091 \u001b[0m\u001b[mgym                            \u001b[0m\u001b[mINFO       \u001b[0m\u001b[33m<12780.00> \u001b[0m\u001b[mStep reward: 0.0\u001b[0m\n"
     ]
    },
    {
     "name": "stderr",
     "output_type": "stream",
     "text": [
      "\u001b[90;3m2024-05-31 13:59:50,091 \u001b[0m\u001b[mgym                            \u001b[0m\u001b[mINFO       \u001b[0m\u001b[33m<12780.00> \u001b[0m\u001b[93;1m=== STARTING STEP ===\u001b[0m\n"
     ]
    },
    {
     "name": "stderr",
     "output_type": "stream",
     "text": [
      "\u001b[90;3m2024-05-31 13:59:50,092 \u001b[0m\u001b[36msats.satellite.Scanner-1       \u001b[0m\u001b[mINFO       \u001b[0m\u001b[33m<12780.00> \u001b[0m\u001b[36mScanner-1: \u001b[0m\u001b[maction_charge tasked for 180.0 seconds\u001b[0m\n"
     ]
    },
    {
     "name": "stderr",
     "output_type": "stream",
     "text": [
      "\u001b[90;3m2024-05-31 13:59:50,092 \u001b[0m\u001b[36msats.satellite.Scanner-1       \u001b[0m\u001b[mINFO       \u001b[0m\u001b[33m<12780.00> \u001b[0m\u001b[36mScanner-1: \u001b[0m\u001b[msetting timed terminal event at 12960.0\u001b[0m\n"
     ]
    },
    {
     "name": "stderr",
     "output_type": "stream",
     "text": [
      "\u001b[90;3m2024-05-31 13:59:50,092 \u001b[0m\u001b[msim.simulator                  \u001b[0m\u001b[mINFO       \u001b[0m\u001b[33m<12780.00> \u001b[0m\u001b[mRunning simulation at most to 17100.00 seconds\u001b[0m\n"
     ]
    },
    {
     "name": "stderr",
     "output_type": "stream",
     "text": [
      "\u001b[90;3m2024-05-31 13:59:50,103 \u001b[0m\u001b[36msats.satellite.Scanner-1       \u001b[0m\u001b[mINFO       \u001b[0m\u001b[33m<12960.00> \u001b[0m\u001b[36mScanner-1: \u001b[0m\u001b[mtimed termination at 12960.0 for action_charge\u001b[0m\n"
     ]
    },
    {
     "name": "stderr",
     "output_type": "stream",
     "text": [
      "\u001b[90;3m2024-05-31 13:59:50,104 \u001b[0m\u001b[mdata.base                      \u001b[0m\u001b[mINFO       \u001b[0m\u001b[33m<12960.00> \u001b[0m\u001b[mData reward: {'Scanner-1_4827225424': 0.0}\u001b[0m\n"
     ]
    },
    {
     "name": "stderr",
     "output_type": "stream",
     "text": [
      "\u001b[90;3m2024-05-31 13:59:50,105 \u001b[0m\u001b[mgym                            \u001b[0m\u001b[mINFO       \u001b[0m\u001b[33m<12960.00> \u001b[0m\u001b[mSatellites requiring retasking: ['Scanner-1_4827225424']\u001b[0m\n"
     ]
    },
    {
     "name": "stderr",
     "output_type": "stream",
     "text": [
      "\u001b[90;3m2024-05-31 13:59:50,105 \u001b[0m\u001b[mgym                            \u001b[0m\u001b[mINFO       \u001b[0m\u001b[33m<12960.00> \u001b[0m\u001b[mStep reward: 0.0\u001b[0m\n"
     ]
    },
    {
     "name": "stderr",
     "output_type": "stream",
     "text": [
      "\u001b[90;3m2024-05-31 13:59:50,106 \u001b[0m\u001b[mgym                            \u001b[0m\u001b[mINFO       \u001b[0m\u001b[33m<12960.00> \u001b[0m\u001b[93;1m=== STARTING STEP ===\u001b[0m\n"
     ]
    },
    {
     "name": "stderr",
     "output_type": "stream",
     "text": [
      "\u001b[90;3m2024-05-31 13:59:50,106 \u001b[0m\u001b[36msats.satellite.Scanner-1       \u001b[0m\u001b[mINFO       \u001b[0m\u001b[33m<12960.00> \u001b[0m\u001b[36mScanner-1: \u001b[0m\u001b[maction_nadir_scan tasked for 180.0 seconds\u001b[0m\n"
     ]
    },
    {
     "name": "stderr",
     "output_type": "stream",
     "text": [
      "\u001b[90;3m2024-05-31 13:59:50,106 \u001b[0m\u001b[36msats.satellite.Scanner-1       \u001b[0m\u001b[mINFO       \u001b[0m\u001b[33m<12960.00> \u001b[0m\u001b[36mScanner-1: \u001b[0m\u001b[msetting timed terminal event at 13140.0\u001b[0m\n"
     ]
    },
    {
     "name": "stderr",
     "output_type": "stream",
     "text": [
      "\u001b[90;3m2024-05-31 13:59:50,107 \u001b[0m\u001b[msim.simulator                  \u001b[0m\u001b[mINFO       \u001b[0m\u001b[33m<12960.00> \u001b[0m\u001b[mRunning simulation at most to 17100.00 seconds\u001b[0m\n"
     ]
    },
    {
     "name": "stderr",
     "output_type": "stream",
     "text": [
      "\u001b[90;3m2024-05-31 13:59:50,117 \u001b[0m\u001b[36msats.satellite.Scanner-1       \u001b[0m\u001b[mINFO       \u001b[0m\u001b[33m<13140.00> \u001b[0m\u001b[36mScanner-1: \u001b[0m\u001b[mtimed termination at 13140.0 for action_nadir_scan\u001b[0m\n"
     ]
    },
    {
     "name": "stderr",
     "output_type": "stream",
     "text": [
      "\u001b[90;3m2024-05-31 13:59:50,118 \u001b[0m\u001b[mdata.base                      \u001b[0m\u001b[mINFO       \u001b[0m\u001b[33m<13140.00> \u001b[0m\u001b[mData reward: {'Scanner-1_4827225424': 0.009473684210526316}\u001b[0m\n"
     ]
    },
    {
     "name": "stderr",
     "output_type": "stream",
     "text": [
      "\u001b[90;3m2024-05-31 13:59:50,119 \u001b[0m\u001b[mgym                            \u001b[0m\u001b[mINFO       \u001b[0m\u001b[33m<13140.00> \u001b[0m\u001b[mSatellites requiring retasking: ['Scanner-1_4827225424']\u001b[0m\n"
     ]
    },
    {
     "name": "stderr",
     "output_type": "stream",
     "text": [
      "\u001b[90;3m2024-05-31 13:59:50,119 \u001b[0m\u001b[mgym                            \u001b[0m\u001b[mINFO       \u001b[0m\u001b[33m<13140.00> \u001b[0m\u001b[mStep reward: 0.009473684210526316\u001b[0m\n"
     ]
    },
    {
     "name": "stderr",
     "output_type": "stream",
     "text": [
      "\u001b[90;3m2024-05-31 13:59:50,120 \u001b[0m\u001b[mgym                            \u001b[0m\u001b[mINFO       \u001b[0m\u001b[33m<13140.00> \u001b[0m\u001b[93;1m=== STARTING STEP ===\u001b[0m\n"
     ]
    },
    {
     "name": "stderr",
     "output_type": "stream",
     "text": [
      "\u001b[90;3m2024-05-31 13:59:50,120 \u001b[0m\u001b[36msats.satellite.Scanner-1       \u001b[0m\u001b[mINFO       \u001b[0m\u001b[33m<13140.00> \u001b[0m\u001b[36mScanner-1: \u001b[0m\u001b[maction_desat tasked for 60.0 seconds\u001b[0m\n"
     ]
    },
    {
     "name": "stderr",
     "output_type": "stream",
     "text": [
      "\u001b[90;3m2024-05-31 13:59:50,120 \u001b[0m\u001b[36msats.satellite.Scanner-1       \u001b[0m\u001b[mINFO       \u001b[0m\u001b[33m<13140.00> \u001b[0m\u001b[36mScanner-1: \u001b[0m\u001b[msetting timed terminal event at 13200.0\u001b[0m\n"
     ]
    },
    {
     "name": "stderr",
     "output_type": "stream",
     "text": [
      "\u001b[90;3m2024-05-31 13:59:50,121 \u001b[0m\u001b[msim.simulator                  \u001b[0m\u001b[mINFO       \u001b[0m\u001b[33m<13140.00> \u001b[0m\u001b[mRunning simulation at most to 17100.00 seconds\u001b[0m\n"
     ]
    },
    {
     "name": "stderr",
     "output_type": "stream",
     "text": [
      "\u001b[90;3m2024-05-31 13:59:50,125 \u001b[0m\u001b[36msats.satellite.Scanner-1       \u001b[0m\u001b[mINFO       \u001b[0m\u001b[33m<13200.00> \u001b[0m\u001b[36mScanner-1: \u001b[0m\u001b[mtimed termination at 13200.0 for action_desat\u001b[0m\n"
     ]
    },
    {
     "name": "stderr",
     "output_type": "stream",
     "text": [
      "\u001b[90;3m2024-05-31 13:59:50,126 \u001b[0m\u001b[mdata.base                      \u001b[0m\u001b[mINFO       \u001b[0m\u001b[33m<13200.00> \u001b[0m\u001b[mData reward: {'Scanner-1_4827225424': 0.0}\u001b[0m\n"
     ]
    },
    {
     "name": "stderr",
     "output_type": "stream",
     "text": [
      "\u001b[90;3m2024-05-31 13:59:50,126 \u001b[0m\u001b[mgym                            \u001b[0m\u001b[mINFO       \u001b[0m\u001b[33m<13200.00> \u001b[0m\u001b[mSatellites requiring retasking: ['Scanner-1_4827225424']\u001b[0m\n"
     ]
    },
    {
     "name": "stderr",
     "output_type": "stream",
     "text": [
      "\u001b[90;3m2024-05-31 13:59:50,127 \u001b[0m\u001b[mgym                            \u001b[0m\u001b[mINFO       \u001b[0m\u001b[33m<13200.00> \u001b[0m\u001b[mStep reward: 0.0\u001b[0m\n"
     ]
    },
    {
     "name": "stderr",
     "output_type": "stream",
     "text": [
      "\u001b[90;3m2024-05-31 13:59:50,127 \u001b[0m\u001b[mgym                            \u001b[0m\u001b[mINFO       \u001b[0m\u001b[33m<13200.00> \u001b[0m\u001b[93;1m=== STARTING STEP ===\u001b[0m\n"
     ]
    },
    {
     "name": "stderr",
     "output_type": "stream",
     "text": [
      "\u001b[90;3m2024-05-31 13:59:50,127 \u001b[0m\u001b[36msats.satellite.Scanner-1       \u001b[0m\u001b[mINFO       \u001b[0m\u001b[33m<13200.00> \u001b[0m\u001b[36mScanner-1: \u001b[0m\u001b[maction_downlink tasked for 60.0 seconds\u001b[0m\n"
     ]
    },
    {
     "name": "stderr",
     "output_type": "stream",
     "text": [
      "\u001b[90;3m2024-05-31 13:59:50,128 \u001b[0m\u001b[36msats.satellite.Scanner-1       \u001b[0m\u001b[mINFO       \u001b[0m\u001b[33m<13200.00> \u001b[0m\u001b[36mScanner-1: \u001b[0m\u001b[msetting timed terminal event at 13260.0\u001b[0m\n"
     ]
    },
    {
     "name": "stderr",
     "output_type": "stream",
     "text": [
      "\u001b[90;3m2024-05-31 13:59:50,128 \u001b[0m\u001b[msim.simulator                  \u001b[0m\u001b[mINFO       \u001b[0m\u001b[33m<13200.00> \u001b[0m\u001b[mRunning simulation at most to 17100.00 seconds\u001b[0m\n"
     ]
    },
    {
     "name": "stderr",
     "output_type": "stream",
     "text": [
      "\u001b[90;3m2024-05-31 13:59:50,133 \u001b[0m\u001b[36msats.satellite.Scanner-1       \u001b[0m\u001b[mINFO       \u001b[0m\u001b[33m<13260.00> \u001b[0m\u001b[36mScanner-1: \u001b[0m\u001b[mtimed termination at 13260.0 for action_downlink\u001b[0m\n"
     ]
    },
    {
     "name": "stderr",
     "output_type": "stream",
     "text": [
      "\u001b[90;3m2024-05-31 13:59:50,133 \u001b[0m\u001b[mdata.base                      \u001b[0m\u001b[mINFO       \u001b[0m\u001b[33m<13260.00> \u001b[0m\u001b[mData reward: {'Scanner-1_4827225424': 0.0}\u001b[0m\n"
     ]
    },
    {
     "name": "stderr",
     "output_type": "stream",
     "text": [
      "\u001b[90;3m2024-05-31 13:59:50,134 \u001b[0m\u001b[mgym                            \u001b[0m\u001b[mINFO       \u001b[0m\u001b[33m<13260.00> \u001b[0m\u001b[mSatellites requiring retasking: ['Scanner-1_4827225424']\u001b[0m\n"
     ]
    },
    {
     "name": "stderr",
     "output_type": "stream",
     "text": [
      "\u001b[90;3m2024-05-31 13:59:50,135 \u001b[0m\u001b[mgym                            \u001b[0m\u001b[mINFO       \u001b[0m\u001b[33m<13260.00> \u001b[0m\u001b[mStep reward: 0.0\u001b[0m\n"
     ]
    },
    {
     "name": "stderr",
     "output_type": "stream",
     "text": [
      "\u001b[90;3m2024-05-31 13:59:50,135 \u001b[0m\u001b[mgym                            \u001b[0m\u001b[mINFO       \u001b[0m\u001b[33m<13260.00> \u001b[0m\u001b[93;1m=== STARTING STEP ===\u001b[0m\n"
     ]
    },
    {
     "name": "stderr",
     "output_type": "stream",
     "text": [
      "\u001b[90;3m2024-05-31 13:59:50,135 \u001b[0m\u001b[36msats.satellite.Scanner-1       \u001b[0m\u001b[mINFO       \u001b[0m\u001b[33m<13260.00> \u001b[0m\u001b[36mScanner-1: \u001b[0m\u001b[maction_desat tasked for 60.0 seconds\u001b[0m\n"
     ]
    },
    {
     "name": "stderr",
     "output_type": "stream",
     "text": [
      "\u001b[90;3m2024-05-31 13:59:50,136 \u001b[0m\u001b[36msats.satellite.Scanner-1       \u001b[0m\u001b[mINFO       \u001b[0m\u001b[33m<13260.00> \u001b[0m\u001b[36mScanner-1: \u001b[0m\u001b[msetting timed terminal event at 13320.0\u001b[0m\n"
     ]
    },
    {
     "name": "stderr",
     "output_type": "stream",
     "text": [
      "\u001b[90;3m2024-05-31 13:59:50,136 \u001b[0m\u001b[msim.simulator                  \u001b[0m\u001b[mINFO       \u001b[0m\u001b[33m<13260.00> \u001b[0m\u001b[mRunning simulation at most to 17100.00 seconds\u001b[0m\n"
     ]
    },
    {
     "name": "stderr",
     "output_type": "stream",
     "text": [
      "\u001b[90;3m2024-05-31 13:59:50,140 \u001b[0m\u001b[36msats.satellite.Scanner-1       \u001b[0m\u001b[mINFO       \u001b[0m\u001b[33m<13320.00> \u001b[0m\u001b[36mScanner-1: \u001b[0m\u001b[mtimed termination at 13320.0 for action_desat\u001b[0m\n"
     ]
    },
    {
     "name": "stderr",
     "output_type": "stream",
     "text": [
      "\u001b[90;3m2024-05-31 13:59:50,141 \u001b[0m\u001b[mdata.base                      \u001b[0m\u001b[mINFO       \u001b[0m\u001b[33m<13320.00> \u001b[0m\u001b[mData reward: {'Scanner-1_4827225424': 0.0}\u001b[0m\n"
     ]
    },
    {
     "name": "stderr",
     "output_type": "stream",
     "text": [
      "\u001b[90;3m2024-05-31 13:59:50,142 \u001b[0m\u001b[mgym                            \u001b[0m\u001b[mINFO       \u001b[0m\u001b[33m<13320.00> \u001b[0m\u001b[mSatellites requiring retasking: ['Scanner-1_4827225424']\u001b[0m\n"
     ]
    },
    {
     "name": "stderr",
     "output_type": "stream",
     "text": [
      "\u001b[90;3m2024-05-31 13:59:50,142 \u001b[0m\u001b[mgym                            \u001b[0m\u001b[mINFO       \u001b[0m\u001b[33m<13320.00> \u001b[0m\u001b[mStep reward: 0.0\u001b[0m\n"
     ]
    },
    {
     "name": "stderr",
     "output_type": "stream",
     "text": [
      "\u001b[90;3m2024-05-31 13:59:50,142 \u001b[0m\u001b[mgym                            \u001b[0m\u001b[mINFO       \u001b[0m\u001b[33m<13320.00> \u001b[0m\u001b[93;1m=== STARTING STEP ===\u001b[0m\n"
     ]
    },
    {
     "name": "stderr",
     "output_type": "stream",
     "text": [
      "\u001b[90;3m2024-05-31 13:59:50,143 \u001b[0m\u001b[36msats.satellite.Scanner-1       \u001b[0m\u001b[mINFO       \u001b[0m\u001b[33m<13320.00> \u001b[0m\u001b[36mScanner-1: \u001b[0m\u001b[maction_nadir_scan tasked for 180.0 seconds\u001b[0m\n"
     ]
    },
    {
     "name": "stderr",
     "output_type": "stream",
     "text": [
      "\u001b[90;3m2024-05-31 13:59:50,143 \u001b[0m\u001b[36msats.satellite.Scanner-1       \u001b[0m\u001b[mINFO       \u001b[0m\u001b[33m<13320.00> \u001b[0m\u001b[36mScanner-1: \u001b[0m\u001b[msetting timed terminal event at 13500.0\u001b[0m\n"
     ]
    },
    {
     "name": "stderr",
     "output_type": "stream",
     "text": [
      "\u001b[90;3m2024-05-31 13:59:50,143 \u001b[0m\u001b[msim.simulator                  \u001b[0m\u001b[mINFO       \u001b[0m\u001b[33m<13320.00> \u001b[0m\u001b[mRunning simulation at most to 17100.00 seconds\u001b[0m\n"
     ]
    },
    {
     "name": "stderr",
     "output_type": "stream",
     "text": [
      "\u001b[90;3m2024-05-31 13:59:50,154 \u001b[0m\u001b[36msats.satellite.Scanner-1       \u001b[0m\u001b[mINFO       \u001b[0m\u001b[33m<13500.00> \u001b[0m\u001b[36mScanner-1: \u001b[0m\u001b[mtimed termination at 13500.0 for action_nadir_scan\u001b[0m\n"
     ]
    },
    {
     "name": "stderr",
     "output_type": "stream",
     "text": [
      "\u001b[90;3m2024-05-31 13:59:50,155 \u001b[0m\u001b[mdata.base                      \u001b[0m\u001b[mINFO       \u001b[0m\u001b[33m<13500.00> \u001b[0m\u001b[mData reward: {'Scanner-1_4827225424': 0.00824561403508772}\u001b[0m\n"
     ]
    },
    {
     "name": "stderr",
     "output_type": "stream",
     "text": [
      "\u001b[90;3m2024-05-31 13:59:50,156 \u001b[0m\u001b[mgym                            \u001b[0m\u001b[mINFO       \u001b[0m\u001b[33m<13500.00> \u001b[0m\u001b[mSatellites requiring retasking: ['Scanner-1_4827225424']\u001b[0m\n"
     ]
    },
    {
     "name": "stderr",
     "output_type": "stream",
     "text": [
      "\u001b[90;3m2024-05-31 13:59:50,156 \u001b[0m\u001b[mgym                            \u001b[0m\u001b[mINFO       \u001b[0m\u001b[33m<13500.00> \u001b[0m\u001b[mStep reward: 0.00824561403508772\u001b[0m\n"
     ]
    },
    {
     "name": "stderr",
     "output_type": "stream",
     "text": [
      "\u001b[90;3m2024-05-31 13:59:50,156 \u001b[0m\u001b[mgym                            \u001b[0m\u001b[mINFO       \u001b[0m\u001b[33m<13500.00> \u001b[0m\u001b[93;1m=== STARTING STEP ===\u001b[0m\n"
     ]
    },
    {
     "name": "stderr",
     "output_type": "stream",
     "text": [
      "\u001b[90;3m2024-05-31 13:59:50,157 \u001b[0m\u001b[36msats.satellite.Scanner-1       \u001b[0m\u001b[mINFO       \u001b[0m\u001b[33m<13500.00> \u001b[0m\u001b[36mScanner-1: \u001b[0m\u001b[maction_nadir_scan tasked for 180.0 seconds\u001b[0m\n"
     ]
    },
    {
     "name": "stderr",
     "output_type": "stream",
     "text": [
      "\u001b[90;3m2024-05-31 13:59:50,157 \u001b[0m\u001b[36msats.satellite.Scanner-1       \u001b[0m\u001b[mINFO       \u001b[0m\u001b[33m<13500.00> \u001b[0m\u001b[36mScanner-1: \u001b[0m\u001b[msetting timed terminal event at 13680.0\u001b[0m\n"
     ]
    },
    {
     "name": "stderr",
     "output_type": "stream",
     "text": [
      "\u001b[90;3m2024-05-31 13:59:50,157 \u001b[0m\u001b[msim.simulator                  \u001b[0m\u001b[mINFO       \u001b[0m\u001b[33m<13500.00> \u001b[0m\u001b[mRunning simulation at most to 17100.00 seconds\u001b[0m\n"
     ]
    },
    {
     "name": "stderr",
     "output_type": "stream",
     "text": [
      "\u001b[90;3m2024-05-31 13:59:50,168 \u001b[0m\u001b[36msats.satellite.Scanner-1       \u001b[0m\u001b[mINFO       \u001b[0m\u001b[33m<13680.00> \u001b[0m\u001b[36mScanner-1: \u001b[0m\u001b[mtimed termination at 13680.0 for action_nadir_scan\u001b[0m\n"
     ]
    },
    {
     "name": "stderr",
     "output_type": "stream",
     "text": [
      "\u001b[90;3m2024-05-31 13:59:50,168 \u001b[0m\u001b[mdata.base                      \u001b[0m\u001b[mINFO       \u001b[0m\u001b[33m<13680.00> \u001b[0m\u001b[mData reward: {'Scanner-1_4827225424': 0.010526315789473684}\u001b[0m\n"
     ]
    },
    {
     "name": "stderr",
     "output_type": "stream",
     "text": [
      "\u001b[90;3m2024-05-31 13:59:50,169 \u001b[0m\u001b[mgym                            \u001b[0m\u001b[mINFO       \u001b[0m\u001b[33m<13680.00> \u001b[0m\u001b[mSatellites requiring retasking: ['Scanner-1_4827225424']\u001b[0m\n"
     ]
    },
    {
     "name": "stderr",
     "output_type": "stream",
     "text": [
      "\u001b[90;3m2024-05-31 13:59:50,170 \u001b[0m\u001b[mgym                            \u001b[0m\u001b[mINFO       \u001b[0m\u001b[33m<13680.00> \u001b[0m\u001b[mStep reward: 0.010526315789473684\u001b[0m\n"
     ]
    },
    {
     "name": "stderr",
     "output_type": "stream",
     "text": [
      "\u001b[90;3m2024-05-31 13:59:50,170 \u001b[0m\u001b[mgym                            \u001b[0m\u001b[mINFO       \u001b[0m\u001b[33m<13680.00> \u001b[0m\u001b[93;1m=== STARTING STEP ===\u001b[0m\n"
     ]
    },
    {
     "name": "stderr",
     "output_type": "stream",
     "text": [
      "\u001b[90;3m2024-05-31 13:59:50,171 \u001b[0m\u001b[36msats.satellite.Scanner-1       \u001b[0m\u001b[mINFO       \u001b[0m\u001b[33m<13680.00> \u001b[0m\u001b[36mScanner-1: \u001b[0m\u001b[maction_desat tasked for 60.0 seconds\u001b[0m\n"
     ]
    },
    {
     "name": "stderr",
     "output_type": "stream",
     "text": [
      "\u001b[90;3m2024-05-31 13:59:50,171 \u001b[0m\u001b[36msats.satellite.Scanner-1       \u001b[0m\u001b[mINFO       \u001b[0m\u001b[33m<13680.00> \u001b[0m\u001b[36mScanner-1: \u001b[0m\u001b[msetting timed terminal event at 13740.0\u001b[0m\n"
     ]
    },
    {
     "name": "stderr",
     "output_type": "stream",
     "text": [
      "\u001b[90;3m2024-05-31 13:59:50,172 \u001b[0m\u001b[msim.simulator                  \u001b[0m\u001b[mINFO       \u001b[0m\u001b[33m<13680.00> \u001b[0m\u001b[mRunning simulation at most to 17100.00 seconds\u001b[0m\n"
     ]
    },
    {
     "name": "stderr",
     "output_type": "stream",
     "text": [
      "\u001b[90;3m2024-05-31 13:59:50,175 \u001b[0m\u001b[36msats.satellite.Scanner-1       \u001b[0m\u001b[mINFO       \u001b[0m\u001b[33m<13740.00> \u001b[0m\u001b[36mScanner-1: \u001b[0m\u001b[mtimed termination at 13740.0 for action_desat\u001b[0m\n"
     ]
    },
    {
     "name": "stderr",
     "output_type": "stream",
     "text": [
      "\u001b[90;3m2024-05-31 13:59:50,175 \u001b[0m\u001b[mdata.base                      \u001b[0m\u001b[mINFO       \u001b[0m\u001b[33m<13740.00> \u001b[0m\u001b[mData reward: {'Scanner-1_4827225424': 0.0}\u001b[0m\n"
     ]
    },
    {
     "name": "stderr",
     "output_type": "stream",
     "text": [
      "\u001b[90;3m2024-05-31 13:59:50,176 \u001b[0m\u001b[mgym                            \u001b[0m\u001b[mINFO       \u001b[0m\u001b[33m<13740.00> \u001b[0m\u001b[mSatellites requiring retasking: ['Scanner-1_4827225424']\u001b[0m\n"
     ]
    },
    {
     "name": "stderr",
     "output_type": "stream",
     "text": [
      "\u001b[90;3m2024-05-31 13:59:50,176 \u001b[0m\u001b[mgym                            \u001b[0m\u001b[mINFO       \u001b[0m\u001b[33m<13740.00> \u001b[0m\u001b[mStep reward: 0.0\u001b[0m\n"
     ]
    },
    {
     "name": "stderr",
     "output_type": "stream",
     "text": [
      "\u001b[90;3m2024-05-31 13:59:50,177 \u001b[0m\u001b[mgym                            \u001b[0m\u001b[mINFO       \u001b[0m\u001b[33m<13740.00> \u001b[0m\u001b[93;1m=== STARTING STEP ===\u001b[0m\n"
     ]
    },
    {
     "name": "stderr",
     "output_type": "stream",
     "text": [
      "\u001b[90;3m2024-05-31 13:59:50,177 \u001b[0m\u001b[36msats.satellite.Scanner-1       \u001b[0m\u001b[mINFO       \u001b[0m\u001b[33m<13740.00> \u001b[0m\u001b[36mScanner-1: \u001b[0m\u001b[maction_nadir_scan tasked for 180.0 seconds\u001b[0m\n"
     ]
    },
    {
     "name": "stderr",
     "output_type": "stream",
     "text": [
      "\u001b[90;3m2024-05-31 13:59:50,177 \u001b[0m\u001b[36msats.satellite.Scanner-1       \u001b[0m\u001b[mINFO       \u001b[0m\u001b[33m<13740.00> \u001b[0m\u001b[36mScanner-1: \u001b[0m\u001b[msetting timed terminal event at 13920.0\u001b[0m\n"
     ]
    },
    {
     "name": "stderr",
     "output_type": "stream",
     "text": [
      "\u001b[90;3m2024-05-31 13:59:50,178 \u001b[0m\u001b[msim.simulator                  \u001b[0m\u001b[mINFO       \u001b[0m\u001b[33m<13740.00> \u001b[0m\u001b[mRunning simulation at most to 17100.00 seconds\u001b[0m\n"
     ]
    },
    {
     "name": "stderr",
     "output_type": "stream",
     "text": [
      "\u001b[90;3m2024-05-31 13:59:50,189 \u001b[0m\u001b[36msats.satellite.Scanner-1       \u001b[0m\u001b[mINFO       \u001b[0m\u001b[33m<13920.00> \u001b[0m\u001b[36mScanner-1: \u001b[0m\u001b[mtimed termination at 13920.0 for action_nadir_scan\u001b[0m\n"
     ]
    },
    {
     "name": "stderr",
     "output_type": "stream",
     "text": [
      "\u001b[90;3m2024-05-31 13:59:50,189 \u001b[0m\u001b[mdata.base                      \u001b[0m\u001b[mINFO       \u001b[0m\u001b[33m<13920.00> \u001b[0m\u001b[mData reward: {'Scanner-1_4827225424': 0.008128654970760233}\u001b[0m\n"
     ]
    },
    {
     "name": "stderr",
     "output_type": "stream",
     "text": [
      "\u001b[90;3m2024-05-31 13:59:50,190 \u001b[0m\u001b[mgym                            \u001b[0m\u001b[mINFO       \u001b[0m\u001b[33m<13920.00> \u001b[0m\u001b[mSatellites requiring retasking: ['Scanner-1_4827225424']\u001b[0m\n"
     ]
    },
    {
     "name": "stderr",
     "output_type": "stream",
     "text": [
      "\u001b[90;3m2024-05-31 13:59:50,191 \u001b[0m\u001b[mgym                            \u001b[0m\u001b[mINFO       \u001b[0m\u001b[33m<13920.00> \u001b[0m\u001b[mStep reward: 0.008128654970760233\u001b[0m\n"
     ]
    },
    {
     "name": "stderr",
     "output_type": "stream",
     "text": [
      "\u001b[90;3m2024-05-31 13:59:50,191 \u001b[0m\u001b[mgym                            \u001b[0m\u001b[mINFO       \u001b[0m\u001b[33m<13920.00> \u001b[0m\u001b[93;1m=== STARTING STEP ===\u001b[0m\n"
     ]
    },
    {
     "name": "stderr",
     "output_type": "stream",
     "text": [
      "\u001b[90;3m2024-05-31 13:59:50,191 \u001b[0m\u001b[36msats.satellite.Scanner-1       \u001b[0m\u001b[mINFO       \u001b[0m\u001b[33m<13920.00> \u001b[0m\u001b[36mScanner-1: \u001b[0m\u001b[maction_desat tasked for 60.0 seconds\u001b[0m\n"
     ]
    },
    {
     "name": "stderr",
     "output_type": "stream",
     "text": [
      "\u001b[90;3m2024-05-31 13:59:50,192 \u001b[0m\u001b[36msats.satellite.Scanner-1       \u001b[0m\u001b[mINFO       \u001b[0m\u001b[33m<13920.00> \u001b[0m\u001b[36mScanner-1: \u001b[0m\u001b[msetting timed terminal event at 13980.0\u001b[0m\n"
     ]
    },
    {
     "name": "stderr",
     "output_type": "stream",
     "text": [
      "\u001b[90;3m2024-05-31 13:59:50,192 \u001b[0m\u001b[msim.simulator                  \u001b[0m\u001b[mINFO       \u001b[0m\u001b[33m<13920.00> \u001b[0m\u001b[mRunning simulation at most to 17100.00 seconds\u001b[0m\n"
     ]
    },
    {
     "name": "stderr",
     "output_type": "stream",
     "text": [
      "\u001b[90;3m2024-05-31 13:59:50,196 \u001b[0m\u001b[36msats.satellite.Scanner-1       \u001b[0m\u001b[mINFO       \u001b[0m\u001b[33m<13980.00> \u001b[0m\u001b[36mScanner-1: \u001b[0m\u001b[mtimed termination at 13980.0 for action_desat\u001b[0m\n"
     ]
    },
    {
     "name": "stderr",
     "output_type": "stream",
     "text": [
      "\u001b[90;3m2024-05-31 13:59:50,197 \u001b[0m\u001b[mdata.base                      \u001b[0m\u001b[mINFO       \u001b[0m\u001b[33m<13980.00> \u001b[0m\u001b[mData reward: {'Scanner-1_4827225424': 0.0}\u001b[0m\n"
     ]
    },
    {
     "name": "stderr",
     "output_type": "stream",
     "text": [
      "\u001b[90;3m2024-05-31 13:59:50,198 \u001b[0m\u001b[mgym                            \u001b[0m\u001b[mINFO       \u001b[0m\u001b[33m<13980.00> \u001b[0m\u001b[mSatellites requiring retasking: ['Scanner-1_4827225424']\u001b[0m\n"
     ]
    },
    {
     "name": "stderr",
     "output_type": "stream",
     "text": [
      "\u001b[90;3m2024-05-31 13:59:50,198 \u001b[0m\u001b[mgym                            \u001b[0m\u001b[mINFO       \u001b[0m\u001b[33m<13980.00> \u001b[0m\u001b[mStep reward: 0.0\u001b[0m\n"
     ]
    },
    {
     "name": "stderr",
     "output_type": "stream",
     "text": [
      "\u001b[90;3m2024-05-31 13:59:50,198 \u001b[0m\u001b[mgym                            \u001b[0m\u001b[mINFO       \u001b[0m\u001b[33m<13980.00> \u001b[0m\u001b[93;1m=== STARTING STEP ===\u001b[0m\n"
     ]
    },
    {
     "name": "stderr",
     "output_type": "stream",
     "text": [
      "\u001b[90;3m2024-05-31 13:59:50,198 \u001b[0m\u001b[36msats.satellite.Scanner-1       \u001b[0m\u001b[mINFO       \u001b[0m\u001b[33m<13980.00> \u001b[0m\u001b[36mScanner-1: \u001b[0m\u001b[maction_desat tasked for 60.0 seconds\u001b[0m\n"
     ]
    },
    {
     "name": "stderr",
     "output_type": "stream",
     "text": [
      "\u001b[90;3m2024-05-31 13:59:50,199 \u001b[0m\u001b[36msats.satellite.Scanner-1       \u001b[0m\u001b[mINFO       \u001b[0m\u001b[33m<13980.00> \u001b[0m\u001b[36mScanner-1: \u001b[0m\u001b[msetting timed terminal event at 14040.0\u001b[0m\n"
     ]
    },
    {
     "name": "stderr",
     "output_type": "stream",
     "text": [
      "\u001b[90;3m2024-05-31 13:59:50,199 \u001b[0m\u001b[msim.simulator                  \u001b[0m\u001b[mINFO       \u001b[0m\u001b[33m<13980.00> \u001b[0m\u001b[mRunning simulation at most to 17100.00 seconds\u001b[0m\n"
     ]
    },
    {
     "name": "stderr",
     "output_type": "stream",
     "text": [
      "\u001b[90;3m2024-05-31 13:59:50,203 \u001b[0m\u001b[36msats.satellite.Scanner-1       \u001b[0m\u001b[mINFO       \u001b[0m\u001b[33m<14040.00> \u001b[0m\u001b[36mScanner-1: \u001b[0m\u001b[mtimed termination at 14040.0 for action_desat\u001b[0m\n"
     ]
    },
    {
     "name": "stderr",
     "output_type": "stream",
     "text": [
      "\u001b[90;3m2024-05-31 13:59:50,203 \u001b[0m\u001b[mdata.base                      \u001b[0m\u001b[mINFO       \u001b[0m\u001b[33m<14040.00> \u001b[0m\u001b[mData reward: {'Scanner-1_4827225424': 0.0}\u001b[0m\n"
     ]
    },
    {
     "name": "stderr",
     "output_type": "stream",
     "text": [
      "\u001b[90;3m2024-05-31 13:59:50,204 \u001b[0m\u001b[mgym                            \u001b[0m\u001b[mINFO       \u001b[0m\u001b[33m<14040.00> \u001b[0m\u001b[mSatellites requiring retasking: ['Scanner-1_4827225424']\u001b[0m\n"
     ]
    },
    {
     "name": "stderr",
     "output_type": "stream",
     "text": [
      "\u001b[90;3m2024-05-31 13:59:50,205 \u001b[0m\u001b[mgym                            \u001b[0m\u001b[mINFO       \u001b[0m\u001b[33m<14040.00> \u001b[0m\u001b[mStep reward: 0.0\u001b[0m\n"
     ]
    },
    {
     "name": "stderr",
     "output_type": "stream",
     "text": [
      "\u001b[90;3m2024-05-31 13:59:50,205 \u001b[0m\u001b[mgym                            \u001b[0m\u001b[mINFO       \u001b[0m\u001b[33m<14040.00> \u001b[0m\u001b[93;1m=== STARTING STEP ===\u001b[0m\n"
     ]
    },
    {
     "name": "stderr",
     "output_type": "stream",
     "text": [
      "\u001b[90;3m2024-05-31 13:59:50,205 \u001b[0m\u001b[36msats.satellite.Scanner-1       \u001b[0m\u001b[mINFO       \u001b[0m\u001b[33m<14040.00> \u001b[0m\u001b[36mScanner-1: \u001b[0m\u001b[maction_downlink tasked for 60.0 seconds\u001b[0m\n"
     ]
    },
    {
     "name": "stderr",
     "output_type": "stream",
     "text": [
      "\u001b[90;3m2024-05-31 13:59:50,206 \u001b[0m\u001b[36msats.satellite.Scanner-1       \u001b[0m\u001b[mINFO       \u001b[0m\u001b[33m<14040.00> \u001b[0m\u001b[36mScanner-1: \u001b[0m\u001b[msetting timed terminal event at 14100.0\u001b[0m\n"
     ]
    },
    {
     "name": "stderr",
     "output_type": "stream",
     "text": [
      "\u001b[90;3m2024-05-31 13:59:50,206 \u001b[0m\u001b[msim.simulator                  \u001b[0m\u001b[mINFO       \u001b[0m\u001b[33m<14040.00> \u001b[0m\u001b[mRunning simulation at most to 17100.00 seconds\u001b[0m\n"
     ]
    },
    {
     "name": "stderr",
     "output_type": "stream",
     "text": [
      "\u001b[90;3m2024-05-31 13:59:50,210 \u001b[0m\u001b[36msats.satellite.Scanner-1       \u001b[0m\u001b[mINFO       \u001b[0m\u001b[33m<14100.00> \u001b[0m\u001b[36mScanner-1: \u001b[0m\u001b[mtimed termination at 14100.0 for action_downlink\u001b[0m\n"
     ]
    },
    {
     "name": "stderr",
     "output_type": "stream",
     "text": [
      "\u001b[90;3m2024-05-31 13:59:50,210 \u001b[0m\u001b[mdata.base                      \u001b[0m\u001b[mINFO       \u001b[0m\u001b[33m<14100.00> \u001b[0m\u001b[mData reward: {'Scanner-1_4827225424': 0.0}\u001b[0m\n"
     ]
    },
    {
     "name": "stderr",
     "output_type": "stream",
     "text": [
      "\u001b[90;3m2024-05-31 13:59:50,211 \u001b[0m\u001b[mgym                            \u001b[0m\u001b[mINFO       \u001b[0m\u001b[33m<14100.00> \u001b[0m\u001b[mSatellites requiring retasking: ['Scanner-1_4827225424']\u001b[0m\n"
     ]
    },
    {
     "name": "stderr",
     "output_type": "stream",
     "text": [
      "\u001b[90;3m2024-05-31 13:59:50,212 \u001b[0m\u001b[mgym                            \u001b[0m\u001b[mINFO       \u001b[0m\u001b[33m<14100.00> \u001b[0m\u001b[mStep reward: 0.0\u001b[0m\n"
     ]
    },
    {
     "name": "stderr",
     "output_type": "stream",
     "text": [
      "\u001b[90;3m2024-05-31 13:59:50,212 \u001b[0m\u001b[mgym                            \u001b[0m\u001b[mINFO       \u001b[0m\u001b[33m<14100.00> \u001b[0m\u001b[93;1m=== STARTING STEP ===\u001b[0m\n"
     ]
    },
    {
     "name": "stderr",
     "output_type": "stream",
     "text": [
      "\u001b[90;3m2024-05-31 13:59:50,212 \u001b[0m\u001b[36msats.satellite.Scanner-1       \u001b[0m\u001b[mINFO       \u001b[0m\u001b[33m<14100.00> \u001b[0m\u001b[36mScanner-1: \u001b[0m\u001b[maction_nadir_scan tasked for 180.0 seconds\u001b[0m\n"
     ]
    },
    {
     "name": "stderr",
     "output_type": "stream",
     "text": [
      "\u001b[90;3m2024-05-31 13:59:50,213 \u001b[0m\u001b[36msats.satellite.Scanner-1       \u001b[0m\u001b[mINFO       \u001b[0m\u001b[33m<14100.00> \u001b[0m\u001b[36mScanner-1: \u001b[0m\u001b[msetting timed terminal event at 14280.0\u001b[0m\n"
     ]
    },
    {
     "name": "stderr",
     "output_type": "stream",
     "text": [
      "\u001b[90;3m2024-05-31 13:59:50,213 \u001b[0m\u001b[msim.simulator                  \u001b[0m\u001b[mINFO       \u001b[0m\u001b[33m<14100.00> \u001b[0m\u001b[mRunning simulation at most to 17100.00 seconds\u001b[0m\n"
     ]
    },
    {
     "name": "stderr",
     "output_type": "stream",
     "text": [
      "\u001b[90;3m2024-05-31 13:59:50,224 \u001b[0m\u001b[36msats.satellite.Scanner-1       \u001b[0m\u001b[mINFO       \u001b[0m\u001b[33m<14280.00> \u001b[0m\u001b[36mScanner-1: \u001b[0m\u001b[mtimed termination at 14280.0 for action_nadir_scan\u001b[0m\n"
     ]
    },
    {
     "name": "stderr",
     "output_type": "stream",
     "text": [
      "\u001b[90;3m2024-05-31 13:59:50,225 \u001b[0m\u001b[mdata.base                      \u001b[0m\u001b[mINFO       \u001b[0m\u001b[33m<14280.00> \u001b[0m\u001b[mData reward: {'Scanner-1_4827225424': 0.00824561403508772}\u001b[0m\n"
     ]
    },
    {
     "name": "stderr",
     "output_type": "stream",
     "text": [
      "\u001b[90;3m2024-05-31 13:59:50,226 \u001b[0m\u001b[mgym                            \u001b[0m\u001b[mINFO       \u001b[0m\u001b[33m<14280.00> \u001b[0m\u001b[mSatellites requiring retasking: ['Scanner-1_4827225424']\u001b[0m\n"
     ]
    },
    {
     "name": "stderr",
     "output_type": "stream",
     "text": [
      "\u001b[90;3m2024-05-31 13:59:50,226 \u001b[0m\u001b[mgym                            \u001b[0m\u001b[mINFO       \u001b[0m\u001b[33m<14280.00> \u001b[0m\u001b[mStep reward: 0.00824561403508772\u001b[0m\n"
     ]
    },
    {
     "name": "stderr",
     "output_type": "stream",
     "text": [
      "\u001b[90;3m2024-05-31 13:59:50,226 \u001b[0m\u001b[mgym                            \u001b[0m\u001b[mINFO       \u001b[0m\u001b[33m<14280.00> \u001b[0m\u001b[93;1m=== STARTING STEP ===\u001b[0m\n"
     ]
    },
    {
     "name": "stderr",
     "output_type": "stream",
     "text": [
      "\u001b[90;3m2024-05-31 13:59:50,227 \u001b[0m\u001b[36msats.satellite.Scanner-1       \u001b[0m\u001b[mINFO       \u001b[0m\u001b[33m<14280.00> \u001b[0m\u001b[36mScanner-1: \u001b[0m\u001b[maction_charge tasked for 180.0 seconds\u001b[0m\n"
     ]
    },
    {
     "name": "stderr",
     "output_type": "stream",
     "text": [
      "\u001b[90;3m2024-05-31 13:59:50,227 \u001b[0m\u001b[36msats.satellite.Scanner-1       \u001b[0m\u001b[mINFO       \u001b[0m\u001b[33m<14280.00> \u001b[0m\u001b[36mScanner-1: \u001b[0m\u001b[msetting timed terminal event at 14460.0\u001b[0m\n"
     ]
    },
    {
     "name": "stderr",
     "output_type": "stream",
     "text": [
      "\u001b[90;3m2024-05-31 13:59:50,227 \u001b[0m\u001b[msim.simulator                  \u001b[0m\u001b[mINFO       \u001b[0m\u001b[33m<14280.00> \u001b[0m\u001b[mRunning simulation at most to 17100.00 seconds\u001b[0m\n"
     ]
    },
    {
     "name": "stderr",
     "output_type": "stream",
     "text": [
      "\u001b[90;3m2024-05-31 13:59:50,238 \u001b[0m\u001b[36msats.satellite.Scanner-1       \u001b[0m\u001b[mINFO       \u001b[0m\u001b[33m<14460.00> \u001b[0m\u001b[36mScanner-1: \u001b[0m\u001b[mtimed termination at 14460.0 for action_charge\u001b[0m\n"
     ]
    },
    {
     "name": "stderr",
     "output_type": "stream",
     "text": [
      "\u001b[90;3m2024-05-31 13:59:50,239 \u001b[0m\u001b[mdata.base                      \u001b[0m\u001b[mINFO       \u001b[0m\u001b[33m<14460.00> \u001b[0m\u001b[mData reward: {'Scanner-1_4827225424': 0.0}\u001b[0m\n"
     ]
    },
    {
     "name": "stderr",
     "output_type": "stream",
     "text": [
      "\u001b[90;3m2024-05-31 13:59:50,239 \u001b[0m\u001b[mgym                            \u001b[0m\u001b[mINFO       \u001b[0m\u001b[33m<14460.00> \u001b[0m\u001b[mSatellites requiring retasking: ['Scanner-1_4827225424']\u001b[0m\n"
     ]
    },
    {
     "name": "stderr",
     "output_type": "stream",
     "text": [
      "\u001b[90;3m2024-05-31 13:59:50,240 \u001b[0m\u001b[mgym                            \u001b[0m\u001b[mINFO       \u001b[0m\u001b[33m<14460.00> \u001b[0m\u001b[mStep reward: 0.0\u001b[0m\n"
     ]
    },
    {
     "name": "stderr",
     "output_type": "stream",
     "text": [
      "\u001b[90;3m2024-05-31 13:59:50,240 \u001b[0m\u001b[mgym                            \u001b[0m\u001b[mINFO       \u001b[0m\u001b[33m<14460.00> \u001b[0m\u001b[93;1m=== STARTING STEP ===\u001b[0m\n"
     ]
    },
    {
     "name": "stderr",
     "output_type": "stream",
     "text": [
      "\u001b[90;3m2024-05-31 13:59:50,269 \u001b[0m\u001b[36msats.satellite.Scanner-1       \u001b[0m\u001b[mINFO       \u001b[0m\u001b[33m<14460.00> \u001b[0m\u001b[36mScanner-1: \u001b[0m\u001b[maction_downlink tasked for 60.0 seconds\u001b[0m\n"
     ]
    },
    {
     "name": "stderr",
     "output_type": "stream",
     "text": [
      "\u001b[90;3m2024-05-31 13:59:50,270 \u001b[0m\u001b[36msats.satellite.Scanner-1       \u001b[0m\u001b[mINFO       \u001b[0m\u001b[33m<14460.00> \u001b[0m\u001b[36mScanner-1: \u001b[0m\u001b[msetting timed terminal event at 14520.0\u001b[0m\n"
     ]
    },
    {
     "name": "stderr",
     "output_type": "stream",
     "text": [
      "\u001b[90;3m2024-05-31 13:59:50,270 \u001b[0m\u001b[msim.simulator                  \u001b[0m\u001b[mINFO       \u001b[0m\u001b[33m<14460.00> \u001b[0m\u001b[mRunning simulation at most to 17100.00 seconds\u001b[0m\n"
     ]
    },
    {
     "name": "stderr",
     "output_type": "stream",
     "text": [
      "\u001b[90;3m2024-05-31 13:59:50,274 \u001b[0m\u001b[36msats.satellite.Scanner-1       \u001b[0m\u001b[mINFO       \u001b[0m\u001b[33m<14520.00> \u001b[0m\u001b[36mScanner-1: \u001b[0m\u001b[mtimed termination at 14520.0 for action_downlink\u001b[0m\n"
     ]
    },
    {
     "name": "stderr",
     "output_type": "stream",
     "text": [
      "\u001b[90;3m2024-05-31 13:59:50,275 \u001b[0m\u001b[mdata.base                      \u001b[0m\u001b[mINFO       \u001b[0m\u001b[33m<14520.00> \u001b[0m\u001b[mData reward: {'Scanner-1_4827225424': 0.0}\u001b[0m\n"
     ]
    },
    {
     "name": "stderr",
     "output_type": "stream",
     "text": [
      "\u001b[90;3m2024-05-31 13:59:50,276 \u001b[0m\u001b[mgym                            \u001b[0m\u001b[mINFO       \u001b[0m\u001b[33m<14520.00> \u001b[0m\u001b[mSatellites requiring retasking: ['Scanner-1_4827225424']\u001b[0m\n"
     ]
    },
    {
     "name": "stderr",
     "output_type": "stream",
     "text": [
      "\u001b[90;3m2024-05-31 13:59:50,276 \u001b[0m\u001b[mgym                            \u001b[0m\u001b[mINFO       \u001b[0m\u001b[33m<14520.00> \u001b[0m\u001b[mStep reward: 0.0\u001b[0m\n"
     ]
    },
    {
     "name": "stderr",
     "output_type": "stream",
     "text": [
      "\u001b[90;3m2024-05-31 13:59:50,276 \u001b[0m\u001b[mgym                            \u001b[0m\u001b[mINFO       \u001b[0m\u001b[33m<14520.00> \u001b[0m\u001b[93;1m=== STARTING STEP ===\u001b[0m\n"
     ]
    },
    {
     "name": "stderr",
     "output_type": "stream",
     "text": [
      "\u001b[90;3m2024-05-31 13:59:50,277 \u001b[0m\u001b[36msats.satellite.Scanner-1       \u001b[0m\u001b[mINFO       \u001b[0m\u001b[33m<14520.00> \u001b[0m\u001b[36mScanner-1: \u001b[0m\u001b[maction_desat tasked for 60.0 seconds\u001b[0m\n"
     ]
    },
    {
     "name": "stderr",
     "output_type": "stream",
     "text": [
      "\u001b[90;3m2024-05-31 13:59:50,277 \u001b[0m\u001b[36msats.satellite.Scanner-1       \u001b[0m\u001b[mINFO       \u001b[0m\u001b[33m<14520.00> \u001b[0m\u001b[36mScanner-1: \u001b[0m\u001b[msetting timed terminal event at 14580.0\u001b[0m\n"
     ]
    },
    {
     "name": "stderr",
     "output_type": "stream",
     "text": [
      "\u001b[90;3m2024-05-31 13:59:50,277 \u001b[0m\u001b[msim.simulator                  \u001b[0m\u001b[mINFO       \u001b[0m\u001b[33m<14520.00> \u001b[0m\u001b[mRunning simulation at most to 17100.00 seconds\u001b[0m\n"
     ]
    },
    {
     "name": "stderr",
     "output_type": "stream",
     "text": [
      "\u001b[90;3m2024-05-31 13:59:50,282 \u001b[0m\u001b[36msats.satellite.Scanner-1       \u001b[0m\u001b[mINFO       \u001b[0m\u001b[33m<14580.00> \u001b[0m\u001b[36mScanner-1: \u001b[0m\u001b[mtimed termination at 14580.0 for action_desat\u001b[0m\n"
     ]
    },
    {
     "name": "stderr",
     "output_type": "stream",
     "text": [
      "\u001b[90;3m2024-05-31 13:59:50,282 \u001b[0m\u001b[mdata.base                      \u001b[0m\u001b[mINFO       \u001b[0m\u001b[33m<14580.00> \u001b[0m\u001b[mData reward: {'Scanner-1_4827225424': 0.0}\u001b[0m\n"
     ]
    },
    {
     "name": "stderr",
     "output_type": "stream",
     "text": [
      "\u001b[90;3m2024-05-31 13:59:50,283 \u001b[0m\u001b[mgym                            \u001b[0m\u001b[mINFO       \u001b[0m\u001b[33m<14580.00> \u001b[0m\u001b[mSatellites requiring retasking: ['Scanner-1_4827225424']\u001b[0m\n"
     ]
    },
    {
     "name": "stderr",
     "output_type": "stream",
     "text": [
      "\u001b[90;3m2024-05-31 13:59:50,283 \u001b[0m\u001b[mgym                            \u001b[0m\u001b[mINFO       \u001b[0m\u001b[33m<14580.00> \u001b[0m\u001b[mStep reward: 0.0\u001b[0m\n"
     ]
    },
    {
     "name": "stderr",
     "output_type": "stream",
     "text": [
      "\u001b[90;3m2024-05-31 13:59:50,284 \u001b[0m\u001b[mgym                            \u001b[0m\u001b[mINFO       \u001b[0m\u001b[33m<14580.00> \u001b[0m\u001b[93;1m=== STARTING STEP ===\u001b[0m\n"
     ]
    },
    {
     "name": "stderr",
     "output_type": "stream",
     "text": [
      "\u001b[90;3m2024-05-31 13:59:50,284 \u001b[0m\u001b[36msats.satellite.Scanner-1       \u001b[0m\u001b[mINFO       \u001b[0m\u001b[33m<14580.00> \u001b[0m\u001b[36mScanner-1: \u001b[0m\u001b[maction_nadir_scan tasked for 180.0 seconds\u001b[0m\n"
     ]
    },
    {
     "name": "stderr",
     "output_type": "stream",
     "text": [
      "\u001b[90;3m2024-05-31 13:59:50,284 \u001b[0m\u001b[36msats.satellite.Scanner-1       \u001b[0m\u001b[mINFO       \u001b[0m\u001b[33m<14580.00> \u001b[0m\u001b[36mScanner-1: \u001b[0m\u001b[msetting timed terminal event at 14760.0\u001b[0m\n"
     ]
    },
    {
     "name": "stderr",
     "output_type": "stream",
     "text": [
      "\u001b[90;3m2024-05-31 13:59:50,284 \u001b[0m\u001b[msim.simulator                  \u001b[0m\u001b[mINFO       \u001b[0m\u001b[33m<14580.00> \u001b[0m\u001b[mRunning simulation at most to 17100.00 seconds\u001b[0m\n"
     ]
    },
    {
     "name": "stderr",
     "output_type": "stream",
     "text": [
      "\u001b[90;3m2024-05-31 13:59:50,295 \u001b[0m\u001b[36msats.satellite.Scanner-1       \u001b[0m\u001b[mINFO       \u001b[0m\u001b[33m<14760.00> \u001b[0m\u001b[36mScanner-1: \u001b[0m\u001b[mtimed termination at 14760.0 for action_nadir_scan\u001b[0m\n"
     ]
    },
    {
     "name": "stderr",
     "output_type": "stream",
     "text": [
      "\u001b[90;3m2024-05-31 13:59:50,296 \u001b[0m\u001b[mdata.base                      \u001b[0m\u001b[mINFO       \u001b[0m\u001b[33m<14760.00> \u001b[0m\u001b[mData reward: {'Scanner-1_4827225424': 0.00824561403508772}\u001b[0m\n"
     ]
    },
    {
     "name": "stderr",
     "output_type": "stream",
     "text": [
      "\u001b[90;3m2024-05-31 13:59:50,296 \u001b[0m\u001b[mgym                            \u001b[0m\u001b[mINFO       \u001b[0m\u001b[33m<14760.00> \u001b[0m\u001b[mSatellites requiring retasking: ['Scanner-1_4827225424']\u001b[0m\n"
     ]
    },
    {
     "name": "stderr",
     "output_type": "stream",
     "text": [
      "\u001b[90;3m2024-05-31 13:59:50,297 \u001b[0m\u001b[mgym                            \u001b[0m\u001b[mINFO       \u001b[0m\u001b[33m<14760.00> \u001b[0m\u001b[mStep reward: 0.00824561403508772\u001b[0m\n"
     ]
    },
    {
     "name": "stderr",
     "output_type": "stream",
     "text": [
      "\u001b[90;3m2024-05-31 13:59:50,297 \u001b[0m\u001b[mgym                            \u001b[0m\u001b[mINFO       \u001b[0m\u001b[33m<14760.00> \u001b[0m\u001b[93;1m=== STARTING STEP ===\u001b[0m\n"
     ]
    },
    {
     "name": "stderr",
     "output_type": "stream",
     "text": [
      "\u001b[90;3m2024-05-31 13:59:50,297 \u001b[0m\u001b[36msats.satellite.Scanner-1       \u001b[0m\u001b[mINFO       \u001b[0m\u001b[33m<14760.00> \u001b[0m\u001b[36mScanner-1: \u001b[0m\u001b[maction_downlink tasked for 60.0 seconds\u001b[0m\n"
     ]
    },
    {
     "name": "stderr",
     "output_type": "stream",
     "text": [
      "\u001b[90;3m2024-05-31 13:59:50,298 \u001b[0m\u001b[36msats.satellite.Scanner-1       \u001b[0m\u001b[mINFO       \u001b[0m\u001b[33m<14760.00> \u001b[0m\u001b[36mScanner-1: \u001b[0m\u001b[msetting timed terminal event at 14820.0\u001b[0m\n"
     ]
    },
    {
     "name": "stderr",
     "output_type": "stream",
     "text": [
      "\u001b[90;3m2024-05-31 13:59:50,298 \u001b[0m\u001b[msim.simulator                  \u001b[0m\u001b[mINFO       \u001b[0m\u001b[33m<14760.00> \u001b[0m\u001b[mRunning simulation at most to 17100.00 seconds\u001b[0m\n"
     ]
    },
    {
     "name": "stderr",
     "output_type": "stream",
     "text": [
      "\u001b[90;3m2024-05-31 13:59:50,302 \u001b[0m\u001b[36msats.satellite.Scanner-1       \u001b[0m\u001b[mINFO       \u001b[0m\u001b[33m<14820.00> \u001b[0m\u001b[36mScanner-1: \u001b[0m\u001b[mtimed termination at 14820.0 for action_downlink\u001b[0m\n"
     ]
    },
    {
     "name": "stderr",
     "output_type": "stream",
     "text": [
      "\u001b[90;3m2024-05-31 13:59:50,302 \u001b[0m\u001b[mdata.base                      \u001b[0m\u001b[mINFO       \u001b[0m\u001b[33m<14820.00> \u001b[0m\u001b[mData reward: {'Scanner-1_4827225424': 0.0}\u001b[0m\n"
     ]
    },
    {
     "name": "stderr",
     "output_type": "stream",
     "text": [
      "\u001b[90;3m2024-05-31 13:59:50,303 \u001b[0m\u001b[mgym                            \u001b[0m\u001b[mINFO       \u001b[0m\u001b[33m<14820.00> \u001b[0m\u001b[mSatellites requiring retasking: ['Scanner-1_4827225424']\u001b[0m\n"
     ]
    },
    {
     "name": "stderr",
     "output_type": "stream",
     "text": [
      "\u001b[90;3m2024-05-31 13:59:50,304 \u001b[0m\u001b[mgym                            \u001b[0m\u001b[mINFO       \u001b[0m\u001b[33m<14820.00> \u001b[0m\u001b[mStep reward: 0.0\u001b[0m\n"
     ]
    },
    {
     "name": "stderr",
     "output_type": "stream",
     "text": [
      "\u001b[90;3m2024-05-31 13:59:50,304 \u001b[0m\u001b[mgym                            \u001b[0m\u001b[mINFO       \u001b[0m\u001b[33m<14820.00> \u001b[0m\u001b[93;1m=== STARTING STEP ===\u001b[0m\n"
     ]
    },
    {
     "name": "stderr",
     "output_type": "stream",
     "text": [
      "\u001b[90;3m2024-05-31 13:59:50,304 \u001b[0m\u001b[36msats.satellite.Scanner-1       \u001b[0m\u001b[mINFO       \u001b[0m\u001b[33m<14820.00> \u001b[0m\u001b[36mScanner-1: \u001b[0m\u001b[maction_desat tasked for 60.0 seconds\u001b[0m\n"
     ]
    },
    {
     "name": "stderr",
     "output_type": "stream",
     "text": [
      "\u001b[90;3m2024-05-31 13:59:50,305 \u001b[0m\u001b[36msats.satellite.Scanner-1       \u001b[0m\u001b[mINFO       \u001b[0m\u001b[33m<14820.00> \u001b[0m\u001b[36mScanner-1: \u001b[0m\u001b[msetting timed terminal event at 14880.0\u001b[0m\n"
     ]
    },
    {
     "name": "stderr",
     "output_type": "stream",
     "text": [
      "\u001b[90;3m2024-05-31 13:59:50,305 \u001b[0m\u001b[msim.simulator                  \u001b[0m\u001b[mINFO       \u001b[0m\u001b[33m<14820.00> \u001b[0m\u001b[mRunning simulation at most to 17100.00 seconds\u001b[0m\n"
     ]
    },
    {
     "name": "stderr",
     "output_type": "stream",
     "text": [
      "\u001b[90;3m2024-05-31 13:59:50,309 \u001b[0m\u001b[36msats.satellite.Scanner-1       \u001b[0m\u001b[mINFO       \u001b[0m\u001b[33m<14880.00> \u001b[0m\u001b[36mScanner-1: \u001b[0m\u001b[mtimed termination at 14880.0 for action_desat\u001b[0m\n"
     ]
    },
    {
     "name": "stderr",
     "output_type": "stream",
     "text": [
      "\u001b[90;3m2024-05-31 13:59:50,309 \u001b[0m\u001b[mdata.base                      \u001b[0m\u001b[mINFO       \u001b[0m\u001b[33m<14880.00> \u001b[0m\u001b[mData reward: {'Scanner-1_4827225424': 0.0}\u001b[0m\n"
     ]
    },
    {
     "name": "stderr",
     "output_type": "stream",
     "text": [
      "\u001b[90;3m2024-05-31 13:59:50,311 \u001b[0m\u001b[mgym                            \u001b[0m\u001b[mINFO       \u001b[0m\u001b[33m<14880.00> \u001b[0m\u001b[mSatellites requiring retasking: ['Scanner-1_4827225424']\u001b[0m\n"
     ]
    },
    {
     "name": "stderr",
     "output_type": "stream",
     "text": [
      "\u001b[90;3m2024-05-31 13:59:50,311 \u001b[0m\u001b[mgym                            \u001b[0m\u001b[mINFO       \u001b[0m\u001b[33m<14880.00> \u001b[0m\u001b[mStep reward: 0.0\u001b[0m\n"
     ]
    },
    {
     "name": "stderr",
     "output_type": "stream",
     "text": [
      "\u001b[90;3m2024-05-31 13:59:50,311 \u001b[0m\u001b[mgym                            \u001b[0m\u001b[mINFO       \u001b[0m\u001b[33m<14880.00> \u001b[0m\u001b[93;1m=== STARTING STEP ===\u001b[0m\n"
     ]
    },
    {
     "name": "stderr",
     "output_type": "stream",
     "text": [
      "\u001b[90;3m2024-05-31 13:59:50,312 \u001b[0m\u001b[36msats.satellite.Scanner-1       \u001b[0m\u001b[mINFO       \u001b[0m\u001b[33m<14880.00> \u001b[0m\u001b[36mScanner-1: \u001b[0m\u001b[maction_nadir_scan tasked for 180.0 seconds\u001b[0m\n"
     ]
    },
    {
     "name": "stderr",
     "output_type": "stream",
     "text": [
      "\u001b[90;3m2024-05-31 13:59:50,312 \u001b[0m\u001b[36msats.satellite.Scanner-1       \u001b[0m\u001b[mINFO       \u001b[0m\u001b[33m<14880.00> \u001b[0m\u001b[36mScanner-1: \u001b[0m\u001b[msetting timed terminal event at 15060.0\u001b[0m\n"
     ]
    },
    {
     "name": "stderr",
     "output_type": "stream",
     "text": [
      "\u001b[90;3m2024-05-31 13:59:50,312 \u001b[0m\u001b[msim.simulator                  \u001b[0m\u001b[mINFO       \u001b[0m\u001b[33m<14880.00> \u001b[0m\u001b[mRunning simulation at most to 17100.00 seconds\u001b[0m\n"
     ]
    },
    {
     "name": "stderr",
     "output_type": "stream",
     "text": [
      "\u001b[90;3m2024-05-31 13:59:50,323 \u001b[0m\u001b[36msats.satellite.Scanner-1       \u001b[0m\u001b[mINFO       \u001b[0m\u001b[33m<15060.00> \u001b[0m\u001b[36mScanner-1: \u001b[0m\u001b[mtimed termination at 15060.0 for action_nadir_scan\u001b[0m\n"
     ]
    },
    {
     "name": "stderr",
     "output_type": "stream",
     "text": [
      "\u001b[90;3m2024-05-31 13:59:50,324 \u001b[0m\u001b[mdata.base                      \u001b[0m\u001b[mINFO       \u001b[0m\u001b[33m<15060.00> \u001b[0m\u001b[mData reward: {'Scanner-1_4827225424': 0.00824561403508772}\u001b[0m\n"
     ]
    },
    {
     "name": "stderr",
     "output_type": "stream",
     "text": [
      "\u001b[90;3m2024-05-31 13:59:50,324 \u001b[0m\u001b[mgym                            \u001b[0m\u001b[mINFO       \u001b[0m\u001b[33m<15060.00> \u001b[0m\u001b[mSatellites requiring retasking: ['Scanner-1_4827225424']\u001b[0m\n"
     ]
    },
    {
     "name": "stderr",
     "output_type": "stream",
     "text": [
      "\u001b[90;3m2024-05-31 13:59:50,325 \u001b[0m\u001b[mgym                            \u001b[0m\u001b[mINFO       \u001b[0m\u001b[33m<15060.00> \u001b[0m\u001b[mStep reward: 0.00824561403508772\u001b[0m\n"
     ]
    },
    {
     "name": "stderr",
     "output_type": "stream",
     "text": [
      "\u001b[90;3m2024-05-31 13:59:50,325 \u001b[0m\u001b[mgym                            \u001b[0m\u001b[mINFO       \u001b[0m\u001b[33m<15060.00> \u001b[0m\u001b[93;1m=== STARTING STEP ===\u001b[0m\n"
     ]
    },
    {
     "name": "stderr",
     "output_type": "stream",
     "text": [
      "\u001b[90;3m2024-05-31 13:59:50,325 \u001b[0m\u001b[36msats.satellite.Scanner-1       \u001b[0m\u001b[mINFO       \u001b[0m\u001b[33m<15060.00> \u001b[0m\u001b[36mScanner-1: \u001b[0m\u001b[maction_charge tasked for 180.0 seconds\u001b[0m\n"
     ]
    },
    {
     "name": "stderr",
     "output_type": "stream",
     "text": [
      "\u001b[90;3m2024-05-31 13:59:50,326 \u001b[0m\u001b[36msats.satellite.Scanner-1       \u001b[0m\u001b[mINFO       \u001b[0m\u001b[33m<15060.00> \u001b[0m\u001b[36mScanner-1: \u001b[0m\u001b[msetting timed terminal event at 15240.0\u001b[0m\n"
     ]
    },
    {
     "name": "stderr",
     "output_type": "stream",
     "text": [
      "\u001b[90;3m2024-05-31 13:59:50,326 \u001b[0m\u001b[msim.simulator                  \u001b[0m\u001b[mINFO       \u001b[0m\u001b[33m<15060.00> \u001b[0m\u001b[mRunning simulation at most to 17100.00 seconds\u001b[0m\n"
     ]
    },
    {
     "name": "stderr",
     "output_type": "stream",
     "text": [
      "\u001b[90;3m2024-05-31 13:59:50,337 \u001b[0m\u001b[36msats.satellite.Scanner-1       \u001b[0m\u001b[mINFO       \u001b[0m\u001b[33m<15240.00> \u001b[0m\u001b[36mScanner-1: \u001b[0m\u001b[mtimed termination at 15240.0 for action_charge\u001b[0m\n"
     ]
    },
    {
     "name": "stderr",
     "output_type": "stream",
     "text": [
      "\u001b[90;3m2024-05-31 13:59:50,337 \u001b[0m\u001b[mdata.base                      \u001b[0m\u001b[mINFO       \u001b[0m\u001b[33m<15240.00> \u001b[0m\u001b[mData reward: {'Scanner-1_4827225424': 0.0}\u001b[0m\n"
     ]
    },
    {
     "name": "stderr",
     "output_type": "stream",
     "text": [
      "\u001b[90;3m2024-05-31 13:59:50,338 \u001b[0m\u001b[mgym                            \u001b[0m\u001b[mINFO       \u001b[0m\u001b[33m<15240.00> \u001b[0m\u001b[mSatellites requiring retasking: ['Scanner-1_4827225424']\u001b[0m\n"
     ]
    },
    {
     "name": "stderr",
     "output_type": "stream",
     "text": [
      "\u001b[90;3m2024-05-31 13:59:50,338 \u001b[0m\u001b[mgym                            \u001b[0m\u001b[mINFO       \u001b[0m\u001b[33m<15240.00> \u001b[0m\u001b[mStep reward: 0.0\u001b[0m\n"
     ]
    },
    {
     "name": "stderr",
     "output_type": "stream",
     "text": [
      "\u001b[90;3m2024-05-31 13:59:50,339 \u001b[0m\u001b[mgym                            \u001b[0m\u001b[mINFO       \u001b[0m\u001b[33m<15240.00> \u001b[0m\u001b[93;1m=== STARTING STEP ===\u001b[0m\n"
     ]
    },
    {
     "name": "stderr",
     "output_type": "stream",
     "text": [
      "\u001b[90;3m2024-05-31 13:59:50,339 \u001b[0m\u001b[36msats.satellite.Scanner-1       \u001b[0m\u001b[mINFO       \u001b[0m\u001b[33m<15240.00> \u001b[0m\u001b[36mScanner-1: \u001b[0m\u001b[maction_nadir_scan tasked for 180.0 seconds\u001b[0m\n"
     ]
    },
    {
     "name": "stderr",
     "output_type": "stream",
     "text": [
      "\u001b[90;3m2024-05-31 13:59:50,339 \u001b[0m\u001b[36msats.satellite.Scanner-1       \u001b[0m\u001b[mINFO       \u001b[0m\u001b[33m<15240.00> \u001b[0m\u001b[36mScanner-1: \u001b[0m\u001b[msetting timed terminal event at 15420.0\u001b[0m\n"
     ]
    },
    {
     "name": "stderr",
     "output_type": "stream",
     "text": [
      "\u001b[90;3m2024-05-31 13:59:50,340 \u001b[0m\u001b[msim.simulator                  \u001b[0m\u001b[mINFO       \u001b[0m\u001b[33m<15240.00> \u001b[0m\u001b[mRunning simulation at most to 17100.00 seconds\u001b[0m\n"
     ]
    },
    {
     "name": "stderr",
     "output_type": "stream",
     "text": [
      "\u001b[90;3m2024-05-31 13:59:50,351 \u001b[0m\u001b[36msats.satellite.Scanner-1       \u001b[0m\u001b[mINFO       \u001b[0m\u001b[33m<15420.00> \u001b[0m\u001b[36mScanner-1: \u001b[0m\u001b[mtimed termination at 15420.0 for action_nadir_scan\u001b[0m\n"
     ]
    },
    {
     "name": "stderr",
     "output_type": "stream",
     "text": [
      "\u001b[90;3m2024-05-31 13:59:50,351 \u001b[0m\u001b[mdata.base                      \u001b[0m\u001b[mINFO       \u001b[0m\u001b[33m<15420.00> \u001b[0m\u001b[mData reward: {'Scanner-1_4827225424': 0.008070175438596491}\u001b[0m\n"
     ]
    },
    {
     "name": "stderr",
     "output_type": "stream",
     "text": [
      "\u001b[90;3m2024-05-31 13:59:50,412 \u001b[0m\u001b[mgym                            \u001b[0m\u001b[mINFO       \u001b[0m\u001b[33m<15420.00> \u001b[0m\u001b[mSatellites requiring retasking: ['Scanner-1_4827225424']\u001b[0m\n"
     ]
    },
    {
     "name": "stderr",
     "output_type": "stream",
     "text": [
      "\u001b[90;3m2024-05-31 13:59:50,413 \u001b[0m\u001b[mgym                            \u001b[0m\u001b[mINFO       \u001b[0m\u001b[33m<15420.00> \u001b[0m\u001b[mStep reward: 0.008070175438596491\u001b[0m\n"
     ]
    },
    {
     "name": "stderr",
     "output_type": "stream",
     "text": [
      "\u001b[90;3m2024-05-31 13:59:50,414 \u001b[0m\u001b[mgym                            \u001b[0m\u001b[mINFO       \u001b[0m\u001b[33m<15420.00> \u001b[0m\u001b[93;1m=== STARTING STEP ===\u001b[0m\n"
     ]
    },
    {
     "name": "stderr",
     "output_type": "stream",
     "text": [
      "\u001b[90;3m2024-05-31 13:59:50,414 \u001b[0m\u001b[36msats.satellite.Scanner-1       \u001b[0m\u001b[mINFO       \u001b[0m\u001b[33m<15420.00> \u001b[0m\u001b[36mScanner-1: \u001b[0m\u001b[maction_desat tasked for 60.0 seconds\u001b[0m\n"
     ]
    },
    {
     "name": "stderr",
     "output_type": "stream",
     "text": [
      "\u001b[90;3m2024-05-31 13:59:50,414 \u001b[0m\u001b[36msats.satellite.Scanner-1       \u001b[0m\u001b[mINFO       \u001b[0m\u001b[33m<15420.00> \u001b[0m\u001b[36mScanner-1: \u001b[0m\u001b[msetting timed terminal event at 15480.0\u001b[0m\n"
     ]
    },
    {
     "name": "stderr",
     "output_type": "stream",
     "text": [
      "\u001b[90;3m2024-05-31 13:59:50,415 \u001b[0m\u001b[msim.simulator                  \u001b[0m\u001b[mINFO       \u001b[0m\u001b[33m<15420.00> \u001b[0m\u001b[mRunning simulation at most to 17100.00 seconds\u001b[0m\n"
     ]
    },
    {
     "name": "stderr",
     "output_type": "stream",
     "text": [
      "\u001b[90;3m2024-05-31 13:59:50,419 \u001b[0m\u001b[36msats.satellite.Scanner-1       \u001b[0m\u001b[mINFO       \u001b[0m\u001b[33m<15480.00> \u001b[0m\u001b[36mScanner-1: \u001b[0m\u001b[mtimed termination at 15480.0 for action_desat\u001b[0m\n"
     ]
    },
    {
     "name": "stderr",
     "output_type": "stream",
     "text": [
      "\u001b[90;3m2024-05-31 13:59:50,419 \u001b[0m\u001b[mdata.base                      \u001b[0m\u001b[mINFO       \u001b[0m\u001b[33m<15480.00> \u001b[0m\u001b[mData reward: {'Scanner-1_4827225424': 0.0}\u001b[0m\n"
     ]
    },
    {
     "name": "stderr",
     "output_type": "stream",
     "text": [
      "\u001b[90;3m2024-05-31 13:59:50,420 \u001b[0m\u001b[mgym                            \u001b[0m\u001b[mINFO       \u001b[0m\u001b[33m<15480.00> \u001b[0m\u001b[mSatellites requiring retasking: ['Scanner-1_4827225424']\u001b[0m\n"
     ]
    },
    {
     "name": "stderr",
     "output_type": "stream",
     "text": [
      "\u001b[90;3m2024-05-31 13:59:50,420 \u001b[0m\u001b[mgym                            \u001b[0m\u001b[mINFO       \u001b[0m\u001b[33m<15480.00> \u001b[0m\u001b[mStep reward: 0.0\u001b[0m\n"
     ]
    },
    {
     "name": "stderr",
     "output_type": "stream",
     "text": [
      "\u001b[90;3m2024-05-31 13:59:50,421 \u001b[0m\u001b[mgym                            \u001b[0m\u001b[mINFO       \u001b[0m\u001b[33m<15480.00> \u001b[0m\u001b[93;1m=== STARTING STEP ===\u001b[0m\n"
     ]
    },
    {
     "name": "stderr",
     "output_type": "stream",
     "text": [
      "\u001b[90;3m2024-05-31 13:59:50,421 \u001b[0m\u001b[36msats.satellite.Scanner-1       \u001b[0m\u001b[mINFO       \u001b[0m\u001b[33m<15480.00> \u001b[0m\u001b[36mScanner-1: \u001b[0m\u001b[maction_desat tasked for 60.0 seconds\u001b[0m\n"
     ]
    },
    {
     "name": "stderr",
     "output_type": "stream",
     "text": [
      "\u001b[90;3m2024-05-31 13:59:50,421 \u001b[0m\u001b[36msats.satellite.Scanner-1       \u001b[0m\u001b[mINFO       \u001b[0m\u001b[33m<15480.00> \u001b[0m\u001b[36mScanner-1: \u001b[0m\u001b[msetting timed terminal event at 15540.0\u001b[0m\n"
     ]
    },
    {
     "name": "stderr",
     "output_type": "stream",
     "text": [
      "\u001b[90;3m2024-05-31 13:59:50,421 \u001b[0m\u001b[msim.simulator                  \u001b[0m\u001b[mINFO       \u001b[0m\u001b[33m<15480.00> \u001b[0m\u001b[mRunning simulation at most to 17100.00 seconds\u001b[0m\n"
     ]
    },
    {
     "name": "stderr",
     "output_type": "stream",
     "text": [
      "\u001b[90;3m2024-05-31 13:59:50,425 \u001b[0m\u001b[36msats.satellite.Scanner-1       \u001b[0m\u001b[mINFO       \u001b[0m\u001b[33m<15540.00> \u001b[0m\u001b[36mScanner-1: \u001b[0m\u001b[mtimed termination at 15540.0 for action_desat\u001b[0m\n"
     ]
    },
    {
     "name": "stderr",
     "output_type": "stream",
     "text": [
      "\u001b[90;3m2024-05-31 13:59:50,425 \u001b[0m\u001b[mdata.base                      \u001b[0m\u001b[mINFO       \u001b[0m\u001b[33m<15540.00> \u001b[0m\u001b[mData reward: {'Scanner-1_4827225424': 0.0}\u001b[0m\n"
     ]
    },
    {
     "name": "stderr",
     "output_type": "stream",
     "text": [
      "\u001b[90;3m2024-05-31 13:59:50,426 \u001b[0m\u001b[mgym                            \u001b[0m\u001b[mINFO       \u001b[0m\u001b[33m<15540.00> \u001b[0m\u001b[mSatellites requiring retasking: ['Scanner-1_4827225424']\u001b[0m\n"
     ]
    },
    {
     "name": "stderr",
     "output_type": "stream",
     "text": [
      "\u001b[90;3m2024-05-31 13:59:50,426 \u001b[0m\u001b[mgym                            \u001b[0m\u001b[mINFO       \u001b[0m\u001b[33m<15540.00> \u001b[0m\u001b[mStep reward: 0.0\u001b[0m\n"
     ]
    },
    {
     "name": "stderr",
     "output_type": "stream",
     "text": [
      "\u001b[90;3m2024-05-31 13:59:50,427 \u001b[0m\u001b[mgym                            \u001b[0m\u001b[mINFO       \u001b[0m\u001b[33m<15540.00> \u001b[0m\u001b[93;1m=== STARTING STEP ===\u001b[0m\n"
     ]
    },
    {
     "name": "stderr",
     "output_type": "stream",
     "text": [
      "\u001b[90;3m2024-05-31 13:59:50,427 \u001b[0m\u001b[36msats.satellite.Scanner-1       \u001b[0m\u001b[mINFO       \u001b[0m\u001b[33m<15540.00> \u001b[0m\u001b[36mScanner-1: \u001b[0m\u001b[maction_nadir_scan tasked for 180.0 seconds\u001b[0m\n"
     ]
    },
    {
     "name": "stderr",
     "output_type": "stream",
     "text": [
      "\u001b[90;3m2024-05-31 13:59:50,427 \u001b[0m\u001b[36msats.satellite.Scanner-1       \u001b[0m\u001b[mINFO       \u001b[0m\u001b[33m<15540.00> \u001b[0m\u001b[36mScanner-1: \u001b[0m\u001b[msetting timed terminal event at 15720.0\u001b[0m\n"
     ]
    },
    {
     "name": "stderr",
     "output_type": "stream",
     "text": [
      "\u001b[90;3m2024-05-31 13:59:50,428 \u001b[0m\u001b[msim.simulator                  \u001b[0m\u001b[mINFO       \u001b[0m\u001b[33m<15540.00> \u001b[0m\u001b[mRunning simulation at most to 17100.00 seconds\u001b[0m\n"
     ]
    },
    {
     "name": "stderr",
     "output_type": "stream",
     "text": [
      "\u001b[90;3m2024-05-31 13:59:50,438 \u001b[0m\u001b[36msats.satellite.Scanner-1       \u001b[0m\u001b[mINFO       \u001b[0m\u001b[33m<15720.00> \u001b[0m\u001b[36mScanner-1: \u001b[0m\u001b[mtimed termination at 15720.0 for action_nadir_scan\u001b[0m\n"
     ]
    },
    {
     "name": "stderr",
     "output_type": "stream",
     "text": [
      "\u001b[90;3m2024-05-31 13:59:50,438 \u001b[0m\u001b[mdata.base                      \u001b[0m\u001b[mINFO       \u001b[0m\u001b[33m<15720.00> \u001b[0m\u001b[mData reward: {'Scanner-1_4827225424': 0.008187134502923977}\u001b[0m\n"
     ]
    },
    {
     "name": "stderr",
     "output_type": "stream",
     "text": [
      "\u001b[90;3m2024-05-31 13:59:50,439 \u001b[0m\u001b[36msats.satellite.Scanner-1       \u001b[0m\u001b[mINFO       \u001b[0m\u001b[33m<15720.00> \u001b[0m\u001b[36mScanner-1: \u001b[0m\u001b[mFinding opportunity windows from 17400.00 to 18000.00 seconds\u001b[0m\n"
     ]
    },
    {
     "name": "stderr",
     "output_type": "stream",
     "text": [
      "\u001b[90;3m2024-05-31 13:59:50,445 \u001b[0m\u001b[36msats.satellite.Scanner-1       \u001b[0m\u001b[mINFO       \u001b[0m\u001b[33m<15720.00> \u001b[0m\u001b[36mScanner-1: \u001b[0m\u001b[mFinding opportunity windows from 18000.00 to 18600.00 seconds\u001b[0m\n"
     ]
    },
    {
     "name": "stderr",
     "output_type": "stream",
     "text": [
      "\u001b[90;3m2024-05-31 13:59:50,453 \u001b[0m\u001b[mgym                            \u001b[0m\u001b[mINFO       \u001b[0m\u001b[33m<15720.00> \u001b[0m\u001b[mSatellites requiring retasking: ['Scanner-1_4827225424']\u001b[0m\n"
     ]
    },
    {
     "name": "stderr",
     "output_type": "stream",
     "text": [
      "\u001b[90;3m2024-05-31 13:59:50,453 \u001b[0m\u001b[mgym                            \u001b[0m\u001b[mINFO       \u001b[0m\u001b[33m<15720.00> \u001b[0m\u001b[mStep reward: 0.008187134502923977\u001b[0m\n"
     ]
    },
    {
     "name": "stderr",
     "output_type": "stream",
     "text": [
      "\u001b[90;3m2024-05-31 13:59:50,453 \u001b[0m\u001b[mgym                            \u001b[0m\u001b[mINFO       \u001b[0m\u001b[33m<15720.00> \u001b[0m\u001b[93;1m=== STARTING STEP ===\u001b[0m\n"
     ]
    },
    {
     "name": "stderr",
     "output_type": "stream",
     "text": [
      "\u001b[90;3m2024-05-31 13:59:50,454 \u001b[0m\u001b[36msats.satellite.Scanner-1       \u001b[0m\u001b[mINFO       \u001b[0m\u001b[33m<15720.00> \u001b[0m\u001b[36mScanner-1: \u001b[0m\u001b[maction_nadir_scan tasked for 180.0 seconds\u001b[0m\n"
     ]
    },
    {
     "name": "stderr",
     "output_type": "stream",
     "text": [
      "\u001b[90;3m2024-05-31 13:59:50,454 \u001b[0m\u001b[36msats.satellite.Scanner-1       \u001b[0m\u001b[mINFO       \u001b[0m\u001b[33m<15720.00> \u001b[0m\u001b[36mScanner-1: \u001b[0m\u001b[msetting timed terminal event at 15900.0\u001b[0m\n"
     ]
    },
    {
     "name": "stderr",
     "output_type": "stream",
     "text": [
      "\u001b[90;3m2024-05-31 13:59:50,454 \u001b[0m\u001b[msim.simulator                  \u001b[0m\u001b[mINFO       \u001b[0m\u001b[33m<15720.00> \u001b[0m\u001b[mRunning simulation at most to 17100.00 seconds\u001b[0m\n"
     ]
    },
    {
     "name": "stderr",
     "output_type": "stream",
     "text": [
      "\u001b[90;3m2024-05-31 13:59:50,465 \u001b[0m\u001b[36msats.satellite.Scanner-1       \u001b[0m\u001b[mINFO       \u001b[0m\u001b[33m<15900.00> \u001b[0m\u001b[36mScanner-1: \u001b[0m\u001b[mtimed termination at 15900.0 for action_nadir_scan\u001b[0m\n"
     ]
    },
    {
     "name": "stderr",
     "output_type": "stream",
     "text": [
      "\u001b[90;3m2024-05-31 13:59:50,466 \u001b[0m\u001b[mdata.base                      \u001b[0m\u001b[mINFO       \u001b[0m\u001b[33m<15900.00> \u001b[0m\u001b[mData reward: {'Scanner-1_4827225424': 0.010526315789473684}\u001b[0m\n"
     ]
    },
    {
     "name": "stderr",
     "output_type": "stream",
     "text": [
      "\u001b[90;3m2024-05-31 13:59:50,466 \u001b[0m\u001b[mgym                            \u001b[0m\u001b[mINFO       \u001b[0m\u001b[33m<15900.00> \u001b[0m\u001b[mSatellites requiring retasking: ['Scanner-1_4827225424']\u001b[0m\n"
     ]
    },
    {
     "name": "stderr",
     "output_type": "stream",
     "text": [
      "\u001b[90;3m2024-05-31 13:59:50,467 \u001b[0m\u001b[mgym                            \u001b[0m\u001b[mINFO       \u001b[0m\u001b[33m<15900.00> \u001b[0m\u001b[mStep reward: 0.010526315789473684\u001b[0m\n"
     ]
    },
    {
     "name": "stderr",
     "output_type": "stream",
     "text": [
      "\u001b[90;3m2024-05-31 13:59:50,467 \u001b[0m\u001b[mgym                            \u001b[0m\u001b[mINFO       \u001b[0m\u001b[33m<15900.00> \u001b[0m\u001b[93;1m=== STARTING STEP ===\u001b[0m\n"
     ]
    },
    {
     "name": "stderr",
     "output_type": "stream",
     "text": [
      "\u001b[90;3m2024-05-31 13:59:50,467 \u001b[0m\u001b[36msats.satellite.Scanner-1       \u001b[0m\u001b[mINFO       \u001b[0m\u001b[33m<15900.00> \u001b[0m\u001b[36mScanner-1: \u001b[0m\u001b[maction_nadir_scan tasked for 180.0 seconds\u001b[0m\n"
     ]
    },
    {
     "name": "stderr",
     "output_type": "stream",
     "text": [
      "\u001b[90;3m2024-05-31 13:59:50,468 \u001b[0m\u001b[36msats.satellite.Scanner-1       \u001b[0m\u001b[mINFO       \u001b[0m\u001b[33m<15900.00> \u001b[0m\u001b[36mScanner-1: \u001b[0m\u001b[msetting timed terminal event at 16080.0\u001b[0m\n"
     ]
    },
    {
     "name": "stderr",
     "output_type": "stream",
     "text": [
      "\u001b[90;3m2024-05-31 13:59:50,468 \u001b[0m\u001b[msim.simulator                  \u001b[0m\u001b[mINFO       \u001b[0m\u001b[33m<15900.00> \u001b[0m\u001b[mRunning simulation at most to 17100.00 seconds\u001b[0m\n"
     ]
    },
    {
     "name": "stderr",
     "output_type": "stream",
     "text": [
      "\u001b[90;3m2024-05-31 13:59:50,478 \u001b[0m\u001b[36msats.satellite.Scanner-1       \u001b[0m\u001b[mINFO       \u001b[0m\u001b[33m<16080.00> \u001b[0m\u001b[36mScanner-1: \u001b[0m\u001b[mtimed termination at 16080.0 for action_nadir_scan\u001b[0m\n"
     ]
    },
    {
     "name": "stderr",
     "output_type": "stream",
     "text": [
      "\u001b[90;3m2024-05-31 13:59:50,478 \u001b[0m\u001b[mdata.base                      \u001b[0m\u001b[mINFO       \u001b[0m\u001b[33m<16080.00> \u001b[0m\u001b[mData reward: {'Scanner-1_4827225424': 0.010526315789473684}\u001b[0m\n"
     ]
    },
    {
     "name": "stderr",
     "output_type": "stream",
     "text": [
      "\u001b[90;3m2024-05-31 13:59:50,479 \u001b[0m\u001b[mgym                            \u001b[0m\u001b[mINFO       \u001b[0m\u001b[33m<16080.00> \u001b[0m\u001b[mSatellites requiring retasking: ['Scanner-1_4827225424']\u001b[0m\n"
     ]
    },
    {
     "name": "stderr",
     "output_type": "stream",
     "text": [
      "\u001b[90;3m2024-05-31 13:59:50,480 \u001b[0m\u001b[mgym                            \u001b[0m\u001b[mINFO       \u001b[0m\u001b[33m<16080.00> \u001b[0m\u001b[mStep reward: 0.010526315789473684\u001b[0m\n"
     ]
    },
    {
     "name": "stderr",
     "output_type": "stream",
     "text": [
      "\u001b[90;3m2024-05-31 13:59:50,480 \u001b[0m\u001b[mgym                            \u001b[0m\u001b[mINFO       \u001b[0m\u001b[33m<16080.00> \u001b[0m\u001b[93;1m=== STARTING STEP ===\u001b[0m\n"
     ]
    },
    {
     "name": "stderr",
     "output_type": "stream",
     "text": [
      "\u001b[90;3m2024-05-31 13:59:50,480 \u001b[0m\u001b[36msats.satellite.Scanner-1       \u001b[0m\u001b[mINFO       \u001b[0m\u001b[33m<16080.00> \u001b[0m\u001b[36mScanner-1: \u001b[0m\u001b[maction_charge tasked for 180.0 seconds\u001b[0m\n"
     ]
    },
    {
     "name": "stderr",
     "output_type": "stream",
     "text": [
      "\u001b[90;3m2024-05-31 13:59:50,481 \u001b[0m\u001b[36msats.satellite.Scanner-1       \u001b[0m\u001b[mINFO       \u001b[0m\u001b[33m<16080.00> \u001b[0m\u001b[36mScanner-1: \u001b[0m\u001b[msetting timed terminal event at 16260.0\u001b[0m\n"
     ]
    },
    {
     "name": "stderr",
     "output_type": "stream",
     "text": [
      "\u001b[90;3m2024-05-31 13:59:50,481 \u001b[0m\u001b[msim.simulator                  \u001b[0m\u001b[mINFO       \u001b[0m\u001b[33m<16080.00> \u001b[0m\u001b[mRunning simulation at most to 17100.00 seconds\u001b[0m\n"
     ]
    },
    {
     "name": "stderr",
     "output_type": "stream",
     "text": [
      "\u001b[90;3m2024-05-31 13:59:50,492 \u001b[0m\u001b[36msats.satellite.Scanner-1       \u001b[0m\u001b[mINFO       \u001b[0m\u001b[33m<16260.00> \u001b[0m\u001b[36mScanner-1: \u001b[0m\u001b[mtimed termination at 16260.0 for action_charge\u001b[0m\n"
     ]
    },
    {
     "name": "stderr",
     "output_type": "stream",
     "text": [
      "\u001b[90;3m2024-05-31 13:59:50,492 \u001b[0m\u001b[mdata.base                      \u001b[0m\u001b[mINFO       \u001b[0m\u001b[33m<16260.00> \u001b[0m\u001b[mData reward: {'Scanner-1_4827225424': 0.0}\u001b[0m\n"
     ]
    },
    {
     "name": "stderr",
     "output_type": "stream",
     "text": [
      "\u001b[90;3m2024-05-31 13:59:50,493 \u001b[0m\u001b[mgym                            \u001b[0m\u001b[mINFO       \u001b[0m\u001b[33m<16260.00> \u001b[0m\u001b[mSatellites requiring retasking: ['Scanner-1_4827225424']\u001b[0m\n"
     ]
    },
    {
     "name": "stderr",
     "output_type": "stream",
     "text": [
      "\u001b[90;3m2024-05-31 13:59:50,493 \u001b[0m\u001b[mgym                            \u001b[0m\u001b[mINFO       \u001b[0m\u001b[33m<16260.00> \u001b[0m\u001b[mStep reward: 0.0\u001b[0m\n"
     ]
    },
    {
     "name": "stderr",
     "output_type": "stream",
     "text": [
      "\u001b[90;3m2024-05-31 13:59:50,494 \u001b[0m\u001b[mgym                            \u001b[0m\u001b[mINFO       \u001b[0m\u001b[33m<16260.00> \u001b[0m\u001b[93;1m=== STARTING STEP ===\u001b[0m\n"
     ]
    },
    {
     "name": "stderr",
     "output_type": "stream",
     "text": [
      "\u001b[90;3m2024-05-31 13:59:50,494 \u001b[0m\u001b[36msats.satellite.Scanner-1       \u001b[0m\u001b[mINFO       \u001b[0m\u001b[33m<16260.00> \u001b[0m\u001b[36mScanner-1: \u001b[0m\u001b[maction_downlink tasked for 60.0 seconds\u001b[0m\n"
     ]
    },
    {
     "name": "stderr",
     "output_type": "stream",
     "text": [
      "\u001b[90;3m2024-05-31 13:59:50,494 \u001b[0m\u001b[36msats.satellite.Scanner-1       \u001b[0m\u001b[mINFO       \u001b[0m\u001b[33m<16260.00> \u001b[0m\u001b[36mScanner-1: \u001b[0m\u001b[msetting timed terminal event at 16320.0\u001b[0m\n"
     ]
    },
    {
     "name": "stderr",
     "output_type": "stream",
     "text": [
      "\u001b[90;3m2024-05-31 13:59:50,495 \u001b[0m\u001b[msim.simulator                  \u001b[0m\u001b[mINFO       \u001b[0m\u001b[33m<16260.00> \u001b[0m\u001b[mRunning simulation at most to 17100.00 seconds\u001b[0m\n"
     ]
    },
    {
     "name": "stderr",
     "output_type": "stream",
     "text": [
      "\u001b[90;3m2024-05-31 13:59:50,499 \u001b[0m\u001b[36msats.satellite.Scanner-1       \u001b[0m\u001b[mINFO       \u001b[0m\u001b[33m<16320.00> \u001b[0m\u001b[36mScanner-1: \u001b[0m\u001b[mtimed termination at 16320.0 for action_downlink\u001b[0m\n"
     ]
    },
    {
     "name": "stderr",
     "output_type": "stream",
     "text": [
      "\u001b[90;3m2024-05-31 13:59:50,499 \u001b[0m\u001b[mdata.base                      \u001b[0m\u001b[mINFO       \u001b[0m\u001b[33m<16320.00> \u001b[0m\u001b[mData reward: {'Scanner-1_4827225424': 0.0}\u001b[0m\n"
     ]
    },
    {
     "name": "stderr",
     "output_type": "stream",
     "text": [
      "\u001b[90;3m2024-05-31 13:59:50,500 \u001b[0m\u001b[mgym                            \u001b[0m\u001b[mINFO       \u001b[0m\u001b[33m<16320.00> \u001b[0m\u001b[mSatellites requiring retasking: ['Scanner-1_4827225424']\u001b[0m\n"
     ]
    },
    {
     "name": "stderr",
     "output_type": "stream",
     "text": [
      "\u001b[90;3m2024-05-31 13:59:50,500 \u001b[0m\u001b[mgym                            \u001b[0m\u001b[mINFO       \u001b[0m\u001b[33m<16320.00> \u001b[0m\u001b[mStep reward: 0.0\u001b[0m\n"
     ]
    },
    {
     "name": "stderr",
     "output_type": "stream",
     "text": [
      "\u001b[90;3m2024-05-31 13:59:50,501 \u001b[0m\u001b[mgym                            \u001b[0m\u001b[mINFO       \u001b[0m\u001b[33m<16320.00> \u001b[0m\u001b[93;1m=== STARTING STEP ===\u001b[0m\n"
     ]
    },
    {
     "name": "stderr",
     "output_type": "stream",
     "text": [
      "\u001b[90;3m2024-05-31 13:59:50,501 \u001b[0m\u001b[36msats.satellite.Scanner-1       \u001b[0m\u001b[mINFO       \u001b[0m\u001b[33m<16320.00> \u001b[0m\u001b[36mScanner-1: \u001b[0m\u001b[maction_charge tasked for 180.0 seconds\u001b[0m\n"
     ]
    },
    {
     "name": "stderr",
     "output_type": "stream",
     "text": [
      "\u001b[90;3m2024-05-31 13:59:50,501 \u001b[0m\u001b[36msats.satellite.Scanner-1       \u001b[0m\u001b[mINFO       \u001b[0m\u001b[33m<16320.00> \u001b[0m\u001b[36mScanner-1: \u001b[0m\u001b[msetting timed terminal event at 16500.0\u001b[0m\n"
     ]
    },
    {
     "name": "stderr",
     "output_type": "stream",
     "text": [
      "\u001b[90;3m2024-05-31 13:59:50,502 \u001b[0m\u001b[msim.simulator                  \u001b[0m\u001b[mINFO       \u001b[0m\u001b[33m<16320.00> \u001b[0m\u001b[mRunning simulation at most to 17100.00 seconds\u001b[0m\n"
     ]
    },
    {
     "name": "stderr",
     "output_type": "stream",
     "text": [
      "\u001b[90;3m2024-05-31 13:59:50,513 \u001b[0m\u001b[36msats.satellite.Scanner-1       \u001b[0m\u001b[mINFO       \u001b[0m\u001b[33m<16500.00> \u001b[0m\u001b[36mScanner-1: \u001b[0m\u001b[mtimed termination at 16500.0 for action_charge\u001b[0m\n"
     ]
    },
    {
     "name": "stderr",
     "output_type": "stream",
     "text": [
      "\u001b[90;3m2024-05-31 13:59:50,513 \u001b[0m\u001b[mdata.base                      \u001b[0m\u001b[mINFO       \u001b[0m\u001b[33m<16500.00> \u001b[0m\u001b[mData reward: {'Scanner-1_4827225424': 0.0}\u001b[0m\n"
     ]
    },
    {
     "name": "stderr",
     "output_type": "stream",
     "text": [
      "\u001b[90;3m2024-05-31 13:59:50,514 \u001b[0m\u001b[mgym                            \u001b[0m\u001b[mINFO       \u001b[0m\u001b[33m<16500.00> \u001b[0m\u001b[mSatellites requiring retasking: ['Scanner-1_4827225424']\u001b[0m\n"
     ]
    },
    {
     "name": "stderr",
     "output_type": "stream",
     "text": [
      "\u001b[90;3m2024-05-31 13:59:50,514 \u001b[0m\u001b[mgym                            \u001b[0m\u001b[mINFO       \u001b[0m\u001b[33m<16500.00> \u001b[0m\u001b[mStep reward: 0.0\u001b[0m\n"
     ]
    },
    {
     "name": "stderr",
     "output_type": "stream",
     "text": [
      "\u001b[90;3m2024-05-31 13:59:50,515 \u001b[0m\u001b[mgym                            \u001b[0m\u001b[mINFO       \u001b[0m\u001b[33m<16500.00> \u001b[0m\u001b[93;1m=== STARTING STEP ===\u001b[0m\n"
     ]
    },
    {
     "name": "stderr",
     "output_type": "stream",
     "text": [
      "\u001b[90;3m2024-05-31 13:59:50,515 \u001b[0m\u001b[36msats.satellite.Scanner-1       \u001b[0m\u001b[mINFO       \u001b[0m\u001b[33m<16500.00> \u001b[0m\u001b[36mScanner-1: \u001b[0m\u001b[maction_desat tasked for 60.0 seconds\u001b[0m\n"
     ]
    },
    {
     "name": "stderr",
     "output_type": "stream",
     "text": [
      "\u001b[90;3m2024-05-31 13:59:50,515 \u001b[0m\u001b[36msats.satellite.Scanner-1       \u001b[0m\u001b[mINFO       \u001b[0m\u001b[33m<16500.00> \u001b[0m\u001b[36mScanner-1: \u001b[0m\u001b[msetting timed terminal event at 16560.0\u001b[0m\n"
     ]
    },
    {
     "name": "stderr",
     "output_type": "stream",
     "text": [
      "\u001b[90;3m2024-05-31 13:59:50,516 \u001b[0m\u001b[msim.simulator                  \u001b[0m\u001b[mINFO       \u001b[0m\u001b[33m<16500.00> \u001b[0m\u001b[mRunning simulation at most to 17100.00 seconds\u001b[0m\n"
     ]
    },
    {
     "name": "stderr",
     "output_type": "stream",
     "text": [
      "\u001b[90;3m2024-05-31 13:59:50,520 \u001b[0m\u001b[36msats.satellite.Scanner-1       \u001b[0m\u001b[mINFO       \u001b[0m\u001b[33m<16560.00> \u001b[0m\u001b[36mScanner-1: \u001b[0m\u001b[mtimed termination at 16560.0 for action_desat\u001b[0m\n"
     ]
    },
    {
     "name": "stderr",
     "output_type": "stream",
     "text": [
      "\u001b[90;3m2024-05-31 13:59:50,520 \u001b[0m\u001b[mdata.base                      \u001b[0m\u001b[mINFO       \u001b[0m\u001b[33m<16560.00> \u001b[0m\u001b[mData reward: {'Scanner-1_4827225424': 0.0}\u001b[0m\n"
     ]
    },
    {
     "name": "stderr",
     "output_type": "stream",
     "text": [
      "\u001b[90;3m2024-05-31 13:59:50,521 \u001b[0m\u001b[mgym                            \u001b[0m\u001b[mINFO       \u001b[0m\u001b[33m<16560.00> \u001b[0m\u001b[mSatellites requiring retasking: ['Scanner-1_4827225424']\u001b[0m\n"
     ]
    },
    {
     "name": "stderr",
     "output_type": "stream",
     "text": [
      "\u001b[90;3m2024-05-31 13:59:50,521 \u001b[0m\u001b[mgym                            \u001b[0m\u001b[mINFO       \u001b[0m\u001b[33m<16560.00> \u001b[0m\u001b[mStep reward: 0.0\u001b[0m\n"
     ]
    },
    {
     "name": "stderr",
     "output_type": "stream",
     "text": [
      "\u001b[90;3m2024-05-31 13:59:50,522 \u001b[0m\u001b[mgym                            \u001b[0m\u001b[mINFO       \u001b[0m\u001b[33m<16560.00> \u001b[0m\u001b[93;1m=== STARTING STEP ===\u001b[0m\n"
     ]
    },
    {
     "name": "stderr",
     "output_type": "stream",
     "text": [
      "\u001b[90;3m2024-05-31 13:59:50,522 \u001b[0m\u001b[36msats.satellite.Scanner-1       \u001b[0m\u001b[mINFO       \u001b[0m\u001b[33m<16560.00> \u001b[0m\u001b[36mScanner-1: \u001b[0m\u001b[maction_downlink tasked for 60.0 seconds\u001b[0m\n"
     ]
    },
    {
     "name": "stderr",
     "output_type": "stream",
     "text": [
      "\u001b[90;3m2024-05-31 13:59:50,522 \u001b[0m\u001b[36msats.satellite.Scanner-1       \u001b[0m\u001b[mINFO       \u001b[0m\u001b[33m<16560.00> \u001b[0m\u001b[36mScanner-1: \u001b[0m\u001b[msetting timed terminal event at 16620.0\u001b[0m\n"
     ]
    },
    {
     "name": "stderr",
     "output_type": "stream",
     "text": [
      "\u001b[90;3m2024-05-31 13:59:50,522 \u001b[0m\u001b[msim.simulator                  \u001b[0m\u001b[mINFO       \u001b[0m\u001b[33m<16560.00> \u001b[0m\u001b[mRunning simulation at most to 17100.00 seconds\u001b[0m\n"
     ]
    },
    {
     "name": "stderr",
     "output_type": "stream",
     "text": [
      "\u001b[90;3m2024-05-31 13:59:50,526 \u001b[0m\u001b[36msats.satellite.Scanner-1       \u001b[0m\u001b[mINFO       \u001b[0m\u001b[33m<16620.00> \u001b[0m\u001b[36mScanner-1: \u001b[0m\u001b[mtimed termination at 16620.0 for action_downlink\u001b[0m\n"
     ]
    },
    {
     "name": "stderr",
     "output_type": "stream",
     "text": [
      "\u001b[90;3m2024-05-31 13:59:50,527 \u001b[0m\u001b[mdata.base                      \u001b[0m\u001b[mINFO       \u001b[0m\u001b[33m<16620.00> \u001b[0m\u001b[mData reward: {'Scanner-1_4827225424': 0.0}\u001b[0m\n"
     ]
    },
    {
     "name": "stderr",
     "output_type": "stream",
     "text": [
      "\u001b[90;3m2024-05-31 13:59:50,527 \u001b[0m\u001b[mgym                            \u001b[0m\u001b[mINFO       \u001b[0m\u001b[33m<16620.00> \u001b[0m\u001b[mSatellites requiring retasking: ['Scanner-1_4827225424']\u001b[0m\n"
     ]
    },
    {
     "name": "stderr",
     "output_type": "stream",
     "text": [
      "\u001b[90;3m2024-05-31 13:59:50,528 \u001b[0m\u001b[mgym                            \u001b[0m\u001b[mINFO       \u001b[0m\u001b[33m<16620.00> \u001b[0m\u001b[mStep reward: 0.0\u001b[0m\n"
     ]
    },
    {
     "name": "stderr",
     "output_type": "stream",
     "text": [
      "\u001b[90;3m2024-05-31 13:59:50,528 \u001b[0m\u001b[mgym                            \u001b[0m\u001b[mINFO       \u001b[0m\u001b[33m<16620.00> \u001b[0m\u001b[93;1m=== STARTING STEP ===\u001b[0m\n"
     ]
    },
    {
     "name": "stderr",
     "output_type": "stream",
     "text": [
      "\u001b[90;3m2024-05-31 13:59:50,528 \u001b[0m\u001b[36msats.satellite.Scanner-1       \u001b[0m\u001b[mINFO       \u001b[0m\u001b[33m<16620.00> \u001b[0m\u001b[36mScanner-1: \u001b[0m\u001b[maction_nadir_scan tasked for 180.0 seconds\u001b[0m\n"
     ]
    },
    {
     "name": "stderr",
     "output_type": "stream",
     "text": [
      "\u001b[90;3m2024-05-31 13:59:50,528 \u001b[0m\u001b[36msats.satellite.Scanner-1       \u001b[0m\u001b[mINFO       \u001b[0m\u001b[33m<16620.00> \u001b[0m\u001b[36mScanner-1: \u001b[0m\u001b[msetting timed terminal event at 16800.0\u001b[0m\n"
     ]
    },
    {
     "name": "stderr",
     "output_type": "stream",
     "text": [
      "\u001b[90;3m2024-05-31 13:59:50,529 \u001b[0m\u001b[msim.simulator                  \u001b[0m\u001b[mINFO       \u001b[0m\u001b[33m<16620.00> \u001b[0m\u001b[mRunning simulation at most to 17100.00 seconds\u001b[0m\n"
     ]
    },
    {
     "name": "stderr",
     "output_type": "stream",
     "text": [
      "\u001b[90;3m2024-05-31 13:59:50,539 \u001b[0m\u001b[36msats.satellite.Scanner-1       \u001b[0m\u001b[mINFO       \u001b[0m\u001b[33m<16800.00> \u001b[0m\u001b[36mScanner-1: \u001b[0m\u001b[mtimed termination at 16800.0 for action_nadir_scan\u001b[0m\n"
     ]
    },
    {
     "name": "stderr",
     "output_type": "stream",
     "text": [
      "\u001b[90;3m2024-05-31 13:59:50,540 \u001b[0m\u001b[mdata.base                      \u001b[0m\u001b[mINFO       \u001b[0m\u001b[33m<16800.00> \u001b[0m\u001b[mData reward: {'Scanner-1_4827225424': 0.008187134502923977}\u001b[0m\n"
     ]
    },
    {
     "name": "stderr",
     "output_type": "stream",
     "text": [
      "\u001b[90;3m2024-05-31 13:59:50,541 \u001b[0m\u001b[mgym                            \u001b[0m\u001b[mINFO       \u001b[0m\u001b[33m<16800.00> \u001b[0m\u001b[mSatellites requiring retasking: ['Scanner-1_4827225424']\u001b[0m\n"
     ]
    },
    {
     "name": "stderr",
     "output_type": "stream",
     "text": [
      "\u001b[90;3m2024-05-31 13:59:50,541 \u001b[0m\u001b[mgym                            \u001b[0m\u001b[mINFO       \u001b[0m\u001b[33m<16800.00> \u001b[0m\u001b[mStep reward: 0.008187134502923977\u001b[0m\n"
     ]
    },
    {
     "name": "stderr",
     "output_type": "stream",
     "text": [
      "\u001b[90;3m2024-05-31 13:59:50,542 \u001b[0m\u001b[mgym                            \u001b[0m\u001b[mINFO       \u001b[0m\u001b[33m<16800.00> \u001b[0m\u001b[93;1m=== STARTING STEP ===\u001b[0m\n"
     ]
    },
    {
     "name": "stderr",
     "output_type": "stream",
     "text": [
      "\u001b[90;3m2024-05-31 13:59:50,542 \u001b[0m\u001b[36msats.satellite.Scanner-1       \u001b[0m\u001b[mINFO       \u001b[0m\u001b[33m<16800.00> \u001b[0m\u001b[36mScanner-1: \u001b[0m\u001b[maction_nadir_scan tasked for 180.0 seconds\u001b[0m\n"
     ]
    },
    {
     "name": "stderr",
     "output_type": "stream",
     "text": [
      "\u001b[90;3m2024-05-31 13:59:50,542 \u001b[0m\u001b[36msats.satellite.Scanner-1       \u001b[0m\u001b[mINFO       \u001b[0m\u001b[33m<16800.00> \u001b[0m\u001b[36mScanner-1: \u001b[0m\u001b[msetting timed terminal event at 16980.0\u001b[0m\n"
     ]
    },
    {
     "name": "stderr",
     "output_type": "stream",
     "text": [
      "\u001b[90;3m2024-05-31 13:59:50,542 \u001b[0m\u001b[msim.simulator                  \u001b[0m\u001b[mINFO       \u001b[0m\u001b[33m<16800.00> \u001b[0m\u001b[mRunning simulation at most to 17100.00 seconds\u001b[0m\n"
     ]
    },
    {
     "name": "stderr",
     "output_type": "stream",
     "text": [
      "\u001b[90;3m2024-05-31 13:59:50,554 \u001b[0m\u001b[36msats.satellite.Scanner-1       \u001b[0m\u001b[mINFO       \u001b[0m\u001b[33m<16980.00> \u001b[0m\u001b[36mScanner-1: \u001b[0m\u001b[mtimed termination at 16980.0 for action_nadir_scan\u001b[0m\n"
     ]
    },
    {
     "name": "stderr",
     "output_type": "stream",
     "text": [
      "\u001b[90;3m2024-05-31 13:59:50,555 \u001b[0m\u001b[mdata.base                      \u001b[0m\u001b[mINFO       \u001b[0m\u001b[33m<16980.00> \u001b[0m\u001b[mData reward: {'Scanner-1_4827225424': 0.010526315789473684}\u001b[0m\n"
     ]
    },
    {
     "name": "stderr",
     "output_type": "stream",
     "text": [
      "\u001b[90;3m2024-05-31 13:59:50,556 \u001b[0m\u001b[mgym                            \u001b[0m\u001b[mINFO       \u001b[0m\u001b[33m<16980.00> \u001b[0m\u001b[mSatellites requiring retasking: ['Scanner-1_4827225424']\u001b[0m\n"
     ]
    },
    {
     "name": "stderr",
     "output_type": "stream",
     "text": [
      "\u001b[90;3m2024-05-31 13:59:50,556 \u001b[0m\u001b[mgym                            \u001b[0m\u001b[mINFO       \u001b[0m\u001b[33m<16980.00> \u001b[0m\u001b[mStep reward: 0.010526315789473684\u001b[0m\n"
     ]
    },
    {
     "name": "stderr",
     "output_type": "stream",
     "text": [
      "\u001b[90;3m2024-05-31 13:59:50,557 \u001b[0m\u001b[mgym                            \u001b[0m\u001b[mINFO       \u001b[0m\u001b[33m<16980.00> \u001b[0m\u001b[93;1m=== STARTING STEP ===\u001b[0m\n"
     ]
    },
    {
     "name": "stderr",
     "output_type": "stream",
     "text": [
      "\u001b[90;3m2024-05-31 13:59:50,557 \u001b[0m\u001b[36msats.satellite.Scanner-1       \u001b[0m\u001b[mINFO       \u001b[0m\u001b[33m<16980.00> \u001b[0m\u001b[36mScanner-1: \u001b[0m\u001b[maction_charge tasked for 180.0 seconds\u001b[0m\n"
     ]
    },
    {
     "name": "stderr",
     "output_type": "stream",
     "text": [
      "\u001b[90;3m2024-05-31 13:59:50,557 \u001b[0m\u001b[36msats.satellite.Scanner-1       \u001b[0m\u001b[mINFO       \u001b[0m\u001b[33m<16980.00> \u001b[0m\u001b[36mScanner-1: \u001b[0m\u001b[msetting timed terminal event at 17160.0\u001b[0m\n"
     ]
    },
    {
     "name": "stderr",
     "output_type": "stream",
     "text": [
      "\u001b[90;3m2024-05-31 13:59:50,558 \u001b[0m\u001b[msim.simulator                  \u001b[0m\u001b[mINFO       \u001b[0m\u001b[33m<16980.00> \u001b[0m\u001b[mRunning simulation at most to 17100.00 seconds\u001b[0m\n"
     ]
    },
    {
     "name": "stderr",
     "output_type": "stream",
     "text": [
      "\u001b[90;3m2024-05-31 13:59:50,566 \u001b[0m\u001b[mdata.base                      \u001b[0m\u001b[mINFO       \u001b[0m\u001b[33m<17100.00> \u001b[0m\u001b[mData reward: {'Scanner-1_4827225424': 0.0}\u001b[0m\n"
     ]
    },
    {
     "name": "stderr",
     "output_type": "stream",
     "text": [
      "\u001b[90;3m2024-05-31 13:59:50,567 \u001b[0m\u001b[mgym                            \u001b[0m\u001b[mINFO       \u001b[0m\u001b[33m<17100.00> \u001b[0m\u001b[mStep reward: 0.0\u001b[0m\n"
     ]
    },
    {
     "name": "stderr",
     "output_type": "stream",
     "text": [
      "\u001b[90;3m2024-05-31 13:59:50,567 \u001b[0m\u001b[mgym                            \u001b[0m\u001b[mINFO       \u001b[0m\u001b[33m<17100.00> \u001b[0m\u001b[mEpisode terminated: True\u001b[0m\n"
     ]
    },
    {
     "name": "stderr",
     "output_type": "stream",
     "text": [
      "\u001b[90;3m2024-05-31 13:59:50,567 \u001b[0m\u001b[mgym                            \u001b[0m\u001b[mINFO       \u001b[0m\u001b[33m<17100.00> \u001b[0m\u001b[mEpisode truncated: True\u001b[0m\n"
     ]
    }
   ],
   "source": [
    "env = SatelliteTasking(**env_args, log_level=\"INFO\")\n",
    "env.reset()\n",
    "terminated = False\n",
    "while not terminated:\n",
    "    action = env.action_space.sample()\n",
    "    observation, reward, terminated, truncated, info = env.step(action)"
   ]
  }
 ],
 "metadata": {
  "kernelspec": {
   "display_name": ".venv_refactor",
   "language": "python",
   "name": "python3"
  },
  "language_info": {
   "codemirror_mode": {
    "name": "ipython",
    "version": 3
   },
   "file_extension": ".py",
   "mimetype": "text/x-python",
   "name": "python",
   "nbconvert_exporter": "python",
   "pygments_lexer": "ipython3",
   "version": "3.10.11"
  }
 },
 "nbformat": 4,
 "nbformat_minor": 2
}
