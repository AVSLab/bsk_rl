{
 "cells": [
  {
   "cell_type": "markdown",
   "metadata": {},
   "source": [
    "# Training with RLlib PPO\n",
    "[RLlib](https://docs.ray.io/en/latest/rllib/index.html) is a high-performance, distributed\n",
    "reinforcement learning library. It is preferable to other RL libraries (e.g. Stable Baselines\n",
    "3) for `bsk_rl` environments because it steps environments copies asynchronously; because \n",
    "of the variable step lengths, variable episode step counts, and long episode reset times, \n",
    "stepping each environment independently can increase step throughput by 2-5 times.\n",
    "\n",
    "<div class=\"alert alert-warning\">\n",
    "\n",
    "**Warning:** RLlib had a bug that results in an undesirable timeout which stops\n",
    "training. It has since been resolved: https://github.com/ray-project/ray/pull/45147\n",
    "\n",
    "</div>\n",
    "\n",
    "RLlib is actively developed and can change significantly from version to version. For this\n",
    "script, the following version is used:"
   ]
  },
  {
   "cell_type": "code",
   "execution_count": 1,
   "metadata": {
    "execution": {
     "iopub.execute_input": "2024-09-12T21:06:09.042365Z",
     "iopub.status.busy": "2024-09-12T21:06:09.042207Z",
     "iopub.status.idle": "2024-09-12T21:06:09.053857Z",
     "shell.execute_reply": "2024-09-12T21:06:09.053512Z"
    }
   },
   "outputs": [
    {
     "data": {
      "text/plain": [
       "'2.35.0'"
      ]
     },
     "execution_count": 1,
     "metadata": {},
     "output_type": "execute_result"
    }
   ],
   "source": [
    "from importlib.metadata import version\n",
    "version(\"ray\")  # Parent package of RLlib"
   ]
  },
  {
   "cell_type": "markdown",
   "metadata": {},
   "source": [
    "## Define the Environment\n",
    "A nadir-scanning environment is created, to the one used in [this paper](https://hanspeterschaub.info/Papers/Stephenson2024.pdf). \n",
    "The satellite has to collect data while managing the data buffer level and battery level.\n",
    "\n",
    "First, the satellite class is defined. A custom dynamics model is created that defines\n",
    "a few additional properties to use in the state."
   ]
  },
  {
   "cell_type": "code",
   "execution_count": 2,
   "metadata": {
    "execution": {
     "iopub.execute_input": "2024-09-12T21:06:09.055640Z",
     "iopub.status.busy": "2024-09-12T21:06:09.055511Z",
     "iopub.status.idle": "2024-09-12T21:06:09.906270Z",
     "shell.execute_reply": "2024-09-12T21:06:09.905888Z"
    }
   },
   "outputs": [],
   "source": [
    "import numpy as np\n",
    "from bsk_rl import act, data, obs, sats, scene\n",
    "from bsk_rl.sim import dyn, fsw\n",
    "\n",
    "class ScanningDownlinkDynModel(dyn.ContinuousImagingDynModel, dyn.GroundStationDynModel):\n",
    "    # Define some custom properties to be accessed in the state\n",
    "    @property\n",
    "    def instrument_pointing_error(self) -> float:\n",
    "        r_BN_P_unit = self.r_BN_P/np.linalg.norm(self.r_BN_P) \n",
    "        c_hat_P = self.satellite.fsw.c_hat_P\n",
    "        return np.arccos(np.dot(-r_BN_P_unit, c_hat_P))\n",
    "    \n",
    "    @property\n",
    "    def solar_pointing_error(self) -> float:\n",
    "        a = self.world.gravFactory.spiceObject.planetStateOutMsgs[\n",
    "            self.world.sun_index\n",
    "        ].read().PositionVector\n",
    "        a_hat_N = a / np.linalg.norm(a)\n",
    "        nHat_B = self.satellite.sat_args[\"nHat_B\"]\n",
    "        NB = np.transpose(self.BN)\n",
    "        nHat_N = NB @ nHat_B\n",
    "        return np.arccos(np.dot(nHat_N, a_hat_N))\n",
    "\n",
    "class ScanningSatellite(sats.AccessSatellite):\n",
    "    observation_spec = [\n",
    "        obs.SatProperties(\n",
    "            dict(prop=\"storage_level_fraction\"),\n",
    "            dict(prop=\"battery_charge_fraction\"),\n",
    "            dict(prop=\"wheel_speeds_fraction\"),\n",
    "            dict(prop=\"instrument_pointing_error\", norm=np.pi),\n",
    "            dict(prop=\"solar_pointing_error\", norm=np.pi)\n",
    "        ),\n",
    "        obs.OpportunityProperties(\n",
    "            dict(prop=\"opportunity_open\", norm=5700),\n",
    "            dict(prop=\"opportunity_close\", norm=5700),\n",
    "            type=\"ground_station\",\n",
    "            n_ahead_observe=1,\n",
    "        ),\n",
    "        obs.Eclipse(norm=5700),\n",
    "        obs.Time(),\n",
    "    ]\n",
    "    action_spec = [\n",
    "        act.Scan(duration=180.0),\n",
    "        act.Charge(duration=120.0),\n",
    "        act.Downlink(duration=60.0),\n",
    "        act.Desat(duration=60.0),\n",
    "    ]\n",
    "    dyn_type = ScanningDownlinkDynModel\n",
    "    fsw_type = fsw.ContinuousImagingFSWModel"
   ]
  },
  {
   "cell_type": "markdown",
   "metadata": {},
   "source": [
    "Next, parameters are set. Since this scenario is focused on maintaining acceptable data\n",
    "and power levels, these are tuned to create a sufficiently interesting mission."
   ]
  },
  {
   "cell_type": "code",
   "execution_count": 3,
   "metadata": {
    "execution": {
     "iopub.execute_input": "2024-09-12T21:06:09.908068Z",
     "iopub.status.busy": "2024-09-12T21:06:09.907913Z",
     "iopub.status.idle": "2024-09-12T21:06:09.911006Z",
     "shell.execute_reply": "2024-09-12T21:06:09.910765Z"
    }
   },
   "outputs": [],
   "source": [
    "sat = ScanningSatellite(\n",
    "    \"Scanner-1\",\n",
    "    sat_args=dict(\n",
    "        # Data\n",
    "        dataStorageCapacity=5000 * 8e6,  # bits\n",
    "        storageInit=lambda: np.random.uniform(0.0, 0.8) * 5000 * 8e6,\n",
    "        instrumentBaudRate=0.5 * 8e6,\n",
    "        transmitterBaudRate=-50 * 8e6,\n",
    "        # Power\n",
    "        batteryStorageCapacity=200 * 3600,  # W*s\n",
    "        storedCharge_Init=lambda: np.random.uniform(0.3, 1.0) * 200 * 3600,\n",
    "        basePowerDraw=-10.0,  # W\n",
    "        instrumentPowerDraw=-30.0,  # W\n",
    "        transmitterPowerDraw=-25.0,  # W\n",
    "        thrusterPowerDraw=-80.0,  # W\n",
    "        panelArea=0.25,\n",
    "        # Attitude\n",
    "        imageAttErrorRequirement=0.1,\n",
    "        imageRateErrorRequirement=0.1,\n",
    "        disturbance_vector=lambda: np.random.normal(scale=0.0001, size=3),  # N*m\n",
    "        maxWheelSpeed=6000.0,  # RPM\n",
    "        wheelSpeeds=lambda: np.random.uniform(-3000, 3000, 3),\n",
    "        desatAttitude=\"nadir\",\n",
    "    )\n",
    ")"
   ]
  },
  {
   "cell_type": "markdown",
   "metadata": {},
   "source": [
    "Finally, the environment arguments are set. Stepping through this environment is \n",
    "demonstrated at the bottom of the page."
   ]
  },
  {
   "cell_type": "code",
   "execution_count": 4,
   "metadata": {
    "execution": {
     "iopub.execute_input": "2024-09-12T21:06:09.912456Z",
     "iopub.status.busy": "2024-09-12T21:06:09.912367Z",
     "iopub.status.idle": "2024-09-12T21:06:09.914222Z",
     "shell.execute_reply": "2024-09-12T21:06:09.913922Z"
    }
   },
   "outputs": [],
   "source": [
    "duration = 5 * 5700.0  # About 5 orbits\n",
    "env_args = dict(\n",
    "    satellite=sat,\n",
    "    scenario=scene.UniformNadirScanning(value_per_second=1/duration),\n",
    "    rewarder=data.ScanningTimeReward(),\n",
    "    time_limit=duration,\n",
    "    failure_penalty=-1.0,\n",
    "    terminate_on_time_limit=True,\n",
    ")"
   ]
  },
  {
   "cell_type": "markdown",
   "metadata": {},
   "source": [
    "## Set Up Custom Logging\n",
    "\n",
    "The `bsk_rl` package supplies a utility to make logging information at the end of episodes\n",
    "easier. This is useful to see how an agent's policy is changing over time, using a\n",
    "monitoring program such as [TensorBoard](https://www.tensorflow.org/tensorboard). The callback \n",
    "is configured by writing a function that takes the environment as an input and returns a\n",
    "dictionary with values to be logged."
   ]
  },
  {
   "cell_type": "code",
   "execution_count": 5,
   "metadata": {
    "execution": {
     "iopub.execute_input": "2024-09-12T21:06:09.915547Z",
     "iopub.status.busy": "2024-09-12T21:06:09.915467Z",
     "iopub.status.idle": "2024-09-12T21:06:09.917823Z",
     "shell.execute_reply": "2024-09-12T21:06:09.917567Z"
    }
   },
   "outputs": [],
   "source": [
    "def episode_data_callback(env):\n",
    "    reward = env.rewarder.cum_reward\n",
    "    reward = sum(reward.values()) / len(reward)\n",
    "    orbits = env.simulator.sim_time / (95 * 60)\n",
    "\n",
    "    data = dict(\n",
    "        reward=reward,\n",
    "        # Are satellites dying, and how and when?\n",
    "        alive=float(env.satellite.is_alive()),\n",
    "        rw_status_valid=float(env.satellite.dynamics.rw_speeds_valid()),\n",
    "        battery_status_valid=float(env.satellite.dynamics.battery_valid()),\n",
    "        orbits_complete=orbits,\n",
    "    )\n",
    "    if orbits > 0:\n",
    "        data[\"reward_per_orbit\"] = reward / orbits\n",
    "    if not env.satellite.is_alive():\n",
    "        data[\"orbits_complete_partial_only\"] = orbits\n",
    "        \n",
    "    return data"
   ]
  },
  {
   "cell_type": "markdown",
   "metadata": {},
   "source": [
    "## Configure Ray and PPO\n",
    "\n",
    "PPO (or some other algorithm) can be configured. Of particular importance\n",
    "are setting `sample_timeout_s` and `metrics_episode_collection_timeout_s` to appropriately\n",
    "high values for this environment. The `episode_data_callback` is included in the environment\n",
    "arguments, and the `WrappedEpisodeDataCallbacks` must be included in training to trigger\n",
    "logging."
   ]
  },
  {
   "cell_type": "code",
   "execution_count": 6,
   "metadata": {
    "execution": {
     "iopub.execute_input": "2024-09-12T21:06:09.919168Z",
     "iopub.status.busy": "2024-09-12T21:06:09.919089Z",
     "iopub.status.idle": "2024-09-12T21:06:16.923929Z",
     "shell.execute_reply": "2024-09-12T21:06:16.923642Z"
    }
   },
   "outputs": [],
   "source": [
    "import bsk_rl.utils.rllib  # noqa To access \"SatelliteTasking-RLlib\"\n",
    "from ray.rllib.algorithms.ppo import PPOConfig\n",
    "from bsk_rl.utils.rllib.callbacks import WrappedEpisodeDataCallbacks\n",
    "\n",
    "N_CPUS = 3\n",
    "\n",
    "training_args = dict(\n",
    "    lr=0.00003,\n",
    "    gamma=0.999,\n",
    "    train_batch_size=250,  # usually a larger number, like 2500\n",
    "    num_sgd_iter=10,\n",
    "    model=dict(fcnet_hiddens=[512, 512], vf_share_layers=False),\n",
    "    lambda_=0.95,\n",
    "    use_kl_loss=False,\n",
    "    clip_param=0.1,\n",
    "    grad_clip=0.5,\n",
    ")\n",
    "\n",
    "config = (\n",
    "    PPOConfig()\n",
    "    .training(**training_args)\n",
    "    .env_runners(num_env_runners=N_CPUS-1, sample_timeout_s=1000.0)\n",
    "    .environment(\n",
    "        env=\"SatelliteTasking-RLlib\",\n",
    "        env_config=dict(**env_args, episode_data_callback=episode_data_callback),\n",
    "    )\n",
    "    .reporting(\n",
    "        metrics_num_episodes_for_smoothing=1,\n",
    "        metrics_episode_collection_timeout_s=180,\n",
    "    )\n",
    "    .checkpointing(export_native_model_files=True)\n",
    "    .framework(framework=\"torch\")\n",
    "    .api_stack(\n",
    "        enable_rl_module_and_learner=True,\n",
    "        enable_env_runner_and_connector_v2=True,\n",
    "    )\n",
    "    .callbacks(WrappedEpisodeDataCallbacks)\n",
    ")"
   ]
  },
  {
   "cell_type": "markdown",
   "metadata": {},
   "source": [
    "Once the PPO configuration has been set, `ray` can be started and the agent can be\n",
    "trained.\n",
    "\n",
    "Training on a reasonably modern machine, we can achieve 5M steps over 32 processors in 6\n",
    "to 18 hours, depending on specific environment configurations.\n",
    "\n",
    "Note that the custom logging metrics are reported under env_runners."
   ]
  },
  {
   "cell_type": "code",
   "execution_count": 7,
   "metadata": {
    "execution": {
     "iopub.execute_input": "2024-09-12T21:06:16.925943Z",
     "iopub.status.busy": "2024-09-12T21:06:16.925657Z",
     "iopub.status.idle": "2024-09-12T21:06:45.126733Z",
     "shell.execute_reply": "2024-09-12T21:06:45.125882Z"
    }
   },
   "outputs": [
    {
     "name": "stderr",
     "output_type": "stream",
     "text": [
      "2024-09-12 15:06:17,569\tINFO worker.py:1783 -- Started a local Ray instance.\n"
     ]
    },
    {
     "name": "stderr",
     "output_type": "stream",
     "text": [
      "2024-09-12 15:06:17,819\tINFO tune.py:616 -- [output] This uses the legacy output and progress reporter, as Jupyter notebooks are not supported by the new engine, yet. For more information, please see https://github.com/ray-project/ray/issues/36949\n"
     ]
    },
    {
     "name": "stderr",
     "output_type": "stream",
     "text": [
      "/Users/markstephenson/avslab/refactor/.venv_refactor/lib/python3.10/site-packages/gymnasium/spaces/box.py:130: UserWarning: \u001b[33mWARN: Box bound precision lowered by casting to float32\u001b[0m\n",
      "  gym.logger.warn(f\"Box bound precision lowered by casting to {self.dtype}\")\n",
      "/Users/markstephenson/avslab/refactor/.venv_refactor/lib/python3.10/site-packages/gymnasium/utils/passive_env_checker.py:164: UserWarning: \u001b[33mWARN: The obs returned by the `reset()` method was expecting numpy array dtype to be float32, actual type: float64\u001b[0m\n",
      "  logger.warn(\n",
      "/Users/markstephenson/avslab/refactor/.venv_refactor/lib/python3.10/site-packages/gymnasium/utils/passive_env_checker.py:188: UserWarning: \u001b[33mWARN: The obs returned by the `reset()` method is not within the observation space.\u001b[0m\n",
      "  logger.warn(f\"{pre} is not within the observation space.\")\n"
     ]
    },
    {
     "data": {
      "text/html": [
       "<div class=\"tuneStatus\">\n",
       "  <div style=\"display: flex;flex-direction: row\">\n",
       "    <div style=\"display: flex;flex-direction: column;\">\n",
       "      <h3>Tune Status</h3>\n",
       "      <table>\n",
       "<tbody>\n",
       "<tr><td>Current time:</td><td>2024-09-12 15:06:43</td></tr>\n",
       "<tr><td>Running for: </td><td>00:00:25.49        </td></tr>\n",
       "<tr><td>Memory:      </td><td>13.4/16.0 GiB      </td></tr>\n",
       "</tbody>\n",
       "</table>\n",
       "    </div>\n",
       "    <div class=\"vDivider\"></div>\n",
       "    <div class=\"systemInfo\">\n",
       "      <h3>System Info</h3>\n",
       "      Using FIFO scheduling algorithm.<br>Logical resource usage: 3.0/3 CPUs, 0/0 GPUs\n",
       "    </div>\n",
       "    \n",
       "  </div>\n",
       "  <div class=\"hDivider\"></div>\n",
       "  <div class=\"trialStatus\">\n",
       "    <h3>Trial Status</h3>\n",
       "    <table>\n",
       "<thead>\n",
       "<tr><th>Trial name                            </th><th>status    </th><th>loc            </th><th style=\"text-align: right;\">  iter</th><th style=\"text-align: right;\">  total time (s)</th><th style=\"text-align: right;\">     num_env_steps_sample\n",
       "d_lifetime</th><th style=\"text-align: right;\">   num_episodes_lifetim\n",
       "e</th><th style=\"text-align: right;\">     num_env_steps_traine\n",
       "d_lifetime</th></tr>\n",
       "</thead>\n",
       "<tbody>\n",
       "<tr><td>PPO_SatelliteTasking-RLlib_da747_00000</td><td>TERMINATED</td><td>127.0.0.1:96080</td><td style=\"text-align: right;\">    10</td><td style=\"text-align: right;\">         14.5088</td><td style=\"text-align: right;\">2500</td><td style=\"text-align: right;\">12</td><td style=\"text-align: right;\">2500</td></tr>\n",
       "</tbody>\n",
       "</table>\n",
       "  </div>\n",
       "</div>\n",
       "<style>\n",
       ".tuneStatus {\n",
       "  color: var(--jp-ui-font-color1);\n",
       "}\n",
       ".tuneStatus .systemInfo {\n",
       "  display: flex;\n",
       "  flex-direction: column;\n",
       "}\n",
       ".tuneStatus td {\n",
       "  white-space: nowrap;\n",
       "}\n",
       ".tuneStatus .trialStatus {\n",
       "  display: flex;\n",
       "  flex-direction: column;\n",
       "}\n",
       ".tuneStatus h3 {\n",
       "  font-weight: bold;\n",
       "}\n",
       ".tuneStatus .hDivider {\n",
       "  border-bottom-width: var(--jp-border-width);\n",
       "  border-bottom-color: var(--jp-border-color0);\n",
       "  border-bottom-style: solid;\n",
       "}\n",
       ".tuneStatus .vDivider {\n",
       "  border-left-width: var(--jp-border-width);\n",
       "  border-left-color: var(--jp-border-color0);\n",
       "  border-left-style: solid;\n",
       "  margin: 0.5em 1em 0.5em 1em;\n",
       "}\n",
       "</style>\n"
      ],
      "text/plain": [
       "<IPython.core.display.HTML object>"
      ]
     },
     "metadata": {},
     "output_type": "display_data"
    },
    {
     "name": "stderr",
     "output_type": "stream",
     "text": [
      "\u001b[36m(PPO pid=96080)\u001b[0m Install gputil for GPU system monitoring.\n"
     ]
    },
    {
     "data": {
      "text/html": [
       "<div class=\"trialProgress\">\n",
       "  <h3>Trial Progress</h3>\n",
       "  <table>\n",
       "<thead>\n",
       "<tr><th>Trial name                            </th><th>env_runners                                                                                                                                                                                                                                                                                                                                                                                                                                                                                                                                                                                                                                                                                                                                                                                                                                                                                                                                                                                                                                                   </th><th>fault_tolerance                                                                           </th><th>learners                                                                                                                                                                                                                                                                                                                                                                                                                                                                                                                                                                                                                                                                                                         </th><th>num_agent_steps_sampled_lifetime  </th><th style=\"text-align: right;\">  num_env_steps_sampled_lifetime</th><th style=\"text-align: right;\">  num_env_steps_trained_lifetime</th><th style=\"text-align: right;\">  num_episodes_lifetime</th><th>perf                                                </th><th>timers                                                                                                                                                                              </th></tr>\n",
       "</thead>\n",
       "<tbody>\n",
       "<tr><td>PPO_SatelliteTasking-RLlib_da747_00000</td><td>{&#x27;num_episodes&#x27;: 2, &#x27;num_module_steps_sampled&#x27;: {&#x27;default_policy&#x27;: 250}, &#x27;reward&#x27;: 0.40487192982456155, &#x27;sample&#x27;: 1.2900817312067883, &#x27;num_module_steps_sampled_lifetime&#x27;: {&#x27;default_policy&#x27;: 13750}, &#x27;orbits_complete&#x27;: 4.957157894736842, &#x27;num_env_steps_sampled&#x27;: 250, &#x27;num_agent_steps_sampled&#x27;: {&#x27;default_agent&#x27;: 250}, &#x27;rw_status_valid&#x27;: 1.0, &#x27;battery_status_valid&#x27;: 0.99, &#x27;num_env_steps_sampled_lifetime&#x27;: 25000, &#x27;num_agent_steps_sampled_lifetime&#x27;: {&#x27;default_agent&#x27;: 13750}, &#x27;alive&#x27;: 0.99, &#x27;module_episode_returns_mean&#x27;: {&#x27;default_policy&#x27;: -0.7653859649122806}, &#x27;episode_len_mean&#x27;: 135.0, &#x27;reward_per_orbit&#x27;: 0.08157333539731684, &#x27;episode_len_min&#x27;: 36, &#x27;episode_return_max&#x27;: -0.5808070175438594, &#x27;agent_episode_returns_mean&#x27;: {&#x27;default_agent&#x27;: -0.7653859649122806}, &#x27;episode_len_max&#x27;: 234, &#x27;orbits_complete_partial_only&#x27;: 0.7157894736842106, &#x27;time_between_sampling&#x27;: 0.11275066755158615, &#x27;episode_return_mean&#x27;: -0.7653859649122806, &#x27;episode_duration_sec_mean&#x27;: 1.4712897290301044, &#x27;episode_return_min&#x27;: -0.9499649122807018}</td><td>{&#x27;num_healthy_workers&#x27;: 2, &#x27;num_in_flight_async_reqs&#x27;: 0, &#x27;num_remote_worker_restarts&#x27;: 0}</td><td>{&#x27;default_policy&#x27;: {&#x27;curr_entropy_coeff&#x27;: 0.0, &#x27;vf_explained_var&#x27;: 0.19891756772994995, &#x27;num_module_steps_trained&#x27;: 250, &#x27;vf_loss_unclipped&#x27;: 0.04255196452140808, &#x27;policy_loss&#x27;: 0.26024314761161804, &#x27;num_non_trainable_parameters&#x27;: 0.0, &#x27;gradients_default_optimizer_global_norm&#x27;: 0.5620529651641846, &#x27;default_optimizer_learning_rate&#x27;: 3e-05, &#x27;num_trainable_parameters&#x27;: 139525.0, &#x27;mean_kl_loss&#x27;: 0.0, &#x27;total_loss&#x27;: 0.3027951121330261, &#x27;vf_loss&#x27;: 0.04255196452140808, &#x27;entropy&#x27;: 1.353834629058838}, &#x27;__all_modules__&#x27;: {&#x27;num_module_steps_trained&#x27;: 250, &#x27;num_non_trainable_parameters&#x27;: 0.0, &#x27;total_loss&#x27;: 0.3027951121330261, &#x27;num_trainable_parameters&#x27;: 139525.0, &#x27;num_env_steps_trained&#x27;: 250}}</td><td>{&#x27;default_agent&#x27;: 2500}           </td><td style=\"text-align: right;\">                            2500</td><td style=\"text-align: right;\">                            2500</td><td style=\"text-align: right;\">                     12</td><td>{&#x27;cpu_util_percent&#x27;: 23.9, &#x27;ram_util_percent&#x27;: 84.4}</td><td>{&#x27;env_runner_sampling_timer&#x27;: 1.3166690483695032, &#x27;learner_update_timer&#x27;: 0.06828840010371885, &#x27;synch_weights&#x27;: 0.0038879869585440557, &#x27;synch_env_connectors&#x27;: 0.005117139493842671}</td></tr>\n",
       "</tbody>\n",
       "</table>\n",
       "</div>\n",
       "<style>\n",
       ".trialProgress {\n",
       "  display: flex;\n",
       "  flex-direction: column;\n",
       "  color: var(--jp-ui-font-color1);\n",
       "}\n",
       ".trialProgress h3 {\n",
       "  font-weight: bold;\n",
       "}\n",
       ".trialProgress td {\n",
       "  white-space: nowrap;\n",
       "}\n",
       "</style>\n"
      ],
      "text/plain": [
       "<IPython.core.display.HTML object>"
      ]
     },
     "metadata": {},
     "output_type": "display_data"
    },
    {
     "name": "stderr",
     "output_type": "stream",
     "text": [
      "\u001b[36m(SingleAgentEnvRunner pid=96082)\u001b[0m \u001b[90;3m2024-09-12 15:06:30,207 \u001b[0m\u001b[36msats.satellite.Scanner-1       \u001b[0m\u001b[93mWARNING    \u001b[0m\u001b[33m<15360.00> \u001b[0m\u001b[36mScanner-1: \u001b[0m\u001b[93mfailed battery_valid check\u001b[0m\n"
     ]
    },
    {
     "name": "stderr",
     "output_type": "stream",
     "text": [
      "\u001b[36m(SingleAgentEnvRunner pid=96083)\u001b[0m \u001b[90;3m2024-09-12 15:06:35,744 \u001b[0m\u001b[36msats.satellite.Scanner-1       \u001b[0m\u001b[93mWARNING    \u001b[0m\u001b[33m<27840.00> \u001b[0m\u001b[36mScanner-1: \u001b[0m\u001b[93mfailed battery_valid check\u001b[0m\u001b[32m [repeated 4x across cluster] (Ray deduplicates logs by default. Set RAY_DEDUP_LOGS=0 to disable log deduplication, or see https://docs.ray.io/en/master/ray-observability/user-guides/configure-logging.html#log-deduplication for more options.)\u001b[0m\n"
     ]
    },
    {
     "name": "stderr",
     "output_type": "stream",
     "text": [
      "\u001b[36m(SingleAgentEnvRunner pid=96083)\u001b[0m \u001b[90;3m2024-09-12 15:06:41,033 \u001b[0m\u001b[36msats.satellite.Scanner-1       \u001b[0m\u001b[93mWARNING    \u001b[0m\u001b[33m<26460.00> \u001b[0m\u001b[36mScanner-1: \u001b[0m\u001b[93mfailed battery_valid check\u001b[0m\u001b[32m [repeated 3x across cluster]\u001b[0m\n"
     ]
    },
    {
     "name": "stderr",
     "output_type": "stream",
     "text": [
      "\u001b[36m(PPO pid=96080)\u001b[0m Checkpoint successfully created at: Checkpoint(filesystem=local, path=/Users/markstephenson/ray_results/PPO_2024-09-12_15-06-17/PPO_SatelliteTasking-RLlib_da747_00000_0_2024-09-12_15-06-17/checkpoint_000000)\n",
      "2024-09-12 15:06:43,328\tINFO tune.py:1009 -- Wrote the latest version of all result files and experiment state to '/Users/markstephenson/ray_results/PPO_2024-09-12_15-06-17' in 0.0151s.\n"
     ]
    },
    {
     "name": "stderr",
     "output_type": "stream",
     "text": [
      "2024-09-12 15:06:43,587\tINFO tune.py:1041 -- Total run time: 25.77 seconds (25.47 seconds for the tuning loop).\n"
     ]
    },
    {
     "name": "stderr",
     "output_type": "stream",
     "text": [
      "\u001b[36m(SingleAgentEnvRunner pid=96082)\u001b[0m \u001b[90;3m2024-09-12 15:06:42,194 \u001b[0m\u001b[36msats.satellite.Scanner-1       \u001b[0m\u001b[93mWARNING    \u001b[0m\u001b[33m<4080.00> \u001b[0m\u001b[36mScanner-1: \u001b[0m\u001b[93mfailed battery_valid check\u001b[0m\n"
     ]
    }
   ],
   "source": [
    "import ray\n",
    "from ray import tune\n",
    "\n",
    "ray.init(\n",
    "    ignore_reinit_error=True,\n",
    "    num_cpus=N_CPUS,\n",
    "    object_store_memory=2_000_000_000,  # 2 GB\n",
    ")\n",
    "\n",
    "# Run the training\n",
    "tune.run(\n",
    "    \"PPO\",\n",
    "    config=config.to_dict(),\n",
    "    stop={\"training_iteration\": 10},  # Adjust the number of iterations as needed\n",
    "    checkpoint_freq=10,\n",
    "    checkpoint_at_end=True\n",
    ")\n",
    "\n",
    "# Shutdown Ray\n",
    "ray.shutdown()"
   ]
  },
  {
   "cell_type": "markdown",
   "metadata": {},
   "source": [
    "## Loading the Policy Network\n",
    "\n",
    "The policy network can be found in the `p0` subdirectory of the checkpoint output, if \n",
    "using the torch backend, and the `model` subdirectory of the checkpoint output. Use\n",
    "`bsk_rl.utils.rllib.load_torch_mlp_policy` to load torch policies."
   ]
  },
  {
   "cell_type": "markdown",
   "metadata": {},
   "source": [
    "## Stepping Through the Environment\n",
    "\n",
    "The environment is stepped through with random actions to give a sense of how it acts."
   ]
  },
  {
   "cell_type": "code",
   "execution_count": 8,
   "metadata": {
    "execution": {
     "iopub.execute_input": "2024-09-12T21:06:45.130876Z",
     "iopub.status.busy": "2024-09-12T21:06:45.130670Z",
     "iopub.status.idle": "2024-09-12T21:06:47.581958Z",
     "shell.execute_reply": "2024-09-12T21:06:47.581650Z"
    }
   },
   "outputs": [
    {
     "name": "stderr",
     "output_type": "stream",
     "text": [
      "\u001b[90;3m2024-09-12 15:06:45,134 \u001b[0m\u001b[mgym                            \u001b[0m\u001b[mINFO       \u001b[0m\u001b[mResetting environment with seed=304261736\u001b[0m\n"
     ]
    },
    {
     "name": "stderr",
     "output_type": "stream",
     "text": [
      "\u001b[90;3m2024-09-12 15:06:45,217 \u001b[0m\u001b[36msats.satellite.Scanner-1       \u001b[0m\u001b[mINFO       \u001b[0m\u001b[33m<0.00> \u001b[0m\u001b[36mScanner-1: \u001b[0m\u001b[mFinding opportunity windows from 0.00 to 28500.00 seconds\u001b[0m\n"
     ]
    },
    {
     "name": "stderr",
     "output_type": "stream",
     "text": [
      "\u001b[90;3m2024-09-12 15:06:45,283 \u001b[0m\u001b[mgym                            \u001b[0m\u001b[mINFO       \u001b[0m\u001b[33m<0.00> \u001b[0m\u001b[mEnvironment reset\u001b[0m\n"
     ]
    },
    {
     "name": "stderr",
     "output_type": "stream",
     "text": [
      "\u001b[90;3m2024-09-12 15:06:45,283 \u001b[0m\u001b[mgym                            \u001b[0m\u001b[mINFO       \u001b[0m\u001b[33m<0.00> \u001b[0m\u001b[93;1m=== STARTING STEP ===\u001b[0m\n"
     ]
    },
    {
     "name": "stderr",
     "output_type": "stream",
     "text": [
      "\u001b[90;3m2024-09-12 15:06:45,283 \u001b[0m\u001b[36msats.satellite.Scanner-1       \u001b[0m\u001b[mINFO       \u001b[0m\u001b[33m<0.00> \u001b[0m\u001b[36mScanner-1: \u001b[0m\u001b[maction_nadir_scan tasked for 180.0 seconds\u001b[0m\n"
     ]
    },
    {
     "name": "stderr",
     "output_type": "stream",
     "text": [
      "\u001b[90;3m2024-09-12 15:06:45,284 \u001b[0m\u001b[36msats.satellite.Scanner-1       \u001b[0m\u001b[mINFO       \u001b[0m\u001b[33m<0.00> \u001b[0m\u001b[36mScanner-1: \u001b[0m\u001b[msetting timed terminal event at 180.0\u001b[0m\n"
     ]
    },
    {
     "name": "stderr",
     "output_type": "stream",
     "text": [
      "\u001b[90;3m2024-09-12 15:06:45,295 \u001b[0m\u001b[36msats.satellite.Scanner-1       \u001b[0m\u001b[mINFO       \u001b[0m\u001b[33m<180.00> \u001b[0m\u001b[36mScanner-1: \u001b[0m\u001b[mtimed termination at 180.0 for action_nadir_scan\u001b[0m\n"
     ]
    },
    {
     "name": "stderr",
     "output_type": "stream",
     "text": [
      "\u001b[90;3m2024-09-12 15:06:45,295 \u001b[0m\u001b[mdata.base                      \u001b[0m\u001b[mINFO       \u001b[0m\u001b[33m<180.00> \u001b[0m\u001b[mData reward: {'Scanner-1': 0.004350877192982456}\u001b[0m\n"
     ]
    },
    {
     "name": "stderr",
     "output_type": "stream",
     "text": [
      "\u001b[90;3m2024-09-12 15:06:45,296 \u001b[0m\u001b[36msats.satellite.Scanner-1       \u001b[0m\u001b[mINFO       \u001b[0m\u001b[33m<180.00> \u001b[0m\u001b[36mScanner-1: \u001b[0m\u001b[mSatellite Scanner-1 requires retasking\u001b[0m\n"
     ]
    },
    {
     "name": "stderr",
     "output_type": "stream",
     "text": [
      "\u001b[90;3m2024-09-12 15:06:45,296 \u001b[0m\u001b[mgym                            \u001b[0m\u001b[mINFO       \u001b[0m\u001b[33m<180.00> \u001b[0m\u001b[mStep reward: 0.004350877192982456\u001b[0m\n"
     ]
    },
    {
     "name": "stderr",
     "output_type": "stream",
     "text": [
      "\u001b[90;3m2024-09-12 15:06:45,297 \u001b[0m\u001b[mgym                            \u001b[0m\u001b[mINFO       \u001b[0m\u001b[33m<180.00> \u001b[0m\u001b[93;1m=== STARTING STEP ===\u001b[0m\n"
     ]
    },
    {
     "name": "stderr",
     "output_type": "stream",
     "text": [
      "\u001b[90;3m2024-09-12 15:06:45,297 \u001b[0m\u001b[36msats.satellite.Scanner-1       \u001b[0m\u001b[mINFO       \u001b[0m\u001b[33m<180.00> \u001b[0m\u001b[36mScanner-1: \u001b[0m\u001b[maction_nadir_scan tasked for 180.0 seconds\u001b[0m\n"
     ]
    },
    {
     "name": "stderr",
     "output_type": "stream",
     "text": [
      "\u001b[90;3m2024-09-12 15:06:45,297 \u001b[0m\u001b[36msats.satellite.Scanner-1       \u001b[0m\u001b[mINFO       \u001b[0m\u001b[33m<180.00> \u001b[0m\u001b[36mScanner-1: \u001b[0m\u001b[msetting timed terminal event at 360.0\u001b[0m\n"
     ]
    },
    {
     "name": "stderr",
     "output_type": "stream",
     "text": [
      "\u001b[90;3m2024-09-12 15:06:45,308 \u001b[0m\u001b[36msats.satellite.Scanner-1       \u001b[0m\u001b[mINFO       \u001b[0m\u001b[33m<360.00> \u001b[0m\u001b[36mScanner-1: \u001b[0m\u001b[mtimed termination at 360.0 for action_nadir_scan\u001b[0m\n"
     ]
    },
    {
     "name": "stderr",
     "output_type": "stream",
     "text": [
      "\u001b[90;3m2024-09-12 15:06:45,308 \u001b[0m\u001b[mdata.base                      \u001b[0m\u001b[mINFO       \u001b[0m\u001b[33m<360.00> \u001b[0m\u001b[mData reward: {'Scanner-1': 0.00631578947368421}\u001b[0m\n"
     ]
    },
    {
     "name": "stderr",
     "output_type": "stream",
     "text": [
      "\u001b[90;3m2024-09-12 15:06:45,308 \u001b[0m\u001b[36msats.satellite.Scanner-1       \u001b[0m\u001b[mINFO       \u001b[0m\u001b[33m<360.00> \u001b[0m\u001b[36mScanner-1: \u001b[0m\u001b[mSatellite Scanner-1 requires retasking\u001b[0m\n"
     ]
    },
    {
     "name": "stderr",
     "output_type": "stream",
     "text": [
      "\u001b[90;3m2024-09-12 15:06:45,309 \u001b[0m\u001b[mgym                            \u001b[0m\u001b[mINFO       \u001b[0m\u001b[33m<360.00> \u001b[0m\u001b[mStep reward: 0.00631578947368421\u001b[0m\n"
     ]
    },
    {
     "name": "stderr",
     "output_type": "stream",
     "text": [
      "\u001b[90;3m2024-09-12 15:06:45,309 \u001b[0m\u001b[mgym                            \u001b[0m\u001b[mINFO       \u001b[0m\u001b[33m<360.00> \u001b[0m\u001b[93;1m=== STARTING STEP ===\u001b[0m\n"
     ]
    },
    {
     "name": "stderr",
     "output_type": "stream",
     "text": [
      "\u001b[90;3m2024-09-12 15:06:45,310 \u001b[0m\u001b[36msats.satellite.Scanner-1       \u001b[0m\u001b[mINFO       \u001b[0m\u001b[33m<360.00> \u001b[0m\u001b[36mScanner-1: \u001b[0m\u001b[maction_downlink tasked for 60.0 seconds\u001b[0m\n"
     ]
    },
    {
     "name": "stderr",
     "output_type": "stream",
     "text": [
      "\u001b[90;3m2024-09-12 15:06:45,310 \u001b[0m\u001b[36msats.satellite.Scanner-1       \u001b[0m\u001b[mINFO       \u001b[0m\u001b[33m<360.00> \u001b[0m\u001b[36mScanner-1: \u001b[0m\u001b[msetting timed terminal event at 420.0\u001b[0m\n"
     ]
    },
    {
     "name": "stderr",
     "output_type": "stream",
     "text": [
      "\u001b[90;3m2024-09-12 15:06:45,314 \u001b[0m\u001b[36msats.satellite.Scanner-1       \u001b[0m\u001b[mINFO       \u001b[0m\u001b[33m<420.00> \u001b[0m\u001b[36mScanner-1: \u001b[0m\u001b[mtimed termination at 420.0 for action_downlink\u001b[0m\n"
     ]
    },
    {
     "name": "stderr",
     "output_type": "stream",
     "text": [
      "\u001b[90;3m2024-09-12 15:06:45,314 \u001b[0m\u001b[mdata.base                      \u001b[0m\u001b[mINFO       \u001b[0m\u001b[33m<420.00> \u001b[0m\u001b[mData reward: {'Scanner-1': 0.0}\u001b[0m\n"
     ]
    },
    {
     "name": "stderr",
     "output_type": "stream",
     "text": [
      "\u001b[90;3m2024-09-12 15:06:45,315 \u001b[0m\u001b[36msats.satellite.Scanner-1       \u001b[0m\u001b[mINFO       \u001b[0m\u001b[33m<420.00> \u001b[0m\u001b[36mScanner-1: \u001b[0m\u001b[mSatellite Scanner-1 requires retasking\u001b[0m\n"
     ]
    },
    {
     "name": "stderr",
     "output_type": "stream",
     "text": [
      "\u001b[90;3m2024-09-12 15:06:45,315 \u001b[0m\u001b[mgym                            \u001b[0m\u001b[mINFO       \u001b[0m\u001b[33m<420.00> \u001b[0m\u001b[mStep reward: 0.0\u001b[0m\n"
     ]
    },
    {
     "name": "stderr",
     "output_type": "stream",
     "text": [
      "\u001b[90;3m2024-09-12 15:06:45,316 \u001b[0m\u001b[mgym                            \u001b[0m\u001b[mINFO       \u001b[0m\u001b[33m<420.00> \u001b[0m\u001b[93;1m=== STARTING STEP ===\u001b[0m\n"
     ]
    },
    {
     "name": "stderr",
     "output_type": "stream",
     "text": [
      "\u001b[90;3m2024-09-12 15:06:45,316 \u001b[0m\u001b[36msats.satellite.Scanner-1       \u001b[0m\u001b[mINFO       \u001b[0m\u001b[33m<420.00> \u001b[0m\u001b[36mScanner-1: \u001b[0m\u001b[maction_nadir_scan tasked for 180.0 seconds\u001b[0m\n"
     ]
    },
    {
     "name": "stderr",
     "output_type": "stream",
     "text": [
      "\u001b[90;3m2024-09-12 15:06:45,317 \u001b[0m\u001b[36msats.satellite.Scanner-1       \u001b[0m\u001b[mINFO       \u001b[0m\u001b[33m<420.00> \u001b[0m\u001b[36mScanner-1: \u001b[0m\u001b[msetting timed terminal event at 600.0\u001b[0m\n"
     ]
    },
    {
     "name": "stderr",
     "output_type": "stream",
     "text": [
      "\u001b[90;3m2024-09-12 15:06:45,330 \u001b[0m\u001b[36msats.satellite.Scanner-1       \u001b[0m\u001b[mINFO       \u001b[0m\u001b[33m<600.00> \u001b[0m\u001b[36mScanner-1: \u001b[0m\u001b[mtimed termination at 600.0 for action_nadir_scan\u001b[0m\n"
     ]
    },
    {
     "name": "stderr",
     "output_type": "stream",
     "text": [
      "\u001b[90;3m2024-09-12 15:06:45,330 \u001b[0m\u001b[mdata.base                      \u001b[0m\u001b[mINFO       \u001b[0m\u001b[33m<600.00> \u001b[0m\u001b[mData reward: {'Scanner-1': 0.005017543859649122}\u001b[0m\n"
     ]
    },
    {
     "name": "stderr",
     "output_type": "stream",
     "text": [
      "\u001b[90;3m2024-09-12 15:06:45,331 \u001b[0m\u001b[36msats.satellite.Scanner-1       \u001b[0m\u001b[mINFO       \u001b[0m\u001b[33m<600.00> \u001b[0m\u001b[36mScanner-1: \u001b[0m\u001b[mSatellite Scanner-1 requires retasking\u001b[0m\n"
     ]
    },
    {
     "name": "stderr",
     "output_type": "stream",
     "text": [
      "\u001b[90;3m2024-09-12 15:06:45,332 \u001b[0m\u001b[mgym                            \u001b[0m\u001b[mINFO       \u001b[0m\u001b[33m<600.00> \u001b[0m\u001b[mStep reward: 0.005017543859649122\u001b[0m\n"
     ]
    },
    {
     "name": "stderr",
     "output_type": "stream",
     "text": [
      "\u001b[90;3m2024-09-12 15:06:45,332 \u001b[0m\u001b[mgym                            \u001b[0m\u001b[mINFO       \u001b[0m\u001b[33m<600.00> \u001b[0m\u001b[93;1m=== STARTING STEP ===\u001b[0m\n"
     ]
    },
    {
     "name": "stderr",
     "output_type": "stream",
     "text": [
      "\u001b[90;3m2024-09-12 15:06:45,333 \u001b[0m\u001b[36msats.satellite.Scanner-1       \u001b[0m\u001b[mINFO       \u001b[0m\u001b[33m<600.00> \u001b[0m\u001b[36mScanner-1: \u001b[0m\u001b[maction_charge tasked for 120.0 seconds\u001b[0m\n"
     ]
    },
    {
     "name": "stderr",
     "output_type": "stream",
     "text": [
      "\u001b[90;3m2024-09-12 15:06:45,333 \u001b[0m\u001b[36msats.satellite.Scanner-1       \u001b[0m\u001b[mINFO       \u001b[0m\u001b[33m<600.00> \u001b[0m\u001b[36mScanner-1: \u001b[0m\u001b[msetting timed terminal event at 720.0\u001b[0m\n"
     ]
    },
    {
     "name": "stderr",
     "output_type": "stream",
     "text": [
      "\u001b[90;3m2024-09-12 15:06:45,342 \u001b[0m\u001b[36msats.satellite.Scanner-1       \u001b[0m\u001b[mINFO       \u001b[0m\u001b[33m<720.00> \u001b[0m\u001b[36mScanner-1: \u001b[0m\u001b[mtimed termination at 720.0 for action_charge\u001b[0m\n"
     ]
    },
    {
     "name": "stderr",
     "output_type": "stream",
     "text": [
      "\u001b[90;3m2024-09-12 15:06:45,342 \u001b[0m\u001b[mdata.base                      \u001b[0m\u001b[mINFO       \u001b[0m\u001b[33m<720.00> \u001b[0m\u001b[mData reward: {'Scanner-1': 0.0}\u001b[0m\n"
     ]
    },
    {
     "name": "stderr",
     "output_type": "stream",
     "text": [
      "\u001b[90;3m2024-09-12 15:06:45,343 \u001b[0m\u001b[36msats.satellite.Scanner-1       \u001b[0m\u001b[mINFO       \u001b[0m\u001b[33m<720.00> \u001b[0m\u001b[36mScanner-1: \u001b[0m\u001b[mSatellite Scanner-1 requires retasking\u001b[0m\n"
     ]
    },
    {
     "name": "stderr",
     "output_type": "stream",
     "text": [
      "\u001b[90;3m2024-09-12 15:06:45,344 \u001b[0m\u001b[mgym                            \u001b[0m\u001b[mINFO       \u001b[0m\u001b[33m<720.00> \u001b[0m\u001b[mStep reward: 0.0\u001b[0m\n"
     ]
    },
    {
     "name": "stderr",
     "output_type": "stream",
     "text": [
      "\u001b[90;3m2024-09-12 15:06:45,344 \u001b[0m\u001b[mgym                            \u001b[0m\u001b[mINFO       \u001b[0m\u001b[33m<720.00> \u001b[0m\u001b[93;1m=== STARTING STEP ===\u001b[0m\n"
     ]
    },
    {
     "name": "stderr",
     "output_type": "stream",
     "text": [
      "\u001b[90;3m2024-09-12 15:06:45,344 \u001b[0m\u001b[36msats.satellite.Scanner-1       \u001b[0m\u001b[mINFO       \u001b[0m\u001b[33m<720.00> \u001b[0m\u001b[36mScanner-1: \u001b[0m\u001b[maction_charge tasked for 120.0 seconds\u001b[0m\n"
     ]
    },
    {
     "name": "stderr",
     "output_type": "stream",
     "text": [
      "\u001b[90;3m2024-09-12 15:06:45,345 \u001b[0m\u001b[36msats.satellite.Scanner-1       \u001b[0m\u001b[mINFO       \u001b[0m\u001b[33m<720.00> \u001b[0m\u001b[36mScanner-1: \u001b[0m\u001b[msetting timed terminal event at 840.0\u001b[0m\n"
     ]
    },
    {
     "name": "stderr",
     "output_type": "stream",
     "text": [
      "\u001b[90;3m2024-09-12 15:06:45,371 \u001b[0m\u001b[36msats.satellite.Scanner-1       \u001b[0m\u001b[mINFO       \u001b[0m\u001b[33m<840.00> \u001b[0m\u001b[36mScanner-1: \u001b[0m\u001b[mtimed termination at 840.0 for action_charge\u001b[0m\n"
     ]
    },
    {
     "name": "stderr",
     "output_type": "stream",
     "text": [
      "\u001b[90;3m2024-09-12 15:06:45,374 \u001b[0m\u001b[mdata.base                      \u001b[0m\u001b[mINFO       \u001b[0m\u001b[33m<840.00> \u001b[0m\u001b[mData reward: {'Scanner-1': 0.0}\u001b[0m\n"
     ]
    },
    {
     "name": "stderr",
     "output_type": "stream",
     "text": [
      "\u001b[90;3m2024-09-12 15:06:45,376 \u001b[0m\u001b[36msats.satellite.Scanner-1       \u001b[0m\u001b[mINFO       \u001b[0m\u001b[33m<840.00> \u001b[0m\u001b[36mScanner-1: \u001b[0m\u001b[mSatellite Scanner-1 requires retasking\u001b[0m\n"
     ]
    },
    {
     "name": "stderr",
     "output_type": "stream",
     "text": [
      "\u001b[90;3m2024-09-12 15:06:45,380 \u001b[0m\u001b[mgym                            \u001b[0m\u001b[mINFO       \u001b[0m\u001b[33m<840.00> \u001b[0m\u001b[mStep reward: 0.0\u001b[0m\n"
     ]
    },
    {
     "name": "stderr",
     "output_type": "stream",
     "text": [
      "\u001b[90;3m2024-09-12 15:06:45,384 \u001b[0m\u001b[mgym                            \u001b[0m\u001b[mINFO       \u001b[0m\u001b[33m<840.00> \u001b[0m\u001b[93;1m=== STARTING STEP ===\u001b[0m\n"
     ]
    },
    {
     "name": "stderr",
     "output_type": "stream",
     "text": [
      "\u001b[90;3m2024-09-12 15:06:45,385 \u001b[0m\u001b[36msats.satellite.Scanner-1       \u001b[0m\u001b[mINFO       \u001b[0m\u001b[33m<840.00> \u001b[0m\u001b[36mScanner-1: \u001b[0m\u001b[maction_desat tasked for 60.0 seconds\u001b[0m\n"
     ]
    },
    {
     "name": "stderr",
     "output_type": "stream",
     "text": [
      "\u001b[90;3m2024-09-12 15:06:45,388 \u001b[0m\u001b[36msats.satellite.Scanner-1       \u001b[0m\u001b[mINFO       \u001b[0m\u001b[33m<840.00> \u001b[0m\u001b[36mScanner-1: \u001b[0m\u001b[msetting timed terminal event at 900.0\u001b[0m\n"
     ]
    },
    {
     "name": "stderr",
     "output_type": "stream",
     "text": [
      "\u001b[90;3m2024-09-12 15:06:45,448 \u001b[0m\u001b[36msats.satellite.Scanner-1       \u001b[0m\u001b[mINFO       \u001b[0m\u001b[33m<900.00> \u001b[0m\u001b[36mScanner-1: \u001b[0m\u001b[mtimed termination at 900.0 for action_desat\u001b[0m\n"
     ]
    },
    {
     "name": "stderr",
     "output_type": "stream",
     "text": [
      "\u001b[90;3m2024-09-12 15:06:45,449 \u001b[0m\u001b[mdata.base                      \u001b[0m\u001b[mINFO       \u001b[0m\u001b[33m<900.00> \u001b[0m\u001b[mData reward: {'Scanner-1': 0.0}\u001b[0m\n"
     ]
    },
    {
     "name": "stderr",
     "output_type": "stream",
     "text": [
      "\u001b[90;3m2024-09-12 15:06:45,450 \u001b[0m\u001b[36msats.satellite.Scanner-1       \u001b[0m\u001b[mINFO       \u001b[0m\u001b[33m<900.00> \u001b[0m\u001b[36mScanner-1: \u001b[0m\u001b[mSatellite Scanner-1 requires retasking\u001b[0m\n"
     ]
    },
    {
     "name": "stderr",
     "output_type": "stream",
     "text": [
      "\u001b[90;3m2024-09-12 15:06:45,451 \u001b[0m\u001b[mgym                            \u001b[0m\u001b[mINFO       \u001b[0m\u001b[33m<900.00> \u001b[0m\u001b[mStep reward: 0.0\u001b[0m\n"
     ]
    },
    {
     "name": "stderr",
     "output_type": "stream",
     "text": [
      "\u001b[90;3m2024-09-12 15:06:45,453 \u001b[0m\u001b[mgym                            \u001b[0m\u001b[mINFO       \u001b[0m\u001b[33m<900.00> \u001b[0m\u001b[93;1m=== STARTING STEP ===\u001b[0m\n"
     ]
    },
    {
     "name": "stderr",
     "output_type": "stream",
     "text": [
      "\u001b[90;3m2024-09-12 15:06:45,454 \u001b[0m\u001b[36msats.satellite.Scanner-1       \u001b[0m\u001b[mINFO       \u001b[0m\u001b[33m<900.00> \u001b[0m\u001b[36mScanner-1: \u001b[0m\u001b[maction_desat tasked for 60.0 seconds\u001b[0m\n"
     ]
    },
    {
     "name": "stderr",
     "output_type": "stream",
     "text": [
      "\u001b[90;3m2024-09-12 15:06:45,454 \u001b[0m\u001b[36msats.satellite.Scanner-1       \u001b[0m\u001b[mINFO       \u001b[0m\u001b[33m<900.00> \u001b[0m\u001b[36mScanner-1: \u001b[0m\u001b[msetting timed terminal event at 960.0\u001b[0m\n"
     ]
    },
    {
     "name": "stderr",
     "output_type": "stream",
     "text": [
      "\u001b[90;3m2024-09-12 15:06:45,463 \u001b[0m\u001b[36msats.satellite.Scanner-1       \u001b[0m\u001b[mINFO       \u001b[0m\u001b[33m<960.00> \u001b[0m\u001b[36mScanner-1: \u001b[0m\u001b[mtimed termination at 960.0 for action_desat\u001b[0m\n"
     ]
    },
    {
     "name": "stderr",
     "output_type": "stream",
     "text": [
      "\u001b[90;3m2024-09-12 15:06:45,464 \u001b[0m\u001b[mdata.base                      \u001b[0m\u001b[mINFO       \u001b[0m\u001b[33m<960.00> \u001b[0m\u001b[mData reward: {'Scanner-1': 0.0}\u001b[0m\n"
     ]
    },
    {
     "name": "stderr",
     "output_type": "stream",
     "text": [
      "\u001b[90;3m2024-09-12 15:06:45,464 \u001b[0m\u001b[36msats.satellite.Scanner-1       \u001b[0m\u001b[mINFO       \u001b[0m\u001b[33m<960.00> \u001b[0m\u001b[36mScanner-1: \u001b[0m\u001b[mSatellite Scanner-1 requires retasking\u001b[0m\n"
     ]
    },
    {
     "name": "stderr",
     "output_type": "stream",
     "text": [
      "\u001b[90;3m2024-09-12 15:06:45,466 \u001b[0m\u001b[mgym                            \u001b[0m\u001b[mINFO       \u001b[0m\u001b[33m<960.00> \u001b[0m\u001b[mStep reward: 0.0\u001b[0m\n"
     ]
    },
    {
     "name": "stderr",
     "output_type": "stream",
     "text": [
      "\u001b[90;3m2024-09-12 15:06:45,467 \u001b[0m\u001b[mgym                            \u001b[0m\u001b[mINFO       \u001b[0m\u001b[33m<960.00> \u001b[0m\u001b[93;1m=== STARTING STEP ===\u001b[0m\n"
     ]
    },
    {
     "name": "stderr",
     "output_type": "stream",
     "text": [
      "\u001b[90;3m2024-09-12 15:06:45,469 \u001b[0m\u001b[36msats.satellite.Scanner-1       \u001b[0m\u001b[mINFO       \u001b[0m\u001b[33m<960.00> \u001b[0m\u001b[36mScanner-1: \u001b[0m\u001b[maction_downlink tasked for 60.0 seconds\u001b[0m\n"
     ]
    },
    {
     "name": "stderr",
     "output_type": "stream",
     "text": [
      "\u001b[90;3m2024-09-12 15:06:45,470 \u001b[0m\u001b[36msats.satellite.Scanner-1       \u001b[0m\u001b[mINFO       \u001b[0m\u001b[33m<960.00> \u001b[0m\u001b[36mScanner-1: \u001b[0m\u001b[msetting timed terminal event at 1020.0\u001b[0m\n"
     ]
    },
    {
     "name": "stderr",
     "output_type": "stream",
     "text": [
      "\u001b[90;3m2024-09-12 15:06:45,492 \u001b[0m\u001b[36msats.satellite.Scanner-1       \u001b[0m\u001b[mINFO       \u001b[0m\u001b[33m<1020.00> \u001b[0m\u001b[36mScanner-1: \u001b[0m\u001b[mtimed termination at 1020.0 for action_downlink\u001b[0m\n"
     ]
    },
    {
     "name": "stderr",
     "output_type": "stream",
     "text": [
      "\u001b[90;3m2024-09-12 15:06:45,494 \u001b[0m\u001b[mdata.base                      \u001b[0m\u001b[mINFO       \u001b[0m\u001b[33m<1020.00> \u001b[0m\u001b[mData reward: {'Scanner-1': 0.0}\u001b[0m\n"
     ]
    },
    {
     "name": "stderr",
     "output_type": "stream",
     "text": [
      "\u001b[90;3m2024-09-12 15:06:45,495 \u001b[0m\u001b[36msats.satellite.Scanner-1       \u001b[0m\u001b[mINFO       \u001b[0m\u001b[33m<1020.00> \u001b[0m\u001b[36mScanner-1: \u001b[0m\u001b[mSatellite Scanner-1 requires retasking\u001b[0m\n"
     ]
    },
    {
     "name": "stderr",
     "output_type": "stream",
     "text": [
      "\u001b[90;3m2024-09-12 15:06:45,497 \u001b[0m\u001b[mgym                            \u001b[0m\u001b[mINFO       \u001b[0m\u001b[33m<1020.00> \u001b[0m\u001b[mStep reward: 0.0\u001b[0m\n"
     ]
    },
    {
     "name": "stderr",
     "output_type": "stream",
     "text": [
      "\u001b[90;3m2024-09-12 15:06:45,499 \u001b[0m\u001b[mgym                            \u001b[0m\u001b[mINFO       \u001b[0m\u001b[33m<1020.00> \u001b[0m\u001b[93;1m=== STARTING STEP ===\u001b[0m\n"
     ]
    },
    {
     "name": "stderr",
     "output_type": "stream",
     "text": [
      "\u001b[90;3m2024-09-12 15:06:45,500 \u001b[0m\u001b[36msats.satellite.Scanner-1       \u001b[0m\u001b[mINFO       \u001b[0m\u001b[33m<1020.00> \u001b[0m\u001b[36mScanner-1: \u001b[0m\u001b[maction_charge tasked for 120.0 seconds\u001b[0m\n"
     ]
    },
    {
     "name": "stderr",
     "output_type": "stream",
     "text": [
      "\u001b[90;3m2024-09-12 15:06:45,502 \u001b[0m\u001b[36msats.satellite.Scanner-1       \u001b[0m\u001b[mINFO       \u001b[0m\u001b[33m<1020.00> \u001b[0m\u001b[36mScanner-1: \u001b[0m\u001b[msetting timed terminal event at 1140.0\u001b[0m\n"
     ]
    },
    {
     "name": "stderr",
     "output_type": "stream",
     "text": [
      "\u001b[90;3m2024-09-12 15:06:45,519 \u001b[0m\u001b[36msats.satellite.Scanner-1       \u001b[0m\u001b[mINFO       \u001b[0m\u001b[33m<1140.00> \u001b[0m\u001b[36mScanner-1: \u001b[0m\u001b[mtimed termination at 1140.0 for action_charge\u001b[0m\n"
     ]
    },
    {
     "name": "stderr",
     "output_type": "stream",
     "text": [
      "\u001b[90;3m2024-09-12 15:06:45,520 \u001b[0m\u001b[mdata.base                      \u001b[0m\u001b[mINFO       \u001b[0m\u001b[33m<1140.00> \u001b[0m\u001b[mData reward: {'Scanner-1': 0.0}\u001b[0m\n"
     ]
    },
    {
     "name": "stderr",
     "output_type": "stream",
     "text": [
      "\u001b[90;3m2024-09-12 15:06:45,521 \u001b[0m\u001b[36msats.satellite.Scanner-1       \u001b[0m\u001b[mINFO       \u001b[0m\u001b[33m<1140.00> \u001b[0m\u001b[36mScanner-1: \u001b[0m\u001b[mSatellite Scanner-1 requires retasking\u001b[0m\n"
     ]
    },
    {
     "name": "stderr",
     "output_type": "stream",
     "text": [
      "\u001b[90;3m2024-09-12 15:06:45,522 \u001b[0m\u001b[mgym                            \u001b[0m\u001b[mINFO       \u001b[0m\u001b[33m<1140.00> \u001b[0m\u001b[mStep reward: 0.0\u001b[0m\n"
     ]
    },
    {
     "name": "stderr",
     "output_type": "stream",
     "text": [
      "\u001b[90;3m2024-09-12 15:06:45,524 \u001b[0m\u001b[mgym                            \u001b[0m\u001b[mINFO       \u001b[0m\u001b[33m<1140.00> \u001b[0m\u001b[93;1m=== STARTING STEP ===\u001b[0m\n"
     ]
    },
    {
     "name": "stderr",
     "output_type": "stream",
     "text": [
      "\u001b[90;3m2024-09-12 15:06:45,525 \u001b[0m\u001b[36msats.satellite.Scanner-1       \u001b[0m\u001b[mINFO       \u001b[0m\u001b[33m<1140.00> \u001b[0m\u001b[36mScanner-1: \u001b[0m\u001b[maction_downlink tasked for 60.0 seconds\u001b[0m\n"
     ]
    },
    {
     "name": "stderr",
     "output_type": "stream",
     "text": [
      "\u001b[90;3m2024-09-12 15:06:45,525 \u001b[0m\u001b[36msats.satellite.Scanner-1       \u001b[0m\u001b[mINFO       \u001b[0m\u001b[33m<1140.00> \u001b[0m\u001b[36mScanner-1: \u001b[0m\u001b[msetting timed terminal event at 1200.0\u001b[0m\n"
     ]
    },
    {
     "name": "stderr",
     "output_type": "stream",
     "text": [
      "\u001b[90;3m2024-09-12 15:06:45,535 \u001b[0m\u001b[36msats.satellite.Scanner-1       \u001b[0m\u001b[mINFO       \u001b[0m\u001b[33m<1200.00> \u001b[0m\u001b[36mScanner-1: \u001b[0m\u001b[mtimed termination at 1200.0 for action_downlink\u001b[0m\n"
     ]
    },
    {
     "name": "stderr",
     "output_type": "stream",
     "text": [
      "\u001b[90;3m2024-09-12 15:06:45,536 \u001b[0m\u001b[mdata.base                      \u001b[0m\u001b[mINFO       \u001b[0m\u001b[33m<1200.00> \u001b[0m\u001b[mData reward: {'Scanner-1': 0.0}\u001b[0m\n"
     ]
    },
    {
     "name": "stderr",
     "output_type": "stream",
     "text": [
      "\u001b[90;3m2024-09-12 15:06:45,536 \u001b[0m\u001b[36msats.satellite.Scanner-1       \u001b[0m\u001b[mINFO       \u001b[0m\u001b[33m<1200.00> \u001b[0m\u001b[36mScanner-1: \u001b[0m\u001b[mSatellite Scanner-1 requires retasking\u001b[0m\n"
     ]
    },
    {
     "name": "stderr",
     "output_type": "stream",
     "text": [
      "\u001b[90;3m2024-09-12 15:06:45,538 \u001b[0m\u001b[mgym                            \u001b[0m\u001b[mINFO       \u001b[0m\u001b[33m<1200.00> \u001b[0m\u001b[mStep reward: 0.0\u001b[0m\n"
     ]
    },
    {
     "name": "stderr",
     "output_type": "stream",
     "text": [
      "\u001b[90;3m2024-09-12 15:06:45,538 \u001b[0m\u001b[mgym                            \u001b[0m\u001b[mINFO       \u001b[0m\u001b[33m<1200.00> \u001b[0m\u001b[93;1m=== STARTING STEP ===\u001b[0m\n"
     ]
    },
    {
     "name": "stderr",
     "output_type": "stream",
     "text": [
      "\u001b[90;3m2024-09-12 15:06:45,539 \u001b[0m\u001b[36msats.satellite.Scanner-1       \u001b[0m\u001b[mINFO       \u001b[0m\u001b[33m<1200.00> \u001b[0m\u001b[36mScanner-1: \u001b[0m\u001b[maction_desat tasked for 60.0 seconds\u001b[0m\n"
     ]
    },
    {
     "name": "stderr",
     "output_type": "stream",
     "text": [
      "\u001b[90;3m2024-09-12 15:06:45,539 \u001b[0m\u001b[36msats.satellite.Scanner-1       \u001b[0m\u001b[mINFO       \u001b[0m\u001b[33m<1200.00> \u001b[0m\u001b[36mScanner-1: \u001b[0m\u001b[msetting timed terminal event at 1260.0\u001b[0m\n"
     ]
    },
    {
     "name": "stderr",
     "output_type": "stream",
     "text": [
      "\u001b[90;3m2024-09-12 15:06:45,545 \u001b[0m\u001b[36msats.satellite.Scanner-1       \u001b[0m\u001b[mINFO       \u001b[0m\u001b[33m<1260.00> \u001b[0m\u001b[36mScanner-1: \u001b[0m\u001b[mtimed termination at 1260.0 for action_desat\u001b[0m\n"
     ]
    },
    {
     "name": "stderr",
     "output_type": "stream",
     "text": [
      "\u001b[90;3m2024-09-12 15:06:45,546 \u001b[0m\u001b[mdata.base                      \u001b[0m\u001b[mINFO       \u001b[0m\u001b[33m<1260.00> \u001b[0m\u001b[mData reward: {'Scanner-1': 0.0}\u001b[0m\n"
     ]
    },
    {
     "name": "stderr",
     "output_type": "stream",
     "text": [
      "\u001b[90;3m2024-09-12 15:06:45,547 \u001b[0m\u001b[36msats.satellite.Scanner-1       \u001b[0m\u001b[mINFO       \u001b[0m\u001b[33m<1260.00> \u001b[0m\u001b[36mScanner-1: \u001b[0m\u001b[mSatellite Scanner-1 requires retasking\u001b[0m\n"
     ]
    },
    {
     "name": "stderr",
     "output_type": "stream",
     "text": [
      "\u001b[90;3m2024-09-12 15:06:45,548 \u001b[0m\u001b[mgym                            \u001b[0m\u001b[mINFO       \u001b[0m\u001b[33m<1260.00> \u001b[0m\u001b[mStep reward: 0.0\u001b[0m\n"
     ]
    },
    {
     "name": "stderr",
     "output_type": "stream",
     "text": [
      "\u001b[90;3m2024-09-12 15:06:45,549 \u001b[0m\u001b[mgym                            \u001b[0m\u001b[mINFO       \u001b[0m\u001b[33m<1260.00> \u001b[0m\u001b[93;1m=== STARTING STEP ===\u001b[0m\n"
     ]
    },
    {
     "name": "stderr",
     "output_type": "stream",
     "text": [
      "\u001b[90;3m2024-09-12 15:06:45,550 \u001b[0m\u001b[36msats.satellite.Scanner-1       \u001b[0m\u001b[mINFO       \u001b[0m\u001b[33m<1260.00> \u001b[0m\u001b[36mScanner-1: \u001b[0m\u001b[maction_charge tasked for 120.0 seconds\u001b[0m\n"
     ]
    },
    {
     "name": "stderr",
     "output_type": "stream",
     "text": [
      "\u001b[90;3m2024-09-12 15:06:45,550 \u001b[0m\u001b[36msats.satellite.Scanner-1       \u001b[0m\u001b[mINFO       \u001b[0m\u001b[33m<1260.00> \u001b[0m\u001b[36mScanner-1: \u001b[0m\u001b[msetting timed terminal event at 1380.0\u001b[0m\n"
     ]
    },
    {
     "name": "stderr",
     "output_type": "stream",
     "text": [
      "\u001b[90;3m2024-09-12 15:06:45,564 \u001b[0m\u001b[36msats.satellite.Scanner-1       \u001b[0m\u001b[mINFO       \u001b[0m\u001b[33m<1380.00> \u001b[0m\u001b[36mScanner-1: \u001b[0m\u001b[mtimed termination at 1380.0 for action_charge\u001b[0m\n"
     ]
    },
    {
     "name": "stderr",
     "output_type": "stream",
     "text": [
      "\u001b[90;3m2024-09-12 15:06:45,565 \u001b[0m\u001b[mdata.base                      \u001b[0m\u001b[mINFO       \u001b[0m\u001b[33m<1380.00> \u001b[0m\u001b[mData reward: {'Scanner-1': 0.0}\u001b[0m\n"
     ]
    },
    {
     "name": "stderr",
     "output_type": "stream",
     "text": [
      "\u001b[90;3m2024-09-12 15:06:45,566 \u001b[0m\u001b[36msats.satellite.Scanner-1       \u001b[0m\u001b[mINFO       \u001b[0m\u001b[33m<1380.00> \u001b[0m\u001b[36mScanner-1: \u001b[0m\u001b[mSatellite Scanner-1 requires retasking\u001b[0m\n"
     ]
    },
    {
     "name": "stderr",
     "output_type": "stream",
     "text": [
      "\u001b[90;3m2024-09-12 15:06:45,567 \u001b[0m\u001b[mgym                            \u001b[0m\u001b[mINFO       \u001b[0m\u001b[33m<1380.00> \u001b[0m\u001b[mStep reward: 0.0\u001b[0m\n"
     ]
    },
    {
     "name": "stderr",
     "output_type": "stream",
     "text": [
      "\u001b[90;3m2024-09-12 15:06:45,568 \u001b[0m\u001b[mgym                            \u001b[0m\u001b[mINFO       \u001b[0m\u001b[33m<1380.00> \u001b[0m\u001b[93;1m=== STARTING STEP ===\u001b[0m\n"
     ]
    },
    {
     "name": "stderr",
     "output_type": "stream",
     "text": [
      "\u001b[90;3m2024-09-12 15:06:45,569 \u001b[0m\u001b[36msats.satellite.Scanner-1       \u001b[0m\u001b[mINFO       \u001b[0m\u001b[33m<1380.00> \u001b[0m\u001b[36mScanner-1: \u001b[0m\u001b[maction_downlink tasked for 60.0 seconds\u001b[0m\n"
     ]
    },
    {
     "name": "stderr",
     "output_type": "stream",
     "text": [
      "\u001b[90;3m2024-09-12 15:06:45,569 \u001b[0m\u001b[36msats.satellite.Scanner-1       \u001b[0m\u001b[mINFO       \u001b[0m\u001b[33m<1380.00> \u001b[0m\u001b[36mScanner-1: \u001b[0m\u001b[msetting timed terminal event at 1440.0\u001b[0m\n"
     ]
    },
    {
     "name": "stderr",
     "output_type": "stream",
     "text": [
      "\u001b[90;3m2024-09-12 15:06:45,576 \u001b[0m\u001b[36msats.satellite.Scanner-1       \u001b[0m\u001b[mINFO       \u001b[0m\u001b[33m<1440.00> \u001b[0m\u001b[36mScanner-1: \u001b[0m\u001b[mtimed termination at 1440.0 for action_downlink\u001b[0m\n"
     ]
    },
    {
     "name": "stderr",
     "output_type": "stream",
     "text": [
      "\u001b[90;3m2024-09-12 15:06:45,577 \u001b[0m\u001b[mdata.base                      \u001b[0m\u001b[mINFO       \u001b[0m\u001b[33m<1440.00> \u001b[0m\u001b[mData reward: {'Scanner-1': 0.0}\u001b[0m\n"
     ]
    },
    {
     "name": "stderr",
     "output_type": "stream",
     "text": [
      "\u001b[90;3m2024-09-12 15:06:45,578 \u001b[0m\u001b[36msats.satellite.Scanner-1       \u001b[0m\u001b[mINFO       \u001b[0m\u001b[33m<1440.00> \u001b[0m\u001b[36mScanner-1: \u001b[0m\u001b[mSatellite Scanner-1 requires retasking\u001b[0m\n"
     ]
    },
    {
     "name": "stderr",
     "output_type": "stream",
     "text": [
      "\u001b[90;3m2024-09-12 15:06:45,579 \u001b[0m\u001b[mgym                            \u001b[0m\u001b[mINFO       \u001b[0m\u001b[33m<1440.00> \u001b[0m\u001b[mStep reward: 0.0\u001b[0m\n"
     ]
    },
    {
     "name": "stderr",
     "output_type": "stream",
     "text": [
      "\u001b[90;3m2024-09-12 15:06:45,580 \u001b[0m\u001b[mgym                            \u001b[0m\u001b[mINFO       \u001b[0m\u001b[33m<1440.00> \u001b[0m\u001b[93;1m=== STARTING STEP ===\u001b[0m\n"
     ]
    },
    {
     "name": "stderr",
     "output_type": "stream",
     "text": [
      "\u001b[90;3m2024-09-12 15:06:45,581 \u001b[0m\u001b[36msats.satellite.Scanner-1       \u001b[0m\u001b[mINFO       \u001b[0m\u001b[33m<1440.00> \u001b[0m\u001b[36mScanner-1: \u001b[0m\u001b[maction_downlink tasked for 60.0 seconds\u001b[0m\n"
     ]
    },
    {
     "name": "stderr",
     "output_type": "stream",
     "text": [
      "\u001b[90;3m2024-09-12 15:06:45,582 \u001b[0m\u001b[36msats.satellite.Scanner-1       \u001b[0m\u001b[mINFO       \u001b[0m\u001b[33m<1440.00> \u001b[0m\u001b[36mScanner-1: \u001b[0m\u001b[msetting timed terminal event at 1500.0\u001b[0m\n"
     ]
    },
    {
     "name": "stderr",
     "output_type": "stream",
     "text": [
      "\u001b[90;3m2024-09-12 15:06:45,589 \u001b[0m\u001b[36msats.satellite.Scanner-1       \u001b[0m\u001b[mINFO       \u001b[0m\u001b[33m<1500.00> \u001b[0m\u001b[36mScanner-1: \u001b[0m\u001b[mtimed termination at 1500.0 for action_downlink\u001b[0m\n"
     ]
    },
    {
     "name": "stderr",
     "output_type": "stream",
     "text": [
      "\u001b[90;3m2024-09-12 15:06:45,589 \u001b[0m\u001b[mdata.base                      \u001b[0m\u001b[mINFO       \u001b[0m\u001b[33m<1500.00> \u001b[0m\u001b[mData reward: {'Scanner-1': 0.0}\u001b[0m\n"
     ]
    },
    {
     "name": "stderr",
     "output_type": "stream",
     "text": [
      "\u001b[90;3m2024-09-12 15:06:45,590 \u001b[0m\u001b[36msats.satellite.Scanner-1       \u001b[0m\u001b[mINFO       \u001b[0m\u001b[33m<1500.00> \u001b[0m\u001b[36mScanner-1: \u001b[0m\u001b[mSatellite Scanner-1 requires retasking\u001b[0m\n"
     ]
    },
    {
     "name": "stderr",
     "output_type": "stream",
     "text": [
      "\u001b[90;3m2024-09-12 15:06:45,591 \u001b[0m\u001b[mgym                            \u001b[0m\u001b[mINFO       \u001b[0m\u001b[33m<1500.00> \u001b[0m\u001b[mStep reward: 0.0\u001b[0m\n"
     ]
    },
    {
     "name": "stderr",
     "output_type": "stream",
     "text": [
      "\u001b[90;3m2024-09-12 15:06:45,591 \u001b[0m\u001b[mgym                            \u001b[0m\u001b[mINFO       \u001b[0m\u001b[33m<1500.00> \u001b[0m\u001b[93;1m=== STARTING STEP ===\u001b[0m\n"
     ]
    },
    {
     "name": "stderr",
     "output_type": "stream",
     "text": [
      "\u001b[90;3m2024-09-12 15:06:45,592 \u001b[0m\u001b[36msats.satellite.Scanner-1       \u001b[0m\u001b[mINFO       \u001b[0m\u001b[33m<1500.00> \u001b[0m\u001b[36mScanner-1: \u001b[0m\u001b[maction_downlink tasked for 60.0 seconds\u001b[0m\n"
     ]
    },
    {
     "name": "stderr",
     "output_type": "stream",
     "text": [
      "\u001b[90;3m2024-09-12 15:06:45,592 \u001b[0m\u001b[36msats.satellite.Scanner-1       \u001b[0m\u001b[mINFO       \u001b[0m\u001b[33m<1500.00> \u001b[0m\u001b[36mScanner-1: \u001b[0m\u001b[msetting timed terminal event at 1560.0\u001b[0m\n"
     ]
    },
    {
     "name": "stderr",
     "output_type": "stream",
     "text": [
      "\u001b[90;3m2024-09-12 15:06:45,596 \u001b[0m\u001b[36msats.satellite.Scanner-1       \u001b[0m\u001b[mINFO       \u001b[0m\u001b[33m<1560.00> \u001b[0m\u001b[36mScanner-1: \u001b[0m\u001b[mtimed termination at 1560.0 for action_downlink\u001b[0m\n"
     ]
    },
    {
     "name": "stderr",
     "output_type": "stream",
     "text": [
      "\u001b[90;3m2024-09-12 15:06:45,596 \u001b[0m\u001b[mdata.base                      \u001b[0m\u001b[mINFO       \u001b[0m\u001b[33m<1560.00> \u001b[0m\u001b[mData reward: {'Scanner-1': 0.0}\u001b[0m\n"
     ]
    },
    {
     "name": "stderr",
     "output_type": "stream",
     "text": [
      "\u001b[90;3m2024-09-12 15:06:45,597 \u001b[0m\u001b[36msats.satellite.Scanner-1       \u001b[0m\u001b[mINFO       \u001b[0m\u001b[33m<1560.00> \u001b[0m\u001b[36mScanner-1: \u001b[0m\u001b[mSatellite Scanner-1 requires retasking\u001b[0m\n"
     ]
    },
    {
     "name": "stderr",
     "output_type": "stream",
     "text": [
      "\u001b[90;3m2024-09-12 15:06:45,598 \u001b[0m\u001b[mgym                            \u001b[0m\u001b[mINFO       \u001b[0m\u001b[33m<1560.00> \u001b[0m\u001b[mStep reward: 0.0\u001b[0m\n"
     ]
    },
    {
     "name": "stderr",
     "output_type": "stream",
     "text": [
      "\u001b[90;3m2024-09-12 15:06:45,598 \u001b[0m\u001b[mgym                            \u001b[0m\u001b[mINFO       \u001b[0m\u001b[33m<1560.00> \u001b[0m\u001b[93;1m=== STARTING STEP ===\u001b[0m\n"
     ]
    },
    {
     "name": "stderr",
     "output_type": "stream",
     "text": [
      "\u001b[90;3m2024-09-12 15:06:45,598 \u001b[0m\u001b[36msats.satellite.Scanner-1       \u001b[0m\u001b[mINFO       \u001b[0m\u001b[33m<1560.00> \u001b[0m\u001b[36mScanner-1: \u001b[0m\u001b[maction_charge tasked for 120.0 seconds\u001b[0m\n"
     ]
    },
    {
     "name": "stderr",
     "output_type": "stream",
     "text": [
      "\u001b[90;3m2024-09-12 15:06:45,599 \u001b[0m\u001b[36msats.satellite.Scanner-1       \u001b[0m\u001b[mINFO       \u001b[0m\u001b[33m<1560.00> \u001b[0m\u001b[36mScanner-1: \u001b[0m\u001b[msetting timed terminal event at 1680.0\u001b[0m\n"
     ]
    },
    {
     "name": "stderr",
     "output_type": "stream",
     "text": [
      "\u001b[90;3m2024-09-12 15:06:45,606 \u001b[0m\u001b[36msats.satellite.Scanner-1       \u001b[0m\u001b[mINFO       \u001b[0m\u001b[33m<1680.00> \u001b[0m\u001b[36mScanner-1: \u001b[0m\u001b[mtimed termination at 1680.0 for action_charge\u001b[0m\n"
     ]
    },
    {
     "name": "stderr",
     "output_type": "stream",
     "text": [
      "\u001b[90;3m2024-09-12 15:06:45,607 \u001b[0m\u001b[mdata.base                      \u001b[0m\u001b[mINFO       \u001b[0m\u001b[33m<1680.00> \u001b[0m\u001b[mData reward: {'Scanner-1': 0.0}\u001b[0m\n"
     ]
    },
    {
     "name": "stderr",
     "output_type": "stream",
     "text": [
      "\u001b[90;3m2024-09-12 15:06:45,607 \u001b[0m\u001b[36msats.satellite.Scanner-1       \u001b[0m\u001b[mINFO       \u001b[0m\u001b[33m<1680.00> \u001b[0m\u001b[36mScanner-1: \u001b[0m\u001b[mSatellite Scanner-1 requires retasking\u001b[0m\n"
     ]
    },
    {
     "name": "stderr",
     "output_type": "stream",
     "text": [
      "\u001b[90;3m2024-09-12 15:06:45,608 \u001b[0m\u001b[mgym                            \u001b[0m\u001b[mINFO       \u001b[0m\u001b[33m<1680.00> \u001b[0m\u001b[mStep reward: 0.0\u001b[0m\n"
     ]
    },
    {
     "name": "stderr",
     "output_type": "stream",
     "text": [
      "\u001b[90;3m2024-09-12 15:06:45,608 \u001b[0m\u001b[mgym                            \u001b[0m\u001b[mINFO       \u001b[0m\u001b[33m<1680.00> \u001b[0m\u001b[93;1m=== STARTING STEP ===\u001b[0m\n"
     ]
    },
    {
     "name": "stderr",
     "output_type": "stream",
     "text": [
      "\u001b[90;3m2024-09-12 15:06:45,609 \u001b[0m\u001b[36msats.satellite.Scanner-1       \u001b[0m\u001b[mINFO       \u001b[0m\u001b[33m<1680.00> \u001b[0m\u001b[36mScanner-1: \u001b[0m\u001b[maction_desat tasked for 60.0 seconds\u001b[0m\n"
     ]
    },
    {
     "name": "stderr",
     "output_type": "stream",
     "text": [
      "\u001b[90;3m2024-09-12 15:06:45,609 \u001b[0m\u001b[36msats.satellite.Scanner-1       \u001b[0m\u001b[mINFO       \u001b[0m\u001b[33m<1680.00> \u001b[0m\u001b[36mScanner-1: \u001b[0m\u001b[msetting timed terminal event at 1740.0\u001b[0m\n"
     ]
    },
    {
     "name": "stderr",
     "output_type": "stream",
     "text": [
      "\u001b[90;3m2024-09-12 15:06:45,614 \u001b[0m\u001b[36msats.satellite.Scanner-1       \u001b[0m\u001b[mINFO       \u001b[0m\u001b[33m<1740.00> \u001b[0m\u001b[36mScanner-1: \u001b[0m\u001b[mtimed termination at 1740.0 for action_desat\u001b[0m\n"
     ]
    },
    {
     "name": "stderr",
     "output_type": "stream",
     "text": [
      "\u001b[90;3m2024-09-12 15:06:45,614 \u001b[0m\u001b[mdata.base                      \u001b[0m\u001b[mINFO       \u001b[0m\u001b[33m<1740.00> \u001b[0m\u001b[mData reward: {'Scanner-1': 0.0}\u001b[0m\n"
     ]
    },
    {
     "name": "stderr",
     "output_type": "stream",
     "text": [
      "\u001b[90;3m2024-09-12 15:06:45,614 \u001b[0m\u001b[36msats.satellite.Scanner-1       \u001b[0m\u001b[mINFO       \u001b[0m\u001b[33m<1740.00> \u001b[0m\u001b[36mScanner-1: \u001b[0m\u001b[mSatellite Scanner-1 requires retasking\u001b[0m\n"
     ]
    },
    {
     "name": "stderr",
     "output_type": "stream",
     "text": [
      "\u001b[90;3m2024-09-12 15:06:45,615 \u001b[0m\u001b[mgym                            \u001b[0m\u001b[mINFO       \u001b[0m\u001b[33m<1740.00> \u001b[0m\u001b[mStep reward: 0.0\u001b[0m\n"
     ]
    },
    {
     "name": "stderr",
     "output_type": "stream",
     "text": [
      "\u001b[90;3m2024-09-12 15:06:45,616 \u001b[0m\u001b[mgym                            \u001b[0m\u001b[mINFO       \u001b[0m\u001b[33m<1740.00> \u001b[0m\u001b[93;1m=== STARTING STEP ===\u001b[0m\n"
     ]
    },
    {
     "name": "stderr",
     "output_type": "stream",
     "text": [
      "\u001b[90;3m2024-09-12 15:06:45,616 \u001b[0m\u001b[36msats.satellite.Scanner-1       \u001b[0m\u001b[mINFO       \u001b[0m\u001b[33m<1740.00> \u001b[0m\u001b[36mScanner-1: \u001b[0m\u001b[maction_desat tasked for 60.0 seconds\u001b[0m\n"
     ]
    },
    {
     "name": "stderr",
     "output_type": "stream",
     "text": [
      "\u001b[90;3m2024-09-12 15:06:45,616 \u001b[0m\u001b[36msats.satellite.Scanner-1       \u001b[0m\u001b[mINFO       \u001b[0m\u001b[33m<1740.00> \u001b[0m\u001b[36mScanner-1: \u001b[0m\u001b[msetting timed terminal event at 1800.0\u001b[0m\n"
     ]
    },
    {
     "name": "stderr",
     "output_type": "stream",
     "text": [
      "\u001b[90;3m2024-09-12 15:06:45,621 \u001b[0m\u001b[36msats.satellite.Scanner-1       \u001b[0m\u001b[mINFO       \u001b[0m\u001b[33m<1800.00> \u001b[0m\u001b[36mScanner-1: \u001b[0m\u001b[mtimed termination at 1800.0 for action_desat\u001b[0m\n"
     ]
    },
    {
     "name": "stderr",
     "output_type": "stream",
     "text": [
      "\u001b[90;3m2024-09-12 15:06:45,622 \u001b[0m\u001b[mdata.base                      \u001b[0m\u001b[mINFO       \u001b[0m\u001b[33m<1800.00> \u001b[0m\u001b[mData reward: {'Scanner-1': 0.0}\u001b[0m\n"
     ]
    },
    {
     "name": "stderr",
     "output_type": "stream",
     "text": [
      "\u001b[90;3m2024-09-12 15:06:45,622 \u001b[0m\u001b[36msats.satellite.Scanner-1       \u001b[0m\u001b[mINFO       \u001b[0m\u001b[33m<1800.00> \u001b[0m\u001b[36mScanner-1: \u001b[0m\u001b[mSatellite Scanner-1 requires retasking\u001b[0m\n"
     ]
    },
    {
     "name": "stderr",
     "output_type": "stream",
     "text": [
      "\u001b[90;3m2024-09-12 15:06:45,623 \u001b[0m\u001b[mgym                            \u001b[0m\u001b[mINFO       \u001b[0m\u001b[33m<1800.00> \u001b[0m\u001b[mStep reward: 0.0\u001b[0m\n"
     ]
    },
    {
     "name": "stderr",
     "output_type": "stream",
     "text": [
      "\u001b[90;3m2024-09-12 15:06:45,623 \u001b[0m\u001b[mgym                            \u001b[0m\u001b[mINFO       \u001b[0m\u001b[33m<1800.00> \u001b[0m\u001b[93;1m=== STARTING STEP ===\u001b[0m\n"
     ]
    },
    {
     "name": "stderr",
     "output_type": "stream",
     "text": [
      "\u001b[90;3m2024-09-12 15:06:45,624 \u001b[0m\u001b[36msats.satellite.Scanner-1       \u001b[0m\u001b[mINFO       \u001b[0m\u001b[33m<1800.00> \u001b[0m\u001b[36mScanner-1: \u001b[0m\u001b[maction_nadir_scan tasked for 180.0 seconds\u001b[0m\n"
     ]
    },
    {
     "name": "stderr",
     "output_type": "stream",
     "text": [
      "\u001b[90;3m2024-09-12 15:06:45,624 \u001b[0m\u001b[36msats.satellite.Scanner-1       \u001b[0m\u001b[mINFO       \u001b[0m\u001b[33m<1800.00> \u001b[0m\u001b[36mScanner-1: \u001b[0m\u001b[msetting timed terminal event at 1980.0\u001b[0m\n"
     ]
    },
    {
     "name": "stderr",
     "output_type": "stream",
     "text": [
      "\u001b[90;3m2024-09-12 15:06:45,636 \u001b[0m\u001b[36msats.satellite.Scanner-1       \u001b[0m\u001b[mINFO       \u001b[0m\u001b[33m<1980.00> \u001b[0m\u001b[36mScanner-1: \u001b[0m\u001b[mtimed termination at 1980.0 for action_nadir_scan\u001b[0m\n"
     ]
    },
    {
     "name": "stderr",
     "output_type": "stream",
     "text": [
      "\u001b[90;3m2024-09-12 15:06:45,637 \u001b[0m\u001b[mdata.base                      \u001b[0m\u001b[mINFO       \u001b[0m\u001b[33m<1980.00> \u001b[0m\u001b[mData reward: {'Scanner-1': 0.004631578947368421}\u001b[0m\n"
     ]
    },
    {
     "name": "stderr",
     "output_type": "stream",
     "text": [
      "\u001b[90;3m2024-09-12 15:06:45,637 \u001b[0m\u001b[36msats.satellite.Scanner-1       \u001b[0m\u001b[mINFO       \u001b[0m\u001b[33m<1980.00> \u001b[0m\u001b[36mScanner-1: \u001b[0m\u001b[mSatellite Scanner-1 requires retasking\u001b[0m\n"
     ]
    },
    {
     "name": "stderr",
     "output_type": "stream",
     "text": [
      "\u001b[90;3m2024-09-12 15:06:45,638 \u001b[0m\u001b[mgym                            \u001b[0m\u001b[mINFO       \u001b[0m\u001b[33m<1980.00> \u001b[0m\u001b[mStep reward: 0.004631578947368421\u001b[0m\n"
     ]
    },
    {
     "name": "stderr",
     "output_type": "stream",
     "text": [
      "\u001b[90;3m2024-09-12 15:06:45,639 \u001b[0m\u001b[mgym                            \u001b[0m\u001b[mINFO       \u001b[0m\u001b[33m<1980.00> \u001b[0m\u001b[93;1m=== STARTING STEP ===\u001b[0m\n"
     ]
    },
    {
     "name": "stderr",
     "output_type": "stream",
     "text": [
      "\u001b[90;3m2024-09-12 15:06:45,639 \u001b[0m\u001b[36msats.satellite.Scanner-1       \u001b[0m\u001b[mINFO       \u001b[0m\u001b[33m<1980.00> \u001b[0m\u001b[36mScanner-1: \u001b[0m\u001b[maction_nadir_scan tasked for 180.0 seconds\u001b[0m\n"
     ]
    },
    {
     "name": "stderr",
     "output_type": "stream",
     "text": [
      "\u001b[90;3m2024-09-12 15:06:45,640 \u001b[0m\u001b[36msats.satellite.Scanner-1       \u001b[0m\u001b[mINFO       \u001b[0m\u001b[33m<1980.00> \u001b[0m\u001b[36mScanner-1: \u001b[0m\u001b[msetting timed terminal event at 2160.0\u001b[0m\n"
     ]
    },
    {
     "name": "stderr",
     "output_type": "stream",
     "text": [
      "\u001b[90;3m2024-09-12 15:06:45,651 \u001b[0m\u001b[36msats.satellite.Scanner-1       \u001b[0m\u001b[mINFO       \u001b[0m\u001b[33m<2160.00> \u001b[0m\u001b[36mScanner-1: \u001b[0m\u001b[mtimed termination at 2160.0 for action_nadir_scan\u001b[0m\n"
     ]
    },
    {
     "name": "stderr",
     "output_type": "stream",
     "text": [
      "\u001b[90;3m2024-09-12 15:06:45,651 \u001b[0m\u001b[mdata.base                      \u001b[0m\u001b[mINFO       \u001b[0m\u001b[33m<2160.00> \u001b[0m\u001b[mData reward: {'Scanner-1': 0.00631578947368421}\u001b[0m\n"
     ]
    },
    {
     "name": "stderr",
     "output_type": "stream",
     "text": [
      "\u001b[90;3m2024-09-12 15:06:45,652 \u001b[0m\u001b[36msats.satellite.Scanner-1       \u001b[0m\u001b[mINFO       \u001b[0m\u001b[33m<2160.00> \u001b[0m\u001b[36mScanner-1: \u001b[0m\u001b[mSatellite Scanner-1 requires retasking\u001b[0m\n"
     ]
    },
    {
     "name": "stderr",
     "output_type": "stream",
     "text": [
      "\u001b[90;3m2024-09-12 15:06:45,652 \u001b[0m\u001b[mgym                            \u001b[0m\u001b[mINFO       \u001b[0m\u001b[33m<2160.00> \u001b[0m\u001b[mStep reward: 0.00631578947368421\u001b[0m\n"
     ]
    },
    {
     "name": "stderr",
     "output_type": "stream",
     "text": [
      "\u001b[90;3m2024-09-12 15:06:45,653 \u001b[0m\u001b[mgym                            \u001b[0m\u001b[mINFO       \u001b[0m\u001b[33m<2160.00> \u001b[0m\u001b[93;1m=== STARTING STEP ===\u001b[0m\n"
     ]
    },
    {
     "name": "stderr",
     "output_type": "stream",
     "text": [
      "\u001b[90;3m2024-09-12 15:06:45,653 \u001b[0m\u001b[36msats.satellite.Scanner-1       \u001b[0m\u001b[mINFO       \u001b[0m\u001b[33m<2160.00> \u001b[0m\u001b[36mScanner-1: \u001b[0m\u001b[maction_downlink tasked for 60.0 seconds\u001b[0m\n"
     ]
    },
    {
     "name": "stderr",
     "output_type": "stream",
     "text": [
      "\u001b[90;3m2024-09-12 15:06:45,654 \u001b[0m\u001b[36msats.satellite.Scanner-1       \u001b[0m\u001b[mINFO       \u001b[0m\u001b[33m<2160.00> \u001b[0m\u001b[36mScanner-1: \u001b[0m\u001b[msetting timed terminal event at 2220.0\u001b[0m\n"
     ]
    },
    {
     "name": "stderr",
     "output_type": "stream",
     "text": [
      "\u001b[90;3m2024-09-12 15:06:45,658 \u001b[0m\u001b[36msats.satellite.Scanner-1       \u001b[0m\u001b[mINFO       \u001b[0m\u001b[33m<2220.00> \u001b[0m\u001b[36mScanner-1: \u001b[0m\u001b[mtimed termination at 2220.0 for action_downlink\u001b[0m\n"
     ]
    },
    {
     "name": "stderr",
     "output_type": "stream",
     "text": [
      "\u001b[90;3m2024-09-12 15:06:45,659 \u001b[0m\u001b[mdata.base                      \u001b[0m\u001b[mINFO       \u001b[0m\u001b[33m<2220.00> \u001b[0m\u001b[mData reward: {'Scanner-1': 0.0}\u001b[0m\n"
     ]
    },
    {
     "name": "stderr",
     "output_type": "stream",
     "text": [
      "\u001b[90;3m2024-09-12 15:06:45,659 \u001b[0m\u001b[36msats.satellite.Scanner-1       \u001b[0m\u001b[mINFO       \u001b[0m\u001b[33m<2220.00> \u001b[0m\u001b[36mScanner-1: \u001b[0m\u001b[mSatellite Scanner-1 requires retasking\u001b[0m\n"
     ]
    },
    {
     "name": "stderr",
     "output_type": "stream",
     "text": [
      "\u001b[90;3m2024-09-12 15:06:45,660 \u001b[0m\u001b[mgym                            \u001b[0m\u001b[mINFO       \u001b[0m\u001b[33m<2220.00> \u001b[0m\u001b[mStep reward: 0.0\u001b[0m\n"
     ]
    },
    {
     "name": "stderr",
     "output_type": "stream",
     "text": [
      "\u001b[90;3m2024-09-12 15:06:45,661 \u001b[0m\u001b[mgym                            \u001b[0m\u001b[mINFO       \u001b[0m\u001b[33m<2220.00> \u001b[0m\u001b[93;1m=== STARTING STEP ===\u001b[0m\n"
     ]
    },
    {
     "name": "stderr",
     "output_type": "stream",
     "text": [
      "\u001b[90;3m2024-09-12 15:06:45,661 \u001b[0m\u001b[36msats.satellite.Scanner-1       \u001b[0m\u001b[mINFO       \u001b[0m\u001b[33m<2220.00> \u001b[0m\u001b[36mScanner-1: \u001b[0m\u001b[maction_charge tasked for 120.0 seconds\u001b[0m\n"
     ]
    },
    {
     "name": "stderr",
     "output_type": "stream",
     "text": [
      "\u001b[90;3m2024-09-12 15:06:45,661 \u001b[0m\u001b[36msats.satellite.Scanner-1       \u001b[0m\u001b[mINFO       \u001b[0m\u001b[33m<2220.00> \u001b[0m\u001b[36mScanner-1: \u001b[0m\u001b[msetting timed terminal event at 2340.0\u001b[0m\n"
     ]
    },
    {
     "name": "stderr",
     "output_type": "stream",
     "text": [
      "\u001b[90;3m2024-09-12 15:06:45,670 \u001b[0m\u001b[36msats.satellite.Scanner-1       \u001b[0m\u001b[mINFO       \u001b[0m\u001b[33m<2340.00> \u001b[0m\u001b[36mScanner-1: \u001b[0m\u001b[mtimed termination at 2340.0 for action_charge\u001b[0m\n"
     ]
    },
    {
     "name": "stderr",
     "output_type": "stream",
     "text": [
      "\u001b[90;3m2024-09-12 15:06:45,671 \u001b[0m\u001b[mdata.base                      \u001b[0m\u001b[mINFO       \u001b[0m\u001b[33m<2340.00> \u001b[0m\u001b[mData reward: {'Scanner-1': 0.0}\u001b[0m\n"
     ]
    },
    {
     "name": "stderr",
     "output_type": "stream",
     "text": [
      "\u001b[90;3m2024-09-12 15:06:45,671 \u001b[0m\u001b[36msats.satellite.Scanner-1       \u001b[0m\u001b[mINFO       \u001b[0m\u001b[33m<2340.00> \u001b[0m\u001b[36mScanner-1: \u001b[0m\u001b[mSatellite Scanner-1 requires retasking\u001b[0m\n"
     ]
    },
    {
     "name": "stderr",
     "output_type": "stream",
     "text": [
      "\u001b[90;3m2024-09-12 15:06:45,672 \u001b[0m\u001b[mgym                            \u001b[0m\u001b[mINFO       \u001b[0m\u001b[33m<2340.00> \u001b[0m\u001b[mStep reward: 0.0\u001b[0m\n"
     ]
    },
    {
     "name": "stderr",
     "output_type": "stream",
     "text": [
      "\u001b[90;3m2024-09-12 15:06:45,673 \u001b[0m\u001b[mgym                            \u001b[0m\u001b[mINFO       \u001b[0m\u001b[33m<2340.00> \u001b[0m\u001b[93;1m=== STARTING STEP ===\u001b[0m\n"
     ]
    },
    {
     "name": "stderr",
     "output_type": "stream",
     "text": [
      "\u001b[90;3m2024-09-12 15:06:45,673 \u001b[0m\u001b[36msats.satellite.Scanner-1       \u001b[0m\u001b[mINFO       \u001b[0m\u001b[33m<2340.00> \u001b[0m\u001b[36mScanner-1: \u001b[0m\u001b[maction_charge tasked for 120.0 seconds\u001b[0m\n"
     ]
    },
    {
     "name": "stderr",
     "output_type": "stream",
     "text": [
      "\u001b[90;3m2024-09-12 15:06:45,674 \u001b[0m\u001b[36msats.satellite.Scanner-1       \u001b[0m\u001b[mINFO       \u001b[0m\u001b[33m<2340.00> \u001b[0m\u001b[36mScanner-1: \u001b[0m\u001b[msetting timed terminal event at 2460.0\u001b[0m\n"
     ]
    },
    {
     "name": "stderr",
     "output_type": "stream",
     "text": [
      "\u001b[90;3m2024-09-12 15:06:45,682 \u001b[0m\u001b[36msats.satellite.Scanner-1       \u001b[0m\u001b[mINFO       \u001b[0m\u001b[33m<2460.00> \u001b[0m\u001b[36mScanner-1: \u001b[0m\u001b[mtimed termination at 2460.0 for action_charge\u001b[0m\n"
     ]
    },
    {
     "name": "stderr",
     "output_type": "stream",
     "text": [
      "\u001b[90;3m2024-09-12 15:06:45,683 \u001b[0m\u001b[mdata.base                      \u001b[0m\u001b[mINFO       \u001b[0m\u001b[33m<2460.00> \u001b[0m\u001b[mData reward: {'Scanner-1': 0.0}\u001b[0m\n"
     ]
    },
    {
     "name": "stderr",
     "output_type": "stream",
     "text": [
      "\u001b[90;3m2024-09-12 15:06:45,683 \u001b[0m\u001b[36msats.satellite.Scanner-1       \u001b[0m\u001b[mINFO       \u001b[0m\u001b[33m<2460.00> \u001b[0m\u001b[36mScanner-1: \u001b[0m\u001b[mSatellite Scanner-1 requires retasking\u001b[0m\n"
     ]
    },
    {
     "name": "stderr",
     "output_type": "stream",
     "text": [
      "\u001b[90;3m2024-09-12 15:06:45,684 \u001b[0m\u001b[mgym                            \u001b[0m\u001b[mINFO       \u001b[0m\u001b[33m<2460.00> \u001b[0m\u001b[mStep reward: 0.0\u001b[0m\n"
     ]
    },
    {
     "name": "stderr",
     "output_type": "stream",
     "text": [
      "\u001b[90;3m2024-09-12 15:06:45,685 \u001b[0m\u001b[mgym                            \u001b[0m\u001b[mINFO       \u001b[0m\u001b[33m<2460.00> \u001b[0m\u001b[93;1m=== STARTING STEP ===\u001b[0m\n"
     ]
    },
    {
     "name": "stderr",
     "output_type": "stream",
     "text": [
      "\u001b[90;3m2024-09-12 15:06:45,685 \u001b[0m\u001b[36msats.satellite.Scanner-1       \u001b[0m\u001b[mINFO       \u001b[0m\u001b[33m<2460.00> \u001b[0m\u001b[36mScanner-1: \u001b[0m\u001b[maction_downlink tasked for 60.0 seconds\u001b[0m\n"
     ]
    },
    {
     "name": "stderr",
     "output_type": "stream",
     "text": [
      "\u001b[90;3m2024-09-12 15:06:45,685 \u001b[0m\u001b[36msats.satellite.Scanner-1       \u001b[0m\u001b[mINFO       \u001b[0m\u001b[33m<2460.00> \u001b[0m\u001b[36mScanner-1: \u001b[0m\u001b[msetting timed terminal event at 2520.0\u001b[0m\n"
     ]
    },
    {
     "name": "stderr",
     "output_type": "stream",
     "text": [
      "\u001b[90;3m2024-09-12 15:06:45,690 \u001b[0m\u001b[36msats.satellite.Scanner-1       \u001b[0m\u001b[mINFO       \u001b[0m\u001b[33m<2520.00> \u001b[0m\u001b[36mScanner-1: \u001b[0m\u001b[mtimed termination at 2520.0 for action_downlink\u001b[0m\n"
     ]
    },
    {
     "name": "stderr",
     "output_type": "stream",
     "text": [
      "\u001b[90;3m2024-09-12 15:06:45,691 \u001b[0m\u001b[mdata.base                      \u001b[0m\u001b[mINFO       \u001b[0m\u001b[33m<2520.00> \u001b[0m\u001b[mData reward: {'Scanner-1': 0.0}\u001b[0m\n"
     ]
    },
    {
     "name": "stderr",
     "output_type": "stream",
     "text": [
      "\u001b[90;3m2024-09-12 15:06:45,691 \u001b[0m\u001b[36msats.satellite.Scanner-1       \u001b[0m\u001b[mINFO       \u001b[0m\u001b[33m<2520.00> \u001b[0m\u001b[36mScanner-1: \u001b[0m\u001b[mSatellite Scanner-1 requires retasking\u001b[0m\n"
     ]
    },
    {
     "name": "stderr",
     "output_type": "stream",
     "text": [
      "\u001b[90;3m2024-09-12 15:06:45,692 \u001b[0m\u001b[mgym                            \u001b[0m\u001b[mINFO       \u001b[0m\u001b[33m<2520.00> \u001b[0m\u001b[mStep reward: 0.0\u001b[0m\n"
     ]
    },
    {
     "name": "stderr",
     "output_type": "stream",
     "text": [
      "\u001b[90;3m2024-09-12 15:06:45,693 \u001b[0m\u001b[mgym                            \u001b[0m\u001b[mINFO       \u001b[0m\u001b[33m<2520.00> \u001b[0m\u001b[93;1m=== STARTING STEP ===\u001b[0m\n"
     ]
    },
    {
     "name": "stderr",
     "output_type": "stream",
     "text": [
      "\u001b[90;3m2024-09-12 15:06:45,693 \u001b[0m\u001b[36msats.satellite.Scanner-1       \u001b[0m\u001b[mINFO       \u001b[0m\u001b[33m<2520.00> \u001b[0m\u001b[36mScanner-1: \u001b[0m\u001b[maction_desat tasked for 60.0 seconds\u001b[0m\n"
     ]
    },
    {
     "name": "stderr",
     "output_type": "stream",
     "text": [
      "\u001b[90;3m2024-09-12 15:06:45,693 \u001b[0m\u001b[36msats.satellite.Scanner-1       \u001b[0m\u001b[mINFO       \u001b[0m\u001b[33m<2520.00> \u001b[0m\u001b[36mScanner-1: \u001b[0m\u001b[msetting timed terminal event at 2580.0\u001b[0m\n"
     ]
    },
    {
     "name": "stderr",
     "output_type": "stream",
     "text": [
      "\u001b[90;3m2024-09-12 15:06:45,698 \u001b[0m\u001b[36msats.satellite.Scanner-1       \u001b[0m\u001b[mINFO       \u001b[0m\u001b[33m<2580.00> \u001b[0m\u001b[36mScanner-1: \u001b[0m\u001b[mtimed termination at 2580.0 for action_desat\u001b[0m\n"
     ]
    },
    {
     "name": "stderr",
     "output_type": "stream",
     "text": [
      "\u001b[90;3m2024-09-12 15:06:45,699 \u001b[0m\u001b[mdata.base                      \u001b[0m\u001b[mINFO       \u001b[0m\u001b[33m<2580.00> \u001b[0m\u001b[mData reward: {'Scanner-1': 0.0}\u001b[0m\n"
     ]
    },
    {
     "name": "stderr",
     "output_type": "stream",
     "text": [
      "\u001b[90;3m2024-09-12 15:06:45,699 \u001b[0m\u001b[36msats.satellite.Scanner-1       \u001b[0m\u001b[mINFO       \u001b[0m\u001b[33m<2580.00> \u001b[0m\u001b[36mScanner-1: \u001b[0m\u001b[mSatellite Scanner-1 requires retasking\u001b[0m\n"
     ]
    },
    {
     "name": "stderr",
     "output_type": "stream",
     "text": [
      "\u001b[90;3m2024-09-12 15:06:45,700 \u001b[0m\u001b[mgym                            \u001b[0m\u001b[mINFO       \u001b[0m\u001b[33m<2580.00> \u001b[0m\u001b[mStep reward: 0.0\u001b[0m\n"
     ]
    },
    {
     "name": "stderr",
     "output_type": "stream",
     "text": [
      "\u001b[90;3m2024-09-12 15:06:45,701 \u001b[0m\u001b[mgym                            \u001b[0m\u001b[mINFO       \u001b[0m\u001b[33m<2580.00> \u001b[0m\u001b[93;1m=== STARTING STEP ===\u001b[0m\n"
     ]
    },
    {
     "name": "stderr",
     "output_type": "stream",
     "text": [
      "\u001b[90;3m2024-09-12 15:06:45,701 \u001b[0m\u001b[36msats.satellite.Scanner-1       \u001b[0m\u001b[mINFO       \u001b[0m\u001b[33m<2580.00> \u001b[0m\u001b[36mScanner-1: \u001b[0m\u001b[maction_nadir_scan tasked for 180.0 seconds\u001b[0m\n"
     ]
    },
    {
     "name": "stderr",
     "output_type": "stream",
     "text": [
      "\u001b[90;3m2024-09-12 15:06:45,701 \u001b[0m\u001b[36msats.satellite.Scanner-1       \u001b[0m\u001b[mINFO       \u001b[0m\u001b[33m<2580.00> \u001b[0m\u001b[36mScanner-1: \u001b[0m\u001b[msetting timed terminal event at 2760.0\u001b[0m\n"
     ]
    },
    {
     "name": "stderr",
     "output_type": "stream",
     "text": [
      "\u001b[90;3m2024-09-12 15:06:45,714 \u001b[0m\u001b[36msats.satellite.Scanner-1       \u001b[0m\u001b[mINFO       \u001b[0m\u001b[33m<2760.00> \u001b[0m\u001b[36mScanner-1: \u001b[0m\u001b[mtimed termination at 2760.0 for action_nadir_scan\u001b[0m\n"
     ]
    },
    {
     "name": "stderr",
     "output_type": "stream",
     "text": [
      "\u001b[90;3m2024-09-12 15:06:45,715 \u001b[0m\u001b[mdata.base                      \u001b[0m\u001b[mINFO       \u001b[0m\u001b[33m<2760.00> \u001b[0m\u001b[mData reward: {'Scanner-1': 0.004736842105263157}\u001b[0m\n"
     ]
    },
    {
     "name": "stderr",
     "output_type": "stream",
     "text": [
      "\u001b[90;3m2024-09-12 15:06:45,715 \u001b[0m\u001b[36msats.satellite.Scanner-1       \u001b[0m\u001b[mINFO       \u001b[0m\u001b[33m<2760.00> \u001b[0m\u001b[36mScanner-1: \u001b[0m\u001b[mSatellite Scanner-1 requires retasking\u001b[0m\n"
     ]
    },
    {
     "name": "stderr",
     "output_type": "stream",
     "text": [
      "\u001b[90;3m2024-09-12 15:06:45,716 \u001b[0m\u001b[mgym                            \u001b[0m\u001b[mINFO       \u001b[0m\u001b[33m<2760.00> \u001b[0m\u001b[mStep reward: 0.004736842105263157\u001b[0m\n"
     ]
    },
    {
     "name": "stderr",
     "output_type": "stream",
     "text": [
      "\u001b[90;3m2024-09-12 15:06:45,716 \u001b[0m\u001b[mgym                            \u001b[0m\u001b[mINFO       \u001b[0m\u001b[33m<2760.00> \u001b[0m\u001b[93;1m=== STARTING STEP ===\u001b[0m\n"
     ]
    },
    {
     "name": "stderr",
     "output_type": "stream",
     "text": [
      "\u001b[90;3m2024-09-12 15:06:45,716 \u001b[0m\u001b[36msats.satellite.Scanner-1       \u001b[0m\u001b[mINFO       \u001b[0m\u001b[33m<2760.00> \u001b[0m\u001b[36mScanner-1: \u001b[0m\u001b[maction_downlink tasked for 60.0 seconds\u001b[0m\n"
     ]
    },
    {
     "name": "stderr",
     "output_type": "stream",
     "text": [
      "\u001b[90;3m2024-09-12 15:06:45,717 \u001b[0m\u001b[36msats.satellite.Scanner-1       \u001b[0m\u001b[mINFO       \u001b[0m\u001b[33m<2760.00> \u001b[0m\u001b[36mScanner-1: \u001b[0m\u001b[msetting timed terminal event at 2820.0\u001b[0m\n"
     ]
    },
    {
     "name": "stderr",
     "output_type": "stream",
     "text": [
      "\u001b[90;3m2024-09-12 15:06:45,722 \u001b[0m\u001b[36msats.satellite.Scanner-1       \u001b[0m\u001b[mINFO       \u001b[0m\u001b[33m<2820.00> \u001b[0m\u001b[36mScanner-1: \u001b[0m\u001b[mtimed termination at 2820.0 for action_downlink\u001b[0m\n"
     ]
    },
    {
     "name": "stderr",
     "output_type": "stream",
     "text": [
      "\u001b[90;3m2024-09-12 15:06:45,722 \u001b[0m\u001b[mdata.base                      \u001b[0m\u001b[mINFO       \u001b[0m\u001b[33m<2820.00> \u001b[0m\u001b[mData reward: {'Scanner-1': 0.0}\u001b[0m\n"
     ]
    },
    {
     "name": "stderr",
     "output_type": "stream",
     "text": [
      "\u001b[90;3m2024-09-12 15:06:45,722 \u001b[0m\u001b[36msats.satellite.Scanner-1       \u001b[0m\u001b[mINFO       \u001b[0m\u001b[33m<2820.00> \u001b[0m\u001b[36mScanner-1: \u001b[0m\u001b[mSatellite Scanner-1 requires retasking\u001b[0m\n"
     ]
    },
    {
     "name": "stderr",
     "output_type": "stream",
     "text": [
      "\u001b[90;3m2024-09-12 15:06:45,723 \u001b[0m\u001b[mgym                            \u001b[0m\u001b[mINFO       \u001b[0m\u001b[33m<2820.00> \u001b[0m\u001b[mStep reward: 0.0\u001b[0m\n"
     ]
    },
    {
     "name": "stderr",
     "output_type": "stream",
     "text": [
      "\u001b[90;3m2024-09-12 15:06:45,724 \u001b[0m\u001b[mgym                            \u001b[0m\u001b[mINFO       \u001b[0m\u001b[33m<2820.00> \u001b[0m\u001b[93;1m=== STARTING STEP ===\u001b[0m\n"
     ]
    },
    {
     "name": "stderr",
     "output_type": "stream",
     "text": [
      "\u001b[90;3m2024-09-12 15:06:45,724 \u001b[0m\u001b[36msats.satellite.Scanner-1       \u001b[0m\u001b[mINFO       \u001b[0m\u001b[33m<2820.00> \u001b[0m\u001b[36mScanner-1: \u001b[0m\u001b[maction_nadir_scan tasked for 180.0 seconds\u001b[0m\n"
     ]
    },
    {
     "name": "stderr",
     "output_type": "stream",
     "text": [
      "\u001b[90;3m2024-09-12 15:06:45,725 \u001b[0m\u001b[36msats.satellite.Scanner-1       \u001b[0m\u001b[mINFO       \u001b[0m\u001b[33m<2820.00> \u001b[0m\u001b[36mScanner-1: \u001b[0m\u001b[msetting timed terminal event at 3000.0\u001b[0m\n"
     ]
    },
    {
     "name": "stderr",
     "output_type": "stream",
     "text": [
      "\u001b[90;3m2024-09-12 15:06:45,736 \u001b[0m\u001b[36msats.satellite.Scanner-1       \u001b[0m\u001b[mINFO       \u001b[0m\u001b[33m<3000.00> \u001b[0m\u001b[36mScanner-1: \u001b[0m\u001b[mtimed termination at 3000.0 for action_nadir_scan\u001b[0m\n"
     ]
    },
    {
     "name": "stderr",
     "output_type": "stream",
     "text": [
      "\u001b[90;3m2024-09-12 15:06:45,737 \u001b[0m\u001b[mdata.base                      \u001b[0m\u001b[mINFO       \u001b[0m\u001b[33m<3000.00> \u001b[0m\u001b[mData reward: {'Scanner-1': 0.004701754385964912}\u001b[0m\n"
     ]
    },
    {
     "name": "stderr",
     "output_type": "stream",
     "text": [
      "\u001b[90;3m2024-09-12 15:06:45,737 \u001b[0m\u001b[36msats.satellite.Scanner-1       \u001b[0m\u001b[mINFO       \u001b[0m\u001b[33m<3000.00> \u001b[0m\u001b[36mScanner-1: \u001b[0m\u001b[mSatellite Scanner-1 requires retasking\u001b[0m\n"
     ]
    },
    {
     "name": "stderr",
     "output_type": "stream",
     "text": [
      "\u001b[90;3m2024-09-12 15:06:45,738 \u001b[0m\u001b[mgym                            \u001b[0m\u001b[mINFO       \u001b[0m\u001b[33m<3000.00> \u001b[0m\u001b[mStep reward: 0.004701754385964912\u001b[0m\n"
     ]
    },
    {
     "name": "stderr",
     "output_type": "stream",
     "text": [
      "\u001b[90;3m2024-09-12 15:06:45,739 \u001b[0m\u001b[mgym                            \u001b[0m\u001b[mINFO       \u001b[0m\u001b[33m<3000.00> \u001b[0m\u001b[93;1m=== STARTING STEP ===\u001b[0m\n"
     ]
    },
    {
     "name": "stderr",
     "output_type": "stream",
     "text": [
      "\u001b[90;3m2024-09-12 15:06:45,739 \u001b[0m\u001b[36msats.satellite.Scanner-1       \u001b[0m\u001b[mINFO       \u001b[0m\u001b[33m<3000.00> \u001b[0m\u001b[36mScanner-1: \u001b[0m\u001b[maction_desat tasked for 60.0 seconds\u001b[0m\n"
     ]
    },
    {
     "name": "stderr",
     "output_type": "stream",
     "text": [
      "\u001b[90;3m2024-09-12 15:06:45,739 \u001b[0m\u001b[36msats.satellite.Scanner-1       \u001b[0m\u001b[mINFO       \u001b[0m\u001b[33m<3000.00> \u001b[0m\u001b[36mScanner-1: \u001b[0m\u001b[msetting timed terminal event at 3060.0\u001b[0m\n"
     ]
    },
    {
     "name": "stderr",
     "output_type": "stream",
     "text": [
      "\u001b[90;3m2024-09-12 15:06:45,744 \u001b[0m\u001b[36msats.satellite.Scanner-1       \u001b[0m\u001b[mINFO       \u001b[0m\u001b[33m<3060.00> \u001b[0m\u001b[36mScanner-1: \u001b[0m\u001b[mtimed termination at 3060.0 for action_desat\u001b[0m\n"
     ]
    },
    {
     "name": "stderr",
     "output_type": "stream",
     "text": [
      "\u001b[90;3m2024-09-12 15:06:45,744 \u001b[0m\u001b[mdata.base                      \u001b[0m\u001b[mINFO       \u001b[0m\u001b[33m<3060.00> \u001b[0m\u001b[mData reward: {'Scanner-1': 0.0}\u001b[0m\n"
     ]
    },
    {
     "name": "stderr",
     "output_type": "stream",
     "text": [
      "\u001b[90;3m2024-09-12 15:06:45,745 \u001b[0m\u001b[36msats.satellite.Scanner-1       \u001b[0m\u001b[mINFO       \u001b[0m\u001b[33m<3060.00> \u001b[0m\u001b[36mScanner-1: \u001b[0m\u001b[mSatellite Scanner-1 requires retasking\u001b[0m\n"
     ]
    },
    {
     "name": "stderr",
     "output_type": "stream",
     "text": [
      "\u001b[90;3m2024-09-12 15:06:45,746 \u001b[0m\u001b[mgym                            \u001b[0m\u001b[mINFO       \u001b[0m\u001b[33m<3060.00> \u001b[0m\u001b[mStep reward: 0.0\u001b[0m\n"
     ]
    },
    {
     "name": "stderr",
     "output_type": "stream",
     "text": [
      "\u001b[90;3m2024-09-12 15:06:45,746 \u001b[0m\u001b[mgym                            \u001b[0m\u001b[mINFO       \u001b[0m\u001b[33m<3060.00> \u001b[0m\u001b[93;1m=== STARTING STEP ===\u001b[0m\n"
     ]
    },
    {
     "name": "stderr",
     "output_type": "stream",
     "text": [
      "\u001b[90;3m2024-09-12 15:06:45,747 \u001b[0m\u001b[36msats.satellite.Scanner-1       \u001b[0m\u001b[mINFO       \u001b[0m\u001b[33m<3060.00> \u001b[0m\u001b[36mScanner-1: \u001b[0m\u001b[maction_nadir_scan tasked for 180.0 seconds\u001b[0m\n"
     ]
    },
    {
     "name": "stderr",
     "output_type": "stream",
     "text": [
      "\u001b[90;3m2024-09-12 15:06:45,747 \u001b[0m\u001b[36msats.satellite.Scanner-1       \u001b[0m\u001b[mINFO       \u001b[0m\u001b[33m<3060.00> \u001b[0m\u001b[36mScanner-1: \u001b[0m\u001b[msetting timed terminal event at 3240.0\u001b[0m\n"
     ]
    },
    {
     "name": "stderr",
     "output_type": "stream",
     "text": [
      "\u001b[90;3m2024-09-12 15:06:45,759 \u001b[0m\u001b[36msats.satellite.Scanner-1       \u001b[0m\u001b[mINFO       \u001b[0m\u001b[33m<3240.00> \u001b[0m\u001b[36mScanner-1: \u001b[0m\u001b[mtimed termination at 3240.0 for action_nadir_scan\u001b[0m\n"
     ]
    },
    {
     "name": "stderr",
     "output_type": "stream",
     "text": [
      "\u001b[90;3m2024-09-12 15:06:45,759 \u001b[0m\u001b[mdata.base                      \u001b[0m\u001b[mINFO       \u001b[0m\u001b[33m<3240.00> \u001b[0m\u001b[mData reward: {'Scanner-1': 0.004771929824561403}\u001b[0m\n"
     ]
    },
    {
     "name": "stderr",
     "output_type": "stream",
     "text": [
      "\u001b[90;3m2024-09-12 15:06:45,759 \u001b[0m\u001b[36msats.satellite.Scanner-1       \u001b[0m\u001b[mINFO       \u001b[0m\u001b[33m<3240.00> \u001b[0m\u001b[36mScanner-1: \u001b[0m\u001b[mSatellite Scanner-1 requires retasking\u001b[0m\n"
     ]
    },
    {
     "name": "stderr",
     "output_type": "stream",
     "text": [
      "\u001b[90;3m2024-09-12 15:06:45,760 \u001b[0m\u001b[mgym                            \u001b[0m\u001b[mINFO       \u001b[0m\u001b[33m<3240.00> \u001b[0m\u001b[mStep reward: 0.004771929824561403\u001b[0m\n"
     ]
    },
    {
     "name": "stderr",
     "output_type": "stream",
     "text": [
      "\u001b[90;3m2024-09-12 15:06:45,761 \u001b[0m\u001b[mgym                            \u001b[0m\u001b[mINFO       \u001b[0m\u001b[33m<3240.00> \u001b[0m\u001b[93;1m=== STARTING STEP ===\u001b[0m\n"
     ]
    },
    {
     "name": "stderr",
     "output_type": "stream",
     "text": [
      "\u001b[90;3m2024-09-12 15:06:45,761 \u001b[0m\u001b[36msats.satellite.Scanner-1       \u001b[0m\u001b[mINFO       \u001b[0m\u001b[33m<3240.00> \u001b[0m\u001b[36mScanner-1: \u001b[0m\u001b[maction_nadir_scan tasked for 180.0 seconds\u001b[0m\n"
     ]
    },
    {
     "name": "stderr",
     "output_type": "stream",
     "text": [
      "\u001b[90;3m2024-09-12 15:06:45,761 \u001b[0m\u001b[36msats.satellite.Scanner-1       \u001b[0m\u001b[mINFO       \u001b[0m\u001b[33m<3240.00> \u001b[0m\u001b[36mScanner-1: \u001b[0m\u001b[msetting timed terminal event at 3420.0\u001b[0m\n"
     ]
    },
    {
     "name": "stderr",
     "output_type": "stream",
     "text": [
      "\u001b[90;3m2024-09-12 15:06:45,774 \u001b[0m\u001b[36msats.satellite.Scanner-1       \u001b[0m\u001b[mINFO       \u001b[0m\u001b[33m<3420.00> \u001b[0m\u001b[36mScanner-1: \u001b[0m\u001b[mtimed termination at 3420.0 for action_nadir_scan\u001b[0m\n"
     ]
    },
    {
     "name": "stderr",
     "output_type": "stream",
     "text": [
      "\u001b[90;3m2024-09-12 15:06:45,775 \u001b[0m\u001b[mdata.base                      \u001b[0m\u001b[mINFO       \u001b[0m\u001b[33m<3420.00> \u001b[0m\u001b[mData reward: {'Scanner-1': 0.00631578947368421}\u001b[0m\n"
     ]
    },
    {
     "name": "stderr",
     "output_type": "stream",
     "text": [
      "\u001b[90;3m2024-09-12 15:06:45,775 \u001b[0m\u001b[36msats.satellite.Scanner-1       \u001b[0m\u001b[mINFO       \u001b[0m\u001b[33m<3420.00> \u001b[0m\u001b[36mScanner-1: \u001b[0m\u001b[mSatellite Scanner-1 requires retasking\u001b[0m\n"
     ]
    },
    {
     "name": "stderr",
     "output_type": "stream",
     "text": [
      "\u001b[90;3m2024-09-12 15:06:45,776 \u001b[0m\u001b[mgym                            \u001b[0m\u001b[mINFO       \u001b[0m\u001b[33m<3420.00> \u001b[0m\u001b[mStep reward: 0.00631578947368421\u001b[0m\n"
     ]
    },
    {
     "name": "stderr",
     "output_type": "stream",
     "text": [
      "\u001b[90;3m2024-09-12 15:06:45,777 \u001b[0m\u001b[mgym                            \u001b[0m\u001b[mINFO       \u001b[0m\u001b[33m<3420.00> \u001b[0m\u001b[93;1m=== STARTING STEP ===\u001b[0m\n"
     ]
    },
    {
     "name": "stderr",
     "output_type": "stream",
     "text": [
      "\u001b[90;3m2024-09-12 15:06:45,777 \u001b[0m\u001b[36msats.satellite.Scanner-1       \u001b[0m\u001b[mINFO       \u001b[0m\u001b[33m<3420.00> \u001b[0m\u001b[36mScanner-1: \u001b[0m\u001b[maction_desat tasked for 60.0 seconds\u001b[0m\n"
     ]
    },
    {
     "name": "stderr",
     "output_type": "stream",
     "text": [
      "\u001b[90;3m2024-09-12 15:06:45,777 \u001b[0m\u001b[36msats.satellite.Scanner-1       \u001b[0m\u001b[mINFO       \u001b[0m\u001b[33m<3420.00> \u001b[0m\u001b[36mScanner-1: \u001b[0m\u001b[msetting timed terminal event at 3480.0\u001b[0m\n"
     ]
    },
    {
     "name": "stderr",
     "output_type": "stream",
     "text": [
      "\u001b[90;3m2024-09-12 15:06:45,783 \u001b[0m\u001b[36msats.satellite.Scanner-1       \u001b[0m\u001b[mINFO       \u001b[0m\u001b[33m<3480.00> \u001b[0m\u001b[36mScanner-1: \u001b[0m\u001b[mtimed termination at 3480.0 for action_desat\u001b[0m\n"
     ]
    },
    {
     "name": "stderr",
     "output_type": "stream",
     "text": [
      "\u001b[90;3m2024-09-12 15:06:45,783 \u001b[0m\u001b[mdata.base                      \u001b[0m\u001b[mINFO       \u001b[0m\u001b[33m<3480.00> \u001b[0m\u001b[mData reward: {'Scanner-1': 0.0}\u001b[0m\n"
     ]
    },
    {
     "name": "stderr",
     "output_type": "stream",
     "text": [
      "\u001b[90;3m2024-09-12 15:06:45,783 \u001b[0m\u001b[36msats.satellite.Scanner-1       \u001b[0m\u001b[mINFO       \u001b[0m\u001b[33m<3480.00> \u001b[0m\u001b[36mScanner-1: \u001b[0m\u001b[mSatellite Scanner-1 requires retasking\u001b[0m\n"
     ]
    },
    {
     "name": "stderr",
     "output_type": "stream",
     "text": [
      "\u001b[90;3m2024-09-12 15:06:45,784 \u001b[0m\u001b[mgym                            \u001b[0m\u001b[mINFO       \u001b[0m\u001b[33m<3480.00> \u001b[0m\u001b[mStep reward: 0.0\u001b[0m\n"
     ]
    },
    {
     "name": "stderr",
     "output_type": "stream",
     "text": [
      "\u001b[90;3m2024-09-12 15:06:45,785 \u001b[0m\u001b[mgym                            \u001b[0m\u001b[mINFO       \u001b[0m\u001b[33m<3480.00> \u001b[0m\u001b[93;1m=== STARTING STEP ===\u001b[0m\n"
     ]
    },
    {
     "name": "stderr",
     "output_type": "stream",
     "text": [
      "\u001b[90;3m2024-09-12 15:06:45,785 \u001b[0m\u001b[36msats.satellite.Scanner-1       \u001b[0m\u001b[mINFO       \u001b[0m\u001b[33m<3480.00> \u001b[0m\u001b[36mScanner-1: \u001b[0m\u001b[maction_nadir_scan tasked for 180.0 seconds\u001b[0m\n"
     ]
    },
    {
     "name": "stderr",
     "output_type": "stream",
     "text": [
      "\u001b[90;3m2024-09-12 15:06:45,785 \u001b[0m\u001b[36msats.satellite.Scanner-1       \u001b[0m\u001b[mINFO       \u001b[0m\u001b[33m<3480.00> \u001b[0m\u001b[36mScanner-1: \u001b[0m\u001b[msetting timed terminal event at 3660.0\u001b[0m\n"
     ]
    },
    {
     "name": "stderr",
     "output_type": "stream",
     "text": [
      "\u001b[90;3m2024-09-12 15:06:45,798 \u001b[0m\u001b[36msats.satellite.Scanner-1       \u001b[0m\u001b[mINFO       \u001b[0m\u001b[33m<3660.00> \u001b[0m\u001b[36mScanner-1: \u001b[0m\u001b[mtimed termination at 3660.0 for action_nadir_scan\u001b[0m\n"
     ]
    },
    {
     "name": "stderr",
     "output_type": "stream",
     "text": [
      "\u001b[90;3m2024-09-12 15:06:45,799 \u001b[0m\u001b[mdata.base                      \u001b[0m\u001b[mINFO       \u001b[0m\u001b[33m<3660.00> \u001b[0m\u001b[mData reward: {'Scanner-1': 0.0048070175438596485}\u001b[0m\n"
     ]
    },
    {
     "name": "stderr",
     "output_type": "stream",
     "text": [
      "\u001b[90;3m2024-09-12 15:06:45,799 \u001b[0m\u001b[36msats.satellite.Scanner-1       \u001b[0m\u001b[mINFO       \u001b[0m\u001b[33m<3660.00> \u001b[0m\u001b[36mScanner-1: \u001b[0m\u001b[mSatellite Scanner-1 requires retasking\u001b[0m\n"
     ]
    },
    {
     "name": "stderr",
     "output_type": "stream",
     "text": [
      "\u001b[90;3m2024-09-12 15:06:45,800 \u001b[0m\u001b[mgym                            \u001b[0m\u001b[mINFO       \u001b[0m\u001b[33m<3660.00> \u001b[0m\u001b[mStep reward: 0.0048070175438596485\u001b[0m\n"
     ]
    },
    {
     "name": "stderr",
     "output_type": "stream",
     "text": [
      "\u001b[90;3m2024-09-12 15:06:45,801 \u001b[0m\u001b[mgym                            \u001b[0m\u001b[mINFO       \u001b[0m\u001b[33m<3660.00> \u001b[0m\u001b[93;1m=== STARTING STEP ===\u001b[0m\n"
     ]
    },
    {
     "name": "stderr",
     "output_type": "stream",
     "text": [
      "\u001b[90;3m2024-09-12 15:06:45,801 \u001b[0m\u001b[36msats.satellite.Scanner-1       \u001b[0m\u001b[mINFO       \u001b[0m\u001b[33m<3660.00> \u001b[0m\u001b[36mScanner-1: \u001b[0m\u001b[maction_desat tasked for 60.0 seconds\u001b[0m\n"
     ]
    },
    {
     "name": "stderr",
     "output_type": "stream",
     "text": [
      "\u001b[90;3m2024-09-12 15:06:45,802 \u001b[0m\u001b[36msats.satellite.Scanner-1       \u001b[0m\u001b[mINFO       \u001b[0m\u001b[33m<3660.00> \u001b[0m\u001b[36mScanner-1: \u001b[0m\u001b[msetting timed terminal event at 3720.0\u001b[0m\n"
     ]
    },
    {
     "name": "stderr",
     "output_type": "stream",
     "text": [
      "\u001b[90;3m2024-09-12 15:06:45,807 \u001b[0m\u001b[36msats.satellite.Scanner-1       \u001b[0m\u001b[mINFO       \u001b[0m\u001b[33m<3720.00> \u001b[0m\u001b[36mScanner-1: \u001b[0m\u001b[mtimed termination at 3720.0 for action_desat\u001b[0m\n"
     ]
    },
    {
     "name": "stderr",
     "output_type": "stream",
     "text": [
      "\u001b[90;3m2024-09-12 15:06:45,808 \u001b[0m\u001b[mdata.base                      \u001b[0m\u001b[mINFO       \u001b[0m\u001b[33m<3720.00> \u001b[0m\u001b[mData reward: {'Scanner-1': 0.0}\u001b[0m\n"
     ]
    },
    {
     "name": "stderr",
     "output_type": "stream",
     "text": [
      "\u001b[90;3m2024-09-12 15:06:45,808 \u001b[0m\u001b[36msats.satellite.Scanner-1       \u001b[0m\u001b[mINFO       \u001b[0m\u001b[33m<3720.00> \u001b[0m\u001b[36mScanner-1: \u001b[0m\u001b[mSatellite Scanner-1 requires retasking\u001b[0m\n"
     ]
    },
    {
     "name": "stderr",
     "output_type": "stream",
     "text": [
      "\u001b[90;3m2024-09-12 15:06:45,809 \u001b[0m\u001b[mgym                            \u001b[0m\u001b[mINFO       \u001b[0m\u001b[33m<3720.00> \u001b[0m\u001b[mStep reward: 0.0\u001b[0m\n"
     ]
    },
    {
     "name": "stderr",
     "output_type": "stream",
     "text": [
      "\u001b[90;3m2024-09-12 15:06:45,809 \u001b[0m\u001b[mgym                            \u001b[0m\u001b[mINFO       \u001b[0m\u001b[33m<3720.00> \u001b[0m\u001b[93;1m=== STARTING STEP ===\u001b[0m\n"
     ]
    },
    {
     "name": "stderr",
     "output_type": "stream",
     "text": [
      "\u001b[90;3m2024-09-12 15:06:45,810 \u001b[0m\u001b[36msats.satellite.Scanner-1       \u001b[0m\u001b[mINFO       \u001b[0m\u001b[33m<3720.00> \u001b[0m\u001b[36mScanner-1: \u001b[0m\u001b[maction_downlink tasked for 60.0 seconds\u001b[0m\n"
     ]
    },
    {
     "name": "stderr",
     "output_type": "stream",
     "text": [
      "\u001b[90;3m2024-09-12 15:06:45,810 \u001b[0m\u001b[36msats.satellite.Scanner-1       \u001b[0m\u001b[mINFO       \u001b[0m\u001b[33m<3720.00> \u001b[0m\u001b[36mScanner-1: \u001b[0m\u001b[msetting timed terminal event at 3780.0\u001b[0m\n"
     ]
    },
    {
     "name": "stderr",
     "output_type": "stream",
     "text": [
      "\u001b[90;3m2024-09-12 15:06:45,815 \u001b[0m\u001b[36msats.satellite.Scanner-1       \u001b[0m\u001b[mINFO       \u001b[0m\u001b[33m<3780.00> \u001b[0m\u001b[36mScanner-1: \u001b[0m\u001b[mtimed termination at 3780.0 for action_downlink\u001b[0m\n"
     ]
    },
    {
     "name": "stderr",
     "output_type": "stream",
     "text": [
      "\u001b[90;3m2024-09-12 15:06:45,815 \u001b[0m\u001b[mdata.base                      \u001b[0m\u001b[mINFO       \u001b[0m\u001b[33m<3780.00> \u001b[0m\u001b[mData reward: {'Scanner-1': 0.0}\u001b[0m\n"
     ]
    },
    {
     "name": "stderr",
     "output_type": "stream",
     "text": [
      "\u001b[90;3m2024-09-12 15:06:45,815 \u001b[0m\u001b[36msats.satellite.Scanner-1       \u001b[0m\u001b[mINFO       \u001b[0m\u001b[33m<3780.00> \u001b[0m\u001b[36mScanner-1: \u001b[0m\u001b[mSatellite Scanner-1 requires retasking\u001b[0m\n"
     ]
    },
    {
     "name": "stderr",
     "output_type": "stream",
     "text": [
      "\u001b[90;3m2024-09-12 15:06:45,816 \u001b[0m\u001b[mgym                            \u001b[0m\u001b[mINFO       \u001b[0m\u001b[33m<3780.00> \u001b[0m\u001b[mStep reward: 0.0\u001b[0m\n"
     ]
    },
    {
     "name": "stderr",
     "output_type": "stream",
     "text": [
      "\u001b[90;3m2024-09-12 15:06:45,817 \u001b[0m\u001b[mgym                            \u001b[0m\u001b[mINFO       \u001b[0m\u001b[33m<3780.00> \u001b[0m\u001b[93;1m=== STARTING STEP ===\u001b[0m\n"
     ]
    },
    {
     "name": "stderr",
     "output_type": "stream",
     "text": [
      "\u001b[90;3m2024-09-12 15:06:45,817 \u001b[0m\u001b[36msats.satellite.Scanner-1       \u001b[0m\u001b[mINFO       \u001b[0m\u001b[33m<3780.00> \u001b[0m\u001b[36mScanner-1: \u001b[0m\u001b[maction_downlink tasked for 60.0 seconds\u001b[0m\n"
     ]
    },
    {
     "name": "stderr",
     "output_type": "stream",
     "text": [
      "\u001b[90;3m2024-09-12 15:06:45,818 \u001b[0m\u001b[36msats.satellite.Scanner-1       \u001b[0m\u001b[mINFO       \u001b[0m\u001b[33m<3780.00> \u001b[0m\u001b[36mScanner-1: \u001b[0m\u001b[msetting timed terminal event at 3840.0\u001b[0m\n"
     ]
    },
    {
     "name": "stderr",
     "output_type": "stream",
     "text": [
      "\u001b[90;3m2024-09-12 15:06:45,822 \u001b[0m\u001b[36msats.satellite.Scanner-1       \u001b[0m\u001b[mINFO       \u001b[0m\u001b[33m<3840.00> \u001b[0m\u001b[36mScanner-1: \u001b[0m\u001b[mtimed termination at 3840.0 for action_downlink\u001b[0m\n"
     ]
    },
    {
     "name": "stderr",
     "output_type": "stream",
     "text": [
      "\u001b[90;3m2024-09-12 15:06:45,823 \u001b[0m\u001b[mdata.base                      \u001b[0m\u001b[mINFO       \u001b[0m\u001b[33m<3840.00> \u001b[0m\u001b[mData reward: {'Scanner-1': 0.0}\u001b[0m\n"
     ]
    },
    {
     "name": "stderr",
     "output_type": "stream",
     "text": [
      "\u001b[90;3m2024-09-12 15:06:45,823 \u001b[0m\u001b[36msats.satellite.Scanner-1       \u001b[0m\u001b[mINFO       \u001b[0m\u001b[33m<3840.00> \u001b[0m\u001b[36mScanner-1: \u001b[0m\u001b[mSatellite Scanner-1 requires retasking\u001b[0m\n"
     ]
    },
    {
     "name": "stderr",
     "output_type": "stream",
     "text": [
      "\u001b[90;3m2024-09-12 15:06:45,824 \u001b[0m\u001b[mgym                            \u001b[0m\u001b[mINFO       \u001b[0m\u001b[33m<3840.00> \u001b[0m\u001b[mStep reward: 0.0\u001b[0m\n"
     ]
    },
    {
     "name": "stderr",
     "output_type": "stream",
     "text": [
      "\u001b[90;3m2024-09-12 15:06:45,824 \u001b[0m\u001b[mgym                            \u001b[0m\u001b[mINFO       \u001b[0m\u001b[33m<3840.00> \u001b[0m\u001b[93;1m=== STARTING STEP ===\u001b[0m\n"
     ]
    },
    {
     "name": "stderr",
     "output_type": "stream",
     "text": [
      "\u001b[90;3m2024-09-12 15:06:45,825 \u001b[0m\u001b[36msats.satellite.Scanner-1       \u001b[0m\u001b[mINFO       \u001b[0m\u001b[33m<3840.00> \u001b[0m\u001b[36mScanner-1: \u001b[0m\u001b[maction_nadir_scan tasked for 180.0 seconds\u001b[0m\n"
     ]
    },
    {
     "name": "stderr",
     "output_type": "stream",
     "text": [
      "\u001b[90;3m2024-09-12 15:06:45,825 \u001b[0m\u001b[36msats.satellite.Scanner-1       \u001b[0m\u001b[mINFO       \u001b[0m\u001b[33m<3840.00> \u001b[0m\u001b[36mScanner-1: \u001b[0m\u001b[msetting timed terminal event at 4020.0\u001b[0m\n"
     ]
    },
    {
     "name": "stderr",
     "output_type": "stream",
     "text": [
      "\u001b[90;3m2024-09-12 15:06:45,838 \u001b[0m\u001b[36msats.satellite.Scanner-1       \u001b[0m\u001b[mINFO       \u001b[0m\u001b[33m<4020.00> \u001b[0m\u001b[36mScanner-1: \u001b[0m\u001b[mtimed termination at 4020.0 for action_nadir_scan\u001b[0m\n"
     ]
    },
    {
     "name": "stderr",
     "output_type": "stream",
     "text": [
      "\u001b[90;3m2024-09-12 15:06:45,839 \u001b[0m\u001b[mdata.base                      \u001b[0m\u001b[mINFO       \u001b[0m\u001b[33m<4020.00> \u001b[0m\u001b[mData reward: {'Scanner-1': 0.00487719298245614}\u001b[0m\n"
     ]
    },
    {
     "name": "stderr",
     "output_type": "stream",
     "text": [
      "\u001b[90;3m2024-09-12 15:06:45,839 \u001b[0m\u001b[36msats.satellite.Scanner-1       \u001b[0m\u001b[mINFO       \u001b[0m\u001b[33m<4020.00> \u001b[0m\u001b[36mScanner-1: \u001b[0m\u001b[mSatellite Scanner-1 requires retasking\u001b[0m\n"
     ]
    },
    {
     "name": "stderr",
     "output_type": "stream",
     "text": [
      "\u001b[90;3m2024-09-12 15:06:45,840 \u001b[0m\u001b[mgym                            \u001b[0m\u001b[mINFO       \u001b[0m\u001b[33m<4020.00> \u001b[0m\u001b[mStep reward: 0.00487719298245614\u001b[0m\n"
     ]
    },
    {
     "name": "stderr",
     "output_type": "stream",
     "text": [
      "\u001b[90;3m2024-09-12 15:06:45,841 \u001b[0m\u001b[mgym                            \u001b[0m\u001b[mINFO       \u001b[0m\u001b[33m<4020.00> \u001b[0m\u001b[93;1m=== STARTING STEP ===\u001b[0m\n"
     ]
    },
    {
     "name": "stderr",
     "output_type": "stream",
     "text": [
      "\u001b[90;3m2024-09-12 15:06:45,841 \u001b[0m\u001b[36msats.satellite.Scanner-1       \u001b[0m\u001b[mINFO       \u001b[0m\u001b[33m<4020.00> \u001b[0m\u001b[36mScanner-1: \u001b[0m\u001b[maction_charge tasked for 120.0 seconds\u001b[0m\n"
     ]
    },
    {
     "name": "stderr",
     "output_type": "stream",
     "text": [
      "\u001b[90;3m2024-09-12 15:06:45,841 \u001b[0m\u001b[36msats.satellite.Scanner-1       \u001b[0m\u001b[mINFO       \u001b[0m\u001b[33m<4020.00> \u001b[0m\u001b[36mScanner-1: \u001b[0m\u001b[msetting timed terminal event at 4140.0\u001b[0m\n"
     ]
    },
    {
     "name": "stderr",
     "output_type": "stream",
     "text": [
      "\u001b[90;3m2024-09-12 15:06:45,850 \u001b[0m\u001b[36msats.satellite.Scanner-1       \u001b[0m\u001b[mINFO       \u001b[0m\u001b[33m<4140.00> \u001b[0m\u001b[36mScanner-1: \u001b[0m\u001b[mtimed termination at 4140.0 for action_charge\u001b[0m\n"
     ]
    },
    {
     "name": "stderr",
     "output_type": "stream",
     "text": [
      "\u001b[90;3m2024-09-12 15:06:45,850 \u001b[0m\u001b[mdata.base                      \u001b[0m\u001b[mINFO       \u001b[0m\u001b[33m<4140.00> \u001b[0m\u001b[mData reward: {'Scanner-1': 0.0}\u001b[0m\n"
     ]
    },
    {
     "name": "stderr",
     "output_type": "stream",
     "text": [
      "\u001b[90;3m2024-09-12 15:06:45,851 \u001b[0m\u001b[36msats.satellite.Scanner-1       \u001b[0m\u001b[mINFO       \u001b[0m\u001b[33m<4140.00> \u001b[0m\u001b[36mScanner-1: \u001b[0m\u001b[mSatellite Scanner-1 requires retasking\u001b[0m\n"
     ]
    },
    {
     "name": "stderr",
     "output_type": "stream",
     "text": [
      "\u001b[90;3m2024-09-12 15:06:45,851 \u001b[0m\u001b[mgym                            \u001b[0m\u001b[mINFO       \u001b[0m\u001b[33m<4140.00> \u001b[0m\u001b[mStep reward: 0.0\u001b[0m\n"
     ]
    },
    {
     "name": "stderr",
     "output_type": "stream",
     "text": [
      "\u001b[90;3m2024-09-12 15:06:45,852 \u001b[0m\u001b[mgym                            \u001b[0m\u001b[mINFO       \u001b[0m\u001b[33m<4140.00> \u001b[0m\u001b[93;1m=== STARTING STEP ===\u001b[0m\n"
     ]
    },
    {
     "name": "stderr",
     "output_type": "stream",
     "text": [
      "\u001b[90;3m2024-09-12 15:06:45,852 \u001b[0m\u001b[36msats.satellite.Scanner-1       \u001b[0m\u001b[mINFO       \u001b[0m\u001b[33m<4140.00> \u001b[0m\u001b[36mScanner-1: \u001b[0m\u001b[maction_downlink tasked for 60.0 seconds\u001b[0m\n"
     ]
    },
    {
     "name": "stderr",
     "output_type": "stream",
     "text": [
      "\u001b[90;3m2024-09-12 15:06:45,853 \u001b[0m\u001b[36msats.satellite.Scanner-1       \u001b[0m\u001b[mINFO       \u001b[0m\u001b[33m<4140.00> \u001b[0m\u001b[36mScanner-1: \u001b[0m\u001b[msetting timed terminal event at 4200.0\u001b[0m\n"
     ]
    },
    {
     "name": "stderr",
     "output_type": "stream",
     "text": [
      "\u001b[90;3m2024-09-12 15:06:45,857 \u001b[0m\u001b[36msats.satellite.Scanner-1       \u001b[0m\u001b[mINFO       \u001b[0m\u001b[33m<4200.00> \u001b[0m\u001b[36mScanner-1: \u001b[0m\u001b[mtimed termination at 4200.0 for action_downlink\u001b[0m\n"
     ]
    },
    {
     "name": "stderr",
     "output_type": "stream",
     "text": [
      "\u001b[90;3m2024-09-12 15:06:45,858 \u001b[0m\u001b[mdata.base                      \u001b[0m\u001b[mINFO       \u001b[0m\u001b[33m<4200.00> \u001b[0m\u001b[mData reward: {'Scanner-1': 0.0}\u001b[0m\n"
     ]
    },
    {
     "name": "stderr",
     "output_type": "stream",
     "text": [
      "\u001b[90;3m2024-09-12 15:06:45,858 \u001b[0m\u001b[36msats.satellite.Scanner-1       \u001b[0m\u001b[mINFO       \u001b[0m\u001b[33m<4200.00> \u001b[0m\u001b[36mScanner-1: \u001b[0m\u001b[mSatellite Scanner-1 requires retasking\u001b[0m\n"
     ]
    },
    {
     "name": "stderr",
     "output_type": "stream",
     "text": [
      "\u001b[90;3m2024-09-12 15:06:45,859 \u001b[0m\u001b[mgym                            \u001b[0m\u001b[mINFO       \u001b[0m\u001b[33m<4200.00> \u001b[0m\u001b[mStep reward: 0.0\u001b[0m\n"
     ]
    },
    {
     "name": "stderr",
     "output_type": "stream",
     "text": [
      "\u001b[90;3m2024-09-12 15:06:45,859 \u001b[0m\u001b[mgym                            \u001b[0m\u001b[mINFO       \u001b[0m\u001b[33m<4200.00> \u001b[0m\u001b[93;1m=== STARTING STEP ===\u001b[0m\n"
     ]
    },
    {
     "name": "stderr",
     "output_type": "stream",
     "text": [
      "\u001b[90;3m2024-09-12 15:06:45,860 \u001b[0m\u001b[36msats.satellite.Scanner-1       \u001b[0m\u001b[mINFO       \u001b[0m\u001b[33m<4200.00> \u001b[0m\u001b[36mScanner-1: \u001b[0m\u001b[maction_nadir_scan tasked for 180.0 seconds\u001b[0m\n"
     ]
    },
    {
     "name": "stderr",
     "output_type": "stream",
     "text": [
      "\u001b[90;3m2024-09-12 15:06:45,860 \u001b[0m\u001b[36msats.satellite.Scanner-1       \u001b[0m\u001b[mINFO       \u001b[0m\u001b[33m<4200.00> \u001b[0m\u001b[36mScanner-1: \u001b[0m\u001b[msetting timed terminal event at 4380.0\u001b[0m\n"
     ]
    },
    {
     "name": "stderr",
     "output_type": "stream",
     "text": [
      "\u001b[90;3m2024-09-12 15:06:45,874 \u001b[0m\u001b[36msats.satellite.Scanner-1       \u001b[0m\u001b[mINFO       \u001b[0m\u001b[33m<4380.00> \u001b[0m\u001b[36mScanner-1: \u001b[0m\u001b[mtimed termination at 4380.0 for action_nadir_scan\u001b[0m\n"
     ]
    },
    {
     "name": "stderr",
     "output_type": "stream",
     "text": [
      "\u001b[90;3m2024-09-12 15:06:45,875 \u001b[0m\u001b[mdata.base                      \u001b[0m\u001b[mINFO       \u001b[0m\u001b[33m<4380.00> \u001b[0m\u001b[mData reward: {'Scanner-1': 0.004842105263157894}\u001b[0m\n"
     ]
    },
    {
     "name": "stderr",
     "output_type": "stream",
     "text": [
      "\u001b[90;3m2024-09-12 15:06:45,875 \u001b[0m\u001b[36msats.satellite.Scanner-1       \u001b[0m\u001b[mINFO       \u001b[0m\u001b[33m<4380.00> \u001b[0m\u001b[36mScanner-1: \u001b[0m\u001b[mSatellite Scanner-1 requires retasking\u001b[0m\n"
     ]
    },
    {
     "name": "stderr",
     "output_type": "stream",
     "text": [
      "\u001b[90;3m2024-09-12 15:06:45,876 \u001b[0m\u001b[mgym                            \u001b[0m\u001b[mINFO       \u001b[0m\u001b[33m<4380.00> \u001b[0m\u001b[mStep reward: 0.004842105263157894\u001b[0m\n"
     ]
    },
    {
     "name": "stderr",
     "output_type": "stream",
     "text": [
      "\u001b[90;3m2024-09-12 15:06:45,877 \u001b[0m\u001b[mgym                            \u001b[0m\u001b[mINFO       \u001b[0m\u001b[33m<4380.00> \u001b[0m\u001b[93;1m=== STARTING STEP ===\u001b[0m\n"
     ]
    },
    {
     "name": "stderr",
     "output_type": "stream",
     "text": [
      "\u001b[90;3m2024-09-12 15:06:45,877 \u001b[0m\u001b[36msats.satellite.Scanner-1       \u001b[0m\u001b[mINFO       \u001b[0m\u001b[33m<4380.00> \u001b[0m\u001b[36mScanner-1: \u001b[0m\u001b[maction_desat tasked for 60.0 seconds\u001b[0m\n"
     ]
    },
    {
     "name": "stderr",
     "output_type": "stream",
     "text": [
      "\u001b[90;3m2024-09-12 15:06:45,878 \u001b[0m\u001b[36msats.satellite.Scanner-1       \u001b[0m\u001b[mINFO       \u001b[0m\u001b[33m<4380.00> \u001b[0m\u001b[36mScanner-1: \u001b[0m\u001b[msetting timed terminal event at 4440.0\u001b[0m\n"
     ]
    },
    {
     "name": "stderr",
     "output_type": "stream",
     "text": [
      "\u001b[90;3m2024-09-12 15:06:45,884 \u001b[0m\u001b[36msats.satellite.Scanner-1       \u001b[0m\u001b[mINFO       \u001b[0m\u001b[33m<4440.00> \u001b[0m\u001b[36mScanner-1: \u001b[0m\u001b[mtimed termination at 4440.0 for action_desat\u001b[0m\n"
     ]
    },
    {
     "name": "stderr",
     "output_type": "stream",
     "text": [
      "\u001b[90;3m2024-09-12 15:06:45,884 \u001b[0m\u001b[mdata.base                      \u001b[0m\u001b[mINFO       \u001b[0m\u001b[33m<4440.00> \u001b[0m\u001b[mData reward: {'Scanner-1': 0.0}\u001b[0m\n"
     ]
    },
    {
     "name": "stderr",
     "output_type": "stream",
     "text": [
      "\u001b[90;3m2024-09-12 15:06:45,885 \u001b[0m\u001b[36msats.satellite.Scanner-1       \u001b[0m\u001b[mINFO       \u001b[0m\u001b[33m<4440.00> \u001b[0m\u001b[36mScanner-1: \u001b[0m\u001b[mSatellite Scanner-1 requires retasking\u001b[0m\n"
     ]
    },
    {
     "name": "stderr",
     "output_type": "stream",
     "text": [
      "\u001b[90;3m2024-09-12 15:06:45,886 \u001b[0m\u001b[mgym                            \u001b[0m\u001b[mINFO       \u001b[0m\u001b[33m<4440.00> \u001b[0m\u001b[mStep reward: 0.0\u001b[0m\n"
     ]
    },
    {
     "name": "stderr",
     "output_type": "stream",
     "text": [
      "\u001b[90;3m2024-09-12 15:06:45,886 \u001b[0m\u001b[mgym                            \u001b[0m\u001b[mINFO       \u001b[0m\u001b[33m<4440.00> \u001b[0m\u001b[93;1m=== STARTING STEP ===\u001b[0m\n"
     ]
    },
    {
     "name": "stderr",
     "output_type": "stream",
     "text": [
      "\u001b[90;3m2024-09-12 15:06:45,887 \u001b[0m\u001b[36msats.satellite.Scanner-1       \u001b[0m\u001b[mINFO       \u001b[0m\u001b[33m<4440.00> \u001b[0m\u001b[36mScanner-1: \u001b[0m\u001b[maction_charge tasked for 120.0 seconds\u001b[0m\n"
     ]
    },
    {
     "name": "stderr",
     "output_type": "stream",
     "text": [
      "\u001b[90;3m2024-09-12 15:06:45,887 \u001b[0m\u001b[36msats.satellite.Scanner-1       \u001b[0m\u001b[mINFO       \u001b[0m\u001b[33m<4440.00> \u001b[0m\u001b[36mScanner-1: \u001b[0m\u001b[msetting timed terminal event at 4560.0\u001b[0m\n"
     ]
    },
    {
     "name": "stderr",
     "output_type": "stream",
     "text": [
      "\u001b[90;3m2024-09-12 15:06:45,896 \u001b[0m\u001b[36msats.satellite.Scanner-1       \u001b[0m\u001b[mINFO       \u001b[0m\u001b[33m<4560.00> \u001b[0m\u001b[36mScanner-1: \u001b[0m\u001b[mtimed termination at 4560.0 for action_charge\u001b[0m\n"
     ]
    },
    {
     "name": "stderr",
     "output_type": "stream",
     "text": [
      "\u001b[90;3m2024-09-12 15:06:45,897 \u001b[0m\u001b[mdata.base                      \u001b[0m\u001b[mINFO       \u001b[0m\u001b[33m<4560.00> \u001b[0m\u001b[mData reward: {'Scanner-1': 0.0}\u001b[0m\n"
     ]
    },
    {
     "name": "stderr",
     "output_type": "stream",
     "text": [
      "\u001b[90;3m2024-09-12 15:06:45,897 \u001b[0m\u001b[36msats.satellite.Scanner-1       \u001b[0m\u001b[mINFO       \u001b[0m\u001b[33m<4560.00> \u001b[0m\u001b[36mScanner-1: \u001b[0m\u001b[mSatellite Scanner-1 requires retasking\u001b[0m\n"
     ]
    },
    {
     "name": "stderr",
     "output_type": "stream",
     "text": [
      "\u001b[90;3m2024-09-12 15:06:45,897 \u001b[0m\u001b[mgym                            \u001b[0m\u001b[mINFO       \u001b[0m\u001b[33m<4560.00> \u001b[0m\u001b[mStep reward: 0.0\u001b[0m\n"
     ]
    },
    {
     "name": "stderr",
     "output_type": "stream",
     "text": [
      "\u001b[90;3m2024-09-12 15:06:45,898 \u001b[0m\u001b[mgym                            \u001b[0m\u001b[mINFO       \u001b[0m\u001b[33m<4560.00> \u001b[0m\u001b[93;1m=== STARTING STEP ===\u001b[0m\n"
     ]
    },
    {
     "name": "stderr",
     "output_type": "stream",
     "text": [
      "\u001b[90;3m2024-09-12 15:06:45,898 \u001b[0m\u001b[36msats.satellite.Scanner-1       \u001b[0m\u001b[mINFO       \u001b[0m\u001b[33m<4560.00> \u001b[0m\u001b[36mScanner-1: \u001b[0m\u001b[maction_downlink tasked for 60.0 seconds\u001b[0m\n"
     ]
    },
    {
     "name": "stderr",
     "output_type": "stream",
     "text": [
      "\u001b[90;3m2024-09-12 15:06:45,898 \u001b[0m\u001b[36msats.satellite.Scanner-1       \u001b[0m\u001b[mINFO       \u001b[0m\u001b[33m<4560.00> \u001b[0m\u001b[36mScanner-1: \u001b[0m\u001b[msetting timed terminal event at 4620.0\u001b[0m\n"
     ]
    },
    {
     "name": "stderr",
     "output_type": "stream",
     "text": [
      "\u001b[90;3m2024-09-12 15:06:45,902 \u001b[0m\u001b[36msats.satellite.Scanner-1       \u001b[0m\u001b[mINFO       \u001b[0m\u001b[33m<4620.00> \u001b[0m\u001b[36mScanner-1: \u001b[0m\u001b[mtimed termination at 4620.0 for action_downlink\u001b[0m\n"
     ]
    },
    {
     "name": "stderr",
     "output_type": "stream",
     "text": [
      "\u001b[90;3m2024-09-12 15:06:45,903 \u001b[0m\u001b[mdata.base                      \u001b[0m\u001b[mINFO       \u001b[0m\u001b[33m<4620.00> \u001b[0m\u001b[mData reward: {'Scanner-1': 0.0}\u001b[0m\n"
     ]
    },
    {
     "name": "stderr",
     "output_type": "stream",
     "text": [
      "\u001b[90;3m2024-09-12 15:06:45,903 \u001b[0m\u001b[36msats.satellite.Scanner-1       \u001b[0m\u001b[mINFO       \u001b[0m\u001b[33m<4620.00> \u001b[0m\u001b[36mScanner-1: \u001b[0m\u001b[mSatellite Scanner-1 requires retasking\u001b[0m\n"
     ]
    },
    {
     "name": "stderr",
     "output_type": "stream",
     "text": [
      "\u001b[90;3m2024-09-12 15:06:45,904 \u001b[0m\u001b[mgym                            \u001b[0m\u001b[mINFO       \u001b[0m\u001b[33m<4620.00> \u001b[0m\u001b[mStep reward: 0.0\u001b[0m\n"
     ]
    },
    {
     "name": "stderr",
     "output_type": "stream",
     "text": [
      "\u001b[90;3m2024-09-12 15:06:45,905 \u001b[0m\u001b[mgym                            \u001b[0m\u001b[mINFO       \u001b[0m\u001b[33m<4620.00> \u001b[0m\u001b[93;1m=== STARTING STEP ===\u001b[0m\n"
     ]
    },
    {
     "name": "stderr",
     "output_type": "stream",
     "text": [
      "\u001b[90;3m2024-09-12 15:06:45,905 \u001b[0m\u001b[36msats.satellite.Scanner-1       \u001b[0m\u001b[mINFO       \u001b[0m\u001b[33m<4620.00> \u001b[0m\u001b[36mScanner-1: \u001b[0m\u001b[maction_desat tasked for 60.0 seconds\u001b[0m\n"
     ]
    },
    {
     "name": "stderr",
     "output_type": "stream",
     "text": [
      "\u001b[90;3m2024-09-12 15:06:45,905 \u001b[0m\u001b[36msats.satellite.Scanner-1       \u001b[0m\u001b[mINFO       \u001b[0m\u001b[33m<4620.00> \u001b[0m\u001b[36mScanner-1: \u001b[0m\u001b[msetting timed terminal event at 4680.0\u001b[0m\n"
     ]
    },
    {
     "name": "stderr",
     "output_type": "stream",
     "text": [
      "\u001b[90;3m2024-09-12 15:06:45,909 \u001b[0m\u001b[36msats.satellite.Scanner-1       \u001b[0m\u001b[mINFO       \u001b[0m\u001b[33m<4680.00> \u001b[0m\u001b[36mScanner-1: \u001b[0m\u001b[mtimed termination at 4680.0 for action_desat\u001b[0m\n"
     ]
    },
    {
     "name": "stderr",
     "output_type": "stream",
     "text": [
      "\u001b[90;3m2024-09-12 15:06:45,910 \u001b[0m\u001b[mdata.base                      \u001b[0m\u001b[mINFO       \u001b[0m\u001b[33m<4680.00> \u001b[0m\u001b[mData reward: {'Scanner-1': 0.0}\u001b[0m\n"
     ]
    },
    {
     "name": "stderr",
     "output_type": "stream",
     "text": [
      "\u001b[90;3m2024-09-12 15:06:45,910 \u001b[0m\u001b[36msats.satellite.Scanner-1       \u001b[0m\u001b[mINFO       \u001b[0m\u001b[33m<4680.00> \u001b[0m\u001b[36mScanner-1: \u001b[0m\u001b[mSatellite Scanner-1 requires retasking\u001b[0m\n"
     ]
    },
    {
     "name": "stderr",
     "output_type": "stream",
     "text": [
      "\u001b[90;3m2024-09-12 15:06:45,910 \u001b[0m\u001b[mgym                            \u001b[0m\u001b[mINFO       \u001b[0m\u001b[33m<4680.00> \u001b[0m\u001b[mStep reward: 0.0\u001b[0m\n"
     ]
    },
    {
     "name": "stderr",
     "output_type": "stream",
     "text": [
      "\u001b[90;3m2024-09-12 15:06:45,911 \u001b[0m\u001b[mgym                            \u001b[0m\u001b[mINFO       \u001b[0m\u001b[33m<4680.00> \u001b[0m\u001b[93;1m=== STARTING STEP ===\u001b[0m\n"
     ]
    },
    {
     "name": "stderr",
     "output_type": "stream",
     "text": [
      "\u001b[90;3m2024-09-12 15:06:45,911 \u001b[0m\u001b[36msats.satellite.Scanner-1       \u001b[0m\u001b[mINFO       \u001b[0m\u001b[33m<4680.00> \u001b[0m\u001b[36mScanner-1: \u001b[0m\u001b[maction_nadir_scan tasked for 180.0 seconds\u001b[0m\n"
     ]
    },
    {
     "name": "stderr",
     "output_type": "stream",
     "text": [
      "\u001b[90;3m2024-09-12 15:06:45,911 \u001b[0m\u001b[36msats.satellite.Scanner-1       \u001b[0m\u001b[mINFO       \u001b[0m\u001b[33m<4680.00> \u001b[0m\u001b[36mScanner-1: \u001b[0m\u001b[msetting timed terminal event at 4860.0\u001b[0m\n"
     ]
    },
    {
     "name": "stderr",
     "output_type": "stream",
     "text": [
      "\u001b[90;3m2024-09-12 15:06:45,922 \u001b[0m\u001b[36msats.satellite.Scanner-1       \u001b[0m\u001b[mINFO       \u001b[0m\u001b[33m<4860.00> \u001b[0m\u001b[36mScanner-1: \u001b[0m\u001b[mtimed termination at 4860.0 for action_nadir_scan\u001b[0m\n"
     ]
    },
    {
     "name": "stderr",
     "output_type": "stream",
     "text": [
      "\u001b[90;3m2024-09-12 15:06:45,923 \u001b[0m\u001b[mdata.base                      \u001b[0m\u001b[mINFO       \u001b[0m\u001b[33m<4860.00> \u001b[0m\u001b[mData reward: {'Scanner-1': 0.004912280701754385}\u001b[0m\n"
     ]
    },
    {
     "name": "stderr",
     "output_type": "stream",
     "text": [
      "\u001b[90;3m2024-09-12 15:06:45,923 \u001b[0m\u001b[36msats.satellite.Scanner-1       \u001b[0m\u001b[mINFO       \u001b[0m\u001b[33m<4860.00> \u001b[0m\u001b[36mScanner-1: \u001b[0m\u001b[mSatellite Scanner-1 requires retasking\u001b[0m\n"
     ]
    },
    {
     "name": "stderr",
     "output_type": "stream",
     "text": [
      "\u001b[90;3m2024-09-12 15:06:45,924 \u001b[0m\u001b[mgym                            \u001b[0m\u001b[mINFO       \u001b[0m\u001b[33m<4860.00> \u001b[0m\u001b[mStep reward: 0.004912280701754385\u001b[0m\n"
     ]
    },
    {
     "name": "stderr",
     "output_type": "stream",
     "text": [
      "\u001b[90;3m2024-09-12 15:06:45,925 \u001b[0m\u001b[mgym                            \u001b[0m\u001b[mINFO       \u001b[0m\u001b[33m<4860.00> \u001b[0m\u001b[93;1m=== STARTING STEP ===\u001b[0m\n"
     ]
    },
    {
     "name": "stderr",
     "output_type": "stream",
     "text": [
      "\u001b[90;3m2024-09-12 15:06:45,925 \u001b[0m\u001b[36msats.satellite.Scanner-1       \u001b[0m\u001b[mINFO       \u001b[0m\u001b[33m<4860.00> \u001b[0m\u001b[36mScanner-1: \u001b[0m\u001b[maction_charge tasked for 120.0 seconds\u001b[0m\n"
     ]
    },
    {
     "name": "stderr",
     "output_type": "stream",
     "text": [
      "\u001b[90;3m2024-09-12 15:06:45,925 \u001b[0m\u001b[36msats.satellite.Scanner-1       \u001b[0m\u001b[mINFO       \u001b[0m\u001b[33m<4860.00> \u001b[0m\u001b[36mScanner-1: \u001b[0m\u001b[msetting timed terminal event at 4980.0\u001b[0m\n"
     ]
    },
    {
     "name": "stderr",
     "output_type": "stream",
     "text": [
      "\u001b[90;3m2024-09-12 15:06:45,932 \u001b[0m\u001b[36msats.satellite.Scanner-1       \u001b[0m\u001b[mINFO       \u001b[0m\u001b[33m<4980.00> \u001b[0m\u001b[36mScanner-1: \u001b[0m\u001b[mtimed termination at 4980.0 for action_charge\u001b[0m\n"
     ]
    },
    {
     "name": "stderr",
     "output_type": "stream",
     "text": [
      "\u001b[90;3m2024-09-12 15:06:45,932 \u001b[0m\u001b[mdata.base                      \u001b[0m\u001b[mINFO       \u001b[0m\u001b[33m<4980.00> \u001b[0m\u001b[mData reward: {'Scanner-1': 0.0}\u001b[0m\n"
     ]
    },
    {
     "name": "stderr",
     "output_type": "stream",
     "text": [
      "\u001b[90;3m2024-09-12 15:06:45,933 \u001b[0m\u001b[36msats.satellite.Scanner-1       \u001b[0m\u001b[mINFO       \u001b[0m\u001b[33m<4980.00> \u001b[0m\u001b[36mScanner-1: \u001b[0m\u001b[mSatellite Scanner-1 requires retasking\u001b[0m\n"
     ]
    },
    {
     "name": "stderr",
     "output_type": "stream",
     "text": [
      "\u001b[90;3m2024-09-12 15:06:45,934 \u001b[0m\u001b[mgym                            \u001b[0m\u001b[mINFO       \u001b[0m\u001b[33m<4980.00> \u001b[0m\u001b[mStep reward: 0.0\u001b[0m\n"
     ]
    },
    {
     "name": "stderr",
     "output_type": "stream",
     "text": [
      "\u001b[90;3m2024-09-12 15:06:45,934 \u001b[0m\u001b[mgym                            \u001b[0m\u001b[mINFO       \u001b[0m\u001b[33m<4980.00> \u001b[0m\u001b[93;1m=== STARTING STEP ===\u001b[0m\n"
     ]
    },
    {
     "name": "stderr",
     "output_type": "stream",
     "text": [
      "\u001b[90;3m2024-09-12 15:06:45,934 \u001b[0m\u001b[36msats.satellite.Scanner-1       \u001b[0m\u001b[mINFO       \u001b[0m\u001b[33m<4980.00> \u001b[0m\u001b[36mScanner-1: \u001b[0m\u001b[maction_nadir_scan tasked for 180.0 seconds\u001b[0m\n"
     ]
    },
    {
     "name": "stderr",
     "output_type": "stream",
     "text": [
      "\u001b[90;3m2024-09-12 15:06:45,935 \u001b[0m\u001b[36msats.satellite.Scanner-1       \u001b[0m\u001b[mINFO       \u001b[0m\u001b[33m<4980.00> \u001b[0m\u001b[36mScanner-1: \u001b[0m\u001b[msetting timed terminal event at 5160.0\u001b[0m\n"
     ]
    },
    {
     "name": "stderr",
     "output_type": "stream",
     "text": [
      "\u001b[90;3m2024-09-12 15:06:45,946 \u001b[0m\u001b[36msats.satellite.Scanner-1       \u001b[0m\u001b[mINFO       \u001b[0m\u001b[33m<5160.00> \u001b[0m\u001b[36mScanner-1: \u001b[0m\u001b[mtimed termination at 5160.0 for action_nadir_scan\u001b[0m\n"
     ]
    },
    {
     "name": "stderr",
     "output_type": "stream",
     "text": [
      "\u001b[90;3m2024-09-12 15:06:45,946 \u001b[0m\u001b[mdata.base                      \u001b[0m\u001b[mINFO       \u001b[0m\u001b[33m<5160.00> \u001b[0m\u001b[mData reward: {'Scanner-1': 0.005263157894736842}\u001b[0m\n"
     ]
    },
    {
     "name": "stderr",
     "output_type": "stream",
     "text": [
      "\u001b[90;3m2024-09-12 15:06:45,946 \u001b[0m\u001b[36msats.satellite.Scanner-1       \u001b[0m\u001b[mINFO       \u001b[0m\u001b[33m<5160.00> \u001b[0m\u001b[36mScanner-1: \u001b[0m\u001b[mSatellite Scanner-1 requires retasking\u001b[0m\n"
     ]
    },
    {
     "name": "stderr",
     "output_type": "stream",
     "text": [
      "\u001b[90;3m2024-09-12 15:06:45,947 \u001b[0m\u001b[mgym                            \u001b[0m\u001b[mINFO       \u001b[0m\u001b[33m<5160.00> \u001b[0m\u001b[mStep reward: 0.005263157894736842\u001b[0m\n"
     ]
    },
    {
     "name": "stderr",
     "output_type": "stream",
     "text": [
      "\u001b[90;3m2024-09-12 15:06:45,948 \u001b[0m\u001b[mgym                            \u001b[0m\u001b[mINFO       \u001b[0m\u001b[33m<5160.00> \u001b[0m\u001b[93;1m=== STARTING STEP ===\u001b[0m\n"
     ]
    },
    {
     "name": "stderr",
     "output_type": "stream",
     "text": [
      "\u001b[90;3m2024-09-12 15:06:45,948 \u001b[0m\u001b[36msats.satellite.Scanner-1       \u001b[0m\u001b[mINFO       \u001b[0m\u001b[33m<5160.00> \u001b[0m\u001b[36mScanner-1: \u001b[0m\u001b[maction_nadir_scan tasked for 180.0 seconds\u001b[0m\n"
     ]
    },
    {
     "name": "stderr",
     "output_type": "stream",
     "text": [
      "\u001b[90;3m2024-09-12 15:06:45,948 \u001b[0m\u001b[36msats.satellite.Scanner-1       \u001b[0m\u001b[mINFO       \u001b[0m\u001b[33m<5160.00> \u001b[0m\u001b[36mScanner-1: \u001b[0m\u001b[msetting timed terminal event at 5340.0\u001b[0m\n"
     ]
    },
    {
     "name": "stderr",
     "output_type": "stream",
     "text": [
      "\u001b[90;3m2024-09-12 15:06:45,959 \u001b[0m\u001b[36msats.satellite.Scanner-1       \u001b[0m\u001b[mINFO       \u001b[0m\u001b[33m<5340.00> \u001b[0m\u001b[36mScanner-1: \u001b[0m\u001b[mtimed termination at 5340.0 for action_nadir_scan\u001b[0m\n"
     ]
    },
    {
     "name": "stderr",
     "output_type": "stream",
     "text": [
      "\u001b[90;3m2024-09-12 15:06:45,959 \u001b[0m\u001b[mdata.base                      \u001b[0m\u001b[mINFO       \u001b[0m\u001b[33m<5340.00> \u001b[0m\u001b[mData reward: {'Scanner-1': 0.00631578947368421}\u001b[0m\n"
     ]
    },
    {
     "name": "stderr",
     "output_type": "stream",
     "text": [
      "\u001b[90;3m2024-09-12 15:06:45,959 \u001b[0m\u001b[36msats.satellite.Scanner-1       \u001b[0m\u001b[mINFO       \u001b[0m\u001b[33m<5340.00> \u001b[0m\u001b[36mScanner-1: \u001b[0m\u001b[mSatellite Scanner-1 requires retasking\u001b[0m\n"
     ]
    },
    {
     "name": "stderr",
     "output_type": "stream",
     "text": [
      "\u001b[90;3m2024-09-12 15:06:45,960 \u001b[0m\u001b[mgym                            \u001b[0m\u001b[mINFO       \u001b[0m\u001b[33m<5340.00> \u001b[0m\u001b[mStep reward: 0.00631578947368421\u001b[0m\n"
     ]
    },
    {
     "name": "stderr",
     "output_type": "stream",
     "text": [
      "\u001b[90;3m2024-09-12 15:06:45,961 \u001b[0m\u001b[mgym                            \u001b[0m\u001b[mINFO       \u001b[0m\u001b[33m<5340.00> \u001b[0m\u001b[93;1m=== STARTING STEP ===\u001b[0m\n"
     ]
    },
    {
     "name": "stderr",
     "output_type": "stream",
     "text": [
      "\u001b[90;3m2024-09-12 15:06:45,961 \u001b[0m\u001b[36msats.satellite.Scanner-1       \u001b[0m\u001b[mINFO       \u001b[0m\u001b[33m<5340.00> \u001b[0m\u001b[36mScanner-1: \u001b[0m\u001b[maction_desat tasked for 60.0 seconds\u001b[0m\n"
     ]
    },
    {
     "name": "stderr",
     "output_type": "stream",
     "text": [
      "\u001b[90;3m2024-09-12 15:06:45,961 \u001b[0m\u001b[36msats.satellite.Scanner-1       \u001b[0m\u001b[mINFO       \u001b[0m\u001b[33m<5340.00> \u001b[0m\u001b[36mScanner-1: \u001b[0m\u001b[msetting timed terminal event at 5400.0\u001b[0m\n"
     ]
    },
    {
     "name": "stderr",
     "output_type": "stream",
     "text": [
      "\u001b[90;3m2024-09-12 15:06:45,965 \u001b[0m\u001b[36msats.satellite.Scanner-1       \u001b[0m\u001b[mINFO       \u001b[0m\u001b[33m<5400.00> \u001b[0m\u001b[36mScanner-1: \u001b[0m\u001b[mtimed termination at 5400.0 for action_desat\u001b[0m\n"
     ]
    },
    {
     "name": "stderr",
     "output_type": "stream",
     "text": [
      "\u001b[90;3m2024-09-12 15:06:45,966 \u001b[0m\u001b[mdata.base                      \u001b[0m\u001b[mINFO       \u001b[0m\u001b[33m<5400.00> \u001b[0m\u001b[mData reward: {'Scanner-1': 0.0}\u001b[0m\n"
     ]
    },
    {
     "name": "stderr",
     "output_type": "stream",
     "text": [
      "\u001b[90;3m2024-09-12 15:06:45,966 \u001b[0m\u001b[36msats.satellite.Scanner-1       \u001b[0m\u001b[mINFO       \u001b[0m\u001b[33m<5400.00> \u001b[0m\u001b[36mScanner-1: \u001b[0m\u001b[mSatellite Scanner-1 requires retasking\u001b[0m\n"
     ]
    },
    {
     "name": "stderr",
     "output_type": "stream",
     "text": [
      "\u001b[90;3m2024-09-12 15:06:45,967 \u001b[0m\u001b[mgym                            \u001b[0m\u001b[mINFO       \u001b[0m\u001b[33m<5400.00> \u001b[0m\u001b[mStep reward: 0.0\u001b[0m\n"
     ]
    },
    {
     "name": "stderr",
     "output_type": "stream",
     "text": [
      "\u001b[90;3m2024-09-12 15:06:45,967 \u001b[0m\u001b[mgym                            \u001b[0m\u001b[mINFO       \u001b[0m\u001b[33m<5400.00> \u001b[0m\u001b[93;1m=== STARTING STEP ===\u001b[0m\n"
     ]
    },
    {
     "name": "stderr",
     "output_type": "stream",
     "text": [
      "\u001b[90;3m2024-09-12 15:06:45,967 \u001b[0m\u001b[36msats.satellite.Scanner-1       \u001b[0m\u001b[mINFO       \u001b[0m\u001b[33m<5400.00> \u001b[0m\u001b[36mScanner-1: \u001b[0m\u001b[maction_nadir_scan tasked for 180.0 seconds\u001b[0m\n"
     ]
    },
    {
     "name": "stderr",
     "output_type": "stream",
     "text": [
      "\u001b[90;3m2024-09-12 15:06:45,967 \u001b[0m\u001b[36msats.satellite.Scanner-1       \u001b[0m\u001b[mINFO       \u001b[0m\u001b[33m<5400.00> \u001b[0m\u001b[36mScanner-1: \u001b[0m\u001b[msetting timed terminal event at 5580.0\u001b[0m\n"
     ]
    },
    {
     "name": "stderr",
     "output_type": "stream",
     "text": [
      "\u001b[90;3m2024-09-12 15:06:45,978 \u001b[0m\u001b[36msats.satellite.Scanner-1       \u001b[0m\u001b[mINFO       \u001b[0m\u001b[33m<5580.00> \u001b[0m\u001b[36mScanner-1: \u001b[0m\u001b[mtimed termination at 5580.0 for action_nadir_scan\u001b[0m\n"
     ]
    },
    {
     "name": "stderr",
     "output_type": "stream",
     "text": [
      "\u001b[90;3m2024-09-12 15:06:45,978 \u001b[0m\u001b[mdata.base                      \u001b[0m\u001b[mINFO       \u001b[0m\u001b[33m<5580.00> \u001b[0m\u001b[mData reward: {'Scanner-1': 0.00487719298245614}\u001b[0m\n"
     ]
    },
    {
     "name": "stderr",
     "output_type": "stream",
     "text": [
      "\u001b[90;3m2024-09-12 15:06:45,978 \u001b[0m\u001b[36msats.satellite.Scanner-1       \u001b[0m\u001b[mINFO       \u001b[0m\u001b[33m<5580.00> \u001b[0m\u001b[36mScanner-1: \u001b[0m\u001b[mSatellite Scanner-1 requires retasking\u001b[0m\n"
     ]
    },
    {
     "name": "stderr",
     "output_type": "stream",
     "text": [
      "\u001b[90;3m2024-09-12 15:06:45,979 \u001b[0m\u001b[mgym                            \u001b[0m\u001b[mINFO       \u001b[0m\u001b[33m<5580.00> \u001b[0m\u001b[mStep reward: 0.00487719298245614\u001b[0m\n"
     ]
    },
    {
     "name": "stderr",
     "output_type": "stream",
     "text": [
      "\u001b[90;3m2024-09-12 15:06:45,979 \u001b[0m\u001b[mgym                            \u001b[0m\u001b[mINFO       \u001b[0m\u001b[33m<5580.00> \u001b[0m\u001b[93;1m=== STARTING STEP ===\u001b[0m\n"
     ]
    },
    {
     "name": "stderr",
     "output_type": "stream",
     "text": [
      "\u001b[90;3m2024-09-12 15:06:45,979 \u001b[0m\u001b[36msats.satellite.Scanner-1       \u001b[0m\u001b[mINFO       \u001b[0m\u001b[33m<5580.00> \u001b[0m\u001b[36mScanner-1: \u001b[0m\u001b[maction_downlink tasked for 60.0 seconds\u001b[0m\n"
     ]
    },
    {
     "name": "stderr",
     "output_type": "stream",
     "text": [
      "\u001b[90;3m2024-09-12 15:06:45,980 \u001b[0m\u001b[36msats.satellite.Scanner-1       \u001b[0m\u001b[mINFO       \u001b[0m\u001b[33m<5580.00> \u001b[0m\u001b[36mScanner-1: \u001b[0m\u001b[msetting timed terminal event at 5640.0\u001b[0m\n"
     ]
    },
    {
     "name": "stderr",
     "output_type": "stream",
     "text": [
      "\u001b[90;3m2024-09-12 15:06:45,984 \u001b[0m\u001b[36msats.satellite.Scanner-1       \u001b[0m\u001b[mINFO       \u001b[0m\u001b[33m<5640.00> \u001b[0m\u001b[36mScanner-1: \u001b[0m\u001b[mtimed termination at 5640.0 for action_downlink\u001b[0m\n"
     ]
    },
    {
     "name": "stderr",
     "output_type": "stream",
     "text": [
      "\u001b[90;3m2024-09-12 15:06:45,984 \u001b[0m\u001b[mdata.base                      \u001b[0m\u001b[mINFO       \u001b[0m\u001b[33m<5640.00> \u001b[0m\u001b[mData reward: {'Scanner-1': 0.0}\u001b[0m\n"
     ]
    },
    {
     "name": "stderr",
     "output_type": "stream",
     "text": [
      "\u001b[90;3m2024-09-12 15:06:45,984 \u001b[0m\u001b[36msats.satellite.Scanner-1       \u001b[0m\u001b[mINFO       \u001b[0m\u001b[33m<5640.00> \u001b[0m\u001b[36mScanner-1: \u001b[0m\u001b[mSatellite Scanner-1 requires retasking\u001b[0m\n"
     ]
    },
    {
     "name": "stderr",
     "output_type": "stream",
     "text": [
      "\u001b[90;3m2024-09-12 15:06:45,985 \u001b[0m\u001b[mgym                            \u001b[0m\u001b[mINFO       \u001b[0m\u001b[33m<5640.00> \u001b[0m\u001b[mStep reward: 0.0\u001b[0m\n"
     ]
    },
    {
     "name": "stderr",
     "output_type": "stream",
     "text": [
      "\u001b[90;3m2024-09-12 15:06:45,985 \u001b[0m\u001b[mgym                            \u001b[0m\u001b[mINFO       \u001b[0m\u001b[33m<5640.00> \u001b[0m\u001b[93;1m=== STARTING STEP ===\u001b[0m\n"
     ]
    },
    {
     "name": "stderr",
     "output_type": "stream",
     "text": [
      "\u001b[90;3m2024-09-12 15:06:45,986 \u001b[0m\u001b[36msats.satellite.Scanner-1       \u001b[0m\u001b[mINFO       \u001b[0m\u001b[33m<5640.00> \u001b[0m\u001b[36mScanner-1: \u001b[0m\u001b[maction_desat tasked for 60.0 seconds\u001b[0m\n"
     ]
    },
    {
     "name": "stderr",
     "output_type": "stream",
     "text": [
      "\u001b[90;3m2024-09-12 15:06:45,986 \u001b[0m\u001b[36msats.satellite.Scanner-1       \u001b[0m\u001b[mINFO       \u001b[0m\u001b[33m<5640.00> \u001b[0m\u001b[36mScanner-1: \u001b[0m\u001b[msetting timed terminal event at 5700.0\u001b[0m\n"
     ]
    },
    {
     "name": "stderr",
     "output_type": "stream",
     "text": [
      "\u001b[90;3m2024-09-12 15:06:45,990 \u001b[0m\u001b[36msats.satellite.Scanner-1       \u001b[0m\u001b[mINFO       \u001b[0m\u001b[33m<5700.00> \u001b[0m\u001b[36mScanner-1: \u001b[0m\u001b[mtimed termination at 5700.0 for action_desat\u001b[0m\n"
     ]
    },
    {
     "name": "stderr",
     "output_type": "stream",
     "text": [
      "\u001b[90;3m2024-09-12 15:06:45,990 \u001b[0m\u001b[mdata.base                      \u001b[0m\u001b[mINFO       \u001b[0m\u001b[33m<5700.00> \u001b[0m\u001b[mData reward: {'Scanner-1': 0.0}\u001b[0m\n"
     ]
    },
    {
     "name": "stderr",
     "output_type": "stream",
     "text": [
      "\u001b[90;3m2024-09-12 15:06:45,990 \u001b[0m\u001b[36msats.satellite.Scanner-1       \u001b[0m\u001b[mINFO       \u001b[0m\u001b[33m<5700.00> \u001b[0m\u001b[36mScanner-1: \u001b[0m\u001b[mSatellite Scanner-1 requires retasking\u001b[0m\n"
     ]
    },
    {
     "name": "stderr",
     "output_type": "stream",
     "text": [
      "\u001b[90;3m2024-09-12 15:06:45,991 \u001b[0m\u001b[mgym                            \u001b[0m\u001b[mINFO       \u001b[0m\u001b[33m<5700.00> \u001b[0m\u001b[mStep reward: 0.0\u001b[0m\n"
     ]
    },
    {
     "name": "stderr",
     "output_type": "stream",
     "text": [
      "\u001b[90;3m2024-09-12 15:06:45,991 \u001b[0m\u001b[mgym                            \u001b[0m\u001b[mINFO       \u001b[0m\u001b[33m<5700.00> \u001b[0m\u001b[93;1m=== STARTING STEP ===\u001b[0m\n"
     ]
    },
    {
     "name": "stderr",
     "output_type": "stream",
     "text": [
      "\u001b[90;3m2024-09-12 15:06:45,991 \u001b[0m\u001b[36msats.satellite.Scanner-1       \u001b[0m\u001b[mINFO       \u001b[0m\u001b[33m<5700.00> \u001b[0m\u001b[36mScanner-1: \u001b[0m\u001b[maction_nadir_scan tasked for 180.0 seconds\u001b[0m\n"
     ]
    },
    {
     "name": "stderr",
     "output_type": "stream",
     "text": [
      "\u001b[90;3m2024-09-12 15:06:45,992 \u001b[0m\u001b[36msats.satellite.Scanner-1       \u001b[0m\u001b[mINFO       \u001b[0m\u001b[33m<5700.00> \u001b[0m\u001b[36mScanner-1: \u001b[0m\u001b[msetting timed terminal event at 5880.0\u001b[0m\n"
     ]
    },
    {
     "name": "stderr",
     "output_type": "stream",
     "text": [
      "\u001b[90;3m2024-09-12 15:06:46,002 \u001b[0m\u001b[36msats.satellite.Scanner-1       \u001b[0m\u001b[mINFO       \u001b[0m\u001b[33m<5880.00> \u001b[0m\u001b[36mScanner-1: \u001b[0m\u001b[mtimed termination at 5880.0 for action_nadir_scan\u001b[0m\n"
     ]
    },
    {
     "name": "stderr",
     "output_type": "stream",
     "text": [
      "\u001b[90;3m2024-09-12 15:06:46,003 \u001b[0m\u001b[mdata.base                      \u001b[0m\u001b[mINFO       \u001b[0m\u001b[33m<5880.00> \u001b[0m\u001b[mData reward: {'Scanner-1': 0.004912280701754385}\u001b[0m\n"
     ]
    },
    {
     "name": "stderr",
     "output_type": "stream",
     "text": [
      "\u001b[90;3m2024-09-12 15:06:46,003 \u001b[0m\u001b[36msats.satellite.Scanner-1       \u001b[0m\u001b[mINFO       \u001b[0m\u001b[33m<5880.00> \u001b[0m\u001b[36mScanner-1: \u001b[0m\u001b[mSatellite Scanner-1 requires retasking\u001b[0m\n"
     ]
    },
    {
     "name": "stderr",
     "output_type": "stream",
     "text": [
      "\u001b[90;3m2024-09-12 15:06:46,004 \u001b[0m\u001b[mgym                            \u001b[0m\u001b[mINFO       \u001b[0m\u001b[33m<5880.00> \u001b[0m\u001b[mStep reward: 0.004912280701754385\u001b[0m\n"
     ]
    },
    {
     "name": "stderr",
     "output_type": "stream",
     "text": [
      "\u001b[90;3m2024-09-12 15:06:46,004 \u001b[0m\u001b[mgym                            \u001b[0m\u001b[mINFO       \u001b[0m\u001b[33m<5880.00> \u001b[0m\u001b[93;1m=== STARTING STEP ===\u001b[0m\n"
     ]
    },
    {
     "name": "stderr",
     "output_type": "stream",
     "text": [
      "\u001b[90;3m2024-09-12 15:06:46,004 \u001b[0m\u001b[36msats.satellite.Scanner-1       \u001b[0m\u001b[mINFO       \u001b[0m\u001b[33m<5880.00> \u001b[0m\u001b[36mScanner-1: \u001b[0m\u001b[maction_downlink tasked for 60.0 seconds\u001b[0m\n"
     ]
    },
    {
     "name": "stderr",
     "output_type": "stream",
     "text": [
      "\u001b[90;3m2024-09-12 15:06:46,004 \u001b[0m\u001b[36msats.satellite.Scanner-1       \u001b[0m\u001b[mINFO       \u001b[0m\u001b[33m<5880.00> \u001b[0m\u001b[36mScanner-1: \u001b[0m\u001b[msetting timed terminal event at 5940.0\u001b[0m\n"
     ]
    },
    {
     "name": "stderr",
     "output_type": "stream",
     "text": [
      "\u001b[90;3m2024-09-12 15:06:46,008 \u001b[0m\u001b[36msats.satellite.Scanner-1       \u001b[0m\u001b[mINFO       \u001b[0m\u001b[33m<5940.00> \u001b[0m\u001b[36mScanner-1: \u001b[0m\u001b[mtimed termination at 5940.0 for action_downlink\u001b[0m\n"
     ]
    },
    {
     "name": "stderr",
     "output_type": "stream",
     "text": [
      "\u001b[90;3m2024-09-12 15:06:46,008 \u001b[0m\u001b[mdata.base                      \u001b[0m\u001b[mINFO       \u001b[0m\u001b[33m<5940.00> \u001b[0m\u001b[mData reward: {'Scanner-1': 0.0}\u001b[0m\n"
     ]
    },
    {
     "name": "stderr",
     "output_type": "stream",
     "text": [
      "\u001b[90;3m2024-09-12 15:06:46,009 \u001b[0m\u001b[36msats.satellite.Scanner-1       \u001b[0m\u001b[mINFO       \u001b[0m\u001b[33m<5940.00> \u001b[0m\u001b[36mScanner-1: \u001b[0m\u001b[mSatellite Scanner-1 requires retasking\u001b[0m\n"
     ]
    },
    {
     "name": "stderr",
     "output_type": "stream",
     "text": [
      "\u001b[90;3m2024-09-12 15:06:46,009 \u001b[0m\u001b[mgym                            \u001b[0m\u001b[mINFO       \u001b[0m\u001b[33m<5940.00> \u001b[0m\u001b[mStep reward: 0.0\u001b[0m\n"
     ]
    },
    {
     "name": "stderr",
     "output_type": "stream",
     "text": [
      "\u001b[90;3m2024-09-12 15:06:46,010 \u001b[0m\u001b[mgym                            \u001b[0m\u001b[mINFO       \u001b[0m\u001b[33m<5940.00> \u001b[0m\u001b[93;1m=== STARTING STEP ===\u001b[0m\n"
     ]
    },
    {
     "name": "stderr",
     "output_type": "stream",
     "text": [
      "\u001b[90;3m2024-09-12 15:06:46,010 \u001b[0m\u001b[36msats.satellite.Scanner-1       \u001b[0m\u001b[mINFO       \u001b[0m\u001b[33m<5940.00> \u001b[0m\u001b[36mScanner-1: \u001b[0m\u001b[maction_desat tasked for 60.0 seconds\u001b[0m\n"
     ]
    },
    {
     "name": "stderr",
     "output_type": "stream",
     "text": [
      "\u001b[90;3m2024-09-12 15:06:46,010 \u001b[0m\u001b[36msats.satellite.Scanner-1       \u001b[0m\u001b[mINFO       \u001b[0m\u001b[33m<5940.00> \u001b[0m\u001b[36mScanner-1: \u001b[0m\u001b[msetting timed terminal event at 6000.0\u001b[0m\n"
     ]
    },
    {
     "name": "stderr",
     "output_type": "stream",
     "text": [
      "\u001b[90;3m2024-09-12 15:06:46,014 \u001b[0m\u001b[36msats.satellite.Scanner-1       \u001b[0m\u001b[mINFO       \u001b[0m\u001b[33m<6000.00> \u001b[0m\u001b[36mScanner-1: \u001b[0m\u001b[mtimed termination at 6000.0 for action_desat\u001b[0m\n"
     ]
    },
    {
     "name": "stderr",
     "output_type": "stream",
     "text": [
      "\u001b[90;3m2024-09-12 15:06:46,014 \u001b[0m\u001b[mdata.base                      \u001b[0m\u001b[mINFO       \u001b[0m\u001b[33m<6000.00> \u001b[0m\u001b[mData reward: {'Scanner-1': 0.0}\u001b[0m\n"
     ]
    },
    {
     "name": "stderr",
     "output_type": "stream",
     "text": [
      "\u001b[90;3m2024-09-12 15:06:46,015 \u001b[0m\u001b[36msats.satellite.Scanner-1       \u001b[0m\u001b[mINFO       \u001b[0m\u001b[33m<6000.00> \u001b[0m\u001b[36mScanner-1: \u001b[0m\u001b[mSatellite Scanner-1 requires retasking\u001b[0m\n"
     ]
    },
    {
     "name": "stderr",
     "output_type": "stream",
     "text": [
      "\u001b[90;3m2024-09-12 15:06:46,015 \u001b[0m\u001b[mgym                            \u001b[0m\u001b[mINFO       \u001b[0m\u001b[33m<6000.00> \u001b[0m\u001b[mStep reward: 0.0\u001b[0m\n"
     ]
    },
    {
     "name": "stderr",
     "output_type": "stream",
     "text": [
      "\u001b[90;3m2024-09-12 15:06:46,015 \u001b[0m\u001b[mgym                            \u001b[0m\u001b[mINFO       \u001b[0m\u001b[33m<6000.00> \u001b[0m\u001b[93;1m=== STARTING STEP ===\u001b[0m\n"
     ]
    },
    {
     "name": "stderr",
     "output_type": "stream",
     "text": [
      "\u001b[90;3m2024-09-12 15:06:46,016 \u001b[0m\u001b[36msats.satellite.Scanner-1       \u001b[0m\u001b[mINFO       \u001b[0m\u001b[33m<6000.00> \u001b[0m\u001b[36mScanner-1: \u001b[0m\u001b[maction_downlink tasked for 60.0 seconds\u001b[0m\n"
     ]
    },
    {
     "name": "stderr",
     "output_type": "stream",
     "text": [
      "\u001b[90;3m2024-09-12 15:06:46,016 \u001b[0m\u001b[36msats.satellite.Scanner-1       \u001b[0m\u001b[mINFO       \u001b[0m\u001b[33m<6000.00> \u001b[0m\u001b[36mScanner-1: \u001b[0m\u001b[msetting timed terminal event at 6060.0\u001b[0m\n"
     ]
    },
    {
     "name": "stderr",
     "output_type": "stream",
     "text": [
      "\u001b[90;3m2024-09-12 15:06:46,020 \u001b[0m\u001b[36msats.satellite.Scanner-1       \u001b[0m\u001b[mINFO       \u001b[0m\u001b[33m<6060.00> \u001b[0m\u001b[36mScanner-1: \u001b[0m\u001b[mtimed termination at 6060.0 for action_downlink\u001b[0m\n"
     ]
    },
    {
     "name": "stderr",
     "output_type": "stream",
     "text": [
      "\u001b[90;3m2024-09-12 15:06:46,020 \u001b[0m\u001b[mdata.base                      \u001b[0m\u001b[mINFO       \u001b[0m\u001b[33m<6060.00> \u001b[0m\u001b[mData reward: {'Scanner-1': 0.0}\u001b[0m\n"
     ]
    },
    {
     "name": "stderr",
     "output_type": "stream",
     "text": [
      "\u001b[90;3m2024-09-12 15:06:46,020 \u001b[0m\u001b[36msats.satellite.Scanner-1       \u001b[0m\u001b[mINFO       \u001b[0m\u001b[33m<6060.00> \u001b[0m\u001b[36mScanner-1: \u001b[0m\u001b[mSatellite Scanner-1 requires retasking\u001b[0m\n"
     ]
    },
    {
     "name": "stderr",
     "output_type": "stream",
     "text": [
      "\u001b[90;3m2024-09-12 15:06:46,021 \u001b[0m\u001b[mgym                            \u001b[0m\u001b[mINFO       \u001b[0m\u001b[33m<6060.00> \u001b[0m\u001b[mStep reward: 0.0\u001b[0m\n"
     ]
    },
    {
     "name": "stderr",
     "output_type": "stream",
     "text": [
      "\u001b[90;3m2024-09-12 15:06:46,021 \u001b[0m\u001b[mgym                            \u001b[0m\u001b[mINFO       \u001b[0m\u001b[33m<6060.00> \u001b[0m\u001b[93;1m=== STARTING STEP ===\u001b[0m\n"
     ]
    },
    {
     "name": "stderr",
     "output_type": "stream",
     "text": [
      "\u001b[90;3m2024-09-12 15:06:46,021 \u001b[0m\u001b[36msats.satellite.Scanner-1       \u001b[0m\u001b[mINFO       \u001b[0m\u001b[33m<6060.00> \u001b[0m\u001b[36mScanner-1: \u001b[0m\u001b[maction_downlink tasked for 60.0 seconds\u001b[0m\n"
     ]
    },
    {
     "name": "stderr",
     "output_type": "stream",
     "text": [
      "\u001b[90;3m2024-09-12 15:06:46,022 \u001b[0m\u001b[36msats.satellite.Scanner-1       \u001b[0m\u001b[mINFO       \u001b[0m\u001b[33m<6060.00> \u001b[0m\u001b[36mScanner-1: \u001b[0m\u001b[msetting timed terminal event at 6120.0\u001b[0m\n"
     ]
    },
    {
     "name": "stderr",
     "output_type": "stream",
     "text": [
      "\u001b[90;3m2024-09-12 15:06:46,025 \u001b[0m\u001b[36msats.satellite.Scanner-1       \u001b[0m\u001b[mINFO       \u001b[0m\u001b[33m<6120.00> \u001b[0m\u001b[36mScanner-1: \u001b[0m\u001b[mtimed termination at 6120.0 for action_downlink\u001b[0m\n"
     ]
    },
    {
     "name": "stderr",
     "output_type": "stream",
     "text": [
      "\u001b[90;3m2024-09-12 15:06:46,026 \u001b[0m\u001b[mdata.base                      \u001b[0m\u001b[mINFO       \u001b[0m\u001b[33m<6120.00> \u001b[0m\u001b[mData reward: {'Scanner-1': 0.0}\u001b[0m\n"
     ]
    },
    {
     "name": "stderr",
     "output_type": "stream",
     "text": [
      "\u001b[90;3m2024-09-12 15:06:46,026 \u001b[0m\u001b[36msats.satellite.Scanner-1       \u001b[0m\u001b[mINFO       \u001b[0m\u001b[33m<6120.00> \u001b[0m\u001b[36mScanner-1: \u001b[0m\u001b[mSatellite Scanner-1 requires retasking\u001b[0m\n"
     ]
    },
    {
     "name": "stderr",
     "output_type": "stream",
     "text": [
      "\u001b[90;3m2024-09-12 15:06:46,027 \u001b[0m\u001b[mgym                            \u001b[0m\u001b[mINFO       \u001b[0m\u001b[33m<6120.00> \u001b[0m\u001b[mStep reward: 0.0\u001b[0m\n"
     ]
    },
    {
     "name": "stderr",
     "output_type": "stream",
     "text": [
      "\u001b[90;3m2024-09-12 15:06:46,027 \u001b[0m\u001b[mgym                            \u001b[0m\u001b[mINFO       \u001b[0m\u001b[33m<6120.00> \u001b[0m\u001b[93;1m=== STARTING STEP ===\u001b[0m\n"
     ]
    },
    {
     "name": "stderr",
     "output_type": "stream",
     "text": [
      "\u001b[90;3m2024-09-12 15:06:46,027 \u001b[0m\u001b[36msats.satellite.Scanner-1       \u001b[0m\u001b[mINFO       \u001b[0m\u001b[33m<6120.00> \u001b[0m\u001b[36mScanner-1: \u001b[0m\u001b[maction_nadir_scan tasked for 180.0 seconds\u001b[0m\n"
     ]
    },
    {
     "name": "stderr",
     "output_type": "stream",
     "text": [
      "\u001b[90;3m2024-09-12 15:06:46,028 \u001b[0m\u001b[36msats.satellite.Scanner-1       \u001b[0m\u001b[mINFO       \u001b[0m\u001b[33m<6120.00> \u001b[0m\u001b[36mScanner-1: \u001b[0m\u001b[msetting timed terminal event at 6300.0\u001b[0m\n"
     ]
    },
    {
     "name": "stderr",
     "output_type": "stream",
     "text": [
      "\u001b[90;3m2024-09-12 15:06:46,038 \u001b[0m\u001b[36msats.satellite.Scanner-1       \u001b[0m\u001b[mINFO       \u001b[0m\u001b[33m<6300.00> \u001b[0m\u001b[36mScanner-1: \u001b[0m\u001b[mtimed termination at 6300.0 for action_nadir_scan\u001b[0m\n"
     ]
    },
    {
     "name": "stderr",
     "output_type": "stream",
     "text": [
      "\u001b[90;3m2024-09-12 15:06:46,039 \u001b[0m\u001b[mdata.base                      \u001b[0m\u001b[mINFO       \u001b[0m\u001b[33m<6300.00> \u001b[0m\u001b[mData reward: {'Scanner-1': 0.004912280701754385}\u001b[0m\n"
     ]
    },
    {
     "name": "stderr",
     "output_type": "stream",
     "text": [
      "\u001b[90;3m2024-09-12 15:06:46,039 \u001b[0m\u001b[36msats.satellite.Scanner-1       \u001b[0m\u001b[mINFO       \u001b[0m\u001b[33m<6300.00> \u001b[0m\u001b[36mScanner-1: \u001b[0m\u001b[mSatellite Scanner-1 requires retasking\u001b[0m\n"
     ]
    },
    {
     "name": "stderr",
     "output_type": "stream",
     "text": [
      "\u001b[90;3m2024-09-12 15:06:46,040 \u001b[0m\u001b[mgym                            \u001b[0m\u001b[mINFO       \u001b[0m\u001b[33m<6300.00> \u001b[0m\u001b[mStep reward: 0.004912280701754385\u001b[0m\n"
     ]
    },
    {
     "name": "stderr",
     "output_type": "stream",
     "text": [
      "\u001b[90;3m2024-09-12 15:06:46,040 \u001b[0m\u001b[mgym                            \u001b[0m\u001b[mINFO       \u001b[0m\u001b[33m<6300.00> \u001b[0m\u001b[93;1m=== STARTING STEP ===\u001b[0m\n"
     ]
    },
    {
     "name": "stderr",
     "output_type": "stream",
     "text": [
      "\u001b[90;3m2024-09-12 15:06:46,041 \u001b[0m\u001b[36msats.satellite.Scanner-1       \u001b[0m\u001b[mINFO       \u001b[0m\u001b[33m<6300.00> \u001b[0m\u001b[36mScanner-1: \u001b[0m\u001b[maction_charge tasked for 120.0 seconds\u001b[0m\n"
     ]
    },
    {
     "name": "stderr",
     "output_type": "stream",
     "text": [
      "\u001b[90;3m2024-09-12 15:06:46,041 \u001b[0m\u001b[36msats.satellite.Scanner-1       \u001b[0m\u001b[mINFO       \u001b[0m\u001b[33m<6300.00> \u001b[0m\u001b[36mScanner-1: \u001b[0m\u001b[msetting timed terminal event at 6420.0\u001b[0m\n"
     ]
    },
    {
     "name": "stderr",
     "output_type": "stream",
     "text": [
      "\u001b[90;3m2024-09-12 15:06:46,048 \u001b[0m\u001b[36msats.satellite.Scanner-1       \u001b[0m\u001b[mINFO       \u001b[0m\u001b[33m<6420.00> \u001b[0m\u001b[36mScanner-1: \u001b[0m\u001b[mtimed termination at 6420.0 for action_charge\u001b[0m\n"
     ]
    },
    {
     "name": "stderr",
     "output_type": "stream",
     "text": [
      "\u001b[90;3m2024-09-12 15:06:46,049 \u001b[0m\u001b[mdata.base                      \u001b[0m\u001b[mINFO       \u001b[0m\u001b[33m<6420.00> \u001b[0m\u001b[mData reward: {'Scanner-1': 0.0}\u001b[0m\n"
     ]
    },
    {
     "name": "stderr",
     "output_type": "stream",
     "text": [
      "\u001b[90;3m2024-09-12 15:06:46,049 \u001b[0m\u001b[36msats.satellite.Scanner-1       \u001b[0m\u001b[mINFO       \u001b[0m\u001b[33m<6420.00> \u001b[0m\u001b[36mScanner-1: \u001b[0m\u001b[mSatellite Scanner-1 requires retasking\u001b[0m\n"
     ]
    },
    {
     "name": "stderr",
     "output_type": "stream",
     "text": [
      "\u001b[90;3m2024-09-12 15:06:46,050 \u001b[0m\u001b[mgym                            \u001b[0m\u001b[mINFO       \u001b[0m\u001b[33m<6420.00> \u001b[0m\u001b[mStep reward: 0.0\u001b[0m\n"
     ]
    },
    {
     "name": "stderr",
     "output_type": "stream",
     "text": [
      "\u001b[90;3m2024-09-12 15:06:46,050 \u001b[0m\u001b[mgym                            \u001b[0m\u001b[mINFO       \u001b[0m\u001b[33m<6420.00> \u001b[0m\u001b[93;1m=== STARTING STEP ===\u001b[0m\n"
     ]
    },
    {
     "name": "stderr",
     "output_type": "stream",
     "text": [
      "\u001b[90;3m2024-09-12 15:06:46,050 \u001b[0m\u001b[36msats.satellite.Scanner-1       \u001b[0m\u001b[mINFO       \u001b[0m\u001b[33m<6420.00> \u001b[0m\u001b[36mScanner-1: \u001b[0m\u001b[maction_desat tasked for 60.0 seconds\u001b[0m\n"
     ]
    },
    {
     "name": "stderr",
     "output_type": "stream",
     "text": [
      "\u001b[90;3m2024-09-12 15:06:46,051 \u001b[0m\u001b[36msats.satellite.Scanner-1       \u001b[0m\u001b[mINFO       \u001b[0m\u001b[33m<6420.00> \u001b[0m\u001b[36mScanner-1: \u001b[0m\u001b[msetting timed terminal event at 6480.0\u001b[0m\n"
     ]
    },
    {
     "name": "stderr",
     "output_type": "stream",
     "text": [
      "\u001b[90;3m2024-09-12 15:06:46,055 \u001b[0m\u001b[36msats.satellite.Scanner-1       \u001b[0m\u001b[mINFO       \u001b[0m\u001b[33m<6480.00> \u001b[0m\u001b[36mScanner-1: \u001b[0m\u001b[mtimed termination at 6480.0 for action_desat\u001b[0m\n"
     ]
    },
    {
     "name": "stderr",
     "output_type": "stream",
     "text": [
      "\u001b[90;3m2024-09-12 15:06:46,055 \u001b[0m\u001b[mdata.base                      \u001b[0m\u001b[mINFO       \u001b[0m\u001b[33m<6480.00> \u001b[0m\u001b[mData reward: {'Scanner-1': 0.0}\u001b[0m\n"
     ]
    },
    {
     "name": "stderr",
     "output_type": "stream",
     "text": [
      "\u001b[90;3m2024-09-12 15:06:46,055 \u001b[0m\u001b[36msats.satellite.Scanner-1       \u001b[0m\u001b[mINFO       \u001b[0m\u001b[33m<6480.00> \u001b[0m\u001b[36mScanner-1: \u001b[0m\u001b[mSatellite Scanner-1 requires retasking\u001b[0m\n"
     ]
    },
    {
     "name": "stderr",
     "output_type": "stream",
     "text": [
      "\u001b[90;3m2024-09-12 15:06:46,056 \u001b[0m\u001b[mgym                            \u001b[0m\u001b[mINFO       \u001b[0m\u001b[33m<6480.00> \u001b[0m\u001b[mStep reward: 0.0\u001b[0m\n"
     ]
    },
    {
     "name": "stderr",
     "output_type": "stream",
     "text": [
      "\u001b[90;3m2024-09-12 15:06:46,056 \u001b[0m\u001b[mgym                            \u001b[0m\u001b[mINFO       \u001b[0m\u001b[33m<6480.00> \u001b[0m\u001b[93;1m=== STARTING STEP ===\u001b[0m\n"
     ]
    },
    {
     "name": "stderr",
     "output_type": "stream",
     "text": [
      "\u001b[90;3m2024-09-12 15:06:46,056 \u001b[0m\u001b[36msats.satellite.Scanner-1       \u001b[0m\u001b[mINFO       \u001b[0m\u001b[33m<6480.00> \u001b[0m\u001b[36mScanner-1: \u001b[0m\u001b[maction_charge tasked for 120.0 seconds\u001b[0m\n"
     ]
    },
    {
     "name": "stderr",
     "output_type": "stream",
     "text": [
      "\u001b[90;3m2024-09-12 15:06:46,057 \u001b[0m\u001b[36msats.satellite.Scanner-1       \u001b[0m\u001b[mINFO       \u001b[0m\u001b[33m<6480.00> \u001b[0m\u001b[36mScanner-1: \u001b[0m\u001b[msetting timed terminal event at 6600.0\u001b[0m\n"
     ]
    },
    {
     "name": "stderr",
     "output_type": "stream",
     "text": [
      "\u001b[90;3m2024-09-12 15:06:46,064 \u001b[0m\u001b[36msats.satellite.Scanner-1       \u001b[0m\u001b[mINFO       \u001b[0m\u001b[33m<6600.00> \u001b[0m\u001b[36mScanner-1: \u001b[0m\u001b[mtimed termination at 6600.0 for action_charge\u001b[0m\n"
     ]
    },
    {
     "name": "stderr",
     "output_type": "stream",
     "text": [
      "\u001b[90;3m2024-09-12 15:06:46,064 \u001b[0m\u001b[mdata.base                      \u001b[0m\u001b[mINFO       \u001b[0m\u001b[33m<6600.00> \u001b[0m\u001b[mData reward: {'Scanner-1': 0.0}\u001b[0m\n"
     ]
    },
    {
     "name": "stderr",
     "output_type": "stream",
     "text": [
      "\u001b[90;3m2024-09-12 15:06:46,064 \u001b[0m\u001b[36msats.satellite.Scanner-1       \u001b[0m\u001b[mINFO       \u001b[0m\u001b[33m<6600.00> \u001b[0m\u001b[36mScanner-1: \u001b[0m\u001b[mSatellite Scanner-1 requires retasking\u001b[0m\n"
     ]
    },
    {
     "name": "stderr",
     "output_type": "stream",
     "text": [
      "\u001b[90;3m2024-09-12 15:06:46,065 \u001b[0m\u001b[mgym                            \u001b[0m\u001b[mINFO       \u001b[0m\u001b[33m<6600.00> \u001b[0m\u001b[mStep reward: 0.0\u001b[0m\n"
     ]
    },
    {
     "name": "stderr",
     "output_type": "stream",
     "text": [
      "\u001b[90;3m2024-09-12 15:06:46,065 \u001b[0m\u001b[mgym                            \u001b[0m\u001b[mINFO       \u001b[0m\u001b[33m<6600.00> \u001b[0m\u001b[93;1m=== STARTING STEP ===\u001b[0m\n"
     ]
    },
    {
     "name": "stderr",
     "output_type": "stream",
     "text": [
      "\u001b[90;3m2024-09-12 15:06:46,066 \u001b[0m\u001b[36msats.satellite.Scanner-1       \u001b[0m\u001b[mINFO       \u001b[0m\u001b[33m<6600.00> \u001b[0m\u001b[36mScanner-1: \u001b[0m\u001b[maction_downlink tasked for 60.0 seconds\u001b[0m\n"
     ]
    },
    {
     "name": "stderr",
     "output_type": "stream",
     "text": [
      "\u001b[90;3m2024-09-12 15:06:46,066 \u001b[0m\u001b[36msats.satellite.Scanner-1       \u001b[0m\u001b[mINFO       \u001b[0m\u001b[33m<6600.00> \u001b[0m\u001b[36mScanner-1: \u001b[0m\u001b[msetting timed terminal event at 6660.0\u001b[0m\n"
     ]
    },
    {
     "name": "stderr",
     "output_type": "stream",
     "text": [
      "\u001b[90;3m2024-09-12 15:06:46,070 \u001b[0m\u001b[36msats.satellite.Scanner-1       \u001b[0m\u001b[mINFO       \u001b[0m\u001b[33m<6660.00> \u001b[0m\u001b[36mScanner-1: \u001b[0m\u001b[mtimed termination at 6660.0 for action_downlink\u001b[0m\n"
     ]
    },
    {
     "name": "stderr",
     "output_type": "stream",
     "text": [
      "\u001b[90;3m2024-09-12 15:06:46,070 \u001b[0m\u001b[mdata.base                      \u001b[0m\u001b[mINFO       \u001b[0m\u001b[33m<6660.00> \u001b[0m\u001b[mData reward: {'Scanner-1': 0.0}\u001b[0m\n"
     ]
    },
    {
     "name": "stderr",
     "output_type": "stream",
     "text": [
      "\u001b[90;3m2024-09-12 15:06:46,070 \u001b[0m\u001b[36msats.satellite.Scanner-1       \u001b[0m\u001b[mINFO       \u001b[0m\u001b[33m<6660.00> \u001b[0m\u001b[36mScanner-1: \u001b[0m\u001b[mSatellite Scanner-1 requires retasking\u001b[0m\n"
     ]
    },
    {
     "name": "stderr",
     "output_type": "stream",
     "text": [
      "\u001b[90;3m2024-09-12 15:06:46,071 \u001b[0m\u001b[mgym                            \u001b[0m\u001b[mINFO       \u001b[0m\u001b[33m<6660.00> \u001b[0m\u001b[mStep reward: 0.0\u001b[0m\n"
     ]
    },
    {
     "name": "stderr",
     "output_type": "stream",
     "text": [
      "\u001b[90;3m2024-09-12 15:06:46,071 \u001b[0m\u001b[mgym                            \u001b[0m\u001b[mINFO       \u001b[0m\u001b[33m<6660.00> \u001b[0m\u001b[93;1m=== STARTING STEP ===\u001b[0m\n"
     ]
    },
    {
     "name": "stderr",
     "output_type": "stream",
     "text": [
      "\u001b[90;3m2024-09-12 15:06:46,072 \u001b[0m\u001b[36msats.satellite.Scanner-1       \u001b[0m\u001b[mINFO       \u001b[0m\u001b[33m<6660.00> \u001b[0m\u001b[36mScanner-1: \u001b[0m\u001b[maction_downlink tasked for 60.0 seconds\u001b[0m\n"
     ]
    },
    {
     "name": "stderr",
     "output_type": "stream",
     "text": [
      "\u001b[90;3m2024-09-12 15:06:46,072 \u001b[0m\u001b[36msats.satellite.Scanner-1       \u001b[0m\u001b[mINFO       \u001b[0m\u001b[33m<6660.00> \u001b[0m\u001b[36mScanner-1: \u001b[0m\u001b[msetting timed terminal event at 6720.0\u001b[0m\n"
     ]
    },
    {
     "name": "stderr",
     "output_type": "stream",
     "text": [
      "\u001b[90;3m2024-09-12 15:06:46,076 \u001b[0m\u001b[36msats.satellite.Scanner-1       \u001b[0m\u001b[mINFO       \u001b[0m\u001b[33m<6720.00> \u001b[0m\u001b[36mScanner-1: \u001b[0m\u001b[mtimed termination at 6720.0 for action_downlink\u001b[0m\n"
     ]
    },
    {
     "name": "stderr",
     "output_type": "stream",
     "text": [
      "\u001b[90;3m2024-09-12 15:06:46,076 \u001b[0m\u001b[mdata.base                      \u001b[0m\u001b[mINFO       \u001b[0m\u001b[33m<6720.00> \u001b[0m\u001b[mData reward: {'Scanner-1': 0.0}\u001b[0m\n"
     ]
    },
    {
     "name": "stderr",
     "output_type": "stream",
     "text": [
      "\u001b[90;3m2024-09-12 15:06:46,076 \u001b[0m\u001b[36msats.satellite.Scanner-1       \u001b[0m\u001b[mINFO       \u001b[0m\u001b[33m<6720.00> \u001b[0m\u001b[36mScanner-1: \u001b[0m\u001b[mSatellite Scanner-1 requires retasking\u001b[0m\n"
     ]
    },
    {
     "name": "stderr",
     "output_type": "stream",
     "text": [
      "\u001b[90;3m2024-09-12 15:06:46,077 \u001b[0m\u001b[mgym                            \u001b[0m\u001b[mINFO       \u001b[0m\u001b[33m<6720.00> \u001b[0m\u001b[mStep reward: 0.0\u001b[0m\n"
     ]
    },
    {
     "name": "stderr",
     "output_type": "stream",
     "text": [
      "\u001b[90;3m2024-09-12 15:06:46,077 \u001b[0m\u001b[mgym                            \u001b[0m\u001b[mINFO       \u001b[0m\u001b[33m<6720.00> \u001b[0m\u001b[93;1m=== STARTING STEP ===\u001b[0m\n"
     ]
    },
    {
     "name": "stderr",
     "output_type": "stream",
     "text": [
      "\u001b[90;3m2024-09-12 15:06:46,078 \u001b[0m\u001b[36msats.satellite.Scanner-1       \u001b[0m\u001b[mINFO       \u001b[0m\u001b[33m<6720.00> \u001b[0m\u001b[36mScanner-1: \u001b[0m\u001b[maction_nadir_scan tasked for 180.0 seconds\u001b[0m\n"
     ]
    },
    {
     "name": "stderr",
     "output_type": "stream",
     "text": [
      "\u001b[90;3m2024-09-12 15:06:46,078 \u001b[0m\u001b[36msats.satellite.Scanner-1       \u001b[0m\u001b[mINFO       \u001b[0m\u001b[33m<6720.00> \u001b[0m\u001b[36mScanner-1: \u001b[0m\u001b[msetting timed terminal event at 6900.0\u001b[0m\n"
     ]
    },
    {
     "name": "stderr",
     "output_type": "stream",
     "text": [
      "\u001b[90;3m2024-09-12 15:06:46,088 \u001b[0m\u001b[36msats.satellite.Scanner-1       \u001b[0m\u001b[mINFO       \u001b[0m\u001b[33m<6900.00> \u001b[0m\u001b[36mScanner-1: \u001b[0m\u001b[mtimed termination at 6900.0 for action_nadir_scan\u001b[0m\n"
     ]
    },
    {
     "name": "stderr",
     "output_type": "stream",
     "text": [
      "\u001b[90;3m2024-09-12 15:06:46,089 \u001b[0m\u001b[mdata.base                      \u001b[0m\u001b[mINFO       \u001b[0m\u001b[33m<6900.00> \u001b[0m\u001b[mData reward: {'Scanner-1': 0.004912280701754385}\u001b[0m\n"
     ]
    },
    {
     "name": "stderr",
     "output_type": "stream",
     "text": [
      "\u001b[90;3m2024-09-12 15:06:46,089 \u001b[0m\u001b[36msats.satellite.Scanner-1       \u001b[0m\u001b[mINFO       \u001b[0m\u001b[33m<6900.00> \u001b[0m\u001b[36mScanner-1: \u001b[0m\u001b[mSatellite Scanner-1 requires retasking\u001b[0m\n"
     ]
    },
    {
     "name": "stderr",
     "output_type": "stream",
     "text": [
      "\u001b[90;3m2024-09-12 15:06:46,090 \u001b[0m\u001b[mgym                            \u001b[0m\u001b[mINFO       \u001b[0m\u001b[33m<6900.00> \u001b[0m\u001b[mStep reward: 0.004912280701754385\u001b[0m\n"
     ]
    },
    {
     "name": "stderr",
     "output_type": "stream",
     "text": [
      "\u001b[90;3m2024-09-12 15:06:46,090 \u001b[0m\u001b[mgym                            \u001b[0m\u001b[mINFO       \u001b[0m\u001b[33m<6900.00> \u001b[0m\u001b[93;1m=== STARTING STEP ===\u001b[0m\n"
     ]
    },
    {
     "name": "stderr",
     "output_type": "stream",
     "text": [
      "\u001b[90;3m2024-09-12 15:06:46,090 \u001b[0m\u001b[36msats.satellite.Scanner-1       \u001b[0m\u001b[mINFO       \u001b[0m\u001b[33m<6900.00> \u001b[0m\u001b[36mScanner-1: \u001b[0m\u001b[maction_charge tasked for 120.0 seconds\u001b[0m\n"
     ]
    },
    {
     "name": "stderr",
     "output_type": "stream",
     "text": [
      "\u001b[90;3m2024-09-12 15:06:46,090 \u001b[0m\u001b[36msats.satellite.Scanner-1       \u001b[0m\u001b[mINFO       \u001b[0m\u001b[33m<6900.00> \u001b[0m\u001b[36mScanner-1: \u001b[0m\u001b[msetting timed terminal event at 7020.0\u001b[0m\n"
     ]
    },
    {
     "name": "stderr",
     "output_type": "stream",
     "text": [
      "\u001b[90;3m2024-09-12 15:06:46,098 \u001b[0m\u001b[36msats.satellite.Scanner-1       \u001b[0m\u001b[mINFO       \u001b[0m\u001b[33m<7020.00> \u001b[0m\u001b[36mScanner-1: \u001b[0m\u001b[mtimed termination at 7020.0 for action_charge\u001b[0m\n"
     ]
    },
    {
     "name": "stderr",
     "output_type": "stream",
     "text": [
      "\u001b[90;3m2024-09-12 15:06:46,098 \u001b[0m\u001b[mdata.base                      \u001b[0m\u001b[mINFO       \u001b[0m\u001b[33m<7020.00> \u001b[0m\u001b[mData reward: {'Scanner-1': 0.0}\u001b[0m\n"
     ]
    },
    {
     "name": "stderr",
     "output_type": "stream",
     "text": [
      "\u001b[90;3m2024-09-12 15:06:46,098 \u001b[0m\u001b[36msats.satellite.Scanner-1       \u001b[0m\u001b[mINFO       \u001b[0m\u001b[33m<7020.00> \u001b[0m\u001b[36mScanner-1: \u001b[0m\u001b[mSatellite Scanner-1 requires retasking\u001b[0m\n"
     ]
    },
    {
     "name": "stderr",
     "output_type": "stream",
     "text": [
      "\u001b[90;3m2024-09-12 15:06:46,099 \u001b[0m\u001b[mgym                            \u001b[0m\u001b[mINFO       \u001b[0m\u001b[33m<7020.00> \u001b[0m\u001b[mStep reward: 0.0\u001b[0m\n"
     ]
    },
    {
     "name": "stderr",
     "output_type": "stream",
     "text": [
      "\u001b[90;3m2024-09-12 15:06:46,099 \u001b[0m\u001b[mgym                            \u001b[0m\u001b[mINFO       \u001b[0m\u001b[33m<7020.00> \u001b[0m\u001b[93;1m=== STARTING STEP ===\u001b[0m\n"
     ]
    },
    {
     "name": "stderr",
     "output_type": "stream",
     "text": [
      "\u001b[90;3m2024-09-12 15:06:46,099 \u001b[0m\u001b[36msats.satellite.Scanner-1       \u001b[0m\u001b[mINFO       \u001b[0m\u001b[33m<7020.00> \u001b[0m\u001b[36mScanner-1: \u001b[0m\u001b[maction_charge tasked for 120.0 seconds\u001b[0m\n"
     ]
    },
    {
     "name": "stderr",
     "output_type": "stream",
     "text": [
      "\u001b[90;3m2024-09-12 15:06:46,100 \u001b[0m\u001b[36msats.satellite.Scanner-1       \u001b[0m\u001b[mINFO       \u001b[0m\u001b[33m<7020.00> \u001b[0m\u001b[36mScanner-1: \u001b[0m\u001b[msetting timed terminal event at 7140.0\u001b[0m\n"
     ]
    },
    {
     "name": "stderr",
     "output_type": "stream",
     "text": [
      "\u001b[90;3m2024-09-12 15:06:46,107 \u001b[0m\u001b[36msats.satellite.Scanner-1       \u001b[0m\u001b[mINFO       \u001b[0m\u001b[33m<7140.00> \u001b[0m\u001b[36mScanner-1: \u001b[0m\u001b[mtimed termination at 7140.0 for action_charge\u001b[0m\n"
     ]
    },
    {
     "name": "stderr",
     "output_type": "stream",
     "text": [
      "\u001b[90;3m2024-09-12 15:06:46,107 \u001b[0m\u001b[mdata.base                      \u001b[0m\u001b[mINFO       \u001b[0m\u001b[33m<7140.00> \u001b[0m\u001b[mData reward: {'Scanner-1': 0.0}\u001b[0m\n"
     ]
    },
    {
     "name": "stderr",
     "output_type": "stream",
     "text": [
      "\u001b[90;3m2024-09-12 15:06:46,107 \u001b[0m\u001b[36msats.satellite.Scanner-1       \u001b[0m\u001b[mINFO       \u001b[0m\u001b[33m<7140.00> \u001b[0m\u001b[36mScanner-1: \u001b[0m\u001b[mSatellite Scanner-1 requires retasking\u001b[0m\n"
     ]
    },
    {
     "name": "stderr",
     "output_type": "stream",
     "text": [
      "\u001b[90;3m2024-09-12 15:06:46,108 \u001b[0m\u001b[mgym                            \u001b[0m\u001b[mINFO       \u001b[0m\u001b[33m<7140.00> \u001b[0m\u001b[mStep reward: 0.0\u001b[0m\n"
     ]
    },
    {
     "name": "stderr",
     "output_type": "stream",
     "text": [
      "\u001b[90;3m2024-09-12 15:06:46,108 \u001b[0m\u001b[mgym                            \u001b[0m\u001b[mINFO       \u001b[0m\u001b[33m<7140.00> \u001b[0m\u001b[93;1m=== STARTING STEP ===\u001b[0m\n"
     ]
    },
    {
     "name": "stderr",
     "output_type": "stream",
     "text": [
      "\u001b[90;3m2024-09-12 15:06:46,108 \u001b[0m\u001b[36msats.satellite.Scanner-1       \u001b[0m\u001b[mINFO       \u001b[0m\u001b[33m<7140.00> \u001b[0m\u001b[36mScanner-1: \u001b[0m\u001b[maction_nadir_scan tasked for 180.0 seconds\u001b[0m\n"
     ]
    },
    {
     "name": "stderr",
     "output_type": "stream",
     "text": [
      "\u001b[90;3m2024-09-12 15:06:46,109 \u001b[0m\u001b[36msats.satellite.Scanner-1       \u001b[0m\u001b[mINFO       \u001b[0m\u001b[33m<7140.00> \u001b[0m\u001b[36mScanner-1: \u001b[0m\u001b[msetting timed terminal event at 7320.0\u001b[0m\n"
     ]
    },
    {
     "name": "stderr",
     "output_type": "stream",
     "text": [
      "\u001b[90;3m2024-09-12 15:06:46,119 \u001b[0m\u001b[36msats.satellite.Scanner-1       \u001b[0m\u001b[mINFO       \u001b[0m\u001b[33m<7320.00> \u001b[0m\u001b[36mScanner-1: \u001b[0m\u001b[mtimed termination at 7320.0 for action_nadir_scan\u001b[0m\n"
     ]
    },
    {
     "name": "stderr",
     "output_type": "stream",
     "text": [
      "\u001b[90;3m2024-09-12 15:06:46,120 \u001b[0m\u001b[mdata.base                      \u001b[0m\u001b[mINFO       \u001b[0m\u001b[33m<7320.00> \u001b[0m\u001b[mData reward: {'Scanner-1': 0.004736842105263157}\u001b[0m\n"
     ]
    },
    {
     "name": "stderr",
     "output_type": "stream",
     "text": [
      "\u001b[90;3m2024-09-12 15:06:46,120 \u001b[0m\u001b[36msats.satellite.Scanner-1       \u001b[0m\u001b[mINFO       \u001b[0m\u001b[33m<7320.00> \u001b[0m\u001b[36mScanner-1: \u001b[0m\u001b[mSatellite Scanner-1 requires retasking\u001b[0m\n"
     ]
    },
    {
     "name": "stderr",
     "output_type": "stream",
     "text": [
      "\u001b[90;3m2024-09-12 15:06:46,120 \u001b[0m\u001b[mgym                            \u001b[0m\u001b[mINFO       \u001b[0m\u001b[33m<7320.00> \u001b[0m\u001b[mStep reward: 0.004736842105263157\u001b[0m\n"
     ]
    },
    {
     "name": "stderr",
     "output_type": "stream",
     "text": [
      "\u001b[90;3m2024-09-12 15:06:46,121 \u001b[0m\u001b[mgym                            \u001b[0m\u001b[mINFO       \u001b[0m\u001b[33m<7320.00> \u001b[0m\u001b[93;1m=== STARTING STEP ===\u001b[0m\n"
     ]
    },
    {
     "name": "stderr",
     "output_type": "stream",
     "text": [
      "\u001b[90;3m2024-09-12 15:06:46,121 \u001b[0m\u001b[36msats.satellite.Scanner-1       \u001b[0m\u001b[mINFO       \u001b[0m\u001b[33m<7320.00> \u001b[0m\u001b[36mScanner-1: \u001b[0m\u001b[maction_charge tasked for 120.0 seconds\u001b[0m\n"
     ]
    },
    {
     "name": "stderr",
     "output_type": "stream",
     "text": [
      "\u001b[90;3m2024-09-12 15:06:46,121 \u001b[0m\u001b[36msats.satellite.Scanner-1       \u001b[0m\u001b[mINFO       \u001b[0m\u001b[33m<7320.00> \u001b[0m\u001b[36mScanner-1: \u001b[0m\u001b[msetting timed terminal event at 7440.0\u001b[0m\n"
     ]
    },
    {
     "name": "stderr",
     "output_type": "stream",
     "text": [
      "\u001b[90;3m2024-09-12 15:06:46,128 \u001b[0m\u001b[36msats.satellite.Scanner-1       \u001b[0m\u001b[mINFO       \u001b[0m\u001b[33m<7440.00> \u001b[0m\u001b[36mScanner-1: \u001b[0m\u001b[mtimed termination at 7440.0 for action_charge\u001b[0m\n"
     ]
    },
    {
     "name": "stderr",
     "output_type": "stream",
     "text": [
      "\u001b[90;3m2024-09-12 15:06:46,129 \u001b[0m\u001b[mdata.base                      \u001b[0m\u001b[mINFO       \u001b[0m\u001b[33m<7440.00> \u001b[0m\u001b[mData reward: {'Scanner-1': 0.0}\u001b[0m\n"
     ]
    },
    {
     "name": "stderr",
     "output_type": "stream",
     "text": [
      "\u001b[90;3m2024-09-12 15:06:46,129 \u001b[0m\u001b[36msats.satellite.Scanner-1       \u001b[0m\u001b[mINFO       \u001b[0m\u001b[33m<7440.00> \u001b[0m\u001b[36mScanner-1: \u001b[0m\u001b[mSatellite Scanner-1 requires retasking\u001b[0m\n"
     ]
    },
    {
     "name": "stderr",
     "output_type": "stream",
     "text": [
      "\u001b[90;3m2024-09-12 15:06:46,130 \u001b[0m\u001b[mgym                            \u001b[0m\u001b[mINFO       \u001b[0m\u001b[33m<7440.00> \u001b[0m\u001b[mStep reward: 0.0\u001b[0m\n"
     ]
    },
    {
     "name": "stderr",
     "output_type": "stream",
     "text": [
      "\u001b[90;3m2024-09-12 15:06:46,130 \u001b[0m\u001b[mgym                            \u001b[0m\u001b[mINFO       \u001b[0m\u001b[33m<7440.00> \u001b[0m\u001b[93;1m=== STARTING STEP ===\u001b[0m\n"
     ]
    },
    {
     "name": "stderr",
     "output_type": "stream",
     "text": [
      "\u001b[90;3m2024-09-12 15:06:46,130 \u001b[0m\u001b[36msats.satellite.Scanner-1       \u001b[0m\u001b[mINFO       \u001b[0m\u001b[33m<7440.00> \u001b[0m\u001b[36mScanner-1: \u001b[0m\u001b[maction_downlink tasked for 60.0 seconds\u001b[0m\n"
     ]
    },
    {
     "name": "stderr",
     "output_type": "stream",
     "text": [
      "\u001b[90;3m2024-09-12 15:06:46,130 \u001b[0m\u001b[36msats.satellite.Scanner-1       \u001b[0m\u001b[mINFO       \u001b[0m\u001b[33m<7440.00> \u001b[0m\u001b[36mScanner-1: \u001b[0m\u001b[msetting timed terminal event at 7500.0\u001b[0m\n"
     ]
    },
    {
     "name": "stderr",
     "output_type": "stream",
     "text": [
      "\u001b[90;3m2024-09-12 15:06:46,134 \u001b[0m\u001b[36msats.satellite.Scanner-1       \u001b[0m\u001b[mINFO       \u001b[0m\u001b[33m<7500.00> \u001b[0m\u001b[36mScanner-1: \u001b[0m\u001b[mtimed termination at 7500.0 for action_downlink\u001b[0m\n"
     ]
    },
    {
     "name": "stderr",
     "output_type": "stream",
     "text": [
      "\u001b[90;3m2024-09-12 15:06:46,135 \u001b[0m\u001b[mdata.base                      \u001b[0m\u001b[mINFO       \u001b[0m\u001b[33m<7500.00> \u001b[0m\u001b[mData reward: {'Scanner-1': 0.0}\u001b[0m\n"
     ]
    },
    {
     "name": "stderr",
     "output_type": "stream",
     "text": [
      "\u001b[90;3m2024-09-12 15:06:46,135 \u001b[0m\u001b[36msats.satellite.Scanner-1       \u001b[0m\u001b[mINFO       \u001b[0m\u001b[33m<7500.00> \u001b[0m\u001b[36mScanner-1: \u001b[0m\u001b[mSatellite Scanner-1 requires retasking\u001b[0m\n"
     ]
    },
    {
     "name": "stderr",
     "output_type": "stream",
     "text": [
      "\u001b[90;3m2024-09-12 15:06:46,135 \u001b[0m\u001b[mgym                            \u001b[0m\u001b[mINFO       \u001b[0m\u001b[33m<7500.00> \u001b[0m\u001b[mStep reward: 0.0\u001b[0m\n"
     ]
    },
    {
     "name": "stderr",
     "output_type": "stream",
     "text": [
      "\u001b[90;3m2024-09-12 15:06:46,136 \u001b[0m\u001b[mgym                            \u001b[0m\u001b[mINFO       \u001b[0m\u001b[33m<7500.00> \u001b[0m\u001b[93;1m=== STARTING STEP ===\u001b[0m\n"
     ]
    },
    {
     "name": "stderr",
     "output_type": "stream",
     "text": [
      "\u001b[90;3m2024-09-12 15:06:46,136 \u001b[0m\u001b[36msats.satellite.Scanner-1       \u001b[0m\u001b[mINFO       \u001b[0m\u001b[33m<7500.00> \u001b[0m\u001b[36mScanner-1: \u001b[0m\u001b[maction_desat tasked for 60.0 seconds\u001b[0m\n"
     ]
    },
    {
     "name": "stderr",
     "output_type": "stream",
     "text": [
      "\u001b[90;3m2024-09-12 15:06:46,136 \u001b[0m\u001b[36msats.satellite.Scanner-1       \u001b[0m\u001b[mINFO       \u001b[0m\u001b[33m<7500.00> \u001b[0m\u001b[36mScanner-1: \u001b[0m\u001b[msetting timed terminal event at 7560.0\u001b[0m\n"
     ]
    },
    {
     "name": "stderr",
     "output_type": "stream",
     "text": [
      "\u001b[90;3m2024-09-12 15:06:46,140 \u001b[0m\u001b[36msats.satellite.Scanner-1       \u001b[0m\u001b[mINFO       \u001b[0m\u001b[33m<7560.00> \u001b[0m\u001b[36mScanner-1: \u001b[0m\u001b[mtimed termination at 7560.0 for action_desat\u001b[0m\n"
     ]
    },
    {
     "name": "stderr",
     "output_type": "stream",
     "text": [
      "\u001b[90;3m2024-09-12 15:06:46,141 \u001b[0m\u001b[mdata.base                      \u001b[0m\u001b[mINFO       \u001b[0m\u001b[33m<7560.00> \u001b[0m\u001b[mData reward: {'Scanner-1': 0.0}\u001b[0m\n"
     ]
    },
    {
     "name": "stderr",
     "output_type": "stream",
     "text": [
      "\u001b[90;3m2024-09-12 15:06:46,141 \u001b[0m\u001b[36msats.satellite.Scanner-1       \u001b[0m\u001b[mINFO       \u001b[0m\u001b[33m<7560.00> \u001b[0m\u001b[36mScanner-1: \u001b[0m\u001b[mSatellite Scanner-1 requires retasking\u001b[0m\n"
     ]
    },
    {
     "name": "stderr",
     "output_type": "stream",
     "text": [
      "\u001b[90;3m2024-09-12 15:06:46,142 \u001b[0m\u001b[mgym                            \u001b[0m\u001b[mINFO       \u001b[0m\u001b[33m<7560.00> \u001b[0m\u001b[mStep reward: 0.0\u001b[0m\n"
     ]
    },
    {
     "name": "stderr",
     "output_type": "stream",
     "text": [
      "\u001b[90;3m2024-09-12 15:06:46,142 \u001b[0m\u001b[mgym                            \u001b[0m\u001b[mINFO       \u001b[0m\u001b[33m<7560.00> \u001b[0m\u001b[93;1m=== STARTING STEP ===\u001b[0m\n"
     ]
    },
    {
     "name": "stderr",
     "output_type": "stream",
     "text": [
      "\u001b[90;3m2024-09-12 15:06:46,142 \u001b[0m\u001b[36msats.satellite.Scanner-1       \u001b[0m\u001b[mINFO       \u001b[0m\u001b[33m<7560.00> \u001b[0m\u001b[36mScanner-1: \u001b[0m\u001b[maction_nadir_scan tasked for 180.0 seconds\u001b[0m\n"
     ]
    },
    {
     "name": "stderr",
     "output_type": "stream",
     "text": [
      "\u001b[90;3m2024-09-12 15:06:46,142 \u001b[0m\u001b[36msats.satellite.Scanner-1       \u001b[0m\u001b[mINFO       \u001b[0m\u001b[33m<7560.00> \u001b[0m\u001b[36mScanner-1: \u001b[0m\u001b[msetting timed terminal event at 7740.0\u001b[0m\n"
     ]
    },
    {
     "name": "stderr",
     "output_type": "stream",
     "text": [
      "\u001b[90;3m2024-09-12 15:06:46,153 \u001b[0m\u001b[36msats.satellite.Scanner-1       \u001b[0m\u001b[mINFO       \u001b[0m\u001b[33m<7740.00> \u001b[0m\u001b[36mScanner-1: \u001b[0m\u001b[mtimed termination at 7740.0 for action_nadir_scan\u001b[0m\n"
     ]
    },
    {
     "name": "stderr",
     "output_type": "stream",
     "text": [
      "\u001b[90;3m2024-09-12 15:06:46,153 \u001b[0m\u001b[mdata.base                      \u001b[0m\u001b[mINFO       \u001b[0m\u001b[33m<7740.00> \u001b[0m\u001b[mData reward: {'Scanner-1': 0.004947368421052631}\u001b[0m\n"
     ]
    },
    {
     "name": "stderr",
     "output_type": "stream",
     "text": [
      "\u001b[90;3m2024-09-12 15:06:46,154 \u001b[0m\u001b[36msats.satellite.Scanner-1       \u001b[0m\u001b[mINFO       \u001b[0m\u001b[33m<7740.00> \u001b[0m\u001b[36mScanner-1: \u001b[0m\u001b[mSatellite Scanner-1 requires retasking\u001b[0m\n"
     ]
    },
    {
     "name": "stderr",
     "output_type": "stream",
     "text": [
      "\u001b[90;3m2024-09-12 15:06:46,154 \u001b[0m\u001b[mgym                            \u001b[0m\u001b[mINFO       \u001b[0m\u001b[33m<7740.00> \u001b[0m\u001b[mStep reward: 0.004947368421052631\u001b[0m\n"
     ]
    },
    {
     "name": "stderr",
     "output_type": "stream",
     "text": [
      "\u001b[90;3m2024-09-12 15:06:46,155 \u001b[0m\u001b[mgym                            \u001b[0m\u001b[mINFO       \u001b[0m\u001b[33m<7740.00> \u001b[0m\u001b[93;1m=== STARTING STEP ===\u001b[0m\n"
     ]
    },
    {
     "name": "stderr",
     "output_type": "stream",
     "text": [
      "\u001b[90;3m2024-09-12 15:06:46,155 \u001b[0m\u001b[36msats.satellite.Scanner-1       \u001b[0m\u001b[mINFO       \u001b[0m\u001b[33m<7740.00> \u001b[0m\u001b[36mScanner-1: \u001b[0m\u001b[maction_desat tasked for 60.0 seconds\u001b[0m\n"
     ]
    },
    {
     "name": "stderr",
     "output_type": "stream",
     "text": [
      "\u001b[90;3m2024-09-12 15:06:46,155 \u001b[0m\u001b[36msats.satellite.Scanner-1       \u001b[0m\u001b[mINFO       \u001b[0m\u001b[33m<7740.00> \u001b[0m\u001b[36mScanner-1: \u001b[0m\u001b[msetting timed terminal event at 7800.0\u001b[0m\n"
     ]
    },
    {
     "name": "stderr",
     "output_type": "stream",
     "text": [
      "\u001b[90;3m2024-09-12 15:06:46,159 \u001b[0m\u001b[36msats.satellite.Scanner-1       \u001b[0m\u001b[mINFO       \u001b[0m\u001b[33m<7800.00> \u001b[0m\u001b[36mScanner-1: \u001b[0m\u001b[mtimed termination at 7800.0 for action_desat\u001b[0m\n"
     ]
    },
    {
     "name": "stderr",
     "output_type": "stream",
     "text": [
      "\u001b[90;3m2024-09-12 15:06:46,159 \u001b[0m\u001b[mdata.base                      \u001b[0m\u001b[mINFO       \u001b[0m\u001b[33m<7800.00> \u001b[0m\u001b[mData reward: {'Scanner-1': 0.0}\u001b[0m\n"
     ]
    },
    {
     "name": "stderr",
     "output_type": "stream",
     "text": [
      "\u001b[90;3m2024-09-12 15:06:46,159 \u001b[0m\u001b[36msats.satellite.Scanner-1       \u001b[0m\u001b[mINFO       \u001b[0m\u001b[33m<7800.00> \u001b[0m\u001b[36mScanner-1: \u001b[0m\u001b[mSatellite Scanner-1 requires retasking\u001b[0m\n"
     ]
    },
    {
     "name": "stderr",
     "output_type": "stream",
     "text": [
      "\u001b[90;3m2024-09-12 15:06:46,160 \u001b[0m\u001b[mgym                            \u001b[0m\u001b[mINFO       \u001b[0m\u001b[33m<7800.00> \u001b[0m\u001b[mStep reward: 0.0\u001b[0m\n"
     ]
    },
    {
     "name": "stderr",
     "output_type": "stream",
     "text": [
      "\u001b[90;3m2024-09-12 15:06:46,161 \u001b[0m\u001b[mgym                            \u001b[0m\u001b[mINFO       \u001b[0m\u001b[33m<7800.00> \u001b[0m\u001b[93;1m=== STARTING STEP ===\u001b[0m\n"
     ]
    },
    {
     "name": "stderr",
     "output_type": "stream",
     "text": [
      "\u001b[90;3m2024-09-12 15:06:46,161 \u001b[0m\u001b[36msats.satellite.Scanner-1       \u001b[0m\u001b[mINFO       \u001b[0m\u001b[33m<7800.00> \u001b[0m\u001b[36mScanner-1: \u001b[0m\u001b[maction_downlink tasked for 60.0 seconds\u001b[0m\n"
     ]
    },
    {
     "name": "stderr",
     "output_type": "stream",
     "text": [
      "\u001b[90;3m2024-09-12 15:06:46,161 \u001b[0m\u001b[36msats.satellite.Scanner-1       \u001b[0m\u001b[mINFO       \u001b[0m\u001b[33m<7800.00> \u001b[0m\u001b[36mScanner-1: \u001b[0m\u001b[msetting timed terminal event at 7860.0\u001b[0m\n"
     ]
    },
    {
     "name": "stderr",
     "output_type": "stream",
     "text": [
      "\u001b[90;3m2024-09-12 15:06:46,165 \u001b[0m\u001b[36msats.satellite.Scanner-1       \u001b[0m\u001b[mINFO       \u001b[0m\u001b[33m<7860.00> \u001b[0m\u001b[36mScanner-1: \u001b[0m\u001b[mtimed termination at 7860.0 for action_downlink\u001b[0m\n"
     ]
    },
    {
     "name": "stderr",
     "output_type": "stream",
     "text": [
      "\u001b[90;3m2024-09-12 15:06:46,165 \u001b[0m\u001b[mdata.base                      \u001b[0m\u001b[mINFO       \u001b[0m\u001b[33m<7860.00> \u001b[0m\u001b[mData reward: {'Scanner-1': 0.0}\u001b[0m\n"
     ]
    },
    {
     "name": "stderr",
     "output_type": "stream",
     "text": [
      "\u001b[90;3m2024-09-12 15:06:46,165 \u001b[0m\u001b[36msats.satellite.Scanner-1       \u001b[0m\u001b[mINFO       \u001b[0m\u001b[33m<7860.00> \u001b[0m\u001b[36mScanner-1: \u001b[0m\u001b[mSatellite Scanner-1 requires retasking\u001b[0m\n"
     ]
    },
    {
     "name": "stderr",
     "output_type": "stream",
     "text": [
      "\u001b[90;3m2024-09-12 15:06:46,166 \u001b[0m\u001b[mgym                            \u001b[0m\u001b[mINFO       \u001b[0m\u001b[33m<7860.00> \u001b[0m\u001b[mStep reward: 0.0\u001b[0m\n"
     ]
    },
    {
     "name": "stderr",
     "output_type": "stream",
     "text": [
      "\u001b[90;3m2024-09-12 15:06:46,167 \u001b[0m\u001b[mgym                            \u001b[0m\u001b[mINFO       \u001b[0m\u001b[33m<7860.00> \u001b[0m\u001b[93;1m=== STARTING STEP ===\u001b[0m\n"
     ]
    },
    {
     "name": "stderr",
     "output_type": "stream",
     "text": [
      "\u001b[90;3m2024-09-12 15:06:46,167 \u001b[0m\u001b[36msats.satellite.Scanner-1       \u001b[0m\u001b[mINFO       \u001b[0m\u001b[33m<7860.00> \u001b[0m\u001b[36mScanner-1: \u001b[0m\u001b[maction_downlink tasked for 60.0 seconds\u001b[0m\n"
     ]
    },
    {
     "name": "stderr",
     "output_type": "stream",
     "text": [
      "\u001b[90;3m2024-09-12 15:06:46,167 \u001b[0m\u001b[36msats.satellite.Scanner-1       \u001b[0m\u001b[mINFO       \u001b[0m\u001b[33m<7860.00> \u001b[0m\u001b[36mScanner-1: \u001b[0m\u001b[msetting timed terminal event at 7920.0\u001b[0m\n"
     ]
    },
    {
     "name": "stderr",
     "output_type": "stream",
     "text": [
      "\u001b[90;3m2024-09-12 15:06:46,171 \u001b[0m\u001b[36msats.satellite.Scanner-1       \u001b[0m\u001b[mINFO       \u001b[0m\u001b[33m<7920.00> \u001b[0m\u001b[36mScanner-1: \u001b[0m\u001b[mtimed termination at 7920.0 for action_downlink\u001b[0m\n"
     ]
    },
    {
     "name": "stderr",
     "output_type": "stream",
     "text": [
      "\u001b[90;3m2024-09-12 15:06:46,171 \u001b[0m\u001b[mdata.base                      \u001b[0m\u001b[mINFO       \u001b[0m\u001b[33m<7920.00> \u001b[0m\u001b[mData reward: {'Scanner-1': 0.0}\u001b[0m\n"
     ]
    },
    {
     "name": "stderr",
     "output_type": "stream",
     "text": [
      "\u001b[90;3m2024-09-12 15:06:46,171 \u001b[0m\u001b[36msats.satellite.Scanner-1       \u001b[0m\u001b[mINFO       \u001b[0m\u001b[33m<7920.00> \u001b[0m\u001b[36mScanner-1: \u001b[0m\u001b[mSatellite Scanner-1 requires retasking\u001b[0m\n"
     ]
    },
    {
     "name": "stderr",
     "output_type": "stream",
     "text": [
      "\u001b[90;3m2024-09-12 15:06:46,172 \u001b[0m\u001b[mgym                            \u001b[0m\u001b[mINFO       \u001b[0m\u001b[33m<7920.00> \u001b[0m\u001b[mStep reward: 0.0\u001b[0m\n"
     ]
    },
    {
     "name": "stderr",
     "output_type": "stream",
     "text": [
      "\u001b[90;3m2024-09-12 15:06:46,172 \u001b[0m\u001b[mgym                            \u001b[0m\u001b[mINFO       \u001b[0m\u001b[33m<7920.00> \u001b[0m\u001b[93;1m=== STARTING STEP ===\u001b[0m\n"
     ]
    },
    {
     "name": "stderr",
     "output_type": "stream",
     "text": [
      "\u001b[90;3m2024-09-12 15:06:46,172 \u001b[0m\u001b[36msats.satellite.Scanner-1       \u001b[0m\u001b[mINFO       \u001b[0m\u001b[33m<7920.00> \u001b[0m\u001b[36mScanner-1: \u001b[0m\u001b[maction_downlink tasked for 60.0 seconds\u001b[0m\n"
     ]
    },
    {
     "name": "stderr",
     "output_type": "stream",
     "text": [
      "\u001b[90;3m2024-09-12 15:06:46,173 \u001b[0m\u001b[36msats.satellite.Scanner-1       \u001b[0m\u001b[mINFO       \u001b[0m\u001b[33m<7920.00> \u001b[0m\u001b[36mScanner-1: \u001b[0m\u001b[msetting timed terminal event at 7980.0\u001b[0m\n"
     ]
    },
    {
     "name": "stderr",
     "output_type": "stream",
     "text": [
      "\u001b[90;3m2024-09-12 15:06:46,176 \u001b[0m\u001b[36msats.satellite.Scanner-1       \u001b[0m\u001b[mINFO       \u001b[0m\u001b[33m<7980.00> \u001b[0m\u001b[36mScanner-1: \u001b[0m\u001b[mtimed termination at 7980.0 for action_downlink\u001b[0m\n"
     ]
    },
    {
     "name": "stderr",
     "output_type": "stream",
     "text": [
      "\u001b[90;3m2024-09-12 15:06:46,177 \u001b[0m\u001b[mdata.base                      \u001b[0m\u001b[mINFO       \u001b[0m\u001b[33m<7980.00> \u001b[0m\u001b[mData reward: {'Scanner-1': 0.0}\u001b[0m\n"
     ]
    },
    {
     "name": "stderr",
     "output_type": "stream",
     "text": [
      "\u001b[90;3m2024-09-12 15:06:46,177 \u001b[0m\u001b[36msats.satellite.Scanner-1       \u001b[0m\u001b[mINFO       \u001b[0m\u001b[33m<7980.00> \u001b[0m\u001b[36mScanner-1: \u001b[0m\u001b[mSatellite Scanner-1 requires retasking\u001b[0m\n"
     ]
    },
    {
     "name": "stderr",
     "output_type": "stream",
     "text": [
      "\u001b[90;3m2024-09-12 15:06:46,177 \u001b[0m\u001b[mgym                            \u001b[0m\u001b[mINFO       \u001b[0m\u001b[33m<7980.00> \u001b[0m\u001b[mStep reward: 0.0\u001b[0m\n"
     ]
    },
    {
     "name": "stderr",
     "output_type": "stream",
     "text": [
      "\u001b[90;3m2024-09-12 15:06:46,178 \u001b[0m\u001b[mgym                            \u001b[0m\u001b[mINFO       \u001b[0m\u001b[33m<7980.00> \u001b[0m\u001b[93;1m=== STARTING STEP ===\u001b[0m\n"
     ]
    },
    {
     "name": "stderr",
     "output_type": "stream",
     "text": [
      "\u001b[90;3m2024-09-12 15:06:46,178 \u001b[0m\u001b[36msats.satellite.Scanner-1       \u001b[0m\u001b[mINFO       \u001b[0m\u001b[33m<7980.00> \u001b[0m\u001b[36mScanner-1: \u001b[0m\u001b[maction_desat tasked for 60.0 seconds\u001b[0m\n"
     ]
    },
    {
     "name": "stderr",
     "output_type": "stream",
     "text": [
      "\u001b[90;3m2024-09-12 15:06:46,178 \u001b[0m\u001b[36msats.satellite.Scanner-1       \u001b[0m\u001b[mINFO       \u001b[0m\u001b[33m<7980.00> \u001b[0m\u001b[36mScanner-1: \u001b[0m\u001b[msetting timed terminal event at 8040.0\u001b[0m\n"
     ]
    },
    {
     "name": "stderr",
     "output_type": "stream",
     "text": [
      "\u001b[90;3m2024-09-12 15:06:46,183 \u001b[0m\u001b[36msats.satellite.Scanner-1       \u001b[0m\u001b[mINFO       \u001b[0m\u001b[33m<8040.00> \u001b[0m\u001b[36mScanner-1: \u001b[0m\u001b[mtimed termination at 8040.0 for action_desat\u001b[0m\n"
     ]
    },
    {
     "name": "stderr",
     "output_type": "stream",
     "text": [
      "\u001b[90;3m2024-09-12 15:06:46,183 \u001b[0m\u001b[mdata.base                      \u001b[0m\u001b[mINFO       \u001b[0m\u001b[33m<8040.00> \u001b[0m\u001b[mData reward: {'Scanner-1': 0.0}\u001b[0m\n"
     ]
    },
    {
     "name": "stderr",
     "output_type": "stream",
     "text": [
      "\u001b[90;3m2024-09-12 15:06:46,183 \u001b[0m\u001b[36msats.satellite.Scanner-1       \u001b[0m\u001b[mINFO       \u001b[0m\u001b[33m<8040.00> \u001b[0m\u001b[36mScanner-1: \u001b[0m\u001b[mSatellite Scanner-1 requires retasking\u001b[0m\n"
     ]
    },
    {
     "name": "stderr",
     "output_type": "stream",
     "text": [
      "\u001b[90;3m2024-09-12 15:06:46,184 \u001b[0m\u001b[mgym                            \u001b[0m\u001b[mINFO       \u001b[0m\u001b[33m<8040.00> \u001b[0m\u001b[mStep reward: 0.0\u001b[0m\n"
     ]
    },
    {
     "name": "stderr",
     "output_type": "stream",
     "text": [
      "\u001b[90;3m2024-09-12 15:06:46,184 \u001b[0m\u001b[mgym                            \u001b[0m\u001b[mINFO       \u001b[0m\u001b[33m<8040.00> \u001b[0m\u001b[93;1m=== STARTING STEP ===\u001b[0m\n"
     ]
    },
    {
     "name": "stderr",
     "output_type": "stream",
     "text": [
      "\u001b[90;3m2024-09-12 15:06:46,184 \u001b[0m\u001b[36msats.satellite.Scanner-1       \u001b[0m\u001b[mINFO       \u001b[0m\u001b[33m<8040.00> \u001b[0m\u001b[36mScanner-1: \u001b[0m\u001b[maction_charge tasked for 120.0 seconds\u001b[0m\n"
     ]
    },
    {
     "name": "stderr",
     "output_type": "stream",
     "text": [
      "\u001b[90;3m2024-09-12 15:06:46,185 \u001b[0m\u001b[36msats.satellite.Scanner-1       \u001b[0m\u001b[mINFO       \u001b[0m\u001b[33m<8040.00> \u001b[0m\u001b[36mScanner-1: \u001b[0m\u001b[msetting timed terminal event at 8160.0\u001b[0m\n"
     ]
    },
    {
     "name": "stderr",
     "output_type": "stream",
     "text": [
      "\u001b[90;3m2024-09-12 15:06:46,193 \u001b[0m\u001b[36msats.satellite.Scanner-1       \u001b[0m\u001b[mINFO       \u001b[0m\u001b[33m<8160.00> \u001b[0m\u001b[36mScanner-1: \u001b[0m\u001b[mtimed termination at 8160.0 for action_charge\u001b[0m\n"
     ]
    },
    {
     "name": "stderr",
     "output_type": "stream",
     "text": [
      "\u001b[90;3m2024-09-12 15:06:46,194 \u001b[0m\u001b[mdata.base                      \u001b[0m\u001b[mINFO       \u001b[0m\u001b[33m<8160.00> \u001b[0m\u001b[mData reward: {'Scanner-1': 0.0}\u001b[0m\n"
     ]
    },
    {
     "name": "stderr",
     "output_type": "stream",
     "text": [
      "\u001b[90;3m2024-09-12 15:06:46,194 \u001b[0m\u001b[36msats.satellite.Scanner-1       \u001b[0m\u001b[mINFO       \u001b[0m\u001b[33m<8160.00> \u001b[0m\u001b[36mScanner-1: \u001b[0m\u001b[mSatellite Scanner-1 requires retasking\u001b[0m\n"
     ]
    },
    {
     "name": "stderr",
     "output_type": "stream",
     "text": [
      "\u001b[90;3m2024-09-12 15:06:46,195 \u001b[0m\u001b[mgym                            \u001b[0m\u001b[mINFO       \u001b[0m\u001b[33m<8160.00> \u001b[0m\u001b[mStep reward: 0.0\u001b[0m\n"
     ]
    },
    {
     "name": "stderr",
     "output_type": "stream",
     "text": [
      "\u001b[90;3m2024-09-12 15:06:46,195 \u001b[0m\u001b[mgym                            \u001b[0m\u001b[mINFO       \u001b[0m\u001b[33m<8160.00> \u001b[0m\u001b[93;1m=== STARTING STEP ===\u001b[0m\n"
     ]
    },
    {
     "name": "stderr",
     "output_type": "stream",
     "text": [
      "\u001b[90;3m2024-09-12 15:06:46,196 \u001b[0m\u001b[36msats.satellite.Scanner-1       \u001b[0m\u001b[mINFO       \u001b[0m\u001b[33m<8160.00> \u001b[0m\u001b[36mScanner-1: \u001b[0m\u001b[maction_desat tasked for 60.0 seconds\u001b[0m\n"
     ]
    },
    {
     "name": "stderr",
     "output_type": "stream",
     "text": [
      "\u001b[90;3m2024-09-12 15:06:46,196 \u001b[0m\u001b[36msats.satellite.Scanner-1       \u001b[0m\u001b[mINFO       \u001b[0m\u001b[33m<8160.00> \u001b[0m\u001b[36mScanner-1: \u001b[0m\u001b[msetting timed terminal event at 8220.0\u001b[0m\n"
     ]
    },
    {
     "name": "stderr",
     "output_type": "stream",
     "text": [
      "\u001b[90;3m2024-09-12 15:06:46,200 \u001b[0m\u001b[36msats.satellite.Scanner-1       \u001b[0m\u001b[mINFO       \u001b[0m\u001b[33m<8220.00> \u001b[0m\u001b[36mScanner-1: \u001b[0m\u001b[mtimed termination at 8220.0 for action_desat\u001b[0m\n"
     ]
    },
    {
     "name": "stderr",
     "output_type": "stream",
     "text": [
      "\u001b[90;3m2024-09-12 15:06:46,201 \u001b[0m\u001b[mdata.base                      \u001b[0m\u001b[mINFO       \u001b[0m\u001b[33m<8220.00> \u001b[0m\u001b[mData reward: {'Scanner-1': 0.0}\u001b[0m\n"
     ]
    },
    {
     "name": "stderr",
     "output_type": "stream",
     "text": [
      "\u001b[90;3m2024-09-12 15:06:46,201 \u001b[0m\u001b[36msats.satellite.Scanner-1       \u001b[0m\u001b[mINFO       \u001b[0m\u001b[33m<8220.00> \u001b[0m\u001b[36mScanner-1: \u001b[0m\u001b[mSatellite Scanner-1 requires retasking\u001b[0m\n"
     ]
    },
    {
     "name": "stderr",
     "output_type": "stream",
     "text": [
      "\u001b[90;3m2024-09-12 15:06:46,202 \u001b[0m\u001b[mgym                            \u001b[0m\u001b[mINFO       \u001b[0m\u001b[33m<8220.00> \u001b[0m\u001b[mStep reward: 0.0\u001b[0m\n"
     ]
    },
    {
     "name": "stderr",
     "output_type": "stream",
     "text": [
      "\u001b[90;3m2024-09-12 15:06:46,203 \u001b[0m\u001b[mgym                            \u001b[0m\u001b[mINFO       \u001b[0m\u001b[33m<8220.00> \u001b[0m\u001b[93;1m=== STARTING STEP ===\u001b[0m\n"
     ]
    },
    {
     "name": "stderr",
     "output_type": "stream",
     "text": [
      "\u001b[90;3m2024-09-12 15:06:46,203 \u001b[0m\u001b[36msats.satellite.Scanner-1       \u001b[0m\u001b[mINFO       \u001b[0m\u001b[33m<8220.00> \u001b[0m\u001b[36mScanner-1: \u001b[0m\u001b[maction_downlink tasked for 60.0 seconds\u001b[0m\n"
     ]
    },
    {
     "name": "stderr",
     "output_type": "stream",
     "text": [
      "\u001b[90;3m2024-09-12 15:06:46,203 \u001b[0m\u001b[36msats.satellite.Scanner-1       \u001b[0m\u001b[mINFO       \u001b[0m\u001b[33m<8220.00> \u001b[0m\u001b[36mScanner-1: \u001b[0m\u001b[msetting timed terminal event at 8280.0\u001b[0m\n"
     ]
    },
    {
     "name": "stderr",
     "output_type": "stream",
     "text": [
      "\u001b[90;3m2024-09-12 15:06:46,207 \u001b[0m\u001b[36msats.satellite.Scanner-1       \u001b[0m\u001b[mINFO       \u001b[0m\u001b[33m<8280.00> \u001b[0m\u001b[36mScanner-1: \u001b[0m\u001b[mtimed termination at 8280.0 for action_downlink\u001b[0m\n"
     ]
    },
    {
     "name": "stderr",
     "output_type": "stream",
     "text": [
      "\u001b[90;3m2024-09-12 15:06:46,208 \u001b[0m\u001b[mdata.base                      \u001b[0m\u001b[mINFO       \u001b[0m\u001b[33m<8280.00> \u001b[0m\u001b[mData reward: {'Scanner-1': 0.0}\u001b[0m\n"
     ]
    },
    {
     "name": "stderr",
     "output_type": "stream",
     "text": [
      "\u001b[90;3m2024-09-12 15:06:46,208 \u001b[0m\u001b[36msats.satellite.Scanner-1       \u001b[0m\u001b[mINFO       \u001b[0m\u001b[33m<8280.00> \u001b[0m\u001b[36mScanner-1: \u001b[0m\u001b[mSatellite Scanner-1 requires retasking\u001b[0m\n"
     ]
    },
    {
     "name": "stderr",
     "output_type": "stream",
     "text": [
      "\u001b[90;3m2024-09-12 15:06:46,209 \u001b[0m\u001b[mgym                            \u001b[0m\u001b[mINFO       \u001b[0m\u001b[33m<8280.00> \u001b[0m\u001b[mStep reward: 0.0\u001b[0m\n"
     ]
    },
    {
     "name": "stderr",
     "output_type": "stream",
     "text": [
      "\u001b[90;3m2024-09-12 15:06:46,210 \u001b[0m\u001b[mgym                            \u001b[0m\u001b[mINFO       \u001b[0m\u001b[33m<8280.00> \u001b[0m\u001b[93;1m=== STARTING STEP ===\u001b[0m\n"
     ]
    },
    {
     "name": "stderr",
     "output_type": "stream",
     "text": [
      "\u001b[90;3m2024-09-12 15:06:46,210 \u001b[0m\u001b[36msats.satellite.Scanner-1       \u001b[0m\u001b[mINFO       \u001b[0m\u001b[33m<8280.00> \u001b[0m\u001b[36mScanner-1: \u001b[0m\u001b[maction_charge tasked for 120.0 seconds\u001b[0m\n"
     ]
    },
    {
     "name": "stderr",
     "output_type": "stream",
     "text": [
      "\u001b[90;3m2024-09-12 15:06:46,210 \u001b[0m\u001b[36msats.satellite.Scanner-1       \u001b[0m\u001b[mINFO       \u001b[0m\u001b[33m<8280.00> \u001b[0m\u001b[36mScanner-1: \u001b[0m\u001b[msetting timed terminal event at 8400.0\u001b[0m\n"
     ]
    },
    {
     "name": "stderr",
     "output_type": "stream",
     "text": [
      "\u001b[90;3m2024-09-12 15:06:46,219 \u001b[0m\u001b[36msats.satellite.Scanner-1       \u001b[0m\u001b[mINFO       \u001b[0m\u001b[33m<8400.00> \u001b[0m\u001b[36mScanner-1: \u001b[0m\u001b[mtimed termination at 8400.0 for action_charge\u001b[0m\n"
     ]
    },
    {
     "name": "stderr",
     "output_type": "stream",
     "text": [
      "\u001b[90;3m2024-09-12 15:06:46,219 \u001b[0m\u001b[mdata.base                      \u001b[0m\u001b[mINFO       \u001b[0m\u001b[33m<8400.00> \u001b[0m\u001b[mData reward: {'Scanner-1': 0.0}\u001b[0m\n"
     ]
    },
    {
     "name": "stderr",
     "output_type": "stream",
     "text": [
      "\u001b[90;3m2024-09-12 15:06:46,220 \u001b[0m\u001b[36msats.satellite.Scanner-1       \u001b[0m\u001b[mINFO       \u001b[0m\u001b[33m<8400.00> \u001b[0m\u001b[36mScanner-1: \u001b[0m\u001b[mSatellite Scanner-1 requires retasking\u001b[0m\n"
     ]
    },
    {
     "name": "stderr",
     "output_type": "stream",
     "text": [
      "\u001b[90;3m2024-09-12 15:06:46,221 \u001b[0m\u001b[mgym                            \u001b[0m\u001b[mINFO       \u001b[0m\u001b[33m<8400.00> \u001b[0m\u001b[mStep reward: 0.0\u001b[0m\n"
     ]
    },
    {
     "name": "stderr",
     "output_type": "stream",
     "text": [
      "\u001b[90;3m2024-09-12 15:06:46,221 \u001b[0m\u001b[mgym                            \u001b[0m\u001b[mINFO       \u001b[0m\u001b[33m<8400.00> \u001b[0m\u001b[93;1m=== STARTING STEP ===\u001b[0m\n"
     ]
    },
    {
     "name": "stderr",
     "output_type": "stream",
     "text": [
      "\u001b[90;3m2024-09-12 15:06:46,222 \u001b[0m\u001b[36msats.satellite.Scanner-1       \u001b[0m\u001b[mINFO       \u001b[0m\u001b[33m<8400.00> \u001b[0m\u001b[36mScanner-1: \u001b[0m\u001b[maction_downlink tasked for 60.0 seconds\u001b[0m\n"
     ]
    },
    {
     "name": "stderr",
     "output_type": "stream",
     "text": [
      "\u001b[90;3m2024-09-12 15:06:46,222 \u001b[0m\u001b[36msats.satellite.Scanner-1       \u001b[0m\u001b[mINFO       \u001b[0m\u001b[33m<8400.00> \u001b[0m\u001b[36mScanner-1: \u001b[0m\u001b[msetting timed terminal event at 8460.0\u001b[0m\n"
     ]
    },
    {
     "name": "stderr",
     "output_type": "stream",
     "text": [
      "\u001b[90;3m2024-09-12 15:06:46,226 \u001b[0m\u001b[36msats.satellite.Scanner-1       \u001b[0m\u001b[mINFO       \u001b[0m\u001b[33m<8460.00> \u001b[0m\u001b[36mScanner-1: \u001b[0m\u001b[mtimed termination at 8460.0 for action_downlink\u001b[0m\n"
     ]
    },
    {
     "name": "stderr",
     "output_type": "stream",
     "text": [
      "\u001b[90;3m2024-09-12 15:06:46,226 \u001b[0m\u001b[mdata.base                      \u001b[0m\u001b[mINFO       \u001b[0m\u001b[33m<8460.00> \u001b[0m\u001b[mData reward: {'Scanner-1': 0.0}\u001b[0m\n"
     ]
    },
    {
     "name": "stderr",
     "output_type": "stream",
     "text": [
      "\u001b[90;3m2024-09-12 15:06:46,227 \u001b[0m\u001b[36msats.satellite.Scanner-1       \u001b[0m\u001b[mINFO       \u001b[0m\u001b[33m<8460.00> \u001b[0m\u001b[36mScanner-1: \u001b[0m\u001b[mSatellite Scanner-1 requires retasking\u001b[0m\n"
     ]
    },
    {
     "name": "stderr",
     "output_type": "stream",
     "text": [
      "\u001b[90;3m2024-09-12 15:06:46,227 \u001b[0m\u001b[mgym                            \u001b[0m\u001b[mINFO       \u001b[0m\u001b[33m<8460.00> \u001b[0m\u001b[mStep reward: 0.0\u001b[0m\n"
     ]
    },
    {
     "name": "stderr",
     "output_type": "stream",
     "text": [
      "\u001b[90;3m2024-09-12 15:06:46,228 \u001b[0m\u001b[mgym                            \u001b[0m\u001b[mINFO       \u001b[0m\u001b[33m<8460.00> \u001b[0m\u001b[93;1m=== STARTING STEP ===\u001b[0m\n"
     ]
    },
    {
     "name": "stderr",
     "output_type": "stream",
     "text": [
      "\u001b[90;3m2024-09-12 15:06:46,228 \u001b[0m\u001b[36msats.satellite.Scanner-1       \u001b[0m\u001b[mINFO       \u001b[0m\u001b[33m<8460.00> \u001b[0m\u001b[36mScanner-1: \u001b[0m\u001b[maction_charge tasked for 120.0 seconds\u001b[0m\n"
     ]
    },
    {
     "name": "stderr",
     "output_type": "stream",
     "text": [
      "\u001b[90;3m2024-09-12 15:06:46,229 \u001b[0m\u001b[36msats.satellite.Scanner-1       \u001b[0m\u001b[mINFO       \u001b[0m\u001b[33m<8460.00> \u001b[0m\u001b[36mScanner-1: \u001b[0m\u001b[msetting timed terminal event at 8580.0\u001b[0m\n"
     ]
    },
    {
     "name": "stderr",
     "output_type": "stream",
     "text": [
      "\u001b[90;3m2024-09-12 15:06:46,237 \u001b[0m\u001b[36msats.satellite.Scanner-1       \u001b[0m\u001b[mINFO       \u001b[0m\u001b[33m<8580.00> \u001b[0m\u001b[36mScanner-1: \u001b[0m\u001b[mtimed termination at 8580.0 for action_charge\u001b[0m\n"
     ]
    },
    {
     "name": "stderr",
     "output_type": "stream",
     "text": [
      "\u001b[90;3m2024-09-12 15:06:46,238 \u001b[0m\u001b[mdata.base                      \u001b[0m\u001b[mINFO       \u001b[0m\u001b[33m<8580.00> \u001b[0m\u001b[mData reward: {'Scanner-1': 0.0}\u001b[0m\n"
     ]
    },
    {
     "name": "stderr",
     "output_type": "stream",
     "text": [
      "\u001b[90;3m2024-09-12 15:06:46,238 \u001b[0m\u001b[36msats.satellite.Scanner-1       \u001b[0m\u001b[mINFO       \u001b[0m\u001b[33m<8580.00> \u001b[0m\u001b[36mScanner-1: \u001b[0m\u001b[mSatellite Scanner-1 requires retasking\u001b[0m\n"
     ]
    },
    {
     "name": "stderr",
     "output_type": "stream",
     "text": [
      "\u001b[90;3m2024-09-12 15:06:46,239 \u001b[0m\u001b[mgym                            \u001b[0m\u001b[mINFO       \u001b[0m\u001b[33m<8580.00> \u001b[0m\u001b[mStep reward: 0.0\u001b[0m\n"
     ]
    },
    {
     "name": "stderr",
     "output_type": "stream",
     "text": [
      "\u001b[90;3m2024-09-12 15:06:46,240 \u001b[0m\u001b[mgym                            \u001b[0m\u001b[mINFO       \u001b[0m\u001b[33m<8580.00> \u001b[0m\u001b[93;1m=== STARTING STEP ===\u001b[0m\n"
     ]
    },
    {
     "name": "stderr",
     "output_type": "stream",
     "text": [
      "\u001b[90;3m2024-09-12 15:06:46,240 \u001b[0m\u001b[36msats.satellite.Scanner-1       \u001b[0m\u001b[mINFO       \u001b[0m\u001b[33m<8580.00> \u001b[0m\u001b[36mScanner-1: \u001b[0m\u001b[maction_charge tasked for 120.0 seconds\u001b[0m\n"
     ]
    },
    {
     "name": "stderr",
     "output_type": "stream",
     "text": [
      "\u001b[90;3m2024-09-12 15:06:46,240 \u001b[0m\u001b[36msats.satellite.Scanner-1       \u001b[0m\u001b[mINFO       \u001b[0m\u001b[33m<8580.00> \u001b[0m\u001b[36mScanner-1: \u001b[0m\u001b[msetting timed terminal event at 8700.0\u001b[0m\n"
     ]
    },
    {
     "name": "stderr",
     "output_type": "stream",
     "text": [
      "\u001b[90;3m2024-09-12 15:06:46,248 \u001b[0m\u001b[36msats.satellite.Scanner-1       \u001b[0m\u001b[mINFO       \u001b[0m\u001b[33m<8700.00> \u001b[0m\u001b[36mScanner-1: \u001b[0m\u001b[mtimed termination at 8700.0 for action_charge\u001b[0m\n"
     ]
    },
    {
     "name": "stderr",
     "output_type": "stream",
     "text": [
      "\u001b[90;3m2024-09-12 15:06:46,248 \u001b[0m\u001b[mdata.base                      \u001b[0m\u001b[mINFO       \u001b[0m\u001b[33m<8700.00> \u001b[0m\u001b[mData reward: {'Scanner-1': 0.0}\u001b[0m\n"
     ]
    },
    {
     "name": "stderr",
     "output_type": "stream",
     "text": [
      "\u001b[90;3m2024-09-12 15:06:46,248 \u001b[0m\u001b[36msats.satellite.Scanner-1       \u001b[0m\u001b[mINFO       \u001b[0m\u001b[33m<8700.00> \u001b[0m\u001b[36mScanner-1: \u001b[0m\u001b[mSatellite Scanner-1 requires retasking\u001b[0m\n"
     ]
    },
    {
     "name": "stderr",
     "output_type": "stream",
     "text": [
      "\u001b[90;3m2024-09-12 15:06:46,249 \u001b[0m\u001b[mgym                            \u001b[0m\u001b[mINFO       \u001b[0m\u001b[33m<8700.00> \u001b[0m\u001b[mStep reward: 0.0\u001b[0m\n"
     ]
    },
    {
     "name": "stderr",
     "output_type": "stream",
     "text": [
      "\u001b[90;3m2024-09-12 15:06:46,281 \u001b[0m\u001b[mgym                            \u001b[0m\u001b[mINFO       \u001b[0m\u001b[33m<8700.00> \u001b[0m\u001b[93;1m=== STARTING STEP ===\u001b[0m\n"
     ]
    },
    {
     "name": "stderr",
     "output_type": "stream",
     "text": [
      "\u001b[90;3m2024-09-12 15:06:46,281 \u001b[0m\u001b[36msats.satellite.Scanner-1       \u001b[0m\u001b[mINFO       \u001b[0m\u001b[33m<8700.00> \u001b[0m\u001b[36mScanner-1: \u001b[0m\u001b[maction_charge tasked for 120.0 seconds\u001b[0m\n"
     ]
    },
    {
     "name": "stderr",
     "output_type": "stream",
     "text": [
      "\u001b[90;3m2024-09-12 15:06:46,281 \u001b[0m\u001b[36msats.satellite.Scanner-1       \u001b[0m\u001b[mINFO       \u001b[0m\u001b[33m<8700.00> \u001b[0m\u001b[36mScanner-1: \u001b[0m\u001b[msetting timed terminal event at 8820.0\u001b[0m\n"
     ]
    },
    {
     "name": "stderr",
     "output_type": "stream",
     "text": [
      "\u001b[90;3m2024-09-12 15:06:46,289 \u001b[0m\u001b[36msats.satellite.Scanner-1       \u001b[0m\u001b[mINFO       \u001b[0m\u001b[33m<8820.00> \u001b[0m\u001b[36mScanner-1: \u001b[0m\u001b[mtimed termination at 8820.0 for action_charge\u001b[0m\n"
     ]
    },
    {
     "name": "stderr",
     "output_type": "stream",
     "text": [
      "\u001b[90;3m2024-09-12 15:06:46,289 \u001b[0m\u001b[mdata.base                      \u001b[0m\u001b[mINFO       \u001b[0m\u001b[33m<8820.00> \u001b[0m\u001b[mData reward: {'Scanner-1': 0.0}\u001b[0m\n"
     ]
    },
    {
     "name": "stderr",
     "output_type": "stream",
     "text": [
      "\u001b[90;3m2024-09-12 15:06:46,290 \u001b[0m\u001b[36msats.satellite.Scanner-1       \u001b[0m\u001b[mINFO       \u001b[0m\u001b[33m<8820.00> \u001b[0m\u001b[36mScanner-1: \u001b[0m\u001b[mSatellite Scanner-1 requires retasking\u001b[0m\n"
     ]
    },
    {
     "name": "stderr",
     "output_type": "stream",
     "text": [
      "\u001b[90;3m2024-09-12 15:06:46,290 \u001b[0m\u001b[mgym                            \u001b[0m\u001b[mINFO       \u001b[0m\u001b[33m<8820.00> \u001b[0m\u001b[mStep reward: 0.0\u001b[0m\n"
     ]
    },
    {
     "name": "stderr",
     "output_type": "stream",
     "text": [
      "\u001b[90;3m2024-09-12 15:06:46,291 \u001b[0m\u001b[mgym                            \u001b[0m\u001b[mINFO       \u001b[0m\u001b[33m<8820.00> \u001b[0m\u001b[93;1m=== STARTING STEP ===\u001b[0m\n"
     ]
    },
    {
     "name": "stderr",
     "output_type": "stream",
     "text": [
      "\u001b[90;3m2024-09-12 15:06:46,291 \u001b[0m\u001b[36msats.satellite.Scanner-1       \u001b[0m\u001b[mINFO       \u001b[0m\u001b[33m<8820.00> \u001b[0m\u001b[36mScanner-1: \u001b[0m\u001b[maction_charge tasked for 120.0 seconds\u001b[0m\n"
     ]
    },
    {
     "name": "stderr",
     "output_type": "stream",
     "text": [
      "\u001b[90;3m2024-09-12 15:06:46,291 \u001b[0m\u001b[36msats.satellite.Scanner-1       \u001b[0m\u001b[mINFO       \u001b[0m\u001b[33m<8820.00> \u001b[0m\u001b[36mScanner-1: \u001b[0m\u001b[msetting timed terminal event at 8940.0\u001b[0m\n"
     ]
    },
    {
     "name": "stderr",
     "output_type": "stream",
     "text": [
      "\u001b[90;3m2024-09-12 15:06:46,299 \u001b[0m\u001b[36msats.satellite.Scanner-1       \u001b[0m\u001b[mINFO       \u001b[0m\u001b[33m<8940.00> \u001b[0m\u001b[36mScanner-1: \u001b[0m\u001b[mtimed termination at 8940.0 for action_charge\u001b[0m\n"
     ]
    },
    {
     "name": "stderr",
     "output_type": "stream",
     "text": [
      "\u001b[90;3m2024-09-12 15:06:46,299 \u001b[0m\u001b[mdata.base                      \u001b[0m\u001b[mINFO       \u001b[0m\u001b[33m<8940.00> \u001b[0m\u001b[mData reward: {'Scanner-1': 0.0}\u001b[0m\n"
     ]
    },
    {
     "name": "stderr",
     "output_type": "stream",
     "text": [
      "\u001b[90;3m2024-09-12 15:06:46,299 \u001b[0m\u001b[36msats.satellite.Scanner-1       \u001b[0m\u001b[mINFO       \u001b[0m\u001b[33m<8940.00> \u001b[0m\u001b[36mScanner-1: \u001b[0m\u001b[mSatellite Scanner-1 requires retasking\u001b[0m\n"
     ]
    },
    {
     "name": "stderr",
     "output_type": "stream",
     "text": [
      "\u001b[90;3m2024-09-12 15:06:46,300 \u001b[0m\u001b[mgym                            \u001b[0m\u001b[mINFO       \u001b[0m\u001b[33m<8940.00> \u001b[0m\u001b[mStep reward: 0.0\u001b[0m\n"
     ]
    },
    {
     "name": "stderr",
     "output_type": "stream",
     "text": [
      "\u001b[90;3m2024-09-12 15:06:46,301 \u001b[0m\u001b[mgym                            \u001b[0m\u001b[mINFO       \u001b[0m\u001b[33m<8940.00> \u001b[0m\u001b[93;1m=== STARTING STEP ===\u001b[0m\n"
     ]
    },
    {
     "name": "stderr",
     "output_type": "stream",
     "text": [
      "\u001b[90;3m2024-09-12 15:06:46,301 \u001b[0m\u001b[36msats.satellite.Scanner-1       \u001b[0m\u001b[mINFO       \u001b[0m\u001b[33m<8940.00> \u001b[0m\u001b[36mScanner-1: \u001b[0m\u001b[maction_charge tasked for 120.0 seconds\u001b[0m\n"
     ]
    },
    {
     "name": "stderr",
     "output_type": "stream",
     "text": [
      "\u001b[90;3m2024-09-12 15:06:46,301 \u001b[0m\u001b[36msats.satellite.Scanner-1       \u001b[0m\u001b[mINFO       \u001b[0m\u001b[33m<8940.00> \u001b[0m\u001b[36mScanner-1: \u001b[0m\u001b[msetting timed terminal event at 9060.0\u001b[0m\n"
     ]
    },
    {
     "name": "stderr",
     "output_type": "stream",
     "text": [
      "\u001b[90;3m2024-09-12 15:06:46,309 \u001b[0m\u001b[36msats.satellite.Scanner-1       \u001b[0m\u001b[mINFO       \u001b[0m\u001b[33m<9060.00> \u001b[0m\u001b[36mScanner-1: \u001b[0m\u001b[mtimed termination at 9060.0 for action_charge\u001b[0m\n"
     ]
    },
    {
     "name": "stderr",
     "output_type": "stream",
     "text": [
      "\u001b[90;3m2024-09-12 15:06:46,310 \u001b[0m\u001b[mdata.base                      \u001b[0m\u001b[mINFO       \u001b[0m\u001b[33m<9060.00> \u001b[0m\u001b[mData reward: {'Scanner-1': 0.0}\u001b[0m\n"
     ]
    },
    {
     "name": "stderr",
     "output_type": "stream",
     "text": [
      "\u001b[90;3m2024-09-12 15:06:46,310 \u001b[0m\u001b[36msats.satellite.Scanner-1       \u001b[0m\u001b[mINFO       \u001b[0m\u001b[33m<9060.00> \u001b[0m\u001b[36mScanner-1: \u001b[0m\u001b[mSatellite Scanner-1 requires retasking\u001b[0m\n"
     ]
    },
    {
     "name": "stderr",
     "output_type": "stream",
     "text": [
      "\u001b[90;3m2024-09-12 15:06:46,311 \u001b[0m\u001b[mgym                            \u001b[0m\u001b[mINFO       \u001b[0m\u001b[33m<9060.00> \u001b[0m\u001b[mStep reward: 0.0\u001b[0m\n"
     ]
    },
    {
     "name": "stderr",
     "output_type": "stream",
     "text": [
      "\u001b[90;3m2024-09-12 15:06:46,311 \u001b[0m\u001b[mgym                            \u001b[0m\u001b[mINFO       \u001b[0m\u001b[33m<9060.00> \u001b[0m\u001b[93;1m=== STARTING STEP ===\u001b[0m\n"
     ]
    },
    {
     "name": "stderr",
     "output_type": "stream",
     "text": [
      "\u001b[90;3m2024-09-12 15:06:46,312 \u001b[0m\u001b[36msats.satellite.Scanner-1       \u001b[0m\u001b[mINFO       \u001b[0m\u001b[33m<9060.00> \u001b[0m\u001b[36mScanner-1: \u001b[0m\u001b[maction_desat tasked for 60.0 seconds\u001b[0m\n"
     ]
    },
    {
     "name": "stderr",
     "output_type": "stream",
     "text": [
      "\u001b[90;3m2024-09-12 15:06:46,312 \u001b[0m\u001b[36msats.satellite.Scanner-1       \u001b[0m\u001b[mINFO       \u001b[0m\u001b[33m<9060.00> \u001b[0m\u001b[36mScanner-1: \u001b[0m\u001b[msetting timed terminal event at 9120.0\u001b[0m\n"
     ]
    },
    {
     "name": "stderr",
     "output_type": "stream",
     "text": [
      "\u001b[90;3m2024-09-12 15:06:46,317 \u001b[0m\u001b[36msats.satellite.Scanner-1       \u001b[0m\u001b[mINFO       \u001b[0m\u001b[33m<9120.00> \u001b[0m\u001b[36mScanner-1: \u001b[0m\u001b[mtimed termination at 9120.0 for action_desat\u001b[0m\n"
     ]
    },
    {
     "name": "stderr",
     "output_type": "stream",
     "text": [
      "\u001b[90;3m2024-09-12 15:06:46,317 \u001b[0m\u001b[mdata.base                      \u001b[0m\u001b[mINFO       \u001b[0m\u001b[33m<9120.00> \u001b[0m\u001b[mData reward: {'Scanner-1': 0.0}\u001b[0m\n"
     ]
    },
    {
     "name": "stderr",
     "output_type": "stream",
     "text": [
      "\u001b[90;3m2024-09-12 15:06:46,317 \u001b[0m\u001b[36msats.satellite.Scanner-1       \u001b[0m\u001b[mINFO       \u001b[0m\u001b[33m<9120.00> \u001b[0m\u001b[36mScanner-1: \u001b[0m\u001b[mSatellite Scanner-1 requires retasking\u001b[0m\n"
     ]
    },
    {
     "name": "stderr",
     "output_type": "stream",
     "text": [
      "\u001b[90;3m2024-09-12 15:06:46,318 \u001b[0m\u001b[mgym                            \u001b[0m\u001b[mINFO       \u001b[0m\u001b[33m<9120.00> \u001b[0m\u001b[mStep reward: 0.0\u001b[0m\n"
     ]
    },
    {
     "name": "stderr",
     "output_type": "stream",
     "text": [
      "\u001b[90;3m2024-09-12 15:06:46,319 \u001b[0m\u001b[mgym                            \u001b[0m\u001b[mINFO       \u001b[0m\u001b[33m<9120.00> \u001b[0m\u001b[93;1m=== STARTING STEP ===\u001b[0m\n"
     ]
    },
    {
     "name": "stderr",
     "output_type": "stream",
     "text": [
      "\u001b[90;3m2024-09-12 15:06:46,319 \u001b[0m\u001b[36msats.satellite.Scanner-1       \u001b[0m\u001b[mINFO       \u001b[0m\u001b[33m<9120.00> \u001b[0m\u001b[36mScanner-1: \u001b[0m\u001b[maction_nadir_scan tasked for 180.0 seconds\u001b[0m\n"
     ]
    },
    {
     "name": "stderr",
     "output_type": "stream",
     "text": [
      "\u001b[90;3m2024-09-12 15:06:46,319 \u001b[0m\u001b[36msats.satellite.Scanner-1       \u001b[0m\u001b[mINFO       \u001b[0m\u001b[33m<9120.00> \u001b[0m\u001b[36mScanner-1: \u001b[0m\u001b[msetting timed terminal event at 9300.0\u001b[0m\n"
     ]
    },
    {
     "name": "stderr",
     "output_type": "stream",
     "text": [
      "\u001b[90;3m2024-09-12 15:06:46,331 \u001b[0m\u001b[36msats.satellite.Scanner-1       \u001b[0m\u001b[mINFO       \u001b[0m\u001b[33m<9300.00> \u001b[0m\u001b[36mScanner-1: \u001b[0m\u001b[mtimed termination at 9300.0 for action_nadir_scan\u001b[0m\n"
     ]
    },
    {
     "name": "stderr",
     "output_type": "stream",
     "text": [
      "\u001b[90;3m2024-09-12 15:06:46,331 \u001b[0m\u001b[mdata.base                      \u001b[0m\u001b[mINFO       \u001b[0m\u001b[33m<9300.00> \u001b[0m\u001b[mData reward: {'Scanner-1': 0.00487719298245614}\u001b[0m\n"
     ]
    },
    {
     "name": "stderr",
     "output_type": "stream",
     "text": [
      "\u001b[90;3m2024-09-12 15:06:46,331 \u001b[0m\u001b[36msats.satellite.Scanner-1       \u001b[0m\u001b[mINFO       \u001b[0m\u001b[33m<9300.00> \u001b[0m\u001b[36mScanner-1: \u001b[0m\u001b[mSatellite Scanner-1 requires retasking\u001b[0m\n"
     ]
    },
    {
     "name": "stderr",
     "output_type": "stream",
     "text": [
      "\u001b[90;3m2024-09-12 15:06:46,332 \u001b[0m\u001b[mgym                            \u001b[0m\u001b[mINFO       \u001b[0m\u001b[33m<9300.00> \u001b[0m\u001b[mStep reward: 0.00487719298245614\u001b[0m\n"
     ]
    },
    {
     "name": "stderr",
     "output_type": "stream",
     "text": [
      "\u001b[90;3m2024-09-12 15:06:46,333 \u001b[0m\u001b[mgym                            \u001b[0m\u001b[mINFO       \u001b[0m\u001b[33m<9300.00> \u001b[0m\u001b[93;1m=== STARTING STEP ===\u001b[0m\n"
     ]
    },
    {
     "name": "stderr",
     "output_type": "stream",
     "text": [
      "\u001b[90;3m2024-09-12 15:06:46,333 \u001b[0m\u001b[36msats.satellite.Scanner-1       \u001b[0m\u001b[mINFO       \u001b[0m\u001b[33m<9300.00> \u001b[0m\u001b[36mScanner-1: \u001b[0m\u001b[maction_desat tasked for 60.0 seconds\u001b[0m\n"
     ]
    },
    {
     "name": "stderr",
     "output_type": "stream",
     "text": [
      "\u001b[90;3m2024-09-12 15:06:46,333 \u001b[0m\u001b[36msats.satellite.Scanner-1       \u001b[0m\u001b[mINFO       \u001b[0m\u001b[33m<9300.00> \u001b[0m\u001b[36mScanner-1: \u001b[0m\u001b[msetting timed terminal event at 9360.0\u001b[0m\n"
     ]
    },
    {
     "name": "stderr",
     "output_type": "stream",
     "text": [
      "\u001b[90;3m2024-09-12 15:06:46,338 \u001b[0m\u001b[36msats.satellite.Scanner-1       \u001b[0m\u001b[mINFO       \u001b[0m\u001b[33m<9360.00> \u001b[0m\u001b[36mScanner-1: \u001b[0m\u001b[mtimed termination at 9360.0 for action_desat\u001b[0m\n"
     ]
    },
    {
     "name": "stderr",
     "output_type": "stream",
     "text": [
      "\u001b[90;3m2024-09-12 15:06:46,338 \u001b[0m\u001b[mdata.base                      \u001b[0m\u001b[mINFO       \u001b[0m\u001b[33m<9360.00> \u001b[0m\u001b[mData reward: {'Scanner-1': 0.0}\u001b[0m\n"
     ]
    },
    {
     "name": "stderr",
     "output_type": "stream",
     "text": [
      "\u001b[90;3m2024-09-12 15:06:46,339 \u001b[0m\u001b[36msats.satellite.Scanner-1       \u001b[0m\u001b[mINFO       \u001b[0m\u001b[33m<9360.00> \u001b[0m\u001b[36mScanner-1: \u001b[0m\u001b[mSatellite Scanner-1 requires retasking\u001b[0m\n"
     ]
    },
    {
     "name": "stderr",
     "output_type": "stream",
     "text": [
      "\u001b[90;3m2024-09-12 15:06:46,340 \u001b[0m\u001b[mgym                            \u001b[0m\u001b[mINFO       \u001b[0m\u001b[33m<9360.00> \u001b[0m\u001b[mStep reward: 0.0\u001b[0m\n"
     ]
    },
    {
     "name": "stderr",
     "output_type": "stream",
     "text": [
      "\u001b[90;3m2024-09-12 15:06:46,340 \u001b[0m\u001b[mgym                            \u001b[0m\u001b[mINFO       \u001b[0m\u001b[33m<9360.00> \u001b[0m\u001b[93;1m=== STARTING STEP ===\u001b[0m\n"
     ]
    },
    {
     "name": "stderr",
     "output_type": "stream",
     "text": [
      "\u001b[90;3m2024-09-12 15:06:46,341 \u001b[0m\u001b[36msats.satellite.Scanner-1       \u001b[0m\u001b[mINFO       \u001b[0m\u001b[33m<9360.00> \u001b[0m\u001b[36mScanner-1: \u001b[0m\u001b[maction_desat tasked for 60.0 seconds\u001b[0m\n"
     ]
    },
    {
     "name": "stderr",
     "output_type": "stream",
     "text": [
      "\u001b[90;3m2024-09-12 15:06:46,341 \u001b[0m\u001b[36msats.satellite.Scanner-1       \u001b[0m\u001b[mINFO       \u001b[0m\u001b[33m<9360.00> \u001b[0m\u001b[36mScanner-1: \u001b[0m\u001b[msetting timed terminal event at 9420.0\u001b[0m\n"
     ]
    },
    {
     "name": "stderr",
     "output_type": "stream",
     "text": [
      "\u001b[90;3m2024-09-12 15:06:46,346 \u001b[0m\u001b[36msats.satellite.Scanner-1       \u001b[0m\u001b[mINFO       \u001b[0m\u001b[33m<9420.00> \u001b[0m\u001b[36mScanner-1: \u001b[0m\u001b[mtimed termination at 9420.0 for action_desat\u001b[0m\n"
     ]
    },
    {
     "name": "stderr",
     "output_type": "stream",
     "text": [
      "\u001b[90;3m2024-09-12 15:06:46,346 \u001b[0m\u001b[mdata.base                      \u001b[0m\u001b[mINFO       \u001b[0m\u001b[33m<9420.00> \u001b[0m\u001b[mData reward: {'Scanner-1': 0.0}\u001b[0m\n"
     ]
    },
    {
     "name": "stderr",
     "output_type": "stream",
     "text": [
      "\u001b[90;3m2024-09-12 15:06:46,346 \u001b[0m\u001b[36msats.satellite.Scanner-1       \u001b[0m\u001b[mINFO       \u001b[0m\u001b[33m<9420.00> \u001b[0m\u001b[36mScanner-1: \u001b[0m\u001b[mSatellite Scanner-1 requires retasking\u001b[0m\n"
     ]
    },
    {
     "name": "stderr",
     "output_type": "stream",
     "text": [
      "\u001b[90;3m2024-09-12 15:06:46,347 \u001b[0m\u001b[mgym                            \u001b[0m\u001b[mINFO       \u001b[0m\u001b[33m<9420.00> \u001b[0m\u001b[mStep reward: 0.0\u001b[0m\n"
     ]
    },
    {
     "name": "stderr",
     "output_type": "stream",
     "text": [
      "\u001b[90;3m2024-09-12 15:06:46,347 \u001b[0m\u001b[mgym                            \u001b[0m\u001b[mINFO       \u001b[0m\u001b[33m<9420.00> \u001b[0m\u001b[93;1m=== STARTING STEP ===\u001b[0m\n"
     ]
    },
    {
     "name": "stderr",
     "output_type": "stream",
     "text": [
      "\u001b[90;3m2024-09-12 15:06:46,348 \u001b[0m\u001b[36msats.satellite.Scanner-1       \u001b[0m\u001b[mINFO       \u001b[0m\u001b[33m<9420.00> \u001b[0m\u001b[36mScanner-1: \u001b[0m\u001b[maction_downlink tasked for 60.0 seconds\u001b[0m\n"
     ]
    },
    {
     "name": "stderr",
     "output_type": "stream",
     "text": [
      "\u001b[90;3m2024-09-12 15:06:46,348 \u001b[0m\u001b[36msats.satellite.Scanner-1       \u001b[0m\u001b[mINFO       \u001b[0m\u001b[33m<9420.00> \u001b[0m\u001b[36mScanner-1: \u001b[0m\u001b[msetting timed terminal event at 9480.0\u001b[0m\n"
     ]
    },
    {
     "name": "stderr",
     "output_type": "stream",
     "text": [
      "\u001b[90;3m2024-09-12 15:06:46,353 \u001b[0m\u001b[36msats.satellite.Scanner-1       \u001b[0m\u001b[mINFO       \u001b[0m\u001b[33m<9480.00> \u001b[0m\u001b[36mScanner-1: \u001b[0m\u001b[mtimed termination at 9480.0 for action_downlink\u001b[0m\n"
     ]
    },
    {
     "name": "stderr",
     "output_type": "stream",
     "text": [
      "\u001b[90;3m2024-09-12 15:06:46,353 \u001b[0m\u001b[mdata.base                      \u001b[0m\u001b[mINFO       \u001b[0m\u001b[33m<9480.00> \u001b[0m\u001b[mData reward: {'Scanner-1': 0.0}\u001b[0m\n"
     ]
    },
    {
     "name": "stderr",
     "output_type": "stream",
     "text": [
      "\u001b[90;3m2024-09-12 15:06:46,353 \u001b[0m\u001b[36msats.satellite.Scanner-1       \u001b[0m\u001b[mINFO       \u001b[0m\u001b[33m<9480.00> \u001b[0m\u001b[36mScanner-1: \u001b[0m\u001b[mSatellite Scanner-1 requires retasking\u001b[0m\n"
     ]
    },
    {
     "name": "stderr",
     "output_type": "stream",
     "text": [
      "\u001b[90;3m2024-09-12 15:06:46,354 \u001b[0m\u001b[mgym                            \u001b[0m\u001b[mINFO       \u001b[0m\u001b[33m<9480.00> \u001b[0m\u001b[mStep reward: 0.0\u001b[0m\n"
     ]
    },
    {
     "name": "stderr",
     "output_type": "stream",
     "text": [
      "\u001b[90;3m2024-09-12 15:06:46,354 \u001b[0m\u001b[mgym                            \u001b[0m\u001b[mINFO       \u001b[0m\u001b[33m<9480.00> \u001b[0m\u001b[93;1m=== STARTING STEP ===\u001b[0m\n"
     ]
    },
    {
     "name": "stderr",
     "output_type": "stream",
     "text": [
      "\u001b[90;3m2024-09-12 15:06:46,355 \u001b[0m\u001b[36msats.satellite.Scanner-1       \u001b[0m\u001b[mINFO       \u001b[0m\u001b[33m<9480.00> \u001b[0m\u001b[36mScanner-1: \u001b[0m\u001b[maction_charge tasked for 120.0 seconds\u001b[0m\n"
     ]
    },
    {
     "name": "stderr",
     "output_type": "stream",
     "text": [
      "\u001b[90;3m2024-09-12 15:06:46,355 \u001b[0m\u001b[36msats.satellite.Scanner-1       \u001b[0m\u001b[mINFO       \u001b[0m\u001b[33m<9480.00> \u001b[0m\u001b[36mScanner-1: \u001b[0m\u001b[msetting timed terminal event at 9600.0\u001b[0m\n"
     ]
    },
    {
     "name": "stderr",
     "output_type": "stream",
     "text": [
      "\u001b[90;3m2024-09-12 15:06:46,362 \u001b[0m\u001b[36msats.satellite.Scanner-1       \u001b[0m\u001b[mINFO       \u001b[0m\u001b[33m<9600.00> \u001b[0m\u001b[36mScanner-1: \u001b[0m\u001b[mtimed termination at 9600.0 for action_charge\u001b[0m\n"
     ]
    },
    {
     "name": "stderr",
     "output_type": "stream",
     "text": [
      "\u001b[90;3m2024-09-12 15:06:46,362 \u001b[0m\u001b[mdata.base                      \u001b[0m\u001b[mINFO       \u001b[0m\u001b[33m<9600.00> \u001b[0m\u001b[mData reward: {'Scanner-1': 0.0}\u001b[0m\n"
     ]
    },
    {
     "name": "stderr",
     "output_type": "stream",
     "text": [
      "\u001b[90;3m2024-09-12 15:06:46,362 \u001b[0m\u001b[36msats.satellite.Scanner-1       \u001b[0m\u001b[mINFO       \u001b[0m\u001b[33m<9600.00> \u001b[0m\u001b[36mScanner-1: \u001b[0m\u001b[mSatellite Scanner-1 requires retasking\u001b[0m\n"
     ]
    },
    {
     "name": "stderr",
     "output_type": "stream",
     "text": [
      "\u001b[90;3m2024-09-12 15:06:46,363 \u001b[0m\u001b[mgym                            \u001b[0m\u001b[mINFO       \u001b[0m\u001b[33m<9600.00> \u001b[0m\u001b[mStep reward: 0.0\u001b[0m\n"
     ]
    },
    {
     "name": "stderr",
     "output_type": "stream",
     "text": [
      "\u001b[90;3m2024-09-12 15:06:46,364 \u001b[0m\u001b[mgym                            \u001b[0m\u001b[mINFO       \u001b[0m\u001b[33m<9600.00> \u001b[0m\u001b[93;1m=== STARTING STEP ===\u001b[0m\n"
     ]
    },
    {
     "name": "stderr",
     "output_type": "stream",
     "text": [
      "\u001b[90;3m2024-09-12 15:06:46,364 \u001b[0m\u001b[36msats.satellite.Scanner-1       \u001b[0m\u001b[mINFO       \u001b[0m\u001b[33m<9600.00> \u001b[0m\u001b[36mScanner-1: \u001b[0m\u001b[maction_downlink tasked for 60.0 seconds\u001b[0m\n"
     ]
    },
    {
     "name": "stderr",
     "output_type": "stream",
     "text": [
      "\u001b[90;3m2024-09-12 15:06:46,364 \u001b[0m\u001b[36msats.satellite.Scanner-1       \u001b[0m\u001b[mINFO       \u001b[0m\u001b[33m<9600.00> \u001b[0m\u001b[36mScanner-1: \u001b[0m\u001b[msetting timed terminal event at 9660.0\u001b[0m\n"
     ]
    },
    {
     "name": "stderr",
     "output_type": "stream",
     "text": [
      "\u001b[90;3m2024-09-12 15:06:46,369 \u001b[0m\u001b[36msats.satellite.Scanner-1       \u001b[0m\u001b[mINFO       \u001b[0m\u001b[33m<9660.00> \u001b[0m\u001b[36mScanner-1: \u001b[0m\u001b[mtimed termination at 9660.0 for action_downlink\u001b[0m\n"
     ]
    },
    {
     "name": "stderr",
     "output_type": "stream",
     "text": [
      "\u001b[90;3m2024-09-12 15:06:46,369 \u001b[0m\u001b[mdata.base                      \u001b[0m\u001b[mINFO       \u001b[0m\u001b[33m<9660.00> \u001b[0m\u001b[mData reward: {'Scanner-1': 0.0}\u001b[0m\n"
     ]
    },
    {
     "name": "stderr",
     "output_type": "stream",
     "text": [
      "\u001b[90;3m2024-09-12 15:06:46,370 \u001b[0m\u001b[36msats.satellite.Scanner-1       \u001b[0m\u001b[mINFO       \u001b[0m\u001b[33m<9660.00> \u001b[0m\u001b[36mScanner-1: \u001b[0m\u001b[mSatellite Scanner-1 requires retasking\u001b[0m\n"
     ]
    },
    {
     "name": "stderr",
     "output_type": "stream",
     "text": [
      "\u001b[90;3m2024-09-12 15:06:46,370 \u001b[0m\u001b[mgym                            \u001b[0m\u001b[mINFO       \u001b[0m\u001b[33m<9660.00> \u001b[0m\u001b[mStep reward: 0.0\u001b[0m\n"
     ]
    },
    {
     "name": "stderr",
     "output_type": "stream",
     "text": [
      "\u001b[90;3m2024-09-12 15:06:46,371 \u001b[0m\u001b[mgym                            \u001b[0m\u001b[mINFO       \u001b[0m\u001b[33m<9660.00> \u001b[0m\u001b[93;1m=== STARTING STEP ===\u001b[0m\n"
     ]
    },
    {
     "name": "stderr",
     "output_type": "stream",
     "text": [
      "\u001b[90;3m2024-09-12 15:06:46,371 \u001b[0m\u001b[36msats.satellite.Scanner-1       \u001b[0m\u001b[mINFO       \u001b[0m\u001b[33m<9660.00> \u001b[0m\u001b[36mScanner-1: \u001b[0m\u001b[maction_downlink tasked for 60.0 seconds\u001b[0m\n"
     ]
    },
    {
     "name": "stderr",
     "output_type": "stream",
     "text": [
      "\u001b[90;3m2024-09-12 15:06:46,371 \u001b[0m\u001b[36msats.satellite.Scanner-1       \u001b[0m\u001b[mINFO       \u001b[0m\u001b[33m<9660.00> \u001b[0m\u001b[36mScanner-1: \u001b[0m\u001b[msetting timed terminal event at 9720.0\u001b[0m\n"
     ]
    },
    {
     "name": "stderr",
     "output_type": "stream",
     "text": [
      "\u001b[90;3m2024-09-12 15:06:46,376 \u001b[0m\u001b[36msats.satellite.Scanner-1       \u001b[0m\u001b[mINFO       \u001b[0m\u001b[33m<9720.00> \u001b[0m\u001b[36mScanner-1: \u001b[0m\u001b[mtimed termination at 9720.0 for action_downlink\u001b[0m\n"
     ]
    },
    {
     "name": "stderr",
     "output_type": "stream",
     "text": [
      "\u001b[90;3m2024-09-12 15:06:46,376 \u001b[0m\u001b[mdata.base                      \u001b[0m\u001b[mINFO       \u001b[0m\u001b[33m<9720.00> \u001b[0m\u001b[mData reward: {'Scanner-1': 0.0}\u001b[0m\n"
     ]
    },
    {
     "name": "stderr",
     "output_type": "stream",
     "text": [
      "\u001b[90;3m2024-09-12 15:06:46,376 \u001b[0m\u001b[36msats.satellite.Scanner-1       \u001b[0m\u001b[mINFO       \u001b[0m\u001b[33m<9720.00> \u001b[0m\u001b[36mScanner-1: \u001b[0m\u001b[mSatellite Scanner-1 requires retasking\u001b[0m\n"
     ]
    },
    {
     "name": "stderr",
     "output_type": "stream",
     "text": [
      "\u001b[90;3m2024-09-12 15:06:46,377 \u001b[0m\u001b[mgym                            \u001b[0m\u001b[mINFO       \u001b[0m\u001b[33m<9720.00> \u001b[0m\u001b[mStep reward: 0.0\u001b[0m\n"
     ]
    },
    {
     "name": "stderr",
     "output_type": "stream",
     "text": [
      "\u001b[90;3m2024-09-12 15:06:46,378 \u001b[0m\u001b[mgym                            \u001b[0m\u001b[mINFO       \u001b[0m\u001b[33m<9720.00> \u001b[0m\u001b[93;1m=== STARTING STEP ===\u001b[0m\n"
     ]
    },
    {
     "name": "stderr",
     "output_type": "stream",
     "text": [
      "\u001b[90;3m2024-09-12 15:06:46,378 \u001b[0m\u001b[36msats.satellite.Scanner-1       \u001b[0m\u001b[mINFO       \u001b[0m\u001b[33m<9720.00> \u001b[0m\u001b[36mScanner-1: \u001b[0m\u001b[maction_downlink tasked for 60.0 seconds\u001b[0m\n"
     ]
    },
    {
     "name": "stderr",
     "output_type": "stream",
     "text": [
      "\u001b[90;3m2024-09-12 15:06:46,378 \u001b[0m\u001b[36msats.satellite.Scanner-1       \u001b[0m\u001b[mINFO       \u001b[0m\u001b[33m<9720.00> \u001b[0m\u001b[36mScanner-1: \u001b[0m\u001b[msetting timed terminal event at 9780.0\u001b[0m\n"
     ]
    },
    {
     "name": "stderr",
     "output_type": "stream",
     "text": [
      "\u001b[90;3m2024-09-12 15:06:46,382 \u001b[0m\u001b[36msats.satellite.Scanner-1       \u001b[0m\u001b[mINFO       \u001b[0m\u001b[33m<9780.00> \u001b[0m\u001b[36mScanner-1: \u001b[0m\u001b[mtimed termination at 9780.0 for action_downlink\u001b[0m\n"
     ]
    },
    {
     "name": "stderr",
     "output_type": "stream",
     "text": [
      "\u001b[90;3m2024-09-12 15:06:46,383 \u001b[0m\u001b[mdata.base                      \u001b[0m\u001b[mINFO       \u001b[0m\u001b[33m<9780.00> \u001b[0m\u001b[mData reward: {'Scanner-1': 0.0}\u001b[0m\n"
     ]
    },
    {
     "name": "stderr",
     "output_type": "stream",
     "text": [
      "\u001b[90;3m2024-09-12 15:06:46,383 \u001b[0m\u001b[36msats.satellite.Scanner-1       \u001b[0m\u001b[mINFO       \u001b[0m\u001b[33m<9780.00> \u001b[0m\u001b[36mScanner-1: \u001b[0m\u001b[mSatellite Scanner-1 requires retasking\u001b[0m\n"
     ]
    },
    {
     "name": "stderr",
     "output_type": "stream",
     "text": [
      "\u001b[90;3m2024-09-12 15:06:46,384 \u001b[0m\u001b[mgym                            \u001b[0m\u001b[mINFO       \u001b[0m\u001b[33m<9780.00> \u001b[0m\u001b[mStep reward: 0.0\u001b[0m\n"
     ]
    },
    {
     "name": "stderr",
     "output_type": "stream",
     "text": [
      "\u001b[90;3m2024-09-12 15:06:46,384 \u001b[0m\u001b[mgym                            \u001b[0m\u001b[mINFO       \u001b[0m\u001b[33m<9780.00> \u001b[0m\u001b[93;1m=== STARTING STEP ===\u001b[0m\n"
     ]
    },
    {
     "name": "stderr",
     "output_type": "stream",
     "text": [
      "\u001b[90;3m2024-09-12 15:06:46,384 \u001b[0m\u001b[36msats.satellite.Scanner-1       \u001b[0m\u001b[mINFO       \u001b[0m\u001b[33m<9780.00> \u001b[0m\u001b[36mScanner-1: \u001b[0m\u001b[maction_desat tasked for 60.0 seconds\u001b[0m\n"
     ]
    },
    {
     "name": "stderr",
     "output_type": "stream",
     "text": [
      "\u001b[90;3m2024-09-12 15:06:46,384 \u001b[0m\u001b[36msats.satellite.Scanner-1       \u001b[0m\u001b[mINFO       \u001b[0m\u001b[33m<9780.00> \u001b[0m\u001b[36mScanner-1: \u001b[0m\u001b[msetting timed terminal event at 9840.0\u001b[0m\n"
     ]
    },
    {
     "name": "stderr",
     "output_type": "stream",
     "text": [
      "\u001b[90;3m2024-09-12 15:06:46,389 \u001b[0m\u001b[36msats.satellite.Scanner-1       \u001b[0m\u001b[mINFO       \u001b[0m\u001b[33m<9840.00> \u001b[0m\u001b[36mScanner-1: \u001b[0m\u001b[mtimed termination at 9840.0 for action_desat\u001b[0m\n"
     ]
    },
    {
     "name": "stderr",
     "output_type": "stream",
     "text": [
      "\u001b[90;3m2024-09-12 15:06:46,389 \u001b[0m\u001b[mdata.base                      \u001b[0m\u001b[mINFO       \u001b[0m\u001b[33m<9840.00> \u001b[0m\u001b[mData reward: {'Scanner-1': 0.0}\u001b[0m\n"
     ]
    },
    {
     "name": "stderr",
     "output_type": "stream",
     "text": [
      "\u001b[90;3m2024-09-12 15:06:46,389 \u001b[0m\u001b[36msats.satellite.Scanner-1       \u001b[0m\u001b[mINFO       \u001b[0m\u001b[33m<9840.00> \u001b[0m\u001b[36mScanner-1: \u001b[0m\u001b[mSatellite Scanner-1 requires retasking\u001b[0m\n"
     ]
    },
    {
     "name": "stderr",
     "output_type": "stream",
     "text": [
      "\u001b[90;3m2024-09-12 15:06:46,390 \u001b[0m\u001b[mgym                            \u001b[0m\u001b[mINFO       \u001b[0m\u001b[33m<9840.00> \u001b[0m\u001b[mStep reward: 0.0\u001b[0m\n"
     ]
    },
    {
     "name": "stderr",
     "output_type": "stream",
     "text": [
      "\u001b[90;3m2024-09-12 15:06:46,391 \u001b[0m\u001b[mgym                            \u001b[0m\u001b[mINFO       \u001b[0m\u001b[33m<9840.00> \u001b[0m\u001b[93;1m=== STARTING STEP ===\u001b[0m\n"
     ]
    },
    {
     "name": "stderr",
     "output_type": "stream",
     "text": [
      "\u001b[90;3m2024-09-12 15:06:46,391 \u001b[0m\u001b[36msats.satellite.Scanner-1       \u001b[0m\u001b[mINFO       \u001b[0m\u001b[33m<9840.00> \u001b[0m\u001b[36mScanner-1: \u001b[0m\u001b[maction_downlink tasked for 60.0 seconds\u001b[0m\n"
     ]
    },
    {
     "name": "stderr",
     "output_type": "stream",
     "text": [
      "\u001b[90;3m2024-09-12 15:06:46,391 \u001b[0m\u001b[36msats.satellite.Scanner-1       \u001b[0m\u001b[mINFO       \u001b[0m\u001b[33m<9840.00> \u001b[0m\u001b[36mScanner-1: \u001b[0m\u001b[msetting timed terminal event at 9900.0\u001b[0m\n"
     ]
    },
    {
     "name": "stderr",
     "output_type": "stream",
     "text": [
      "\u001b[90;3m2024-09-12 15:06:46,395 \u001b[0m\u001b[36msats.satellite.Scanner-1       \u001b[0m\u001b[mINFO       \u001b[0m\u001b[33m<9900.00> \u001b[0m\u001b[36mScanner-1: \u001b[0m\u001b[mtimed termination at 9900.0 for action_downlink\u001b[0m\n"
     ]
    },
    {
     "name": "stderr",
     "output_type": "stream",
     "text": [
      "\u001b[90;3m2024-09-12 15:06:46,396 \u001b[0m\u001b[mdata.base                      \u001b[0m\u001b[mINFO       \u001b[0m\u001b[33m<9900.00> \u001b[0m\u001b[mData reward: {'Scanner-1': 0.0}\u001b[0m\n"
     ]
    },
    {
     "name": "stderr",
     "output_type": "stream",
     "text": [
      "\u001b[90;3m2024-09-12 15:06:46,396 \u001b[0m\u001b[36msats.satellite.Scanner-1       \u001b[0m\u001b[mINFO       \u001b[0m\u001b[33m<9900.00> \u001b[0m\u001b[36mScanner-1: \u001b[0m\u001b[mSatellite Scanner-1 requires retasking\u001b[0m\n"
     ]
    },
    {
     "name": "stderr",
     "output_type": "stream",
     "text": [
      "\u001b[90;3m2024-09-12 15:06:46,397 \u001b[0m\u001b[mgym                            \u001b[0m\u001b[mINFO       \u001b[0m\u001b[33m<9900.00> \u001b[0m\u001b[mStep reward: 0.0\u001b[0m\n"
     ]
    },
    {
     "name": "stderr",
     "output_type": "stream",
     "text": [
      "\u001b[90;3m2024-09-12 15:06:46,397 \u001b[0m\u001b[mgym                            \u001b[0m\u001b[mINFO       \u001b[0m\u001b[33m<9900.00> \u001b[0m\u001b[93;1m=== STARTING STEP ===\u001b[0m\n"
     ]
    },
    {
     "name": "stderr",
     "output_type": "stream",
     "text": [
      "\u001b[90;3m2024-09-12 15:06:46,398 \u001b[0m\u001b[36msats.satellite.Scanner-1       \u001b[0m\u001b[mINFO       \u001b[0m\u001b[33m<9900.00> \u001b[0m\u001b[36mScanner-1: \u001b[0m\u001b[maction_downlink tasked for 60.0 seconds\u001b[0m\n"
     ]
    },
    {
     "name": "stderr",
     "output_type": "stream",
     "text": [
      "\u001b[90;3m2024-09-12 15:06:46,398 \u001b[0m\u001b[36msats.satellite.Scanner-1       \u001b[0m\u001b[mINFO       \u001b[0m\u001b[33m<9900.00> \u001b[0m\u001b[36mScanner-1: \u001b[0m\u001b[msetting timed terminal event at 9960.0\u001b[0m\n"
     ]
    },
    {
     "name": "stderr",
     "output_type": "stream",
     "text": [
      "\u001b[90;3m2024-09-12 15:06:46,402 \u001b[0m\u001b[36msats.satellite.Scanner-1       \u001b[0m\u001b[mINFO       \u001b[0m\u001b[33m<9960.00> \u001b[0m\u001b[36mScanner-1: \u001b[0m\u001b[mtimed termination at 9960.0 for action_downlink\u001b[0m\n"
     ]
    },
    {
     "name": "stderr",
     "output_type": "stream",
     "text": [
      "\u001b[90;3m2024-09-12 15:06:46,402 \u001b[0m\u001b[mdata.base                      \u001b[0m\u001b[mINFO       \u001b[0m\u001b[33m<9960.00> \u001b[0m\u001b[mData reward: {'Scanner-1': 0.0}\u001b[0m\n"
     ]
    },
    {
     "name": "stderr",
     "output_type": "stream",
     "text": [
      "\u001b[90;3m2024-09-12 15:06:46,402 \u001b[0m\u001b[36msats.satellite.Scanner-1       \u001b[0m\u001b[mINFO       \u001b[0m\u001b[33m<9960.00> \u001b[0m\u001b[36mScanner-1: \u001b[0m\u001b[mSatellite Scanner-1 requires retasking\u001b[0m\n"
     ]
    },
    {
     "name": "stderr",
     "output_type": "stream",
     "text": [
      "\u001b[90;3m2024-09-12 15:06:46,403 \u001b[0m\u001b[mgym                            \u001b[0m\u001b[mINFO       \u001b[0m\u001b[33m<9960.00> \u001b[0m\u001b[mStep reward: 0.0\u001b[0m\n"
     ]
    },
    {
     "name": "stderr",
     "output_type": "stream",
     "text": [
      "\u001b[90;3m2024-09-12 15:06:46,404 \u001b[0m\u001b[mgym                            \u001b[0m\u001b[mINFO       \u001b[0m\u001b[33m<9960.00> \u001b[0m\u001b[93;1m=== STARTING STEP ===\u001b[0m\n"
     ]
    },
    {
     "name": "stderr",
     "output_type": "stream",
     "text": [
      "\u001b[90;3m2024-09-12 15:06:46,404 \u001b[0m\u001b[36msats.satellite.Scanner-1       \u001b[0m\u001b[mINFO       \u001b[0m\u001b[33m<9960.00> \u001b[0m\u001b[36mScanner-1: \u001b[0m\u001b[maction_downlink tasked for 60.0 seconds\u001b[0m\n"
     ]
    },
    {
     "name": "stderr",
     "output_type": "stream",
     "text": [
      "\u001b[90;3m2024-09-12 15:06:46,404 \u001b[0m\u001b[36msats.satellite.Scanner-1       \u001b[0m\u001b[mINFO       \u001b[0m\u001b[33m<9960.00> \u001b[0m\u001b[36mScanner-1: \u001b[0m\u001b[msetting timed terminal event at 10020.0\u001b[0m\n"
     ]
    },
    {
     "name": "stderr",
     "output_type": "stream",
     "text": [
      "\u001b[90;3m2024-09-12 15:06:46,408 \u001b[0m\u001b[36msats.satellite.Scanner-1       \u001b[0m\u001b[mINFO       \u001b[0m\u001b[33m<10020.00> \u001b[0m\u001b[36mScanner-1: \u001b[0m\u001b[mtimed termination at 10020.0 for action_downlink\u001b[0m\n"
     ]
    },
    {
     "name": "stderr",
     "output_type": "stream",
     "text": [
      "\u001b[90;3m2024-09-12 15:06:46,409 \u001b[0m\u001b[mdata.base                      \u001b[0m\u001b[mINFO       \u001b[0m\u001b[33m<10020.00> \u001b[0m\u001b[mData reward: {'Scanner-1': 0.0}\u001b[0m\n"
     ]
    },
    {
     "name": "stderr",
     "output_type": "stream",
     "text": [
      "\u001b[90;3m2024-09-12 15:06:46,409 \u001b[0m\u001b[36msats.satellite.Scanner-1       \u001b[0m\u001b[mINFO       \u001b[0m\u001b[33m<10020.00> \u001b[0m\u001b[36mScanner-1: \u001b[0m\u001b[mSatellite Scanner-1 requires retasking\u001b[0m\n"
     ]
    },
    {
     "name": "stderr",
     "output_type": "stream",
     "text": [
      "\u001b[90;3m2024-09-12 15:06:46,409 \u001b[0m\u001b[mgym                            \u001b[0m\u001b[mINFO       \u001b[0m\u001b[33m<10020.00> \u001b[0m\u001b[mStep reward: 0.0\u001b[0m\n"
     ]
    },
    {
     "name": "stderr",
     "output_type": "stream",
     "text": [
      "\u001b[90;3m2024-09-12 15:06:46,410 \u001b[0m\u001b[mgym                            \u001b[0m\u001b[mINFO       \u001b[0m\u001b[33m<10020.00> \u001b[0m\u001b[93;1m=== STARTING STEP ===\u001b[0m\n"
     ]
    },
    {
     "name": "stderr",
     "output_type": "stream",
     "text": [
      "\u001b[90;3m2024-09-12 15:06:46,410 \u001b[0m\u001b[36msats.satellite.Scanner-1       \u001b[0m\u001b[mINFO       \u001b[0m\u001b[33m<10020.00> \u001b[0m\u001b[36mScanner-1: \u001b[0m\u001b[maction_nadir_scan tasked for 180.0 seconds\u001b[0m\n"
     ]
    },
    {
     "name": "stderr",
     "output_type": "stream",
     "text": [
      "\u001b[90;3m2024-09-12 15:06:46,410 \u001b[0m\u001b[36msats.satellite.Scanner-1       \u001b[0m\u001b[mINFO       \u001b[0m\u001b[33m<10020.00> \u001b[0m\u001b[36mScanner-1: \u001b[0m\u001b[msetting timed terminal event at 10200.0\u001b[0m\n"
     ]
    },
    {
     "name": "stderr",
     "output_type": "stream",
     "text": [
      "\u001b[90;3m2024-09-12 15:06:46,422 \u001b[0m\u001b[36msats.satellite.Scanner-1       \u001b[0m\u001b[mINFO       \u001b[0m\u001b[33m<10200.00> \u001b[0m\u001b[36mScanner-1: \u001b[0m\u001b[mtimed termination at 10200.0 for action_nadir_scan\u001b[0m\n"
     ]
    },
    {
     "name": "stderr",
     "output_type": "stream",
     "text": [
      "\u001b[90;3m2024-09-12 15:06:46,423 \u001b[0m\u001b[mdata.base                      \u001b[0m\u001b[mINFO       \u001b[0m\u001b[33m<10200.00> \u001b[0m\u001b[mData reward: {'Scanner-1': 0.004912280701754385}\u001b[0m\n"
     ]
    },
    {
     "name": "stderr",
     "output_type": "stream",
     "text": [
      "\u001b[90;3m2024-09-12 15:06:46,423 \u001b[0m\u001b[36msats.satellite.Scanner-1       \u001b[0m\u001b[mINFO       \u001b[0m\u001b[33m<10200.00> \u001b[0m\u001b[36mScanner-1: \u001b[0m\u001b[mSatellite Scanner-1 requires retasking\u001b[0m\n"
     ]
    },
    {
     "name": "stderr",
     "output_type": "stream",
     "text": [
      "\u001b[90;3m2024-09-12 15:06:46,424 \u001b[0m\u001b[mgym                            \u001b[0m\u001b[mINFO       \u001b[0m\u001b[33m<10200.00> \u001b[0m\u001b[mStep reward: 0.004912280701754385\u001b[0m\n"
     ]
    },
    {
     "name": "stderr",
     "output_type": "stream",
     "text": [
      "\u001b[90;3m2024-09-12 15:06:46,424 \u001b[0m\u001b[mgym                            \u001b[0m\u001b[mINFO       \u001b[0m\u001b[33m<10200.00> \u001b[0m\u001b[93;1m=== STARTING STEP ===\u001b[0m\n"
     ]
    },
    {
     "name": "stderr",
     "output_type": "stream",
     "text": [
      "\u001b[90;3m2024-09-12 15:06:46,424 \u001b[0m\u001b[36msats.satellite.Scanner-1       \u001b[0m\u001b[mINFO       \u001b[0m\u001b[33m<10200.00> \u001b[0m\u001b[36mScanner-1: \u001b[0m\u001b[maction_charge tasked for 120.0 seconds\u001b[0m\n"
     ]
    },
    {
     "name": "stderr",
     "output_type": "stream",
     "text": [
      "\u001b[90;3m2024-09-12 15:06:46,425 \u001b[0m\u001b[36msats.satellite.Scanner-1       \u001b[0m\u001b[mINFO       \u001b[0m\u001b[33m<10200.00> \u001b[0m\u001b[36mScanner-1: \u001b[0m\u001b[msetting timed terminal event at 10320.0\u001b[0m\n"
     ]
    },
    {
     "name": "stderr",
     "output_type": "stream",
     "text": [
      "\u001b[90;3m2024-09-12 15:06:46,432 \u001b[0m\u001b[36msats.satellite.Scanner-1       \u001b[0m\u001b[mINFO       \u001b[0m\u001b[33m<10320.00> \u001b[0m\u001b[36mScanner-1: \u001b[0m\u001b[mtimed termination at 10320.0 for action_charge\u001b[0m\n"
     ]
    },
    {
     "name": "stderr",
     "output_type": "stream",
     "text": [
      "\u001b[90;3m2024-09-12 15:06:46,433 \u001b[0m\u001b[mdata.base                      \u001b[0m\u001b[mINFO       \u001b[0m\u001b[33m<10320.00> \u001b[0m\u001b[mData reward: {'Scanner-1': 0.0}\u001b[0m\n"
     ]
    },
    {
     "name": "stderr",
     "output_type": "stream",
     "text": [
      "\u001b[90;3m2024-09-12 15:06:46,433 \u001b[0m\u001b[36msats.satellite.Scanner-1       \u001b[0m\u001b[mINFO       \u001b[0m\u001b[33m<10320.00> \u001b[0m\u001b[36mScanner-1: \u001b[0m\u001b[mSatellite Scanner-1 requires retasking\u001b[0m\n"
     ]
    },
    {
     "name": "stderr",
     "output_type": "stream",
     "text": [
      "\u001b[90;3m2024-09-12 15:06:46,434 \u001b[0m\u001b[mgym                            \u001b[0m\u001b[mINFO       \u001b[0m\u001b[33m<10320.00> \u001b[0m\u001b[mStep reward: 0.0\u001b[0m\n"
     ]
    },
    {
     "name": "stderr",
     "output_type": "stream",
     "text": [
      "\u001b[90;3m2024-09-12 15:06:46,434 \u001b[0m\u001b[mgym                            \u001b[0m\u001b[mINFO       \u001b[0m\u001b[33m<10320.00> \u001b[0m\u001b[93;1m=== STARTING STEP ===\u001b[0m\n"
     ]
    },
    {
     "name": "stderr",
     "output_type": "stream",
     "text": [
      "\u001b[90;3m2024-09-12 15:06:46,435 \u001b[0m\u001b[36msats.satellite.Scanner-1       \u001b[0m\u001b[mINFO       \u001b[0m\u001b[33m<10320.00> \u001b[0m\u001b[36mScanner-1: \u001b[0m\u001b[maction_downlink tasked for 60.0 seconds\u001b[0m\n"
     ]
    },
    {
     "name": "stderr",
     "output_type": "stream",
     "text": [
      "\u001b[90;3m2024-09-12 15:06:46,435 \u001b[0m\u001b[36msats.satellite.Scanner-1       \u001b[0m\u001b[mINFO       \u001b[0m\u001b[33m<10320.00> \u001b[0m\u001b[36mScanner-1: \u001b[0m\u001b[msetting timed terminal event at 10380.0\u001b[0m\n"
     ]
    },
    {
     "name": "stderr",
     "output_type": "stream",
     "text": [
      "\u001b[90;3m2024-09-12 15:06:46,439 \u001b[0m\u001b[36msats.satellite.Scanner-1       \u001b[0m\u001b[mINFO       \u001b[0m\u001b[33m<10380.00> \u001b[0m\u001b[36mScanner-1: \u001b[0m\u001b[mtimed termination at 10380.0 for action_downlink\u001b[0m\n"
     ]
    },
    {
     "name": "stderr",
     "output_type": "stream",
     "text": [
      "\u001b[90;3m2024-09-12 15:06:46,440 \u001b[0m\u001b[mdata.base                      \u001b[0m\u001b[mINFO       \u001b[0m\u001b[33m<10380.00> \u001b[0m\u001b[mData reward: {'Scanner-1': 0.0}\u001b[0m\n"
     ]
    },
    {
     "name": "stderr",
     "output_type": "stream",
     "text": [
      "\u001b[90;3m2024-09-12 15:06:46,440 \u001b[0m\u001b[36msats.satellite.Scanner-1       \u001b[0m\u001b[mINFO       \u001b[0m\u001b[33m<10380.00> \u001b[0m\u001b[36mScanner-1: \u001b[0m\u001b[mSatellite Scanner-1 requires retasking\u001b[0m\n"
     ]
    },
    {
     "name": "stderr",
     "output_type": "stream",
     "text": [
      "\u001b[90;3m2024-09-12 15:06:46,441 \u001b[0m\u001b[mgym                            \u001b[0m\u001b[mINFO       \u001b[0m\u001b[33m<10380.00> \u001b[0m\u001b[mStep reward: 0.0\u001b[0m\n"
     ]
    },
    {
     "name": "stderr",
     "output_type": "stream",
     "text": [
      "\u001b[90;3m2024-09-12 15:06:46,441 \u001b[0m\u001b[mgym                            \u001b[0m\u001b[mINFO       \u001b[0m\u001b[33m<10380.00> \u001b[0m\u001b[93;1m=== STARTING STEP ===\u001b[0m\n"
     ]
    },
    {
     "name": "stderr",
     "output_type": "stream",
     "text": [
      "\u001b[90;3m2024-09-12 15:06:46,441 \u001b[0m\u001b[36msats.satellite.Scanner-1       \u001b[0m\u001b[mINFO       \u001b[0m\u001b[33m<10380.00> \u001b[0m\u001b[36mScanner-1: \u001b[0m\u001b[maction_downlink tasked for 60.0 seconds\u001b[0m\n"
     ]
    },
    {
     "name": "stderr",
     "output_type": "stream",
     "text": [
      "\u001b[90;3m2024-09-12 15:06:46,442 \u001b[0m\u001b[36msats.satellite.Scanner-1       \u001b[0m\u001b[mINFO       \u001b[0m\u001b[33m<10380.00> \u001b[0m\u001b[36mScanner-1: \u001b[0m\u001b[msetting timed terminal event at 10440.0\u001b[0m\n"
     ]
    },
    {
     "name": "stderr",
     "output_type": "stream",
     "text": [
      "\u001b[90;3m2024-09-12 15:06:46,446 \u001b[0m\u001b[36msats.satellite.Scanner-1       \u001b[0m\u001b[mINFO       \u001b[0m\u001b[33m<10440.00> \u001b[0m\u001b[36mScanner-1: \u001b[0m\u001b[mtimed termination at 10440.0 for action_downlink\u001b[0m\n"
     ]
    },
    {
     "name": "stderr",
     "output_type": "stream",
     "text": [
      "\u001b[90;3m2024-09-12 15:06:46,446 \u001b[0m\u001b[mdata.base                      \u001b[0m\u001b[mINFO       \u001b[0m\u001b[33m<10440.00> \u001b[0m\u001b[mData reward: {'Scanner-1': 0.0}\u001b[0m\n"
     ]
    },
    {
     "name": "stderr",
     "output_type": "stream",
     "text": [
      "\u001b[90;3m2024-09-12 15:06:46,446 \u001b[0m\u001b[36msats.satellite.Scanner-1       \u001b[0m\u001b[mINFO       \u001b[0m\u001b[33m<10440.00> \u001b[0m\u001b[36mScanner-1: \u001b[0m\u001b[mSatellite Scanner-1 requires retasking\u001b[0m\n"
     ]
    },
    {
     "name": "stderr",
     "output_type": "stream",
     "text": [
      "\u001b[90;3m2024-09-12 15:06:46,447 \u001b[0m\u001b[mgym                            \u001b[0m\u001b[mINFO       \u001b[0m\u001b[33m<10440.00> \u001b[0m\u001b[mStep reward: 0.0\u001b[0m\n"
     ]
    },
    {
     "name": "stderr",
     "output_type": "stream",
     "text": [
      "\u001b[90;3m2024-09-12 15:06:46,447 \u001b[0m\u001b[mgym                            \u001b[0m\u001b[mINFO       \u001b[0m\u001b[33m<10440.00> \u001b[0m\u001b[93;1m=== STARTING STEP ===\u001b[0m\n"
     ]
    },
    {
     "name": "stderr",
     "output_type": "stream",
     "text": [
      "\u001b[90;3m2024-09-12 15:06:46,448 \u001b[0m\u001b[36msats.satellite.Scanner-1       \u001b[0m\u001b[mINFO       \u001b[0m\u001b[33m<10440.00> \u001b[0m\u001b[36mScanner-1: \u001b[0m\u001b[maction_nadir_scan tasked for 180.0 seconds\u001b[0m\n"
     ]
    },
    {
     "name": "stderr",
     "output_type": "stream",
     "text": [
      "\u001b[90;3m2024-09-12 15:06:46,448 \u001b[0m\u001b[36msats.satellite.Scanner-1       \u001b[0m\u001b[mINFO       \u001b[0m\u001b[33m<10440.00> \u001b[0m\u001b[36mScanner-1: \u001b[0m\u001b[msetting timed terminal event at 10620.0\u001b[0m\n"
     ]
    },
    {
     "name": "stderr",
     "output_type": "stream",
     "text": [
      "\u001b[90;3m2024-09-12 15:06:46,458 \u001b[0m\u001b[36msats.satellite.Scanner-1       \u001b[0m\u001b[mINFO       \u001b[0m\u001b[33m<10620.00> \u001b[0m\u001b[36mScanner-1: \u001b[0m\u001b[mtimed termination at 10620.0 for action_nadir_scan\u001b[0m\n"
     ]
    },
    {
     "name": "stderr",
     "output_type": "stream",
     "text": [
      "\u001b[90;3m2024-09-12 15:06:46,459 \u001b[0m\u001b[mdata.base                      \u001b[0m\u001b[mINFO       \u001b[0m\u001b[33m<10620.00> \u001b[0m\u001b[mData reward: {'Scanner-1': 0.004912280701754385}\u001b[0m\n"
     ]
    },
    {
     "name": "stderr",
     "output_type": "stream",
     "text": [
      "\u001b[90;3m2024-09-12 15:06:46,459 \u001b[0m\u001b[36msats.satellite.Scanner-1       \u001b[0m\u001b[mINFO       \u001b[0m\u001b[33m<10620.00> \u001b[0m\u001b[36mScanner-1: \u001b[0m\u001b[mSatellite Scanner-1 requires retasking\u001b[0m\n"
     ]
    },
    {
     "name": "stderr",
     "output_type": "stream",
     "text": [
      "\u001b[90;3m2024-09-12 15:06:46,459 \u001b[0m\u001b[mgym                            \u001b[0m\u001b[mINFO       \u001b[0m\u001b[33m<10620.00> \u001b[0m\u001b[mStep reward: 0.004912280701754385\u001b[0m\n"
     ]
    },
    {
     "name": "stderr",
     "output_type": "stream",
     "text": [
      "\u001b[90;3m2024-09-12 15:06:46,460 \u001b[0m\u001b[mgym                            \u001b[0m\u001b[mINFO       \u001b[0m\u001b[33m<10620.00> \u001b[0m\u001b[93;1m=== STARTING STEP ===\u001b[0m\n"
     ]
    },
    {
     "name": "stderr",
     "output_type": "stream",
     "text": [
      "\u001b[90;3m2024-09-12 15:06:46,460 \u001b[0m\u001b[36msats.satellite.Scanner-1       \u001b[0m\u001b[mINFO       \u001b[0m\u001b[33m<10620.00> \u001b[0m\u001b[36mScanner-1: \u001b[0m\u001b[maction_desat tasked for 60.0 seconds\u001b[0m\n"
     ]
    },
    {
     "name": "stderr",
     "output_type": "stream",
     "text": [
      "\u001b[90;3m2024-09-12 15:06:46,460 \u001b[0m\u001b[36msats.satellite.Scanner-1       \u001b[0m\u001b[mINFO       \u001b[0m\u001b[33m<10620.00> \u001b[0m\u001b[36mScanner-1: \u001b[0m\u001b[msetting timed terminal event at 10680.0\u001b[0m\n"
     ]
    },
    {
     "name": "stderr",
     "output_type": "stream",
     "text": [
      "\u001b[90;3m2024-09-12 15:06:46,464 \u001b[0m\u001b[36msats.satellite.Scanner-1       \u001b[0m\u001b[mINFO       \u001b[0m\u001b[33m<10680.00> \u001b[0m\u001b[36mScanner-1: \u001b[0m\u001b[mtimed termination at 10680.0 for action_desat\u001b[0m\n"
     ]
    },
    {
     "name": "stderr",
     "output_type": "stream",
     "text": [
      "\u001b[90;3m2024-09-12 15:06:46,464 \u001b[0m\u001b[mdata.base                      \u001b[0m\u001b[mINFO       \u001b[0m\u001b[33m<10680.00> \u001b[0m\u001b[mData reward: {'Scanner-1': 0.0}\u001b[0m\n"
     ]
    },
    {
     "name": "stderr",
     "output_type": "stream",
     "text": [
      "\u001b[90;3m2024-09-12 15:06:46,464 \u001b[0m\u001b[36msats.satellite.Scanner-1       \u001b[0m\u001b[mINFO       \u001b[0m\u001b[33m<10680.00> \u001b[0m\u001b[36mScanner-1: \u001b[0m\u001b[mSatellite Scanner-1 requires retasking\u001b[0m\n"
     ]
    },
    {
     "name": "stderr",
     "output_type": "stream",
     "text": [
      "\u001b[90;3m2024-09-12 15:06:46,465 \u001b[0m\u001b[mgym                            \u001b[0m\u001b[mINFO       \u001b[0m\u001b[33m<10680.00> \u001b[0m\u001b[mStep reward: 0.0\u001b[0m\n"
     ]
    },
    {
     "name": "stderr",
     "output_type": "stream",
     "text": [
      "\u001b[90;3m2024-09-12 15:06:46,465 \u001b[0m\u001b[mgym                            \u001b[0m\u001b[mINFO       \u001b[0m\u001b[33m<10680.00> \u001b[0m\u001b[93;1m=== STARTING STEP ===\u001b[0m\n"
     ]
    },
    {
     "name": "stderr",
     "output_type": "stream",
     "text": [
      "\u001b[90;3m2024-09-12 15:06:46,466 \u001b[0m\u001b[36msats.satellite.Scanner-1       \u001b[0m\u001b[mINFO       \u001b[0m\u001b[33m<10680.00> \u001b[0m\u001b[36mScanner-1: \u001b[0m\u001b[maction_desat tasked for 60.0 seconds\u001b[0m\n"
     ]
    },
    {
     "name": "stderr",
     "output_type": "stream",
     "text": [
      "\u001b[90;3m2024-09-12 15:06:46,466 \u001b[0m\u001b[36msats.satellite.Scanner-1       \u001b[0m\u001b[mINFO       \u001b[0m\u001b[33m<10680.00> \u001b[0m\u001b[36mScanner-1: \u001b[0m\u001b[msetting timed terminal event at 10740.0\u001b[0m\n"
     ]
    },
    {
     "name": "stderr",
     "output_type": "stream",
     "text": [
      "\u001b[90;3m2024-09-12 15:06:46,470 \u001b[0m\u001b[36msats.satellite.Scanner-1       \u001b[0m\u001b[mINFO       \u001b[0m\u001b[33m<10740.00> \u001b[0m\u001b[36mScanner-1: \u001b[0m\u001b[mtimed termination at 10740.0 for action_desat\u001b[0m\n"
     ]
    },
    {
     "name": "stderr",
     "output_type": "stream",
     "text": [
      "\u001b[90;3m2024-09-12 15:06:46,470 \u001b[0m\u001b[mdata.base                      \u001b[0m\u001b[mINFO       \u001b[0m\u001b[33m<10740.00> \u001b[0m\u001b[mData reward: {'Scanner-1': 0.0}\u001b[0m\n"
     ]
    },
    {
     "name": "stderr",
     "output_type": "stream",
     "text": [
      "\u001b[90;3m2024-09-12 15:06:46,470 \u001b[0m\u001b[36msats.satellite.Scanner-1       \u001b[0m\u001b[mINFO       \u001b[0m\u001b[33m<10740.00> \u001b[0m\u001b[36mScanner-1: \u001b[0m\u001b[mSatellite Scanner-1 requires retasking\u001b[0m\n"
     ]
    },
    {
     "name": "stderr",
     "output_type": "stream",
     "text": [
      "\u001b[90;3m2024-09-12 15:06:46,471 \u001b[0m\u001b[mgym                            \u001b[0m\u001b[mINFO       \u001b[0m\u001b[33m<10740.00> \u001b[0m\u001b[mStep reward: 0.0\u001b[0m\n"
     ]
    },
    {
     "name": "stderr",
     "output_type": "stream",
     "text": [
      "\u001b[90;3m2024-09-12 15:06:46,472 \u001b[0m\u001b[mgym                            \u001b[0m\u001b[mINFO       \u001b[0m\u001b[33m<10740.00> \u001b[0m\u001b[93;1m=== STARTING STEP ===\u001b[0m\n"
     ]
    },
    {
     "name": "stderr",
     "output_type": "stream",
     "text": [
      "\u001b[90;3m2024-09-12 15:06:46,472 \u001b[0m\u001b[36msats.satellite.Scanner-1       \u001b[0m\u001b[mINFO       \u001b[0m\u001b[33m<10740.00> \u001b[0m\u001b[36mScanner-1: \u001b[0m\u001b[maction_charge tasked for 120.0 seconds\u001b[0m\n"
     ]
    },
    {
     "name": "stderr",
     "output_type": "stream",
     "text": [
      "\u001b[90;3m2024-09-12 15:06:46,472 \u001b[0m\u001b[36msats.satellite.Scanner-1       \u001b[0m\u001b[mINFO       \u001b[0m\u001b[33m<10740.00> \u001b[0m\u001b[36mScanner-1: \u001b[0m\u001b[msetting timed terminal event at 10860.0\u001b[0m\n"
     ]
    },
    {
     "name": "stderr",
     "output_type": "stream",
     "text": [
      "\u001b[90;3m2024-09-12 15:06:46,480 \u001b[0m\u001b[36msats.satellite.Scanner-1       \u001b[0m\u001b[mINFO       \u001b[0m\u001b[33m<10860.00> \u001b[0m\u001b[36mScanner-1: \u001b[0m\u001b[mtimed termination at 10860.0 for action_charge\u001b[0m\n"
     ]
    },
    {
     "name": "stderr",
     "output_type": "stream",
     "text": [
      "\u001b[90;3m2024-09-12 15:06:46,480 \u001b[0m\u001b[mdata.base                      \u001b[0m\u001b[mINFO       \u001b[0m\u001b[33m<10860.00> \u001b[0m\u001b[mData reward: {'Scanner-1': 0.0}\u001b[0m\n"
     ]
    },
    {
     "name": "stderr",
     "output_type": "stream",
     "text": [
      "\u001b[90;3m2024-09-12 15:06:46,480 \u001b[0m\u001b[36msats.satellite.Scanner-1       \u001b[0m\u001b[mINFO       \u001b[0m\u001b[33m<10860.00> \u001b[0m\u001b[36mScanner-1: \u001b[0m\u001b[mSatellite Scanner-1 requires retasking\u001b[0m\n"
     ]
    },
    {
     "name": "stderr",
     "output_type": "stream",
     "text": [
      "\u001b[90;3m2024-09-12 15:06:46,481 \u001b[0m\u001b[mgym                            \u001b[0m\u001b[mINFO       \u001b[0m\u001b[33m<10860.00> \u001b[0m\u001b[mStep reward: 0.0\u001b[0m\n"
     ]
    },
    {
     "name": "stderr",
     "output_type": "stream",
     "text": [
      "\u001b[90;3m2024-09-12 15:06:46,481 \u001b[0m\u001b[mgym                            \u001b[0m\u001b[mINFO       \u001b[0m\u001b[33m<10860.00> \u001b[0m\u001b[93;1m=== STARTING STEP ===\u001b[0m\n"
     ]
    },
    {
     "name": "stderr",
     "output_type": "stream",
     "text": [
      "\u001b[90;3m2024-09-12 15:06:46,482 \u001b[0m\u001b[36msats.satellite.Scanner-1       \u001b[0m\u001b[mINFO       \u001b[0m\u001b[33m<10860.00> \u001b[0m\u001b[36mScanner-1: \u001b[0m\u001b[maction_nadir_scan tasked for 180.0 seconds\u001b[0m\n"
     ]
    },
    {
     "name": "stderr",
     "output_type": "stream",
     "text": [
      "\u001b[90;3m2024-09-12 15:06:46,482 \u001b[0m\u001b[36msats.satellite.Scanner-1       \u001b[0m\u001b[mINFO       \u001b[0m\u001b[33m<10860.00> \u001b[0m\u001b[36mScanner-1: \u001b[0m\u001b[msetting timed terminal event at 11040.0\u001b[0m\n"
     ]
    },
    {
     "name": "stderr",
     "output_type": "stream",
     "text": [
      "\u001b[90;3m2024-09-12 15:06:46,493 \u001b[0m\u001b[36msats.satellite.Scanner-1       \u001b[0m\u001b[mINFO       \u001b[0m\u001b[33m<11040.00> \u001b[0m\u001b[36mScanner-1: \u001b[0m\u001b[mtimed termination at 11040.0 for action_nadir_scan\u001b[0m\n"
     ]
    },
    {
     "name": "stderr",
     "output_type": "stream",
     "text": [
      "\u001b[90;3m2024-09-12 15:06:46,493 \u001b[0m\u001b[mdata.base                      \u001b[0m\u001b[mINFO       \u001b[0m\u001b[33m<11040.00> \u001b[0m\u001b[mData reward: {'Scanner-1': 0.005087719298245614}\u001b[0m\n"
     ]
    },
    {
     "name": "stderr",
     "output_type": "stream",
     "text": [
      "\u001b[90;3m2024-09-12 15:06:46,494 \u001b[0m\u001b[36msats.satellite.Scanner-1       \u001b[0m\u001b[mINFO       \u001b[0m\u001b[33m<11040.00> \u001b[0m\u001b[36mScanner-1: \u001b[0m\u001b[mSatellite Scanner-1 requires retasking\u001b[0m\n"
     ]
    },
    {
     "name": "stderr",
     "output_type": "stream",
     "text": [
      "\u001b[90;3m2024-09-12 15:06:46,495 \u001b[0m\u001b[mgym                            \u001b[0m\u001b[mINFO       \u001b[0m\u001b[33m<11040.00> \u001b[0m\u001b[mStep reward: 0.005087719298245614\u001b[0m\n"
     ]
    },
    {
     "name": "stderr",
     "output_type": "stream",
     "text": [
      "\u001b[90;3m2024-09-12 15:06:46,495 \u001b[0m\u001b[mgym                            \u001b[0m\u001b[mINFO       \u001b[0m\u001b[33m<11040.00> \u001b[0m\u001b[93;1m=== STARTING STEP ===\u001b[0m\n"
     ]
    },
    {
     "name": "stderr",
     "output_type": "stream",
     "text": [
      "\u001b[90;3m2024-09-12 15:06:46,496 \u001b[0m\u001b[36msats.satellite.Scanner-1       \u001b[0m\u001b[mINFO       \u001b[0m\u001b[33m<11040.00> \u001b[0m\u001b[36mScanner-1: \u001b[0m\u001b[maction_nadir_scan tasked for 180.0 seconds\u001b[0m\n"
     ]
    },
    {
     "name": "stderr",
     "output_type": "stream",
     "text": [
      "\u001b[90;3m2024-09-12 15:06:46,496 \u001b[0m\u001b[36msats.satellite.Scanner-1       \u001b[0m\u001b[mINFO       \u001b[0m\u001b[33m<11040.00> \u001b[0m\u001b[36mScanner-1: \u001b[0m\u001b[msetting timed terminal event at 11220.0\u001b[0m\n"
     ]
    },
    {
     "name": "stderr",
     "output_type": "stream",
     "text": [
      "\u001b[90;3m2024-09-12 15:06:46,507 \u001b[0m\u001b[36msats.satellite.Scanner-1       \u001b[0m\u001b[mINFO       \u001b[0m\u001b[33m<11220.00> \u001b[0m\u001b[36mScanner-1: \u001b[0m\u001b[mtimed termination at 11220.0 for action_nadir_scan\u001b[0m\n"
     ]
    },
    {
     "name": "stderr",
     "output_type": "stream",
     "text": [
      "\u001b[90;3m2024-09-12 15:06:46,507 \u001b[0m\u001b[mdata.base                      \u001b[0m\u001b[mINFO       \u001b[0m\u001b[33m<11220.00> \u001b[0m\u001b[mData reward: {'Scanner-1': 0.00631578947368421}\u001b[0m\n"
     ]
    },
    {
     "name": "stderr",
     "output_type": "stream",
     "text": [
      "\u001b[90;3m2024-09-12 15:06:46,508 \u001b[0m\u001b[36msats.satellite.Scanner-1       \u001b[0m\u001b[mINFO       \u001b[0m\u001b[33m<11220.00> \u001b[0m\u001b[36mScanner-1: \u001b[0m\u001b[mSatellite Scanner-1 requires retasking\u001b[0m\n"
     ]
    },
    {
     "name": "stderr",
     "output_type": "stream",
     "text": [
      "\u001b[90;3m2024-09-12 15:06:46,508 \u001b[0m\u001b[mgym                            \u001b[0m\u001b[mINFO       \u001b[0m\u001b[33m<11220.00> \u001b[0m\u001b[mStep reward: 0.00631578947368421\u001b[0m\n"
     ]
    },
    {
     "name": "stderr",
     "output_type": "stream",
     "text": [
      "\u001b[90;3m2024-09-12 15:06:46,509 \u001b[0m\u001b[mgym                            \u001b[0m\u001b[mINFO       \u001b[0m\u001b[33m<11220.00> \u001b[0m\u001b[93;1m=== STARTING STEP ===\u001b[0m\n"
     ]
    },
    {
     "name": "stderr",
     "output_type": "stream",
     "text": [
      "\u001b[90;3m2024-09-12 15:06:46,509 \u001b[0m\u001b[36msats.satellite.Scanner-1       \u001b[0m\u001b[mINFO       \u001b[0m\u001b[33m<11220.00> \u001b[0m\u001b[36mScanner-1: \u001b[0m\u001b[maction_desat tasked for 60.0 seconds\u001b[0m\n"
     ]
    },
    {
     "name": "stderr",
     "output_type": "stream",
     "text": [
      "\u001b[90;3m2024-09-12 15:06:46,509 \u001b[0m\u001b[36msats.satellite.Scanner-1       \u001b[0m\u001b[mINFO       \u001b[0m\u001b[33m<11220.00> \u001b[0m\u001b[36mScanner-1: \u001b[0m\u001b[msetting timed terminal event at 11280.0\u001b[0m\n"
     ]
    },
    {
     "name": "stderr",
     "output_type": "stream",
     "text": [
      "\u001b[90;3m2024-09-12 15:06:46,513 \u001b[0m\u001b[36msats.satellite.Scanner-1       \u001b[0m\u001b[mINFO       \u001b[0m\u001b[33m<11280.00> \u001b[0m\u001b[36mScanner-1: \u001b[0m\u001b[mtimed termination at 11280.0 for action_desat\u001b[0m\n"
     ]
    },
    {
     "name": "stderr",
     "output_type": "stream",
     "text": [
      "\u001b[90;3m2024-09-12 15:06:46,513 \u001b[0m\u001b[mdata.base                      \u001b[0m\u001b[mINFO       \u001b[0m\u001b[33m<11280.00> \u001b[0m\u001b[mData reward: {'Scanner-1': 0.0}\u001b[0m\n"
     ]
    },
    {
     "name": "stderr",
     "output_type": "stream",
     "text": [
      "\u001b[90;3m2024-09-12 15:06:46,514 \u001b[0m\u001b[36msats.satellite.Scanner-1       \u001b[0m\u001b[mINFO       \u001b[0m\u001b[33m<11280.00> \u001b[0m\u001b[36mScanner-1: \u001b[0m\u001b[mSatellite Scanner-1 requires retasking\u001b[0m\n"
     ]
    },
    {
     "name": "stderr",
     "output_type": "stream",
     "text": [
      "\u001b[90;3m2024-09-12 15:06:46,514 \u001b[0m\u001b[mgym                            \u001b[0m\u001b[mINFO       \u001b[0m\u001b[33m<11280.00> \u001b[0m\u001b[mStep reward: 0.0\u001b[0m\n"
     ]
    },
    {
     "name": "stderr",
     "output_type": "stream",
     "text": [
      "\u001b[90;3m2024-09-12 15:06:46,515 \u001b[0m\u001b[mgym                            \u001b[0m\u001b[mINFO       \u001b[0m\u001b[33m<11280.00> \u001b[0m\u001b[93;1m=== STARTING STEP ===\u001b[0m\n"
     ]
    },
    {
     "name": "stderr",
     "output_type": "stream",
     "text": [
      "\u001b[90;3m2024-09-12 15:06:46,515 \u001b[0m\u001b[36msats.satellite.Scanner-1       \u001b[0m\u001b[mINFO       \u001b[0m\u001b[33m<11280.00> \u001b[0m\u001b[36mScanner-1: \u001b[0m\u001b[maction_desat tasked for 60.0 seconds\u001b[0m\n"
     ]
    },
    {
     "name": "stderr",
     "output_type": "stream",
     "text": [
      "\u001b[90;3m2024-09-12 15:06:46,515 \u001b[0m\u001b[36msats.satellite.Scanner-1       \u001b[0m\u001b[mINFO       \u001b[0m\u001b[33m<11280.00> \u001b[0m\u001b[36mScanner-1: \u001b[0m\u001b[msetting timed terminal event at 11340.0\u001b[0m\n"
     ]
    },
    {
     "name": "stderr",
     "output_type": "stream",
     "text": [
      "\u001b[90;3m2024-09-12 15:06:46,519 \u001b[0m\u001b[36msats.satellite.Scanner-1       \u001b[0m\u001b[mINFO       \u001b[0m\u001b[33m<11340.00> \u001b[0m\u001b[36mScanner-1: \u001b[0m\u001b[mtimed termination at 11340.0 for action_desat\u001b[0m\n"
     ]
    },
    {
     "name": "stderr",
     "output_type": "stream",
     "text": [
      "\u001b[90;3m2024-09-12 15:06:46,520 \u001b[0m\u001b[mdata.base                      \u001b[0m\u001b[mINFO       \u001b[0m\u001b[33m<11340.00> \u001b[0m\u001b[mData reward: {'Scanner-1': 0.0}\u001b[0m\n"
     ]
    },
    {
     "name": "stderr",
     "output_type": "stream",
     "text": [
      "\u001b[90;3m2024-09-12 15:06:46,520 \u001b[0m\u001b[36msats.satellite.Scanner-1       \u001b[0m\u001b[mINFO       \u001b[0m\u001b[33m<11340.00> \u001b[0m\u001b[36mScanner-1: \u001b[0m\u001b[mSatellite Scanner-1 requires retasking\u001b[0m\n"
     ]
    },
    {
     "name": "stderr",
     "output_type": "stream",
     "text": [
      "\u001b[90;3m2024-09-12 15:06:46,521 \u001b[0m\u001b[mgym                            \u001b[0m\u001b[mINFO       \u001b[0m\u001b[33m<11340.00> \u001b[0m\u001b[mStep reward: 0.0\u001b[0m\n"
     ]
    },
    {
     "name": "stderr",
     "output_type": "stream",
     "text": [
      "\u001b[90;3m2024-09-12 15:06:46,521 \u001b[0m\u001b[mgym                            \u001b[0m\u001b[mINFO       \u001b[0m\u001b[33m<11340.00> \u001b[0m\u001b[93;1m=== STARTING STEP ===\u001b[0m\n"
     ]
    },
    {
     "name": "stderr",
     "output_type": "stream",
     "text": [
      "\u001b[90;3m2024-09-12 15:06:46,521 \u001b[0m\u001b[36msats.satellite.Scanner-1       \u001b[0m\u001b[mINFO       \u001b[0m\u001b[33m<11340.00> \u001b[0m\u001b[36mScanner-1: \u001b[0m\u001b[maction_downlink tasked for 60.0 seconds\u001b[0m\n"
     ]
    },
    {
     "name": "stderr",
     "output_type": "stream",
     "text": [
      "\u001b[90;3m2024-09-12 15:06:46,522 \u001b[0m\u001b[36msats.satellite.Scanner-1       \u001b[0m\u001b[mINFO       \u001b[0m\u001b[33m<11340.00> \u001b[0m\u001b[36mScanner-1: \u001b[0m\u001b[msetting timed terminal event at 11400.0\u001b[0m\n"
     ]
    },
    {
     "name": "stderr",
     "output_type": "stream",
     "text": [
      "\u001b[90;3m2024-09-12 15:06:46,526 \u001b[0m\u001b[36msats.satellite.Scanner-1       \u001b[0m\u001b[mINFO       \u001b[0m\u001b[33m<11400.00> \u001b[0m\u001b[36mScanner-1: \u001b[0m\u001b[mtimed termination at 11400.0 for action_downlink\u001b[0m\n"
     ]
    },
    {
     "name": "stderr",
     "output_type": "stream",
     "text": [
      "\u001b[90;3m2024-09-12 15:06:46,526 \u001b[0m\u001b[mdata.base                      \u001b[0m\u001b[mINFO       \u001b[0m\u001b[33m<11400.00> \u001b[0m\u001b[mData reward: {'Scanner-1': 0.0}\u001b[0m\n"
     ]
    },
    {
     "name": "stderr",
     "output_type": "stream",
     "text": [
      "\u001b[90;3m2024-09-12 15:06:46,526 \u001b[0m\u001b[36msats.satellite.Scanner-1       \u001b[0m\u001b[mINFO       \u001b[0m\u001b[33m<11400.00> \u001b[0m\u001b[36mScanner-1: \u001b[0m\u001b[mSatellite Scanner-1 requires retasking\u001b[0m\n"
     ]
    },
    {
     "name": "stderr",
     "output_type": "stream",
     "text": [
      "\u001b[90;3m2024-09-12 15:06:46,527 \u001b[0m\u001b[mgym                            \u001b[0m\u001b[mINFO       \u001b[0m\u001b[33m<11400.00> \u001b[0m\u001b[mStep reward: 0.0\u001b[0m\n"
     ]
    },
    {
     "name": "stderr",
     "output_type": "stream",
     "text": [
      "\u001b[90;3m2024-09-12 15:06:46,527 \u001b[0m\u001b[mgym                            \u001b[0m\u001b[mINFO       \u001b[0m\u001b[33m<11400.00> \u001b[0m\u001b[93;1m=== STARTING STEP ===\u001b[0m\n"
     ]
    },
    {
     "name": "stderr",
     "output_type": "stream",
     "text": [
      "\u001b[90;3m2024-09-12 15:06:46,527 \u001b[0m\u001b[36msats.satellite.Scanner-1       \u001b[0m\u001b[mINFO       \u001b[0m\u001b[33m<11400.00> \u001b[0m\u001b[36mScanner-1: \u001b[0m\u001b[maction_downlink tasked for 60.0 seconds\u001b[0m\n"
     ]
    },
    {
     "name": "stderr",
     "output_type": "stream",
     "text": [
      "\u001b[90;3m2024-09-12 15:06:46,528 \u001b[0m\u001b[36msats.satellite.Scanner-1       \u001b[0m\u001b[mINFO       \u001b[0m\u001b[33m<11400.00> \u001b[0m\u001b[36mScanner-1: \u001b[0m\u001b[msetting timed terminal event at 11460.0\u001b[0m\n"
     ]
    },
    {
     "name": "stderr",
     "output_type": "stream",
     "text": [
      "\u001b[90;3m2024-09-12 15:06:46,532 \u001b[0m\u001b[36msats.satellite.Scanner-1       \u001b[0m\u001b[mINFO       \u001b[0m\u001b[33m<11460.00> \u001b[0m\u001b[36mScanner-1: \u001b[0m\u001b[mtimed termination at 11460.0 for action_downlink\u001b[0m\n"
     ]
    },
    {
     "name": "stderr",
     "output_type": "stream",
     "text": [
      "\u001b[90;3m2024-09-12 15:06:46,532 \u001b[0m\u001b[mdata.base                      \u001b[0m\u001b[mINFO       \u001b[0m\u001b[33m<11460.00> \u001b[0m\u001b[mData reward: {'Scanner-1': 0.0}\u001b[0m\n"
     ]
    },
    {
     "name": "stderr",
     "output_type": "stream",
     "text": [
      "\u001b[90;3m2024-09-12 15:06:46,532 \u001b[0m\u001b[36msats.satellite.Scanner-1       \u001b[0m\u001b[mINFO       \u001b[0m\u001b[33m<11460.00> \u001b[0m\u001b[36mScanner-1: \u001b[0m\u001b[mSatellite Scanner-1 requires retasking\u001b[0m\n"
     ]
    },
    {
     "name": "stderr",
     "output_type": "stream",
     "text": [
      "\u001b[90;3m2024-09-12 15:06:46,533 \u001b[0m\u001b[mgym                            \u001b[0m\u001b[mINFO       \u001b[0m\u001b[33m<11460.00> \u001b[0m\u001b[mStep reward: 0.0\u001b[0m\n"
     ]
    },
    {
     "name": "stderr",
     "output_type": "stream",
     "text": [
      "\u001b[90;3m2024-09-12 15:06:46,533 \u001b[0m\u001b[mgym                            \u001b[0m\u001b[mINFO       \u001b[0m\u001b[33m<11460.00> \u001b[0m\u001b[93;1m=== STARTING STEP ===\u001b[0m\n"
     ]
    },
    {
     "name": "stderr",
     "output_type": "stream",
     "text": [
      "\u001b[90;3m2024-09-12 15:06:46,533 \u001b[0m\u001b[36msats.satellite.Scanner-1       \u001b[0m\u001b[mINFO       \u001b[0m\u001b[33m<11460.00> \u001b[0m\u001b[36mScanner-1: \u001b[0m\u001b[maction_nadir_scan tasked for 180.0 seconds\u001b[0m\n"
     ]
    },
    {
     "name": "stderr",
     "output_type": "stream",
     "text": [
      "\u001b[90;3m2024-09-12 15:06:46,534 \u001b[0m\u001b[36msats.satellite.Scanner-1       \u001b[0m\u001b[mINFO       \u001b[0m\u001b[33m<11460.00> \u001b[0m\u001b[36mScanner-1: \u001b[0m\u001b[msetting timed terminal event at 11640.0\u001b[0m\n"
     ]
    },
    {
     "name": "stderr",
     "output_type": "stream",
     "text": [
      "\u001b[90;3m2024-09-12 15:06:46,544 \u001b[0m\u001b[36msats.satellite.Scanner-1       \u001b[0m\u001b[mINFO       \u001b[0m\u001b[33m<11640.00> \u001b[0m\u001b[36mScanner-1: \u001b[0m\u001b[mtimed termination at 11640.0 for action_nadir_scan\u001b[0m\n"
     ]
    },
    {
     "name": "stderr",
     "output_type": "stream",
     "text": [
      "\u001b[90;3m2024-09-12 15:06:46,544 \u001b[0m\u001b[mdata.base                      \u001b[0m\u001b[mINFO       \u001b[0m\u001b[33m<11640.00> \u001b[0m\u001b[mData reward: {'Scanner-1': 0.004912280701754385}\u001b[0m\n"
     ]
    },
    {
     "name": "stderr",
     "output_type": "stream",
     "text": [
      "\u001b[90;3m2024-09-12 15:06:46,545 \u001b[0m\u001b[36msats.satellite.Scanner-1       \u001b[0m\u001b[mINFO       \u001b[0m\u001b[33m<11640.00> \u001b[0m\u001b[36mScanner-1: \u001b[0m\u001b[mSatellite Scanner-1 requires retasking\u001b[0m\n"
     ]
    },
    {
     "name": "stderr",
     "output_type": "stream",
     "text": [
      "\u001b[90;3m2024-09-12 15:06:46,545 \u001b[0m\u001b[mgym                            \u001b[0m\u001b[mINFO       \u001b[0m\u001b[33m<11640.00> \u001b[0m\u001b[mStep reward: 0.004912280701754385\u001b[0m\n"
     ]
    },
    {
     "name": "stderr",
     "output_type": "stream",
     "text": [
      "\u001b[90;3m2024-09-12 15:06:46,546 \u001b[0m\u001b[mgym                            \u001b[0m\u001b[mINFO       \u001b[0m\u001b[33m<11640.00> \u001b[0m\u001b[93;1m=== STARTING STEP ===\u001b[0m\n"
     ]
    },
    {
     "name": "stderr",
     "output_type": "stream",
     "text": [
      "\u001b[90;3m2024-09-12 15:06:46,546 \u001b[0m\u001b[36msats.satellite.Scanner-1       \u001b[0m\u001b[mINFO       \u001b[0m\u001b[33m<11640.00> \u001b[0m\u001b[36mScanner-1: \u001b[0m\u001b[maction_charge tasked for 120.0 seconds\u001b[0m\n"
     ]
    },
    {
     "name": "stderr",
     "output_type": "stream",
     "text": [
      "\u001b[90;3m2024-09-12 15:06:46,546 \u001b[0m\u001b[36msats.satellite.Scanner-1       \u001b[0m\u001b[mINFO       \u001b[0m\u001b[33m<11640.00> \u001b[0m\u001b[36mScanner-1: \u001b[0m\u001b[msetting timed terminal event at 11760.0\u001b[0m\n"
     ]
    },
    {
     "name": "stderr",
     "output_type": "stream",
     "text": [
      "\u001b[90;3m2024-09-12 15:06:46,553 \u001b[0m\u001b[36msats.satellite.Scanner-1       \u001b[0m\u001b[mINFO       \u001b[0m\u001b[33m<11760.00> \u001b[0m\u001b[36mScanner-1: \u001b[0m\u001b[mtimed termination at 11760.0 for action_charge\u001b[0m\n"
     ]
    },
    {
     "name": "stderr",
     "output_type": "stream",
     "text": [
      "\u001b[90;3m2024-09-12 15:06:46,554 \u001b[0m\u001b[mdata.base                      \u001b[0m\u001b[mINFO       \u001b[0m\u001b[33m<11760.00> \u001b[0m\u001b[mData reward: {'Scanner-1': 0.0}\u001b[0m\n"
     ]
    },
    {
     "name": "stderr",
     "output_type": "stream",
     "text": [
      "\u001b[90;3m2024-09-12 15:06:46,554 \u001b[0m\u001b[36msats.satellite.Scanner-1       \u001b[0m\u001b[mINFO       \u001b[0m\u001b[33m<11760.00> \u001b[0m\u001b[36mScanner-1: \u001b[0m\u001b[mSatellite Scanner-1 requires retasking\u001b[0m\n"
     ]
    },
    {
     "name": "stderr",
     "output_type": "stream",
     "text": [
      "\u001b[90;3m2024-09-12 15:06:46,555 \u001b[0m\u001b[mgym                            \u001b[0m\u001b[mINFO       \u001b[0m\u001b[33m<11760.00> \u001b[0m\u001b[mStep reward: 0.0\u001b[0m\n"
     ]
    },
    {
     "name": "stderr",
     "output_type": "stream",
     "text": [
      "\u001b[90;3m2024-09-12 15:06:46,555 \u001b[0m\u001b[mgym                            \u001b[0m\u001b[mINFO       \u001b[0m\u001b[33m<11760.00> \u001b[0m\u001b[93;1m=== STARTING STEP ===\u001b[0m\n"
     ]
    },
    {
     "name": "stderr",
     "output_type": "stream",
     "text": [
      "\u001b[90;3m2024-09-12 15:06:46,555 \u001b[0m\u001b[36msats.satellite.Scanner-1       \u001b[0m\u001b[mINFO       \u001b[0m\u001b[33m<11760.00> \u001b[0m\u001b[36mScanner-1: \u001b[0m\u001b[maction_downlink tasked for 60.0 seconds\u001b[0m\n"
     ]
    },
    {
     "name": "stderr",
     "output_type": "stream",
     "text": [
      "\u001b[90;3m2024-09-12 15:06:46,555 \u001b[0m\u001b[36msats.satellite.Scanner-1       \u001b[0m\u001b[mINFO       \u001b[0m\u001b[33m<11760.00> \u001b[0m\u001b[36mScanner-1: \u001b[0m\u001b[msetting timed terminal event at 11820.0\u001b[0m\n"
     ]
    },
    {
     "name": "stderr",
     "output_type": "stream",
     "text": [
      "\u001b[90;3m2024-09-12 15:06:46,559 \u001b[0m\u001b[36msats.satellite.Scanner-1       \u001b[0m\u001b[mINFO       \u001b[0m\u001b[33m<11820.00> \u001b[0m\u001b[36mScanner-1: \u001b[0m\u001b[mtimed termination at 11820.0 for action_downlink\u001b[0m\n"
     ]
    },
    {
     "name": "stderr",
     "output_type": "stream",
     "text": [
      "\u001b[90;3m2024-09-12 15:06:46,560 \u001b[0m\u001b[mdata.base                      \u001b[0m\u001b[mINFO       \u001b[0m\u001b[33m<11820.00> \u001b[0m\u001b[mData reward: {'Scanner-1': 0.0}\u001b[0m\n"
     ]
    },
    {
     "name": "stderr",
     "output_type": "stream",
     "text": [
      "\u001b[90;3m2024-09-12 15:06:46,560 \u001b[0m\u001b[36msats.satellite.Scanner-1       \u001b[0m\u001b[mINFO       \u001b[0m\u001b[33m<11820.00> \u001b[0m\u001b[36mScanner-1: \u001b[0m\u001b[mSatellite Scanner-1 requires retasking\u001b[0m\n"
     ]
    },
    {
     "name": "stderr",
     "output_type": "stream",
     "text": [
      "\u001b[90;3m2024-09-12 15:06:46,561 \u001b[0m\u001b[mgym                            \u001b[0m\u001b[mINFO       \u001b[0m\u001b[33m<11820.00> \u001b[0m\u001b[mStep reward: 0.0\u001b[0m\n"
     ]
    },
    {
     "name": "stderr",
     "output_type": "stream",
     "text": [
      "\u001b[90;3m2024-09-12 15:06:46,561 \u001b[0m\u001b[mgym                            \u001b[0m\u001b[mINFO       \u001b[0m\u001b[33m<11820.00> \u001b[0m\u001b[93;1m=== STARTING STEP ===\u001b[0m\n"
     ]
    },
    {
     "name": "stderr",
     "output_type": "stream",
     "text": [
      "\u001b[90;3m2024-09-12 15:06:46,561 \u001b[0m\u001b[36msats.satellite.Scanner-1       \u001b[0m\u001b[mINFO       \u001b[0m\u001b[33m<11820.00> \u001b[0m\u001b[36mScanner-1: \u001b[0m\u001b[maction_desat tasked for 60.0 seconds\u001b[0m\n"
     ]
    },
    {
     "name": "stderr",
     "output_type": "stream",
     "text": [
      "\u001b[90;3m2024-09-12 15:06:46,562 \u001b[0m\u001b[36msats.satellite.Scanner-1       \u001b[0m\u001b[mINFO       \u001b[0m\u001b[33m<11820.00> \u001b[0m\u001b[36mScanner-1: \u001b[0m\u001b[msetting timed terminal event at 11880.0\u001b[0m\n"
     ]
    },
    {
     "name": "stderr",
     "output_type": "stream",
     "text": [
      "\u001b[90;3m2024-09-12 15:06:46,565 \u001b[0m\u001b[36msats.satellite.Scanner-1       \u001b[0m\u001b[mINFO       \u001b[0m\u001b[33m<11880.00> \u001b[0m\u001b[36mScanner-1: \u001b[0m\u001b[mtimed termination at 11880.0 for action_desat\u001b[0m\n"
     ]
    },
    {
     "name": "stderr",
     "output_type": "stream",
     "text": [
      "\u001b[90;3m2024-09-12 15:06:46,566 \u001b[0m\u001b[mdata.base                      \u001b[0m\u001b[mINFO       \u001b[0m\u001b[33m<11880.00> \u001b[0m\u001b[mData reward: {'Scanner-1': 0.0}\u001b[0m\n"
     ]
    },
    {
     "name": "stderr",
     "output_type": "stream",
     "text": [
      "\u001b[90;3m2024-09-12 15:06:46,566 \u001b[0m\u001b[36msats.satellite.Scanner-1       \u001b[0m\u001b[mINFO       \u001b[0m\u001b[33m<11880.00> \u001b[0m\u001b[36mScanner-1: \u001b[0m\u001b[mSatellite Scanner-1 requires retasking\u001b[0m\n"
     ]
    },
    {
     "name": "stderr",
     "output_type": "stream",
     "text": [
      "\u001b[90;3m2024-09-12 15:06:46,567 \u001b[0m\u001b[mgym                            \u001b[0m\u001b[mINFO       \u001b[0m\u001b[33m<11880.00> \u001b[0m\u001b[mStep reward: 0.0\u001b[0m\n"
     ]
    },
    {
     "name": "stderr",
     "output_type": "stream",
     "text": [
      "\u001b[90;3m2024-09-12 15:06:46,567 \u001b[0m\u001b[mgym                            \u001b[0m\u001b[mINFO       \u001b[0m\u001b[33m<11880.00> \u001b[0m\u001b[93;1m=== STARTING STEP ===\u001b[0m\n"
     ]
    },
    {
     "name": "stderr",
     "output_type": "stream",
     "text": [
      "\u001b[90;3m2024-09-12 15:06:46,567 \u001b[0m\u001b[36msats.satellite.Scanner-1       \u001b[0m\u001b[mINFO       \u001b[0m\u001b[33m<11880.00> \u001b[0m\u001b[36mScanner-1: \u001b[0m\u001b[maction_downlink tasked for 60.0 seconds\u001b[0m\n"
     ]
    },
    {
     "name": "stderr",
     "output_type": "stream",
     "text": [
      "\u001b[90;3m2024-09-12 15:06:46,568 \u001b[0m\u001b[36msats.satellite.Scanner-1       \u001b[0m\u001b[mINFO       \u001b[0m\u001b[33m<11880.00> \u001b[0m\u001b[36mScanner-1: \u001b[0m\u001b[msetting timed terminal event at 11940.0\u001b[0m\n"
     ]
    },
    {
     "name": "stderr",
     "output_type": "stream",
     "text": [
      "\u001b[90;3m2024-09-12 15:06:46,572 \u001b[0m\u001b[36msats.satellite.Scanner-1       \u001b[0m\u001b[mINFO       \u001b[0m\u001b[33m<11940.00> \u001b[0m\u001b[36mScanner-1: \u001b[0m\u001b[mtimed termination at 11940.0 for action_downlink\u001b[0m\n"
     ]
    },
    {
     "name": "stderr",
     "output_type": "stream",
     "text": [
      "\u001b[90;3m2024-09-12 15:06:46,572 \u001b[0m\u001b[mdata.base                      \u001b[0m\u001b[mINFO       \u001b[0m\u001b[33m<11940.00> \u001b[0m\u001b[mData reward: {'Scanner-1': 0.0}\u001b[0m\n"
     ]
    },
    {
     "name": "stderr",
     "output_type": "stream",
     "text": [
      "\u001b[90;3m2024-09-12 15:06:46,573 \u001b[0m\u001b[36msats.satellite.Scanner-1       \u001b[0m\u001b[mINFO       \u001b[0m\u001b[33m<11940.00> \u001b[0m\u001b[36mScanner-1: \u001b[0m\u001b[mSatellite Scanner-1 requires retasking\u001b[0m\n"
     ]
    },
    {
     "name": "stderr",
     "output_type": "stream",
     "text": [
      "\u001b[90;3m2024-09-12 15:06:46,573 \u001b[0m\u001b[mgym                            \u001b[0m\u001b[mINFO       \u001b[0m\u001b[33m<11940.00> \u001b[0m\u001b[mStep reward: 0.0\u001b[0m\n"
     ]
    },
    {
     "name": "stderr",
     "output_type": "stream",
     "text": [
      "\u001b[90;3m2024-09-12 15:06:46,574 \u001b[0m\u001b[mgym                            \u001b[0m\u001b[mINFO       \u001b[0m\u001b[33m<11940.00> \u001b[0m\u001b[93;1m=== STARTING STEP ===\u001b[0m\n"
     ]
    },
    {
     "name": "stderr",
     "output_type": "stream",
     "text": [
      "\u001b[90;3m2024-09-12 15:06:46,574 \u001b[0m\u001b[36msats.satellite.Scanner-1       \u001b[0m\u001b[mINFO       \u001b[0m\u001b[33m<11940.00> \u001b[0m\u001b[36mScanner-1: \u001b[0m\u001b[maction_charge tasked for 120.0 seconds\u001b[0m\n"
     ]
    },
    {
     "name": "stderr",
     "output_type": "stream",
     "text": [
      "\u001b[90;3m2024-09-12 15:06:46,574 \u001b[0m\u001b[36msats.satellite.Scanner-1       \u001b[0m\u001b[mINFO       \u001b[0m\u001b[33m<11940.00> \u001b[0m\u001b[36mScanner-1: \u001b[0m\u001b[msetting timed terminal event at 12060.0\u001b[0m\n"
     ]
    },
    {
     "name": "stderr",
     "output_type": "stream",
     "text": [
      "\u001b[90;3m2024-09-12 15:06:46,582 \u001b[0m\u001b[36msats.satellite.Scanner-1       \u001b[0m\u001b[mINFO       \u001b[0m\u001b[33m<12060.00> \u001b[0m\u001b[36mScanner-1: \u001b[0m\u001b[mtimed termination at 12060.0 for action_charge\u001b[0m\n"
     ]
    },
    {
     "name": "stderr",
     "output_type": "stream",
     "text": [
      "\u001b[90;3m2024-09-12 15:06:46,582 \u001b[0m\u001b[mdata.base                      \u001b[0m\u001b[mINFO       \u001b[0m\u001b[33m<12060.00> \u001b[0m\u001b[mData reward: {'Scanner-1': 0.0}\u001b[0m\n"
     ]
    },
    {
     "name": "stderr",
     "output_type": "stream",
     "text": [
      "\u001b[90;3m2024-09-12 15:06:46,582 \u001b[0m\u001b[36msats.satellite.Scanner-1       \u001b[0m\u001b[mINFO       \u001b[0m\u001b[33m<12060.00> \u001b[0m\u001b[36mScanner-1: \u001b[0m\u001b[mSatellite Scanner-1 requires retasking\u001b[0m\n"
     ]
    },
    {
     "name": "stderr",
     "output_type": "stream",
     "text": [
      "\u001b[90;3m2024-09-12 15:06:46,583 \u001b[0m\u001b[mgym                            \u001b[0m\u001b[mINFO       \u001b[0m\u001b[33m<12060.00> \u001b[0m\u001b[mStep reward: 0.0\u001b[0m\n"
     ]
    },
    {
     "name": "stderr",
     "output_type": "stream",
     "text": [
      "\u001b[90;3m2024-09-12 15:06:46,583 \u001b[0m\u001b[mgym                            \u001b[0m\u001b[mINFO       \u001b[0m\u001b[33m<12060.00> \u001b[0m\u001b[93;1m=== STARTING STEP ===\u001b[0m\n"
     ]
    },
    {
     "name": "stderr",
     "output_type": "stream",
     "text": [
      "\u001b[90;3m2024-09-12 15:06:46,583 \u001b[0m\u001b[36msats.satellite.Scanner-1       \u001b[0m\u001b[mINFO       \u001b[0m\u001b[33m<12060.00> \u001b[0m\u001b[36mScanner-1: \u001b[0m\u001b[maction_nadir_scan tasked for 180.0 seconds\u001b[0m\n"
     ]
    },
    {
     "name": "stderr",
     "output_type": "stream",
     "text": [
      "\u001b[90;3m2024-09-12 15:06:46,583 \u001b[0m\u001b[36msats.satellite.Scanner-1       \u001b[0m\u001b[mINFO       \u001b[0m\u001b[33m<12060.00> \u001b[0m\u001b[36mScanner-1: \u001b[0m\u001b[msetting timed terminal event at 12240.0\u001b[0m\n"
     ]
    },
    {
     "name": "stderr",
     "output_type": "stream",
     "text": [
      "\u001b[90;3m2024-09-12 15:06:46,594 \u001b[0m\u001b[36msats.satellite.Scanner-1       \u001b[0m\u001b[mINFO       \u001b[0m\u001b[33m<12240.00> \u001b[0m\u001b[36mScanner-1: \u001b[0m\u001b[mtimed termination at 12240.0 for action_nadir_scan\u001b[0m\n"
     ]
    },
    {
     "name": "stderr",
     "output_type": "stream",
     "text": [
      "\u001b[90;3m2024-09-12 15:06:46,595 \u001b[0m\u001b[mdata.base                      \u001b[0m\u001b[mINFO       \u001b[0m\u001b[33m<12240.00> \u001b[0m\u001b[mData reward: {'Scanner-1': 0.004491228070175438}\u001b[0m\n"
     ]
    },
    {
     "name": "stderr",
     "output_type": "stream",
     "text": [
      "\u001b[90;3m2024-09-12 15:06:46,595 \u001b[0m\u001b[36msats.satellite.Scanner-1       \u001b[0m\u001b[mINFO       \u001b[0m\u001b[33m<12240.00> \u001b[0m\u001b[36mScanner-1: \u001b[0m\u001b[mSatellite Scanner-1 requires retasking\u001b[0m\n"
     ]
    },
    {
     "name": "stderr",
     "output_type": "stream",
     "text": [
      "\u001b[90;3m2024-09-12 15:06:46,596 \u001b[0m\u001b[mgym                            \u001b[0m\u001b[mINFO       \u001b[0m\u001b[33m<12240.00> \u001b[0m\u001b[mStep reward: 0.004491228070175438\u001b[0m\n"
     ]
    },
    {
     "name": "stderr",
     "output_type": "stream",
     "text": [
      "\u001b[90;3m2024-09-12 15:06:46,596 \u001b[0m\u001b[mgym                            \u001b[0m\u001b[mINFO       \u001b[0m\u001b[33m<12240.00> \u001b[0m\u001b[93;1m=== STARTING STEP ===\u001b[0m\n"
     ]
    },
    {
     "name": "stderr",
     "output_type": "stream",
     "text": [
      "\u001b[90;3m2024-09-12 15:06:46,597 \u001b[0m\u001b[36msats.satellite.Scanner-1       \u001b[0m\u001b[mINFO       \u001b[0m\u001b[33m<12240.00> \u001b[0m\u001b[36mScanner-1: \u001b[0m\u001b[maction_desat tasked for 60.0 seconds\u001b[0m\n"
     ]
    },
    {
     "name": "stderr",
     "output_type": "stream",
     "text": [
      "\u001b[90;3m2024-09-12 15:06:46,597 \u001b[0m\u001b[36msats.satellite.Scanner-1       \u001b[0m\u001b[mINFO       \u001b[0m\u001b[33m<12240.00> \u001b[0m\u001b[36mScanner-1: \u001b[0m\u001b[msetting timed terminal event at 12300.0\u001b[0m\n"
     ]
    },
    {
     "name": "stderr",
     "output_type": "stream",
     "text": [
      "\u001b[90;3m2024-09-12 15:06:46,601 \u001b[0m\u001b[36msats.satellite.Scanner-1       \u001b[0m\u001b[mINFO       \u001b[0m\u001b[33m<12300.00> \u001b[0m\u001b[36mScanner-1: \u001b[0m\u001b[mtimed termination at 12300.0 for action_desat\u001b[0m\n"
     ]
    },
    {
     "name": "stderr",
     "output_type": "stream",
     "text": [
      "\u001b[90;3m2024-09-12 15:06:46,601 \u001b[0m\u001b[mdata.base                      \u001b[0m\u001b[mINFO       \u001b[0m\u001b[33m<12300.00> \u001b[0m\u001b[mData reward: {'Scanner-1': 0.0}\u001b[0m\n"
     ]
    },
    {
     "name": "stderr",
     "output_type": "stream",
     "text": [
      "\u001b[90;3m2024-09-12 15:06:46,602 \u001b[0m\u001b[36msats.satellite.Scanner-1       \u001b[0m\u001b[mINFO       \u001b[0m\u001b[33m<12300.00> \u001b[0m\u001b[36mScanner-1: \u001b[0m\u001b[mSatellite Scanner-1 requires retasking\u001b[0m\n"
     ]
    },
    {
     "name": "stderr",
     "output_type": "stream",
     "text": [
      "\u001b[90;3m2024-09-12 15:06:46,602 \u001b[0m\u001b[mgym                            \u001b[0m\u001b[mINFO       \u001b[0m\u001b[33m<12300.00> \u001b[0m\u001b[mStep reward: 0.0\u001b[0m\n"
     ]
    },
    {
     "name": "stderr",
     "output_type": "stream",
     "text": [
      "\u001b[90;3m2024-09-12 15:06:46,603 \u001b[0m\u001b[mgym                            \u001b[0m\u001b[mINFO       \u001b[0m\u001b[33m<12300.00> \u001b[0m\u001b[93;1m=== STARTING STEP ===\u001b[0m\n"
     ]
    },
    {
     "name": "stderr",
     "output_type": "stream",
     "text": [
      "\u001b[90;3m2024-09-12 15:06:46,603 \u001b[0m\u001b[36msats.satellite.Scanner-1       \u001b[0m\u001b[mINFO       \u001b[0m\u001b[33m<12300.00> \u001b[0m\u001b[36mScanner-1: \u001b[0m\u001b[maction_desat tasked for 60.0 seconds\u001b[0m\n"
     ]
    },
    {
     "name": "stderr",
     "output_type": "stream",
     "text": [
      "\u001b[90;3m2024-09-12 15:06:46,603 \u001b[0m\u001b[36msats.satellite.Scanner-1       \u001b[0m\u001b[mINFO       \u001b[0m\u001b[33m<12300.00> \u001b[0m\u001b[36mScanner-1: \u001b[0m\u001b[msetting timed terminal event at 12360.0\u001b[0m\n"
     ]
    },
    {
     "name": "stderr",
     "output_type": "stream",
     "text": [
      "\u001b[90;3m2024-09-12 15:06:46,607 \u001b[0m\u001b[36msats.satellite.Scanner-1       \u001b[0m\u001b[mINFO       \u001b[0m\u001b[33m<12360.00> \u001b[0m\u001b[36mScanner-1: \u001b[0m\u001b[mtimed termination at 12360.0 for action_desat\u001b[0m\n"
     ]
    },
    {
     "name": "stderr",
     "output_type": "stream",
     "text": [
      "\u001b[90;3m2024-09-12 15:06:46,608 \u001b[0m\u001b[mdata.base                      \u001b[0m\u001b[mINFO       \u001b[0m\u001b[33m<12360.00> \u001b[0m\u001b[mData reward: {'Scanner-1': 0.0}\u001b[0m\n"
     ]
    },
    {
     "name": "stderr",
     "output_type": "stream",
     "text": [
      "\u001b[90;3m2024-09-12 15:06:46,608 \u001b[0m\u001b[36msats.satellite.Scanner-1       \u001b[0m\u001b[mINFO       \u001b[0m\u001b[33m<12360.00> \u001b[0m\u001b[36mScanner-1: \u001b[0m\u001b[mSatellite Scanner-1 requires retasking\u001b[0m\n"
     ]
    },
    {
     "name": "stderr",
     "output_type": "stream",
     "text": [
      "\u001b[90;3m2024-09-12 15:06:46,609 \u001b[0m\u001b[mgym                            \u001b[0m\u001b[mINFO       \u001b[0m\u001b[33m<12360.00> \u001b[0m\u001b[mStep reward: 0.0\u001b[0m\n"
     ]
    },
    {
     "name": "stderr",
     "output_type": "stream",
     "text": [
      "\u001b[90;3m2024-09-12 15:06:46,609 \u001b[0m\u001b[mgym                            \u001b[0m\u001b[mINFO       \u001b[0m\u001b[33m<12360.00> \u001b[0m\u001b[93;1m=== STARTING STEP ===\u001b[0m\n"
     ]
    },
    {
     "name": "stderr",
     "output_type": "stream",
     "text": [
      "\u001b[90;3m2024-09-12 15:06:46,609 \u001b[0m\u001b[36msats.satellite.Scanner-1       \u001b[0m\u001b[mINFO       \u001b[0m\u001b[33m<12360.00> \u001b[0m\u001b[36mScanner-1: \u001b[0m\u001b[maction_charge tasked for 120.0 seconds\u001b[0m\n"
     ]
    },
    {
     "name": "stderr",
     "output_type": "stream",
     "text": [
      "\u001b[90;3m2024-09-12 15:06:46,610 \u001b[0m\u001b[36msats.satellite.Scanner-1       \u001b[0m\u001b[mINFO       \u001b[0m\u001b[33m<12360.00> \u001b[0m\u001b[36mScanner-1: \u001b[0m\u001b[msetting timed terminal event at 12480.0\u001b[0m\n"
     ]
    },
    {
     "name": "stderr",
     "output_type": "stream",
     "text": [
      "\u001b[90;3m2024-09-12 15:06:46,617 \u001b[0m\u001b[36msats.satellite.Scanner-1       \u001b[0m\u001b[mINFO       \u001b[0m\u001b[33m<12480.00> \u001b[0m\u001b[36mScanner-1: \u001b[0m\u001b[mtimed termination at 12480.0 for action_charge\u001b[0m\n"
     ]
    },
    {
     "name": "stderr",
     "output_type": "stream",
     "text": [
      "\u001b[90;3m2024-09-12 15:06:46,618 \u001b[0m\u001b[mdata.base                      \u001b[0m\u001b[mINFO       \u001b[0m\u001b[33m<12480.00> \u001b[0m\u001b[mData reward: {'Scanner-1': 0.0}\u001b[0m\n"
     ]
    },
    {
     "name": "stderr",
     "output_type": "stream",
     "text": [
      "\u001b[90;3m2024-09-12 15:06:46,618 \u001b[0m\u001b[36msats.satellite.Scanner-1       \u001b[0m\u001b[mINFO       \u001b[0m\u001b[33m<12480.00> \u001b[0m\u001b[36mScanner-1: \u001b[0m\u001b[mSatellite Scanner-1 requires retasking\u001b[0m\n"
     ]
    },
    {
     "name": "stderr",
     "output_type": "stream",
     "text": [
      "\u001b[90;3m2024-09-12 15:06:46,618 \u001b[0m\u001b[mgym                            \u001b[0m\u001b[mINFO       \u001b[0m\u001b[33m<12480.00> \u001b[0m\u001b[mStep reward: 0.0\u001b[0m\n"
     ]
    },
    {
     "name": "stderr",
     "output_type": "stream",
     "text": [
      "\u001b[90;3m2024-09-12 15:06:46,619 \u001b[0m\u001b[mgym                            \u001b[0m\u001b[mINFO       \u001b[0m\u001b[33m<12480.00> \u001b[0m\u001b[93;1m=== STARTING STEP ===\u001b[0m\n"
     ]
    },
    {
     "name": "stderr",
     "output_type": "stream",
     "text": [
      "\u001b[90;3m2024-09-12 15:06:46,619 \u001b[0m\u001b[36msats.satellite.Scanner-1       \u001b[0m\u001b[mINFO       \u001b[0m\u001b[33m<12480.00> \u001b[0m\u001b[36mScanner-1: \u001b[0m\u001b[maction_downlink tasked for 60.0 seconds\u001b[0m\n"
     ]
    },
    {
     "name": "stderr",
     "output_type": "stream",
     "text": [
      "\u001b[90;3m2024-09-12 15:06:46,619 \u001b[0m\u001b[36msats.satellite.Scanner-1       \u001b[0m\u001b[mINFO       \u001b[0m\u001b[33m<12480.00> \u001b[0m\u001b[36mScanner-1: \u001b[0m\u001b[msetting timed terminal event at 12540.0\u001b[0m\n"
     ]
    },
    {
     "name": "stderr",
     "output_type": "stream",
     "text": [
      "\u001b[90;3m2024-09-12 15:06:46,623 \u001b[0m\u001b[36msats.satellite.Scanner-1       \u001b[0m\u001b[mINFO       \u001b[0m\u001b[33m<12540.00> \u001b[0m\u001b[36mScanner-1: \u001b[0m\u001b[mtimed termination at 12540.0 for action_downlink\u001b[0m\n"
     ]
    },
    {
     "name": "stderr",
     "output_type": "stream",
     "text": [
      "\u001b[90;3m2024-09-12 15:06:46,624 \u001b[0m\u001b[mdata.base                      \u001b[0m\u001b[mINFO       \u001b[0m\u001b[33m<12540.00> \u001b[0m\u001b[mData reward: {'Scanner-1': 0.0}\u001b[0m\n"
     ]
    },
    {
     "name": "stderr",
     "output_type": "stream",
     "text": [
      "\u001b[90;3m2024-09-12 15:06:46,624 \u001b[0m\u001b[36msats.satellite.Scanner-1       \u001b[0m\u001b[mINFO       \u001b[0m\u001b[33m<12540.00> \u001b[0m\u001b[36mScanner-1: \u001b[0m\u001b[mSatellite Scanner-1 requires retasking\u001b[0m\n"
     ]
    },
    {
     "name": "stderr",
     "output_type": "stream",
     "text": [
      "\u001b[90;3m2024-09-12 15:06:46,624 \u001b[0m\u001b[mgym                            \u001b[0m\u001b[mINFO       \u001b[0m\u001b[33m<12540.00> \u001b[0m\u001b[mStep reward: 0.0\u001b[0m\n"
     ]
    },
    {
     "name": "stderr",
     "output_type": "stream",
     "text": [
      "\u001b[90;3m2024-09-12 15:06:46,625 \u001b[0m\u001b[mgym                            \u001b[0m\u001b[mINFO       \u001b[0m\u001b[33m<12540.00> \u001b[0m\u001b[93;1m=== STARTING STEP ===\u001b[0m\n"
     ]
    },
    {
     "name": "stderr",
     "output_type": "stream",
     "text": [
      "\u001b[90;3m2024-09-12 15:06:46,625 \u001b[0m\u001b[36msats.satellite.Scanner-1       \u001b[0m\u001b[mINFO       \u001b[0m\u001b[33m<12540.00> \u001b[0m\u001b[36mScanner-1: \u001b[0m\u001b[maction_downlink tasked for 60.0 seconds\u001b[0m\n"
     ]
    },
    {
     "name": "stderr",
     "output_type": "stream",
     "text": [
      "\u001b[90;3m2024-09-12 15:06:46,625 \u001b[0m\u001b[36msats.satellite.Scanner-1       \u001b[0m\u001b[mINFO       \u001b[0m\u001b[33m<12540.00> \u001b[0m\u001b[36mScanner-1: \u001b[0m\u001b[msetting timed terminal event at 12600.0\u001b[0m\n"
     ]
    },
    {
     "name": "stderr",
     "output_type": "stream",
     "text": [
      "\u001b[90;3m2024-09-12 15:06:46,629 \u001b[0m\u001b[36msats.satellite.Scanner-1       \u001b[0m\u001b[mINFO       \u001b[0m\u001b[33m<12600.00> \u001b[0m\u001b[36mScanner-1: \u001b[0m\u001b[mtimed termination at 12600.0 for action_downlink\u001b[0m\n"
     ]
    },
    {
     "name": "stderr",
     "output_type": "stream",
     "text": [
      "\u001b[90;3m2024-09-12 15:06:46,630 \u001b[0m\u001b[mdata.base                      \u001b[0m\u001b[mINFO       \u001b[0m\u001b[33m<12600.00> \u001b[0m\u001b[mData reward: {'Scanner-1': 0.0}\u001b[0m\n"
     ]
    },
    {
     "name": "stderr",
     "output_type": "stream",
     "text": [
      "\u001b[90;3m2024-09-12 15:06:46,630 \u001b[0m\u001b[36msats.satellite.Scanner-1       \u001b[0m\u001b[mINFO       \u001b[0m\u001b[33m<12600.00> \u001b[0m\u001b[36mScanner-1: \u001b[0m\u001b[mSatellite Scanner-1 requires retasking\u001b[0m\n"
     ]
    },
    {
     "name": "stderr",
     "output_type": "stream",
     "text": [
      "\u001b[90;3m2024-09-12 15:06:46,631 \u001b[0m\u001b[mgym                            \u001b[0m\u001b[mINFO       \u001b[0m\u001b[33m<12600.00> \u001b[0m\u001b[mStep reward: 0.0\u001b[0m\n"
     ]
    },
    {
     "name": "stderr",
     "output_type": "stream",
     "text": [
      "\u001b[90;3m2024-09-12 15:06:46,631 \u001b[0m\u001b[mgym                            \u001b[0m\u001b[mINFO       \u001b[0m\u001b[33m<12600.00> \u001b[0m\u001b[93;1m=== STARTING STEP ===\u001b[0m\n"
     ]
    },
    {
     "name": "stderr",
     "output_type": "stream",
     "text": [
      "\u001b[90;3m2024-09-12 15:06:46,631 \u001b[0m\u001b[36msats.satellite.Scanner-1       \u001b[0m\u001b[mINFO       \u001b[0m\u001b[33m<12600.00> \u001b[0m\u001b[36mScanner-1: \u001b[0m\u001b[maction_desat tasked for 60.0 seconds\u001b[0m\n"
     ]
    },
    {
     "name": "stderr",
     "output_type": "stream",
     "text": [
      "\u001b[90;3m2024-09-12 15:06:46,631 \u001b[0m\u001b[36msats.satellite.Scanner-1       \u001b[0m\u001b[mINFO       \u001b[0m\u001b[33m<12600.00> \u001b[0m\u001b[36mScanner-1: \u001b[0m\u001b[msetting timed terminal event at 12660.0\u001b[0m\n"
     ]
    },
    {
     "name": "stderr",
     "output_type": "stream",
     "text": [
      "\u001b[90;3m2024-09-12 15:06:46,635 \u001b[0m\u001b[36msats.satellite.Scanner-1       \u001b[0m\u001b[mINFO       \u001b[0m\u001b[33m<12660.00> \u001b[0m\u001b[36mScanner-1: \u001b[0m\u001b[mtimed termination at 12660.0 for action_desat\u001b[0m\n"
     ]
    },
    {
     "name": "stderr",
     "output_type": "stream",
     "text": [
      "\u001b[90;3m2024-09-12 15:06:46,635 \u001b[0m\u001b[mdata.base                      \u001b[0m\u001b[mINFO       \u001b[0m\u001b[33m<12660.00> \u001b[0m\u001b[mData reward: {'Scanner-1': 0.0}\u001b[0m\n"
     ]
    },
    {
     "name": "stderr",
     "output_type": "stream",
     "text": [
      "\u001b[90;3m2024-09-12 15:06:46,636 \u001b[0m\u001b[36msats.satellite.Scanner-1       \u001b[0m\u001b[mINFO       \u001b[0m\u001b[33m<12660.00> \u001b[0m\u001b[36mScanner-1: \u001b[0m\u001b[mSatellite Scanner-1 requires retasking\u001b[0m\n"
     ]
    },
    {
     "name": "stderr",
     "output_type": "stream",
     "text": [
      "\u001b[90;3m2024-09-12 15:06:46,636 \u001b[0m\u001b[mgym                            \u001b[0m\u001b[mINFO       \u001b[0m\u001b[33m<12660.00> \u001b[0m\u001b[mStep reward: 0.0\u001b[0m\n"
     ]
    },
    {
     "name": "stderr",
     "output_type": "stream",
     "text": [
      "\u001b[90;3m2024-09-12 15:06:46,637 \u001b[0m\u001b[mgym                            \u001b[0m\u001b[mINFO       \u001b[0m\u001b[33m<12660.00> \u001b[0m\u001b[93;1m=== STARTING STEP ===\u001b[0m\n"
     ]
    },
    {
     "name": "stderr",
     "output_type": "stream",
     "text": [
      "\u001b[90;3m2024-09-12 15:06:46,637 \u001b[0m\u001b[36msats.satellite.Scanner-1       \u001b[0m\u001b[mINFO       \u001b[0m\u001b[33m<12660.00> \u001b[0m\u001b[36mScanner-1: \u001b[0m\u001b[maction_desat tasked for 60.0 seconds\u001b[0m\n"
     ]
    },
    {
     "name": "stderr",
     "output_type": "stream",
     "text": [
      "\u001b[90;3m2024-09-12 15:06:46,637 \u001b[0m\u001b[36msats.satellite.Scanner-1       \u001b[0m\u001b[mINFO       \u001b[0m\u001b[33m<12660.00> \u001b[0m\u001b[36mScanner-1: \u001b[0m\u001b[msetting timed terminal event at 12720.0\u001b[0m\n"
     ]
    },
    {
     "name": "stderr",
     "output_type": "stream",
     "text": [
      "\u001b[90;3m2024-09-12 15:06:46,641 \u001b[0m\u001b[36msats.satellite.Scanner-1       \u001b[0m\u001b[mINFO       \u001b[0m\u001b[33m<12720.00> \u001b[0m\u001b[36mScanner-1: \u001b[0m\u001b[mtimed termination at 12720.0 for action_desat\u001b[0m\n"
     ]
    },
    {
     "name": "stderr",
     "output_type": "stream",
     "text": [
      "\u001b[90;3m2024-09-12 15:06:46,641 \u001b[0m\u001b[mdata.base                      \u001b[0m\u001b[mINFO       \u001b[0m\u001b[33m<12720.00> \u001b[0m\u001b[mData reward: {'Scanner-1': 0.0}\u001b[0m\n"
     ]
    },
    {
     "name": "stderr",
     "output_type": "stream",
     "text": [
      "\u001b[90;3m2024-09-12 15:06:46,642 \u001b[0m\u001b[36msats.satellite.Scanner-1       \u001b[0m\u001b[mINFO       \u001b[0m\u001b[33m<12720.00> \u001b[0m\u001b[36mScanner-1: \u001b[0m\u001b[mSatellite Scanner-1 requires retasking\u001b[0m\n"
     ]
    },
    {
     "name": "stderr",
     "output_type": "stream",
     "text": [
      "\u001b[90;3m2024-09-12 15:06:46,642 \u001b[0m\u001b[mgym                            \u001b[0m\u001b[mINFO       \u001b[0m\u001b[33m<12720.00> \u001b[0m\u001b[mStep reward: 0.0\u001b[0m\n"
     ]
    },
    {
     "name": "stderr",
     "output_type": "stream",
     "text": [
      "\u001b[90;3m2024-09-12 15:06:46,643 \u001b[0m\u001b[mgym                            \u001b[0m\u001b[mINFO       \u001b[0m\u001b[33m<12720.00> \u001b[0m\u001b[93;1m=== STARTING STEP ===\u001b[0m\n"
     ]
    },
    {
     "name": "stderr",
     "output_type": "stream",
     "text": [
      "\u001b[90;3m2024-09-12 15:06:46,643 \u001b[0m\u001b[36msats.satellite.Scanner-1       \u001b[0m\u001b[mINFO       \u001b[0m\u001b[33m<12720.00> \u001b[0m\u001b[36mScanner-1: \u001b[0m\u001b[maction_nadir_scan tasked for 180.0 seconds\u001b[0m\n"
     ]
    },
    {
     "name": "stderr",
     "output_type": "stream",
     "text": [
      "\u001b[90;3m2024-09-12 15:06:46,643 \u001b[0m\u001b[36msats.satellite.Scanner-1       \u001b[0m\u001b[mINFO       \u001b[0m\u001b[33m<12720.00> \u001b[0m\u001b[36mScanner-1: \u001b[0m\u001b[msetting timed terminal event at 12900.0\u001b[0m\n"
     ]
    },
    {
     "name": "stderr",
     "output_type": "stream",
     "text": [
      "\u001b[90;3m2024-09-12 15:06:46,653 \u001b[0m\u001b[36msats.satellite.Scanner-1       \u001b[0m\u001b[mINFO       \u001b[0m\u001b[33m<12900.00> \u001b[0m\u001b[36mScanner-1: \u001b[0m\u001b[mtimed termination at 12900.0 for action_nadir_scan\u001b[0m\n"
     ]
    },
    {
     "name": "stderr",
     "output_type": "stream",
     "text": [
      "\u001b[90;3m2024-09-12 15:06:46,654 \u001b[0m\u001b[mdata.base                      \u001b[0m\u001b[mINFO       \u001b[0m\u001b[33m<12900.00> \u001b[0m\u001b[mData reward: {'Scanner-1': 0.004912280701754385}\u001b[0m\n"
     ]
    },
    {
     "name": "stderr",
     "output_type": "stream",
     "text": [
      "\u001b[90;3m2024-09-12 15:06:46,654 \u001b[0m\u001b[36msats.satellite.Scanner-1       \u001b[0m\u001b[mINFO       \u001b[0m\u001b[33m<12900.00> \u001b[0m\u001b[36mScanner-1: \u001b[0m\u001b[mSatellite Scanner-1 requires retasking\u001b[0m\n"
     ]
    },
    {
     "name": "stderr",
     "output_type": "stream",
     "text": [
      "\u001b[90;3m2024-09-12 15:06:46,655 \u001b[0m\u001b[mgym                            \u001b[0m\u001b[mINFO       \u001b[0m\u001b[33m<12900.00> \u001b[0m\u001b[mStep reward: 0.004912280701754385\u001b[0m\n"
     ]
    },
    {
     "name": "stderr",
     "output_type": "stream",
     "text": [
      "\u001b[90;3m2024-09-12 15:06:46,655 \u001b[0m\u001b[mgym                            \u001b[0m\u001b[mINFO       \u001b[0m\u001b[33m<12900.00> \u001b[0m\u001b[93;1m=== STARTING STEP ===\u001b[0m\n"
     ]
    },
    {
     "name": "stderr",
     "output_type": "stream",
     "text": [
      "\u001b[90;3m2024-09-12 15:06:46,655 \u001b[0m\u001b[36msats.satellite.Scanner-1       \u001b[0m\u001b[mINFO       \u001b[0m\u001b[33m<12900.00> \u001b[0m\u001b[36mScanner-1: \u001b[0m\u001b[maction_charge tasked for 120.0 seconds\u001b[0m\n"
     ]
    },
    {
     "name": "stderr",
     "output_type": "stream",
     "text": [
      "\u001b[90;3m2024-09-12 15:06:46,655 \u001b[0m\u001b[36msats.satellite.Scanner-1       \u001b[0m\u001b[mINFO       \u001b[0m\u001b[33m<12900.00> \u001b[0m\u001b[36mScanner-1: \u001b[0m\u001b[msetting timed terminal event at 13020.0\u001b[0m\n"
     ]
    },
    {
     "name": "stderr",
     "output_type": "stream",
     "text": [
      "\u001b[90;3m2024-09-12 15:06:46,663 \u001b[0m\u001b[36msats.satellite.Scanner-1       \u001b[0m\u001b[mINFO       \u001b[0m\u001b[33m<13020.00> \u001b[0m\u001b[36mScanner-1: \u001b[0m\u001b[mtimed termination at 13020.0 for action_charge\u001b[0m\n"
     ]
    },
    {
     "name": "stderr",
     "output_type": "stream",
     "text": [
      "\u001b[90;3m2024-09-12 15:06:46,663 \u001b[0m\u001b[mdata.base                      \u001b[0m\u001b[mINFO       \u001b[0m\u001b[33m<13020.00> \u001b[0m\u001b[mData reward: {'Scanner-1': 0.0}\u001b[0m\n"
     ]
    },
    {
     "name": "stderr",
     "output_type": "stream",
     "text": [
      "\u001b[90;3m2024-09-12 15:06:46,663 \u001b[0m\u001b[36msats.satellite.Scanner-1       \u001b[0m\u001b[mINFO       \u001b[0m\u001b[33m<13020.00> \u001b[0m\u001b[36mScanner-1: \u001b[0m\u001b[mSatellite Scanner-1 requires retasking\u001b[0m\n"
     ]
    },
    {
     "name": "stderr",
     "output_type": "stream",
     "text": [
      "\u001b[90;3m2024-09-12 15:06:46,664 \u001b[0m\u001b[mgym                            \u001b[0m\u001b[mINFO       \u001b[0m\u001b[33m<13020.00> \u001b[0m\u001b[mStep reward: 0.0\u001b[0m\n"
     ]
    },
    {
     "name": "stderr",
     "output_type": "stream",
     "text": [
      "\u001b[90;3m2024-09-12 15:06:46,664 \u001b[0m\u001b[mgym                            \u001b[0m\u001b[mINFO       \u001b[0m\u001b[33m<13020.00> \u001b[0m\u001b[93;1m=== STARTING STEP ===\u001b[0m\n"
     ]
    },
    {
     "name": "stderr",
     "output_type": "stream",
     "text": [
      "\u001b[90;3m2024-09-12 15:06:46,664 \u001b[0m\u001b[36msats.satellite.Scanner-1       \u001b[0m\u001b[mINFO       \u001b[0m\u001b[33m<13020.00> \u001b[0m\u001b[36mScanner-1: \u001b[0m\u001b[maction_charge tasked for 120.0 seconds\u001b[0m\n"
     ]
    },
    {
     "name": "stderr",
     "output_type": "stream",
     "text": [
      "\u001b[90;3m2024-09-12 15:06:46,665 \u001b[0m\u001b[36msats.satellite.Scanner-1       \u001b[0m\u001b[mINFO       \u001b[0m\u001b[33m<13020.00> \u001b[0m\u001b[36mScanner-1: \u001b[0m\u001b[msetting timed terminal event at 13140.0\u001b[0m\n"
     ]
    },
    {
     "name": "stderr",
     "output_type": "stream",
     "text": [
      "\u001b[90;3m2024-09-12 15:06:46,672 \u001b[0m\u001b[36msats.satellite.Scanner-1       \u001b[0m\u001b[mINFO       \u001b[0m\u001b[33m<13140.00> \u001b[0m\u001b[36mScanner-1: \u001b[0m\u001b[mtimed termination at 13140.0 for action_charge\u001b[0m\n"
     ]
    },
    {
     "name": "stderr",
     "output_type": "stream",
     "text": [
      "\u001b[90;3m2024-09-12 15:06:46,672 \u001b[0m\u001b[mdata.base                      \u001b[0m\u001b[mINFO       \u001b[0m\u001b[33m<13140.00> \u001b[0m\u001b[mData reward: {'Scanner-1': 0.0}\u001b[0m\n"
     ]
    },
    {
     "name": "stderr",
     "output_type": "stream",
     "text": [
      "\u001b[90;3m2024-09-12 15:06:46,672 \u001b[0m\u001b[36msats.satellite.Scanner-1       \u001b[0m\u001b[mINFO       \u001b[0m\u001b[33m<13140.00> \u001b[0m\u001b[36mScanner-1: \u001b[0m\u001b[mSatellite Scanner-1 requires retasking\u001b[0m\n"
     ]
    },
    {
     "name": "stderr",
     "output_type": "stream",
     "text": [
      "\u001b[90;3m2024-09-12 15:06:46,673 \u001b[0m\u001b[mgym                            \u001b[0m\u001b[mINFO       \u001b[0m\u001b[33m<13140.00> \u001b[0m\u001b[mStep reward: 0.0\u001b[0m\n"
     ]
    },
    {
     "name": "stderr",
     "output_type": "stream",
     "text": [
      "\u001b[90;3m2024-09-12 15:06:46,673 \u001b[0m\u001b[mgym                            \u001b[0m\u001b[mINFO       \u001b[0m\u001b[33m<13140.00> \u001b[0m\u001b[93;1m=== STARTING STEP ===\u001b[0m\n"
     ]
    },
    {
     "name": "stderr",
     "output_type": "stream",
     "text": [
      "\u001b[90;3m2024-09-12 15:06:46,674 \u001b[0m\u001b[36msats.satellite.Scanner-1       \u001b[0m\u001b[mINFO       \u001b[0m\u001b[33m<13140.00> \u001b[0m\u001b[36mScanner-1: \u001b[0m\u001b[maction_nadir_scan tasked for 180.0 seconds\u001b[0m\n"
     ]
    },
    {
     "name": "stderr",
     "output_type": "stream",
     "text": [
      "\u001b[90;3m2024-09-12 15:06:46,674 \u001b[0m\u001b[36msats.satellite.Scanner-1       \u001b[0m\u001b[mINFO       \u001b[0m\u001b[33m<13140.00> \u001b[0m\u001b[36mScanner-1: \u001b[0m\u001b[msetting timed terminal event at 13320.0\u001b[0m\n"
     ]
    },
    {
     "name": "stderr",
     "output_type": "stream",
     "text": [
      "\u001b[90;3m2024-09-12 15:06:46,685 \u001b[0m\u001b[36msats.satellite.Scanner-1       \u001b[0m\u001b[mINFO       \u001b[0m\u001b[33m<13320.00> \u001b[0m\u001b[36mScanner-1: \u001b[0m\u001b[mtimed termination at 13320.0 for action_nadir_scan\u001b[0m\n"
     ]
    },
    {
     "name": "stderr",
     "output_type": "stream",
     "text": [
      "\u001b[90;3m2024-09-12 15:06:46,731 \u001b[0m\u001b[mdata.base                      \u001b[0m\u001b[mINFO       \u001b[0m\u001b[33m<13320.00> \u001b[0m\u001b[mData reward: {'Scanner-1': 0.0048070175438596485}\u001b[0m\n"
     ]
    },
    {
     "name": "stderr",
     "output_type": "stream",
     "text": [
      "\u001b[90;3m2024-09-12 15:06:46,732 \u001b[0m\u001b[36msats.satellite.Scanner-1       \u001b[0m\u001b[mINFO       \u001b[0m\u001b[33m<13320.00> \u001b[0m\u001b[36mScanner-1: \u001b[0m\u001b[mSatellite Scanner-1 requires retasking\u001b[0m\n"
     ]
    },
    {
     "name": "stderr",
     "output_type": "stream",
     "text": [
      "\u001b[90;3m2024-09-12 15:06:46,732 \u001b[0m\u001b[mgym                            \u001b[0m\u001b[mINFO       \u001b[0m\u001b[33m<13320.00> \u001b[0m\u001b[mStep reward: 0.0048070175438596485\u001b[0m\n"
     ]
    },
    {
     "name": "stderr",
     "output_type": "stream",
     "text": [
      "\u001b[90;3m2024-09-12 15:06:46,733 \u001b[0m\u001b[mgym                            \u001b[0m\u001b[mINFO       \u001b[0m\u001b[33m<13320.00> \u001b[0m\u001b[93;1m=== STARTING STEP ===\u001b[0m\n"
     ]
    },
    {
     "name": "stderr",
     "output_type": "stream",
     "text": [
      "\u001b[90;3m2024-09-12 15:06:46,733 \u001b[0m\u001b[36msats.satellite.Scanner-1       \u001b[0m\u001b[mINFO       \u001b[0m\u001b[33m<13320.00> \u001b[0m\u001b[36mScanner-1: \u001b[0m\u001b[maction_nadir_scan tasked for 180.0 seconds\u001b[0m\n"
     ]
    },
    {
     "name": "stderr",
     "output_type": "stream",
     "text": [
      "\u001b[90;3m2024-09-12 15:06:46,733 \u001b[0m\u001b[36msats.satellite.Scanner-1       \u001b[0m\u001b[mINFO       \u001b[0m\u001b[33m<13320.00> \u001b[0m\u001b[36mScanner-1: \u001b[0m\u001b[msetting timed terminal event at 13500.0\u001b[0m\n"
     ]
    },
    {
     "name": "stderr",
     "output_type": "stream",
     "text": [
      "\u001b[90;3m2024-09-12 15:06:46,744 \u001b[0m\u001b[36msats.satellite.Scanner-1       \u001b[0m\u001b[mINFO       \u001b[0m\u001b[33m<13500.00> \u001b[0m\u001b[36mScanner-1: \u001b[0m\u001b[mtimed termination at 13500.0 for action_nadir_scan\u001b[0m\n"
     ]
    },
    {
     "name": "stderr",
     "output_type": "stream",
     "text": [
      "\u001b[90;3m2024-09-12 15:06:46,744 \u001b[0m\u001b[mdata.base                      \u001b[0m\u001b[mINFO       \u001b[0m\u001b[33m<13500.00> \u001b[0m\u001b[mData reward: {'Scanner-1': 0.00631578947368421}\u001b[0m\n"
     ]
    },
    {
     "name": "stderr",
     "output_type": "stream",
     "text": [
      "\u001b[90;3m2024-09-12 15:06:46,744 \u001b[0m\u001b[36msats.satellite.Scanner-1       \u001b[0m\u001b[mINFO       \u001b[0m\u001b[33m<13500.00> \u001b[0m\u001b[36mScanner-1: \u001b[0m\u001b[mSatellite Scanner-1 requires retasking\u001b[0m\n"
     ]
    },
    {
     "name": "stderr",
     "output_type": "stream",
     "text": [
      "\u001b[90;3m2024-09-12 15:06:46,745 \u001b[0m\u001b[mgym                            \u001b[0m\u001b[mINFO       \u001b[0m\u001b[33m<13500.00> \u001b[0m\u001b[mStep reward: 0.00631578947368421\u001b[0m\n"
     ]
    },
    {
     "name": "stderr",
     "output_type": "stream",
     "text": [
      "\u001b[90;3m2024-09-12 15:06:46,746 \u001b[0m\u001b[mgym                            \u001b[0m\u001b[mINFO       \u001b[0m\u001b[33m<13500.00> \u001b[0m\u001b[93;1m=== STARTING STEP ===\u001b[0m\n"
     ]
    },
    {
     "name": "stderr",
     "output_type": "stream",
     "text": [
      "\u001b[90;3m2024-09-12 15:06:46,746 \u001b[0m\u001b[36msats.satellite.Scanner-1       \u001b[0m\u001b[mINFO       \u001b[0m\u001b[33m<13500.00> \u001b[0m\u001b[36mScanner-1: \u001b[0m\u001b[maction_downlink tasked for 60.0 seconds\u001b[0m\n"
     ]
    },
    {
     "name": "stderr",
     "output_type": "stream",
     "text": [
      "\u001b[90;3m2024-09-12 15:06:46,746 \u001b[0m\u001b[36msats.satellite.Scanner-1       \u001b[0m\u001b[mINFO       \u001b[0m\u001b[33m<13500.00> \u001b[0m\u001b[36mScanner-1: \u001b[0m\u001b[msetting timed terminal event at 13560.0\u001b[0m\n"
     ]
    },
    {
     "name": "stderr",
     "output_type": "stream",
     "text": [
      "\u001b[90;3m2024-09-12 15:06:46,750 \u001b[0m\u001b[36msats.satellite.Scanner-1       \u001b[0m\u001b[mINFO       \u001b[0m\u001b[33m<13560.00> \u001b[0m\u001b[36mScanner-1: \u001b[0m\u001b[mtimed termination at 13560.0 for action_downlink\u001b[0m\n"
     ]
    },
    {
     "name": "stderr",
     "output_type": "stream",
     "text": [
      "\u001b[90;3m2024-09-12 15:06:46,750 \u001b[0m\u001b[mdata.base                      \u001b[0m\u001b[mINFO       \u001b[0m\u001b[33m<13560.00> \u001b[0m\u001b[mData reward: {'Scanner-1': 0.0}\u001b[0m\n"
     ]
    },
    {
     "name": "stderr",
     "output_type": "stream",
     "text": [
      "\u001b[90;3m2024-09-12 15:06:46,751 \u001b[0m\u001b[36msats.satellite.Scanner-1       \u001b[0m\u001b[mINFO       \u001b[0m\u001b[33m<13560.00> \u001b[0m\u001b[36mScanner-1: \u001b[0m\u001b[mSatellite Scanner-1 requires retasking\u001b[0m\n"
     ]
    },
    {
     "name": "stderr",
     "output_type": "stream",
     "text": [
      "\u001b[90;3m2024-09-12 15:06:46,751 \u001b[0m\u001b[mgym                            \u001b[0m\u001b[mINFO       \u001b[0m\u001b[33m<13560.00> \u001b[0m\u001b[mStep reward: 0.0\u001b[0m\n"
     ]
    },
    {
     "name": "stderr",
     "output_type": "stream",
     "text": [
      "\u001b[90;3m2024-09-12 15:06:46,751 \u001b[0m\u001b[mgym                            \u001b[0m\u001b[mINFO       \u001b[0m\u001b[33m<13560.00> \u001b[0m\u001b[93;1m=== STARTING STEP ===\u001b[0m\n"
     ]
    },
    {
     "name": "stderr",
     "output_type": "stream",
     "text": [
      "\u001b[90;3m2024-09-12 15:06:46,752 \u001b[0m\u001b[36msats.satellite.Scanner-1       \u001b[0m\u001b[mINFO       \u001b[0m\u001b[33m<13560.00> \u001b[0m\u001b[36mScanner-1: \u001b[0m\u001b[maction_nadir_scan tasked for 180.0 seconds\u001b[0m\n"
     ]
    },
    {
     "name": "stderr",
     "output_type": "stream",
     "text": [
      "\u001b[90;3m2024-09-12 15:06:46,752 \u001b[0m\u001b[36msats.satellite.Scanner-1       \u001b[0m\u001b[mINFO       \u001b[0m\u001b[33m<13560.00> \u001b[0m\u001b[36mScanner-1: \u001b[0m\u001b[msetting timed terminal event at 13740.0\u001b[0m\n"
     ]
    },
    {
     "name": "stderr",
     "output_type": "stream",
     "text": [
      "\u001b[90;3m2024-09-12 15:06:46,763 \u001b[0m\u001b[36msats.satellite.Scanner-1       \u001b[0m\u001b[mINFO       \u001b[0m\u001b[33m<13740.00> \u001b[0m\u001b[36mScanner-1: \u001b[0m\u001b[mtimed termination at 13740.0 for action_nadir_scan\u001b[0m\n"
     ]
    },
    {
     "name": "stderr",
     "output_type": "stream",
     "text": [
      "\u001b[90;3m2024-09-12 15:06:46,763 \u001b[0m\u001b[mdata.base                      \u001b[0m\u001b[mINFO       \u001b[0m\u001b[33m<13740.00> \u001b[0m\u001b[mData reward: {'Scanner-1': 0.00487719298245614}\u001b[0m\n"
     ]
    },
    {
     "name": "stderr",
     "output_type": "stream",
     "text": [
      "\u001b[90;3m2024-09-12 15:06:46,764 \u001b[0m\u001b[36msats.satellite.Scanner-1       \u001b[0m\u001b[mINFO       \u001b[0m\u001b[33m<13740.00> \u001b[0m\u001b[36mScanner-1: \u001b[0m\u001b[mSatellite Scanner-1 requires retasking\u001b[0m\n"
     ]
    },
    {
     "name": "stderr",
     "output_type": "stream",
     "text": [
      "\u001b[90;3m2024-09-12 15:06:46,764 \u001b[0m\u001b[mgym                            \u001b[0m\u001b[mINFO       \u001b[0m\u001b[33m<13740.00> \u001b[0m\u001b[mStep reward: 0.00487719298245614\u001b[0m\n"
     ]
    },
    {
     "name": "stderr",
     "output_type": "stream",
     "text": [
      "\u001b[90;3m2024-09-12 15:06:46,765 \u001b[0m\u001b[mgym                            \u001b[0m\u001b[mINFO       \u001b[0m\u001b[33m<13740.00> \u001b[0m\u001b[93;1m=== STARTING STEP ===\u001b[0m\n"
     ]
    },
    {
     "name": "stderr",
     "output_type": "stream",
     "text": [
      "\u001b[90;3m2024-09-12 15:06:46,765 \u001b[0m\u001b[36msats.satellite.Scanner-1       \u001b[0m\u001b[mINFO       \u001b[0m\u001b[33m<13740.00> \u001b[0m\u001b[36mScanner-1: \u001b[0m\u001b[maction_downlink tasked for 60.0 seconds\u001b[0m\n"
     ]
    },
    {
     "name": "stderr",
     "output_type": "stream",
     "text": [
      "\u001b[90;3m2024-09-12 15:06:46,765 \u001b[0m\u001b[36msats.satellite.Scanner-1       \u001b[0m\u001b[mINFO       \u001b[0m\u001b[33m<13740.00> \u001b[0m\u001b[36mScanner-1: \u001b[0m\u001b[msetting timed terminal event at 13800.0\u001b[0m\n"
     ]
    },
    {
     "name": "stderr",
     "output_type": "stream",
     "text": [
      "\u001b[90;3m2024-09-12 15:06:46,769 \u001b[0m\u001b[36msats.satellite.Scanner-1       \u001b[0m\u001b[mINFO       \u001b[0m\u001b[33m<13800.00> \u001b[0m\u001b[36mScanner-1: \u001b[0m\u001b[mtimed termination at 13800.0 for action_downlink\u001b[0m\n"
     ]
    },
    {
     "name": "stderr",
     "output_type": "stream",
     "text": [
      "\u001b[90;3m2024-09-12 15:06:46,769 \u001b[0m\u001b[mdata.base                      \u001b[0m\u001b[mINFO       \u001b[0m\u001b[33m<13800.00> \u001b[0m\u001b[mData reward: {'Scanner-1': 0.0}\u001b[0m\n"
     ]
    },
    {
     "name": "stderr",
     "output_type": "stream",
     "text": [
      "\u001b[90;3m2024-09-12 15:06:46,769 \u001b[0m\u001b[36msats.satellite.Scanner-1       \u001b[0m\u001b[mINFO       \u001b[0m\u001b[33m<13800.00> \u001b[0m\u001b[36mScanner-1: \u001b[0m\u001b[mSatellite Scanner-1 requires retasking\u001b[0m\n"
     ]
    },
    {
     "name": "stderr",
     "output_type": "stream",
     "text": [
      "\u001b[90;3m2024-09-12 15:06:46,770 \u001b[0m\u001b[mgym                            \u001b[0m\u001b[mINFO       \u001b[0m\u001b[33m<13800.00> \u001b[0m\u001b[mStep reward: 0.0\u001b[0m\n"
     ]
    },
    {
     "name": "stderr",
     "output_type": "stream",
     "text": [
      "\u001b[90;3m2024-09-12 15:06:46,770 \u001b[0m\u001b[mgym                            \u001b[0m\u001b[mINFO       \u001b[0m\u001b[33m<13800.00> \u001b[0m\u001b[93;1m=== STARTING STEP ===\u001b[0m\n"
     ]
    },
    {
     "name": "stderr",
     "output_type": "stream",
     "text": [
      "\u001b[90;3m2024-09-12 15:06:46,771 \u001b[0m\u001b[36msats.satellite.Scanner-1       \u001b[0m\u001b[mINFO       \u001b[0m\u001b[33m<13800.00> \u001b[0m\u001b[36mScanner-1: \u001b[0m\u001b[maction_downlink tasked for 60.0 seconds\u001b[0m\n"
     ]
    },
    {
     "name": "stderr",
     "output_type": "stream",
     "text": [
      "\u001b[90;3m2024-09-12 15:06:46,771 \u001b[0m\u001b[36msats.satellite.Scanner-1       \u001b[0m\u001b[mINFO       \u001b[0m\u001b[33m<13800.00> \u001b[0m\u001b[36mScanner-1: \u001b[0m\u001b[msetting timed terminal event at 13860.0\u001b[0m\n"
     ]
    },
    {
     "name": "stderr",
     "output_type": "stream",
     "text": [
      "\u001b[90;3m2024-09-12 15:06:46,775 \u001b[0m\u001b[36msats.satellite.Scanner-1       \u001b[0m\u001b[mINFO       \u001b[0m\u001b[33m<13860.00> \u001b[0m\u001b[36mScanner-1: \u001b[0m\u001b[mtimed termination at 13860.0 for action_downlink\u001b[0m\n"
     ]
    },
    {
     "name": "stderr",
     "output_type": "stream",
     "text": [
      "\u001b[90;3m2024-09-12 15:06:46,775 \u001b[0m\u001b[mdata.base                      \u001b[0m\u001b[mINFO       \u001b[0m\u001b[33m<13860.00> \u001b[0m\u001b[mData reward: {'Scanner-1': 0.0}\u001b[0m\n"
     ]
    },
    {
     "name": "stderr",
     "output_type": "stream",
     "text": [
      "\u001b[90;3m2024-09-12 15:06:46,775 \u001b[0m\u001b[36msats.satellite.Scanner-1       \u001b[0m\u001b[mINFO       \u001b[0m\u001b[33m<13860.00> \u001b[0m\u001b[36mScanner-1: \u001b[0m\u001b[mSatellite Scanner-1 requires retasking\u001b[0m\n"
     ]
    },
    {
     "name": "stderr",
     "output_type": "stream",
     "text": [
      "\u001b[90;3m2024-09-12 15:06:46,776 \u001b[0m\u001b[mgym                            \u001b[0m\u001b[mINFO       \u001b[0m\u001b[33m<13860.00> \u001b[0m\u001b[mStep reward: 0.0\u001b[0m\n"
     ]
    },
    {
     "name": "stderr",
     "output_type": "stream",
     "text": [
      "\u001b[90;3m2024-09-12 15:06:46,776 \u001b[0m\u001b[mgym                            \u001b[0m\u001b[mINFO       \u001b[0m\u001b[33m<13860.00> \u001b[0m\u001b[93;1m=== STARTING STEP ===\u001b[0m\n"
     ]
    },
    {
     "name": "stderr",
     "output_type": "stream",
     "text": [
      "\u001b[90;3m2024-09-12 15:06:46,776 \u001b[0m\u001b[36msats.satellite.Scanner-1       \u001b[0m\u001b[mINFO       \u001b[0m\u001b[33m<13860.00> \u001b[0m\u001b[36mScanner-1: \u001b[0m\u001b[maction_nadir_scan tasked for 180.0 seconds\u001b[0m\n"
     ]
    },
    {
     "name": "stderr",
     "output_type": "stream",
     "text": [
      "\u001b[90;3m2024-09-12 15:06:46,777 \u001b[0m\u001b[36msats.satellite.Scanner-1       \u001b[0m\u001b[mINFO       \u001b[0m\u001b[33m<13860.00> \u001b[0m\u001b[36mScanner-1: \u001b[0m\u001b[msetting timed terminal event at 14040.0\u001b[0m\n"
     ]
    },
    {
     "name": "stderr",
     "output_type": "stream",
     "text": [
      "\u001b[90;3m2024-09-12 15:06:46,787 \u001b[0m\u001b[36msats.satellite.Scanner-1       \u001b[0m\u001b[mINFO       \u001b[0m\u001b[33m<14040.00> \u001b[0m\u001b[36mScanner-1: \u001b[0m\u001b[mtimed termination at 14040.0 for action_nadir_scan\u001b[0m\n"
     ]
    },
    {
     "name": "stderr",
     "output_type": "stream",
     "text": [
      "\u001b[90;3m2024-09-12 15:06:46,787 \u001b[0m\u001b[mdata.base                      \u001b[0m\u001b[mINFO       \u001b[0m\u001b[33m<14040.00> \u001b[0m\u001b[mData reward: {'Scanner-1': 0.004912280701754385}\u001b[0m\n"
     ]
    },
    {
     "name": "stderr",
     "output_type": "stream",
     "text": [
      "\u001b[90;3m2024-09-12 15:06:46,787 \u001b[0m\u001b[36msats.satellite.Scanner-1       \u001b[0m\u001b[mINFO       \u001b[0m\u001b[33m<14040.00> \u001b[0m\u001b[36mScanner-1: \u001b[0m\u001b[mSatellite Scanner-1 requires retasking\u001b[0m\n"
     ]
    },
    {
     "name": "stderr",
     "output_type": "stream",
     "text": [
      "\u001b[90;3m2024-09-12 15:06:46,788 \u001b[0m\u001b[mgym                            \u001b[0m\u001b[mINFO       \u001b[0m\u001b[33m<14040.00> \u001b[0m\u001b[mStep reward: 0.004912280701754385\u001b[0m\n"
     ]
    },
    {
     "name": "stderr",
     "output_type": "stream",
     "text": [
      "\u001b[90;3m2024-09-12 15:06:46,788 \u001b[0m\u001b[mgym                            \u001b[0m\u001b[mINFO       \u001b[0m\u001b[33m<14040.00> \u001b[0m\u001b[93;1m=== STARTING STEP ===\u001b[0m\n"
     ]
    },
    {
     "name": "stderr",
     "output_type": "stream",
     "text": [
      "\u001b[90;3m2024-09-12 15:06:46,789 \u001b[0m\u001b[36msats.satellite.Scanner-1       \u001b[0m\u001b[mINFO       \u001b[0m\u001b[33m<14040.00> \u001b[0m\u001b[36mScanner-1: \u001b[0m\u001b[maction_downlink tasked for 60.0 seconds\u001b[0m\n"
     ]
    },
    {
     "name": "stderr",
     "output_type": "stream",
     "text": [
      "\u001b[90;3m2024-09-12 15:06:46,789 \u001b[0m\u001b[36msats.satellite.Scanner-1       \u001b[0m\u001b[mINFO       \u001b[0m\u001b[33m<14040.00> \u001b[0m\u001b[36mScanner-1: \u001b[0m\u001b[msetting timed terminal event at 14100.0\u001b[0m\n"
     ]
    },
    {
     "name": "stderr",
     "output_type": "stream",
     "text": [
      "\u001b[90;3m2024-09-12 15:06:46,793 \u001b[0m\u001b[36msats.satellite.Scanner-1       \u001b[0m\u001b[mINFO       \u001b[0m\u001b[33m<14100.00> \u001b[0m\u001b[36mScanner-1: \u001b[0m\u001b[mtimed termination at 14100.0 for action_downlink\u001b[0m\n"
     ]
    },
    {
     "name": "stderr",
     "output_type": "stream",
     "text": [
      "\u001b[90;3m2024-09-12 15:06:46,793 \u001b[0m\u001b[mdata.base                      \u001b[0m\u001b[mINFO       \u001b[0m\u001b[33m<14100.00> \u001b[0m\u001b[mData reward: {'Scanner-1': 0.0}\u001b[0m\n"
     ]
    },
    {
     "name": "stderr",
     "output_type": "stream",
     "text": [
      "\u001b[90;3m2024-09-12 15:06:46,793 \u001b[0m\u001b[36msats.satellite.Scanner-1       \u001b[0m\u001b[mINFO       \u001b[0m\u001b[33m<14100.00> \u001b[0m\u001b[36mScanner-1: \u001b[0m\u001b[mSatellite Scanner-1 requires retasking\u001b[0m\n"
     ]
    },
    {
     "name": "stderr",
     "output_type": "stream",
     "text": [
      "\u001b[90;3m2024-09-12 15:06:46,794 \u001b[0m\u001b[mgym                            \u001b[0m\u001b[mINFO       \u001b[0m\u001b[33m<14100.00> \u001b[0m\u001b[mStep reward: 0.0\u001b[0m\n"
     ]
    },
    {
     "name": "stderr",
     "output_type": "stream",
     "text": [
      "\u001b[90;3m2024-09-12 15:06:46,794 \u001b[0m\u001b[mgym                            \u001b[0m\u001b[mINFO       \u001b[0m\u001b[33m<14100.00> \u001b[0m\u001b[93;1m=== STARTING STEP ===\u001b[0m\n"
     ]
    },
    {
     "name": "stderr",
     "output_type": "stream",
     "text": [
      "\u001b[90;3m2024-09-12 15:06:46,794 \u001b[0m\u001b[36msats.satellite.Scanner-1       \u001b[0m\u001b[mINFO       \u001b[0m\u001b[33m<14100.00> \u001b[0m\u001b[36mScanner-1: \u001b[0m\u001b[maction_nadir_scan tasked for 180.0 seconds\u001b[0m\n"
     ]
    },
    {
     "name": "stderr",
     "output_type": "stream",
     "text": [
      "\u001b[90;3m2024-09-12 15:06:46,794 \u001b[0m\u001b[36msats.satellite.Scanner-1       \u001b[0m\u001b[mINFO       \u001b[0m\u001b[33m<14100.00> \u001b[0m\u001b[36mScanner-1: \u001b[0m\u001b[msetting timed terminal event at 14280.0\u001b[0m\n"
     ]
    },
    {
     "name": "stderr",
     "output_type": "stream",
     "text": [
      "\u001b[90;3m2024-09-12 15:06:46,805 \u001b[0m\u001b[36msats.satellite.Scanner-1       \u001b[0m\u001b[mINFO       \u001b[0m\u001b[33m<14280.00> \u001b[0m\u001b[36mScanner-1: \u001b[0m\u001b[mtimed termination at 14280.0 for action_nadir_scan\u001b[0m\n"
     ]
    },
    {
     "name": "stderr",
     "output_type": "stream",
     "text": [
      "\u001b[90;3m2024-09-12 15:06:46,805 \u001b[0m\u001b[mdata.base                      \u001b[0m\u001b[mINFO       \u001b[0m\u001b[33m<14280.00> \u001b[0m\u001b[mData reward: {'Scanner-1': 0.00487719298245614}\u001b[0m\n"
     ]
    },
    {
     "name": "stderr",
     "output_type": "stream",
     "text": [
      "\u001b[90;3m2024-09-12 15:06:46,806 \u001b[0m\u001b[36msats.satellite.Scanner-1       \u001b[0m\u001b[mINFO       \u001b[0m\u001b[33m<14280.00> \u001b[0m\u001b[36mScanner-1: \u001b[0m\u001b[mSatellite Scanner-1 requires retasking\u001b[0m\n"
     ]
    },
    {
     "name": "stderr",
     "output_type": "stream",
     "text": [
      "\u001b[90;3m2024-09-12 15:06:46,806 \u001b[0m\u001b[mgym                            \u001b[0m\u001b[mINFO       \u001b[0m\u001b[33m<14280.00> \u001b[0m\u001b[mStep reward: 0.00487719298245614\u001b[0m\n"
     ]
    },
    {
     "name": "stderr",
     "output_type": "stream",
     "text": [
      "\u001b[90;3m2024-09-12 15:06:46,807 \u001b[0m\u001b[mgym                            \u001b[0m\u001b[mINFO       \u001b[0m\u001b[33m<14280.00> \u001b[0m\u001b[93;1m=== STARTING STEP ===\u001b[0m\n"
     ]
    },
    {
     "name": "stderr",
     "output_type": "stream",
     "text": [
      "\u001b[90;3m2024-09-12 15:06:46,807 \u001b[0m\u001b[36msats.satellite.Scanner-1       \u001b[0m\u001b[mINFO       \u001b[0m\u001b[33m<14280.00> \u001b[0m\u001b[36mScanner-1: \u001b[0m\u001b[maction_downlink tasked for 60.0 seconds\u001b[0m\n"
     ]
    },
    {
     "name": "stderr",
     "output_type": "stream",
     "text": [
      "\u001b[90;3m2024-09-12 15:06:46,807 \u001b[0m\u001b[36msats.satellite.Scanner-1       \u001b[0m\u001b[mINFO       \u001b[0m\u001b[33m<14280.00> \u001b[0m\u001b[36mScanner-1: \u001b[0m\u001b[msetting timed terminal event at 14340.0\u001b[0m\n"
     ]
    },
    {
     "name": "stderr",
     "output_type": "stream",
     "text": [
      "\u001b[90;3m2024-09-12 15:06:46,811 \u001b[0m\u001b[36msats.satellite.Scanner-1       \u001b[0m\u001b[mINFO       \u001b[0m\u001b[33m<14340.00> \u001b[0m\u001b[36mScanner-1: \u001b[0m\u001b[mtimed termination at 14340.0 for action_downlink\u001b[0m\n"
     ]
    },
    {
     "name": "stderr",
     "output_type": "stream",
     "text": [
      "\u001b[90;3m2024-09-12 15:06:46,811 \u001b[0m\u001b[mdata.base                      \u001b[0m\u001b[mINFO       \u001b[0m\u001b[33m<14340.00> \u001b[0m\u001b[mData reward: {'Scanner-1': 0.0}\u001b[0m\n"
     ]
    },
    {
     "name": "stderr",
     "output_type": "stream",
     "text": [
      "\u001b[90;3m2024-09-12 15:06:46,811 \u001b[0m\u001b[36msats.satellite.Scanner-1       \u001b[0m\u001b[mINFO       \u001b[0m\u001b[33m<14340.00> \u001b[0m\u001b[36mScanner-1: \u001b[0m\u001b[mSatellite Scanner-1 requires retasking\u001b[0m\n"
     ]
    },
    {
     "name": "stderr",
     "output_type": "stream",
     "text": [
      "\u001b[90;3m2024-09-12 15:06:46,812 \u001b[0m\u001b[mgym                            \u001b[0m\u001b[mINFO       \u001b[0m\u001b[33m<14340.00> \u001b[0m\u001b[mStep reward: 0.0\u001b[0m\n"
     ]
    },
    {
     "name": "stderr",
     "output_type": "stream",
     "text": [
      "\u001b[90;3m2024-09-12 15:06:46,812 \u001b[0m\u001b[mgym                            \u001b[0m\u001b[mINFO       \u001b[0m\u001b[33m<14340.00> \u001b[0m\u001b[93;1m=== STARTING STEP ===\u001b[0m\n"
     ]
    },
    {
     "name": "stderr",
     "output_type": "stream",
     "text": [
      "\u001b[90;3m2024-09-12 15:06:46,812 \u001b[0m\u001b[36msats.satellite.Scanner-1       \u001b[0m\u001b[mINFO       \u001b[0m\u001b[33m<14340.00> \u001b[0m\u001b[36mScanner-1: \u001b[0m\u001b[maction_nadir_scan tasked for 180.0 seconds\u001b[0m\n"
     ]
    },
    {
     "name": "stderr",
     "output_type": "stream",
     "text": [
      "\u001b[90;3m2024-09-12 15:06:46,813 \u001b[0m\u001b[36msats.satellite.Scanner-1       \u001b[0m\u001b[mINFO       \u001b[0m\u001b[33m<14340.00> \u001b[0m\u001b[36mScanner-1: \u001b[0m\u001b[msetting timed terminal event at 14520.0\u001b[0m\n"
     ]
    },
    {
     "name": "stderr",
     "output_type": "stream",
     "text": [
      "\u001b[90;3m2024-09-12 15:06:46,823 \u001b[0m\u001b[36msats.satellite.Scanner-1       \u001b[0m\u001b[mINFO       \u001b[0m\u001b[33m<14520.00> \u001b[0m\u001b[36mScanner-1: \u001b[0m\u001b[mtimed termination at 14520.0 for action_nadir_scan\u001b[0m\n"
     ]
    },
    {
     "name": "stderr",
     "output_type": "stream",
     "text": [
      "\u001b[90;3m2024-09-12 15:06:46,823 \u001b[0m\u001b[mdata.base                      \u001b[0m\u001b[mINFO       \u001b[0m\u001b[33m<14520.00> \u001b[0m\u001b[mData reward: {'Scanner-1': 0.00487719298245614}\u001b[0m\n"
     ]
    },
    {
     "name": "stderr",
     "output_type": "stream",
     "text": [
      "\u001b[90;3m2024-09-12 15:06:46,824 \u001b[0m\u001b[36msats.satellite.Scanner-1       \u001b[0m\u001b[mINFO       \u001b[0m\u001b[33m<14520.00> \u001b[0m\u001b[36mScanner-1: \u001b[0m\u001b[mSatellite Scanner-1 requires retasking\u001b[0m\n"
     ]
    },
    {
     "name": "stderr",
     "output_type": "stream",
     "text": [
      "\u001b[90;3m2024-09-12 15:06:46,824 \u001b[0m\u001b[mgym                            \u001b[0m\u001b[mINFO       \u001b[0m\u001b[33m<14520.00> \u001b[0m\u001b[mStep reward: 0.00487719298245614\u001b[0m\n"
     ]
    },
    {
     "name": "stderr",
     "output_type": "stream",
     "text": [
      "\u001b[90;3m2024-09-12 15:06:46,825 \u001b[0m\u001b[mgym                            \u001b[0m\u001b[mINFO       \u001b[0m\u001b[33m<14520.00> \u001b[0m\u001b[93;1m=== STARTING STEP ===\u001b[0m\n"
     ]
    },
    {
     "name": "stderr",
     "output_type": "stream",
     "text": [
      "\u001b[90;3m2024-09-12 15:06:46,825 \u001b[0m\u001b[36msats.satellite.Scanner-1       \u001b[0m\u001b[mINFO       \u001b[0m\u001b[33m<14520.00> \u001b[0m\u001b[36mScanner-1: \u001b[0m\u001b[maction_desat tasked for 60.0 seconds\u001b[0m\n"
     ]
    },
    {
     "name": "stderr",
     "output_type": "stream",
     "text": [
      "\u001b[90;3m2024-09-12 15:06:46,825 \u001b[0m\u001b[36msats.satellite.Scanner-1       \u001b[0m\u001b[mINFO       \u001b[0m\u001b[33m<14520.00> \u001b[0m\u001b[36mScanner-1: \u001b[0m\u001b[msetting timed terminal event at 14580.0\u001b[0m\n"
     ]
    },
    {
     "name": "stderr",
     "output_type": "stream",
     "text": [
      "\u001b[90;3m2024-09-12 15:06:46,829 \u001b[0m\u001b[36msats.satellite.Scanner-1       \u001b[0m\u001b[mINFO       \u001b[0m\u001b[33m<14580.00> \u001b[0m\u001b[36mScanner-1: \u001b[0m\u001b[mtimed termination at 14580.0 for action_desat\u001b[0m\n"
     ]
    },
    {
     "name": "stderr",
     "output_type": "stream",
     "text": [
      "\u001b[90;3m2024-09-12 15:06:46,829 \u001b[0m\u001b[mdata.base                      \u001b[0m\u001b[mINFO       \u001b[0m\u001b[33m<14580.00> \u001b[0m\u001b[mData reward: {'Scanner-1': 0.0}\u001b[0m\n"
     ]
    },
    {
     "name": "stderr",
     "output_type": "stream",
     "text": [
      "\u001b[90;3m2024-09-12 15:06:46,830 \u001b[0m\u001b[36msats.satellite.Scanner-1       \u001b[0m\u001b[mINFO       \u001b[0m\u001b[33m<14580.00> \u001b[0m\u001b[36mScanner-1: \u001b[0m\u001b[mSatellite Scanner-1 requires retasking\u001b[0m\n"
     ]
    },
    {
     "name": "stderr",
     "output_type": "stream",
     "text": [
      "\u001b[90;3m2024-09-12 15:06:46,830 \u001b[0m\u001b[mgym                            \u001b[0m\u001b[mINFO       \u001b[0m\u001b[33m<14580.00> \u001b[0m\u001b[mStep reward: 0.0\u001b[0m\n"
     ]
    },
    {
     "name": "stderr",
     "output_type": "stream",
     "text": [
      "\u001b[90;3m2024-09-12 15:06:46,831 \u001b[0m\u001b[mgym                            \u001b[0m\u001b[mINFO       \u001b[0m\u001b[33m<14580.00> \u001b[0m\u001b[93;1m=== STARTING STEP ===\u001b[0m\n"
     ]
    },
    {
     "name": "stderr",
     "output_type": "stream",
     "text": [
      "\u001b[90;3m2024-09-12 15:06:46,831 \u001b[0m\u001b[36msats.satellite.Scanner-1       \u001b[0m\u001b[mINFO       \u001b[0m\u001b[33m<14580.00> \u001b[0m\u001b[36mScanner-1: \u001b[0m\u001b[maction_downlink tasked for 60.0 seconds\u001b[0m\n"
     ]
    },
    {
     "name": "stderr",
     "output_type": "stream",
     "text": [
      "\u001b[90;3m2024-09-12 15:06:46,831 \u001b[0m\u001b[36msats.satellite.Scanner-1       \u001b[0m\u001b[mINFO       \u001b[0m\u001b[33m<14580.00> \u001b[0m\u001b[36mScanner-1: \u001b[0m\u001b[msetting timed terminal event at 14640.0\u001b[0m\n"
     ]
    },
    {
     "name": "stderr",
     "output_type": "stream",
     "text": [
      "\u001b[90;3m2024-09-12 15:06:46,835 \u001b[0m\u001b[36msats.satellite.Scanner-1       \u001b[0m\u001b[mINFO       \u001b[0m\u001b[33m<14640.00> \u001b[0m\u001b[36mScanner-1: \u001b[0m\u001b[mtimed termination at 14640.0 for action_downlink\u001b[0m\n"
     ]
    },
    {
     "name": "stderr",
     "output_type": "stream",
     "text": [
      "\u001b[90;3m2024-09-12 15:06:46,835 \u001b[0m\u001b[mdata.base                      \u001b[0m\u001b[mINFO       \u001b[0m\u001b[33m<14640.00> \u001b[0m\u001b[mData reward: {'Scanner-1': 0.0}\u001b[0m\n"
     ]
    },
    {
     "name": "stderr",
     "output_type": "stream",
     "text": [
      "\u001b[90;3m2024-09-12 15:06:46,835 \u001b[0m\u001b[36msats.satellite.Scanner-1       \u001b[0m\u001b[mINFO       \u001b[0m\u001b[33m<14640.00> \u001b[0m\u001b[36mScanner-1: \u001b[0m\u001b[mSatellite Scanner-1 requires retasking\u001b[0m\n"
     ]
    },
    {
     "name": "stderr",
     "output_type": "stream",
     "text": [
      "\u001b[90;3m2024-09-12 15:06:46,836 \u001b[0m\u001b[mgym                            \u001b[0m\u001b[mINFO       \u001b[0m\u001b[33m<14640.00> \u001b[0m\u001b[mStep reward: 0.0\u001b[0m\n"
     ]
    },
    {
     "name": "stderr",
     "output_type": "stream",
     "text": [
      "\u001b[90;3m2024-09-12 15:06:46,836 \u001b[0m\u001b[mgym                            \u001b[0m\u001b[mINFO       \u001b[0m\u001b[33m<14640.00> \u001b[0m\u001b[93;1m=== STARTING STEP ===\u001b[0m\n"
     ]
    },
    {
     "name": "stderr",
     "output_type": "stream",
     "text": [
      "\u001b[90;3m2024-09-12 15:06:46,837 \u001b[0m\u001b[36msats.satellite.Scanner-1       \u001b[0m\u001b[mINFO       \u001b[0m\u001b[33m<14640.00> \u001b[0m\u001b[36mScanner-1: \u001b[0m\u001b[maction_charge tasked for 120.0 seconds\u001b[0m\n"
     ]
    },
    {
     "name": "stderr",
     "output_type": "stream",
     "text": [
      "\u001b[90;3m2024-09-12 15:06:46,837 \u001b[0m\u001b[36msats.satellite.Scanner-1       \u001b[0m\u001b[mINFO       \u001b[0m\u001b[33m<14640.00> \u001b[0m\u001b[36mScanner-1: \u001b[0m\u001b[msetting timed terminal event at 14760.0\u001b[0m\n"
     ]
    },
    {
     "name": "stderr",
     "output_type": "stream",
     "text": [
      "\u001b[90;3m2024-09-12 15:06:46,844 \u001b[0m\u001b[36msats.satellite.Scanner-1       \u001b[0m\u001b[mINFO       \u001b[0m\u001b[33m<14760.00> \u001b[0m\u001b[36mScanner-1: \u001b[0m\u001b[mtimed termination at 14760.0 for action_charge\u001b[0m\n"
     ]
    },
    {
     "name": "stderr",
     "output_type": "stream",
     "text": [
      "\u001b[90;3m2024-09-12 15:06:46,844 \u001b[0m\u001b[mdata.base                      \u001b[0m\u001b[mINFO       \u001b[0m\u001b[33m<14760.00> \u001b[0m\u001b[mData reward: {'Scanner-1': 0.0}\u001b[0m\n"
     ]
    },
    {
     "name": "stderr",
     "output_type": "stream",
     "text": [
      "\u001b[90;3m2024-09-12 15:06:46,844 \u001b[0m\u001b[36msats.satellite.Scanner-1       \u001b[0m\u001b[mINFO       \u001b[0m\u001b[33m<14760.00> \u001b[0m\u001b[36mScanner-1: \u001b[0m\u001b[mSatellite Scanner-1 requires retasking\u001b[0m\n"
     ]
    },
    {
     "name": "stderr",
     "output_type": "stream",
     "text": [
      "\u001b[90;3m2024-09-12 15:06:46,845 \u001b[0m\u001b[mgym                            \u001b[0m\u001b[mINFO       \u001b[0m\u001b[33m<14760.00> \u001b[0m\u001b[mStep reward: 0.0\u001b[0m\n"
     ]
    },
    {
     "name": "stderr",
     "output_type": "stream",
     "text": [
      "\u001b[90;3m2024-09-12 15:06:46,845 \u001b[0m\u001b[mgym                            \u001b[0m\u001b[mINFO       \u001b[0m\u001b[33m<14760.00> \u001b[0m\u001b[93;1m=== STARTING STEP ===\u001b[0m\n"
     ]
    },
    {
     "name": "stderr",
     "output_type": "stream",
     "text": [
      "\u001b[90;3m2024-09-12 15:06:46,846 \u001b[0m\u001b[36msats.satellite.Scanner-1       \u001b[0m\u001b[mINFO       \u001b[0m\u001b[33m<14760.00> \u001b[0m\u001b[36mScanner-1: \u001b[0m\u001b[maction_downlink tasked for 60.0 seconds\u001b[0m\n"
     ]
    },
    {
     "name": "stderr",
     "output_type": "stream",
     "text": [
      "\u001b[90;3m2024-09-12 15:06:46,846 \u001b[0m\u001b[36msats.satellite.Scanner-1       \u001b[0m\u001b[mINFO       \u001b[0m\u001b[33m<14760.00> \u001b[0m\u001b[36mScanner-1: \u001b[0m\u001b[msetting timed terminal event at 14820.0\u001b[0m\n"
     ]
    },
    {
     "name": "stderr",
     "output_type": "stream",
     "text": [
      "\u001b[90;3m2024-09-12 15:06:46,850 \u001b[0m\u001b[36msats.satellite.Scanner-1       \u001b[0m\u001b[mINFO       \u001b[0m\u001b[33m<14820.00> \u001b[0m\u001b[36mScanner-1: \u001b[0m\u001b[mtimed termination at 14820.0 for action_downlink\u001b[0m\n"
     ]
    },
    {
     "name": "stderr",
     "output_type": "stream",
     "text": [
      "\u001b[90;3m2024-09-12 15:06:46,850 \u001b[0m\u001b[mdata.base                      \u001b[0m\u001b[mINFO       \u001b[0m\u001b[33m<14820.00> \u001b[0m\u001b[mData reward: {'Scanner-1': 0.0}\u001b[0m\n"
     ]
    },
    {
     "name": "stderr",
     "output_type": "stream",
     "text": [
      "\u001b[90;3m2024-09-12 15:06:46,850 \u001b[0m\u001b[36msats.satellite.Scanner-1       \u001b[0m\u001b[mINFO       \u001b[0m\u001b[33m<14820.00> \u001b[0m\u001b[36mScanner-1: \u001b[0m\u001b[mSatellite Scanner-1 requires retasking\u001b[0m\n"
     ]
    },
    {
     "name": "stderr",
     "output_type": "stream",
     "text": [
      "\u001b[90;3m2024-09-12 15:06:46,851 \u001b[0m\u001b[mgym                            \u001b[0m\u001b[mINFO       \u001b[0m\u001b[33m<14820.00> \u001b[0m\u001b[mStep reward: 0.0\u001b[0m\n"
     ]
    },
    {
     "name": "stderr",
     "output_type": "stream",
     "text": [
      "\u001b[90;3m2024-09-12 15:06:46,851 \u001b[0m\u001b[mgym                            \u001b[0m\u001b[mINFO       \u001b[0m\u001b[33m<14820.00> \u001b[0m\u001b[93;1m=== STARTING STEP ===\u001b[0m\n"
     ]
    },
    {
     "name": "stderr",
     "output_type": "stream",
     "text": [
      "\u001b[90;3m2024-09-12 15:06:46,851 \u001b[0m\u001b[36msats.satellite.Scanner-1       \u001b[0m\u001b[mINFO       \u001b[0m\u001b[33m<14820.00> \u001b[0m\u001b[36mScanner-1: \u001b[0m\u001b[maction_downlink tasked for 60.0 seconds\u001b[0m\n"
     ]
    },
    {
     "name": "stderr",
     "output_type": "stream",
     "text": [
      "\u001b[90;3m2024-09-12 15:06:46,852 \u001b[0m\u001b[36msats.satellite.Scanner-1       \u001b[0m\u001b[mINFO       \u001b[0m\u001b[33m<14820.00> \u001b[0m\u001b[36mScanner-1: \u001b[0m\u001b[msetting timed terminal event at 14880.0\u001b[0m\n"
     ]
    },
    {
     "name": "stderr",
     "output_type": "stream",
     "text": [
      "\u001b[90;3m2024-09-12 15:06:46,856 \u001b[0m\u001b[36msats.satellite.Scanner-1       \u001b[0m\u001b[mINFO       \u001b[0m\u001b[33m<14880.00> \u001b[0m\u001b[36mScanner-1: \u001b[0m\u001b[mtimed termination at 14880.0 for action_downlink\u001b[0m\n"
     ]
    },
    {
     "name": "stderr",
     "output_type": "stream",
     "text": [
      "\u001b[90;3m2024-09-12 15:06:46,856 \u001b[0m\u001b[mdata.base                      \u001b[0m\u001b[mINFO       \u001b[0m\u001b[33m<14880.00> \u001b[0m\u001b[mData reward: {'Scanner-1': 0.0}\u001b[0m\n"
     ]
    },
    {
     "name": "stderr",
     "output_type": "stream",
     "text": [
      "\u001b[90;3m2024-09-12 15:06:46,856 \u001b[0m\u001b[36msats.satellite.Scanner-1       \u001b[0m\u001b[mINFO       \u001b[0m\u001b[33m<14880.00> \u001b[0m\u001b[36mScanner-1: \u001b[0m\u001b[mSatellite Scanner-1 requires retasking\u001b[0m\n"
     ]
    },
    {
     "name": "stderr",
     "output_type": "stream",
     "text": [
      "\u001b[90;3m2024-09-12 15:06:46,857 \u001b[0m\u001b[mgym                            \u001b[0m\u001b[mINFO       \u001b[0m\u001b[33m<14880.00> \u001b[0m\u001b[mStep reward: 0.0\u001b[0m\n"
     ]
    },
    {
     "name": "stderr",
     "output_type": "stream",
     "text": [
      "\u001b[90;3m2024-09-12 15:06:46,857 \u001b[0m\u001b[mgym                            \u001b[0m\u001b[mINFO       \u001b[0m\u001b[33m<14880.00> \u001b[0m\u001b[93;1m=== STARTING STEP ===\u001b[0m\n"
     ]
    },
    {
     "name": "stderr",
     "output_type": "stream",
     "text": [
      "\u001b[90;3m2024-09-12 15:06:46,858 \u001b[0m\u001b[36msats.satellite.Scanner-1       \u001b[0m\u001b[mINFO       \u001b[0m\u001b[33m<14880.00> \u001b[0m\u001b[36mScanner-1: \u001b[0m\u001b[maction_nadir_scan tasked for 180.0 seconds\u001b[0m\n"
     ]
    },
    {
     "name": "stderr",
     "output_type": "stream",
     "text": [
      "\u001b[90;3m2024-09-12 15:06:46,858 \u001b[0m\u001b[36msats.satellite.Scanner-1       \u001b[0m\u001b[mINFO       \u001b[0m\u001b[33m<14880.00> \u001b[0m\u001b[36mScanner-1: \u001b[0m\u001b[msetting timed terminal event at 15060.0\u001b[0m\n"
     ]
    },
    {
     "name": "stderr",
     "output_type": "stream",
     "text": [
      "\u001b[90;3m2024-09-12 15:06:46,869 \u001b[0m\u001b[36msats.satellite.Scanner-1       \u001b[0m\u001b[mINFO       \u001b[0m\u001b[33m<15060.00> \u001b[0m\u001b[36mScanner-1: \u001b[0m\u001b[mtimed termination at 15060.0 for action_nadir_scan\u001b[0m\n"
     ]
    },
    {
     "name": "stderr",
     "output_type": "stream",
     "text": [
      "\u001b[90;3m2024-09-12 15:06:46,869 \u001b[0m\u001b[mdata.base                      \u001b[0m\u001b[mINFO       \u001b[0m\u001b[33m<15060.00> \u001b[0m\u001b[mData reward: {'Scanner-1': 0.004912280701754385}\u001b[0m\n"
     ]
    },
    {
     "name": "stderr",
     "output_type": "stream",
     "text": [
      "\u001b[90;3m2024-09-12 15:06:46,870 \u001b[0m\u001b[36msats.satellite.Scanner-1       \u001b[0m\u001b[mINFO       \u001b[0m\u001b[33m<15060.00> \u001b[0m\u001b[36mScanner-1: \u001b[0m\u001b[mSatellite Scanner-1 requires retasking\u001b[0m\n"
     ]
    },
    {
     "name": "stderr",
     "output_type": "stream",
     "text": [
      "\u001b[90;3m2024-09-12 15:06:46,870 \u001b[0m\u001b[mgym                            \u001b[0m\u001b[mINFO       \u001b[0m\u001b[33m<15060.00> \u001b[0m\u001b[mStep reward: 0.004912280701754385\u001b[0m\n"
     ]
    },
    {
     "name": "stderr",
     "output_type": "stream",
     "text": [
      "\u001b[90;3m2024-09-12 15:06:46,871 \u001b[0m\u001b[mgym                            \u001b[0m\u001b[mINFO       \u001b[0m\u001b[33m<15060.00> \u001b[0m\u001b[93;1m=== STARTING STEP ===\u001b[0m\n"
     ]
    },
    {
     "name": "stderr",
     "output_type": "stream",
     "text": [
      "\u001b[90;3m2024-09-12 15:06:46,871 \u001b[0m\u001b[36msats.satellite.Scanner-1       \u001b[0m\u001b[mINFO       \u001b[0m\u001b[33m<15060.00> \u001b[0m\u001b[36mScanner-1: \u001b[0m\u001b[maction_desat tasked for 60.0 seconds\u001b[0m\n"
     ]
    },
    {
     "name": "stderr",
     "output_type": "stream",
     "text": [
      "\u001b[90;3m2024-09-12 15:06:46,871 \u001b[0m\u001b[36msats.satellite.Scanner-1       \u001b[0m\u001b[mINFO       \u001b[0m\u001b[33m<15060.00> \u001b[0m\u001b[36mScanner-1: \u001b[0m\u001b[msetting timed terminal event at 15120.0\u001b[0m\n"
     ]
    },
    {
     "name": "stderr",
     "output_type": "stream",
     "text": [
      "\u001b[90;3m2024-09-12 15:06:46,875 \u001b[0m\u001b[36msats.satellite.Scanner-1       \u001b[0m\u001b[mINFO       \u001b[0m\u001b[33m<15120.00> \u001b[0m\u001b[36mScanner-1: \u001b[0m\u001b[mtimed termination at 15120.0 for action_desat\u001b[0m\n"
     ]
    },
    {
     "name": "stderr",
     "output_type": "stream",
     "text": [
      "\u001b[90;3m2024-09-12 15:06:46,876 \u001b[0m\u001b[mdata.base                      \u001b[0m\u001b[mINFO       \u001b[0m\u001b[33m<15120.00> \u001b[0m\u001b[mData reward: {'Scanner-1': 0.0}\u001b[0m\n"
     ]
    },
    {
     "name": "stderr",
     "output_type": "stream",
     "text": [
      "\u001b[90;3m2024-09-12 15:06:46,876 \u001b[0m\u001b[36msats.satellite.Scanner-1       \u001b[0m\u001b[mINFO       \u001b[0m\u001b[33m<15120.00> \u001b[0m\u001b[36mScanner-1: \u001b[0m\u001b[mSatellite Scanner-1 requires retasking\u001b[0m\n"
     ]
    },
    {
     "name": "stderr",
     "output_type": "stream",
     "text": [
      "\u001b[90;3m2024-09-12 15:06:46,876 \u001b[0m\u001b[mgym                            \u001b[0m\u001b[mINFO       \u001b[0m\u001b[33m<15120.00> \u001b[0m\u001b[mStep reward: 0.0\u001b[0m\n"
     ]
    },
    {
     "name": "stderr",
     "output_type": "stream",
     "text": [
      "\u001b[90;3m2024-09-12 15:06:46,877 \u001b[0m\u001b[mgym                            \u001b[0m\u001b[mINFO       \u001b[0m\u001b[33m<15120.00> \u001b[0m\u001b[93;1m=== STARTING STEP ===\u001b[0m\n"
     ]
    },
    {
     "name": "stderr",
     "output_type": "stream",
     "text": [
      "\u001b[90;3m2024-09-12 15:06:46,877 \u001b[0m\u001b[36msats.satellite.Scanner-1       \u001b[0m\u001b[mINFO       \u001b[0m\u001b[33m<15120.00> \u001b[0m\u001b[36mScanner-1: \u001b[0m\u001b[maction_charge tasked for 120.0 seconds\u001b[0m\n"
     ]
    },
    {
     "name": "stderr",
     "output_type": "stream",
     "text": [
      "\u001b[90;3m2024-09-12 15:06:46,877 \u001b[0m\u001b[36msats.satellite.Scanner-1       \u001b[0m\u001b[mINFO       \u001b[0m\u001b[33m<15120.00> \u001b[0m\u001b[36mScanner-1: \u001b[0m\u001b[msetting timed terminal event at 15240.0\u001b[0m\n"
     ]
    },
    {
     "name": "stderr",
     "output_type": "stream",
     "text": [
      "\u001b[90;3m2024-09-12 15:06:46,885 \u001b[0m\u001b[36msats.satellite.Scanner-1       \u001b[0m\u001b[mINFO       \u001b[0m\u001b[33m<15240.00> \u001b[0m\u001b[36mScanner-1: \u001b[0m\u001b[mtimed termination at 15240.0 for action_charge\u001b[0m\n"
     ]
    },
    {
     "name": "stderr",
     "output_type": "stream",
     "text": [
      "\u001b[90;3m2024-09-12 15:06:46,885 \u001b[0m\u001b[mdata.base                      \u001b[0m\u001b[mINFO       \u001b[0m\u001b[33m<15240.00> \u001b[0m\u001b[mData reward: {'Scanner-1': 0.0}\u001b[0m\n"
     ]
    },
    {
     "name": "stderr",
     "output_type": "stream",
     "text": [
      "\u001b[90;3m2024-09-12 15:06:46,885 \u001b[0m\u001b[36msats.satellite.Scanner-1       \u001b[0m\u001b[mINFO       \u001b[0m\u001b[33m<15240.00> \u001b[0m\u001b[36mScanner-1: \u001b[0m\u001b[mSatellite Scanner-1 requires retasking\u001b[0m\n"
     ]
    },
    {
     "name": "stderr",
     "output_type": "stream",
     "text": [
      "\u001b[90;3m2024-09-12 15:06:46,886 \u001b[0m\u001b[mgym                            \u001b[0m\u001b[mINFO       \u001b[0m\u001b[33m<15240.00> \u001b[0m\u001b[mStep reward: 0.0\u001b[0m\n"
     ]
    },
    {
     "name": "stderr",
     "output_type": "stream",
     "text": [
      "\u001b[90;3m2024-09-12 15:06:46,886 \u001b[0m\u001b[mgym                            \u001b[0m\u001b[mINFO       \u001b[0m\u001b[33m<15240.00> \u001b[0m\u001b[93;1m=== STARTING STEP ===\u001b[0m\n"
     ]
    },
    {
     "name": "stderr",
     "output_type": "stream",
     "text": [
      "\u001b[90;3m2024-09-12 15:06:46,886 \u001b[0m\u001b[36msats.satellite.Scanner-1       \u001b[0m\u001b[mINFO       \u001b[0m\u001b[33m<15240.00> \u001b[0m\u001b[36mScanner-1: \u001b[0m\u001b[maction_nadir_scan tasked for 180.0 seconds\u001b[0m\n"
     ]
    },
    {
     "name": "stderr",
     "output_type": "stream",
     "text": [
      "\u001b[90;3m2024-09-12 15:06:46,887 \u001b[0m\u001b[36msats.satellite.Scanner-1       \u001b[0m\u001b[mINFO       \u001b[0m\u001b[33m<15240.00> \u001b[0m\u001b[36mScanner-1: \u001b[0m\u001b[msetting timed terminal event at 15420.0\u001b[0m\n"
     ]
    },
    {
     "name": "stderr",
     "output_type": "stream",
     "text": [
      "\u001b[90;3m2024-09-12 15:06:46,898 \u001b[0m\u001b[36msats.satellite.Scanner-1       \u001b[0m\u001b[mINFO       \u001b[0m\u001b[33m<15420.00> \u001b[0m\u001b[36mScanner-1: \u001b[0m\u001b[mtimed termination at 15420.0 for action_nadir_scan\u001b[0m\n"
     ]
    },
    {
     "name": "stderr",
     "output_type": "stream",
     "text": [
      "\u001b[90;3m2024-09-12 15:06:46,899 \u001b[0m\u001b[mdata.base                      \u001b[0m\u001b[mINFO       \u001b[0m\u001b[33m<15420.00> \u001b[0m\u001b[mData reward: {'Scanner-1': 0.00631578947368421}\u001b[0m\n"
     ]
    },
    {
     "name": "stderr",
     "output_type": "stream",
     "text": [
      "\u001b[90;3m2024-09-12 15:06:46,899 \u001b[0m\u001b[36msats.satellite.Scanner-1       \u001b[0m\u001b[mINFO       \u001b[0m\u001b[33m<15420.00> \u001b[0m\u001b[36mScanner-1: \u001b[0m\u001b[mSatellite Scanner-1 requires retasking\u001b[0m\n"
     ]
    },
    {
     "name": "stderr",
     "output_type": "stream",
     "text": [
      "\u001b[90;3m2024-09-12 15:06:46,900 \u001b[0m\u001b[mgym                            \u001b[0m\u001b[mINFO       \u001b[0m\u001b[33m<15420.00> \u001b[0m\u001b[mStep reward: 0.00631578947368421\u001b[0m\n"
     ]
    },
    {
     "name": "stderr",
     "output_type": "stream",
     "text": [
      "\u001b[90;3m2024-09-12 15:06:46,900 \u001b[0m\u001b[mgym                            \u001b[0m\u001b[mINFO       \u001b[0m\u001b[33m<15420.00> \u001b[0m\u001b[93;1m=== STARTING STEP ===\u001b[0m\n"
     ]
    },
    {
     "name": "stderr",
     "output_type": "stream",
     "text": [
      "\u001b[90;3m2024-09-12 15:06:46,901 \u001b[0m\u001b[36msats.satellite.Scanner-1       \u001b[0m\u001b[mINFO       \u001b[0m\u001b[33m<15420.00> \u001b[0m\u001b[36mScanner-1: \u001b[0m\u001b[maction_desat tasked for 60.0 seconds\u001b[0m\n"
     ]
    },
    {
     "name": "stderr",
     "output_type": "stream",
     "text": [
      "\u001b[90;3m2024-09-12 15:06:46,901 \u001b[0m\u001b[36msats.satellite.Scanner-1       \u001b[0m\u001b[mINFO       \u001b[0m\u001b[33m<15420.00> \u001b[0m\u001b[36mScanner-1: \u001b[0m\u001b[msetting timed terminal event at 15480.0\u001b[0m\n"
     ]
    },
    {
     "name": "stderr",
     "output_type": "stream",
     "text": [
      "\u001b[90;3m2024-09-12 15:06:46,905 \u001b[0m\u001b[36msats.satellite.Scanner-1       \u001b[0m\u001b[mINFO       \u001b[0m\u001b[33m<15480.00> \u001b[0m\u001b[36mScanner-1: \u001b[0m\u001b[mtimed termination at 15480.0 for action_desat\u001b[0m\n"
     ]
    },
    {
     "name": "stderr",
     "output_type": "stream",
     "text": [
      "\u001b[90;3m2024-09-12 15:06:46,906 \u001b[0m\u001b[mdata.base                      \u001b[0m\u001b[mINFO       \u001b[0m\u001b[33m<15480.00> \u001b[0m\u001b[mData reward: {'Scanner-1': 0.0}\u001b[0m\n"
     ]
    },
    {
     "name": "stderr",
     "output_type": "stream",
     "text": [
      "\u001b[90;3m2024-09-12 15:06:46,906 \u001b[0m\u001b[36msats.satellite.Scanner-1       \u001b[0m\u001b[mINFO       \u001b[0m\u001b[33m<15480.00> \u001b[0m\u001b[36mScanner-1: \u001b[0m\u001b[mSatellite Scanner-1 requires retasking\u001b[0m\n"
     ]
    },
    {
     "name": "stderr",
     "output_type": "stream",
     "text": [
      "\u001b[90;3m2024-09-12 15:06:46,907 \u001b[0m\u001b[mgym                            \u001b[0m\u001b[mINFO       \u001b[0m\u001b[33m<15480.00> \u001b[0m\u001b[mStep reward: 0.0\u001b[0m\n"
     ]
    },
    {
     "name": "stderr",
     "output_type": "stream",
     "text": [
      "\u001b[90;3m2024-09-12 15:06:46,907 \u001b[0m\u001b[mgym                            \u001b[0m\u001b[mINFO       \u001b[0m\u001b[33m<15480.00> \u001b[0m\u001b[93;1m=== STARTING STEP ===\u001b[0m\n"
     ]
    },
    {
     "name": "stderr",
     "output_type": "stream",
     "text": [
      "\u001b[90;3m2024-09-12 15:06:46,907 \u001b[0m\u001b[36msats.satellite.Scanner-1       \u001b[0m\u001b[mINFO       \u001b[0m\u001b[33m<15480.00> \u001b[0m\u001b[36mScanner-1: \u001b[0m\u001b[maction_nadir_scan tasked for 180.0 seconds\u001b[0m\n"
     ]
    },
    {
     "name": "stderr",
     "output_type": "stream",
     "text": [
      "\u001b[90;3m2024-09-12 15:06:46,908 \u001b[0m\u001b[36msats.satellite.Scanner-1       \u001b[0m\u001b[mINFO       \u001b[0m\u001b[33m<15480.00> \u001b[0m\u001b[36mScanner-1: \u001b[0m\u001b[msetting timed terminal event at 15660.0\u001b[0m\n"
     ]
    },
    {
     "name": "stderr",
     "output_type": "stream",
     "text": [
      "\u001b[90;3m2024-09-12 15:06:46,919 \u001b[0m\u001b[36msats.satellite.Scanner-1       \u001b[0m\u001b[mINFO       \u001b[0m\u001b[33m<15660.00> \u001b[0m\u001b[36mScanner-1: \u001b[0m\u001b[mtimed termination at 15660.0 for action_nadir_scan\u001b[0m\n"
     ]
    },
    {
     "name": "stderr",
     "output_type": "stream",
     "text": [
      "\u001b[90;3m2024-09-12 15:06:46,919 \u001b[0m\u001b[mdata.base                      \u001b[0m\u001b[mINFO       \u001b[0m\u001b[33m<15660.00> \u001b[0m\u001b[mData reward: {'Scanner-1': 0.00487719298245614}\u001b[0m\n"
     ]
    },
    {
     "name": "stderr",
     "output_type": "stream",
     "text": [
      "\u001b[90;3m2024-09-12 15:06:46,919 \u001b[0m\u001b[36msats.satellite.Scanner-1       \u001b[0m\u001b[mINFO       \u001b[0m\u001b[33m<15660.00> \u001b[0m\u001b[36mScanner-1: \u001b[0m\u001b[mSatellite Scanner-1 requires retasking\u001b[0m\n"
     ]
    },
    {
     "name": "stderr",
     "output_type": "stream",
     "text": [
      "\u001b[90;3m2024-09-12 15:06:46,920 \u001b[0m\u001b[mgym                            \u001b[0m\u001b[mINFO       \u001b[0m\u001b[33m<15660.00> \u001b[0m\u001b[mStep reward: 0.00487719298245614\u001b[0m\n"
     ]
    },
    {
     "name": "stderr",
     "output_type": "stream",
     "text": [
      "\u001b[90;3m2024-09-12 15:06:46,921 \u001b[0m\u001b[mgym                            \u001b[0m\u001b[mINFO       \u001b[0m\u001b[33m<15660.00> \u001b[0m\u001b[93;1m=== STARTING STEP ===\u001b[0m\n"
     ]
    },
    {
     "name": "stderr",
     "output_type": "stream",
     "text": [
      "\u001b[90;3m2024-09-12 15:06:46,921 \u001b[0m\u001b[36msats.satellite.Scanner-1       \u001b[0m\u001b[mINFO       \u001b[0m\u001b[33m<15660.00> \u001b[0m\u001b[36mScanner-1: \u001b[0m\u001b[maction_downlink tasked for 60.0 seconds\u001b[0m\n"
     ]
    },
    {
     "name": "stderr",
     "output_type": "stream",
     "text": [
      "\u001b[90;3m2024-09-12 15:06:46,921 \u001b[0m\u001b[36msats.satellite.Scanner-1       \u001b[0m\u001b[mINFO       \u001b[0m\u001b[33m<15660.00> \u001b[0m\u001b[36mScanner-1: \u001b[0m\u001b[msetting timed terminal event at 15720.0\u001b[0m\n"
     ]
    },
    {
     "name": "stderr",
     "output_type": "stream",
     "text": [
      "\u001b[90;3m2024-09-12 15:06:46,925 \u001b[0m\u001b[36msats.satellite.Scanner-1       \u001b[0m\u001b[mINFO       \u001b[0m\u001b[33m<15720.00> \u001b[0m\u001b[36mScanner-1: \u001b[0m\u001b[mtimed termination at 15720.0 for action_downlink\u001b[0m\n"
     ]
    },
    {
     "name": "stderr",
     "output_type": "stream",
     "text": [
      "\u001b[90;3m2024-09-12 15:06:46,925 \u001b[0m\u001b[mdata.base                      \u001b[0m\u001b[mINFO       \u001b[0m\u001b[33m<15720.00> \u001b[0m\u001b[mData reward: {'Scanner-1': 0.0}\u001b[0m\n"
     ]
    },
    {
     "name": "stderr",
     "output_type": "stream",
     "text": [
      "\u001b[90;3m2024-09-12 15:06:46,926 \u001b[0m\u001b[36msats.satellite.Scanner-1       \u001b[0m\u001b[mINFO       \u001b[0m\u001b[33m<15720.00> \u001b[0m\u001b[36mScanner-1: \u001b[0m\u001b[mSatellite Scanner-1 requires retasking\u001b[0m\n"
     ]
    },
    {
     "name": "stderr",
     "output_type": "stream",
     "text": [
      "\u001b[90;3m2024-09-12 15:06:46,926 \u001b[0m\u001b[mgym                            \u001b[0m\u001b[mINFO       \u001b[0m\u001b[33m<15720.00> \u001b[0m\u001b[mStep reward: 0.0\u001b[0m\n"
     ]
    },
    {
     "name": "stderr",
     "output_type": "stream",
     "text": [
      "\u001b[90;3m2024-09-12 15:06:46,927 \u001b[0m\u001b[mgym                            \u001b[0m\u001b[mINFO       \u001b[0m\u001b[33m<15720.00> \u001b[0m\u001b[93;1m=== STARTING STEP ===\u001b[0m\n"
     ]
    },
    {
     "name": "stderr",
     "output_type": "stream",
     "text": [
      "\u001b[90;3m2024-09-12 15:06:46,927 \u001b[0m\u001b[36msats.satellite.Scanner-1       \u001b[0m\u001b[mINFO       \u001b[0m\u001b[33m<15720.00> \u001b[0m\u001b[36mScanner-1: \u001b[0m\u001b[maction_downlink tasked for 60.0 seconds\u001b[0m\n"
     ]
    },
    {
     "name": "stderr",
     "output_type": "stream",
     "text": [
      "\u001b[90;3m2024-09-12 15:06:46,927 \u001b[0m\u001b[36msats.satellite.Scanner-1       \u001b[0m\u001b[mINFO       \u001b[0m\u001b[33m<15720.00> \u001b[0m\u001b[36mScanner-1: \u001b[0m\u001b[msetting timed terminal event at 15780.0\u001b[0m\n"
     ]
    },
    {
     "name": "stderr",
     "output_type": "stream",
     "text": [
      "\u001b[90;3m2024-09-12 15:06:46,931 \u001b[0m\u001b[36msats.satellite.Scanner-1       \u001b[0m\u001b[mINFO       \u001b[0m\u001b[33m<15780.00> \u001b[0m\u001b[36mScanner-1: \u001b[0m\u001b[mtimed termination at 15780.0 for action_downlink\u001b[0m\n"
     ]
    },
    {
     "name": "stderr",
     "output_type": "stream",
     "text": [
      "\u001b[90;3m2024-09-12 15:06:46,931 \u001b[0m\u001b[mdata.base                      \u001b[0m\u001b[mINFO       \u001b[0m\u001b[33m<15780.00> \u001b[0m\u001b[mData reward: {'Scanner-1': 0.0}\u001b[0m\n"
     ]
    },
    {
     "name": "stderr",
     "output_type": "stream",
     "text": [
      "\u001b[90;3m2024-09-12 15:06:46,932 \u001b[0m\u001b[36msats.satellite.Scanner-1       \u001b[0m\u001b[mINFO       \u001b[0m\u001b[33m<15780.00> \u001b[0m\u001b[36mScanner-1: \u001b[0m\u001b[mSatellite Scanner-1 requires retasking\u001b[0m\n"
     ]
    },
    {
     "name": "stderr",
     "output_type": "stream",
     "text": [
      "\u001b[90;3m2024-09-12 15:06:46,932 \u001b[0m\u001b[mgym                            \u001b[0m\u001b[mINFO       \u001b[0m\u001b[33m<15780.00> \u001b[0m\u001b[mStep reward: 0.0\u001b[0m\n"
     ]
    },
    {
     "name": "stderr",
     "output_type": "stream",
     "text": [
      "\u001b[90;3m2024-09-12 15:06:46,933 \u001b[0m\u001b[mgym                            \u001b[0m\u001b[mINFO       \u001b[0m\u001b[33m<15780.00> \u001b[0m\u001b[93;1m=== STARTING STEP ===\u001b[0m\n"
     ]
    },
    {
     "name": "stderr",
     "output_type": "stream",
     "text": [
      "\u001b[90;3m2024-09-12 15:06:46,933 \u001b[0m\u001b[36msats.satellite.Scanner-1       \u001b[0m\u001b[mINFO       \u001b[0m\u001b[33m<15780.00> \u001b[0m\u001b[36mScanner-1: \u001b[0m\u001b[maction_downlink tasked for 60.0 seconds\u001b[0m\n"
     ]
    },
    {
     "name": "stderr",
     "output_type": "stream",
     "text": [
      "\u001b[90;3m2024-09-12 15:06:46,933 \u001b[0m\u001b[36msats.satellite.Scanner-1       \u001b[0m\u001b[mINFO       \u001b[0m\u001b[33m<15780.00> \u001b[0m\u001b[36mScanner-1: \u001b[0m\u001b[msetting timed terminal event at 15840.0\u001b[0m\n"
     ]
    },
    {
     "name": "stderr",
     "output_type": "stream",
     "text": [
      "\u001b[90;3m2024-09-12 15:06:46,937 \u001b[0m\u001b[36msats.satellite.Scanner-1       \u001b[0m\u001b[mINFO       \u001b[0m\u001b[33m<15840.00> \u001b[0m\u001b[36mScanner-1: \u001b[0m\u001b[mtimed termination at 15840.0 for action_downlink\u001b[0m\n"
     ]
    },
    {
     "name": "stderr",
     "output_type": "stream",
     "text": [
      "\u001b[90;3m2024-09-12 15:06:46,937 \u001b[0m\u001b[mdata.base                      \u001b[0m\u001b[mINFO       \u001b[0m\u001b[33m<15840.00> \u001b[0m\u001b[mData reward: {'Scanner-1': 0.0}\u001b[0m\n"
     ]
    },
    {
     "name": "stderr",
     "output_type": "stream",
     "text": [
      "\u001b[90;3m2024-09-12 15:06:46,938 \u001b[0m\u001b[36msats.satellite.Scanner-1       \u001b[0m\u001b[mINFO       \u001b[0m\u001b[33m<15840.00> \u001b[0m\u001b[36mScanner-1: \u001b[0m\u001b[mSatellite Scanner-1 requires retasking\u001b[0m\n"
     ]
    },
    {
     "name": "stderr",
     "output_type": "stream",
     "text": [
      "\u001b[90;3m2024-09-12 15:06:46,938 \u001b[0m\u001b[mgym                            \u001b[0m\u001b[mINFO       \u001b[0m\u001b[33m<15840.00> \u001b[0m\u001b[mStep reward: 0.0\u001b[0m\n"
     ]
    },
    {
     "name": "stderr",
     "output_type": "stream",
     "text": [
      "\u001b[90;3m2024-09-12 15:06:46,939 \u001b[0m\u001b[mgym                            \u001b[0m\u001b[mINFO       \u001b[0m\u001b[33m<15840.00> \u001b[0m\u001b[93;1m=== STARTING STEP ===\u001b[0m\n"
     ]
    },
    {
     "name": "stderr",
     "output_type": "stream",
     "text": [
      "\u001b[90;3m2024-09-12 15:06:46,939 \u001b[0m\u001b[36msats.satellite.Scanner-1       \u001b[0m\u001b[mINFO       \u001b[0m\u001b[33m<15840.00> \u001b[0m\u001b[36mScanner-1: \u001b[0m\u001b[maction_nadir_scan tasked for 180.0 seconds\u001b[0m\n"
     ]
    },
    {
     "name": "stderr",
     "output_type": "stream",
     "text": [
      "\u001b[90;3m2024-09-12 15:06:46,939 \u001b[0m\u001b[36msats.satellite.Scanner-1       \u001b[0m\u001b[mINFO       \u001b[0m\u001b[33m<15840.00> \u001b[0m\u001b[36mScanner-1: \u001b[0m\u001b[msetting timed terminal event at 16020.0\u001b[0m\n"
     ]
    },
    {
     "name": "stderr",
     "output_type": "stream",
     "text": [
      "\u001b[90;3m2024-09-12 15:06:46,949 \u001b[0m\u001b[36msats.satellite.Scanner-1       \u001b[0m\u001b[mINFO       \u001b[0m\u001b[33m<16020.00> \u001b[0m\u001b[36mScanner-1: \u001b[0m\u001b[mtimed termination at 16020.0 for action_nadir_scan\u001b[0m\n"
     ]
    },
    {
     "name": "stderr",
     "output_type": "stream",
     "text": [
      "\u001b[90;3m2024-09-12 15:06:46,950 \u001b[0m\u001b[mdata.base                      \u001b[0m\u001b[mINFO       \u001b[0m\u001b[33m<16020.00> \u001b[0m\u001b[mData reward: {'Scanner-1': 0.004912280701754385}\u001b[0m\n"
     ]
    },
    {
     "name": "stderr",
     "output_type": "stream",
     "text": [
      "\u001b[90;3m2024-09-12 15:06:46,950 \u001b[0m\u001b[36msats.satellite.Scanner-1       \u001b[0m\u001b[mINFO       \u001b[0m\u001b[33m<16020.00> \u001b[0m\u001b[36mScanner-1: \u001b[0m\u001b[mSatellite Scanner-1 requires retasking\u001b[0m\n"
     ]
    },
    {
     "name": "stderr",
     "output_type": "stream",
     "text": [
      "\u001b[90;3m2024-09-12 15:06:46,951 \u001b[0m\u001b[mgym                            \u001b[0m\u001b[mINFO       \u001b[0m\u001b[33m<16020.00> \u001b[0m\u001b[mStep reward: 0.004912280701754385\u001b[0m\n"
     ]
    },
    {
     "name": "stderr",
     "output_type": "stream",
     "text": [
      "\u001b[90;3m2024-09-12 15:06:46,951 \u001b[0m\u001b[mgym                            \u001b[0m\u001b[mINFO       \u001b[0m\u001b[33m<16020.00> \u001b[0m\u001b[93;1m=== STARTING STEP ===\u001b[0m\n"
     ]
    },
    {
     "name": "stderr",
     "output_type": "stream",
     "text": [
      "\u001b[90;3m2024-09-12 15:06:46,951 \u001b[0m\u001b[36msats.satellite.Scanner-1       \u001b[0m\u001b[mINFO       \u001b[0m\u001b[33m<16020.00> \u001b[0m\u001b[36mScanner-1: \u001b[0m\u001b[maction_desat tasked for 60.0 seconds\u001b[0m\n"
     ]
    },
    {
     "name": "stderr",
     "output_type": "stream",
     "text": [
      "\u001b[90;3m2024-09-12 15:06:46,951 \u001b[0m\u001b[36msats.satellite.Scanner-1       \u001b[0m\u001b[mINFO       \u001b[0m\u001b[33m<16020.00> \u001b[0m\u001b[36mScanner-1: \u001b[0m\u001b[msetting timed terminal event at 16080.0\u001b[0m\n"
     ]
    },
    {
     "name": "stderr",
     "output_type": "stream",
     "text": [
      "\u001b[90;3m2024-09-12 15:06:46,955 \u001b[0m\u001b[36msats.satellite.Scanner-1       \u001b[0m\u001b[mINFO       \u001b[0m\u001b[33m<16080.00> \u001b[0m\u001b[36mScanner-1: \u001b[0m\u001b[mtimed termination at 16080.0 for action_desat\u001b[0m\n"
     ]
    },
    {
     "name": "stderr",
     "output_type": "stream",
     "text": [
      "\u001b[90;3m2024-09-12 15:06:46,956 \u001b[0m\u001b[mdata.base                      \u001b[0m\u001b[mINFO       \u001b[0m\u001b[33m<16080.00> \u001b[0m\u001b[mData reward: {'Scanner-1': 0.0}\u001b[0m\n"
     ]
    },
    {
     "name": "stderr",
     "output_type": "stream",
     "text": [
      "\u001b[90;3m2024-09-12 15:06:46,956 \u001b[0m\u001b[36msats.satellite.Scanner-1       \u001b[0m\u001b[mINFO       \u001b[0m\u001b[33m<16080.00> \u001b[0m\u001b[36mScanner-1: \u001b[0m\u001b[mSatellite Scanner-1 requires retasking\u001b[0m\n"
     ]
    },
    {
     "name": "stderr",
     "output_type": "stream",
     "text": [
      "\u001b[90;3m2024-09-12 15:06:46,956 \u001b[0m\u001b[mgym                            \u001b[0m\u001b[mINFO       \u001b[0m\u001b[33m<16080.00> \u001b[0m\u001b[mStep reward: 0.0\u001b[0m\n"
     ]
    },
    {
     "name": "stderr",
     "output_type": "stream",
     "text": [
      "\u001b[90;3m2024-09-12 15:06:46,957 \u001b[0m\u001b[mgym                            \u001b[0m\u001b[mINFO       \u001b[0m\u001b[33m<16080.00> \u001b[0m\u001b[93;1m=== STARTING STEP ===\u001b[0m\n"
     ]
    },
    {
     "name": "stderr",
     "output_type": "stream",
     "text": [
      "\u001b[90;3m2024-09-12 15:06:46,957 \u001b[0m\u001b[36msats.satellite.Scanner-1       \u001b[0m\u001b[mINFO       \u001b[0m\u001b[33m<16080.00> \u001b[0m\u001b[36mScanner-1: \u001b[0m\u001b[maction_downlink tasked for 60.0 seconds\u001b[0m\n"
     ]
    },
    {
     "name": "stderr",
     "output_type": "stream",
     "text": [
      "\u001b[90;3m2024-09-12 15:06:46,957 \u001b[0m\u001b[36msats.satellite.Scanner-1       \u001b[0m\u001b[mINFO       \u001b[0m\u001b[33m<16080.00> \u001b[0m\u001b[36mScanner-1: \u001b[0m\u001b[msetting timed terminal event at 16140.0\u001b[0m\n"
     ]
    },
    {
     "name": "stderr",
     "output_type": "stream",
     "text": [
      "\u001b[90;3m2024-09-12 15:06:46,961 \u001b[0m\u001b[36msats.satellite.Scanner-1       \u001b[0m\u001b[mINFO       \u001b[0m\u001b[33m<16140.00> \u001b[0m\u001b[36mScanner-1: \u001b[0m\u001b[mtimed termination at 16140.0 for action_downlink\u001b[0m\n"
     ]
    },
    {
     "name": "stderr",
     "output_type": "stream",
     "text": [
      "\u001b[90;3m2024-09-12 15:06:46,961 \u001b[0m\u001b[mdata.base                      \u001b[0m\u001b[mINFO       \u001b[0m\u001b[33m<16140.00> \u001b[0m\u001b[mData reward: {'Scanner-1': 0.0}\u001b[0m\n"
     ]
    },
    {
     "name": "stderr",
     "output_type": "stream",
     "text": [
      "\u001b[90;3m2024-09-12 15:06:46,962 \u001b[0m\u001b[36msats.satellite.Scanner-1       \u001b[0m\u001b[mINFO       \u001b[0m\u001b[33m<16140.00> \u001b[0m\u001b[36mScanner-1: \u001b[0m\u001b[mSatellite Scanner-1 requires retasking\u001b[0m\n"
     ]
    },
    {
     "name": "stderr",
     "output_type": "stream",
     "text": [
      "\u001b[90;3m2024-09-12 15:06:46,962 \u001b[0m\u001b[mgym                            \u001b[0m\u001b[mINFO       \u001b[0m\u001b[33m<16140.00> \u001b[0m\u001b[mStep reward: 0.0\u001b[0m\n"
     ]
    },
    {
     "name": "stderr",
     "output_type": "stream",
     "text": [
      "\u001b[90;3m2024-09-12 15:06:46,963 \u001b[0m\u001b[mgym                            \u001b[0m\u001b[mINFO       \u001b[0m\u001b[33m<16140.00> \u001b[0m\u001b[93;1m=== STARTING STEP ===\u001b[0m\n"
     ]
    },
    {
     "name": "stderr",
     "output_type": "stream",
     "text": [
      "\u001b[90;3m2024-09-12 15:06:46,963 \u001b[0m\u001b[36msats.satellite.Scanner-1       \u001b[0m\u001b[mINFO       \u001b[0m\u001b[33m<16140.00> \u001b[0m\u001b[36mScanner-1: \u001b[0m\u001b[maction_nadir_scan tasked for 180.0 seconds\u001b[0m\n"
     ]
    },
    {
     "name": "stderr",
     "output_type": "stream",
     "text": [
      "\u001b[90;3m2024-09-12 15:06:46,963 \u001b[0m\u001b[36msats.satellite.Scanner-1       \u001b[0m\u001b[mINFO       \u001b[0m\u001b[33m<16140.00> \u001b[0m\u001b[36mScanner-1: \u001b[0m\u001b[msetting timed terminal event at 16320.0\u001b[0m\n"
     ]
    },
    {
     "name": "stderr",
     "output_type": "stream",
     "text": [
      "\u001b[90;3m2024-09-12 15:06:46,973 \u001b[0m\u001b[36msats.satellite.Scanner-1       \u001b[0m\u001b[mINFO       \u001b[0m\u001b[33m<16320.00> \u001b[0m\u001b[36mScanner-1: \u001b[0m\u001b[mtimed termination at 16320.0 for action_nadir_scan\u001b[0m\n"
     ]
    },
    {
     "name": "stderr",
     "output_type": "stream",
     "text": [
      "\u001b[90;3m2024-09-12 15:06:46,974 \u001b[0m\u001b[mdata.base                      \u001b[0m\u001b[mINFO       \u001b[0m\u001b[33m<16320.00> \u001b[0m\u001b[mData reward: {'Scanner-1': 0.004912280701754385}\u001b[0m\n"
     ]
    },
    {
     "name": "stderr",
     "output_type": "stream",
     "text": [
      "\u001b[90;3m2024-09-12 15:06:46,974 \u001b[0m\u001b[36msats.satellite.Scanner-1       \u001b[0m\u001b[mINFO       \u001b[0m\u001b[33m<16320.00> \u001b[0m\u001b[36mScanner-1: \u001b[0m\u001b[mSatellite Scanner-1 requires retasking\u001b[0m\n"
     ]
    },
    {
     "name": "stderr",
     "output_type": "stream",
     "text": [
      "\u001b[90;3m2024-09-12 15:06:46,975 \u001b[0m\u001b[mgym                            \u001b[0m\u001b[mINFO       \u001b[0m\u001b[33m<16320.00> \u001b[0m\u001b[mStep reward: 0.004912280701754385\u001b[0m\n"
     ]
    },
    {
     "name": "stderr",
     "output_type": "stream",
     "text": [
      "\u001b[90;3m2024-09-12 15:06:46,975 \u001b[0m\u001b[mgym                            \u001b[0m\u001b[mINFO       \u001b[0m\u001b[33m<16320.00> \u001b[0m\u001b[93;1m=== STARTING STEP ===\u001b[0m\n"
     ]
    },
    {
     "name": "stderr",
     "output_type": "stream",
     "text": [
      "\u001b[90;3m2024-09-12 15:06:46,975 \u001b[0m\u001b[36msats.satellite.Scanner-1       \u001b[0m\u001b[mINFO       \u001b[0m\u001b[33m<16320.00> \u001b[0m\u001b[36mScanner-1: \u001b[0m\u001b[maction_nadir_scan tasked for 180.0 seconds\u001b[0m\n"
     ]
    },
    {
     "name": "stderr",
     "output_type": "stream",
     "text": [
      "\u001b[90;3m2024-09-12 15:06:46,975 \u001b[0m\u001b[36msats.satellite.Scanner-1       \u001b[0m\u001b[mINFO       \u001b[0m\u001b[33m<16320.00> \u001b[0m\u001b[36mScanner-1: \u001b[0m\u001b[msetting timed terminal event at 16500.0\u001b[0m\n"
     ]
    },
    {
     "name": "stderr",
     "output_type": "stream",
     "text": [
      "\u001b[90;3m2024-09-12 15:06:46,985 \u001b[0m\u001b[36msats.satellite.Scanner-1       \u001b[0m\u001b[mINFO       \u001b[0m\u001b[33m<16500.00> \u001b[0m\u001b[36mScanner-1: \u001b[0m\u001b[mtimed termination at 16500.0 for action_nadir_scan\u001b[0m\n"
     ]
    },
    {
     "name": "stderr",
     "output_type": "stream",
     "text": [
      "\u001b[90;3m2024-09-12 15:06:46,986 \u001b[0m\u001b[mdata.base                      \u001b[0m\u001b[mINFO       \u001b[0m\u001b[33m<16500.00> \u001b[0m\u001b[mData reward: {'Scanner-1': 0.00631578947368421}\u001b[0m\n"
     ]
    },
    {
     "name": "stderr",
     "output_type": "stream",
     "text": [
      "\u001b[90;3m2024-09-12 15:06:46,986 \u001b[0m\u001b[36msats.satellite.Scanner-1       \u001b[0m\u001b[mINFO       \u001b[0m\u001b[33m<16500.00> \u001b[0m\u001b[36mScanner-1: \u001b[0m\u001b[mSatellite Scanner-1 requires retasking\u001b[0m\n"
     ]
    },
    {
     "name": "stderr",
     "output_type": "stream",
     "text": [
      "\u001b[90;3m2024-09-12 15:06:46,987 \u001b[0m\u001b[mgym                            \u001b[0m\u001b[mINFO       \u001b[0m\u001b[33m<16500.00> \u001b[0m\u001b[mStep reward: 0.00631578947368421\u001b[0m\n"
     ]
    },
    {
     "name": "stderr",
     "output_type": "stream",
     "text": [
      "\u001b[90;3m2024-09-12 15:06:46,987 \u001b[0m\u001b[mgym                            \u001b[0m\u001b[mINFO       \u001b[0m\u001b[33m<16500.00> \u001b[0m\u001b[93;1m=== STARTING STEP ===\u001b[0m\n"
     ]
    },
    {
     "name": "stderr",
     "output_type": "stream",
     "text": [
      "\u001b[90;3m2024-09-12 15:06:46,987 \u001b[0m\u001b[36msats.satellite.Scanner-1       \u001b[0m\u001b[mINFO       \u001b[0m\u001b[33m<16500.00> \u001b[0m\u001b[36mScanner-1: \u001b[0m\u001b[maction_nadir_scan tasked for 180.0 seconds\u001b[0m\n"
     ]
    },
    {
     "name": "stderr",
     "output_type": "stream",
     "text": [
      "\u001b[90;3m2024-09-12 15:06:46,987 \u001b[0m\u001b[36msats.satellite.Scanner-1       \u001b[0m\u001b[mINFO       \u001b[0m\u001b[33m<16500.00> \u001b[0m\u001b[36mScanner-1: \u001b[0m\u001b[msetting timed terminal event at 16680.0\u001b[0m\n"
     ]
    },
    {
     "name": "stderr",
     "output_type": "stream",
     "text": [
      "\u001b[90;3m2024-09-12 15:06:46,998 \u001b[0m\u001b[36msats.satellite.Scanner-1       \u001b[0m\u001b[mINFO       \u001b[0m\u001b[33m<16680.00> \u001b[0m\u001b[36mScanner-1: \u001b[0m\u001b[mtimed termination at 16680.0 for action_nadir_scan\u001b[0m\n"
     ]
    },
    {
     "name": "stderr",
     "output_type": "stream",
     "text": [
      "\u001b[90;3m2024-09-12 15:06:46,998 \u001b[0m\u001b[mdata.base                      \u001b[0m\u001b[mINFO       \u001b[0m\u001b[33m<16680.00> \u001b[0m\u001b[mData reward: {'Scanner-1': 0.00631578947368421}\u001b[0m\n"
     ]
    },
    {
     "name": "stderr",
     "output_type": "stream",
     "text": [
      "\u001b[90;3m2024-09-12 15:06:46,999 \u001b[0m\u001b[36msats.satellite.Scanner-1       \u001b[0m\u001b[mINFO       \u001b[0m\u001b[33m<16680.00> \u001b[0m\u001b[36mScanner-1: \u001b[0m\u001b[mSatellite Scanner-1 requires retasking\u001b[0m\n"
     ]
    },
    {
     "name": "stderr",
     "output_type": "stream",
     "text": [
      "\u001b[90;3m2024-09-12 15:06:46,999 \u001b[0m\u001b[mgym                            \u001b[0m\u001b[mINFO       \u001b[0m\u001b[33m<16680.00> \u001b[0m\u001b[mStep reward: 0.00631578947368421\u001b[0m\n"
     ]
    },
    {
     "name": "stderr",
     "output_type": "stream",
     "text": [
      "\u001b[90;3m2024-09-12 15:06:47,000 \u001b[0m\u001b[mgym                            \u001b[0m\u001b[mINFO       \u001b[0m\u001b[33m<16680.00> \u001b[0m\u001b[93;1m=== STARTING STEP ===\u001b[0m\n"
     ]
    },
    {
     "name": "stderr",
     "output_type": "stream",
     "text": [
      "\u001b[90;3m2024-09-12 15:06:47,000 \u001b[0m\u001b[36msats.satellite.Scanner-1       \u001b[0m\u001b[mINFO       \u001b[0m\u001b[33m<16680.00> \u001b[0m\u001b[36mScanner-1: \u001b[0m\u001b[maction_downlink tasked for 60.0 seconds\u001b[0m\n"
     ]
    },
    {
     "name": "stderr",
     "output_type": "stream",
     "text": [
      "\u001b[90;3m2024-09-12 15:06:47,000 \u001b[0m\u001b[36msats.satellite.Scanner-1       \u001b[0m\u001b[mINFO       \u001b[0m\u001b[33m<16680.00> \u001b[0m\u001b[36mScanner-1: \u001b[0m\u001b[msetting timed terminal event at 16740.0\u001b[0m\n"
     ]
    },
    {
     "name": "stderr",
     "output_type": "stream",
     "text": [
      "\u001b[90;3m2024-09-12 15:06:47,004 \u001b[0m\u001b[36msats.satellite.Scanner-1       \u001b[0m\u001b[mINFO       \u001b[0m\u001b[33m<16740.00> \u001b[0m\u001b[36mScanner-1: \u001b[0m\u001b[mtimed termination at 16740.0 for action_downlink\u001b[0m\n"
     ]
    },
    {
     "name": "stderr",
     "output_type": "stream",
     "text": [
      "\u001b[90;3m2024-09-12 15:06:47,004 \u001b[0m\u001b[mdata.base                      \u001b[0m\u001b[mINFO       \u001b[0m\u001b[33m<16740.00> \u001b[0m\u001b[mData reward: {'Scanner-1': 0.0}\u001b[0m\n"
     ]
    },
    {
     "name": "stderr",
     "output_type": "stream",
     "text": [
      "\u001b[90;3m2024-09-12 15:06:47,004 \u001b[0m\u001b[36msats.satellite.Scanner-1       \u001b[0m\u001b[mINFO       \u001b[0m\u001b[33m<16740.00> \u001b[0m\u001b[36mScanner-1: \u001b[0m\u001b[mSatellite Scanner-1 requires retasking\u001b[0m\n"
     ]
    },
    {
     "name": "stderr",
     "output_type": "stream",
     "text": [
      "\u001b[90;3m2024-09-12 15:06:47,005 \u001b[0m\u001b[mgym                            \u001b[0m\u001b[mINFO       \u001b[0m\u001b[33m<16740.00> \u001b[0m\u001b[mStep reward: 0.0\u001b[0m\n"
     ]
    },
    {
     "name": "stderr",
     "output_type": "stream",
     "text": [
      "\u001b[90;3m2024-09-12 15:06:47,005 \u001b[0m\u001b[mgym                            \u001b[0m\u001b[mINFO       \u001b[0m\u001b[33m<16740.00> \u001b[0m\u001b[93;1m=== STARTING STEP ===\u001b[0m\n"
     ]
    },
    {
     "name": "stderr",
     "output_type": "stream",
     "text": [
      "\u001b[90;3m2024-09-12 15:06:47,006 \u001b[0m\u001b[36msats.satellite.Scanner-1       \u001b[0m\u001b[mINFO       \u001b[0m\u001b[33m<16740.00> \u001b[0m\u001b[36mScanner-1: \u001b[0m\u001b[maction_nadir_scan tasked for 180.0 seconds\u001b[0m\n"
     ]
    },
    {
     "name": "stderr",
     "output_type": "stream",
     "text": [
      "\u001b[90;3m2024-09-12 15:06:47,006 \u001b[0m\u001b[36msats.satellite.Scanner-1       \u001b[0m\u001b[mINFO       \u001b[0m\u001b[33m<16740.00> \u001b[0m\u001b[36mScanner-1: \u001b[0m\u001b[msetting timed terminal event at 16920.0\u001b[0m\n"
     ]
    },
    {
     "name": "stderr",
     "output_type": "stream",
     "text": [
      "\u001b[90;3m2024-09-12 15:06:47,017 \u001b[0m\u001b[36msats.satellite.Scanner-1       \u001b[0m\u001b[mINFO       \u001b[0m\u001b[33m<16920.00> \u001b[0m\u001b[36mScanner-1: \u001b[0m\u001b[mtimed termination at 16920.0 for action_nadir_scan\u001b[0m\n"
     ]
    },
    {
     "name": "stderr",
     "output_type": "stream",
     "text": [
      "\u001b[90;3m2024-09-12 15:06:47,018 \u001b[0m\u001b[mdata.base                      \u001b[0m\u001b[mINFO       \u001b[0m\u001b[33m<16920.00> \u001b[0m\u001b[mData reward: {'Scanner-1': 0.00487719298245614}\u001b[0m\n"
     ]
    },
    {
     "name": "stderr",
     "output_type": "stream",
     "text": [
      "\u001b[90;3m2024-09-12 15:06:47,018 \u001b[0m\u001b[36msats.satellite.Scanner-1       \u001b[0m\u001b[mINFO       \u001b[0m\u001b[33m<16920.00> \u001b[0m\u001b[36mScanner-1: \u001b[0m\u001b[mSatellite Scanner-1 requires retasking\u001b[0m\n"
     ]
    },
    {
     "name": "stderr",
     "output_type": "stream",
     "text": [
      "\u001b[90;3m2024-09-12 15:06:47,019 \u001b[0m\u001b[mgym                            \u001b[0m\u001b[mINFO       \u001b[0m\u001b[33m<16920.00> \u001b[0m\u001b[mStep reward: 0.00487719298245614\u001b[0m\n"
     ]
    },
    {
     "name": "stderr",
     "output_type": "stream",
     "text": [
      "\u001b[90;3m2024-09-12 15:06:47,019 \u001b[0m\u001b[mgym                            \u001b[0m\u001b[mINFO       \u001b[0m\u001b[33m<16920.00> \u001b[0m\u001b[93;1m=== STARTING STEP ===\u001b[0m\n"
     ]
    },
    {
     "name": "stderr",
     "output_type": "stream",
     "text": [
      "\u001b[90;3m2024-09-12 15:06:47,019 \u001b[0m\u001b[36msats.satellite.Scanner-1       \u001b[0m\u001b[mINFO       \u001b[0m\u001b[33m<16920.00> \u001b[0m\u001b[36mScanner-1: \u001b[0m\u001b[maction_charge tasked for 120.0 seconds\u001b[0m\n"
     ]
    },
    {
     "name": "stderr",
     "output_type": "stream",
     "text": [
      "\u001b[90;3m2024-09-12 15:06:47,019 \u001b[0m\u001b[36msats.satellite.Scanner-1       \u001b[0m\u001b[mINFO       \u001b[0m\u001b[33m<16920.00> \u001b[0m\u001b[36mScanner-1: \u001b[0m\u001b[msetting timed terminal event at 17040.0\u001b[0m\n"
     ]
    },
    {
     "name": "stderr",
     "output_type": "stream",
     "text": [
      "\u001b[90;3m2024-09-12 15:06:47,027 \u001b[0m\u001b[36msats.satellite.Scanner-1       \u001b[0m\u001b[mINFO       \u001b[0m\u001b[33m<17040.00> \u001b[0m\u001b[36mScanner-1: \u001b[0m\u001b[mtimed termination at 17040.0 for action_charge\u001b[0m\n"
     ]
    },
    {
     "name": "stderr",
     "output_type": "stream",
     "text": [
      "\u001b[90;3m2024-09-12 15:06:47,027 \u001b[0m\u001b[mdata.base                      \u001b[0m\u001b[mINFO       \u001b[0m\u001b[33m<17040.00> \u001b[0m\u001b[mData reward: {'Scanner-1': 0.0}\u001b[0m\n"
     ]
    },
    {
     "name": "stderr",
     "output_type": "stream",
     "text": [
      "\u001b[90;3m2024-09-12 15:06:47,027 \u001b[0m\u001b[36msats.satellite.Scanner-1       \u001b[0m\u001b[mINFO       \u001b[0m\u001b[33m<17040.00> \u001b[0m\u001b[36mScanner-1: \u001b[0m\u001b[mSatellite Scanner-1 requires retasking\u001b[0m\n"
     ]
    },
    {
     "name": "stderr",
     "output_type": "stream",
     "text": [
      "\u001b[90;3m2024-09-12 15:06:47,028 \u001b[0m\u001b[mgym                            \u001b[0m\u001b[mINFO       \u001b[0m\u001b[33m<17040.00> \u001b[0m\u001b[mStep reward: 0.0\u001b[0m\n"
     ]
    },
    {
     "name": "stderr",
     "output_type": "stream",
     "text": [
      "\u001b[90;3m2024-09-12 15:06:47,029 \u001b[0m\u001b[mgym                            \u001b[0m\u001b[mINFO       \u001b[0m\u001b[33m<17040.00> \u001b[0m\u001b[93;1m=== STARTING STEP ===\u001b[0m\n"
     ]
    },
    {
     "name": "stderr",
     "output_type": "stream",
     "text": [
      "\u001b[90;3m2024-09-12 15:06:47,029 \u001b[0m\u001b[36msats.satellite.Scanner-1       \u001b[0m\u001b[mINFO       \u001b[0m\u001b[33m<17040.00> \u001b[0m\u001b[36mScanner-1: \u001b[0m\u001b[maction_charge tasked for 120.0 seconds\u001b[0m\n"
     ]
    },
    {
     "name": "stderr",
     "output_type": "stream",
     "text": [
      "\u001b[90;3m2024-09-12 15:06:47,029 \u001b[0m\u001b[36msats.satellite.Scanner-1       \u001b[0m\u001b[mINFO       \u001b[0m\u001b[33m<17040.00> \u001b[0m\u001b[36mScanner-1: \u001b[0m\u001b[msetting timed terminal event at 17160.0\u001b[0m\n"
     ]
    },
    {
     "name": "stderr",
     "output_type": "stream",
     "text": [
      "\u001b[90;3m2024-09-12 15:06:47,037 \u001b[0m\u001b[36msats.satellite.Scanner-1       \u001b[0m\u001b[mINFO       \u001b[0m\u001b[33m<17160.00> \u001b[0m\u001b[36mScanner-1: \u001b[0m\u001b[mtimed termination at 17160.0 for action_charge\u001b[0m\n"
     ]
    },
    {
     "name": "stderr",
     "output_type": "stream",
     "text": [
      "\u001b[90;3m2024-09-12 15:06:47,038 \u001b[0m\u001b[mdata.base                      \u001b[0m\u001b[mINFO       \u001b[0m\u001b[33m<17160.00> \u001b[0m\u001b[mData reward: {'Scanner-1': 0.0}\u001b[0m\n"
     ]
    },
    {
     "name": "stderr",
     "output_type": "stream",
     "text": [
      "\u001b[90;3m2024-09-12 15:06:47,038 \u001b[0m\u001b[36msats.satellite.Scanner-1       \u001b[0m\u001b[mINFO       \u001b[0m\u001b[33m<17160.00> \u001b[0m\u001b[36mScanner-1: \u001b[0m\u001b[mSatellite Scanner-1 requires retasking\u001b[0m\n"
     ]
    },
    {
     "name": "stderr",
     "output_type": "stream",
     "text": [
      "\u001b[90;3m2024-09-12 15:06:47,039 \u001b[0m\u001b[mgym                            \u001b[0m\u001b[mINFO       \u001b[0m\u001b[33m<17160.00> \u001b[0m\u001b[mStep reward: 0.0\u001b[0m\n"
     ]
    },
    {
     "name": "stderr",
     "output_type": "stream",
     "text": [
      "\u001b[90;3m2024-09-12 15:06:47,039 \u001b[0m\u001b[mgym                            \u001b[0m\u001b[mINFO       \u001b[0m\u001b[33m<17160.00> \u001b[0m\u001b[93;1m=== STARTING STEP ===\u001b[0m\n"
     ]
    },
    {
     "name": "stderr",
     "output_type": "stream",
     "text": [
      "\u001b[90;3m2024-09-12 15:06:47,039 \u001b[0m\u001b[36msats.satellite.Scanner-1       \u001b[0m\u001b[mINFO       \u001b[0m\u001b[33m<17160.00> \u001b[0m\u001b[36mScanner-1: \u001b[0m\u001b[maction_charge tasked for 120.0 seconds\u001b[0m\n"
     ]
    },
    {
     "name": "stderr",
     "output_type": "stream",
     "text": [
      "\u001b[90;3m2024-09-12 15:06:47,039 \u001b[0m\u001b[36msats.satellite.Scanner-1       \u001b[0m\u001b[mINFO       \u001b[0m\u001b[33m<17160.00> \u001b[0m\u001b[36mScanner-1: \u001b[0m\u001b[msetting timed terminal event at 17280.0\u001b[0m\n"
     ]
    },
    {
     "name": "stderr",
     "output_type": "stream",
     "text": [
      "\u001b[90;3m2024-09-12 15:06:47,047 \u001b[0m\u001b[36msats.satellite.Scanner-1       \u001b[0m\u001b[mINFO       \u001b[0m\u001b[33m<17280.00> \u001b[0m\u001b[36mScanner-1: \u001b[0m\u001b[mtimed termination at 17280.0 for action_charge\u001b[0m\n"
     ]
    },
    {
     "name": "stderr",
     "output_type": "stream",
     "text": [
      "\u001b[90;3m2024-09-12 15:06:47,047 \u001b[0m\u001b[mdata.base                      \u001b[0m\u001b[mINFO       \u001b[0m\u001b[33m<17280.00> \u001b[0m\u001b[mData reward: {'Scanner-1': 0.0}\u001b[0m\n"
     ]
    },
    {
     "name": "stderr",
     "output_type": "stream",
     "text": [
      "\u001b[90;3m2024-09-12 15:06:47,047 \u001b[0m\u001b[36msats.satellite.Scanner-1       \u001b[0m\u001b[mINFO       \u001b[0m\u001b[33m<17280.00> \u001b[0m\u001b[36mScanner-1: \u001b[0m\u001b[mSatellite Scanner-1 requires retasking\u001b[0m\n"
     ]
    },
    {
     "name": "stderr",
     "output_type": "stream",
     "text": [
      "\u001b[90;3m2024-09-12 15:06:47,048 \u001b[0m\u001b[mgym                            \u001b[0m\u001b[mINFO       \u001b[0m\u001b[33m<17280.00> \u001b[0m\u001b[mStep reward: 0.0\u001b[0m\n"
     ]
    },
    {
     "name": "stderr",
     "output_type": "stream",
     "text": [
      "\u001b[90;3m2024-09-12 15:06:47,048 \u001b[0m\u001b[mgym                            \u001b[0m\u001b[mINFO       \u001b[0m\u001b[33m<17280.00> \u001b[0m\u001b[93;1m=== STARTING STEP ===\u001b[0m\n"
     ]
    },
    {
     "name": "stderr",
     "output_type": "stream",
     "text": [
      "\u001b[90;3m2024-09-12 15:06:47,049 \u001b[0m\u001b[36msats.satellite.Scanner-1       \u001b[0m\u001b[mINFO       \u001b[0m\u001b[33m<17280.00> \u001b[0m\u001b[36mScanner-1: \u001b[0m\u001b[maction_desat tasked for 60.0 seconds\u001b[0m\n"
     ]
    },
    {
     "name": "stderr",
     "output_type": "stream",
     "text": [
      "\u001b[90;3m2024-09-12 15:06:47,049 \u001b[0m\u001b[36msats.satellite.Scanner-1       \u001b[0m\u001b[mINFO       \u001b[0m\u001b[33m<17280.00> \u001b[0m\u001b[36mScanner-1: \u001b[0m\u001b[msetting timed terminal event at 17340.0\u001b[0m\n"
     ]
    },
    {
     "name": "stderr",
     "output_type": "stream",
     "text": [
      "\u001b[90;3m2024-09-12 15:06:47,053 \u001b[0m\u001b[36msats.satellite.Scanner-1       \u001b[0m\u001b[mINFO       \u001b[0m\u001b[33m<17340.00> \u001b[0m\u001b[36mScanner-1: \u001b[0m\u001b[mtimed termination at 17340.0 for action_desat\u001b[0m\n"
     ]
    },
    {
     "name": "stderr",
     "output_type": "stream",
     "text": [
      "\u001b[90;3m2024-09-12 15:06:47,053 \u001b[0m\u001b[mdata.base                      \u001b[0m\u001b[mINFO       \u001b[0m\u001b[33m<17340.00> \u001b[0m\u001b[mData reward: {'Scanner-1': 0.0}\u001b[0m\n"
     ]
    },
    {
     "name": "stderr",
     "output_type": "stream",
     "text": [
      "\u001b[90;3m2024-09-12 15:06:47,053 \u001b[0m\u001b[36msats.satellite.Scanner-1       \u001b[0m\u001b[mINFO       \u001b[0m\u001b[33m<17340.00> \u001b[0m\u001b[36mScanner-1: \u001b[0m\u001b[mSatellite Scanner-1 requires retasking\u001b[0m\n"
     ]
    },
    {
     "name": "stderr",
     "output_type": "stream",
     "text": [
      "\u001b[90;3m2024-09-12 15:06:47,054 \u001b[0m\u001b[mgym                            \u001b[0m\u001b[mINFO       \u001b[0m\u001b[33m<17340.00> \u001b[0m\u001b[mStep reward: 0.0\u001b[0m\n"
     ]
    },
    {
     "name": "stderr",
     "output_type": "stream",
     "text": [
      "\u001b[90;3m2024-09-12 15:06:47,055 \u001b[0m\u001b[mgym                            \u001b[0m\u001b[mINFO       \u001b[0m\u001b[33m<17340.00> \u001b[0m\u001b[93;1m=== STARTING STEP ===\u001b[0m\n"
     ]
    },
    {
     "name": "stderr",
     "output_type": "stream",
     "text": [
      "\u001b[90;3m2024-09-12 15:06:47,055 \u001b[0m\u001b[36msats.satellite.Scanner-1       \u001b[0m\u001b[mINFO       \u001b[0m\u001b[33m<17340.00> \u001b[0m\u001b[36mScanner-1: \u001b[0m\u001b[maction_downlink tasked for 60.0 seconds\u001b[0m\n"
     ]
    },
    {
     "name": "stderr",
     "output_type": "stream",
     "text": [
      "\u001b[90;3m2024-09-12 15:06:47,055 \u001b[0m\u001b[36msats.satellite.Scanner-1       \u001b[0m\u001b[mINFO       \u001b[0m\u001b[33m<17340.00> \u001b[0m\u001b[36mScanner-1: \u001b[0m\u001b[msetting timed terminal event at 17400.0\u001b[0m\n"
     ]
    },
    {
     "name": "stderr",
     "output_type": "stream",
     "text": [
      "\u001b[90;3m2024-09-12 15:06:47,059 \u001b[0m\u001b[36msats.satellite.Scanner-1       \u001b[0m\u001b[mINFO       \u001b[0m\u001b[33m<17400.00> \u001b[0m\u001b[36mScanner-1: \u001b[0m\u001b[mtimed termination at 17400.0 for action_downlink\u001b[0m\n"
     ]
    },
    {
     "name": "stderr",
     "output_type": "stream",
     "text": [
      "\u001b[90;3m2024-09-12 15:06:47,059 \u001b[0m\u001b[mdata.base                      \u001b[0m\u001b[mINFO       \u001b[0m\u001b[33m<17400.00> \u001b[0m\u001b[mData reward: {'Scanner-1': 0.0}\u001b[0m\n"
     ]
    },
    {
     "name": "stderr",
     "output_type": "stream",
     "text": [
      "\u001b[90;3m2024-09-12 15:06:47,060 \u001b[0m\u001b[36msats.satellite.Scanner-1       \u001b[0m\u001b[mINFO       \u001b[0m\u001b[33m<17400.00> \u001b[0m\u001b[36mScanner-1: \u001b[0m\u001b[mSatellite Scanner-1 requires retasking\u001b[0m\n"
     ]
    },
    {
     "name": "stderr",
     "output_type": "stream",
     "text": [
      "\u001b[90;3m2024-09-12 15:06:47,060 \u001b[0m\u001b[mgym                            \u001b[0m\u001b[mINFO       \u001b[0m\u001b[33m<17400.00> \u001b[0m\u001b[mStep reward: 0.0\u001b[0m\n"
     ]
    },
    {
     "name": "stderr",
     "output_type": "stream",
     "text": [
      "\u001b[90;3m2024-09-12 15:06:47,061 \u001b[0m\u001b[mgym                            \u001b[0m\u001b[mINFO       \u001b[0m\u001b[33m<17400.00> \u001b[0m\u001b[93;1m=== STARTING STEP ===\u001b[0m\n"
     ]
    },
    {
     "name": "stderr",
     "output_type": "stream",
     "text": [
      "\u001b[90;3m2024-09-12 15:06:47,061 \u001b[0m\u001b[36msats.satellite.Scanner-1       \u001b[0m\u001b[mINFO       \u001b[0m\u001b[33m<17400.00> \u001b[0m\u001b[36mScanner-1: \u001b[0m\u001b[maction_desat tasked for 60.0 seconds\u001b[0m\n"
     ]
    },
    {
     "name": "stderr",
     "output_type": "stream",
     "text": [
      "\u001b[90;3m2024-09-12 15:06:47,061 \u001b[0m\u001b[36msats.satellite.Scanner-1       \u001b[0m\u001b[mINFO       \u001b[0m\u001b[33m<17400.00> \u001b[0m\u001b[36mScanner-1: \u001b[0m\u001b[msetting timed terminal event at 17460.0\u001b[0m\n"
     ]
    },
    {
     "name": "stderr",
     "output_type": "stream",
     "text": [
      "\u001b[90;3m2024-09-12 15:06:47,065 \u001b[0m\u001b[36msats.satellite.Scanner-1       \u001b[0m\u001b[mINFO       \u001b[0m\u001b[33m<17460.00> \u001b[0m\u001b[36mScanner-1: \u001b[0m\u001b[mtimed termination at 17460.0 for action_desat\u001b[0m\n"
     ]
    },
    {
     "name": "stderr",
     "output_type": "stream",
     "text": [
      "\u001b[90;3m2024-09-12 15:06:47,066 \u001b[0m\u001b[mdata.base                      \u001b[0m\u001b[mINFO       \u001b[0m\u001b[33m<17460.00> \u001b[0m\u001b[mData reward: {'Scanner-1': 0.0}\u001b[0m\n"
     ]
    },
    {
     "name": "stderr",
     "output_type": "stream",
     "text": [
      "\u001b[90;3m2024-09-12 15:06:47,066 \u001b[0m\u001b[36msats.satellite.Scanner-1       \u001b[0m\u001b[mINFO       \u001b[0m\u001b[33m<17460.00> \u001b[0m\u001b[36mScanner-1: \u001b[0m\u001b[mSatellite Scanner-1 requires retasking\u001b[0m\n"
     ]
    },
    {
     "name": "stderr",
     "output_type": "stream",
     "text": [
      "\u001b[90;3m2024-09-12 15:06:47,067 \u001b[0m\u001b[mgym                            \u001b[0m\u001b[mINFO       \u001b[0m\u001b[33m<17460.00> \u001b[0m\u001b[mStep reward: 0.0\u001b[0m\n"
     ]
    },
    {
     "name": "stderr",
     "output_type": "stream",
     "text": [
      "\u001b[90;3m2024-09-12 15:06:47,067 \u001b[0m\u001b[mgym                            \u001b[0m\u001b[mINFO       \u001b[0m\u001b[33m<17460.00> \u001b[0m\u001b[93;1m=== STARTING STEP ===\u001b[0m\n"
     ]
    },
    {
     "name": "stderr",
     "output_type": "stream",
     "text": [
      "\u001b[90;3m2024-09-12 15:06:47,067 \u001b[0m\u001b[36msats.satellite.Scanner-1       \u001b[0m\u001b[mINFO       \u001b[0m\u001b[33m<17460.00> \u001b[0m\u001b[36mScanner-1: \u001b[0m\u001b[maction_charge tasked for 120.0 seconds\u001b[0m\n"
     ]
    },
    {
     "name": "stderr",
     "output_type": "stream",
     "text": [
      "\u001b[90;3m2024-09-12 15:06:47,067 \u001b[0m\u001b[36msats.satellite.Scanner-1       \u001b[0m\u001b[mINFO       \u001b[0m\u001b[33m<17460.00> \u001b[0m\u001b[36mScanner-1: \u001b[0m\u001b[msetting timed terminal event at 17580.0\u001b[0m\n"
     ]
    },
    {
     "name": "stderr",
     "output_type": "stream",
     "text": [
      "\u001b[90;3m2024-09-12 15:06:47,074 \u001b[0m\u001b[36msats.satellite.Scanner-1       \u001b[0m\u001b[mINFO       \u001b[0m\u001b[33m<17580.00> \u001b[0m\u001b[36mScanner-1: \u001b[0m\u001b[mtimed termination at 17580.0 for action_charge\u001b[0m\n"
     ]
    },
    {
     "name": "stderr",
     "output_type": "stream",
     "text": [
      "\u001b[90;3m2024-09-12 15:06:47,074 \u001b[0m\u001b[mdata.base                      \u001b[0m\u001b[mINFO       \u001b[0m\u001b[33m<17580.00> \u001b[0m\u001b[mData reward: {'Scanner-1': 0.0}\u001b[0m\n"
     ]
    },
    {
     "name": "stderr",
     "output_type": "stream",
     "text": [
      "\u001b[90;3m2024-09-12 15:06:47,074 \u001b[0m\u001b[36msats.satellite.Scanner-1       \u001b[0m\u001b[mINFO       \u001b[0m\u001b[33m<17580.00> \u001b[0m\u001b[36mScanner-1: \u001b[0m\u001b[mSatellite Scanner-1 requires retasking\u001b[0m\n"
     ]
    },
    {
     "name": "stderr",
     "output_type": "stream",
     "text": [
      "\u001b[90;3m2024-09-12 15:06:47,075 \u001b[0m\u001b[mgym                            \u001b[0m\u001b[mINFO       \u001b[0m\u001b[33m<17580.00> \u001b[0m\u001b[mStep reward: 0.0\u001b[0m\n"
     ]
    },
    {
     "name": "stderr",
     "output_type": "stream",
     "text": [
      "\u001b[90;3m2024-09-12 15:06:47,076 \u001b[0m\u001b[mgym                            \u001b[0m\u001b[mINFO       \u001b[0m\u001b[33m<17580.00> \u001b[0m\u001b[93;1m=== STARTING STEP ===\u001b[0m\n"
     ]
    },
    {
     "name": "stderr",
     "output_type": "stream",
     "text": [
      "\u001b[90;3m2024-09-12 15:06:47,076 \u001b[0m\u001b[36msats.satellite.Scanner-1       \u001b[0m\u001b[mINFO       \u001b[0m\u001b[33m<17580.00> \u001b[0m\u001b[36mScanner-1: \u001b[0m\u001b[maction_desat tasked for 60.0 seconds\u001b[0m\n"
     ]
    },
    {
     "name": "stderr",
     "output_type": "stream",
     "text": [
      "\u001b[90;3m2024-09-12 15:06:47,076 \u001b[0m\u001b[36msats.satellite.Scanner-1       \u001b[0m\u001b[mINFO       \u001b[0m\u001b[33m<17580.00> \u001b[0m\u001b[36mScanner-1: \u001b[0m\u001b[msetting timed terminal event at 17640.0\u001b[0m\n"
     ]
    },
    {
     "name": "stderr",
     "output_type": "stream",
     "text": [
      "\u001b[90;3m2024-09-12 15:06:47,080 \u001b[0m\u001b[36msats.satellite.Scanner-1       \u001b[0m\u001b[mINFO       \u001b[0m\u001b[33m<17640.00> \u001b[0m\u001b[36mScanner-1: \u001b[0m\u001b[mtimed termination at 17640.0 for action_desat\u001b[0m\n"
     ]
    },
    {
     "name": "stderr",
     "output_type": "stream",
     "text": [
      "\u001b[90;3m2024-09-12 15:06:47,081 \u001b[0m\u001b[mdata.base                      \u001b[0m\u001b[mINFO       \u001b[0m\u001b[33m<17640.00> \u001b[0m\u001b[mData reward: {'Scanner-1': 0.0}\u001b[0m\n"
     ]
    },
    {
     "name": "stderr",
     "output_type": "stream",
     "text": [
      "\u001b[90;3m2024-09-12 15:06:47,081 \u001b[0m\u001b[36msats.satellite.Scanner-1       \u001b[0m\u001b[mINFO       \u001b[0m\u001b[33m<17640.00> \u001b[0m\u001b[36mScanner-1: \u001b[0m\u001b[mSatellite Scanner-1 requires retasking\u001b[0m\n"
     ]
    },
    {
     "name": "stderr",
     "output_type": "stream",
     "text": [
      "\u001b[90;3m2024-09-12 15:06:47,082 \u001b[0m\u001b[mgym                            \u001b[0m\u001b[mINFO       \u001b[0m\u001b[33m<17640.00> \u001b[0m\u001b[mStep reward: 0.0\u001b[0m\n"
     ]
    },
    {
     "name": "stderr",
     "output_type": "stream",
     "text": [
      "\u001b[90;3m2024-09-12 15:06:47,082 \u001b[0m\u001b[mgym                            \u001b[0m\u001b[mINFO       \u001b[0m\u001b[33m<17640.00> \u001b[0m\u001b[93;1m=== STARTING STEP ===\u001b[0m\n"
     ]
    },
    {
     "name": "stderr",
     "output_type": "stream",
     "text": [
      "\u001b[90;3m2024-09-12 15:06:47,083 \u001b[0m\u001b[36msats.satellite.Scanner-1       \u001b[0m\u001b[mINFO       \u001b[0m\u001b[33m<17640.00> \u001b[0m\u001b[36mScanner-1: \u001b[0m\u001b[maction_downlink tasked for 60.0 seconds\u001b[0m\n"
     ]
    },
    {
     "name": "stderr",
     "output_type": "stream",
     "text": [
      "\u001b[90;3m2024-09-12 15:06:47,083 \u001b[0m\u001b[36msats.satellite.Scanner-1       \u001b[0m\u001b[mINFO       \u001b[0m\u001b[33m<17640.00> \u001b[0m\u001b[36mScanner-1: \u001b[0m\u001b[msetting timed terminal event at 17700.0\u001b[0m\n"
     ]
    },
    {
     "name": "stderr",
     "output_type": "stream",
     "text": [
      "\u001b[90;3m2024-09-12 15:06:47,087 \u001b[0m\u001b[36msats.satellite.Scanner-1       \u001b[0m\u001b[mINFO       \u001b[0m\u001b[33m<17700.00> \u001b[0m\u001b[36mScanner-1: \u001b[0m\u001b[mtimed termination at 17700.0 for action_downlink\u001b[0m\n"
     ]
    },
    {
     "name": "stderr",
     "output_type": "stream",
     "text": [
      "\u001b[90;3m2024-09-12 15:06:47,087 \u001b[0m\u001b[mdata.base                      \u001b[0m\u001b[mINFO       \u001b[0m\u001b[33m<17700.00> \u001b[0m\u001b[mData reward: {'Scanner-1': 0.0}\u001b[0m\n"
     ]
    },
    {
     "name": "stderr",
     "output_type": "stream",
     "text": [
      "\u001b[90;3m2024-09-12 15:06:47,087 \u001b[0m\u001b[36msats.satellite.Scanner-1       \u001b[0m\u001b[mINFO       \u001b[0m\u001b[33m<17700.00> \u001b[0m\u001b[36mScanner-1: \u001b[0m\u001b[mSatellite Scanner-1 requires retasking\u001b[0m\n"
     ]
    },
    {
     "name": "stderr",
     "output_type": "stream",
     "text": [
      "\u001b[90;3m2024-09-12 15:06:47,088 \u001b[0m\u001b[mgym                            \u001b[0m\u001b[mINFO       \u001b[0m\u001b[33m<17700.00> \u001b[0m\u001b[mStep reward: 0.0\u001b[0m\n"
     ]
    },
    {
     "name": "stderr",
     "output_type": "stream",
     "text": [
      "\u001b[90;3m2024-09-12 15:06:47,088 \u001b[0m\u001b[mgym                            \u001b[0m\u001b[mINFO       \u001b[0m\u001b[33m<17700.00> \u001b[0m\u001b[93;1m=== STARTING STEP ===\u001b[0m\n"
     ]
    },
    {
     "name": "stderr",
     "output_type": "stream",
     "text": [
      "\u001b[90;3m2024-09-12 15:06:47,089 \u001b[0m\u001b[36msats.satellite.Scanner-1       \u001b[0m\u001b[mINFO       \u001b[0m\u001b[33m<17700.00> \u001b[0m\u001b[36mScanner-1: \u001b[0m\u001b[maction_downlink tasked for 60.0 seconds\u001b[0m\n"
     ]
    },
    {
     "name": "stderr",
     "output_type": "stream",
     "text": [
      "\u001b[90;3m2024-09-12 15:06:47,089 \u001b[0m\u001b[36msats.satellite.Scanner-1       \u001b[0m\u001b[mINFO       \u001b[0m\u001b[33m<17700.00> \u001b[0m\u001b[36mScanner-1: \u001b[0m\u001b[msetting timed terminal event at 17760.0\u001b[0m\n"
     ]
    },
    {
     "name": "stderr",
     "output_type": "stream",
     "text": [
      "\u001b[90;3m2024-09-12 15:06:47,093 \u001b[0m\u001b[36msats.satellite.Scanner-1       \u001b[0m\u001b[mINFO       \u001b[0m\u001b[33m<17760.00> \u001b[0m\u001b[36mScanner-1: \u001b[0m\u001b[mtimed termination at 17760.0 for action_downlink\u001b[0m\n"
     ]
    },
    {
     "name": "stderr",
     "output_type": "stream",
     "text": [
      "\u001b[90;3m2024-09-12 15:06:47,093 \u001b[0m\u001b[mdata.base                      \u001b[0m\u001b[mINFO       \u001b[0m\u001b[33m<17760.00> \u001b[0m\u001b[mData reward: {'Scanner-1': 0.0}\u001b[0m\n"
     ]
    },
    {
     "name": "stderr",
     "output_type": "stream",
     "text": [
      "\u001b[90;3m2024-09-12 15:06:47,094 \u001b[0m\u001b[36msats.satellite.Scanner-1       \u001b[0m\u001b[mINFO       \u001b[0m\u001b[33m<17760.00> \u001b[0m\u001b[36mScanner-1: \u001b[0m\u001b[mSatellite Scanner-1 requires retasking\u001b[0m\n"
     ]
    },
    {
     "name": "stderr",
     "output_type": "stream",
     "text": [
      "\u001b[90;3m2024-09-12 15:06:47,095 \u001b[0m\u001b[mgym                            \u001b[0m\u001b[mINFO       \u001b[0m\u001b[33m<17760.00> \u001b[0m\u001b[mStep reward: 0.0\u001b[0m\n"
     ]
    },
    {
     "name": "stderr",
     "output_type": "stream",
     "text": [
      "\u001b[90;3m2024-09-12 15:06:47,095 \u001b[0m\u001b[mgym                            \u001b[0m\u001b[mINFO       \u001b[0m\u001b[33m<17760.00> \u001b[0m\u001b[93;1m=== STARTING STEP ===\u001b[0m\n"
     ]
    },
    {
     "name": "stderr",
     "output_type": "stream",
     "text": [
      "\u001b[90;3m2024-09-12 15:06:47,095 \u001b[0m\u001b[36msats.satellite.Scanner-1       \u001b[0m\u001b[mINFO       \u001b[0m\u001b[33m<17760.00> \u001b[0m\u001b[36mScanner-1: \u001b[0m\u001b[maction_charge tasked for 120.0 seconds\u001b[0m\n"
     ]
    },
    {
     "name": "stderr",
     "output_type": "stream",
     "text": [
      "\u001b[90;3m2024-09-12 15:06:47,096 \u001b[0m\u001b[36msats.satellite.Scanner-1       \u001b[0m\u001b[mINFO       \u001b[0m\u001b[33m<17760.00> \u001b[0m\u001b[36mScanner-1: \u001b[0m\u001b[msetting timed terminal event at 17880.0\u001b[0m\n"
     ]
    },
    {
     "name": "stderr",
     "output_type": "stream",
     "text": [
      "\u001b[90;3m2024-09-12 15:06:47,104 \u001b[0m\u001b[36msats.satellite.Scanner-1       \u001b[0m\u001b[mINFO       \u001b[0m\u001b[33m<17880.00> \u001b[0m\u001b[36mScanner-1: \u001b[0m\u001b[mtimed termination at 17880.0 for action_charge\u001b[0m\n"
     ]
    },
    {
     "name": "stderr",
     "output_type": "stream",
     "text": [
      "\u001b[90;3m2024-09-12 15:06:47,104 \u001b[0m\u001b[mdata.base                      \u001b[0m\u001b[mINFO       \u001b[0m\u001b[33m<17880.00> \u001b[0m\u001b[mData reward: {'Scanner-1': 0.0}\u001b[0m\n"
     ]
    },
    {
     "name": "stderr",
     "output_type": "stream",
     "text": [
      "\u001b[90;3m2024-09-12 15:06:47,104 \u001b[0m\u001b[36msats.satellite.Scanner-1       \u001b[0m\u001b[mINFO       \u001b[0m\u001b[33m<17880.00> \u001b[0m\u001b[36mScanner-1: \u001b[0m\u001b[mSatellite Scanner-1 requires retasking\u001b[0m\n"
     ]
    },
    {
     "name": "stderr",
     "output_type": "stream",
     "text": [
      "\u001b[90;3m2024-09-12 15:06:47,105 \u001b[0m\u001b[mgym                            \u001b[0m\u001b[mINFO       \u001b[0m\u001b[33m<17880.00> \u001b[0m\u001b[mStep reward: 0.0\u001b[0m\n"
     ]
    },
    {
     "name": "stderr",
     "output_type": "stream",
     "text": [
      "\u001b[90;3m2024-09-12 15:06:47,106 \u001b[0m\u001b[mgym                            \u001b[0m\u001b[mINFO       \u001b[0m\u001b[33m<17880.00> \u001b[0m\u001b[93;1m=== STARTING STEP ===\u001b[0m\n"
     ]
    },
    {
     "name": "stderr",
     "output_type": "stream",
     "text": [
      "\u001b[90;3m2024-09-12 15:06:47,106 \u001b[0m\u001b[36msats.satellite.Scanner-1       \u001b[0m\u001b[mINFO       \u001b[0m\u001b[33m<17880.00> \u001b[0m\u001b[36mScanner-1: \u001b[0m\u001b[maction_charge tasked for 120.0 seconds\u001b[0m\n"
     ]
    },
    {
     "name": "stderr",
     "output_type": "stream",
     "text": [
      "\u001b[90;3m2024-09-12 15:06:47,106 \u001b[0m\u001b[36msats.satellite.Scanner-1       \u001b[0m\u001b[mINFO       \u001b[0m\u001b[33m<17880.00> \u001b[0m\u001b[36mScanner-1: \u001b[0m\u001b[msetting timed terminal event at 18000.0\u001b[0m\n"
     ]
    },
    {
     "name": "stderr",
     "output_type": "stream",
     "text": [
      "\u001b[90;3m2024-09-12 15:06:47,114 \u001b[0m\u001b[36msats.satellite.Scanner-1       \u001b[0m\u001b[mINFO       \u001b[0m\u001b[33m<18000.00> \u001b[0m\u001b[36mScanner-1: \u001b[0m\u001b[mtimed termination at 18000.0 for action_charge\u001b[0m\n"
     ]
    },
    {
     "name": "stderr",
     "output_type": "stream",
     "text": [
      "\u001b[90;3m2024-09-12 15:06:47,115 \u001b[0m\u001b[mdata.base                      \u001b[0m\u001b[mINFO       \u001b[0m\u001b[33m<18000.00> \u001b[0m\u001b[mData reward: {'Scanner-1': 0.0}\u001b[0m\n"
     ]
    },
    {
     "name": "stderr",
     "output_type": "stream",
     "text": [
      "\u001b[90;3m2024-09-12 15:06:47,115 \u001b[0m\u001b[36msats.satellite.Scanner-1       \u001b[0m\u001b[mINFO       \u001b[0m\u001b[33m<18000.00> \u001b[0m\u001b[36mScanner-1: \u001b[0m\u001b[mSatellite Scanner-1 requires retasking\u001b[0m\n"
     ]
    },
    {
     "name": "stderr",
     "output_type": "stream",
     "text": [
      "\u001b[90;3m2024-09-12 15:06:47,116 \u001b[0m\u001b[mgym                            \u001b[0m\u001b[mINFO       \u001b[0m\u001b[33m<18000.00> \u001b[0m\u001b[mStep reward: 0.0\u001b[0m\n"
     ]
    },
    {
     "name": "stderr",
     "output_type": "stream",
     "text": [
      "\u001b[90;3m2024-09-12 15:06:47,116 \u001b[0m\u001b[mgym                            \u001b[0m\u001b[mINFO       \u001b[0m\u001b[33m<18000.00> \u001b[0m\u001b[93;1m=== STARTING STEP ===\u001b[0m\n"
     ]
    },
    {
     "name": "stderr",
     "output_type": "stream",
     "text": [
      "\u001b[90;3m2024-09-12 15:06:47,116 \u001b[0m\u001b[36msats.satellite.Scanner-1       \u001b[0m\u001b[mINFO       \u001b[0m\u001b[33m<18000.00> \u001b[0m\u001b[36mScanner-1: \u001b[0m\u001b[maction_nadir_scan tasked for 180.0 seconds\u001b[0m\n"
     ]
    },
    {
     "name": "stderr",
     "output_type": "stream",
     "text": [
      "\u001b[90;3m2024-09-12 15:06:47,117 \u001b[0m\u001b[36msats.satellite.Scanner-1       \u001b[0m\u001b[mINFO       \u001b[0m\u001b[33m<18000.00> \u001b[0m\u001b[36mScanner-1: \u001b[0m\u001b[msetting timed terminal event at 18180.0\u001b[0m\n"
     ]
    },
    {
     "name": "stderr",
     "output_type": "stream",
     "text": [
      "\u001b[90;3m2024-09-12 15:06:47,128 \u001b[0m\u001b[36msats.satellite.Scanner-1       \u001b[0m\u001b[mINFO       \u001b[0m\u001b[33m<18180.00> \u001b[0m\u001b[36mScanner-1: \u001b[0m\u001b[mtimed termination at 18180.0 for action_nadir_scan\u001b[0m\n"
     ]
    },
    {
     "name": "stderr",
     "output_type": "stream",
     "text": [
      "\u001b[90;3m2024-09-12 15:06:47,128 \u001b[0m\u001b[mdata.base                      \u001b[0m\u001b[mINFO       \u001b[0m\u001b[33m<18180.00> \u001b[0m\u001b[mData reward: {'Scanner-1': 0.004666666666666666}\u001b[0m\n"
     ]
    },
    {
     "name": "stderr",
     "output_type": "stream",
     "text": [
      "\u001b[90;3m2024-09-12 15:06:47,128 \u001b[0m\u001b[36msats.satellite.Scanner-1       \u001b[0m\u001b[mINFO       \u001b[0m\u001b[33m<18180.00> \u001b[0m\u001b[36mScanner-1: \u001b[0m\u001b[mSatellite Scanner-1 requires retasking\u001b[0m\n"
     ]
    },
    {
     "name": "stderr",
     "output_type": "stream",
     "text": [
      "\u001b[90;3m2024-09-12 15:06:47,129 \u001b[0m\u001b[mgym                            \u001b[0m\u001b[mINFO       \u001b[0m\u001b[33m<18180.00> \u001b[0m\u001b[mStep reward: 0.004666666666666666\u001b[0m\n"
     ]
    },
    {
     "name": "stderr",
     "output_type": "stream",
     "text": [
      "\u001b[90;3m2024-09-12 15:06:47,129 \u001b[0m\u001b[mgym                            \u001b[0m\u001b[mINFO       \u001b[0m\u001b[33m<18180.00> \u001b[0m\u001b[93;1m=== STARTING STEP ===\u001b[0m\n"
     ]
    },
    {
     "name": "stderr",
     "output_type": "stream",
     "text": [
      "\u001b[90;3m2024-09-12 15:06:47,129 \u001b[0m\u001b[36msats.satellite.Scanner-1       \u001b[0m\u001b[mINFO       \u001b[0m\u001b[33m<18180.00> \u001b[0m\u001b[36mScanner-1: \u001b[0m\u001b[maction_desat tasked for 60.0 seconds\u001b[0m\n"
     ]
    },
    {
     "name": "stderr",
     "output_type": "stream",
     "text": [
      "\u001b[90;3m2024-09-12 15:06:47,130 \u001b[0m\u001b[36msats.satellite.Scanner-1       \u001b[0m\u001b[mINFO       \u001b[0m\u001b[33m<18180.00> \u001b[0m\u001b[36mScanner-1: \u001b[0m\u001b[msetting timed terminal event at 18240.0\u001b[0m\n"
     ]
    },
    {
     "name": "stderr",
     "output_type": "stream",
     "text": [
      "\u001b[90;3m2024-09-12 15:06:47,134 \u001b[0m\u001b[36msats.satellite.Scanner-1       \u001b[0m\u001b[mINFO       \u001b[0m\u001b[33m<18240.00> \u001b[0m\u001b[36mScanner-1: \u001b[0m\u001b[mtimed termination at 18240.0 for action_desat\u001b[0m\n"
     ]
    },
    {
     "name": "stderr",
     "output_type": "stream",
     "text": [
      "\u001b[90;3m2024-09-12 15:06:47,135 \u001b[0m\u001b[mdata.base                      \u001b[0m\u001b[mINFO       \u001b[0m\u001b[33m<18240.00> \u001b[0m\u001b[mData reward: {'Scanner-1': 0.0}\u001b[0m\n"
     ]
    },
    {
     "name": "stderr",
     "output_type": "stream",
     "text": [
      "\u001b[90;3m2024-09-12 15:06:47,135 \u001b[0m\u001b[36msats.satellite.Scanner-1       \u001b[0m\u001b[mINFO       \u001b[0m\u001b[33m<18240.00> \u001b[0m\u001b[36mScanner-1: \u001b[0m\u001b[mSatellite Scanner-1 requires retasking\u001b[0m\n"
     ]
    },
    {
     "name": "stderr",
     "output_type": "stream",
     "text": [
      "\u001b[90;3m2024-09-12 15:06:47,136 \u001b[0m\u001b[mgym                            \u001b[0m\u001b[mINFO       \u001b[0m\u001b[33m<18240.00> \u001b[0m\u001b[mStep reward: 0.0\u001b[0m\n"
     ]
    },
    {
     "name": "stderr",
     "output_type": "stream",
     "text": [
      "\u001b[90;3m2024-09-12 15:06:47,136 \u001b[0m\u001b[mgym                            \u001b[0m\u001b[mINFO       \u001b[0m\u001b[33m<18240.00> \u001b[0m\u001b[93;1m=== STARTING STEP ===\u001b[0m\n"
     ]
    },
    {
     "name": "stderr",
     "output_type": "stream",
     "text": [
      "\u001b[90;3m2024-09-12 15:06:47,136 \u001b[0m\u001b[36msats.satellite.Scanner-1       \u001b[0m\u001b[mINFO       \u001b[0m\u001b[33m<18240.00> \u001b[0m\u001b[36mScanner-1: \u001b[0m\u001b[maction_nadir_scan tasked for 180.0 seconds\u001b[0m\n"
     ]
    },
    {
     "name": "stderr",
     "output_type": "stream",
     "text": [
      "\u001b[90;3m2024-09-12 15:06:47,137 \u001b[0m\u001b[36msats.satellite.Scanner-1       \u001b[0m\u001b[mINFO       \u001b[0m\u001b[33m<18240.00> \u001b[0m\u001b[36mScanner-1: \u001b[0m\u001b[msetting timed terminal event at 18420.0\u001b[0m\n"
     ]
    },
    {
     "name": "stderr",
     "output_type": "stream",
     "text": [
      "\u001b[90;3m2024-09-12 15:06:47,149 \u001b[0m\u001b[36msats.satellite.Scanner-1       \u001b[0m\u001b[mINFO       \u001b[0m\u001b[33m<18420.00> \u001b[0m\u001b[36mScanner-1: \u001b[0m\u001b[mtimed termination at 18420.0 for action_nadir_scan\u001b[0m\n"
     ]
    },
    {
     "name": "stderr",
     "output_type": "stream",
     "text": [
      "\u001b[90;3m2024-09-12 15:06:47,150 \u001b[0m\u001b[mdata.base                      \u001b[0m\u001b[mINFO       \u001b[0m\u001b[33m<18420.00> \u001b[0m\u001b[mData reward: {'Scanner-1': 0.00487719298245614}\u001b[0m\n"
     ]
    },
    {
     "name": "stderr",
     "output_type": "stream",
     "text": [
      "\u001b[90;3m2024-09-12 15:06:47,150 \u001b[0m\u001b[36msats.satellite.Scanner-1       \u001b[0m\u001b[mINFO       \u001b[0m\u001b[33m<18420.00> \u001b[0m\u001b[36mScanner-1: \u001b[0m\u001b[mSatellite Scanner-1 requires retasking\u001b[0m\n"
     ]
    },
    {
     "name": "stderr",
     "output_type": "stream",
     "text": [
      "\u001b[90;3m2024-09-12 15:06:47,151 \u001b[0m\u001b[mgym                            \u001b[0m\u001b[mINFO       \u001b[0m\u001b[33m<18420.00> \u001b[0m\u001b[mStep reward: 0.00487719298245614\u001b[0m\n"
     ]
    },
    {
     "name": "stderr",
     "output_type": "stream",
     "text": [
      "\u001b[90;3m2024-09-12 15:06:47,152 \u001b[0m\u001b[mgym                            \u001b[0m\u001b[mINFO       \u001b[0m\u001b[33m<18420.00> \u001b[0m\u001b[93;1m=== STARTING STEP ===\u001b[0m\n"
     ]
    },
    {
     "name": "stderr",
     "output_type": "stream",
     "text": [
      "\u001b[90;3m2024-09-12 15:06:47,200 \u001b[0m\u001b[36msats.satellite.Scanner-1       \u001b[0m\u001b[mINFO       \u001b[0m\u001b[33m<18420.00> \u001b[0m\u001b[36mScanner-1: \u001b[0m\u001b[maction_nadir_scan tasked for 180.0 seconds\u001b[0m\n"
     ]
    },
    {
     "name": "stderr",
     "output_type": "stream",
     "text": [
      "\u001b[90;3m2024-09-12 15:06:47,201 \u001b[0m\u001b[36msats.satellite.Scanner-1       \u001b[0m\u001b[mINFO       \u001b[0m\u001b[33m<18420.00> \u001b[0m\u001b[36mScanner-1: \u001b[0m\u001b[msetting timed terminal event at 18600.0\u001b[0m\n"
     ]
    },
    {
     "name": "stderr",
     "output_type": "stream",
     "text": [
      "\u001b[90;3m2024-09-12 15:06:47,212 \u001b[0m\u001b[36msats.satellite.Scanner-1       \u001b[0m\u001b[mINFO       \u001b[0m\u001b[33m<18600.00> \u001b[0m\u001b[36mScanner-1: \u001b[0m\u001b[mtimed termination at 18600.0 for action_nadir_scan\u001b[0m\n"
     ]
    },
    {
     "name": "stderr",
     "output_type": "stream",
     "text": [
      "\u001b[90;3m2024-09-12 15:06:47,212 \u001b[0m\u001b[mdata.base                      \u001b[0m\u001b[mINFO       \u001b[0m\u001b[33m<18600.00> \u001b[0m\u001b[mData reward: {'Scanner-1': 0.00631578947368421}\u001b[0m\n"
     ]
    },
    {
     "name": "stderr",
     "output_type": "stream",
     "text": [
      "\u001b[90;3m2024-09-12 15:06:47,213 \u001b[0m\u001b[36msats.satellite.Scanner-1       \u001b[0m\u001b[mINFO       \u001b[0m\u001b[33m<18600.00> \u001b[0m\u001b[36mScanner-1: \u001b[0m\u001b[mSatellite Scanner-1 requires retasking\u001b[0m\n"
     ]
    },
    {
     "name": "stderr",
     "output_type": "stream",
     "text": [
      "\u001b[90;3m2024-09-12 15:06:47,213 \u001b[0m\u001b[mgym                            \u001b[0m\u001b[mINFO       \u001b[0m\u001b[33m<18600.00> \u001b[0m\u001b[mStep reward: 0.00631578947368421\u001b[0m\n"
     ]
    },
    {
     "name": "stderr",
     "output_type": "stream",
     "text": [
      "\u001b[90;3m2024-09-12 15:06:47,214 \u001b[0m\u001b[mgym                            \u001b[0m\u001b[mINFO       \u001b[0m\u001b[33m<18600.00> \u001b[0m\u001b[93;1m=== STARTING STEP ===\u001b[0m\n"
     ]
    },
    {
     "name": "stderr",
     "output_type": "stream",
     "text": [
      "\u001b[90;3m2024-09-12 15:06:47,214 \u001b[0m\u001b[36msats.satellite.Scanner-1       \u001b[0m\u001b[mINFO       \u001b[0m\u001b[33m<18600.00> \u001b[0m\u001b[36mScanner-1: \u001b[0m\u001b[maction_charge tasked for 120.0 seconds\u001b[0m\n"
     ]
    },
    {
     "name": "stderr",
     "output_type": "stream",
     "text": [
      "\u001b[90;3m2024-09-12 15:06:47,214 \u001b[0m\u001b[36msats.satellite.Scanner-1       \u001b[0m\u001b[mINFO       \u001b[0m\u001b[33m<18600.00> \u001b[0m\u001b[36mScanner-1: \u001b[0m\u001b[msetting timed terminal event at 18720.0\u001b[0m\n"
     ]
    },
    {
     "name": "stderr",
     "output_type": "stream",
     "text": [
      "\u001b[90;3m2024-09-12 15:06:47,222 \u001b[0m\u001b[36msats.satellite.Scanner-1       \u001b[0m\u001b[mINFO       \u001b[0m\u001b[33m<18720.00> \u001b[0m\u001b[36mScanner-1: \u001b[0m\u001b[mtimed termination at 18720.0 for action_charge\u001b[0m\n"
     ]
    },
    {
     "name": "stderr",
     "output_type": "stream",
     "text": [
      "\u001b[90;3m2024-09-12 15:06:47,222 \u001b[0m\u001b[mdata.base                      \u001b[0m\u001b[mINFO       \u001b[0m\u001b[33m<18720.00> \u001b[0m\u001b[mData reward: {'Scanner-1': 0.0}\u001b[0m\n"
     ]
    },
    {
     "name": "stderr",
     "output_type": "stream",
     "text": [
      "\u001b[90;3m2024-09-12 15:06:47,222 \u001b[0m\u001b[36msats.satellite.Scanner-1       \u001b[0m\u001b[mINFO       \u001b[0m\u001b[33m<18720.00> \u001b[0m\u001b[36mScanner-1: \u001b[0m\u001b[mSatellite Scanner-1 requires retasking\u001b[0m\n"
     ]
    },
    {
     "name": "stderr",
     "output_type": "stream",
     "text": [
      "\u001b[90;3m2024-09-12 15:06:47,223 \u001b[0m\u001b[mgym                            \u001b[0m\u001b[mINFO       \u001b[0m\u001b[33m<18720.00> \u001b[0m\u001b[mStep reward: 0.0\u001b[0m\n"
     ]
    },
    {
     "name": "stderr",
     "output_type": "stream",
     "text": [
      "\u001b[90;3m2024-09-12 15:06:47,223 \u001b[0m\u001b[mgym                            \u001b[0m\u001b[mINFO       \u001b[0m\u001b[33m<18720.00> \u001b[0m\u001b[93;1m=== STARTING STEP ===\u001b[0m\n"
     ]
    },
    {
     "name": "stderr",
     "output_type": "stream",
     "text": [
      "\u001b[90;3m2024-09-12 15:06:47,224 \u001b[0m\u001b[36msats.satellite.Scanner-1       \u001b[0m\u001b[mINFO       \u001b[0m\u001b[33m<18720.00> \u001b[0m\u001b[36mScanner-1: \u001b[0m\u001b[maction_downlink tasked for 60.0 seconds\u001b[0m\n"
     ]
    },
    {
     "name": "stderr",
     "output_type": "stream",
     "text": [
      "\u001b[90;3m2024-09-12 15:06:47,224 \u001b[0m\u001b[36msats.satellite.Scanner-1       \u001b[0m\u001b[mINFO       \u001b[0m\u001b[33m<18720.00> \u001b[0m\u001b[36mScanner-1: \u001b[0m\u001b[msetting timed terminal event at 18780.0\u001b[0m\n"
     ]
    },
    {
     "name": "stderr",
     "output_type": "stream",
     "text": [
      "\u001b[90;3m2024-09-12 15:06:47,228 \u001b[0m\u001b[36msats.satellite.Scanner-1       \u001b[0m\u001b[mINFO       \u001b[0m\u001b[33m<18780.00> \u001b[0m\u001b[36mScanner-1: \u001b[0m\u001b[mtimed termination at 18780.0 for action_downlink\u001b[0m\n"
     ]
    },
    {
     "name": "stderr",
     "output_type": "stream",
     "text": [
      "\u001b[90;3m2024-09-12 15:06:47,228 \u001b[0m\u001b[mdata.base                      \u001b[0m\u001b[mINFO       \u001b[0m\u001b[33m<18780.00> \u001b[0m\u001b[mData reward: {'Scanner-1': 0.0}\u001b[0m\n"
     ]
    },
    {
     "name": "stderr",
     "output_type": "stream",
     "text": [
      "\u001b[90;3m2024-09-12 15:06:47,228 \u001b[0m\u001b[36msats.satellite.Scanner-1       \u001b[0m\u001b[mINFO       \u001b[0m\u001b[33m<18780.00> \u001b[0m\u001b[36mScanner-1: \u001b[0m\u001b[mSatellite Scanner-1 requires retasking\u001b[0m\n"
     ]
    },
    {
     "name": "stderr",
     "output_type": "stream",
     "text": [
      "\u001b[90;3m2024-09-12 15:06:47,229 \u001b[0m\u001b[mgym                            \u001b[0m\u001b[mINFO       \u001b[0m\u001b[33m<18780.00> \u001b[0m\u001b[mStep reward: 0.0\u001b[0m\n"
     ]
    },
    {
     "name": "stderr",
     "output_type": "stream",
     "text": [
      "\u001b[90;3m2024-09-12 15:06:47,229 \u001b[0m\u001b[mgym                            \u001b[0m\u001b[mINFO       \u001b[0m\u001b[33m<18780.00> \u001b[0m\u001b[93;1m=== STARTING STEP ===\u001b[0m\n"
     ]
    },
    {
     "name": "stderr",
     "output_type": "stream",
     "text": [
      "\u001b[90;3m2024-09-12 15:06:47,229 \u001b[0m\u001b[36msats.satellite.Scanner-1       \u001b[0m\u001b[mINFO       \u001b[0m\u001b[33m<18780.00> \u001b[0m\u001b[36mScanner-1: \u001b[0m\u001b[maction_charge tasked for 120.0 seconds\u001b[0m\n"
     ]
    },
    {
     "name": "stderr",
     "output_type": "stream",
     "text": [
      "\u001b[90;3m2024-09-12 15:06:47,230 \u001b[0m\u001b[36msats.satellite.Scanner-1       \u001b[0m\u001b[mINFO       \u001b[0m\u001b[33m<18780.00> \u001b[0m\u001b[36mScanner-1: \u001b[0m\u001b[msetting timed terminal event at 18900.0\u001b[0m\n"
     ]
    },
    {
     "name": "stderr",
     "output_type": "stream",
     "text": [
      "\u001b[90;3m2024-09-12 15:06:47,238 \u001b[0m\u001b[36msats.satellite.Scanner-1       \u001b[0m\u001b[mINFO       \u001b[0m\u001b[33m<18900.00> \u001b[0m\u001b[36mScanner-1: \u001b[0m\u001b[mtimed termination at 18900.0 for action_charge\u001b[0m\n"
     ]
    },
    {
     "name": "stderr",
     "output_type": "stream",
     "text": [
      "\u001b[90;3m2024-09-12 15:06:47,238 \u001b[0m\u001b[mdata.base                      \u001b[0m\u001b[mINFO       \u001b[0m\u001b[33m<18900.00> \u001b[0m\u001b[mData reward: {'Scanner-1': 0.0}\u001b[0m\n"
     ]
    },
    {
     "name": "stderr",
     "output_type": "stream",
     "text": [
      "\u001b[90;3m2024-09-12 15:06:47,238 \u001b[0m\u001b[36msats.satellite.Scanner-1       \u001b[0m\u001b[mINFO       \u001b[0m\u001b[33m<18900.00> \u001b[0m\u001b[36mScanner-1: \u001b[0m\u001b[mSatellite Scanner-1 requires retasking\u001b[0m\n"
     ]
    },
    {
     "name": "stderr",
     "output_type": "stream",
     "text": [
      "\u001b[90;3m2024-09-12 15:06:47,239 \u001b[0m\u001b[mgym                            \u001b[0m\u001b[mINFO       \u001b[0m\u001b[33m<18900.00> \u001b[0m\u001b[mStep reward: 0.0\u001b[0m\n"
     ]
    },
    {
     "name": "stderr",
     "output_type": "stream",
     "text": [
      "\u001b[90;3m2024-09-12 15:06:47,239 \u001b[0m\u001b[mgym                            \u001b[0m\u001b[mINFO       \u001b[0m\u001b[33m<18900.00> \u001b[0m\u001b[93;1m=== STARTING STEP ===\u001b[0m\n"
     ]
    },
    {
     "name": "stderr",
     "output_type": "stream",
     "text": [
      "\u001b[90;3m2024-09-12 15:06:47,240 \u001b[0m\u001b[36msats.satellite.Scanner-1       \u001b[0m\u001b[mINFO       \u001b[0m\u001b[33m<18900.00> \u001b[0m\u001b[36mScanner-1: \u001b[0m\u001b[maction_downlink tasked for 60.0 seconds\u001b[0m\n"
     ]
    },
    {
     "name": "stderr",
     "output_type": "stream",
     "text": [
      "\u001b[90;3m2024-09-12 15:06:47,240 \u001b[0m\u001b[36msats.satellite.Scanner-1       \u001b[0m\u001b[mINFO       \u001b[0m\u001b[33m<18900.00> \u001b[0m\u001b[36mScanner-1: \u001b[0m\u001b[msetting timed terminal event at 18960.0\u001b[0m\n"
     ]
    },
    {
     "name": "stderr",
     "output_type": "stream",
     "text": [
      "\u001b[90;3m2024-09-12 15:06:47,244 \u001b[0m\u001b[36msats.satellite.Scanner-1       \u001b[0m\u001b[mINFO       \u001b[0m\u001b[33m<18960.00> \u001b[0m\u001b[36mScanner-1: \u001b[0m\u001b[mtimed termination at 18960.0 for action_downlink\u001b[0m\n"
     ]
    },
    {
     "name": "stderr",
     "output_type": "stream",
     "text": [
      "\u001b[90;3m2024-09-12 15:06:47,244 \u001b[0m\u001b[mdata.base                      \u001b[0m\u001b[mINFO       \u001b[0m\u001b[33m<18960.00> \u001b[0m\u001b[mData reward: {'Scanner-1': 0.0}\u001b[0m\n"
     ]
    },
    {
     "name": "stderr",
     "output_type": "stream",
     "text": [
      "\u001b[90;3m2024-09-12 15:06:47,245 \u001b[0m\u001b[36msats.satellite.Scanner-1       \u001b[0m\u001b[mINFO       \u001b[0m\u001b[33m<18960.00> \u001b[0m\u001b[36mScanner-1: \u001b[0m\u001b[mSatellite Scanner-1 requires retasking\u001b[0m\n"
     ]
    },
    {
     "name": "stderr",
     "output_type": "stream",
     "text": [
      "\u001b[90;3m2024-09-12 15:06:47,246 \u001b[0m\u001b[mgym                            \u001b[0m\u001b[mINFO       \u001b[0m\u001b[33m<18960.00> \u001b[0m\u001b[mStep reward: 0.0\u001b[0m\n"
     ]
    },
    {
     "name": "stderr",
     "output_type": "stream",
     "text": [
      "\u001b[90;3m2024-09-12 15:06:47,246 \u001b[0m\u001b[mgym                            \u001b[0m\u001b[mINFO       \u001b[0m\u001b[33m<18960.00> \u001b[0m\u001b[93;1m=== STARTING STEP ===\u001b[0m\n"
     ]
    },
    {
     "name": "stderr",
     "output_type": "stream",
     "text": [
      "\u001b[90;3m2024-09-12 15:06:47,246 \u001b[0m\u001b[36msats.satellite.Scanner-1       \u001b[0m\u001b[mINFO       \u001b[0m\u001b[33m<18960.00> \u001b[0m\u001b[36mScanner-1: \u001b[0m\u001b[maction_nadir_scan tasked for 180.0 seconds\u001b[0m\n"
     ]
    },
    {
     "name": "stderr",
     "output_type": "stream",
     "text": [
      "\u001b[90;3m2024-09-12 15:06:47,246 \u001b[0m\u001b[36msats.satellite.Scanner-1       \u001b[0m\u001b[mINFO       \u001b[0m\u001b[33m<18960.00> \u001b[0m\u001b[36mScanner-1: \u001b[0m\u001b[msetting timed terminal event at 19140.0\u001b[0m\n"
     ]
    },
    {
     "name": "stderr",
     "output_type": "stream",
     "text": [
      "\u001b[90;3m2024-09-12 15:06:47,257 \u001b[0m\u001b[36msats.satellite.Scanner-1       \u001b[0m\u001b[mINFO       \u001b[0m\u001b[33m<19140.00> \u001b[0m\u001b[36mScanner-1: \u001b[0m\u001b[mtimed termination at 19140.0 for action_nadir_scan\u001b[0m\n"
     ]
    },
    {
     "name": "stderr",
     "output_type": "stream",
     "text": [
      "\u001b[90;3m2024-09-12 15:06:47,258 \u001b[0m\u001b[mdata.base                      \u001b[0m\u001b[mINFO       \u001b[0m\u001b[33m<19140.00> \u001b[0m\u001b[mData reward: {'Scanner-1': 0.004947368421052631}\u001b[0m\n"
     ]
    },
    {
     "name": "stderr",
     "output_type": "stream",
     "text": [
      "\u001b[90;3m2024-09-12 15:06:47,258 \u001b[0m\u001b[36msats.satellite.Scanner-1       \u001b[0m\u001b[mINFO       \u001b[0m\u001b[33m<19140.00> \u001b[0m\u001b[36mScanner-1: \u001b[0m\u001b[mSatellite Scanner-1 requires retasking\u001b[0m\n"
     ]
    },
    {
     "name": "stderr",
     "output_type": "stream",
     "text": [
      "\u001b[90;3m2024-09-12 15:06:47,259 \u001b[0m\u001b[mgym                            \u001b[0m\u001b[mINFO       \u001b[0m\u001b[33m<19140.00> \u001b[0m\u001b[mStep reward: 0.004947368421052631\u001b[0m\n"
     ]
    },
    {
     "name": "stderr",
     "output_type": "stream",
     "text": [
      "\u001b[90;3m2024-09-12 15:06:47,259 \u001b[0m\u001b[mgym                            \u001b[0m\u001b[mINFO       \u001b[0m\u001b[33m<19140.00> \u001b[0m\u001b[93;1m=== STARTING STEP ===\u001b[0m\n"
     ]
    },
    {
     "name": "stderr",
     "output_type": "stream",
     "text": [
      "\u001b[90;3m2024-09-12 15:06:47,259 \u001b[0m\u001b[36msats.satellite.Scanner-1       \u001b[0m\u001b[mINFO       \u001b[0m\u001b[33m<19140.00> \u001b[0m\u001b[36mScanner-1: \u001b[0m\u001b[maction_charge tasked for 120.0 seconds\u001b[0m\n"
     ]
    },
    {
     "name": "stderr",
     "output_type": "stream",
     "text": [
      "\u001b[90;3m2024-09-12 15:06:47,260 \u001b[0m\u001b[36msats.satellite.Scanner-1       \u001b[0m\u001b[mINFO       \u001b[0m\u001b[33m<19140.00> \u001b[0m\u001b[36mScanner-1: \u001b[0m\u001b[msetting timed terminal event at 19260.0\u001b[0m\n"
     ]
    },
    {
     "name": "stderr",
     "output_type": "stream",
     "text": [
      "\u001b[90;3m2024-09-12 15:06:47,267 \u001b[0m\u001b[36msats.satellite.Scanner-1       \u001b[0m\u001b[mINFO       \u001b[0m\u001b[33m<19260.00> \u001b[0m\u001b[36mScanner-1: \u001b[0m\u001b[mtimed termination at 19260.0 for action_charge\u001b[0m\n"
     ]
    },
    {
     "name": "stderr",
     "output_type": "stream",
     "text": [
      "\u001b[90;3m2024-09-12 15:06:47,267 \u001b[0m\u001b[mdata.base                      \u001b[0m\u001b[mINFO       \u001b[0m\u001b[33m<19260.00> \u001b[0m\u001b[mData reward: {'Scanner-1': 0.0}\u001b[0m\n"
     ]
    },
    {
     "name": "stderr",
     "output_type": "stream",
     "text": [
      "\u001b[90;3m2024-09-12 15:06:47,268 \u001b[0m\u001b[36msats.satellite.Scanner-1       \u001b[0m\u001b[mINFO       \u001b[0m\u001b[33m<19260.00> \u001b[0m\u001b[36mScanner-1: \u001b[0m\u001b[mSatellite Scanner-1 requires retasking\u001b[0m\n"
     ]
    },
    {
     "name": "stderr",
     "output_type": "stream",
     "text": [
      "\u001b[90;3m2024-09-12 15:06:47,268 \u001b[0m\u001b[mgym                            \u001b[0m\u001b[mINFO       \u001b[0m\u001b[33m<19260.00> \u001b[0m\u001b[mStep reward: 0.0\u001b[0m\n"
     ]
    },
    {
     "name": "stderr",
     "output_type": "stream",
     "text": [
      "\u001b[90;3m2024-09-12 15:06:47,269 \u001b[0m\u001b[mgym                            \u001b[0m\u001b[mINFO       \u001b[0m\u001b[33m<19260.00> \u001b[0m\u001b[93;1m=== STARTING STEP ===\u001b[0m\n"
     ]
    },
    {
     "name": "stderr",
     "output_type": "stream",
     "text": [
      "\u001b[90;3m2024-09-12 15:06:47,269 \u001b[0m\u001b[36msats.satellite.Scanner-1       \u001b[0m\u001b[mINFO       \u001b[0m\u001b[33m<19260.00> \u001b[0m\u001b[36mScanner-1: \u001b[0m\u001b[maction_downlink tasked for 60.0 seconds\u001b[0m\n"
     ]
    },
    {
     "name": "stderr",
     "output_type": "stream",
     "text": [
      "\u001b[90;3m2024-09-12 15:06:47,269 \u001b[0m\u001b[36msats.satellite.Scanner-1       \u001b[0m\u001b[mINFO       \u001b[0m\u001b[33m<19260.00> \u001b[0m\u001b[36mScanner-1: \u001b[0m\u001b[msetting timed terminal event at 19320.0\u001b[0m\n"
     ]
    },
    {
     "name": "stderr",
     "output_type": "stream",
     "text": [
      "\u001b[90;3m2024-09-12 15:06:47,273 \u001b[0m\u001b[36msats.satellite.Scanner-1       \u001b[0m\u001b[mINFO       \u001b[0m\u001b[33m<19320.00> \u001b[0m\u001b[36mScanner-1: \u001b[0m\u001b[mtimed termination at 19320.0 for action_downlink\u001b[0m\n"
     ]
    },
    {
     "name": "stderr",
     "output_type": "stream",
     "text": [
      "\u001b[90;3m2024-09-12 15:06:47,274 \u001b[0m\u001b[mdata.base                      \u001b[0m\u001b[mINFO       \u001b[0m\u001b[33m<19320.00> \u001b[0m\u001b[mData reward: {'Scanner-1': 0.0}\u001b[0m\n"
     ]
    },
    {
     "name": "stderr",
     "output_type": "stream",
     "text": [
      "\u001b[90;3m2024-09-12 15:06:47,274 \u001b[0m\u001b[36msats.satellite.Scanner-1       \u001b[0m\u001b[mINFO       \u001b[0m\u001b[33m<19320.00> \u001b[0m\u001b[36mScanner-1: \u001b[0m\u001b[mSatellite Scanner-1 requires retasking\u001b[0m\n"
     ]
    },
    {
     "name": "stderr",
     "output_type": "stream",
     "text": [
      "\u001b[90;3m2024-09-12 15:06:47,274 \u001b[0m\u001b[mgym                            \u001b[0m\u001b[mINFO       \u001b[0m\u001b[33m<19320.00> \u001b[0m\u001b[mStep reward: 0.0\u001b[0m\n"
     ]
    },
    {
     "name": "stderr",
     "output_type": "stream",
     "text": [
      "\u001b[90;3m2024-09-12 15:06:47,275 \u001b[0m\u001b[mgym                            \u001b[0m\u001b[mINFO       \u001b[0m\u001b[33m<19320.00> \u001b[0m\u001b[93;1m=== STARTING STEP ===\u001b[0m\n"
     ]
    },
    {
     "name": "stderr",
     "output_type": "stream",
     "text": [
      "\u001b[90;3m2024-09-12 15:06:47,275 \u001b[0m\u001b[36msats.satellite.Scanner-1       \u001b[0m\u001b[mINFO       \u001b[0m\u001b[33m<19320.00> \u001b[0m\u001b[36mScanner-1: \u001b[0m\u001b[maction_nadir_scan tasked for 180.0 seconds\u001b[0m\n"
     ]
    },
    {
     "name": "stderr",
     "output_type": "stream",
     "text": [
      "\u001b[90;3m2024-09-12 15:06:47,275 \u001b[0m\u001b[36msats.satellite.Scanner-1       \u001b[0m\u001b[mINFO       \u001b[0m\u001b[33m<19320.00> \u001b[0m\u001b[36mScanner-1: \u001b[0m\u001b[msetting timed terminal event at 19500.0\u001b[0m\n"
     ]
    },
    {
     "name": "stderr",
     "output_type": "stream",
     "text": [
      "\u001b[90;3m2024-09-12 15:06:47,286 \u001b[0m\u001b[36msats.satellite.Scanner-1       \u001b[0m\u001b[mINFO       \u001b[0m\u001b[33m<19500.00> \u001b[0m\u001b[36mScanner-1: \u001b[0m\u001b[mtimed termination at 19500.0 for action_nadir_scan\u001b[0m\n"
     ]
    },
    {
     "name": "stderr",
     "output_type": "stream",
     "text": [
      "\u001b[90;3m2024-09-12 15:06:47,286 \u001b[0m\u001b[mdata.base                      \u001b[0m\u001b[mINFO       \u001b[0m\u001b[33m<19500.00> \u001b[0m\u001b[mData reward: {'Scanner-1': 0.004912280701754385}\u001b[0m\n"
     ]
    },
    {
     "name": "stderr",
     "output_type": "stream",
     "text": [
      "\u001b[90;3m2024-09-12 15:06:47,286 \u001b[0m\u001b[36msats.satellite.Scanner-1       \u001b[0m\u001b[mINFO       \u001b[0m\u001b[33m<19500.00> \u001b[0m\u001b[36mScanner-1: \u001b[0m\u001b[mSatellite Scanner-1 requires retasking\u001b[0m\n"
     ]
    },
    {
     "name": "stderr",
     "output_type": "stream",
     "text": [
      "\u001b[90;3m2024-09-12 15:06:47,287 \u001b[0m\u001b[mgym                            \u001b[0m\u001b[mINFO       \u001b[0m\u001b[33m<19500.00> \u001b[0m\u001b[mStep reward: 0.004912280701754385\u001b[0m\n"
     ]
    },
    {
     "name": "stderr",
     "output_type": "stream",
     "text": [
      "\u001b[90;3m2024-09-12 15:06:47,288 \u001b[0m\u001b[mgym                            \u001b[0m\u001b[mINFO       \u001b[0m\u001b[33m<19500.00> \u001b[0m\u001b[93;1m=== STARTING STEP ===\u001b[0m\n"
     ]
    },
    {
     "name": "stderr",
     "output_type": "stream",
     "text": [
      "\u001b[90;3m2024-09-12 15:06:47,288 \u001b[0m\u001b[36msats.satellite.Scanner-1       \u001b[0m\u001b[mINFO       \u001b[0m\u001b[33m<19500.00> \u001b[0m\u001b[36mScanner-1: \u001b[0m\u001b[maction_desat tasked for 60.0 seconds\u001b[0m\n"
     ]
    },
    {
     "name": "stderr",
     "output_type": "stream",
     "text": [
      "\u001b[90;3m2024-09-12 15:06:47,288 \u001b[0m\u001b[36msats.satellite.Scanner-1       \u001b[0m\u001b[mINFO       \u001b[0m\u001b[33m<19500.00> \u001b[0m\u001b[36mScanner-1: \u001b[0m\u001b[msetting timed terminal event at 19560.0\u001b[0m\n"
     ]
    },
    {
     "name": "stderr",
     "output_type": "stream",
     "text": [
      "\u001b[90;3m2024-09-12 15:06:47,292 \u001b[0m\u001b[36msats.satellite.Scanner-1       \u001b[0m\u001b[mINFO       \u001b[0m\u001b[33m<19560.00> \u001b[0m\u001b[36mScanner-1: \u001b[0m\u001b[mtimed termination at 19560.0 for action_desat\u001b[0m\n"
     ]
    },
    {
     "name": "stderr",
     "output_type": "stream",
     "text": [
      "\u001b[90;3m2024-09-12 15:06:47,292 \u001b[0m\u001b[mdata.base                      \u001b[0m\u001b[mINFO       \u001b[0m\u001b[33m<19560.00> \u001b[0m\u001b[mData reward: {'Scanner-1': 0.0}\u001b[0m\n"
     ]
    },
    {
     "name": "stderr",
     "output_type": "stream",
     "text": [
      "\u001b[90;3m2024-09-12 15:06:47,293 \u001b[0m\u001b[36msats.satellite.Scanner-1       \u001b[0m\u001b[mINFO       \u001b[0m\u001b[33m<19560.00> \u001b[0m\u001b[36mScanner-1: \u001b[0m\u001b[mSatellite Scanner-1 requires retasking\u001b[0m\n"
     ]
    },
    {
     "name": "stderr",
     "output_type": "stream",
     "text": [
      "\u001b[90;3m2024-09-12 15:06:47,293 \u001b[0m\u001b[mgym                            \u001b[0m\u001b[mINFO       \u001b[0m\u001b[33m<19560.00> \u001b[0m\u001b[mStep reward: 0.0\u001b[0m\n"
     ]
    },
    {
     "name": "stderr",
     "output_type": "stream",
     "text": [
      "\u001b[90;3m2024-09-12 15:06:47,294 \u001b[0m\u001b[mgym                            \u001b[0m\u001b[mINFO       \u001b[0m\u001b[33m<19560.00> \u001b[0m\u001b[93;1m=== STARTING STEP ===\u001b[0m\n"
     ]
    },
    {
     "name": "stderr",
     "output_type": "stream",
     "text": [
      "\u001b[90;3m2024-09-12 15:06:47,294 \u001b[0m\u001b[36msats.satellite.Scanner-1       \u001b[0m\u001b[mINFO       \u001b[0m\u001b[33m<19560.00> \u001b[0m\u001b[36mScanner-1: \u001b[0m\u001b[maction_desat tasked for 60.0 seconds\u001b[0m\n"
     ]
    },
    {
     "name": "stderr",
     "output_type": "stream",
     "text": [
      "\u001b[90;3m2024-09-12 15:06:47,294 \u001b[0m\u001b[36msats.satellite.Scanner-1       \u001b[0m\u001b[mINFO       \u001b[0m\u001b[33m<19560.00> \u001b[0m\u001b[36mScanner-1: \u001b[0m\u001b[msetting timed terminal event at 19620.0\u001b[0m\n"
     ]
    },
    {
     "name": "stderr",
     "output_type": "stream",
     "text": [
      "\u001b[90;3m2024-09-12 15:06:47,298 \u001b[0m\u001b[36msats.satellite.Scanner-1       \u001b[0m\u001b[mINFO       \u001b[0m\u001b[33m<19620.00> \u001b[0m\u001b[36mScanner-1: \u001b[0m\u001b[mtimed termination at 19620.0 for action_desat\u001b[0m\n"
     ]
    },
    {
     "name": "stderr",
     "output_type": "stream",
     "text": [
      "\u001b[90;3m2024-09-12 15:06:47,298 \u001b[0m\u001b[mdata.base                      \u001b[0m\u001b[mINFO       \u001b[0m\u001b[33m<19620.00> \u001b[0m\u001b[mData reward: {'Scanner-1': 0.0}\u001b[0m\n"
     ]
    },
    {
     "name": "stderr",
     "output_type": "stream",
     "text": [
      "\u001b[90;3m2024-09-12 15:06:47,299 \u001b[0m\u001b[36msats.satellite.Scanner-1       \u001b[0m\u001b[mINFO       \u001b[0m\u001b[33m<19620.00> \u001b[0m\u001b[36mScanner-1: \u001b[0m\u001b[mSatellite Scanner-1 requires retasking\u001b[0m\n"
     ]
    },
    {
     "name": "stderr",
     "output_type": "stream",
     "text": [
      "\u001b[90;3m2024-09-12 15:06:47,299 \u001b[0m\u001b[mgym                            \u001b[0m\u001b[mINFO       \u001b[0m\u001b[33m<19620.00> \u001b[0m\u001b[mStep reward: 0.0\u001b[0m\n"
     ]
    },
    {
     "name": "stderr",
     "output_type": "stream",
     "text": [
      "\u001b[90;3m2024-09-12 15:06:47,300 \u001b[0m\u001b[mgym                            \u001b[0m\u001b[mINFO       \u001b[0m\u001b[33m<19620.00> \u001b[0m\u001b[93;1m=== STARTING STEP ===\u001b[0m\n"
     ]
    },
    {
     "name": "stderr",
     "output_type": "stream",
     "text": [
      "\u001b[90;3m2024-09-12 15:06:47,300 \u001b[0m\u001b[36msats.satellite.Scanner-1       \u001b[0m\u001b[mINFO       \u001b[0m\u001b[33m<19620.00> \u001b[0m\u001b[36mScanner-1: \u001b[0m\u001b[maction_desat tasked for 60.0 seconds\u001b[0m\n"
     ]
    },
    {
     "name": "stderr",
     "output_type": "stream",
     "text": [
      "\u001b[90;3m2024-09-12 15:06:47,300 \u001b[0m\u001b[36msats.satellite.Scanner-1       \u001b[0m\u001b[mINFO       \u001b[0m\u001b[33m<19620.00> \u001b[0m\u001b[36mScanner-1: \u001b[0m\u001b[msetting timed terminal event at 19680.0\u001b[0m\n"
     ]
    },
    {
     "name": "stderr",
     "output_type": "stream",
     "text": [
      "\u001b[90;3m2024-09-12 15:06:47,304 \u001b[0m\u001b[36msats.satellite.Scanner-1       \u001b[0m\u001b[mINFO       \u001b[0m\u001b[33m<19680.00> \u001b[0m\u001b[36mScanner-1: \u001b[0m\u001b[mtimed termination at 19680.0 for action_desat\u001b[0m\n"
     ]
    },
    {
     "name": "stderr",
     "output_type": "stream",
     "text": [
      "\u001b[90;3m2024-09-12 15:06:47,304 \u001b[0m\u001b[mdata.base                      \u001b[0m\u001b[mINFO       \u001b[0m\u001b[33m<19680.00> \u001b[0m\u001b[mData reward: {'Scanner-1': 0.0}\u001b[0m\n"
     ]
    },
    {
     "name": "stderr",
     "output_type": "stream",
     "text": [
      "\u001b[90;3m2024-09-12 15:06:47,305 \u001b[0m\u001b[36msats.satellite.Scanner-1       \u001b[0m\u001b[mINFO       \u001b[0m\u001b[33m<19680.00> \u001b[0m\u001b[36mScanner-1: \u001b[0m\u001b[mSatellite Scanner-1 requires retasking\u001b[0m\n"
     ]
    },
    {
     "name": "stderr",
     "output_type": "stream",
     "text": [
      "\u001b[90;3m2024-09-12 15:06:47,305 \u001b[0m\u001b[mgym                            \u001b[0m\u001b[mINFO       \u001b[0m\u001b[33m<19680.00> \u001b[0m\u001b[mStep reward: 0.0\u001b[0m\n"
     ]
    },
    {
     "name": "stderr",
     "output_type": "stream",
     "text": [
      "\u001b[90;3m2024-09-12 15:06:47,306 \u001b[0m\u001b[mgym                            \u001b[0m\u001b[mINFO       \u001b[0m\u001b[33m<19680.00> \u001b[0m\u001b[93;1m=== STARTING STEP ===\u001b[0m\n"
     ]
    },
    {
     "name": "stderr",
     "output_type": "stream",
     "text": [
      "\u001b[90;3m2024-09-12 15:06:47,306 \u001b[0m\u001b[36msats.satellite.Scanner-1       \u001b[0m\u001b[mINFO       \u001b[0m\u001b[33m<19680.00> \u001b[0m\u001b[36mScanner-1: \u001b[0m\u001b[maction_charge tasked for 120.0 seconds\u001b[0m\n"
     ]
    },
    {
     "name": "stderr",
     "output_type": "stream",
     "text": [
      "\u001b[90;3m2024-09-12 15:06:47,306 \u001b[0m\u001b[36msats.satellite.Scanner-1       \u001b[0m\u001b[mINFO       \u001b[0m\u001b[33m<19680.00> \u001b[0m\u001b[36mScanner-1: \u001b[0m\u001b[msetting timed terminal event at 19800.0\u001b[0m\n"
     ]
    },
    {
     "name": "stderr",
     "output_type": "stream",
     "text": [
      "\u001b[90;3m2024-09-12 15:06:47,313 \u001b[0m\u001b[36msats.satellite.Scanner-1       \u001b[0m\u001b[mINFO       \u001b[0m\u001b[33m<19800.00> \u001b[0m\u001b[36mScanner-1: \u001b[0m\u001b[mtimed termination at 19800.0 for action_charge\u001b[0m\n"
     ]
    },
    {
     "name": "stderr",
     "output_type": "stream",
     "text": [
      "\u001b[90;3m2024-09-12 15:06:47,314 \u001b[0m\u001b[mdata.base                      \u001b[0m\u001b[mINFO       \u001b[0m\u001b[33m<19800.00> \u001b[0m\u001b[mData reward: {'Scanner-1': 0.0}\u001b[0m\n"
     ]
    },
    {
     "name": "stderr",
     "output_type": "stream",
     "text": [
      "\u001b[90;3m2024-09-12 15:06:47,314 \u001b[0m\u001b[36msats.satellite.Scanner-1       \u001b[0m\u001b[mINFO       \u001b[0m\u001b[33m<19800.00> \u001b[0m\u001b[36mScanner-1: \u001b[0m\u001b[mSatellite Scanner-1 requires retasking\u001b[0m\n"
     ]
    },
    {
     "name": "stderr",
     "output_type": "stream",
     "text": [
      "\u001b[90;3m2024-09-12 15:06:47,315 \u001b[0m\u001b[mgym                            \u001b[0m\u001b[mINFO       \u001b[0m\u001b[33m<19800.00> \u001b[0m\u001b[mStep reward: 0.0\u001b[0m\n"
     ]
    },
    {
     "name": "stderr",
     "output_type": "stream",
     "text": [
      "\u001b[90;3m2024-09-12 15:06:47,315 \u001b[0m\u001b[mgym                            \u001b[0m\u001b[mINFO       \u001b[0m\u001b[33m<19800.00> \u001b[0m\u001b[93;1m=== STARTING STEP ===\u001b[0m\n"
     ]
    },
    {
     "name": "stderr",
     "output_type": "stream",
     "text": [
      "\u001b[90;3m2024-09-12 15:06:47,315 \u001b[0m\u001b[36msats.satellite.Scanner-1       \u001b[0m\u001b[mINFO       \u001b[0m\u001b[33m<19800.00> \u001b[0m\u001b[36mScanner-1: \u001b[0m\u001b[maction_desat tasked for 60.0 seconds\u001b[0m\n"
     ]
    },
    {
     "name": "stderr",
     "output_type": "stream",
     "text": [
      "\u001b[90;3m2024-09-12 15:06:47,315 \u001b[0m\u001b[36msats.satellite.Scanner-1       \u001b[0m\u001b[mINFO       \u001b[0m\u001b[33m<19800.00> \u001b[0m\u001b[36mScanner-1: \u001b[0m\u001b[msetting timed terminal event at 19860.0\u001b[0m\n"
     ]
    },
    {
     "name": "stderr",
     "output_type": "stream",
     "text": [
      "\u001b[90;3m2024-09-12 15:06:47,320 \u001b[0m\u001b[36msats.satellite.Scanner-1       \u001b[0m\u001b[mINFO       \u001b[0m\u001b[33m<19860.00> \u001b[0m\u001b[36mScanner-1: \u001b[0m\u001b[mtimed termination at 19860.0 for action_desat\u001b[0m\n"
     ]
    },
    {
     "name": "stderr",
     "output_type": "stream",
     "text": [
      "\u001b[90;3m2024-09-12 15:06:47,320 \u001b[0m\u001b[mdata.base                      \u001b[0m\u001b[mINFO       \u001b[0m\u001b[33m<19860.00> \u001b[0m\u001b[mData reward: {'Scanner-1': 0.0}\u001b[0m\n"
     ]
    },
    {
     "name": "stderr",
     "output_type": "stream",
     "text": [
      "\u001b[90;3m2024-09-12 15:06:47,320 \u001b[0m\u001b[36msats.satellite.Scanner-1       \u001b[0m\u001b[mINFO       \u001b[0m\u001b[33m<19860.00> \u001b[0m\u001b[36mScanner-1: \u001b[0m\u001b[mSatellite Scanner-1 requires retasking\u001b[0m\n"
     ]
    },
    {
     "name": "stderr",
     "output_type": "stream",
     "text": [
      "\u001b[90;3m2024-09-12 15:06:47,321 \u001b[0m\u001b[mgym                            \u001b[0m\u001b[mINFO       \u001b[0m\u001b[33m<19860.00> \u001b[0m\u001b[mStep reward: 0.0\u001b[0m\n"
     ]
    },
    {
     "name": "stderr",
     "output_type": "stream",
     "text": [
      "\u001b[90;3m2024-09-12 15:06:47,321 \u001b[0m\u001b[mgym                            \u001b[0m\u001b[mINFO       \u001b[0m\u001b[33m<19860.00> \u001b[0m\u001b[93;1m=== STARTING STEP ===\u001b[0m\n"
     ]
    },
    {
     "name": "stderr",
     "output_type": "stream",
     "text": [
      "\u001b[90;3m2024-09-12 15:06:47,322 \u001b[0m\u001b[36msats.satellite.Scanner-1       \u001b[0m\u001b[mINFO       \u001b[0m\u001b[33m<19860.00> \u001b[0m\u001b[36mScanner-1: \u001b[0m\u001b[maction_downlink tasked for 60.0 seconds\u001b[0m\n"
     ]
    },
    {
     "name": "stderr",
     "output_type": "stream",
     "text": [
      "\u001b[90;3m2024-09-12 15:06:47,322 \u001b[0m\u001b[36msats.satellite.Scanner-1       \u001b[0m\u001b[mINFO       \u001b[0m\u001b[33m<19860.00> \u001b[0m\u001b[36mScanner-1: \u001b[0m\u001b[msetting timed terminal event at 19920.0\u001b[0m\n"
     ]
    },
    {
     "name": "stderr",
     "output_type": "stream",
     "text": [
      "\u001b[90;3m2024-09-12 15:06:47,326 \u001b[0m\u001b[36msats.satellite.Scanner-1       \u001b[0m\u001b[mINFO       \u001b[0m\u001b[33m<19920.00> \u001b[0m\u001b[36mScanner-1: \u001b[0m\u001b[mtimed termination at 19920.0 for action_downlink\u001b[0m\n"
     ]
    },
    {
     "name": "stderr",
     "output_type": "stream",
     "text": [
      "\u001b[90;3m2024-09-12 15:06:47,326 \u001b[0m\u001b[mdata.base                      \u001b[0m\u001b[mINFO       \u001b[0m\u001b[33m<19920.00> \u001b[0m\u001b[mData reward: {'Scanner-1': 0.0}\u001b[0m\n"
     ]
    },
    {
     "name": "stderr",
     "output_type": "stream",
     "text": [
      "\u001b[90;3m2024-09-12 15:06:47,326 \u001b[0m\u001b[36msats.satellite.Scanner-1       \u001b[0m\u001b[mINFO       \u001b[0m\u001b[33m<19920.00> \u001b[0m\u001b[36mScanner-1: \u001b[0m\u001b[mSatellite Scanner-1 requires retasking\u001b[0m\n"
     ]
    },
    {
     "name": "stderr",
     "output_type": "stream",
     "text": [
      "\u001b[90;3m2024-09-12 15:06:47,327 \u001b[0m\u001b[mgym                            \u001b[0m\u001b[mINFO       \u001b[0m\u001b[33m<19920.00> \u001b[0m\u001b[mStep reward: 0.0\u001b[0m\n"
     ]
    },
    {
     "name": "stderr",
     "output_type": "stream",
     "text": [
      "\u001b[90;3m2024-09-12 15:06:47,328 \u001b[0m\u001b[mgym                            \u001b[0m\u001b[mINFO       \u001b[0m\u001b[33m<19920.00> \u001b[0m\u001b[93;1m=== STARTING STEP ===\u001b[0m\n"
     ]
    },
    {
     "name": "stderr",
     "output_type": "stream",
     "text": [
      "\u001b[90;3m2024-09-12 15:06:47,328 \u001b[0m\u001b[36msats.satellite.Scanner-1       \u001b[0m\u001b[mINFO       \u001b[0m\u001b[33m<19920.00> \u001b[0m\u001b[36mScanner-1: \u001b[0m\u001b[maction_desat tasked for 60.0 seconds\u001b[0m\n"
     ]
    },
    {
     "name": "stderr",
     "output_type": "stream",
     "text": [
      "\u001b[90;3m2024-09-12 15:06:47,328 \u001b[0m\u001b[36msats.satellite.Scanner-1       \u001b[0m\u001b[mINFO       \u001b[0m\u001b[33m<19920.00> \u001b[0m\u001b[36mScanner-1: \u001b[0m\u001b[msetting timed terminal event at 19980.0\u001b[0m\n"
     ]
    },
    {
     "name": "stderr",
     "output_type": "stream",
     "text": [
      "\u001b[90;3m2024-09-12 15:06:47,332 \u001b[0m\u001b[36msats.satellite.Scanner-1       \u001b[0m\u001b[mINFO       \u001b[0m\u001b[33m<19980.00> \u001b[0m\u001b[36mScanner-1: \u001b[0m\u001b[mtimed termination at 19980.0 for action_desat\u001b[0m\n"
     ]
    },
    {
     "name": "stderr",
     "output_type": "stream",
     "text": [
      "\u001b[90;3m2024-09-12 15:06:47,332 \u001b[0m\u001b[mdata.base                      \u001b[0m\u001b[mINFO       \u001b[0m\u001b[33m<19980.00> \u001b[0m\u001b[mData reward: {'Scanner-1': 0.0}\u001b[0m\n"
     ]
    },
    {
     "name": "stderr",
     "output_type": "stream",
     "text": [
      "\u001b[90;3m2024-09-12 15:06:47,333 \u001b[0m\u001b[36msats.satellite.Scanner-1       \u001b[0m\u001b[mINFO       \u001b[0m\u001b[33m<19980.00> \u001b[0m\u001b[36mScanner-1: \u001b[0m\u001b[mSatellite Scanner-1 requires retasking\u001b[0m\n"
     ]
    },
    {
     "name": "stderr",
     "output_type": "stream",
     "text": [
      "\u001b[90;3m2024-09-12 15:06:47,333 \u001b[0m\u001b[mgym                            \u001b[0m\u001b[mINFO       \u001b[0m\u001b[33m<19980.00> \u001b[0m\u001b[mStep reward: 0.0\u001b[0m\n"
     ]
    },
    {
     "name": "stderr",
     "output_type": "stream",
     "text": [
      "\u001b[90;3m2024-09-12 15:06:47,334 \u001b[0m\u001b[mgym                            \u001b[0m\u001b[mINFO       \u001b[0m\u001b[33m<19980.00> \u001b[0m\u001b[93;1m=== STARTING STEP ===\u001b[0m\n"
     ]
    },
    {
     "name": "stderr",
     "output_type": "stream",
     "text": [
      "\u001b[90;3m2024-09-12 15:06:47,334 \u001b[0m\u001b[36msats.satellite.Scanner-1       \u001b[0m\u001b[mINFO       \u001b[0m\u001b[33m<19980.00> \u001b[0m\u001b[36mScanner-1: \u001b[0m\u001b[maction_charge tasked for 120.0 seconds\u001b[0m\n"
     ]
    },
    {
     "name": "stderr",
     "output_type": "stream",
     "text": [
      "\u001b[90;3m2024-09-12 15:06:47,334 \u001b[0m\u001b[36msats.satellite.Scanner-1       \u001b[0m\u001b[mINFO       \u001b[0m\u001b[33m<19980.00> \u001b[0m\u001b[36mScanner-1: \u001b[0m\u001b[msetting timed terminal event at 20100.0\u001b[0m\n"
     ]
    },
    {
     "name": "stderr",
     "output_type": "stream",
     "text": [
      "\u001b[90;3m2024-09-12 15:06:47,343 \u001b[0m\u001b[36msats.satellite.Scanner-1       \u001b[0m\u001b[mINFO       \u001b[0m\u001b[33m<20100.00> \u001b[0m\u001b[36mScanner-1: \u001b[0m\u001b[mtimed termination at 20100.0 for action_charge\u001b[0m\n"
     ]
    },
    {
     "name": "stderr",
     "output_type": "stream",
     "text": [
      "\u001b[90;3m2024-09-12 15:06:47,343 \u001b[0m\u001b[mdata.base                      \u001b[0m\u001b[mINFO       \u001b[0m\u001b[33m<20100.00> \u001b[0m\u001b[mData reward: {'Scanner-1': 0.0}\u001b[0m\n"
     ]
    },
    {
     "name": "stderr",
     "output_type": "stream",
     "text": [
      "\u001b[90;3m2024-09-12 15:06:47,343 \u001b[0m\u001b[36msats.satellite.Scanner-1       \u001b[0m\u001b[mINFO       \u001b[0m\u001b[33m<20100.00> \u001b[0m\u001b[36mScanner-1: \u001b[0m\u001b[mSatellite Scanner-1 requires retasking\u001b[0m\n"
     ]
    },
    {
     "name": "stderr",
     "output_type": "stream",
     "text": [
      "\u001b[90;3m2024-09-12 15:06:47,344 \u001b[0m\u001b[mgym                            \u001b[0m\u001b[mINFO       \u001b[0m\u001b[33m<20100.00> \u001b[0m\u001b[mStep reward: 0.0\u001b[0m\n"
     ]
    },
    {
     "name": "stderr",
     "output_type": "stream",
     "text": [
      "\u001b[90;3m2024-09-12 15:06:47,344 \u001b[0m\u001b[mgym                            \u001b[0m\u001b[mINFO       \u001b[0m\u001b[33m<20100.00> \u001b[0m\u001b[93;1m=== STARTING STEP ===\u001b[0m\n"
     ]
    },
    {
     "name": "stderr",
     "output_type": "stream",
     "text": [
      "\u001b[90;3m2024-09-12 15:06:47,344 \u001b[0m\u001b[36msats.satellite.Scanner-1       \u001b[0m\u001b[mINFO       \u001b[0m\u001b[33m<20100.00> \u001b[0m\u001b[36mScanner-1: \u001b[0m\u001b[maction_desat tasked for 60.0 seconds\u001b[0m\n"
     ]
    },
    {
     "name": "stderr",
     "output_type": "stream",
     "text": [
      "\u001b[90;3m2024-09-12 15:06:47,345 \u001b[0m\u001b[36msats.satellite.Scanner-1       \u001b[0m\u001b[mINFO       \u001b[0m\u001b[33m<20100.00> \u001b[0m\u001b[36mScanner-1: \u001b[0m\u001b[msetting timed terminal event at 20160.0\u001b[0m\n"
     ]
    },
    {
     "name": "stderr",
     "output_type": "stream",
     "text": [
      "\u001b[90;3m2024-09-12 15:06:47,349 \u001b[0m\u001b[36msats.satellite.Scanner-1       \u001b[0m\u001b[mINFO       \u001b[0m\u001b[33m<20160.00> \u001b[0m\u001b[36mScanner-1: \u001b[0m\u001b[mtimed termination at 20160.0 for action_desat\u001b[0m\n"
     ]
    },
    {
     "name": "stderr",
     "output_type": "stream",
     "text": [
      "\u001b[90;3m2024-09-12 15:06:47,349 \u001b[0m\u001b[mdata.base                      \u001b[0m\u001b[mINFO       \u001b[0m\u001b[33m<20160.00> \u001b[0m\u001b[mData reward: {'Scanner-1': 0.0}\u001b[0m\n"
     ]
    },
    {
     "name": "stderr",
     "output_type": "stream",
     "text": [
      "\u001b[90;3m2024-09-12 15:06:47,349 \u001b[0m\u001b[36msats.satellite.Scanner-1       \u001b[0m\u001b[mINFO       \u001b[0m\u001b[33m<20160.00> \u001b[0m\u001b[36mScanner-1: \u001b[0m\u001b[mSatellite Scanner-1 requires retasking\u001b[0m\n"
     ]
    },
    {
     "name": "stderr",
     "output_type": "stream",
     "text": [
      "\u001b[90;3m2024-09-12 15:06:47,350 \u001b[0m\u001b[mgym                            \u001b[0m\u001b[mINFO       \u001b[0m\u001b[33m<20160.00> \u001b[0m\u001b[mStep reward: 0.0\u001b[0m\n"
     ]
    },
    {
     "name": "stderr",
     "output_type": "stream",
     "text": [
      "\u001b[90;3m2024-09-12 15:06:47,351 \u001b[0m\u001b[mgym                            \u001b[0m\u001b[mINFO       \u001b[0m\u001b[33m<20160.00> \u001b[0m\u001b[93;1m=== STARTING STEP ===\u001b[0m\n"
     ]
    },
    {
     "name": "stderr",
     "output_type": "stream",
     "text": [
      "\u001b[90;3m2024-09-12 15:06:47,351 \u001b[0m\u001b[36msats.satellite.Scanner-1       \u001b[0m\u001b[mINFO       \u001b[0m\u001b[33m<20160.00> \u001b[0m\u001b[36mScanner-1: \u001b[0m\u001b[maction_nadir_scan tasked for 180.0 seconds\u001b[0m\n"
     ]
    },
    {
     "name": "stderr",
     "output_type": "stream",
     "text": [
      "\u001b[90;3m2024-09-12 15:06:47,351 \u001b[0m\u001b[36msats.satellite.Scanner-1       \u001b[0m\u001b[mINFO       \u001b[0m\u001b[33m<20160.00> \u001b[0m\u001b[36mScanner-1: \u001b[0m\u001b[msetting timed terminal event at 20340.0\u001b[0m\n"
     ]
    },
    {
     "name": "stderr",
     "output_type": "stream",
     "text": [
      "\u001b[90;3m2024-09-12 15:06:47,362 \u001b[0m\u001b[36msats.satellite.Scanner-1       \u001b[0m\u001b[mINFO       \u001b[0m\u001b[33m<20340.00> \u001b[0m\u001b[36mScanner-1: \u001b[0m\u001b[mtimed termination at 20340.0 for action_nadir_scan\u001b[0m\n"
     ]
    },
    {
     "name": "stderr",
     "output_type": "stream",
     "text": [
      "\u001b[90;3m2024-09-12 15:06:47,362 \u001b[0m\u001b[mdata.base                      \u001b[0m\u001b[mINFO       \u001b[0m\u001b[33m<20340.00> \u001b[0m\u001b[mData reward: {'Scanner-1': 0.00487719298245614}\u001b[0m\n"
     ]
    },
    {
     "name": "stderr",
     "output_type": "stream",
     "text": [
      "\u001b[90;3m2024-09-12 15:06:47,362 \u001b[0m\u001b[36msats.satellite.Scanner-1       \u001b[0m\u001b[mINFO       \u001b[0m\u001b[33m<20340.00> \u001b[0m\u001b[36mScanner-1: \u001b[0m\u001b[mSatellite Scanner-1 requires retasking\u001b[0m\n"
     ]
    },
    {
     "name": "stderr",
     "output_type": "stream",
     "text": [
      "\u001b[90;3m2024-09-12 15:06:47,363 \u001b[0m\u001b[mgym                            \u001b[0m\u001b[mINFO       \u001b[0m\u001b[33m<20340.00> \u001b[0m\u001b[mStep reward: 0.00487719298245614\u001b[0m\n"
     ]
    },
    {
     "name": "stderr",
     "output_type": "stream",
     "text": [
      "\u001b[90;3m2024-09-12 15:06:47,363 \u001b[0m\u001b[mgym                            \u001b[0m\u001b[mINFO       \u001b[0m\u001b[33m<20340.00> \u001b[0m\u001b[93;1m=== STARTING STEP ===\u001b[0m\n"
     ]
    },
    {
     "name": "stderr",
     "output_type": "stream",
     "text": [
      "\u001b[90;3m2024-09-12 15:06:47,364 \u001b[0m\u001b[36msats.satellite.Scanner-1       \u001b[0m\u001b[mINFO       \u001b[0m\u001b[33m<20340.00> \u001b[0m\u001b[36mScanner-1: \u001b[0m\u001b[maction_downlink tasked for 60.0 seconds\u001b[0m\n"
     ]
    },
    {
     "name": "stderr",
     "output_type": "stream",
     "text": [
      "\u001b[90;3m2024-09-12 15:06:47,364 \u001b[0m\u001b[36msats.satellite.Scanner-1       \u001b[0m\u001b[mINFO       \u001b[0m\u001b[33m<20340.00> \u001b[0m\u001b[36mScanner-1: \u001b[0m\u001b[msetting timed terminal event at 20400.0\u001b[0m\n"
     ]
    },
    {
     "name": "stderr",
     "output_type": "stream",
     "text": [
      "\u001b[90;3m2024-09-12 15:06:47,368 \u001b[0m\u001b[36msats.satellite.Scanner-1       \u001b[0m\u001b[mINFO       \u001b[0m\u001b[33m<20400.00> \u001b[0m\u001b[36mScanner-1: \u001b[0m\u001b[mtimed termination at 20400.0 for action_downlink\u001b[0m\n"
     ]
    },
    {
     "name": "stderr",
     "output_type": "stream",
     "text": [
      "\u001b[90;3m2024-09-12 15:06:47,368 \u001b[0m\u001b[mdata.base                      \u001b[0m\u001b[mINFO       \u001b[0m\u001b[33m<20400.00> \u001b[0m\u001b[mData reward: {'Scanner-1': 0.0}\u001b[0m\n"
     ]
    },
    {
     "name": "stderr",
     "output_type": "stream",
     "text": [
      "\u001b[90;3m2024-09-12 15:06:47,369 \u001b[0m\u001b[36msats.satellite.Scanner-1       \u001b[0m\u001b[mINFO       \u001b[0m\u001b[33m<20400.00> \u001b[0m\u001b[36mScanner-1: \u001b[0m\u001b[mSatellite Scanner-1 requires retasking\u001b[0m\n"
     ]
    },
    {
     "name": "stderr",
     "output_type": "stream",
     "text": [
      "\u001b[90;3m2024-09-12 15:06:47,369 \u001b[0m\u001b[mgym                            \u001b[0m\u001b[mINFO       \u001b[0m\u001b[33m<20400.00> \u001b[0m\u001b[mStep reward: 0.0\u001b[0m\n"
     ]
    },
    {
     "name": "stderr",
     "output_type": "stream",
     "text": [
      "\u001b[90;3m2024-09-12 15:06:47,370 \u001b[0m\u001b[mgym                            \u001b[0m\u001b[mINFO       \u001b[0m\u001b[33m<20400.00> \u001b[0m\u001b[93;1m=== STARTING STEP ===\u001b[0m\n"
     ]
    },
    {
     "name": "stderr",
     "output_type": "stream",
     "text": [
      "\u001b[90;3m2024-09-12 15:06:47,370 \u001b[0m\u001b[36msats.satellite.Scanner-1       \u001b[0m\u001b[mINFO       \u001b[0m\u001b[33m<20400.00> \u001b[0m\u001b[36mScanner-1: \u001b[0m\u001b[maction_nadir_scan tasked for 180.0 seconds\u001b[0m\n"
     ]
    },
    {
     "name": "stderr",
     "output_type": "stream",
     "text": [
      "\u001b[90;3m2024-09-12 15:06:47,370 \u001b[0m\u001b[36msats.satellite.Scanner-1       \u001b[0m\u001b[mINFO       \u001b[0m\u001b[33m<20400.00> \u001b[0m\u001b[36mScanner-1: \u001b[0m\u001b[msetting timed terminal event at 20580.0\u001b[0m\n"
     ]
    },
    {
     "name": "stderr",
     "output_type": "stream",
     "text": [
      "\u001b[90;3m2024-09-12 15:06:47,381 \u001b[0m\u001b[36msats.satellite.Scanner-1       \u001b[0m\u001b[mINFO       \u001b[0m\u001b[33m<20580.00> \u001b[0m\u001b[36mScanner-1: \u001b[0m\u001b[mtimed termination at 20580.0 for action_nadir_scan\u001b[0m\n"
     ]
    },
    {
     "name": "stderr",
     "output_type": "stream",
     "text": [
      "\u001b[90;3m2024-09-12 15:06:47,382 \u001b[0m\u001b[mdata.base                      \u001b[0m\u001b[mINFO       \u001b[0m\u001b[33m<20580.00> \u001b[0m\u001b[mData reward: {'Scanner-1': 0.00487719298245614}\u001b[0m\n"
     ]
    },
    {
     "name": "stderr",
     "output_type": "stream",
     "text": [
      "\u001b[90;3m2024-09-12 15:06:47,382 \u001b[0m\u001b[36msats.satellite.Scanner-1       \u001b[0m\u001b[mINFO       \u001b[0m\u001b[33m<20580.00> \u001b[0m\u001b[36mScanner-1: \u001b[0m\u001b[mSatellite Scanner-1 requires retasking\u001b[0m\n"
     ]
    },
    {
     "name": "stderr",
     "output_type": "stream",
     "text": [
      "\u001b[90;3m2024-09-12 15:06:47,383 \u001b[0m\u001b[mgym                            \u001b[0m\u001b[mINFO       \u001b[0m\u001b[33m<20580.00> \u001b[0m\u001b[mStep reward: 0.00487719298245614\u001b[0m\n"
     ]
    },
    {
     "name": "stderr",
     "output_type": "stream",
     "text": [
      "\u001b[90;3m2024-09-12 15:06:47,383 \u001b[0m\u001b[mgym                            \u001b[0m\u001b[mINFO       \u001b[0m\u001b[33m<20580.00> \u001b[0m\u001b[93;1m=== STARTING STEP ===\u001b[0m\n"
     ]
    },
    {
     "name": "stderr",
     "output_type": "stream",
     "text": [
      "\u001b[90;3m2024-09-12 15:06:47,383 \u001b[0m\u001b[36msats.satellite.Scanner-1       \u001b[0m\u001b[mINFO       \u001b[0m\u001b[33m<20580.00> \u001b[0m\u001b[36mScanner-1: \u001b[0m\u001b[maction_downlink tasked for 60.0 seconds\u001b[0m\n"
     ]
    },
    {
     "name": "stderr",
     "output_type": "stream",
     "text": [
      "\u001b[90;3m2024-09-12 15:06:47,383 \u001b[0m\u001b[36msats.satellite.Scanner-1       \u001b[0m\u001b[mINFO       \u001b[0m\u001b[33m<20580.00> \u001b[0m\u001b[36mScanner-1: \u001b[0m\u001b[msetting timed terminal event at 20640.0\u001b[0m\n"
     ]
    },
    {
     "name": "stderr",
     "output_type": "stream",
     "text": [
      "\u001b[90;3m2024-09-12 15:06:47,388 \u001b[0m\u001b[36msats.satellite.Scanner-1       \u001b[0m\u001b[mINFO       \u001b[0m\u001b[33m<20640.00> \u001b[0m\u001b[36mScanner-1: \u001b[0m\u001b[mtimed termination at 20640.0 for action_downlink\u001b[0m\n"
     ]
    },
    {
     "name": "stderr",
     "output_type": "stream",
     "text": [
      "\u001b[90;3m2024-09-12 15:06:47,388 \u001b[0m\u001b[mdata.base                      \u001b[0m\u001b[mINFO       \u001b[0m\u001b[33m<20640.00> \u001b[0m\u001b[mData reward: {'Scanner-1': 0.0}\u001b[0m\n"
     ]
    },
    {
     "name": "stderr",
     "output_type": "stream",
     "text": [
      "\u001b[90;3m2024-09-12 15:06:47,389 \u001b[0m\u001b[36msats.satellite.Scanner-1       \u001b[0m\u001b[mINFO       \u001b[0m\u001b[33m<20640.00> \u001b[0m\u001b[36mScanner-1: \u001b[0m\u001b[mSatellite Scanner-1 requires retasking\u001b[0m\n"
     ]
    },
    {
     "name": "stderr",
     "output_type": "stream",
     "text": [
      "\u001b[90;3m2024-09-12 15:06:47,389 \u001b[0m\u001b[mgym                            \u001b[0m\u001b[mINFO       \u001b[0m\u001b[33m<20640.00> \u001b[0m\u001b[mStep reward: 0.0\u001b[0m\n"
     ]
    },
    {
     "name": "stderr",
     "output_type": "stream",
     "text": [
      "\u001b[90;3m2024-09-12 15:06:47,390 \u001b[0m\u001b[mgym                            \u001b[0m\u001b[mINFO       \u001b[0m\u001b[33m<20640.00> \u001b[0m\u001b[93;1m=== STARTING STEP ===\u001b[0m\n"
     ]
    },
    {
     "name": "stderr",
     "output_type": "stream",
     "text": [
      "\u001b[90;3m2024-09-12 15:06:47,390 \u001b[0m\u001b[36msats.satellite.Scanner-1       \u001b[0m\u001b[mINFO       \u001b[0m\u001b[33m<20640.00> \u001b[0m\u001b[36mScanner-1: \u001b[0m\u001b[maction_downlink tasked for 60.0 seconds\u001b[0m\n"
     ]
    },
    {
     "name": "stderr",
     "output_type": "stream",
     "text": [
      "\u001b[90;3m2024-09-12 15:06:47,390 \u001b[0m\u001b[36msats.satellite.Scanner-1       \u001b[0m\u001b[mINFO       \u001b[0m\u001b[33m<20640.00> \u001b[0m\u001b[36mScanner-1: \u001b[0m\u001b[msetting timed terminal event at 20700.0\u001b[0m\n"
     ]
    },
    {
     "name": "stderr",
     "output_type": "stream",
     "text": [
      "\u001b[90;3m2024-09-12 15:06:47,394 \u001b[0m\u001b[36msats.satellite.Scanner-1       \u001b[0m\u001b[mINFO       \u001b[0m\u001b[33m<20700.00> \u001b[0m\u001b[36mScanner-1: \u001b[0m\u001b[mtimed termination at 20700.0 for action_downlink\u001b[0m\n"
     ]
    },
    {
     "name": "stderr",
     "output_type": "stream",
     "text": [
      "\u001b[90;3m2024-09-12 15:06:47,395 \u001b[0m\u001b[mdata.base                      \u001b[0m\u001b[mINFO       \u001b[0m\u001b[33m<20700.00> \u001b[0m\u001b[mData reward: {'Scanner-1': 0.0}\u001b[0m\n"
     ]
    },
    {
     "name": "stderr",
     "output_type": "stream",
     "text": [
      "\u001b[90;3m2024-09-12 15:06:47,395 \u001b[0m\u001b[36msats.satellite.Scanner-1       \u001b[0m\u001b[mINFO       \u001b[0m\u001b[33m<20700.00> \u001b[0m\u001b[36mScanner-1: \u001b[0m\u001b[mSatellite Scanner-1 requires retasking\u001b[0m\n"
     ]
    },
    {
     "name": "stderr",
     "output_type": "stream",
     "text": [
      "\u001b[90;3m2024-09-12 15:06:47,396 \u001b[0m\u001b[mgym                            \u001b[0m\u001b[mINFO       \u001b[0m\u001b[33m<20700.00> \u001b[0m\u001b[mStep reward: 0.0\u001b[0m\n"
     ]
    },
    {
     "name": "stderr",
     "output_type": "stream",
     "text": [
      "\u001b[90;3m2024-09-12 15:06:47,396 \u001b[0m\u001b[mgym                            \u001b[0m\u001b[mINFO       \u001b[0m\u001b[33m<20700.00> \u001b[0m\u001b[93;1m=== STARTING STEP ===\u001b[0m\n"
     ]
    },
    {
     "name": "stderr",
     "output_type": "stream",
     "text": [
      "\u001b[90;3m2024-09-12 15:06:47,396 \u001b[0m\u001b[36msats.satellite.Scanner-1       \u001b[0m\u001b[mINFO       \u001b[0m\u001b[33m<20700.00> \u001b[0m\u001b[36mScanner-1: \u001b[0m\u001b[maction_downlink tasked for 60.0 seconds\u001b[0m\n"
     ]
    },
    {
     "name": "stderr",
     "output_type": "stream",
     "text": [
      "\u001b[90;3m2024-09-12 15:06:47,396 \u001b[0m\u001b[36msats.satellite.Scanner-1       \u001b[0m\u001b[mINFO       \u001b[0m\u001b[33m<20700.00> \u001b[0m\u001b[36mScanner-1: \u001b[0m\u001b[msetting timed terminal event at 20760.0\u001b[0m\n"
     ]
    },
    {
     "name": "stderr",
     "output_type": "stream",
     "text": [
      "\u001b[90;3m2024-09-12 15:06:47,401 \u001b[0m\u001b[36msats.satellite.Scanner-1       \u001b[0m\u001b[mINFO       \u001b[0m\u001b[33m<20760.00> \u001b[0m\u001b[36mScanner-1: \u001b[0m\u001b[mtimed termination at 20760.0 for action_downlink\u001b[0m\n"
     ]
    },
    {
     "name": "stderr",
     "output_type": "stream",
     "text": [
      "\u001b[90;3m2024-09-12 15:06:47,401 \u001b[0m\u001b[mdata.base                      \u001b[0m\u001b[mINFO       \u001b[0m\u001b[33m<20760.00> \u001b[0m\u001b[mData reward: {'Scanner-1': 0.0}\u001b[0m\n"
     ]
    },
    {
     "name": "stderr",
     "output_type": "stream",
     "text": [
      "\u001b[90;3m2024-09-12 15:06:47,402 \u001b[0m\u001b[36msats.satellite.Scanner-1       \u001b[0m\u001b[mINFO       \u001b[0m\u001b[33m<20760.00> \u001b[0m\u001b[36mScanner-1: \u001b[0m\u001b[mSatellite Scanner-1 requires retasking\u001b[0m\n"
     ]
    },
    {
     "name": "stderr",
     "output_type": "stream",
     "text": [
      "\u001b[90;3m2024-09-12 15:06:47,402 \u001b[0m\u001b[mgym                            \u001b[0m\u001b[mINFO       \u001b[0m\u001b[33m<20760.00> \u001b[0m\u001b[mStep reward: 0.0\u001b[0m\n"
     ]
    },
    {
     "name": "stderr",
     "output_type": "stream",
     "text": [
      "\u001b[90;3m2024-09-12 15:06:47,403 \u001b[0m\u001b[mgym                            \u001b[0m\u001b[mINFO       \u001b[0m\u001b[33m<20760.00> \u001b[0m\u001b[93;1m=== STARTING STEP ===\u001b[0m\n"
     ]
    },
    {
     "name": "stderr",
     "output_type": "stream",
     "text": [
      "\u001b[90;3m2024-09-12 15:06:47,403 \u001b[0m\u001b[36msats.satellite.Scanner-1       \u001b[0m\u001b[mINFO       \u001b[0m\u001b[33m<20760.00> \u001b[0m\u001b[36mScanner-1: \u001b[0m\u001b[maction_nadir_scan tasked for 180.0 seconds\u001b[0m\n"
     ]
    },
    {
     "name": "stderr",
     "output_type": "stream",
     "text": [
      "\u001b[90;3m2024-09-12 15:06:47,403 \u001b[0m\u001b[36msats.satellite.Scanner-1       \u001b[0m\u001b[mINFO       \u001b[0m\u001b[33m<20760.00> \u001b[0m\u001b[36mScanner-1: \u001b[0m\u001b[msetting timed terminal event at 20940.0\u001b[0m\n"
     ]
    },
    {
     "name": "stderr",
     "output_type": "stream",
     "text": [
      "\u001b[90;3m2024-09-12 15:06:47,415 \u001b[0m\u001b[36msats.satellite.Scanner-1       \u001b[0m\u001b[mINFO       \u001b[0m\u001b[33m<20940.00> \u001b[0m\u001b[36mScanner-1: \u001b[0m\u001b[mtimed termination at 20940.0 for action_nadir_scan\u001b[0m\n"
     ]
    },
    {
     "name": "stderr",
     "output_type": "stream",
     "text": [
      "\u001b[90;3m2024-09-12 15:06:47,416 \u001b[0m\u001b[mdata.base                      \u001b[0m\u001b[mINFO       \u001b[0m\u001b[33m<20940.00> \u001b[0m\u001b[mData reward: {'Scanner-1': 0.004912280701754385}\u001b[0m\n"
     ]
    },
    {
     "name": "stderr",
     "output_type": "stream",
     "text": [
      "\u001b[90;3m2024-09-12 15:06:47,416 \u001b[0m\u001b[36msats.satellite.Scanner-1       \u001b[0m\u001b[mINFO       \u001b[0m\u001b[33m<20940.00> \u001b[0m\u001b[36mScanner-1: \u001b[0m\u001b[mSatellite Scanner-1 requires retasking\u001b[0m\n"
     ]
    },
    {
     "name": "stderr",
     "output_type": "stream",
     "text": [
      "\u001b[90;3m2024-09-12 15:06:47,417 \u001b[0m\u001b[mgym                            \u001b[0m\u001b[mINFO       \u001b[0m\u001b[33m<20940.00> \u001b[0m\u001b[mStep reward: 0.004912280701754385\u001b[0m\n"
     ]
    },
    {
     "name": "stderr",
     "output_type": "stream",
     "text": [
      "\u001b[90;3m2024-09-12 15:06:47,417 \u001b[0m\u001b[mgym                            \u001b[0m\u001b[mINFO       \u001b[0m\u001b[33m<20940.00> \u001b[0m\u001b[93;1m=== STARTING STEP ===\u001b[0m\n"
     ]
    },
    {
     "name": "stderr",
     "output_type": "stream",
     "text": [
      "\u001b[90;3m2024-09-12 15:06:47,417 \u001b[0m\u001b[36msats.satellite.Scanner-1       \u001b[0m\u001b[mINFO       \u001b[0m\u001b[33m<20940.00> \u001b[0m\u001b[36mScanner-1: \u001b[0m\u001b[maction_charge tasked for 120.0 seconds\u001b[0m\n"
     ]
    },
    {
     "name": "stderr",
     "output_type": "stream",
     "text": [
      "\u001b[90;3m2024-09-12 15:06:47,417 \u001b[0m\u001b[36msats.satellite.Scanner-1       \u001b[0m\u001b[mINFO       \u001b[0m\u001b[33m<20940.00> \u001b[0m\u001b[36mScanner-1: \u001b[0m\u001b[msetting timed terminal event at 21060.0\u001b[0m\n"
     ]
    },
    {
     "name": "stderr",
     "output_type": "stream",
     "text": [
      "\u001b[90;3m2024-09-12 15:06:47,425 \u001b[0m\u001b[36msats.satellite.Scanner-1       \u001b[0m\u001b[mINFO       \u001b[0m\u001b[33m<21060.00> \u001b[0m\u001b[36mScanner-1: \u001b[0m\u001b[mtimed termination at 21060.0 for action_charge\u001b[0m\n"
     ]
    },
    {
     "name": "stderr",
     "output_type": "stream",
     "text": [
      "\u001b[90;3m2024-09-12 15:06:47,426 \u001b[0m\u001b[mdata.base                      \u001b[0m\u001b[mINFO       \u001b[0m\u001b[33m<21060.00> \u001b[0m\u001b[mData reward: {'Scanner-1': 0.0}\u001b[0m\n"
     ]
    },
    {
     "name": "stderr",
     "output_type": "stream",
     "text": [
      "\u001b[90;3m2024-09-12 15:06:47,426 \u001b[0m\u001b[36msats.satellite.Scanner-1       \u001b[0m\u001b[mINFO       \u001b[0m\u001b[33m<21060.00> \u001b[0m\u001b[36mScanner-1: \u001b[0m\u001b[mSatellite Scanner-1 requires retasking\u001b[0m\n"
     ]
    },
    {
     "name": "stderr",
     "output_type": "stream",
     "text": [
      "\u001b[90;3m2024-09-12 15:06:47,427 \u001b[0m\u001b[mgym                            \u001b[0m\u001b[mINFO       \u001b[0m\u001b[33m<21060.00> \u001b[0m\u001b[mStep reward: 0.0\u001b[0m\n"
     ]
    },
    {
     "name": "stderr",
     "output_type": "stream",
     "text": [
      "\u001b[90;3m2024-09-12 15:06:47,427 \u001b[0m\u001b[mgym                            \u001b[0m\u001b[mINFO       \u001b[0m\u001b[33m<21060.00> \u001b[0m\u001b[93;1m=== STARTING STEP ===\u001b[0m\n"
     ]
    },
    {
     "name": "stderr",
     "output_type": "stream",
     "text": [
      "\u001b[90;3m2024-09-12 15:06:47,427 \u001b[0m\u001b[36msats.satellite.Scanner-1       \u001b[0m\u001b[mINFO       \u001b[0m\u001b[33m<21060.00> \u001b[0m\u001b[36mScanner-1: \u001b[0m\u001b[maction_nadir_scan tasked for 180.0 seconds\u001b[0m\n"
     ]
    },
    {
     "name": "stderr",
     "output_type": "stream",
     "text": [
      "\u001b[90;3m2024-09-12 15:06:47,428 \u001b[0m\u001b[36msats.satellite.Scanner-1       \u001b[0m\u001b[mINFO       \u001b[0m\u001b[33m<21060.00> \u001b[0m\u001b[36mScanner-1: \u001b[0m\u001b[msetting timed terminal event at 21240.0\u001b[0m\n"
     ]
    },
    {
     "name": "stderr",
     "output_type": "stream",
     "text": [
      "\u001b[90;3m2024-09-12 15:06:47,440 \u001b[0m\u001b[36msats.satellite.Scanner-1       \u001b[0m\u001b[mINFO       \u001b[0m\u001b[33m<21240.00> \u001b[0m\u001b[36mScanner-1: \u001b[0m\u001b[mtimed termination at 21240.0 for action_nadir_scan\u001b[0m\n"
     ]
    },
    {
     "name": "stderr",
     "output_type": "stream",
     "text": [
      "\u001b[90;3m2024-09-12 15:06:47,440 \u001b[0m\u001b[mdata.base                      \u001b[0m\u001b[mINFO       \u001b[0m\u001b[33m<21240.00> \u001b[0m\u001b[mData reward: {'Scanner-1': 0.006035087719298245}\u001b[0m\n"
     ]
    },
    {
     "name": "stderr",
     "output_type": "stream",
     "text": [
      "\u001b[90;3m2024-09-12 15:06:47,441 \u001b[0m\u001b[36msats.satellite.Scanner-1       \u001b[0m\u001b[mINFO       \u001b[0m\u001b[33m<21240.00> \u001b[0m\u001b[36mScanner-1: \u001b[0m\u001b[mSatellite Scanner-1 requires retasking\u001b[0m\n"
     ]
    },
    {
     "name": "stderr",
     "output_type": "stream",
     "text": [
      "\u001b[90;3m2024-09-12 15:06:47,442 \u001b[0m\u001b[mgym                            \u001b[0m\u001b[mINFO       \u001b[0m\u001b[33m<21240.00> \u001b[0m\u001b[mStep reward: 0.006035087719298245\u001b[0m\n"
     ]
    },
    {
     "name": "stderr",
     "output_type": "stream",
     "text": [
      "\u001b[90;3m2024-09-12 15:06:47,442 \u001b[0m\u001b[mgym                            \u001b[0m\u001b[mINFO       \u001b[0m\u001b[33m<21240.00> \u001b[0m\u001b[93;1m=== STARTING STEP ===\u001b[0m\n"
     ]
    },
    {
     "name": "stderr",
     "output_type": "stream",
     "text": [
      "\u001b[90;3m2024-09-12 15:06:47,442 \u001b[0m\u001b[36msats.satellite.Scanner-1       \u001b[0m\u001b[mINFO       \u001b[0m\u001b[33m<21240.00> \u001b[0m\u001b[36mScanner-1: \u001b[0m\u001b[maction_downlink tasked for 60.0 seconds\u001b[0m\n"
     ]
    },
    {
     "name": "stderr",
     "output_type": "stream",
     "text": [
      "\u001b[90;3m2024-09-12 15:06:47,442 \u001b[0m\u001b[36msats.satellite.Scanner-1       \u001b[0m\u001b[mINFO       \u001b[0m\u001b[33m<21240.00> \u001b[0m\u001b[36mScanner-1: \u001b[0m\u001b[msetting timed terminal event at 21300.0\u001b[0m\n"
     ]
    },
    {
     "name": "stderr",
     "output_type": "stream",
     "text": [
      "\u001b[90;3m2024-09-12 15:06:47,447 \u001b[0m\u001b[36msats.satellite.Scanner-1       \u001b[0m\u001b[mINFO       \u001b[0m\u001b[33m<21300.00> \u001b[0m\u001b[36mScanner-1: \u001b[0m\u001b[mtimed termination at 21300.0 for action_downlink\u001b[0m\n"
     ]
    },
    {
     "name": "stderr",
     "output_type": "stream",
     "text": [
      "\u001b[90;3m2024-09-12 15:06:47,448 \u001b[0m\u001b[mdata.base                      \u001b[0m\u001b[mINFO       \u001b[0m\u001b[33m<21300.00> \u001b[0m\u001b[mData reward: {'Scanner-1': 0.0}\u001b[0m\n"
     ]
    },
    {
     "name": "stderr",
     "output_type": "stream",
     "text": [
      "\u001b[90;3m2024-09-12 15:06:47,448 \u001b[0m\u001b[36msats.satellite.Scanner-1       \u001b[0m\u001b[mINFO       \u001b[0m\u001b[33m<21300.00> \u001b[0m\u001b[36mScanner-1: \u001b[0m\u001b[mSatellite Scanner-1 requires retasking\u001b[0m\n"
     ]
    },
    {
     "name": "stderr",
     "output_type": "stream",
     "text": [
      "\u001b[90;3m2024-09-12 15:06:47,449 \u001b[0m\u001b[mgym                            \u001b[0m\u001b[mINFO       \u001b[0m\u001b[33m<21300.00> \u001b[0m\u001b[mStep reward: 0.0\u001b[0m\n"
     ]
    },
    {
     "name": "stderr",
     "output_type": "stream",
     "text": [
      "\u001b[90;3m2024-09-12 15:06:47,449 \u001b[0m\u001b[mgym                            \u001b[0m\u001b[mINFO       \u001b[0m\u001b[33m<21300.00> \u001b[0m\u001b[93;1m=== STARTING STEP ===\u001b[0m\n"
     ]
    },
    {
     "name": "stderr",
     "output_type": "stream",
     "text": [
      "\u001b[90;3m2024-09-12 15:06:47,449 \u001b[0m\u001b[36msats.satellite.Scanner-1       \u001b[0m\u001b[mINFO       \u001b[0m\u001b[33m<21300.00> \u001b[0m\u001b[36mScanner-1: \u001b[0m\u001b[maction_nadir_scan tasked for 180.0 seconds\u001b[0m\n"
     ]
    },
    {
     "name": "stderr",
     "output_type": "stream",
     "text": [
      "\u001b[90;3m2024-09-12 15:06:47,450 \u001b[0m\u001b[36msats.satellite.Scanner-1       \u001b[0m\u001b[mINFO       \u001b[0m\u001b[33m<21300.00> \u001b[0m\u001b[36mScanner-1: \u001b[0m\u001b[msetting timed terminal event at 21480.0\u001b[0m\n"
     ]
    },
    {
     "name": "stderr",
     "output_type": "stream",
     "text": [
      "\u001b[90;3m2024-09-12 15:06:47,461 \u001b[0m\u001b[36msats.satellite.Scanner-1       \u001b[0m\u001b[mINFO       \u001b[0m\u001b[33m<21480.00> \u001b[0m\u001b[36mScanner-1: \u001b[0m\u001b[mtimed termination at 21480.0 for action_nadir_scan\u001b[0m\n"
     ]
    },
    {
     "name": "stderr",
     "output_type": "stream",
     "text": [
      "\u001b[90;3m2024-09-12 15:06:47,462 \u001b[0m\u001b[mdata.base                      \u001b[0m\u001b[mINFO       \u001b[0m\u001b[33m<21480.00> \u001b[0m\u001b[mData reward: {'Scanner-1': 0.00487719298245614}\u001b[0m\n"
     ]
    },
    {
     "name": "stderr",
     "output_type": "stream",
     "text": [
      "\u001b[90;3m2024-09-12 15:06:47,462 \u001b[0m\u001b[36msats.satellite.Scanner-1       \u001b[0m\u001b[mINFO       \u001b[0m\u001b[33m<21480.00> \u001b[0m\u001b[36mScanner-1: \u001b[0m\u001b[mSatellite Scanner-1 requires retasking\u001b[0m\n"
     ]
    },
    {
     "name": "stderr",
     "output_type": "stream",
     "text": [
      "\u001b[90;3m2024-09-12 15:06:47,463 \u001b[0m\u001b[mgym                            \u001b[0m\u001b[mINFO       \u001b[0m\u001b[33m<21480.00> \u001b[0m\u001b[mStep reward: 0.00487719298245614\u001b[0m\n"
     ]
    },
    {
     "name": "stderr",
     "output_type": "stream",
     "text": [
      "\u001b[90;3m2024-09-12 15:06:47,464 \u001b[0m\u001b[mgym                            \u001b[0m\u001b[mINFO       \u001b[0m\u001b[33m<21480.00> \u001b[0m\u001b[93;1m=== STARTING STEP ===\u001b[0m\n"
     ]
    },
    {
     "name": "stderr",
     "output_type": "stream",
     "text": [
      "\u001b[90;3m2024-09-12 15:06:47,464 \u001b[0m\u001b[36msats.satellite.Scanner-1       \u001b[0m\u001b[mINFO       \u001b[0m\u001b[33m<21480.00> \u001b[0m\u001b[36mScanner-1: \u001b[0m\u001b[maction_nadir_scan tasked for 180.0 seconds\u001b[0m\n"
     ]
    },
    {
     "name": "stderr",
     "output_type": "stream",
     "text": [
      "\u001b[90;3m2024-09-12 15:06:47,464 \u001b[0m\u001b[36msats.satellite.Scanner-1       \u001b[0m\u001b[mINFO       \u001b[0m\u001b[33m<21480.00> \u001b[0m\u001b[36mScanner-1: \u001b[0m\u001b[msetting timed terminal event at 21660.0\u001b[0m\n"
     ]
    },
    {
     "name": "stderr",
     "output_type": "stream",
     "text": [
      "\u001b[90;3m2024-09-12 15:06:47,476 \u001b[0m\u001b[36msats.satellite.Scanner-1       \u001b[0m\u001b[mINFO       \u001b[0m\u001b[33m<21660.00> \u001b[0m\u001b[36mScanner-1: \u001b[0m\u001b[mtimed termination at 21660.0 for action_nadir_scan\u001b[0m\n"
     ]
    },
    {
     "name": "stderr",
     "output_type": "stream",
     "text": [
      "\u001b[90;3m2024-09-12 15:06:47,476 \u001b[0m\u001b[mdata.base                      \u001b[0m\u001b[mINFO       \u001b[0m\u001b[33m<21660.00> \u001b[0m\u001b[mData reward: {'Scanner-1': 0.00631578947368421}\u001b[0m\n"
     ]
    },
    {
     "name": "stderr",
     "output_type": "stream",
     "text": [
      "\u001b[90;3m2024-09-12 15:06:47,477 \u001b[0m\u001b[36msats.satellite.Scanner-1       \u001b[0m\u001b[mINFO       \u001b[0m\u001b[33m<21660.00> \u001b[0m\u001b[36mScanner-1: \u001b[0m\u001b[mSatellite Scanner-1 requires retasking\u001b[0m\n"
     ]
    },
    {
     "name": "stderr",
     "output_type": "stream",
     "text": [
      "\u001b[90;3m2024-09-12 15:06:47,478 \u001b[0m\u001b[mgym                            \u001b[0m\u001b[mINFO       \u001b[0m\u001b[33m<21660.00> \u001b[0m\u001b[mStep reward: 0.00631578947368421\u001b[0m\n"
     ]
    },
    {
     "name": "stderr",
     "output_type": "stream",
     "text": [
      "\u001b[90;3m2024-09-12 15:06:47,478 \u001b[0m\u001b[mgym                            \u001b[0m\u001b[mINFO       \u001b[0m\u001b[33m<21660.00> \u001b[0m\u001b[93;1m=== STARTING STEP ===\u001b[0m\n"
     ]
    },
    {
     "name": "stderr",
     "output_type": "stream",
     "text": [
      "\u001b[90;3m2024-09-12 15:06:47,479 \u001b[0m\u001b[36msats.satellite.Scanner-1       \u001b[0m\u001b[mINFO       \u001b[0m\u001b[33m<21660.00> \u001b[0m\u001b[36mScanner-1: \u001b[0m\u001b[maction_nadir_scan tasked for 180.0 seconds\u001b[0m\n"
     ]
    },
    {
     "name": "stderr",
     "output_type": "stream",
     "text": [
      "\u001b[90;3m2024-09-12 15:06:47,479 \u001b[0m\u001b[36msats.satellite.Scanner-1       \u001b[0m\u001b[mINFO       \u001b[0m\u001b[33m<21660.00> \u001b[0m\u001b[36mScanner-1: \u001b[0m\u001b[msetting timed terminal event at 21840.0\u001b[0m\n"
     ]
    },
    {
     "name": "stderr",
     "output_type": "stream",
     "text": [
      "\u001b[90;3m2024-09-12 15:06:47,491 \u001b[0m\u001b[36msats.satellite.Scanner-1       \u001b[0m\u001b[mINFO       \u001b[0m\u001b[33m<21840.00> \u001b[0m\u001b[36mScanner-1: \u001b[0m\u001b[mtimed termination at 21840.0 for action_nadir_scan\u001b[0m\n"
     ]
    },
    {
     "name": "stderr",
     "output_type": "stream",
     "text": [
      "\u001b[90;3m2024-09-12 15:06:47,491 \u001b[0m\u001b[mdata.base                      \u001b[0m\u001b[mINFO       \u001b[0m\u001b[33m<21840.00> \u001b[0m\u001b[mData reward: {'Scanner-1': 0.00631578947368421}\u001b[0m\n"
     ]
    },
    {
     "name": "stderr",
     "output_type": "stream",
     "text": [
      "\u001b[90;3m2024-09-12 15:06:47,491 \u001b[0m\u001b[36msats.satellite.Scanner-1       \u001b[0m\u001b[mINFO       \u001b[0m\u001b[33m<21840.00> \u001b[0m\u001b[36mScanner-1: \u001b[0m\u001b[mSatellite Scanner-1 requires retasking\u001b[0m\n"
     ]
    },
    {
     "name": "stderr",
     "output_type": "stream",
     "text": [
      "\u001b[90;3m2024-09-12 15:06:47,492 \u001b[0m\u001b[mgym                            \u001b[0m\u001b[mINFO       \u001b[0m\u001b[33m<21840.00> \u001b[0m\u001b[mStep reward: 0.00631578947368421\u001b[0m\n"
     ]
    },
    {
     "name": "stderr",
     "output_type": "stream",
     "text": [
      "\u001b[90;3m2024-09-12 15:06:47,493 \u001b[0m\u001b[mgym                            \u001b[0m\u001b[mINFO       \u001b[0m\u001b[33m<21840.00> \u001b[0m\u001b[93;1m=== STARTING STEP ===\u001b[0m\n"
     ]
    },
    {
     "name": "stderr",
     "output_type": "stream",
     "text": [
      "\u001b[90;3m2024-09-12 15:06:47,493 \u001b[0m\u001b[36msats.satellite.Scanner-1       \u001b[0m\u001b[mINFO       \u001b[0m\u001b[33m<21840.00> \u001b[0m\u001b[36mScanner-1: \u001b[0m\u001b[maction_nadir_scan tasked for 180.0 seconds\u001b[0m\n"
     ]
    },
    {
     "name": "stderr",
     "output_type": "stream",
     "text": [
      "\u001b[90;3m2024-09-12 15:06:47,494 \u001b[0m\u001b[36msats.satellite.Scanner-1       \u001b[0m\u001b[mINFO       \u001b[0m\u001b[33m<21840.00> \u001b[0m\u001b[36mScanner-1: \u001b[0m\u001b[msetting timed terminal event at 22020.0\u001b[0m\n"
     ]
    },
    {
     "name": "stderr",
     "output_type": "stream",
     "text": [
      "\u001b[90;3m2024-09-12 15:06:47,506 \u001b[0m\u001b[36msats.satellite.Scanner-1       \u001b[0m\u001b[mINFO       \u001b[0m\u001b[33m<22020.00> \u001b[0m\u001b[36mScanner-1: \u001b[0m\u001b[mtimed termination at 22020.0 for action_nadir_scan\u001b[0m\n"
     ]
    },
    {
     "name": "stderr",
     "output_type": "stream",
     "text": [
      "\u001b[90;3m2024-09-12 15:06:47,506 \u001b[0m\u001b[mdata.base                      \u001b[0m\u001b[mINFO       \u001b[0m\u001b[33m<22020.00> \u001b[0m\u001b[mData reward: {'Scanner-1': 0.00631578947368421}\u001b[0m\n"
     ]
    },
    {
     "name": "stderr",
     "output_type": "stream",
     "text": [
      "\u001b[90;3m2024-09-12 15:06:47,506 \u001b[0m\u001b[36msats.satellite.Scanner-1       \u001b[0m\u001b[mINFO       \u001b[0m\u001b[33m<22020.00> \u001b[0m\u001b[36mScanner-1: \u001b[0m\u001b[mSatellite Scanner-1 requires retasking\u001b[0m\n"
     ]
    },
    {
     "name": "stderr",
     "output_type": "stream",
     "text": [
      "\u001b[90;3m2024-09-12 15:06:47,507 \u001b[0m\u001b[mgym                            \u001b[0m\u001b[mINFO       \u001b[0m\u001b[33m<22020.00> \u001b[0m\u001b[mStep reward: 0.00631578947368421\u001b[0m\n"
     ]
    },
    {
     "name": "stderr",
     "output_type": "stream",
     "text": [
      "\u001b[90;3m2024-09-12 15:06:47,508 \u001b[0m\u001b[mgym                            \u001b[0m\u001b[mINFO       \u001b[0m\u001b[33m<22020.00> \u001b[0m\u001b[93;1m=== STARTING STEP ===\u001b[0m\n"
     ]
    },
    {
     "name": "stderr",
     "output_type": "stream",
     "text": [
      "\u001b[90;3m2024-09-12 15:06:47,508 \u001b[0m\u001b[36msats.satellite.Scanner-1       \u001b[0m\u001b[mINFO       \u001b[0m\u001b[33m<22020.00> \u001b[0m\u001b[36mScanner-1: \u001b[0m\u001b[maction_charge tasked for 120.0 seconds\u001b[0m\n"
     ]
    },
    {
     "name": "stderr",
     "output_type": "stream",
     "text": [
      "\u001b[90;3m2024-09-12 15:06:47,509 \u001b[0m\u001b[36msats.satellite.Scanner-1       \u001b[0m\u001b[mINFO       \u001b[0m\u001b[33m<22020.00> \u001b[0m\u001b[36mScanner-1: \u001b[0m\u001b[msetting timed terminal event at 22140.0\u001b[0m\n"
     ]
    },
    {
     "name": "stderr",
     "output_type": "stream",
     "text": [
      "\u001b[90;3m2024-09-12 15:06:47,517 \u001b[0m\u001b[36msats.satellite.Scanner-1       \u001b[0m\u001b[mINFO       \u001b[0m\u001b[33m<22140.00> \u001b[0m\u001b[36mScanner-1: \u001b[0m\u001b[mtimed termination at 22140.0 for action_charge\u001b[0m\n"
     ]
    },
    {
     "name": "stderr",
     "output_type": "stream",
     "text": [
      "\u001b[90;3m2024-09-12 15:06:47,518 \u001b[0m\u001b[mdata.base                      \u001b[0m\u001b[mINFO       \u001b[0m\u001b[33m<22140.00> \u001b[0m\u001b[mData reward: {'Scanner-1': 0.0}\u001b[0m\n"
     ]
    },
    {
     "name": "stderr",
     "output_type": "stream",
     "text": [
      "\u001b[90;3m2024-09-12 15:06:47,518 \u001b[0m\u001b[36msats.satellite.Scanner-1       \u001b[0m\u001b[mINFO       \u001b[0m\u001b[33m<22140.00> \u001b[0m\u001b[36mScanner-1: \u001b[0m\u001b[mSatellite Scanner-1 requires retasking\u001b[0m\n"
     ]
    },
    {
     "name": "stderr",
     "output_type": "stream",
     "text": [
      "\u001b[90;3m2024-09-12 15:06:47,520 \u001b[0m\u001b[mgym                            \u001b[0m\u001b[mINFO       \u001b[0m\u001b[33m<22140.00> \u001b[0m\u001b[mStep reward: 0.0\u001b[0m\n"
     ]
    },
    {
     "name": "stderr",
     "output_type": "stream",
     "text": [
      "\u001b[90;3m2024-09-12 15:06:47,521 \u001b[0m\u001b[mgym                            \u001b[0m\u001b[mINFO       \u001b[0m\u001b[33m<22140.00> \u001b[0m\u001b[93;1m=== STARTING STEP ===\u001b[0m\n"
     ]
    },
    {
     "name": "stderr",
     "output_type": "stream",
     "text": [
      "\u001b[90;3m2024-09-12 15:06:47,522 \u001b[0m\u001b[36msats.satellite.Scanner-1       \u001b[0m\u001b[mINFO       \u001b[0m\u001b[33m<22140.00> \u001b[0m\u001b[36mScanner-1: \u001b[0m\u001b[maction_nadir_scan tasked for 180.0 seconds\u001b[0m\n"
     ]
    },
    {
     "name": "stderr",
     "output_type": "stream",
     "text": [
      "\u001b[90;3m2024-09-12 15:06:47,522 \u001b[0m\u001b[36msats.satellite.Scanner-1       \u001b[0m\u001b[mINFO       \u001b[0m\u001b[33m<22140.00> \u001b[0m\u001b[36mScanner-1: \u001b[0m\u001b[msetting timed terminal event at 22320.0\u001b[0m\n"
     ]
    },
    {
     "name": "stderr",
     "output_type": "stream",
     "text": [
      "\u001b[90;3m2024-09-12 15:06:47,533 \u001b[0m\u001b[36msats.satellite.Scanner-1       \u001b[0m\u001b[mINFO       \u001b[0m\u001b[33m<22320.00> \u001b[0m\u001b[36mScanner-1: \u001b[0m\u001b[mtimed termination at 22320.0 for action_nadir_scan\u001b[0m\n"
     ]
    },
    {
     "name": "stderr",
     "output_type": "stream",
     "text": [
      "\u001b[90;3m2024-09-12 15:06:47,533 \u001b[0m\u001b[mdata.base                      \u001b[0m\u001b[mINFO       \u001b[0m\u001b[33m<22320.00> \u001b[0m\u001b[mData reward: {'Scanner-1': 0.00512280701754386}\u001b[0m\n"
     ]
    },
    {
     "name": "stderr",
     "output_type": "stream",
     "text": [
      "\u001b[90;3m2024-09-12 15:06:47,533 \u001b[0m\u001b[36msats.satellite.Scanner-1       \u001b[0m\u001b[mINFO       \u001b[0m\u001b[33m<22320.00> \u001b[0m\u001b[36mScanner-1: \u001b[0m\u001b[mSatellite Scanner-1 requires retasking\u001b[0m\n"
     ]
    },
    {
     "name": "stderr",
     "output_type": "stream",
     "text": [
      "\u001b[90;3m2024-09-12 15:06:47,534 \u001b[0m\u001b[mgym                            \u001b[0m\u001b[mINFO       \u001b[0m\u001b[33m<22320.00> \u001b[0m\u001b[mStep reward: 0.00512280701754386\u001b[0m\n"
     ]
    },
    {
     "name": "stderr",
     "output_type": "stream",
     "text": [
      "\u001b[90;3m2024-09-12 15:06:47,535 \u001b[0m\u001b[mgym                            \u001b[0m\u001b[mINFO       \u001b[0m\u001b[33m<22320.00> \u001b[0m\u001b[93;1m=== STARTING STEP ===\u001b[0m\n"
     ]
    },
    {
     "name": "stderr",
     "output_type": "stream",
     "text": [
      "\u001b[90;3m2024-09-12 15:06:47,535 \u001b[0m\u001b[36msats.satellite.Scanner-1       \u001b[0m\u001b[mINFO       \u001b[0m\u001b[33m<22320.00> \u001b[0m\u001b[36mScanner-1: \u001b[0m\u001b[maction_downlink tasked for 60.0 seconds\u001b[0m\n"
     ]
    },
    {
     "name": "stderr",
     "output_type": "stream",
     "text": [
      "\u001b[90;3m2024-09-12 15:06:47,535 \u001b[0m\u001b[36msats.satellite.Scanner-1       \u001b[0m\u001b[mINFO       \u001b[0m\u001b[33m<22320.00> \u001b[0m\u001b[36mScanner-1: \u001b[0m\u001b[msetting timed terminal event at 22380.0\u001b[0m\n"
     ]
    },
    {
     "name": "stderr",
     "output_type": "stream",
     "text": [
      "\u001b[90;3m2024-09-12 15:06:47,540 \u001b[0m\u001b[36msats.satellite.Scanner-1       \u001b[0m\u001b[mINFO       \u001b[0m\u001b[33m<22380.00> \u001b[0m\u001b[36mScanner-1: \u001b[0m\u001b[mtimed termination at 22380.0 for action_downlink\u001b[0m\n"
     ]
    },
    {
     "name": "stderr",
     "output_type": "stream",
     "text": [
      "\u001b[90;3m2024-09-12 15:06:47,540 \u001b[0m\u001b[mdata.base                      \u001b[0m\u001b[mINFO       \u001b[0m\u001b[33m<22380.00> \u001b[0m\u001b[mData reward: {'Scanner-1': 0.0}\u001b[0m\n"
     ]
    },
    {
     "name": "stderr",
     "output_type": "stream",
     "text": [
      "\u001b[90;3m2024-09-12 15:06:47,540 \u001b[0m\u001b[36msats.satellite.Scanner-1       \u001b[0m\u001b[mINFO       \u001b[0m\u001b[33m<22380.00> \u001b[0m\u001b[36mScanner-1: \u001b[0m\u001b[mSatellite Scanner-1 requires retasking\u001b[0m\n"
     ]
    },
    {
     "name": "stderr",
     "output_type": "stream",
     "text": [
      "\u001b[90;3m2024-09-12 15:06:47,541 \u001b[0m\u001b[mgym                            \u001b[0m\u001b[mINFO       \u001b[0m\u001b[33m<22380.00> \u001b[0m\u001b[mStep reward: 0.0\u001b[0m\n"
     ]
    },
    {
     "name": "stderr",
     "output_type": "stream",
     "text": [
      "\u001b[90;3m2024-09-12 15:06:47,542 \u001b[0m\u001b[mgym                            \u001b[0m\u001b[mINFO       \u001b[0m\u001b[33m<22380.00> \u001b[0m\u001b[93;1m=== STARTING STEP ===\u001b[0m\n"
     ]
    },
    {
     "name": "stderr",
     "output_type": "stream",
     "text": [
      "\u001b[90;3m2024-09-12 15:06:47,542 \u001b[0m\u001b[36msats.satellite.Scanner-1       \u001b[0m\u001b[mINFO       \u001b[0m\u001b[33m<22380.00> \u001b[0m\u001b[36mScanner-1: \u001b[0m\u001b[maction_desat tasked for 60.0 seconds\u001b[0m\n"
     ]
    },
    {
     "name": "stderr",
     "output_type": "stream",
     "text": [
      "\u001b[90;3m2024-09-12 15:06:47,542 \u001b[0m\u001b[36msats.satellite.Scanner-1       \u001b[0m\u001b[mINFO       \u001b[0m\u001b[33m<22380.00> \u001b[0m\u001b[36mScanner-1: \u001b[0m\u001b[msetting timed terminal event at 22440.0\u001b[0m\n"
     ]
    },
    {
     "name": "stderr",
     "output_type": "stream",
     "text": [
      "\u001b[90;3m2024-09-12 15:06:47,546 \u001b[0m\u001b[36msats.satellite.Scanner-1       \u001b[0m\u001b[mINFO       \u001b[0m\u001b[33m<22440.00> \u001b[0m\u001b[36mScanner-1: \u001b[0m\u001b[mtimed termination at 22440.0 for action_desat\u001b[0m\n"
     ]
    },
    {
     "name": "stderr",
     "output_type": "stream",
     "text": [
      "\u001b[90;3m2024-09-12 15:06:47,547 \u001b[0m\u001b[mdata.base                      \u001b[0m\u001b[mINFO       \u001b[0m\u001b[33m<22440.00> \u001b[0m\u001b[mData reward: {'Scanner-1': 0.0}\u001b[0m\n"
     ]
    },
    {
     "name": "stderr",
     "output_type": "stream",
     "text": [
      "\u001b[90;3m2024-09-12 15:06:47,547 \u001b[0m\u001b[36msats.satellite.Scanner-1       \u001b[0m\u001b[mINFO       \u001b[0m\u001b[33m<22440.00> \u001b[0m\u001b[36mScanner-1: \u001b[0m\u001b[mSatellite Scanner-1 requires retasking\u001b[0m\n"
     ]
    },
    {
     "name": "stderr",
     "output_type": "stream",
     "text": [
      "\u001b[90;3m2024-09-12 15:06:47,548 \u001b[0m\u001b[mgym                            \u001b[0m\u001b[mINFO       \u001b[0m\u001b[33m<22440.00> \u001b[0m\u001b[mStep reward: 0.0\u001b[0m\n"
     ]
    },
    {
     "name": "stderr",
     "output_type": "stream",
     "text": [
      "\u001b[90;3m2024-09-12 15:06:47,548 \u001b[0m\u001b[mgym                            \u001b[0m\u001b[mINFO       \u001b[0m\u001b[33m<22440.00> \u001b[0m\u001b[93;1m=== STARTING STEP ===\u001b[0m\n"
     ]
    },
    {
     "name": "stderr",
     "output_type": "stream",
     "text": [
      "\u001b[90;3m2024-09-12 15:06:47,549 \u001b[0m\u001b[36msats.satellite.Scanner-1       \u001b[0m\u001b[mINFO       \u001b[0m\u001b[33m<22440.00> \u001b[0m\u001b[36mScanner-1: \u001b[0m\u001b[maction_downlink tasked for 60.0 seconds\u001b[0m\n"
     ]
    },
    {
     "name": "stderr",
     "output_type": "stream",
     "text": [
      "\u001b[90;3m2024-09-12 15:06:47,549 \u001b[0m\u001b[36msats.satellite.Scanner-1       \u001b[0m\u001b[mINFO       \u001b[0m\u001b[33m<22440.00> \u001b[0m\u001b[36mScanner-1: \u001b[0m\u001b[msetting timed terminal event at 22500.0\u001b[0m\n"
     ]
    },
    {
     "name": "stderr",
     "output_type": "stream",
     "text": [
      "\u001b[90;3m2024-09-12 15:06:47,553 \u001b[0m\u001b[36msats.satellite.Scanner-1       \u001b[0m\u001b[mINFO       \u001b[0m\u001b[33m<22500.00> \u001b[0m\u001b[36mScanner-1: \u001b[0m\u001b[mtimed termination at 22500.0 for action_downlink\u001b[0m\n"
     ]
    },
    {
     "name": "stderr",
     "output_type": "stream",
     "text": [
      "\u001b[90;3m2024-09-12 15:06:47,553 \u001b[0m\u001b[mdata.base                      \u001b[0m\u001b[mINFO       \u001b[0m\u001b[33m<22500.00> \u001b[0m\u001b[mData reward: {'Scanner-1': 0.0}\u001b[0m\n"
     ]
    },
    {
     "name": "stderr",
     "output_type": "stream",
     "text": [
      "\u001b[90;3m2024-09-12 15:06:47,554 \u001b[0m\u001b[36msats.satellite.Scanner-1       \u001b[0m\u001b[mINFO       \u001b[0m\u001b[33m<22500.00> \u001b[0m\u001b[36mScanner-1: \u001b[0m\u001b[mSatellite Scanner-1 requires retasking\u001b[0m\n"
     ]
    },
    {
     "name": "stderr",
     "output_type": "stream",
     "text": [
      "\u001b[90;3m2024-09-12 15:06:47,554 \u001b[0m\u001b[mgym                            \u001b[0m\u001b[mINFO       \u001b[0m\u001b[33m<22500.00> \u001b[0m\u001b[mStep reward: 0.0\u001b[0m\n"
     ]
    },
    {
     "name": "stderr",
     "output_type": "stream",
     "text": [
      "\u001b[90;3m2024-09-12 15:06:47,555 \u001b[0m\u001b[mgym                            \u001b[0m\u001b[mINFO       \u001b[0m\u001b[33m<22500.00> \u001b[0m\u001b[93;1m=== STARTING STEP ===\u001b[0m\n"
     ]
    },
    {
     "name": "stderr",
     "output_type": "stream",
     "text": [
      "\u001b[90;3m2024-09-12 15:06:47,555 \u001b[0m\u001b[36msats.satellite.Scanner-1       \u001b[0m\u001b[mINFO       \u001b[0m\u001b[33m<22500.00> \u001b[0m\u001b[36mScanner-1: \u001b[0m\u001b[maction_desat tasked for 60.0 seconds\u001b[0m\n"
     ]
    },
    {
     "name": "stderr",
     "output_type": "stream",
     "text": [
      "\u001b[90;3m2024-09-12 15:06:47,555 \u001b[0m\u001b[36msats.satellite.Scanner-1       \u001b[0m\u001b[mINFO       \u001b[0m\u001b[33m<22500.00> \u001b[0m\u001b[36mScanner-1: \u001b[0m\u001b[msetting timed terminal event at 22560.0\u001b[0m\n"
     ]
    },
    {
     "name": "stderr",
     "output_type": "stream",
     "text": [
      "\u001b[90;3m2024-09-12 15:06:47,559 \u001b[0m\u001b[36msats.satellite.Scanner-1       \u001b[0m\u001b[mINFO       \u001b[0m\u001b[33m<22560.00> \u001b[0m\u001b[36mScanner-1: \u001b[0m\u001b[mtimed termination at 22560.0 for action_desat\u001b[0m\n"
     ]
    },
    {
     "name": "stderr",
     "output_type": "stream",
     "text": [
      "\u001b[90;3m2024-09-12 15:06:47,560 \u001b[0m\u001b[mdata.base                      \u001b[0m\u001b[mINFO       \u001b[0m\u001b[33m<22560.00> \u001b[0m\u001b[mData reward: {'Scanner-1': 0.0}\u001b[0m\n"
     ]
    },
    {
     "name": "stderr",
     "output_type": "stream",
     "text": [
      "\u001b[90;3m2024-09-12 15:06:47,560 \u001b[0m\u001b[36msats.satellite.Scanner-1       \u001b[0m\u001b[mINFO       \u001b[0m\u001b[33m<22560.00> \u001b[0m\u001b[36mScanner-1: \u001b[0m\u001b[mSatellite Scanner-1 requires retasking\u001b[0m\n"
     ]
    },
    {
     "name": "stderr",
     "output_type": "stream",
     "text": [
      "\u001b[90;3m2024-09-12 15:06:47,560 \u001b[0m\u001b[mgym                            \u001b[0m\u001b[mINFO       \u001b[0m\u001b[33m<22560.00> \u001b[0m\u001b[mStep reward: 0.0\u001b[0m\n"
     ]
    },
    {
     "name": "stderr",
     "output_type": "stream",
     "text": [
      "\u001b[90;3m2024-09-12 15:06:47,561 \u001b[0m\u001b[mgym                            \u001b[0m\u001b[mINFO       \u001b[0m\u001b[33m<22560.00> \u001b[0m\u001b[93;1m=== STARTING STEP ===\u001b[0m\n"
     ]
    },
    {
     "name": "stderr",
     "output_type": "stream",
     "text": [
      "\u001b[90;3m2024-09-12 15:06:47,561 \u001b[0m\u001b[36msats.satellite.Scanner-1       \u001b[0m\u001b[mINFO       \u001b[0m\u001b[33m<22560.00> \u001b[0m\u001b[36mScanner-1: \u001b[0m\u001b[maction_downlink tasked for 60.0 seconds\u001b[0m\n"
     ]
    },
    {
     "name": "stderr",
     "output_type": "stream",
     "text": [
      "\u001b[90;3m2024-09-12 15:06:47,561 \u001b[0m\u001b[36msats.satellite.Scanner-1       \u001b[0m\u001b[mINFO       \u001b[0m\u001b[33m<22560.00> \u001b[0m\u001b[36mScanner-1: \u001b[0m\u001b[msetting timed terminal event at 22620.0\u001b[0m\n"
     ]
    },
    {
     "name": "stderr",
     "output_type": "stream",
     "text": [
      "\u001b[90;3m2024-09-12 15:06:47,565 \u001b[0m\u001b[36msats.satellite.Scanner-1       \u001b[0m\u001b[mINFO       \u001b[0m\u001b[33m<22620.00> \u001b[0m\u001b[36mScanner-1: \u001b[0m\u001b[mtimed termination at 22620.0 for action_downlink\u001b[0m\n"
     ]
    },
    {
     "name": "stderr",
     "output_type": "stream",
     "text": [
      "\u001b[90;3m2024-09-12 15:06:47,566 \u001b[0m\u001b[mdata.base                      \u001b[0m\u001b[mINFO       \u001b[0m\u001b[33m<22620.00> \u001b[0m\u001b[mData reward: {'Scanner-1': 0.0}\u001b[0m\n"
     ]
    },
    {
     "name": "stderr",
     "output_type": "stream",
     "text": [
      "\u001b[90;3m2024-09-12 15:06:47,566 \u001b[0m\u001b[36msats.satellite.Scanner-1       \u001b[0m\u001b[mINFO       \u001b[0m\u001b[33m<22620.00> \u001b[0m\u001b[36mScanner-1: \u001b[0m\u001b[mSatellite Scanner-1 requires retasking\u001b[0m\n"
     ]
    },
    {
     "name": "stderr",
     "output_type": "stream",
     "text": [
      "\u001b[90;3m2024-09-12 15:06:47,567 \u001b[0m\u001b[mgym                            \u001b[0m\u001b[mINFO       \u001b[0m\u001b[33m<22620.00> \u001b[0m\u001b[mStep reward: 0.0\u001b[0m\n"
     ]
    },
    {
     "name": "stderr",
     "output_type": "stream",
     "text": [
      "\u001b[90;3m2024-09-12 15:06:47,567 \u001b[0m\u001b[mgym                            \u001b[0m\u001b[mINFO       \u001b[0m\u001b[33m<22620.00> \u001b[0m\u001b[93;1m=== STARTING STEP ===\u001b[0m\n"
     ]
    },
    {
     "name": "stderr",
     "output_type": "stream",
     "text": [
      "\u001b[90;3m2024-09-12 15:06:47,567 \u001b[0m\u001b[36msats.satellite.Scanner-1       \u001b[0m\u001b[mINFO       \u001b[0m\u001b[33m<22620.00> \u001b[0m\u001b[36mScanner-1: \u001b[0m\u001b[maction_nadir_scan tasked for 180.0 seconds\u001b[0m\n"
     ]
    },
    {
     "name": "stderr",
     "output_type": "stream",
     "text": [
      "\u001b[90;3m2024-09-12 15:06:47,567 \u001b[0m\u001b[36msats.satellite.Scanner-1       \u001b[0m\u001b[mINFO       \u001b[0m\u001b[33m<22620.00> \u001b[0m\u001b[36mScanner-1: \u001b[0m\u001b[msetting timed terminal event at 22800.0\u001b[0m\n"
     ]
    },
    {
     "name": "stderr",
     "output_type": "stream",
     "text": [
      "\u001b[90;3m2024-09-12 15:06:47,578 \u001b[0m\u001b[36msats.satellite.Scanner-1       \u001b[0m\u001b[mINFO       \u001b[0m\u001b[33m<22800.00> \u001b[0m\u001b[36mScanner-1: \u001b[0m\u001b[mtimed termination at 22800.0 for action_nadir_scan\u001b[0m\n"
     ]
    },
    {
     "name": "stderr",
     "output_type": "stream",
     "text": [
      "\u001b[90;3m2024-09-12 15:06:47,579 \u001b[0m\u001b[mdata.base                      \u001b[0m\u001b[mINFO       \u001b[0m\u001b[33m<22800.00> \u001b[0m\u001b[mData reward: {'Scanner-1': 0.004912280701754385}\u001b[0m\n"
     ]
    },
    {
     "name": "stderr",
     "output_type": "stream",
     "text": [
      "\u001b[90;3m2024-09-12 15:06:47,579 \u001b[0m\u001b[36msats.satellite.Scanner-1       \u001b[0m\u001b[mINFO       \u001b[0m\u001b[33m<22800.00> \u001b[0m\u001b[36mScanner-1: \u001b[0m\u001b[mSatellite Scanner-1 requires retasking\u001b[0m\n"
     ]
    },
    {
     "name": "stderr",
     "output_type": "stream",
     "text": [
      "\u001b[90;3m2024-09-12 15:06:47,579 \u001b[0m\u001b[36msats.satellite.Scanner-1       \u001b[0m\u001b[93mWARNING    \u001b[0m\u001b[33m<22800.00> \u001b[0m\u001b[36mScanner-1: \u001b[0m\u001b[93mfailed battery_valid check\u001b[0m\n"
     ]
    },
    {
     "name": "stderr",
     "output_type": "stream",
     "text": [
      "\u001b[90;3m2024-09-12 15:06:47,580 \u001b[0m\u001b[mgym                            \u001b[0m\u001b[mINFO       \u001b[0m\u001b[33m<22800.00> \u001b[0m\u001b[mStep reward: -0.9950877192982456\u001b[0m\n"
     ]
    },
    {
     "name": "stderr",
     "output_type": "stream",
     "text": [
      "\u001b[90;3m2024-09-12 15:06:47,580 \u001b[0m\u001b[mgym                            \u001b[0m\u001b[mINFO       \u001b[0m\u001b[33m<22800.00> \u001b[0m\u001b[mEpisode terminated: True\u001b[0m\n"
     ]
    },
    {
     "name": "stderr",
     "output_type": "stream",
     "text": [
      "\u001b[90;3m2024-09-12 15:06:47,580 \u001b[0m\u001b[mgym                            \u001b[0m\u001b[mINFO       \u001b[0m\u001b[33m<22800.00> \u001b[0m\u001b[mEpisode truncated: False\u001b[0m\n"
     ]
    }
   ],
   "source": [
    "from bsk_rl import SatelliteTasking\n",
    "\n",
    "env = SatelliteTasking(**env_args, log_level=\"INFO\")\n",
    "env.reset()\n",
    "terminated = False\n",
    "while not terminated:\n",
    "    action = env.action_space.sample()\n",
    "    observation, reward, terminated, truncated, info = env.step(action)"
   ]
  }
 ],
 "metadata": {
  "kernelspec": {
   "display_name": "Python 3 (ipykernel)",
   "language": "python",
   "name": "python3"
  },
  "language_info": {
   "codemirror_mode": {
    "name": "ipython",
    "version": 3
   },
   "file_extension": ".py",
   "mimetype": "text/x-python",
   "name": "python",
   "nbconvert_exporter": "python",
   "pygments_lexer": "ipython3",
   "version": "3.10.11"
  }
 },
 "nbformat": 4,
 "nbformat_minor": 4
}
