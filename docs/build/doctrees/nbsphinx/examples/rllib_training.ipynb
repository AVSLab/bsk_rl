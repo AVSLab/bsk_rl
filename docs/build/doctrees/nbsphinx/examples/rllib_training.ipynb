{
 "cells": [
  {
   "cell_type": "markdown",
   "metadata": {},
   "source": [
    "# Training with RLlib PPO\n",
    "[RLlib](https://docs.ray.io/en/latest/rllib/index.html) is a high-performance, distributed\n",
    "reinforcement learning library. It is preferable to other RL libraries (e.g. Stable Baselines\n",
    "3) for `bsk_rl` environments because it steps environments copies asynchronously; because \n",
    "of the variable step lengths, variable episode step counts, and long episode reset times, \n",
    "stepping each environment independently can increase step throughput by 2-5 times.\n",
    "\n",
    "<div class=\"alert alert-warning\">\n",
    "\n",
    "**Warning:** RLlib currently has a bug that results in an undesirable timeout which stops\n",
    "training. Check here to see if it has been resolved: https://github.com/ray-project/ray/pull/45147\n",
    "\n",
    "</div>\n",
    "\n",
    "\n",
    "## Define the Environment\n",
    "A nadir-scanning environment is created, to the one used in [this paper](https://hanspeterschaub.info/Papers/Stephenson2024.pdf). \n",
    "The satellite has to collect data while managing the data buffer level and battery level.\n",
    "\n",
    "First, the satellite class is defined. A custom dynamics model is created that defines\n",
    "a few additional properties to use in the state."
   ]
  },
  {
   "cell_type": "code",
   "execution_count": 1,
   "metadata": {
    "execution": {
     "iopub.execute_input": "2024-06-21T22:52:54.266622Z",
     "iopub.status.busy": "2024-06-21T22:52:54.266424Z",
     "iopub.status.idle": "2024-06-21T22:52:55.171269Z",
     "shell.execute_reply": "2024-06-21T22:52:55.170987Z"
    }
   },
   "outputs": [],
   "source": [
    "import numpy as np\n",
    "from bsk_rl import act, data, obs, sats, scene\n",
    "from bsk_rl.sim import dyn, fsw\n",
    "\n",
    "class ScanningDownlinkDynModel(dyn.ContinuousImagingDynModel, dyn.GroundStationDynModel):\n",
    "    # Define some custom properties to be accessed in the state\n",
    "    @property\n",
    "    def instrument_pointing_error(self) -> float:\n",
    "        r_BN_P_unit = self.r_BN_P/np.linalg.norm(self.r_BN_P) \n",
    "        c_hat_P = self.satellite.fsw.c_hat_P\n",
    "        return np.arccos(np.dot(-r_BN_P_unit, c_hat_P))\n",
    "    \n",
    "    @property\n",
    "    def solar_pointing_error(self) -> float:\n",
    "        a = self.world.gravFactory.spiceObject.planetStateOutMsgs[\n",
    "            self.world.sun_index\n",
    "        ].read().PositionVector\n",
    "        a_hat_N = a / np.linalg.norm(a)\n",
    "        nHat_B = self.satellite.sat_args[\"nHat_B\"]\n",
    "        NB = np.transpose(self.BN)\n",
    "        nHat_N = NB @ nHat_B\n",
    "        return np.arccos(np.dot(nHat_N, a_hat_N))\n",
    "\n",
    "class ScanningSatellite(sats.AccessSatellite):\n",
    "    observation_spec = [\n",
    "        obs.SatProperties(\n",
    "            dict(prop=\"storage_level_fraction\"),\n",
    "            dict(prop=\"battery_charge_fraction\"),\n",
    "            dict(prop=\"wheel_speeds_fraction\"),\n",
    "            dict(prop=\"instrument_pointing_error\", norm=np.pi),\n",
    "            dict(prop=\"solar_pointing_error\", norm=np.pi)\n",
    "        ),\n",
    "        obs.Eclipse(),\n",
    "        obs.OpportunityProperties(\n",
    "            dict(prop=\"opportunity_open\", norm=5700),\n",
    "            dict(prop=\"opportunity_close\", norm=5700),\n",
    "            type=\"ground_station\",\n",
    "            n_ahead_observe=1,\n",
    "        ),\n",
    "        obs.Time(),\n",
    "    ]\n",
    "    action_spec = [\n",
    "        act.Scan(duration=180.0),\n",
    "        act.Charge(duration=180.0),\n",
    "        act.Downlink(duration=60.0),\n",
    "        act.Desat(duration=60.0),\n",
    "    ]\n",
    "    dyn_type = ScanningDownlinkDynModel\n",
    "    fsw_type = fsw.ContinuousImagingFSWModel"
   ]
  },
  {
   "cell_type": "markdown",
   "metadata": {},
   "source": [
    "Next, parameters are set. Since this scenario is focused on maintaining acceptable data\n",
    "and power levels, these are tuned to create a sufficiently interesting mission."
   ]
  },
  {
   "cell_type": "code",
   "execution_count": 2,
   "metadata": {
    "execution": {
     "iopub.execute_input": "2024-06-21T22:52:55.173075Z",
     "iopub.status.busy": "2024-06-21T22:52:55.172941Z",
     "iopub.status.idle": "2024-06-21T22:52:55.176251Z",
     "shell.execute_reply": "2024-06-21T22:52:55.176015Z"
    }
   },
   "outputs": [],
   "source": [
    "sat = ScanningSatellite(\n",
    "    \"Scanner-1\",\n",
    "    sat_args=dict(\n",
    "        # Data\n",
    "        dataStorageCapacity=5000 * 8e6,  # MB to bits\n",
    "        storageInit=lambda: np.random.uniform(0, 5000 * 8e6),\n",
    "        instrumentBaudRate=0.5e6,\n",
    "        transmitterBaudRate=-112e6,\n",
    "        # Power\n",
    "        batteryStorageCapacity=400 * 3600,  # Wh to W*s\n",
    "        storedCharge_Init=lambda: np.random.uniform(400 * 3600 * 0.2, 400 * 3600 * 0.8),\n",
    "        basePowerDraw=-10.0,\n",
    "        instrumentPowerDraw=-30.0,\n",
    "        transmitterPowerDraw=-25.0,\n",
    "        thrusterPowerDraw=-80.0,\n",
    "        # Attitude\n",
    "        imageAttErrorRequirement=0.1,\n",
    "        imageRateErrorRequirement=0.1,\n",
    "        disturbance_vector=lambda: np.random.normal(scale=0.0001, size=3),\n",
    "        maxWheelSpeed=6000.0,  # RPM\n",
    "        wheelSpeeds=lambda: np.random.uniform(-3000, 3000, 3),\n",
    "        desatAttitude=\"nadir\",\n",
    "        nHat_B=np.array([0, 0, -1]),  # Solar panel orientation\n",
    "    )\n",
    ")"
   ]
  },
  {
   "cell_type": "markdown",
   "metadata": {},
   "source": [
    "Finally, the environment arguments are set. Stepping through this environment is \n",
    "demonstrated at the bottom of the page."
   ]
  },
  {
   "cell_type": "code",
   "execution_count": 3,
   "metadata": {
    "execution": {
     "iopub.execute_input": "2024-06-21T22:52:55.177626Z",
     "iopub.status.busy": "2024-06-21T22:52:55.177528Z",
     "iopub.status.idle": "2024-06-21T22:52:55.179154Z",
     "shell.execute_reply": "2024-06-21T22:52:55.178938Z"
    }
   },
   "outputs": [],
   "source": [
    "duration = 2 * 5700.0  # About 2 orbits\n",
    "env_args = dict(\n",
    "    satellite=sat,\n",
    "    scenario=scene.UniformNadirScanning(value_per_second=1/duration),\n",
    "    rewarder=data.ScanningTimeReward(),\n",
    "    time_limit=duration,\n",
    "    failure_penalty=-1.0,\n",
    "    terminate_on_time_limit=True,\n",
    ")"
   ]
  },
  {
   "cell_type": "markdown",
   "metadata": {},
   "source": [
    "## Configure Ray and PPO\n",
    "\n",
    "The `bsk_rl` package supplies a utility to make logging information at the end of episodes\n",
    "easier. This is useful to see how an agent's policy is changing over time, using a\n",
    "monitoring program such as [TensorBoard](https://www.tensorflow.org/tensorboard)."
   ]
  },
  {
   "cell_type": "code",
   "execution_count": 4,
   "metadata": {
    "execution": {
     "iopub.execute_input": "2024-06-21T22:52:55.180399Z",
     "iopub.status.busy": "2024-06-21T22:52:55.180310Z",
     "iopub.status.idle": "2024-06-21T22:53:01.547888Z",
     "shell.execute_reply": "2024-06-21T22:53:01.547621Z"
    }
   },
   "outputs": [],
   "source": [
    "from bsk_rl.utils.rllib import EpisodeDataCallbacks\n",
    "\n",
    "class CustomDataCallbacks(EpisodeDataCallbacks):\n",
    "    def pull_env_metrics(self, env):\n",
    "        reward = env.rewarder.cum_reward\n",
    "        reward = sum(reward.values()) / len(reward)\n",
    "        orbits = env.simulator.sim_time / (95 * 60)\n",
    "\n",
    "        data = dict(\n",
    "            reward=reward,\n",
    "            reward_per_orbit=reward / orbits,\n",
    "            # Are satellites dying, and how and when?\n",
    "            alive=float(env.satellite.is_alive()),\n",
    "            rw_status_valid=float(env.satellite.dynamics.rw_speeds_valid()),\n",
    "            battery_status_valid=float(env.satellite.dynamics.battery_valid()),\n",
    "            orbits_complete=orbits,\n",
    "        )\n",
    "        if not env.satellite.is_alive():\n",
    "            data[\"orbits_complete_partial_only\"] = orbits\n",
    "        return  data"
   ]
  },
  {
   "cell_type": "markdown",
   "metadata": {},
   "source": [
    "Then, PPO (or some other algorithm) can be configured. Of particular importance\n",
    "are setting `sample_timeout_s` and `metrics_episode_collection_timeout_s` to appropriately\n",
    "high values for this environment."
   ]
  },
  {
   "cell_type": "code",
   "execution_count": 5,
   "metadata": {
    "execution": {
     "iopub.execute_input": "2024-06-21T22:53:01.549749Z",
     "iopub.status.busy": "2024-06-21T22:53:01.549535Z",
     "iopub.status.idle": "2024-06-21T22:53:01.552345Z",
     "shell.execute_reply": "2024-06-21T22:53:01.552119Z"
    }
   },
   "outputs": [],
   "source": [
    "from bsk_rl import SatelliteTasking\n",
    "from bsk_rl.utils.rllib import unpack_config\n",
    "from ray.rllib.algorithms.ppo import PPOConfig\n",
    "\n",
    "training_args = dict(\n",
    "    lr=0.00003,\n",
    "    gamma=0.999,\n",
    "    train_batch_size=250,  # In practice, usually a bigger number\n",
    "    num_sgd_iter=10,\n",
    "    model=dict(fcnet_hiddens=[512, 512], vf_share_layers=False),\n",
    "    lambda_=0.95,\n",
    "    use_kl_loss=False,\n",
    "    clip_param=0.1,\n",
    "    grad_clip=0.5,\n",
    ")\n",
    "\n",
    "config = (\n",
    "    PPOConfig()\n",
    "    .training(**training_args)\n",
    "    .env_runners(num_env_runners=2, sample_timeout_s=1000.0)\n",
    "    .environment(\n",
    "        env=unpack_config(SatelliteTasking),\n",
    "        env_config=env_args,\n",
    "    )\n",
    "    .callbacks(CustomDataCallbacks)\n",
    "    .reporting(\n",
    "        metrics_num_episodes_for_smoothing=1,\n",
    "        metrics_episode_collection_timeout_s=180,\n",
    "    )\n",
    "    .checkpointing(export_native_model_files=True)\n",
    "    .framework(framework=\"tf2\")\n",
    ")"
   ]
  },
  {
   "cell_type": "markdown",
   "metadata": {},
   "source": [
    "Once the PPO configuration has been set, `ray` can be started and the agent can be\n",
    "trained.\n",
    "\n",
    "Training on a reasonably modern machine, we can achieve 5M steps over 32 processors in 6\n",
    "to 18 hours, depending on specific environment configurations."
   ]
  },
  {
   "cell_type": "code",
   "execution_count": 6,
   "metadata": {
    "execution": {
     "iopub.execute_input": "2024-06-21T22:53:01.553687Z",
     "iopub.status.busy": "2024-06-21T22:53:01.553598Z",
     "iopub.status.idle": "2024-06-21T22:53:32.724754Z",
     "shell.execute_reply": "2024-06-21T22:53:32.723824Z"
    }
   },
   "outputs": [
    {
     "name": "stderr",
     "output_type": "stream",
     "text": [
      "2024-06-21 15:53:03,117\tINFO worker.py:1749 -- Started a local Ray instance.\n"
     ]
    },
    {
     "name": "stderr",
     "output_type": "stream",
     "text": [
      "2024-06-21 15:53:03,441\tINFO tune.py:614 -- [output] This uses the legacy output and progress reporter, as Jupyter notebooks are not supported by the new engine, yet. For more information, please see https://github.com/ray-project/ray/issues/36949\n"
     ]
    },
    {
     "name": "stderr",
     "output_type": "stream",
     "text": [
      "/Users/markstephenson/avslab/refactor/.venv_refactor/lib/python3.10/site-packages/gymnasium/spaces/box.py:130: UserWarning: \u001b[33mWARN: Box bound precision lowered by casting to float32\u001b[0m\n",
      "  gym.logger.warn(f\"Box bound precision lowered by casting to {self.dtype}\")\n",
      "/Users/markstephenson/avslab/refactor/.venv_refactor/lib/python3.10/site-packages/gymnasium/utils/passive_env_checker.py:164: UserWarning: \u001b[33mWARN: The obs returned by the `reset()` method was expecting numpy array dtype to be float32, actual type: float64\u001b[0m\n",
      "  logger.warn(\n",
      "/Users/markstephenson/avslab/refactor/.venv_refactor/lib/python3.10/site-packages/gymnasium/utils/passive_env_checker.py:188: UserWarning: \u001b[33mWARN: The obs returned by the `reset()` method is not within the observation space.\u001b[0m\n",
      "  logger.warn(f\"{pre} is not within the observation space.\")\n"
     ]
    },
    {
     "data": {
      "text/html": [
       "<div class=\"tuneStatus\">\n",
       "  <div style=\"display: flex;flex-direction: row\">\n",
       "    <div style=\"display: flex;flex-direction: column;\">\n",
       "      <h3>Tune Status</h3>\n",
       "      <table>\n",
       "<tbody>\n",
       "<tr><td>Current time:</td><td>2024-06-21 15:53:31</td></tr>\n",
       "<tr><td>Running for: </td><td>00:00:27.67        </td></tr>\n",
       "<tr><td>Memory:      </td><td>13.5/16.0 GiB      </td></tr>\n",
       "</tbody>\n",
       "</table>\n",
       "    </div>\n",
       "    <div class=\"vDivider\"></div>\n",
       "    <div class=\"systemInfo\">\n",
       "      <h3>System Info</h3>\n",
       "      Using FIFO scheduling algorithm.<br>Logical resource usage: 3.0/3 CPUs, 0/0 GPUs\n",
       "    </div>\n",
       "    \n",
       "  </div>\n",
       "  <div class=\"hDivider\"></div>\n",
       "  <div class=\"trialStatus\">\n",
       "    <h3>Trial Status</h3>\n",
       "    <table>\n",
       "<thead>\n",
       "<tr><th>Trial name                               </th><th>status    </th><th>loc            </th><th style=\"text-align: right;\">  iter</th><th style=\"text-align: right;\">  total time (s)</th><th style=\"text-align: right;\">  ts</th><th style=\"text-align: right;\">  num_healthy_workers</th><th style=\"text-align: right;\">  num_in_flight_async_\n",
       "reqs</th><th style=\"text-align: right;\">  num_remote_worker_re\n",
       "starts</th></tr>\n",
       "</thead>\n",
       "<tbody>\n",
       "<tr><td>PPO_SatelliteTasking_Unpacked_04380_00000</td><td>TERMINATED</td><td>127.0.0.1:70339</td><td style=\"text-align: right;\">    10</td><td style=\"text-align: right;\">          18.558</td><td style=\"text-align: right;\">2500</td><td style=\"text-align: right;\">                    2</td><td style=\"text-align: right;\">0</td><td style=\"text-align: right;\">0</td></tr>\n",
       "</tbody>\n",
       "</table>\n",
       "  </div>\n",
       "</div>\n",
       "<style>\n",
       ".tuneStatus {\n",
       "  color: var(--jp-ui-font-color1);\n",
       "}\n",
       ".tuneStatus .systemInfo {\n",
       "  display: flex;\n",
       "  flex-direction: column;\n",
       "}\n",
       ".tuneStatus td {\n",
       "  white-space: nowrap;\n",
       "}\n",
       ".tuneStatus .trialStatus {\n",
       "  display: flex;\n",
       "  flex-direction: column;\n",
       "}\n",
       ".tuneStatus h3 {\n",
       "  font-weight: bold;\n",
       "}\n",
       ".tuneStatus .hDivider {\n",
       "  border-bottom-width: var(--jp-border-width);\n",
       "  border-bottom-color: var(--jp-border-color0);\n",
       "  border-bottom-style: solid;\n",
       "}\n",
       ".tuneStatus .vDivider {\n",
       "  border-left-width: var(--jp-border-width);\n",
       "  border-left-color: var(--jp-border-color0);\n",
       "  border-left-style: solid;\n",
       "  margin: 0.5em 1em 0.5em 1em;\n",
       "}\n",
       "</style>\n"
      ],
      "text/plain": [
       "<IPython.core.display.HTML object>"
      ]
     },
     "metadata": {},
     "output_type": "display_data"
    },
    {
     "name": "stderr",
     "output_type": "stream",
     "text": [
      "2024-06-21 15:53:03,474\tWARNING deprecation.py:50 -- DeprecationWarning: `AlgorithmConfig.num_cpus_per_worker` has been deprecated. Use `AlgorithmConfig.num_cpus_per_env_runner` instead. This will raise an error in the future!\n"
     ]
    },
    {
     "name": "stderr",
     "output_type": "stream",
     "text": [
      "2024-06-21 15:53:03,474\tWARNING deprecation.py:50 -- DeprecationWarning: `AlgorithmConfig.num_gpus_per_worker` has been deprecated. Use `AlgorithmConfig.num_gpus_per_env_runner` instead. This will raise an error in the future!\n"
     ]
    },
    {
     "name": "stderr",
     "output_type": "stream",
     "text": [
      "2024-06-21 15:53:03,474\tWARNING deprecation.py:50 -- DeprecationWarning: `AlgorithmConfig.num_learner_workers` has been deprecated. Use `AlgorithmConfig.num_learners` instead. This will raise an error in the future!\n"
     ]
    },
    {
     "name": "stderr",
     "output_type": "stream",
     "text": [
      "2024-06-21 15:53:03,474\tWARNING deprecation.py:50 -- DeprecationWarning: `AlgorithmConfig.num_cpus_per_learner_worker` has been deprecated. Use `AlgorithmConfig.num_cpus_per_learner` instead. This will raise an error in the future!\n"
     ]
    },
    {
     "name": "stderr",
     "output_type": "stream",
     "text": [
      "2024-06-21 15:53:03,474\tWARNING deprecation.py:50 -- DeprecationWarning: `AlgorithmConfig.num_gpus_per_learner_worker` has been deprecated. Use `AlgorithmConfig.num_gpus_per_learner` instead. This will raise an error in the future!\n"
     ]
    },
    {
     "name": "stderr",
     "output_type": "stream",
     "text": [
      "\u001b[36m(PPO pid=70339)\u001b[0m 2024-06-21 15:53:07,538\tWARNING deprecation.py:50 -- DeprecationWarning: `AlgorithmConfig.num_cpus_per_worker` has been deprecated. Use `AlgorithmConfig.num_cpus_per_env_runner` instead. This will raise an error in the future!\n",
      "\u001b[36m(PPO pid=70339)\u001b[0m 2024-06-21 15:53:07,538\tWARNING deprecation.py:50 -- DeprecationWarning: `AlgorithmConfig.num_gpus_per_worker` has been deprecated. Use `AlgorithmConfig.num_gpus_per_env_runner` instead. This will raise an error in the future!\n",
      "\u001b[36m(PPO pid=70339)\u001b[0m 2024-06-21 15:53:07,538\tWARNING deprecation.py:50 -- DeprecationWarning: `AlgorithmConfig.num_learner_workers` has been deprecated. Use `AlgorithmConfig.num_learners` instead. This will raise an error in the future!\n",
      "\u001b[36m(PPO pid=70339)\u001b[0m 2024-06-21 15:53:07,538\tWARNING deprecation.py:50 -- DeprecationWarning: `AlgorithmConfig.num_cpus_per_learner_worker` has been deprecated. Use `AlgorithmConfig.num_cpus_per_learner` instead. This will raise an error in the future!\n",
      "\u001b[36m(PPO pid=70339)\u001b[0m 2024-06-21 15:53:07,538\tWARNING deprecation.py:50 -- DeprecationWarning: `AlgorithmConfig.num_gpus_per_learner_worker` has been deprecated. Use `AlgorithmConfig.num_gpus_per_learner` instead. This will raise an error in the future!\n"
     ]
    },
    {
     "name": "stderr",
     "output_type": "stream",
     "text": [
      "\u001b[36m(PPO pid=70339)\u001b[0m Install gputil for GPU system monitoring.\n"
     ]
    },
    {
     "name": "stderr",
     "output_type": "stream",
     "text": [
      "\u001b[36m(PPO pid=70339)\u001b[0m 2024-06-21 15:53:14,125\tWARNING deprecation.py:50 -- DeprecationWarning: `_get_slice_indices` has been deprecated. This will raise an error in the future!\n",
      "\u001b[36m(PPO pid=70339)\u001b[0m 2024-06-21 15:53:14,143\tWARNING tf_utils.py:774 -- KL divergence is non-finite, this will likely destabilize your model and the training process. Action(s) in a specific state have near-zero probability. This can happen naturally in deterministic environments where the optimal policy has zero mass for a specific action. To fix this issue, consider setting the coefficient for the KL loss term to zero or increasing policy entropy.\n",
      "\u001b[36m(PPO pid=70339)\u001b[0m 2024-06-21 15:53:14,270\tWARNING tf_utils.py:774 -- KL divergence is non-finite, this will likely destabilize your model and the training process. Action(s) in a specific state have near-zero probability. This can happen naturally in deterministic environments where the optimal policy has zero mass for a specific action. To fix this issue, consider setting the coefficient for the KL loss term to zero or increasing policy entropy.\n"
     ]
    },
    {
     "name": "stderr",
     "output_type": "stream",
     "text": [
      "\u001b[36m(PPO pid=70339)\u001b[0m 2024-06-21 15:53:14,488\tWARNING tf_utils.py:774 -- KL divergence is non-finite, this will likely destabilize your model and the training process. Action(s) in a specific state have near-zero probability. This can happen naturally in deterministic environments where the optimal policy has zero mass for a specific action. To fix this issue, consider setting the coefficient for the KL loss term to zero or increasing policy entropy.\n"
     ]
    },
    {
     "data": {
      "text/html": [
       "<div class=\"trialProgress\">\n",
       "  <h3>Trial Progress</h3>\n",
       "  <table>\n",
       "<thead>\n",
       "<tr><th>Trial name                               </th><th style=\"text-align: right;\">  agent_timesteps_total</th><th>counters                                                                                                                        </th><th>custom_metrics  </th><th>env_runners                                                                                                                                                                                                                                                                                                                                                                                                                                                                                                                                                                                                                                                                                                                                                                                                                                                                                                                                                                                                                                                                                                                                                                                                                                                                                                                                                                                                                                                                                                                                                                                                                                 </th><th>episode_media  </th><th style=\"text-align: right;\">    fps</th><th>info                                                                                                                                                                                                                                                                                                                                                                                                                                                                                                                                                                                        </th><th style=\"text-align: right;\">  num_agent_steps_sampled</th><th style=\"text-align: right;\">  num_agent_steps_sampled_lifetime</th><th style=\"text-align: right;\">  num_agent_steps_trained</th><th style=\"text-align: right;\">  num_env_steps_sampled</th><th style=\"text-align: right;\">  num_env_steps_sampled_lifetime</th><th style=\"text-align: right;\">  num_env_steps_sampled_this_iter</th><th style=\"text-align: right;\">  num_env_steps_sampled_throughput_per_sec</th><th style=\"text-align: right;\">  num_env_steps_trained</th><th style=\"text-align: right;\">  num_env_steps_trained_this_iter</th><th style=\"text-align: right;\">  num_env_steps_trained_throughput_per_sec</th><th style=\"text-align: right;\">  num_healthy_workers</th><th style=\"text-align: right;\">  num_in_flight_async_reqs</th><th style=\"text-align: right;\">  num_remote_worker_restarts</th><th style=\"text-align: right;\">  num_steps_trained_this_iter</th><th>perf                                                 </th><th>timers                                                                                                                                                                                                                         </th></tr>\n",
       "</thead>\n",
       "<tbody>\n",
       "<tr><td>PPO_SatelliteTasking_Unpacked_04380_00000</td><td style=\"text-align: right;\">                   2500</td><td>{&#x27;num_env_steps_sampled&#x27;: 2500, &#x27;num_env_steps_trained&#x27;: 2500, &#x27;num_agent_steps_sampled&#x27;: 2500, &#x27;num_agent_steps_trained&#x27;: 2500}</td><td>{}              </td><td>{&#x27;episode_reward_max&#x27;: 0.5413157894736842, &#x27;episode_reward_min&#x27;: 0.40394736842105244, &#x27;episode_reward_mean&#x27;: 0.4726315789473683, &#x27;episode_len_mean&#x27;: 88.0, &#x27;episode_media&#x27;: {}, &#x27;episodes_this_iter&#x27;: 2, &#x27;episodes_timesteps_total&#x27;: 176, &#x27;policy_reward_min&#x27;: {}, &#x27;policy_reward_max&#x27;: {}, &#x27;policy_reward_mean&#x27;: {}, &#x27;custom_metrics&#x27;: {&#x27;reward_mean&#x27;: 0.4726315789473683, &#x27;reward_min&#x27;: 0.40394736842105244, &#x27;reward_max&#x27;: 0.5413157894736842, &#x27;reward_per_orbit_mean&#x27;: 0.23631578947368415, &#x27;reward_per_orbit_min&#x27;: 0.20197368421052622, &#x27;reward_per_orbit_max&#x27;: 0.2706578947368421, &#x27;alive_mean&#x27;: 1.0, &#x27;alive_min&#x27;: 1.0, &#x27;alive_max&#x27;: 1.0, &#x27;rw_status_valid_mean&#x27;: 1.0, &#x27;rw_status_valid_min&#x27;: 1.0, &#x27;rw_status_valid_max&#x27;: 1.0, &#x27;battery_status_valid_mean&#x27;: 1.0, &#x27;battery_status_valid_min&#x27;: 1.0, &#x27;battery_status_valid_max&#x27;: 1.0, &#x27;orbits_complete_mean&#x27;: 2.0, &#x27;orbits_complete_min&#x27;: 2.0, &#x27;orbits_complete_max&#x27;: 2.0}, &#x27;hist_stats&#x27;: {&#x27;episode_reward&#x27;: [0.40394736842105244, 0.5413157894736842], &#x27;episode_lengths&#x27;: [92, 84]}, &#x27;sampler_perf&#x27;: {&#x27;mean_raw_obs_processing_ms&#x27;: 3.101712889332089, &#x27;mean_inference_ms&#x27;: 0.6436502142585248, &#x27;mean_action_processing_ms&#x27;: 0.04842222261009552, &#x27;mean_env_wait_ms&#x27;: 9.618122324192647, &#x27;mean_env_render_ms&#x27;: 0.0}, &#x27;num_faulty_episodes&#x27;: 0, &#x27;connector_metrics&#x27;: {&#x27;ObsPreprocessorConnector_ms&#x27;: 0.0033617019653320312, &#x27;StateBufferConnector_ms&#x27;: 0.0021576881408691406, &#x27;ViewRequirementAgentConnector_ms&#x27;: 0.04621744155883789}, &#x27;num_episodes&#x27;: 2, &#x27;episode_return_max&#x27;: 0.5413157894736842, &#x27;episode_return_min&#x27;: 0.40394736842105244, &#x27;episode_return_mean&#x27;: 0.4726315789473683}</td><td>{}             </td><td style=\"text-align: right;\">140.849</td><td>{&#x27;learner&#x27;: {&#x27;default_policy&#x27;: {&#x27;learner_stats&#x27;: {&#x27;cur_kl_coeff&#x27;: 0.0003906250058207661, &#x27;cur_lr&#x27;: 2.9999999242136255e-05, &#x27;total_loss&#x27;: 0.002937226, &#x27;policy_loss&#x27;: -0.0055964356, &#x27;vf_loss&#x27;: 0.008533249, &#x27;vf_explained_var&#x27;: -0.010654608, &#x27;kl&#x27;: 0.0010568084, &#x27;entropy&#x27;: 1.2708192, &#x27;entropy_coeff&#x27;: 0.0}, &#x27;custom_metrics&#x27;: {}, &#x27;num_agent_steps_trained&#x27;: 125.0, &#x27;num_grad_updates_lifetime&#x27;: 190.5, &#x27;diff_num_grad_updates_vs_sampler_policy&#x27;: 9.5}}, &#x27;num_env_steps_sampled&#x27;: 2500, &#x27;num_env_steps_trained&#x27;: 2500, &#x27;num_agent_steps_sampled&#x27;: 2500, &#x27;num_agent_steps_trained&#x27;: 2500}</td><td style=\"text-align: right;\">                     2500</td><td style=\"text-align: right;\">                              2500</td><td style=\"text-align: right;\">                     2500</td><td style=\"text-align: right;\">                   2500</td><td style=\"text-align: right;\">                            2500</td><td style=\"text-align: right;\">                              250</td><td style=\"text-align: right;\">                                   141.002</td><td style=\"text-align: right;\">                   2500</td><td style=\"text-align: right;\">                              250</td><td style=\"text-align: right;\">                                   141.002</td><td style=\"text-align: right;\">                    2</td><td style=\"text-align: right;\">                         0</td><td style=\"text-align: right;\">                           0</td><td style=\"text-align: right;\">                          250</td><td>{&#x27;cpu_util_percent&#x27;: 23.15, &#x27;ram_util_percent&#x27;: 84.1}</td><td>{&#x27;training_iteration_time_ms&#x27;: 1853.609, &#x27;restore_workers_time_ms&#x27;: 0.008, &#x27;training_step_time_ms&#x27;: 1853.58, &#x27;sample_time_ms&#x27;: 1729.096, &#x27;learn_time_ms&#x27;: 120.671, &#x27;learn_throughput&#x27;: 2071.752, &#x27;synch_weights_time_ms&#x27;: 3.59}</td></tr>\n",
       "</tbody>\n",
       "</table>\n",
       "</div>\n",
       "<style>\n",
       ".trialProgress {\n",
       "  display: flex;\n",
       "  flex-direction: column;\n",
       "  color: var(--jp-ui-font-color1);\n",
       "}\n",
       ".trialProgress h3 {\n",
       "  font-weight: bold;\n",
       "}\n",
       ".trialProgress td {\n",
       "  white-space: nowrap;\n",
       "}\n",
       "</style>\n"
      ],
      "text/plain": [
       "<IPython.core.display.HTML object>"
      ]
     },
     "metadata": {},
     "output_type": "display_data"
    },
    {
     "name": "stderr",
     "output_type": "stream",
     "text": [
      "\u001b[36m(PPO pid=70339)\u001b[0m WARNING:tensorflow:Compiled the loaded model, but the compiled metrics have yet to be built. `model.compile_metrics` will be empty until you train or evaluate the model.\n",
      "\u001b[36m(PPO pid=70339)\u001b[0m WARNING:tensorflow:Compiled the loaded model, but the compiled metrics have yet to be built. `model.compile_metrics` will be empty until you train or evaluate the model.\n",
      "2024-06-21 15:53:31,138\tINFO tune.py:1007 -- Wrote the latest version of all result files and experiment state to '/Users/markstephenson/ray_results/PPO_2024-06-21_15-53-03' in 0.0166s.\n"
     ]
    },
    {
     "name": "stderr",
     "output_type": "stream",
     "text": [
      "\u001b[36m(PPO pid=70339)\u001b[0m /Users/markstephenson/avslab/refactor/.venv_refactor/lib/python3.10/site-packages/keras/src/initializers/__init__.py:144: UserWarning: The `keras.initializers.serialize()` API should only be used for objects of type `keras.initializers.Initializer`. Found an instance of type <class 'function'>, which may lead to improper serialization.\n",
      "\u001b[36m(PPO pid=70339)\u001b[0m   warnings.warn(\n",
      "\u001b[36m(PPO pid=70339)\u001b[0m Checkpoint successfully created at: Checkpoint(filesystem=local, path=/Users/markstephenson/ray_results/PPO_2024-06-21_15-53-03/PPO_SatelliteTasking_Unpacked_04380_00000_0_2024-06-21_15-53-03/checkpoint_000000)\n",
      "2024-06-21 15:53:31,305\tINFO tune.py:1039 -- Total run time: 27.86 seconds (27.65 seconds for the tuning loop).\n"
     ]
    }
   ],
   "source": [
    "import ray\n",
    "from ray import tune\n",
    "\n",
    "ray.init(\n",
    "    ignore_reinit_error=True,\n",
    "    num_cpus=3,\n",
    "    object_store_memory=2_000_000_000,  # 2 GB\n",
    ")\n",
    "\n",
    "# Run the training\n",
    "tune.run(\n",
    "    \"PPO\",\n",
    "    config=config.to_dict(),\n",
    "    stop={\"training_iteration\": 10},  # Adjust the number of iterations as needed\n",
    "    checkpoint_freq=10,\n",
    "    checkpoint_at_end=True\n",
    ")\n",
    "\n",
    "# Shutdown Ray\n",
    "ray.shutdown()"
   ]
  },
  {
   "cell_type": "markdown",
   "metadata": {},
   "source": [
    "## Loading the Policy Network\n",
    "\n",
    "The policy network can be found in the `model` subdirectory of the checkpoint output."
   ]
  },
  {
   "cell_type": "markdown",
   "metadata": {},
   "source": [
    "## Stepping Through the Environment\n",
    "\n",
    "The environment is stepped through with random actions to give a sense of how it acts."
   ]
  },
  {
   "cell_type": "code",
   "execution_count": 7,
   "metadata": {
    "execution": {
     "iopub.execute_input": "2024-06-21T22:53:32.730208Z",
     "iopub.status.busy": "2024-06-21T22:53:32.729939Z",
     "iopub.status.idle": "2024-06-21T22:53:33.833308Z",
     "shell.execute_reply": "2024-06-21T22:53:33.832981Z"
    }
   },
   "outputs": [
    {
     "name": "stderr",
     "output_type": "stream",
     "text": [
      "\u001b[90;3m2024-06-21 15:53:32,734 \u001b[0m\u001b[mgym                            \u001b[0m\u001b[mINFO       \u001b[0m\u001b[mResetting environment with seed=3627897200\u001b[0m\n"
     ]
    },
    {
     "name": "stderr",
     "output_type": "stream",
     "text": [
      "\u001b[90;3m2024-06-21 15:53:32,830 \u001b[0m\u001b[36msats.satellite.Scanner-1       \u001b[0m\u001b[mINFO       \u001b[0m\u001b[33m<0.00> \u001b[0m\u001b[36mScanner-1: \u001b[0m\u001b[mFinding opportunity windows from 0.00 to 11400.00 seconds\u001b[0m\n"
     ]
    },
    {
     "name": "stderr",
     "output_type": "stream",
     "text": [
      "\u001b[90;3m2024-06-21 15:53:32,855 \u001b[0m\u001b[mgym                            \u001b[0m\u001b[mINFO       \u001b[0m\u001b[33m<0.00> \u001b[0m\u001b[mSatellites requiring retasking: ['Scanner-1_4913732896']\u001b[0m\n"
     ]
    },
    {
     "name": "stderr",
     "output_type": "stream",
     "text": [
      "\u001b[90;3m2024-06-21 15:53:32,856 \u001b[0m\u001b[mgym                            \u001b[0m\u001b[mINFO       \u001b[0m\u001b[33m<0.00> \u001b[0m\u001b[mEnvironment reset\u001b[0m\n"
     ]
    },
    {
     "name": "stderr",
     "output_type": "stream",
     "text": [
      "\u001b[90;3m2024-06-21 15:53:32,856 \u001b[0m\u001b[mgym                            \u001b[0m\u001b[mINFO       \u001b[0m\u001b[33m<0.00> \u001b[0m\u001b[93;1m=== STARTING STEP ===\u001b[0m\n"
     ]
    },
    {
     "name": "stderr",
     "output_type": "stream",
     "text": [
      "\u001b[90;3m2024-06-21 15:53:32,856 \u001b[0m\u001b[36msats.satellite.Scanner-1       \u001b[0m\u001b[mINFO       \u001b[0m\u001b[33m<0.00> \u001b[0m\u001b[36mScanner-1: \u001b[0m\u001b[maction_downlink tasked for 60.0 seconds\u001b[0m\n"
     ]
    },
    {
     "name": "stderr",
     "output_type": "stream",
     "text": [
      "\u001b[90;3m2024-06-21 15:53:32,857 \u001b[0m\u001b[36msats.satellite.Scanner-1       \u001b[0m\u001b[mINFO       \u001b[0m\u001b[33m<0.00> \u001b[0m\u001b[36mScanner-1: \u001b[0m\u001b[msetting timed terminal event at 60.0\u001b[0m\n"
     ]
    },
    {
     "name": "stderr",
     "output_type": "stream",
     "text": [
      "\u001b[90;3m2024-06-21 15:53:32,857 \u001b[0m\u001b[msim.simulator                  \u001b[0m\u001b[mINFO       \u001b[0m\u001b[33m<0.00> \u001b[0m\u001b[mRunning simulation at most to 11400.00 seconds\u001b[0m\n"
     ]
    },
    {
     "name": "stderr",
     "output_type": "stream",
     "text": [
      "\u001b[90;3m2024-06-21 15:53:32,861 \u001b[0m\u001b[36msats.satellite.Scanner-1       \u001b[0m\u001b[mINFO       \u001b[0m\u001b[33m<60.00> \u001b[0m\u001b[36mScanner-1: \u001b[0m\u001b[mtimed termination at 60.0 for action_downlink\u001b[0m\n"
     ]
    },
    {
     "name": "stderr",
     "output_type": "stream",
     "text": [
      "\u001b[90;3m2024-06-21 15:53:32,861 \u001b[0m\u001b[mdata.base                      \u001b[0m\u001b[mINFO       \u001b[0m\u001b[33m<60.00> \u001b[0m\u001b[mData reward: {'Scanner-1_4913732896': 0.0}\u001b[0m\n"
     ]
    },
    {
     "name": "stderr",
     "output_type": "stream",
     "text": [
      "\u001b[90;3m2024-06-21 15:53:32,862 \u001b[0m\u001b[mgym                            \u001b[0m\u001b[mINFO       \u001b[0m\u001b[33m<60.00> \u001b[0m\u001b[mSatellites requiring retasking: ['Scanner-1_4913732896']\u001b[0m\n"
     ]
    },
    {
     "name": "stderr",
     "output_type": "stream",
     "text": [
      "\u001b[90;3m2024-06-21 15:53:32,862 \u001b[0m\u001b[mgym                            \u001b[0m\u001b[mINFO       \u001b[0m\u001b[33m<60.00> \u001b[0m\u001b[mStep reward: 0.0\u001b[0m\n"
     ]
    },
    {
     "name": "stderr",
     "output_type": "stream",
     "text": [
      "\u001b[90;3m2024-06-21 15:53:32,862 \u001b[0m\u001b[mgym                            \u001b[0m\u001b[mINFO       \u001b[0m\u001b[33m<60.00> \u001b[0m\u001b[93;1m=== STARTING STEP ===\u001b[0m\n"
     ]
    },
    {
     "name": "stderr",
     "output_type": "stream",
     "text": [
      "\u001b[90;3m2024-06-21 15:53:32,862 \u001b[0m\u001b[36msats.satellite.Scanner-1       \u001b[0m\u001b[mINFO       \u001b[0m\u001b[33m<60.00> \u001b[0m\u001b[36mScanner-1: \u001b[0m\u001b[maction_desat tasked for 60.0 seconds\u001b[0m\n"
     ]
    },
    {
     "name": "stderr",
     "output_type": "stream",
     "text": [
      "\u001b[90;3m2024-06-21 15:53:32,863 \u001b[0m\u001b[36msats.satellite.Scanner-1       \u001b[0m\u001b[mINFO       \u001b[0m\u001b[33m<60.00> \u001b[0m\u001b[36mScanner-1: \u001b[0m\u001b[msetting timed terminal event at 120.0\u001b[0m\n"
     ]
    },
    {
     "name": "stderr",
     "output_type": "stream",
     "text": [
      "\u001b[90;3m2024-06-21 15:53:32,863 \u001b[0m\u001b[msim.simulator                  \u001b[0m\u001b[mINFO       \u001b[0m\u001b[33m<60.00> \u001b[0m\u001b[mRunning simulation at most to 11400.00 seconds\u001b[0m\n"
     ]
    },
    {
     "name": "stderr",
     "output_type": "stream",
     "text": [
      "\u001b[90;3m2024-06-21 15:53:32,867 \u001b[0m\u001b[36msats.satellite.Scanner-1       \u001b[0m\u001b[mINFO       \u001b[0m\u001b[33m<120.00> \u001b[0m\u001b[36mScanner-1: \u001b[0m\u001b[mtimed termination at 120.0 for action_desat\u001b[0m\n"
     ]
    },
    {
     "name": "stderr",
     "output_type": "stream",
     "text": [
      "\u001b[90;3m2024-06-21 15:53:32,867 \u001b[0m\u001b[mdata.base                      \u001b[0m\u001b[mINFO       \u001b[0m\u001b[33m<120.00> \u001b[0m\u001b[mData reward: {'Scanner-1_4913732896': 0.0}\u001b[0m\n"
     ]
    },
    {
     "name": "stderr",
     "output_type": "stream",
     "text": [
      "\u001b[90;3m2024-06-21 15:53:32,868 \u001b[0m\u001b[mgym                            \u001b[0m\u001b[mINFO       \u001b[0m\u001b[33m<120.00> \u001b[0m\u001b[mSatellites requiring retasking: ['Scanner-1_4913732896']\u001b[0m\n"
     ]
    },
    {
     "name": "stderr",
     "output_type": "stream",
     "text": [
      "\u001b[90;3m2024-06-21 15:53:32,868 \u001b[0m\u001b[mgym                            \u001b[0m\u001b[mINFO       \u001b[0m\u001b[33m<120.00> \u001b[0m\u001b[mStep reward: 0.0\u001b[0m\n"
     ]
    },
    {
     "name": "stderr",
     "output_type": "stream",
     "text": [
      "\u001b[90;3m2024-06-21 15:53:32,868 \u001b[0m\u001b[mgym                            \u001b[0m\u001b[mINFO       \u001b[0m\u001b[33m<120.00> \u001b[0m\u001b[93;1m=== STARTING STEP ===\u001b[0m\n"
     ]
    },
    {
     "name": "stderr",
     "output_type": "stream",
     "text": [
      "\u001b[90;3m2024-06-21 15:53:32,868 \u001b[0m\u001b[36msats.satellite.Scanner-1       \u001b[0m\u001b[mINFO       \u001b[0m\u001b[33m<120.00> \u001b[0m\u001b[36mScanner-1: \u001b[0m\u001b[maction_desat tasked for 60.0 seconds\u001b[0m\n"
     ]
    },
    {
     "name": "stderr",
     "output_type": "stream",
     "text": [
      "\u001b[90;3m2024-06-21 15:53:32,868 \u001b[0m\u001b[36msats.satellite.Scanner-1       \u001b[0m\u001b[mINFO       \u001b[0m\u001b[33m<120.00> \u001b[0m\u001b[36mScanner-1: \u001b[0m\u001b[msetting timed terminal event at 180.0\u001b[0m\n"
     ]
    },
    {
     "name": "stderr",
     "output_type": "stream",
     "text": [
      "\u001b[90;3m2024-06-21 15:53:32,869 \u001b[0m\u001b[msim.simulator                  \u001b[0m\u001b[mINFO       \u001b[0m\u001b[33m<120.00> \u001b[0m\u001b[mRunning simulation at most to 11400.00 seconds\u001b[0m\n"
     ]
    },
    {
     "name": "stderr",
     "output_type": "stream",
     "text": [
      "\u001b[90;3m2024-06-21 15:53:32,872 \u001b[0m\u001b[36msats.satellite.Scanner-1       \u001b[0m\u001b[mINFO       \u001b[0m\u001b[33m<180.00> \u001b[0m\u001b[36mScanner-1: \u001b[0m\u001b[mtimed termination at 180.0 for action_desat\u001b[0m\n"
     ]
    },
    {
     "name": "stderr",
     "output_type": "stream",
     "text": [
      "\u001b[90;3m2024-06-21 15:53:32,873 \u001b[0m\u001b[mdata.base                      \u001b[0m\u001b[mINFO       \u001b[0m\u001b[33m<180.00> \u001b[0m\u001b[mData reward: {'Scanner-1_4913732896': 0.0}\u001b[0m\n"
     ]
    },
    {
     "name": "stderr",
     "output_type": "stream",
     "text": [
      "\u001b[90;3m2024-06-21 15:53:32,873 \u001b[0m\u001b[mgym                            \u001b[0m\u001b[mINFO       \u001b[0m\u001b[33m<180.00> \u001b[0m\u001b[mSatellites requiring retasking: ['Scanner-1_4913732896']\u001b[0m\n"
     ]
    },
    {
     "name": "stderr",
     "output_type": "stream",
     "text": [
      "\u001b[90;3m2024-06-21 15:53:32,874 \u001b[0m\u001b[mgym                            \u001b[0m\u001b[mINFO       \u001b[0m\u001b[33m<180.00> \u001b[0m\u001b[mStep reward: 0.0\u001b[0m\n"
     ]
    },
    {
     "name": "stderr",
     "output_type": "stream",
     "text": [
      "\u001b[90;3m2024-06-21 15:53:32,874 \u001b[0m\u001b[mgym                            \u001b[0m\u001b[mINFO       \u001b[0m\u001b[33m<180.00> \u001b[0m\u001b[93;1m=== STARTING STEP ===\u001b[0m\n"
     ]
    },
    {
     "name": "stderr",
     "output_type": "stream",
     "text": [
      "\u001b[90;3m2024-06-21 15:53:32,874 \u001b[0m\u001b[36msats.satellite.Scanner-1       \u001b[0m\u001b[mINFO       \u001b[0m\u001b[33m<180.00> \u001b[0m\u001b[36mScanner-1: \u001b[0m\u001b[maction_charge tasked for 180.0 seconds\u001b[0m\n"
     ]
    },
    {
     "name": "stderr",
     "output_type": "stream",
     "text": [
      "\u001b[90;3m2024-06-21 15:53:32,874 \u001b[0m\u001b[36msats.satellite.Scanner-1       \u001b[0m\u001b[mINFO       \u001b[0m\u001b[33m<180.00> \u001b[0m\u001b[36mScanner-1: \u001b[0m\u001b[msetting timed terminal event at 360.0\u001b[0m\n"
     ]
    },
    {
     "name": "stderr",
     "output_type": "stream",
     "text": [
      "\u001b[90;3m2024-06-21 15:53:32,875 \u001b[0m\u001b[msim.simulator                  \u001b[0m\u001b[mINFO       \u001b[0m\u001b[33m<180.00> \u001b[0m\u001b[mRunning simulation at most to 11400.00 seconds\u001b[0m\n"
     ]
    },
    {
     "name": "stderr",
     "output_type": "stream",
     "text": [
      "\u001b[90;3m2024-06-21 15:53:32,885 \u001b[0m\u001b[36msats.satellite.Scanner-1       \u001b[0m\u001b[mINFO       \u001b[0m\u001b[33m<360.00> \u001b[0m\u001b[36mScanner-1: \u001b[0m\u001b[mtimed termination at 360.0 for action_charge\u001b[0m\n"
     ]
    },
    {
     "name": "stderr",
     "output_type": "stream",
     "text": [
      "\u001b[90;3m2024-06-21 15:53:32,885 \u001b[0m\u001b[mdata.base                      \u001b[0m\u001b[mINFO       \u001b[0m\u001b[33m<360.00> \u001b[0m\u001b[mData reward: {'Scanner-1_4913732896': 0.0}\u001b[0m\n"
     ]
    },
    {
     "name": "stderr",
     "output_type": "stream",
     "text": [
      "\u001b[90;3m2024-06-21 15:53:32,886 \u001b[0m\u001b[mgym                            \u001b[0m\u001b[mINFO       \u001b[0m\u001b[33m<360.00> \u001b[0m\u001b[mSatellites requiring retasking: ['Scanner-1_4913732896']\u001b[0m\n"
     ]
    },
    {
     "name": "stderr",
     "output_type": "stream",
     "text": [
      "\u001b[90;3m2024-06-21 15:53:32,886 \u001b[0m\u001b[mgym                            \u001b[0m\u001b[mINFO       \u001b[0m\u001b[33m<360.00> \u001b[0m\u001b[mStep reward: 0.0\u001b[0m\n"
     ]
    },
    {
     "name": "stderr",
     "output_type": "stream",
     "text": [
      "\u001b[90;3m2024-06-21 15:53:32,886 \u001b[0m\u001b[mgym                            \u001b[0m\u001b[mINFO       \u001b[0m\u001b[33m<360.00> \u001b[0m\u001b[93;1m=== STARTING STEP ===\u001b[0m\n"
     ]
    },
    {
     "name": "stderr",
     "output_type": "stream",
     "text": [
      "\u001b[90;3m2024-06-21 15:53:32,886 \u001b[0m\u001b[36msats.satellite.Scanner-1       \u001b[0m\u001b[mINFO       \u001b[0m\u001b[33m<360.00> \u001b[0m\u001b[36mScanner-1: \u001b[0m\u001b[maction_charge tasked for 180.0 seconds\u001b[0m\n"
     ]
    },
    {
     "name": "stderr",
     "output_type": "stream",
     "text": [
      "\u001b[90;3m2024-06-21 15:53:32,886 \u001b[0m\u001b[36msats.satellite.Scanner-1       \u001b[0m\u001b[mINFO       \u001b[0m\u001b[33m<360.00> \u001b[0m\u001b[36mScanner-1: \u001b[0m\u001b[msetting timed terminal event at 540.0\u001b[0m\n"
     ]
    },
    {
     "name": "stderr",
     "output_type": "stream",
     "text": [
      "\u001b[90;3m2024-06-21 15:53:32,887 \u001b[0m\u001b[msim.simulator                  \u001b[0m\u001b[mINFO       \u001b[0m\u001b[33m<360.00> \u001b[0m\u001b[mRunning simulation at most to 11400.00 seconds\u001b[0m\n"
     ]
    },
    {
     "name": "stderr",
     "output_type": "stream",
     "text": [
      "\u001b[90;3m2024-06-21 15:53:32,897 \u001b[0m\u001b[36msats.satellite.Scanner-1       \u001b[0m\u001b[mINFO       \u001b[0m\u001b[33m<540.00> \u001b[0m\u001b[36mScanner-1: \u001b[0m\u001b[mtimed termination at 540.0 for action_charge\u001b[0m\n"
     ]
    },
    {
     "name": "stderr",
     "output_type": "stream",
     "text": [
      "\u001b[90;3m2024-06-21 15:53:32,897 \u001b[0m\u001b[mdata.base                      \u001b[0m\u001b[mINFO       \u001b[0m\u001b[33m<540.00> \u001b[0m\u001b[mData reward: {'Scanner-1_4913732896': 0.0}\u001b[0m\n"
     ]
    },
    {
     "name": "stderr",
     "output_type": "stream",
     "text": [
      "\u001b[90;3m2024-06-21 15:53:32,897 \u001b[0m\u001b[mgym                            \u001b[0m\u001b[mINFO       \u001b[0m\u001b[33m<540.00> \u001b[0m\u001b[mSatellites requiring retasking: ['Scanner-1_4913732896']\u001b[0m\n"
     ]
    },
    {
     "name": "stderr",
     "output_type": "stream",
     "text": [
      "\u001b[90;3m2024-06-21 15:53:32,898 \u001b[0m\u001b[mgym                            \u001b[0m\u001b[mINFO       \u001b[0m\u001b[33m<540.00> \u001b[0m\u001b[mStep reward: 0.0\u001b[0m\n"
     ]
    },
    {
     "name": "stderr",
     "output_type": "stream",
     "text": [
      "\u001b[90;3m2024-06-21 15:53:32,898 \u001b[0m\u001b[mgym                            \u001b[0m\u001b[mINFO       \u001b[0m\u001b[33m<540.00> \u001b[0m\u001b[93;1m=== STARTING STEP ===\u001b[0m\n"
     ]
    },
    {
     "name": "stderr",
     "output_type": "stream",
     "text": [
      "\u001b[90;3m2024-06-21 15:53:32,898 \u001b[0m\u001b[36msats.satellite.Scanner-1       \u001b[0m\u001b[mINFO       \u001b[0m\u001b[33m<540.00> \u001b[0m\u001b[36mScanner-1: \u001b[0m\u001b[maction_desat tasked for 60.0 seconds\u001b[0m\n"
     ]
    },
    {
     "name": "stderr",
     "output_type": "stream",
     "text": [
      "\u001b[90;3m2024-06-21 15:53:32,898 \u001b[0m\u001b[36msats.satellite.Scanner-1       \u001b[0m\u001b[mINFO       \u001b[0m\u001b[33m<540.00> \u001b[0m\u001b[36mScanner-1: \u001b[0m\u001b[msetting timed terminal event at 600.0\u001b[0m\n"
     ]
    },
    {
     "name": "stderr",
     "output_type": "stream",
     "text": [
      "\u001b[90;3m2024-06-21 15:53:32,899 \u001b[0m\u001b[msim.simulator                  \u001b[0m\u001b[mINFO       \u001b[0m\u001b[33m<540.00> \u001b[0m\u001b[mRunning simulation at most to 11400.00 seconds\u001b[0m\n"
     ]
    },
    {
     "name": "stderr",
     "output_type": "stream",
     "text": [
      "\u001b[90;3m2024-06-21 15:53:32,902 \u001b[0m\u001b[36msats.satellite.Scanner-1       \u001b[0m\u001b[mINFO       \u001b[0m\u001b[33m<600.00> \u001b[0m\u001b[36mScanner-1: \u001b[0m\u001b[mtimed termination at 600.0 for action_desat\u001b[0m\n"
     ]
    },
    {
     "name": "stderr",
     "output_type": "stream",
     "text": [
      "\u001b[90;3m2024-06-21 15:53:32,903 \u001b[0m\u001b[mdata.base                      \u001b[0m\u001b[mINFO       \u001b[0m\u001b[33m<600.00> \u001b[0m\u001b[mData reward: {'Scanner-1_4913732896': 0.0}\u001b[0m\n"
     ]
    },
    {
     "name": "stderr",
     "output_type": "stream",
     "text": [
      "\u001b[90;3m2024-06-21 15:53:32,903 \u001b[0m\u001b[mgym                            \u001b[0m\u001b[mINFO       \u001b[0m\u001b[33m<600.00> \u001b[0m\u001b[mSatellites requiring retasking: ['Scanner-1_4913732896']\u001b[0m\n"
     ]
    },
    {
     "name": "stderr",
     "output_type": "stream",
     "text": [
      "\u001b[90;3m2024-06-21 15:53:32,904 \u001b[0m\u001b[mgym                            \u001b[0m\u001b[mINFO       \u001b[0m\u001b[33m<600.00> \u001b[0m\u001b[mStep reward: 0.0\u001b[0m\n"
     ]
    },
    {
     "name": "stderr",
     "output_type": "stream",
     "text": [
      "\u001b[90;3m2024-06-21 15:53:32,904 \u001b[0m\u001b[mgym                            \u001b[0m\u001b[mINFO       \u001b[0m\u001b[33m<600.00> \u001b[0m\u001b[93;1m=== STARTING STEP ===\u001b[0m\n"
     ]
    },
    {
     "name": "stderr",
     "output_type": "stream",
     "text": [
      "\u001b[90;3m2024-06-21 15:53:32,904 \u001b[0m\u001b[36msats.satellite.Scanner-1       \u001b[0m\u001b[mINFO       \u001b[0m\u001b[33m<600.00> \u001b[0m\u001b[36mScanner-1: \u001b[0m\u001b[maction_downlink tasked for 60.0 seconds\u001b[0m\n"
     ]
    },
    {
     "name": "stderr",
     "output_type": "stream",
     "text": [
      "\u001b[90;3m2024-06-21 15:53:32,904 \u001b[0m\u001b[36msats.satellite.Scanner-1       \u001b[0m\u001b[mINFO       \u001b[0m\u001b[33m<600.00> \u001b[0m\u001b[36mScanner-1: \u001b[0m\u001b[msetting timed terminal event at 660.0\u001b[0m\n"
     ]
    },
    {
     "name": "stderr",
     "output_type": "stream",
     "text": [
      "\u001b[90;3m2024-06-21 15:53:32,904 \u001b[0m\u001b[msim.simulator                  \u001b[0m\u001b[mINFO       \u001b[0m\u001b[33m<600.00> \u001b[0m\u001b[mRunning simulation at most to 11400.00 seconds\u001b[0m\n"
     ]
    },
    {
     "name": "stderr",
     "output_type": "stream",
     "text": [
      "\u001b[90;3m2024-06-21 15:53:32,908 \u001b[0m\u001b[36msats.satellite.Scanner-1       \u001b[0m\u001b[mINFO       \u001b[0m\u001b[33m<660.00> \u001b[0m\u001b[36mScanner-1: \u001b[0m\u001b[mtimed termination at 660.0 for action_downlink\u001b[0m\n"
     ]
    },
    {
     "name": "stderr",
     "output_type": "stream",
     "text": [
      "\u001b[90;3m2024-06-21 15:53:32,908 \u001b[0m\u001b[mdata.base                      \u001b[0m\u001b[mINFO       \u001b[0m\u001b[33m<660.00> \u001b[0m\u001b[mData reward: {'Scanner-1_4913732896': 0.0}\u001b[0m\n"
     ]
    },
    {
     "name": "stderr",
     "output_type": "stream",
     "text": [
      "\u001b[90;3m2024-06-21 15:53:32,909 \u001b[0m\u001b[mgym                            \u001b[0m\u001b[mINFO       \u001b[0m\u001b[33m<660.00> \u001b[0m\u001b[mSatellites requiring retasking: ['Scanner-1_4913732896']\u001b[0m\n"
     ]
    },
    {
     "name": "stderr",
     "output_type": "stream",
     "text": [
      "\u001b[90;3m2024-06-21 15:53:32,909 \u001b[0m\u001b[mgym                            \u001b[0m\u001b[mINFO       \u001b[0m\u001b[33m<660.00> \u001b[0m\u001b[mStep reward: 0.0\u001b[0m\n"
     ]
    },
    {
     "name": "stderr",
     "output_type": "stream",
     "text": [
      "\u001b[90;3m2024-06-21 15:53:32,910 \u001b[0m\u001b[mgym                            \u001b[0m\u001b[mINFO       \u001b[0m\u001b[33m<660.00> \u001b[0m\u001b[93;1m=== STARTING STEP ===\u001b[0m\n"
     ]
    },
    {
     "name": "stderr",
     "output_type": "stream",
     "text": [
      "\u001b[90;3m2024-06-21 15:53:32,910 \u001b[0m\u001b[36msats.satellite.Scanner-1       \u001b[0m\u001b[mINFO       \u001b[0m\u001b[33m<660.00> \u001b[0m\u001b[36mScanner-1: \u001b[0m\u001b[maction_charge tasked for 180.0 seconds\u001b[0m\n"
     ]
    },
    {
     "name": "stderr",
     "output_type": "stream",
     "text": [
      "\u001b[90;3m2024-06-21 15:53:32,910 \u001b[0m\u001b[36msats.satellite.Scanner-1       \u001b[0m\u001b[mINFO       \u001b[0m\u001b[33m<660.00> \u001b[0m\u001b[36mScanner-1: \u001b[0m\u001b[msetting timed terminal event at 840.0\u001b[0m\n"
     ]
    },
    {
     "name": "stderr",
     "output_type": "stream",
     "text": [
      "\u001b[90;3m2024-06-21 15:53:32,910 \u001b[0m\u001b[msim.simulator                  \u001b[0m\u001b[mINFO       \u001b[0m\u001b[33m<660.00> \u001b[0m\u001b[mRunning simulation at most to 11400.00 seconds\u001b[0m\n"
     ]
    },
    {
     "name": "stderr",
     "output_type": "stream",
     "text": [
      "\u001b[90;3m2024-06-21 15:53:32,920 \u001b[0m\u001b[36msats.satellite.Scanner-1       \u001b[0m\u001b[mINFO       \u001b[0m\u001b[33m<840.00> \u001b[0m\u001b[36mScanner-1: \u001b[0m\u001b[mtimed termination at 840.0 for action_charge\u001b[0m\n"
     ]
    },
    {
     "name": "stderr",
     "output_type": "stream",
     "text": [
      "\u001b[90;3m2024-06-21 15:53:32,920 \u001b[0m\u001b[mdata.base                      \u001b[0m\u001b[mINFO       \u001b[0m\u001b[33m<840.00> \u001b[0m\u001b[mData reward: {'Scanner-1_4913732896': 0.0}\u001b[0m\n"
     ]
    },
    {
     "name": "stderr",
     "output_type": "stream",
     "text": [
      "\u001b[90;3m2024-06-21 15:53:32,921 \u001b[0m\u001b[mgym                            \u001b[0m\u001b[mINFO       \u001b[0m\u001b[33m<840.00> \u001b[0m\u001b[mSatellites requiring retasking: ['Scanner-1_4913732896']\u001b[0m\n"
     ]
    },
    {
     "name": "stderr",
     "output_type": "stream",
     "text": [
      "\u001b[90;3m2024-06-21 15:53:32,921 \u001b[0m\u001b[mgym                            \u001b[0m\u001b[mINFO       \u001b[0m\u001b[33m<840.00> \u001b[0m\u001b[mStep reward: 0.0\u001b[0m\n"
     ]
    },
    {
     "name": "stderr",
     "output_type": "stream",
     "text": [
      "\u001b[90;3m2024-06-21 15:53:32,922 \u001b[0m\u001b[mgym                            \u001b[0m\u001b[mINFO       \u001b[0m\u001b[33m<840.00> \u001b[0m\u001b[93;1m=== STARTING STEP ===\u001b[0m\n"
     ]
    },
    {
     "name": "stderr",
     "output_type": "stream",
     "text": [
      "\u001b[90;3m2024-06-21 15:53:32,922 \u001b[0m\u001b[36msats.satellite.Scanner-1       \u001b[0m\u001b[mINFO       \u001b[0m\u001b[33m<840.00> \u001b[0m\u001b[36mScanner-1: \u001b[0m\u001b[maction_downlink tasked for 60.0 seconds\u001b[0m\n"
     ]
    },
    {
     "name": "stderr",
     "output_type": "stream",
     "text": [
      "\u001b[90;3m2024-06-21 15:53:32,922 \u001b[0m\u001b[36msats.satellite.Scanner-1       \u001b[0m\u001b[mINFO       \u001b[0m\u001b[33m<840.00> \u001b[0m\u001b[36mScanner-1: \u001b[0m\u001b[msetting timed terminal event at 900.0\u001b[0m\n"
     ]
    },
    {
     "name": "stderr",
     "output_type": "stream",
     "text": [
      "\u001b[90;3m2024-06-21 15:53:32,922 \u001b[0m\u001b[msim.simulator                  \u001b[0m\u001b[mINFO       \u001b[0m\u001b[33m<840.00> \u001b[0m\u001b[mRunning simulation at most to 11400.00 seconds\u001b[0m\n"
     ]
    },
    {
     "name": "stderr",
     "output_type": "stream",
     "text": [
      "\u001b[90;3m2024-06-21 15:53:32,926 \u001b[0m\u001b[36msats.satellite.Scanner-1       \u001b[0m\u001b[mINFO       \u001b[0m\u001b[33m<900.00> \u001b[0m\u001b[36mScanner-1: \u001b[0m\u001b[mtimed termination at 900.0 for action_downlink\u001b[0m\n"
     ]
    },
    {
     "name": "stderr",
     "output_type": "stream",
     "text": [
      "\u001b[90;3m2024-06-21 15:53:32,926 \u001b[0m\u001b[mdata.base                      \u001b[0m\u001b[mINFO       \u001b[0m\u001b[33m<900.00> \u001b[0m\u001b[mData reward: {'Scanner-1_4913732896': 0.0}\u001b[0m\n"
     ]
    },
    {
     "name": "stderr",
     "output_type": "stream",
     "text": [
      "\u001b[90;3m2024-06-21 15:53:32,927 \u001b[0m\u001b[mgym                            \u001b[0m\u001b[mINFO       \u001b[0m\u001b[33m<900.00> \u001b[0m\u001b[mSatellites requiring retasking: ['Scanner-1_4913732896']\u001b[0m\n"
     ]
    },
    {
     "name": "stderr",
     "output_type": "stream",
     "text": [
      "\u001b[90;3m2024-06-21 15:53:32,927 \u001b[0m\u001b[mgym                            \u001b[0m\u001b[mINFO       \u001b[0m\u001b[33m<900.00> \u001b[0m\u001b[mStep reward: 0.0\u001b[0m\n"
     ]
    },
    {
     "name": "stderr",
     "output_type": "stream",
     "text": [
      "\u001b[90;3m2024-06-21 15:53:32,927 \u001b[0m\u001b[mgym                            \u001b[0m\u001b[mINFO       \u001b[0m\u001b[33m<900.00> \u001b[0m\u001b[93;1m=== STARTING STEP ===\u001b[0m\n"
     ]
    },
    {
     "name": "stderr",
     "output_type": "stream",
     "text": [
      "\u001b[90;3m2024-06-21 15:53:32,928 \u001b[0m\u001b[36msats.satellite.Scanner-1       \u001b[0m\u001b[mINFO       \u001b[0m\u001b[33m<900.00> \u001b[0m\u001b[36mScanner-1: \u001b[0m\u001b[maction_desat tasked for 60.0 seconds\u001b[0m\n"
     ]
    },
    {
     "name": "stderr",
     "output_type": "stream",
     "text": [
      "\u001b[90;3m2024-06-21 15:53:32,928 \u001b[0m\u001b[36msats.satellite.Scanner-1       \u001b[0m\u001b[mINFO       \u001b[0m\u001b[33m<900.00> \u001b[0m\u001b[36mScanner-1: \u001b[0m\u001b[msetting timed terminal event at 960.0\u001b[0m\n"
     ]
    },
    {
     "name": "stderr",
     "output_type": "stream",
     "text": [
      "\u001b[90;3m2024-06-21 15:53:32,928 \u001b[0m\u001b[msim.simulator                  \u001b[0m\u001b[mINFO       \u001b[0m\u001b[33m<900.00> \u001b[0m\u001b[mRunning simulation at most to 11400.00 seconds\u001b[0m\n"
     ]
    },
    {
     "name": "stderr",
     "output_type": "stream",
     "text": [
      "\u001b[90;3m2024-06-21 15:53:32,932 \u001b[0m\u001b[36msats.satellite.Scanner-1       \u001b[0m\u001b[mINFO       \u001b[0m\u001b[33m<960.00> \u001b[0m\u001b[36mScanner-1: \u001b[0m\u001b[mtimed termination at 960.0 for action_desat\u001b[0m\n"
     ]
    },
    {
     "name": "stderr",
     "output_type": "stream",
     "text": [
      "\u001b[90;3m2024-06-21 15:53:32,932 \u001b[0m\u001b[mdata.base                      \u001b[0m\u001b[mINFO       \u001b[0m\u001b[33m<960.00> \u001b[0m\u001b[mData reward: {'Scanner-1_4913732896': 0.0}\u001b[0m\n"
     ]
    },
    {
     "name": "stderr",
     "output_type": "stream",
     "text": [
      "\u001b[90;3m2024-06-21 15:53:32,933 \u001b[0m\u001b[mgym                            \u001b[0m\u001b[mINFO       \u001b[0m\u001b[33m<960.00> \u001b[0m\u001b[mSatellites requiring retasking: ['Scanner-1_4913732896']\u001b[0m\n"
     ]
    },
    {
     "name": "stderr",
     "output_type": "stream",
     "text": [
      "\u001b[90;3m2024-06-21 15:53:32,933 \u001b[0m\u001b[mgym                            \u001b[0m\u001b[mINFO       \u001b[0m\u001b[33m<960.00> \u001b[0m\u001b[mStep reward: 0.0\u001b[0m\n"
     ]
    },
    {
     "name": "stderr",
     "output_type": "stream",
     "text": [
      "\u001b[90;3m2024-06-21 15:53:32,933 \u001b[0m\u001b[mgym                            \u001b[0m\u001b[mINFO       \u001b[0m\u001b[33m<960.00> \u001b[0m\u001b[93;1m=== STARTING STEP ===\u001b[0m\n"
     ]
    },
    {
     "name": "stderr",
     "output_type": "stream",
     "text": [
      "\u001b[90;3m2024-06-21 15:53:32,934 \u001b[0m\u001b[36msats.satellite.Scanner-1       \u001b[0m\u001b[mINFO       \u001b[0m\u001b[33m<960.00> \u001b[0m\u001b[36mScanner-1: \u001b[0m\u001b[maction_desat tasked for 60.0 seconds\u001b[0m\n"
     ]
    },
    {
     "name": "stderr",
     "output_type": "stream",
     "text": [
      "\u001b[90;3m2024-06-21 15:53:32,934 \u001b[0m\u001b[36msats.satellite.Scanner-1       \u001b[0m\u001b[mINFO       \u001b[0m\u001b[33m<960.00> \u001b[0m\u001b[36mScanner-1: \u001b[0m\u001b[msetting timed terminal event at 1020.0\u001b[0m\n"
     ]
    },
    {
     "name": "stderr",
     "output_type": "stream",
     "text": [
      "\u001b[90;3m2024-06-21 15:53:32,934 \u001b[0m\u001b[msim.simulator                  \u001b[0m\u001b[mINFO       \u001b[0m\u001b[33m<960.00> \u001b[0m\u001b[mRunning simulation at most to 11400.00 seconds\u001b[0m\n"
     ]
    },
    {
     "name": "stderr",
     "output_type": "stream",
     "text": [
      "\u001b[90;3m2024-06-21 15:53:32,938 \u001b[0m\u001b[36msats.satellite.Scanner-1       \u001b[0m\u001b[mINFO       \u001b[0m\u001b[33m<1020.00> \u001b[0m\u001b[36mScanner-1: \u001b[0m\u001b[mtimed termination at 1020.0 for action_desat\u001b[0m\n"
     ]
    },
    {
     "name": "stderr",
     "output_type": "stream",
     "text": [
      "\u001b[90;3m2024-06-21 15:53:32,938 \u001b[0m\u001b[mdata.base                      \u001b[0m\u001b[mINFO       \u001b[0m\u001b[33m<1020.00> \u001b[0m\u001b[mData reward: {'Scanner-1_4913732896': 0.0}\u001b[0m\n"
     ]
    },
    {
     "name": "stderr",
     "output_type": "stream",
     "text": [
      "\u001b[90;3m2024-06-21 15:53:32,939 \u001b[0m\u001b[mgym                            \u001b[0m\u001b[mINFO       \u001b[0m\u001b[33m<1020.00> \u001b[0m\u001b[mSatellites requiring retasking: ['Scanner-1_4913732896']\u001b[0m\n"
     ]
    },
    {
     "name": "stderr",
     "output_type": "stream",
     "text": [
      "\u001b[90;3m2024-06-21 15:53:32,939 \u001b[0m\u001b[mgym                            \u001b[0m\u001b[mINFO       \u001b[0m\u001b[33m<1020.00> \u001b[0m\u001b[mStep reward: 0.0\u001b[0m\n"
     ]
    },
    {
     "name": "stderr",
     "output_type": "stream",
     "text": [
      "\u001b[90;3m2024-06-21 15:53:32,939 \u001b[0m\u001b[mgym                            \u001b[0m\u001b[mINFO       \u001b[0m\u001b[33m<1020.00> \u001b[0m\u001b[93;1m=== STARTING STEP ===\u001b[0m\n"
     ]
    },
    {
     "name": "stderr",
     "output_type": "stream",
     "text": [
      "\u001b[90;3m2024-06-21 15:53:32,939 \u001b[0m\u001b[36msats.satellite.Scanner-1       \u001b[0m\u001b[mINFO       \u001b[0m\u001b[33m<1020.00> \u001b[0m\u001b[36mScanner-1: \u001b[0m\u001b[maction_desat tasked for 60.0 seconds\u001b[0m\n"
     ]
    },
    {
     "name": "stderr",
     "output_type": "stream",
     "text": [
      "\u001b[90;3m2024-06-21 15:53:32,939 \u001b[0m\u001b[36msats.satellite.Scanner-1       \u001b[0m\u001b[mINFO       \u001b[0m\u001b[33m<1020.00> \u001b[0m\u001b[36mScanner-1: \u001b[0m\u001b[msetting timed terminal event at 1080.0\u001b[0m\n"
     ]
    },
    {
     "name": "stderr",
     "output_type": "stream",
     "text": [
      "\u001b[90;3m2024-06-21 15:53:32,940 \u001b[0m\u001b[msim.simulator                  \u001b[0m\u001b[mINFO       \u001b[0m\u001b[33m<1020.00> \u001b[0m\u001b[mRunning simulation at most to 11400.00 seconds\u001b[0m\n"
     ]
    },
    {
     "name": "stderr",
     "output_type": "stream",
     "text": [
      "\u001b[90;3m2024-06-21 15:53:32,943 \u001b[0m\u001b[36msats.satellite.Scanner-1       \u001b[0m\u001b[mINFO       \u001b[0m\u001b[33m<1080.00> \u001b[0m\u001b[36mScanner-1: \u001b[0m\u001b[mtimed termination at 1080.0 for action_desat\u001b[0m\n"
     ]
    },
    {
     "name": "stderr",
     "output_type": "stream",
     "text": [
      "\u001b[90;3m2024-06-21 15:53:32,944 \u001b[0m\u001b[mdata.base                      \u001b[0m\u001b[mINFO       \u001b[0m\u001b[33m<1080.00> \u001b[0m\u001b[mData reward: {'Scanner-1_4913732896': 0.0}\u001b[0m\n"
     ]
    },
    {
     "name": "stderr",
     "output_type": "stream",
     "text": [
      "\u001b[90;3m2024-06-21 15:53:32,944 \u001b[0m\u001b[mgym                            \u001b[0m\u001b[mINFO       \u001b[0m\u001b[33m<1080.00> \u001b[0m\u001b[mSatellites requiring retasking: ['Scanner-1_4913732896']\u001b[0m\n"
     ]
    },
    {
     "name": "stderr",
     "output_type": "stream",
     "text": [
      "\u001b[90;3m2024-06-21 15:53:32,945 \u001b[0m\u001b[mgym                            \u001b[0m\u001b[mINFO       \u001b[0m\u001b[33m<1080.00> \u001b[0m\u001b[mStep reward: 0.0\u001b[0m\n"
     ]
    },
    {
     "name": "stderr",
     "output_type": "stream",
     "text": [
      "\u001b[90;3m2024-06-21 15:53:32,945 \u001b[0m\u001b[mgym                            \u001b[0m\u001b[mINFO       \u001b[0m\u001b[33m<1080.00> \u001b[0m\u001b[93;1m=== STARTING STEP ===\u001b[0m\n"
     ]
    },
    {
     "name": "stderr",
     "output_type": "stream",
     "text": [
      "\u001b[90;3m2024-06-21 15:53:32,945 \u001b[0m\u001b[36msats.satellite.Scanner-1       \u001b[0m\u001b[mINFO       \u001b[0m\u001b[33m<1080.00> \u001b[0m\u001b[36mScanner-1: \u001b[0m\u001b[maction_desat tasked for 60.0 seconds\u001b[0m\n"
     ]
    },
    {
     "name": "stderr",
     "output_type": "stream",
     "text": [
      "\u001b[90;3m2024-06-21 15:53:32,945 \u001b[0m\u001b[36msats.satellite.Scanner-1       \u001b[0m\u001b[mINFO       \u001b[0m\u001b[33m<1080.00> \u001b[0m\u001b[36mScanner-1: \u001b[0m\u001b[msetting timed terminal event at 1140.0\u001b[0m\n"
     ]
    },
    {
     "name": "stderr",
     "output_type": "stream",
     "text": [
      "\u001b[90;3m2024-06-21 15:53:32,945 \u001b[0m\u001b[msim.simulator                  \u001b[0m\u001b[mINFO       \u001b[0m\u001b[33m<1080.00> \u001b[0m\u001b[mRunning simulation at most to 11400.00 seconds\u001b[0m\n"
     ]
    },
    {
     "name": "stderr",
     "output_type": "stream",
     "text": [
      "\u001b[90;3m2024-06-21 15:53:32,949 \u001b[0m\u001b[36msats.satellite.Scanner-1       \u001b[0m\u001b[mINFO       \u001b[0m\u001b[33m<1140.00> \u001b[0m\u001b[36mScanner-1: \u001b[0m\u001b[mtimed termination at 1140.0 for action_desat\u001b[0m\n"
     ]
    },
    {
     "name": "stderr",
     "output_type": "stream",
     "text": [
      "\u001b[90;3m2024-06-21 15:53:32,949 \u001b[0m\u001b[mdata.base                      \u001b[0m\u001b[mINFO       \u001b[0m\u001b[33m<1140.00> \u001b[0m\u001b[mData reward: {'Scanner-1_4913732896': 0.0}\u001b[0m\n"
     ]
    },
    {
     "name": "stderr",
     "output_type": "stream",
     "text": [
      "\u001b[90;3m2024-06-21 15:53:32,950 \u001b[0m\u001b[mgym                            \u001b[0m\u001b[mINFO       \u001b[0m\u001b[33m<1140.00> \u001b[0m\u001b[mSatellites requiring retasking: ['Scanner-1_4913732896']\u001b[0m\n"
     ]
    },
    {
     "name": "stderr",
     "output_type": "stream",
     "text": [
      "\u001b[90;3m2024-06-21 15:53:32,950 \u001b[0m\u001b[mgym                            \u001b[0m\u001b[mINFO       \u001b[0m\u001b[33m<1140.00> \u001b[0m\u001b[mStep reward: 0.0\u001b[0m\n"
     ]
    },
    {
     "name": "stderr",
     "output_type": "stream",
     "text": [
      "\u001b[90;3m2024-06-21 15:53:32,951 \u001b[0m\u001b[mgym                            \u001b[0m\u001b[mINFO       \u001b[0m\u001b[33m<1140.00> \u001b[0m\u001b[93;1m=== STARTING STEP ===\u001b[0m\n"
     ]
    },
    {
     "name": "stderr",
     "output_type": "stream",
     "text": [
      "\u001b[90;3m2024-06-21 15:53:32,951 \u001b[0m\u001b[36msats.satellite.Scanner-1       \u001b[0m\u001b[mINFO       \u001b[0m\u001b[33m<1140.00> \u001b[0m\u001b[36mScanner-1: \u001b[0m\u001b[maction_downlink tasked for 60.0 seconds\u001b[0m\n"
     ]
    },
    {
     "name": "stderr",
     "output_type": "stream",
     "text": [
      "\u001b[90;3m2024-06-21 15:53:32,951 \u001b[0m\u001b[36msats.satellite.Scanner-1       \u001b[0m\u001b[mINFO       \u001b[0m\u001b[33m<1140.00> \u001b[0m\u001b[36mScanner-1: \u001b[0m\u001b[msetting timed terminal event at 1200.0\u001b[0m\n"
     ]
    },
    {
     "name": "stderr",
     "output_type": "stream",
     "text": [
      "\u001b[90;3m2024-06-21 15:53:32,951 \u001b[0m\u001b[msim.simulator                  \u001b[0m\u001b[mINFO       \u001b[0m\u001b[33m<1140.00> \u001b[0m\u001b[mRunning simulation at most to 11400.00 seconds\u001b[0m\n"
     ]
    },
    {
     "name": "stderr",
     "output_type": "stream",
     "text": [
      "\u001b[90;3m2024-06-21 15:53:32,955 \u001b[0m\u001b[36msats.satellite.Scanner-1       \u001b[0m\u001b[mINFO       \u001b[0m\u001b[33m<1200.00> \u001b[0m\u001b[36mScanner-1: \u001b[0m\u001b[mtimed termination at 1200.0 for action_downlink\u001b[0m\n"
     ]
    },
    {
     "name": "stderr",
     "output_type": "stream",
     "text": [
      "\u001b[90;3m2024-06-21 15:53:32,955 \u001b[0m\u001b[mdata.base                      \u001b[0m\u001b[mINFO       \u001b[0m\u001b[33m<1200.00> \u001b[0m\u001b[mData reward: {'Scanner-1_4913732896': 0.0}\u001b[0m\n"
     ]
    },
    {
     "name": "stderr",
     "output_type": "stream",
     "text": [
      "\u001b[90;3m2024-06-21 15:53:32,956 \u001b[0m\u001b[mgym                            \u001b[0m\u001b[mINFO       \u001b[0m\u001b[33m<1200.00> \u001b[0m\u001b[mSatellites requiring retasking: ['Scanner-1_4913732896']\u001b[0m\n"
     ]
    },
    {
     "name": "stderr",
     "output_type": "stream",
     "text": [
      "\u001b[90;3m2024-06-21 15:53:32,956 \u001b[0m\u001b[mgym                            \u001b[0m\u001b[mINFO       \u001b[0m\u001b[33m<1200.00> \u001b[0m\u001b[mStep reward: 0.0\u001b[0m\n"
     ]
    },
    {
     "name": "stderr",
     "output_type": "stream",
     "text": [
      "\u001b[90;3m2024-06-21 15:53:32,956 \u001b[0m\u001b[mgym                            \u001b[0m\u001b[mINFO       \u001b[0m\u001b[33m<1200.00> \u001b[0m\u001b[93;1m=== STARTING STEP ===\u001b[0m\n"
     ]
    },
    {
     "name": "stderr",
     "output_type": "stream",
     "text": [
      "\u001b[90;3m2024-06-21 15:53:32,956 \u001b[0m\u001b[36msats.satellite.Scanner-1       \u001b[0m\u001b[mINFO       \u001b[0m\u001b[33m<1200.00> \u001b[0m\u001b[36mScanner-1: \u001b[0m\u001b[maction_nadir_scan tasked for 180.0 seconds\u001b[0m\n"
     ]
    },
    {
     "name": "stderr",
     "output_type": "stream",
     "text": [
      "\u001b[90;3m2024-06-21 15:53:32,957 \u001b[0m\u001b[36msats.satellite.Scanner-1       \u001b[0m\u001b[mINFO       \u001b[0m\u001b[33m<1200.00> \u001b[0m\u001b[36mScanner-1: \u001b[0m\u001b[msetting timed terminal event at 1380.0\u001b[0m\n"
     ]
    },
    {
     "name": "stderr",
     "output_type": "stream",
     "text": [
      "\u001b[90;3m2024-06-21 15:53:32,957 \u001b[0m\u001b[msim.simulator                  \u001b[0m\u001b[mINFO       \u001b[0m\u001b[33m<1200.00> \u001b[0m\u001b[mRunning simulation at most to 11400.00 seconds\u001b[0m\n"
     ]
    },
    {
     "name": "stderr",
     "output_type": "stream",
     "text": [
      "\u001b[90;3m2024-06-21 15:53:32,967 \u001b[0m\u001b[36msats.satellite.Scanner-1       \u001b[0m\u001b[mINFO       \u001b[0m\u001b[33m<1380.00> \u001b[0m\u001b[36mScanner-1: \u001b[0m\u001b[mtimed termination at 1380.0 for action_nadir_scan\u001b[0m\n"
     ]
    },
    {
     "name": "stderr",
     "output_type": "stream",
     "text": [
      "\u001b[90;3m2024-06-21 15:53:32,967 \u001b[0m\u001b[mdata.base                      \u001b[0m\u001b[mINFO       \u001b[0m\u001b[33m<1380.00> \u001b[0m\u001b[mData reward: {'Scanner-1_4913732896': 0.011666666666666665}\u001b[0m\n"
     ]
    },
    {
     "name": "stderr",
     "output_type": "stream",
     "text": [
      "\u001b[90;3m2024-06-21 15:53:32,968 \u001b[0m\u001b[mgym                            \u001b[0m\u001b[mINFO       \u001b[0m\u001b[33m<1380.00> \u001b[0m\u001b[mSatellites requiring retasking: ['Scanner-1_4913732896']\u001b[0m\n"
     ]
    },
    {
     "name": "stderr",
     "output_type": "stream",
     "text": [
      "\u001b[90;3m2024-06-21 15:53:32,968 \u001b[0m\u001b[mgym                            \u001b[0m\u001b[mINFO       \u001b[0m\u001b[33m<1380.00> \u001b[0m\u001b[mStep reward: 0.011666666666666665\u001b[0m\n"
     ]
    },
    {
     "name": "stderr",
     "output_type": "stream",
     "text": [
      "\u001b[90;3m2024-06-21 15:53:32,968 \u001b[0m\u001b[mgym                            \u001b[0m\u001b[mINFO       \u001b[0m\u001b[33m<1380.00> \u001b[0m\u001b[93;1m=== STARTING STEP ===\u001b[0m\n"
     ]
    },
    {
     "name": "stderr",
     "output_type": "stream",
     "text": [
      "\u001b[90;3m2024-06-21 15:53:32,968 \u001b[0m\u001b[36msats.satellite.Scanner-1       \u001b[0m\u001b[mINFO       \u001b[0m\u001b[33m<1380.00> \u001b[0m\u001b[36mScanner-1: \u001b[0m\u001b[maction_nadir_scan tasked for 180.0 seconds\u001b[0m\n"
     ]
    },
    {
     "name": "stderr",
     "output_type": "stream",
     "text": [
      "\u001b[90;3m2024-06-21 15:53:32,969 \u001b[0m\u001b[36msats.satellite.Scanner-1       \u001b[0m\u001b[mINFO       \u001b[0m\u001b[33m<1380.00> \u001b[0m\u001b[36mScanner-1: \u001b[0m\u001b[msetting timed terminal event at 1560.0\u001b[0m\n"
     ]
    },
    {
     "name": "stderr",
     "output_type": "stream",
     "text": [
      "\u001b[90;3m2024-06-21 15:53:32,969 \u001b[0m\u001b[msim.simulator                  \u001b[0m\u001b[mINFO       \u001b[0m\u001b[33m<1380.00> \u001b[0m\u001b[mRunning simulation at most to 11400.00 seconds\u001b[0m\n"
     ]
    },
    {
     "name": "stderr",
     "output_type": "stream",
     "text": [
      "\u001b[90;3m2024-06-21 15:53:32,979 \u001b[0m\u001b[36msats.satellite.Scanner-1       \u001b[0m\u001b[mINFO       \u001b[0m\u001b[33m<1560.00> \u001b[0m\u001b[36mScanner-1: \u001b[0m\u001b[mtimed termination at 1560.0 for action_nadir_scan\u001b[0m\n"
     ]
    },
    {
     "name": "stderr",
     "output_type": "stream",
     "text": [
      "\u001b[90;3m2024-06-21 15:53:32,979 \u001b[0m\u001b[mdata.base                      \u001b[0m\u001b[mINFO       \u001b[0m\u001b[33m<1560.00> \u001b[0m\u001b[mData reward: {'Scanner-1_4913732896': 0.015789473684210527}\u001b[0m\n"
     ]
    },
    {
     "name": "stderr",
     "output_type": "stream",
     "text": [
      "\u001b[90;3m2024-06-21 15:53:32,980 \u001b[0m\u001b[mgym                            \u001b[0m\u001b[mINFO       \u001b[0m\u001b[33m<1560.00> \u001b[0m\u001b[mSatellites requiring retasking: ['Scanner-1_4913732896']\u001b[0m\n"
     ]
    },
    {
     "name": "stderr",
     "output_type": "stream",
     "text": [
      "\u001b[90;3m2024-06-21 15:53:32,980 \u001b[0m\u001b[mgym                            \u001b[0m\u001b[mINFO       \u001b[0m\u001b[33m<1560.00> \u001b[0m\u001b[mStep reward: 0.015789473684210527\u001b[0m\n"
     ]
    },
    {
     "name": "stderr",
     "output_type": "stream",
     "text": [
      "\u001b[90;3m2024-06-21 15:53:32,980 \u001b[0m\u001b[mgym                            \u001b[0m\u001b[mINFO       \u001b[0m\u001b[33m<1560.00> \u001b[0m\u001b[93;1m=== STARTING STEP ===\u001b[0m\n"
     ]
    },
    {
     "name": "stderr",
     "output_type": "stream",
     "text": [
      "\u001b[90;3m2024-06-21 15:53:32,980 \u001b[0m\u001b[36msats.satellite.Scanner-1       \u001b[0m\u001b[mINFO       \u001b[0m\u001b[33m<1560.00> \u001b[0m\u001b[36mScanner-1: \u001b[0m\u001b[maction_desat tasked for 60.0 seconds\u001b[0m\n"
     ]
    },
    {
     "name": "stderr",
     "output_type": "stream",
     "text": [
      "\u001b[90;3m2024-06-21 15:53:32,981 \u001b[0m\u001b[36msats.satellite.Scanner-1       \u001b[0m\u001b[mINFO       \u001b[0m\u001b[33m<1560.00> \u001b[0m\u001b[36mScanner-1: \u001b[0m\u001b[msetting timed terminal event at 1620.0\u001b[0m\n"
     ]
    },
    {
     "name": "stderr",
     "output_type": "stream",
     "text": [
      "\u001b[90;3m2024-06-21 15:53:32,981 \u001b[0m\u001b[msim.simulator                  \u001b[0m\u001b[mINFO       \u001b[0m\u001b[33m<1560.00> \u001b[0m\u001b[mRunning simulation at most to 11400.00 seconds\u001b[0m\n"
     ]
    },
    {
     "name": "stderr",
     "output_type": "stream",
     "text": [
      "\u001b[90;3m2024-06-21 15:53:32,984 \u001b[0m\u001b[36msats.satellite.Scanner-1       \u001b[0m\u001b[mINFO       \u001b[0m\u001b[33m<1620.00> \u001b[0m\u001b[36mScanner-1: \u001b[0m\u001b[mtimed termination at 1620.0 for action_desat\u001b[0m\n"
     ]
    },
    {
     "name": "stderr",
     "output_type": "stream",
     "text": [
      "\u001b[90;3m2024-06-21 15:53:32,985 \u001b[0m\u001b[mdata.base                      \u001b[0m\u001b[mINFO       \u001b[0m\u001b[33m<1620.00> \u001b[0m\u001b[mData reward: {'Scanner-1_4913732896': 0.0}\u001b[0m\n"
     ]
    },
    {
     "name": "stderr",
     "output_type": "stream",
     "text": [
      "\u001b[90;3m2024-06-21 15:53:32,985 \u001b[0m\u001b[mgym                            \u001b[0m\u001b[mINFO       \u001b[0m\u001b[33m<1620.00> \u001b[0m\u001b[mSatellites requiring retasking: ['Scanner-1_4913732896']\u001b[0m\n"
     ]
    },
    {
     "name": "stderr",
     "output_type": "stream",
     "text": [
      "\u001b[90;3m2024-06-21 15:53:32,986 \u001b[0m\u001b[mgym                            \u001b[0m\u001b[mINFO       \u001b[0m\u001b[33m<1620.00> \u001b[0m\u001b[mStep reward: 0.0\u001b[0m\n"
     ]
    },
    {
     "name": "stderr",
     "output_type": "stream",
     "text": [
      "\u001b[90;3m2024-06-21 15:53:32,986 \u001b[0m\u001b[mgym                            \u001b[0m\u001b[mINFO       \u001b[0m\u001b[33m<1620.00> \u001b[0m\u001b[93;1m=== STARTING STEP ===\u001b[0m\n"
     ]
    },
    {
     "name": "stderr",
     "output_type": "stream",
     "text": [
      "\u001b[90;3m2024-06-21 15:53:32,986 \u001b[0m\u001b[36msats.satellite.Scanner-1       \u001b[0m\u001b[mINFO       \u001b[0m\u001b[33m<1620.00> \u001b[0m\u001b[36mScanner-1: \u001b[0m\u001b[maction_downlink tasked for 60.0 seconds\u001b[0m\n"
     ]
    },
    {
     "name": "stderr",
     "output_type": "stream",
     "text": [
      "\u001b[90;3m2024-06-21 15:53:32,986 \u001b[0m\u001b[36msats.satellite.Scanner-1       \u001b[0m\u001b[mINFO       \u001b[0m\u001b[33m<1620.00> \u001b[0m\u001b[36mScanner-1: \u001b[0m\u001b[msetting timed terminal event at 1680.0\u001b[0m\n"
     ]
    },
    {
     "name": "stderr",
     "output_type": "stream",
     "text": [
      "\u001b[90;3m2024-06-21 15:53:32,987 \u001b[0m\u001b[msim.simulator                  \u001b[0m\u001b[mINFO       \u001b[0m\u001b[33m<1620.00> \u001b[0m\u001b[mRunning simulation at most to 11400.00 seconds\u001b[0m\n"
     ]
    },
    {
     "name": "stderr",
     "output_type": "stream",
     "text": [
      "\u001b[90;3m2024-06-21 15:53:32,990 \u001b[0m\u001b[36msats.satellite.Scanner-1       \u001b[0m\u001b[mINFO       \u001b[0m\u001b[33m<1680.00> \u001b[0m\u001b[36mScanner-1: \u001b[0m\u001b[mtimed termination at 1680.0 for action_downlink\u001b[0m\n"
     ]
    },
    {
     "name": "stderr",
     "output_type": "stream",
     "text": [
      "\u001b[90;3m2024-06-21 15:53:32,990 \u001b[0m\u001b[mdata.base                      \u001b[0m\u001b[mINFO       \u001b[0m\u001b[33m<1680.00> \u001b[0m\u001b[mData reward: {'Scanner-1_4913732896': 0.0}\u001b[0m\n"
     ]
    },
    {
     "name": "stderr",
     "output_type": "stream",
     "text": [
      "\u001b[90;3m2024-06-21 15:53:32,991 \u001b[0m\u001b[mgym                            \u001b[0m\u001b[mINFO       \u001b[0m\u001b[33m<1680.00> \u001b[0m\u001b[mSatellites requiring retasking: ['Scanner-1_4913732896']\u001b[0m\n"
     ]
    },
    {
     "name": "stderr",
     "output_type": "stream",
     "text": [
      "\u001b[90;3m2024-06-21 15:53:32,991 \u001b[0m\u001b[mgym                            \u001b[0m\u001b[mINFO       \u001b[0m\u001b[33m<1680.00> \u001b[0m\u001b[mStep reward: 0.0\u001b[0m\n"
     ]
    },
    {
     "name": "stderr",
     "output_type": "stream",
     "text": [
      "\u001b[90;3m2024-06-21 15:53:32,992 \u001b[0m\u001b[mgym                            \u001b[0m\u001b[mINFO       \u001b[0m\u001b[33m<1680.00> \u001b[0m\u001b[93;1m=== STARTING STEP ===\u001b[0m\n"
     ]
    },
    {
     "name": "stderr",
     "output_type": "stream",
     "text": [
      "\u001b[90;3m2024-06-21 15:53:32,992 \u001b[0m\u001b[36msats.satellite.Scanner-1       \u001b[0m\u001b[mINFO       \u001b[0m\u001b[33m<1680.00> \u001b[0m\u001b[36mScanner-1: \u001b[0m\u001b[maction_desat tasked for 60.0 seconds\u001b[0m\n"
     ]
    },
    {
     "name": "stderr",
     "output_type": "stream",
     "text": [
      "\u001b[90;3m2024-06-21 15:53:32,992 \u001b[0m\u001b[36msats.satellite.Scanner-1       \u001b[0m\u001b[mINFO       \u001b[0m\u001b[33m<1680.00> \u001b[0m\u001b[36mScanner-1: \u001b[0m\u001b[msetting timed terminal event at 1740.0\u001b[0m\n"
     ]
    },
    {
     "name": "stderr",
     "output_type": "stream",
     "text": [
      "\u001b[90;3m2024-06-21 15:53:32,992 \u001b[0m\u001b[msim.simulator                  \u001b[0m\u001b[mINFO       \u001b[0m\u001b[33m<1680.00> \u001b[0m\u001b[mRunning simulation at most to 11400.00 seconds\u001b[0m\n"
     ]
    },
    {
     "name": "stderr",
     "output_type": "stream",
     "text": [
      "\u001b[90;3m2024-06-21 15:53:32,996 \u001b[0m\u001b[36msats.satellite.Scanner-1       \u001b[0m\u001b[mINFO       \u001b[0m\u001b[33m<1740.00> \u001b[0m\u001b[36mScanner-1: \u001b[0m\u001b[mtimed termination at 1740.0 for action_desat\u001b[0m\n"
     ]
    },
    {
     "name": "stderr",
     "output_type": "stream",
     "text": [
      "\u001b[90;3m2024-06-21 15:53:32,996 \u001b[0m\u001b[mdata.base                      \u001b[0m\u001b[mINFO       \u001b[0m\u001b[33m<1740.00> \u001b[0m\u001b[mData reward: {'Scanner-1_4913732896': 0.0}\u001b[0m\n"
     ]
    },
    {
     "name": "stderr",
     "output_type": "stream",
     "text": [
      "\u001b[90;3m2024-06-21 15:53:32,997 \u001b[0m\u001b[mgym                            \u001b[0m\u001b[mINFO       \u001b[0m\u001b[33m<1740.00> \u001b[0m\u001b[mSatellites requiring retasking: ['Scanner-1_4913732896']\u001b[0m\n"
     ]
    },
    {
     "name": "stderr",
     "output_type": "stream",
     "text": [
      "\u001b[90;3m2024-06-21 15:53:32,997 \u001b[0m\u001b[mgym                            \u001b[0m\u001b[mINFO       \u001b[0m\u001b[33m<1740.00> \u001b[0m\u001b[mStep reward: 0.0\u001b[0m\n"
     ]
    },
    {
     "name": "stderr",
     "output_type": "stream",
     "text": [
      "\u001b[90;3m2024-06-21 15:53:32,997 \u001b[0m\u001b[mgym                            \u001b[0m\u001b[mINFO       \u001b[0m\u001b[33m<1740.00> \u001b[0m\u001b[93;1m=== STARTING STEP ===\u001b[0m\n"
     ]
    },
    {
     "name": "stderr",
     "output_type": "stream",
     "text": [
      "\u001b[90;3m2024-06-21 15:53:32,997 \u001b[0m\u001b[36msats.satellite.Scanner-1       \u001b[0m\u001b[mINFO       \u001b[0m\u001b[33m<1740.00> \u001b[0m\u001b[36mScanner-1: \u001b[0m\u001b[maction_downlink tasked for 60.0 seconds\u001b[0m\n"
     ]
    },
    {
     "name": "stderr",
     "output_type": "stream",
     "text": [
      "\u001b[90;3m2024-06-21 15:53:32,998 \u001b[0m\u001b[36msats.satellite.Scanner-1       \u001b[0m\u001b[mINFO       \u001b[0m\u001b[33m<1740.00> \u001b[0m\u001b[36mScanner-1: \u001b[0m\u001b[msetting timed terminal event at 1800.0\u001b[0m\n"
     ]
    },
    {
     "name": "stderr",
     "output_type": "stream",
     "text": [
      "\u001b[90;3m2024-06-21 15:53:32,998 \u001b[0m\u001b[msim.simulator                  \u001b[0m\u001b[mINFO       \u001b[0m\u001b[33m<1740.00> \u001b[0m\u001b[mRunning simulation at most to 11400.00 seconds\u001b[0m\n"
     ]
    },
    {
     "name": "stderr",
     "output_type": "stream",
     "text": [
      "\u001b[90;3m2024-06-21 15:53:33,001 \u001b[0m\u001b[36msats.satellite.Scanner-1       \u001b[0m\u001b[mINFO       \u001b[0m\u001b[33m<1800.00> \u001b[0m\u001b[36mScanner-1: \u001b[0m\u001b[mtimed termination at 1800.0 for action_downlink\u001b[0m\n"
     ]
    },
    {
     "name": "stderr",
     "output_type": "stream",
     "text": [
      "\u001b[90;3m2024-06-21 15:53:33,002 \u001b[0m\u001b[mdata.base                      \u001b[0m\u001b[mINFO       \u001b[0m\u001b[33m<1800.00> \u001b[0m\u001b[mData reward: {'Scanner-1_4913732896': 0.0}\u001b[0m\n"
     ]
    },
    {
     "name": "stderr",
     "output_type": "stream",
     "text": [
      "\u001b[90;3m2024-06-21 15:53:33,003 \u001b[0m\u001b[mgym                            \u001b[0m\u001b[mINFO       \u001b[0m\u001b[33m<1800.00> \u001b[0m\u001b[mSatellites requiring retasking: ['Scanner-1_4913732896']\u001b[0m\n"
     ]
    },
    {
     "name": "stderr",
     "output_type": "stream",
     "text": [
      "\u001b[90;3m2024-06-21 15:53:33,003 \u001b[0m\u001b[mgym                            \u001b[0m\u001b[mINFO       \u001b[0m\u001b[33m<1800.00> \u001b[0m\u001b[mStep reward: 0.0\u001b[0m\n"
     ]
    },
    {
     "name": "stderr",
     "output_type": "stream",
     "text": [
      "\u001b[90;3m2024-06-21 15:53:33,003 \u001b[0m\u001b[mgym                            \u001b[0m\u001b[mINFO       \u001b[0m\u001b[33m<1800.00> \u001b[0m\u001b[93;1m=== STARTING STEP ===\u001b[0m\n"
     ]
    },
    {
     "name": "stderr",
     "output_type": "stream",
     "text": [
      "\u001b[90;3m2024-06-21 15:53:33,003 \u001b[0m\u001b[36msats.satellite.Scanner-1       \u001b[0m\u001b[mINFO       \u001b[0m\u001b[33m<1800.00> \u001b[0m\u001b[36mScanner-1: \u001b[0m\u001b[maction_nadir_scan tasked for 180.0 seconds\u001b[0m\n"
     ]
    },
    {
     "name": "stderr",
     "output_type": "stream",
     "text": [
      "\u001b[90;3m2024-06-21 15:53:33,004 \u001b[0m\u001b[36msats.satellite.Scanner-1       \u001b[0m\u001b[mINFO       \u001b[0m\u001b[33m<1800.00> \u001b[0m\u001b[36mScanner-1: \u001b[0m\u001b[msetting timed terminal event at 1980.0\u001b[0m\n"
     ]
    },
    {
     "name": "stderr",
     "output_type": "stream",
     "text": [
      "\u001b[90;3m2024-06-21 15:53:33,004 \u001b[0m\u001b[msim.simulator                  \u001b[0m\u001b[mINFO       \u001b[0m\u001b[33m<1800.00> \u001b[0m\u001b[mRunning simulation at most to 11400.00 seconds\u001b[0m\n"
     ]
    },
    {
     "name": "stderr",
     "output_type": "stream",
     "text": [
      "\u001b[90;3m2024-06-21 15:53:33,014 \u001b[0m\u001b[36msats.satellite.Scanner-1       \u001b[0m\u001b[mINFO       \u001b[0m\u001b[33m<1980.00> \u001b[0m\u001b[36mScanner-1: \u001b[0m\u001b[mtimed termination at 1980.0 for action_nadir_scan\u001b[0m\n"
     ]
    },
    {
     "name": "stderr",
     "output_type": "stream",
     "text": [
      "\u001b[90;3m2024-06-21 15:53:33,014 \u001b[0m\u001b[mdata.base                      \u001b[0m\u001b[mINFO       \u001b[0m\u001b[33m<1980.00> \u001b[0m\u001b[mData reward: {'Scanner-1_4913732896': 0.011842105263157893}\u001b[0m\n"
     ]
    },
    {
     "name": "stderr",
     "output_type": "stream",
     "text": [
      "\u001b[90;3m2024-06-21 15:53:33,015 \u001b[0m\u001b[mgym                            \u001b[0m\u001b[mINFO       \u001b[0m\u001b[33m<1980.00> \u001b[0m\u001b[mSatellites requiring retasking: ['Scanner-1_4913732896']\u001b[0m\n"
     ]
    },
    {
     "name": "stderr",
     "output_type": "stream",
     "text": [
      "\u001b[90;3m2024-06-21 15:53:33,015 \u001b[0m\u001b[mgym                            \u001b[0m\u001b[mINFO       \u001b[0m\u001b[33m<1980.00> \u001b[0m\u001b[mStep reward: 0.011842105263157893\u001b[0m\n"
     ]
    },
    {
     "name": "stderr",
     "output_type": "stream",
     "text": [
      "\u001b[90;3m2024-06-21 15:53:33,015 \u001b[0m\u001b[mgym                            \u001b[0m\u001b[mINFO       \u001b[0m\u001b[33m<1980.00> \u001b[0m\u001b[93;1m=== STARTING STEP ===\u001b[0m\n"
     ]
    },
    {
     "name": "stderr",
     "output_type": "stream",
     "text": [
      "\u001b[90;3m2024-06-21 15:53:33,015 \u001b[0m\u001b[36msats.satellite.Scanner-1       \u001b[0m\u001b[mINFO       \u001b[0m\u001b[33m<1980.00> \u001b[0m\u001b[36mScanner-1: \u001b[0m\u001b[maction_nadir_scan tasked for 180.0 seconds\u001b[0m\n"
     ]
    },
    {
     "name": "stderr",
     "output_type": "stream",
     "text": [
      "\u001b[90;3m2024-06-21 15:53:33,015 \u001b[0m\u001b[36msats.satellite.Scanner-1       \u001b[0m\u001b[mINFO       \u001b[0m\u001b[33m<1980.00> \u001b[0m\u001b[36mScanner-1: \u001b[0m\u001b[msetting timed terminal event at 2160.0\u001b[0m\n"
     ]
    },
    {
     "name": "stderr",
     "output_type": "stream",
     "text": [
      "\u001b[90;3m2024-06-21 15:53:33,016 \u001b[0m\u001b[msim.simulator                  \u001b[0m\u001b[mINFO       \u001b[0m\u001b[33m<1980.00> \u001b[0m\u001b[mRunning simulation at most to 11400.00 seconds\u001b[0m\n"
     ]
    },
    {
     "name": "stderr",
     "output_type": "stream",
     "text": [
      "\u001b[90;3m2024-06-21 15:53:33,026 \u001b[0m\u001b[36msats.satellite.Scanner-1       \u001b[0m\u001b[mINFO       \u001b[0m\u001b[33m<2160.00> \u001b[0m\u001b[36mScanner-1: \u001b[0m\u001b[mtimed termination at 2160.0 for action_nadir_scan\u001b[0m\n"
     ]
    },
    {
     "name": "stderr",
     "output_type": "stream",
     "text": [
      "\u001b[90;3m2024-06-21 15:53:33,026 \u001b[0m\u001b[mdata.base                      \u001b[0m\u001b[mINFO       \u001b[0m\u001b[33m<2160.00> \u001b[0m\u001b[mData reward: {'Scanner-1_4913732896': 0.015789473684210527}\u001b[0m\n"
     ]
    },
    {
     "name": "stderr",
     "output_type": "stream",
     "text": [
      "\u001b[90;3m2024-06-21 15:53:33,027 \u001b[0m\u001b[mgym                            \u001b[0m\u001b[mINFO       \u001b[0m\u001b[33m<2160.00> \u001b[0m\u001b[mSatellites requiring retasking: ['Scanner-1_4913732896']\u001b[0m\n"
     ]
    },
    {
     "name": "stderr",
     "output_type": "stream",
     "text": [
      "\u001b[90;3m2024-06-21 15:53:33,027 \u001b[0m\u001b[mgym                            \u001b[0m\u001b[mINFO       \u001b[0m\u001b[33m<2160.00> \u001b[0m\u001b[mStep reward: 0.015789473684210527\u001b[0m\n"
     ]
    },
    {
     "name": "stderr",
     "output_type": "stream",
     "text": [
      "\u001b[90;3m2024-06-21 15:53:33,027 \u001b[0m\u001b[mgym                            \u001b[0m\u001b[mINFO       \u001b[0m\u001b[33m<2160.00> \u001b[0m\u001b[93;1m=== STARTING STEP ===\u001b[0m\n"
     ]
    },
    {
     "name": "stderr",
     "output_type": "stream",
     "text": [
      "\u001b[90;3m2024-06-21 15:53:33,027 \u001b[0m\u001b[36msats.satellite.Scanner-1       \u001b[0m\u001b[mINFO       \u001b[0m\u001b[33m<2160.00> \u001b[0m\u001b[36mScanner-1: \u001b[0m\u001b[maction_charge tasked for 180.0 seconds\u001b[0m\n"
     ]
    },
    {
     "name": "stderr",
     "output_type": "stream",
     "text": [
      "\u001b[90;3m2024-06-21 15:53:33,028 \u001b[0m\u001b[36msats.satellite.Scanner-1       \u001b[0m\u001b[mINFO       \u001b[0m\u001b[33m<2160.00> \u001b[0m\u001b[36mScanner-1: \u001b[0m\u001b[msetting timed terminal event at 2340.0\u001b[0m\n"
     ]
    },
    {
     "name": "stderr",
     "output_type": "stream",
     "text": [
      "\u001b[90;3m2024-06-21 15:53:33,028 \u001b[0m\u001b[msim.simulator                  \u001b[0m\u001b[mINFO       \u001b[0m\u001b[33m<2160.00> \u001b[0m\u001b[mRunning simulation at most to 11400.00 seconds\u001b[0m\n"
     ]
    },
    {
     "name": "stderr",
     "output_type": "stream",
     "text": [
      "\u001b[90;3m2024-06-21 15:53:33,038 \u001b[0m\u001b[36msats.satellite.Scanner-1       \u001b[0m\u001b[mINFO       \u001b[0m\u001b[33m<2340.00> \u001b[0m\u001b[36mScanner-1: \u001b[0m\u001b[mtimed termination at 2340.0 for action_charge\u001b[0m\n"
     ]
    },
    {
     "name": "stderr",
     "output_type": "stream",
     "text": [
      "\u001b[90;3m2024-06-21 15:53:33,038 \u001b[0m\u001b[mdata.base                      \u001b[0m\u001b[mINFO       \u001b[0m\u001b[33m<2340.00> \u001b[0m\u001b[mData reward: {'Scanner-1_4913732896': 0.0}\u001b[0m\n"
     ]
    },
    {
     "name": "stderr",
     "output_type": "stream",
     "text": [
      "\u001b[90;3m2024-06-21 15:53:33,039 \u001b[0m\u001b[mgym                            \u001b[0m\u001b[mINFO       \u001b[0m\u001b[33m<2340.00> \u001b[0m\u001b[mSatellites requiring retasking: ['Scanner-1_4913732896']\u001b[0m\n"
     ]
    },
    {
     "name": "stderr",
     "output_type": "stream",
     "text": [
      "\u001b[90;3m2024-06-21 15:53:33,039 \u001b[0m\u001b[mgym                            \u001b[0m\u001b[mINFO       \u001b[0m\u001b[33m<2340.00> \u001b[0m\u001b[mStep reward: 0.0\u001b[0m\n"
     ]
    },
    {
     "name": "stderr",
     "output_type": "stream",
     "text": [
      "\u001b[90;3m2024-06-21 15:53:33,039 \u001b[0m\u001b[mgym                            \u001b[0m\u001b[mINFO       \u001b[0m\u001b[33m<2340.00> \u001b[0m\u001b[93;1m=== STARTING STEP ===\u001b[0m\n"
     ]
    },
    {
     "name": "stderr",
     "output_type": "stream",
     "text": [
      "\u001b[90;3m2024-06-21 15:53:33,040 \u001b[0m\u001b[36msats.satellite.Scanner-1       \u001b[0m\u001b[mINFO       \u001b[0m\u001b[33m<2340.00> \u001b[0m\u001b[36mScanner-1: \u001b[0m\u001b[maction_charge tasked for 180.0 seconds\u001b[0m\n"
     ]
    },
    {
     "name": "stderr",
     "output_type": "stream",
     "text": [
      "\u001b[90;3m2024-06-21 15:53:33,040 \u001b[0m\u001b[36msats.satellite.Scanner-1       \u001b[0m\u001b[mINFO       \u001b[0m\u001b[33m<2340.00> \u001b[0m\u001b[36mScanner-1: \u001b[0m\u001b[msetting timed terminal event at 2520.0\u001b[0m\n"
     ]
    },
    {
     "name": "stderr",
     "output_type": "stream",
     "text": [
      "\u001b[90;3m2024-06-21 15:53:33,040 \u001b[0m\u001b[msim.simulator                  \u001b[0m\u001b[mINFO       \u001b[0m\u001b[33m<2340.00> \u001b[0m\u001b[mRunning simulation at most to 11400.00 seconds\u001b[0m\n"
     ]
    },
    {
     "name": "stderr",
     "output_type": "stream",
     "text": [
      "\u001b[90;3m2024-06-21 15:53:33,050 \u001b[0m\u001b[36msats.satellite.Scanner-1       \u001b[0m\u001b[mINFO       \u001b[0m\u001b[33m<2520.00> \u001b[0m\u001b[36mScanner-1: \u001b[0m\u001b[mtimed termination at 2520.0 for action_charge\u001b[0m\n"
     ]
    },
    {
     "name": "stderr",
     "output_type": "stream",
     "text": [
      "\u001b[90;3m2024-06-21 15:53:33,050 \u001b[0m\u001b[mdata.base                      \u001b[0m\u001b[mINFO       \u001b[0m\u001b[33m<2520.00> \u001b[0m\u001b[mData reward: {'Scanner-1_4913732896': 0.0}\u001b[0m\n"
     ]
    },
    {
     "name": "stderr",
     "output_type": "stream",
     "text": [
      "\u001b[90;3m2024-06-21 15:53:33,051 \u001b[0m\u001b[mgym                            \u001b[0m\u001b[mINFO       \u001b[0m\u001b[33m<2520.00> \u001b[0m\u001b[mSatellites requiring retasking: ['Scanner-1_4913732896']\u001b[0m\n"
     ]
    },
    {
     "name": "stderr",
     "output_type": "stream",
     "text": [
      "\u001b[90;3m2024-06-21 15:53:33,051 \u001b[0m\u001b[mgym                            \u001b[0m\u001b[mINFO       \u001b[0m\u001b[33m<2520.00> \u001b[0m\u001b[mStep reward: 0.0\u001b[0m\n"
     ]
    },
    {
     "name": "stderr",
     "output_type": "stream",
     "text": [
      "\u001b[90;3m2024-06-21 15:53:33,051 \u001b[0m\u001b[mgym                            \u001b[0m\u001b[mINFO       \u001b[0m\u001b[33m<2520.00> \u001b[0m\u001b[93;1m=== STARTING STEP ===\u001b[0m\n"
     ]
    },
    {
     "name": "stderr",
     "output_type": "stream",
     "text": [
      "\u001b[90;3m2024-06-21 15:53:33,052 \u001b[0m\u001b[36msats.satellite.Scanner-1       \u001b[0m\u001b[mINFO       \u001b[0m\u001b[33m<2520.00> \u001b[0m\u001b[36mScanner-1: \u001b[0m\u001b[maction_downlink tasked for 60.0 seconds\u001b[0m\n"
     ]
    },
    {
     "name": "stderr",
     "output_type": "stream",
     "text": [
      "\u001b[90;3m2024-06-21 15:53:33,052 \u001b[0m\u001b[36msats.satellite.Scanner-1       \u001b[0m\u001b[mINFO       \u001b[0m\u001b[33m<2520.00> \u001b[0m\u001b[36mScanner-1: \u001b[0m\u001b[msetting timed terminal event at 2580.0\u001b[0m\n"
     ]
    },
    {
     "name": "stderr",
     "output_type": "stream",
     "text": [
      "\u001b[90;3m2024-06-21 15:53:33,052 \u001b[0m\u001b[msim.simulator                  \u001b[0m\u001b[mINFO       \u001b[0m\u001b[33m<2520.00> \u001b[0m\u001b[mRunning simulation at most to 11400.00 seconds\u001b[0m\n"
     ]
    },
    {
     "name": "stderr",
     "output_type": "stream",
     "text": [
      "\u001b[90;3m2024-06-21 15:53:33,056 \u001b[0m\u001b[36msats.satellite.Scanner-1       \u001b[0m\u001b[mINFO       \u001b[0m\u001b[33m<2580.00> \u001b[0m\u001b[36mScanner-1: \u001b[0m\u001b[mtimed termination at 2580.0 for action_downlink\u001b[0m\n"
     ]
    },
    {
     "name": "stderr",
     "output_type": "stream",
     "text": [
      "\u001b[90;3m2024-06-21 15:53:33,056 \u001b[0m\u001b[mdata.base                      \u001b[0m\u001b[mINFO       \u001b[0m\u001b[33m<2580.00> \u001b[0m\u001b[mData reward: {'Scanner-1_4913732896': 0.0}\u001b[0m\n"
     ]
    },
    {
     "name": "stderr",
     "output_type": "stream",
     "text": [
      "\u001b[90;3m2024-06-21 15:53:33,057 \u001b[0m\u001b[mgym                            \u001b[0m\u001b[mINFO       \u001b[0m\u001b[33m<2580.00> \u001b[0m\u001b[mSatellites requiring retasking: ['Scanner-1_4913732896']\u001b[0m\n"
     ]
    },
    {
     "name": "stderr",
     "output_type": "stream",
     "text": [
      "\u001b[90;3m2024-06-21 15:53:33,057 \u001b[0m\u001b[mgym                            \u001b[0m\u001b[mINFO       \u001b[0m\u001b[33m<2580.00> \u001b[0m\u001b[mStep reward: 0.0\u001b[0m\n"
     ]
    },
    {
     "name": "stderr",
     "output_type": "stream",
     "text": [
      "\u001b[90;3m2024-06-21 15:53:33,057 \u001b[0m\u001b[mgym                            \u001b[0m\u001b[mINFO       \u001b[0m\u001b[33m<2580.00> \u001b[0m\u001b[93;1m=== STARTING STEP ===\u001b[0m\n"
     ]
    },
    {
     "name": "stderr",
     "output_type": "stream",
     "text": [
      "\u001b[90;3m2024-06-21 15:53:33,057 \u001b[0m\u001b[36msats.satellite.Scanner-1       \u001b[0m\u001b[mINFO       \u001b[0m\u001b[33m<2580.00> \u001b[0m\u001b[36mScanner-1: \u001b[0m\u001b[maction_charge tasked for 180.0 seconds\u001b[0m\n"
     ]
    },
    {
     "name": "stderr",
     "output_type": "stream",
     "text": [
      "\u001b[90;3m2024-06-21 15:53:33,057 \u001b[0m\u001b[36msats.satellite.Scanner-1       \u001b[0m\u001b[mINFO       \u001b[0m\u001b[33m<2580.00> \u001b[0m\u001b[36mScanner-1: \u001b[0m\u001b[msetting timed terminal event at 2760.0\u001b[0m\n"
     ]
    },
    {
     "name": "stderr",
     "output_type": "stream",
     "text": [
      "\u001b[90;3m2024-06-21 15:53:33,058 \u001b[0m\u001b[msim.simulator                  \u001b[0m\u001b[mINFO       \u001b[0m\u001b[33m<2580.00> \u001b[0m\u001b[mRunning simulation at most to 11400.00 seconds\u001b[0m\n"
     ]
    },
    {
     "name": "stderr",
     "output_type": "stream",
     "text": [
      "\u001b[90;3m2024-06-21 15:53:33,068 \u001b[0m\u001b[36msats.satellite.Scanner-1       \u001b[0m\u001b[mINFO       \u001b[0m\u001b[33m<2760.00> \u001b[0m\u001b[36mScanner-1: \u001b[0m\u001b[mtimed termination at 2760.0 for action_charge\u001b[0m\n"
     ]
    },
    {
     "name": "stderr",
     "output_type": "stream",
     "text": [
      "\u001b[90;3m2024-06-21 15:53:33,068 \u001b[0m\u001b[mdata.base                      \u001b[0m\u001b[mINFO       \u001b[0m\u001b[33m<2760.00> \u001b[0m\u001b[mData reward: {'Scanner-1_4913732896': 0.0}\u001b[0m\n"
     ]
    },
    {
     "name": "stderr",
     "output_type": "stream",
     "text": [
      "\u001b[90;3m2024-06-21 15:53:33,069 \u001b[0m\u001b[mgym                            \u001b[0m\u001b[mINFO       \u001b[0m\u001b[33m<2760.00> \u001b[0m\u001b[mSatellites requiring retasking: ['Scanner-1_4913732896']\u001b[0m\n"
     ]
    },
    {
     "name": "stderr",
     "output_type": "stream",
     "text": [
      "\u001b[90;3m2024-06-21 15:53:33,069 \u001b[0m\u001b[mgym                            \u001b[0m\u001b[mINFO       \u001b[0m\u001b[33m<2760.00> \u001b[0m\u001b[mStep reward: 0.0\u001b[0m\n"
     ]
    },
    {
     "name": "stderr",
     "output_type": "stream",
     "text": [
      "\u001b[90;3m2024-06-21 15:53:33,069 \u001b[0m\u001b[mgym                            \u001b[0m\u001b[mINFO       \u001b[0m\u001b[33m<2760.00> \u001b[0m\u001b[93;1m=== STARTING STEP ===\u001b[0m\n"
     ]
    },
    {
     "name": "stderr",
     "output_type": "stream",
     "text": [
      "\u001b[90;3m2024-06-21 15:53:33,069 \u001b[0m\u001b[36msats.satellite.Scanner-1       \u001b[0m\u001b[mINFO       \u001b[0m\u001b[33m<2760.00> \u001b[0m\u001b[36mScanner-1: \u001b[0m\u001b[maction_charge tasked for 180.0 seconds\u001b[0m\n"
     ]
    },
    {
     "name": "stderr",
     "output_type": "stream",
     "text": [
      "\u001b[90;3m2024-06-21 15:53:33,070 \u001b[0m\u001b[36msats.satellite.Scanner-1       \u001b[0m\u001b[mINFO       \u001b[0m\u001b[33m<2760.00> \u001b[0m\u001b[36mScanner-1: \u001b[0m\u001b[msetting timed terminal event at 2940.0\u001b[0m\n"
     ]
    },
    {
     "name": "stderr",
     "output_type": "stream",
     "text": [
      "\u001b[90;3m2024-06-21 15:53:33,070 \u001b[0m\u001b[msim.simulator                  \u001b[0m\u001b[mINFO       \u001b[0m\u001b[33m<2760.00> \u001b[0m\u001b[mRunning simulation at most to 11400.00 seconds\u001b[0m\n"
     ]
    },
    {
     "name": "stderr",
     "output_type": "stream",
     "text": [
      "\u001b[90;3m2024-06-21 15:53:33,080 \u001b[0m\u001b[36msats.satellite.Scanner-1       \u001b[0m\u001b[mINFO       \u001b[0m\u001b[33m<2940.00> \u001b[0m\u001b[36mScanner-1: \u001b[0m\u001b[mtimed termination at 2940.0 for action_charge\u001b[0m\n"
     ]
    },
    {
     "name": "stderr",
     "output_type": "stream",
     "text": [
      "\u001b[90;3m2024-06-21 15:53:33,080 \u001b[0m\u001b[mdata.base                      \u001b[0m\u001b[mINFO       \u001b[0m\u001b[33m<2940.00> \u001b[0m\u001b[mData reward: {'Scanner-1_4913732896': 0.0}\u001b[0m\n"
     ]
    },
    {
     "name": "stderr",
     "output_type": "stream",
     "text": [
      "\u001b[90;3m2024-06-21 15:53:33,081 \u001b[0m\u001b[mgym                            \u001b[0m\u001b[mINFO       \u001b[0m\u001b[33m<2940.00> \u001b[0m\u001b[mSatellites requiring retasking: ['Scanner-1_4913732896']\u001b[0m\n"
     ]
    },
    {
     "name": "stderr",
     "output_type": "stream",
     "text": [
      "\u001b[90;3m2024-06-21 15:53:33,081 \u001b[0m\u001b[mgym                            \u001b[0m\u001b[mINFO       \u001b[0m\u001b[33m<2940.00> \u001b[0m\u001b[mStep reward: 0.0\u001b[0m\n"
     ]
    },
    {
     "name": "stderr",
     "output_type": "stream",
     "text": [
      "\u001b[90;3m2024-06-21 15:53:33,081 \u001b[0m\u001b[mgym                            \u001b[0m\u001b[mINFO       \u001b[0m\u001b[33m<2940.00> \u001b[0m\u001b[93;1m=== STARTING STEP ===\u001b[0m\n"
     ]
    },
    {
     "name": "stderr",
     "output_type": "stream",
     "text": [
      "\u001b[90;3m2024-06-21 15:53:33,081 \u001b[0m\u001b[36msats.satellite.Scanner-1       \u001b[0m\u001b[mINFO       \u001b[0m\u001b[33m<2940.00> \u001b[0m\u001b[36mScanner-1: \u001b[0m\u001b[maction_desat tasked for 60.0 seconds\u001b[0m\n"
     ]
    },
    {
     "name": "stderr",
     "output_type": "stream",
     "text": [
      "\u001b[90;3m2024-06-21 15:53:33,082 \u001b[0m\u001b[36msats.satellite.Scanner-1       \u001b[0m\u001b[mINFO       \u001b[0m\u001b[33m<2940.00> \u001b[0m\u001b[36mScanner-1: \u001b[0m\u001b[msetting timed terminal event at 3000.0\u001b[0m\n"
     ]
    },
    {
     "name": "stderr",
     "output_type": "stream",
     "text": [
      "\u001b[90;3m2024-06-21 15:53:33,082 \u001b[0m\u001b[msim.simulator                  \u001b[0m\u001b[mINFO       \u001b[0m\u001b[33m<2940.00> \u001b[0m\u001b[mRunning simulation at most to 11400.00 seconds\u001b[0m\n"
     ]
    },
    {
     "name": "stderr",
     "output_type": "stream",
     "text": [
      "\u001b[90;3m2024-06-21 15:53:33,086 \u001b[0m\u001b[36msats.satellite.Scanner-1       \u001b[0m\u001b[mINFO       \u001b[0m\u001b[33m<3000.00> \u001b[0m\u001b[36mScanner-1: \u001b[0m\u001b[mtimed termination at 3000.0 for action_desat\u001b[0m\n"
     ]
    },
    {
     "name": "stderr",
     "output_type": "stream",
     "text": [
      "\u001b[90;3m2024-06-21 15:53:33,086 \u001b[0m\u001b[mdata.base                      \u001b[0m\u001b[mINFO       \u001b[0m\u001b[33m<3000.00> \u001b[0m\u001b[mData reward: {'Scanner-1_4913732896': 0.0}\u001b[0m\n"
     ]
    },
    {
     "name": "stderr",
     "output_type": "stream",
     "text": [
      "\u001b[90;3m2024-06-21 15:53:33,087 \u001b[0m\u001b[mgym                            \u001b[0m\u001b[mINFO       \u001b[0m\u001b[33m<3000.00> \u001b[0m\u001b[mSatellites requiring retasking: ['Scanner-1_4913732896']\u001b[0m\n"
     ]
    },
    {
     "name": "stderr",
     "output_type": "stream",
     "text": [
      "\u001b[90;3m2024-06-21 15:53:33,087 \u001b[0m\u001b[mgym                            \u001b[0m\u001b[mINFO       \u001b[0m\u001b[33m<3000.00> \u001b[0m\u001b[mStep reward: 0.0\u001b[0m\n"
     ]
    },
    {
     "name": "stderr",
     "output_type": "stream",
     "text": [
      "\u001b[90;3m2024-06-21 15:53:33,087 \u001b[0m\u001b[mgym                            \u001b[0m\u001b[mINFO       \u001b[0m\u001b[33m<3000.00> \u001b[0m\u001b[93;1m=== STARTING STEP ===\u001b[0m\n"
     ]
    },
    {
     "name": "stderr",
     "output_type": "stream",
     "text": [
      "\u001b[90;3m2024-06-21 15:53:33,087 \u001b[0m\u001b[36msats.satellite.Scanner-1       \u001b[0m\u001b[mINFO       \u001b[0m\u001b[33m<3000.00> \u001b[0m\u001b[36mScanner-1: \u001b[0m\u001b[maction_nadir_scan tasked for 180.0 seconds\u001b[0m\n"
     ]
    },
    {
     "name": "stderr",
     "output_type": "stream",
     "text": [
      "\u001b[90;3m2024-06-21 15:53:33,087 \u001b[0m\u001b[36msats.satellite.Scanner-1       \u001b[0m\u001b[mINFO       \u001b[0m\u001b[33m<3000.00> \u001b[0m\u001b[36mScanner-1: \u001b[0m\u001b[msetting timed terminal event at 3180.0\u001b[0m\n"
     ]
    },
    {
     "name": "stderr",
     "output_type": "stream",
     "text": [
      "\u001b[90;3m2024-06-21 15:53:33,088 \u001b[0m\u001b[msim.simulator                  \u001b[0m\u001b[mINFO       \u001b[0m\u001b[33m<3000.00> \u001b[0m\u001b[mRunning simulation at most to 11400.00 seconds\u001b[0m\n"
     ]
    },
    {
     "name": "stderr",
     "output_type": "stream",
     "text": [
      "\u001b[90;3m2024-06-21 15:53:33,098 \u001b[0m\u001b[36msats.satellite.Scanner-1       \u001b[0m\u001b[mINFO       \u001b[0m\u001b[33m<3180.00> \u001b[0m\u001b[36mScanner-1: \u001b[0m\u001b[mtimed termination at 3180.0 for action_nadir_scan\u001b[0m\n"
     ]
    },
    {
     "name": "stderr",
     "output_type": "stream",
     "text": [
      "\u001b[90;3m2024-06-21 15:53:33,098 \u001b[0m\u001b[mdata.base                      \u001b[0m\u001b[mINFO       \u001b[0m\u001b[33m<3180.00> \u001b[0m\u001b[mData reward: {'Scanner-1_4913732896': 0.012543859649122807}\u001b[0m\n"
     ]
    },
    {
     "name": "stderr",
     "output_type": "stream",
     "text": [
      "\u001b[90;3m2024-06-21 15:53:33,099 \u001b[0m\u001b[mgym                            \u001b[0m\u001b[mINFO       \u001b[0m\u001b[33m<3180.00> \u001b[0m\u001b[mSatellites requiring retasking: ['Scanner-1_4913732896']\u001b[0m\n"
     ]
    },
    {
     "name": "stderr",
     "output_type": "stream",
     "text": [
      "\u001b[90;3m2024-06-21 15:53:33,099 \u001b[0m\u001b[mgym                            \u001b[0m\u001b[mINFO       \u001b[0m\u001b[33m<3180.00> \u001b[0m\u001b[mStep reward: 0.012543859649122807\u001b[0m\n"
     ]
    },
    {
     "name": "stderr",
     "output_type": "stream",
     "text": [
      "\u001b[90;3m2024-06-21 15:53:33,099 \u001b[0m\u001b[mgym                            \u001b[0m\u001b[mINFO       \u001b[0m\u001b[33m<3180.00> \u001b[0m\u001b[93;1m=== STARTING STEP ===\u001b[0m\n"
     ]
    },
    {
     "name": "stderr",
     "output_type": "stream",
     "text": [
      "\u001b[90;3m2024-06-21 15:53:33,099 \u001b[0m\u001b[36msats.satellite.Scanner-1       \u001b[0m\u001b[mINFO       \u001b[0m\u001b[33m<3180.00> \u001b[0m\u001b[36mScanner-1: \u001b[0m\u001b[maction_desat tasked for 60.0 seconds\u001b[0m\n"
     ]
    },
    {
     "name": "stderr",
     "output_type": "stream",
     "text": [
      "\u001b[90;3m2024-06-21 15:53:33,100 \u001b[0m\u001b[36msats.satellite.Scanner-1       \u001b[0m\u001b[mINFO       \u001b[0m\u001b[33m<3180.00> \u001b[0m\u001b[36mScanner-1: \u001b[0m\u001b[msetting timed terminal event at 3240.0\u001b[0m\n"
     ]
    },
    {
     "name": "stderr",
     "output_type": "stream",
     "text": [
      "\u001b[90;3m2024-06-21 15:53:33,100 \u001b[0m\u001b[msim.simulator                  \u001b[0m\u001b[mINFO       \u001b[0m\u001b[33m<3180.00> \u001b[0m\u001b[mRunning simulation at most to 11400.00 seconds\u001b[0m\n"
     ]
    },
    {
     "name": "stderr",
     "output_type": "stream",
     "text": [
      "\u001b[90;3m2024-06-21 15:53:33,103 \u001b[0m\u001b[36msats.satellite.Scanner-1       \u001b[0m\u001b[mINFO       \u001b[0m\u001b[33m<3240.00> \u001b[0m\u001b[36mScanner-1: \u001b[0m\u001b[mtimed termination at 3240.0 for action_desat\u001b[0m\n"
     ]
    },
    {
     "name": "stderr",
     "output_type": "stream",
     "text": [
      "\u001b[90;3m2024-06-21 15:53:33,104 \u001b[0m\u001b[mdata.base                      \u001b[0m\u001b[mINFO       \u001b[0m\u001b[33m<3240.00> \u001b[0m\u001b[mData reward: {'Scanner-1_4913732896': 0.0}\u001b[0m\n"
     ]
    },
    {
     "name": "stderr",
     "output_type": "stream",
     "text": [
      "\u001b[90;3m2024-06-21 15:53:33,104 \u001b[0m\u001b[mgym                            \u001b[0m\u001b[mINFO       \u001b[0m\u001b[33m<3240.00> \u001b[0m\u001b[mSatellites requiring retasking: ['Scanner-1_4913732896']\u001b[0m\n"
     ]
    },
    {
     "name": "stderr",
     "output_type": "stream",
     "text": [
      "\u001b[90;3m2024-06-21 15:53:33,105 \u001b[0m\u001b[mgym                            \u001b[0m\u001b[mINFO       \u001b[0m\u001b[33m<3240.00> \u001b[0m\u001b[mStep reward: 0.0\u001b[0m\n"
     ]
    },
    {
     "name": "stderr",
     "output_type": "stream",
     "text": [
      "\u001b[90;3m2024-06-21 15:53:33,105 \u001b[0m\u001b[mgym                            \u001b[0m\u001b[mINFO       \u001b[0m\u001b[33m<3240.00> \u001b[0m\u001b[93;1m=== STARTING STEP ===\u001b[0m\n"
     ]
    },
    {
     "name": "stderr",
     "output_type": "stream",
     "text": [
      "\u001b[90;3m2024-06-21 15:53:33,105 \u001b[0m\u001b[36msats.satellite.Scanner-1       \u001b[0m\u001b[mINFO       \u001b[0m\u001b[33m<3240.00> \u001b[0m\u001b[36mScanner-1: \u001b[0m\u001b[maction_nadir_scan tasked for 180.0 seconds\u001b[0m\n"
     ]
    },
    {
     "name": "stderr",
     "output_type": "stream",
     "text": [
      "\u001b[90;3m2024-06-21 15:53:33,105 \u001b[0m\u001b[36msats.satellite.Scanner-1       \u001b[0m\u001b[mINFO       \u001b[0m\u001b[33m<3240.00> \u001b[0m\u001b[36mScanner-1: \u001b[0m\u001b[msetting timed terminal event at 3420.0\u001b[0m\n"
     ]
    },
    {
     "name": "stderr",
     "output_type": "stream",
     "text": [
      "\u001b[90;3m2024-06-21 15:53:33,106 \u001b[0m\u001b[msim.simulator                  \u001b[0m\u001b[mINFO       \u001b[0m\u001b[33m<3240.00> \u001b[0m\u001b[mRunning simulation at most to 11400.00 seconds\u001b[0m\n"
     ]
    },
    {
     "name": "stderr",
     "output_type": "stream",
     "text": [
      "\u001b[90;3m2024-06-21 15:53:33,116 \u001b[0m\u001b[36msats.satellite.Scanner-1       \u001b[0m\u001b[mINFO       \u001b[0m\u001b[33m<3420.00> \u001b[0m\u001b[36mScanner-1: \u001b[0m\u001b[mtimed termination at 3420.0 for action_nadir_scan\u001b[0m\n"
     ]
    },
    {
     "name": "stderr",
     "output_type": "stream",
     "text": [
      "\u001b[90;3m2024-06-21 15:53:33,116 \u001b[0m\u001b[mdata.base                      \u001b[0m\u001b[mINFO       \u001b[0m\u001b[33m<3420.00> \u001b[0m\u001b[mData reward: {'Scanner-1_4913732896': 0.012105263157894735}\u001b[0m\n"
     ]
    },
    {
     "name": "stderr",
     "output_type": "stream",
     "text": [
      "\u001b[90;3m2024-06-21 15:53:33,117 \u001b[0m\u001b[mgym                            \u001b[0m\u001b[mINFO       \u001b[0m\u001b[33m<3420.00> \u001b[0m\u001b[mSatellites requiring retasking: ['Scanner-1_4913732896']\u001b[0m\n"
     ]
    },
    {
     "name": "stderr",
     "output_type": "stream",
     "text": [
      "\u001b[90;3m2024-06-21 15:53:33,117 \u001b[0m\u001b[mgym                            \u001b[0m\u001b[mINFO       \u001b[0m\u001b[33m<3420.00> \u001b[0m\u001b[mStep reward: 0.012105263157894735\u001b[0m\n"
     ]
    },
    {
     "name": "stderr",
     "output_type": "stream",
     "text": [
      "\u001b[90;3m2024-06-21 15:53:33,117 \u001b[0m\u001b[mgym                            \u001b[0m\u001b[mINFO       \u001b[0m\u001b[33m<3420.00> \u001b[0m\u001b[93;1m=== STARTING STEP ===\u001b[0m\n"
     ]
    },
    {
     "name": "stderr",
     "output_type": "stream",
     "text": [
      "\u001b[90;3m2024-06-21 15:53:33,117 \u001b[0m\u001b[36msats.satellite.Scanner-1       \u001b[0m\u001b[mINFO       \u001b[0m\u001b[33m<3420.00> \u001b[0m\u001b[36mScanner-1: \u001b[0m\u001b[maction_desat tasked for 60.0 seconds\u001b[0m\n"
     ]
    },
    {
     "name": "stderr",
     "output_type": "stream",
     "text": [
      "\u001b[90;3m2024-06-21 15:53:33,117 \u001b[0m\u001b[36msats.satellite.Scanner-1       \u001b[0m\u001b[mINFO       \u001b[0m\u001b[33m<3420.00> \u001b[0m\u001b[36mScanner-1: \u001b[0m\u001b[msetting timed terminal event at 3480.0\u001b[0m\n"
     ]
    },
    {
     "name": "stderr",
     "output_type": "stream",
     "text": [
      "\u001b[90;3m2024-06-21 15:53:33,118 \u001b[0m\u001b[msim.simulator                  \u001b[0m\u001b[mINFO       \u001b[0m\u001b[33m<3420.00> \u001b[0m\u001b[mRunning simulation at most to 11400.00 seconds\u001b[0m\n"
     ]
    },
    {
     "name": "stderr",
     "output_type": "stream",
     "text": [
      "\u001b[90;3m2024-06-21 15:53:33,121 \u001b[0m\u001b[36msats.satellite.Scanner-1       \u001b[0m\u001b[mINFO       \u001b[0m\u001b[33m<3480.00> \u001b[0m\u001b[36mScanner-1: \u001b[0m\u001b[mtimed termination at 3480.0 for action_desat\u001b[0m\n"
     ]
    },
    {
     "name": "stderr",
     "output_type": "stream",
     "text": [
      "\u001b[90;3m2024-06-21 15:53:33,122 \u001b[0m\u001b[mdata.base                      \u001b[0m\u001b[mINFO       \u001b[0m\u001b[33m<3480.00> \u001b[0m\u001b[mData reward: {'Scanner-1_4913732896': 0.0}\u001b[0m\n"
     ]
    },
    {
     "name": "stderr",
     "output_type": "stream",
     "text": [
      "\u001b[90;3m2024-06-21 15:53:33,122 \u001b[0m\u001b[mgym                            \u001b[0m\u001b[mINFO       \u001b[0m\u001b[33m<3480.00> \u001b[0m\u001b[mSatellites requiring retasking: ['Scanner-1_4913732896']\u001b[0m\n"
     ]
    },
    {
     "name": "stderr",
     "output_type": "stream",
     "text": [
      "\u001b[90;3m2024-06-21 15:53:33,122 \u001b[0m\u001b[mgym                            \u001b[0m\u001b[mINFO       \u001b[0m\u001b[33m<3480.00> \u001b[0m\u001b[mStep reward: 0.0\u001b[0m\n"
     ]
    },
    {
     "name": "stderr",
     "output_type": "stream",
     "text": [
      "\u001b[90;3m2024-06-21 15:53:33,123 \u001b[0m\u001b[mgym                            \u001b[0m\u001b[mINFO       \u001b[0m\u001b[33m<3480.00> \u001b[0m\u001b[93;1m=== STARTING STEP ===\u001b[0m\n"
     ]
    },
    {
     "name": "stderr",
     "output_type": "stream",
     "text": [
      "\u001b[90;3m2024-06-21 15:53:33,123 \u001b[0m\u001b[36msats.satellite.Scanner-1       \u001b[0m\u001b[mINFO       \u001b[0m\u001b[33m<3480.00> \u001b[0m\u001b[36mScanner-1: \u001b[0m\u001b[maction_charge tasked for 180.0 seconds\u001b[0m\n"
     ]
    },
    {
     "name": "stderr",
     "output_type": "stream",
     "text": [
      "\u001b[90;3m2024-06-21 15:53:33,123 \u001b[0m\u001b[36msats.satellite.Scanner-1       \u001b[0m\u001b[mINFO       \u001b[0m\u001b[33m<3480.00> \u001b[0m\u001b[36mScanner-1: \u001b[0m\u001b[msetting timed terminal event at 3660.0\u001b[0m\n"
     ]
    },
    {
     "name": "stderr",
     "output_type": "stream",
     "text": [
      "\u001b[90;3m2024-06-21 15:53:33,123 \u001b[0m\u001b[msim.simulator                  \u001b[0m\u001b[mINFO       \u001b[0m\u001b[33m<3480.00> \u001b[0m\u001b[mRunning simulation at most to 11400.00 seconds\u001b[0m\n"
     ]
    },
    {
     "name": "stderr",
     "output_type": "stream",
     "text": [
      "\u001b[90;3m2024-06-21 15:53:33,133 \u001b[0m\u001b[36msats.satellite.Scanner-1       \u001b[0m\u001b[mINFO       \u001b[0m\u001b[33m<3660.00> \u001b[0m\u001b[36mScanner-1: \u001b[0m\u001b[mtimed termination at 3660.0 for action_charge\u001b[0m\n"
     ]
    },
    {
     "name": "stderr",
     "output_type": "stream",
     "text": [
      "\u001b[90;3m2024-06-21 15:53:33,133 \u001b[0m\u001b[mdata.base                      \u001b[0m\u001b[mINFO       \u001b[0m\u001b[33m<3660.00> \u001b[0m\u001b[mData reward: {'Scanner-1_4913732896': 0.0}\u001b[0m\n"
     ]
    },
    {
     "name": "stderr",
     "output_type": "stream",
     "text": [
      "\u001b[90;3m2024-06-21 15:53:33,134 \u001b[0m\u001b[mgym                            \u001b[0m\u001b[mINFO       \u001b[0m\u001b[33m<3660.00> \u001b[0m\u001b[mSatellites requiring retasking: ['Scanner-1_4913732896']\u001b[0m\n"
     ]
    },
    {
     "name": "stderr",
     "output_type": "stream",
     "text": [
      "\u001b[90;3m2024-06-21 15:53:33,134 \u001b[0m\u001b[mgym                            \u001b[0m\u001b[mINFO       \u001b[0m\u001b[33m<3660.00> \u001b[0m\u001b[mStep reward: 0.0\u001b[0m\n"
     ]
    },
    {
     "name": "stderr",
     "output_type": "stream",
     "text": [
      "\u001b[90;3m2024-06-21 15:53:33,135 \u001b[0m\u001b[mgym                            \u001b[0m\u001b[mINFO       \u001b[0m\u001b[33m<3660.00> \u001b[0m\u001b[93;1m=== STARTING STEP ===\u001b[0m\n"
     ]
    },
    {
     "name": "stderr",
     "output_type": "stream",
     "text": [
      "\u001b[90;3m2024-06-21 15:53:33,135 \u001b[0m\u001b[36msats.satellite.Scanner-1       \u001b[0m\u001b[mINFO       \u001b[0m\u001b[33m<3660.00> \u001b[0m\u001b[36mScanner-1: \u001b[0m\u001b[maction_charge tasked for 180.0 seconds\u001b[0m\n"
     ]
    },
    {
     "name": "stderr",
     "output_type": "stream",
     "text": [
      "\u001b[90;3m2024-06-21 15:53:33,135 \u001b[0m\u001b[36msats.satellite.Scanner-1       \u001b[0m\u001b[mINFO       \u001b[0m\u001b[33m<3660.00> \u001b[0m\u001b[36mScanner-1: \u001b[0m\u001b[msetting timed terminal event at 3840.0\u001b[0m\n"
     ]
    },
    {
     "name": "stderr",
     "output_type": "stream",
     "text": [
      "\u001b[90;3m2024-06-21 15:53:33,135 \u001b[0m\u001b[msim.simulator                  \u001b[0m\u001b[mINFO       \u001b[0m\u001b[33m<3660.00> \u001b[0m\u001b[mRunning simulation at most to 11400.00 seconds\u001b[0m\n"
     ]
    },
    {
     "name": "stderr",
     "output_type": "stream",
     "text": [
      "\u001b[90;3m2024-06-21 15:53:33,145 \u001b[0m\u001b[36msats.satellite.Scanner-1       \u001b[0m\u001b[mINFO       \u001b[0m\u001b[33m<3840.00> \u001b[0m\u001b[36mScanner-1: \u001b[0m\u001b[mtimed termination at 3840.0 for action_charge\u001b[0m\n"
     ]
    },
    {
     "name": "stderr",
     "output_type": "stream",
     "text": [
      "\u001b[90;3m2024-06-21 15:53:33,146 \u001b[0m\u001b[mdata.base                      \u001b[0m\u001b[mINFO       \u001b[0m\u001b[33m<3840.00> \u001b[0m\u001b[mData reward: {'Scanner-1_4913732896': 0.0}\u001b[0m\n"
     ]
    },
    {
     "name": "stderr",
     "output_type": "stream",
     "text": [
      "\u001b[90;3m2024-06-21 15:53:33,146 \u001b[0m\u001b[mgym                            \u001b[0m\u001b[mINFO       \u001b[0m\u001b[33m<3840.00> \u001b[0m\u001b[mSatellites requiring retasking: ['Scanner-1_4913732896']\u001b[0m\n"
     ]
    },
    {
     "name": "stderr",
     "output_type": "stream",
     "text": [
      "\u001b[90;3m2024-06-21 15:53:33,147 \u001b[0m\u001b[mgym                            \u001b[0m\u001b[mINFO       \u001b[0m\u001b[33m<3840.00> \u001b[0m\u001b[mStep reward: 0.0\u001b[0m\n"
     ]
    },
    {
     "name": "stderr",
     "output_type": "stream",
     "text": [
      "\u001b[90;3m2024-06-21 15:53:33,147 \u001b[0m\u001b[mgym                            \u001b[0m\u001b[mINFO       \u001b[0m\u001b[33m<3840.00> \u001b[0m\u001b[93;1m=== STARTING STEP ===\u001b[0m\n"
     ]
    },
    {
     "name": "stderr",
     "output_type": "stream",
     "text": [
      "\u001b[90;3m2024-06-21 15:53:33,147 \u001b[0m\u001b[36msats.satellite.Scanner-1       \u001b[0m\u001b[mINFO       \u001b[0m\u001b[33m<3840.00> \u001b[0m\u001b[36mScanner-1: \u001b[0m\u001b[maction_charge tasked for 180.0 seconds\u001b[0m\n"
     ]
    },
    {
     "name": "stderr",
     "output_type": "stream",
     "text": [
      "\u001b[90;3m2024-06-21 15:53:33,147 \u001b[0m\u001b[36msats.satellite.Scanner-1       \u001b[0m\u001b[mINFO       \u001b[0m\u001b[33m<3840.00> \u001b[0m\u001b[36mScanner-1: \u001b[0m\u001b[msetting timed terminal event at 4020.0\u001b[0m\n"
     ]
    },
    {
     "name": "stderr",
     "output_type": "stream",
     "text": [
      "\u001b[90;3m2024-06-21 15:53:33,148 \u001b[0m\u001b[msim.simulator                  \u001b[0m\u001b[mINFO       \u001b[0m\u001b[33m<3840.00> \u001b[0m\u001b[mRunning simulation at most to 11400.00 seconds\u001b[0m\n"
     ]
    },
    {
     "name": "stderr",
     "output_type": "stream",
     "text": [
      "\u001b[90;3m2024-06-21 15:53:33,158 \u001b[0m\u001b[36msats.satellite.Scanner-1       \u001b[0m\u001b[mINFO       \u001b[0m\u001b[33m<4020.00> \u001b[0m\u001b[36mScanner-1: \u001b[0m\u001b[mtimed termination at 4020.0 for action_charge\u001b[0m\n"
     ]
    },
    {
     "name": "stderr",
     "output_type": "stream",
     "text": [
      "\u001b[90;3m2024-06-21 15:53:33,158 \u001b[0m\u001b[mdata.base                      \u001b[0m\u001b[mINFO       \u001b[0m\u001b[33m<4020.00> \u001b[0m\u001b[mData reward: {'Scanner-1_4913732896': 0.0}\u001b[0m\n"
     ]
    },
    {
     "name": "stderr",
     "output_type": "stream",
     "text": [
      "\u001b[90;3m2024-06-21 15:53:33,159 \u001b[0m\u001b[mgym                            \u001b[0m\u001b[mINFO       \u001b[0m\u001b[33m<4020.00> \u001b[0m\u001b[mSatellites requiring retasking: ['Scanner-1_4913732896']\u001b[0m\n"
     ]
    },
    {
     "name": "stderr",
     "output_type": "stream",
     "text": [
      "\u001b[90;3m2024-06-21 15:53:33,159 \u001b[0m\u001b[mgym                            \u001b[0m\u001b[mINFO       \u001b[0m\u001b[33m<4020.00> \u001b[0m\u001b[mStep reward: 0.0\u001b[0m\n"
     ]
    },
    {
     "name": "stderr",
     "output_type": "stream",
     "text": [
      "\u001b[90;3m2024-06-21 15:53:33,159 \u001b[0m\u001b[mgym                            \u001b[0m\u001b[mINFO       \u001b[0m\u001b[33m<4020.00> \u001b[0m\u001b[93;1m=== STARTING STEP ===\u001b[0m\n"
     ]
    },
    {
     "name": "stderr",
     "output_type": "stream",
     "text": [
      "\u001b[90;3m2024-06-21 15:53:33,159 \u001b[0m\u001b[36msats.satellite.Scanner-1       \u001b[0m\u001b[mINFO       \u001b[0m\u001b[33m<4020.00> \u001b[0m\u001b[36mScanner-1: \u001b[0m\u001b[maction_desat tasked for 60.0 seconds\u001b[0m\n"
     ]
    },
    {
     "name": "stderr",
     "output_type": "stream",
     "text": [
      "\u001b[90;3m2024-06-21 15:53:33,159 \u001b[0m\u001b[36msats.satellite.Scanner-1       \u001b[0m\u001b[mINFO       \u001b[0m\u001b[33m<4020.00> \u001b[0m\u001b[36mScanner-1: \u001b[0m\u001b[msetting timed terminal event at 4080.0\u001b[0m\n"
     ]
    },
    {
     "name": "stderr",
     "output_type": "stream",
     "text": [
      "\u001b[90;3m2024-06-21 15:53:33,160 \u001b[0m\u001b[msim.simulator                  \u001b[0m\u001b[mINFO       \u001b[0m\u001b[33m<4020.00> \u001b[0m\u001b[mRunning simulation at most to 11400.00 seconds\u001b[0m\n"
     ]
    },
    {
     "name": "stderr",
     "output_type": "stream",
     "text": [
      "\u001b[90;3m2024-06-21 15:53:33,163 \u001b[0m\u001b[36msats.satellite.Scanner-1       \u001b[0m\u001b[mINFO       \u001b[0m\u001b[33m<4080.00> \u001b[0m\u001b[36mScanner-1: \u001b[0m\u001b[mtimed termination at 4080.0 for action_desat\u001b[0m\n"
     ]
    },
    {
     "name": "stderr",
     "output_type": "stream",
     "text": [
      "\u001b[90;3m2024-06-21 15:53:33,164 \u001b[0m\u001b[mdata.base                      \u001b[0m\u001b[mINFO       \u001b[0m\u001b[33m<4080.00> \u001b[0m\u001b[mData reward: {'Scanner-1_4913732896': 0.0}\u001b[0m\n"
     ]
    },
    {
     "name": "stderr",
     "output_type": "stream",
     "text": [
      "\u001b[90;3m2024-06-21 15:53:33,164 \u001b[0m\u001b[mgym                            \u001b[0m\u001b[mINFO       \u001b[0m\u001b[33m<4080.00> \u001b[0m\u001b[mSatellites requiring retasking: ['Scanner-1_4913732896']\u001b[0m\n"
     ]
    },
    {
     "name": "stderr",
     "output_type": "stream",
     "text": [
      "\u001b[90;3m2024-06-21 15:53:33,165 \u001b[0m\u001b[mgym                            \u001b[0m\u001b[mINFO       \u001b[0m\u001b[33m<4080.00> \u001b[0m\u001b[mStep reward: 0.0\u001b[0m\n"
     ]
    },
    {
     "name": "stderr",
     "output_type": "stream",
     "text": [
      "\u001b[90;3m2024-06-21 15:53:33,165 \u001b[0m\u001b[mgym                            \u001b[0m\u001b[mINFO       \u001b[0m\u001b[33m<4080.00> \u001b[0m\u001b[93;1m=== STARTING STEP ===\u001b[0m\n"
     ]
    },
    {
     "name": "stderr",
     "output_type": "stream",
     "text": [
      "\u001b[90;3m2024-06-21 15:53:33,165 \u001b[0m\u001b[36msats.satellite.Scanner-1       \u001b[0m\u001b[mINFO       \u001b[0m\u001b[33m<4080.00> \u001b[0m\u001b[36mScanner-1: \u001b[0m\u001b[maction_nadir_scan tasked for 180.0 seconds\u001b[0m\n"
     ]
    },
    {
     "name": "stderr",
     "output_type": "stream",
     "text": [
      "\u001b[90;3m2024-06-21 15:53:33,165 \u001b[0m\u001b[36msats.satellite.Scanner-1       \u001b[0m\u001b[mINFO       \u001b[0m\u001b[33m<4080.00> \u001b[0m\u001b[36mScanner-1: \u001b[0m\u001b[msetting timed terminal event at 4260.0\u001b[0m\n"
     ]
    },
    {
     "name": "stderr",
     "output_type": "stream",
     "text": [
      "\u001b[90;3m2024-06-21 15:53:33,166 \u001b[0m\u001b[msim.simulator                  \u001b[0m\u001b[mINFO       \u001b[0m\u001b[33m<4080.00> \u001b[0m\u001b[mRunning simulation at most to 11400.00 seconds\u001b[0m\n"
     ]
    },
    {
     "name": "stderr",
     "output_type": "stream",
     "text": [
      "\u001b[90;3m2024-06-21 15:53:33,176 \u001b[0m\u001b[36msats.satellite.Scanner-1       \u001b[0m\u001b[mINFO       \u001b[0m\u001b[33m<4260.00> \u001b[0m\u001b[36mScanner-1: \u001b[0m\u001b[mtimed termination at 4260.0 for action_nadir_scan\u001b[0m\n"
     ]
    },
    {
     "name": "stderr",
     "output_type": "stream",
     "text": [
      "\u001b[90;3m2024-06-21 15:53:33,176 \u001b[0m\u001b[mdata.base                      \u001b[0m\u001b[mINFO       \u001b[0m\u001b[33m<4260.00> \u001b[0m\u001b[mData reward: {'Scanner-1_4913732896': 0.012456140350877193}\u001b[0m\n"
     ]
    },
    {
     "name": "stderr",
     "output_type": "stream",
     "text": [
      "\u001b[90;3m2024-06-21 15:53:33,177 \u001b[0m\u001b[mgym                            \u001b[0m\u001b[mINFO       \u001b[0m\u001b[33m<4260.00> \u001b[0m\u001b[mSatellites requiring retasking: ['Scanner-1_4913732896']\u001b[0m\n"
     ]
    },
    {
     "name": "stderr",
     "output_type": "stream",
     "text": [
      "\u001b[90;3m2024-06-21 15:53:33,177 \u001b[0m\u001b[mgym                            \u001b[0m\u001b[mINFO       \u001b[0m\u001b[33m<4260.00> \u001b[0m\u001b[mStep reward: 0.012456140350877193\u001b[0m\n"
     ]
    },
    {
     "name": "stderr",
     "output_type": "stream",
     "text": [
      "\u001b[90;3m2024-06-21 15:53:33,177 \u001b[0m\u001b[mgym                            \u001b[0m\u001b[mINFO       \u001b[0m\u001b[33m<4260.00> \u001b[0m\u001b[93;1m=== STARTING STEP ===\u001b[0m\n"
     ]
    },
    {
     "name": "stderr",
     "output_type": "stream",
     "text": [
      "\u001b[90;3m2024-06-21 15:53:33,177 \u001b[0m\u001b[36msats.satellite.Scanner-1       \u001b[0m\u001b[mINFO       \u001b[0m\u001b[33m<4260.00> \u001b[0m\u001b[36mScanner-1: \u001b[0m\u001b[maction_desat tasked for 60.0 seconds\u001b[0m\n"
     ]
    },
    {
     "name": "stderr",
     "output_type": "stream",
     "text": [
      "\u001b[90;3m2024-06-21 15:53:33,177 \u001b[0m\u001b[36msats.satellite.Scanner-1       \u001b[0m\u001b[mINFO       \u001b[0m\u001b[33m<4260.00> \u001b[0m\u001b[36mScanner-1: \u001b[0m\u001b[msetting timed terminal event at 4320.0\u001b[0m\n"
     ]
    },
    {
     "name": "stderr",
     "output_type": "stream",
     "text": [
      "\u001b[90;3m2024-06-21 15:53:33,178 \u001b[0m\u001b[msim.simulator                  \u001b[0m\u001b[mINFO       \u001b[0m\u001b[33m<4260.00> \u001b[0m\u001b[mRunning simulation at most to 11400.00 seconds\u001b[0m\n"
     ]
    },
    {
     "name": "stderr",
     "output_type": "stream",
     "text": [
      "\u001b[90;3m2024-06-21 15:53:33,181 \u001b[0m\u001b[36msats.satellite.Scanner-1       \u001b[0m\u001b[mINFO       \u001b[0m\u001b[33m<4320.00> \u001b[0m\u001b[36mScanner-1: \u001b[0m\u001b[mtimed termination at 4320.0 for action_desat\u001b[0m\n"
     ]
    },
    {
     "name": "stderr",
     "output_type": "stream",
     "text": [
      "\u001b[90;3m2024-06-21 15:53:33,182 \u001b[0m\u001b[mdata.base                      \u001b[0m\u001b[mINFO       \u001b[0m\u001b[33m<4320.00> \u001b[0m\u001b[mData reward: {'Scanner-1_4913732896': 0.0}\u001b[0m\n"
     ]
    },
    {
     "name": "stderr",
     "output_type": "stream",
     "text": [
      "\u001b[90;3m2024-06-21 15:53:33,182 \u001b[0m\u001b[mgym                            \u001b[0m\u001b[mINFO       \u001b[0m\u001b[33m<4320.00> \u001b[0m\u001b[mSatellites requiring retasking: ['Scanner-1_4913732896']\u001b[0m\n"
     ]
    },
    {
     "name": "stderr",
     "output_type": "stream",
     "text": [
      "\u001b[90;3m2024-06-21 15:53:33,182 \u001b[0m\u001b[mgym                            \u001b[0m\u001b[mINFO       \u001b[0m\u001b[33m<4320.00> \u001b[0m\u001b[mStep reward: 0.0\u001b[0m\n"
     ]
    },
    {
     "name": "stderr",
     "output_type": "stream",
     "text": [
      "\u001b[90;3m2024-06-21 15:53:33,183 \u001b[0m\u001b[mgym                            \u001b[0m\u001b[mINFO       \u001b[0m\u001b[33m<4320.00> \u001b[0m\u001b[93;1m=== STARTING STEP ===\u001b[0m\n"
     ]
    },
    {
     "name": "stderr",
     "output_type": "stream",
     "text": [
      "\u001b[90;3m2024-06-21 15:53:33,183 \u001b[0m\u001b[36msats.satellite.Scanner-1       \u001b[0m\u001b[mINFO       \u001b[0m\u001b[33m<4320.00> \u001b[0m\u001b[36mScanner-1: \u001b[0m\u001b[maction_downlink tasked for 60.0 seconds\u001b[0m\n"
     ]
    },
    {
     "name": "stderr",
     "output_type": "stream",
     "text": [
      "\u001b[90;3m2024-06-21 15:53:33,183 \u001b[0m\u001b[36msats.satellite.Scanner-1       \u001b[0m\u001b[mINFO       \u001b[0m\u001b[33m<4320.00> \u001b[0m\u001b[36mScanner-1: \u001b[0m\u001b[msetting timed terminal event at 4380.0\u001b[0m\n"
     ]
    },
    {
     "name": "stderr",
     "output_type": "stream",
     "text": [
      "\u001b[90;3m2024-06-21 15:53:33,183 \u001b[0m\u001b[msim.simulator                  \u001b[0m\u001b[mINFO       \u001b[0m\u001b[33m<4320.00> \u001b[0m\u001b[mRunning simulation at most to 11400.00 seconds\u001b[0m\n"
     ]
    },
    {
     "name": "stderr",
     "output_type": "stream",
     "text": [
      "\u001b[90;3m2024-06-21 15:53:33,187 \u001b[0m\u001b[36msats.satellite.Scanner-1       \u001b[0m\u001b[mINFO       \u001b[0m\u001b[33m<4380.00> \u001b[0m\u001b[36mScanner-1: \u001b[0m\u001b[mtimed termination at 4380.0 for action_downlink\u001b[0m\n"
     ]
    },
    {
     "name": "stderr",
     "output_type": "stream",
     "text": [
      "\u001b[90;3m2024-06-21 15:53:33,187 \u001b[0m\u001b[mdata.base                      \u001b[0m\u001b[mINFO       \u001b[0m\u001b[33m<4380.00> \u001b[0m\u001b[mData reward: {'Scanner-1_4913732896': 0.0}\u001b[0m\n"
     ]
    },
    {
     "name": "stderr",
     "output_type": "stream",
     "text": [
      "\u001b[90;3m2024-06-21 15:53:33,188 \u001b[0m\u001b[mgym                            \u001b[0m\u001b[mINFO       \u001b[0m\u001b[33m<4380.00> \u001b[0m\u001b[mSatellites requiring retasking: ['Scanner-1_4913732896']\u001b[0m\n"
     ]
    },
    {
     "name": "stderr",
     "output_type": "stream",
     "text": [
      "\u001b[90;3m2024-06-21 15:53:33,188 \u001b[0m\u001b[mgym                            \u001b[0m\u001b[mINFO       \u001b[0m\u001b[33m<4380.00> \u001b[0m\u001b[mStep reward: 0.0\u001b[0m\n"
     ]
    },
    {
     "name": "stderr",
     "output_type": "stream",
     "text": [
      "\u001b[90;3m2024-06-21 15:53:33,188 \u001b[0m\u001b[mgym                            \u001b[0m\u001b[mINFO       \u001b[0m\u001b[33m<4380.00> \u001b[0m\u001b[93;1m=== STARTING STEP ===\u001b[0m\n"
     ]
    },
    {
     "name": "stderr",
     "output_type": "stream",
     "text": [
      "\u001b[90;3m2024-06-21 15:53:33,189 \u001b[0m\u001b[36msats.satellite.Scanner-1       \u001b[0m\u001b[mINFO       \u001b[0m\u001b[33m<4380.00> \u001b[0m\u001b[36mScanner-1: \u001b[0m\u001b[maction_desat tasked for 60.0 seconds\u001b[0m\n"
     ]
    },
    {
     "name": "stderr",
     "output_type": "stream",
     "text": [
      "\u001b[90;3m2024-06-21 15:53:33,189 \u001b[0m\u001b[36msats.satellite.Scanner-1       \u001b[0m\u001b[mINFO       \u001b[0m\u001b[33m<4380.00> \u001b[0m\u001b[36mScanner-1: \u001b[0m\u001b[msetting timed terminal event at 4440.0\u001b[0m\n"
     ]
    },
    {
     "name": "stderr",
     "output_type": "stream",
     "text": [
      "\u001b[90;3m2024-06-21 15:53:33,189 \u001b[0m\u001b[msim.simulator                  \u001b[0m\u001b[mINFO       \u001b[0m\u001b[33m<4380.00> \u001b[0m\u001b[mRunning simulation at most to 11400.00 seconds\u001b[0m\n"
     ]
    },
    {
     "name": "stderr",
     "output_type": "stream",
     "text": [
      "\u001b[90;3m2024-06-21 15:53:33,193 \u001b[0m\u001b[36msats.satellite.Scanner-1       \u001b[0m\u001b[mINFO       \u001b[0m\u001b[33m<4440.00> \u001b[0m\u001b[36mScanner-1: \u001b[0m\u001b[mtimed termination at 4440.0 for action_desat\u001b[0m\n"
     ]
    },
    {
     "name": "stderr",
     "output_type": "stream",
     "text": [
      "\u001b[90;3m2024-06-21 15:53:33,193 \u001b[0m\u001b[mdata.base                      \u001b[0m\u001b[mINFO       \u001b[0m\u001b[33m<4440.00> \u001b[0m\u001b[mData reward: {'Scanner-1_4913732896': 0.0}\u001b[0m\n"
     ]
    },
    {
     "name": "stderr",
     "output_type": "stream",
     "text": [
      "\u001b[90;3m2024-06-21 15:53:33,194 \u001b[0m\u001b[mgym                            \u001b[0m\u001b[mINFO       \u001b[0m\u001b[33m<4440.00> \u001b[0m\u001b[mSatellites requiring retasking: ['Scanner-1_4913732896']\u001b[0m\n"
     ]
    },
    {
     "name": "stderr",
     "output_type": "stream",
     "text": [
      "\u001b[90;3m2024-06-21 15:53:33,194 \u001b[0m\u001b[mgym                            \u001b[0m\u001b[mINFO       \u001b[0m\u001b[33m<4440.00> \u001b[0m\u001b[mStep reward: 0.0\u001b[0m\n"
     ]
    },
    {
     "name": "stderr",
     "output_type": "stream",
     "text": [
      "\u001b[90;3m2024-06-21 15:53:33,194 \u001b[0m\u001b[mgym                            \u001b[0m\u001b[mINFO       \u001b[0m\u001b[33m<4440.00> \u001b[0m\u001b[93;1m=== STARTING STEP ===\u001b[0m\n"
     ]
    },
    {
     "name": "stderr",
     "output_type": "stream",
     "text": [
      "\u001b[90;3m2024-06-21 15:53:33,194 \u001b[0m\u001b[36msats.satellite.Scanner-1       \u001b[0m\u001b[mINFO       \u001b[0m\u001b[33m<4440.00> \u001b[0m\u001b[36mScanner-1: \u001b[0m\u001b[maction_charge tasked for 180.0 seconds\u001b[0m\n"
     ]
    },
    {
     "name": "stderr",
     "output_type": "stream",
     "text": [
      "\u001b[90;3m2024-06-21 15:53:33,195 \u001b[0m\u001b[36msats.satellite.Scanner-1       \u001b[0m\u001b[mINFO       \u001b[0m\u001b[33m<4440.00> \u001b[0m\u001b[36mScanner-1: \u001b[0m\u001b[msetting timed terminal event at 4620.0\u001b[0m\n"
     ]
    },
    {
     "name": "stderr",
     "output_type": "stream",
     "text": [
      "\u001b[90;3m2024-06-21 15:53:33,195 \u001b[0m\u001b[msim.simulator                  \u001b[0m\u001b[mINFO       \u001b[0m\u001b[33m<4440.00> \u001b[0m\u001b[mRunning simulation at most to 11400.00 seconds\u001b[0m\n"
     ]
    },
    {
     "name": "stderr",
     "output_type": "stream",
     "text": [
      "\u001b[90;3m2024-06-21 15:53:33,205 \u001b[0m\u001b[36msats.satellite.Scanner-1       \u001b[0m\u001b[mINFO       \u001b[0m\u001b[33m<4620.00> \u001b[0m\u001b[36mScanner-1: \u001b[0m\u001b[mtimed termination at 4620.0 for action_charge\u001b[0m\n"
     ]
    },
    {
     "name": "stderr",
     "output_type": "stream",
     "text": [
      "\u001b[90;3m2024-06-21 15:53:33,205 \u001b[0m\u001b[mdata.base                      \u001b[0m\u001b[mINFO       \u001b[0m\u001b[33m<4620.00> \u001b[0m\u001b[mData reward: {'Scanner-1_4913732896': 0.0}\u001b[0m\n"
     ]
    },
    {
     "name": "stderr",
     "output_type": "stream",
     "text": [
      "\u001b[90;3m2024-06-21 15:53:33,206 \u001b[0m\u001b[mgym                            \u001b[0m\u001b[mINFO       \u001b[0m\u001b[33m<4620.00> \u001b[0m\u001b[mSatellites requiring retasking: ['Scanner-1_4913732896']\u001b[0m\n"
     ]
    },
    {
     "name": "stderr",
     "output_type": "stream",
     "text": [
      "\u001b[90;3m2024-06-21 15:53:33,206 \u001b[0m\u001b[mgym                            \u001b[0m\u001b[mINFO       \u001b[0m\u001b[33m<4620.00> \u001b[0m\u001b[mStep reward: 0.0\u001b[0m\n"
     ]
    },
    {
     "name": "stderr",
     "output_type": "stream",
     "text": [
      "\u001b[90;3m2024-06-21 15:53:33,206 \u001b[0m\u001b[mgym                            \u001b[0m\u001b[mINFO       \u001b[0m\u001b[33m<4620.00> \u001b[0m\u001b[93;1m=== STARTING STEP ===\u001b[0m\n"
     ]
    },
    {
     "name": "stderr",
     "output_type": "stream",
     "text": [
      "\u001b[90;3m2024-06-21 15:53:33,206 \u001b[0m\u001b[36msats.satellite.Scanner-1       \u001b[0m\u001b[mINFO       \u001b[0m\u001b[33m<4620.00> \u001b[0m\u001b[36mScanner-1: \u001b[0m\u001b[maction_charge tasked for 180.0 seconds\u001b[0m\n"
     ]
    },
    {
     "name": "stderr",
     "output_type": "stream",
     "text": [
      "\u001b[90;3m2024-06-21 15:53:33,207 \u001b[0m\u001b[36msats.satellite.Scanner-1       \u001b[0m\u001b[mINFO       \u001b[0m\u001b[33m<4620.00> \u001b[0m\u001b[36mScanner-1: \u001b[0m\u001b[msetting timed terminal event at 4800.0\u001b[0m\n"
     ]
    },
    {
     "name": "stderr",
     "output_type": "stream",
     "text": [
      "\u001b[90;3m2024-06-21 15:53:33,207 \u001b[0m\u001b[msim.simulator                  \u001b[0m\u001b[mINFO       \u001b[0m\u001b[33m<4620.00> \u001b[0m\u001b[mRunning simulation at most to 11400.00 seconds\u001b[0m\n"
     ]
    },
    {
     "name": "stderr",
     "output_type": "stream",
     "text": [
      "\u001b[90;3m2024-06-21 15:53:33,217 \u001b[0m\u001b[36msats.satellite.Scanner-1       \u001b[0m\u001b[mINFO       \u001b[0m\u001b[33m<4800.00> \u001b[0m\u001b[36mScanner-1: \u001b[0m\u001b[mtimed termination at 4800.0 for action_charge\u001b[0m\n"
     ]
    },
    {
     "name": "stderr",
     "output_type": "stream",
     "text": [
      "\u001b[90;3m2024-06-21 15:53:33,217 \u001b[0m\u001b[mdata.base                      \u001b[0m\u001b[mINFO       \u001b[0m\u001b[33m<4800.00> \u001b[0m\u001b[mData reward: {'Scanner-1_4913732896': 0.0}\u001b[0m\n"
     ]
    },
    {
     "name": "stderr",
     "output_type": "stream",
     "text": [
      "\u001b[90;3m2024-06-21 15:53:33,218 \u001b[0m\u001b[mgym                            \u001b[0m\u001b[mINFO       \u001b[0m\u001b[33m<4800.00> \u001b[0m\u001b[mSatellites requiring retasking: ['Scanner-1_4913732896']\u001b[0m\n"
     ]
    },
    {
     "name": "stderr",
     "output_type": "stream",
     "text": [
      "\u001b[90;3m2024-06-21 15:53:33,218 \u001b[0m\u001b[mgym                            \u001b[0m\u001b[mINFO       \u001b[0m\u001b[33m<4800.00> \u001b[0m\u001b[mStep reward: 0.0\u001b[0m\n"
     ]
    },
    {
     "name": "stderr",
     "output_type": "stream",
     "text": [
      "\u001b[90;3m2024-06-21 15:53:33,218 \u001b[0m\u001b[mgym                            \u001b[0m\u001b[mINFO       \u001b[0m\u001b[33m<4800.00> \u001b[0m\u001b[93;1m=== STARTING STEP ===\u001b[0m\n"
     ]
    },
    {
     "name": "stderr",
     "output_type": "stream",
     "text": [
      "\u001b[90;3m2024-06-21 15:53:33,218 \u001b[0m\u001b[36msats.satellite.Scanner-1       \u001b[0m\u001b[mINFO       \u001b[0m\u001b[33m<4800.00> \u001b[0m\u001b[36mScanner-1: \u001b[0m\u001b[maction_downlink tasked for 60.0 seconds\u001b[0m\n"
     ]
    },
    {
     "name": "stderr",
     "output_type": "stream",
     "text": [
      "\u001b[90;3m2024-06-21 15:53:33,219 \u001b[0m\u001b[36msats.satellite.Scanner-1       \u001b[0m\u001b[mINFO       \u001b[0m\u001b[33m<4800.00> \u001b[0m\u001b[36mScanner-1: \u001b[0m\u001b[msetting timed terminal event at 4860.0\u001b[0m\n"
     ]
    },
    {
     "name": "stderr",
     "output_type": "stream",
     "text": [
      "\u001b[90;3m2024-06-21 15:53:33,219 \u001b[0m\u001b[msim.simulator                  \u001b[0m\u001b[mINFO       \u001b[0m\u001b[33m<4800.00> \u001b[0m\u001b[mRunning simulation at most to 11400.00 seconds\u001b[0m\n"
     ]
    },
    {
     "name": "stderr",
     "output_type": "stream",
     "text": [
      "\u001b[90;3m2024-06-21 15:53:33,222 \u001b[0m\u001b[36msats.satellite.Scanner-1       \u001b[0m\u001b[mINFO       \u001b[0m\u001b[33m<4860.00> \u001b[0m\u001b[36mScanner-1: \u001b[0m\u001b[mtimed termination at 4860.0 for action_downlink\u001b[0m\n"
     ]
    },
    {
     "name": "stderr",
     "output_type": "stream",
     "text": [
      "\u001b[90;3m2024-06-21 15:53:33,223 \u001b[0m\u001b[mdata.base                      \u001b[0m\u001b[mINFO       \u001b[0m\u001b[33m<4860.00> \u001b[0m\u001b[mData reward: {'Scanner-1_4913732896': 0.0}\u001b[0m\n"
     ]
    },
    {
     "name": "stderr",
     "output_type": "stream",
     "text": [
      "\u001b[90;3m2024-06-21 15:53:33,223 \u001b[0m\u001b[mgym                            \u001b[0m\u001b[mINFO       \u001b[0m\u001b[33m<4860.00> \u001b[0m\u001b[mSatellites requiring retasking: ['Scanner-1_4913732896']\u001b[0m\n"
     ]
    },
    {
     "name": "stderr",
     "output_type": "stream",
     "text": [
      "\u001b[90;3m2024-06-21 15:53:33,224 \u001b[0m\u001b[mgym                            \u001b[0m\u001b[mINFO       \u001b[0m\u001b[33m<4860.00> \u001b[0m\u001b[mStep reward: 0.0\u001b[0m\n"
     ]
    },
    {
     "name": "stderr",
     "output_type": "stream",
     "text": [
      "\u001b[90;3m2024-06-21 15:53:33,224 \u001b[0m\u001b[mgym                            \u001b[0m\u001b[mINFO       \u001b[0m\u001b[33m<4860.00> \u001b[0m\u001b[93;1m=== STARTING STEP ===\u001b[0m\n"
     ]
    },
    {
     "name": "stderr",
     "output_type": "stream",
     "text": [
      "\u001b[90;3m2024-06-21 15:53:33,224 \u001b[0m\u001b[36msats.satellite.Scanner-1       \u001b[0m\u001b[mINFO       \u001b[0m\u001b[33m<4860.00> \u001b[0m\u001b[36mScanner-1: \u001b[0m\u001b[maction_desat tasked for 60.0 seconds\u001b[0m\n"
     ]
    },
    {
     "name": "stderr",
     "output_type": "stream",
     "text": [
      "\u001b[90;3m2024-06-21 15:53:33,224 \u001b[0m\u001b[36msats.satellite.Scanner-1       \u001b[0m\u001b[mINFO       \u001b[0m\u001b[33m<4860.00> \u001b[0m\u001b[36mScanner-1: \u001b[0m\u001b[msetting timed terminal event at 4920.0\u001b[0m\n"
     ]
    },
    {
     "name": "stderr",
     "output_type": "stream",
     "text": [
      "\u001b[90;3m2024-06-21 15:53:33,224 \u001b[0m\u001b[msim.simulator                  \u001b[0m\u001b[mINFO       \u001b[0m\u001b[33m<4860.00> \u001b[0m\u001b[mRunning simulation at most to 11400.00 seconds\u001b[0m\n"
     ]
    },
    {
     "name": "stderr",
     "output_type": "stream",
     "text": [
      "\u001b[90;3m2024-06-21 15:53:33,228 \u001b[0m\u001b[36msats.satellite.Scanner-1       \u001b[0m\u001b[mINFO       \u001b[0m\u001b[33m<4920.00> \u001b[0m\u001b[36mScanner-1: \u001b[0m\u001b[mtimed termination at 4920.0 for action_desat\u001b[0m\n"
     ]
    },
    {
     "name": "stderr",
     "output_type": "stream",
     "text": [
      "\u001b[90;3m2024-06-21 15:53:33,228 \u001b[0m\u001b[mdata.base                      \u001b[0m\u001b[mINFO       \u001b[0m\u001b[33m<4920.00> \u001b[0m\u001b[mData reward: {'Scanner-1_4913732896': 0.0}\u001b[0m\n"
     ]
    },
    {
     "name": "stderr",
     "output_type": "stream",
     "text": [
      "\u001b[90;3m2024-06-21 15:53:33,229 \u001b[0m\u001b[mgym                            \u001b[0m\u001b[mINFO       \u001b[0m\u001b[33m<4920.00> \u001b[0m\u001b[mSatellites requiring retasking: ['Scanner-1_4913732896']\u001b[0m\n"
     ]
    },
    {
     "name": "stderr",
     "output_type": "stream",
     "text": [
      "\u001b[90;3m2024-06-21 15:53:33,229 \u001b[0m\u001b[mgym                            \u001b[0m\u001b[mINFO       \u001b[0m\u001b[33m<4920.00> \u001b[0m\u001b[mStep reward: 0.0\u001b[0m\n"
     ]
    },
    {
     "name": "stderr",
     "output_type": "stream",
     "text": [
      "\u001b[90;3m2024-06-21 15:53:33,230 \u001b[0m\u001b[mgym                            \u001b[0m\u001b[mINFO       \u001b[0m\u001b[33m<4920.00> \u001b[0m\u001b[93;1m=== STARTING STEP ===\u001b[0m\n"
     ]
    },
    {
     "name": "stderr",
     "output_type": "stream",
     "text": [
      "\u001b[90;3m2024-06-21 15:53:33,230 \u001b[0m\u001b[36msats.satellite.Scanner-1       \u001b[0m\u001b[mINFO       \u001b[0m\u001b[33m<4920.00> \u001b[0m\u001b[36mScanner-1: \u001b[0m\u001b[maction_desat tasked for 60.0 seconds\u001b[0m\n"
     ]
    },
    {
     "name": "stderr",
     "output_type": "stream",
     "text": [
      "\u001b[90;3m2024-06-21 15:53:33,230 \u001b[0m\u001b[36msats.satellite.Scanner-1       \u001b[0m\u001b[mINFO       \u001b[0m\u001b[33m<4920.00> \u001b[0m\u001b[36mScanner-1: \u001b[0m\u001b[msetting timed terminal event at 4980.0\u001b[0m\n"
     ]
    },
    {
     "name": "stderr",
     "output_type": "stream",
     "text": [
      "\u001b[90;3m2024-06-21 15:53:33,230 \u001b[0m\u001b[msim.simulator                  \u001b[0m\u001b[mINFO       \u001b[0m\u001b[33m<4920.00> \u001b[0m\u001b[mRunning simulation at most to 11400.00 seconds\u001b[0m\n"
     ]
    },
    {
     "name": "stderr",
     "output_type": "stream",
     "text": [
      "\u001b[90;3m2024-06-21 15:53:33,234 \u001b[0m\u001b[36msats.satellite.Scanner-1       \u001b[0m\u001b[mINFO       \u001b[0m\u001b[33m<4980.00> \u001b[0m\u001b[36mScanner-1: \u001b[0m\u001b[mtimed termination at 4980.0 for action_desat\u001b[0m\n"
     ]
    },
    {
     "name": "stderr",
     "output_type": "stream",
     "text": [
      "\u001b[90;3m2024-06-21 15:53:33,234 \u001b[0m\u001b[mdata.base                      \u001b[0m\u001b[mINFO       \u001b[0m\u001b[33m<4980.00> \u001b[0m\u001b[mData reward: {'Scanner-1_4913732896': 0.0}\u001b[0m\n"
     ]
    },
    {
     "name": "stderr",
     "output_type": "stream",
     "text": [
      "\u001b[90;3m2024-06-21 15:53:33,235 \u001b[0m\u001b[mgym                            \u001b[0m\u001b[mINFO       \u001b[0m\u001b[33m<4980.00> \u001b[0m\u001b[mSatellites requiring retasking: ['Scanner-1_4913732896']\u001b[0m\n"
     ]
    },
    {
     "name": "stderr",
     "output_type": "stream",
     "text": [
      "\u001b[90;3m2024-06-21 15:53:33,235 \u001b[0m\u001b[mgym                            \u001b[0m\u001b[mINFO       \u001b[0m\u001b[33m<4980.00> \u001b[0m\u001b[mStep reward: 0.0\u001b[0m\n"
     ]
    },
    {
     "name": "stderr",
     "output_type": "stream",
     "text": [
      "\u001b[90;3m2024-06-21 15:53:33,236 \u001b[0m\u001b[mgym                            \u001b[0m\u001b[mINFO       \u001b[0m\u001b[33m<4980.00> \u001b[0m\u001b[93;1m=== STARTING STEP ===\u001b[0m\n"
     ]
    },
    {
     "name": "stderr",
     "output_type": "stream",
     "text": [
      "\u001b[90;3m2024-06-21 15:53:33,236 \u001b[0m\u001b[36msats.satellite.Scanner-1       \u001b[0m\u001b[mINFO       \u001b[0m\u001b[33m<4980.00> \u001b[0m\u001b[36mScanner-1: \u001b[0m\u001b[maction_charge tasked for 180.0 seconds\u001b[0m\n"
     ]
    },
    {
     "name": "stderr",
     "output_type": "stream",
     "text": [
      "\u001b[90;3m2024-06-21 15:53:33,236 \u001b[0m\u001b[36msats.satellite.Scanner-1       \u001b[0m\u001b[mINFO       \u001b[0m\u001b[33m<4980.00> \u001b[0m\u001b[36mScanner-1: \u001b[0m\u001b[msetting timed terminal event at 5160.0\u001b[0m\n"
     ]
    },
    {
     "name": "stderr",
     "output_type": "stream",
     "text": [
      "\u001b[90;3m2024-06-21 15:53:33,236 \u001b[0m\u001b[msim.simulator                  \u001b[0m\u001b[mINFO       \u001b[0m\u001b[33m<4980.00> \u001b[0m\u001b[mRunning simulation at most to 11400.00 seconds\u001b[0m\n"
     ]
    },
    {
     "name": "stderr",
     "output_type": "stream",
     "text": [
      "\u001b[90;3m2024-06-21 15:53:33,246 \u001b[0m\u001b[36msats.satellite.Scanner-1       \u001b[0m\u001b[mINFO       \u001b[0m\u001b[33m<5160.00> \u001b[0m\u001b[36mScanner-1: \u001b[0m\u001b[mtimed termination at 5160.0 for action_charge\u001b[0m\n"
     ]
    },
    {
     "name": "stderr",
     "output_type": "stream",
     "text": [
      "\u001b[90;3m2024-06-21 15:53:33,246 \u001b[0m\u001b[mdata.base                      \u001b[0m\u001b[mINFO       \u001b[0m\u001b[33m<5160.00> \u001b[0m\u001b[mData reward: {'Scanner-1_4913732896': 0.0}\u001b[0m\n"
     ]
    },
    {
     "name": "stderr",
     "output_type": "stream",
     "text": [
      "\u001b[90;3m2024-06-21 15:53:33,247 \u001b[0m\u001b[mgym                            \u001b[0m\u001b[mINFO       \u001b[0m\u001b[33m<5160.00> \u001b[0m\u001b[mSatellites requiring retasking: ['Scanner-1_4913732896']\u001b[0m\n"
     ]
    },
    {
     "name": "stderr",
     "output_type": "stream",
     "text": [
      "\u001b[90;3m2024-06-21 15:53:33,247 \u001b[0m\u001b[mgym                            \u001b[0m\u001b[mINFO       \u001b[0m\u001b[33m<5160.00> \u001b[0m\u001b[mStep reward: 0.0\u001b[0m\n"
     ]
    },
    {
     "name": "stderr",
     "output_type": "stream",
     "text": [
      "\u001b[90;3m2024-06-21 15:53:33,248 \u001b[0m\u001b[mgym                            \u001b[0m\u001b[mINFO       \u001b[0m\u001b[33m<5160.00> \u001b[0m\u001b[93;1m=== STARTING STEP ===\u001b[0m\n"
     ]
    },
    {
     "name": "stderr",
     "output_type": "stream",
     "text": [
      "\u001b[90;3m2024-06-21 15:53:33,248 \u001b[0m\u001b[36msats.satellite.Scanner-1       \u001b[0m\u001b[mINFO       \u001b[0m\u001b[33m<5160.00> \u001b[0m\u001b[36mScanner-1: \u001b[0m\u001b[maction_charge tasked for 180.0 seconds\u001b[0m\n"
     ]
    },
    {
     "name": "stderr",
     "output_type": "stream",
     "text": [
      "\u001b[90;3m2024-06-21 15:53:33,248 \u001b[0m\u001b[36msats.satellite.Scanner-1       \u001b[0m\u001b[mINFO       \u001b[0m\u001b[33m<5160.00> \u001b[0m\u001b[36mScanner-1: \u001b[0m\u001b[msetting timed terminal event at 5340.0\u001b[0m\n"
     ]
    },
    {
     "name": "stderr",
     "output_type": "stream",
     "text": [
      "\u001b[90;3m2024-06-21 15:53:33,248 \u001b[0m\u001b[msim.simulator                  \u001b[0m\u001b[mINFO       \u001b[0m\u001b[33m<5160.00> \u001b[0m\u001b[mRunning simulation at most to 11400.00 seconds\u001b[0m\n"
     ]
    },
    {
     "name": "stderr",
     "output_type": "stream",
     "text": [
      "\u001b[90;3m2024-06-21 15:53:33,258 \u001b[0m\u001b[36msats.satellite.Scanner-1       \u001b[0m\u001b[mINFO       \u001b[0m\u001b[33m<5340.00> \u001b[0m\u001b[36mScanner-1: \u001b[0m\u001b[mtimed termination at 5340.0 for action_charge\u001b[0m\n"
     ]
    },
    {
     "name": "stderr",
     "output_type": "stream",
     "text": [
      "\u001b[90;3m2024-06-21 15:53:33,258 \u001b[0m\u001b[mdata.base                      \u001b[0m\u001b[mINFO       \u001b[0m\u001b[33m<5340.00> \u001b[0m\u001b[mData reward: {'Scanner-1_4913732896': 0.0}\u001b[0m\n"
     ]
    },
    {
     "name": "stderr",
     "output_type": "stream",
     "text": [
      "\u001b[90;3m2024-06-21 15:53:33,259 \u001b[0m\u001b[mgym                            \u001b[0m\u001b[mINFO       \u001b[0m\u001b[33m<5340.00> \u001b[0m\u001b[mSatellites requiring retasking: ['Scanner-1_4913732896']\u001b[0m\n"
     ]
    },
    {
     "name": "stderr",
     "output_type": "stream",
     "text": [
      "\u001b[90;3m2024-06-21 15:53:33,259 \u001b[0m\u001b[mgym                            \u001b[0m\u001b[mINFO       \u001b[0m\u001b[33m<5340.00> \u001b[0m\u001b[mStep reward: 0.0\u001b[0m\n"
     ]
    },
    {
     "name": "stderr",
     "output_type": "stream",
     "text": [
      "\u001b[90;3m2024-06-21 15:53:33,260 \u001b[0m\u001b[mgym                            \u001b[0m\u001b[mINFO       \u001b[0m\u001b[33m<5340.00> \u001b[0m\u001b[93;1m=== STARTING STEP ===\u001b[0m\n"
     ]
    },
    {
     "name": "stderr",
     "output_type": "stream",
     "text": [
      "\u001b[90;3m2024-06-21 15:53:33,260 \u001b[0m\u001b[36msats.satellite.Scanner-1       \u001b[0m\u001b[mINFO       \u001b[0m\u001b[33m<5340.00> \u001b[0m\u001b[36mScanner-1: \u001b[0m\u001b[maction_charge tasked for 180.0 seconds\u001b[0m\n"
     ]
    },
    {
     "name": "stderr",
     "output_type": "stream",
     "text": [
      "\u001b[90;3m2024-06-21 15:53:33,260 \u001b[0m\u001b[36msats.satellite.Scanner-1       \u001b[0m\u001b[mINFO       \u001b[0m\u001b[33m<5340.00> \u001b[0m\u001b[36mScanner-1: \u001b[0m\u001b[msetting timed terminal event at 5520.0\u001b[0m\n"
     ]
    },
    {
     "name": "stderr",
     "output_type": "stream",
     "text": [
      "\u001b[90;3m2024-06-21 15:53:33,260 \u001b[0m\u001b[msim.simulator                  \u001b[0m\u001b[mINFO       \u001b[0m\u001b[33m<5340.00> \u001b[0m\u001b[mRunning simulation at most to 11400.00 seconds\u001b[0m\n"
     ]
    },
    {
     "name": "stderr",
     "output_type": "stream",
     "text": [
      "\u001b[90;3m2024-06-21 15:53:33,270 \u001b[0m\u001b[36msats.satellite.Scanner-1       \u001b[0m\u001b[mINFO       \u001b[0m\u001b[33m<5520.00> \u001b[0m\u001b[36mScanner-1: \u001b[0m\u001b[mtimed termination at 5520.0 for action_charge\u001b[0m\n"
     ]
    },
    {
     "name": "stderr",
     "output_type": "stream",
     "text": [
      "\u001b[90;3m2024-06-21 15:53:33,270 \u001b[0m\u001b[mdata.base                      \u001b[0m\u001b[mINFO       \u001b[0m\u001b[33m<5520.00> \u001b[0m\u001b[mData reward: {'Scanner-1_4913732896': 0.0}\u001b[0m\n"
     ]
    },
    {
     "name": "stderr",
     "output_type": "stream",
     "text": [
      "\u001b[90;3m2024-06-21 15:53:33,271 \u001b[0m\u001b[mgym                            \u001b[0m\u001b[mINFO       \u001b[0m\u001b[33m<5520.00> \u001b[0m\u001b[mSatellites requiring retasking: ['Scanner-1_4913732896']\u001b[0m\n"
     ]
    },
    {
     "name": "stderr",
     "output_type": "stream",
     "text": [
      "\u001b[90;3m2024-06-21 15:53:33,271 \u001b[0m\u001b[mgym                            \u001b[0m\u001b[mINFO       \u001b[0m\u001b[33m<5520.00> \u001b[0m\u001b[mStep reward: 0.0\u001b[0m\n"
     ]
    },
    {
     "name": "stderr",
     "output_type": "stream",
     "text": [
      "\u001b[90;3m2024-06-21 15:53:33,271 \u001b[0m\u001b[mgym                            \u001b[0m\u001b[mINFO       \u001b[0m\u001b[33m<5520.00> \u001b[0m\u001b[93;1m=== STARTING STEP ===\u001b[0m\n"
     ]
    },
    {
     "name": "stderr",
     "output_type": "stream",
     "text": [
      "\u001b[90;3m2024-06-21 15:53:33,272 \u001b[0m\u001b[36msats.satellite.Scanner-1       \u001b[0m\u001b[mINFO       \u001b[0m\u001b[33m<5520.00> \u001b[0m\u001b[36mScanner-1: \u001b[0m\u001b[maction_nadir_scan tasked for 180.0 seconds\u001b[0m\n"
     ]
    },
    {
     "name": "stderr",
     "output_type": "stream",
     "text": [
      "\u001b[90;3m2024-06-21 15:53:33,272 \u001b[0m\u001b[36msats.satellite.Scanner-1       \u001b[0m\u001b[mINFO       \u001b[0m\u001b[33m<5520.00> \u001b[0m\u001b[36mScanner-1: \u001b[0m\u001b[msetting timed terminal event at 5700.0\u001b[0m\n"
     ]
    },
    {
     "name": "stderr",
     "output_type": "stream",
     "text": [
      "\u001b[90;3m2024-06-21 15:53:33,272 \u001b[0m\u001b[msim.simulator                  \u001b[0m\u001b[mINFO       \u001b[0m\u001b[33m<5520.00> \u001b[0m\u001b[mRunning simulation at most to 11400.00 seconds\u001b[0m\n"
     ]
    },
    {
     "name": "stderr",
     "output_type": "stream",
     "text": [
      "\u001b[90;3m2024-06-21 15:53:33,282 \u001b[0m\u001b[36msats.satellite.Scanner-1       \u001b[0m\u001b[mINFO       \u001b[0m\u001b[33m<5700.00> \u001b[0m\u001b[36mScanner-1: \u001b[0m\u001b[mtimed termination at 5700.0 for action_nadir_scan\u001b[0m\n"
     ]
    },
    {
     "name": "stderr",
     "output_type": "stream",
     "text": [
      "\u001b[90;3m2024-06-21 15:53:33,282 \u001b[0m\u001b[mdata.base                      \u001b[0m\u001b[mINFO       \u001b[0m\u001b[33m<5700.00> \u001b[0m\u001b[mData reward: {'Scanner-1_4913732896': 0.013684210526315788}\u001b[0m\n"
     ]
    },
    {
     "name": "stderr",
     "output_type": "stream",
     "text": [
      "\u001b[90;3m2024-06-21 15:53:33,283 \u001b[0m\u001b[mgym                            \u001b[0m\u001b[mINFO       \u001b[0m\u001b[33m<5700.00> \u001b[0m\u001b[mSatellites requiring retasking: ['Scanner-1_4913732896']\u001b[0m\n"
     ]
    },
    {
     "name": "stderr",
     "output_type": "stream",
     "text": [
      "\u001b[90;3m2024-06-21 15:53:33,283 \u001b[0m\u001b[mgym                            \u001b[0m\u001b[mINFO       \u001b[0m\u001b[33m<5700.00> \u001b[0m\u001b[mStep reward: 0.013684210526315788\u001b[0m\n"
     ]
    },
    {
     "name": "stderr",
     "output_type": "stream",
     "text": [
      "\u001b[90;3m2024-06-21 15:53:33,283 \u001b[0m\u001b[mgym                            \u001b[0m\u001b[mINFO       \u001b[0m\u001b[33m<5700.00> \u001b[0m\u001b[93;1m=== STARTING STEP ===\u001b[0m\n"
     ]
    },
    {
     "name": "stderr",
     "output_type": "stream",
     "text": [
      "\u001b[90;3m2024-06-21 15:53:33,284 \u001b[0m\u001b[36msats.satellite.Scanner-1       \u001b[0m\u001b[mINFO       \u001b[0m\u001b[33m<5700.00> \u001b[0m\u001b[36mScanner-1: \u001b[0m\u001b[maction_downlink tasked for 60.0 seconds\u001b[0m\n"
     ]
    },
    {
     "name": "stderr",
     "output_type": "stream",
     "text": [
      "\u001b[90;3m2024-06-21 15:53:33,284 \u001b[0m\u001b[36msats.satellite.Scanner-1       \u001b[0m\u001b[mINFO       \u001b[0m\u001b[33m<5700.00> \u001b[0m\u001b[36mScanner-1: \u001b[0m\u001b[msetting timed terminal event at 5760.0\u001b[0m\n"
     ]
    },
    {
     "name": "stderr",
     "output_type": "stream",
     "text": [
      "\u001b[90;3m2024-06-21 15:53:33,284 \u001b[0m\u001b[msim.simulator                  \u001b[0m\u001b[mINFO       \u001b[0m\u001b[33m<5700.00> \u001b[0m\u001b[mRunning simulation at most to 11400.00 seconds\u001b[0m\n"
     ]
    },
    {
     "name": "stderr",
     "output_type": "stream",
     "text": [
      "\u001b[90;3m2024-06-21 15:53:33,288 \u001b[0m\u001b[36msats.satellite.Scanner-1       \u001b[0m\u001b[mINFO       \u001b[0m\u001b[33m<5760.00> \u001b[0m\u001b[36mScanner-1: \u001b[0m\u001b[mtimed termination at 5760.0 for action_downlink\u001b[0m\n"
     ]
    },
    {
     "name": "stderr",
     "output_type": "stream",
     "text": [
      "\u001b[90;3m2024-06-21 15:53:33,288 \u001b[0m\u001b[mdata.base                      \u001b[0m\u001b[mINFO       \u001b[0m\u001b[33m<5760.00> \u001b[0m\u001b[mData reward: {'Scanner-1_4913732896': 0.0}\u001b[0m\n"
     ]
    },
    {
     "name": "stderr",
     "output_type": "stream",
     "text": [
      "\u001b[90;3m2024-06-21 15:53:33,289 \u001b[0m\u001b[mgym                            \u001b[0m\u001b[mINFO       \u001b[0m\u001b[33m<5760.00> \u001b[0m\u001b[mSatellites requiring retasking: ['Scanner-1_4913732896']\u001b[0m\n"
     ]
    },
    {
     "name": "stderr",
     "output_type": "stream",
     "text": [
      "\u001b[90;3m2024-06-21 15:53:33,289 \u001b[0m\u001b[mgym                            \u001b[0m\u001b[mINFO       \u001b[0m\u001b[33m<5760.00> \u001b[0m\u001b[mStep reward: 0.0\u001b[0m\n"
     ]
    },
    {
     "name": "stderr",
     "output_type": "stream",
     "text": [
      "\u001b[90;3m2024-06-21 15:53:33,289 \u001b[0m\u001b[mgym                            \u001b[0m\u001b[mINFO       \u001b[0m\u001b[33m<5760.00> \u001b[0m\u001b[93;1m=== STARTING STEP ===\u001b[0m\n"
     ]
    },
    {
     "name": "stderr",
     "output_type": "stream",
     "text": [
      "\u001b[90;3m2024-06-21 15:53:33,289 \u001b[0m\u001b[36msats.satellite.Scanner-1       \u001b[0m\u001b[mINFO       \u001b[0m\u001b[33m<5760.00> \u001b[0m\u001b[36mScanner-1: \u001b[0m\u001b[maction_desat tasked for 60.0 seconds\u001b[0m\n"
     ]
    },
    {
     "name": "stderr",
     "output_type": "stream",
     "text": [
      "\u001b[90;3m2024-06-21 15:53:33,290 \u001b[0m\u001b[36msats.satellite.Scanner-1       \u001b[0m\u001b[mINFO       \u001b[0m\u001b[33m<5760.00> \u001b[0m\u001b[36mScanner-1: \u001b[0m\u001b[msetting timed terminal event at 5820.0\u001b[0m\n"
     ]
    },
    {
     "name": "stderr",
     "output_type": "stream",
     "text": [
      "\u001b[90;3m2024-06-21 15:53:33,290 \u001b[0m\u001b[msim.simulator                  \u001b[0m\u001b[mINFO       \u001b[0m\u001b[33m<5760.00> \u001b[0m\u001b[mRunning simulation at most to 11400.00 seconds\u001b[0m\n"
     ]
    },
    {
     "name": "stderr",
     "output_type": "stream",
     "text": [
      "\u001b[90;3m2024-06-21 15:53:33,293 \u001b[0m\u001b[36msats.satellite.Scanner-1       \u001b[0m\u001b[mINFO       \u001b[0m\u001b[33m<5820.00> \u001b[0m\u001b[36mScanner-1: \u001b[0m\u001b[mtimed termination at 5820.0 for action_desat\u001b[0m\n"
     ]
    },
    {
     "name": "stderr",
     "output_type": "stream",
     "text": [
      "\u001b[90;3m2024-06-21 15:53:33,294 \u001b[0m\u001b[mdata.base                      \u001b[0m\u001b[mINFO       \u001b[0m\u001b[33m<5820.00> \u001b[0m\u001b[mData reward: {'Scanner-1_4913732896': 0.0}\u001b[0m\n"
     ]
    },
    {
     "name": "stderr",
     "output_type": "stream",
     "text": [
      "\u001b[90;3m2024-06-21 15:53:33,294 \u001b[0m\u001b[mgym                            \u001b[0m\u001b[mINFO       \u001b[0m\u001b[33m<5820.00> \u001b[0m\u001b[mSatellites requiring retasking: ['Scanner-1_4913732896']\u001b[0m\n"
     ]
    },
    {
     "name": "stderr",
     "output_type": "stream",
     "text": [
      "\u001b[90;3m2024-06-21 15:53:33,295 \u001b[0m\u001b[mgym                            \u001b[0m\u001b[mINFO       \u001b[0m\u001b[33m<5820.00> \u001b[0m\u001b[mStep reward: 0.0\u001b[0m\n"
     ]
    },
    {
     "name": "stderr",
     "output_type": "stream",
     "text": [
      "\u001b[90;3m2024-06-21 15:53:33,295 \u001b[0m\u001b[mgym                            \u001b[0m\u001b[mINFO       \u001b[0m\u001b[33m<5820.00> \u001b[0m\u001b[93;1m=== STARTING STEP ===\u001b[0m\n"
     ]
    },
    {
     "name": "stderr",
     "output_type": "stream",
     "text": [
      "\u001b[90;3m2024-06-21 15:53:33,295 \u001b[0m\u001b[36msats.satellite.Scanner-1       \u001b[0m\u001b[mINFO       \u001b[0m\u001b[33m<5820.00> \u001b[0m\u001b[36mScanner-1: \u001b[0m\u001b[maction_charge tasked for 180.0 seconds\u001b[0m\n"
     ]
    },
    {
     "name": "stderr",
     "output_type": "stream",
     "text": [
      "\u001b[90;3m2024-06-21 15:53:33,295 \u001b[0m\u001b[36msats.satellite.Scanner-1       \u001b[0m\u001b[mINFO       \u001b[0m\u001b[33m<5820.00> \u001b[0m\u001b[36mScanner-1: \u001b[0m\u001b[msetting timed terminal event at 6000.0\u001b[0m\n"
     ]
    },
    {
     "name": "stderr",
     "output_type": "stream",
     "text": [
      "\u001b[90;3m2024-06-21 15:53:33,296 \u001b[0m\u001b[msim.simulator                  \u001b[0m\u001b[mINFO       \u001b[0m\u001b[33m<5820.00> \u001b[0m\u001b[mRunning simulation at most to 11400.00 seconds\u001b[0m\n"
     ]
    },
    {
     "name": "stderr",
     "output_type": "stream",
     "text": [
      "\u001b[90;3m2024-06-21 15:53:33,305 \u001b[0m\u001b[36msats.satellite.Scanner-1       \u001b[0m\u001b[mINFO       \u001b[0m\u001b[33m<6000.00> \u001b[0m\u001b[36mScanner-1: \u001b[0m\u001b[mtimed termination at 6000.0 for action_charge\u001b[0m\n"
     ]
    },
    {
     "name": "stderr",
     "output_type": "stream",
     "text": [
      "\u001b[90;3m2024-06-21 15:53:33,306 \u001b[0m\u001b[mdata.base                      \u001b[0m\u001b[mINFO       \u001b[0m\u001b[33m<6000.00> \u001b[0m\u001b[mData reward: {'Scanner-1_4913732896': 0.0}\u001b[0m\n"
     ]
    },
    {
     "name": "stderr",
     "output_type": "stream",
     "text": [
      "\u001b[90;3m2024-06-21 15:53:33,306 \u001b[0m\u001b[mgym                            \u001b[0m\u001b[mINFO       \u001b[0m\u001b[33m<6000.00> \u001b[0m\u001b[mSatellites requiring retasking: ['Scanner-1_4913732896']\u001b[0m\n"
     ]
    },
    {
     "name": "stderr",
     "output_type": "stream",
     "text": [
      "\u001b[90;3m2024-06-21 15:53:33,307 \u001b[0m\u001b[mgym                            \u001b[0m\u001b[mINFO       \u001b[0m\u001b[33m<6000.00> \u001b[0m\u001b[mStep reward: 0.0\u001b[0m\n"
     ]
    },
    {
     "name": "stderr",
     "output_type": "stream",
     "text": [
      "\u001b[90;3m2024-06-21 15:53:33,307 \u001b[0m\u001b[mgym                            \u001b[0m\u001b[mINFO       \u001b[0m\u001b[33m<6000.00> \u001b[0m\u001b[93;1m=== STARTING STEP ===\u001b[0m\n"
     ]
    },
    {
     "name": "stderr",
     "output_type": "stream",
     "text": [
      "\u001b[90;3m2024-06-21 15:53:33,307 \u001b[0m\u001b[36msats.satellite.Scanner-1       \u001b[0m\u001b[mINFO       \u001b[0m\u001b[33m<6000.00> \u001b[0m\u001b[36mScanner-1: \u001b[0m\u001b[maction_nadir_scan tasked for 180.0 seconds\u001b[0m\n"
     ]
    },
    {
     "name": "stderr",
     "output_type": "stream",
     "text": [
      "\u001b[90;3m2024-06-21 15:53:33,307 \u001b[0m\u001b[36msats.satellite.Scanner-1       \u001b[0m\u001b[mINFO       \u001b[0m\u001b[33m<6000.00> \u001b[0m\u001b[36mScanner-1: \u001b[0m\u001b[msetting timed terminal event at 6180.0\u001b[0m\n"
     ]
    },
    {
     "name": "stderr",
     "output_type": "stream",
     "text": [
      "\u001b[90;3m2024-06-21 15:53:33,307 \u001b[0m\u001b[msim.simulator                  \u001b[0m\u001b[mINFO       \u001b[0m\u001b[33m<6000.00> \u001b[0m\u001b[mRunning simulation at most to 11400.00 seconds\u001b[0m\n"
     ]
    },
    {
     "name": "stderr",
     "output_type": "stream",
     "text": [
      "\u001b[90;3m2024-06-21 15:53:33,317 \u001b[0m\u001b[36msats.satellite.Scanner-1       \u001b[0m\u001b[mINFO       \u001b[0m\u001b[33m<6180.00> \u001b[0m\u001b[36mScanner-1: \u001b[0m\u001b[mtimed termination at 6180.0 for action_nadir_scan\u001b[0m\n"
     ]
    },
    {
     "name": "stderr",
     "output_type": "stream",
     "text": [
      "\u001b[90;3m2024-06-21 15:53:33,318 \u001b[0m\u001b[mdata.base                      \u001b[0m\u001b[mINFO       \u001b[0m\u001b[33m<6180.00> \u001b[0m\u001b[mData reward: {'Scanner-1_4913732896': 0.015789473684210527}\u001b[0m\n"
     ]
    },
    {
     "name": "stderr",
     "output_type": "stream",
     "text": [
      "\u001b[90;3m2024-06-21 15:53:33,318 \u001b[0m\u001b[mgym                            \u001b[0m\u001b[mINFO       \u001b[0m\u001b[33m<6180.00> \u001b[0m\u001b[mSatellites requiring retasking: ['Scanner-1_4913732896']\u001b[0m\n"
     ]
    },
    {
     "name": "stderr",
     "output_type": "stream",
     "text": [
      "\u001b[90;3m2024-06-21 15:53:33,318 \u001b[0m\u001b[mgym                            \u001b[0m\u001b[mINFO       \u001b[0m\u001b[33m<6180.00> \u001b[0m\u001b[mStep reward: 0.015789473684210527\u001b[0m\n"
     ]
    },
    {
     "name": "stderr",
     "output_type": "stream",
     "text": [
      "\u001b[90;3m2024-06-21 15:53:33,319 \u001b[0m\u001b[mgym                            \u001b[0m\u001b[mINFO       \u001b[0m\u001b[33m<6180.00> \u001b[0m\u001b[93;1m=== STARTING STEP ===\u001b[0m\n"
     ]
    },
    {
     "name": "stderr",
     "output_type": "stream",
     "text": [
      "\u001b[90;3m2024-06-21 15:53:33,319 \u001b[0m\u001b[36msats.satellite.Scanner-1       \u001b[0m\u001b[mINFO       \u001b[0m\u001b[33m<6180.00> \u001b[0m\u001b[36mScanner-1: \u001b[0m\u001b[maction_downlink tasked for 60.0 seconds\u001b[0m\n"
     ]
    },
    {
     "name": "stderr",
     "output_type": "stream",
     "text": [
      "\u001b[90;3m2024-06-21 15:53:33,319 \u001b[0m\u001b[36msats.satellite.Scanner-1       \u001b[0m\u001b[mINFO       \u001b[0m\u001b[33m<6180.00> \u001b[0m\u001b[36mScanner-1: \u001b[0m\u001b[msetting timed terminal event at 6240.0\u001b[0m\n"
     ]
    },
    {
     "name": "stderr",
     "output_type": "stream",
     "text": [
      "\u001b[90;3m2024-06-21 15:53:33,319 \u001b[0m\u001b[msim.simulator                  \u001b[0m\u001b[mINFO       \u001b[0m\u001b[33m<6180.00> \u001b[0m\u001b[mRunning simulation at most to 11400.00 seconds\u001b[0m\n"
     ]
    },
    {
     "name": "stderr",
     "output_type": "stream",
     "text": [
      "\u001b[90;3m2024-06-21 15:53:33,323 \u001b[0m\u001b[36msats.satellite.Scanner-1       \u001b[0m\u001b[mINFO       \u001b[0m\u001b[33m<6240.00> \u001b[0m\u001b[36mScanner-1: \u001b[0m\u001b[mtimed termination at 6240.0 for action_downlink\u001b[0m\n"
     ]
    },
    {
     "name": "stderr",
     "output_type": "stream",
     "text": [
      "\u001b[90;3m2024-06-21 15:53:33,323 \u001b[0m\u001b[mdata.base                      \u001b[0m\u001b[mINFO       \u001b[0m\u001b[33m<6240.00> \u001b[0m\u001b[mData reward: {'Scanner-1_4913732896': 0.0}\u001b[0m\n"
     ]
    },
    {
     "name": "stderr",
     "output_type": "stream",
     "text": [
      "\u001b[90;3m2024-06-21 15:53:33,324 \u001b[0m\u001b[mgym                            \u001b[0m\u001b[mINFO       \u001b[0m\u001b[33m<6240.00> \u001b[0m\u001b[mSatellites requiring retasking: ['Scanner-1_4913732896']\u001b[0m\n"
     ]
    },
    {
     "name": "stderr",
     "output_type": "stream",
     "text": [
      "\u001b[90;3m2024-06-21 15:53:33,324 \u001b[0m\u001b[mgym                            \u001b[0m\u001b[mINFO       \u001b[0m\u001b[33m<6240.00> \u001b[0m\u001b[mStep reward: 0.0\u001b[0m\n"
     ]
    },
    {
     "name": "stderr",
     "output_type": "stream",
     "text": [
      "\u001b[90;3m2024-06-21 15:53:33,324 \u001b[0m\u001b[mgym                            \u001b[0m\u001b[mINFO       \u001b[0m\u001b[33m<6240.00> \u001b[0m\u001b[93;1m=== STARTING STEP ===\u001b[0m\n"
     ]
    },
    {
     "name": "stderr",
     "output_type": "stream",
     "text": [
      "\u001b[90;3m2024-06-21 15:53:33,325 \u001b[0m\u001b[36msats.satellite.Scanner-1       \u001b[0m\u001b[mINFO       \u001b[0m\u001b[33m<6240.00> \u001b[0m\u001b[36mScanner-1: \u001b[0m\u001b[maction_nadir_scan tasked for 180.0 seconds\u001b[0m\n"
     ]
    },
    {
     "name": "stderr",
     "output_type": "stream",
     "text": [
      "\u001b[90;3m2024-06-21 15:53:33,325 \u001b[0m\u001b[36msats.satellite.Scanner-1       \u001b[0m\u001b[mINFO       \u001b[0m\u001b[33m<6240.00> \u001b[0m\u001b[36mScanner-1: \u001b[0m\u001b[msetting timed terminal event at 6420.0\u001b[0m\n"
     ]
    },
    {
     "name": "stderr",
     "output_type": "stream",
     "text": [
      "\u001b[90;3m2024-06-21 15:53:33,325 \u001b[0m\u001b[msim.simulator                  \u001b[0m\u001b[mINFO       \u001b[0m\u001b[33m<6240.00> \u001b[0m\u001b[mRunning simulation at most to 11400.00 seconds\u001b[0m\n"
     ]
    },
    {
     "name": "stderr",
     "output_type": "stream",
     "text": [
      "\u001b[90;3m2024-06-21 15:53:33,335 \u001b[0m\u001b[36msats.satellite.Scanner-1       \u001b[0m\u001b[mINFO       \u001b[0m\u001b[33m<6420.00> \u001b[0m\u001b[36mScanner-1: \u001b[0m\u001b[mtimed termination at 6420.0 for action_nadir_scan\u001b[0m\n"
     ]
    },
    {
     "name": "stderr",
     "output_type": "stream",
     "text": [
      "\u001b[90;3m2024-06-21 15:53:33,335 \u001b[0m\u001b[mdata.base                      \u001b[0m\u001b[mINFO       \u001b[0m\u001b[33m<6420.00> \u001b[0m\u001b[mData reward: {'Scanner-1_4913732896': 0.01219298245614035}\u001b[0m\n"
     ]
    },
    {
     "name": "stderr",
     "output_type": "stream",
     "text": [
      "\u001b[90;3m2024-06-21 15:53:33,336 \u001b[0m\u001b[mgym                            \u001b[0m\u001b[mINFO       \u001b[0m\u001b[33m<6420.00> \u001b[0m\u001b[mSatellites requiring retasking: ['Scanner-1_4913732896']\u001b[0m\n"
     ]
    },
    {
     "name": "stderr",
     "output_type": "stream",
     "text": [
      "\u001b[90;3m2024-06-21 15:53:33,336 \u001b[0m\u001b[mgym                            \u001b[0m\u001b[mINFO       \u001b[0m\u001b[33m<6420.00> \u001b[0m\u001b[mStep reward: 0.01219298245614035\u001b[0m\n"
     ]
    },
    {
     "name": "stderr",
     "output_type": "stream",
     "text": [
      "\u001b[90;3m2024-06-21 15:53:33,337 \u001b[0m\u001b[mgym                            \u001b[0m\u001b[mINFO       \u001b[0m\u001b[33m<6420.00> \u001b[0m\u001b[93;1m=== STARTING STEP ===\u001b[0m\n"
     ]
    },
    {
     "name": "stderr",
     "output_type": "stream",
     "text": [
      "\u001b[90;3m2024-06-21 15:53:33,337 \u001b[0m\u001b[36msats.satellite.Scanner-1       \u001b[0m\u001b[mINFO       \u001b[0m\u001b[33m<6420.00> \u001b[0m\u001b[36mScanner-1: \u001b[0m\u001b[maction_nadir_scan tasked for 180.0 seconds\u001b[0m\n"
     ]
    },
    {
     "name": "stderr",
     "output_type": "stream",
     "text": [
      "\u001b[90;3m2024-06-21 15:53:33,337 \u001b[0m\u001b[36msats.satellite.Scanner-1       \u001b[0m\u001b[mINFO       \u001b[0m\u001b[33m<6420.00> \u001b[0m\u001b[36mScanner-1: \u001b[0m\u001b[msetting timed terminal event at 6600.0\u001b[0m\n"
     ]
    },
    {
     "name": "stderr",
     "output_type": "stream",
     "text": [
      "\u001b[90;3m2024-06-21 15:53:33,337 \u001b[0m\u001b[msim.simulator                  \u001b[0m\u001b[mINFO       \u001b[0m\u001b[33m<6420.00> \u001b[0m\u001b[mRunning simulation at most to 11400.00 seconds\u001b[0m\n"
     ]
    },
    {
     "name": "stderr",
     "output_type": "stream",
     "text": [
      "\u001b[90;3m2024-06-21 15:53:33,347 \u001b[0m\u001b[36msats.satellite.Scanner-1       \u001b[0m\u001b[mINFO       \u001b[0m\u001b[33m<6600.00> \u001b[0m\u001b[36mScanner-1: \u001b[0m\u001b[mtimed termination at 6600.0 for action_nadir_scan\u001b[0m\n"
     ]
    },
    {
     "name": "stderr",
     "output_type": "stream",
     "text": [
      "\u001b[90;3m2024-06-21 15:53:33,347 \u001b[0m\u001b[mdata.base                      \u001b[0m\u001b[mINFO       \u001b[0m\u001b[33m<6600.00> \u001b[0m\u001b[mData reward: {'Scanner-1_4913732896': 0.015789473684210527}\u001b[0m\n"
     ]
    },
    {
     "name": "stderr",
     "output_type": "stream",
     "text": [
      "\u001b[90;3m2024-06-21 15:53:33,348 \u001b[0m\u001b[mgym                            \u001b[0m\u001b[mINFO       \u001b[0m\u001b[33m<6600.00> \u001b[0m\u001b[mSatellites requiring retasking: ['Scanner-1_4913732896']\u001b[0m\n"
     ]
    },
    {
     "name": "stderr",
     "output_type": "stream",
     "text": [
      "\u001b[90;3m2024-06-21 15:53:33,348 \u001b[0m\u001b[mgym                            \u001b[0m\u001b[mINFO       \u001b[0m\u001b[33m<6600.00> \u001b[0m\u001b[mStep reward: 0.015789473684210527\u001b[0m\n"
     ]
    },
    {
     "name": "stderr",
     "output_type": "stream",
     "text": [
      "\u001b[90;3m2024-06-21 15:53:33,348 \u001b[0m\u001b[mgym                            \u001b[0m\u001b[mINFO       \u001b[0m\u001b[33m<6600.00> \u001b[0m\u001b[93;1m=== STARTING STEP ===\u001b[0m\n"
     ]
    },
    {
     "name": "stderr",
     "output_type": "stream",
     "text": [
      "\u001b[90;3m2024-06-21 15:53:33,349 \u001b[0m\u001b[36msats.satellite.Scanner-1       \u001b[0m\u001b[mINFO       \u001b[0m\u001b[33m<6600.00> \u001b[0m\u001b[36mScanner-1: \u001b[0m\u001b[maction_downlink tasked for 60.0 seconds\u001b[0m\n"
     ]
    },
    {
     "name": "stderr",
     "output_type": "stream",
     "text": [
      "\u001b[90;3m2024-06-21 15:53:33,349 \u001b[0m\u001b[36msats.satellite.Scanner-1       \u001b[0m\u001b[mINFO       \u001b[0m\u001b[33m<6600.00> \u001b[0m\u001b[36mScanner-1: \u001b[0m\u001b[msetting timed terminal event at 6660.0\u001b[0m\n"
     ]
    },
    {
     "name": "stderr",
     "output_type": "stream",
     "text": [
      "\u001b[90;3m2024-06-21 15:53:33,349 \u001b[0m\u001b[msim.simulator                  \u001b[0m\u001b[mINFO       \u001b[0m\u001b[33m<6600.00> \u001b[0m\u001b[mRunning simulation at most to 11400.00 seconds\u001b[0m\n"
     ]
    },
    {
     "name": "stderr",
     "output_type": "stream",
     "text": [
      "\u001b[90;3m2024-06-21 15:53:33,353 \u001b[0m\u001b[36msats.satellite.Scanner-1       \u001b[0m\u001b[mINFO       \u001b[0m\u001b[33m<6660.00> \u001b[0m\u001b[36mScanner-1: \u001b[0m\u001b[mtimed termination at 6660.0 for action_downlink\u001b[0m\n"
     ]
    },
    {
     "name": "stderr",
     "output_type": "stream",
     "text": [
      "\u001b[90;3m2024-06-21 15:53:33,353 \u001b[0m\u001b[mdata.base                      \u001b[0m\u001b[mINFO       \u001b[0m\u001b[33m<6660.00> \u001b[0m\u001b[mData reward: {'Scanner-1_4913732896': 0.0}\u001b[0m\n"
     ]
    },
    {
     "name": "stderr",
     "output_type": "stream",
     "text": [
      "\u001b[90;3m2024-06-21 15:53:33,354 \u001b[0m\u001b[mgym                            \u001b[0m\u001b[mINFO       \u001b[0m\u001b[33m<6660.00> \u001b[0m\u001b[mSatellites requiring retasking: ['Scanner-1_4913732896']\u001b[0m\n"
     ]
    },
    {
     "name": "stderr",
     "output_type": "stream",
     "text": [
      "\u001b[90;3m2024-06-21 15:53:33,354 \u001b[0m\u001b[mgym                            \u001b[0m\u001b[mINFO       \u001b[0m\u001b[33m<6660.00> \u001b[0m\u001b[mStep reward: 0.0\u001b[0m\n"
     ]
    },
    {
     "name": "stderr",
     "output_type": "stream",
     "text": [
      "\u001b[90;3m2024-06-21 15:53:33,354 \u001b[0m\u001b[mgym                            \u001b[0m\u001b[mINFO       \u001b[0m\u001b[33m<6660.00> \u001b[0m\u001b[93;1m=== STARTING STEP ===\u001b[0m\n"
     ]
    },
    {
     "name": "stderr",
     "output_type": "stream",
     "text": [
      "\u001b[90;3m2024-06-21 15:53:33,354 \u001b[0m\u001b[36msats.satellite.Scanner-1       \u001b[0m\u001b[mINFO       \u001b[0m\u001b[33m<6660.00> \u001b[0m\u001b[36mScanner-1: \u001b[0m\u001b[maction_nadir_scan tasked for 180.0 seconds\u001b[0m\n"
     ]
    },
    {
     "name": "stderr",
     "output_type": "stream",
     "text": [
      "\u001b[90;3m2024-06-21 15:53:33,355 \u001b[0m\u001b[36msats.satellite.Scanner-1       \u001b[0m\u001b[mINFO       \u001b[0m\u001b[33m<6660.00> \u001b[0m\u001b[36mScanner-1: \u001b[0m\u001b[msetting timed terminal event at 6840.0\u001b[0m\n"
     ]
    },
    {
     "name": "stderr",
     "output_type": "stream",
     "text": [
      "\u001b[90;3m2024-06-21 15:53:33,355 \u001b[0m\u001b[msim.simulator                  \u001b[0m\u001b[mINFO       \u001b[0m\u001b[33m<6660.00> \u001b[0m\u001b[mRunning simulation at most to 11400.00 seconds\u001b[0m\n"
     ]
    },
    {
     "name": "stderr",
     "output_type": "stream",
     "text": [
      "\u001b[90;3m2024-06-21 15:53:33,365 \u001b[0m\u001b[36msats.satellite.Scanner-1       \u001b[0m\u001b[mINFO       \u001b[0m\u001b[33m<6840.00> \u001b[0m\u001b[36mScanner-1: \u001b[0m\u001b[mtimed termination at 6840.0 for action_nadir_scan\u001b[0m\n"
     ]
    },
    {
     "name": "stderr",
     "output_type": "stream",
     "text": [
      "\u001b[90;3m2024-06-21 15:53:33,365 \u001b[0m\u001b[mdata.base                      \u001b[0m\u001b[mINFO       \u001b[0m\u001b[33m<6840.00> \u001b[0m\u001b[mData reward: {'Scanner-1_4913732896': 0.01219298245614035}\u001b[0m\n"
     ]
    },
    {
     "name": "stderr",
     "output_type": "stream",
     "text": [
      "\u001b[90;3m2024-06-21 15:53:33,366 \u001b[0m\u001b[mgym                            \u001b[0m\u001b[mINFO       \u001b[0m\u001b[33m<6840.00> \u001b[0m\u001b[mSatellites requiring retasking: ['Scanner-1_4913732896']\u001b[0m\n"
     ]
    },
    {
     "name": "stderr",
     "output_type": "stream",
     "text": [
      "\u001b[90;3m2024-06-21 15:53:33,366 \u001b[0m\u001b[mgym                            \u001b[0m\u001b[mINFO       \u001b[0m\u001b[33m<6840.00> \u001b[0m\u001b[mStep reward: 0.01219298245614035\u001b[0m\n"
     ]
    },
    {
     "name": "stderr",
     "output_type": "stream",
     "text": [
      "\u001b[90;3m2024-06-21 15:53:33,366 \u001b[0m\u001b[mgym                            \u001b[0m\u001b[mINFO       \u001b[0m\u001b[33m<6840.00> \u001b[0m\u001b[93;1m=== STARTING STEP ===\u001b[0m\n"
     ]
    },
    {
     "name": "stderr",
     "output_type": "stream",
     "text": [
      "\u001b[90;3m2024-06-21 15:53:33,366 \u001b[0m\u001b[36msats.satellite.Scanner-1       \u001b[0m\u001b[mINFO       \u001b[0m\u001b[33m<6840.00> \u001b[0m\u001b[36mScanner-1: \u001b[0m\u001b[maction_nadir_scan tasked for 180.0 seconds\u001b[0m\n"
     ]
    },
    {
     "name": "stderr",
     "output_type": "stream",
     "text": [
      "\u001b[90;3m2024-06-21 15:53:33,367 \u001b[0m\u001b[36msats.satellite.Scanner-1       \u001b[0m\u001b[mINFO       \u001b[0m\u001b[33m<6840.00> \u001b[0m\u001b[36mScanner-1: \u001b[0m\u001b[msetting timed terminal event at 7020.0\u001b[0m\n"
     ]
    },
    {
     "name": "stderr",
     "output_type": "stream",
     "text": [
      "\u001b[90;3m2024-06-21 15:53:33,367 \u001b[0m\u001b[msim.simulator                  \u001b[0m\u001b[mINFO       \u001b[0m\u001b[33m<6840.00> \u001b[0m\u001b[mRunning simulation at most to 11400.00 seconds\u001b[0m\n"
     ]
    },
    {
     "name": "stderr",
     "output_type": "stream",
     "text": [
      "\u001b[90;3m2024-06-21 15:53:33,377 \u001b[0m\u001b[36msats.satellite.Scanner-1       \u001b[0m\u001b[mINFO       \u001b[0m\u001b[33m<7020.00> \u001b[0m\u001b[36mScanner-1: \u001b[0m\u001b[mtimed termination at 7020.0 for action_nadir_scan\u001b[0m\n"
     ]
    },
    {
     "name": "stderr",
     "output_type": "stream",
     "text": [
      "\u001b[90;3m2024-06-21 15:53:33,377 \u001b[0m\u001b[mdata.base                      \u001b[0m\u001b[mINFO       \u001b[0m\u001b[33m<7020.00> \u001b[0m\u001b[mData reward: {'Scanner-1_4913732896': 0.015789473684210527}\u001b[0m\n"
     ]
    },
    {
     "name": "stderr",
     "output_type": "stream",
     "text": [
      "\u001b[90;3m2024-06-21 15:53:33,378 \u001b[0m\u001b[mgym                            \u001b[0m\u001b[mINFO       \u001b[0m\u001b[33m<7020.00> \u001b[0m\u001b[mSatellites requiring retasking: ['Scanner-1_4913732896']\u001b[0m\n"
     ]
    },
    {
     "name": "stderr",
     "output_type": "stream",
     "text": [
      "\u001b[90;3m2024-06-21 15:53:33,378 \u001b[0m\u001b[mgym                            \u001b[0m\u001b[mINFO       \u001b[0m\u001b[33m<7020.00> \u001b[0m\u001b[mStep reward: 0.015789473684210527\u001b[0m\n"
     ]
    },
    {
     "name": "stderr",
     "output_type": "stream",
     "text": [
      "\u001b[90;3m2024-06-21 15:53:33,378 \u001b[0m\u001b[mgym                            \u001b[0m\u001b[mINFO       \u001b[0m\u001b[33m<7020.00> \u001b[0m\u001b[93;1m=== STARTING STEP ===\u001b[0m\n"
     ]
    },
    {
     "name": "stderr",
     "output_type": "stream",
     "text": [
      "\u001b[90;3m2024-06-21 15:53:33,378 \u001b[0m\u001b[36msats.satellite.Scanner-1       \u001b[0m\u001b[mINFO       \u001b[0m\u001b[33m<7020.00> \u001b[0m\u001b[36mScanner-1: \u001b[0m\u001b[maction_desat tasked for 60.0 seconds\u001b[0m\n"
     ]
    },
    {
     "name": "stderr",
     "output_type": "stream",
     "text": [
      "\u001b[90;3m2024-06-21 15:53:33,379 \u001b[0m\u001b[36msats.satellite.Scanner-1       \u001b[0m\u001b[mINFO       \u001b[0m\u001b[33m<7020.00> \u001b[0m\u001b[36mScanner-1: \u001b[0m\u001b[msetting timed terminal event at 7080.0\u001b[0m\n"
     ]
    },
    {
     "name": "stderr",
     "output_type": "stream",
     "text": [
      "\u001b[90;3m2024-06-21 15:53:33,379 \u001b[0m\u001b[msim.simulator                  \u001b[0m\u001b[mINFO       \u001b[0m\u001b[33m<7020.00> \u001b[0m\u001b[mRunning simulation at most to 11400.00 seconds\u001b[0m\n"
     ]
    },
    {
     "name": "stderr",
     "output_type": "stream",
     "text": [
      "\u001b[90;3m2024-06-21 15:53:33,382 \u001b[0m\u001b[36msats.satellite.Scanner-1       \u001b[0m\u001b[mINFO       \u001b[0m\u001b[33m<7080.00> \u001b[0m\u001b[36mScanner-1: \u001b[0m\u001b[mtimed termination at 7080.0 for action_desat\u001b[0m\n"
     ]
    },
    {
     "name": "stderr",
     "output_type": "stream",
     "text": [
      "\u001b[90;3m2024-06-21 15:53:33,383 \u001b[0m\u001b[mdata.base                      \u001b[0m\u001b[mINFO       \u001b[0m\u001b[33m<7080.00> \u001b[0m\u001b[mData reward: {'Scanner-1_4913732896': 0.0}\u001b[0m\n"
     ]
    },
    {
     "name": "stderr",
     "output_type": "stream",
     "text": [
      "\u001b[90;3m2024-06-21 15:53:33,383 \u001b[0m\u001b[mgym                            \u001b[0m\u001b[mINFO       \u001b[0m\u001b[33m<7080.00> \u001b[0m\u001b[mSatellites requiring retasking: ['Scanner-1_4913732896']\u001b[0m\n"
     ]
    },
    {
     "name": "stderr",
     "output_type": "stream",
     "text": [
      "\u001b[90;3m2024-06-21 15:53:33,384 \u001b[0m\u001b[mgym                            \u001b[0m\u001b[mINFO       \u001b[0m\u001b[33m<7080.00> \u001b[0m\u001b[mStep reward: 0.0\u001b[0m\n"
     ]
    },
    {
     "name": "stderr",
     "output_type": "stream",
     "text": [
      "\u001b[90;3m2024-06-21 15:53:33,384 \u001b[0m\u001b[mgym                            \u001b[0m\u001b[mINFO       \u001b[0m\u001b[33m<7080.00> \u001b[0m\u001b[93;1m=== STARTING STEP ===\u001b[0m\n"
     ]
    },
    {
     "name": "stderr",
     "output_type": "stream",
     "text": [
      "\u001b[90;3m2024-06-21 15:53:33,384 \u001b[0m\u001b[36msats.satellite.Scanner-1       \u001b[0m\u001b[mINFO       \u001b[0m\u001b[33m<7080.00> \u001b[0m\u001b[36mScanner-1: \u001b[0m\u001b[maction_charge tasked for 180.0 seconds\u001b[0m\n"
     ]
    },
    {
     "name": "stderr",
     "output_type": "stream",
     "text": [
      "\u001b[90;3m2024-06-21 15:53:33,384 \u001b[0m\u001b[36msats.satellite.Scanner-1       \u001b[0m\u001b[mINFO       \u001b[0m\u001b[33m<7080.00> \u001b[0m\u001b[36mScanner-1: \u001b[0m\u001b[msetting timed terminal event at 7260.0\u001b[0m\n"
     ]
    },
    {
     "name": "stderr",
     "output_type": "stream",
     "text": [
      "\u001b[90;3m2024-06-21 15:53:33,384 \u001b[0m\u001b[msim.simulator                  \u001b[0m\u001b[mINFO       \u001b[0m\u001b[33m<7080.00> \u001b[0m\u001b[mRunning simulation at most to 11400.00 seconds\u001b[0m\n"
     ]
    },
    {
     "name": "stderr",
     "output_type": "stream",
     "text": [
      "\u001b[90;3m2024-06-21 15:53:33,394 \u001b[0m\u001b[36msats.satellite.Scanner-1       \u001b[0m\u001b[mINFO       \u001b[0m\u001b[33m<7260.00> \u001b[0m\u001b[36mScanner-1: \u001b[0m\u001b[mtimed termination at 7260.0 for action_charge\u001b[0m\n"
     ]
    },
    {
     "name": "stderr",
     "output_type": "stream",
     "text": [
      "\u001b[90;3m2024-06-21 15:53:33,395 \u001b[0m\u001b[mdata.base                      \u001b[0m\u001b[mINFO       \u001b[0m\u001b[33m<7260.00> \u001b[0m\u001b[mData reward: {'Scanner-1_4913732896': 0.0}\u001b[0m\n"
     ]
    },
    {
     "name": "stderr",
     "output_type": "stream",
     "text": [
      "\u001b[90;3m2024-06-21 15:53:33,395 \u001b[0m\u001b[mgym                            \u001b[0m\u001b[mINFO       \u001b[0m\u001b[33m<7260.00> \u001b[0m\u001b[mSatellites requiring retasking: ['Scanner-1_4913732896']\u001b[0m\n"
     ]
    },
    {
     "name": "stderr",
     "output_type": "stream",
     "text": [
      "\u001b[90;3m2024-06-21 15:53:33,396 \u001b[0m\u001b[mgym                            \u001b[0m\u001b[mINFO       \u001b[0m\u001b[33m<7260.00> \u001b[0m\u001b[mStep reward: 0.0\u001b[0m\n"
     ]
    },
    {
     "name": "stderr",
     "output_type": "stream",
     "text": [
      "\u001b[90;3m2024-06-21 15:53:33,396 \u001b[0m\u001b[mgym                            \u001b[0m\u001b[mINFO       \u001b[0m\u001b[33m<7260.00> \u001b[0m\u001b[93;1m=== STARTING STEP ===\u001b[0m\n"
     ]
    },
    {
     "name": "stderr",
     "output_type": "stream",
     "text": [
      "\u001b[90;3m2024-06-21 15:53:33,396 \u001b[0m\u001b[36msats.satellite.Scanner-1       \u001b[0m\u001b[mINFO       \u001b[0m\u001b[33m<7260.00> \u001b[0m\u001b[36mScanner-1: \u001b[0m\u001b[maction_desat tasked for 60.0 seconds\u001b[0m\n"
     ]
    },
    {
     "name": "stderr",
     "output_type": "stream",
     "text": [
      "\u001b[90;3m2024-06-21 15:53:33,396 \u001b[0m\u001b[36msats.satellite.Scanner-1       \u001b[0m\u001b[mINFO       \u001b[0m\u001b[33m<7260.00> \u001b[0m\u001b[36mScanner-1: \u001b[0m\u001b[msetting timed terminal event at 7320.0\u001b[0m\n"
     ]
    },
    {
     "name": "stderr",
     "output_type": "stream",
     "text": [
      "\u001b[90;3m2024-06-21 15:53:33,396 \u001b[0m\u001b[msim.simulator                  \u001b[0m\u001b[mINFO       \u001b[0m\u001b[33m<7260.00> \u001b[0m\u001b[mRunning simulation at most to 11400.00 seconds\u001b[0m\n"
     ]
    },
    {
     "name": "stderr",
     "output_type": "stream",
     "text": [
      "\u001b[90;3m2024-06-21 15:53:33,400 \u001b[0m\u001b[36msats.satellite.Scanner-1       \u001b[0m\u001b[mINFO       \u001b[0m\u001b[33m<7320.00> \u001b[0m\u001b[36mScanner-1: \u001b[0m\u001b[mtimed termination at 7320.0 for action_desat\u001b[0m\n"
     ]
    },
    {
     "name": "stderr",
     "output_type": "stream",
     "text": [
      "\u001b[90;3m2024-06-21 15:53:33,400 \u001b[0m\u001b[mdata.base                      \u001b[0m\u001b[mINFO       \u001b[0m\u001b[33m<7320.00> \u001b[0m\u001b[mData reward: {'Scanner-1_4913732896': 0.0}\u001b[0m\n"
     ]
    },
    {
     "name": "stderr",
     "output_type": "stream",
     "text": [
      "\u001b[90;3m2024-06-21 15:53:33,401 \u001b[0m\u001b[mgym                            \u001b[0m\u001b[mINFO       \u001b[0m\u001b[33m<7320.00> \u001b[0m\u001b[mSatellites requiring retasking: ['Scanner-1_4913732896']\u001b[0m\n"
     ]
    },
    {
     "name": "stderr",
     "output_type": "stream",
     "text": [
      "\u001b[90;3m2024-06-21 15:53:33,401 \u001b[0m\u001b[mgym                            \u001b[0m\u001b[mINFO       \u001b[0m\u001b[33m<7320.00> \u001b[0m\u001b[mStep reward: 0.0\u001b[0m\n"
     ]
    },
    {
     "name": "stderr",
     "output_type": "stream",
     "text": [
      "\u001b[90;3m2024-06-21 15:53:33,401 \u001b[0m\u001b[mgym                            \u001b[0m\u001b[mINFO       \u001b[0m\u001b[33m<7320.00> \u001b[0m\u001b[93;1m=== STARTING STEP ===\u001b[0m\n"
     ]
    },
    {
     "name": "stderr",
     "output_type": "stream",
     "text": [
      "\u001b[90;3m2024-06-21 15:53:33,402 \u001b[0m\u001b[36msats.satellite.Scanner-1       \u001b[0m\u001b[mINFO       \u001b[0m\u001b[33m<7320.00> \u001b[0m\u001b[36mScanner-1: \u001b[0m\u001b[maction_downlink tasked for 60.0 seconds\u001b[0m\n"
     ]
    },
    {
     "name": "stderr",
     "output_type": "stream",
     "text": [
      "\u001b[90;3m2024-06-21 15:53:33,402 \u001b[0m\u001b[36msats.satellite.Scanner-1       \u001b[0m\u001b[mINFO       \u001b[0m\u001b[33m<7320.00> \u001b[0m\u001b[36mScanner-1: \u001b[0m\u001b[msetting timed terminal event at 7380.0\u001b[0m\n"
     ]
    },
    {
     "name": "stderr",
     "output_type": "stream",
     "text": [
      "\u001b[90;3m2024-06-21 15:53:33,402 \u001b[0m\u001b[msim.simulator                  \u001b[0m\u001b[mINFO       \u001b[0m\u001b[33m<7320.00> \u001b[0m\u001b[mRunning simulation at most to 11400.00 seconds\u001b[0m\n"
     ]
    },
    {
     "name": "stderr",
     "output_type": "stream",
     "text": [
      "\u001b[90;3m2024-06-21 15:53:33,406 \u001b[0m\u001b[36msats.satellite.Scanner-1       \u001b[0m\u001b[mINFO       \u001b[0m\u001b[33m<7380.00> \u001b[0m\u001b[36mScanner-1: \u001b[0m\u001b[mtimed termination at 7380.0 for action_downlink\u001b[0m\n"
     ]
    },
    {
     "name": "stderr",
     "output_type": "stream",
     "text": [
      "\u001b[90;3m2024-06-21 15:53:33,406 \u001b[0m\u001b[mdata.base                      \u001b[0m\u001b[mINFO       \u001b[0m\u001b[33m<7380.00> \u001b[0m\u001b[mData reward: {'Scanner-1_4913732896': 0.0}\u001b[0m\n"
     ]
    },
    {
     "name": "stderr",
     "output_type": "stream",
     "text": [
      "\u001b[90;3m2024-06-21 15:53:33,407 \u001b[0m\u001b[mgym                            \u001b[0m\u001b[mINFO       \u001b[0m\u001b[33m<7380.00> \u001b[0m\u001b[mSatellites requiring retasking: ['Scanner-1_4913732896']\u001b[0m\n"
     ]
    },
    {
     "name": "stderr",
     "output_type": "stream",
     "text": [
      "\u001b[90;3m2024-06-21 15:53:33,407 \u001b[0m\u001b[mgym                            \u001b[0m\u001b[mINFO       \u001b[0m\u001b[33m<7380.00> \u001b[0m\u001b[mStep reward: 0.0\u001b[0m\n"
     ]
    },
    {
     "name": "stderr",
     "output_type": "stream",
     "text": [
      "\u001b[90;3m2024-06-21 15:53:33,407 \u001b[0m\u001b[mgym                            \u001b[0m\u001b[mINFO       \u001b[0m\u001b[33m<7380.00> \u001b[0m\u001b[93;1m=== STARTING STEP ===\u001b[0m\n"
     ]
    },
    {
     "name": "stderr",
     "output_type": "stream",
     "text": [
      "\u001b[90;3m2024-06-21 15:53:33,407 \u001b[0m\u001b[36msats.satellite.Scanner-1       \u001b[0m\u001b[mINFO       \u001b[0m\u001b[33m<7380.00> \u001b[0m\u001b[36mScanner-1: \u001b[0m\u001b[maction_desat tasked for 60.0 seconds\u001b[0m\n"
     ]
    },
    {
     "name": "stderr",
     "output_type": "stream",
     "text": [
      "\u001b[90;3m2024-06-21 15:53:33,408 \u001b[0m\u001b[36msats.satellite.Scanner-1       \u001b[0m\u001b[mINFO       \u001b[0m\u001b[33m<7380.00> \u001b[0m\u001b[36mScanner-1: \u001b[0m\u001b[msetting timed terminal event at 7440.0\u001b[0m\n"
     ]
    },
    {
     "name": "stderr",
     "output_type": "stream",
     "text": [
      "\u001b[90;3m2024-06-21 15:53:33,408 \u001b[0m\u001b[msim.simulator                  \u001b[0m\u001b[mINFO       \u001b[0m\u001b[33m<7380.00> \u001b[0m\u001b[mRunning simulation at most to 11400.00 seconds\u001b[0m\n"
     ]
    },
    {
     "name": "stderr",
     "output_type": "stream",
     "text": [
      "\u001b[90;3m2024-06-21 15:53:33,411 \u001b[0m\u001b[36msats.satellite.Scanner-1       \u001b[0m\u001b[mINFO       \u001b[0m\u001b[33m<7440.00> \u001b[0m\u001b[36mScanner-1: \u001b[0m\u001b[mtimed termination at 7440.0 for action_desat\u001b[0m\n"
     ]
    },
    {
     "name": "stderr",
     "output_type": "stream",
     "text": [
      "\u001b[90;3m2024-06-21 15:53:33,412 \u001b[0m\u001b[mdata.base                      \u001b[0m\u001b[mINFO       \u001b[0m\u001b[33m<7440.00> \u001b[0m\u001b[mData reward: {'Scanner-1_4913732896': 0.0}\u001b[0m\n"
     ]
    },
    {
     "name": "stderr",
     "output_type": "stream",
     "text": [
      "\u001b[90;3m2024-06-21 15:53:33,412 \u001b[0m\u001b[mgym                            \u001b[0m\u001b[mINFO       \u001b[0m\u001b[33m<7440.00> \u001b[0m\u001b[mSatellites requiring retasking: ['Scanner-1_4913732896']\u001b[0m\n"
     ]
    },
    {
     "name": "stderr",
     "output_type": "stream",
     "text": [
      "\u001b[90;3m2024-06-21 15:53:33,413 \u001b[0m\u001b[mgym                            \u001b[0m\u001b[mINFO       \u001b[0m\u001b[33m<7440.00> \u001b[0m\u001b[mStep reward: 0.0\u001b[0m\n"
     ]
    },
    {
     "name": "stderr",
     "output_type": "stream",
     "text": [
      "\u001b[90;3m2024-06-21 15:53:33,413 \u001b[0m\u001b[mgym                            \u001b[0m\u001b[mINFO       \u001b[0m\u001b[33m<7440.00> \u001b[0m\u001b[93;1m=== STARTING STEP ===\u001b[0m\n"
     ]
    },
    {
     "name": "stderr",
     "output_type": "stream",
     "text": [
      "\u001b[90;3m2024-06-21 15:53:33,413 \u001b[0m\u001b[36msats.satellite.Scanner-1       \u001b[0m\u001b[mINFO       \u001b[0m\u001b[33m<7440.00> \u001b[0m\u001b[36mScanner-1: \u001b[0m\u001b[maction_desat tasked for 60.0 seconds\u001b[0m\n"
     ]
    },
    {
     "name": "stderr",
     "output_type": "stream",
     "text": [
      "\u001b[90;3m2024-06-21 15:53:33,413 \u001b[0m\u001b[36msats.satellite.Scanner-1       \u001b[0m\u001b[mINFO       \u001b[0m\u001b[33m<7440.00> \u001b[0m\u001b[36mScanner-1: \u001b[0m\u001b[msetting timed terminal event at 7500.0\u001b[0m\n"
     ]
    },
    {
     "name": "stderr",
     "output_type": "stream",
     "text": [
      "\u001b[90;3m2024-06-21 15:53:33,413 \u001b[0m\u001b[msim.simulator                  \u001b[0m\u001b[mINFO       \u001b[0m\u001b[33m<7440.00> \u001b[0m\u001b[mRunning simulation at most to 11400.00 seconds\u001b[0m\n"
     ]
    },
    {
     "name": "stderr",
     "output_type": "stream",
     "text": [
      "\u001b[90;3m2024-06-21 15:53:33,417 \u001b[0m\u001b[36msats.satellite.Scanner-1       \u001b[0m\u001b[mINFO       \u001b[0m\u001b[33m<7500.00> \u001b[0m\u001b[36mScanner-1: \u001b[0m\u001b[mtimed termination at 7500.0 for action_desat\u001b[0m\n"
     ]
    },
    {
     "name": "stderr",
     "output_type": "stream",
     "text": [
      "\u001b[90;3m2024-06-21 15:53:33,417 \u001b[0m\u001b[mdata.base                      \u001b[0m\u001b[mINFO       \u001b[0m\u001b[33m<7500.00> \u001b[0m\u001b[mData reward: {'Scanner-1_4913732896': 0.0}\u001b[0m\n"
     ]
    },
    {
     "name": "stderr",
     "output_type": "stream",
     "text": [
      "\u001b[90;3m2024-06-21 15:53:33,418 \u001b[0m\u001b[mgym                            \u001b[0m\u001b[mINFO       \u001b[0m\u001b[33m<7500.00> \u001b[0m\u001b[mSatellites requiring retasking: ['Scanner-1_4913732896']\u001b[0m\n"
     ]
    },
    {
     "name": "stderr",
     "output_type": "stream",
     "text": [
      "\u001b[90;3m2024-06-21 15:53:33,418 \u001b[0m\u001b[mgym                            \u001b[0m\u001b[mINFO       \u001b[0m\u001b[33m<7500.00> \u001b[0m\u001b[mStep reward: 0.0\u001b[0m\n"
     ]
    },
    {
     "name": "stderr",
     "output_type": "stream",
     "text": [
      "\u001b[90;3m2024-06-21 15:53:33,419 \u001b[0m\u001b[mgym                            \u001b[0m\u001b[mINFO       \u001b[0m\u001b[33m<7500.00> \u001b[0m\u001b[93;1m=== STARTING STEP ===\u001b[0m\n"
     ]
    },
    {
     "name": "stderr",
     "output_type": "stream",
     "text": [
      "\u001b[90;3m2024-06-21 15:53:33,419 \u001b[0m\u001b[36msats.satellite.Scanner-1       \u001b[0m\u001b[mINFO       \u001b[0m\u001b[33m<7500.00> \u001b[0m\u001b[36mScanner-1: \u001b[0m\u001b[maction_charge tasked for 180.0 seconds\u001b[0m\n"
     ]
    },
    {
     "name": "stderr",
     "output_type": "stream",
     "text": [
      "\u001b[90;3m2024-06-21 15:53:33,419 \u001b[0m\u001b[36msats.satellite.Scanner-1       \u001b[0m\u001b[mINFO       \u001b[0m\u001b[33m<7500.00> \u001b[0m\u001b[36mScanner-1: \u001b[0m\u001b[msetting timed terminal event at 7680.0\u001b[0m\n"
     ]
    },
    {
     "name": "stderr",
     "output_type": "stream",
     "text": [
      "\u001b[90;3m2024-06-21 15:53:33,419 \u001b[0m\u001b[msim.simulator                  \u001b[0m\u001b[mINFO       \u001b[0m\u001b[33m<7500.00> \u001b[0m\u001b[mRunning simulation at most to 11400.00 seconds\u001b[0m\n"
     ]
    },
    {
     "name": "stderr",
     "output_type": "stream",
     "text": [
      "\u001b[90;3m2024-06-21 15:53:33,429 \u001b[0m\u001b[36msats.satellite.Scanner-1       \u001b[0m\u001b[mINFO       \u001b[0m\u001b[33m<7680.00> \u001b[0m\u001b[36mScanner-1: \u001b[0m\u001b[mtimed termination at 7680.0 for action_charge\u001b[0m\n"
     ]
    },
    {
     "name": "stderr",
     "output_type": "stream",
     "text": [
      "\u001b[90;3m2024-06-21 15:53:33,429 \u001b[0m\u001b[mdata.base                      \u001b[0m\u001b[mINFO       \u001b[0m\u001b[33m<7680.00> \u001b[0m\u001b[mData reward: {'Scanner-1_4913732896': 0.0}\u001b[0m\n"
     ]
    },
    {
     "name": "stderr",
     "output_type": "stream",
     "text": [
      "\u001b[90;3m2024-06-21 15:53:33,430 \u001b[0m\u001b[mgym                            \u001b[0m\u001b[mINFO       \u001b[0m\u001b[33m<7680.00> \u001b[0m\u001b[mSatellites requiring retasking: ['Scanner-1_4913732896']\u001b[0m\n"
     ]
    },
    {
     "name": "stderr",
     "output_type": "stream",
     "text": [
      "\u001b[90;3m2024-06-21 15:53:33,430 \u001b[0m\u001b[mgym                            \u001b[0m\u001b[mINFO       \u001b[0m\u001b[33m<7680.00> \u001b[0m\u001b[mStep reward: 0.0\u001b[0m\n"
     ]
    },
    {
     "name": "stderr",
     "output_type": "stream",
     "text": [
      "\u001b[90;3m2024-06-21 15:53:33,431 \u001b[0m\u001b[mgym                            \u001b[0m\u001b[mINFO       \u001b[0m\u001b[33m<7680.00> \u001b[0m\u001b[93;1m=== STARTING STEP ===\u001b[0m\n"
     ]
    },
    {
     "name": "stderr",
     "output_type": "stream",
     "text": [
      "\u001b[90;3m2024-06-21 15:53:33,431 \u001b[0m\u001b[36msats.satellite.Scanner-1       \u001b[0m\u001b[mINFO       \u001b[0m\u001b[33m<7680.00> \u001b[0m\u001b[36mScanner-1: \u001b[0m\u001b[maction_charge tasked for 180.0 seconds\u001b[0m\n"
     ]
    },
    {
     "name": "stderr",
     "output_type": "stream",
     "text": [
      "\u001b[90;3m2024-06-21 15:53:33,431 \u001b[0m\u001b[36msats.satellite.Scanner-1       \u001b[0m\u001b[mINFO       \u001b[0m\u001b[33m<7680.00> \u001b[0m\u001b[36mScanner-1: \u001b[0m\u001b[msetting timed terminal event at 7860.0\u001b[0m\n"
     ]
    },
    {
     "name": "stderr",
     "output_type": "stream",
     "text": [
      "\u001b[90;3m2024-06-21 15:53:33,431 \u001b[0m\u001b[msim.simulator                  \u001b[0m\u001b[mINFO       \u001b[0m\u001b[33m<7680.00> \u001b[0m\u001b[mRunning simulation at most to 11400.00 seconds\u001b[0m\n"
     ]
    },
    {
     "name": "stderr",
     "output_type": "stream",
     "text": [
      "\u001b[90;3m2024-06-21 15:53:33,441 \u001b[0m\u001b[36msats.satellite.Scanner-1       \u001b[0m\u001b[mINFO       \u001b[0m\u001b[33m<7860.00> \u001b[0m\u001b[36mScanner-1: \u001b[0m\u001b[mtimed termination at 7860.0 for action_charge\u001b[0m\n"
     ]
    },
    {
     "name": "stderr",
     "output_type": "stream",
     "text": [
      "\u001b[90;3m2024-06-21 15:53:33,441 \u001b[0m\u001b[mdata.base                      \u001b[0m\u001b[mINFO       \u001b[0m\u001b[33m<7860.00> \u001b[0m\u001b[mData reward: {'Scanner-1_4913732896': 0.0}\u001b[0m\n"
     ]
    },
    {
     "name": "stderr",
     "output_type": "stream",
     "text": [
      "\u001b[90;3m2024-06-21 15:53:33,442 \u001b[0m\u001b[mgym                            \u001b[0m\u001b[mINFO       \u001b[0m\u001b[33m<7860.00> \u001b[0m\u001b[mSatellites requiring retasking: ['Scanner-1_4913732896']\u001b[0m\n"
     ]
    },
    {
     "name": "stderr",
     "output_type": "stream",
     "text": [
      "\u001b[90;3m2024-06-21 15:53:33,442 \u001b[0m\u001b[mgym                            \u001b[0m\u001b[mINFO       \u001b[0m\u001b[33m<7860.00> \u001b[0m\u001b[mStep reward: 0.0\u001b[0m\n"
     ]
    },
    {
     "name": "stderr",
     "output_type": "stream",
     "text": [
      "\u001b[90;3m2024-06-21 15:53:33,443 \u001b[0m\u001b[mgym                            \u001b[0m\u001b[mINFO       \u001b[0m\u001b[33m<7860.00> \u001b[0m\u001b[93;1m=== STARTING STEP ===\u001b[0m\n"
     ]
    },
    {
     "name": "stderr",
     "output_type": "stream",
     "text": [
      "\u001b[90;3m2024-06-21 15:53:33,443 \u001b[0m\u001b[36msats.satellite.Scanner-1       \u001b[0m\u001b[mINFO       \u001b[0m\u001b[33m<7860.00> \u001b[0m\u001b[36mScanner-1: \u001b[0m\u001b[maction_desat tasked for 60.0 seconds\u001b[0m\n"
     ]
    },
    {
     "name": "stderr",
     "output_type": "stream",
     "text": [
      "\u001b[90;3m2024-06-21 15:53:33,443 \u001b[0m\u001b[36msats.satellite.Scanner-1       \u001b[0m\u001b[mINFO       \u001b[0m\u001b[33m<7860.00> \u001b[0m\u001b[36mScanner-1: \u001b[0m\u001b[msetting timed terminal event at 7920.0\u001b[0m\n"
     ]
    },
    {
     "name": "stderr",
     "output_type": "stream",
     "text": [
      "\u001b[90;3m2024-06-21 15:53:33,443 \u001b[0m\u001b[msim.simulator                  \u001b[0m\u001b[mINFO       \u001b[0m\u001b[33m<7860.00> \u001b[0m\u001b[mRunning simulation at most to 11400.00 seconds\u001b[0m\n"
     ]
    },
    {
     "name": "stderr",
     "output_type": "stream",
     "text": [
      "\u001b[90;3m2024-06-21 15:53:33,447 \u001b[0m\u001b[36msats.satellite.Scanner-1       \u001b[0m\u001b[mINFO       \u001b[0m\u001b[33m<7920.00> \u001b[0m\u001b[36mScanner-1: \u001b[0m\u001b[mtimed termination at 7920.0 for action_desat\u001b[0m\n"
     ]
    },
    {
     "name": "stderr",
     "output_type": "stream",
     "text": [
      "\u001b[90;3m2024-06-21 15:53:33,447 \u001b[0m\u001b[mdata.base                      \u001b[0m\u001b[mINFO       \u001b[0m\u001b[33m<7920.00> \u001b[0m\u001b[mData reward: {'Scanner-1_4913732896': 0.0}\u001b[0m\n"
     ]
    },
    {
     "name": "stderr",
     "output_type": "stream",
     "text": [
      "\u001b[90;3m2024-06-21 15:53:33,448 \u001b[0m\u001b[mgym                            \u001b[0m\u001b[mINFO       \u001b[0m\u001b[33m<7920.00> \u001b[0m\u001b[mSatellites requiring retasking: ['Scanner-1_4913732896']\u001b[0m\n"
     ]
    },
    {
     "name": "stderr",
     "output_type": "stream",
     "text": [
      "\u001b[90;3m2024-06-21 15:53:33,448 \u001b[0m\u001b[mgym                            \u001b[0m\u001b[mINFO       \u001b[0m\u001b[33m<7920.00> \u001b[0m\u001b[mStep reward: 0.0\u001b[0m\n"
     ]
    },
    {
     "name": "stderr",
     "output_type": "stream",
     "text": [
      "\u001b[90;3m2024-06-21 15:53:33,448 \u001b[0m\u001b[mgym                            \u001b[0m\u001b[mINFO       \u001b[0m\u001b[33m<7920.00> \u001b[0m\u001b[93;1m=== STARTING STEP ===\u001b[0m\n"
     ]
    },
    {
     "name": "stderr",
     "output_type": "stream",
     "text": [
      "\u001b[90;3m2024-06-21 15:53:33,449 \u001b[0m\u001b[36msats.satellite.Scanner-1       \u001b[0m\u001b[mINFO       \u001b[0m\u001b[33m<7920.00> \u001b[0m\u001b[36mScanner-1: \u001b[0m\u001b[maction_nadir_scan tasked for 180.0 seconds\u001b[0m\n"
     ]
    },
    {
     "name": "stderr",
     "output_type": "stream",
     "text": [
      "\u001b[90;3m2024-06-21 15:53:33,449 \u001b[0m\u001b[36msats.satellite.Scanner-1       \u001b[0m\u001b[mINFO       \u001b[0m\u001b[33m<7920.00> \u001b[0m\u001b[36mScanner-1: \u001b[0m\u001b[msetting timed terminal event at 8100.0\u001b[0m\n"
     ]
    },
    {
     "name": "stderr",
     "output_type": "stream",
     "text": [
      "\u001b[90;3m2024-06-21 15:53:33,449 \u001b[0m\u001b[msim.simulator                  \u001b[0m\u001b[mINFO       \u001b[0m\u001b[33m<7920.00> \u001b[0m\u001b[mRunning simulation at most to 11400.00 seconds\u001b[0m\n"
     ]
    },
    {
     "name": "stderr",
     "output_type": "stream",
     "text": [
      "\u001b[90;3m2024-06-21 15:53:33,459 \u001b[0m\u001b[36msats.satellite.Scanner-1       \u001b[0m\u001b[mINFO       \u001b[0m\u001b[33m<8100.00> \u001b[0m\u001b[36mScanner-1: \u001b[0m\u001b[mtimed termination at 8100.0 for action_nadir_scan\u001b[0m\n"
     ]
    },
    {
     "name": "stderr",
     "output_type": "stream",
     "text": [
      "\u001b[90;3m2024-06-21 15:53:33,460 \u001b[0m\u001b[mdata.base                      \u001b[0m\u001b[mINFO       \u001b[0m\u001b[33m<8100.00> \u001b[0m\u001b[mData reward: {'Scanner-1_4913732896': 0.012280701754385963}\u001b[0m\n"
     ]
    },
    {
     "name": "stderr",
     "output_type": "stream",
     "text": [
      "\u001b[90;3m2024-06-21 15:53:33,501 \u001b[0m\u001b[mgym                            \u001b[0m\u001b[mINFO       \u001b[0m\u001b[33m<8100.00> \u001b[0m\u001b[mSatellites requiring retasking: ['Scanner-1_4913732896']\u001b[0m\n"
     ]
    },
    {
     "name": "stderr",
     "output_type": "stream",
     "text": [
      "\u001b[90;3m2024-06-21 15:53:33,501 \u001b[0m\u001b[mgym                            \u001b[0m\u001b[mINFO       \u001b[0m\u001b[33m<8100.00> \u001b[0m\u001b[mStep reward: 0.012280701754385963\u001b[0m\n"
     ]
    },
    {
     "name": "stderr",
     "output_type": "stream",
     "text": [
      "\u001b[90;3m2024-06-21 15:53:33,502 \u001b[0m\u001b[mgym                            \u001b[0m\u001b[mINFO       \u001b[0m\u001b[33m<8100.00> \u001b[0m\u001b[93;1m=== STARTING STEP ===\u001b[0m\n"
     ]
    },
    {
     "name": "stderr",
     "output_type": "stream",
     "text": [
      "\u001b[90;3m2024-06-21 15:53:33,502 \u001b[0m\u001b[36msats.satellite.Scanner-1       \u001b[0m\u001b[mINFO       \u001b[0m\u001b[33m<8100.00> \u001b[0m\u001b[36mScanner-1: \u001b[0m\u001b[maction_nadir_scan tasked for 180.0 seconds\u001b[0m\n"
     ]
    },
    {
     "name": "stderr",
     "output_type": "stream",
     "text": [
      "\u001b[90;3m2024-06-21 15:53:33,502 \u001b[0m\u001b[36msats.satellite.Scanner-1       \u001b[0m\u001b[mINFO       \u001b[0m\u001b[33m<8100.00> \u001b[0m\u001b[36mScanner-1: \u001b[0m\u001b[msetting timed terminal event at 8280.0\u001b[0m\n"
     ]
    },
    {
     "name": "stderr",
     "output_type": "stream",
     "text": [
      "\u001b[90;3m2024-06-21 15:53:33,502 \u001b[0m\u001b[msim.simulator                  \u001b[0m\u001b[mINFO       \u001b[0m\u001b[33m<8100.00> \u001b[0m\u001b[mRunning simulation at most to 11400.00 seconds\u001b[0m\n"
     ]
    },
    {
     "name": "stderr",
     "output_type": "stream",
     "text": [
      "\u001b[90;3m2024-06-21 15:53:33,512 \u001b[0m\u001b[36msats.satellite.Scanner-1       \u001b[0m\u001b[mINFO       \u001b[0m\u001b[33m<8280.00> \u001b[0m\u001b[36mScanner-1: \u001b[0m\u001b[mtimed termination at 8280.0 for action_nadir_scan\u001b[0m\n"
     ]
    },
    {
     "name": "stderr",
     "output_type": "stream",
     "text": [
      "\u001b[90;3m2024-06-21 15:53:33,513 \u001b[0m\u001b[mdata.base                      \u001b[0m\u001b[mINFO       \u001b[0m\u001b[33m<8280.00> \u001b[0m\u001b[mData reward: {'Scanner-1_4913732896': 0.015789473684210527}\u001b[0m\n"
     ]
    },
    {
     "name": "stderr",
     "output_type": "stream",
     "text": [
      "\u001b[90;3m2024-06-21 15:53:33,513 \u001b[0m\u001b[mgym                            \u001b[0m\u001b[mINFO       \u001b[0m\u001b[33m<8280.00> \u001b[0m\u001b[mSatellites requiring retasking: ['Scanner-1_4913732896']\u001b[0m\n"
     ]
    },
    {
     "name": "stderr",
     "output_type": "stream",
     "text": [
      "\u001b[90;3m2024-06-21 15:53:33,513 \u001b[0m\u001b[mgym                            \u001b[0m\u001b[mINFO       \u001b[0m\u001b[33m<8280.00> \u001b[0m\u001b[mStep reward: 0.015789473684210527\u001b[0m\n"
     ]
    },
    {
     "name": "stderr",
     "output_type": "stream",
     "text": [
      "\u001b[90;3m2024-06-21 15:53:33,514 \u001b[0m\u001b[mgym                            \u001b[0m\u001b[mINFO       \u001b[0m\u001b[33m<8280.00> \u001b[0m\u001b[93;1m=== STARTING STEP ===\u001b[0m\n"
     ]
    },
    {
     "name": "stderr",
     "output_type": "stream",
     "text": [
      "\u001b[90;3m2024-06-21 15:53:33,514 \u001b[0m\u001b[36msats.satellite.Scanner-1       \u001b[0m\u001b[mINFO       \u001b[0m\u001b[33m<8280.00> \u001b[0m\u001b[36mScanner-1: \u001b[0m\u001b[maction_desat tasked for 60.0 seconds\u001b[0m\n"
     ]
    },
    {
     "name": "stderr",
     "output_type": "stream",
     "text": [
      "\u001b[90;3m2024-06-21 15:53:33,514 \u001b[0m\u001b[36msats.satellite.Scanner-1       \u001b[0m\u001b[mINFO       \u001b[0m\u001b[33m<8280.00> \u001b[0m\u001b[36mScanner-1: \u001b[0m\u001b[msetting timed terminal event at 8340.0\u001b[0m\n"
     ]
    },
    {
     "name": "stderr",
     "output_type": "stream",
     "text": [
      "\u001b[90;3m2024-06-21 15:53:33,514 \u001b[0m\u001b[msim.simulator                  \u001b[0m\u001b[mINFO       \u001b[0m\u001b[33m<8280.00> \u001b[0m\u001b[mRunning simulation at most to 11400.00 seconds\u001b[0m\n"
     ]
    },
    {
     "name": "stderr",
     "output_type": "stream",
     "text": [
      "\u001b[90;3m2024-06-21 15:53:33,518 \u001b[0m\u001b[36msats.satellite.Scanner-1       \u001b[0m\u001b[mINFO       \u001b[0m\u001b[33m<8340.00> \u001b[0m\u001b[36mScanner-1: \u001b[0m\u001b[mtimed termination at 8340.0 for action_desat\u001b[0m\n"
     ]
    },
    {
     "name": "stderr",
     "output_type": "stream",
     "text": [
      "\u001b[90;3m2024-06-21 15:53:33,518 \u001b[0m\u001b[mdata.base                      \u001b[0m\u001b[mINFO       \u001b[0m\u001b[33m<8340.00> \u001b[0m\u001b[mData reward: {'Scanner-1_4913732896': 0.0}\u001b[0m\n"
     ]
    },
    {
     "name": "stderr",
     "output_type": "stream",
     "text": [
      "\u001b[90;3m2024-06-21 15:53:33,519 \u001b[0m\u001b[mgym                            \u001b[0m\u001b[mINFO       \u001b[0m\u001b[33m<8340.00> \u001b[0m\u001b[mSatellites requiring retasking: ['Scanner-1_4913732896']\u001b[0m\n"
     ]
    },
    {
     "name": "stderr",
     "output_type": "stream",
     "text": [
      "\u001b[90;3m2024-06-21 15:53:33,519 \u001b[0m\u001b[mgym                            \u001b[0m\u001b[mINFO       \u001b[0m\u001b[33m<8340.00> \u001b[0m\u001b[mStep reward: 0.0\u001b[0m\n"
     ]
    },
    {
     "name": "stderr",
     "output_type": "stream",
     "text": [
      "\u001b[90;3m2024-06-21 15:53:33,519 \u001b[0m\u001b[mgym                            \u001b[0m\u001b[mINFO       \u001b[0m\u001b[33m<8340.00> \u001b[0m\u001b[93;1m=== STARTING STEP ===\u001b[0m\n"
     ]
    },
    {
     "name": "stderr",
     "output_type": "stream",
     "text": [
      "\u001b[90;3m2024-06-21 15:53:33,520 \u001b[0m\u001b[36msats.satellite.Scanner-1       \u001b[0m\u001b[mINFO       \u001b[0m\u001b[33m<8340.00> \u001b[0m\u001b[36mScanner-1: \u001b[0m\u001b[maction_charge tasked for 180.0 seconds\u001b[0m\n"
     ]
    },
    {
     "name": "stderr",
     "output_type": "stream",
     "text": [
      "\u001b[90;3m2024-06-21 15:53:33,520 \u001b[0m\u001b[36msats.satellite.Scanner-1       \u001b[0m\u001b[mINFO       \u001b[0m\u001b[33m<8340.00> \u001b[0m\u001b[36mScanner-1: \u001b[0m\u001b[msetting timed terminal event at 8520.0\u001b[0m\n"
     ]
    },
    {
     "name": "stderr",
     "output_type": "stream",
     "text": [
      "\u001b[90;3m2024-06-21 15:53:33,520 \u001b[0m\u001b[msim.simulator                  \u001b[0m\u001b[mINFO       \u001b[0m\u001b[33m<8340.00> \u001b[0m\u001b[mRunning simulation at most to 11400.00 seconds\u001b[0m\n"
     ]
    },
    {
     "name": "stderr",
     "output_type": "stream",
     "text": [
      "\u001b[90;3m2024-06-21 15:53:33,530 \u001b[0m\u001b[36msats.satellite.Scanner-1       \u001b[0m\u001b[mINFO       \u001b[0m\u001b[33m<8520.00> \u001b[0m\u001b[36mScanner-1: \u001b[0m\u001b[mtimed termination at 8520.0 for action_charge\u001b[0m\n"
     ]
    },
    {
     "name": "stderr",
     "output_type": "stream",
     "text": [
      "\u001b[90;3m2024-06-21 15:53:33,530 \u001b[0m\u001b[mdata.base                      \u001b[0m\u001b[mINFO       \u001b[0m\u001b[33m<8520.00> \u001b[0m\u001b[mData reward: {'Scanner-1_4913732896': 0.0}\u001b[0m\n"
     ]
    },
    {
     "name": "stderr",
     "output_type": "stream",
     "text": [
      "\u001b[90;3m2024-06-21 15:53:33,531 \u001b[0m\u001b[mgym                            \u001b[0m\u001b[mINFO       \u001b[0m\u001b[33m<8520.00> \u001b[0m\u001b[mSatellites requiring retasking: ['Scanner-1_4913732896']\u001b[0m\n"
     ]
    },
    {
     "name": "stderr",
     "output_type": "stream",
     "text": [
      "\u001b[90;3m2024-06-21 15:53:33,531 \u001b[0m\u001b[mgym                            \u001b[0m\u001b[mINFO       \u001b[0m\u001b[33m<8520.00> \u001b[0m\u001b[mStep reward: 0.0\u001b[0m\n"
     ]
    },
    {
     "name": "stderr",
     "output_type": "stream",
     "text": [
      "\u001b[90;3m2024-06-21 15:53:33,531 \u001b[0m\u001b[mgym                            \u001b[0m\u001b[mINFO       \u001b[0m\u001b[33m<8520.00> \u001b[0m\u001b[93;1m=== STARTING STEP ===\u001b[0m\n"
     ]
    },
    {
     "name": "stderr",
     "output_type": "stream",
     "text": [
      "\u001b[90;3m2024-06-21 15:53:33,532 \u001b[0m\u001b[36msats.satellite.Scanner-1       \u001b[0m\u001b[mINFO       \u001b[0m\u001b[33m<8520.00> \u001b[0m\u001b[36mScanner-1: \u001b[0m\u001b[maction_downlink tasked for 60.0 seconds\u001b[0m\n"
     ]
    },
    {
     "name": "stderr",
     "output_type": "stream",
     "text": [
      "\u001b[90;3m2024-06-21 15:53:33,532 \u001b[0m\u001b[36msats.satellite.Scanner-1       \u001b[0m\u001b[mINFO       \u001b[0m\u001b[33m<8520.00> \u001b[0m\u001b[36mScanner-1: \u001b[0m\u001b[msetting timed terminal event at 8580.0\u001b[0m\n"
     ]
    },
    {
     "name": "stderr",
     "output_type": "stream",
     "text": [
      "\u001b[90;3m2024-06-21 15:53:33,532 \u001b[0m\u001b[msim.simulator                  \u001b[0m\u001b[mINFO       \u001b[0m\u001b[33m<8520.00> \u001b[0m\u001b[mRunning simulation at most to 11400.00 seconds\u001b[0m\n"
     ]
    },
    {
     "name": "stderr",
     "output_type": "stream",
     "text": [
      "\u001b[90;3m2024-06-21 15:53:33,536 \u001b[0m\u001b[36msats.satellite.Scanner-1       \u001b[0m\u001b[mINFO       \u001b[0m\u001b[33m<8580.00> \u001b[0m\u001b[36mScanner-1: \u001b[0m\u001b[mtimed termination at 8580.0 for action_downlink\u001b[0m\n"
     ]
    },
    {
     "name": "stderr",
     "output_type": "stream",
     "text": [
      "\u001b[90;3m2024-06-21 15:53:33,536 \u001b[0m\u001b[mdata.base                      \u001b[0m\u001b[mINFO       \u001b[0m\u001b[33m<8580.00> \u001b[0m\u001b[mData reward: {'Scanner-1_4913732896': 0.0}\u001b[0m\n"
     ]
    },
    {
     "name": "stderr",
     "output_type": "stream",
     "text": [
      "\u001b[90;3m2024-06-21 15:53:33,537 \u001b[0m\u001b[mgym                            \u001b[0m\u001b[mINFO       \u001b[0m\u001b[33m<8580.00> \u001b[0m\u001b[mSatellites requiring retasking: ['Scanner-1_4913732896']\u001b[0m\n"
     ]
    },
    {
     "name": "stderr",
     "output_type": "stream",
     "text": [
      "\u001b[90;3m2024-06-21 15:53:33,537 \u001b[0m\u001b[mgym                            \u001b[0m\u001b[mINFO       \u001b[0m\u001b[33m<8580.00> \u001b[0m\u001b[mStep reward: 0.0\u001b[0m\n"
     ]
    },
    {
     "name": "stderr",
     "output_type": "stream",
     "text": [
      "\u001b[90;3m2024-06-21 15:53:33,537 \u001b[0m\u001b[mgym                            \u001b[0m\u001b[mINFO       \u001b[0m\u001b[33m<8580.00> \u001b[0m\u001b[93;1m=== STARTING STEP ===\u001b[0m\n"
     ]
    },
    {
     "name": "stderr",
     "output_type": "stream",
     "text": [
      "\u001b[90;3m2024-06-21 15:53:33,538 \u001b[0m\u001b[36msats.satellite.Scanner-1       \u001b[0m\u001b[mINFO       \u001b[0m\u001b[33m<8580.00> \u001b[0m\u001b[36mScanner-1: \u001b[0m\u001b[maction_desat tasked for 60.0 seconds\u001b[0m\n"
     ]
    },
    {
     "name": "stderr",
     "output_type": "stream",
     "text": [
      "\u001b[90;3m2024-06-21 15:53:33,538 \u001b[0m\u001b[36msats.satellite.Scanner-1       \u001b[0m\u001b[mINFO       \u001b[0m\u001b[33m<8580.00> \u001b[0m\u001b[36mScanner-1: \u001b[0m\u001b[msetting timed terminal event at 8640.0\u001b[0m\n"
     ]
    },
    {
     "name": "stderr",
     "output_type": "stream",
     "text": [
      "\u001b[90;3m2024-06-21 15:53:33,538 \u001b[0m\u001b[msim.simulator                  \u001b[0m\u001b[mINFO       \u001b[0m\u001b[33m<8580.00> \u001b[0m\u001b[mRunning simulation at most to 11400.00 seconds\u001b[0m\n"
     ]
    },
    {
     "name": "stderr",
     "output_type": "stream",
     "text": [
      "\u001b[90;3m2024-06-21 15:53:33,573 \u001b[0m\u001b[36msats.satellite.Scanner-1       \u001b[0m\u001b[mINFO       \u001b[0m\u001b[33m<8640.00> \u001b[0m\u001b[36mScanner-1: \u001b[0m\u001b[mtimed termination at 8640.0 for action_desat\u001b[0m\n"
     ]
    },
    {
     "name": "stderr",
     "output_type": "stream",
     "text": [
      "\u001b[90;3m2024-06-21 15:53:33,573 \u001b[0m\u001b[mdata.base                      \u001b[0m\u001b[mINFO       \u001b[0m\u001b[33m<8640.00> \u001b[0m\u001b[mData reward: {'Scanner-1_4913732896': 0.0}\u001b[0m\n"
     ]
    },
    {
     "name": "stderr",
     "output_type": "stream",
     "text": [
      "\u001b[90;3m2024-06-21 15:53:33,574 \u001b[0m\u001b[mgym                            \u001b[0m\u001b[mINFO       \u001b[0m\u001b[33m<8640.00> \u001b[0m\u001b[mSatellites requiring retasking: ['Scanner-1_4913732896']\u001b[0m\n"
     ]
    },
    {
     "name": "stderr",
     "output_type": "stream",
     "text": [
      "\u001b[90;3m2024-06-21 15:53:33,574 \u001b[0m\u001b[mgym                            \u001b[0m\u001b[mINFO       \u001b[0m\u001b[33m<8640.00> \u001b[0m\u001b[mStep reward: 0.0\u001b[0m\n"
     ]
    },
    {
     "name": "stderr",
     "output_type": "stream",
     "text": [
      "\u001b[90;3m2024-06-21 15:53:33,575 \u001b[0m\u001b[mgym                            \u001b[0m\u001b[mINFO       \u001b[0m\u001b[33m<8640.00> \u001b[0m\u001b[93;1m=== STARTING STEP ===\u001b[0m\n"
     ]
    },
    {
     "name": "stderr",
     "output_type": "stream",
     "text": [
      "\u001b[90;3m2024-06-21 15:53:33,575 \u001b[0m\u001b[36msats.satellite.Scanner-1       \u001b[0m\u001b[mINFO       \u001b[0m\u001b[33m<8640.00> \u001b[0m\u001b[36mScanner-1: \u001b[0m\u001b[maction_downlink tasked for 60.0 seconds\u001b[0m\n"
     ]
    },
    {
     "name": "stderr",
     "output_type": "stream",
     "text": [
      "\u001b[90;3m2024-06-21 15:53:33,575 \u001b[0m\u001b[36msats.satellite.Scanner-1       \u001b[0m\u001b[mINFO       \u001b[0m\u001b[33m<8640.00> \u001b[0m\u001b[36mScanner-1: \u001b[0m\u001b[msetting timed terminal event at 8700.0\u001b[0m\n"
     ]
    },
    {
     "name": "stderr",
     "output_type": "stream",
     "text": [
      "\u001b[90;3m2024-06-21 15:53:33,575 \u001b[0m\u001b[msim.simulator                  \u001b[0m\u001b[mINFO       \u001b[0m\u001b[33m<8640.00> \u001b[0m\u001b[mRunning simulation at most to 11400.00 seconds\u001b[0m\n"
     ]
    },
    {
     "name": "stderr",
     "output_type": "stream",
     "text": [
      "\u001b[90;3m2024-06-21 15:53:33,579 \u001b[0m\u001b[36msats.satellite.Scanner-1       \u001b[0m\u001b[mINFO       \u001b[0m\u001b[33m<8700.00> \u001b[0m\u001b[36mScanner-1: \u001b[0m\u001b[mtimed termination at 8700.0 for action_downlink\u001b[0m\n"
     ]
    },
    {
     "name": "stderr",
     "output_type": "stream",
     "text": [
      "\u001b[90;3m2024-06-21 15:53:33,579 \u001b[0m\u001b[mdata.base                      \u001b[0m\u001b[mINFO       \u001b[0m\u001b[33m<8700.00> \u001b[0m\u001b[mData reward: {'Scanner-1_4913732896': 0.0}\u001b[0m\n"
     ]
    },
    {
     "name": "stderr",
     "output_type": "stream",
     "text": [
      "\u001b[90;3m2024-06-21 15:53:33,580 \u001b[0m\u001b[mgym                            \u001b[0m\u001b[mINFO       \u001b[0m\u001b[33m<8700.00> \u001b[0m\u001b[mSatellites requiring retasking: ['Scanner-1_4913732896']\u001b[0m\n"
     ]
    },
    {
     "name": "stderr",
     "output_type": "stream",
     "text": [
      "\u001b[90;3m2024-06-21 15:53:33,580 \u001b[0m\u001b[mgym                            \u001b[0m\u001b[mINFO       \u001b[0m\u001b[33m<8700.00> \u001b[0m\u001b[mStep reward: 0.0\u001b[0m\n"
     ]
    },
    {
     "name": "stderr",
     "output_type": "stream",
     "text": [
      "\u001b[90;3m2024-06-21 15:53:33,580 \u001b[0m\u001b[mgym                            \u001b[0m\u001b[mINFO       \u001b[0m\u001b[33m<8700.00> \u001b[0m\u001b[93;1m=== STARTING STEP ===\u001b[0m\n"
     ]
    },
    {
     "name": "stderr",
     "output_type": "stream",
     "text": [
      "\u001b[90;3m2024-06-21 15:53:33,581 \u001b[0m\u001b[36msats.satellite.Scanner-1       \u001b[0m\u001b[mINFO       \u001b[0m\u001b[33m<8700.00> \u001b[0m\u001b[36mScanner-1: \u001b[0m\u001b[maction_desat tasked for 60.0 seconds\u001b[0m\n"
     ]
    },
    {
     "name": "stderr",
     "output_type": "stream",
     "text": [
      "\u001b[90;3m2024-06-21 15:53:33,581 \u001b[0m\u001b[36msats.satellite.Scanner-1       \u001b[0m\u001b[mINFO       \u001b[0m\u001b[33m<8700.00> \u001b[0m\u001b[36mScanner-1: \u001b[0m\u001b[msetting timed terminal event at 8760.0\u001b[0m\n"
     ]
    },
    {
     "name": "stderr",
     "output_type": "stream",
     "text": [
      "\u001b[90;3m2024-06-21 15:53:33,581 \u001b[0m\u001b[msim.simulator                  \u001b[0m\u001b[mINFO       \u001b[0m\u001b[33m<8700.00> \u001b[0m\u001b[mRunning simulation at most to 11400.00 seconds\u001b[0m\n"
     ]
    },
    {
     "name": "stderr",
     "output_type": "stream",
     "text": [
      "\u001b[90;3m2024-06-21 15:53:33,585 \u001b[0m\u001b[36msats.satellite.Scanner-1       \u001b[0m\u001b[mINFO       \u001b[0m\u001b[33m<8760.00> \u001b[0m\u001b[36mScanner-1: \u001b[0m\u001b[mtimed termination at 8760.0 for action_desat\u001b[0m\n"
     ]
    },
    {
     "name": "stderr",
     "output_type": "stream",
     "text": [
      "\u001b[90;3m2024-06-21 15:53:33,585 \u001b[0m\u001b[mdata.base                      \u001b[0m\u001b[mINFO       \u001b[0m\u001b[33m<8760.00> \u001b[0m\u001b[mData reward: {'Scanner-1_4913732896': 0.0}\u001b[0m\n"
     ]
    },
    {
     "name": "stderr",
     "output_type": "stream",
     "text": [
      "\u001b[90;3m2024-06-21 15:53:33,586 \u001b[0m\u001b[mgym                            \u001b[0m\u001b[mINFO       \u001b[0m\u001b[33m<8760.00> \u001b[0m\u001b[mSatellites requiring retasking: ['Scanner-1_4913732896']\u001b[0m\n"
     ]
    },
    {
     "name": "stderr",
     "output_type": "stream",
     "text": [
      "\u001b[90;3m2024-06-21 15:53:33,586 \u001b[0m\u001b[mgym                            \u001b[0m\u001b[mINFO       \u001b[0m\u001b[33m<8760.00> \u001b[0m\u001b[mStep reward: 0.0\u001b[0m\n"
     ]
    },
    {
     "name": "stderr",
     "output_type": "stream",
     "text": [
      "\u001b[90;3m2024-06-21 15:53:33,586 \u001b[0m\u001b[mgym                            \u001b[0m\u001b[mINFO       \u001b[0m\u001b[33m<8760.00> \u001b[0m\u001b[93;1m=== STARTING STEP ===\u001b[0m\n"
     ]
    },
    {
     "name": "stderr",
     "output_type": "stream",
     "text": [
      "\u001b[90;3m2024-06-21 15:53:33,586 \u001b[0m\u001b[36msats.satellite.Scanner-1       \u001b[0m\u001b[mINFO       \u001b[0m\u001b[33m<8760.00> \u001b[0m\u001b[36mScanner-1: \u001b[0m\u001b[maction_charge tasked for 180.0 seconds\u001b[0m\n"
     ]
    },
    {
     "name": "stderr",
     "output_type": "stream",
     "text": [
      "\u001b[90;3m2024-06-21 15:53:33,586 \u001b[0m\u001b[36msats.satellite.Scanner-1       \u001b[0m\u001b[mINFO       \u001b[0m\u001b[33m<8760.00> \u001b[0m\u001b[36mScanner-1: \u001b[0m\u001b[msetting timed terminal event at 8940.0\u001b[0m\n"
     ]
    },
    {
     "name": "stderr",
     "output_type": "stream",
     "text": [
      "\u001b[90;3m2024-06-21 15:53:33,587 \u001b[0m\u001b[msim.simulator                  \u001b[0m\u001b[mINFO       \u001b[0m\u001b[33m<8760.00> \u001b[0m\u001b[mRunning simulation at most to 11400.00 seconds\u001b[0m\n"
     ]
    },
    {
     "name": "stderr",
     "output_type": "stream",
     "text": [
      "\u001b[90;3m2024-06-21 15:53:33,596 \u001b[0m\u001b[36msats.satellite.Scanner-1       \u001b[0m\u001b[mINFO       \u001b[0m\u001b[33m<8940.00> \u001b[0m\u001b[36mScanner-1: \u001b[0m\u001b[mtimed termination at 8940.0 for action_charge\u001b[0m\n"
     ]
    },
    {
     "name": "stderr",
     "output_type": "stream",
     "text": [
      "\u001b[90;3m2024-06-21 15:53:33,597 \u001b[0m\u001b[mdata.base                      \u001b[0m\u001b[mINFO       \u001b[0m\u001b[33m<8940.00> \u001b[0m\u001b[mData reward: {'Scanner-1_4913732896': 0.0}\u001b[0m\n"
     ]
    },
    {
     "name": "stderr",
     "output_type": "stream",
     "text": [
      "\u001b[90;3m2024-06-21 15:53:33,597 \u001b[0m\u001b[mgym                            \u001b[0m\u001b[mINFO       \u001b[0m\u001b[33m<8940.00> \u001b[0m\u001b[mSatellites requiring retasking: ['Scanner-1_4913732896']\u001b[0m\n"
     ]
    },
    {
     "name": "stderr",
     "output_type": "stream",
     "text": [
      "\u001b[90;3m2024-06-21 15:53:33,598 \u001b[0m\u001b[mgym                            \u001b[0m\u001b[mINFO       \u001b[0m\u001b[33m<8940.00> \u001b[0m\u001b[mStep reward: 0.0\u001b[0m\n"
     ]
    },
    {
     "name": "stderr",
     "output_type": "stream",
     "text": [
      "\u001b[90;3m2024-06-21 15:53:33,598 \u001b[0m\u001b[mgym                            \u001b[0m\u001b[mINFO       \u001b[0m\u001b[33m<8940.00> \u001b[0m\u001b[93;1m=== STARTING STEP ===\u001b[0m\n"
     ]
    },
    {
     "name": "stderr",
     "output_type": "stream",
     "text": [
      "\u001b[90;3m2024-06-21 15:53:33,598 \u001b[0m\u001b[36msats.satellite.Scanner-1       \u001b[0m\u001b[mINFO       \u001b[0m\u001b[33m<8940.00> \u001b[0m\u001b[36mScanner-1: \u001b[0m\u001b[maction_charge tasked for 180.0 seconds\u001b[0m\n"
     ]
    },
    {
     "name": "stderr",
     "output_type": "stream",
     "text": [
      "\u001b[90;3m2024-06-21 15:53:33,598 \u001b[0m\u001b[36msats.satellite.Scanner-1       \u001b[0m\u001b[mINFO       \u001b[0m\u001b[33m<8940.00> \u001b[0m\u001b[36mScanner-1: \u001b[0m\u001b[msetting timed terminal event at 9120.0\u001b[0m\n"
     ]
    },
    {
     "name": "stderr",
     "output_type": "stream",
     "text": [
      "\u001b[90;3m2024-06-21 15:53:33,598 \u001b[0m\u001b[msim.simulator                  \u001b[0m\u001b[mINFO       \u001b[0m\u001b[33m<8940.00> \u001b[0m\u001b[mRunning simulation at most to 11400.00 seconds\u001b[0m\n"
     ]
    },
    {
     "name": "stderr",
     "output_type": "stream",
     "text": [
      "\u001b[90;3m2024-06-21 15:53:33,608 \u001b[0m\u001b[36msats.satellite.Scanner-1       \u001b[0m\u001b[mINFO       \u001b[0m\u001b[33m<9120.00> \u001b[0m\u001b[36mScanner-1: \u001b[0m\u001b[mtimed termination at 9120.0 for action_charge\u001b[0m\n"
     ]
    },
    {
     "name": "stderr",
     "output_type": "stream",
     "text": [
      "\u001b[90;3m2024-06-21 15:53:33,609 \u001b[0m\u001b[mdata.base                      \u001b[0m\u001b[mINFO       \u001b[0m\u001b[33m<9120.00> \u001b[0m\u001b[mData reward: {'Scanner-1_4913732896': 0.0}\u001b[0m\n"
     ]
    },
    {
     "name": "stderr",
     "output_type": "stream",
     "text": [
      "\u001b[90;3m2024-06-21 15:53:33,609 \u001b[0m\u001b[mgym                            \u001b[0m\u001b[mINFO       \u001b[0m\u001b[33m<9120.00> \u001b[0m\u001b[mSatellites requiring retasking: ['Scanner-1_4913732896']\u001b[0m\n"
     ]
    },
    {
     "name": "stderr",
     "output_type": "stream",
     "text": [
      "\u001b[90;3m2024-06-21 15:53:33,610 \u001b[0m\u001b[mgym                            \u001b[0m\u001b[mINFO       \u001b[0m\u001b[33m<9120.00> \u001b[0m\u001b[mStep reward: 0.0\u001b[0m\n"
     ]
    },
    {
     "name": "stderr",
     "output_type": "stream",
     "text": [
      "\u001b[90;3m2024-06-21 15:53:33,610 \u001b[0m\u001b[mgym                            \u001b[0m\u001b[mINFO       \u001b[0m\u001b[33m<9120.00> \u001b[0m\u001b[93;1m=== STARTING STEP ===\u001b[0m\n"
     ]
    },
    {
     "name": "stderr",
     "output_type": "stream",
     "text": [
      "\u001b[90;3m2024-06-21 15:53:33,610 \u001b[0m\u001b[36msats.satellite.Scanner-1       \u001b[0m\u001b[mINFO       \u001b[0m\u001b[33m<9120.00> \u001b[0m\u001b[36mScanner-1: \u001b[0m\u001b[maction_downlink tasked for 60.0 seconds\u001b[0m\n"
     ]
    },
    {
     "name": "stderr",
     "output_type": "stream",
     "text": [
      "\u001b[90;3m2024-06-21 15:53:33,610 \u001b[0m\u001b[36msats.satellite.Scanner-1       \u001b[0m\u001b[mINFO       \u001b[0m\u001b[33m<9120.00> \u001b[0m\u001b[36mScanner-1: \u001b[0m\u001b[msetting timed terminal event at 9180.0\u001b[0m\n"
     ]
    },
    {
     "name": "stderr",
     "output_type": "stream",
     "text": [
      "\u001b[90;3m2024-06-21 15:53:33,611 \u001b[0m\u001b[msim.simulator                  \u001b[0m\u001b[mINFO       \u001b[0m\u001b[33m<9120.00> \u001b[0m\u001b[mRunning simulation at most to 11400.00 seconds\u001b[0m\n"
     ]
    },
    {
     "name": "stderr",
     "output_type": "stream",
     "text": [
      "\u001b[90;3m2024-06-21 15:53:33,614 \u001b[0m\u001b[36msats.satellite.Scanner-1       \u001b[0m\u001b[mINFO       \u001b[0m\u001b[33m<9180.00> \u001b[0m\u001b[36mScanner-1: \u001b[0m\u001b[mtimed termination at 9180.0 for action_downlink\u001b[0m\n"
     ]
    },
    {
     "name": "stderr",
     "output_type": "stream",
     "text": [
      "\u001b[90;3m2024-06-21 15:53:33,614 \u001b[0m\u001b[mdata.base                      \u001b[0m\u001b[mINFO       \u001b[0m\u001b[33m<9180.00> \u001b[0m\u001b[mData reward: {'Scanner-1_4913732896': 0.0}\u001b[0m\n"
     ]
    },
    {
     "name": "stderr",
     "output_type": "stream",
     "text": [
      "\u001b[90;3m2024-06-21 15:53:33,615 \u001b[0m\u001b[mgym                            \u001b[0m\u001b[mINFO       \u001b[0m\u001b[33m<9180.00> \u001b[0m\u001b[mSatellites requiring retasking: ['Scanner-1_4913732896']\u001b[0m\n"
     ]
    },
    {
     "name": "stderr",
     "output_type": "stream",
     "text": [
      "\u001b[90;3m2024-06-21 15:53:33,615 \u001b[0m\u001b[mgym                            \u001b[0m\u001b[mINFO       \u001b[0m\u001b[33m<9180.00> \u001b[0m\u001b[mStep reward: 0.0\u001b[0m\n"
     ]
    },
    {
     "name": "stderr",
     "output_type": "stream",
     "text": [
      "\u001b[90;3m2024-06-21 15:53:33,616 \u001b[0m\u001b[mgym                            \u001b[0m\u001b[mINFO       \u001b[0m\u001b[33m<9180.00> \u001b[0m\u001b[93;1m=== STARTING STEP ===\u001b[0m\n"
     ]
    },
    {
     "name": "stderr",
     "output_type": "stream",
     "text": [
      "\u001b[90;3m2024-06-21 15:53:33,616 \u001b[0m\u001b[36msats.satellite.Scanner-1       \u001b[0m\u001b[mINFO       \u001b[0m\u001b[33m<9180.00> \u001b[0m\u001b[36mScanner-1: \u001b[0m\u001b[maction_downlink tasked for 60.0 seconds\u001b[0m\n"
     ]
    },
    {
     "name": "stderr",
     "output_type": "stream",
     "text": [
      "\u001b[90;3m2024-06-21 15:53:33,616 \u001b[0m\u001b[36msats.satellite.Scanner-1       \u001b[0m\u001b[mINFO       \u001b[0m\u001b[33m<9180.00> \u001b[0m\u001b[36mScanner-1: \u001b[0m\u001b[msetting timed terminal event at 9240.0\u001b[0m\n"
     ]
    },
    {
     "name": "stderr",
     "output_type": "stream",
     "text": [
      "\u001b[90;3m2024-06-21 15:53:33,616 \u001b[0m\u001b[msim.simulator                  \u001b[0m\u001b[mINFO       \u001b[0m\u001b[33m<9180.00> \u001b[0m\u001b[mRunning simulation at most to 11400.00 seconds\u001b[0m\n"
     ]
    },
    {
     "name": "stderr",
     "output_type": "stream",
     "text": [
      "\u001b[90;3m2024-06-21 15:53:33,620 \u001b[0m\u001b[36msats.satellite.Scanner-1       \u001b[0m\u001b[mINFO       \u001b[0m\u001b[33m<9240.00> \u001b[0m\u001b[36mScanner-1: \u001b[0m\u001b[mtimed termination at 9240.0 for action_downlink\u001b[0m\n"
     ]
    },
    {
     "name": "stderr",
     "output_type": "stream",
     "text": [
      "\u001b[90;3m2024-06-21 15:53:33,620 \u001b[0m\u001b[mdata.base                      \u001b[0m\u001b[mINFO       \u001b[0m\u001b[33m<9240.00> \u001b[0m\u001b[mData reward: {'Scanner-1_4913732896': 0.0}\u001b[0m\n"
     ]
    },
    {
     "name": "stderr",
     "output_type": "stream",
     "text": [
      "\u001b[90;3m2024-06-21 15:53:33,621 \u001b[0m\u001b[mgym                            \u001b[0m\u001b[mINFO       \u001b[0m\u001b[33m<9240.00> \u001b[0m\u001b[mSatellites requiring retasking: ['Scanner-1_4913732896']\u001b[0m\n"
     ]
    },
    {
     "name": "stderr",
     "output_type": "stream",
     "text": [
      "\u001b[90;3m2024-06-21 15:53:33,621 \u001b[0m\u001b[mgym                            \u001b[0m\u001b[mINFO       \u001b[0m\u001b[33m<9240.00> \u001b[0m\u001b[mStep reward: 0.0\u001b[0m\n"
     ]
    },
    {
     "name": "stderr",
     "output_type": "stream",
     "text": [
      "\u001b[90;3m2024-06-21 15:53:33,621 \u001b[0m\u001b[mgym                            \u001b[0m\u001b[mINFO       \u001b[0m\u001b[33m<9240.00> \u001b[0m\u001b[93;1m=== STARTING STEP ===\u001b[0m\n"
     ]
    },
    {
     "name": "stderr",
     "output_type": "stream",
     "text": [
      "\u001b[90;3m2024-06-21 15:53:33,621 \u001b[0m\u001b[36msats.satellite.Scanner-1       \u001b[0m\u001b[mINFO       \u001b[0m\u001b[33m<9240.00> \u001b[0m\u001b[36mScanner-1: \u001b[0m\u001b[maction_downlink tasked for 60.0 seconds\u001b[0m\n"
     ]
    },
    {
     "name": "stderr",
     "output_type": "stream",
     "text": [
      "\u001b[90;3m2024-06-21 15:53:33,622 \u001b[0m\u001b[36msats.satellite.Scanner-1       \u001b[0m\u001b[mINFO       \u001b[0m\u001b[33m<9240.00> \u001b[0m\u001b[36mScanner-1: \u001b[0m\u001b[msetting timed terminal event at 9300.0\u001b[0m\n"
     ]
    },
    {
     "name": "stderr",
     "output_type": "stream",
     "text": [
      "\u001b[90;3m2024-06-21 15:53:33,622 \u001b[0m\u001b[msim.simulator                  \u001b[0m\u001b[mINFO       \u001b[0m\u001b[33m<9240.00> \u001b[0m\u001b[mRunning simulation at most to 11400.00 seconds\u001b[0m\n"
     ]
    },
    {
     "name": "stderr",
     "output_type": "stream",
     "text": [
      "\u001b[90;3m2024-06-21 15:53:33,625 \u001b[0m\u001b[36msats.satellite.Scanner-1       \u001b[0m\u001b[mINFO       \u001b[0m\u001b[33m<9300.00> \u001b[0m\u001b[36mScanner-1: \u001b[0m\u001b[mtimed termination at 9300.0 for action_downlink\u001b[0m\n"
     ]
    },
    {
     "name": "stderr",
     "output_type": "stream",
     "text": [
      "\u001b[90;3m2024-06-21 15:53:33,626 \u001b[0m\u001b[mdata.base                      \u001b[0m\u001b[mINFO       \u001b[0m\u001b[33m<9300.00> \u001b[0m\u001b[mData reward: {'Scanner-1_4913732896': 0.0}\u001b[0m\n"
     ]
    },
    {
     "name": "stderr",
     "output_type": "stream",
     "text": [
      "\u001b[90;3m2024-06-21 15:53:33,626 \u001b[0m\u001b[mgym                            \u001b[0m\u001b[mINFO       \u001b[0m\u001b[33m<9300.00> \u001b[0m\u001b[mSatellites requiring retasking: ['Scanner-1_4913732896']\u001b[0m\n"
     ]
    },
    {
     "name": "stderr",
     "output_type": "stream",
     "text": [
      "\u001b[90;3m2024-06-21 15:53:33,626 \u001b[0m\u001b[mgym                            \u001b[0m\u001b[mINFO       \u001b[0m\u001b[33m<9300.00> \u001b[0m\u001b[mStep reward: 0.0\u001b[0m\n"
     ]
    },
    {
     "name": "stderr",
     "output_type": "stream",
     "text": [
      "\u001b[90;3m2024-06-21 15:53:33,627 \u001b[0m\u001b[mgym                            \u001b[0m\u001b[mINFO       \u001b[0m\u001b[33m<9300.00> \u001b[0m\u001b[93;1m=== STARTING STEP ===\u001b[0m\n"
     ]
    },
    {
     "name": "stderr",
     "output_type": "stream",
     "text": [
      "\u001b[90;3m2024-06-21 15:53:33,627 \u001b[0m\u001b[36msats.satellite.Scanner-1       \u001b[0m\u001b[mINFO       \u001b[0m\u001b[33m<9300.00> \u001b[0m\u001b[36mScanner-1: \u001b[0m\u001b[maction_charge tasked for 180.0 seconds\u001b[0m\n"
     ]
    },
    {
     "name": "stderr",
     "output_type": "stream",
     "text": [
      "\u001b[90;3m2024-06-21 15:53:33,627 \u001b[0m\u001b[36msats.satellite.Scanner-1       \u001b[0m\u001b[mINFO       \u001b[0m\u001b[33m<9300.00> \u001b[0m\u001b[36mScanner-1: \u001b[0m\u001b[msetting timed terminal event at 9480.0\u001b[0m\n"
     ]
    },
    {
     "name": "stderr",
     "output_type": "stream",
     "text": [
      "\u001b[90;3m2024-06-21 15:53:33,627 \u001b[0m\u001b[msim.simulator                  \u001b[0m\u001b[mINFO       \u001b[0m\u001b[33m<9300.00> \u001b[0m\u001b[mRunning simulation at most to 11400.00 seconds\u001b[0m\n"
     ]
    },
    {
     "name": "stderr",
     "output_type": "stream",
     "text": [
      "\u001b[90;3m2024-06-21 15:53:33,637 \u001b[0m\u001b[36msats.satellite.Scanner-1       \u001b[0m\u001b[mINFO       \u001b[0m\u001b[33m<9480.00> \u001b[0m\u001b[36mScanner-1: \u001b[0m\u001b[mtimed termination at 9480.0 for action_charge\u001b[0m\n"
     ]
    },
    {
     "name": "stderr",
     "output_type": "stream",
     "text": [
      "\u001b[90;3m2024-06-21 15:53:33,637 \u001b[0m\u001b[mdata.base                      \u001b[0m\u001b[mINFO       \u001b[0m\u001b[33m<9480.00> \u001b[0m\u001b[mData reward: {'Scanner-1_4913732896': 0.0}\u001b[0m\n"
     ]
    },
    {
     "name": "stderr",
     "output_type": "stream",
     "text": [
      "\u001b[90;3m2024-06-21 15:53:33,638 \u001b[0m\u001b[mgym                            \u001b[0m\u001b[mINFO       \u001b[0m\u001b[33m<9480.00> \u001b[0m\u001b[mSatellites requiring retasking: ['Scanner-1_4913732896']\u001b[0m\n"
     ]
    },
    {
     "name": "stderr",
     "output_type": "stream",
     "text": [
      "\u001b[90;3m2024-06-21 15:53:33,638 \u001b[0m\u001b[mgym                            \u001b[0m\u001b[mINFO       \u001b[0m\u001b[33m<9480.00> \u001b[0m\u001b[mStep reward: 0.0\u001b[0m\n"
     ]
    },
    {
     "name": "stderr",
     "output_type": "stream",
     "text": [
      "\u001b[90;3m2024-06-21 15:53:33,639 \u001b[0m\u001b[mgym                            \u001b[0m\u001b[mINFO       \u001b[0m\u001b[33m<9480.00> \u001b[0m\u001b[93;1m=== STARTING STEP ===\u001b[0m\n"
     ]
    },
    {
     "name": "stderr",
     "output_type": "stream",
     "text": [
      "\u001b[90;3m2024-06-21 15:53:33,639 \u001b[0m\u001b[36msats.satellite.Scanner-1       \u001b[0m\u001b[mINFO       \u001b[0m\u001b[33m<9480.00> \u001b[0m\u001b[36mScanner-1: \u001b[0m\u001b[maction_charge tasked for 180.0 seconds\u001b[0m\n"
     ]
    },
    {
     "name": "stderr",
     "output_type": "stream",
     "text": [
      "\u001b[90;3m2024-06-21 15:53:33,639 \u001b[0m\u001b[36msats.satellite.Scanner-1       \u001b[0m\u001b[mINFO       \u001b[0m\u001b[33m<9480.00> \u001b[0m\u001b[36mScanner-1: \u001b[0m\u001b[msetting timed terminal event at 9660.0\u001b[0m\n"
     ]
    },
    {
     "name": "stderr",
     "output_type": "stream",
     "text": [
      "\u001b[90;3m2024-06-21 15:53:33,639 \u001b[0m\u001b[msim.simulator                  \u001b[0m\u001b[mINFO       \u001b[0m\u001b[33m<9480.00> \u001b[0m\u001b[mRunning simulation at most to 11400.00 seconds\u001b[0m\n"
     ]
    },
    {
     "name": "stderr",
     "output_type": "stream",
     "text": [
      "\u001b[90;3m2024-06-21 15:53:33,649 \u001b[0m\u001b[36msats.satellite.Scanner-1       \u001b[0m\u001b[mINFO       \u001b[0m\u001b[33m<9660.00> \u001b[0m\u001b[36mScanner-1: \u001b[0m\u001b[mtimed termination at 9660.0 for action_charge\u001b[0m\n"
     ]
    },
    {
     "name": "stderr",
     "output_type": "stream",
     "text": [
      "\u001b[90;3m2024-06-21 15:53:33,649 \u001b[0m\u001b[mdata.base                      \u001b[0m\u001b[mINFO       \u001b[0m\u001b[33m<9660.00> \u001b[0m\u001b[mData reward: {'Scanner-1_4913732896': 0.0}\u001b[0m\n"
     ]
    },
    {
     "name": "stderr",
     "output_type": "stream",
     "text": [
      "\u001b[90;3m2024-06-21 15:53:33,650 \u001b[0m\u001b[mgym                            \u001b[0m\u001b[mINFO       \u001b[0m\u001b[33m<9660.00> \u001b[0m\u001b[mSatellites requiring retasking: ['Scanner-1_4913732896']\u001b[0m\n"
     ]
    },
    {
     "name": "stderr",
     "output_type": "stream",
     "text": [
      "\u001b[90;3m2024-06-21 15:53:33,650 \u001b[0m\u001b[mgym                            \u001b[0m\u001b[mINFO       \u001b[0m\u001b[33m<9660.00> \u001b[0m\u001b[mStep reward: 0.0\u001b[0m\n"
     ]
    },
    {
     "name": "stderr",
     "output_type": "stream",
     "text": [
      "\u001b[90;3m2024-06-21 15:53:33,651 \u001b[0m\u001b[mgym                            \u001b[0m\u001b[mINFO       \u001b[0m\u001b[33m<9660.00> \u001b[0m\u001b[93;1m=== STARTING STEP ===\u001b[0m\n"
     ]
    },
    {
     "name": "stderr",
     "output_type": "stream",
     "text": [
      "\u001b[90;3m2024-06-21 15:53:33,651 \u001b[0m\u001b[36msats.satellite.Scanner-1       \u001b[0m\u001b[mINFO       \u001b[0m\u001b[33m<9660.00> \u001b[0m\u001b[36mScanner-1: \u001b[0m\u001b[maction_charge tasked for 180.0 seconds\u001b[0m\n"
     ]
    },
    {
     "name": "stderr",
     "output_type": "stream",
     "text": [
      "\u001b[90;3m2024-06-21 15:53:33,651 \u001b[0m\u001b[36msats.satellite.Scanner-1       \u001b[0m\u001b[mINFO       \u001b[0m\u001b[33m<9660.00> \u001b[0m\u001b[36mScanner-1: \u001b[0m\u001b[msetting timed terminal event at 9840.0\u001b[0m\n"
     ]
    },
    {
     "name": "stderr",
     "output_type": "stream",
     "text": [
      "\u001b[90;3m2024-06-21 15:53:33,651 \u001b[0m\u001b[msim.simulator                  \u001b[0m\u001b[mINFO       \u001b[0m\u001b[33m<9660.00> \u001b[0m\u001b[mRunning simulation at most to 11400.00 seconds\u001b[0m\n"
     ]
    },
    {
     "name": "stderr",
     "output_type": "stream",
     "text": [
      "\u001b[90;3m2024-06-21 15:53:33,661 \u001b[0m\u001b[36msats.satellite.Scanner-1       \u001b[0m\u001b[mINFO       \u001b[0m\u001b[33m<9840.00> \u001b[0m\u001b[36mScanner-1: \u001b[0m\u001b[mtimed termination at 9840.0 for action_charge\u001b[0m\n"
     ]
    },
    {
     "name": "stderr",
     "output_type": "stream",
     "text": [
      "\u001b[90;3m2024-06-21 15:53:33,661 \u001b[0m\u001b[mdata.base                      \u001b[0m\u001b[mINFO       \u001b[0m\u001b[33m<9840.00> \u001b[0m\u001b[mData reward: {'Scanner-1_4913732896': 0.0}\u001b[0m\n"
     ]
    },
    {
     "name": "stderr",
     "output_type": "stream",
     "text": [
      "\u001b[90;3m2024-06-21 15:53:33,662 \u001b[0m\u001b[mgym                            \u001b[0m\u001b[mINFO       \u001b[0m\u001b[33m<9840.00> \u001b[0m\u001b[mSatellites requiring retasking: ['Scanner-1_4913732896']\u001b[0m\n"
     ]
    },
    {
     "name": "stderr",
     "output_type": "stream",
     "text": [
      "\u001b[90;3m2024-06-21 15:53:33,662 \u001b[0m\u001b[mgym                            \u001b[0m\u001b[mINFO       \u001b[0m\u001b[33m<9840.00> \u001b[0m\u001b[mStep reward: 0.0\u001b[0m\n"
     ]
    },
    {
     "name": "stderr",
     "output_type": "stream",
     "text": [
      "\u001b[90;3m2024-06-21 15:53:33,663 \u001b[0m\u001b[mgym                            \u001b[0m\u001b[mINFO       \u001b[0m\u001b[33m<9840.00> \u001b[0m\u001b[93;1m=== STARTING STEP ===\u001b[0m\n"
     ]
    },
    {
     "name": "stderr",
     "output_type": "stream",
     "text": [
      "\u001b[90;3m2024-06-21 15:53:33,663 \u001b[0m\u001b[36msats.satellite.Scanner-1       \u001b[0m\u001b[mINFO       \u001b[0m\u001b[33m<9840.00> \u001b[0m\u001b[36mScanner-1: \u001b[0m\u001b[maction_charge tasked for 180.0 seconds\u001b[0m\n"
     ]
    },
    {
     "name": "stderr",
     "output_type": "stream",
     "text": [
      "\u001b[90;3m2024-06-21 15:53:33,663 \u001b[0m\u001b[36msats.satellite.Scanner-1       \u001b[0m\u001b[mINFO       \u001b[0m\u001b[33m<9840.00> \u001b[0m\u001b[36mScanner-1: \u001b[0m\u001b[msetting timed terminal event at 10020.0\u001b[0m\n"
     ]
    },
    {
     "name": "stderr",
     "output_type": "stream",
     "text": [
      "\u001b[90;3m2024-06-21 15:53:33,663 \u001b[0m\u001b[msim.simulator                  \u001b[0m\u001b[mINFO       \u001b[0m\u001b[33m<9840.00> \u001b[0m\u001b[mRunning simulation at most to 11400.00 seconds\u001b[0m\n"
     ]
    },
    {
     "name": "stderr",
     "output_type": "stream",
     "text": [
      "\u001b[90;3m2024-06-21 15:53:33,673 \u001b[0m\u001b[36msats.satellite.Scanner-1       \u001b[0m\u001b[mINFO       \u001b[0m\u001b[33m<10020.00> \u001b[0m\u001b[36mScanner-1: \u001b[0m\u001b[mtimed termination at 10020.0 for action_charge\u001b[0m\n"
     ]
    },
    {
     "name": "stderr",
     "output_type": "stream",
     "text": [
      "\u001b[90;3m2024-06-21 15:53:33,673 \u001b[0m\u001b[mdata.base                      \u001b[0m\u001b[mINFO       \u001b[0m\u001b[33m<10020.00> \u001b[0m\u001b[mData reward: {'Scanner-1_4913732896': 0.0}\u001b[0m\n"
     ]
    },
    {
     "name": "stderr",
     "output_type": "stream",
     "text": [
      "\u001b[90;3m2024-06-21 15:53:33,674 \u001b[0m\u001b[mgym                            \u001b[0m\u001b[mINFO       \u001b[0m\u001b[33m<10020.00> \u001b[0m\u001b[mSatellites requiring retasking: ['Scanner-1_4913732896']\u001b[0m\n"
     ]
    },
    {
     "name": "stderr",
     "output_type": "stream",
     "text": [
      "\u001b[90;3m2024-06-21 15:53:33,674 \u001b[0m\u001b[mgym                            \u001b[0m\u001b[mINFO       \u001b[0m\u001b[33m<10020.00> \u001b[0m\u001b[mStep reward: 0.0\u001b[0m\n"
     ]
    },
    {
     "name": "stderr",
     "output_type": "stream",
     "text": [
      "\u001b[90;3m2024-06-21 15:53:33,674 \u001b[0m\u001b[mgym                            \u001b[0m\u001b[mINFO       \u001b[0m\u001b[33m<10020.00> \u001b[0m\u001b[93;1m=== STARTING STEP ===\u001b[0m\n"
     ]
    },
    {
     "name": "stderr",
     "output_type": "stream",
     "text": [
      "\u001b[90;3m2024-06-21 15:53:33,675 \u001b[0m\u001b[36msats.satellite.Scanner-1       \u001b[0m\u001b[mINFO       \u001b[0m\u001b[33m<10020.00> \u001b[0m\u001b[36mScanner-1: \u001b[0m\u001b[maction_desat tasked for 60.0 seconds\u001b[0m\n"
     ]
    },
    {
     "name": "stderr",
     "output_type": "stream",
     "text": [
      "\u001b[90;3m2024-06-21 15:53:33,675 \u001b[0m\u001b[36msats.satellite.Scanner-1       \u001b[0m\u001b[mINFO       \u001b[0m\u001b[33m<10020.00> \u001b[0m\u001b[36mScanner-1: \u001b[0m\u001b[msetting timed terminal event at 10080.0\u001b[0m\n"
     ]
    },
    {
     "name": "stderr",
     "output_type": "stream",
     "text": [
      "\u001b[90;3m2024-06-21 15:53:33,675 \u001b[0m\u001b[msim.simulator                  \u001b[0m\u001b[mINFO       \u001b[0m\u001b[33m<10020.00> \u001b[0m\u001b[mRunning simulation at most to 11400.00 seconds\u001b[0m\n"
     ]
    },
    {
     "name": "stderr",
     "output_type": "stream",
     "text": [
      "\u001b[90;3m2024-06-21 15:53:33,679 \u001b[0m\u001b[36msats.satellite.Scanner-1       \u001b[0m\u001b[mINFO       \u001b[0m\u001b[33m<10080.00> \u001b[0m\u001b[36mScanner-1: \u001b[0m\u001b[mtimed termination at 10080.0 for action_desat\u001b[0m\n"
     ]
    },
    {
     "name": "stderr",
     "output_type": "stream",
     "text": [
      "\u001b[90;3m2024-06-21 15:53:33,679 \u001b[0m\u001b[mdata.base                      \u001b[0m\u001b[mINFO       \u001b[0m\u001b[33m<10080.00> \u001b[0m\u001b[mData reward: {'Scanner-1_4913732896': 0.0}\u001b[0m\n"
     ]
    },
    {
     "name": "stderr",
     "output_type": "stream",
     "text": [
      "\u001b[90;3m2024-06-21 15:53:33,680 \u001b[0m\u001b[mgym                            \u001b[0m\u001b[mINFO       \u001b[0m\u001b[33m<10080.00> \u001b[0m\u001b[mSatellites requiring retasking: ['Scanner-1_4913732896']\u001b[0m\n"
     ]
    },
    {
     "name": "stderr",
     "output_type": "stream",
     "text": [
      "\u001b[90;3m2024-06-21 15:53:33,680 \u001b[0m\u001b[mgym                            \u001b[0m\u001b[mINFO       \u001b[0m\u001b[33m<10080.00> \u001b[0m\u001b[mStep reward: 0.0\u001b[0m\n"
     ]
    },
    {
     "name": "stderr",
     "output_type": "stream",
     "text": [
      "\u001b[90;3m2024-06-21 15:53:33,680 \u001b[0m\u001b[mgym                            \u001b[0m\u001b[mINFO       \u001b[0m\u001b[33m<10080.00> \u001b[0m\u001b[93;1m=== STARTING STEP ===\u001b[0m\n"
     ]
    },
    {
     "name": "stderr",
     "output_type": "stream",
     "text": [
      "\u001b[90;3m2024-06-21 15:53:33,680 \u001b[0m\u001b[36msats.satellite.Scanner-1       \u001b[0m\u001b[mINFO       \u001b[0m\u001b[33m<10080.00> \u001b[0m\u001b[36mScanner-1: \u001b[0m\u001b[maction_desat tasked for 60.0 seconds\u001b[0m\n"
     ]
    },
    {
     "name": "stderr",
     "output_type": "stream",
     "text": [
      "\u001b[90;3m2024-06-21 15:53:33,680 \u001b[0m\u001b[36msats.satellite.Scanner-1       \u001b[0m\u001b[mINFO       \u001b[0m\u001b[33m<10080.00> \u001b[0m\u001b[36mScanner-1: \u001b[0m\u001b[msetting timed terminal event at 10140.0\u001b[0m\n"
     ]
    },
    {
     "name": "stderr",
     "output_type": "stream",
     "text": [
      "\u001b[90;3m2024-06-21 15:53:33,681 \u001b[0m\u001b[msim.simulator                  \u001b[0m\u001b[mINFO       \u001b[0m\u001b[33m<10080.00> \u001b[0m\u001b[mRunning simulation at most to 11400.00 seconds\u001b[0m\n"
     ]
    },
    {
     "name": "stderr",
     "output_type": "stream",
     "text": [
      "\u001b[90;3m2024-06-21 15:53:33,684 \u001b[0m\u001b[36msats.satellite.Scanner-1       \u001b[0m\u001b[mINFO       \u001b[0m\u001b[33m<10140.00> \u001b[0m\u001b[36mScanner-1: \u001b[0m\u001b[mtimed termination at 10140.0 for action_desat\u001b[0m\n"
     ]
    },
    {
     "name": "stderr",
     "output_type": "stream",
     "text": [
      "\u001b[90;3m2024-06-21 15:53:33,685 \u001b[0m\u001b[mdata.base                      \u001b[0m\u001b[mINFO       \u001b[0m\u001b[33m<10140.00> \u001b[0m\u001b[mData reward: {'Scanner-1_4913732896': 0.0}\u001b[0m\n"
     ]
    },
    {
     "name": "stderr",
     "output_type": "stream",
     "text": [
      "\u001b[90;3m2024-06-21 15:53:33,685 \u001b[0m\u001b[mgym                            \u001b[0m\u001b[mINFO       \u001b[0m\u001b[33m<10140.00> \u001b[0m\u001b[mSatellites requiring retasking: ['Scanner-1_4913732896']\u001b[0m\n"
     ]
    },
    {
     "name": "stderr",
     "output_type": "stream",
     "text": [
      "\u001b[90;3m2024-06-21 15:53:33,685 \u001b[0m\u001b[mgym                            \u001b[0m\u001b[mINFO       \u001b[0m\u001b[33m<10140.00> \u001b[0m\u001b[mStep reward: 0.0\u001b[0m\n"
     ]
    },
    {
     "name": "stderr",
     "output_type": "stream",
     "text": [
      "\u001b[90;3m2024-06-21 15:53:33,686 \u001b[0m\u001b[mgym                            \u001b[0m\u001b[mINFO       \u001b[0m\u001b[33m<10140.00> \u001b[0m\u001b[93;1m=== STARTING STEP ===\u001b[0m\n"
     ]
    },
    {
     "name": "stderr",
     "output_type": "stream",
     "text": [
      "\u001b[90;3m2024-06-21 15:53:33,686 \u001b[0m\u001b[36msats.satellite.Scanner-1       \u001b[0m\u001b[mINFO       \u001b[0m\u001b[33m<10140.00> \u001b[0m\u001b[36mScanner-1: \u001b[0m\u001b[maction_desat tasked for 60.0 seconds\u001b[0m\n"
     ]
    },
    {
     "name": "stderr",
     "output_type": "stream",
     "text": [
      "\u001b[90;3m2024-06-21 15:53:33,686 \u001b[0m\u001b[36msats.satellite.Scanner-1       \u001b[0m\u001b[mINFO       \u001b[0m\u001b[33m<10140.00> \u001b[0m\u001b[36mScanner-1: \u001b[0m\u001b[msetting timed terminal event at 10200.0\u001b[0m\n"
     ]
    },
    {
     "name": "stderr",
     "output_type": "stream",
     "text": [
      "\u001b[90;3m2024-06-21 15:53:33,686 \u001b[0m\u001b[msim.simulator                  \u001b[0m\u001b[mINFO       \u001b[0m\u001b[33m<10140.00> \u001b[0m\u001b[mRunning simulation at most to 11400.00 seconds\u001b[0m\n"
     ]
    },
    {
     "name": "stderr",
     "output_type": "stream",
     "text": [
      "\u001b[90;3m2024-06-21 15:53:33,690 \u001b[0m\u001b[36msats.satellite.Scanner-1       \u001b[0m\u001b[mINFO       \u001b[0m\u001b[33m<10200.00> \u001b[0m\u001b[36mScanner-1: \u001b[0m\u001b[mtimed termination at 10200.0 for action_desat\u001b[0m\n"
     ]
    },
    {
     "name": "stderr",
     "output_type": "stream",
     "text": [
      "\u001b[90;3m2024-06-21 15:53:33,690 \u001b[0m\u001b[mdata.base                      \u001b[0m\u001b[mINFO       \u001b[0m\u001b[33m<10200.00> \u001b[0m\u001b[mData reward: {'Scanner-1_4913732896': 0.0}\u001b[0m\n"
     ]
    },
    {
     "name": "stderr",
     "output_type": "stream",
     "text": [
      "\u001b[90;3m2024-06-21 15:53:33,691 \u001b[0m\u001b[mgym                            \u001b[0m\u001b[mINFO       \u001b[0m\u001b[33m<10200.00> \u001b[0m\u001b[mSatellites requiring retasking: ['Scanner-1_4913732896']\u001b[0m\n"
     ]
    },
    {
     "name": "stderr",
     "output_type": "stream",
     "text": [
      "\u001b[90;3m2024-06-21 15:53:33,691 \u001b[0m\u001b[mgym                            \u001b[0m\u001b[mINFO       \u001b[0m\u001b[33m<10200.00> \u001b[0m\u001b[mStep reward: 0.0\u001b[0m\n"
     ]
    },
    {
     "name": "stderr",
     "output_type": "stream",
     "text": [
      "\u001b[90;3m2024-06-21 15:53:33,691 \u001b[0m\u001b[mgym                            \u001b[0m\u001b[mINFO       \u001b[0m\u001b[33m<10200.00> \u001b[0m\u001b[93;1m=== STARTING STEP ===\u001b[0m\n"
     ]
    },
    {
     "name": "stderr",
     "output_type": "stream",
     "text": [
      "\u001b[90;3m2024-06-21 15:53:33,691 \u001b[0m\u001b[36msats.satellite.Scanner-1       \u001b[0m\u001b[mINFO       \u001b[0m\u001b[33m<10200.00> \u001b[0m\u001b[36mScanner-1: \u001b[0m\u001b[maction_charge tasked for 180.0 seconds\u001b[0m\n"
     ]
    },
    {
     "name": "stderr",
     "output_type": "stream",
     "text": [
      "\u001b[90;3m2024-06-21 15:53:33,692 \u001b[0m\u001b[36msats.satellite.Scanner-1       \u001b[0m\u001b[mINFO       \u001b[0m\u001b[33m<10200.00> \u001b[0m\u001b[36mScanner-1: \u001b[0m\u001b[msetting timed terminal event at 10380.0\u001b[0m\n"
     ]
    },
    {
     "name": "stderr",
     "output_type": "stream",
     "text": [
      "\u001b[90;3m2024-06-21 15:53:33,692 \u001b[0m\u001b[msim.simulator                  \u001b[0m\u001b[mINFO       \u001b[0m\u001b[33m<10200.00> \u001b[0m\u001b[mRunning simulation at most to 11400.00 seconds\u001b[0m\n"
     ]
    },
    {
     "name": "stderr",
     "output_type": "stream",
     "text": [
      "\u001b[90;3m2024-06-21 15:53:33,702 \u001b[0m\u001b[36msats.satellite.Scanner-1       \u001b[0m\u001b[mINFO       \u001b[0m\u001b[33m<10380.00> \u001b[0m\u001b[36mScanner-1: \u001b[0m\u001b[mtimed termination at 10380.0 for action_charge\u001b[0m\n"
     ]
    },
    {
     "name": "stderr",
     "output_type": "stream",
     "text": [
      "\u001b[90;3m2024-06-21 15:53:33,702 \u001b[0m\u001b[mdata.base                      \u001b[0m\u001b[mINFO       \u001b[0m\u001b[33m<10380.00> \u001b[0m\u001b[mData reward: {'Scanner-1_4913732896': 0.0}\u001b[0m\n"
     ]
    },
    {
     "name": "stderr",
     "output_type": "stream",
     "text": [
      "\u001b[90;3m2024-06-21 15:53:33,748 \u001b[0m\u001b[mgym                            \u001b[0m\u001b[mINFO       \u001b[0m\u001b[33m<10380.00> \u001b[0m\u001b[mSatellites requiring retasking: ['Scanner-1_4913732896']\u001b[0m\n"
     ]
    },
    {
     "name": "stderr",
     "output_type": "stream",
     "text": [
      "\u001b[90;3m2024-06-21 15:53:33,748 \u001b[0m\u001b[mgym                            \u001b[0m\u001b[mINFO       \u001b[0m\u001b[33m<10380.00> \u001b[0m\u001b[mStep reward: 0.0\u001b[0m\n"
     ]
    },
    {
     "name": "stderr",
     "output_type": "stream",
     "text": [
      "\u001b[90;3m2024-06-21 15:53:33,749 \u001b[0m\u001b[mgym                            \u001b[0m\u001b[mINFO       \u001b[0m\u001b[33m<10380.00> \u001b[0m\u001b[93;1m=== STARTING STEP ===\u001b[0m\n"
     ]
    },
    {
     "name": "stderr",
     "output_type": "stream",
     "text": [
      "\u001b[90;3m2024-06-21 15:53:33,749 \u001b[0m\u001b[36msats.satellite.Scanner-1       \u001b[0m\u001b[mINFO       \u001b[0m\u001b[33m<10380.00> \u001b[0m\u001b[36mScanner-1: \u001b[0m\u001b[maction_charge tasked for 180.0 seconds\u001b[0m\n"
     ]
    },
    {
     "name": "stderr",
     "output_type": "stream",
     "text": [
      "\u001b[90;3m2024-06-21 15:53:33,749 \u001b[0m\u001b[36msats.satellite.Scanner-1       \u001b[0m\u001b[mINFO       \u001b[0m\u001b[33m<10380.00> \u001b[0m\u001b[36mScanner-1: \u001b[0m\u001b[msetting timed terminal event at 10560.0\u001b[0m\n"
     ]
    },
    {
     "name": "stderr",
     "output_type": "stream",
     "text": [
      "\u001b[90;3m2024-06-21 15:53:33,749 \u001b[0m\u001b[msim.simulator                  \u001b[0m\u001b[mINFO       \u001b[0m\u001b[33m<10380.00> \u001b[0m\u001b[mRunning simulation at most to 11400.00 seconds\u001b[0m\n"
     ]
    },
    {
     "name": "stderr",
     "output_type": "stream",
     "text": [
      "\u001b[90;3m2024-06-21 15:53:33,759 \u001b[0m\u001b[36msats.satellite.Scanner-1       \u001b[0m\u001b[mINFO       \u001b[0m\u001b[33m<10560.00> \u001b[0m\u001b[36mScanner-1: \u001b[0m\u001b[mtimed termination at 10560.0 for action_charge\u001b[0m\n"
     ]
    },
    {
     "name": "stderr",
     "output_type": "stream",
     "text": [
      "\u001b[90;3m2024-06-21 15:53:33,760 \u001b[0m\u001b[mdata.base                      \u001b[0m\u001b[mINFO       \u001b[0m\u001b[33m<10560.00> \u001b[0m\u001b[mData reward: {'Scanner-1_4913732896': 0.0}\u001b[0m\n"
     ]
    },
    {
     "name": "stderr",
     "output_type": "stream",
     "text": [
      "\u001b[90;3m2024-06-21 15:53:33,760 \u001b[0m\u001b[mgym                            \u001b[0m\u001b[mINFO       \u001b[0m\u001b[33m<10560.00> \u001b[0m\u001b[mSatellites requiring retasking: ['Scanner-1_4913732896']\u001b[0m\n"
     ]
    },
    {
     "name": "stderr",
     "output_type": "stream",
     "text": [
      "\u001b[90;3m2024-06-21 15:53:33,761 \u001b[0m\u001b[mgym                            \u001b[0m\u001b[mINFO       \u001b[0m\u001b[33m<10560.00> \u001b[0m\u001b[mStep reward: 0.0\u001b[0m\n"
     ]
    },
    {
     "name": "stderr",
     "output_type": "stream",
     "text": [
      "\u001b[90;3m2024-06-21 15:53:33,761 \u001b[0m\u001b[mgym                            \u001b[0m\u001b[mINFO       \u001b[0m\u001b[33m<10560.00> \u001b[0m\u001b[93;1m=== STARTING STEP ===\u001b[0m\n"
     ]
    },
    {
     "name": "stderr",
     "output_type": "stream",
     "text": [
      "\u001b[90;3m2024-06-21 15:53:33,761 \u001b[0m\u001b[36msats.satellite.Scanner-1       \u001b[0m\u001b[mINFO       \u001b[0m\u001b[33m<10560.00> \u001b[0m\u001b[36mScanner-1: \u001b[0m\u001b[maction_desat tasked for 60.0 seconds\u001b[0m\n"
     ]
    },
    {
     "name": "stderr",
     "output_type": "stream",
     "text": [
      "\u001b[90;3m2024-06-21 15:53:33,761 \u001b[0m\u001b[36msats.satellite.Scanner-1       \u001b[0m\u001b[mINFO       \u001b[0m\u001b[33m<10560.00> \u001b[0m\u001b[36mScanner-1: \u001b[0m\u001b[msetting timed terminal event at 10620.0\u001b[0m\n"
     ]
    },
    {
     "name": "stderr",
     "output_type": "stream",
     "text": [
      "\u001b[90;3m2024-06-21 15:53:33,761 \u001b[0m\u001b[msim.simulator                  \u001b[0m\u001b[mINFO       \u001b[0m\u001b[33m<10560.00> \u001b[0m\u001b[mRunning simulation at most to 11400.00 seconds\u001b[0m\n"
     ]
    },
    {
     "name": "stderr",
     "output_type": "stream",
     "text": [
      "\u001b[90;3m2024-06-21 15:53:33,765 \u001b[0m\u001b[36msats.satellite.Scanner-1       \u001b[0m\u001b[mINFO       \u001b[0m\u001b[33m<10620.00> \u001b[0m\u001b[36mScanner-1: \u001b[0m\u001b[mtimed termination at 10620.0 for action_desat\u001b[0m\n"
     ]
    },
    {
     "name": "stderr",
     "output_type": "stream",
     "text": [
      "\u001b[90;3m2024-06-21 15:53:33,765 \u001b[0m\u001b[mdata.base                      \u001b[0m\u001b[mINFO       \u001b[0m\u001b[33m<10620.00> \u001b[0m\u001b[mData reward: {'Scanner-1_4913732896': 0.0}\u001b[0m\n"
     ]
    },
    {
     "name": "stderr",
     "output_type": "stream",
     "text": [
      "\u001b[90;3m2024-06-21 15:53:33,766 \u001b[0m\u001b[mgym                            \u001b[0m\u001b[mINFO       \u001b[0m\u001b[33m<10620.00> \u001b[0m\u001b[mSatellites requiring retasking: ['Scanner-1_4913732896']\u001b[0m\n"
     ]
    },
    {
     "name": "stderr",
     "output_type": "stream",
     "text": [
      "\u001b[90;3m2024-06-21 15:53:33,766 \u001b[0m\u001b[mgym                            \u001b[0m\u001b[mINFO       \u001b[0m\u001b[33m<10620.00> \u001b[0m\u001b[mStep reward: 0.0\u001b[0m\n"
     ]
    },
    {
     "name": "stderr",
     "output_type": "stream",
     "text": [
      "\u001b[90;3m2024-06-21 15:53:33,766 \u001b[0m\u001b[mgym                            \u001b[0m\u001b[mINFO       \u001b[0m\u001b[33m<10620.00> \u001b[0m\u001b[93;1m=== STARTING STEP ===\u001b[0m\n"
     ]
    },
    {
     "name": "stderr",
     "output_type": "stream",
     "text": [
      "\u001b[90;3m2024-06-21 15:53:33,767 \u001b[0m\u001b[36msats.satellite.Scanner-1       \u001b[0m\u001b[mINFO       \u001b[0m\u001b[33m<10620.00> \u001b[0m\u001b[36mScanner-1: \u001b[0m\u001b[maction_desat tasked for 60.0 seconds\u001b[0m\n"
     ]
    },
    {
     "name": "stderr",
     "output_type": "stream",
     "text": [
      "\u001b[90;3m2024-06-21 15:53:33,767 \u001b[0m\u001b[36msats.satellite.Scanner-1       \u001b[0m\u001b[mINFO       \u001b[0m\u001b[33m<10620.00> \u001b[0m\u001b[36mScanner-1: \u001b[0m\u001b[msetting timed terminal event at 10680.0\u001b[0m\n"
     ]
    },
    {
     "name": "stderr",
     "output_type": "stream",
     "text": [
      "\u001b[90;3m2024-06-21 15:53:33,767 \u001b[0m\u001b[msim.simulator                  \u001b[0m\u001b[mINFO       \u001b[0m\u001b[33m<10620.00> \u001b[0m\u001b[mRunning simulation at most to 11400.00 seconds\u001b[0m\n"
     ]
    },
    {
     "name": "stderr",
     "output_type": "stream",
     "text": [
      "\u001b[90;3m2024-06-21 15:53:33,771 \u001b[0m\u001b[36msats.satellite.Scanner-1       \u001b[0m\u001b[mINFO       \u001b[0m\u001b[33m<10680.00> \u001b[0m\u001b[36mScanner-1: \u001b[0m\u001b[mtimed termination at 10680.0 for action_desat\u001b[0m\n"
     ]
    },
    {
     "name": "stderr",
     "output_type": "stream",
     "text": [
      "\u001b[90;3m2024-06-21 15:53:33,771 \u001b[0m\u001b[mdata.base                      \u001b[0m\u001b[mINFO       \u001b[0m\u001b[33m<10680.00> \u001b[0m\u001b[mData reward: {'Scanner-1_4913732896': 0.0}\u001b[0m\n"
     ]
    },
    {
     "name": "stderr",
     "output_type": "stream",
     "text": [
      "\u001b[90;3m2024-06-21 15:53:33,772 \u001b[0m\u001b[mgym                            \u001b[0m\u001b[mINFO       \u001b[0m\u001b[33m<10680.00> \u001b[0m\u001b[mSatellites requiring retasking: ['Scanner-1_4913732896']\u001b[0m\n"
     ]
    },
    {
     "name": "stderr",
     "output_type": "stream",
     "text": [
      "\u001b[90;3m2024-06-21 15:53:33,772 \u001b[0m\u001b[mgym                            \u001b[0m\u001b[mINFO       \u001b[0m\u001b[33m<10680.00> \u001b[0m\u001b[mStep reward: 0.0\u001b[0m\n"
     ]
    },
    {
     "name": "stderr",
     "output_type": "stream",
     "text": [
      "\u001b[90;3m2024-06-21 15:53:33,772 \u001b[0m\u001b[mgym                            \u001b[0m\u001b[mINFO       \u001b[0m\u001b[33m<10680.00> \u001b[0m\u001b[93;1m=== STARTING STEP ===\u001b[0m\n"
     ]
    },
    {
     "name": "stderr",
     "output_type": "stream",
     "text": [
      "\u001b[90;3m2024-06-21 15:53:33,773 \u001b[0m\u001b[36msats.satellite.Scanner-1       \u001b[0m\u001b[mINFO       \u001b[0m\u001b[33m<10680.00> \u001b[0m\u001b[36mScanner-1: \u001b[0m\u001b[maction_nadir_scan tasked for 180.0 seconds\u001b[0m\n"
     ]
    },
    {
     "name": "stderr",
     "output_type": "stream",
     "text": [
      "\u001b[90;3m2024-06-21 15:53:33,773 \u001b[0m\u001b[36msats.satellite.Scanner-1       \u001b[0m\u001b[mINFO       \u001b[0m\u001b[33m<10680.00> \u001b[0m\u001b[36mScanner-1: \u001b[0m\u001b[msetting timed terminal event at 10860.0\u001b[0m\n"
     ]
    },
    {
     "name": "stderr",
     "output_type": "stream",
     "text": [
      "\u001b[90;3m2024-06-21 15:53:33,773 \u001b[0m\u001b[msim.simulator                  \u001b[0m\u001b[mINFO       \u001b[0m\u001b[33m<10680.00> \u001b[0m\u001b[mRunning simulation at most to 11400.00 seconds\u001b[0m\n"
     ]
    },
    {
     "name": "stderr",
     "output_type": "stream",
     "text": [
      "\u001b[90;3m2024-06-21 15:53:33,783 \u001b[0m\u001b[36msats.satellite.Scanner-1       \u001b[0m\u001b[mINFO       \u001b[0m\u001b[33m<10860.00> \u001b[0m\u001b[36mScanner-1: \u001b[0m\u001b[mtimed termination at 10860.0 for action_nadir_scan\u001b[0m\n"
     ]
    },
    {
     "name": "stderr",
     "output_type": "stream",
     "text": [
      "\u001b[90;3m2024-06-21 15:53:33,784 \u001b[0m\u001b[mdata.base                      \u001b[0m\u001b[mINFO       \u001b[0m\u001b[33m<10860.00> \u001b[0m\u001b[mData reward: {'Scanner-1_4913732896': 0.012368421052631579}\u001b[0m\n"
     ]
    },
    {
     "name": "stderr",
     "output_type": "stream",
     "text": [
      "\u001b[90;3m2024-06-21 15:53:33,784 \u001b[0m\u001b[mgym                            \u001b[0m\u001b[mINFO       \u001b[0m\u001b[33m<10860.00> \u001b[0m\u001b[mSatellites requiring retasking: ['Scanner-1_4913732896']\u001b[0m\n"
     ]
    },
    {
     "name": "stderr",
     "output_type": "stream",
     "text": [
      "\u001b[90;3m2024-06-21 15:53:33,785 \u001b[0m\u001b[mgym                            \u001b[0m\u001b[mINFO       \u001b[0m\u001b[33m<10860.00> \u001b[0m\u001b[mStep reward: 0.012368421052631579\u001b[0m\n"
     ]
    },
    {
     "name": "stderr",
     "output_type": "stream",
     "text": [
      "\u001b[90;3m2024-06-21 15:53:33,785 \u001b[0m\u001b[mgym                            \u001b[0m\u001b[mINFO       \u001b[0m\u001b[33m<10860.00> \u001b[0m\u001b[93;1m=== STARTING STEP ===\u001b[0m\n"
     ]
    },
    {
     "name": "stderr",
     "output_type": "stream",
     "text": [
      "\u001b[90;3m2024-06-21 15:53:33,785 \u001b[0m\u001b[36msats.satellite.Scanner-1       \u001b[0m\u001b[mINFO       \u001b[0m\u001b[33m<10860.00> \u001b[0m\u001b[36mScanner-1: \u001b[0m\u001b[maction_charge tasked for 180.0 seconds\u001b[0m\n"
     ]
    },
    {
     "name": "stderr",
     "output_type": "stream",
     "text": [
      "\u001b[90;3m2024-06-21 15:53:33,785 \u001b[0m\u001b[36msats.satellite.Scanner-1       \u001b[0m\u001b[mINFO       \u001b[0m\u001b[33m<10860.00> \u001b[0m\u001b[36mScanner-1: \u001b[0m\u001b[msetting timed terminal event at 11040.0\u001b[0m\n"
     ]
    },
    {
     "name": "stderr",
     "output_type": "stream",
     "text": [
      "\u001b[90;3m2024-06-21 15:53:33,786 \u001b[0m\u001b[msim.simulator                  \u001b[0m\u001b[mINFO       \u001b[0m\u001b[33m<10860.00> \u001b[0m\u001b[mRunning simulation at most to 11400.00 seconds\u001b[0m\n"
     ]
    },
    {
     "name": "stderr",
     "output_type": "stream",
     "text": [
      "\u001b[90;3m2024-06-21 15:53:33,796 \u001b[0m\u001b[36msats.satellite.Scanner-1       \u001b[0m\u001b[mINFO       \u001b[0m\u001b[33m<11040.00> \u001b[0m\u001b[36mScanner-1: \u001b[0m\u001b[mtimed termination at 11040.0 for action_charge\u001b[0m\n"
     ]
    },
    {
     "name": "stderr",
     "output_type": "stream",
     "text": [
      "\u001b[90;3m2024-06-21 15:53:33,796 \u001b[0m\u001b[mdata.base                      \u001b[0m\u001b[mINFO       \u001b[0m\u001b[33m<11040.00> \u001b[0m\u001b[mData reward: {'Scanner-1_4913732896': 0.0}\u001b[0m\n"
     ]
    },
    {
     "name": "stderr",
     "output_type": "stream",
     "text": [
      "\u001b[90;3m2024-06-21 15:53:33,796 \u001b[0m\u001b[36msats.satellite.Scanner-1       \u001b[0m\u001b[mINFO       \u001b[0m\u001b[33m<11040.00> \u001b[0m\u001b[36mScanner-1: \u001b[0m\u001b[mFinding opportunity windows from 11400.00 to 12000.00 seconds\u001b[0m\n"
     ]
    },
    {
     "name": "stderr",
     "output_type": "stream",
     "text": [
      "\u001b[90;3m2024-06-21 15:53:33,801 \u001b[0m\u001b[36msats.satellite.Scanner-1       \u001b[0m\u001b[mINFO       \u001b[0m\u001b[33m<11040.00> \u001b[0m\u001b[36mScanner-1: \u001b[0m\u001b[mFinding opportunity windows from 12000.00 to 12600.00 seconds\u001b[0m\n"
     ]
    },
    {
     "name": "stderr",
     "output_type": "stream",
     "text": [
      "\u001b[90;3m2024-06-21 15:53:33,806 \u001b[0m\u001b[mgym                            \u001b[0m\u001b[mINFO       \u001b[0m\u001b[33m<11040.00> \u001b[0m\u001b[mSatellites requiring retasking: ['Scanner-1_4913732896']\u001b[0m\n"
     ]
    },
    {
     "name": "stderr",
     "output_type": "stream",
     "text": [
      "\u001b[90;3m2024-06-21 15:53:33,806 \u001b[0m\u001b[mgym                            \u001b[0m\u001b[mINFO       \u001b[0m\u001b[33m<11040.00> \u001b[0m\u001b[mStep reward: 0.0\u001b[0m\n"
     ]
    },
    {
     "name": "stderr",
     "output_type": "stream",
     "text": [
      "\u001b[90;3m2024-06-21 15:53:33,807 \u001b[0m\u001b[mgym                            \u001b[0m\u001b[mINFO       \u001b[0m\u001b[33m<11040.00> \u001b[0m\u001b[93;1m=== STARTING STEP ===\u001b[0m\n"
     ]
    },
    {
     "name": "stderr",
     "output_type": "stream",
     "text": [
      "\u001b[90;3m2024-06-21 15:53:33,807 \u001b[0m\u001b[36msats.satellite.Scanner-1       \u001b[0m\u001b[mINFO       \u001b[0m\u001b[33m<11040.00> \u001b[0m\u001b[36mScanner-1: \u001b[0m\u001b[maction_nadir_scan tasked for 180.0 seconds\u001b[0m\n"
     ]
    },
    {
     "name": "stderr",
     "output_type": "stream",
     "text": [
      "\u001b[90;3m2024-06-21 15:53:33,807 \u001b[0m\u001b[36msats.satellite.Scanner-1       \u001b[0m\u001b[mINFO       \u001b[0m\u001b[33m<11040.00> \u001b[0m\u001b[36mScanner-1: \u001b[0m\u001b[msetting timed terminal event at 11220.0\u001b[0m\n"
     ]
    },
    {
     "name": "stderr",
     "output_type": "stream",
     "text": [
      "\u001b[90;3m2024-06-21 15:53:33,807 \u001b[0m\u001b[msim.simulator                  \u001b[0m\u001b[mINFO       \u001b[0m\u001b[33m<11040.00> \u001b[0m\u001b[mRunning simulation at most to 11400.00 seconds\u001b[0m\n"
     ]
    },
    {
     "name": "stderr",
     "output_type": "stream",
     "text": [
      "\u001b[90;3m2024-06-21 15:53:33,818 \u001b[0m\u001b[36msats.satellite.Scanner-1       \u001b[0m\u001b[mINFO       \u001b[0m\u001b[33m<11220.00> \u001b[0m\u001b[36mScanner-1: \u001b[0m\u001b[mtimed termination at 11220.0 for action_nadir_scan\u001b[0m\n"
     ]
    },
    {
     "name": "stderr",
     "output_type": "stream",
     "text": [
      "\u001b[90;3m2024-06-21 15:53:33,818 \u001b[0m\u001b[mdata.base                      \u001b[0m\u001b[mINFO       \u001b[0m\u001b[33m<11220.00> \u001b[0m\u001b[mData reward: {'Scanner-1_4913732896': 0.013421052631578946}\u001b[0m\n"
     ]
    },
    {
     "name": "stderr",
     "output_type": "stream",
     "text": [
      "\u001b[90;3m2024-06-21 15:53:33,819 \u001b[0m\u001b[mgym                            \u001b[0m\u001b[mINFO       \u001b[0m\u001b[33m<11220.00> \u001b[0m\u001b[mSatellites requiring retasking: ['Scanner-1_4913732896']\u001b[0m\n"
     ]
    },
    {
     "name": "stderr",
     "output_type": "stream",
     "text": [
      "\u001b[90;3m2024-06-21 15:53:33,819 \u001b[0m\u001b[mgym                            \u001b[0m\u001b[mINFO       \u001b[0m\u001b[33m<11220.00> \u001b[0m\u001b[mStep reward: 0.013421052631578946\u001b[0m\n"
     ]
    },
    {
     "name": "stderr",
     "output_type": "stream",
     "text": [
      "\u001b[90;3m2024-06-21 15:53:33,819 \u001b[0m\u001b[mgym                            \u001b[0m\u001b[mINFO       \u001b[0m\u001b[33m<11220.00> \u001b[0m\u001b[93;1m=== STARTING STEP ===\u001b[0m\n"
     ]
    },
    {
     "name": "stderr",
     "output_type": "stream",
     "text": [
      "\u001b[90;3m2024-06-21 15:53:33,820 \u001b[0m\u001b[36msats.satellite.Scanner-1       \u001b[0m\u001b[mINFO       \u001b[0m\u001b[33m<11220.00> \u001b[0m\u001b[36mScanner-1: \u001b[0m\u001b[maction_nadir_scan tasked for 180.0 seconds\u001b[0m\n"
     ]
    },
    {
     "name": "stderr",
     "output_type": "stream",
     "text": [
      "\u001b[90;3m2024-06-21 15:53:33,820 \u001b[0m\u001b[36msats.satellite.Scanner-1       \u001b[0m\u001b[mINFO       \u001b[0m\u001b[33m<11220.00> \u001b[0m\u001b[36mScanner-1: \u001b[0m\u001b[msetting timed terminal event at 11400.0\u001b[0m\n"
     ]
    },
    {
     "name": "stderr",
     "output_type": "stream",
     "text": [
      "\u001b[90;3m2024-06-21 15:53:33,820 \u001b[0m\u001b[msim.simulator                  \u001b[0m\u001b[mINFO       \u001b[0m\u001b[33m<11220.00> \u001b[0m\u001b[mRunning simulation at most to 11400.00 seconds\u001b[0m\n"
     ]
    },
    {
     "name": "stderr",
     "output_type": "stream",
     "text": [
      "\u001b[90;3m2024-06-21 15:53:33,830 \u001b[0m\u001b[mdata.base                      \u001b[0m\u001b[mINFO       \u001b[0m\u001b[33m<11400.00> \u001b[0m\u001b[mData reward: {'Scanner-1_4913732896': 0.015789473684210527}\u001b[0m\n"
     ]
    },
    {
     "name": "stderr",
     "output_type": "stream",
     "text": [
      "\u001b[90;3m2024-06-21 15:53:33,831 \u001b[0m\u001b[mgym                            \u001b[0m\u001b[mINFO       \u001b[0m\u001b[33m<11400.00> \u001b[0m\u001b[mStep reward: 0.015789473684210527\u001b[0m\n"
     ]
    },
    {
     "name": "stderr",
     "output_type": "stream",
     "text": [
      "\u001b[90;3m2024-06-21 15:53:33,831 \u001b[0m\u001b[mgym                            \u001b[0m\u001b[mINFO       \u001b[0m\u001b[33m<11400.00> \u001b[0m\u001b[mEpisode terminated: True\u001b[0m\n"
     ]
    },
    {
     "name": "stderr",
     "output_type": "stream",
     "text": [
      "\u001b[90;3m2024-06-21 15:53:33,831 \u001b[0m\u001b[mgym                            \u001b[0m\u001b[mINFO       \u001b[0m\u001b[33m<11400.00> \u001b[0m\u001b[mEpisode truncated: True\u001b[0m\n"
     ]
    }
   ],
   "source": [
    "env = SatelliteTasking(**env_args, log_level=\"INFO\")\n",
    "env.reset()\n",
    "terminated = False\n",
    "while not terminated:\n",
    "    action = env.action_space.sample()\n",
    "    observation, reward, terminated, truncated, info = env.step(action)"
   ]
  }
 ],
 "metadata": {
  "kernelspec": {
   "display_name": "Python 3 (ipykernel)",
   "language": "python",
   "name": "python3"
  },
  "language_info": {
   "codemirror_mode": {
    "name": "ipython",
    "version": 3
   },
   "file_extension": ".py",
   "mimetype": "text/x-python",
   "name": "python",
   "nbconvert_exporter": "python",
   "pygments_lexer": "ipython3",
   "version": "3.10.11"
  }
 },
 "nbformat": 4,
 "nbformat_minor": 4
}
