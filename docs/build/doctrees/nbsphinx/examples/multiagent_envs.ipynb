{
 "cells": [
  {
   "cell_type": "markdown",
   "metadata": {},
   "source": [
    "# Multi-Agent Environments\n",
    "\n",
    "Two multiagent environments are given in the package:\n",
    "\n",
    "* [GeneralSatelliteTasking](../api_reference/index.rst#bsk_rl.GeneralSatelliteTasking), \n",
    "  a [Gymnasium](https://gymnasium.farama.org)-based environment and the basis for all other environments.\n",
    "* [ConstellationTasking](../api_reference/index.rst#bsk_rl.ConstellationTasking), which\n",
    "  implements the [PettingZoo parallel API](https://pettingzoo.farama.org/api/parallel/).\n",
    "\n",
    "The latter is preferable for multi-agent RL (MARL) settings, as most algorithms are designed\n",
    "for this kind of API.\n",
    "\n",
    "## Configuring the Environment\n",
    "\n",
    "For this example, a multisatellite target imaging environment will be used. The goal is\n",
    "to maximize the value of unique images taken.\n",
    "\n",
    "As usual, the satellite type is defined first."
   ]
  },
  {
   "cell_type": "code",
   "execution_count": 1,
   "metadata": {
    "execution": {
     "iopub.execute_input": "2024-07-24T21:33:49.421699Z",
     "iopub.status.busy": "2024-07-24T21:33:49.421556Z",
     "iopub.status.idle": "2024-07-24T21:33:50.319253Z",
     "shell.execute_reply": "2024-07-24T21:33:50.318978Z"
    }
   },
   "outputs": [],
   "source": [
    "from bsk_rl import sats, act, obs, scene, data, comm\n",
    "from bsk_rl.sim import dyn, fsw\n",
    "\n",
    "class ImagingSatellite(sats.ImagingSatellite):\n",
    "    observation_spec = [\n",
    "        obs.OpportunityProperties(\n",
    "            dict(prop=\"priority\"), \n",
    "            dict(prop=\"opportunity_open\", norm=5700.0),\n",
    "            n_ahead_observe=10,\n",
    "        )\n",
    "    ]\n",
    "    action_spec = [act.Image(n_ahead_image=10)]\n",
    "    dyn_type = dyn.FullFeaturedDynModel\n",
    "    fsw_type = fsw.SteeringImagerFSWModel"
   ]
  },
  {
   "cell_type": "markdown",
   "metadata": {},
   "source": [
    "Satellite properties are set to give the satellite near-unlimited power and storage\n",
    "resources, and put the satellite at a 800 km orbit."
   ]
  },
  {
   "cell_type": "code",
   "execution_count": 2,
   "metadata": {
    "execution": {
     "iopub.execute_input": "2024-07-24T21:33:50.321084Z",
     "iopub.status.busy": "2024-07-24T21:33:50.320940Z",
     "iopub.status.idle": "2024-07-24T21:33:50.323099Z",
     "shell.execute_reply": "2024-07-24T21:33:50.322862Z"
    }
   },
   "outputs": [],
   "source": [
    "\n",
    "from bsk_rl.utils.orbital import random_orbit\n",
    "\n",
    "sat_args = dict(\n",
    "    imageAttErrorRequirement=0.01,\n",
    "    imageRateErrorRequirement=0.01,\n",
    "    batteryStorageCapacity=1e9,\n",
    "    storedCharge_Init=1e9,\n",
    "    dataStorageCapacity=1e12,\n",
    "    u_max=0.4,\n",
    "    K1=0.25,\n",
    "    K3=3.0,\n",
    "    omega_max=0.087,\n",
    "    servo_Ki=5.0,\n",
    "    servo_P=150 / 5,\n",
    "    oe=lambda: random_orbit(alt=800),\n",
    ")"
   ]
  },
  {
   "cell_type": "markdown",
   "metadata": {},
   "source": [
    "## Gym API\n",
    "\n",
    "GeneralSatelliteTasking uses tuples of actions and observations to interact with the\n",
    "environment."
   ]
  },
  {
   "cell_type": "code",
   "execution_count": 3,
   "metadata": {
    "execution": {
     "iopub.execute_input": "2024-07-24T21:33:50.324508Z",
     "iopub.status.busy": "2024-07-24T21:33:50.324410Z",
     "iopub.status.idle": "2024-07-24T21:33:50.572782Z",
     "shell.execute_reply": "2024-07-24T21:33:50.572477Z"
    }
   },
   "outputs": [
    {
     "name": "stderr",
     "output_type": "stream",
     "text": [
      "\u001b[90;3m2024-07-24 14:33:50,326 \u001b[0m\u001b[mgym                            \u001b[0m\u001b[mINFO       \u001b[0m\u001b[mResetting environment with seed=364059936\u001b[0m\n"
     ]
    },
    {
     "name": "stderr",
     "output_type": "stream",
     "text": [
      "\u001b[90;3m2024-07-24 14:33:50,327 \u001b[0m\u001b[mscene.targets                  \u001b[0m\u001b[mINFO       \u001b[0m\u001b[mGenerating 1000 targets\u001b[0m\n"
     ]
    },
    {
     "name": "stderr",
     "output_type": "stream",
     "text": [
      "\u001b[90;3m2024-07-24 14:33:50,484 \u001b[0m\u001b[36msats.satellite.EO-1            \u001b[0m\u001b[mINFO       \u001b[0m\u001b[33m<0.00> \u001b[0m\u001b[36mEO-1: \u001b[0m\u001b[mFinding opportunity windows from 0.00 to 600.00 seconds\u001b[0m\n"
     ]
    },
    {
     "name": "stderr",
     "output_type": "stream",
     "text": [
      "\u001b[90;3m2024-07-24 14:33:50,507 \u001b[0m\u001b[92msats.satellite.EO-2            \u001b[0m\u001b[mINFO       \u001b[0m\u001b[33m<0.00> \u001b[0m\u001b[92mEO-2: \u001b[0m\u001b[mFinding opportunity windows from 0.00 to 600.00 seconds\u001b[0m\n"
     ]
    },
    {
     "name": "stderr",
     "output_type": "stream",
     "text": [
      "\u001b[90;3m2024-07-24 14:33:50,526 \u001b[0m\u001b[92msats.satellite.EO-2            \u001b[0m\u001b[mINFO       \u001b[0m\u001b[33m<0.00> \u001b[0m\u001b[92mEO-2: \u001b[0m\u001b[mFinding opportunity windows from 600.00 to 1200.00 seconds\u001b[0m\n"
     ]
    },
    {
     "name": "stderr",
     "output_type": "stream",
     "text": [
      "\u001b[90;3m2024-07-24 14:33:50,546 \u001b[0m\u001b[34msats.satellite.EO-3            \u001b[0m\u001b[mINFO       \u001b[0m\u001b[33m<0.00> \u001b[0m\u001b[34mEO-3: \u001b[0m\u001b[mFinding opportunity windows from 0.00 to 600.00 seconds\u001b[0m\n"
     ]
    },
    {
     "name": "stderr",
     "output_type": "stream",
     "text": [
      "\u001b[90;3m2024-07-24 14:33:50,568 \u001b[0m\u001b[mgym                            \u001b[0m\u001b[mINFO       \u001b[0m\u001b[33m<0.00> \u001b[0m\u001b[mSatellites requiring retasking: ['EO-1', 'EO-2', 'EO-3']\u001b[0m\n"
     ]
    },
    {
     "name": "stderr",
     "output_type": "stream",
     "text": [
      "\u001b[90;3m2024-07-24 14:33:50,568 \u001b[0m\u001b[mgym                            \u001b[0m\u001b[mINFO       \u001b[0m\u001b[33m<0.00> \u001b[0m\u001b[mEnvironment reset\u001b[0m\n"
     ]
    },
    {
     "data": {
      "text/plain": [
       "Tuple(Box(-1e+16, 1e+16, (20,), float64), Box(-1e+16, 1e+16, (20,), float64), Box(-1e+16, 1e+16, (20,), float64))"
      ]
     },
     "execution_count": 3,
     "metadata": {},
     "output_type": "execute_result"
    }
   ],
   "source": [
    "from bsk_rl import GeneralSatelliteTasking\n",
    "\n",
    "env = GeneralSatelliteTasking(\n",
    "    satellites=[\n",
    "        ImagingSatellite(\"EO-1\", sat_args),\n",
    "        ImagingSatellite(\"EO-2\", sat_args),\n",
    "        ImagingSatellite(\"EO-3\", sat_args),\n",
    "    ],\n",
    "    scenario=scene.UniformTargets(1000),\n",
    "    rewarder=data.UniqueImageReward(),\n",
    "    communicator=comm.LOSCommunication(),  # Note that dyn must inherit from LOSCommunication\n",
    "    log_level=\"INFO\",\n",
    ")\n",
    "env.reset()\n",
    "\n",
    "env.observation_space"
   ]
  },
  {
   "cell_type": "code",
   "execution_count": 4,
   "metadata": {
    "execution": {
     "iopub.execute_input": "2024-07-24T21:33:50.574251Z",
     "iopub.status.busy": "2024-07-24T21:33:50.574166Z",
     "iopub.status.idle": "2024-07-24T21:33:50.576394Z",
     "shell.execute_reply": "2024-07-24T21:33:50.576161Z"
    }
   },
   "outputs": [
    {
     "data": {
      "text/plain": [
       "Tuple(Discrete(10), Discrete(10), Discrete(10))"
      ]
     },
     "execution_count": 4,
     "metadata": {},
     "output_type": "execute_result"
    }
   ],
   "source": [
    "env.action_space"
   ]
  },
  {
   "cell_type": "markdown",
   "metadata": {},
   "source": [
    "Consequently, actions are passed as a tuple. The step will stop the first time any\n",
    "satellite completes an action."
   ]
  },
  {
   "cell_type": "code",
   "execution_count": 5,
   "metadata": {
    "execution": {
     "iopub.execute_input": "2024-07-24T21:33:50.577693Z",
     "iopub.status.busy": "2024-07-24T21:33:50.577616Z",
     "iopub.status.idle": "2024-07-24T21:33:50.650184Z",
     "shell.execute_reply": "2024-07-24T21:33:50.649937Z"
    }
   },
   "outputs": [
    {
     "name": "stderr",
     "output_type": "stream",
     "text": [
      "\u001b[90;3m2024-07-24 14:33:50,578 \u001b[0m\u001b[mgym                            \u001b[0m\u001b[mINFO       \u001b[0m\u001b[33m<0.00> \u001b[0m\u001b[93;1m=== STARTING STEP ===\u001b[0m\n"
     ]
    },
    {
     "name": "stderr",
     "output_type": "stream",
     "text": [
      "\u001b[90;3m2024-07-24 14:33:50,578 \u001b[0m\u001b[36msats.satellite.EO-1            \u001b[0m\u001b[mINFO       \u001b[0m\u001b[33m<0.00> \u001b[0m\u001b[36mEO-1: \u001b[0m\u001b[mtarget index 7 tasked\u001b[0m\n"
     ]
    },
    {
     "name": "stderr",
     "output_type": "stream",
     "text": [
      "\u001b[90;3m2024-07-24 14:33:50,578 \u001b[0m\u001b[36msats.satellite.EO-1            \u001b[0m\u001b[mINFO       \u001b[0m\u001b[33m<0.00> \u001b[0m\u001b[36mEO-1: \u001b[0m\u001b[mTarget(tgt-312) tasked for imaging\u001b[0m\n"
     ]
    },
    {
     "name": "stderr",
     "output_type": "stream",
     "text": [
      "\u001b[90;3m2024-07-24 14:33:50,579 \u001b[0m\u001b[36msats.satellite.EO-1            \u001b[0m\u001b[mINFO       \u001b[0m\u001b[33m<0.00> \u001b[0m\u001b[36mEO-1: \u001b[0m\u001b[mTarget(tgt-312) window enabled: 463.0 to 600.0\u001b[0m\n"
     ]
    },
    {
     "name": "stderr",
     "output_type": "stream",
     "text": [
      "\u001b[90;3m2024-07-24 14:33:50,579 \u001b[0m\u001b[36msats.satellite.EO-1            \u001b[0m\u001b[mINFO       \u001b[0m\u001b[33m<0.00> \u001b[0m\u001b[36mEO-1: \u001b[0m\u001b[msetting timed terminal event at 600.0\u001b[0m\n"
     ]
    },
    {
     "name": "stderr",
     "output_type": "stream",
     "text": [
      "\u001b[90;3m2024-07-24 14:33:50,580 \u001b[0m\u001b[92msats.satellite.EO-2            \u001b[0m\u001b[mINFO       \u001b[0m\u001b[33m<0.00> \u001b[0m\u001b[92mEO-2: \u001b[0m\u001b[mtarget index 9 tasked\u001b[0m\n"
     ]
    },
    {
     "name": "stderr",
     "output_type": "stream",
     "text": [
      "\u001b[90;3m2024-07-24 14:33:50,580 \u001b[0m\u001b[92msats.satellite.EO-2            \u001b[0m\u001b[mINFO       \u001b[0m\u001b[33m<0.00> \u001b[0m\u001b[92mEO-2: \u001b[0m\u001b[mTarget(tgt-596) tasked for imaging\u001b[0m\n"
     ]
    },
    {
     "name": "stderr",
     "output_type": "stream",
     "text": [
      "\u001b[90;3m2024-07-24 14:33:50,581 \u001b[0m\u001b[92msats.satellite.EO-2            \u001b[0m\u001b[mINFO       \u001b[0m\u001b[33m<0.00> \u001b[0m\u001b[92mEO-2: \u001b[0m\u001b[mTarget(tgt-596) window enabled: 637.6 to 840.5\u001b[0m\n"
     ]
    },
    {
     "name": "stderr",
     "output_type": "stream",
     "text": [
      "\u001b[90;3m2024-07-24 14:33:50,581 \u001b[0m\u001b[92msats.satellite.EO-2            \u001b[0m\u001b[mINFO       \u001b[0m\u001b[33m<0.00> \u001b[0m\u001b[92mEO-2: \u001b[0m\u001b[msetting timed terminal event at 840.5\u001b[0m\n"
     ]
    },
    {
     "name": "stderr",
     "output_type": "stream",
     "text": [
      "\u001b[90;3m2024-07-24 14:33:50,581 \u001b[0m\u001b[34msats.satellite.EO-3            \u001b[0m\u001b[mINFO       \u001b[0m\u001b[33m<0.00> \u001b[0m\u001b[34mEO-3: \u001b[0m\u001b[mtarget index 8 tasked\u001b[0m\n"
     ]
    },
    {
     "name": "stderr",
     "output_type": "stream",
     "text": [
      "\u001b[90;3m2024-07-24 14:33:50,581 \u001b[0m\u001b[34msats.satellite.EO-3            \u001b[0m\u001b[mINFO       \u001b[0m\u001b[33m<0.00> \u001b[0m\u001b[34mEO-3: \u001b[0m\u001b[mTarget(tgt-266) tasked for imaging\u001b[0m\n"
     ]
    },
    {
     "name": "stderr",
     "output_type": "stream",
     "text": [
      "\u001b[90;3m2024-07-24 14:33:50,582 \u001b[0m\u001b[34msats.satellite.EO-3            \u001b[0m\u001b[mINFO       \u001b[0m\u001b[33m<0.00> \u001b[0m\u001b[34mEO-3: \u001b[0m\u001b[mTarget(tgt-266) window enabled: 183.2 to 391.1\u001b[0m\n"
     ]
    },
    {
     "name": "stderr",
     "output_type": "stream",
     "text": [
      "\u001b[90;3m2024-07-24 14:33:50,582 \u001b[0m\u001b[34msats.satellite.EO-3            \u001b[0m\u001b[mINFO       \u001b[0m\u001b[33m<0.00> \u001b[0m\u001b[34mEO-3: \u001b[0m\u001b[msetting timed terminal event at 391.1\u001b[0m\n"
     ]
    },
    {
     "name": "stderr",
     "output_type": "stream",
     "text": [
      "\u001b[90;3m2024-07-24 14:33:50,619 \u001b[0m\u001b[34msats.satellite.EO-3            \u001b[0m\u001b[mINFO       \u001b[0m\u001b[33m<186.00> \u001b[0m\u001b[34mEO-3: \u001b[0m\u001b[mimaged Target(tgt-266)\u001b[0m\n"
     ]
    },
    {
     "name": "stderr",
     "output_type": "stream",
     "text": [
      "\u001b[90;3m2024-07-24 14:33:50,621 \u001b[0m\u001b[mdata.base                      \u001b[0m\u001b[mINFO       \u001b[0m\u001b[33m<186.00> \u001b[0m\u001b[mData reward: {'EO-1': 0.0, 'EO-2': 0.0, 'EO-3': 0.980810596718567}\u001b[0m\n"
     ]
    },
    {
     "name": "stderr",
     "output_type": "stream",
     "text": [
      "\u001b[90;3m2024-07-24 14:33:50,625 \u001b[0m\u001b[34msats.satellite.EO-3            \u001b[0m\u001b[mINFO       \u001b[0m\u001b[33m<186.00> \u001b[0m\u001b[34mEO-3: \u001b[0m\u001b[mFinding opportunity windows from 600.00 to 1200.00 seconds\u001b[0m\n"
     ]
    },
    {
     "name": "stderr",
     "output_type": "stream",
     "text": [
      "\u001b[90;3m2024-07-24 14:33:50,648 \u001b[0m\u001b[mgym                            \u001b[0m\u001b[mINFO       \u001b[0m\u001b[33m<186.00> \u001b[0m\u001b[mSatellites requiring retasking: ['EO-3']\u001b[0m\n"
     ]
    },
    {
     "name": "stderr",
     "output_type": "stream",
     "text": [
      "\u001b[90;3m2024-07-24 14:33:50,648 \u001b[0m\u001b[mgym                            \u001b[0m\u001b[mINFO       \u001b[0m\u001b[33m<186.00> \u001b[0m\u001b[mStep reward: 0.980810596718567\u001b[0m\n"
     ]
    }
   ],
   "source": [
    "observation, reward, terminated, truncated, info = env.step([7, 9, 8])"
   ]
  },
  {
   "cell_type": "code",
   "execution_count": 6,
   "metadata": {
    "execution": {
     "iopub.execute_input": "2024-07-24T21:33:50.651724Z",
     "iopub.status.busy": "2024-07-24T21:33:50.651569Z",
     "iopub.status.idle": "2024-07-24T21:33:50.653778Z",
     "shell.execute_reply": "2024-07-24T21:33:50.653570Z"
    }
   },
   "outputs": [
    {
     "data": {
      "text/plain": [
       "(array([ 0.10266454, -0.03263158,  0.71533671, -0.00090465,  0.19540212,\n",
       "         0.01484726,  0.55646603,  0.00134835,  0.85425056,  0.01822934,\n",
       "         0.90008031,  0.03082943,  0.09468858,  0.03683628,  0.20711376,\n",
       "         0.04860097,  0.7621766 ,  0.05569078,  0.28356637,  0.04676379]),\n",
       " array([ 3.16778664e-01, -1.55577221e-02,  3.13362512e-01, -4.51636228e-04,\n",
       "         4.23607178e-01,  2.67257980e-02,  9.51511809e-01,  4.12349336e-02,\n",
       "         3.77115401e-01,  9.30911051e-03,  5.05290328e-01,  2.01168371e-02,\n",
       "         2.92767745e-01,  6.90253813e-02,  9.40201363e-01,  7.92329937e-02,\n",
       "         8.79113048e-01,  1.07538683e-01,  3.07751315e-02,  1.18902085e-01]),\n",
       " array([ 1.29054501e-01, -1.86807584e-02,  4.57080002e-01,  6.81807648e-04,\n",
       "         9.17148967e-01,  5.59774162e-03,  1.26501398e-01,  1.05559275e-02,\n",
       "         8.53539237e-01,  3.68830475e-02,  8.78845414e-01,  6.58270845e-02,\n",
       "         3.82020810e-01,  5.50301632e-02,  5.10273560e-01,  5.67723740e-02,\n",
       "         9.94356149e-01,  8.14095034e-02,  4.17822112e-01,  9.08779701e-02]))"
      ]
     },
     "execution_count": 6,
     "metadata": {},
     "output_type": "execute_result"
    }
   ],
   "source": [
    "observation"
   ]
  },
  {
   "cell_type": "markdown",
   "metadata": {},
   "source": [
    "At this point, either every satellite can be retasked, or satellites can continue their\n",
    "previous action by passing `None` as the action. To see which satellites must be\n",
    "retasked (i.e. their previous action is done and they have nothing more to do), look at\n",
    "`info[\"requires_retasking\"]`."
   ]
  },
  {
   "cell_type": "code",
   "execution_count": 7,
   "metadata": {
    "execution": {
     "iopub.execute_input": "2024-07-24T21:33:50.655311Z",
     "iopub.status.busy": "2024-07-24T21:33:50.655176Z",
     "iopub.status.idle": "2024-07-24T21:33:50.657126Z",
     "shell.execute_reply": "2024-07-24T21:33:50.656887Z"
    }
   },
   "outputs": [
    {
     "data": {
      "text/plain": [
       "['EO-3']"
      ]
     },
     "execution_count": 7,
     "metadata": {},
     "output_type": "execute_result"
    }
   ],
   "source": [
    "info[\"requires_retasking\"]"
   ]
  },
  {
   "cell_type": "markdown",
   "metadata": {},
   "source": [
    "Based on this list, we decide here to only retask the satellite that needs it."
   ]
  },
  {
   "cell_type": "code",
   "execution_count": 8,
   "metadata": {
    "execution": {
     "iopub.execute_input": "2024-07-24T21:33:50.658443Z",
     "iopub.status.busy": "2024-07-24T21:33:50.658351Z",
     "iopub.status.idle": "2024-07-24T21:33:50.660424Z",
     "shell.execute_reply": "2024-07-24T21:33:50.660197Z"
    }
   },
   "outputs": [
    {
     "data": {
      "text/plain": [
       "[None, None, 7]"
      ]
     },
     "execution_count": 8,
     "metadata": {},
     "output_type": "execute_result"
    }
   ],
   "source": [
    "actions = [None, None, None]\n",
    "actions[int(info[\"requires_retasking\"][0][3]) - 1] = 7\n",
    "actions"
   ]
  },
  {
   "cell_type": "code",
   "execution_count": 9,
   "metadata": {
    "execution": {
     "iopub.execute_input": "2024-07-24T21:33:50.661713Z",
     "iopub.status.busy": "2024-07-24T21:33:50.661615Z",
     "iopub.status.idle": "2024-07-24T21:33:50.747903Z",
     "shell.execute_reply": "2024-07-24T21:33:50.747651Z"
    }
   },
   "outputs": [
    {
     "name": "stderr",
     "output_type": "stream",
     "text": [
      "\u001b[90;3m2024-07-24 14:33:50,662 \u001b[0m\u001b[mgym                            \u001b[0m\u001b[mINFO       \u001b[0m\u001b[33m<186.00> \u001b[0m\u001b[93;1m=== STARTING STEP ===\u001b[0m\n"
     ]
    },
    {
     "name": "stderr",
     "output_type": "stream",
     "text": [
      "\u001b[90;3m2024-07-24 14:33:50,662 \u001b[0m\u001b[34msats.satellite.EO-3            \u001b[0m\u001b[mINFO       \u001b[0m\u001b[33m<186.00> \u001b[0m\u001b[34mEO-3: \u001b[0m\u001b[mtarget index 7 tasked\u001b[0m\n"
     ]
    },
    {
     "name": "stderr",
     "output_type": "stream",
     "text": [
      "\u001b[90;3m2024-07-24 14:33:50,662 \u001b[0m\u001b[34msats.satellite.EO-3            \u001b[0m\u001b[mINFO       \u001b[0m\u001b[33m<186.00> \u001b[0m\u001b[34mEO-3: \u001b[0m\u001b[mTarget(tgt-577) tasked for imaging\u001b[0m\n"
     ]
    },
    {
     "name": "stderr",
     "output_type": "stream",
     "text": [
      "\u001b[90;3m2024-07-24 14:33:50,663 \u001b[0m\u001b[34msats.satellite.EO-3            \u001b[0m\u001b[mINFO       \u001b[0m\u001b[33m<186.00> \u001b[0m\u001b[34mEO-3: \u001b[0m\u001b[mTarget(tgt-577) window enabled: 509.6 to 689.7\u001b[0m\n"
     ]
    },
    {
     "name": "stderr",
     "output_type": "stream",
     "text": [
      "\u001b[90;3m2024-07-24 14:33:50,663 \u001b[0m\u001b[34msats.satellite.EO-3            \u001b[0m\u001b[mINFO       \u001b[0m\u001b[33m<186.00> \u001b[0m\u001b[34mEO-3: \u001b[0m\u001b[msetting timed terminal event at 689.7\u001b[0m\n"
     ]
    },
    {
     "name": "stderr",
     "output_type": "stream",
     "text": [
      "\u001b[90;3m2024-07-24 14:33:50,716 \u001b[0m\u001b[36msats.satellite.EO-1            \u001b[0m\u001b[mINFO       \u001b[0m\u001b[33m<466.00> \u001b[0m\u001b[36mEO-1: \u001b[0m\u001b[mimaged Target(tgt-312)\u001b[0m\n"
     ]
    },
    {
     "name": "stderr",
     "output_type": "stream",
     "text": [
      "\u001b[90;3m2024-07-24 14:33:50,718 \u001b[0m\u001b[mdata.base                      \u001b[0m\u001b[mINFO       \u001b[0m\u001b[33m<466.00> \u001b[0m\u001b[mData reward: {'EO-1': 0.20711376136200743, 'EO-2': 0.0, 'EO-3': 0.0}\u001b[0m\n"
     ]
    },
    {
     "name": "stderr",
     "output_type": "stream",
     "text": [
      "\u001b[90;3m2024-07-24 14:33:50,721 \u001b[0m\u001b[36msats.satellite.EO-1            \u001b[0m\u001b[mINFO       \u001b[0m\u001b[33m<466.00> \u001b[0m\u001b[36mEO-1: \u001b[0m\u001b[mFinding opportunity windows from 600.00 to 1200.00 seconds\u001b[0m\n"
     ]
    },
    {
     "name": "stderr",
     "output_type": "stream",
     "text": [
      "\u001b[90;3m2024-07-24 14:33:50,746 \u001b[0m\u001b[mgym                            \u001b[0m\u001b[mINFO       \u001b[0m\u001b[33m<466.00> \u001b[0m\u001b[mSatellites requiring retasking: ['EO-1']\u001b[0m\n"
     ]
    },
    {
     "name": "stderr",
     "output_type": "stream",
     "text": [
      "\u001b[90;3m2024-07-24 14:33:50,746 \u001b[0m\u001b[mgym                            \u001b[0m\u001b[mINFO       \u001b[0m\u001b[33m<466.00> \u001b[0m\u001b[mStep reward: 0.20711376136200743\u001b[0m\n"
     ]
    }
   ],
   "source": [
    "observation, reward, terminated, truncated, info = env.step(actions)"
   ]
  },
  {
   "cell_type": "markdown",
   "metadata": {},
   "source": [
    "In this environment, the environment will stop if any agent dies. To demonstrate this,\n",
    "one satellite is forcibly killed."
   ]
  },
  {
   "cell_type": "code",
   "execution_count": 10,
   "metadata": {
    "execution": {
     "iopub.execute_input": "2024-07-24T21:33:50.749331Z",
     "iopub.status.busy": "2024-07-24T21:33:50.749234Z",
     "iopub.status.idle": "2024-07-24T21:33:50.775029Z",
     "shell.execute_reply": "2024-07-24T21:33:50.774784Z"
    }
   },
   "outputs": [
    {
     "name": "stderr",
     "output_type": "stream",
     "text": [
      "\u001b[90;3m2024-07-24 14:33:50,750 \u001b[0m\u001b[mgym                            \u001b[0m\u001b[mINFO       \u001b[0m\u001b[33m<466.00> \u001b[0m\u001b[93;1m=== STARTING STEP ===\u001b[0m\n"
     ]
    },
    {
     "name": "stderr",
     "output_type": "stream",
     "text": [
      "\u001b[90;3m2024-07-24 14:33:50,750 \u001b[0m\u001b[36msats.satellite.EO-1            \u001b[0m\u001b[mINFO       \u001b[0m\u001b[33m<466.00> \u001b[0m\u001b[36mEO-1: \u001b[0m\u001b[mtarget index 6 tasked\u001b[0m\n"
     ]
    },
    {
     "name": "stderr",
     "output_type": "stream",
     "text": [
      "\u001b[90;3m2024-07-24 14:33:50,750 \u001b[0m\u001b[36msats.satellite.EO-1            \u001b[0m\u001b[mINFO       \u001b[0m\u001b[33m<466.00> \u001b[0m\u001b[36mEO-1: \u001b[0m\u001b[mTarget(tgt-678) tasked for imaging\u001b[0m\n"
     ]
    },
    {
     "name": "stderr",
     "output_type": "stream",
     "text": [
      "\u001b[90;3m2024-07-24 14:33:50,751 \u001b[0m\u001b[36msats.satellite.EO-1            \u001b[0m\u001b[mINFO       \u001b[0m\u001b[33m<466.00> \u001b[0m\u001b[36mEO-1: \u001b[0m\u001b[mTarget(tgt-678) window enabled: 531.3 to 731.1\u001b[0m\n"
     ]
    },
    {
     "name": "stderr",
     "output_type": "stream",
     "text": [
      "\u001b[90;3m2024-07-24 14:33:50,751 \u001b[0m\u001b[36msats.satellite.EO-1            \u001b[0m\u001b[mINFO       \u001b[0m\u001b[33m<466.00> \u001b[0m\u001b[36mEO-1: \u001b[0m\u001b[msetting timed terminal event at 731.1\u001b[0m\n"
     ]
    },
    {
     "name": "stderr",
     "output_type": "stream",
     "text": [
      "\u001b[90;3m2024-07-24 14:33:50,752 \u001b[0m\u001b[92msats.satellite.EO-2            \u001b[0m\u001b[mINFO       \u001b[0m\u001b[33m<466.00> \u001b[0m\u001b[92mEO-2: \u001b[0m\u001b[mtarget index 7 tasked\u001b[0m\n"
     ]
    },
    {
     "name": "stderr",
     "output_type": "stream",
     "text": [
      "\u001b[90;3m2024-07-24 14:33:50,753 \u001b[0m\u001b[92msats.satellite.EO-2            \u001b[0m\u001b[mINFO       \u001b[0m\u001b[33m<466.00> \u001b[0m\u001b[92mEO-2: \u001b[0m\u001b[mTarget(tgt-15) tasked for imaging\u001b[0m\n"
     ]
    },
    {
     "name": "stderr",
     "output_type": "stream",
     "text": [
      "\u001b[90;3m2024-07-24 14:33:50,753 \u001b[0m\u001b[92msats.satellite.EO-2            \u001b[0m\u001b[mINFO       \u001b[0m\u001b[33m<466.00> \u001b[0m\u001b[92mEO-2: \u001b[0m\u001b[mTarget(tgt-15) window enabled: 912.2 to 1111.4\u001b[0m\n"
     ]
    },
    {
     "name": "stderr",
     "output_type": "stream",
     "text": [
      "\u001b[90;3m2024-07-24 14:33:50,753 \u001b[0m\u001b[92msats.satellite.EO-2            \u001b[0m\u001b[mINFO       \u001b[0m\u001b[33m<466.00> \u001b[0m\u001b[92mEO-2: \u001b[0m\u001b[msetting timed terminal event at 1111.4\u001b[0m\n"
     ]
    },
    {
     "name": "stderr",
     "output_type": "stream",
     "text": [
      "\u001b[90;3m2024-07-24 14:33:50,754 \u001b[0m\u001b[34msats.satellite.EO-3            \u001b[0m\u001b[mINFO       \u001b[0m\u001b[33m<466.00> \u001b[0m\u001b[34mEO-3: \u001b[0m\u001b[mtarget index 9 tasked\u001b[0m\n"
     ]
    },
    {
     "name": "stderr",
     "output_type": "stream",
     "text": [
      "\u001b[90;3m2024-07-24 14:33:50,754 \u001b[0m\u001b[34msats.satellite.EO-3            \u001b[0m\u001b[mINFO       \u001b[0m\u001b[33m<466.00> \u001b[0m\u001b[34mEO-3: \u001b[0m\u001b[mTarget(tgt-407) tasked for imaging\u001b[0m\n"
     ]
    },
    {
     "name": "stderr",
     "output_type": "stream",
     "text": [
      "\u001b[90;3m2024-07-24 14:33:50,754 \u001b[0m\u001b[34msats.satellite.EO-3            \u001b[0m\u001b[mINFO       \u001b[0m\u001b[33m<466.00> \u001b[0m\u001b[34mEO-3: \u001b[0m\u001b[mTarget(tgt-407) window enabled: 905.2 to 1071.3\u001b[0m\n"
     ]
    },
    {
     "name": "stderr",
     "output_type": "stream",
     "text": [
      "\u001b[90;3m2024-07-24 14:33:50,755 \u001b[0m\u001b[34msats.satellite.EO-3            \u001b[0m\u001b[mINFO       \u001b[0m\u001b[33m<466.00> \u001b[0m\u001b[34mEO-3: \u001b[0m\u001b[msetting timed terminal event at 1071.3\u001b[0m\n"
     ]
    },
    {
     "name": "stderr",
     "output_type": "stream",
     "text": [
      "\u001b[90;3m2024-07-24 14:33:50,768 \u001b[0m\u001b[36msats.satellite.EO-1            \u001b[0m\u001b[mINFO       \u001b[0m\u001b[33m<534.00> \u001b[0m\u001b[36mEO-1: \u001b[0m\u001b[mimaged Target(tgt-678)\u001b[0m\n"
     ]
    },
    {
     "name": "stderr",
     "output_type": "stream",
     "text": [
      "\u001b[90;3m2024-07-24 14:33:50,770 \u001b[0m\u001b[mdata.base                      \u001b[0m\u001b[mINFO       \u001b[0m\u001b[33m<534.00> \u001b[0m\u001b[mData reward: {'EO-1': 0.7742074134252116, 'EO-2': 0.0, 'EO-3': 0.0}\u001b[0m\n"
     ]
    },
    {
     "name": "stderr",
     "output_type": "stream",
     "text": [
      "\u001b[90;3m2024-07-24 14:33:50,772 \u001b[0m\u001b[36msats.satellite.EO-1            \u001b[0m\u001b[93mWARNING    \u001b[0m\u001b[33m<534.00> \u001b[0m\u001b[36mEO-1: \u001b[0m\u001b[93mfailed battery_valid check\u001b[0m\n"
     ]
    },
    {
     "name": "stderr",
     "output_type": "stream",
     "text": [
      "\u001b[90;3m2024-07-24 14:33:50,773 \u001b[0m\u001b[mgym                            \u001b[0m\u001b[mINFO       \u001b[0m\u001b[33m<534.00> \u001b[0m\u001b[mStep reward: -0.2257925865747884\u001b[0m\n"
     ]
    },
    {
     "name": "stderr",
     "output_type": "stream",
     "text": [
      "\u001b[90;3m2024-07-24 14:33:50,773 \u001b[0m\u001b[mgym                            \u001b[0m\u001b[mINFO       \u001b[0m\u001b[33m<534.00> \u001b[0m\u001b[mEpisode terminated: True\u001b[0m\n"
     ]
    },
    {
     "name": "stderr",
     "output_type": "stream",
     "text": [
      "\u001b[90;3m2024-07-24 14:33:50,773 \u001b[0m\u001b[mgym                            \u001b[0m\u001b[mINFO       \u001b[0m\u001b[33m<534.00> \u001b[0m\u001b[mEpisode truncated: False\u001b[0m\n"
     ]
    }
   ],
   "source": [
    "from Basilisk.architecture import messaging\n",
    "\n",
    "def isnt_alive(log_failure=False):\n",
    "    \"\"\"Mock satellite 0 dying.\"\"\"\n",
    "    self = env.unwrapped.satellites[0]\n",
    "    death_message = messaging.PowerStorageStatusMsgPayload()\n",
    "    death_message.storageLevel = 0.0\n",
    "    self.dynamics.powerMonitor.batPowerOutMsg.write(death_message)\n",
    "    return self.dynamics.is_alive(log_failure=log_failure) and self.fsw.is_alive(\n",
    "        log_failure=log_failure\n",
    "    )\n",
    "\n",
    "env.unwrapped.satellites[0].is_alive = isnt_alive\n",
    "observation, reward, terminated, truncated, info = env.step([6, 7, 9])\n"
   ]
  },
  {
   "cell_type": "markdown",
   "metadata": {},
   "source": [
    "## PettingZoo API\n",
    "\n",
    "The [PettingZoo parallel API](https://pettingzoo.farama.org/api/parallel/) environment, \n",
    "ConstellationTasking, is largely the same as GeneralSatelliteTasking. See their\n",
    "documentation for a full description of the API. It tends to separate things into\n",
    "dictionaries keyed by agent, rather than tuples."
   ]
  },
  {
   "cell_type": "code",
   "execution_count": 11,
   "metadata": {
    "execution": {
     "iopub.execute_input": "2024-07-24T21:33:50.776465Z",
     "iopub.status.busy": "2024-07-24T21:33:50.776355Z",
     "iopub.status.idle": "2024-07-24T21:33:51.229055Z",
     "shell.execute_reply": "2024-07-24T21:33:51.228742Z"
    }
   },
   "outputs": [
    {
     "name": "stderr",
     "output_type": "stream",
     "text": [
      "\u001b[90;3m2024-07-24 14:33:50,778 \u001b[0m\u001b[m                               \u001b[0m\u001b[93mWARNING    \u001b[0m\u001b[93mCreating logger for new env on PID=39625. Old environments in process may now log times incorrectly.\u001b[0m\n"
     ]
    },
    {
     "name": "stderr",
     "output_type": "stream",
     "text": [
      "\u001b[90;3m2024-07-24 14:33:50,978 \u001b[0m\u001b[mgym                            \u001b[0m\u001b[mINFO       \u001b[0m\u001b[mResetting environment with seed=1015846936\u001b[0m\n"
     ]
    },
    {
     "name": "stderr",
     "output_type": "stream",
     "text": [
      "\u001b[90;3m2024-07-24 14:33:50,978 \u001b[0m\u001b[mscene.targets                  \u001b[0m\u001b[mINFO       \u001b[0m\u001b[mGenerating 1000 targets\u001b[0m\n"
     ]
    },
    {
     "name": "stderr",
     "output_type": "stream",
     "text": [
      "\u001b[90;3m2024-07-24 14:33:51,131 \u001b[0m\u001b[36msats.satellite.EO-1            \u001b[0m\u001b[mINFO       \u001b[0m\u001b[33m<0.00> \u001b[0m\u001b[36mEO-1: \u001b[0m\u001b[mFinding opportunity windows from 0.00 to 600.00 seconds\u001b[0m\n"
     ]
    },
    {
     "name": "stderr",
     "output_type": "stream",
     "text": [
      "\u001b[90;3m2024-07-24 14:33:51,157 \u001b[0m\u001b[92msats.satellite.EO-2            \u001b[0m\u001b[mINFO       \u001b[0m\u001b[33m<0.00> \u001b[0m\u001b[92mEO-2: \u001b[0m\u001b[mFinding opportunity windows from 0.00 to 600.00 seconds\u001b[0m\n"
     ]
    },
    {
     "name": "stderr",
     "output_type": "stream",
     "text": [
      "\u001b[90;3m2024-07-24 14:33:51,177 \u001b[0m\u001b[92msats.satellite.EO-2            \u001b[0m\u001b[mINFO       \u001b[0m\u001b[33m<0.00> \u001b[0m\u001b[92mEO-2: \u001b[0m\u001b[mFinding opportunity windows from 600.00 to 1200.00 seconds\u001b[0m\n"
     ]
    },
    {
     "name": "stderr",
     "output_type": "stream",
     "text": [
      "\u001b[90;3m2024-07-24 14:33:51,199 \u001b[0m\u001b[34msats.satellite.EO-3            \u001b[0m\u001b[mINFO       \u001b[0m\u001b[33m<0.00> \u001b[0m\u001b[34mEO-3: \u001b[0m\u001b[mFinding opportunity windows from 0.00 to 600.00 seconds\u001b[0m\n"
     ]
    },
    {
     "name": "stderr",
     "output_type": "stream",
     "text": [
      "\u001b[90;3m2024-07-24 14:33:51,225 \u001b[0m\u001b[mgym                            \u001b[0m\u001b[mINFO       \u001b[0m\u001b[33m<0.00> \u001b[0m\u001b[mSatellites requiring retasking: ['EO-1', 'EO-2', 'EO-3']\u001b[0m\n"
     ]
    },
    {
     "name": "stderr",
     "output_type": "stream",
     "text": [
      "\u001b[90;3m2024-07-24 14:33:51,226 \u001b[0m\u001b[mgym                            \u001b[0m\u001b[mINFO       \u001b[0m\u001b[33m<0.00> \u001b[0m\u001b[mEnvironment reset\u001b[0m\n"
     ]
    },
    {
     "data": {
      "text/plain": [
       "{'EO-1': Box(-1e+16, 1e+16, (20,), float64),\n",
       " 'EO-2': Box(-1e+16, 1e+16, (20,), float64),\n",
       " 'EO-3': Box(-1e+16, 1e+16, (20,), float64)}"
      ]
     },
     "execution_count": 11,
     "metadata": {},
     "output_type": "execute_result"
    }
   ],
   "source": [
    "from bsk_rl import ConstellationTasking\n",
    "\n",
    "env = ConstellationTasking(\n",
    "    satellites=[\n",
    "        ImagingSatellite(\"EO-1\", sat_args),\n",
    "        ImagingSatellite(\"EO-2\", sat_args),\n",
    "        ImagingSatellite(\"EO-3\", sat_args),\n",
    "    ],\n",
    "    scenario=scene.UniformTargets(1000),\n",
    "    rewarder=data.UniqueImageReward(),\n",
    "    communicator=comm.LOSCommunication(),  # Note that dyn must inherit from LOSCommunication\n",
    "    log_level=\"INFO\",\n",
    ")\n",
    "env.reset()\n",
    "\n",
    "env.observation_spaces"
   ]
  },
  {
   "cell_type": "code",
   "execution_count": 12,
   "metadata": {
    "execution": {
     "iopub.execute_input": "2024-07-24T21:33:51.230459Z",
     "iopub.status.busy": "2024-07-24T21:33:51.230372Z",
     "iopub.status.idle": "2024-07-24T21:33:51.232381Z",
     "shell.execute_reply": "2024-07-24T21:33:51.232115Z"
    }
   },
   "outputs": [
    {
     "data": {
      "text/plain": [
       "{'EO-1': Discrete(10), 'EO-2': Discrete(10), 'EO-3': Discrete(10)}"
      ]
     },
     "execution_count": 12,
     "metadata": {},
     "output_type": "execute_result"
    }
   ],
   "source": [
    "env.action_spaces"
   ]
  },
  {
   "cell_type": "markdown",
   "metadata": {},
   "source": [
    "Actions are passed as a dictionary; the agent names can be accessed through the `agents`\n",
    "property."
   ]
  },
  {
   "cell_type": "code",
   "execution_count": 13,
   "metadata": {
    "execution": {
     "iopub.execute_input": "2024-07-24T21:33:51.233688Z",
     "iopub.status.busy": "2024-07-24T21:33:51.233604Z",
     "iopub.status.idle": "2024-07-24T21:33:51.273342Z",
     "shell.execute_reply": "2024-07-24T21:33:51.273075Z"
    }
   },
   "outputs": [
    {
     "name": "stderr",
     "output_type": "stream",
     "text": [
      "\u001b[90;3m2024-07-24 14:33:51,234 \u001b[0m\u001b[mgym                            \u001b[0m\u001b[mINFO       \u001b[0m\u001b[33m<0.00> \u001b[0m\u001b[93;1m=== STARTING STEP ===\u001b[0m\n"
     ]
    },
    {
     "name": "stderr",
     "output_type": "stream",
     "text": [
      "\u001b[90;3m2024-07-24 14:33:51,235 \u001b[0m\u001b[36msats.satellite.EO-1            \u001b[0m\u001b[mINFO       \u001b[0m\u001b[33m<0.00> \u001b[0m\u001b[36mEO-1: \u001b[0m\u001b[mtarget index 7 tasked\u001b[0m\n"
     ]
    },
    {
     "name": "stderr",
     "output_type": "stream",
     "text": [
      "\u001b[90;3m2024-07-24 14:33:51,235 \u001b[0m\u001b[36msats.satellite.EO-1            \u001b[0m\u001b[mINFO       \u001b[0m\u001b[33m<0.00> \u001b[0m\u001b[36mEO-1: \u001b[0m\u001b[mTarget(tgt-510) tasked for imaging\u001b[0m\n"
     ]
    },
    {
     "name": "stderr",
     "output_type": "stream",
     "text": [
      "\u001b[90;3m2024-07-24 14:33:51,236 \u001b[0m\u001b[36msats.satellite.EO-1            \u001b[0m\u001b[mINFO       \u001b[0m\u001b[33m<0.00> \u001b[0m\u001b[36mEO-1: \u001b[0m\u001b[mTarget(tgt-510) window enabled: 104.5 to 293.9\u001b[0m\n"
     ]
    },
    {
     "name": "stderr",
     "output_type": "stream",
     "text": [
      "\u001b[90;3m2024-07-24 14:33:51,236 \u001b[0m\u001b[36msats.satellite.EO-1            \u001b[0m\u001b[mINFO       \u001b[0m\u001b[33m<0.00> \u001b[0m\u001b[36mEO-1: \u001b[0m\u001b[msetting timed terminal event at 293.9\u001b[0m\n"
     ]
    },
    {
     "name": "stderr",
     "output_type": "stream",
     "text": [
      "\u001b[90;3m2024-07-24 14:33:51,237 \u001b[0m\u001b[92msats.satellite.EO-2            \u001b[0m\u001b[mINFO       \u001b[0m\u001b[33m<0.00> \u001b[0m\u001b[92mEO-2: \u001b[0m\u001b[mtarget index 9 tasked\u001b[0m\n"
     ]
    },
    {
     "name": "stderr",
     "output_type": "stream",
     "text": [
      "\u001b[90;3m2024-07-24 14:33:51,237 \u001b[0m\u001b[92msats.satellite.EO-2            \u001b[0m\u001b[mINFO       \u001b[0m\u001b[33m<0.00> \u001b[0m\u001b[92mEO-2: \u001b[0m\u001b[mTarget(tgt-789) tasked for imaging\u001b[0m\n"
     ]
    },
    {
     "name": "stderr",
     "output_type": "stream",
     "text": [
      "\u001b[90;3m2024-07-24 14:33:51,237 \u001b[0m\u001b[92msats.satellite.EO-2            \u001b[0m\u001b[mINFO       \u001b[0m\u001b[33m<0.00> \u001b[0m\u001b[92mEO-2: \u001b[0m\u001b[mTarget(tgt-789) window enabled: 752.6 to 894.9\u001b[0m\n"
     ]
    },
    {
     "name": "stderr",
     "output_type": "stream",
     "text": [
      "\u001b[90;3m2024-07-24 14:33:51,238 \u001b[0m\u001b[92msats.satellite.EO-2            \u001b[0m\u001b[mINFO       \u001b[0m\u001b[33m<0.00> \u001b[0m\u001b[92mEO-2: \u001b[0m\u001b[msetting timed terminal event at 894.9\u001b[0m\n"
     ]
    },
    {
     "name": "stderr",
     "output_type": "stream",
     "text": [
      "\u001b[90;3m2024-07-24 14:33:51,238 \u001b[0m\u001b[34msats.satellite.EO-3            \u001b[0m\u001b[mINFO       \u001b[0m\u001b[33m<0.00> \u001b[0m\u001b[34mEO-3: \u001b[0m\u001b[mtarget index 8 tasked\u001b[0m\n"
     ]
    },
    {
     "name": "stderr",
     "output_type": "stream",
     "text": [
      "\u001b[90;3m2024-07-24 14:33:51,238 \u001b[0m\u001b[34msats.satellite.EO-3            \u001b[0m\u001b[mINFO       \u001b[0m\u001b[33m<0.00> \u001b[0m\u001b[34mEO-3: \u001b[0m\u001b[mTarget(tgt-172) tasked for imaging\u001b[0m\n"
     ]
    },
    {
     "name": "stderr",
     "output_type": "stream",
     "text": [
      "\u001b[90;3m2024-07-24 14:33:51,239 \u001b[0m\u001b[34msats.satellite.EO-3            \u001b[0m\u001b[mINFO       \u001b[0m\u001b[33m<0.00> \u001b[0m\u001b[34mEO-3: \u001b[0m\u001b[mTarget(tgt-172) window enabled: 235.3 to 446.2\u001b[0m\n"
     ]
    },
    {
     "name": "stderr",
     "output_type": "stream",
     "text": [
      "\u001b[90;3m2024-07-24 14:33:51,239 \u001b[0m\u001b[34msats.satellite.EO-3            \u001b[0m\u001b[mINFO       \u001b[0m\u001b[33m<0.00> \u001b[0m\u001b[34mEO-3: \u001b[0m\u001b[msetting timed terminal event at 446.2\u001b[0m\n"
     ]
    },
    {
     "name": "stderr",
     "output_type": "stream",
     "text": [
      "\u001b[90;3m2024-07-24 14:33:51,260 \u001b[0m\u001b[36msats.satellite.EO-1            \u001b[0m\u001b[mINFO       \u001b[0m\u001b[33m<107.00> \u001b[0m\u001b[36mEO-1: \u001b[0m\u001b[mimaged Target(tgt-510)\u001b[0m\n"
     ]
    },
    {
     "name": "stderr",
     "output_type": "stream",
     "text": [
      "\u001b[90;3m2024-07-24 14:33:51,262 \u001b[0m\u001b[mdata.base                      \u001b[0m\u001b[mINFO       \u001b[0m\u001b[33m<107.00> \u001b[0m\u001b[mData reward: {'EO-1': 0.3034631583157591, 'EO-2': 0.0, 'EO-3': 0.0}\u001b[0m\n"
     ]
    },
    {
     "name": "stderr",
     "output_type": "stream",
     "text": [
      "\u001b[90;3m2024-07-24 14:33:51,269 \u001b[0m\u001b[mgym                            \u001b[0m\u001b[mINFO       \u001b[0m\u001b[33m<107.00> \u001b[0m\u001b[mSatellites requiring retasking: ['EO-1']\u001b[0m\n"
     ]
    },
    {
     "name": "stderr",
     "output_type": "stream",
     "text": [
      "\u001b[90;3m2024-07-24 14:33:51,271 \u001b[0m\u001b[mgym                            \u001b[0m\u001b[mINFO       \u001b[0m\u001b[33m<107.00> \u001b[0m\u001b[mStep reward: {'EO-1': 0.3034631583157591, 'EO-2': 0.0, 'EO-3': 0.0}\u001b[0m\n"
     ]
    },
    {
     "name": "stderr",
     "output_type": "stream",
     "text": [
      "\u001b[90;3m2024-07-24 14:33:51,271 \u001b[0m\u001b[mgym                            \u001b[0m\u001b[mINFO       \u001b[0m\u001b[33m<107.00> \u001b[0m\u001b[mEpisode terminated: {'EO-1': False, 'EO-2': False, 'EO-3': False}\u001b[0m\n"
     ]
    },
    {
     "name": "stderr",
     "output_type": "stream",
     "text": [
      "\u001b[90;3m2024-07-24 14:33:51,271 \u001b[0m\u001b[mgym                            \u001b[0m\u001b[mINFO       \u001b[0m\u001b[33m<107.00> \u001b[0m\u001b[mEpisode truncated: {'EO-1': False, 'EO-2': False, 'EO-3': False}\u001b[0m\n"
     ]
    }
   ],
   "source": [
    "observation, reward, terminated, truncated, info = env.step(\n",
    "    {\n",
    "        env.agents[0]: 7,\n",
    "        env.agents[1]: 9,\n",
    "        env.agents[2]: 8,\n",
    "    }\n",
    ")"
   ]
  },
  {
   "cell_type": "code",
   "execution_count": 14,
   "metadata": {
    "execution": {
     "iopub.execute_input": "2024-07-24T21:33:51.274711Z",
     "iopub.status.busy": "2024-07-24T21:33:51.274630Z",
     "iopub.status.idle": "2024-07-24T21:33:51.276739Z",
     "shell.execute_reply": "2024-07-24T21:33:51.276476Z"
    }
   },
   "outputs": [
    {
     "data": {
      "text/plain": [
       "{'EO-1': array([ 0.86171052, -0.01877193,  0.69303712, -0.0135859 ,  0.16790374,\n",
       "        -0.01304364,  0.33385166,  0.00310774,  0.60102755,  0.00870104,\n",
       "         0.52261101,  0.02888215,  0.76429951,  0.03593432,  0.07664155,\n",
       "         0.02073054,  0.35430813,  0.0209795 ,  0.50231586,  0.03031671]),\n",
       " 'EO-2': array([ 9.05180563e-01, -1.00595601e-02,  3.15065049e-01, -6.81128220e-04,\n",
       "         4.73979926e-01,  2.36974139e-02,  5.53744788e-01,  5.02846313e-02,\n",
       "         2.50217878e-01,  7.63636114e-02,  5.56602328e-01,  8.65133317e-02,\n",
       "         8.99994371e-01,  8.70776618e-02,  3.28329506e-02,  9.65382802e-02,\n",
       "         4.08069922e-01,  1.13261186e-01,  5.48363445e-01,  1.05149522e-01]),\n",
       " 'EO-3': array([ 0.11909024, -0.01877193,  0.97950646, -0.01877193,  0.82196041,\n",
       "        -0.01155826,  0.1922363 ,  0.01060359,  0.78279305,  0.00933406,\n",
       "         0.21389242,  0.02936151,  0.20356198,  0.02251592,  0.57044547,\n",
       "         0.04668394,  0.183822  ,  0.06173636,  0.98970262,  0.03334367])}"
      ]
     },
     "execution_count": 14,
     "metadata": {},
     "output_type": "execute_result"
    }
   ],
   "source": [
    "observation"
   ]
  },
  {
   "cell_type": "markdown",
   "metadata": {},
   "source": [
    "Other than compatibility with MARL algorithms, the main benefit of the PettingZoo API\n",
    "is that it allows for individual agents to fail without terminating the entire environment."
   ]
  },
  {
   "cell_type": "code",
   "execution_count": 15,
   "metadata": {
    "execution": {
     "iopub.execute_input": "2024-07-24T21:33:51.278346Z",
     "iopub.status.busy": "2024-07-24T21:33:51.278265Z",
     "iopub.status.idle": "2024-07-24T21:33:51.280538Z",
     "shell.execute_reply": "2024-07-24T21:33:51.280300Z"
    }
   },
   "outputs": [
    {
     "data": {
      "text/plain": [
       "['EO-2', 'EO-3']"
      ]
     },
     "execution_count": 15,
     "metadata": {},
     "output_type": "execute_result"
    }
   ],
   "source": [
    "# Immediately kill satellite 0\n",
    "env.unwrapped.satellites[0].is_alive = isnt_alive\n",
    "env.agents"
   ]
  },
  {
   "cell_type": "code",
   "execution_count": 16,
   "metadata": {
    "execution": {
     "iopub.execute_input": "2024-07-24T21:33:51.281775Z",
     "iopub.status.busy": "2024-07-24T21:33:51.281689Z",
     "iopub.status.idle": "2024-07-24T21:33:51.332126Z",
     "shell.execute_reply": "2024-07-24T21:33:51.331881Z"
    }
   },
   "outputs": [
    {
     "name": "stderr",
     "output_type": "stream",
     "text": [
      "\u001b[90;3m2024-07-24 14:33:51,282 \u001b[0m\u001b[mgym                            \u001b[0m\u001b[mINFO       \u001b[0m\u001b[33m<107.00> \u001b[0m\u001b[93;1m=== STARTING STEP ===\u001b[0m\n"
     ]
    },
    {
     "name": "stderr",
     "output_type": "stream",
     "text": [
      "\u001b[90;3m2024-07-24 14:33:51,283 \u001b[0m\u001b[92msats.satellite.EO-2            \u001b[0m\u001b[mINFO       \u001b[0m\u001b[33m<107.00> \u001b[0m\u001b[92mEO-2: \u001b[0m\u001b[mtarget index 7 tasked\u001b[0m\n"
     ]
    },
    {
     "name": "stderr",
     "output_type": "stream",
     "text": [
      "\u001b[90;3m2024-07-24 14:33:51,283 \u001b[0m\u001b[92msats.satellite.EO-2            \u001b[0m\u001b[mINFO       \u001b[0m\u001b[33m<107.00> \u001b[0m\u001b[92mEO-2: \u001b[0m\u001b[mTarget(tgt-349) tasked for imaging\u001b[0m\n"
     ]
    },
    {
     "name": "stderr",
     "output_type": "stream",
     "text": [
      "\u001b[90;3m2024-07-24 14:33:51,284 \u001b[0m\u001b[92msats.satellite.EO-2            \u001b[0m\u001b[mINFO       \u001b[0m\u001b[33m<107.00> \u001b[0m\u001b[92mEO-2: \u001b[0m\u001b[mTarget(tgt-349) window enabled: 657.3 to 826.2\u001b[0m\n"
     ]
    },
    {
     "name": "stderr",
     "output_type": "stream",
     "text": [
      "\u001b[90;3m2024-07-24 14:33:51,284 \u001b[0m\u001b[92msats.satellite.EO-2            \u001b[0m\u001b[mINFO       \u001b[0m\u001b[33m<107.00> \u001b[0m\u001b[92mEO-2: \u001b[0m\u001b[msetting timed terminal event at 826.2\u001b[0m\n"
     ]
    },
    {
     "name": "stderr",
     "output_type": "stream",
     "text": [
      "\u001b[90;3m2024-07-24 14:33:51,284 \u001b[0m\u001b[34msats.satellite.EO-3            \u001b[0m\u001b[mINFO       \u001b[0m\u001b[33m<107.00> \u001b[0m\u001b[34mEO-3: \u001b[0m\u001b[mtarget index 9 tasked\u001b[0m\n"
     ]
    },
    {
     "name": "stderr",
     "output_type": "stream",
     "text": [
      "\u001b[90;3m2024-07-24 14:33:51,285 \u001b[0m\u001b[34msats.satellite.EO-3            \u001b[0m\u001b[mINFO       \u001b[0m\u001b[33m<107.00> \u001b[0m\u001b[34mEO-3: \u001b[0m\u001b[mTarget(tgt-568) tasked for imaging\u001b[0m\n"
     ]
    },
    {
     "name": "stderr",
     "output_type": "stream",
     "text": [
      "\u001b[90;3m2024-07-24 14:33:51,285 \u001b[0m\u001b[34msats.satellite.EO-3            \u001b[0m\u001b[mINFO       \u001b[0m\u001b[33m<107.00> \u001b[0m\u001b[34mEO-3: \u001b[0m\u001b[mTarget(tgt-568) window enabled: 297.1 to 507.6\u001b[0m\n"
     ]
    },
    {
     "name": "stderr",
     "output_type": "stream",
     "text": [
      "\u001b[90;3m2024-07-24 14:33:51,285 \u001b[0m\u001b[34msats.satellite.EO-3            \u001b[0m\u001b[mINFO       \u001b[0m\u001b[33m<107.00> \u001b[0m\u001b[34mEO-3: \u001b[0m\u001b[msetting timed terminal event at 507.6\u001b[0m\n"
     ]
    },
    {
     "name": "stderr",
     "output_type": "stream",
     "text": [
      "\u001b[90;3m2024-07-24 14:33:51,320 \u001b[0m\u001b[36msats.satellite.EO-1            \u001b[0m\u001b[mINFO       \u001b[0m\u001b[33m<294.00> \u001b[0m\u001b[36mEO-1: \u001b[0m\u001b[mtimed termination at 293.9 for Target(tgt-510) window\u001b[0m\n"
     ]
    },
    {
     "name": "stderr",
     "output_type": "stream",
     "text": [
      "\u001b[90;3m2024-07-24 14:33:51,321 \u001b[0m\u001b[mdata.base                      \u001b[0m\u001b[mINFO       \u001b[0m\u001b[33m<294.00> \u001b[0m\u001b[mData reward: {'EO-1': 0.0, 'EO-2': 0.0, 'EO-3': 0.0}\u001b[0m\n"
     ]
    },
    {
     "name": "stderr",
     "output_type": "stream",
     "text": [
      "\u001b[90;3m2024-07-24 14:33:51,330 \u001b[0m\u001b[mgym                            \u001b[0m\u001b[mINFO       \u001b[0m\u001b[33m<294.00> \u001b[0m\u001b[mStep reward: {'EO-2': 0.0, 'EO-3': 0.0}\u001b[0m\n"
     ]
    },
    {
     "name": "stderr",
     "output_type": "stream",
     "text": [
      "\u001b[90;3m2024-07-24 14:33:51,330 \u001b[0m\u001b[mgym                            \u001b[0m\u001b[mINFO       \u001b[0m\u001b[33m<294.00> \u001b[0m\u001b[mEpisode terminated: {'EO-2': False, 'EO-3': False}\u001b[0m\n"
     ]
    },
    {
     "name": "stderr",
     "output_type": "stream",
     "text": [
      "\u001b[90;3m2024-07-24 14:33:51,330 \u001b[0m\u001b[mgym                            \u001b[0m\u001b[mINFO       \u001b[0m\u001b[33m<294.00> \u001b[0m\u001b[mEpisode truncated: {'EO-2': False, 'EO-3': False}\u001b[0m\n"
     ]
    }
   ],
   "source": [
    "observation, reward, terminated, truncated, info = env.step({\n",
    "        env.agents[0]: 7,\n",
    "        env.agents[1]: 9,\n",
    "    }\n",
    ")"
   ]
  }
 ],
 "metadata": {
  "kernelspec": {
   "display_name": ".venv_refactor",
   "language": "python",
   "name": "python3"
  },
  "language_info": {
   "codemirror_mode": {
    "name": "ipython",
    "version": 3
   },
   "file_extension": ".py",
   "mimetype": "text/x-python",
   "name": "python",
   "nbconvert_exporter": "python",
   "pygments_lexer": "ipython3",
   "version": "3.10.11"
  }
 },
 "nbformat": 4,
 "nbformat_minor": 2
}
