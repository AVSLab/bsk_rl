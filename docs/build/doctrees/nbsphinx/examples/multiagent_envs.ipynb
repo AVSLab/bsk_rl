{
 "cells": [
  {
   "cell_type": "markdown",
   "metadata": {},
   "source": [
    "# Multi-Agent Environments\n",
    "\n",
    "Two multiagent environments are given in the package:\n",
    "\n",
    "* [GeneralSatelliteTasking](../api_reference/index.rst#bsk_rl.GeneralSatelliteTasking), \n",
    "  a [Gymnasium](https://gymnasium.farama.org)-based environment and the basis for all other environments.\n",
    "* [ConstellationTasking](../api_reference/index.rst#bsk_rl.ConstellationTasking), which\n",
    "  implements the [PettingZoo parallel API](https://pettingzoo.farama.org/api/parallel/).\n",
    "\n",
    "The latter is preferable for multi-agent RL (MARL) settings, as most algorithms are designed\n",
    "for this kind of API.\n",
    "\n",
    "## Configuring the Environment\n",
    "\n",
    "For this example, a multisatellite target imaging environment will be used. The goal is\n",
    "to maximize the value of unique images taken.\n",
    "\n",
    "As usual, the satellite type is defined first."
   ]
  },
  {
   "cell_type": "code",
   "execution_count": 1,
   "metadata": {
    "execution": {
     "iopub.execute_input": "2024-09-11T15:20:14.409227Z",
     "iopub.status.busy": "2024-09-11T15:20:14.409093Z",
     "iopub.status.idle": "2024-09-11T15:20:15.349863Z",
     "shell.execute_reply": "2024-09-11T15:20:15.349543Z"
    }
   },
   "outputs": [],
   "source": [
    "from bsk_rl import sats, act, obs, scene, data, comm\n",
    "from bsk_rl.sim import dyn, fsw\n",
    "\n",
    "class ImagingSatellite(sats.ImagingSatellite):\n",
    "    observation_spec = [\n",
    "        obs.OpportunityProperties(\n",
    "            dict(prop=\"priority\"), \n",
    "            dict(prop=\"opportunity_open\", norm=5700.0),\n",
    "            n_ahead_observe=10,\n",
    "        )\n",
    "    ]\n",
    "    action_spec = [act.Image(n_ahead_image=10)]\n",
    "    dyn_type = dyn.FullFeaturedDynModel\n",
    "    fsw_type = fsw.SteeringImagerFSWModel"
   ]
  },
  {
   "cell_type": "markdown",
   "metadata": {},
   "source": [
    "Satellite properties are set to give the satellite near-unlimited power and storage resources. To randomize some parameters in a correlated manner across satellites, a ``sat_arg_randomizer`` is set and passed to the environment. In this case, the satellites are distributed in a trivial single-plane Walker-delta constellation."
   ]
  },
  {
   "cell_type": "code",
   "execution_count": 2,
   "metadata": {
    "execution": {
     "iopub.execute_input": "2024-09-11T15:20:15.351811Z",
     "iopub.status.busy": "2024-09-11T15:20:15.351653Z",
     "iopub.status.idle": "2024-09-11T15:20:15.353742Z",
     "shell.execute_reply": "2024-09-11T15:20:15.353511Z"
    }
   },
   "outputs": [],
   "source": [
    "\n",
    "from bsk_rl.utils.orbital import walker_delta_args\n",
    "\n",
    "sat_args = dict(\n",
    "    imageAttErrorRequirement=0.01,\n",
    "    imageRateErrorRequirement=0.01,\n",
    "    batteryStorageCapacity=1e9,\n",
    "    storedCharge_Init=1e9,\n",
    "    dataStorageCapacity=1e12,\n",
    "    u_max=0.4,\n",
    "    K1=0.25,\n",
    "    K3=3.0,\n",
    "    omega_max=0.087,\n",
    "    servo_Ki=5.0,\n",
    "    servo_P=150 / 5,\n",
    ")\n",
    "sat_arg_randomizer = walker_delta_args(altitude=800.0, inc=60.0, n_planes=1)"
   ]
  },
  {
   "cell_type": "markdown",
   "metadata": {},
   "source": [
    "## Gym API\n",
    "\n",
    "GeneralSatelliteTasking uses tuples of actions and observations to interact with the\n",
    "environment."
   ]
  },
  {
   "cell_type": "code",
   "execution_count": 3,
   "metadata": {
    "execution": {
     "iopub.execute_input": "2024-09-11T15:20:15.355112Z",
     "iopub.status.busy": "2024-09-11T15:20:15.354968Z",
     "iopub.status.idle": "2024-09-11T15:20:15.618732Z",
     "shell.execute_reply": "2024-09-11T15:20:15.618429Z"
    }
   },
   "outputs": [
    {
     "name": "stderr",
     "output_type": "stream",
     "text": [
      "\u001b[90;3m2024-09-11 09:20:15,357 \u001b[0m\u001b[mgym                            \u001b[0m\u001b[mINFO       \u001b[0m\u001b[mResetting environment with seed=25987008\u001b[0m\n"
     ]
    },
    {
     "name": "stderr",
     "output_type": "stream",
     "text": [
      "\u001b[90;3m2024-09-11 09:20:15,358 \u001b[0m\u001b[mscene.targets                  \u001b[0m\u001b[mINFO       \u001b[0m\u001b[mGenerating 1000 targets\u001b[0m\n"
     ]
    },
    {
     "name": "stderr",
     "output_type": "stream",
     "text": [
      "\u001b[90;3m2024-09-11 09:20:15,526 \u001b[0m\u001b[36msats.satellite.EO-1            \u001b[0m\u001b[mINFO       \u001b[0m\u001b[33m<0.00> \u001b[0m\u001b[36mEO-1: \u001b[0m\u001b[mFinding opportunity windows from 0.00 to 600.00 seconds\u001b[0m\n"
     ]
    },
    {
     "name": "stderr",
     "output_type": "stream",
     "text": [
      "\u001b[90;3m2024-09-11 09:20:15,550 \u001b[0m\u001b[92msats.satellite.EO-2            \u001b[0m\u001b[mINFO       \u001b[0m\u001b[33m<0.00> \u001b[0m\u001b[92mEO-2: \u001b[0m\u001b[mFinding opportunity windows from 0.00 to 600.00 seconds\u001b[0m\n"
     ]
    },
    {
     "name": "stderr",
     "output_type": "stream",
     "text": [
      "\u001b[90;3m2024-09-11 09:20:15,571 \u001b[0m\u001b[92msats.satellite.EO-2            \u001b[0m\u001b[mINFO       \u001b[0m\u001b[33m<0.00> \u001b[0m\u001b[92mEO-2: \u001b[0m\u001b[mFinding opportunity windows from 600.00 to 1200.00 seconds\u001b[0m\n"
     ]
    },
    {
     "name": "stderr",
     "output_type": "stream",
     "text": [
      "\u001b[90;3m2024-09-11 09:20:15,593 \u001b[0m\u001b[34msats.satellite.EO-3            \u001b[0m\u001b[mINFO       \u001b[0m\u001b[33m<0.00> \u001b[0m\u001b[34mEO-3: \u001b[0m\u001b[mFinding opportunity windows from 0.00 to 600.00 seconds\u001b[0m\n"
     ]
    },
    {
     "name": "stderr",
     "output_type": "stream",
     "text": [
      "\u001b[90;3m2024-09-11 09:20:15,614 \u001b[0m\u001b[mgym                            \u001b[0m\u001b[mINFO       \u001b[0m\u001b[33m<0.00> \u001b[0m\u001b[mEnvironment reset\u001b[0m\n"
     ]
    },
    {
     "data": {
      "text/plain": [
       "Tuple(Box(-1e+16, 1e+16, (20,), float64), Box(-1e+16, 1e+16, (20,), float64), Box(-1e+16, 1e+16, (20,), float64))"
      ]
     },
     "execution_count": 3,
     "metadata": {},
     "output_type": "execute_result"
    }
   ],
   "source": [
    "from bsk_rl import GeneralSatelliteTasking\n",
    "\n",
    "env = GeneralSatelliteTasking(\n",
    "    satellites=[\n",
    "        ImagingSatellite(\"EO-1\", sat_args),\n",
    "        ImagingSatellite(\"EO-2\", sat_args),\n",
    "        ImagingSatellite(\"EO-3\", sat_args),\n",
    "    ],\n",
    "    scenario=scene.UniformTargets(1000),\n",
    "    rewarder=data.UniqueImageReward(),\n",
    "    communicator=comm.LOSCommunication(),  # Note that dyn must inherit from LOSCommunication\n",
    "    sat_arg_randomizer=sat_arg_randomizer,\n",
    "    log_level=\"INFO\",\n",
    ")\n",
    "env.reset()\n",
    "\n",
    "env.observation_space"
   ]
  },
  {
   "cell_type": "code",
   "execution_count": 4,
   "metadata": {
    "execution": {
     "iopub.execute_input": "2024-09-11T15:20:15.620230Z",
     "iopub.status.busy": "2024-09-11T15:20:15.620140Z",
     "iopub.status.idle": "2024-09-11T15:20:15.622443Z",
     "shell.execute_reply": "2024-09-11T15:20:15.622175Z"
    }
   },
   "outputs": [
    {
     "data": {
      "text/plain": [
       "Tuple(Discrete(10), Discrete(10), Discrete(10))"
      ]
     },
     "execution_count": 4,
     "metadata": {},
     "output_type": "execute_result"
    }
   ],
   "source": [
    "env.action_space"
   ]
  },
  {
   "cell_type": "markdown",
   "metadata": {},
   "source": [
    "Consequently, actions are passed as a tuple. The step will stop the first time any\n",
    "satellite completes an action."
   ]
  },
  {
   "cell_type": "code",
   "execution_count": 5,
   "metadata": {
    "execution": {
     "iopub.execute_input": "2024-09-11T15:20:15.623757Z",
     "iopub.status.busy": "2024-09-11T15:20:15.623676Z",
     "iopub.status.idle": "2024-09-11T15:20:15.760361Z",
     "shell.execute_reply": "2024-09-11T15:20:15.760147Z"
    }
   },
   "outputs": [
    {
     "name": "stderr",
     "output_type": "stream",
     "text": [
      "\u001b[90;3m2024-09-11 09:20:15,624 \u001b[0m\u001b[mgym                            \u001b[0m\u001b[mINFO       \u001b[0m\u001b[33m<0.00> \u001b[0m\u001b[93;1m=== STARTING STEP ===\u001b[0m\n"
     ]
    },
    {
     "name": "stderr",
     "output_type": "stream",
     "text": [
      "\u001b[90;3m2024-09-11 09:20:15,624 \u001b[0m\u001b[36msats.satellite.EO-1            \u001b[0m\u001b[mINFO       \u001b[0m\u001b[33m<0.00> \u001b[0m\u001b[36mEO-1: \u001b[0m\u001b[mtarget index 7 tasked\u001b[0m\n"
     ]
    },
    {
     "name": "stderr",
     "output_type": "stream",
     "text": [
      "\u001b[90;3m2024-09-11 09:20:15,624 \u001b[0m\u001b[36msats.satellite.EO-1            \u001b[0m\u001b[mINFO       \u001b[0m\u001b[33m<0.00> \u001b[0m\u001b[36mEO-1: \u001b[0m\u001b[mTarget(tgt-167) tasked for imaging\u001b[0m\n"
     ]
    },
    {
     "name": "stderr",
     "output_type": "stream",
     "text": [
      "\u001b[90;3m2024-09-11 09:20:15,625 \u001b[0m\u001b[36msats.satellite.EO-1            \u001b[0m\u001b[mINFO       \u001b[0m\u001b[33m<0.00> \u001b[0m\u001b[36mEO-1: \u001b[0m\u001b[mTarget(tgt-167) window enabled: 381.4 to 558.0\u001b[0m\n"
     ]
    },
    {
     "name": "stderr",
     "output_type": "stream",
     "text": [
      "\u001b[90;3m2024-09-11 09:20:15,625 \u001b[0m\u001b[36msats.satellite.EO-1            \u001b[0m\u001b[mINFO       \u001b[0m\u001b[33m<0.00> \u001b[0m\u001b[36mEO-1: \u001b[0m\u001b[msetting timed terminal event at 558.0\u001b[0m\n"
     ]
    },
    {
     "name": "stderr",
     "output_type": "stream",
     "text": [
      "\u001b[90;3m2024-09-11 09:20:15,626 \u001b[0m\u001b[92msats.satellite.EO-2            \u001b[0m\u001b[mINFO       \u001b[0m\u001b[33m<0.00> \u001b[0m\u001b[92mEO-2: \u001b[0m\u001b[mtarget index 9 tasked\u001b[0m\n"
     ]
    },
    {
     "name": "stderr",
     "output_type": "stream",
     "text": [
      "\u001b[90;3m2024-09-11 09:20:15,626 \u001b[0m\u001b[92msats.satellite.EO-2            \u001b[0m\u001b[mINFO       \u001b[0m\u001b[33m<0.00> \u001b[0m\u001b[92mEO-2: \u001b[0m\u001b[mTarget(tgt-268) tasked for imaging\u001b[0m\n"
     ]
    },
    {
     "name": "stderr",
     "output_type": "stream",
     "text": [
      "\u001b[90;3m2024-09-11 09:20:15,627 \u001b[0m\u001b[92msats.satellite.EO-2            \u001b[0m\u001b[mINFO       \u001b[0m\u001b[33m<0.00> \u001b[0m\u001b[92mEO-2: \u001b[0m\u001b[mTarget(tgt-268) window enabled: 603.4 to 803.3\u001b[0m\n"
     ]
    },
    {
     "name": "stderr",
     "output_type": "stream",
     "text": [
      "\u001b[90;3m2024-09-11 09:20:15,627 \u001b[0m\u001b[92msats.satellite.EO-2            \u001b[0m\u001b[mINFO       \u001b[0m\u001b[33m<0.00> \u001b[0m\u001b[92mEO-2: \u001b[0m\u001b[msetting timed terminal event at 803.3\u001b[0m\n"
     ]
    },
    {
     "name": "stderr",
     "output_type": "stream",
     "text": [
      "\u001b[90;3m2024-09-11 09:20:15,627 \u001b[0m\u001b[34msats.satellite.EO-3            \u001b[0m\u001b[mINFO       \u001b[0m\u001b[33m<0.00> \u001b[0m\u001b[34mEO-3: \u001b[0m\u001b[mtarget index 8 tasked\u001b[0m\n"
     ]
    },
    {
     "name": "stderr",
     "output_type": "stream",
     "text": [
      "\u001b[90;3m2024-09-11 09:20:15,627 \u001b[0m\u001b[34msats.satellite.EO-3            \u001b[0m\u001b[mINFO       \u001b[0m\u001b[33m<0.00> \u001b[0m\u001b[34mEO-3: \u001b[0m\u001b[mTarget(tgt-401) tasked for imaging\u001b[0m\n"
     ]
    },
    {
     "name": "stderr",
     "output_type": "stream",
     "text": [
      "\u001b[90;3m2024-09-11 09:20:15,628 \u001b[0m\u001b[34msats.satellite.EO-3            \u001b[0m\u001b[mINFO       \u001b[0m\u001b[33m<0.00> \u001b[0m\u001b[34mEO-3: \u001b[0m\u001b[mTarget(tgt-401) window enabled: 408.8 to 591.8\u001b[0m\n"
     ]
    },
    {
     "name": "stderr",
     "output_type": "stream",
     "text": [
      "\u001b[90;3m2024-09-11 09:20:15,628 \u001b[0m\u001b[34msats.satellite.EO-3            \u001b[0m\u001b[mINFO       \u001b[0m\u001b[33m<0.00> \u001b[0m\u001b[34mEO-3: \u001b[0m\u001b[msetting timed terminal event at 591.8\u001b[0m\n"
     ]
    },
    {
     "name": "stderr",
     "output_type": "stream",
     "text": [
      "\u001b[90;3m2024-09-11 09:20:15,701 \u001b[0m\u001b[36msats.satellite.EO-1            \u001b[0m\u001b[mINFO       \u001b[0m\u001b[33m<384.00> \u001b[0m\u001b[36mEO-1: \u001b[0m\u001b[mimaged Target(tgt-167)\u001b[0m\n"
     ]
    },
    {
     "name": "stderr",
     "output_type": "stream",
     "text": [
      "\u001b[90;3m2024-09-11 09:20:15,703 \u001b[0m\u001b[mdata.base                      \u001b[0m\u001b[mINFO       \u001b[0m\u001b[33m<384.00> \u001b[0m\u001b[mData reward: {'EO-1': 0.5381284648556194, 'EO-2': 0.0, 'EO-3': 0.0}\u001b[0m\n"
     ]
    },
    {
     "name": "stderr",
     "output_type": "stream",
     "text": [
      "\u001b[90;3m2024-09-11 09:20:15,707 \u001b[0m\u001b[36msats.satellite.EO-1            \u001b[0m\u001b[mINFO       \u001b[0m\u001b[33m<384.00> \u001b[0m\u001b[36mEO-1: \u001b[0m\u001b[mSatellite EO-1 requires retasking\u001b[0m\n"
     ]
    },
    {
     "name": "stderr",
     "output_type": "stream",
     "text": [
      "\u001b[90;3m2024-09-11 09:20:15,707 \u001b[0m\u001b[36msats.satellite.EO-1            \u001b[0m\u001b[mINFO       \u001b[0m\u001b[33m<384.00> \u001b[0m\u001b[36mEO-1: \u001b[0m\u001b[mFinding opportunity windows from 600.00 to 1200.00 seconds\u001b[0m\n"
     ]
    },
    {
     "name": "stderr",
     "output_type": "stream",
     "text": [
      "\u001b[90;3m2024-09-11 09:20:15,731 \u001b[0m\u001b[34msats.satellite.EO-3            \u001b[0m\u001b[mINFO       \u001b[0m\u001b[33m<384.00> \u001b[0m\u001b[34mEO-3: \u001b[0m\u001b[mFinding opportunity windows from 600.00 to 1200.00 seconds\u001b[0m\n"
     ]
    },
    {
     "name": "stderr",
     "output_type": "stream",
     "text": [
      "\u001b[90;3m2024-09-11 09:20:15,758 \u001b[0m\u001b[mgym                            \u001b[0m\u001b[mINFO       \u001b[0m\u001b[33m<384.00> \u001b[0m\u001b[mStep reward: 0.5381284648556194\u001b[0m\n"
     ]
    }
   ],
   "source": [
    "observation, reward, terminated, truncated, info = env.step([7, 9, 8])"
   ]
  },
  {
   "cell_type": "code",
   "execution_count": 6,
   "metadata": {
    "execution": {
     "iopub.execute_input": "2024-09-11T15:20:15.761972Z",
     "iopub.status.busy": "2024-09-11T15:20:15.761827Z",
     "iopub.status.idle": "2024-09-11T15:20:15.764190Z",
     "shell.execute_reply": "2024-09-11T15:20:15.763950Z"
    }
   },
   "outputs": [
    {
     "data": {
      "text/plain": [
       "(array([ 0.92439015, -0.0258305 ,  0.9758071 ,  0.03205828,  0.2907066 ,\n",
       "         0.02643022,  0.07559279,  0.00374157,  0.17020381,  0.03158787,\n",
       "         0.21351657,  0.02134166,  0.76973513,  0.04221848,  0.55815477,\n",
       "         0.04413613,  0.51560163,  0.06060402,  0.59192149,  0.08233334]),\n",
       " array([ 0.06597468, -0.0132296 ,  0.78754443,  0.00767855,  0.5007186 ,\n",
       "         0.01971264,  0.2153354 ,  0.02249443,  0.90520448,  0.03848525,\n",
       "         0.97152065,  0.0592632 ,  0.98524112,  0.08112803,  0.71986469,\n",
       "         0.08616652,  0.36460718,  0.09334229,  0.05876791,  0.12279916]),\n",
       " array([ 0.82723417, -0.02825309,  0.3590622 , -0.00395114,  0.3978725 ,\n",
       "         0.01790092,  0.95391482,  0.00435569,  0.11215957,  0.02528452,\n",
       "         0.06143226,  0.00967175,  0.77140286,  0.00815342,  0.47681183,\n",
       "         0.05696725,  0.58880075,  0.05870218,  0.86364981,  0.07943668]))"
      ]
     },
     "execution_count": 6,
     "metadata": {},
     "output_type": "execute_result"
    }
   ],
   "source": [
    "observation"
   ]
  },
  {
   "cell_type": "markdown",
   "metadata": {},
   "source": [
    "At this point, either every satellite can be retasked, or satellites can continue their\n",
    "previous action by passing `None` as the action. To see which satellites must be\n",
    "retasked (i.e. their previous action is done and they have nothing more to do), look at\n",
    "`\"requires_retasking\"` in each satellite's info."
   ]
  },
  {
   "cell_type": "code",
   "execution_count": 7,
   "metadata": {
    "execution": {
     "iopub.execute_input": "2024-09-11T15:20:15.765533Z",
     "iopub.status.busy": "2024-09-11T15:20:15.765435Z",
     "iopub.status.idle": "2024-09-11T15:20:15.767344Z",
     "shell.execute_reply": "2024-09-11T15:20:15.767111Z"
    }
   },
   "outputs": [
    {
     "data": {
      "text/plain": [
       "{'EO-1': {'requires_retasking': True},\n",
       " 'EO-2': {'requires_retasking': False},\n",
       " 'EO-3': {'requires_retasking': False},\n",
       " 'd_ts': 384.0}"
      ]
     },
     "execution_count": 7,
     "metadata": {},
     "output_type": "execute_result"
    }
   ],
   "source": [
    "info"
   ]
  },
  {
   "cell_type": "markdown",
   "metadata": {},
   "source": [
    "Based on this list, we decide here to only retask the satellite that needs it."
   ]
  },
  {
   "cell_type": "code",
   "execution_count": 8,
   "metadata": {
    "execution": {
     "iopub.execute_input": "2024-09-11T15:20:15.768729Z",
     "iopub.status.busy": "2024-09-11T15:20:15.768629Z",
     "iopub.status.idle": "2024-09-11T15:20:15.770680Z",
     "shell.execute_reply": "2024-09-11T15:20:15.770440Z"
    }
   },
   "outputs": [
    {
     "data": {
      "text/plain": [
       "[0, None, None]"
      ]
     },
     "execution_count": 8,
     "metadata": {},
     "output_type": "execute_result"
    }
   ],
   "source": [
    "actions = [0 if info[sat.name][\"requires_retasking\"] else None for sat in env.unwrapped.satellites]\n",
    "actions"
   ]
  },
  {
   "cell_type": "code",
   "execution_count": 9,
   "metadata": {
    "execution": {
     "iopub.execute_input": "2024-09-11T15:20:15.771894Z",
     "iopub.status.busy": "2024-09-11T15:20:15.771795Z",
     "iopub.status.idle": "2024-09-11T15:20:15.784025Z",
     "shell.execute_reply": "2024-09-11T15:20:15.783828Z"
    }
   },
   "outputs": [
    {
     "name": "stderr",
     "output_type": "stream",
     "text": [
      "\u001b[90;3m2024-09-11 09:20:15,772 \u001b[0m\u001b[mgym                            \u001b[0m\u001b[mINFO       \u001b[0m\u001b[33m<384.00> \u001b[0m\u001b[93;1m=== STARTING STEP ===\u001b[0m\n"
     ]
    },
    {
     "name": "stderr",
     "output_type": "stream",
     "text": [
      "\u001b[90;3m2024-09-11 09:20:15,772 \u001b[0m\u001b[36msats.satellite.EO-1            \u001b[0m\u001b[mINFO       \u001b[0m\u001b[33m<384.00> \u001b[0m\u001b[36mEO-1: \u001b[0m\u001b[mtarget index 0 tasked\u001b[0m\n"
     ]
    },
    {
     "name": "stderr",
     "output_type": "stream",
     "text": [
      "\u001b[90;3m2024-09-11 09:20:15,772 \u001b[0m\u001b[36msats.satellite.EO-1            \u001b[0m\u001b[mINFO       \u001b[0m\u001b[33m<384.00> \u001b[0m\u001b[36mEO-1: \u001b[0m\u001b[mTarget(tgt-816) tasked for imaging\u001b[0m\n"
     ]
    },
    {
     "name": "stderr",
     "output_type": "stream",
     "text": [
      "\u001b[90;3m2024-09-11 09:20:15,773 \u001b[0m\u001b[36msats.satellite.EO-1            \u001b[0m\u001b[mINFO       \u001b[0m\u001b[33m<384.00> \u001b[0m\u001b[36mEO-1: \u001b[0m\u001b[mTarget(tgt-816) window enabled: 236.8 to 405.6\u001b[0m\n"
     ]
    },
    {
     "name": "stderr",
     "output_type": "stream",
     "text": [
      "\u001b[90;3m2024-09-11 09:20:15,773 \u001b[0m\u001b[36msats.satellite.EO-1            \u001b[0m\u001b[mINFO       \u001b[0m\u001b[33m<384.00> \u001b[0m\u001b[36mEO-1: \u001b[0m\u001b[msetting timed terminal event at 405.6\u001b[0m\n"
     ]
    },
    {
     "name": "stderr",
     "output_type": "stream",
     "text": [
      "\u001b[90;3m2024-09-11 09:20:15,778 \u001b[0m\u001b[36msats.satellite.EO-1            \u001b[0m\u001b[mINFO       \u001b[0m\u001b[33m<406.00> \u001b[0m\u001b[36mEO-1: \u001b[0m\u001b[mtimed termination at 405.6 for Target(tgt-816) window\u001b[0m\n"
     ]
    },
    {
     "name": "stderr",
     "output_type": "stream",
     "text": [
      "\u001b[90;3m2024-09-11 09:20:15,780 \u001b[0m\u001b[mdata.base                      \u001b[0m\u001b[mINFO       \u001b[0m\u001b[33m<406.00> \u001b[0m\u001b[mData reward: {'EO-1': 0.0, 'EO-2': 0.0, 'EO-3': 0.0}\u001b[0m\n"
     ]
    },
    {
     "name": "stderr",
     "output_type": "stream",
     "text": [
      "\u001b[90;3m2024-09-11 09:20:15,781 \u001b[0m\u001b[36msats.satellite.EO-1            \u001b[0m\u001b[mINFO       \u001b[0m\u001b[33m<406.00> \u001b[0m\u001b[36mEO-1: \u001b[0m\u001b[mSatellite EO-1 requires retasking\u001b[0m\n"
     ]
    },
    {
     "name": "stderr",
     "output_type": "stream",
     "text": [
      "\u001b[90;3m2024-09-11 09:20:15,782 \u001b[0m\u001b[mgym                            \u001b[0m\u001b[mINFO       \u001b[0m\u001b[33m<406.00> \u001b[0m\u001b[mStep reward: 0.0\u001b[0m\n"
     ]
    }
   ],
   "source": [
    "observation, reward, terminated, truncated, info = env.step(actions)"
   ]
  },
  {
   "cell_type": "markdown",
   "metadata": {},
   "source": [
    "In this environment, the environment will stop if any agent dies. To demonstrate this,\n",
    "one satellite is forcibly killed."
   ]
  },
  {
   "cell_type": "code",
   "execution_count": 10,
   "metadata": {
    "execution": {
     "iopub.execute_input": "2024-09-11T15:20:15.785503Z",
     "iopub.status.busy": "2024-09-11T15:20:15.785384Z",
     "iopub.status.idle": "2024-09-11T15:20:15.843635Z",
     "shell.execute_reply": "2024-09-11T15:20:15.843342Z"
    }
   },
   "outputs": [
    {
     "name": "stderr",
     "output_type": "stream",
     "text": [
      "\u001b[90;3m2024-09-11 09:20:15,786 \u001b[0m\u001b[mgym                            \u001b[0m\u001b[mINFO       \u001b[0m\u001b[33m<406.00> \u001b[0m\u001b[93;1m=== STARTING STEP ===\u001b[0m\n"
     ]
    },
    {
     "name": "stderr",
     "output_type": "stream",
     "text": [
      "\u001b[90;3m2024-09-11 09:20:15,786 \u001b[0m\u001b[36msats.satellite.EO-1            \u001b[0m\u001b[mINFO       \u001b[0m\u001b[33m<406.00> \u001b[0m\u001b[36mEO-1: \u001b[0m\u001b[mtarget index 6 tasked\u001b[0m\n"
     ]
    },
    {
     "name": "stderr",
     "output_type": "stream",
     "text": [
      "\u001b[90;3m2024-09-11 09:20:15,787 \u001b[0m\u001b[36msats.satellite.EO-1            \u001b[0m\u001b[mINFO       \u001b[0m\u001b[33m<406.00> \u001b[0m\u001b[36mEO-1: \u001b[0m\u001b[mTarget(tgt-24) tasked for imaging\u001b[0m\n"
     ]
    },
    {
     "name": "stderr",
     "output_type": "stream",
     "text": [
      "\u001b[90;3m2024-09-11 09:20:15,787 \u001b[0m\u001b[36msats.satellite.EO-1            \u001b[0m\u001b[mINFO       \u001b[0m\u001b[33m<406.00> \u001b[0m\u001b[36mEO-1: \u001b[0m\u001b[mTarget(tgt-24) window enabled: 635.6 to 841.9\u001b[0m\n"
     ]
    },
    {
     "name": "stderr",
     "output_type": "stream",
     "text": [
      "\u001b[90;3m2024-09-11 09:20:15,787 \u001b[0m\u001b[36msats.satellite.EO-1            \u001b[0m\u001b[mINFO       \u001b[0m\u001b[33m<406.00> \u001b[0m\u001b[36mEO-1: \u001b[0m\u001b[msetting timed terminal event at 841.9\u001b[0m\n"
     ]
    },
    {
     "name": "stderr",
     "output_type": "stream",
     "text": [
      "\u001b[90;3m2024-09-11 09:20:15,788 \u001b[0m\u001b[92msats.satellite.EO-2            \u001b[0m\u001b[mINFO       \u001b[0m\u001b[33m<406.00> \u001b[0m\u001b[92mEO-2: \u001b[0m\u001b[mtarget index 7 tasked\u001b[0m\n"
     ]
    },
    {
     "name": "stderr",
     "output_type": "stream",
     "text": [
      "\u001b[90;3m2024-09-11 09:20:15,788 \u001b[0m\u001b[92msats.satellite.EO-2            \u001b[0m\u001b[mINFO       \u001b[0m\u001b[33m<406.00> \u001b[0m\u001b[92mEO-2: \u001b[0m\u001b[mTarget(tgt-324) tasked for imaging\u001b[0m\n"
     ]
    },
    {
     "name": "stderr",
     "output_type": "stream",
     "text": [
      "\u001b[90;3m2024-09-11 09:20:15,789 \u001b[0m\u001b[92msats.satellite.EO-2            \u001b[0m\u001b[mINFO       \u001b[0m\u001b[33m<406.00> \u001b[0m\u001b[92mEO-2: \u001b[0m\u001b[mTarget(tgt-324) window enabled: 875.1 to 1080.7\u001b[0m\n"
     ]
    },
    {
     "name": "stderr",
     "output_type": "stream",
     "text": [
      "\u001b[90;3m2024-09-11 09:20:15,789 \u001b[0m\u001b[92msats.satellite.EO-2            \u001b[0m\u001b[mINFO       \u001b[0m\u001b[33m<406.00> \u001b[0m\u001b[92mEO-2: \u001b[0m\u001b[msetting timed terminal event at 1080.7\u001b[0m\n"
     ]
    },
    {
     "name": "stderr",
     "output_type": "stream",
     "text": [
      "\u001b[90;3m2024-09-11 09:20:15,789 \u001b[0m\u001b[34msats.satellite.EO-3            \u001b[0m\u001b[mINFO       \u001b[0m\u001b[33m<406.00> \u001b[0m\u001b[34mEO-3: \u001b[0m\u001b[mtarget index 9 tasked\u001b[0m\n"
     ]
    },
    {
     "name": "stderr",
     "output_type": "stream",
     "text": [
      "\u001b[90;3m2024-09-11 09:20:15,790 \u001b[0m\u001b[34msats.satellite.EO-3            \u001b[0m\u001b[mINFO       \u001b[0m\u001b[33m<406.00> \u001b[0m\u001b[34mEO-3: \u001b[0m\u001b[mTarget(tgt-971) tasked for imaging\u001b[0m\n"
     ]
    },
    {
     "name": "stderr",
     "output_type": "stream",
     "text": [
      "\u001b[90;3m2024-09-11 09:20:15,790 \u001b[0m\u001b[34msats.satellite.EO-3            \u001b[0m\u001b[mINFO       \u001b[0m\u001b[33m<406.00> \u001b[0m\u001b[34mEO-3: \u001b[0m\u001b[mTarget(tgt-971) window enabled: 869.8 to 1040.0\u001b[0m\n"
     ]
    },
    {
     "name": "stderr",
     "output_type": "stream",
     "text": [
      "\u001b[90;3m2024-09-11 09:20:15,790 \u001b[0m\u001b[34msats.satellite.EO-3            \u001b[0m\u001b[mINFO       \u001b[0m\u001b[33m<406.00> \u001b[0m\u001b[34mEO-3: \u001b[0m\u001b[msetting timed terminal event at 1040.0\u001b[0m\n"
     ]
    },
    {
     "name": "stderr",
     "output_type": "stream",
     "text": [
      "\u001b[90;3m2024-09-11 09:20:15,835 \u001b[0m\u001b[36msats.satellite.EO-1            \u001b[0m\u001b[mINFO       \u001b[0m\u001b[33m<638.00> \u001b[0m\u001b[36mEO-1: \u001b[0m\u001b[mimaged Target(tgt-24)\u001b[0m\n"
     ]
    },
    {
     "name": "stderr",
     "output_type": "stream",
     "text": [
      "\u001b[90;3m2024-09-11 09:20:15,837 \u001b[0m\u001b[mdata.base                      \u001b[0m\u001b[mINFO       \u001b[0m\u001b[33m<638.00> \u001b[0m\u001b[mData reward: {'EO-1': 0.5581547655786475, 'EO-2': 0.0, 'EO-3': 0.0}\u001b[0m\n"
     ]
    },
    {
     "name": "stderr",
     "output_type": "stream",
     "text": [
      "\u001b[90;3m2024-09-11 09:20:15,840 \u001b[0m\u001b[36msats.satellite.EO-1            \u001b[0m\u001b[mINFO       \u001b[0m\u001b[33m<638.00> \u001b[0m\u001b[36mEO-1: \u001b[0m\u001b[mSatellite EO-1 requires retasking\u001b[0m\n"
     ]
    },
    {
     "name": "stderr",
     "output_type": "stream",
     "text": [
      "\u001b[90;3m2024-09-11 09:20:15,841 \u001b[0m\u001b[36msats.satellite.EO-1            \u001b[0m\u001b[93mWARNING    \u001b[0m\u001b[33m<638.00> \u001b[0m\u001b[36mEO-1: \u001b[0m\u001b[93mfailed battery_valid check\u001b[0m\n"
     ]
    },
    {
     "name": "stderr",
     "output_type": "stream",
     "text": [
      "\u001b[90;3m2024-09-11 09:20:15,841 \u001b[0m\u001b[mgym                            \u001b[0m\u001b[mINFO       \u001b[0m\u001b[33m<638.00> \u001b[0m\u001b[mStep reward: -0.4418452344213525\u001b[0m\n"
     ]
    },
    {
     "name": "stderr",
     "output_type": "stream",
     "text": [
      "\u001b[90;3m2024-09-11 09:20:15,841 \u001b[0m\u001b[mgym                            \u001b[0m\u001b[mINFO       \u001b[0m\u001b[33m<638.00> \u001b[0m\u001b[mEpisode terminated: True\u001b[0m\n"
     ]
    },
    {
     "name": "stderr",
     "output_type": "stream",
     "text": [
      "\u001b[90;3m2024-09-11 09:20:15,842 \u001b[0m\u001b[mgym                            \u001b[0m\u001b[mINFO       \u001b[0m\u001b[33m<638.00> \u001b[0m\u001b[mEpisode truncated: False\u001b[0m\n"
     ]
    }
   ],
   "source": [
    "from Basilisk.architecture import messaging\n",
    "\n",
    "def isnt_alive(log_failure=False):\n",
    "    \"\"\"Mock satellite 0 dying.\"\"\"\n",
    "    self = env.unwrapped.satellites[0]\n",
    "    death_message = messaging.PowerStorageStatusMsgPayload()\n",
    "    death_message.storageLevel = 0.0\n",
    "    self.dynamics.powerMonitor.batPowerOutMsg.write(death_message)\n",
    "    return self.dynamics.is_alive(log_failure=log_failure) and self.fsw.is_alive(\n",
    "        log_failure=log_failure\n",
    "    )\n",
    "\n",
    "env.unwrapped.satellites[0].is_alive = isnt_alive\n",
    "observation, reward, terminated, truncated, info = env.step([6, 7, 9])\n"
   ]
  },
  {
   "cell_type": "markdown",
   "metadata": {},
   "source": [
    "## PettingZoo API\n",
    "\n",
    "The [PettingZoo parallel API](https://pettingzoo.farama.org/api/parallel/) environment, \n",
    "ConstellationTasking, is largely the same as GeneralSatelliteTasking. See their\n",
    "documentation for a full description of the API. It tends to separate things into\n",
    "dictionaries keyed by agent, rather than tuples."
   ]
  },
  {
   "cell_type": "code",
   "execution_count": 11,
   "metadata": {
    "execution": {
     "iopub.execute_input": "2024-09-11T15:20:15.845212Z",
     "iopub.status.busy": "2024-09-11T15:20:15.845134Z",
     "iopub.status.idle": "2024-09-11T15:20:16.252451Z",
     "shell.execute_reply": "2024-09-11T15:20:16.252175Z"
    }
   },
   "outputs": [
    {
     "name": "stderr",
     "output_type": "stream",
     "text": [
      "\u001b[90;3m2024-09-11 09:20:15,847 \u001b[0m\u001b[m                               \u001b[0m\u001b[93mWARNING    \u001b[0m\u001b[93mCreating logger for new env on PID=61965. Old environments in process may now log times incorrectly.\u001b[0m\n"
     ]
    },
    {
     "name": "stderr",
     "output_type": "stream",
     "text": [
      "\u001b[90;3m2024-09-11 09:20:16,030 \u001b[0m\u001b[mgym                            \u001b[0m\u001b[mINFO       \u001b[0m\u001b[mResetting environment with seed=698964008\u001b[0m\n"
     ]
    },
    {
     "name": "stderr",
     "output_type": "stream",
     "text": [
      "\u001b[90;3m2024-09-11 09:20:16,031 \u001b[0m\u001b[mscene.targets                  \u001b[0m\u001b[mINFO       \u001b[0m\u001b[mGenerating 1000 targets\u001b[0m\n"
     ]
    },
    {
     "name": "stderr",
     "output_type": "stream",
     "text": [
      "\u001b[90;3m2024-09-11 09:20:16,180 \u001b[0m\u001b[36msats.satellite.EO-1            \u001b[0m\u001b[mINFO       \u001b[0m\u001b[33m<0.00> \u001b[0m\u001b[36mEO-1: \u001b[0m\u001b[mFinding opportunity windows from 0.00 to 600.00 seconds\u001b[0m\n"
     ]
    },
    {
     "name": "stderr",
     "output_type": "stream",
     "text": [
      "\u001b[90;3m2024-09-11 09:20:16,204 \u001b[0m\u001b[92msats.satellite.EO-2            \u001b[0m\u001b[mINFO       \u001b[0m\u001b[33m<0.00> \u001b[0m\u001b[92mEO-2: \u001b[0m\u001b[mFinding opportunity windows from 0.00 to 600.00 seconds\u001b[0m\n"
     ]
    },
    {
     "name": "stderr",
     "output_type": "stream",
     "text": [
      "\u001b[90;3m2024-09-11 09:20:16,224 \u001b[0m\u001b[34msats.satellite.EO-3            \u001b[0m\u001b[mINFO       \u001b[0m\u001b[33m<0.00> \u001b[0m\u001b[34mEO-3: \u001b[0m\u001b[mFinding opportunity windows from 0.00 to 600.00 seconds\u001b[0m\n"
     ]
    },
    {
     "name": "stderr",
     "output_type": "stream",
     "text": [
      "\u001b[90;3m2024-09-11 09:20:16,250 \u001b[0m\u001b[mgym                            \u001b[0m\u001b[mINFO       \u001b[0m\u001b[33m<0.00> \u001b[0m\u001b[mEnvironment reset\u001b[0m\n"
     ]
    },
    {
     "data": {
      "text/plain": [
       "{'EO-1': Box(-1e+16, 1e+16, (20,), float64),\n",
       " 'EO-2': Box(-1e+16, 1e+16, (20,), float64),\n",
       " 'EO-3': Box(-1e+16, 1e+16, (20,), float64)}"
      ]
     },
     "execution_count": 11,
     "metadata": {},
     "output_type": "execute_result"
    }
   ],
   "source": [
    "from bsk_rl import ConstellationTasking\n",
    "\n",
    "env = ConstellationTasking(\n",
    "    satellites=[\n",
    "        ImagingSatellite(\"EO-1\", sat_args),\n",
    "        ImagingSatellite(\"EO-2\", sat_args),\n",
    "        ImagingSatellite(\"EO-3\", sat_args),\n",
    "    ],\n",
    "    scenario=scene.UniformTargets(1000),\n",
    "    rewarder=data.UniqueImageReward(),\n",
    "    communicator=comm.LOSCommunication(),  # Note that dyn must inherit from LOSCommunication\n",
    "    sat_arg_randomizer=sat_arg_randomizer,\n",
    "    log_level=\"INFO\",\n",
    ")\n",
    "env.reset()\n",
    "\n",
    "env.observation_spaces"
   ]
  },
  {
   "cell_type": "code",
   "execution_count": 12,
   "metadata": {
    "execution": {
     "iopub.execute_input": "2024-09-11T15:20:16.253890Z",
     "iopub.status.busy": "2024-09-11T15:20:16.253787Z",
     "iopub.status.idle": "2024-09-11T15:20:16.255802Z",
     "shell.execute_reply": "2024-09-11T15:20:16.255544Z"
    }
   },
   "outputs": [
    {
     "data": {
      "text/plain": [
       "{'EO-1': Discrete(10), 'EO-2': Discrete(10), 'EO-3': Discrete(10)}"
      ]
     },
     "execution_count": 12,
     "metadata": {},
     "output_type": "execute_result"
    }
   ],
   "source": [
    "env.action_spaces"
   ]
  },
  {
   "cell_type": "markdown",
   "metadata": {},
   "source": [
    "Actions are passed as a dictionary; the agent names can be accessed through the `agents`\n",
    "property."
   ]
  },
  {
   "cell_type": "code",
   "execution_count": 13,
   "metadata": {
    "execution": {
     "iopub.execute_input": "2024-09-11T15:20:16.257170Z",
     "iopub.status.busy": "2024-09-11T15:20:16.257069Z",
     "iopub.status.idle": "2024-09-11T15:20:16.414610Z",
     "shell.execute_reply": "2024-09-11T15:20:16.414350Z"
    }
   },
   "outputs": [
    {
     "name": "stderr",
     "output_type": "stream",
     "text": [
      "\u001b[90;3m2024-09-11 09:20:16,258 \u001b[0m\u001b[mgym                            \u001b[0m\u001b[mINFO       \u001b[0m\u001b[33m<0.00> \u001b[0m\u001b[93;1m=== STARTING STEP ===\u001b[0m\n"
     ]
    },
    {
     "name": "stderr",
     "output_type": "stream",
     "text": [
      "\u001b[90;3m2024-09-11 09:20:16,259 \u001b[0m\u001b[36msats.satellite.EO-1            \u001b[0m\u001b[mINFO       \u001b[0m\u001b[33m<0.00> \u001b[0m\u001b[36mEO-1: \u001b[0m\u001b[mtarget index 7 tasked\u001b[0m\n"
     ]
    },
    {
     "name": "stderr",
     "output_type": "stream",
     "text": [
      "\u001b[90;3m2024-09-11 09:20:16,259 \u001b[0m\u001b[36msats.satellite.EO-1            \u001b[0m\u001b[mINFO       \u001b[0m\u001b[33m<0.00> \u001b[0m\u001b[36mEO-1: \u001b[0m\u001b[mTarget(tgt-787) tasked for imaging\u001b[0m\n"
     ]
    },
    {
     "name": "stderr",
     "output_type": "stream",
     "text": [
      "\u001b[90;3m2024-09-11 09:20:16,259 \u001b[0m\u001b[36msats.satellite.EO-1            \u001b[0m\u001b[mINFO       \u001b[0m\u001b[33m<0.00> \u001b[0m\u001b[36mEO-1: \u001b[0m\u001b[mTarget(tgt-787) window enabled: 417.3 to 597.4\u001b[0m\n"
     ]
    },
    {
     "name": "stderr",
     "output_type": "stream",
     "text": [
      "\u001b[90;3m2024-09-11 09:20:16,260 \u001b[0m\u001b[36msats.satellite.EO-1            \u001b[0m\u001b[mINFO       \u001b[0m\u001b[33m<0.00> \u001b[0m\u001b[36mEO-1: \u001b[0m\u001b[msetting timed terminal event at 597.4\u001b[0m\n"
     ]
    },
    {
     "name": "stderr",
     "output_type": "stream",
     "text": [
      "\u001b[90;3m2024-09-11 09:20:16,260 \u001b[0m\u001b[92msats.satellite.EO-2            \u001b[0m\u001b[mINFO       \u001b[0m\u001b[33m<0.00> \u001b[0m\u001b[92mEO-2: \u001b[0m\u001b[mtarget index 9 tasked\u001b[0m\n"
     ]
    },
    {
     "name": "stderr",
     "output_type": "stream",
     "text": [
      "\u001b[90;3m2024-09-11 09:20:16,260 \u001b[0m\u001b[92msats.satellite.EO-2            \u001b[0m\u001b[mINFO       \u001b[0m\u001b[33m<0.00> \u001b[0m\u001b[92mEO-2: \u001b[0m\u001b[mTarget(tgt-748) tasked for imaging\u001b[0m\n"
     ]
    },
    {
     "name": "stderr",
     "output_type": "stream",
     "text": [
      "\u001b[90;3m2024-09-11 09:20:16,261 \u001b[0m\u001b[92msats.satellite.EO-2            \u001b[0m\u001b[mINFO       \u001b[0m\u001b[33m<0.00> \u001b[0m\u001b[92mEO-2: \u001b[0m\u001b[mTarget(tgt-748) window enabled: 379.2 to 571.6\u001b[0m\n"
     ]
    },
    {
     "name": "stderr",
     "output_type": "stream",
     "text": [
      "\u001b[90;3m2024-09-11 09:20:16,261 \u001b[0m\u001b[92msats.satellite.EO-2            \u001b[0m\u001b[mINFO       \u001b[0m\u001b[33m<0.00> \u001b[0m\u001b[92mEO-2: \u001b[0m\u001b[msetting timed terminal event at 571.6\u001b[0m\n"
     ]
    },
    {
     "name": "stderr",
     "output_type": "stream",
     "text": [
      "\u001b[90;3m2024-09-11 09:20:16,261 \u001b[0m\u001b[34msats.satellite.EO-3            \u001b[0m\u001b[mINFO       \u001b[0m\u001b[33m<0.00> \u001b[0m\u001b[34mEO-3: \u001b[0m\u001b[mtarget index 8 tasked\u001b[0m\n"
     ]
    },
    {
     "name": "stderr",
     "output_type": "stream",
     "text": [
      "\u001b[90;3m2024-09-11 09:20:16,262 \u001b[0m\u001b[34msats.satellite.EO-3            \u001b[0m\u001b[mINFO       \u001b[0m\u001b[33m<0.00> \u001b[0m\u001b[34mEO-3: \u001b[0m\u001b[mTarget(tgt-894) tasked for imaging\u001b[0m\n"
     ]
    },
    {
     "name": "stderr",
     "output_type": "stream",
     "text": [
      "\u001b[90;3m2024-09-11 09:20:16,262 \u001b[0m\u001b[34msats.satellite.EO-3            \u001b[0m\u001b[mINFO       \u001b[0m\u001b[33m<0.00> \u001b[0m\u001b[34mEO-3: \u001b[0m\u001b[mTarget(tgt-894) window enabled: 343.3 to 480.0\u001b[0m\n"
     ]
    },
    {
     "name": "stderr",
     "output_type": "stream",
     "text": [
      "\u001b[90;3m2024-09-11 09:20:16,262 \u001b[0m\u001b[34msats.satellite.EO-3            \u001b[0m\u001b[mINFO       \u001b[0m\u001b[33m<0.00> \u001b[0m\u001b[34mEO-3: \u001b[0m\u001b[msetting timed terminal event at 480.0\u001b[0m\n"
     ]
    },
    {
     "name": "stderr",
     "output_type": "stream",
     "text": [
      "\u001b[90;3m2024-09-11 09:20:16,328 \u001b[0m\u001b[34msats.satellite.EO-3            \u001b[0m\u001b[mINFO       \u001b[0m\u001b[33m<346.00> \u001b[0m\u001b[34mEO-3: \u001b[0m\u001b[mimaged Target(tgt-894)\u001b[0m\n"
     ]
    },
    {
     "name": "stderr",
     "output_type": "stream",
     "text": [
      "\u001b[90;3m2024-09-11 09:20:16,330 \u001b[0m\u001b[mdata.base                      \u001b[0m\u001b[mINFO       \u001b[0m\u001b[33m<346.00> \u001b[0m\u001b[mData reward: {'EO-1': 0.0, 'EO-2': 0.0, 'EO-3': 0.9497331569987684}\u001b[0m\n"
     ]
    },
    {
     "name": "stderr",
     "output_type": "stream",
     "text": [
      "\u001b[90;3m2024-09-11 09:20:16,333 \u001b[0m\u001b[34msats.satellite.EO-3            \u001b[0m\u001b[mINFO       \u001b[0m\u001b[33m<346.00> \u001b[0m\u001b[34mEO-3: \u001b[0m\u001b[mSatellite EO-3 requires retasking\u001b[0m\n"
     ]
    },
    {
     "name": "stderr",
     "output_type": "stream",
     "text": [
      "\u001b[90;3m2024-09-11 09:20:16,334 \u001b[0m\u001b[36msats.satellite.EO-1            \u001b[0m\u001b[mINFO       \u001b[0m\u001b[33m<346.00> \u001b[0m\u001b[36mEO-1: \u001b[0m\u001b[mFinding opportunity windows from 600.00 to 1200.00 seconds\u001b[0m\n"
     ]
    },
    {
     "name": "stderr",
     "output_type": "stream",
     "text": [
      "\u001b[90;3m2024-09-11 09:20:16,357 \u001b[0m\u001b[92msats.satellite.EO-2            \u001b[0m\u001b[mINFO       \u001b[0m\u001b[33m<346.00> \u001b[0m\u001b[92mEO-2: \u001b[0m\u001b[mFinding opportunity windows from 600.00 to 1200.00 seconds\u001b[0m\n"
     ]
    },
    {
     "name": "stderr",
     "output_type": "stream",
     "text": [
      "\u001b[90;3m2024-09-11 09:20:16,385 \u001b[0m\u001b[34msats.satellite.EO-3            \u001b[0m\u001b[mINFO       \u001b[0m\u001b[33m<346.00> \u001b[0m\u001b[34mEO-3: \u001b[0m\u001b[mFinding opportunity windows from 600.00 to 1200.00 seconds\u001b[0m\n"
     ]
    },
    {
     "name": "stderr",
     "output_type": "stream",
     "text": [
      "\u001b[90;3m2024-09-11 09:20:16,412 \u001b[0m\u001b[mgym                            \u001b[0m\u001b[mINFO       \u001b[0m\u001b[33m<346.00> \u001b[0m\u001b[mStep reward: {'EO-1': 0.0, 'EO-2': 0.0, 'EO-3': 0.9497331569987684}\u001b[0m\n"
     ]
    },
    {
     "name": "stderr",
     "output_type": "stream",
     "text": [
      "\u001b[90;3m2024-09-11 09:20:16,412 \u001b[0m\u001b[mgym                            \u001b[0m\u001b[mINFO       \u001b[0m\u001b[33m<346.00> \u001b[0m\u001b[mEpisode terminated: {'EO-1': False, 'EO-2': False, 'EO-3': False}\u001b[0m\n"
     ]
    },
    {
     "name": "stderr",
     "output_type": "stream",
     "text": [
      "\u001b[90;3m2024-09-11 09:20:16,413 \u001b[0m\u001b[mgym                            \u001b[0m\u001b[mINFO       \u001b[0m\u001b[33m<346.00> \u001b[0m\u001b[mEpisode truncated: {'EO-1': False, 'EO-2': False, 'EO-3': False}\u001b[0m\n"
     ]
    }
   ],
   "source": [
    "observation, reward, terminated, truncated, info = env.step(\n",
    "    {\n",
    "        env.agents[0]: 7,\n",
    "        env.agents[1]: 9,\n",
    "        env.agents[2]: 8,\n",
    "    }\n",
    ")"
   ]
  },
  {
   "cell_type": "code",
   "execution_count": 14,
   "metadata": {
    "execution": {
     "iopub.execute_input": "2024-09-11T15:20:16.416174Z",
     "iopub.status.busy": "2024-09-11T15:20:16.416046Z",
     "iopub.status.idle": "2024-09-11T15:20:16.418404Z",
     "shell.execute_reply": "2024-09-11T15:20:16.418168Z"
    }
   },
   "outputs": [
    {
     "data": {
      "text/plain": [
       "{'EO-1': array([ 4.47414930e-02, -1.26998546e-02,  6.11742354e-01, -3.47691975e-04,\n",
       "         9.45004884e-01,  1.25031390e-02,  7.35475167e-01,  4.38821431e-02,\n",
       "         1.56877357e-01,  1.46635881e-02,  1.43002592e-01,  3.00665785e-02,\n",
       "         6.67698350e-01,  2.88246490e-02,  5.49121977e-01,  4.84445699e-02,\n",
       "         5.27375116e-01,  7.15403930e-02,  9.39748684e-01,  8.07412343e-02]),\n",
       " 'EO-2': array([ 0.14040046, -0.02573272,  0.01332223, -0.0115793 ,  0.89221856,\n",
       "         0.00326017,  0.15474838,  0.00582813,  0.79695345,  0.01328304,\n",
       "         0.50684569,  0.03030545,  0.77030705,  0.03120217,  0.18387397,\n",
       "         0.03053393,  0.12960873,  0.02203516,  0.65747167,  0.05894356]),\n",
       " 'EO-3': array([ 0.07096022, -0.02589783,  0.08052276, -0.01332056,  0.01278707,\n",
       "        -0.00431937,  0.03170583, -0.00384566,  0.12955341,  0.00637688,\n",
       "         0.13227768,  0.02673708,  0.15239428,  0.03589975,  0.69182059,\n",
       "         0.06117963,  0.11679984,  0.05862851,  0.5033205 ,  0.07064741])}"
      ]
     },
     "execution_count": 14,
     "metadata": {},
     "output_type": "execute_result"
    }
   ],
   "source": [
    "observation"
   ]
  },
  {
   "cell_type": "markdown",
   "metadata": {},
   "source": [
    "Other than compatibility with MARL algorithms, the main benefit of the PettingZoo API\n",
    "is that it allows for individual agents to fail without terminating the entire environment."
   ]
  },
  {
   "cell_type": "code",
   "execution_count": 15,
   "metadata": {
    "execution": {
     "iopub.execute_input": "2024-09-11T15:20:16.419749Z",
     "iopub.status.busy": "2024-09-11T15:20:16.419653Z",
     "iopub.status.idle": "2024-09-11T15:20:16.422011Z",
     "shell.execute_reply": "2024-09-11T15:20:16.421751Z"
    }
   },
   "outputs": [
    {
     "data": {
      "text/plain": [
       "['EO-2', 'EO-3']"
      ]
     },
     "execution_count": 15,
     "metadata": {},
     "output_type": "execute_result"
    }
   ],
   "source": [
    "# Immediately kill satellite 0\n",
    "env.unwrapped.satellites[0].is_alive = isnt_alive\n",
    "env.agents"
   ]
  },
  {
   "cell_type": "code",
   "execution_count": 16,
   "metadata": {
    "execution": {
     "iopub.execute_input": "2024-09-11T15:20:16.423271Z",
     "iopub.status.busy": "2024-09-11T15:20:16.423179Z",
     "iopub.status.idle": "2024-09-11T15:20:16.451786Z",
     "shell.execute_reply": "2024-09-11T15:20:16.451567Z"
    }
   },
   "outputs": [
    {
     "name": "stderr",
     "output_type": "stream",
     "text": [
      "\u001b[90;3m2024-09-11 09:20:16,424 \u001b[0m\u001b[mgym                            \u001b[0m\u001b[mINFO       \u001b[0m\u001b[33m<346.00> \u001b[0m\u001b[93;1m=== STARTING STEP ===\u001b[0m\n"
     ]
    },
    {
     "name": "stderr",
     "output_type": "stream",
     "text": [
      "\u001b[90;3m2024-09-11 09:20:16,424 \u001b[0m\u001b[92msats.satellite.EO-2            \u001b[0m\u001b[mINFO       \u001b[0m\u001b[33m<346.00> \u001b[0m\u001b[92mEO-2: \u001b[0m\u001b[mtarget index 7 tasked\u001b[0m\n"
     ]
    },
    {
     "name": "stderr",
     "output_type": "stream",
     "text": [
      "\u001b[90;3m2024-09-11 09:20:16,425 \u001b[0m\u001b[92msats.satellite.EO-2            \u001b[0m\u001b[mINFO       \u001b[0m\u001b[33m<346.00> \u001b[0m\u001b[92mEO-2: \u001b[0m\u001b[mTarget(tgt-523) tasked for imaging\u001b[0m\n"
     ]
    },
    {
     "name": "stderr",
     "output_type": "stream",
     "text": [
      "\u001b[90;3m2024-09-11 09:20:16,425 \u001b[0m\u001b[92msats.satellite.EO-2            \u001b[0m\u001b[mINFO       \u001b[0m\u001b[33m<346.00> \u001b[0m\u001b[92mEO-2: \u001b[0m\u001b[mTarget(tgt-523) window enabled: 520.0 to 697.4\u001b[0m\n"
     ]
    },
    {
     "name": "stderr",
     "output_type": "stream",
     "text": [
      "\u001b[90;3m2024-09-11 09:20:16,425 \u001b[0m\u001b[92msats.satellite.EO-2            \u001b[0m\u001b[mINFO       \u001b[0m\u001b[33m<346.00> \u001b[0m\u001b[92mEO-2: \u001b[0m\u001b[msetting timed terminal event at 697.4\u001b[0m\n"
     ]
    },
    {
     "name": "stderr",
     "output_type": "stream",
     "text": [
      "\u001b[90;3m2024-09-11 09:20:16,426 \u001b[0m\u001b[34msats.satellite.EO-3            \u001b[0m\u001b[mINFO       \u001b[0m\u001b[33m<346.00> \u001b[0m\u001b[34mEO-3: \u001b[0m\u001b[mtarget index 9 tasked\u001b[0m\n"
     ]
    },
    {
     "name": "stderr",
     "output_type": "stream",
     "text": [
      "\u001b[90;3m2024-09-11 09:20:16,426 \u001b[0m\u001b[34msats.satellite.EO-3            \u001b[0m\u001b[mINFO       \u001b[0m\u001b[33m<346.00> \u001b[0m\u001b[34mEO-3: \u001b[0m\u001b[mTarget(tgt-92) tasked for imaging\u001b[0m\n"
     ]
    },
    {
     "name": "stderr",
     "output_type": "stream",
     "text": [
      "\u001b[90;3m2024-09-11 09:20:16,427 \u001b[0m\u001b[34msats.satellite.EO-3            \u001b[0m\u001b[mINFO       \u001b[0m\u001b[33m<346.00> \u001b[0m\u001b[34mEO-3: \u001b[0m\u001b[mTarget(tgt-92) window enabled: 748.7 to 839.9\u001b[0m\n"
     ]
    },
    {
     "name": "stderr",
     "output_type": "stream",
     "text": [
      "\u001b[90;3m2024-09-11 09:20:16,427 \u001b[0m\u001b[34msats.satellite.EO-3            \u001b[0m\u001b[mINFO       \u001b[0m\u001b[33m<346.00> \u001b[0m\u001b[34mEO-3: \u001b[0m\u001b[msetting timed terminal event at 839.9\u001b[0m\n"
     ]
    },
    {
     "name": "stderr",
     "output_type": "stream",
     "text": [
      "\u001b[90;3m2024-09-11 09:20:16,441 \u001b[0m\u001b[36msats.satellite.EO-1            \u001b[0m\u001b[mINFO       \u001b[0m\u001b[33m<420.00> \u001b[0m\u001b[36mEO-1: \u001b[0m\u001b[mimaged Target(tgt-787)\u001b[0m\n"
     ]
    },
    {
     "name": "stderr",
     "output_type": "stream",
     "text": [
      "\u001b[90;3m2024-09-11 09:20:16,443 \u001b[0m\u001b[mdata.base                      \u001b[0m\u001b[mINFO       \u001b[0m\u001b[33m<420.00> \u001b[0m\u001b[mData reward: {'EO-1': 0.9450048844759824, 'EO-2': 0.0, 'EO-3': 0.0}\u001b[0m\n"
     ]
    },
    {
     "name": "stderr",
     "output_type": "stream",
     "text": [
      "\u001b[90;3m2024-09-11 09:20:16,445 \u001b[0m\u001b[36msats.satellite.EO-1            \u001b[0m\u001b[mINFO       \u001b[0m\u001b[33m<420.00> \u001b[0m\u001b[36mEO-1: \u001b[0m\u001b[mSatellite EO-1 requires retasking\u001b[0m\n"
     ]
    },
    {
     "name": "stderr",
     "output_type": "stream",
     "text": [
      "\u001b[90;3m2024-09-11 09:20:16,449 \u001b[0m\u001b[mgym                            \u001b[0m\u001b[mINFO       \u001b[0m\u001b[33m<420.00> \u001b[0m\u001b[mStep reward: {'EO-2': 0.0, 'EO-3': 0.0}\u001b[0m\n"
     ]
    },
    {
     "name": "stderr",
     "output_type": "stream",
     "text": [
      "\u001b[90;3m2024-09-11 09:20:16,450 \u001b[0m\u001b[mgym                            \u001b[0m\u001b[mINFO       \u001b[0m\u001b[33m<420.00> \u001b[0m\u001b[mEpisode terminated: {'EO-2': False, 'EO-3': False}\u001b[0m\n"
     ]
    },
    {
     "name": "stderr",
     "output_type": "stream",
     "text": [
      "\u001b[90;3m2024-09-11 09:20:16,450 \u001b[0m\u001b[mgym                            \u001b[0m\u001b[mINFO       \u001b[0m\u001b[33m<420.00> \u001b[0m\u001b[mEpisode truncated: {'EO-2': False, 'EO-3': False}\u001b[0m\n"
     ]
    }
   ],
   "source": [
    "observation, reward, terminated, truncated, info = env.step({\n",
    "        env.agents[0]: 7,\n",
    "        env.agents[1]: 9,\n",
    "    }\n",
    ")"
   ]
  }
 ],
 "metadata": {
  "kernelspec": {
   "display_name": ".venv_refactor",
   "language": "python",
   "name": "python3"
  },
  "language_info": {
   "codemirror_mode": {
    "name": "ipython",
    "version": 3
   },
   "file_extension": ".py",
   "mimetype": "text/x-python",
   "name": "python",
   "nbconvert_exporter": "python",
   "pygments_lexer": "ipython3",
   "version": "3.10.11"
  }
 },
 "nbformat": 4,
 "nbformat_minor": 2
}
